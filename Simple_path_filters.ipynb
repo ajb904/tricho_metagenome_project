{
 "metadata": {
  "name": "",
  "signature": "sha256:c2596a9d8d230744d36256c00e44c42043390af80b807f9f44b7dd835a36db36"
 },
 "nbformat": 3,
 "nbformat_minor": 0,
 "worksheets": [
  {
   "cells": [
    {
     "cell_type": "markdown",
     "metadata": {},
     "source": [
      "Made some working code in the previous notebook (compare_assembly_graphs.ipynb) but it was getting cluttered so decided to copy the important bits to a new notebook to do some more structured analysis (22/04/16)"
     ]
    }
   ],
   "metadata": {}
  }
 ]
}