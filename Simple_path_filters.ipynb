{
 "metadata": {
  "name": "",
  "signature": "sha256:c5a12f5dfad58c96e5668c4a0eae317bfb6a91338bad7f1fc1b8e660ca972d95"
 },
 "nbformat": 3,
 "nbformat_minor": 0,
 "worksheets": [
  {
   "cells": [
    {
     "cell_type": "markdown",
     "metadata": {},
     "source": [
      "Made some working code in the previous notebook (compare_assembly_graphs.ipynb) but it was getting cluttered so decided to copy the important bits to a new notebook to do some more structured analysis (22/04/16)"
     ]
    },
    {
     "cell_type": "heading",
     "level": 2,
     "metadata": {},
     "source": [
      "Code for Paths object:"
     ]
    },
    {
     "cell_type": "code",
     "collapsed": false,
     "input": [
      "from Bio.Seq import Seq\n",
      "from Bio.SeqRecord import SeqRecord\n",
      "\n",
      "class Paths:\n",
      "    def __init__(self):        \n",
      "        self.genes = []\n",
      "    \n",
      "    def load_paths(self, path_file):\n",
      "        current_gene = Gene()\n",
      "        for line in open(path_file).readlines()[1:]:\n",
      "            if line:\n",
      "                gene, path = self.parse_line(line)\n",
      "                if gene == current_gene.name:\n",
      "                    current_gene.paths.append(path)\n",
      "                else:\n",
      "                    if current_gene.name:\n",
      "                        self.genes.append(current_gene)\n",
      "                    current_gene = Gene(gene)\n",
      "                    current_gene.paths.append(path)\n",
      "        \n",
      "    def parse_line(self, line):\n",
      "        spl = line.rstrip().split('\\t')\n",
      "        \n",
      "        query = spl[0]\n",
      "        path_spec = spl[1]\n",
      "        path_length = spl[2]\n",
      "        q_cov = spl[3]\n",
      "        pid = float(spl[5].replace('%',''))\n",
      "        rel_length = spl[8]\n",
      "        seq = spl[11]\n",
      "            \n",
      "        p = path_spec.split(' ')\n",
      "#        print p\n",
      "        if p[-1].startswith('('):\n",
      "            end_pos = p.pop().replace('(','').replace(')','')\n",
      "        else:\n",
      "            end_pos = None\n",
      "        if p[0].startswith('('):\n",
      "            start_pos = p[0].replace('(','').replace(')','')\n",
      "            p = p[1:]\n",
      "        else:\n",
      "            start_pos = 1\n",
      "#        print p\n",
      "        \n",
      "        path = Path(p, start_pos, end_pos, path_length, q_cov, pid, rel_length, seq, query)\n",
      "        \n",
      "        return query, path\n",
      "    \n",
      "    def get_gene(self, tery):\n",
      "        for gene in self.genes:\n",
      "            try:\n",
      "                if gene.name == tery:\n",
      "                    return gene\n",
      "            except StopIteration:\n",
      "                return None\n",
      "            \n",
      "    def filter_paralogues(self):\n",
      "        for gene in self.genes:\n",
      "            gene.check_paralogues()\n",
      "            \n",
      "            #Go back over list of paths and only keep ones where paralogue == False\n",
      "            gene.paths = [p for p in gene.paths if not p.paralogue]\n",
      "            \n",
      "    def group_gene_paths(self):\n",
      "        for gene in self.genes:\n",
      "            #print gene.name\n",
      "            gene.group_paths()\n",
      "\n",
      "\n",
      "class Gene:\n",
      "    def __init__(self, gene_name=''):\n",
      "        self.name = gene_name\n",
      "        self.paths = []\n",
      "        self.groups = []\n",
      "        \n",
      "    def add_path(self, path):\n",
      "        self.paths.append(path)\n",
      "        \n",
      "    def check_paralogues(self):\n",
      "        top_nodes = set()\n",
      "        for p in self.paths:\n",
      "            node_set = set([p.start_node, p.end_node] + p.internal_nodes)\n",
      "            if not top_nodes:\n",
      "                top_nodes = node_set\n",
      "                p.paralogue = False\n",
      "            else:\n",
      "                #If there are nodes in both sets (i.e. there is overlap), merge new set with top nodes (they are all interconnected)\n",
      "                #Also, current path is not a paralogue\n",
      "                if node_set.intersection(top_nodes):\n",
      "                    top_nodes = node_set.union(top_nodes)\n",
      "                    p.paralogue = False\n",
      "                #If not (i.e. no overlap), current path is a paralogue\n",
      "                else:\n",
      "                    p.paralogue = True\n",
      "    \n",
      "    def group_paths(self):\n",
      "        for p in self.paths:\n",
      "            #print p\n",
      "            if self.groups:\n",
      "                p.path_group = self.check_group(p)\n",
      "            else:\n",
      "                self.groups.append(p.node_set)\n",
      "                p.path_group = 1\n",
      "            #print self.groups\n",
      "            #print 'path group = %d' % p.path_group\n",
      "        self.num_groups = len(self.groups)\n",
      "            \n",
      "    def check_group(self, path):\n",
      "        #Matches new path with groups constructed from previous paths.\n",
      "        #This will classify a path with first matching group - this assumes that there are no 'bridging' paths that connect clusters\n",
      "        path_group = None\n",
      "        for i in range(0, len(self.groups)):\n",
      "            group_set = self.groups[i]\n",
      "            if path.node_set.intersection(group_set):\n",
      "                path_group = i+1\n",
      "                self.groups[i] = group_set.union(path.node_set)\n",
      "        #After checking all the current groups, if path_group is still None, then start a new group\n",
      "        if not path_group:\n",
      "            self.groups.append(path.node_set)\n",
      "            path_group = len(self.groups)\n",
      "        \n",
      "        return path_group\n",
      "    \n",
      "    def get_group(self, n):\n",
      "        path_list = [p for p in self.paths if p.path_group == n]\n",
      "        \n",
      "        return path_list\n",
      "\n",
      "        \n",
      "class Path:\n",
      "    def __init__(self, node_list, start_pos, end_pos, path_length, cov, pid, rel_length, seq, query):\n",
      "        self.node_set = set(node_list)\n",
      "        self.start_node = node_list[0]\n",
      "        self.end_node = node_list[-1]\n",
      "        self.start_base = start_pos\n",
      "        self.end_base = end_pos\n",
      "        self.internal_nodes = node_list[1:-1]\n",
      "        if self.start_node == self.end_node and len(self.internal_nodes) == 0:\n",
      "            self.num_nodes = 1\n",
      "        else:\n",
      "            self.num_nodes = len(self.internal_nodes) + 2\n",
      "\n",
      "#        self.query = query\n",
      "        self.length = path_length\n",
      "        self.rel_length = rel_length\n",
      "        \n",
      "        #Create SeqRecord object to hold sequence information\n",
      "        seq_id = 'path_%s_%.2f' % (query, pid)\n",
      "        seq = Seq(seq)\n",
      "        self.seq = SeqRecord(seq, id=seq_id)\n",
      "        self.prot_seq = SeqRecord(self.seq.seq.translate(), id=seq_id+'_prot')\n",
      "        \n",
      "        self.coverage = cov\n",
      "        self.identity = pid\n",
      "        \n",
      "        self.path_group = None\n",
      "        \n",
      "            \n",
      "        \n",
      "    def __str__(self):\n",
      "        \n",
      "        s = '%s %s %s (%d nodes)' % (self.start_node, ' '.join(self.internal_nodes), self.end_node, self.num_nodes)\n",
      "        \n",
      "        return s"
     ],
     "language": "python",
     "metadata": {},
     "outputs": [],
     "prompt_number": 1
    },
    {
     "cell_type": "heading",
     "level": 2,
     "metadata": {},
     "source": [
      "Load paths:"
     ]
    },
    {
     "cell_type": "code",
     "collapsed": false,
     "input": [
      "paths_IMS101 = Paths()\n",
      "paths_004 = Paths()\n",
      "paths_019 = Paths()\n",
      "\n",
      "paths_IMS101.load_paths('sim_IMS101/unique_genes_paths.tsv')\n",
      "paths_004.load_paths('004/unique_genes_paths.tsv')\n",
      "paths_019.load_paths('019/unique_genes_paths.tsv')\n",
      "\n",
      "paths_IMS101.group_gene_paths()\n",
      "paths_004.group_gene_paths()\n",
      "paths_019.group_gene_paths()"
     ],
     "language": "python",
     "metadata": {},
     "outputs": [
      {
       "output_type": "stream",
       "stream": "stderr",
       "text": [
        "/Users/ajb1d14/anaconda/lib/python2.7/site-packages/Bio/Seq.py:2040: BiopythonWarning: Partial codon, len(sequence) not a multiple of three. Explicitly trim the sequence or add trailing N before translation. This may become an error in future.\n",
        "  BiopythonWarning)\n"
       ]
      }
     ],
     "prompt_number": 2
    },
    {
     "cell_type": "heading",
     "level": 2,
     "metadata": {},
     "source": [
      "Function to compare gene paths between two assemblies:"
     ]
    },
    {
     "cell_type": "markdown",
     "metadata": {},
     "source": [
      "We want to find the following information:\n",
      "\n",
      "How many query sequences have:\n",
      "* One (or more) paths in the ref assembly and zero paths in the test assembly\n",
      "* One path in the reference and one path in the test assembly\n",
      "* One path in the reference assembly and >1 convergent path in the test assembly (start and end nodes are the same for all paths)\n",
      "\n",
      "For the moment, just filter everything else into an 'other' category, and we will look at it later."
     ]
    },
    {
     "cell_type": "code",
     "collapsed": false,
     "input": [
      "def paths_are_convergent(pathlist):\n",
      "    #Returns True if all the paths have the same start node and the same end node. Otherwise False.\n",
      "    #If start node == end node (i.e. path only has one node) return False - this doesn't make sense as convergence\n",
      "    start_nodes = set([p.start_node for p in pathlist])\n",
      "    end_nodes = set([p.end_node for p in pathlist])\n",
      "    if len(start_nodes) == 1 and len(end_nodes) == 1 and start_nodes != end_nodes:\n",
      "        return True\n",
      "    else:\n",
      "        return False\n",
      "    \n",
      "def classify_gene_paths(ref_gene, test_gene):\n",
      "    \n",
      "    #No match for ref gene in test assembly\n",
      "    if not test_gene:\n",
      "        return 'missing'\n",
      "    \n",
      "    #Query matches >1 path in reference - situation is complicated, deal with it later\n",
      "    elif len(ref_gene.paths) > 1:\n",
      "        return 'other'\n",
      "    \n",
      "    #Query matches one path in reference and one path in test assembly - simple homologue\n",
      "    elif len(test_gene.paths) == 1:\n",
      "        return 'conserved'\n",
      "    \n",
      "    #Query matches >1 path in test assembly, and these paths form one convergent group - single, variable homologue\n",
      "    elif paths_are_convergent(test_gene.paths):\n",
      "        return 'variable'\n",
      "    \n",
      "    #Other situations: e.g. divergent paths, more than one group of paths - too complicated, deal with it later.\n",
      "    else:\n",
      "        return 'other'\n",
      "\n",
      "\n",
      "def compare_assemblies(test_assembly, ref_assembly):\n",
      "    \n",
      "    count_dict = {'missing': 0,\n",
      "                  'conserved': 0,\n",
      "                  'variable':0,\n",
      "                  'other': 0}\n",
      "    \n",
      "    for ref_gene in ref_assembly.genes:\n",
      "        #get_gene function returns None if gene doesn't exist\n",
      "        test_gene = test_assembly.get_gene(ref_gene.name)\n",
      "        \n",
      "        classification = classify_gene_paths(ref_gene, test_gene)\n",
      "        \n",
      "        count_dict[classification] += 1\n",
      "    \n",
      "    return count_dict\n",
      "    "
     ],
     "language": "python",
     "metadata": {},
     "outputs": [],
     "prompt_number": 3
    },
    {
     "cell_type": "heading",
     "level": 3,
     "metadata": {},
     "source": [
      "Compare Tn004 to IMS101:"
     ]
    },
    {
     "cell_type": "code",
     "collapsed": false,
     "input": [
      "gene_classes = compare_assemblies(paths_004, paths_IMS101)\n",
      "\n",
      "print gene_classes"
     ],
     "language": "python",
     "metadata": {},
     "outputs": [
      {
       "output_type": "stream",
       "stream": "stdout",
       "text": [
        "{'variable': 80, 'conserved': 2549, 'other': 438, 'missing': 870}\n"
       ]
      }
     ],
     "prompt_number": 4
    },
    {
     "cell_type": "heading",
     "level": 3,
     "metadata": {},
     "source": [
      "Compare Tn019 to IMS101:"
     ]
    },
    {
     "cell_type": "code",
     "collapsed": false,
     "input": [
      "gene_classes = compare_assemblies(paths_019, paths_IMS101)\n",
      "\n",
      "print gene_classes"
     ],
     "language": "python",
     "metadata": {},
     "outputs": [
      {
       "output_type": "stream",
       "stream": "stdout",
       "text": [
        "{'variable': 137, 'conserved': 1187, 'other': 1794, 'missing': 819}\n"
       ]
      }
     ],
     "prompt_number": 5
    }
   ],
   "metadata": {}
  }
 ]
}