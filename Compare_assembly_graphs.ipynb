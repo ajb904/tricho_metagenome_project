{
 "metadata": {
  "name": "",
  "signature": "sha256:c8a653a8e415806af2697806a6cb6e7ff98b6dde956de85f5747e1e851bff334"
 },
 "nbformat": 3,
 "nbformat_minor": 0,
 "worksheets": [
  {
   "cells": [
    {
     "cell_type": "heading",
     "level": 2,
     "metadata": {},
     "source": [
      "Find repetetive genes in simulated IMS101 assembly graph"
     ]
    },
    {
     "cell_type": "markdown",
     "metadata": {},
     "source": [
      "Run Blast search for all IMS101 proteins vs self:"
     ]
    },
    {
     "cell_type": "code",
     "collapsed": false,
     "input": [
      "from Bio import SeqIO\n",
      "from Bio.Blast.Applications import NcbiblastpCommandline\n",
      "\n",
      "cline = NcbiblastpCommandline(query=\"IMS101_proteins.faa.txt\", db=\"IMS101_blastdb/IMS101\", evalue=0.001, outfmt=5,\n",
      "                              out='IMS101vSelf_blastp.xml')\n",
      "\n",
      "stdout, stderr = cline()"
     ],
     "language": "python",
     "metadata": {},
     "outputs": [],
     "prompt_number": 3
    },
    {
     "cell_type": "markdown",
     "metadata": {},
     "source": [
      "Parse results:\n",
      "- A gene is 'unique' if it has no hits with percent id >90%, except with itself.\n",
      "- A 'complete duplication' is defined as: gene has at least one non-self hit, with query coverage > 90% and id > 90%\n",
      "- A 'partial duplication' is defined as: gene has a non-self hit with id >90%, but query coverage < 90% "
     ]
    },
    {
     "cell_type": "code",
     "collapsed": false,
     "input": [
      "from Bio import SeqIO\n",
      "from Bio.Blast import NCBIXML\n",
      "import numpy as np\n",
      "        \n",
      "class HitMatrix:\n",
      "    \n",
      "    def __init__(self, fasta_list):\n",
      "        self.fasta_ids = fasta_list\n",
      "        self.nrecs = len(self.fasta_ids)\n",
      "        \n",
      "        self.hits = np.zeros( (self.nrecs, self.nrecs) )\n",
      "    \n",
      "    def add_hit(self, query_id, hit_id):\n",
      "        q_ix = self.fasta_ids.index(query_id)\n",
      "        h_ix = self.fasta_ids.index(hit_id)\n",
      "        \n",
      "        self.hits[q_ix, h_ix] += 1\n",
      "        \n",
      "    def get_count(self, query_id, hit_id):\n",
      "        q_ix = self.fasta_ids.index(query_id)\n",
      "        h_ix = self.fasta_ids.index(hit_id)\n",
      "        \n",
      "        return(self.hits[q_ix, h_ix])        \n",
      "        \n",
      "    def write_csv(self, filename):\n",
      "        csv = open(filename, 'w')\n",
      "        csv.write(',' + ','.join(self.fasta_ids) + '\\n')\n",
      "        for gene, row in zip(self.fasta_ids, self.hits):\n",
      "            row = [str(r) for r in row]\n",
      "            csv.write(gene + ',' + ','.join(row) + '\\n')\n",
      "        csv.close()\n",
      "        \n",
      "\n",
      "pid_threshold = 90.0\n",
      "cov_threshold = 90.0\n",
      "\n",
      "fasta_ids = [s.id for s in SeqIO.parse(\"IMS101_proteins.faa.txt\", \"fasta\")]\n",
      "\n",
      "compl_hit_matrix = HitMatrix(fasta_ids)\n",
      "incompl_hit_matrix = HitMatrix(fasta_ids)\n",
      "\n",
      "#Parse Blast file\n",
      "blast_file = open('IMS101vSelf_blastp.xml')\n",
      "records = NCBIXML.parse(blast_file)\n",
      "\n",
      "for rec in records:\n",
      "    q_id = rec.query.split(' ')[0]\n",
      "    for align in rec.alignments:\n",
      "        h_id = align.hit_def.split(' ')[0]\n",
      "        for hsp in align.hsps:\n",
      "            aligned_length = hsp.query_end - hsp.query_start\n",
      "            cov = float(aligned_length) / rec.query_length * 100\n",
      "            pid = float(hsp.identities) / aligned_length * 100\n",
      "                \n",
      "            if pid > pid_threshold:\n",
      "                if cov > cov_threshold:\n",
      "                    compl_hit_matrix.add_hit(q_id, h_id)\n",
      "                else:\n",
      "                    incompl_hit_matrix.add_hit(q_id, h_id)\n",
      "\n",
      "compl_hit_matrix.write_csv('IMS101_v_self_compl.csv')\n",
      "incompl_hit_matrix.write_csv('IMS101_v_self_partial.csv')"
     ],
     "language": "python",
     "metadata": {},
     "outputs": [],
     "prompt_number": 32
    },
    {
     "cell_type": "markdown",
     "metadata": {},
     "source": [
      "Further parsing:\n",
      "For each gene, if it has a complete duplication (hit count in complete hits table is > 1), add the gene name to a list of 'completely duplicated genes'. If it has no complete duplications but one or more partial duplications, add it to the list of 'partially duplicated' genes"
     ]
    },
    {
     "cell_type": "code",
     "collapsed": false,
     "input": [
      "gene_names = compl_hit_matrix.fasta_ids\n",
      "dupl_compl = np.sum(compl_hit_matrix.hits, axis=1)\n",
      "dupl_partial = np.sum(incompl_hit_matrix.hits, axis=1)\n",
      "\n",
      "complete_dupl = []\n",
      "partial_dupl = []\n",
      "for gn, comp_count, part_count in zip(gene_names, dupl_compl, dupl_partial):\n",
      "    if comp_count > 1:\n",
      "        complete_dupl.append(gn)\n",
      "    elif part_count > 0:\n",
      "        partial_dupl.append(gn)\n",
      "\n",
      "print len(complete_dupl), len(partial_dupl)\n",
      "\n",
      "out1 = open('duplicated_complete.txt', 'w')\n",
      "out2 = open('duplicated_partial.txt', 'w')\n",
      "\n",
      "for x in complete_dupl:\n",
      "    out1.write(x + '\\n')\n",
      "out1.close()\n",
      "\n",
      "for x in partial_dupl:\n",
      "    out2.write(x + '\\n')\n",
      "out2.close()"
     ],
     "language": "python",
     "metadata": {},
     "outputs": [
      {
       "output_type": "stream",
       "stream": "stdout",
       "text": [
        "281 76\n"
       ]
      }
     ],
     "prompt_number": 29
    },
    {
     "cell_type": "heading",
     "level": 2,
     "metadata": {},
     "source": [
      "Check for genes with multiple paths in IMS101 assembly graph"
     ]
    },
    {
     "cell_type": "code",
     "collapsed": false,
     "input": [
      "hits = open(\"all.tsv\").readlines()[1:]\n",
      "\n",
      "genes_counted = []\n",
      "#Genes with more than one path in the graph\n",
      "multiple_paths = []\n",
      "#Genes with at least one complicated path (>3 nodes)\n",
      "split_genes = []\n",
      "\n",
      "for hit in hits:\n",
      "    h = hit.split('\\t')\n",
      "    query = h[0]\n",
      "    path = h[1]\n",
      "    \n",
      "    #If we've already counted the gene and we're seeing it again, it has multiple paths in the graph\n",
      "    if query in genes_counted:\n",
      "        if not query in multiple_paths:\n",
      "            multiple_paths.append(query)\n",
      "    else:\n",
      "        genes_counted.append(query)\n",
      "    \n",
      "    if not query in split_genes:\n",
      "        if len(path.split(' ')) > 3:\n",
      "            split_genes.append(query)\n",
      "            \n",
      "print len(compl_hit_matrix.fasta_ids), len(genes_counted), len(multiple_paths), len(split_genes)"
     ],
     "language": "python",
     "metadata": {},
     "outputs": [
      {
       "output_type": "stream",
       "stream": "stdout",
       "text": [
        "4451 4287 275 252\n"
       ]
      }
     ],
     "prompt_number": 35
    },
    {
     "cell_type": "heading",
     "level": 2,
     "metadata": {},
     "source": [
      "Filter out repetitive/complicated genes from fasta file"
     ]
    },
    {
     "cell_type": "markdown",
     "metadata": {},
     "source": [
      "Used R to get the union of the set of genes that were partially or completely repeated in the genome, or had multiple paths in the IMS101 assembly graph. This was saved in 'genes_to_filter.txt'"
     ]
    },
    {
     "cell_type": "code",
     "collapsed": false,
     "input": [
      "from Bio import SeqIO\n",
      "\n",
      "genes_to_filter = [g.rstrip() for g in open('genes_to_filter.txt').readlines()]\n",
      "\n",
      "print genes_to_filter[0:5]\n",
      "\n",
      "fasta = SeqIO.parse('/Users/ajb1d14/Dropbox/Job/fasta/protein/IMS101_proteins.faa.txt', 'fasta')\n",
      "\n",
      "remaining_genes = []\n",
      "for f in fasta:\n",
      "    if f.id not in genes_to_filter:\n",
      "        remaining_genes.append(f)\n",
      "\n",
      "SeqIO.write(remaining_genes, 'IMS101_unique_genes.fasta', 'fasta')"
     ],
     "language": "python",
     "metadata": {},
     "outputs": [
      {
       "output_type": "stream",
       "stream": "stdout",
       "text": [
        "['Tery_0010', 'Tery_0020', 'Tery_0031', 'Tery_0039', 'Tery_0049']\n"
       ]
      },
      {
       "metadata": {},
       "output_type": "pyout",
       "prompt_number": 5,
       "text": [
        "4061"
       ]
      }
     ],
     "prompt_number": 5
    },
    {
     "cell_type": "heading",
     "level": 2,
     "metadata": {},
     "source": [
      "Determine query paths for each gene in metagenome assembly graphs using Bandage"
     ]
    },
    {
     "cell_type": "markdown",
     "metadata": {},
     "source": [
      "Parameters: looked for paths up to 10 nodes long, with mean query id of >70%"
     ]
    },
    {
     "cell_type": "heading",
     "level": 3,
     "metadata": {},
     "source": [
      "Simulated IMS101"
     ]
    },
    {
     "cell_type": "code",
     "collapsed": false,
     "input": [
      "!/Applications/Bandage_Mac_v0/Bandage.app/Contents/MacOS/Bandage querypaths sim_IMS101/assembly_graph.fastg IMS101_unique_genes.fasta sim_IMS101/unique_genes_paths --pathnodes 10 --minmeanid 0.7"
     ],
     "language": "python",
     "metadata": {},
     "outputs": [
      {
       "output_type": "stream",
       "stream": "stdout",
       "text": [
        "\r\n",
        "(25 Feb 2016 21:46:59) Loading graph...        "
       ]
      },
      {
       "output_type": "stream",
       "stream": "stdout",
       "text": [
        "done\r\n",
        "(25 Feb 2016 21:47:00) Running BLAST search... "
       ]
      },
      {
       "output_type": "stream",
       "stream": "stdout",
       "text": [
        "done\r\n",
        "(25 Feb 2016 21:57:24) Saving results...       "
       ]
      },
      {
       "output_type": "stream",
       "stream": "stdout",
       "text": [
        "done\r\n",
        "\r\n",
        "Results:      sim_IMS101/unique_genes_paths.tsv\r\n",
        "\r\n",
        "Summary: Total BLAST queries:           4061\r\n",
        "         Queries with found paths:      3938\r\n",
        "         Total query paths:             4512\r\n",
        "\r\n",
        "Elapsed time: 00:10:24.542\r\n"
       ]
      }
     ],
     "prompt_number": 55
    },
    {
     "cell_type": "heading",
     "level": 3,
     "metadata": {},
     "source": [
      "004"
     ]
    },
    {
     "cell_type": "code",
     "collapsed": false,
     "input": [
      "!/Applications/Bandage_Mac_v0/Bandage.app/Contents/MacOS/Bandage querypaths 004/assembly_graph.fastg IMS101_unique_genes.fasta 004/unique_genes_paths --pathnodes 10 --minmeanid 0.7"
     ],
     "language": "python",
     "metadata": {},
     "outputs": [
      {
       "output_type": "stream",
       "stream": "stdout",
       "text": [
        "\r\n",
        "(25 Feb 2016 14:24:38) Loading graph...        "
       ]
      },
      {
       "output_type": "stream",
       "stream": "stdout",
       "text": [
        "done\r\n",
        "(25 Feb 2016 14:24:40) Running BLAST search... "
       ]
      },
      {
       "output_type": "stream",
       "stream": "stdout",
       "text": [
        "done\r\n",
        "(25 Feb 2016 14:46:10) Saving results...       "
       ]
      },
      {
       "output_type": "stream",
       "stream": "stdout",
       "text": [
        "done\r\n",
        "\r\n",
        "Results:      004/unique_genes_paths.tsv\r\n",
        "\r\n",
        "Summary: Total BLAST queries:           4061\r\n",
        "         Queries with found paths:      3075\r\n",
        "         Total query paths:             6984\r\n",
        "\r\n",
        "Elapsed time: 00:21:32.583\r\n"
       ]
      }
     ],
     "prompt_number": 13
    },
    {
     "cell_type": "heading",
     "level": 3,
     "metadata": {},
     "source": [
      "019"
     ]
    },
    {
     "cell_type": "code",
     "collapsed": false,
     "input": [
      "!/Applications/Bandage_Mac_v0/Bandage.app/Contents/MacOS/Bandage querypaths 019/assembly_graph.fastg IMS101_unique_genes.fasta 019/unique_genes_paths --pathnodes 10 --minmeanid 0.7"
     ],
     "language": "python",
     "metadata": {},
     "outputs": [
      {
       "output_type": "stream",
       "stream": "stdout",
       "text": [
        "\r\n",
        "(25 Feb 2016 14:46:11) Loading graph...        "
       ]
      },
      {
       "output_type": "stream",
       "stream": "stdout",
       "text": [
        "done\r\n",
        "(25 Feb 2016 14:46:18) Running BLAST search... "
       ]
      },
      {
       "output_type": "stream",
       "stream": "stdout",
       "text": [
        "done\r\n",
        "(25 Feb 2016 15:22:09) Saving results...       "
       ]
      },
      {
       "output_type": "stream",
       "stream": "stdout",
       "text": [
        "done\r\n",
        "\r\n",
        "Results:      019/unique_genes_paths.tsv\r\n",
        "\r\n",
        "Summary: Total BLAST queries:           4061\r\n",
        "         Queries with found paths:      3121\r\n",
        "         Total query paths:             15261\r\n",
        "\r\n",
        "Elapsed time: 00:35:58.715\r\n"
       ]
      }
     ],
     "prompt_number": 14
    },
    {
     "cell_type": "heading",
     "level": 2,
     "metadata": {},
     "source": [
      "Parse path file:"
     ]
    },
    {
     "cell_type": "markdown",
     "metadata": {},
     "source": [
      "Path file output has the following columns:\n",
      "- Query\n",
      "- Path\n",
      "- Length\n",
      "- Query covered by path\n",
      "- Query covered by hits\n",
      "- Mean hit identity\n",
      "- Total hit mismatches\n",
      "- Total hit gap opens\n",
      "- Relative length\n",
      "- Length discrepancy\n",
      "- E-value product\n",
      "- Sequence"
     ]
    },
    {
     "cell_type": "code",
     "collapsed": false,
     "input": [
      "from Bio.Seq import Seq\n",
      "from Bio.SeqRecord import SeqRecord\n",
      "\n",
      "class Paths:\n",
      "    def __init__(self):        \n",
      "        self.genes = []\n",
      "    \n",
      "    def load_paths(self, path_file):\n",
      "        current_gene = Gene()\n",
      "        for line in open(path_file).readlines()[1:]:\n",
      "            if line:\n",
      "                gene, path = self.parse_line(line)\n",
      "                if gene == current_gene.name:\n",
      "                    current_gene.paths.append(path)\n",
      "                else:\n",
      "                    if current_gene.name:\n",
      "                        self.genes.append(current_gene)\n",
      "                    current_gene = Gene(gene)\n",
      "                    current_gene.paths.append(path)\n",
      "        \n",
      "    def parse_line(self, line):\n",
      "        spl = line.rstrip().split('\\t')\n",
      "        \n",
      "        query = spl[0]\n",
      "        path_spec = spl[1]\n",
      "        path_length = spl[2]\n",
      "        q_cov = spl[3]\n",
      "        pid = float(spl[5].replace('%',''))\n",
      "        rel_length = spl[8]\n",
      "        seq = spl[11]\n",
      "            \n",
      "        p = path_spec.split(' ')\n",
      "#        print p\n",
      "        if p[-1].startswith('('):\n",
      "            end_pos = p.pop().replace('(','').replace(')','')\n",
      "        else:\n",
      "            end_pos = None\n",
      "        if p[0].startswith('('):\n",
      "            start_pos = p[0].replace('(','').replace(')','')\n",
      "            p = p[1:]\n",
      "        else:\n",
      "            start_pos = 1\n",
      "#        print p\n",
      "        \n",
      "        path = Path(p, start_pos, end_pos, path_length, q_cov, pid, rel_length, seq, query)\n",
      "        \n",
      "        return query, path\n",
      "    \n",
      "    def get_gene(self, tery):\n",
      "        for gene in self.genes:\n",
      "            try:\n",
      "                if gene.name == tery:\n",
      "                    return gene\n",
      "            except StopIteration:\n",
      "                return None\n",
      "        \n",
      "\n",
      "class Gene:\n",
      "    def __init__(self, gene_name=''):\n",
      "        self.name = gene_name\n",
      "        self.paths = []\n",
      "        \n",
      "    def add_path(self, path):\n",
      "        self.paths.append(path)\n",
      "        \n",
      "        \n",
      "class Path:\n",
      "    def __init__(self, node_list, start_pos, end_pos, path_length, cov, pid, rel_length, seq, query):\n",
      "        self.start_node = node_list[0]\n",
      "#        print self.start_node\n",
      "        self.end_node = node_list[-1]\n",
      "#        print self.end_node\n",
      "        self.start_base = start_pos\n",
      "        self.end_base = end_pos\n",
      "        self.internal_nodes = node_list[1:-1]\n",
      "#        print self.internal_nodes\n",
      "        if self.start_node == self.end_node and len(self.internal_nodes) == 0:\n",
      "            self.num_nodes = 1\n",
      "        else:\n",
      "            self.num_nodes = len(self.internal_nodes) + 2\n",
      "\n",
      "#        self.query = query\n",
      "        self.length = path_length\n",
      "        self.rel_length = rel_length\n",
      "        \n",
      "        #Create SeqRecord object to hold sequence information\n",
      "        seq_id = 'path_%s_%.2f' % (query, pid)\n",
      "        seq = Seq(seq)\n",
      "        self.seq = SeqRecord(seq, id=seq_id)\n",
      "        self.prot_seq = SeqRecord(self.seq.seq.translate(), id=seq_id+'_prot')\n",
      "        \n",
      "        self.coverage = cov\n",
      "        self.identity = pid\n",
      "        \n",
      "    def __str__(self):\n",
      "        \n",
      "        s = '%s %s %s (%d nodes)' % (self.start_node, ' '.join(self.internal_nodes), self.end_node, self.num_nodes)\n",
      "        \n",
      "        return s"
     ],
     "language": "python",
     "metadata": {},
     "outputs": [],
     "prompt_number": 7
    },
    {
     "cell_type": "heading",
     "level": 3,
     "metadata": {},
     "source": [
      "Count number of genes with unique paths vs genes with multiple paths"
     ]
    },
    {
     "cell_type": "code",
     "collapsed": false,
     "input": [
      "samples = ['sim','004','019']\n",
      "path_files = ['all.tsv', './004/unique_genes_paths.tsv', '019/unique_genes_paths.tsv']\n",
      "\n",
      "for s, f in zip(samples, path_files):\n",
      "    paths = Paths()\n",
      "    paths.load_paths(f)\n",
      "\n",
      "    single_paths = []\n",
      "    multi_paths = []\n",
      "\n",
      "    for gene in paths.genes:\n",
      "    \n",
      "        if len(gene.paths) > 1:\n",
      "            multi_paths.append(gene)\n",
      "#            print gene.name, ': ', len(gene.paths)\n",
      "    \n",
      "        else:\n",
      "            single_paths.append(gene)\n",
      "\n",
      "    print '%s:\\tSingle: %d (%.2f%%), Multi: %d (%.2f%%)' % (s, len(single_paths), len(single_paths)/4286.0*100, len(multi_paths), len(multi_paths)/4286.0*100)"
     ],
     "language": "python",
     "metadata": {},
     "outputs": [
      {
       "output_type": "stream",
       "stream": "stdout",
       "text": [
        "sim:\tSingle: 4011 (93.58%), Multi: 275 (6.42%)\n",
        "004:\tSingle: 2572 (60.01%), Multi: 502 (11.71%)"
       ]
      },
      {
       "output_type": "stream",
       "stream": "stdout",
       "text": [
        "\n",
        "019:\tSingle: 1203 (28.07%), Multi: 1917 (44.73%)"
       ]
      },
      {
       "output_type": "stream",
       "stream": "stdout",
       "text": [
        "\n"
       ]
      },
      {
       "output_type": "stream",
       "stream": "stderr",
       "text": [
        "/Users/ajb1d14/anaconda/lib/python2.7/site-packages/Bio/Seq.py:2040: BiopythonWarning: Partial codon, len(sequence) not a multiple of three. Explicitly trim the sequence or add trailing N before translation. This may become an error in future.\n",
        "  BiopythonWarning)\n"
       ]
      }
     ],
     "prompt_number": 37
    },
    {
     "cell_type": "markdown",
     "metadata": {},
     "source": [
      "Visualisation:\n",
      "- a path that's unique in all three graphs\n",
      "- a path that's unique in simulated IMS101, but split into two in 004 and 019\n",
      "- a path that's unique in simulated IMS101, but complex in the metagenomes"
     ]
    },
    {
     "cell_type": "code",
     "collapsed": false,
     "input": [
      "import subprocess\n",
      "from Bio import SeqIO\n",
      "\n",
      "def get_Tery(tery, fasta):\n",
      "    fasta = SeqIO.parse(fasta, 'fasta')\n",
      "    outfile = '%s.fasta' % tery\n",
      "    \n",
      "    for f in fasta:\n",
      "        if f.id == tery:\n",
      "            SeqIO.write(f, outfile, 'fasta')\n",
      "\n",
      "    return outfile\n",
      "\n",
      "\n",
      "def make_bandage_cline(query_file, graph_file, image_file, distance=1, blast_id_filter=70):\n",
      "    cline = '/Applications/Bandage_Mac_v0/Bandage.app/Contents/MacOS/Bandage image %s %s --query %s --scope aroundblast --distance %d --ifilter %s' % (graph_file,\n",
      "                                                                                                                                                    image_file,\n",
      "                                                                                                                                                    query_file,\n",
      "                                                                                                                                                    distance,\n",
      "                                                                                                                                                    str(blast_id_filter))\n",
      "    return cline\n",
      "\n",
      "\n",
      "def run_bandage_on_list(gene_name, graph_list, out_suffix_list, blast_id_filter=0.7):\n",
      "    query_file = get_Tery(gene_name, fasta_file)\n",
      "    for graph, out_suffix in zip(graph_list, out_suffix_list):\n",
      "        out_name = '%s_%s.png' % (gene_name, out_suffix)\n",
      "        cline = make_bandage_cline(query_file, graph, out_name, 1)\n",
      "        subprocess.call(cline, shell=True)\n",
      "\n",
      "        \n",
      "        \n",
      "paths_IMS101 = Paths()\n",
      "paths_004 = Paths()\n",
      "paths_019 = Paths()\n",
      "\n",
      "paths_IMS101.load_paths('sim_IMS101/unique_genes_paths.tsv')\n",
      "paths_004.load_paths('004/unique_genes_paths.tsv')\n",
      "paths_019.load_paths('019/unique_genes_paths.tsv')\n",
      "\n",
      "graph_IMS101 = 'sim_IMS101/assembly_graph.fastg'\n",
      "graph_004 = '004/assembly_graph.fastg'\n",
      "graph_019 = '019/assembly_graph.fastg'\n",
      "graphs = [graph_IMS101, graph_004, graph_019]\n",
      "\n",
      "sample_list = ['simIMS101', '004', '019']\n",
      "\n",
      "fasta_file = 'IMS101_unique_genes.fasta'\n",
      "\n",
      "unique_count = 0\n",
      "split_count = 0\n",
      "complex_count = 0\n",
      "\n",
      "\n",
      "filtered_genes = []\n",
      "genes_in_both = []\n",
      "genes_in_004 = []\n",
      "genes_in_019 = []\n",
      "genes_in_neither = []\n",
      "\n",
      "for gene in paths_IMS101.genes:\n",
      "    gene004 = paths_004.get_gene(gene.name)\n",
      "    gene019 = paths_019.get_gene(gene.name)\n",
      "    \n",
      "    if gene004 and gene019:\n",
      "        filtered_genes.append(tuple([gene, gene004, gene019]))\n",
      "        genes_in_both.append(gene.name)\n",
      "    elif gene004:\n",
      "        genes_in_004.append(gene.name)\n",
      "    elif gene019:\n",
      "        genes_in_019.append(gene.name)\n",
      "    else:\n",
      "        genes_in_neither.append(gene.name)\n",
      "\n",
      "print \"Genes present in all three graphs: %d\" % len(filtered_genes)\n",
      "print \"Genes only in 004: %d\" % len(genes_in_004)\n",
      "print \"Genes only in 019: %d\" % len(genes_in_019)\n",
      "print \"Genes not in either metagenome: %d\" % len(genes_in_neither)\n",
      "print \"-----------------\\n\"\n",
      "\n",
      "for control, met004, met019 in filtered_genes:\n",
      "\n",
      "    if unique_count < 3 or split_count < 10 or complex_count < 10:\n",
      "    \n",
      "        if len(control.paths) == 1 and (len(met004.paths) == 1 and len(met019.paths) == 1):\n",
      "            if unique_count < 3:\n",
      "                run_bandage_on_list(control.name, graphs, sample_list)\n",
      "                print 'unique: %s' % control.name\n",
      "            unique_count += 1\n",
      "            \n",
      "        elif len(control.paths) == 1 and (len(met004.paths) > 5 or len(met019.paths) > 5):\n",
      "            if complex_count < 10:\n",
      "                run_bandage_on_list(control.name, graphs, sample_list)\n",
      "                print 'complex: %s' % control.name\n",
      "            complex_count += 1\n",
      "        \n",
      "        elif len(control.paths) == 1 and (len(met004.paths) > 1 or len(met019.paths) > 1):\n",
      "            if split_count < 10:\n",
      "                run_bandage_on_list(control.name, graphs, sample_list)\n",
      "                print 'split: %s' % control.name\n",
      "            split_count += 1\n",
      "\n",
      "    else:\n",
      "        break\n",
      "\n",
      "\n",
      "print unique_count, split_count, complex_count\n"
     ],
     "language": "python",
     "metadata": {},
     "outputs": [
      {
       "output_type": "stream",
       "stream": "stdout",
       "text": [
        "Genes present in all three graphs: 2965\n",
        "Genes only in 004: 102\n",
        "Genes only in 019: 153\n",
        "Genes not in either metagenome: 717\n",
        "-----------------\n",
        "\n",
        "split: Tery_0001"
       ]
      },
      {
       "output_type": "stream",
       "stream": "stdout",
       "text": [
        "\n",
        "split: Tery_0011"
       ]
      },
      {
       "output_type": "stream",
       "stream": "stdout",
       "text": [
        "\n",
        "unique: Tery_0012"
       ]
      },
      {
       "output_type": "stream",
       "stream": "stdout",
       "text": [
        "\n",
        "split: Tery_0013"
       ]
      },
      {
       "output_type": "stream",
       "stream": "stdout",
       "text": [
        "\n",
        "unique: Tery_0014"
       ]
      },
      {
       "output_type": "stream",
       "stream": "stdout",
       "text": [
        "\n",
        "complex: Tery_0019"
       ]
      },
      {
       "output_type": "stream",
       "stream": "stdout",
       "text": [
        "\n",
        "complex: Tery_0021"
       ]
      },
      {
       "output_type": "stream",
       "stream": "stdout",
       "text": [
        "\n",
        "split: Tery_0027"
       ]
      },
      {
       "output_type": "stream",
       "stream": "stdout",
       "text": [
        "\n",
        "split: Tery_0028"
       ]
      },
      {
       "output_type": "stream",
       "stream": "stdout",
       "text": [
        "\n",
        "split: Tery_0034"
       ]
      },
      {
       "output_type": "stream",
       "stream": "stdout",
       "text": [
        "\n",
        "unique: Tery_0040"
       ]
      },
      {
       "output_type": "stream",
       "stream": "stdout",
       "text": [
        "\n",
        "complex: Tery_0043"
       ]
      },
      {
       "output_type": "stream",
       "stream": "stdout",
       "text": [
        "\n",
        "split: Tery_0045"
       ]
      },
      {
       "output_type": "stream",
       "stream": "stdout",
       "text": [
        "\n",
        "split: Tery_0046"
       ]
      },
      {
       "output_type": "stream",
       "stream": "stdout",
       "text": [
        "\n",
        "complex: Tery_0047"
       ]
      },
      {
       "output_type": "stream",
       "stream": "stdout",
       "text": [
        "\n",
        "complex: Tery_0058"
       ]
      },
      {
       "output_type": "stream",
       "stream": "stdout",
       "text": [
        "\n",
        "split: Tery_0060"
       ]
      },
      {
       "output_type": "stream",
       "stream": "stdout",
       "text": [
        "\n",
        "split: Tery_0069"
       ]
      },
      {
       "output_type": "stream",
       "stream": "stdout",
       "text": [
        "\n",
        "complex: Tery_0115"
       ]
      },
      {
       "output_type": "stream",
       "stream": "stdout",
       "text": [
        "\n",
        "complex: Tery_0142"
       ]
      },
      {
       "output_type": "stream",
       "stream": "stdout",
       "text": [
        "\n",
        "complex: Tery_0161"
       ]
      },
      {
       "output_type": "stream",
       "stream": "stdout",
       "text": [
        "\n",
        "complex: Tery_0163"
       ]
      },
      {
       "output_type": "stream",
       "stream": "stdout",
       "text": [
        "\n",
        "complex: Tery_0190"
       ]
      },
      {
       "output_type": "stream",
       "stream": "stdout",
       "text": [
        "\n",
        "32 45 10\n"
       ]
      }
     ],
     "prompt_number": 38
    },
    {
     "cell_type": "code",
     "collapsed": false,
     "input": [
      "%%html\n",
      "<style>\n",
      "img {width:300px;\n",
      "     height:300px;}\n",
      "</style>"
     ],
     "language": "python",
     "metadata": {},
     "outputs": [
      {
       "html": [
        "<style>\n",
        "img {width:300px;\n",
        "     height:300px;}\n",
        "</style>"
       ],
       "metadata": {},
       "output_type": "display_data",
       "text": [
        "<IPython.core.display.HTML at 0x10446c150>"
       ]
      }
     ],
     "prompt_number": 3
    },
    {
     "cell_type": "markdown",
     "metadata": {},
     "source": [
      "| Gene | sim | 004 | 019 |\n",
      "| :---------: | :---: | :---: | :---: |\n",
      "| Tery_0001 | <img src=\"Tery_0001_simIMS101.png\"> | <img src=\"Tery_0001_004.png\"> | <img src=\"Tery_0001_019.png\"> |\n",
      "| Tery_0011 | <img src=\"Tery_0011_simIMS101.png\"> | <img src=\"Tery_0011_004.png\"> | <img src=\"Tery_0011_019.png\"> |\n",
      "| Tery_0013 | <img src=\"Tery_0013_simIMS101.png\"> | <img src=\"Tery_0013_004.png\"> | <img src=\"Tery_0013_019.png\"> |\n",
      "| Tery_0019 | <img src=\"Tery_0019_simIMS101.png\"> | <img src=\"Tery_0019_004.png\"> | <img src=\"Tery_0019_019.png\"> |\n",
      "| Tery_0021 | <img src=\"Tery_0021_simIMS101.png\"> | <img src=\"Tery_0021_004.png\"> | <img src=\"Tery_0021_019.png\"> |\n",
      "| Tery_0027 | <img src=\"Tery_0027_simIMS101.png\"> | <img src=\"Tery_0027_004.png\"> | <img src=\"Tery_0027_019.png\"> |\n",
      "| Tery_0028 | <img src=\"Tery_0028_simIMS101.png\"> | <img src=\"Tery_0028_004.png\"> | <img src=\"Tery_0028_019.png\"> |\n",
      "| Tery_0034 | <img src=\"Tery_0034_simIMS101.png\"> | <img src=\"Tery_0034_004.png\"> | <img src=\"Tery_0034_019.png\"> |\n",
      "| Tery_0043 | <img src=\"Tery_0043_simIMS101.png\"> | <img src=\"Tery_0043_004.png\"> | <img src=\"Tery_0043_019.png\"> |\n",
      "| Tery_0045 | <img src=\"Tery_0045_simIMS101.png\"> | <img src=\"Tery_0045_004.png\"> | <img src=\"Tery_0045_019.png\"> |\n",
      "| Tery_0046 | <img src=\"Tery_0046_simIMS101.png\"> | <img src=\"Tery_0046_004.png\"> | <img src=\"Tery_0046_019.png\"> |\n",
      "| Tery_0047 | <img src=\"Tery_0047_simIMS101.png\"> | <img src=\"Tery_0047_004.png\"> | <img src=\"Tery_0047_019.png\"> |\n",
      "| Tery_0058 | <img src=\"Tery_0058_simIMS101.png\"> | <img src=\"Tery_0058_004.png\"> | <img src=\"Tery_0058_019.png\"> |\n",
      "| Tery_0060 | <img src=\"Tery_0060_simIMS101.png\"> | <img src=\"Tery_0060_004.png\"> | <img src=\"Tery_0060_019.png\"> |\n",
      "| Tery_0069 | <img src=\"Tery_0069_simIMS101.png\"> | <img src=\"Tery_0069_004.png\"> | <img src=\"Tery_0069_019.png\"> |\n",
      "| Tery_0115 | <img src=\"Tery_0115_simIMS101.png\"> | <img src=\"Tery_0115_004.png\"> | <img src=\"Tery_0115_019.png\"> |\n",
      "| Tery_0142 | <img src=\"Tery_0142_simIMS101.png\"> | <img src=\"Tery_0142_004.png\"> | <img src=\"Tery_0142_019.png\"> |\n",
      "| Tery_0161 | <img src=\"Tery_0161_simIMS101.png\"> | <img src=\"Tery_0161_004.png\"> | <img src=\"Tery_0161_019.png\"> |\n",
      "| Tery_0163 | <img src=\"Tery_0163_simIMS101.png\"> | <img src=\"Tery_0163_004.png\"> | <img src=\"Tery_0163_019.png\"> |\n",
      "| Tery_0190 | <img src=\"Tery_0190_simIMS101.png\"> | <img src=\"Tery_0190_004.png\"> | <img src=\"Tery_0190_019.png\"> |\n",
      "\n",
      "\n",
      "\n"
     ]
    },
    {
     "cell_type": "heading",
     "level": 2,
     "metadata": {},
     "source": [
      "Whole graphs:"
     ]
    },
    {
     "cell_type": "code",
     "collapsed": false,
     "input": [
      "!/Applications/Bandage_Mac_v0/Bandage.app/Contents/MacOS/Bandage image sim_IMS101/assembly_graph.fastg sim_IMS101/sim_IMS101_whole_graph.png --scope entire --query IMS101_unique_genes.fasta --ifilter 90 "
     ],
     "language": "python",
     "metadata": {},
     "outputs": [],
     "prompt_number": 33
    },
    {
     "cell_type": "code",
     "collapsed": false,
     "input": [
      "!/Applications/Bandage_Mac_v0/Bandage.app/Contents/MacOS/Bandage image 004/assembly_graph.fastg 004/004_whole_graph.png --scope entire --query IMS101_unique_genes.fasta --ifilter 70 "
     ],
     "language": "python",
     "metadata": {},
     "outputs": [],
     "prompt_number": 32
    },
    {
     "cell_type": "code",
     "collapsed": false,
     "input": [
      "!/Applications/Bandage_Mac_v0/Bandage.app/Contents/MacOS/Bandage image 019/assembly_graph.fastg 019/019_whole_graph.png --scope entire --query IMS101_unique_genes.fasta --ifilter 70 "
     ],
     "language": "python",
     "metadata": {},
     "outputs": [],
     "prompt_number": 35
    },
    {
     "cell_type": "markdown",
     "metadata": {},
     "source": [
      "##Simulated IMS101\n",
      "<img src=\"sim_IMS101/sim_IMS101_whole_graph.png\", style=\"width:500px;height:500px\">\n",
      "##004\n",
      "<img src=\"004/004_whole_graph.png\", style=\"width:800px;height:800px\">\n",
      "##019\n",
      "<img src=\"019/019_whole_graph.png\", style=\"width:800px;height:800px\">"
     ]
    },
    {
     "cell_type": "code",
     "collapsed": false,
     "input": [
      "paths_IMS101 = Paths()\n",
      "paths_004 = Paths()\n",
      "paths_019 = Paths()\n",
      "\n",
      "paths_IMS101.load_paths('sim_IMS101/unique_genes_paths.tsv')\n",
      "paths_004.load_paths('004/unique_genes_paths.tsv')\n",
      "paths_019.load_paths('019/unique_genes_paths.tsv')\n"
     ],
     "language": "python",
     "metadata": {},
     "outputs": [
      {
       "output_type": "stream",
       "stream": "stderr",
       "text": [
        "/Users/ajb1d14/anaconda/lib/python2.7/site-packages/Bio/Seq.py:2040: BiopythonWarning: Partial codon, len(sequence) not a multiple of three. Explicitly trim the sequence or add trailing N before translation. This may become an error in future.\n",
        "  BiopythonWarning)\n"
       ]
      }
     ],
     "prompt_number": 4
    },
    {
     "cell_type": "code",
     "collapsed": false,
     "input": [
      "def path_count(tery, paths):\n",
      "    gene_obj = paths.get_gene(tery)\n",
      "    \n",
      "    if gene_obj:\n",
      "        count = len(gene_obj.paths)\n",
      "        return count\n",
      "    else:\n",
      "        return 0\n",
      "        \n",
      "path_count_file = open('path_counts.csv', 'w')\n",
      "header = 'Gene, IMS101 paths, 004 paths, 019 paths\\n'\n",
      "path_count_file.write(header)\n",
      "\n",
      "for tery in [g.name for g in paths_IMS101.genes]:\n",
      "    path_count_file.write('%s,%d,%d,%d\\n' % (tery,\n",
      "                                             path_count(tery, paths_IMS101),\n",
      "                                             path_count(tery, paths_004),\n",
      "                                             path_count(tery, paths_019)))\n",
      "    \n",
      "path_count_file.close()"
     ],
     "language": "python",
     "metadata": {},
     "outputs": [],
     "prompt_number": 4
    },
    {
     "cell_type": "code",
     "collapsed": false,
     "input": [
      "from Bio import SeqIO\n",
      "\n",
      "outIMS101 = open('IMS101_nuc_paths.fasta', 'w')\n",
      "out004 = open('004_nuc_paths.fasta', 'w')\n",
      "out019 = open('019_nuc_paths.fasta', 'w')\n",
      "\n",
      "for P, o in zip([paths_IMS101, paths_004, paths_019], [outIMS101, out004, out019]):\n",
      "    path_seqs = []\n",
      "    for g in P.genes:\n",
      "        for p in g.paths:\n",
      "            path_seqs.append(p.seq)\n",
      "    SeqIO.write(path_seqs, o, 'fasta')"
     ],
     "language": "python",
     "metadata": {},
     "outputs": [],
     "prompt_number": 6
    },
    {
     "cell_type": "code",
     "collapsed": false,
     "input": [
      "from Bio.Seq import Seq\n",
      "from Bio.SeqRecord import SeqRecord\n",
      "from Bio.Alphabet import IUPAC\n",
      "from Bio.Align import AlignInfo\n",
      "from Bio import AlignIO\n",
      "from Bio import SeqIO\n",
      "\n",
      "def consensus(alignment):\n",
      "    \n",
      "    ambig_dict = {'A': 'A',\n",
      "                  'C': 'C',\n",
      "                  'G': 'G',\n",
      "                  'T': 'T',\n",
      "                  'AG': 'R',\n",
      "                  'CT': 'Y',\n",
      "                  'CG': 'S',\n",
      "                  'AT': 'W',\n",
      "                  'GT': 'K',\n",
      "                  'AC': 'M',\n",
      "                  'CGT': 'B',\n",
      "                  'AGT': 'D',\n",
      "                  'ACT': 'H',\n",
      "                  'ACG': 'V',\n",
      "                  'ACGT': 'N'\n",
      "                  }\n",
      "    \n",
      "    consensus = ''\n",
      "    for pos in range(0, len(alignment[1].seq)):\n",
      "        bases = [b for b in alignment[:,pos] if b in set(['A', 'C', 'T', 'G'])]\n",
      "        baseSet = ''.join( sorted( set(bases) ) )\n",
      "        #print baseSet\n",
      "        if baseSet:\n",
      "            #I think the only reason we wouldnt find a baseSet would be because we had a gap in all the sequences in the alignmrnt\n",
      "            consensus += ambig_dict.get(baseSet, None)\n",
      "            \n",
      "    return Seq(consensus)\n",
      "\n",
      "\n",
      "\n",
      "unambig1 = SeqRecord(seq=Seq('CATGACTTCGTGCGATCGATTGACTAGTCGTGTAGCGGCGCGATGTCA'), id='seq1')\n",
      "unambig2 = SeqRecord(seq=Seq('CACGATTTCGTACGATCGATTGACTAGTCGTGTAGCGGCGCGATGTCA'), id='seq2')\n",
      "\n",
      "SeqIO.write([unambig1, unambig2], 'temp_align.fasta', 'fasta')\n",
      "\n",
      "alignment = AlignIO.read('temp_align.fasta', 'fasta')\n",
      "\n",
      "cons = consensus(alignment)\n",
      "print cons"
     ],
     "language": "python",
     "metadata": {},
     "outputs": [
      {
       "output_type": "stream",
       "stream": "stdout",
       "text": [
        "CAYGAYTTCGTRCGATCGATTGACTAGTCGTGTAGCGGCGCGATGTCA\n"
       ]
      }
     ],
     "prompt_number": 5
    },
    {
     "cell_type": "code",
     "collapsed": false,
     "input": [
      "#Downloaded IMS101 gene nucleotide sequences from NCBI (12/4/16). Sequence ids need reformatting. Current format is lcl|CP000393.1_gene_1 [locus_tag=Tery_0001] [location=27..1397]\n",
      "\n",
      "from Bio import SeqIO\n",
      "\n",
      "fasta = SeqIO.parse('/Users/ajb1d14/Dropbox/Job/fasta/dna/IMS101_genes_nucl.fasta.txt','fasta')\n",
      "\n",
      "formatted = []\n",
      "for f in fasta:\n",
      "    new_id = f.description.split('locus_tag=')[1].split(']')[0]\n",
      "    f.id = new_id\n",
      "    f.description = ''\n",
      "    formatted.append(f)\n",
      "    \n",
      "SeqIO.write(formatted, '/Users/ajb1d14/Dropbox/Job/fasta/dna/IMS101_genes_nucl.fasta','fasta')"
     ],
     "language": "python",
     "metadata": {},
     "outputs": [
      {
       "metadata": {},
       "output_type": "pyout",
       "prompt_number": 63,
       "text": [
        "5124"
       ]
      }
     ],
     "prompt_number": 63
    },
    {
     "cell_type": "code",
     "collapsed": false,
     "input": [
      "import subprocess\n",
      "import sys\n",
      "import os\n",
      "from Bio import SeqIO\n",
      "from Bio import AlignIO\n",
      "from Bio.Align.Applications import MuscleCommandline\n",
      "from Bio.Align import AlignInfo\n",
      "from Bio.Alphabet import IUPAC\n",
      "\n",
      "if not os.path.exists('./alignments'):\n",
      "    os.makedirs('alignments')\n",
      "\n",
      "muscle_cline = MuscleCommandline('/Users/ajb1d14/Applications/muscle3.8.31_i86darwin32')\n",
      "print muscle_cline\n",
      "\n",
      "IMS101_fasta = SeqIO.parse('/Users/ajb1d14/Dropbox/Job/fasta/dna/IMS101_genes_nucl.fasta', 'fasta')\n",
      "IMS101_genes = {s.id: s for s in IMS101_fasta}\n",
      "\n",
      "for gene in paths_004.genes:\n",
      "    if len(gene.paths) > 1 and len(gene.paths) < 100:\n",
      "        IMS101_gene = IMS101_genes[gene.name]\n",
      "#        print IMS101_gene\n",
      "        print gene.name + ':'\n",
      "        \n",
      "        child = subprocess.Popen(str(muscle_cline),\n",
      "                                 stdin=subprocess.PIPE,\n",
      "                                 stdout=subprocess.PIPE,\n",
      "                                 stderr=subprocess.PIPE,\n",
      "                                 universal_newlines=True,\n",
      "                                 shell=True\n",
      "                                 )\n",
      "\n",
      "        to_align = [IMS101_gene]\n",
      "        \n",
      "        for path in gene.paths:\n",
      "            print '%s to %s, %d nodes (%.2f%% id)' % (path.start_node, path.end_node, path.num_nodes, path.identity)\n",
      "            to_align.append(path.seq)\n",
      "    \n",
      "\n",
      "\n",
      "        SeqIO.write(to_align, child.stdin, 'fasta')\n",
      "        child.stdin.close()\n",
      "\n",
      "        aligned = AlignIO.read(child.stdout, 'fasta', alphabet=IUPAC.ambiguous_dna)\n",
      "        aligned.sort()\n",
      "        AlignIO.write(aligned, './alignments/' + IMS101_gene.id + '.clw', 'clustal')\n",
      "        \n",
      "        #The IMS101 gene should be at the top after sorting ('Tery' comes before 'path') - don't include this when calculating the consensus\n",
      "        cons = consensus(aligned[1:])\n",
      "        print cons.translate()\n",
      "\n",
      "#        summary = AlignInfo.SummaryInfo(aligned)\n",
      "#        print summary.dumb_consensus()\n",
      "#        print summary.information_content(chars_to_ignore=['X', '-'])\n",
      "        \n"
     ],
     "language": "python",
     "metadata": {},
     "outputs": [
      {
       "output_type": "stream",
       "stream": "stdout",
       "text": [
        "/Users/ajb1d14/Applications/muscle3.8.31_i86darwin32\n",
        "Tery_0001:"
       ]
      },
      {
       "output_type": "stream",
       "stream": "stdout",
       "text": [
        "\n",
        "16776+, to 29075+, 2 nodes (92.57% id)\n",
        "16776+, to 29074+, 2 nodes (92.37% id)\n",
        "VETYLDNLWNQVLERLQLQLSKPTFETWIKTATAEQLENNCLVIHAPNPFARNWLQKYYVKTITDVVHDILGYPVEIYLTTSLVEDAGKDDSGLIWSEHKVSTLIGENSSIPKPRPVNLNPKYMFSRFVVGPNNRMAHAASLAVAESPGQEFNPLFLCGGVGLGKTHLMQAIGHYRLEIFPDSQIFYVSTEKFTNDLIAAIRKDSLQSFRKHYRAADVLLVDDIQFIEGKEYTQEEFFHTFNTLHEAGKQVVLASDRPPNQIPSLQERLCSRFSMGLIADIQAPDLETRMAILLKKSEYENMVLPRDIIEYIATRYPSNIRELEGALTRVVTYISISGLPMTVDNIAPILNPQTEKIEVSPEVVIKVVSENFNVSIEDLKSSSRKREITLARQIGMYLMRQHTDLSLPKIGEVFGGKDHTTVLYSCDKINQLQNSDLNLXQTIRKLRDRINFSNRH"
       ]
      },
      {
       "output_type": "stream",
       "stream": "stdout",
       "text": [
        "\n",
        "Tery_0019:\n",
        "9804-, to 5572-, 3 nodes (93.60% id)\n",
        "9804-, to 5572-, 3 nodes (93.45% id)\n",
        "MPENFRSQLVTKGVQRAPNRAMLRAVGFEDSDFTKPIIGVANAHSTITPCNMGINDLAMRAVNGVKEAGGMPQIFGTITISDGISMGTEGMKYSLVSRDVIADSIETVCNGQTMDGVLAIGGCDKNMPGAMIAIARMNIPAIFVYGGTIKPGNYNGKDLTVVSAFEAVGQYSAGKIDEIELTEVERRACPGAGSCGGMFTANTMSSAFEAMGMSLMYSSTMAAEDTEKADSTEKSAHTLVEAIRKQILPRQIITRKAIENAISVIMAVGGSTNAVLHLLAIAHAADVKLSLDDFEIIRARVPVLCDLKPSGRYVTTNLHQAGGIPIVMKMLLEHDLLHPDALTITGKTIAEQLADVPSQLPSDQDVIRPWNNPMYAQGHLAILKGNMANEGAVAKITGVKNPEITGPARVFESEEACLEAILAGKIQAGDIIVVRYEGPKGGPGMREMLAPTSAIIGAGLGDKVGLXTDGRFSGGTYGMVVGHVAPEAAVGGAIALVEEGDMITIDAHKRLLRLNISDEELEKRRQAWEPPTPRYNRGVLAKYAKLVSSSSVGAVTDAG"
       ]
      },
      {
       "output_type": "stream",
       "stream": "stdout",
       "text": [
        "\n",
        "Tery_0027:\n",
        "29596-, to 1113-, 3 nodes (86.04% id)\n",
        "29596-, to 1113-, 4 nodes (81.71% id)\n",
        "29596-, to 1114-, 3 nodes (81.25% id)\n",
        "MSTLVIVESPTKARTIRNYLPSEYRVEASMGHVRDLPPSAEEIPEKFKREKWAQLGVNVESDFEPIYVVPKDKKKTVKELKDALKEVDELVLATDEDREGESISWHLLQLLKPKVPTKRMVFHEITPEAIRRAIDNCRNIDEQLVRAQETRRILDRLYGYTLSPVLWKKIAWGLSAGRVQSVAVRLLVNRERQRQSFKQGGYWDLKASLEQEKTPFESKLVTLGGLKIATGSDFDENTGKIAEGRHVILLNEAQAEALKEKLQYQPWTVNSVDERAVKRKPSPPFTTSTLQQEANRKLRMGARQTMRIAQSLYEQGFITYMRTDSVHLSDEAIAAARSCVEKMYGLEYLSPKPRQYTTKSKGAQEAHEAIRPAGKTFRTPQETGLKAQEFALYDLIWKRTVACQMADSRQTHITVNLQVEDAGFRSNGKRIDFPGFLRAYVEGSDDPEVALENQEVPLPAIKQGDHPTCIGIEVTGHETQPPARFTEASLVKTLESEGIGRPSTYATVIGTIVDRGYAKLQSNALVPTFTAFAVTSLLEKHFPEFVDVKFTARMEQTLDDISTGEAQWLPYLKKFYFGESGLDTQIKEQENQIDPKLARTIELDNLNANSEMTYRICIGKFGAYIEAGNGEDIVKASIPEDLTPSDLDPEQIEKLLKQKTDGPEELGTHPEQDKPIYIMTGRYGPYVQLGDESEGSKKKPKRASLPKGVNMEDVTLDLAVGLLSLPRTLGTHPETGCIIQTNLGRFGPYIVHDQGKENGKDYRSLKAEDNXLTITLERALELLAQPXRSSSXXGXIXKXXPPLKDLGKHPENGEAVGVYDGRYGPYVKHGKVNASLPKDMSVEDVTLEKALELL"
       ]
      },
      {
       "output_type": "stream",
       "stream": "stdout",
       "text": [
        "\n",
        "Tery_0028:\n",
        "6645-, to 12469+, 3 nodes (78.54% id)\n",
        "25032+ to 25032+, 1 nodes (91.81% id)\n",
        "MXXXXVSTTEAAFLLNISTGRLRXLLNQXRXXGAXKVXRLWXXPLNXRXMPEIXPGRRGPZGTWNKXXRXXXTXXHVLRXTIDYNRDXXTSXPAXAVKVGNKKDYCHALKIXGXCQIXYXPHQPNXSQAGGARLWIEVEPZXIVERXYFXDGDYGXPPEVLZXRXRTKDKK"
       ]
      },
      {
       "output_type": "stream",
       "stream": "stdout",
       "text": [
        "\n",
        "Tery_0035:\n",
        "13941- to 13941-, 1 nodes (89.23% id)\n",
        "22026+ to 22026+, 1 nodes (87.69% id)\n",
        "12738+ to 12738+, 1 nodes (72.31% id)\n",
        "TXEFXKYLQXQRXGXXXAIFXDGXTYHNSQAXREYLMXINQDLXEEEWLINXTLICSXXXXXKXC"
       ]
      },
      {
       "output_type": "stream",
       "stream": "stdout",
       "text": [
        "\n",
        "Tery_0037:\n",
        "2380+, to 9454-, 7 nodes (89.01% id)"
       ]
      },
      {
       "output_type": "stream",
       "stream": "stdout",
       "text": [
        "\n",
        "2380+, to 21166+, 7 nodes (89.01% id)\n",
        "2380+, to 21167+, 7 nodes (89.01% id)\n",
        "9146+, to 9454-, 10 nodes (88.58% id)\n",
        "9146+, to 21166+, 10 nodes (88.58% id)\n",
        "9146+, to 21167+, 10 nodes (88.58% id)\n",
        "25742+, to 9454-, 8 nodes (87.96% id)\n",
        "25742+, to 21166+, 8 nodes (87.96% id)\n",
        "25742+, to 21167+, 8 nodes (87.96% id)\n",
        "4851-, to 9454-, 5 nodes (86.44% id)\n",
        "4851-, to 21166+, 5 nodes (86.44% id)\n",
        "4851-, to 21167+, 5 nodes (86.44% id)\n",
        "5061+, to 6843+, 5 nodes (84.76% id)\n",
        "5062+, to 6843+, 5 nodes (84.76% id)\n",
        "19284-, to 9454-, 4 nodes (82.97% id)\n",
        "19284-, to 21166+, 4 nodes (82.97% id)\n",
        "19284-, to 21167+, 4 nodes (82.97% id)\n",
        "5061+, to 8652+, 4 nodes (82.17% id)\n",
        "5062+, to 8652+, 4 nodes (82.17% id)\n",
        "13379+, to 9453-, 2 nodes (77.45% id)\n",
        "8992+, to 3956-, 3 nodes (72.55% id)\n",
        "8992+, to 5281+, 3 nodes (72.55% id)\n",
        "5061+, to 15405+, 3 nodes (75.28% id)\n",
        "5062+, to 15405+, 3 nodes (75.28% id)\n",
        "8992+, to 20509-, 3 nodes (71.14% id)\n",
        "8992+, to 13327-, 3 nodes (71.14% id)\n",
        "28108+ to 28108+, 1 nodes (75.00% id)\n",
        "13729+ to 13729+, 1 nodes (73.85% id)\n",
        "17838+ to 17838+, 1 nodes (75.38% id)\n",
        "16645- to 16645-, 1 nodes (73.85% id)\n",
        "5571- to 5571-, 1 nodes (75.38% id)\n",
        "31261- to 31261-, 1 nodes (75.38% id)\n",
        "31241- to 31241-, 1 nodes (72.31% id)\n",
        "21314- to 21314-, 1 nodes (73.85% id)\n",
        "31764+ to 31764+, 1 nodes (72.31% id)\n",
        "14740- to 14740-, 1 nodes (76.56% id)\n",
        "14740- to 14740-, 1 nodes (75.38% id)\n",
        "19091- to 19091-, 1 nodes (75.38% id)\n",
        "21085+ to 21085+, 1 nodes (75.00% id)\n",
        "31188- to 31188-, 1 nodes (70.77% id)\n",
        "22790- to 22790-, 1 nodes (70.77% id)\n",
        "2710- to 2710-, 1 nodes (70.77% id)\n",
        "MPXXKKXXKXXXXXEXXXGKRXNLXXXRRKKXKXFXXXNYXXXXXKXXXXXXXXXXTFXTIIKNXXXX"
       ]
      },
      {
       "output_type": "stream",
       "stream": "stdout",
       "text": [
        "\n",
        "Tery_0043:\n",
        "6249-, to 10354+, 9 nodes (90.95% id)\n",
        "6249-, to 10354+, 9 nodes (90.95% id)\n",
        "6249-, to 10354+, 9 nodes (90.95% id)\n",
        "6249-, to 10354+, 9 nodes (90.95% id)\n",
        "6249-, to 10354+, 8 nodes (90.99% id)\n",
        "6249-, to 10354+, 8 nodes (90.99% id)\n",
        "6249-, to 10354+, 8 nodes (90.99% id)\n",
        "6249-, to 10354+, 8 nodes (90.99% id)\n",
        "6249-, to 10354+, 8 nodes (90.83% id)\n",
        "6249-, to 10354+, 8 nodes (90.83% id)\n",
        "6249-, to 10354+, 8 nodes (90.83% id)\n",
        "6249-, to 10354+, 8 nodes (90.83% id)\n",
        "MSDWQVITGGVTAPKGYQATGIPAGLKPSGAEDLALILSDVDAIAAGVFTTTQVRAACVDYCRLHLENKPSARAILCNAGQANAATGDLGWQDAMESATELGKVLNISPESILLASTGVIGKRIKMDALKAALPQLVSTVSVEGGKAAAKAIVTTDLVTKSIALETLMSDRPVRIGGIAKGSGMIHPNMATMLSFITCDAVVSPQLWQEMLTRAVNRSFNQITVDGDTSTNDTVIALANGQSRTSAITNMGSEAEKLEAMLTEVCIYLAKAIARDGEGATCLIEVQVTGTSNEVSANKIAKTIAGSSLVKSAIFGRDPNWGRIAAAAGRAGVKFEQEDLQVKLGDFLLMENGQPLDFDRAAAREYLKQKAAGEYLKDDTVLIAVNVGDGIGSGKAWGCDLSYDYVKINAEYTT"
       ]
      },
      {
       "output_type": "stream",
       "stream": "stdout",
       "text": [
        "\n",
        "Tery_0047:\n",
        "8412+, to 24853-, 2 nodes (91.32% id)\n",
        "8411+, to 24853-, 2 nodes (88.17% id)\n",
        "MQILHLNLKLKGDDSVXFRXYWDXPXDXZXFQRSRGEISXLIKKSEAEYYTHLPVXYTQTGQNLYEWLNGDKRDLDRVIXDGSXXXGIVLAIATSEGLSHLPWELLHBGKDFLVNSTPXIVPVRWVPNSRSMKXXXMEDXPKNEALSVAFMPASPHNKPKLDLVAEEIXILKASQESPXSLEIEYSGCLNKLKGLINXHDXGFFDVLHLAGHAENXYFITETESGEAEYSSAXDIAXALLFKNPXLIFLSACRTAYSREXXIPSMAESLVXKGFKAVXGWGDRVLDTSAIAAAXXXYQXLSSGSTVTZAXAXTYRKLIETEKGWHXLRLYVKESLPGALVTXSXXXGRIPPHRKITTLPVKNCYYQXKQCVSILKQDSKKGVLILGKSTITSLYTDALCERLPKSKIVKLNQQIDELEFVNKLASELENSEQRNALCNAFQRGEKLKYSLRDLFKKRNETGLEPL"
       ]
      },
      {
       "output_type": "stream",
       "stream": "stdout",
       "text": [
        "\n",
        "Tery_0058:\n",
        "11854+ to 11854+, 1 nodes (85.59% id)\n",
        "11854+ to 11854+, 1 nodes (91.94% id)\n",
        "YRYSMEFTCLFLTLNLSHNTSELQILFISFFLLTQKLL*WLK*NSKY***IY*FH*LLPNL*LHT*SGKHKL*NAQENVFIVTFPISTLVILIIKKWM*LAQY*RVLTSLIQILKKQILRIQI*QKQNSIAPTYKKLTYRGLSSREPTFGGRISRMPIYGELI*RKLFFGMLI*ERQICGILI*IMPALLMLN*KVQFYPMVLYILT"
       ]
      },
      {
       "output_type": "stream",
       "stream": "stdout",
       "text": [
        "\n",
        "Tery_0064:\n",
        "1128+, to 27615+, 7 nodes (82.59% id)\n",
        "12757+, to 27615+, 7 nodes (82.22% id)\n",
        "1128+, to 27614+, 7 nodes (82.59% id)\n",
        "12757+, to 27614+, 7 nodes (82.22% id)\n",
        "1128+, to 14958-, 7 nodes (81.85% id)\n",
        "12757+, to 14958-, 7 nodes (81.48% id)\n",
        "1128+, to 14966+, 7 nodes (81.85% id)\n",
        "12757+, to 14966+, 7 nodes (81.48% id)\n",
        "1128+, to 22287+, 6 nodes (81.38% id)\n",
        "12757+, to 22287+, 6 nodes (80.95% id)\n",
        "1128+, to 9077-, 6 nodes (81.38% id)\n",
        "12757+, to 9077-, 6 nodes (80.95% id)\n",
        "1128+, to 12314-, 5 nodes (82.54% id)\n",
        "12757+, to 12314-, 5 nodes (82.01% id)\n",
        "7836+ to 7836+, 1 nodes (84.95% id)\n",
        "25285-, to 20217+, 3 nodes (81.60% id)\n",
        "25284-, to 20217+, 3 nodes (84.30% id)\n",
        "11155+, to 15443-, 2 nodes (80.88% id)\n",
        "30527- to 30527-, 1 nodes (87.37% id)\n",
        "18187+ to 18187+, 1 nodes (81.63% id)\n",
        "29596+, to 27427-, 2 nodes (85.27% id)\n",
        "1128+, to 30909+, 4 nodes (80.57% id)\n",
        "12757+, to 30909+, 4 nodes (79.86% id)\n",
        "18179+ to 18179+, 1 nodes (77.78% id)\n",
        "1128+, to 15229-, 4 nodes (80.57% id)\n",
        "12757+, to 15229-, 4 nodes (79.86% id)\n",
        "19078+ to 19078+, 1 nodes (80.65% id)\n",
        "14200- to 14200-, 1 nodes (78.95% id)\n",
        "29030+ to 29030+, 1 nodes (83.16% id)\n",
        "3358- to 3358-, 1 nodes (78.95% id)\n",
        "7568+ to 7568+, 1 nodes (80.00% id)\n",
        "23454+ to 23454+, 1 nodes (79.17% id)\n",
        "5692+ to 5692+, 1 nodes (76.85% id)\n",
        "8911- to 8911-, 1 nodes (78.02% id)\n",
        "11098+ to 11098+, 1 nodes (74.74% id)\n",
        "20597- to 20597-, 1 nodes (83.33% id)\n",
        "5296+ to 5296+, 1 nodes (80.21% id)\n",
        "19847+ to 19847+, 1 nodes (82.11% id)\n",
        "33470- to 33470-, 1 nodes (77.89% id)\n",
        "19040+ to 19040+, 1 nodes (78.95% id)\n",
        "22262+ to 22262+, 1 nodes (77.89% id)\n",
        "24974+ to 24974+, 1 nodes (73.00% id)\n",
        "24335+ to 24335+, 1 nodes (74.31% id)\n",
        "21314+ to 21314+, 1 nodes (75.44% id)\n",
        "32352+ to 32352+, 1 nodes (74.11% id)\n",
        "XBHXXXKXXXXXXXXLXXYXKXXXXQKXXXXKWYXXXNLXXXEXXXKIYXQXXGXXXXFKXXXTXXXNXXISXXX*NXIX*FNFIXXYFXXXLXXXXXXK"
       ]
      },
      {
       "output_type": "stream",
       "stream": "stdout",
       "text": [
        "\n",
        "Tery_0108:\n",
        "13846-, to 7681-, 2 nodes (83.81% id)\n",
        "13847-, to 7681-, 2 nodes (83.81% id)\n",
        "MSENKLLLASNTLWEKLKQQTEYALVSGALEPIPTEYEFVEQDNIPFLVRILSNLSRKDEARKEQEKNKVVTAKDFNPFLPYENDLFVADISRTHLCLLNKYNVVDYHLLIVTREFEEQENLLNLQDFQALGSCMGEFESLAFYNSGKTAGASQRHKHLQVVPLPMVPGGEKIPIDRAIATAKFNNGIGVTSKFPFRHAIAKLDNVWVHSPIESATTILEFYLILLKALGIEGSDGKSGKQSGNYNLLVTREWMLVVPRSYEDFQSISVNSLGFAGTLFVKNQEQMNIIKEHKPLTILRHVASA"
       ]
      },
      {
       "output_type": "stream",
       "stream": "stdout",
       "text": [
        "\n",
        "Tery_0140:\n",
        "1019-, to 1018+, 2 nodes (91.04% id)\n",
        "1019-, to 1017+, 2 nodes (90.55% id)\n",
        "ILSPYQSKLQSWPGLIEAYRSYLPVTEETPVVSLREGNTPLIPVPQIAYQVGRQVEVFVKYDGLNPTGSFKDRGMTLAISKAKEAGAKAVICASTGNTSAAAAAYARRGGMRAFVLIPDGYVAQGKLAQALLYGAEVLAIKGNFDQALEIVQDVANKYPVTLVNSVNPYRLEGQKTGAFEVVDTLGDAPDWLCIPVGNAGNITAYWMGFCTYHQIQKCDRLPKMMGFQAAGSAPIVKGXPIXHPETVASAIRIGNPASWKKAIDAQQASQGGFTAVTDEEILEAYRLLASNEGIFCEPASAASVAGLLKLKDQVPRGAQIVCVLTGNGLKDPDVAIKHSHNBXYHVGIEATTEAVAEIIGL"
       ]
      },
      {
       "output_type": "stream",
       "stream": "stdout",
       "text": [
        "\n",
        "Tery_0161:\n",
        "12047+, to 21612+, 2 nodes (91.59% id)\n",
        "12047+, to 21613+, 2 nodes (90.64% id)\n",
        "MTTETISKRIGVFDSGIGGLTVLRELYRQLPNESILYFGDTARLPYGTRTTEEILQFVDEIIGWLVKSEVKMVLMACNTSSALALEKVKSKFDIPILGLIVPGANAAVEQGKRIGVIATPATAASNAYRHAILEADASVQVWQVGCPYFVPLIEQNQLHDPYTYQIAEEYLXPLIQQQIDTLVYGCTHYPYLEPILRSLLPKSVNFVDPAVSLVKVXARELEIMDLQNXNXPKPTKFVVSASPQKFADLSLQLLGYKPXIQXISLPTIL"
       ]
      },
      {
       "output_type": "stream",
       "stream": "stdout",
       "text": [
        "\n",
        "Tery_0179:\n",
        "15529+, to 2878-, 10 nodes (95.60% id)\n",
        "12486+, to 2878-, 10 nodes (95.93% id)\n",
        "15529+, to 18825-, 10 nodes (94.52% id)\n",
        "4834-, to 18825-, 10 nodes (94.69% id)\n",
        "15529+, to 2879+, 10 nodes (95.76% id)\n",
        "4834-, to 2879+, 10 nodes (95.93% id)\n",
        "19438-, to 2878-, 10 nodes (93.41% id)\n",
        "1989+, to 2878-, 10 nodes (93.24% id)\n",
        "1988+, to 2879+, 10 nodes (94.09% id)\n",
        "863-, to 2878-, 10 nodes (91.71% id)\n",
        "863-, to 2879+, 10 nodes (94.18% id)\n",
        "15995-, to 30016+, 10 nodes (95.05% id)\n",
        "864+, to 30016+, 10 nodes (95.05% id)\n",
        "2850-, to 18825-, 10 nodes (92.31% id)\n",
        "4834-, to 18825-, 9 nodes (94.31% id)\n",
        "12486+, to 2026+, 10 nodes (94.72% id)\n",
        "12486+, to 14632+, 10 nodes (95.18% id)\n",
        "2850-, to 30016+, 10 nodes (93.06% id)\n",
        "12486+, to 4601-, 10 nodes (95.14% id)\n",
        "15529+, to 20362+, 10 nodes (95.51% id)\n",
        "12486+, to 20362+, 10 nodes (95.85% id)\n",
        "15529+, to 30016+, 9 nodes (95.14% id)\n",
        "15529+, to 31354-, 9 nodes (91.65% id)\n",
        "12486+, to 30016+, 9 nodes (95.49% id)\n",
        "12486+, to 31354-, 9 nodes (91.99% id)\n",
        "15529+, to 20361+, 10 nodes (95.48% id)\n",
        "15529+, to 31354-, 10 nodes (91.64% id)\n",
        "12486+, to 20361+, 10 nodes (95.81% id)\n",
        "12486+, to 31354-, 10 nodes (91.98% id)\n",
        "15529+, to 8812-, 10 nodes (91.62% id)\n",
        "12486+, to 8812-, 10 nodes (91.96% id)\n",
        "15529+, to 15913+, 10 nodes (91.97% id)\n",
        "12486+, to 15913+, 10 nodes (92.32% id)\n",
        "863-, to 31354-, 10 nodes (88.06% id)\n",
        "865+, to 8812-, 10 nodes (87.95% id)\n",
        "12486+, to 18825-, 6 nodes (93.63% id)\n",
        "2850-, to 25269+, 10 nodes (88.21% id)\n",
        "28519-, to 9869+, 5 nodes (94.03% id)\n",
        "13116+, to 9869+, 5 nodes (93.79% id)\n",
        "28519-, to 9869+, 5 nodes (93.56% id)\n",
        "13116+, to 9869+, 5 nodes (93.32% id)\n",
        "13115+, to 9869+, 4 nodes (93.68% id)\n",
        "13115+, to 9869+, 4 nodes (93.16% id)\n",
        "MPRKXRXJLXGYSYHXTCRCNNREFRLTRLECRQVFLFALKKXLDKFXFKXYAXCIMSNHXHYLXEXXXPZXLPKIMHWXNWYTAMCFNQMLNRTGHFWEKRYHSTGFKNTDKKRALNTLRYIHANPKAANMQSGFFYDFSNYGTYDRLTDDGXTXWHPAFLSLGKTLDXCAKNYRGFCXKYKPRXKXXXRXXWGSXFLPKVKKKNKKXXKXSPGQMXLPWADWEPPSNLVAEVARQFXLANCYDPZVAMXFFDDQ"
       ]
      },
      {
       "output_type": "stream",
       "stream": "stdout",
       "text": [
        "\n",
        "Tery_0190:\n",
        "33057+, to 23134-, 3 nodes (87.33% id)\n",
        "33057+, to 23134-, 3 nodes (86.77% id)\n",
        "DQEETCELLVIGGGLAGSATAYEALLKGRTVCITEITDWVGGQISSQGTSALDERGTQRSLLFYPRGYLKLRERIEEKYGKLNPGTCWVSVSCFMPYDGHGILFQMLEDAAKKGGGKLKWFPNTVIKELDISNNQINKAIAIQHQPAANTPPINTEALSQIIEDAYAYQNSTRFDKTIIQFVPQPFPNKTGGADWYVVEATETGEIIALADVPYRLGIDPQTYLNPSSPVETRDPYCTQGFTYTFAMEATETPQTHIEPPFYSQYVPYYSYELSRLANFHLVFSYRQIWSMKPDEPQPSNYRKRTIYPGDISMQNWTWGNDYRPGNQEDNLIYXRGQLQATGQLQPGGWMGGLRTETLHRGEENALGYFYWLVEGTTDSQLGEGVKQKYPNHRLLSGLDAPMGTAHGLSKYPYIRESRRIIGRVGKTXPKGFXVXEVDIAKKNFRBDXYQZXLAPDEFNYLWGIVGGFVPKDSQINSIQEIPERGRATIFPDSVGIGHYAIDFHPCMTKTPPEAPGNSERNGIRKGQGAAYPFQIPLRAMIPQKIDNLLVAGKSIATSYIAAAAYRVHSFEWSVGAATGTTIDFALERGIFPYELIDDIPSKEWELEILQSRLQENGNPIAFPKTSIFNNFWDEWK"
       ]
      },
      {
       "output_type": "stream",
       "stream": "stdout",
       "text": [
        "\n",
        "Tery_0222:\n",
        "27247+, to 10370-, 5 nodes (99.25% id)\n",
        "27247+, to 10370-, 5 nodes (99.25% id)\n",
        "27247+, to 10370-, 5 nodes (98.88% id)\n",
        "27247+, to 10370-, 5 nodes (98.88% id)\n",
        "MQLLEFPSYHFPTGVTGRLKEVLLDIVERVEISSDFSIRHPEYKPLDLPAEVVXRFQALPKQMRDKYLSLQLRSFLYGIYYNGSMQTSLALDSEENSRPLDLENNTFLGVEMEFYIQLEESNRGEGYFDSGWSVLREETDGALAVTKNGLRLHIEREKHLQESQKAAVVGDSVAIRMPKNLVQNGFYMAVGNLGSQSQVESESQSGVVRVYFNFTSEGAVVVMGSLTEKLNQVAVPFSFKVLYARDYYDRYDAGVLYFDKDNYELVRQVLSDVYRENKSYFKSEIPLFTMELAPGLGLAEEPDRKFASQESFGMNRCQMIANGLLKAWQQGDNSTEGRMRAILEQFSLLGIDLQRPYLNANSEDVYRVI"
       ]
      },
      {
       "output_type": "stream",
       "stream": "stdout",
       "text": [
        "\n",
        "Tery_0223:\n",
        "12525+, to 1549+, 8 nodes (95.15% id)\n",
        "12525+, to 1550+, 8 nodes (95.15% id)\n",
        "12525+, to 1549+, 7 nodes (94.53% id)\n",
        "12525+, to 1549+, 7 nodes (94.33% id)\n",
        "12525+, to 1550+, 7 nodes (94.53% id)\n",
        "12525+, to 1550+, 7 nodes (94.33% id)\n",
        "12525+, to 1549+, 7 nodes (94.74% id)\n",
        "12525+, to 1550+, 7 nodes (94.74% id)\n",
        "12525+, to 1549+, 6 nodes (94.03% id)\n",
        "12525+, to 1550+, 6 nodes (94.03% id)\n",
        "12525+, to 2267-, 4 nodes (95.49% id)\n",
        "MLQSITITAEDILKHIKLSLKTSELTEEIITRKIILDAAKEAGITVEVEELQKAADTMRFVNKLHSAQDTFAWLEKSCLSIDDFEEAVYISVVAQKLVAHLFADKVEPYFYENQLNYAGVVMYEVVLDDQDLGMELFYAIEEGETSFYDVAHEYIEDIELRRQGGYRGVLYRKDLKPEISAAVFAAKPPQMIKPXVTSKGVHLIXVEEIISAELDNKLRSQIFAELFDEWVKKQVESVEVXMGLDSNSKLIAA"
       ]
      },
      {
       "output_type": "stream",
       "stream": "stdout",
       "text": [
        "\n",
        "Tery_0224:\n",
        "27213-, to 12525+, 5 nodes (95.05% id)\n",
        "27213-, to 12525+, 5 nodes (94.93% id)\n",
        "27213-, to 12525+, 5 nodes (92.63% id)\n",
        "27213-, to 12525+, 5 nodes (91.62% id)\n",
        "MPQELNLTLESNGHKPLEVDLVTLEKSLKNSNYQQTAVTKLDESVDDWSFATKELLDALPQRWTRGLLYLLIGFVAIALPWGMFSQVDETGSARGRLEPQGGTFKQELNLTFTAYTQTAKVEKVYVKQGDKIKAGDILIELESRPIHDRLAQLQIQLQNQKNRLSKIQQQKNQLEIELRTQERQNESQKLEKLAQVGQARQNAQSLKTMYNLQEQEKLTQVHQAEQNLAALRRTLNLQREEKLVQVHQAEENLGALKRALSLQXEEKMAQLNQVKRQLKDSQIAYQLSEIRWQKAMKEVERYRNLWDQGVVTEIQLVENENIGRERQNILEKSQADVEQAKLRIEEQEGSYKRVIHQGKADIKQAELRLAEQKGSYERIINQGEADIEQAELRWAEQKKNYERVVNQVKADIKQAELRLNEQENSSKTITHSGKIAISKIQEQLQSMDSQIVSIQGEIAQTNKEIDSLNFQLEQRVVRAQQGGTIFNFPIKGVGDVVQQGEMIVEIAPRETSLLLKADMATTESGSLREGMEVKMKFDAYPFQDYGVVGGWLKEISPTSKMQETAQGNVAIYELKVELDEYCIPTANECVVLRPGDTATAEVVVRQRPLIDFILDPFKKLQKGGLEL"
       ]
      },
      {
       "output_type": "stream",
       "stream": "stdout",
       "text": [
        "\n",
        "Tery_0227:\n",
        "31864+, to 2343-, 2 nodes (90.17% id)\n",
        "31864+, to 2344-, 2 nodes (88.01% id)\n",
        "MNKEIFEYIYSSQLTKDDEKILKLLFANKQRKEIAKALKCVETNVSHKFKAIAKKFNYLESNQDCKPTEYLVKIFSKYKPDMVDQQLIKSYASYPILMPDKPEEADSPFYIERYQVPRRSVESQCYEAIEKPGSLIRIKAPKKMGKTSLINQIQARANDNNYISQYLRFDLLIEPPNITSVNNFIKAFNKNLISLFPDVSERPNWDDNNAKISCTKDLKSLLLNLHKNFVLILDEVDEIFQYPEITKDFCGMLRHWYEESNNVKIWKNLRIVIAYSTEYHGKLDIYQSPFNVGSSIELKEFTEKEVTRLILLYQLNSEIVTDLMSMVGGHPYLIRLALYSICEEELTIEKFLEEAPTDSGIYRDHFSRHLETINKRPKIKTVFQEILKANDPVSFSDKNREVRQLEAMGLIKIQGNKAKTRCQLYQKYFGEFLA*LKTGVRC*VLGVRF"
       ]
      },
      {
       "output_type": "stream",
       "stream": "stdout",
       "text": [
        "\n",
        "Tery_0244:\n",
        "7889+ to 7889+, 1 nodes (89.12% id)\n",
        "27178- to 27178-, 1 nodes (72.83% id)\n",
        "XFNXTZJLIXXFXKXLXXGYHXTYGGXKXDYXXIIAWAXXMALENIANXDAXYHNVEHTXXVTXVGQEXLRGKHIREGGVSXEDWLHYXISLXCHDIGYXKGVCRXDXXXLXXYAXGXDXXXXXLXXGXTXASXTPYHVDRGKLXIDERFGGHXLIXXXXIKRNXELTRFPXPXXEXXQXXXNXXXLXRAADLIGQLSDPXYLXKISALFYEFEEXGXNKXLGYXXPGDLRXXYXKFYWNXVYXYXXXAJXYLXLTQXGKQIXANLXANVFXVEHXDTVPEAVFV"
       ]
      },
      {
       "output_type": "stream",
       "stream": "stdout",
       "text": [
        "\n",
        "Tery_0254:\n",
        "4639+ to 4639+, 1 nodes (78.26% id)\n",
        "5238- to 5238-, 1 nodes (73.33% id)\n",
        "LELSEKVLEASXKWVXSNXXKAXLLIXLGNNXLSQAQNIANJXPNL\n",
        "Tery_0302:\n",
        "17880+, to 23128-, 2 nodes (94.48% id)\n",
        "17880+, to 23127-, 2 nodes (94.48% id)\n",
        "MVAITDRVKNRLTIETNKIAPDTMAIRSLDWDRDRFDIEFGLQNGTTYNSFIIRGEKTALVDTSHGKFRQMYLDTLWGLIKPTEIDYLIISHTEPDHSGLAKDVIELAPQLTVVGAKIAIQFLENLTHIPFNKQIVKNGDQLDLGNGHVLEFVSAPNLHWPDTIFSYDRKTQTLFTCDAFGMHYCSEKTYDETLSDIEADYKFYYECLMGPNARSVLNAMKRMKTLGDINTIATGHGPLLRHNLVELTNRYEEWSKAKSKAETTVAVFYTSDYGYSDRLSQAIAHGIIKTGVAVEMMDLKSADPQEVRELVEMAKGIVIGAPPSTGLVGTTGEIAISTILAAANKKQAFGLFESGGGDDLSIYPLANQFKELGLKQAFPNITIKETPSELTYKLCEEAGTDAGQLLSLKKTIQQMKSLDNQLDKALGRLSGGLYIITATKGEVSSAMLASWVVQASFQPLGVSIAVAKDRAIEALMQVGDRFVLNVLREDNYQGLMRHFLKRFKPGADRFAGVNTQTANNGSPILSDALAYLECEVASRMEASDHWIIYATVDNGRVSDSDVLPAVHHRKVGNHY"
       ]
      },
      {
       "output_type": "stream",
       "stream": "stdout",
       "text": [
        "\n",
        "Tery_0363:\n",
        "8252-, to 21592-, 3 nodes (76.28% id)\n",
        "8252-, to 21592-, 5 nodes (76.16% id)\n",
        "8252-, to 21592-, 9 nodes (76.07% id)\n",
        "8252-, to 21592-, 7 nodes (76.07% id)\n",
        "MNYAPIDQIYQIFIVVPLTGLWIFGTAIIWPFNHSKNHGKTQIMSWEIFSPKISLAQPLTKPIVPEPNSTDTVVTPVTPSNNSAQTRFDITGGKYSEDNANLFHSLTRFNLGEKQIVNFISNPNIRNILTRVTGGEASIINGLIQVTGGNSSLFIMNPAGIIFGANSRLDVPRSFVVTTGLSIGFDDGWFNAVGENNYNILTGNPSTFSFPMTNSGVIINEGELTVEAGESVTLLGGTIINTGKISAPGGEITISTVPGENFVRISQEGRLLSLEIPTESSEISSTNHTEELQAFNYLLIPELLTGKSKNIEIATTIIVNDDNQIFLVGSNQVIPTDSGTTIVSGTLDISSAENSEFLNTSRINILGEKVGLFDANLNASGIYGSGNIRIGGDFSGLATVPNATRTYVDEKTKISATSSLGEGGNIVISSAEETIFFGKIEAISYVIEESRLVEPNSRKNIVEVSSQGTLIFDGTVNLGSPNTLGNLSLKSENIEILDGNIALEDNPLTGEAQTESQIAKSSIETISNTNIRIEASDNITIRDLSEAELNFSNVRGQISFIADSNQNDLGSFRIDSENTINTQGAGISIFGTTINTNNINTKGGELNLSSSQGFVMTNNLSTANLNTTVETNGGDININAQGDVITGEISSSGESSGGNININSQTGRIEITAVDIDTTSSNGRGGNVSMNAATDIDIENINAKGKQSGGNLDLRAENTLDLRVISTSSDNRETGNISLTGREINLLGGENSISSNGKLTLHSASENQNITLGGFENTAALNLTTSDLATLANGFASITIGKSENSGIITIYSPENSNNSGVRFRSPATIQAESITGTGTITGTDDAKITLNAKGDILTGNISAPGDISITSIQGKIKTGDVSANILENTIGNIDIVSGGAIETGELTTIGRTTGGNINLQAGDRLKTGKINSSATPGNAGEIKLSAENDIEVFSIRAEGGNIGANVEISTGSTLKIKDSFLSQNQNIASISTAGELAGGDINISTGKTFTVGDVTTNGSVGAITDGKITVSPDRSLPNRFNLKKVENSQPQNNNSSQTTTETESQTQKSQSQLDSAESSNSQEDNQTSLVTQTESSNSQEDNQTSLVTQXESSNSQEDNQTSLVTQTESSNSQEDNQTSLVTQTESSNSQEDNQTVVITQPKLVEASDNIEVEITQIPIEKDNEPSLNTNQEVQIVSQNPEPSLPILESSEMTNSVRENINNIESSISLKEQTSPALLLVVEDQHETIIELEQTNNSQLIPELLENPELTKIPEDNNSNITPPVSNILEDTNSSVTPSVSDQTVVIENPSLGKSLQKQTPTIVVEENITTTVPEISSHNFHQISLTDTVSQIELVRHREYISYLGKNISRRIATETDIRNTLSSVAKIGIRPVIVYVSAQPNYLELQLFLPNGKSVVTGIVKNRDEVIEVAKKFTNQIRTPSRLDSHDYLSNAQELYQWLITPIAEKLVENNINMIIFSMGRGLRTLPVAALHDGQQFLVEKYSLGLIPNFTLTNTEYVGLKGSQILAMGASEFSDQANQTPLPAVPVELKAIVNNLWPGKAFLNQEFTLENLKQERRKEKFRIIHLATHGEFHPGGADNSYIQFWDTKLSLKELGQLPLHEPQVELLVLSACTTALGDERAELGFAGLAHKAGVKSALASLWYVSDTGTLILMTEFYQHLSKKLIKAEALQKAQLAMLRGDVYIQDGHILRNGNQGIPLPQELARRVDKDLSHPYYWAAFTMIGSPW"
       ]
      },
      {
       "output_type": "stream",
       "stream": "stdout",
       "text": [
        "\n",
        "Tery_0369:\n",
        "13467- to 13467-, 1 nodes (96.98% id)\n",
        "23737- to 23737-, 1 nodes (82.91% id)\n",
        "MLXZBXXMTXQXFXXXLDEIIEKQHLLKHXFYQMWNZGKLSLXMLQEYAQEYYLQVHYFPTYXSATHAACDDLEIRKMLLENLIEEEMGXANHPELWLRFAEGLXVXRXAVXERZHLXKTXESVXJXXZLXXSXNPAXGLAALYAYESQIPEVATTKIAGLKEFYGIBSEAALXFFKVHEKADEIHSXXTXEALVKLCETBAQKQEALTAAAXAVDALNLLLDGVYEEYCQXVN"
       ]
      },
      {
       "output_type": "stream",
       "stream": "stdout",
       "text": [
        "\n",
        "Tery_0370:\n",
        "34043+, to 13467-, 5 nodes (89.78% id)\n",
        "34043+, to 13467-, 5 nodes (89.52% id)\n",
        "34043+, to 13467-, 5 nodes (89.25% id)\n",
        "34043+, to 13467-, 5 nodes (88.98% id)\n",
        "LSGYLIYHPPRVVSDFESTRVYYDNTNGNQDPYVWNQKFLHTYCHITQMSPQVGNINFWISGDTFPDFSSLYCDLVFVVAEKLYWENPNTIKASDPIVDTDEAYNDHYSWFEQHHYXRRRRFTLKADPESSFQPQNISQELIDIVPFLXEEGFSLTQLRKNLRSGFNSKPMGLGLIATKLYSWLNQYANVKLSGAKLQKIRQENPYLTSARANSSCTKSSPRKSRSC"
       ]
      },
      {
       "output_type": "stream",
       "stream": "stdout",
       "text": [
        "\n",
        "Tery_0377:\n",
        "14971+, to 29732-, 6 nodes (97.82% id)\n",
        "14971+, to 29732-, 6 nodes (97.82% id)\n",
        "14971+, to 4709-, 6 nodes (97.82% id)\n",
        "14971+, to 4709-, 6 nodes (97.82% id)\n",
        "14971+, to 29732-, 6 nodes (97.51% id)\n",
        "14971+, to 29732-, 6 nodes (97.51% id)\n",
        "14971+, to 4709-, 6 nodes (97.51% id)\n",
        "14971+, to 4709-, 6 nodes (97.51% id)\n",
        "MNTNNRHYHITTFGCQMNKADSERMAGILDNMGLISSEDPNKADIILYNTCTIRDNAEQKVYSYLGRQAKRKHKQPDLTLIVAGCVAQQEGEALLRRVPELDLVMGPQHANRLQDLLEQVFNGNQVVATEPIHIVEDITKPRRDSKITAWVNIIYGCNEHCTYCVVPSVRGVEQSRTPEAIRAEMEELGRQGYQEITLLGQNIDAYGRDLPGVTKEGRNKYTLSDLLYYVHDVPGFERIRFATSHPRYFTERLIRACAELPKVCEHFHIPFQSGDNKLLKAMARGYTHEKYRRIIDXIRELMPDASISADAIVGFPGETEAQFENTLKLVEDIGFDQLNTAAYSPRPGTPAALWENQLSEEVKADRLQRLNHLVGVKAAERSQRYMGRIEEILVEDTNPKNAAQVMGRTRGNRLTFFEGDIAQLKGKLVKVKVTEVRPFSLTGEVKEFVLV"
       ]
      },
      {
       "output_type": "stream",
       "stream": "stdout",
       "text": [
        "\n",
        "Tery_0378:\n",
        "16606-, to 17176-, 4 nodes (96.52% id)\n",
        "16606-, to 17177-, 3 nodes (96.31% id)\n",
        "16606-, to 17176-, 3 nodes (95.87% id)\n",
        "VFEKFSQGRWLILSIFLTVLGNPVKVSGHPVLISSQDPETARTFWPSRTQTSSLAQVPDPIPPKTPEAPLPKFPIQIESPQLDITPPEASGNESESPEPYLRVKINKFEFVGYTAFTKEELEEVVKPFTQRPITFAELLQAEKAVTDKYVQAGYINSGAVILAGQNLKDGVVRIQIIEGEIEDIQVTVTGRLNPNYVRSRLVLATGKPFDQYKLLRALQLLQLDPLIAIIKAEVSAGPLPQASLLTVSVTQADSFSIESFANNSRAPNVGSFQRGLRLKQGNLLGFGDGLNASYTNSDGSNNFSFNYTIPFNARNGRIQLTTELTDTRVVESPFDDLDIMGESQYYELTVRQPIVQFPTQELALGLTFYRQNRESELLGEPFPLSPGANEKGETRISAIRLFQDWVKRNQAEVFAVRSQFSLGVGAFNATINDDLPDSRFFSWRGQGXYVRRLAKNSDSLLVVRTNIQLADRGLLPVEQFRIGGVNSVRGYRQDLSFTDNGLFLGTEXRLPIMRWDNVEGVLQIVPFVDFGVGWNSSDLPEPEHNSLXGVGFGLLWQMSDRLSARFDWGIPLMDVTSEEKTLQENGLYFTIDAKF"
       ]
      },
      {
       "output_type": "stream",
       "stream": "stdout",
       "text": [
        "\n",
        "Tery_0381:\n",
        "33118+ to 33118+, 1 nodes (96.58% id)\n",
        "12814+ to 12814+, 1 nodes (76.43% id)\n",
        "MNQNKLVXXGXSXAAFTIXXSVASLIIYSPSXQGQXPSLILBSDSVKVKLLSXKKTDKKNDXDNIDFSGTGRPNTRXXGGTXNPXCPXVDXXMTALVPEXMGLTVSNSPTFWFYIPYNSZXVQTGZFVLQDEXGEXDIYRTTFNFSXTPGIVSJPLPENLPKSLEIERPYLWXXXVFCXPEDXDXNXXLEGYVXRVKGNSNFQXYXDYAXKGIWHDALXDLAERRXXXPQXPKLXXXWKXLLKAXXLEXXAEEPXXXCCXPEK"
       ]
      },
      {
       "output_type": "stream",
       "stream": "stdout",
       "text": [
        "\n",
        "Tery_0382:\n",
        "9876+, to 33118+, 2 nodes (96.16% id)\n",
        "25421+, to 33118+, 2 nodes (95.05% id)\n",
        "KRHGICHQQVMERRRALLIGITIFGEGLDNFSPTLEDVQVMKKCLEEKGGFEVIXEENLDRKDMEYVINKFFYESQKSDTLLIYVSSHGITDAEGTFYIATSDTSYDRDTEIITGAIEASYFHRQIKNCTSNSQVWLLDLCYSGAFVRGYSKGKNDSAENLLIQQLLNQKQRYQAISKGISSDNSVEIQQKEGLVIITSSAGDQKSYFMENQSDLSIFTYYAQLALNGDAANEEGKVTVDSFYKFLEVNIPKYVKDNIPKFKYGSGMKPEIHILHGEAYDIVLAKTQLEQKLQFRRNESKENLFKCKYQIEKPKNKLGIAQEEPEIIFKELPNTNLKREINQGQYQQKSFKILKSYTILSIVLLVSIFITTLVTKPPERVQQFKLQAFDQMMRWRPDEGPDKRLLIVTVTPEDIKYQKEMGWEIGGESLSDQAIIKVLDKLNTYKPLVIGLDIFRDFPAKDEHLKTQLAQNKSLIAVCKIKEEKNNSIGIEPPPEIQEKQRIGFADFPQDSGGVIRRQLLGMSIPENSLCSSYSFSLRIAIRYLKEKGIENRLGEFNQGNLKINEVPFHKLEKDAGGYHLPKREALGYQILLNYRSSEKIAETMTLKELLDGSRDSKLADLVKNKIVLIGTDAAEVGYEDMHLTPYNKKIPGIMIHGHMISQILSAVLDGRTLLWWWPQALENLWVWGWSFIGGILGICWSRQVFGRWFIWMTVVAVPVTLWGICFLVFIEIGGWLPLVPSILGFFLTGITIIVYHQTINDSIFL"
       ]
      },
      {
       "output_type": "stream",
       "stream": "stdout",
       "text": [
        "\n",
        "Tery_0383:\n",
        "9876+ to 9876+, 1 nodes (96.92% id)\n",
        "25421+ to 25421+, 1 nodes (77.10% id)\n",
        "MNNISXVKLIITLXXXDSBRLEXETIKLLKXMKQLKLXNVIEKVKRILEPEXNSSEXNKAGGGYLPGXJEXELEXXEEXXXRXMSLVDEKTNGKYKVQXFRXDGTLIXQAERQNCSDEEFYXLJXXXKNMM\n",
        "Tery_0385:\n",
        "12121+, to 14642-, 3 nodes (97.53% id)"
       ]
      },
      {
       "output_type": "stream",
       "stream": "stdout",
       "text": [
        "\n",
        "30696+, to 14642-, 3 nodes (97.76% id)\n",
        "12121+, to 11007-, 3 nodes (94.62% id)\n",
        "30696+, to 11007-, 3 nodes (94.84% id)\n",
        "32509+, to 26124-, 8 nodes (77.64% id)\n",
        "32509+, to 26124-, 8 nodes (77.64% id)\n",
        "32509+, to 3667-, 9 nodes (75.91% id)\n",
        "32509+, to 3667-, 9 nodes (75.91% id)\n",
        "32509+, to 11244+, 9 nodes (77.13% id)\n",
        "32509+, to 11244+, 9 nodes (77.13% id)\n",
        "32509+, to 26124-, 8 nodes (77.27% id)\n",
        "32509+, to 26124-, 8 nodes (77.27% id)\n",
        "32509+, to 3667-, 9 nodes (75.57% id)\n",
        "32509+, to 3667-, 9 nodes (75.57% id)\n",
        "32509+, to 11244+, 9 nodes (76.77% id)\n",
        "32509+, to 11244+, 9 nodes (76.77% id)\n",
        "32509+, to 3667-, 8 nodes (75.32% id)\n",
        "32509+, to 3667-, 8 nodes (75.32% id)\n",
        "32509+, to 11244+, 8 nodes (76.61% id)\n",
        "32509+, to 11244+, 8 nodes (76.61% id)\n",
        "32509+, to 3667-, 9 nodes (75.41% id)\n",
        "32509+, to 3667-, 9 nodes (75.41% id)\n",
        "32509+, to 11244+, 9 nodes (76.72% id)\n",
        "32509+, to 11244+, 9 nodes (76.72% id)\n",
        "32509+, to 26124-, 7 nodes (78.11% id)\n",
        "32509+, to 26124-, 7 nodes (78.11% id)\n",
        "19594- to 19594-, 1 nodes (73.20% id)\n",
        "MXBXXKXTXXIDSLFWXEWQKHQXYLYRCCVKWMGGNSTNAEDALSMAMXKAREKIQXCXXXIZNFKAWLXKLTYNLCMDLLKXXXXYXQXVEXLDLVXSXADGSTQGXDPXXVXXYZELEDFXXLAIDDLPKRLRETFVXXXXXQXSXXEIXXELXISXXNVRKRISXGRAILXKRRQXEYEKQEEIVIVEXXKXEXSXXQELXXXXVXXEIPQEXXLSEXKSEPJLXEAXVEEELREIETXXXGXQQLXXLSXXXKXLRXXXKKXKGXKQQKXXLXSXXXNIXLALLRGRMNISGVXXLXXQXYXEXXXWLXHKXJEXXXHYLYNFGXXXLKXLEKQLNWXXXXXXXXXXAKNYQRFXXXXXXXXXX"
       ]
      },
      {
       "output_type": "stream",
       "stream": "stdout",
       "text": [
        "\n",
        "Tery_0388:\n",
        "25849-, to 1507+, 3 nodes (91.62% id)\n",
        "25848-, to 1507+, 3 nodes (91.62% id)\n",
        "1506-, to 1507+, 2 nodes (88.98% id)\n",
        "2022- to 2022-, 1 nodes (95.29% id)\n",
        "XSXFSQFTPTLXLXXAIISTILTTAYLTPVLAEIPKWSTSATDLKPPSKKLASXPXPTXXSLKKTEKFNHTLRPXLYYXAKYRCR"
       ]
      },
      {
       "output_type": "stream",
       "stream": "stdout",
       "text": [
        "\n",
        "Tery_0392:\n",
        "15012-, to 19610-, 5 nodes (98.32% id)\n",
        "15012-, to 19610-, 5 nodes (98.32% id)\n",
        "15012-, to 19610-, 5 nodes (97.84% id)\n",
        "15012-, to 19610-, 5 nodes (97.84% id)\n",
        "VQITKRNINLTVDDSLMRVYVATPKPPGTYPGIIFYSDIYQLGGPIIRLANYLAGYGYVVAAPEIFHRTESIGLVIEPDDLGRMRGNDNARRTAVPEYDADTQAVIEFLKAESSVAADQIGAMGFCIGGHLAFRAAFEKEIKATVCCYPTGIPSGKLGKGVADTIKRVSEIXGEILIVFGSKDPHTPEGDRQTIIQTLEQTGVTHKIFLYEAEHTFMRDDGYRYDSVATTKAWSEITPFFNSVFKNNGNK"
       ]
      },
      {
       "output_type": "stream",
       "stream": "stdout",
       "text": [
        "\n",
        "Tery_0419:\n",
        "31783+, to 23032-, 2 nodes (83.55% id)\n",
        "31783+, to 19+, 3 nodes (83.47% id)\n",
        "31783+, to 18+, 3 nodes (83.47% id)\n",
        "25572+, to 5787-, 2 nodes (74.22% id)\n",
        "MNSILKKXXESXEINQKLQQVQQQKRLMVIDXRVENYXQLXTGVTPETKVALIDPNXDGIEQITXLLSNYPTNSLHIVCHGXPGILYLGKTPIXEZNJPKYTGYLQEWGIXDILLYSCNIASXSBNXJQLLHKFTGANIAASXHPVGNPLKGGTWDLESRIGSVASEIAFLPQVIQYYPGVFHGLQFYJGQDETGKXRAYLGKDBRXSNGYTNLFSBDYLTLXXVGIXDXRXXXXXDTAFXYXYTBNASXFPGFTPQXXMFYETPXDGSPADDSFDRERNTYFQVNFLDELKVWBGXBFVXTGGEVMTWXQZXXXVXBXXZXYXEXXNEVTTGEGVVEGXPYYYXXXXXAGXDHWHYVMELQEGTSXTGIDBGLYLLXXZVETNIPNSIPSDPXYILYNQNLSPAPDADQXTILXAQXYLLEXXGXTEPAQEFKAFLBSSQNDGVESDATGXAXFXLNAEQTEIEYTIZLNGLDLIEDPAXRXADNAXXXIXXHHRXYGXBGXHVXNXFGXXSEDDBNIEIBYENEXITGKWDWSDAAXNFXRHSEPKSXGXYGDXKXPELKIEVXZAYBNGNGXLGIKLRDGEPZDELBIFEGTQLXFBNGXXVXITENITIXKXESSXXKANILEGDBIXAGXIAILPPAQXXXTTPVXTSLXXLFHGNLYVQVXTNXNXXPGDIRGQILPXRTLADAXXNVLSGGTGNELFELBAADVGGXXIXEXAGRETLXLEGXETSXSNLHRXDNDLIIDXNQDGSFQTXEDLTLKBFFABZXGXVGKGYIELVDGISGSEIXTSISSSENDLLHGTSADNVXXXDSGXDXXFGFAGNDKLYGNXGNDZLYGGBGDDXLHGGKXXDXXIGXXGBDXXFGXKGNDLLEXNEGDDLLXGGZGDDTLXGGXGXDXFXXAXXKTFSQANXGXDXIXDFVSGQDRITLDVNVFTAIATTTGESLDGSEFAVVXBXIDXFSADATIVYNSANRTLYYNPNRIENGLGDGXXXXIFSNEVSLDADDFLVXA"
       ]
      },
      {
       "output_type": "stream",
       "stream": "stdout",
       "text": [
        "\n",
        "Tery_0424:\n",
        "25572+, to 5787-, 2 nodes (83.25% id)\n",
        "31783+, to 19+, 3 nodes (76.89% id)\n",
        "31783+, to 18+, 3 nodes (76.89% id)\n",
        "31783+, to 23032-, 2 nodes (76.74% id)\n",
        "MNSILKKXXESXEINQKLQQVQQQKRLMVIDXRVENYXQLXTGVTPETKVALIDPNXDGIEQITXLLSNYPTNSLHIVCHGXPGILYLGKTPIXEZNJPKYTGYLQEWGIXDILLYSCNIASXSBNXJQLLHKFTGANIAASXHPVGNPLKGGTWDLESRIGSVASEIAFLPQVIQYYPGVFHGLQFYJGQDETGKXRAYLGKDBRXSNGYTNLFSBDYLTLXXVGIXDXRXXXXXDTAFXYXYTBNASXFPGFTPQXXMFYETPXDGSPADDSFDRERNTYFQVNFLDELKVWBGXBFVXTGGEVMTWXQZXXXVXBXXZXYXEXXNEVTTGEGVVEGXPYYYXXXXXAGXDHWHYVMELQEGTSXTGIDBGLYLLXXZVETNIPNSIPSDPXYILYNQNLSPAPDADQXTILXAQXYLLEXXGXTEPAQEFKAFLBSSQNDGVESDATGXAXFXLNAEQTEIEYTIZLNGLDLIEDPAXRXADNAXXXIXXHHRXYGXBGXHVXNXFGXXSEDDBNIEIBYENEXITGKWDWSDAAXNFXRHSEPKSXGXYGDXKXPELKIEVXZAYBNGNGXLGIKLRDGEPZDELBIFEGTQLXFBNGXXVXITENITIXKXESSXXKANILEGDBIXAGXIAILPPAQXXXTTPVXTSLXXLFHGNLYVQVXTNXNXXPGDIRGQILPXRTLADAXXNVLSGGTGNELFELBAADVGGXXIXEXAGRETLXLEGXETSXSNLHRXDNDLIIDXNQDGSFQTXEDLTLKBFFABZXGXVGKGYIELVDGISGSEIXTSISSSENDLLHGTSADNVXXXDSGXDXXFGFAGNDKLYGNXGNDZLYGGBGDDXLHGGKXXDXXIGXXGBDXXFGXKGNDLLEXNEGDDLLXGGZGDDTLXGGXGXDXFXXAXXKTFSQANXGXDXIXDFVSGQDRITLDVNVFTAIATTTGESLDGSEFAVVXBXIDXFSADATIVYNSANRTLYYNPNRIENGLGDGXXXXIFSNEVSLDADDFLVXA"
       ]
      },
      {
       "output_type": "stream",
       "stream": "stdout",
       "text": [
        "\n",
        "Tery_0427:\n",
        "19754-, to 31192-, 3 nodes (73.00% id)\n",
        "19754-, to 9121-, 3 nodes (73.00% id)\n",
        "21471- to 21471-, 1 nodes (72.41% id)\n",
        "2459+ to 2459+, 1 nodes (72.36% id)\n",
        "IDPLXFVLHXXXXFGMXXXXESFITFLFVXLSXXARXXTXXX*LKL*PHLXQLXGLMFXXYPVAYXVNPTTRXXEXHXQG"
       ]
      },
      {
       "output_type": "stream",
       "stream": "stdout",
       "text": [
        "\n",
        "Tery_0430:\n",
        "5900+ to 5900+, 1 nodes (76.81% id)\n",
        "5899+ to 5899+, 1 nodes (73.91% id)\n",
        "14596- to 14596-, 1 nodes (76.12% id)\n",
        "18120+ to 18120+, 1 nodes (77.61% id)\n",
        "13746+ to 13746+, 1 nodes (71.64% id)\n",
        "10097- to 10097-, 1 nodes (77.61% id)\n",
        "2839+ to 2839+, 1 nodes (74.63% id)\n",
        "19754+ to 19754+, 1 nodes (73.13% id)\n",
        "17442+ to 17442+, 1 nodes (74.63% id)\n",
        "21227- to 21227-, 1 nodes (70.15% id)\n",
        "13744- to 13744-, 1 nodes (74.63% id)\n",
        "10097- to 10097-, 1 nodes (73.53% id)\n",
        "10368+ to 10368+, 1 nodes (74.63% id)\n",
        "1354- to 1354-, 1 nodes (73.13% id)\n",
        "13745- to 13745-, 1 nodes (71.64% id)\n",
        "27132- to 27132-, 1 nodes (71.64% id)\n",
        "2459- to 2459-, 1 nodes (76.12% id)\n",
        "10097- to 10097-, 1 nodes (72.06% id)\n",
        "18807- to 18807-, 1 nodes (74.63% id)\n",
        "2459- to 2459-, 1 nodes (74.63% id)\n",
        "2839+ to 2839+, 1 nodes (70.15% id)\n",
        "8508+ to 8508+, 1 nodes (70.15% id)\n",
        "4049-, to 6608-, 3 nodes (71.21% id)\n",
        "878-, to 6607-, 4 nodes (70.31% id)\n",
        "5157+, to 6608-, 4 nodes (70.31% id)\n",
        "MXKXKTLKXXXXXXXXXXXVXXBXXXXXXXXXXXXXXXXXBXXXXXXXXXXFKLQXXIYXASXXGXIKX"
       ]
      },
      {
       "output_type": "stream",
       "stream": "stdout",
       "text": [
        "\n",
        "Tery_0444:\n",
        "10712-, to 7629-, 3 nodes (91.95% id)\n",
        "10713-, to 7629-, 3 nodes (91.81% id)\n",
        "10712-, to 33846-, 3 nodes (91.70% id)\n",
        "10713-, to 33846-, 3 nodes (91.56% id)\n",
        "GS*IKVSTNALSNKQTKKXAPVFEFVQYXSKVTAGTVLGITMLTSSLVAGGLVGLAISFRNLPDVRVLKNYTPSETTRIYDIKGRPLASIHDEANREVIPINQISPDLKRAVLAIEDSNFYNHLGIYPIGIIRAFVANLEQGKTVEGGSTVTMQLVKNLFLSPTAKLSRKVAEAVLAIRMEQIMAKNEILELYLNQIYWGHNLYGVETAAQSYFNKSSKDLTLAEAALMAGMIPAPEEYSPFINYQKSKQRQATVLARMRELNWITAEEEAEAREQRLLVGKVTSFRESRLPYITNAVIQELTERFDKDAVMKGGMRIQTTIDMNFQRMAEKTVSEWHKILYYRGLYRSWDKGQLALVAVDPRTHFVKAMVGGADFXTSQYNRAIQARRQPGSSFKPFVYYAAFASGRFSPSSVVRDXPVSYPDGRGYYSPRNYGGGYSGSVSIRKALQSSMNIPAVKXGQTIGLNRVIEVCRILGIQSPMEPVISLPLGSVDLTPLEMAGAYATFANNGWHSDTTFIVQVTDTSGNVLLDNTPKPKLVLNQWAVASLNSVLVGVIERGTGTRAXISHQAAGKTGTTSSERDVWFVGYTPQLSTAVWVGNDDYRPLNYGATGGTTVAPIWRNFMNQAMSGMRKEYFPPAXNFRNBRP"
       ]
      },
      {
       "output_type": "stream",
       "stream": "stdout",
       "text": [
        "\n",
        "Tery_0455:\n",
        "17857-, to 11146-, 4 nodes (89.70% id)\n",
        "17857-, to 11146-, 5 nodes (89.61% id)\n",
        "17857-, to 11146-, 4 nodes (89.05% id)\n",
        "MCGIVGYIGTQLATEILLSGLEKLEYRGYDSAGVATVCDGQIQSVRAKGKLYNLREKLVGVEMSANIGIGHTRWATHGKPEEYNAHPHRDDTERVAVVQNGIVENYRELRKELEAQGHKFVSDTDTEVIPHLIAEFLSNFAGNQKGETGRRENFLQAVRQTVNKLDGAFAIAVICADYPNEIIVARQQAPISIGLGQGEFFCASDTPALISHTQVVVSLENGEMARLTPLGVEVYNFEGDRVNKLPRILNWSPTLVEKNIFKHFMLKEIHEQPNVIRSCLDAYINSDWDVQNIQISPTNLELSPSLYKNLEKVEIFACGTSWNASLIGKHLLEQLAGISTTVSYASEARYAPCPLRENTLIIGVTQSGETADTLAALGMEQQRRLDKAVNFTSRFLGITNRVESSITNLVDEVIDIRAGIEIGVAATKTFIAQVMVFYFLAIDLAWQRQYLSGERIREIIDGLKKIPVQMEEMLEVQDSQIEDFAHQFNDTQDFIFIGRGINYPIALEGALKLKEISYIHAEGYPAGEMKHGPIALLDDKVPVVAIAMPGLVYEKVLSNAQEAKARNAQLIGVTPESTEADVFDNVLAVPAVDELLSPMLTVIPLQLLAYHIAAHRGLDVDQPRNLAKSVTVE"
       ]
      },
      {
       "output_type": "stream",
       "stream": "stdout",
       "text": [
        "\n",
        "Tery_0465:\n",
        "30225+, to 23966+, 10 nodes (77.21% id)\n",
        "30225+, to 7122-, 10 nodes (77.04% id)\n",
        "30225+, to 20054-, 10 nodes (76.98% id)\n",
        "30225+, to 28903+, 10 nodes (77.99% id)\n",
        "30225+, to 33840+, 10 nodes (75.84% id)\n",
        "30225+, to 31944+, 10 nodes (75.69% id)\n",
        "30225+, to 31943+, 10 nodes (75.83% id)\n",
        "30225+, to 23966+, 9 nodes (76.19% id)\n",
        "30225+, to 7122-, 9 nodes (76.01% id)\n",
        "30225+, to 20054-, 9 nodes (75.90% id)\n",
        "30225+, to 33840+, 9 nodes (74.73% id)\n",
        "19873+ to 19873+, 1 nodes (76.96% id)\n",
        "MMMTNRFIKIGAAXELLGVSIDTLRKWELSGELIPDRKSQAGTRFYDXSKLINLGDXDSPTICYARVSSHDQKVDLEXQQAMLETYCXAKGWIFEVIKDLGSGMBYXKKGLQKLLEKILRKQTKXLVLTHKDRLLRFGXELVFSFCELQGIEXVIINKGEQPSFEEELXQXVLEIITVFSARLYGXXSKKXKKTITGXTXGSXSSCRKX**SCY*D"
       ]
      },
      {
       "output_type": "stream",
       "stream": "stdout",
       "text": [
        "\n",
        "Tery_0469:\n",
        "4436-, to 10994-, 9 nodes (70.64% id)\n",
        "4436-, to 22803+, 9 nodes (70.64% id)\n",
        "5045+, to 10994-, 10 nodes (70.34% id)\n",
        "5045+, to 22803+, 10 nodes (70.34% id)\n",
        "32911+, to 10994-, 10 nodes (70.34% id)\n",
        "32911+, to 22803+, 10 nodes (70.34% id)\n",
        "22603-, to 10994-, 9 nodes (70.69% id)\n",
        "22603-, to 22803+, 9 nodes (70.69% id)\n",
        "22602-, to 10994-, 9 nodes (70.69% id)\n",
        "22602-, to 22803+, 9 nodes (70.69% id)\n",
        "4436-, to 10993-, 8 nodes (70.39% id)\n",
        "5045+, to 10993-, 9 nodes (70.05% id)\n",
        "32911+, to 10993-, 9 nodes (70.05% id)\n",
        "22603-, to 10993-, 8 nodes (70.41% id)\n",
        "22602-, to 10993-, 8 nodes (70.41% id)\n",
        "LGFTVRQWEVKSTRLGFKTLIKPSSKSXKTHYRKLAEICDKYKSAPVEALIAKLNPVIRGWANYYSSVVSKETFDTLDNLLWRRLWRWAKRRHPNKPSAWVKTKYFSPPKPETGF*IKVNMY*TSTRMYLLYGTIRLEVINHPMMETGFIGVXKXVNTPA*ELE*PNY*KVRRINAHLAD*ISGQR"
       ]
      },
      {
       "output_type": "stream",
       "stream": "stdout",
       "text": [
        "\n",
        "Tery_0497:\n",
        "509- to 509-, 1 nodes (81.25% id)\n",
        "509- to 509-, 1 nodes (76.60% id)\n",
        "MTQVLLGENEGIESALRRFKRQVSRAGILADVKKRRFFETPQEKRKRKA\n",
        "Tery_0510:\n",
        "3793+, to 15505-, 7 nodes (75.80% id)\n",
        "3792+, to 15505-, 7 nodes (75.80% id)\n",
        "26508+, to 15505-, 7 nodes (75.80% id)\n",
        "17478-, to 15505-, 7 nodes (75.80% id)\n",
        "3793+, to 15505-, 7 nodes (75.80% id)\n",
        "3792+, to 15505-, 7 nodes (75.80% id)\n",
        "26508+, to 15505-, 7 nodes (75.80% id)\n",
        "17478-, to 15505-, 7 nodes (75.80% id)\n",
        "3793+, to 15505-, 7 nodes (75.37% id)\n",
        "3792+, to 15505-, 7 nodes (75.37% id)\n",
        "26508+, to 15505-, 7 nodes (75.37% id)\n",
        "17478-, to 15505-, 7 nodes (75.37% id)\n",
        "3793+, to 15505-, 7 nodes (75.37% id)\n",
        "3792+, to 15505-, 7 nodes (75.37% id)\n",
        "26508+, to 15505-, 7 nodes (75.37% id)\n",
        "17478-, to 15505-, 7 nodes (75.37% id)\n",
        "VKVLVTGIGLTSALGNLYQSWEKILQGKSAIRLHRPFAELPLLPLALINSGPIELPWLIRQVVGTTVKSSGLTVPLPECGVVIGSSRGYQGMLEVWAKXHFFQDCKQDDLEKDYGSFXNLLPHQPAIFAASQIGARGTVLAPMAACATGIWAIARGFELIKTGQCQRVIVGAVESPITPLSIGGFKKMGALARTGAYPFDRYREGLVLGEGAAILVLESPELARQRRAKIFGQIRGFALTNDASYGTKSEVSGKGARLAIAQCLARSGLAPEDIDYIHAHGTATELNDRYEANLIQEVFPLKVAVSSTKGATGHTLGASGALGAVFCLMAIAHQVLPPCVGLNDPEFDLDLVRCARRSRVDNILCLSFGFGGQNAALVLSKV"
       ]
      },
      {
       "output_type": "stream",
       "stream": "stdout",
       "text": [
        "\n",
        "Tery_0511:\n",
        "29489+, to 3793+, 3 nodes (85.07% id)\n",
        "29489+, to 17478-, 3 nodes (85.07% id)\n",
        "29489+, to 3792+, 3 nodes (84.77% id)\n",
        "29489+, to 26508+, 3 nodes (84.77% id)\n",
        "MQRKISQWLFLVLVVTNLLVTGCSATSAPNTEVSTSNLSSRTQLAAKYSYLPKLNGKATVVMTVNGSPITIEVDGINAPLTAGNFVDLVQKGVYDGLAFHRVVREPEPFVVQGGDPQSKDLDVPINNLGTGGFIDPKTSKERYIPLEIKPQQATEPVYSKTFEAAGVKEGPVLSHTRGAVAMARSQPPDSASSQFYFALTDLPFLDGSYAVFGYVTQGMKEVVDQIEAGDRIESAEVVEGIENLTXKTNSSQS"
       ]
      },
      {
       "output_type": "stream",
       "stream": "stdout",
       "text": [
        "\n",
        "Tery_0513:\n",
        "12018+, to 2940-, 7 nodes (96.48% id)\n",
        "12018+, to 2940-, 7 nodes (96.48% id)\n",
        "16665-, to 2940-, 7 nodes (96.32% id)\n",
        "16665-, to 2940-, 7 nodes (96.32% id)\n",
        "12018+, to 2940-, 7 nodes (96.32% id)\n",
        "12018+, to 2940-, 7 nodes (96.32% id)\n",
        "16665-, to 2940-, 7 nodes (96.16% id)\n",
        "16665-, to 2940-, 7 nodes (96.16% id)\n",
        "7135-, to 2940-, 6 nodes (96.06% id)\n",
        "7135-, to 2940-, 6 nodes (96.06% id)\n",
        "7135-, to 2940-, 6 nodes (95.88% id)\n",
        "7135-, to 2940-, 6 nodes (95.88% id)\n",
        "VVTLSDSXIGGRDXQSTGFAWWSGNARLINLSGKLLGAHVAHAGLIVFWAGAMTLFEVAHFVPEKPMYEQGLILMPHVATIGWGVGPGGEIVDIFPFFVVGVLHLISSAVLGLGGIYHAVRGPETLEXYSSFFGYDWKDKNQMTNIIGYHLIILGCGALLLVFKAMFFGGVYDTWAPGGGDVRVITNPTLDPTVIFGYLLKAPFGGEGWIIGVNNMEDIIGGHIWVGLICIFGGIWHILTKPFGWARRAFIWSGEAYLSYSLGALSLMGLIAAAFVWFNNTAYPSEFYGPTNAEASQAQSFVFLVRDQKLGANIGSAQGPTGLGKYLMRSPTGEIIFGGETMRFWDFRGPWLEPLRGPNGLDLTKLKNDVQNWQIRRAAEYMTHAPNGSINSVGGIITDINGFNYVNPRAWLAAAHFILGFFFLIGHLWHAGRARAAEGGFERGLDRETEPVLSMPNLD"
       ]
      },
      {
       "output_type": "stream",
       "stream": "stdout",
       "text": [
        "\n",
        "Tery_0522:\n",
        "26097- to 26097-, 1 nodes (93.79% id)\n",
        "20286+ to 20286+, 1 nodes (82.86% id)\n",
        "3520+ to 3520+, 1 nodes (73.53% id)\n",
        "XVPIXZEXQXXIXXLVXXFYNLXGIETLXBXXXXLAXXXGRKDFXXTRLIXPBLXXXXLDGINXXGVNXNKVNLSEASLXXAQLHXTKMXGANLDSANLKGANLSRANLKDAQXSWADLRNTNLSNTXXXNANLTGADLDXSQSIXXAKXXFXXFDHARLPXGVXLVXXXXFXXXLSA"
       ]
      },
      {
       "output_type": "stream",
       "stream": "stdout",
       "text": [
        "\n",
        "Tery_0523:\n",
        "26097- to 26097-, 1 nodes (95.38% id)\n",
        "20286+ to 20286+, 1 nodes (80.28% id)\n",
        "MKLPQXPXIPXTKDIISWLKFQXXSXLENXESXBKXSKKXPLXWXYWLKNLXCVDPXELHGTGYVSKELEKSSLVTASVTTFANWWNAFTTLPFLJFMFDSMGIJTWPIAVLXNJGLIKLGNALATGAASNQPXSJXFARIGXSGFIAINLILTITSGVGSELLLNQSGLSRKLGEQLVQESIFEPLEKEISDIQNNEXLXKTRNXCDXLEXKLZXLPPNDPKRXEXHLAAXGXYADRXNXGGYXXYXNXXIEQWPXCPKAXXLEAXRDXNJKXPXXXYXQXIKEVKNYGSDLAYLXXVXPEIYXSRFNEKGEIKSGTEATRVAXVLFTKKXFXFZWADXGQSLFVMSMSVITSTVAIWITISYSKREDVXLSKSXXVIXARDVFINEXISNLDBXQXBXZELDXXLLXXFFXELRRTGKCNYPPFVXYVKFARDXEKXQXLRXNIETVETAXEXIXNGXQQLXDSINDXENTXXNXAKNLIHQGCDSIXXLALEYFQXESRVKELIKTIQYVQXYLQXSHXNZSLATRQIGYLXELLTSXIXLGDRLNKAIZKKYXTIIGNX"
       ]
      },
      {
       "output_type": "stream",
       "stream": "stdout",
       "text": [
        "\n",
        "Tery_0526:\n",
        "12122-, to 2735+, 3 nodes (98.12% id)\n",
        "12122-, to 2736+, 3 nodes (98.12% id)\n",
        "MKVNFSEVSQRHVCIALFIFCSLLQRSISPLFLLPLLLQEKRNLLGQIAEVKFNNDNNNLQFLQQQSQQLNNLERQFQKVQKTVDKLQHKIQTQDTRQNLILSKSSKQSNQISLLEDRINSIQERFKSVPSKVVPIQRRTLLAIDSANLDGAAKSLNMKVDYERLKRYVNVHFGSLEARIYVGKYDNSSRQKLWFNYLEKNGYVVKTKPVTVYGNTVKANVDVDLALDIREHGVNFKNVVLCSGDGDYLPLVEQLQGLGIKVIVLASPGHTNHFLQRQADEYISLIDIMGEVSDR"
       ]
      },
      {
       "output_type": "stream",
       "stream": "stdout",
       "text": [
        "\n",
        "Tery_0528:\n",
        "8377-, to 8377-, 5 nodes (93.94% id)\n",
        "8377-, to 13986+, 5 nodes (93.94% id)\n",
        "8377-, to 16516-, 4 nodes (93.91% id)\n",
        "24554+, to 29523+, 2 nodes (71.39% id)\n",
        "MXFISPKTDFAFKXIFGSXXSXKILISFLNAIVYDNQNIIQSLEIIBPYNPGXTXTJKDTYLDVXAXLDNGSTVIIEMQVLNVEGFZKRVIYNLAKAYGXQLDXGZXYXXLXPFXALXIXDFXLFXBXXKMIXKFRFKEDTEXFBYXBELTLXFXELPKFXKELSALETLSDKWXYFJKSAPXLEVIPSSLGEVSEIEAALNIANXXBLNNZELEELXKQEXXIXDXXGZXXLAXXEGXXXGXEZGIEIGRZQXXKQXLRXXXRXXGEXXPEXQXXIZQLSLEKLDXLXXEIFXLXTMXBLENWLETGTEN"
       ]
      },
      {
       "output_type": "stream",
       "stream": "stdout",
       "text": [
        "\n",
        "Tery_0534:\n",
        "4137+, to 8057-, 2 nodes (79.30% id)\n",
        "4138+, to 8057-, 2 nodes (79.62% id)\n",
        "MIVCPNCNHQNPDGAXQCENCYTPLAVTTSCPKCGAIVQADAAFCGQCGFDLKGNASIEEGQVLSETSPAVXPTLVSPXSAPDIEIPNLAMPDKLVAPEPLLSGRVNLEKSSNPNTPVPIEEEEPISTINAVSTPXATPEXSSVPPSEEKAIPAKTQLQEQSAKLLHIRTDTNIELPVNLPVIHIGKPNDRVPPDVDVSGFPDSEVVSRSHADIRVEGDSYYIEDTGSSNGTYINNTPLTKGNRHRLRPGDRISLGKGDLVSFVFQVS"
       ]
      },
      {
       "output_type": "stream",
       "stream": "stdout",
       "text": [
        "\n",
        "Tery_0548:\n",
        "15167-, to 1004-, 3 nodes (71.75% id)\n",
        "15167-, to 25420+, 3 nodes (71.21% id)\n",
        "5342-, to 1004-, 5 nodes (73.00% id)\n",
        "19278+, to 1004-, 5 nodes (73.00% id)\n",
        "5342-, to 25420+, 5 nodes (72.28% id)\n",
        "19278+, to 25420+, 5 nodes (72.28% id)\n",
        "2367+ to 2367+, 1 nodes (73.47% id)\n",
        "10733- to 10733-, 1 nodes (73.47% id)\n",
        "27579- to 27579-, 1 nodes (71.43% id)\n",
        "15647- to 15647-, 1 nodes (71.43% id)\n",
        "16799+ to 16799+, 1 nodes (71.43% id)\n",
        "1005- to 1005-, 1 nodes (71.43% id)\n",
        "10653- to 10653-, 1 nodes (73.47% id)\n",
        "LSXLXXLXDKWIYFLXEAASXDXIPEXLGEVXEIEQALNXANFINMXPE"
       ]
      },
      {
       "output_type": "stream",
       "stream": "stdout",
       "text": [
        "\n",
        "Tery_0550:\n",
        "566-, to 3677+, 7 nodes (83.16% id)\n",
        "566-, to 3677+, 7 nodes (83.16% id)\n",
        "566-, to 2066-, 7 nodes (83.16% id)\n",
        "566-, to 2066-, 7 nodes (83.16% id)\n",
        "566-, to 26627-, 7 nodes (83.16% id)\n",
        "16924+, to 3677+, 8 nodes (83.46% id)\n",
        "19845+, to 2066-, 9 nodes (83.46% id)\n",
        "19845+, to 2066-, 9 nodes (83.46% id)\n",
        "19845+, to 2066-, 8 nodes (83.46% id)\n",
        "19845+, to 2066-, 8 nodes (83.46% id)\n",
        "19845+, to 3677+, 9 nodes (83.46% id)\n",
        "19845+, to 3677+, 9 nodes (83.46% id)\n",
        "19845+, to 3677+, 8 nodes (83.46% id)\n",
        "19845+, to 3677+, 8 nodes (83.46% id)\n",
        "16924+, to 3677+, 9 nodes (83.46% id)\n",
        "16924+, to 3677+, 9 nodes (83.46% id)\n",
        "16924+, to 2066-, 8 nodes (83.46% id)\n",
        "16924+, to 2066-, 8 nodes (83.46% id)\n",
        "16924+, to 2066-, 9 nodes (83.46% id)\n",
        "16924+, to 2066-, 9 nodes (83.46% id)\n",
        "16924+, to 3677+, 8 nodes (83.46% id)\n",
        "19845+, to 26627-, 9 nodes (83.46% id)\n",
        "16924+, to 26627-, 8 nodes (83.46% id)\n",
        "16924+, to 26627-, 9 nodes (83.46% id)\n",
        "19845+, to 26627-, 8 nodes (83.46% id)\n",
        "566-, to 26627-, 6 nodes (82.38% id)\n",
        "566-, to 10835-, 6 nodes (82.30% id)\n",
        "19845+, to 26627-, 8 nodes (82.68% id)\n",
        "19845+, to 26627-, 7 nodes (82.68% id)\n",
        "16924+, to 26627-, 7 nodes (82.68% id)\n",
        "16924+, to 26627-, 8 nodes (82.68% id)\n",
        "16924+, to 10835-, 7 nodes (82.61% id)\n",
        "16924+, to 10835-, 8 nodes (82.61% id)\n",
        "19845+, to 10835-, 8 nodes (82.61% id)\n",
        "19845+, to 10835-, 7 nodes (82.61% id)\n",
        "24681+ to 24681+, 1 nodes (90.83% id)\n",
        "22637+ to 22637+, 1 nodes (75.23% id)\n",
        "10653- to 10653-, 1 nodes (81.65% id)\n",
        "23447- to 23447-, 1 nodes (74.07% id)\n",
        "MXFXXXKXDYAFXKIFGSXZSXXXLISFLNXIIYXGXXXIXXLXIXNPFXPXXXJSXKXTYLDXKAVLXDGSXVXIEMQXAXXXXFXKRVXYNLXKXYXNQLXXGXXYP"
       ]
      },
      {
       "output_type": "stream",
       "stream": "stdout",
       "text": [
        "\n",
        "Tery_0551:\n",
        "4354-, to 24682+, 9 nodes (94.95% id)\n",
        "4354-, to 24681+, 9 nodes (94.93% id)\n",
        "4354-, to 24682+, 9 nodes (94.50% id)\n",
        "4354-, to 24681+, 9 nodes (94.47% id)\n",
        "4354-, to 24682+, 9 nodes (93.81% id)\n",
        "4354-, to 24681+, 9 nodes (93.78% id)\n",
        "4354-, to 24682+, 9 nodes (93.12% id)\n",
        "4354-, to 24681+, 9 nodes (93.09% id)\n",
        "32162-, to 24682+, 10 nodes (94.80% id)\n",
        "28624+, to 24682+, 10 nodes (94.80% id)\n",
        "32162-, to 24681+, 10 nodes (94.77% id)\n",
        "28624+, to 24681+, 10 nodes (94.77% id)\n",
        "32162-, to 24682+, 10 nodes (94.33% id)\n",
        "28624+, to 24682+, 10 nodes (94.33% id)\n",
        "32162-, to 24681+, 10 nodes (94.30% id)\n",
        "28624+, to 24681+, 10 nodes (94.30% id)\n",
        "32162-, to 24682+, 10 nodes (93.62% id)\n",
        "28624+, to 24682+, 10 nodes (93.62% id)\n",
        "32162-, to 24681+, 10 nodes (93.59% id)\n",
        "28624+, to 24681+, 10 nodes (93.59% id)\n",
        "32162-, to 24682+, 10 nodes (92.91% id)\n",
        "28624+, to 24682+, 10 nodes (92.91% id)\n",
        "32162-, to 24681+, 10 nodes (92.87% id)\n",
        "28624+, to 24681+, 10 nodes (92.87% id)\n",
        "4354-, to 24682+, 8 nodes (93.67% id)\n",
        "4354-, to 24681+, 8 nodes (93.64% id)\n",
        "12368-, to 24682+, 8 nodes (93.83% id)\n",
        "12368-, to 24681+, 8 nodes (93.80% id)\n",
        "12368-, to 24682+, 8 nodes (93.32% id)\n",
        "12368-, to 24681+, 8 nodes (93.28% id)\n",
        "32162-, to 24682+, 9 nodes (93.45% id)\n",
        "28624+, to 24682+, 9 nodes (93.45% id)\n",
        "12368-, to 24682+, 8 nodes (92.55% id)\n",
        "32162-, to 24681+, 9 nodes (93.42% id)\n",
        "28624+, to 24681+, 9 nodes (93.42% id)\n",
        "12368-, to 24682+, 8 nodes (92.03% id)\n",
        "12368-, to 24681+, 8 nodes (92.51% id)\n",
        "12368-, to 24681+, 8 nodes (91.99% id)\n",
        "12368-, to 24682+, 7 nodes (92.53% id)\n",
        "12368-, to 24681+, 7 nodes (92.49% id)\n",
        "10653- to 10653-, 1 nodes (78.16% id)\n",
        "VFQEETKKXXCLXKXLXLIFVELPKFXKXLSELKNLTDKWIYFLXEAASXDXIPEXLGEVXEIEQALNXANFINMXPEELEXVENRGIAXQDERGRIAYAEXJXXXKGETKGRLSQXIXLXKLLITQRFGEXXXXXSXQIXXLPXXDXEDLVKVFLSFNXXXDLEXWLQERLRS"
       ]
      },
      {
       "output_type": "stream",
       "stream": "stdout",
       "text": [
        "\n",
        "Tery_0584:\n",
        "29651+, to 8311-, 2 nodes (97.56% id)\n",
        "29650+, to 8311-, 2 nodes (97.56% id)\n",
        "MSKYDSHLKCSFCGKSQEQVRKLIAGPGVYICDECVELCNEILDEELFDSNATGAQPPIPRPAPXPQKRGAGAXRLSVSQIPKPREIKNYLDAHVIGQEEGKKVLSVAVYNHYKRLSFLEAKKSGKSSQDEVELQKSNILLIGPTGCGKTLLAQTLAELLDVPFAVADATTLTEAGYVGEDVENILLRLLQVADLEVDEAQRGIIYIDEIDKIARKSENPSITRDVSGEGVQQALLKMLEGTVANVPPQGGRKHPYQDCIQIDTSNILFICGGAFVGLEKIVDQRIGKKSMGFIQQNGESYQVKEKKVVDLMKQMEPNDLVKFGLIPELIGRIPMVAVVEPLDEETLMAILTEPQNALVKQYQKLLRMDNVKLEFETEAVRAIAKEAFRRKTGARALRGIVEELMLDVMYELPSRKDVSRCTITKEMVEKRSTAELLLHPSSLPKPESA"
       ]
      },
      {
       "output_type": "stream",
       "stream": "stdout",
       "text": [
        "\n",
        "Tery_0585:\n",
        "631-, to 29651+, 3 nodes (94.89% id)\n",
        "631-, to 29650+, 3 nodes (94.57% id)\n",
        "632-, to 29651+, 3 nodes (94.89% id)\n",
        "632-, to 29650+, 3 nodes (94.57% id)\n",
        "IMVISQYSDNLSSSSYNKLQVYSGPSNIVPMVVEQSGMGERAFDLYSRLLRERIVFLGTQVDENLANTITAQMLFLDAEDPEKDIQLYINSPGGSVTAGMAIYDTMQQVRPDVVTICYGLAASMGAFLLSGGAKGKRMSLPSSRIMIHQPLGGAQGQAVDIEIQAKEILYHKRKLNELLAEHTSQPLERIEIDTERDFFMSAEEAKNYGLIDQVITRQNLPXPGESVPAM"
       ]
      },
      {
       "output_type": "stream",
       "stream": "stdout",
       "text": [
        "\n",
        "Tery_0586:\n",
        "33942+, to 7900-, 2 nodes (84.06% id)\n",
        "33942+, to 34019-, 2 nodes (83.87% id)\n",
        "MKVTQERLPASQIGLEIEITPEMSKDAYEQVIKKYTRSANIPGFRKGKVPRNILVQRLGKDYIKAMALDDLINNCLEKAREQEKIKAIGQFELTTIFEELVKDFEPGKEMAFSAKIDVEPEAKVENYKGLVVKAEEAKYSPALVDEFLEERRSLMGTLIPVEGRAAELGDVAIVDFVGVIPSETEGEEAKEVPGGKAQDFQIDLKGGKFIPGFIEGIVGMKLEETKEISTQFPSDYGERNLAGKPVVFTVTVKELKERELPELDDDLAQEISEFETIAKLREFLEKKFTKEKEEETKQNKEKAIVDELVTHLEVEIPETLIKNEVQQILAQSAMNLSQYGIDLKELFSSGKLPEMQNSSRPEAIKRLKRDLAIATVAQKESITVDEEEIAGESAKVIEQLKGKDVDPDRLRZVVTEDLLKEKTIKWLEENGTVELVPEGTLHTRSQTPKTIENLEAEVDSZITQXSEXVVEVEAKQVATVENSQX"
       ]
      },
      {
       "output_type": "stream",
       "stream": "stdout",
       "text": [
        "\n",
        "Tery_0587:\n",
        "31740-, to 25285-, 2 nodes (90.95% id)\n",
        "31741-, to 25285-, 2 nodes (90.44% id)\n",
        "LSDSYRVAILGATGAVGTELLELLETRNFPVAELXLLASPSSVGKTLKFXEQSLQVEAVTNDSFKKVDLVLASAGGSTSKVWAKKAVEAGAXVIDNSSXFRMDPQVPLVVPEVNPEAAALHKGIIANPNCTTILMSVAVWPLHQIQPVQRLVVATYQSASGAGSRAMAEMKIQAKEILDGKAPTTDIFPYPLAFNLFPHNSQLNEQGYCQEEMKMVNETRKIFGYKELRITATCIRVPVLRAHSEAVNLEFAKPFDVVKAREVLSQAAGVKLVENWKHNHFPMPMEASGKDDVYVGRIRQDISHPCGLELWLSGDQIRKGAALNAVQIAELLVAKNWLRMPVGAF"
       ]
      }
     ]
    },
    {
     "cell_type": "markdown",
     "metadata": {},
     "source": [
      "Above code works: next step is to trim sequences properly to get correct frame. Maybe also filter out genes where there's more than one path in IMS101. Or change the blast search parameters to reduce number of spurious matches (graph of percent identities to find an appropriate cutoff?)"
     ]
    },
    {
     "cell_type": "code",
     "collapsed": false,
     "input": [
      "from Bio.Align.Applications import MuscleCommandline\n",
      "cline = MuscleCommandline('/Users/ajb1d14/Applications/muscle3.8.31_i86darwin32',\n",
      "                          input='/Users/ajb1d14/Documents/opuntia.fasta.txt',\n",
      "                          out='/Users/ajb1d14/Documents/opuntia.aln',\n",
      "                          clw=True,\n",
      "                          group=False\n",
      "                          )\n",
      "\n",
      "print cline\n",
      "\n",
      "stdout, stderr = cline()"
     ],
     "language": "python",
     "metadata": {},
     "outputs": [
      {
       "output_type": "stream",
       "stream": "stdout",
       "text": [
        "/Users/ajb1d14/Applications/muscle3.8.31_i86darwin32 -in /Users/ajb1d14/Documents/opuntia.fasta.txt -out /Users/ajb1d14/Documents/opuntia.aln -clw\n"
       ]
      }
     ],
     "prompt_number": 68
    },
    {
     "cell_type": "code",
     "collapsed": false,
     "input": [],
     "language": "python",
     "metadata": {},
     "outputs": [
      {
       "output_type": "stream",
       "stream": "stdout",
       "text": [
        "CAYGAYTTCGTRCGATCGATTGACTAGTCGTGTAGCGGCGCGATGTCA\n"
       ]
      }
     ],
     "prompt_number": 31
    }
   ],
   "metadata": {}
  }
 ]
}