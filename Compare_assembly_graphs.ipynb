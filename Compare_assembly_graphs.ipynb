{
 "metadata": {
  "name": "",
  "signature": "sha256:c10bc564aca01260ac24731fdde84724c3cb24c072386b6ca9ea62d93c0cb322"
 },
 "nbformat": 3,
 "nbformat_minor": 0,
 "worksheets": [
  {
   "cells": [
    {
     "cell_type": "heading",
     "level": 2,
     "metadata": {},
     "source": [
      "Find repetetive genes in simulated IMS101 assembly graph"
     ]
    },
    {
     "cell_type": "markdown",
     "metadata": {},
     "source": [
      "Run Blast search for all IMS101 proteins vs self:"
     ]
    },
    {
     "cell_type": "code",
     "collapsed": false,
     "input": [
      "from Bio import SeqIO\n",
      "from Bio.Blast.Applications import NcbiblastpCommandline\n",
      "\n",
      "cline = NcbiblastpCommandline(query=\"IMS101_proteins.faa.txt\", db=\"IMS101_blastdb/IMS101\", evalue=0.001, outfmt=5,\n",
      "                              out='IMS101vSelf_blastp.xml')\n",
      "\n",
      "stdout, stderr = cline()"
     ],
     "language": "python",
     "metadata": {},
     "outputs": [],
     "prompt_number": 3
    },
    {
     "cell_type": "markdown",
     "metadata": {},
     "source": [
      "Parse results:\n",
      "- A gene is 'unique' if it has no hits with percent id >90%, except with itself.\n",
      "- A 'complete duplication' is defined as: gene has at least one non-self hit, with query coverage > 90% and id > 90%\n",
      "- A 'partial duplication' is defined as: gene has a non-self hit with id >90%, but query coverage < 90% "
     ]
    },
    {
     "cell_type": "code",
     "collapsed": false,
     "input": [
      "from Bio import SeqIO\n",
      "from Bio.Blast import NCBIXML\n",
      "import numpy as np\n",
      "        \n",
      "class HitMatrix:\n",
      "    \n",
      "    def __init__(self, fasta_list):\n",
      "        self.fasta_ids = fasta_list\n",
      "        self.nrecs = len(self.fasta_ids)\n",
      "        \n",
      "        self.hits = np.zeros( (self.nrecs, self.nrecs) )\n",
      "    \n",
      "    def add_hit(self, query_id, hit_id):\n",
      "        q_ix = self.fasta_ids.index(query_id)\n",
      "        h_ix = self.fasta_ids.index(hit_id)\n",
      "        \n",
      "        self.hits[q_ix, h_ix] += 1\n",
      "        \n",
      "    def get_count(self, query_id, hit_id):\n",
      "        q_ix = self.fasta_ids.index(query_id)\n",
      "        h_ix = self.fasta_ids.index(hit_id)\n",
      "        \n",
      "        return(self.hits[q_ix, h_ix])        \n",
      "        \n",
      "    def write_csv(self, filename):\n",
      "        csv = open(filename, 'w')\n",
      "        csv.write(',' + ','.join(self.fasta_ids) + '\\n')\n",
      "        for gene, row in zip(self.fasta_ids, self.hits):\n",
      "            row = [str(r) for r in row]\n",
      "            csv.write(gene + ',' + ','.join(row) + '\\n')\n",
      "        csv.close()\n",
      "        \n",
      "\n",
      "pid_threshold = 90.0\n",
      "cov_threshold = 90.0\n",
      "\n",
      "fasta_ids = [s.id for s in SeqIO.parse(\"IMS101_proteins.faa.txt\", \"fasta\")]\n",
      "\n",
      "compl_hit_matrix = HitMatrix(fasta_ids)\n",
      "incompl_hit_matrix = HitMatrix(fasta_ids)\n",
      "\n",
      "#Parse Blast file\n",
      "blast_file = open('IMS101vSelf_blastp.xml')\n",
      "records = NCBIXML.parse(blast_file)\n",
      "\n",
      "for rec in records:\n",
      "    q_id = rec.query.split(' ')[0]\n",
      "    for align in rec.alignments:\n",
      "        h_id = align.hit_def.split(' ')[0]\n",
      "        for hsp in align.hsps:\n",
      "            aligned_length = hsp.query_end - hsp.query_start\n",
      "            cov = float(aligned_length) / rec.query_length * 100\n",
      "            pid = float(hsp.identities) / aligned_length * 100\n",
      "                \n",
      "            if pid > pid_threshold:\n",
      "                if cov > cov_threshold:\n",
      "                    compl_hit_matrix.add_hit(q_id, h_id)\n",
      "                else:\n",
      "                    incompl_hit_matrix.add_hit(q_id, h_id)\n",
      "\n",
      "compl_hit_matrix.write_csv('IMS101_v_self_compl.csv')\n",
      "incompl_hit_matrix.write_csv('IMS101_v_self_partial.csv')"
     ],
     "language": "python",
     "metadata": {},
     "outputs": [],
     "prompt_number": 32
    },
    {
     "cell_type": "markdown",
     "metadata": {},
     "source": [
      "Further parsing:\n",
      "For each gene, if it has a complete duplication (hit count in complete hits table is > 1), add the gene name to a list of 'completely duplicated genes'. If it has no complete duplications but one or more partial duplications, add it to the list of 'partially duplicated' genes"
     ]
    },
    {
     "cell_type": "code",
     "collapsed": false,
     "input": [
      "gene_names = compl_hit_matrix.fasta_ids\n",
      "dupl_compl = np.sum(compl_hit_matrix.hits, axis=1)\n",
      "dupl_partial = np.sum(incompl_hit_matrix.hits, axis=1)\n",
      "\n",
      "complete_dupl = []\n",
      "partial_dupl = []\n",
      "for gn, comp_count, part_count in zip(gene_names, dupl_compl, dupl_partial):\n",
      "    if comp_count > 1:\n",
      "        complete_dupl.append(gn)\n",
      "    elif part_count > 0:\n",
      "        partial_dupl.append(gn)\n",
      "\n",
      "print len(complete_dupl), len(partial_dupl)\n",
      "\n",
      "out1 = open('duplicated_complete.txt', 'w')\n",
      "out2 = open('duplicated_partial.txt', 'w')\n",
      "\n",
      "for x in complete_dupl:\n",
      "    out1.write(x + '\\n')\n",
      "out1.close()\n",
      "\n",
      "for x in partial_dupl:\n",
      "    out2.write(x + '\\n')\n",
      "out2.close()"
     ],
     "language": "python",
     "metadata": {},
     "outputs": [
      {
       "output_type": "stream",
       "stream": "stdout",
       "text": [
        "281 76\n"
       ]
      }
     ],
     "prompt_number": 29
    },
    {
     "cell_type": "heading",
     "level": 2,
     "metadata": {},
     "source": [
      "Check for genes with multiple paths in IMS101 assembly graph"
     ]
    },
    {
     "cell_type": "code",
     "collapsed": false,
     "input": [
      "hits = open(\"all.tsv\").readlines()[1:]\n",
      "\n",
      "genes_counted = []\n",
      "#Genes with more than one path in the graph\n",
      "multiple_paths = []\n",
      "#Genes with at least one complicated path (>3 nodes)\n",
      "split_genes = []\n",
      "\n",
      "for hit in hits:\n",
      "    h = hit.split('\\t')\n",
      "    query = h[0]\n",
      "    path = h[1]\n",
      "    \n",
      "    #If we've already counted the gene and we're seeing it again, it has multiple paths in the graph\n",
      "    if query in genes_counted:\n",
      "        if not query in multiple_paths:\n",
      "            multiple_paths.append(query)\n",
      "    else:\n",
      "        genes_counted.append(query)\n",
      "    \n",
      "    if not query in split_genes:\n",
      "        if len(path.split(' ')) > 3:\n",
      "            split_genes.append(query)\n",
      "            \n",
      "print len(compl_hit_matrix.fasta_ids), len(genes_counted), len(multiple_paths), len(split_genes)"
     ],
     "language": "python",
     "metadata": {},
     "outputs": [
      {
       "output_type": "stream",
       "stream": "stdout",
       "text": [
        "4451 4287 275 252\n"
       ]
      }
     ],
     "prompt_number": 35
    },
    {
     "cell_type": "heading",
     "level": 2,
     "metadata": {},
     "source": [
      "Filter out repetitive/complicated genes from fasta file"
     ]
    },
    {
     "cell_type": "markdown",
     "metadata": {},
     "source": [
      "Used R to get the union of the set of genes that were partially or completely repeated in the genome, or had multiple paths in the IMS101 assembly graph. This was saved in 'genes_to_filter.txt'"
     ]
    },
    {
     "cell_type": "code",
     "collapsed": false,
     "input": [
      "from Bio import SeqIO\n",
      "\n",
      "genes_to_filter = [g.rstrip() for g in open('genes_to_filter.txt').readlines()]\n",
      "\n",
      "print genes_to_filter[0:5]\n",
      "\n",
      "fasta = SeqIO.parse('/Users/ajb1d14/Dropbox/Job/fasta/protein/IMS101_proteins.faa.txt', 'fasta')\n",
      "\n",
      "remaining_genes = []\n",
      "for f in fasta:\n",
      "    if f.id not in genes_to_filter:\n",
      "        remaining_genes.append(f)\n",
      "\n",
      "SeqIO.write(remaining_genes, 'IMS101_unique_genes.fasta', 'fasta')"
     ],
     "language": "python",
     "metadata": {},
     "outputs": [
      {
       "output_type": "stream",
       "stream": "stdout",
       "text": [
        "['Tery_0010', 'Tery_0020', 'Tery_0031', 'Tery_0039', 'Tery_0049']\n"
       ]
      },
      {
       "metadata": {},
       "output_type": "pyout",
       "prompt_number": 5,
       "text": [
        "4061"
       ]
      }
     ],
     "prompt_number": 5
    },
    {
     "cell_type": "heading",
     "level": 2,
     "metadata": {},
     "source": [
      "Determine query paths for each gene in metagenome assembly graphs using Bandage"
     ]
    },
    {
     "cell_type": "markdown",
     "metadata": {},
     "source": [
      "Parameters: looked for paths up to 10 nodes long, with mean query id of >70%"
     ]
    },
    {
     "cell_type": "heading",
     "level": 3,
     "metadata": {},
     "source": [
      "Simulated IMS101"
     ]
    },
    {
     "cell_type": "code",
     "collapsed": false,
     "input": [
      "!/Applications/Bandage_Mac_v0/Bandage.app/Contents/MacOS/Bandage querypaths sim_IMS101/assembly_graph.fastg IMS101_unique_genes.fasta sim_IMS101/unique_genes_paths --pathnodes 10 --minmeanid 0.7"
     ],
     "language": "python",
     "metadata": {},
     "outputs": [
      {
       "output_type": "stream",
       "stream": "stdout",
       "text": [
        "\r\n",
        "(25 Feb 2016 21:46:59) Loading graph...        "
       ]
      },
      {
       "output_type": "stream",
       "stream": "stdout",
       "text": [
        "done\r\n",
        "(25 Feb 2016 21:47:00) Running BLAST search... "
       ]
      },
      {
       "output_type": "stream",
       "stream": "stdout",
       "text": [
        "done\r\n",
        "(25 Feb 2016 21:57:24) Saving results...       "
       ]
      },
      {
       "output_type": "stream",
       "stream": "stdout",
       "text": [
        "done\r\n",
        "\r\n",
        "Results:      sim_IMS101/unique_genes_paths.tsv\r\n",
        "\r\n",
        "Summary: Total BLAST queries:           4061\r\n",
        "         Queries with found paths:      3938\r\n",
        "         Total query paths:             4512\r\n",
        "\r\n",
        "Elapsed time: 00:10:24.542\r\n"
       ]
      }
     ],
     "prompt_number": 55
    },
    {
     "cell_type": "heading",
     "level": 3,
     "metadata": {},
     "source": [
      "004"
     ]
    },
    {
     "cell_type": "code",
     "collapsed": false,
     "input": [
      "!/Applications/Bandage_Mac_v0/Bandage.app/Contents/MacOS/Bandage querypaths 004/assembly_graph.fastg IMS101_unique_genes.fasta 004/unique_genes_paths --pathnodes 10 --minmeanid 0.7"
     ],
     "language": "python",
     "metadata": {},
     "outputs": [
      {
       "output_type": "stream",
       "stream": "stdout",
       "text": [
        "\r\n",
        "(25 Feb 2016 14:24:38) Loading graph...        "
       ]
      },
      {
       "output_type": "stream",
       "stream": "stdout",
       "text": [
        "done\r\n",
        "(25 Feb 2016 14:24:40) Running BLAST search... "
       ]
      },
      {
       "output_type": "stream",
       "stream": "stdout",
       "text": [
        "done\r\n",
        "(25 Feb 2016 14:46:10) Saving results...       "
       ]
      },
      {
       "output_type": "stream",
       "stream": "stdout",
       "text": [
        "done\r\n",
        "\r\n",
        "Results:      004/unique_genes_paths.tsv\r\n",
        "\r\n",
        "Summary: Total BLAST queries:           4061\r\n",
        "         Queries with found paths:      3075\r\n",
        "         Total query paths:             6984\r\n",
        "\r\n",
        "Elapsed time: 00:21:32.583\r\n"
       ]
      }
     ],
     "prompt_number": 13
    },
    {
     "cell_type": "heading",
     "level": 3,
     "metadata": {},
     "source": [
      "019"
     ]
    },
    {
     "cell_type": "code",
     "collapsed": false,
     "input": [
      "!/Applications/Bandage_Mac_v0/Bandage.app/Contents/MacOS/Bandage querypaths 019/assembly_graph.fastg IMS101_unique_genes.fasta 019/unique_genes_paths --pathnodes 10 --minmeanid 0.7"
     ],
     "language": "python",
     "metadata": {},
     "outputs": [
      {
       "output_type": "stream",
       "stream": "stdout",
       "text": [
        "\r\n",
        "(25 Feb 2016 14:46:11) Loading graph...        "
       ]
      },
      {
       "output_type": "stream",
       "stream": "stdout",
       "text": [
        "done\r\n",
        "(25 Feb 2016 14:46:18) Running BLAST search... "
       ]
      },
      {
       "output_type": "stream",
       "stream": "stdout",
       "text": [
        "done\r\n",
        "(25 Feb 2016 15:22:09) Saving results...       "
       ]
      },
      {
       "output_type": "stream",
       "stream": "stdout",
       "text": [
        "done\r\n",
        "\r\n",
        "Results:      019/unique_genes_paths.tsv\r\n",
        "\r\n",
        "Summary: Total BLAST queries:           4061\r\n",
        "         Queries with found paths:      3121\r\n",
        "         Total query paths:             15261\r\n",
        "\r\n",
        "Elapsed time: 00:35:58.715\r\n"
       ]
      }
     ],
     "prompt_number": 14
    },
    {
     "cell_type": "heading",
     "level": 2,
     "metadata": {},
     "source": [
      "Parse path file:"
     ]
    },
    {
     "cell_type": "markdown",
     "metadata": {},
     "source": [
      "Path file output has the following columns:\n",
      "- Query\n",
      "- Path\n",
      "- Length\n",
      "- Query covered by path\n",
      "- Query covered by hits\n",
      "- Mean hit identity\n",
      "- Total hit mismatches\n",
      "- Total hit gap opens\n",
      "- Relative length\n",
      "- Length discrepancy\n",
      "- E-value product\n",
      "- Sequence"
     ]
    },
    {
     "cell_type": "code",
     "collapsed": false,
     "input": [
      "from Bio.Seq import Seq\n",
      "from Bio.SeqRecord import SeqRecord\n",
      "\n",
      "class Paths:\n",
      "    def __init__(self):        \n",
      "        self.genes = []\n",
      "    \n",
      "    def load_paths(self, path_file):\n",
      "        current_gene = Gene()\n",
      "        for line in open(path_file).readlines()[1:]:\n",
      "            if line:\n",
      "                gene, path = self.parse_line(line)\n",
      "                if gene == current_gene.name:\n",
      "                    current_gene.paths.append(path)\n",
      "                else:\n",
      "                    if current_gene.name:\n",
      "                        self.genes.append(current_gene)\n",
      "                    current_gene = Gene(gene)\n",
      "                    current_gene.paths.append(path)\n",
      "        \n",
      "    def parse_line(self, line):\n",
      "        spl = line.rstrip().split('\\t')\n",
      "        \n",
      "        query = spl[0]\n",
      "        path_spec = spl[1]\n",
      "        path_length = spl[2]\n",
      "        q_cov = spl[3]\n",
      "        pid = float(spl[5].replace('%',''))\n",
      "        rel_length = spl[8]\n",
      "        seq = spl[11]\n",
      "            \n",
      "        p = path_spec.split(' ')\n",
      "#        print p\n",
      "        if p[-1].startswith('('):\n",
      "            end_pos = p.pop().replace('(','').replace(')','')\n",
      "        else:\n",
      "            end_pos = None\n",
      "        if p[0].startswith('('):\n",
      "            start_pos = p[0].replace('(','').replace(')','')\n",
      "            p = p[1:]\n",
      "        else:\n",
      "            start_pos = 1\n",
      "#        print p\n",
      "        \n",
      "        path = Path(p, start_pos, end_pos, path_length, q_cov, pid, rel_length, seq, query)\n",
      "        \n",
      "        return query, path\n",
      "    \n",
      "    def get_gene(self, tery):\n",
      "        for gene in self.genes:\n",
      "            try:\n",
      "                if gene.name == tery:\n",
      "                    return gene\n",
      "            except StopIteration:\n",
      "                return None\n",
      "            \n",
      "    def filter_paralogues(self):\n",
      "        for gene in self.genes:\n",
      "            gene.check_paralogues()\n",
      "            \n",
      "            #Go back over list of paths and only keep ones where paralogue == False\n",
      "            gene.paths = [p for p in gene.paths if not p.paralogue]\n",
      "            \n",
      "    def group_gene_paths(self):\n",
      "        for gene in self.genes:\n",
      "            #print gene.name\n",
      "            gene.group_paths()\n",
      "\n",
      "\n",
      "class Gene:\n",
      "    def __init__(self, gene_name=''):\n",
      "        self.name = gene_name\n",
      "        self.paths = []\n",
      "        self.groups = []\n",
      "        \n",
      "    def add_path(self, path):\n",
      "        self.paths.append(path)\n",
      "        \n",
      "    def check_paralogues(self):\n",
      "        top_nodes = set()\n",
      "        for p in self.paths:\n",
      "            node_set = set([p.start_node, p.end_node] + p.internal_nodes)\n",
      "            if not top_nodes:\n",
      "                top_nodes = node_set\n",
      "                p.paralogue = False\n",
      "            else:\n",
      "                #If there are nodes in both sets (i.e. there is overlap), merge new set with top nodes (they are all interconnected)\n",
      "                #Also, current path is not a paralogue\n",
      "                if node_set.intersection(top_nodes):\n",
      "                    top_nodes = node_set.union(top_nodes)\n",
      "                    p.paralogue = False\n",
      "                #If not (i.e. no overlap), current path is a paralogue\n",
      "                else:\n",
      "                    p.paralogue = True\n",
      "    \n",
      "    def group_paths(self):\n",
      "        for p in self.paths:\n",
      "            #print p\n",
      "            if self.groups:\n",
      "                p.path_group = self.check_group(p)\n",
      "            else:\n",
      "                self.groups.append(p.node_set)\n",
      "                p.path_group = 1\n",
      "            #print self.groups\n",
      "            #print 'path group = %d' % p.path_group\n",
      "        self.num_groups = len(self.groups)\n",
      "            \n",
      "    def check_group(self, path):\n",
      "        #Matches new path with groups constructed from previous paths.\n",
      "        #This will classify a path with first matching group - this assumes that there are no 'bridging' paths that connect clusters\n",
      "        path_group = None\n",
      "        for i in range(0, len(self.groups)):\n",
      "            group_set = self.groups[i]\n",
      "            if path.node_set.intersection(group_set):\n",
      "                path_group = i+1\n",
      "                self.groups[i] = group_set.union(path.node_set)\n",
      "        #After checking all the current groups, if path_group is still None, then start a new group\n",
      "        if not path_group:\n",
      "            self.groups.append(path.node_set)\n",
      "            path_group = len(self.groups)\n",
      "        \n",
      "        return path_group\n",
      "    \n",
      "    def get_group(self, n):\n",
      "        path_list = [p for p in self.paths if p.path_group == n]\n",
      "        \n",
      "        return path_list\n",
      "\n",
      "        \n",
      "class Path:\n",
      "    def __init__(self, node_list, start_pos, end_pos, path_length, cov, pid, rel_length, seq, query):\n",
      "        self.node_set = set(node_list)\n",
      "        self.start_node = node_list[0]\n",
      "        self.end_node = node_list[-1]\n",
      "        self.start_base = start_pos\n",
      "        self.end_base = end_pos\n",
      "        self.internal_nodes = node_list[1:-1]\n",
      "        if self.start_node == self.end_node and len(self.internal_nodes) == 0:\n",
      "            self.num_nodes = 1\n",
      "        else:\n",
      "            self.num_nodes = len(self.internal_nodes) + 2\n",
      "\n",
      "#        self.query = query\n",
      "        self.length = path_length\n",
      "        self.rel_length = rel_length\n",
      "        \n",
      "        #Create SeqRecord object to hold sequence information\n",
      "        seq_id = 'path_%s_%.2f' % (query, pid)\n",
      "        seq = Seq(seq)\n",
      "        self.seq = SeqRecord(seq, id=seq_id)\n",
      "        self.prot_seq = SeqRecord(self.seq.seq.translate(), id=seq_id+'_prot')\n",
      "        \n",
      "        self.coverage = cov\n",
      "        self.identity = pid\n",
      "        \n",
      "        self.path_group = None\n",
      "        \n",
      "            \n",
      "        \n",
      "    def __str__(self):\n",
      "        \n",
      "        s = '%s %s %s (%d nodes)' % (self.start_node, ' '.join(self.internal_nodes), self.end_node, self.num_nodes)\n",
      "        \n",
      "        return s"
     ],
     "language": "python",
     "metadata": {},
     "outputs": [],
     "prompt_number": 86
    },
    {
     "cell_type": "heading",
     "level": 3,
     "metadata": {},
     "source": [
      "Count number of genes with unique paths vs genes with multiple paths"
     ]
    },
    {
     "cell_type": "code",
     "collapsed": false,
     "input": [
      "samples = ['sim','004','019']\n",
      "path_files = ['all.tsv', './004/unique_genes_paths.tsv', '019/unique_genes_paths.tsv']\n",
      "\n",
      "for s, f in zip(samples, path_files):\n",
      "    paths = Paths()\n",
      "    paths.load_paths(f)\n",
      "\n",
      "    single_paths = []\n",
      "    multi_paths = []\n",
      "\n",
      "    for gene in paths.genes:\n",
      "    \n",
      "        if len(gene.paths) > 1:\n",
      "            multi_paths.append(gene)\n",
      "#            print gene.name, ': ', len(gene.paths)\n",
      "    \n",
      "        else:\n",
      "            single_paths.append(gene)\n",
      "\n",
      "    print '%s:\\tSingle: %d (%.2f%%), Multi: %d (%.2f%%)' % (s, len(single_paths), len(single_paths)/4286.0*100, len(multi_paths), len(multi_paths)/4286.0*100)"
     ],
     "language": "python",
     "metadata": {},
     "outputs": [
      {
       "output_type": "stream",
       "stream": "stdout",
       "text": [
        "sim:\tSingle: 4011 (93.58%), Multi: 275 (6.42%)\n",
        "004:\tSingle: 2572 (60.01%), Multi: 502 (11.71%)"
       ]
      },
      {
       "output_type": "stream",
       "stream": "stdout",
       "text": [
        "\n",
        "019:\tSingle: 1203 (28.07%), Multi: 1917 (44.73%)"
       ]
      },
      {
       "output_type": "stream",
       "stream": "stdout",
       "text": [
        "\n"
       ]
      },
      {
       "output_type": "stream",
       "stream": "stderr",
       "text": [
        "/Users/ajb1d14/anaconda/lib/python2.7/site-packages/Bio/Seq.py:2040: BiopythonWarning: Partial codon, len(sequence) not a multiple of three. Explicitly trim the sequence or add trailing N before translation. This may become an error in future.\n",
        "  BiopythonWarning)\n"
       ]
      }
     ],
     "prompt_number": 37
    },
    {
     "cell_type": "markdown",
     "metadata": {},
     "source": [
      "Visualisation:\n",
      "- a path that's unique in all three graphs\n",
      "- a path that's unique in simulated IMS101, but split into two in 004 and 019\n",
      "- a path that's unique in simulated IMS101, but complex in the metagenomes"
     ]
    },
    {
     "cell_type": "code",
     "collapsed": false,
     "input": [
      "import subprocess\n",
      "from Bio import SeqIO\n",
      "\n",
      "def get_Tery(tery, fasta):\n",
      "    fasta = SeqIO.parse(fasta, 'fasta')\n",
      "    outfile = '%s.fasta' % tery\n",
      "    \n",
      "    for f in fasta:\n",
      "        if f.id == tery:\n",
      "            SeqIO.write(f, outfile, 'fasta')\n",
      "\n",
      "    return outfile\n",
      "\n",
      "\n",
      "def make_bandage_cline(query_file, graph_file, image_file, distance=1, blast_id_filter=70):\n",
      "    cline = '/Applications/Bandage_Mac_v0/Bandage.app/Contents/MacOS/Bandage image %s %s --query %s --scope aroundblast --distance %d --ifilter %s' % (graph_file,\n",
      "                                                                                                                                                    image_file,\n",
      "                                                                                                                                                    query_file,\n",
      "                                                                                                                                                    distance,\n",
      "                                                                                                                                                    str(blast_id_filter))\n",
      "    return cline\n",
      "\n",
      "\n",
      "def run_bandage_on_list(gene_name, graph_list, out_suffix_list, blast_id_filter=0.7):\n",
      "    query_file = get_Tery(gene_name, fasta_file)\n",
      "    for graph, out_suffix in zip(graph_list, out_suffix_list):\n",
      "        out_name = '%s_%s.png' % (gene_name, out_suffix)\n",
      "        cline = make_bandage_cline(query_file, graph, out_name, 1)\n",
      "        subprocess.call(cline, shell=True)\n",
      "\n",
      "        \n",
      "        \n",
      "paths_IMS101 = Paths()\n",
      "paths_004 = Paths()\n",
      "paths_019 = Paths()\n",
      "\n",
      "paths_IMS101.load_paths('sim_IMS101/unique_genes_paths.tsv')\n",
      "paths_IMS101.filter_paralogues()\n",
      "paths_004.load_paths('004/unique_genes_paths.tsv')\n",
      "paths_004.filter_paralogues()\n",
      "paths_019.load_paths('019/unique_genes_paths.tsv')\n",
      "paths_019.filter_paralogues()\n",
      "\n",
      "graph_IMS101 = 'sim_IMS101/assembly_graph.fastg'\n",
      "graph_004 = '004/assembly_graph.fastg'\n",
      "graph_019 = '019/assembly_graph.fastg'\n",
      "graphs = [graph_IMS101, graph_004, graph_019]\n",
      "\n",
      "sample_list = ['simIMS101', '004', '019']\n",
      "\n",
      "fasta_file = 'IMS101_unique_genes.fasta'\n",
      "\n",
      "unique_count = 0\n",
      "split_count = 0\n",
      "complex_count = 0\n",
      "\n",
      "\n",
      "filtered_genes = []\n",
      "genes_in_both = []\n",
      "genes_in_004 = []\n",
      "genes_in_019 = []\n",
      "genes_in_neither = []\n",
      "\n",
      "for gene in paths_IMS101.genes:\n",
      "    gene004 = paths_004.get_gene(gene.name)\n",
      "    gene019 = paths_019.get_gene(gene.name)\n",
      "    \n",
      "    if gene004 and gene019:\n",
      "        filtered_genes.append(tuple([gene, gene004, gene019]))\n",
      "        genes_in_both.append(gene.name)\n",
      "    elif gene004:\n",
      "        genes_in_004.append(gene.name)\n",
      "    elif gene019:\n",
      "        genes_in_019.append(gene.name)\n",
      "    else:\n",
      "        genes_in_neither.append(gene.name)\n",
      "\n",
      "print \"Genes present in all three graphs: %d\" % len(filtered_genes)\n",
      "print \"Genes only in 004: %d\" % len(genes_in_004)\n",
      "print \"Genes only in 019: %d\" % len(genes_in_019)\n",
      "print \"Genes not in either metagenome: %d\" % len(genes_in_neither)\n",
      "print \"-----------------\\n\"\n",
      "\n",
      "for control, met004, met019 in filtered_genes:\n",
      "\n",
      "    if unique_count < 3 or split_count < 10 or complex_count < 10:\n",
      "    \n",
      "        if len(control.paths) == 1 and (len(met004.paths) == 1 and len(met019.paths) == 1):\n",
      "            if unique_count < 3:\n",
      "                run_bandage_on_list(control.name, graphs, sample_list)\n",
      "                print 'unique: %s' % control.name\n",
      "            unique_count += 1\n",
      "            \n",
      "        elif len(control.paths) == 1 and (len(met004.paths) > 5 or len(met019.paths) > 5):\n",
      "            if complex_count < 10:\n",
      "                run_bandage_on_list(control.name, graphs, sample_list)\n",
      "                print 'complex: %s' % control.name\n",
      "            complex_count += 1\n",
      "        \n",
      "        elif len(control.paths) == 1 and (len(met004.paths) > 1 or len(met019.paths) > 1):\n",
      "            if split_count < 10:\n",
      "                run_bandage_on_list(control.name, graphs, sample_list)\n",
      "                print 'split: %s' % control.name\n",
      "            split_count += 1\n",
      "\n",
      "    else:\n",
      "        break\n",
      "\n",
      "\n",
      "print unique_count, split_count, complex_count\n"
     ],
     "language": "python",
     "metadata": {},
     "outputs": [
      {
       "output_type": "stream",
       "stream": "stdout",
       "text": [
        "Genes present in all three graphs: 2965\n",
        "Genes only in 004: 102\n",
        "Genes only in 019: 153\n",
        "Genes not in either metagenome: 717\n",
        "-----------------\n",
        "\n",
        "split: Tery_0001"
       ]
      },
      {
       "output_type": "stream",
       "stream": "stdout",
       "text": [
        "\n",
        "split: Tery_0011"
       ]
      },
      {
       "output_type": "stream",
       "stream": "stdout",
       "text": [
        "\n",
        "unique: Tery_0012"
       ]
      },
      {
       "output_type": "stream",
       "stream": "stdout",
       "text": [
        "\n",
        "unique: Tery_0013"
       ]
      },
      {
       "output_type": "stream",
       "stream": "stdout",
       "text": [
        "\n",
        "unique: Tery_0014"
       ]
      },
      {
       "output_type": "stream",
       "stream": "stdout",
       "text": [
        "\n",
        "split: Tery_0019"
       ]
      },
      {
       "output_type": "stream",
       "stream": "stdout",
       "text": [
        "\n",
        "complex: Tery_0021"
       ]
      },
      {
       "output_type": "stream",
       "stream": "stdout",
       "text": [
        "\n",
        "split: Tery_0027"
       ]
      },
      {
       "output_type": "stream",
       "stream": "stdout",
       "text": [
        "\n",
        "complex: Tery_0035"
       ]
      },
      {
       "output_type": "stream",
       "stream": "stdout",
       "text": [
        "\n",
        "complex: Tery_0037"
       ]
      },
      {
       "output_type": "stream",
       "stream": "stdout",
       "text": [
        "\n",
        "complex: Tery_0043"
       ]
      },
      {
       "output_type": "stream",
       "stream": "stdout",
       "text": [
        "\n",
        "split: Tery_0045"
       ]
      },
      {
       "output_type": "stream",
       "stream": "stdout",
       "text": [
        "\n",
        "split: Tery_0046"
       ]
      },
      {
       "output_type": "stream",
       "stream": "stdout",
       "text": [
        "\n",
        "complex: Tery_0047"
       ]
      },
      {
       "output_type": "stream",
       "stream": "stdout",
       "text": [
        "\n",
        "complex: Tery_0058"
       ]
      },
      {
       "output_type": "stream",
       "stream": "stdout",
       "text": [
        "\n",
        "split: Tery_0060"
       ]
      },
      {
       "output_type": "stream",
       "stream": "stdout",
       "text": [
        "\n",
        "split: Tery_0082"
       ]
      },
      {
       "output_type": "stream",
       "stream": "stdout",
       "text": [
        "\n",
        "split: Tery_0088"
       ]
      },
      {
       "output_type": "stream",
       "stream": "stdout",
       "text": [
        "\n",
        "split: Tery_0108"
       ]
      },
      {
       "output_type": "stream",
       "stream": "stdout",
       "text": [
        "\n",
        "complex: Tery_0115"
       ]
      },
      {
       "output_type": "stream",
       "stream": "stdout",
       "text": [
        "\n",
        "complex: Tery_0161"
       ]
      },
      {
       "output_type": "stream",
       "stream": "stdout",
       "text": [
        "\n",
        "complex: Tery_0163"
       ]
      },
      {
       "output_type": "stream",
       "stream": "stdout",
       "text": [
        "\n",
        "complex: Tery_0179"
       ]
      },
      {
       "output_type": "stream",
       "stream": "stdout",
       "text": [
        "\n",
        "46 29 10\n"
       ]
      }
     ],
     "prompt_number": 20
    },
    {
     "cell_type": "code",
     "collapsed": false,
     "input": [
      "%%html\n",
      "<style>\n",
      "img {width:300px;\n",
      "     height:300px;}\n",
      "</style>"
     ],
     "language": "python",
     "metadata": {},
     "outputs": [
      {
       "html": [
        "<style>\n",
        "img {width:300px;\n",
        "     height:300px;}\n",
        "</style>"
       ],
       "metadata": {},
       "output_type": "display_data",
       "text": [
        "<IPython.core.display.HTML at 0x10446c150>"
       ]
      }
     ],
     "prompt_number": 3
    },
    {
     "cell_type": "markdown",
     "metadata": {},
     "source": [
      "| Gene | sim | 004 | 019 |\n",
      "| :---------: | :---: | :---: | :---: |\n",
      "| Tery_0001 | <img src=\"Tery_0001_simIMS101.png\"> | <img src=\"Tery_0001_004.png\"> | <img src=\"Tery_0001_019.png\"> |\n",
      "| Tery_0011 | <img src=\"Tery_0011_simIMS101.png\"> | <img src=\"Tery_0011_004.png\"> | <img src=\"Tery_0011_019.png\"> |\n",
      "| Tery_0012 | <img src=\"Tery_0012_simIMS101.png\"> | <img src=\"Tery_0012_004.png\"> | <img src=\"Tery_0012_019.png\"> |\n",
      "| Tery_0013 | <img src=\"Tery_0013_simIMS101.png\"> | <img src=\"Tery_0013_004.png\"> | <img src=\"Tery_0013_019.png\"> |\n",
      "| Tery_0014 | <img src=\"Tery_0014_simIMS101.png\"> | <img src=\"Tery_0014_004.png\"> | <img src=\"Tery_0014_019.png\"> |\n",
      "| Tery_0019 | <img src=\"Tery_0019_simIMS101.png\"> | <img src=\"Tery_0019_004.png\"> | <img src=\"Tery_0019_019.png\"> |\n",
      "| Tery_0021 | <img src=\"Tery_0021_simIMS101.png\"> | <img src=\"Tery_0021_004.png\"> | <img src=\"Tery_0021_019.png\"> |\n",
      "| Tery_0027 | <img src=\"Tery_0027_simIMS101.png\"> | <img src=\"Tery_0027_004.png\"> | <img src=\"Tery_0027_019.png\"> |\n",
      "| Tery_0035 | <img src=\"Tery_0035_simIMS101.png\"> | <img src=\"Tery_0035_004.png\"> | <img src=\"Tery_0035_019.png\"> |\n",
      "| Tery_0037 | <img src=\"Tery_0037_simIMS101.png\"> | <img src=\"Tery_0037_004.png\"> | <img src=\"Tery_0037_019.png\"> |\n",
      "| Tery_0043 | <img src=\"Tery_0043_simIMS101.png\"> | <img src=\"Tery_0043_004.png\"> | <img src=\"Tery_0043_019.png\"> |\n",
      "| Tery_0045 | <img src=\"Tery_0045_simIMS101.png\"> | <img src=\"Tery_0045_004.png\"> | <img src=\"Tery_0045_019.png\"> |\n",
      "| Tery_0046 | <img src=\"Tery_0046_simIMS101.png\"> | <img src=\"Tery_0046_004.png\"> | <img src=\"Tery_0046_019.png\"> |\n",
      "| Tery_0047 | <img src=\"Tery_0047_simIMS101.png\"> | <img src=\"Tery_0047_004.png\"> | <img src=\"Tery_0047_019.png\"> |\n",
      "| Tery_0058 | <img src=\"Tery_0058_simIMS101.png\"> | <img src=\"Tery_0058_004.png\"> | <img src=\"Tery_0058_019.png\"> |\n",
      "| Tery_0060 | <img src=\"Tery_0060_simIMS101.png\"> | <img src=\"Tery_0060_004.png\"> | <img src=\"Tery_0060_019.png\"> |"
     ]
    },
    {
     "cell_type": "heading",
     "level": 2,
     "metadata": {},
     "source": [
      "Whole graphs:"
     ]
    },
    {
     "cell_type": "code",
     "collapsed": false,
     "input": [
      "!/Applications/Bandage_Mac_v0/Bandage.app/Contents/MacOS/Bandage image sim_IMS101/assembly_graph.fastg sim_IMS101/sim_IMS101_whole_graph.png --scope entire --query IMS101_unique_genes.fasta --ifilter 90 "
     ],
     "language": "python",
     "metadata": {},
     "outputs": [],
     "prompt_number": 33
    },
    {
     "cell_type": "code",
     "collapsed": false,
     "input": [
      "!/Applications/Bandage_Mac_v0/Bandage.app/Contents/MacOS/Bandage image 004/assembly_graph.fastg 004/004_whole_graph.png --scope entire --query IMS101_unique_genes.fasta --ifilter 70 "
     ],
     "language": "python",
     "metadata": {},
     "outputs": [],
     "prompt_number": 32
    },
    {
     "cell_type": "code",
     "collapsed": false,
     "input": [
      "!/Applications/Bandage_Mac_v0/Bandage.app/Contents/MacOS/Bandage image 019/assembly_graph.fastg 019/019_whole_graph.png --scope entire --query IMS101_unique_genes.fasta --ifilter 70 "
     ],
     "language": "python",
     "metadata": {},
     "outputs": [],
     "prompt_number": 35
    },
    {
     "cell_type": "markdown",
     "metadata": {},
     "source": [
      "##Simulated IMS101\n",
      "<img src=\"sim_IMS101/sim_IMS101_whole_graph.png\", style=\"width:500px;height:500px\">\n",
      "##004\n",
      "<img src=\"004/004_whole_graph.png\", style=\"width:800px;height:800px\">\n",
      "##019\n",
      "<img src=\"019/019_whole_graph.png\", style=\"width:800px;height:800px\">"
     ]
    },
    {
     "cell_type": "code",
     "collapsed": false,
     "input": [
      "paths_IMS101 = Paths()\n",
      "paths_004 = Paths()\n",
      "paths_019 = Paths()\n",
      "\n",
      "paths_IMS101.load_paths('sim_IMS101/unique_genes_paths.tsv')\n",
      "paths_004.load_paths('004/unique_genes_paths.tsv')\n",
      "paths_019.load_paths('019/unique_genes_paths.tsv')\n"
     ],
     "language": "python",
     "metadata": {},
     "outputs": [],
     "prompt_number": 60
    },
    {
     "cell_type": "code",
     "collapsed": false,
     "input": [
      "def path_count(tery, paths):\n",
      "    gene_obj = paths.get_gene(tery)\n",
      "    \n",
      "    if gene_obj:\n",
      "        count = len(gene_obj.paths)\n",
      "        return count\n",
      "    else:\n",
      "        return 0\n",
      "        \n",
      "path_count_file = open('path_counts.csv', 'w')\n",
      "header = 'Gene, IMS101 paths, 004 paths, 019 paths\\n'\n",
      "path_count_file.write(header)\n",
      "\n",
      "for tery in [g.name for g in paths_IMS101.genes]:\n",
      "    path_count_file.write('%s,%d,%d,%d\\n' % (tery,\n",
      "                                             path_count(tery, paths_IMS101),\n",
      "                                             path_count(tery, paths_004),\n",
      "                                             path_count(tery, paths_019)))\n",
      "    \n",
      "path_count_file.close()"
     ],
     "language": "python",
     "metadata": {},
     "outputs": [],
     "prompt_number": 61
    },
    {
     "cell_type": "code",
     "collapsed": false,
     "input": [
      "from Bio import SeqIO\n",
      "\n",
      "outIMS101 = open('IMS101_nuc_paths.fasta', 'w')\n",
      "out004 = open('004_nuc_paths.fasta', 'w')\n",
      "out019 = open('019_nuc_paths.fasta', 'w')\n",
      "\n",
      "for P, o in zip([paths_IMS101, paths_004, paths_019], [outIMS101, out004, out019]):\n",
      "    path_seqs = []\n",
      "    for g in P.genes:\n",
      "        for p in g.paths:\n",
      "            path_seqs.append(p.seq)\n",
      "    SeqIO.write(path_seqs, o, 'fasta')"
     ],
     "language": "python",
     "metadata": {},
     "outputs": [],
     "prompt_number": 62
    },
    {
     "cell_type": "markdown",
     "metadata": {},
     "source": [
      "Now reload and group paths:"
     ]
    },
    {
     "cell_type": "code",
     "collapsed": false,
     "input": [
      "paths_IMS101 = Paths()\n",
      "paths_004 = Paths()\n",
      "paths_019 = Paths()\n",
      "\n",
      "paths_IMS101.load_paths('sim_IMS101/unique_genes_paths.tsv')\n",
      "paths_004.load_paths('004/unique_genes_paths.tsv')\n",
      "paths_019.load_paths('019/unique_genes_paths.tsv')\n",
      "\n",
      "paths_IMS101.group_gene_paths()\n",
      "paths_004.group_gene_paths()\n",
      "paths_019.group_gene_paths()"
     ],
     "language": "python",
     "metadata": {},
     "outputs": [],
     "prompt_number": 87
    },
    {
     "cell_type": "code",
     "collapsed": false,
     "input": [
      "from Bio.Seq import Seq\n",
      "from Bio.SeqRecord import SeqRecord\n",
      "from Bio.Alphabet import IUPAC\n",
      "from Bio.Align import AlignInfo\n",
      "from Bio import AlignIO\n",
      "from Bio import SeqIO\n",
      "\n",
      "def consensus(alignment):\n",
      "    \n",
      "    ambig_dict = {'A': 'A',\n",
      "                  'C': 'C',\n",
      "                  'G': 'G',\n",
      "                  'T': 'T',\n",
      "                  'AG': 'R',\n",
      "                  'CT': 'Y',\n",
      "                  'CG': 'S',\n",
      "                  'AT': 'W',\n",
      "                  'GT': 'K',\n",
      "                  'AC': 'M',\n",
      "                  'CGT': 'B',\n",
      "                  'AGT': 'D',\n",
      "                  'ACT': 'H',\n",
      "                  'ACG': 'V',\n",
      "                  'ACGT': 'N'\n",
      "                  }\n",
      "    \n",
      "    consensus = ''\n",
      "    for pos in range(0, len(alignment[0].seq)):\n",
      "        bases = [b for b in alignment[:,pos] if b in set(['A', 'C', 'T', 'G'])]\n",
      "        baseSet = ''.join( sorted( set(bases) ) )\n",
      "        #print baseSet\n",
      "        if baseSet:\n",
      "            #I think the only reason we wouldnt find a baseSet would be because we had a gap in all the sequences in the alignmrnt\n",
      "            consensus += ambig_dict.get(baseSet, None)\n",
      "            \n",
      "    return Seq(consensus)\n",
      "\n",
      "\n",
      "\n",
      "unambig1 = SeqRecord(seq=Seq('CATGACTTCGTGCGATCGATTGACTAGTCGTGTAGCGGCGCGATGTCA'), id='seq1')\n",
      "unambig2 = SeqRecord(seq=Seq('CACGATTTCGTACGATCGATTGACTAGTCGTGTAGCGGCGCGATGTCA'), id='seq2')\n",
      "\n",
      "SeqIO.write([unambig1, unambig2], 'temp_align.fasta', 'fasta')\n",
      "\n",
      "alignment = AlignIO.read('temp_align.fasta', 'fasta')\n",
      "\n",
      "cons = consensus(alignment)\n",
      "print cons"
     ],
     "language": "python",
     "metadata": {},
     "outputs": [
      {
       "output_type": "stream",
       "stream": "stdout",
       "text": [
        "CAYGAYTTCGTRCGATCGATTGACTAGTCGTGTAGCGGCGCGATGTCA\n"
       ]
      }
     ],
     "prompt_number": 81
    },
    {
     "cell_type": "code",
     "collapsed": false,
     "input": [
      "#Downloaded IMS101 gene nucleotide sequences from NCBI (12/4/16). Sequence ids need reformatting. Current format is lcl|CP000393.1_gene_1 [locus_tag=Tery_0001] [location=27..1397]\n",
      "\n",
      "from Bio import SeqIO\n",
      "\n",
      "fasta = SeqIO.parse('/Users/ajb1d14/Dropbox/Job/fasta/dna/IMS101_genes_nucl.fasta.txt','fasta')\n",
      "\n",
      "formatted = []\n",
      "for f in fasta:\n",
      "    new_id = f.description.split('locus_tag=')[1].split(']')[0]\n",
      "    f.id = new_id\n",
      "    f.description = ''\n",
      "    formatted.append(f)\n",
      "    \n",
      "SeqIO.write(formatted, '/Users/ajb1d14/Dropbox/Job/fasta/dna/IMS101_genes_nucl.fasta','fasta')"
     ],
     "language": "python",
     "metadata": {},
     "outputs": [
      {
       "metadata": {},
       "output_type": "pyout",
       "prompt_number": 63,
       "text": [
        "5124"
       ]
      }
     ],
     "prompt_number": 63
    },
    {
     "cell_type": "code",
     "collapsed": false,
     "input": [
      "import subprocess\n",
      "import sys\n",
      "import os\n",
      "import shutil\n",
      "from Bio import SeqIO\n",
      "from Bio import AlignIO\n",
      "from Bio.Align.Applications import MuscleCommandline\n",
      "from Bio.Align import AlignInfo\n",
      "from Bio.Alphabet import IUPAC\n",
      "\n",
      "if os.path.exists('./alignments'):\n",
      "    shutil.rmtree('alignments/')\n",
      "os.makedirs('alignments')\n",
      "\n",
      "muscle_cline = MuscleCommandline('/Users/ajb1d14/Applications/muscle3.8.31_i86darwin32')\n",
      "print muscle_cline\n",
      "\n",
      "IMS101_fasta = SeqIO.parse('/Users/ajb1d14/Dropbox/Job/fasta/dna/IMS101_genes_nucl.fasta', 'fasta')\n",
      "IMS101_genes = {s.id: s for s in IMS101_fasta}\n",
      "\n",
      "for gene in paths_004.genes:\n",
      "    IMS101_gene = IMS101_genes[gene.name]\n",
      "\n",
      "    if len(gene.paths) > 1 and len(gene.paths) <100:\n",
      "        print '\\n%s: Total groups = %d' % (gene.name, gene.num_groups)\n",
      "        for n in range(1, gene.num_groups+1):\n",
      "            pathlist = gene.get_group(n)\n",
      "            print 'Group %d:' % n\n",
      "    \n",
      "            child = subprocess.Popen(str(muscle_cline),\n",
      "                                     stdin=subprocess.PIPE,\n",
      "                                     stdout=subprocess.PIPE,\n",
      "                                     stderr=subprocess.PIPE,\n",
      "                                     universal_newlines=True,\n",
      "                                     shell=True\n",
      "                                     )\n",
      "\n",
      "            to_align = [IMS101_gene]\n",
      "            \n",
      "            pathcount = 0\n",
      "            path_id_sum = 0\n",
      "            for path in pathlist:\n",
      "                #print '%s to %s, %d nodes (%.2f%% id)' % (path.start_node, path.end_node, path.num_nodes, path.identity)\n",
      "                to_align.append(path.seq)\n",
      "                pathcount += 1\n",
      "                path_id_sum += path.identity\n",
      "            print '%d paths, Average identity = %.2f' % (pathcount, path_id_sum/pathcount)\n",
      "    \n",
      "\n",
      "\n",
      "            SeqIO.write(to_align, child.stdin, 'fasta')\n",
      "            child.stdin.close()\n",
      "\n",
      "            aligned = AlignIO.read(child.stdout, 'fasta', alphabet=IUPAC.ambiguous_dna)\n",
      "            aligned.sort()\n",
      "            AlignIO.write(aligned, './alignments/%s_group%d.clw' % (IMS101_gene.id, n), 'clustal')\n",
      "        \n",
      "            #The IMS101 gene should be at the top after sorting ('Tery' comes before 'path') - don't include this when calculating the consensus\n",
      "            cons = consensus(aligned[1:])\n",
      "            print cons.translate()\n",
      "       \n"
     ],
     "language": "python",
     "metadata": {},
     "outputs": [
      {
       "output_type": "stream",
       "stream": "stdout",
       "text": [
        "/Users/ajb1d14/Applications/muscle3.8.31_i86darwin32\n",
        "\n",
        "Tery_0001: Total groups = 1"
       ]
      },
      {
       "output_type": "stream",
       "stream": "stdout",
       "text": [
        "\n",
        "Group 1:\n",
        "2 paths, Average identity = 92.47\n",
        "VETYLDNLWNQVLERLQLQLSKPTFETWIKTATAEQLENNCLVIHAPNPFARNWLQKYYVKTITDVVHDILGYPVEIYLTTSLVEDAGKDDSGLIWSEHKVSTLIGENSSIPKPRPVNLNPKYMFSRFVVGPNNRMAHAASLAVAESPGQEFNPLFLCGGVGLGKTHLMQAIGHYRLEIFPDSQIFYVSTEKFTNDLIAAIRKDSLQSFRKHYRAADVLLVDDIQFIEGKEYTQEEFFHTFNTLHEAGKQVVLASDRPPNQIPSLQERLCSRFSMGLIADIQAPDLETRMAILLKKSEYENMVLPRDIIEYIATRYPSNIRELEGALTRVVTYISISGLPMTVDNIAPILNPQTEKIEVSPEVVIKVVSENFNVSIEDLKSSSRKREITLARQIGMYLMRQHTDLSLPKIGEVFGGKDHTTVLYSCDKINQLQNSDLNLXQTIRKLRDRINFSNRH"
       ]
      },
      {
       "output_type": "stream",
       "stream": "stdout",
       "text": [
        "\n",
        "\n",
        "Tery_0019: Total groups = 1\n",
        "Group 1:\n",
        "2 paths, Average identity = 93.53\n",
        "MPENFRSQLVTKGVQRAPNRAMLRAVGFEDSDFTKPIIGVANAHSTITPCNMGINDLAMRAVNGVKEAGGMPQIFGTITISDGISMGTEGMKYSLVSRDVIADSIETVCNGQTMDGVLAIGGCDKNMPGAMIAIARMNIPAIFVYGGTIKPGNYNGKDLTVVSAFEAVGQYSAGKIDEIELTEVERRACPGAGSCGGMFTANTMSSAFEAMGMSLMYSSTMAAEDTEKADSTEKSAHTLVEAIRKQILPRQIITRKAIENAISVIMAVGGSTNAVLHLLAIAHAADVKLSLDDFEIIRARVPVLCDLKPSGRYVTTNLHQAGGIPIVMKMLLEHDLLHPDALTITGKTIAEQLADVPSQLPSDQDVIRPWNNPMYAQGHLAILKGNMANEGAVAKITGVKNPEITGPARVFESEEACLEAILAGKIQAGDIIVVRYEGPKGGPGMREMLAPTSAIIGAGLGDKVGLXTDGRFSGGTYGMVVGHVAPEAAVGGAIALVEEGDMITIDAHKRLLRLNISDEELEKRRQAWEPPTPRYNRGVLAKYAKLVSSSSVGAVTDAG"
       ]
      },
      {
       "output_type": "stream",
       "stream": "stdout",
       "text": [
        "\n",
        "\n",
        "Tery_0027: Total groups = 1\n",
        "Group 1:\n",
        "3 paths, Average identity = 83.00\n",
        "MSTLVIVESPTKARTIRNYLPSEYRVEASMGHVRDLPPSAEEIPEKFKREKWAQLGVNVESDFEPIYVVPKDKKKTVKELKDALKEVDELVLATDEDREGESISWHLLQLLKPKVPTKRMVFHEITPEAIRRAIDNCRNIDEQLVRAQETRRILDRLYGYTLSPVLWKKIAWGLSAGRVQSVAVRLLVNRERQRQSFKQGGYWDLKASLEQEKTPFESKLVTLGGLKIATGSDFDENTGKIAEGRHVILLNEAQAEALKEKLQYQPWTVNSVDERAVKRKPSPPFTTSTLQQEANRKLRMGARQTMRIAQSLYEQGFITYMRTDSVHLSDEAIAAARSCVEKMYGLEYLSPKPRQYTTKSKGAQEAHEAIRPAGKTFRTPQETGLKAQEFALYDLIWKRTVACQMADSRQTHITVNLQVEDAGFRSNGKRIDFPGFLRAYVEGSDDPEVALENQEVPLPAIKQGDHPTCIGIEVTGHETQPPARFTEASLVKTLESEGIGRPSTYATVIGTIVDRGYAKLQSNALVPTFTAFAVTSLLEKHFPEFVDVKFTARMEQTLDDISTGEAQWLPYLKKFYFGESGLDTQIKEQENQIDPKLARTIELDNLNANSEMTYRICIGKFGAYIEAGNGEDIVKASIPEDLTPSDLDPEQIEKLLKQKTDGPEELGTHPEQDKPIYIMTGRYGPYVQLGDESEGSKKKPKRASLPKGVNMEDVTLDLAVGLLSLPRTLGTHPETGCIIQTNLGRFGPYIVHDQGKENGKDYRSLKAEDNXLTITLERALELLAQPXRSSSXXGXIXKXXPPLKDLGKHPENGEAVGVYDGRYGPYVKHGKVNASLPKDMSVEDVTLEKALELL"
       ]
      },
      {
       "output_type": "stream",
       "stream": "stdout",
       "text": [
        "\n",
        "\n",
        "Tery_0028: Total groups = 2\n",
        "Group 1:\n",
        "1 paths, Average identity = 78.54\n",
        "MTVLYVSTTEAAFLLNISTGRLRALLNQKRVVGAKKVGRLWMMPLNDREMPEIIPGRRGPEGTWNKNNRTGNTFIHVLRKTIDYNRDNETSHPALAVKVGNKKDYCHALKIQGPCQIVYRPHQPNTSQAGGARLWIEVEPQHIVERIYFSDGDYGPPPEVLEQRAR\n",
        "Group 2:\n",
        "1 paths, Average identity = 91.81\n",
        "MSISFVSTTEAAFLLNISTGRLRTLLNQDRIRGARKVKRLWQIPLNYRGMPEIKPGRRGPQGTWNKFQRRAKTIVHVLRNTIDYNRDHGTSYPAVAVKVGNKKDYCHALKIDGSCQIIYQPHQPNRSQAGGARLWIEVEPENIVERVYFSDGDYGLPPEVLQRRVRTKDKK\n",
        "\n",
        "Tery_0035: Total groups = 3\n",
        "Group 1:\n",
        "1 paths, Average identity = 89.23"
       ]
      },
      {
       "output_type": "stream",
       "stream": "stdout",
       "text": [
        "\n",
        "TIEFIKYLQKQRPGNKLAIFWDGATYHNSQADREYLMTINQDLSEEEWLINCTLICSQCSGAKSC\n",
        "Group 2:\n",
        "1 paths, Average identity = 87.69\n",
        "TIEFIKYLQKQRPGNKLAIFWDGATYHNSQADREYLMTINQDLSEEEWLINSTLICSQCSGAKSC\n",
        "Group 3:\n",
        "1 paths, Average identity = 72.31\n",
        "TMEFVKYLQEQRLGKR*AIFGDGTTYHNSQAYREYLMLINQDLPEEEWLINCTLICSKYP*TKPC\n",
        "\n",
        "Tery_0037: Total groups = 19\n",
        "Group 1:\n",
        "15 paths, Average identity = 86.99"
       ]
      },
      {
       "output_type": "stream",
       "stream": "stdout",
       "text": [
        "\n",
        "MPGXKKGXKVXGEQEGKRGKRENLVAGRRKKEKDLIGPIIFKGSLNAVGFEQWYDQHLLPSLKIPSXL"
       ]
      },
      {
       "output_type": "stream",
       "stream": "stdout",
       "text": [
        "\n",
        "Group 2:\n",
        "6 paths, Average identity = 80.74\n",
        "SKKGKKVYGEXERKRGKRENLVAGRRKKRKRFNSANYIQRKSKCRXI*TMVSSTFITIIKNFQCT\n",
        "Group 3:\n",
        "1 paths, Average identity = 77.45\n",
        "MPSQKKVKKVYGEQEGKRGKRENLVAWRRKKEKDLIGPIIFKGSLNAVGFEQWYDQHLLPSLKIPSVL"
       ]
      },
      {
       "output_type": "stream",
       "stream": "stdout",
       "text": [
        "\n",
        "Group 4:\n",
        "4 paths, Average identity = 71.84\n",
        "SKKGKKVYGNQERKGGKRENLVAGRRKKSKDSIALIIFKVTLNAVGFEQXLAQHLLPSLKIPSVL\n",
        "Group 5:\n",
        "1 paths, Average identity = 75.00\n",
        "MPGQKKGKKVYGEQEGKRGKRENLVAGRRKKEKHLMAPIIFKGSLNAMGFEQWLN*HLLPSLKIPSVL\n",
        "Group 6:\n",
        "1 paths, Average identity = 73.85"
       ]
      },
      {
       "output_type": "stream",
       "stream": "stdout",
       "text": [
        "\n",
        "SKKGKKVYGESEGKRGKRENLVAGRRKKEKDLIAPIIFKVTLNAIGFEQWYDQHLLPSLKISSVL\n",
        "Group 7:\n",
        "1 paths, Average identity = 75.38\n",
        "SKKGKKVYGEQEGKRGKRENLVAGRRKKEKDLMAPIIFKVTLNAVGFEQWYDQHLLPSLKIPSVL\n",
        "Group 8:\n",
        "1 paths, Average identity = 73.85\n",
        "SKKGKKIYGEQEGKRGKRENLVARRRKKEKDLIAQIIFKGSLNAVGFEQWLHQHLLPSLKISSLL\n",
        "Group 9:\n",
        "1 paths, Average identity = 75.38\n",
        "SKKGKKVYGEQEGKRGKRENLVAGRRKKEKDLIGPIILKGTLNAVGFEQWYDQHLLPSLKIPCVL"
       ]
      },
      {
       "output_type": "stream",
       "stream": "stdout",
       "text": [
        "\n",
        "Group 10:\n",
        "1 paths, Average identity = 75.38\n",
        "SKKGKKVYGEQEKKRGKRKNLVAGRRKKEKDLIAPIIFKGSLNAVGFEQWYDQHLLPSLKIPSVL\n",
        "Group 11:\n",
        "1 paths, Average identity = 72.31\n",
        "SKKGKKVYG*QEVKRGKRENLVAGRRKKEKDFIAPIIFKVSLNAVGFEQWLVQHLLPSLKILSVL\n",
        "Group 12:\n",
        "1 paths, Average identity = 73.85\n",
        "SKKGKKVYGEQEGKRGKRKNLVARRRKKEKDLIAPIIFRGSLNAVGFEQWYDQHLLPSLKISSVL\n",
        "Group 13:\n",
        "1 paths, Average identity = 72.31"
       ]
      },
      {
       "output_type": "stream",
       "stream": "stdout",
       "text": [
        "\n",
        "SKKGKKIYGEQEGKRGKRENLVAGRRKKSKDLIAPIIFKFTLNSMGFEQWLSQHLLPSLKILSVL\n",
        "Group 14:\n",
        "2 paths, Average identity = 75.97\n",
        "SKKRKKVYGEQEGKRGKRENLXAGRRKKEKDLIASIIFKGTLNAVGFEQWYXQHLLPSLXIPSXL\n",
        "Group 15:\n",
        "1 paths, Average identity = 75.38\n",
        "SKKGKKVYG*QEGKRGKRENLVAGRRKKEKDLIAPIIFKVTLNAVGFE*WLAQHLLPSLKIPSVL\n",
        "Group 16:\n",
        "1 paths, Average identity = 75.00\n",
        "KKGKKVYGEQERKRGKRENLVAGRRKKEKDLMAPIIFKRTLNAVEF*QWLYQHLLPSLKIPSVL"
       ]
      },
      {
       "output_type": "stream",
       "stream": "stdout",
       "text": [
        "\n",
        "Group 17:\n",
        "1 paths, Average identity = 70.77\n",
        "SKKGKKVYGKQERKRGKRENLVAGRRKKEKDLRAPIIFKGSLNAVGF*QWYDQHLLPSLKISSVL\n",
        "Group 18:\n",
        "1 paths, Average identity = 70.77\n",
        "SKKGEKVYDYQEGKRGKRENLVAGRRKKEKILMAPIIFKGNLNAVGFEQWLNQHLLPSLKIPSVL\n",
        "Group 19:\n",
        "1 paths, Average identity = 70.77\n",
        "SKKGKKVYGEQEGRRGKRENLVVGRRKKEKDLTAPIIFKVTLNAVGFEQ*YNQHLLPSLKIPSLL\n",
        "\n",
        "Tery_0043: Total groups = 1\n",
        "Group 1:\n",
        "12 paths, Average identity = 90.92"
       ]
      },
      {
       "output_type": "stream",
       "stream": "stdout",
       "text": [
        "\n",
        "MSDWQVITGGVTAPKGYQATGIPAGLKPSGAEDLALILSDVDAIAAGVFTTTQVRAACVDYCRLHLENKPSARAILCNAGQANAATGDLGWQDAMESATELGKVLNISPESILLASTGVIGKRIKMDALKAALPQLVSTVSVEGGKAAAKAIVTTDLVTKSIALETLMSDRPVRIGGIAKGSGMIHPNMATMLSFITCDAVVSPQLWQEMLTRAVNRSFNQITVDGDTSTNDTVIALANGQSRTSAITNMGSEAEKLEAMLTEVCIYLAKAIARDGEGATCLIEVQVTGTSNEVSANKIAKTIAGSSLVKSAIFGRDPNWGRIAAAAGRAGVKFEQEDLQVKLGDFLLMENGQPLDFDRAAAREYLKQKAAGEYLKDDTVLIAVNVGDGIGSGKAWGCDLSYDYVKINAEYTT"
       ]
      },
      {
       "output_type": "stream",
       "stream": "stdout",
       "text": [
        "\n",
        "\n",
        "Tery_0047: Total groups = 1\n",
        "Group 1:\n",
        "2 paths, Average identity = 89.74\n",
        "MQILHLNLKLKGDDSVXFRXYWDXPXDXZXFQRSRGEISXLIKKSEAEYYTHLPVXYTQTGQNLYEWLNGDKRDLDRVIXDGSXXXGIVLAIATSEGLSHLPWELLHBGKDFLVNSTPXIVPVRWVPNSRSMKXXXMEDXPKNEALSVAFMPASPHNKPKLDLVAEEIXILKASQESPXSLEIEYSGCLNKLKGLINXHDXGFFDVLHLAGHAENXYFITETESGEAEYSSAXDIAXALLFKNPXLIFLSACRTAYSREXXIPSMAESLVXKGFKAVXGWGDRVLDTSAIAAAXXXYQXLSSGSTVTZAXAXTYRKLIETEKGWHXLRLYVKESLPGALVTXSXXXGRIPPHRKITTLPVKNCYYQXKQCVSILKQDSKKGVLILGKSTITSLYTDALCERLPKSKIVKLNQQIDELEFVNKLASELENSEQRNALCNAFQRGEKLKYSLRDLFKKRNETGLEPL"
       ]
      },
      {
       "output_type": "stream",
       "stream": "stdout",
       "text": [
        "\n",
        "\n",
        "Tery_0058: Total groups = 1\n",
        "Group 1:\n",
        "2 paths, Average identity = 88.76\n",
        "YRYSMEFTCLFLTLNLSHNTSELQILFISFFLLTQKLL*WLK*NSKY***IY*FH*LLPNL*LHT*SGKHKL*NAQENVFIVTFPISTLVILIIKKWM*LAQY*RVLTSLIQILKKQILRIQI*QKQNSIAPTYKKLTYRGLSSREPTFGGRISRMPIYGELI*RKLFFGMLI*ERQICGILI*IMPALLMLN*KVQFYPMVLYILT"
       ]
      },
      {
       "output_type": "stream",
       "stream": "stdout",
       "text": [
        "\n",
        "\n",
        "Tery_0064: Total groups = 27\n",
        "Group 1:\n",
        "18 paths, Average identity = 81.47\n",
        "ITKILKVKTYNLL*YXKH*LRQKSLLDKWYILSNLSSPEKIKKIYSQRMGIEAMFKDYKTGGYNLEXAKANEIRLNNLILLIAISYTISSFQXQK"
       ]
      },
      {
       "output_type": "stream",
       "stream": "stdout",
       "text": [
        "\n",
        "Group 2:\n",
        "1 paths, Average identity = 84.95\n",
        "ITKILKVRTYNLLNYKKQKYRQKYVLDKWYILSNLSSPEKIEKIYSQRMGIEPMFKDYKTGGYNSCIS*G**NEIE*FNFINSYFYTQLVHFKSK\n",
        "Group 3:\n",
        "2 paths, Average identity = 82.95\n",
        "LNHIXXKXLKVXTYNLLXYXKH*LRQKSVLDKWYILSNLSSPEKIKKIYSQRMGIEAMFKDYKTGGYNSCIS*G**NKIK*FNFINSYFIHN*FFSSPK"
       ]
      },
      {
       "output_type": "stream",
       "stream": "stdout",
       "text": [
        "\n",
        "Group 4:\n",
        "1 paths, Average identity = 80.88\n",
        "ITKILKVKTYNLL*YKKH*LRQKSLLDKWYILSNLSSPEKIKKIYSQRMGIEAMFKDYKTGGYNLESAKANEIRLNNLILLIAISYTISSFQGQK\n",
        "Group 5:\n",
        "1 paths, Average identity = 87.37\n",
        "ITKILKVKTYNLLVYKKQKYRQKSVLDKWYILSNLSSREKIKKIYSQRMGIEAMFKDYKTGGYNSCIS*G**NEIE*FNFINSYFIHN*FFSSPK\n",
        "Group 6:\n",
        "1 paths, Average identity = 81.63\n",
        "LNHIFPKILKVRKYNLLVYKK*KYCQKSVLDKWYILSNLSSPEKIKKIYSQRMGIEAMFKYYKTGGHNSCIS*G**NEIE*FNFINSYFIHN*FI*SP"
       ]
      },
      {
       "output_type": "stream",
       "stream": "stdout",
       "text": [
        "\n",
        "Group 7:\n",
        "1 paths, Average identity = 85.27\n",
        "ITKILKVKTYNLL*YKK*KYRQKSVLDKWYILSNLSSPEKIKKIYSQRMGVEAMFKDYKTGGYNLESAKANEIRLNNLILLKAISYTISSFQVQK\n",
        "Group 8:\n",
        "1 paths, Average identity = 77.78\n",
        "LNHIFPKNLKVKTYNLL*YKKQKYRQKSVLDKWYILSNLPSPENIKKIYSQRMGIEAMFKDYQTGGYNSCIS*G**NEIK*FNFINSYFIYN*LF*SPK\n",
        "Group 9:\n",
        "1 paths, Average identity = 80.65\n",
        "ILKVRTYNLLVYKKH*LGQKSVLDKWYILSNLSSPENIKKIYSQRMGIEAMFKDYKTGGYNSCIS*G**NEIK*FNFINSYFIHN*FI*IQKK"
       ]
      },
      {
       "output_type": "stream",
       "stream": "stdout",
       "text": [
        "\n",
        "Group 10:\n",
        "1 paths, Average identity = 78.95\n",
        "ITKILKVKTYNLLVYKKH*LRQKSFLDKWYILSNLSSPEKIKKIYSQRMGVEAMFKDYKTGGDNSCIS*G**NKIK*FNFINSYFIHN*FF*NTK\n",
        "Group 11:\n",
        "1 paths, Average identity = 83.16\n",
        "ITKILKVRTYNLLVYKKQKYRQKSVLDKWYIISNLSSPEKIKKIYSQRMGIEAKFKDNKTGDYNSCIS*G**NEIE*FNFINSYFIHN*FISSPK\n",
        "Group 12:\n",
        "1 paths, Average identity = 78.95\n",
        "IAKILKVKTYNLLVYQKY*LRQKSVLDKWYILSNLSSPEKI*KIYSQRMGIEAMFKDYKTGGDNSCIS*G**NKIK*FNFINSYFIHN*FFSSPK"
       ]
      },
      {
       "output_type": "stream",
       "stream": "stdout",
       "text": [
        "\n",
        "Group 13:\n",
        "1 paths, Average identity = 80.00\n",
        "ITKILNVKTYNLLNYKKQKYRQKSVLEKWYILTNLSSPEKIKKIYSQRMGIEAMFKDYKTGGNNSCISESQ*NEIE*FNFINSYFIHT*FISSPK\n",
        "Group 14:\n",
        "1 paths, Average identity = 79.17\n",
        "ITKILNAKKYNLLNYKKQKYRQKSVLEKWYILTNLSSPEKIKKYIVREWELKQCLKTIKLVVRI*NQRKPMKQD*II*FY**LFHTHLIHFKGK\n",
        "Group 15:\n",
        "1 paths, Average identity = 76.85\n",
        "ITKILKVRTYNLPMYKKH*LRQKSVLYKWYILSNLSYPEKIKKIYSQRMGIEAMFKDYKTGGDNSCIS*G**NKIK*FNFINSYFIHN*FFSSPK"
       ]
      },
      {
       "output_type": "stream",
       "stream": "stdout",
       "text": [
        "\n",
        "Group 16:\n",
        "1 paths, Average identity = 78.02\n",
        "ITKIFNVKTYNLLNYKKQKYRQKSVLEKWYILTNLSSPEKLKKIYSQRMGIEAMFKDYKTGGYNSCISEGQ*NEIE*FNFINSYFIHS*FI\n",
        "Group 17:\n",
        "1 paths, Average identity = 74.74\n",
        "ITKILNVKTYNLLNYKKHKYRQKSVLEKWYIFTNLSYPEKI*KIYSQKMGIEAMFKYYKTGGYNSCISEEQ*NEIE*FNFINSYFIHT*FISSPK\n",
        "Group 18:\n",
        "1 paths, Average identity = 83.33\n",
        "ITKILKVKTYNLLVYKKQKYRQKSLLDKWYVLSNLSSPEKIKKIYSQRIGIEAMFKDYKTGGYNLESAKANEIRLNNLILLIAISYTISSFQVQKN"
       ]
      },
      {
       "output_type": "stream",
       "stream": "stdout",
       "text": [
        "\n",
        "Group 19:\n",
        "1 paths, Average identity = 80.21\n",
        "ITKILKVKTSNLLVYKKH*LRQKSVLDKWYILSNLSSPEKIKKIYSQRMGIEAMFKDYKTGGYNIESAKANEIRLNNLILLIAISYTISSFQFQKN\n",
        "Group 20:\n",
        "1 paths, Average identity = 82.11\n",
        "ITKILKVKTYNLL*YKKH*LRQKSVLDKWYILSNLSSPEKIKKIYSQRMGIEAMFKDYKTGGYNLESAKANEIRLNNLILLIAISYTISSFQVQK\n",
        "Group 21:\n",
        "1 paths, Average identity = 77.89\n",
        "ITKIFKVKTYNLL*YKKH*LRQKSLLDKWYILSNLSSPEKIKKIYSQRMGIEAMFKDYKTVGYNLESAKANEIRLNNLILLISISYPISSFQVQK"
       ]
      },
      {
       "output_type": "stream",
       "stream": "stdout",
       "text": [
        "\n",
        "Group 22:\n",
        "1 paths, Average identity = 78.95\n",
        "ITKILKVKTYHLL*YKKH*LRQKSVLDKWYILSNLSSPENIKKIYSQRMGIEAMFKDYKTGGYNLESAKANEIRLNNLILLTAISYTISSFQVQK\n",
        "Group 23:\n",
        "1 paths, Average identity = 77.89\n",
        "ITKILKVKTYNLL*YKKH*LPQKSLLEKWYILSNLSSPEKIKKIYSQRMGIEAMFKDYKTGDYNLESAKANEIRLNNLILLIAISYTISSFQGQK\n",
        "Group 24:\n",
        "1 paths, Average identity = 73.00\n",
        "LNHKITKILKVRTYNLLNYKKHKYRQKPVVDKWYILINLSSPEKIKKIYIQKMGI*AMFKDYKTRGYNLESAKANETRLNNLILLIAISYTLNSFEGQKN"
       ]
      },
      {
       "output_type": "stream",
       "stream": "stdout",
       "text": [
        "\n",
        "Group 25:\n",
        "1 paths, Average identity = 74.31\n",
        "LNHIFPKILKVRTYNLLVYQKH*LRQKSVLDKWYILSNLSSPEKIKKIYSQRMGIEAMFKDYKTGGYNSCISKG**NKIE*FNFINSYFINN*FISSPK\n",
        "Group 26:\n",
        "1 paths, Average identity = 75.44\n",
        "LNHIFPKILKVKTYNLL*YKKQKSRQKSVLDKWYILSNLSSPEKIKKIYSQRMGIEAMFKEYKTGGDNSCIS*G**NEIK*FNFINSYFIHN*FFSSPK\n",
        "Group 27:\n",
        "1 paths, Average identity = 74.11\n",
        "ITKVLKVRTYNLLNYKKQKYRQKSVLDKWYILSNLSSPEKNKKIYSQRMGIEAMFKDYKTGGYNSCISKG**NEIK*FNFINTYFIHN*FISSPE"
       ]
      },
      {
       "output_type": "stream",
       "stream": "stdout",
       "text": [
        "\n",
        "\n",
        "Tery_0108: Total groups = 1\n",
        "Group 1:\n",
        "2 paths, Average identity = 83.81\n",
        "MSENKLLLASNTLWEKLKQQTEYALVSGALEPIPTEYEFVEQDNIPFLVRILSNLSRKDEARKEQEKNKVVTAKDFNPFLPYENDLFVADISRTHLCLLNKYNVVDYHLLIVTREFEEQENLLNLQDFQALGSCMGEFESLAFYNSGKTAGASQRHKHLQVVPLPMVPGGEKIPIDRAIATAKFNNGIGVTSKFPFRHAIAKLDNVWVHSPIESATTILEFYLILLKALGIEGSDGKSGKQSGNYNLLVTREWMLVVPRSYEDFQSISVNSLGFAGTLFVKNQEQMNIIKEHKPLTILRHVASA"
       ]
      },
      {
       "output_type": "stream",
       "stream": "stdout",
       "text": [
        "\n",
        "\n",
        "Tery_0140: Total groups = 1\n",
        "Group 1:\n",
        "2 paths, Average identity = 90.80\n",
        "ILSPYQSKLQSWPGLIEAYRSYLPVTEETPVVSLREGNTPLIPVPQIAYQVGRQVEVFVKYDGLNPTGSFKDRGMTLAISKAKEAGAKAVICASTGNTSAAAAAYARRGGMRAFVLIPDGYVAQGKLAQALLYGAEVLAIKGNFDQALEIVQDVANKYPVTLVNSVNPYRLEGQKTGAFEVVDTLGDAPDWLCIPVGNAGNITAYWMGFCTYHQIQKCDRLPKMMGFQAAGSAPIVKGXPIXHPETVASAIRIGNPASWKKAIDAQQASQGGFTAVTDEEILEAYRLLASNEGIFCEPASAASVAGLLKLKDQVPRGAQIVCVLTGNGLKDPDVAIKHSHNBXYHVGIEATTEAVAEIIGL"
       ]
      },
      {
       "output_type": "stream",
       "stream": "stdout",
       "text": [
        "\n",
        "\n",
        "Tery_0161: Total groups = 1\n",
        "Group 1:\n",
        "2 paths, Average identity = 91.11\n",
        "MTTETISKRIGVFDSGIGGLTVLRELYRQLPNESILYFGDTARLPYGTRTTEEILQFVDEIIGWLVKSEVKMVLMACNTSSALALEKVKSKFDIPILGLIVPGANAAVEQGKRIGVIATPATAASNAYRHAILEADASVQVWQVGCPYFVPLIEQNQLHDPYTYQIAEEYLXPLIQQQIDTLVYGCTHYPYLEPILRSLLPKSVNFVDPAVSLVKVXARELEIMDLQNXNXPKPTKFVVSASPQKFADLSLQLLGYKPXIQXISLPTIL"
       ]
      },
      {
       "output_type": "stream",
       "stream": "stdout",
       "text": [
        "\n",
        "\n",
        "Tery_0179: Total groups = 2\n",
        "Group 1:\n",
        "37 paths, Average identity = 93.52\n",
        "MPRKPRXJLPGYSYHXTCRCNNREFRLTRLECRQVFLFALKKVLDKFRFKLYALCIMSNHXHYLXEPXZPQELPKIMHWLNWYTAMCFNQMLNRTGHFWEKRYHSTGFKNTDKKRALNTLRYIHANPKAANMQSGFFYDFSNYGTYDRLTDDGXTXWHPAFLSLGKTLDXCAKNYRGFCXKYKPRXKXXXRXXWGSXFLPKVKKKNKKXXKXSPGQMXLPWADWEPPSNLVAEVARQFXLANCYDPZVAMXFFDDQ"
       ]
      },
      {
       "output_type": "stream",
       "stream": "stdout",
       "text": [
        "\n",
        "Group 2:\n",
        "6 paths, Average identity = 93.59\n",
        "MPRKLRQLLXGYSYHVTCRCNNREFRLTRLECRQVFLFALKKALDKFGFKFYALCIMSNHVHYLLEXSTPEDLPKIMHWLNWYTAMCFNQMLNRTGHFWEKRYHSTGFKNTDKKRALNTLRYIHANPKAANMQSGFFYDFSNYGTYDRLTDDGLTKWHPAFLSLGKTLDECAKNYRGFCRKYKPRPKPEKRSRWGSRFLPKVKKKKKNKVSPGQMRLPWADWEPPSNLVAEVARQFVLANCYDPEVAMKFFDDQ"
       ]
      },
      {
       "output_type": "stream",
       "stream": "stdout",
       "text": [
        "\n",
        "\n",
        "Tery_0190: Total groups = 1\n",
        "Group 1:\n",
        "2 paths, Average identity = 87.05\n",
        "DQEETCELLVIGGGLAGSATAYEALLKGRTVCITEITDWVGGQISSQGTSALDERGTQRSLLFYPRGYLKLRERIEEKYGKLNPGTCWVSVSCFMPYDGHGILFQMLEDAAKKGGGKLKWFPNTVIKELDISNNQINKAIAIQHQPAANTPPINTEALSQIIEDAYAYQNSTRFDKTIIQFVPQPFPNKTGGADWYVVEATETGEIIALADVPYRLGIDPQTYLNPSSPVETRDPYCTQGFTYTFAMEATETPQTHIEPPFYSQYVPYYSYELSRLANFHLVFSYRQIWSMKPDEPQPSNYRKRTIYPGDISMQNWTWGNDYRPGNQEDNLIYXRGQLQATGQLQPGGWMGGLRTETLHRGEENALGYFYWLVEGTTDSQLGEGVKQKYPNHRLLSGLDAPMGTAHGLSKYPYIRESRRIIGRVGKTXPKGFXVXEVDIAKKNFRBDXYQZXLAPDEFNYLWGIVGGFVPKDSQINSIQEIPERGRATIFPDSVGIGHYAIDFHPCMTKTPPEAPGNSERNGIRKGQGAAYPFQIPLRAMIPQKIDNLLVAGKSIATSYIAAAAYRVHSFEWSVGAATGTTIDFALERGIFPYELIDDIPSKEWELEILQSRLQENGNPIAFPKTSIFNNFWDEWK"
       ]
      },
      {
       "output_type": "stream",
       "stream": "stdout",
       "text": [
        "\n",
        "\n",
        "Tery_0222: Total groups = 1\n",
        "Group 1:\n",
        "4 paths, Average identity = 99.06\n",
        "MQLLEFPSYHFPTGVTGRLKEVLLDIVERVEISSDFSIRHPEYKPLDLPAEVVXRFQALPKQMRDKYLSLQLRSFLYGIYYNGSMQTSLALDSEENSRPLDLENNTFLGVEMEFYIQLEESNRGEGYFDSGWSVLREETDGALAVTKNGLRLHIEREKHLQESQKAAVVGDSVAIRMPKNLVQNGFYMAVGNLGSQSQVESESQSGVVRVYFNFTSEGAVVVMGSLTEKLNQVAVPFSFKVLYARDYYDRYDAGVLYFDKDNYELVRQVLSDVYRENKSYFKSEIPLFTMELAPGLGLAEEPDRKFASQESFGMNRCQMIANGLLKAWQQGDNSTEGRMRAILEQFSLLGIDLQRPYLNANSEDVYRVI"
       ]
      },
      {
       "output_type": "stream",
       "stream": "stdout",
       "text": [
        "\n",
        "\n",
        "Tery_0223: Total groups = 1\n",
        "Group 1:\n",
        "11 paths, Average identity = 94.64\n",
        "MLQSITITAEDILKHIKLSLKTSELTEEIITRKIILDAAKEAGITVEVEELQKAADTMRFVNKLHSAQDTFAWLEKSCLSIDDFEEAVYISVVAQKLVAHLFADKVEPYFYENQLNYAGVVMYEVVLDDQDLGMELFYAIEEGETSFYDVAHEYIEDIELRRQGGYRGVLYRKDLKPEISAAVFAAKPPQMIKPXVTSKGVHLIXVEEIISAELDNKLRSQIFAELFDEWVKKQVESVEVXMGLDSNSKLIAA"
       ]
      },
      {
       "output_type": "stream",
       "stream": "stdout",
       "text": [
        "\n",
        "\n",
        "Tery_0224: Total groups = 1\n",
        "Group 1:\n",
        "4 paths, Average identity = 93.56\n",
        "MPQELNLTLESNGHKPLEVDLVTLEKSLKNSNYQQTAVTKLDESVDDWSFATKELLDALPQRWTRGLLYLLIGFVAIALPWGMFSQVDETGSARGRLEPQGGTFKQELNLTFTAYTQTAKVEKVYVKQGDKIKAGDILIELESRPIHDRLAQLQIQLQNQKNRLSKIQQQKNQLEIELRTQERQNESQKLEKLAQVGQARQNAQSLKTMYNLQEQEKLTQVHQAEQNLAALRRTLNLQREEKLVQVHQAEENLGALKRALSLQXEEKMAQLNQVKRQLKDSQIAYQLSEIRWQKAMKEVERYRNLWDQGVVTEIQLVENENIGRERQNILEKSQADVEQAKLRIEEQEGSYKRVIHQGKADIKQAELRLAEQKGSYERIINQGEADIEQAELRWAEQKKNYERVVNQVKADIKQAELRLNEQENSSKTITHSGKIAISKIQEQLQSMDSQIVSIQGEIAQTNKEIDSLNFQLEQRVVRAQQGGTIFNFPIKGVGDVVQQGEMIVEIAPRETSLLLKADMATTESGSLREGMEVKMKFDAYPFQDYGVVGGWLKEISPTSKMQETAQGNVAIYELKVELDEYCIPTANECVVLRPGDTATAEVVVRQRPLIDFILDPFKKLQKGGLEL"
       ]
      },
      {
       "output_type": "stream",
       "stream": "stdout",
       "text": [
        "\n",
        "\n",
        "Tery_0227: Total groups = 1\n",
        "Group 1:\n",
        "2 paths, Average identity = 89.09\n",
        "MNKEIFEYIYSSQLTKDDEKILKLLFANKQRKEIAKALKCVETNVSHKFKAIAKKFNYLESNQDCKPTEYLVKIFSKYKPDMVDQQLIKSYASYPILMPDKPEEADSPFYIERYQVPRRSVESQCYEAIEKPGSLIRIKAPKKMGKTSLINQIQARANDNNYISQYLRFDLLIEPPNITSVNNFIKAFNKNLISLFPDVSERPNWDDNNAKISCTKDLKSLLLNLHKNFVLILDEVDEIFQYPEITKDFCGMLRHWYEESNNVKIWKNLRIVIAYSTEYHGKLDIYQSPFNVGSSIELKEFTEKEVTRLILLYQLNSEIVTDLMSMVGGHPYLIRLALYSICEEELTIEKFLEEAPTDSGIYRDHFSRHLETINKRPKIKTVFQEILKANDPVSFSDKNREVRQLEAMGLIKIQGNKAKTRCQLYQKYFGEFLA*LKTGVRC*VLGVRF"
       ]
      },
      {
       "output_type": "stream",
       "stream": "stdout",
       "text": [
        "\n",
        "\n",
        "Tery_0244: Total groups = 2\n",
        "Group 1:\n",
        "1 paths, Average identity = 89.12\n",
        "VFNSTELLIGAFIKRLTNGYHHTYGGYKSDYADIIAWAAGMALENIANSDALYHNVEHTILVTLVGQEVLRGKHIREGGVSCEDWLHYHISLLCHDIGYVKGVCRQDRGDLRLYATGVDNIKVSLPRGATDASLTPYHVDRGKLFIDERFGGHKLIETEIIKRNMELTRFPVPVDEAHQGKENYPALVRAADLIGQLSDPRYLQKISALFYEFEETGQNKKLGYNNPGDLRQGYPKFYWNVVYSYVKDAIAYLNLTQQGKQILANLSANVFRVEHDDTVPEAVFV\n",
        "Group 2:\n",
        "1 paths, Average identity = 72.83\n",
        "MFNPTQILIDTFVKELQAGYHRTYGGFKPDYPEIIAWAGNMALENIANCDALYHNVEHTMLVTLVGQEILRGKHIREGGVSPEDWLHYIISLLCHDIGYTKGVCRKDQELLGIYASGIDGGMIPLAYGSTAASLTPYHVDRGKLVIDERFGGHRLIDADQIKRNIELTRFPIPEAETYQDRNNFSGLSRAADLIGQLSDPNYLLKISALFYEFEEVGTNKVLGYKSPGDLRRNYAKFYWNGVYPYIPAALNYLELTQSGKQIIANLYANVFQVEHE"
       ]
      },
      {
       "output_type": "stream",
       "stream": "stdout",
       "text": [
        "\n",
        "\n",
        "Tery_0254: Total groups = 2\n",
        "Group 1:\n",
        "1 paths, Average identity = 78.26\n",
        "LELSEKVLEASIKWVDSNNTKAKLLISLGNNLLSQAQNIANIEPNL\n",
        "Group 2:\n",
        "1 paths, Average identity = 73.33\n",
        "LELSEKVLEASRKWVYSNTAKAQLLINLGNNMLSQAQNIANLDPN\n",
        "\n",
        "Tery_0302: Total groups = 1\n",
        "Group 1:\n",
        "2 paths, Average identity = 94.48\n",
        "MVAITDRVKNRLTIETNKIAPDTMAIRSLDWDRDRFDIEFGLQNGTTYNSFIIRGEKTALVDTSHGKFRQMYLDTLWGLIKPTEIDYLIISHTEPDHSGLAKDVIELAPQLTVVGAKIAIQFLENLTHIPFNKQIVKNGDQLDLGNGHVLEFVSAPNLHWPDTIFSYDRKTQTLFTCDAFGMHYCSEKTYDETLSDIEADYKFYYECLMGPNARSVLNAMKRMKTLGDINTIATGHGPLLRHNLVELTNRYEEWSKAKSKAETTVAVFYTSDYGYSDRLSQAIAHGIIKTGVAVEMMDLKSADPQEVRELVEMAKGIVIGAPPSTGLVGTTGEIAISTILAAANKKQAFGLFESGGGDDLSIYPLANQFKELGLKQAFPNITIKETPSELTYKLCEEAGTDAGQLLSLKKTIQQMKSLDNQLDKALGRLSGGLYIITATKGEVSSAMLASWVVQASFQPLGVSIAVAKDRAIEALMQVGDRFVLNVLREDNYQGLMRHFLKRFKPGADRFAGVNTQTANNGSPILSDALAYLECEVASRMEASDHWIIYATVDNGRVSDSDVLPAVHHRKVGNHY"
       ]
      },
      {
       "output_type": "stream",
       "stream": "stdout",
       "text": [
        "\n",
        "\n",
        "Tery_0363: Total groups = 1\n",
        "Group 1:\n",
        "4 paths, Average identity = 76.14\n",
        "MNYAPIDQIYQIFIVVPLTGLWIFGTAIIWPFNHSKNHGKTQIMSWEIFSPKISLAQPLTKPIVPEPNSTDTVVTPVTPSNNSAQTRFDITGGKYSEDNANLFHSLTRFNLGEKQIVNFISNPNIRNILTRVTGGEASIINGLIQVTGGNSSLFIMNPAGIIFGANSRLDVPRSFVVTTGLSIGFDDGWFNAVGENNYNILTGNPSTFSFPMTNSGVIINEGELTVEAGESVTLLGGTIINTGKISAPGGEITISTVPGENFVRISQEGRLLSLEIPTESSEISSTNHTEELQAFNYLLIPELLTGKSKNIEIATTIIVNDDNQIFLVGSNQVIPTDSGTTIVSGTLDISSAENSEFLNTSRINILGEKVGLFDANLNASGIYGSGNIRIGGDFSGLATVPNATRTYVDEKTKISATSSLGEGGNIVISSAEETIFFGKIEAISYVIEESRLVEPNSRKNIVEVSSQGTLIFDGTVNLGSPNTLGNLSLKSENIEILDGNIALEDNPLTGEAQTESQIAKSSIETISNTNIRIEASDNITIRDLSEAELNFSNVRGQISFIADSNQNDLGSFRIDSENTINTQGAGISIFGTTINTNNINTKGGELNLSSSQGFVMTNNLSTANLNTTVETNGGDININAQGDVITGEISSSGESSGGNININSQTGRIEITAVDIDTTSSNGRGGNVSMNAATDIDIENINAKGKQSGGNLDLRAENTLDLRVISTSSDNRETGNISLTGREINLLGGENSISSNGKLTLHSASENQNITLGGFENTAALNLTTSDLATLANGFASITIGKSENSGIITIYSPENSNNSGVRFRSPATIQAESITGTGTITGTDDAKITLNAKGDILTGNISAPGDISITSIQGKIKTGDVSANILENTIGNIDIVSGGAIETGELTTIGRTTGGNINLQAGDRLKTGKINSSATPGNAGEIKLSAENDIEVFSIRAEGGNIGANVEISTGSTLKIKDSFLSQNQNIASISTAGELAGGDINISTGKTFTVGDVTTNGSVGAITDGKITVSPDRSLPNRFNLKKVENSQPQNNNSSQTTTETESQTQKSQSQLDSAESSNSQEDNQTSLVTQTESSNSQEDNQTSLVTQXESSNSQEDNQTSLVTQTESSNSQEDNQTSLVTQTESSNSQEDNQTVVITQPKLVEASDNIEVEITQIPIEKDNEPSLNTNQEVQIVSQNPEPSLPILESSEMTNSVRENINNIESSISLKEQTSPALLLVVEDQHETIIELEQTNNSQLIPELLENPELTKIPEDNNSNITPPVSNILEDTNSSVTPSVSDQTVVIENPSLGKSLQKQTPTIVVEENITTTVPEISSHNFHQISLTDTVSQIELVRHREYISYLGKNISRRIATETDIRNTLSSVAKIGIRPVIVYVSAQPNYLELQLFLPNGKSVVTGIVKNRDEVIEVAKKFTNQIRTPSRLDSHDYLSNAQELYQWLITPIAEKLVENNINMIIFSMGRGLRTLPVAALHDGQQFLVEKYSLGLIPNFTLTNTEYVGLKGSQILAMGASEFSDQANQTPLPAVPVELKAIVNNLWPGKAFLNQEFTLENLKQERRKEKFRIIHLATHGEFHPGGADNSYIQFWDTKLSLKELGQLPLHEPQVELLVLSACTTALGDERAELGFAGLAHKAGVKSALASLWYVSDTGTLILMTEFYQHLSKKLIKAEALQKAQLAMLRGDVYIQDGHILRNGNQGIPLPQELARRVDKDLSHPYYWAAFTMIGSPW"
       ]
      },
      {
       "output_type": "stream",
       "stream": "stdout",
       "text": [
        "\n",
        "\n",
        "Tery_0369: Total groups = 2\n",
        "Group 1:\n",
        "1 paths, Average identity = 96.98\n",
        "MLLQDKQMTAQDFMSLLDEIIEKQHLLKHTFYQMWNQGKLSLEMLQEYAQEYYLQVHYFPTYISATHAACDDLEIRKMLLENLIEEEMGAANHPELWLRFAEGLDVKREAVKEREHLAKTKESVSILKELARSENPAKGLAALYAYESQIPEVATTKIAGLKEFYGIDSEAALSFFKVHEKADEIHSKVTKEALVKLCETDAQKQEALTAAATAVDALNLLLDGVYEEYCQA\n",
        "Group 2:\n",
        "1 paths, Average identity = 82.91"
       ]
      },
      {
       "output_type": "stream",
       "stream": "stdout",
       "text": [
        "\n",
        "MLTENTKMTVQEFLVKLDEIIEKQHLLKHQFYQMWNEGKLSLKMLQEYAQEYYLQVHYFPTYVSATHAACDDLEIRKMLLENLIEEEMGVANHPELWLRFAEGLGVERKAVQERQHLGKTQESVKLLQQLSQSKNPARGLAALYAYESQIPEVATTKIAGLKEFYGINSEAALEFFKVHEKADEIHSQATAEALVKLCETNAQKQEALTAAAIAVDALNLLLDGVYEEYCQVVN\n",
        "\n",
        "Tery_0370: Total groups = 1\n",
        "Group 1:\n",
        "4 paths, Average identity = 89.38\n",
        "LSGYLIYHPPRVVSDFESTRVYYDNTNGNQDPYVWNQKFLHTYCHITQMSPQVGNINFWISGDTFPDFSSLYCDLVFVVAEKLYWENPNTIKASDPIVDTDEAYNDHYSWFEQHHYXRRRRFTLKADPESSFQPQNISQELIDIVPFLXEEGFSLTQLRKNLRSGFNSKPMGLGLIATKLYSWLNQYANVKLSGAKLQKIRQENPYLTSARANSSCTKSSPRKSRSC"
       ]
      },
      {
       "output_type": "stream",
       "stream": "stdout",
       "text": [
        "\n",
        "\n",
        "Tery_0377: Total groups = 1\n",
        "Group 1:\n",
        "8 paths, Average identity = 97.67\n",
        "MNTNNRHYHITTFGCQMNKADSERMAGILDNMGLISSEDPNKADIILYNTCTIRDNAEQKVYSYLGRQAKRKHKQPDLTLIVAGCVAQQEGEALLRRVPELDLVMGPQHANRLQDLLEQVFNGNQVVATEPIHIVEDITKPRRDSKITAWVNIIYGCNEHCTYCVVPSVRGVEQSRTPEAIRAEMEELGRQGYQEITLLGQNIDAYGRDLPGVTKEGRNKYTLSDLLYYVHDVPGFERIRFATSHPRYFTERLIRACAELPKVCEHFHIPFQSGDNKLLKAMARGYTHEKYRRIIDXIRELMPDASISADAIVGFPGETEAQFENTLKLVEDIGFDQLNTAAYSPRPGTPAALWENQLSEEVKADRLQRLNHLVGVKAAERSQRYMGRIEEILVEDTNPKNAAQVMGRTRGNRLTFFEGDIAQLKGKLVKVKVTEVRPFSLTGEVKEFVLV"
       ]
      },
      {
       "output_type": "stream",
       "stream": "stdout",
       "text": [
        "\n",
        "\n",
        "Tery_0378: Total groups = 1\n",
        "Group 1:\n",
        "3 paths, Average identity = 96.23\n",
        "VFEKFSQGRWLILSIFLTVLGNPVKVSGHPVLISSQDPETARTFWPSRTQTSSLAQVPDPIPPKTPEAPLPKFPIQIESPQLDITPPEASGNESESPEPYLRVKINKFEFVGYTAFTKEELEEVVKPFTQRPITFAELLQAEKAVTDKYVQAGYINSGAVILAGQNLKDGVVRIQIIEGEIEDIQVTVTGRLNPNYVRSRLVLATGKPFDQYKLLRALQLLQLDPLIAIIKAEVSAGPLPQASLLTVSVTQADSFSIESFANNSRAPNVGSFQRGLRLKQGNLLGFGDGLNASYTNSDGSNNFSFNYTIPFNARNGRIQLTTELTDTRVVESPFDDLDIMGESQYYELTVRQPIVQFPTQELALGLTFYRQNRESELLGEPFPLSPGANEKGETRISAIRLFQDWVKRNQAEVFAVRSQFSLGVGAFNATINDDLPDSRFFSWRGQGXYVRRLAKNSDSLLVVRTNIQLADRGLLPVEQFRIGGVNSVRGYRQDLSFTDNGLFLGTEXRLPIMRWDNVEGVLQIVPFVDFGVGWNSSDLPEPEHNSLXGVGFGLLWQMSDRLSARFDWGIPLMDVTSEEKTLQENGLYFTIDAKF"
       ]
      },
      {
       "output_type": "stream",
       "stream": "stdout",
       "text": [
        "\n",
        "\n",
        "Tery_0381: Total groups = 2\n",
        "Group 1:\n",
        "1 paths, Average identity = 96.58\n",
        "MNQNKLVLLGFSFAAFTIAWSVASLIIYSPSGQGQEPSLILNSDSVKVKLLSEKKTDKKNDSDNIDFSGTGRPNTRTSGGTKNPDCPKVDPPMTALVPENMGLTVSNSPTFWFYIPYNSQEVQTGQFVLQDEEGERDIYRTTFNFSATPGIVSIPLPENLPKSLEIERPYLWLFLVFCNPEDTDANAVLEGYVQRVKGNSNFQIYSDYANKGIWHDALSDLAERRRREPQEPKLKGYWKKLLKAAGLESFAEEPILPCCIPEK\n",
        "Group 2:\n",
        "1 paths, Average identity = 76.43\n",
        "MNQNKLVWPGVSCAAFTITCSVASLIIYSPSAQGQPPSLILDSDSVKVKLLSKKKTDLDNIDFSGTGRPNTRIPGGTRNPYCPTVDRSMTALVPEEMGLTVSNSPTFWFYIPYNSEDVQTGEFVLQDEKGEKDIYRTTFNFSDTPGIVSLPLPENLPKSLEIERPYLWSLVVFCKPEDKDDNLALEGYVKRVKGNSNFQVYTDYAKKGIWHDALTDLAERRGDKPQDPKLEEDWKILLKAVQLEDLAEEPMKRCCTPEK"
       ]
      },
      {
       "output_type": "stream",
       "stream": "stdout",
       "text": [
        "\n",
        "\n",
        "Tery_0382: Total groups = 1\n",
        "Group 1:\n",
        "2 paths, Average identity = 95.61\n",
        "KRHGICHQQVMERRRALLIGITIFGEGLDNFSPTLEDVQVMKKCLEEKGGFEVIXEENLDRKDMEYVINKFFYESQKSDTLLIYVSSHGITDAEGTFYIATSDTSYDRDTEIITGAIEASYFHRQIKNCTSNSQVWLLDLCYSGAFVRGYSKGKNDSAENLLIQQLLNQKQRYQAISKGISSDNSVEIQQKEGLVIITSSAGDQKSYFMENQSDLSIFTYYAQLALNGDAANEEGKVTVDSFYKFLEVNIPKYVKDNIPKFKYGSGMKPEIHILHGEAYDIVLAKTQLEQKLQFRRNESKENLFKCKYQIEKPKNKLGIAQEEPEIIFKELPNTNLKREINQGQYQQKSFKILKSYTILSIVLLVSIFITTLVTKPPERVQQFKLQAFDQMMRWRPDEGPDKRLLIVTVTPEDIKYQKEMGWEIGGESLSDQAIIKVLDKLNTYKPLVIGLDIFRDFPAKDEHLKTQLAQNKSLIAVCKIKEEKNNSIGIEPPPEIQEKQRIGFADFPQDSGGVIRRQLLGMSIPENSLCSSYSFSLRIAIRYLKEKGIENRLGEFNQGNLKINEVPFHKLEKDAGGYHLPKREALGYQILLNYRSSEKIAETMTLKELLDGSRDSKLADLVKNKIVLIGTDAAEVGYEDMHLTPYNKKIPGIMIHGHMISQILSAVLDGRTLLWWWPQALENLWVWGWSFIGGILGICWSRQVFGRWFIWMTVVAVPVTLWGICFLVFIEIGGWLPLVPSILGFFLTGITIIVYHQTINDSIFL"
       ]
      },
      {
       "output_type": "stream",
       "stream": "stdout",
       "text": [
        "\n",
        "\n",
        "Tery_0383: Total groups = 2\n",
        "Group 1:\n",
        "1 paths, Average identity = 96.92\n",
        "MNNISNVKLIITLIHIDSNRLETETIKLLKQMKQLKLLNVIEKVKRILEPESNSSEPNKGGGYLPGIIELELEAEEERITRSMSLVDEKTNGKYKVQFFRKDGTLILQAERQNCSDEEFYTLLHEVKNMM\n",
        "Group 2:\n",
        "1 paths, Average identity = 77.10\n",
        "MNNISTVKLIITLTDVDSDRLEEETIKLLKHMKQLKLSNVIEKVKRILEPETNSSEQNKAGGGYLPGKLEVELEGGEEQSPRVMSLVDEKTNGKYKVQCFRRDGTLIVQAERQNCSDEEFYALIDKIKNMM\n",
        "\n",
        "Tery_0385: Total groups = 3\n",
        "Group 1:\n",
        "4 paths, Average identity = 96.19"
       ]
      },
      {
       "output_type": "stream",
       "stream": "stdout",
       "text": [
        "\n",
        "MLNEQKTTRNIDSLFWLEWQKHQXYLYRCCVKWMGGNSTNAEDALSMAMLKAREKIQQCSRRIENFKAWLGKLTYNLCMDLLKESARYNQGVEDLDLVISGADGSTQGGDPFFVVAYEELEDFCNLAIDDLPKRLRETFVLLYQKQFSSQEIAAELNISDSNVRKRISXGRAILEKRRQXEYEKQEEIVIVENQKIESSQPQELDXEXVXAEIPQEXILSEEKSEPILXEATVEEELREIETFGNGGQQLFALSVLLKLLRVENKKPKGXKQQKXGLXSRCTNIGLALLRGRMNISGVXILLTQKYKEXLKWLTHKVIEXQPHYLYNFGKGELKALEKQLNWLIXEXFLXPSAAKLVYKDXC"
       ]
      },
      {
       "output_type": "stream",
       "stream": "stdout",
       "text": [
        "\n",
        "Group 2:\n",
        "22 paths, Average identity = 76.59\n",
        "MLNKRKRTANIDSLFWQEWQKHQEYLYRCCVKWMGGNSTNAEDALSMAMLKAREKIQQCSKTIENFKAWLAKLTYNLCMDLLKKYNRYSQQVEDLDLVVSRADGSTQGGDPFLVVAYQELEDFYHLAIDDLPKRLRETFVLFYYEQYSYEEITTELNISECNVRKRISQGRAILEKRRQEEYEKQEEIVIVEEHKVENSPAQELETFIVATEIPQEAVLSEYKSEPILVEAKVEEELREIETVENGRQQLVALSVLEKSLRDAKKKPKGKKQQKCGLLSXCTNIVLALLRGRMNISGVGVLLAQQYXERARWLTHKVIEVLPHLYNFGNGELKXLEKQWSKXGLENTLG*KLSTV*SQLLVGFDCC"
       ]
      },
      {
       "output_type": "stream",
       "stream": "stdout",
       "text": [
        "\n",
        "Group 3:\n",
        "1 paths, Average identity = 73.20\n",
        "MLDRHKGTTKIDSLFWQEWQKHQDYLYRCCVKWMGGNSTNAEDALSMAMLKAREKIQRCFETIQNFKAWLVKLTYNLCMDLLKESNHYNQKVEALDLVVSLADGSTQGRDPSLVAVYEELEDFCRLAIDDLPKRLRETFVPLFDKQYSYKEIATELKISESNVRKRISQGRAILRKRRQEEYEKQEEIVIVEEHKVENSLAQELDTEIVATEIPQETVLSEEKSEPLLVEATVEEELREIETVSYGTQQLVTLSMFVKSLRDAKKKLKGKKQQKCCLLSTWANIVLALLRGRMNISGVGVLLAQQYKERARWLLHKALEALTHLYNFGNRKLKALEKQLNWLAADNLLGPSAEKLRYRYFC"
       ]
      },
      {
       "output_type": "stream",
       "stream": "stdout",
       "text": [
        "\n",
        "\n",
        "Tery_0388: Total groups = 2\n",
        "Group 1:\n",
        "3 paths, Average identity = 90.74\n",
        "MSNFSQFTPTLALXXAIISTILTTAYLTPVLAEIPKWSTSATDLKPPSKKLASKPNPTAPSLKKTEKFNHTLRPRLYYSAKYRCR\n",
        "Group 2:\n",
        "1 paths, Average identity = 95.29\n",
        "ISTFSQFTPTLTLSYAIISTILTTAYLTPVLAEIPKWSTSATDLKPPSKKLASEPSPTPASLKKTEKFNHTLRPKLYYPAKYRCR"
       ]
      },
      {
       "output_type": "stream",
       "stream": "stdout",
       "text": [
        "\n",
        "\n",
        "Tery_0392: Total groups = 1\n",
        "Group 1:\n",
        "4 paths, Average identity = 98.08\n",
        "VQITKRNINLTVDDSLMRVYVATPKPPGTYPGIIFYSDIYQLGGPIIRLANYLAGYGYVVAAPEIFHRTESIGLVIEPDDLGRMRGNDNARRTAVPEYDADTQAVIEFLKAESSVAADQIGAMGFCIGGHLAFRAAFEKEIKATVCCYPTGIPSGKLGKGVADTIKRVSEIXGEILIVFGSKDPHTPEGDRQTIIQTLEQTGVTHKIFLYEAEHTFMRDDGYRYDSVATTKAWSEITPFFNSVFKNNGNK"
       ]
      },
      {
       "output_type": "stream",
       "stream": "stdout",
       "text": [
        "\n",
        "\n",
        "Tery_0419: Total groups = 2\n",
        "Group 1:\n",
        "3 paths, Average identity = 83.49\n",
        "MNSILKKTAESIEINQKLQQVQQQKRLMVIDARVENYGQLGTGVTPETKVALIDPNRDGIEQITELLSNYPTNSLHIVCHGDPGILYLGKTPISEQNLPKYTGYLQEWGIIDILLYSCNIASQSDNLLQLLHKFTGANIAASKHPVGNPLKGGTWDLESRIGSVASEIAFLPQVIQYYPGVFHGLQFYLGQDETGKVRAYLGKDDRESNGYTNLFSNDYLTLGSVGITDERLVAGADTAFEYSYTDNASSFPGFTPQAYMFYETPVDGSPADDSFDRERNTYFQVNFLDELKVWDGNDFVSTGGEVMTWSQQKKSVINEDQFRELVNEVTTGEGVVEGKPYYYSEVRVAGRDHWHYVMELQEGTSATGIDNGLYLLEVQVETNIPNSIPSDPIYILYNQNLSPAPDADQKTILEAQNYLLENFGITEPAQEFKAFLNSSQNDGVESDATGLATFNLNAEQTEIEYTIQLNGLDLIEDPAERKADNAVSKINLHHRDYGINGDHVFNIFGVGSEDDNNIEINYENETITGKWDWSDAAVNFGRHSEPKSGGTYGDRKSPELKIEVIQAYDNGNGTLGIKLRDGEPQDELDIFEGTQLKFNNGTTVEITENITIFKEESSTAKANILEGDNILAGEIAILPPAQRSATTPVSTSLVHLFHGNLYVQVQTNKNSDPGDIRGQILPVRTLADAKENVLSGGTGNELFELDAADVGGIEIKELAGRETLTLEGIETSMSNLHRKDNDLIIDVNQDGSFQTAEDLTLKNFFADQIGEVGKGYIELVDGISGSEILTSISSSENDLLHGTSADNVRNADSGDDVIFGFAGNDKLYGNQGNDQLYGGNGDDFLHGGKEHDHLIGSIGNDIVFGEKGNDLLEGNEGDDLLYGGEGDDTLKGGTGKDQFIFAADKTFSQANLGVDKIHDFVSGQDRITLDVNVFTAIATTTGESLDGSEFAVVDNEIDVFSADATIVYNSANRTLYYNPNRIENGLGDGDRFAIFSNEVSLDADDFLVXA"
       ]
      },
      {
       "output_type": "stream",
       "stream": "stdout",
       "text": [
        "\n",
        "Group 2:\n",
        "1 paths, Average identity = 74.22\n",
        "MNSILKKVTESVEINQKLQQVQQQKRLMVIDTRVENYRQLATGVTPETKVALIDPNLDGIEQITKLLSNYPTNSLHIVCHGGPGILYLGKTPITEENIPKYTGYLQEWGIVDILLYSCNIASPSNNFIQLLHKFTGANIAASRHPVGNPLKGGTWDLESRIGSVASEIAFLPQVIQYYPGVFHGLQFYIGQDETGKIRAYLGKDNRVSNGYTNLFSDDYLTLSPVGIWDDREIKEKDTAFDYRYTNNASYFPGFTPQIDMFYETPLDGSPADDSFDRERNTYFQVNFLDELKVWNGENFVATGGEVMTWYQENWDVNDKGEWYAEFANEVTTGEGVVEGAPYYYAIYDTAGKDHWHYVMELQEGTSPTGIDDGLYLLPIEVETNIPNSIPSDPVYILYNQNLSPAPDADQDTILAAQSYLLEEYGMTEPAQEFKAFLDSSQNGVESDATGVANFSLNAEQTEIEYTIELNGLDLIEDPAKRTADNAITEIHFHHRGYGTDGSHVLNVFGTPSEDDDNIEIDYENERITGKWDWSDAAANFARHSEPKSDGVYGDWKAPELKIEVVEAYNNGALGIKLRDGEPEDELNIFEGTQLNFDNGARVKITENITISKAESSIVKANILEGDDIPAGKIAILPPAQMPGTTPVTTSLFNLFHGNLYVQVHTNQNPEPGDIRGQILPARTLADAEGNVLSGGTGNELFELNAADVGGLKIVESAGRETLILEGMETSLSNLHREDNDLIIDINQDGSFQTGEDLTLKDFFANEVGKVGKGYIELVDGISGSEISTSISSSENDLLHGTSADNVQHGDSGGDIMFGFAGNDKLYGNRGNDELYGGDGDDLLHGGKDNDSVIGGKGDDSMFGDKGNDLLESNEGDDLLNGGQGDDTLTGGEGSDRFVLAPGNGSDIIQDFEDGIDLLQLD"
       ]
      },
      {
       "output_type": "stream",
       "stream": "stdout",
       "text": [
        "\n",
        "\n",
        "Tery_0424: Total groups = 2\n",
        "Group 1:\n",
        "1 paths, Average identity = 83.25\n",
        "MNSILKKVTESVEINQKLQQVQQQKRLMVIDTRVENYRQLATGVTPETKVALIDPNLDGIEQITKLLSNYPTNSLHIVCHGGPGILYLGKTPITEENIPKYTGYLQEWGIVDILLYSCNIASPSNNFIQLLHKFTGANIAASRHPVGNPLKGGTWDLESRIGSVASEIAFLPQVIQYYPGVFHGLQFYIGQDETGKIRAYLGKDNRVSNGYTNLFSDDYLTLSPVGIWDDREIKEKDTAFDYRYTNNASYFPGFTPQIDMFYETPLDGSPADDSFDRERNTYFQVNFLDELKVWNGENFVATGGEVMTWYQENWDVNDKGEWYAEFANEVTTGEGVVEGAPYYYAIYDTAGKDHWHYVMELQEGTSPTGIDDGLYLLPIEVETNIPNSIPSDPVYILYNQNLSPAPDADQDTILAAQSYLLEEYGMTEPAQEFKAFLDSSQNGVESDATGVANFSLNAEQTEIEYTIELNGLDLIEDPAKRTADNAITEIHFHHRGYGTDGSHVLNVFGTPSEDDDNIEIDYENERITGKWDWSDAAANFARHSEPKSDGVYGDWKAPELKIEVVEAYNNGALGIKLRDGEPEDELNIFEGTQLNFDNGARVKITENITISKAESSIVKANILEGDDIPAGKIAILPPAQMPGTTPVTTSLFNLFHGNLYVQVHTNQNPEPGDIRGQILPARTLADAEGNVLSGGTGNELFELNAADVGGLKIVESAGRETLILEGMETSLSNLHREDNDLIIDINQDGSFQTGEDLTLKDFFANEVGKVGKGYIELVDGISGSEISTSISSSENDLLHGTSADNVQHGDSGGDIMFGFAGNDKLYGNRGNDELYGGDGDDLLHGGKDNDSVIGGKGDDSMFGDKGNDLLESNEGDDLLNGGQGDDTLTGGEGSDRFVLAPGNGSDIIQDFEDGIDLLQLD"
       ]
      },
      {
       "output_type": "stream",
       "stream": "stdout",
       "text": [
        "\n",
        "Group 2:\n",
        "3 paths, Average identity = 76.84\n",
        "MNSILKKTAESIEINQKLQQVQQQKRLMVIDARVENYGQLGTGVTPETKVALIDPNRDGIEQITELLSNYPTNSLHIVCHGDPGILYLGKTPISEQNLPKYTGYLQEWGIIDILLYSCNIASQSDNLLQLLHKFTGANIAASKHPVGNPLKGGTWDLESRIGSVASEIAFLPQVIQYYPGVFHGLQFYLGQDETGKVRAYLGKDDRESNGYTNLFSNDYLTLGSVGITDERLVAGADTAFEYSYTDNASSFPGFTPQAYMFYETPVDGSPADDSFDRERNTYFQVNFLDELKVWDGNDFVSTGGEVMTWSQQKKSVINEDQFRELVNEVTTGEGVVEGKPYYYSEVRVAGRDHWHYVMELQEGTSATGIDNGLYLLEVQVETNIPNSIPSDPIYILYNQNLSPAPDADQKTILEAQNYLLENFGITEPAQEFKAFLNSSQNDGVESDATGLATFNLNAEQTEIEYTIQLNGLDLIEDPAERKADNAVSKINLHHRDYGINGDHVFNIFGVGSEDDNNIEINYENETITGKWDWSDAAVNFGRHSEPKSGGTYGDRKSPELKIEVIQAYDNGNGTLGIKLRDGEPQDELDIFEGTQLKFNNGTTVEITENITIFKEESSTAKANILEGDNILAGEIAILPPAQRSATTPVSTSLVHLFHGNLYVQVQTNKNSDPGDIRGQILPVRTLADAKENVLSGGTGNELFELDAADVGGIEIKELAGRETLTLEGIETSMSNLHRKDNDLIIDVNQDGSFQTAEDLTLKNFFADQIGEVGKGYIELVDGISGSEILTSISSSENDLLHGTSADNVRNADSGDDVIFGFAGNDKLYGNQGNDQLYGGNGDDFLHGGKEHDHLIGSIGNDIVFGEKGNDLLEGNEGDDLLYGGEGDDTLKGGTGKDQFIFAADKTFSQANLGVDKIHDFVSGQDRITLDVNVFTAIATTTGESLDGSEFAVVDNEIDVFSADATIVYNSANRTLYYNPNRIENGLGDGDRFAIFSNEVSLDADDFLVXA"
       ]
      },
      {
       "output_type": "stream",
       "stream": "stdout",
       "text": [
        "\n",
        "\n",
        "Tery_0427: Total groups = 3\n",
        "Group 1:\n",
        "2 paths, Average identity = 73.00\n",
        "IDPLAFVLHSIATFGMVDLNESFITFLFVHLSVSARGRTHSVVKALTSFRPASGIDVQSLPCGLYCQPNNKAXGIAPTRT\n",
        "Group 2:\n",
        "1 paths, Average identity = 72.41\n",
        "PLTFVLHPIATFGMVPFHESFITFLFVHLSASARSLTPEL*LKL*PHLDQLRGLMFIRYPVAYAVNPTTRRVEFHHQG\n",
        "Group 3:\n",
        "1 paths, Average identity = 72.36\n",
        "PLTFVLHSMTFFGMIISDESFITFLFVYLSVFARSLTSEW*LKL*PHLGQLQGLMFSLYPVAYAVNPTTRQ*ESHLQ"
       ]
      },
      {
       "output_type": "stream",
       "stream": "stdout",
       "text": [
        "\n",
        "\n",
        "Tery_0430: Total groups = 20\n",
        "Group 1:\n",
        "1 paths, Average identity = 76.81\n",
        "MNKAKTLKRKLGNPKLFLRVAWDTDDIRSQISVNPHLKWKDIDWKRALKNVFKLQKLIYRASSRGEIKL\n",
        "Group 2:\n",
        "1 paths, Average identity = 73.91\n",
        "MNKAKTLKRKLGNPKLFLRVAWDTDDIRSQISVNPHLEWKDIDWKRALKNVFKLQKLIYRASSCGEIKL\n",
        "Group 3:\n",
        "1 paths, Average identity = 76.12\n",
        "MNKAKTLKRRLGNAKSFFSVAWDTDDIPNQVTINPNLKWKDIDWKRVEKNVFKLQKLIYRASNRGEI\n",
        "Group 4:\n",
        "1 paths, Average identity = 77.61"
       ]
      },
      {
       "output_type": "stream",
       "stream": "stdout",
       "text": [
        "\n",
        "MNKAKTLKRRLGNLKPFLSVAWDTDDIPSQVSVNPNIKWRDINWKRALKNVFKLQKLIYRASSCGEI\n",
        "Group 5:\n",
        "1 paths, Average identity = 71.64\n",
        "MNKAKTLKRRLGNTKPFFSVAWNTEDMPSQITVNPNFKWRDIDWKRALKNVFKLQKLIYKASSRGEI\n",
        "Group 6:\n",
        "3 paths, Average identity = 74.40\n",
        "MNKAKTLKXXLXNPKXFXXVAWDTDBIXXXXXXXPXLKXXDINWKXXXKNXFKLQKLIYRASSXGXIP\n",
        "Group 7:\n",
        "2 paths, Average identity = 72.39"
       ]
      },
      {
       "output_type": "stream",
       "stream": "stdout",
       "text": [
        "\n",
        "MNKAKTLKRRXGXPXXFLXVAWBTDDIXSXVXXNPNXXWXDXKWKRXXKNVFKLQKLIYXASSXGEI\n",
        "Group 8:\n",
        "1 paths, Average identity = 73.13\n",
        "MNKAKTLKRYLGNPQPSLSVAWNTDDIPSRARINPHFKWKDIDWKRVLKNVFKLQKLIYRASSRGEI\n",
        "Group 9:\n",
        "1 paths, Average identity = 74.63\n",
        "MNKAKTLKRKLGNPKPFLSVAWDTDDIPDPVCINPNLKGQDIDWRRVEKNVFKLQRFIYKASSRGEI\n",
        "Group 10:\n",
        "1 paths, Average identity = 70.15"
       ]
      },
      {
       "output_type": "stream",
       "stream": "stdout",
       "text": [
        "\n",
        "MKKAKTLKRKLGNPKPFLSVAWDSNDIPSQVCVNPNIKWKDIDWKQVEIRVFKLQKLIYRASSRGEI\n",
        "Group 11:\n",
        "1 paths, Average identity = 74.63\n",
        "MNKAKTLKRHLGNPKPFFRVAWDTDDIPPQISVNLNLKWKDIDWKRVEKNVFKLQKLIYRASSRGEI\n",
        "Group 12:\n",
        "1 paths, Average identity = 74.63\n",
        "MNKAKTLKRRLGNPKPFLSVAWDTNDITSQLSVNPNLKWKDIDRQWVEKNVFKLQKLIYRASSRGEI\n",
        "Group 13:\n",
        "1 paths, Average identity = 73.13\n",
        "MNKAKTLKRRLGNTKPFLSVAWDTEDIPSQITVNPNFKWRDIDWKRALKNVFKLQKLIYRASSGGKI"
       ]
      },
      {
       "output_type": "stream",
       "stream": "stdout",
       "text": [
        "\n",
        "Group 14:\n",
        "1 paths, Average identity = 71.64\n",
        "MNKAKTLKRHLGNPKPFFRVAWDTDDIPPQISVNFNFKWKNIDWKRVEKNVFKLQKLIYRASSRGEI\n",
        "Group 15:\n",
        "1 paths, Average identity = 71.64\n",
        "MNKAKTLKRHLGNPRPFLSVAWDSNDIPSLVSVNPNIKWRDINWKQVEVRVFKLQKLIYRASSRGEI\n",
        "Group 16:\n",
        "2 paths, Average identity = 75.38\n",
        "MXKAKTLKRKXXNXXPFLSVXWBTDBXPSQVXVNXXLKWXBIBWXXVXKNVFKLQKLIYRASSRGXI"
       ]
      },
      {
       "output_type": "stream",
       "stream": "stdout",
       "text": [
        "\n",
        "Group 17:\n",
        "1 paths, Average identity = 74.63\n",
        "MNKVKTLKRKLSNPKTFLSVAWNTDYIPSQVSINPHLKGRDIDWKPVEKNVFKLQKLIYRASSRGEI\n",
        "Group 18:\n",
        "1 paths, Average identity = 70.15\n",
        "MNKAKTLKRHNGNPNLFLGVA*DTDDKPSRVSINPNLKGRDIDWRRALKNVFKLQKLIYRASNCGEI\n",
        "Group 19:\n",
        "2 paths, Average identity = 70.76\n",
        "MKKAKTLKRKLGNPKPFLSVAWDSNDIPSQVCVNPNIKWKDIDWKQVEIRVFKLQKLIYRASSRGEI"
       ]
      },
      {
       "output_type": "stream",
       "stream": "stdout",
       "text": [
        "\n",
        "Group 20:\n",
        "1 paths, Average identity = 70.31\n",
        "MKKAKTLKRKLGNPKPFLSVAWDSNDIPSQVCVNPNIKWKDIDWKQVEIRVFKLQKLIYRASSRGEI\n",
        "\n",
        "Tery_0444: Total groups = 1\n",
        "Group 1:\n",
        "4 paths, Average identity = 91.76\n",
        "GS*IKVSTNALSNKQTKKXAPVFEFVQYXSKVTAGTVLGITMLTSSLVAGGLVGLAISFRNLPDVRVLKNYTPSETTRIYDIKGRPLASIHDEANREVIPINQISPDLKRAVLAIEDSNFYNHLGIYPIGIIRAFVANLEQGKTVEGGSTVTMQLVKNLFLSPTAKLSRKVAEAVLAIRMEQIMAKNEILELYLNQIYWGHNLYGVETAAQSYFNKSSKDLTLAEAALMAGMIPAPEEYSPFINYQKSKQRQATVLARMRELNWITAEEEAEAREQRLLVGKVTSFRESRLPYITNAVIQELTERFDKDAVMKGGMRIQTTIDMNFQRMAEKTVSEWHKILYYRGLYRSWDKGQLALVAVDPRTHFVKAMVGGADFXTSQYNRAIQARRQPGSSFKPFVYYAAFASGRFSPSSVVRDXPVSYPDGRGYYSPRNYGGGYSGSVSIRKALQSSMNIPAVKXGQTIGLNRVIEVCRILGIQSPMEPVISLPLGSVDLTPLEMAGAYATFANNGWHSDTTFIVQVTDTSGNVLLDNTPKPKLVLNQWAVASLNSVLVGVIERGTGTRAXISHQAAGKTGTTSSERDVWFVGYTPQLSTAVWVGNDDYRPLNYGATGGTTVAPIWRNFMNQAMSGMRKEYFPPAXNFRNBRP"
       ]
      },
      {
       "output_type": "stream",
       "stream": "stdout",
       "text": [
        "\n",
        "\n",
        "Tery_0455: Total groups = 1\n",
        "Group 1:\n",
        "3 paths, Average identity = 89.45\n",
        "MCGIVGYIGTQLATEILLSGLEKLEYRGYDSAGVATVCDGQIQSVRAKGKLYNLREKLVGVEMSANIGIGHTRWATHGKPEEYNAHPHRDDTERVAVVQNGIVENYRELRKELEAQGHKFVSDTDTEVIPHLIAEFLSNFAGNQKGETGRRENFLQAVRQTVNKLDGAFAIAVICADYPNEIIVARQQAPISIGLGQGEFFCASDTPALISHTQVVVSLENGEMARLTPLGVEVYNFEGDRVNKLPRILNWSPTLVEKNIFKHFMLKEIHEQPNVIRSCLDAYINSDWDVQNIQISPTNLELSPSLYKNLEKVEIFACGTSWNASLIGKHLLEQLAGISTTVSYASEARYAPCPLRENTLIIGVTQSGETADTLAALGMEQQRRLDKAVNFTSRFLGITNRVESSITNLVDEVIDIRAGIEIGVAATKTFIAQVMVFYFLAIDLAWQRQYLSGERIREIIDGLKKIPVQMEEMLEVQDSQIEDFAHQFNDTQDFIFIGRGINYPIALEGALKLKEISYIHAEGYPAGEMKHGPIALLDDKVPVVAIAMPGLVYEKVLSNAQEAKARNAQLIGVTPESTEADVFDNVLAVPAVDELLSPMLTVIPLQLLAYHIAAHRGLDVDQPRNLAKSVTVE"
       ]
      },
      {
       "output_type": "stream",
       "stream": "stdout",
       "text": [
        "\n",
        "\n",
        "Tery_0465: Total groups = 2\n",
        "Group 1:\n",
        "11 paths, Average identity = 76.31\n",
        "MMMTNRFIKIGAAVELLGVSIDTLRKWELSGELIPDRKSQAGTRFYDFSKLINLGDGDSPTICYARVSSHDQKVDLERQQAMLETYCAAKGWIFEVIKDLGSGMNYXKKGLQKLLEKILRKQTKGLVLTHKDRLLRFGAELVFSFCELQGIEIVIINKGEQPSFEEELXQVVLEIITVFSARLYGC*SKKXKKTITGXT*GSXSSCRKX**SCY*D"
       ]
      },
      {
       "output_type": "stream",
       "stream": "stdout",
       "text": [
        "\n",
        "Group 2:\n",
        "1 paths, Average identity = 76.96\n",
        "MMMTNRFIKIGAAAELLGVSIDTLRKWELSGELIPDRKSQAGTRFYDSSKLINLGDEDSPTICYARVSSHDQKVDLEKQQAMLETYCTAKGWIFEVIKDLGSGMDYRKKGLQKLLEKILRKQTKRLVLTHKDRLLRFGTELVFSFCELQGIEVVIINKGEQPSFEEELAQDVLEIITVFSARLYGSRSKKHKKLLLGLQEEVAQVVGKTDDHATRI\n",
        "\n",
        "Tery_0469: Total groups = 1\n",
        "Group 1:\n",
        "15 paths, Average identity = 70.45\n",
        "LGFTVRQWEVKSTRLGFKTLIKPSSKSXKTHYRKLAEICDKYKSAPVEALIAKLNPVIRGWANYYSSVVSKETFDTLDNLLWRRLWRWAKRRHPNKPSAWVKTKYFSPPKPETGF*IKVNMY*TSTRMYLLYGTIRLEVINHPMMETGFIGVXKXVNTPA*ELE*PNY*KVRRINAHLAD*ISGQR"
       ]
      },
      {
       "output_type": "stream",
       "stream": "stdout",
       "text": [
        "\n",
        "\n",
        "Tery_0497: Total groups = 1\n",
        "Group 1:\n",
        "2 paths, Average identity = 78.93\n",
        "MTQVLLGENEGIESALRRFKRQVSRAGILADVKKRRFFETPQEKRKRKA\n",
        "\n",
        "Tery_0510: Total groups = 1\n",
        "Group 1:\n",
        "16 paths, Average identity = 75.58\n",
        "VKVLVTGIGLTSALGNLYQSWEKILQGKSAIRLHRPFAELPLLPLALINSGPIELPWLIRQVVGTTVKSSGLTVPLPECGVVIGSSRGYQGMLEVWAKXHFFQDCKQDDLEKDYGSFXNLLPHQPAIFAASQIGARGTVLAPMAACATGIWAIARGFELIKTGQCQRVIVGAVESPITPLSIGGFKKMGALARTGAYPFDRYREGLVLGEGAAILVLESPELARQRRAKIFGQIRGFALTNDASYGTKSEVSGKGARLAIAQCLARSGLAPEDIDYIHAHGTATELNDRYEANLIQEVFPLKVAVSSTKGATGHTLGASGALGAVFCLMAIAHQVLPPCVGLNDPEFDLDLVRCARRSRVDNILCLSFGFGGQNAALVLSKV"
       ]
      },
      {
       "output_type": "stream",
       "stream": "stdout",
       "text": [
        "\n",
        "\n",
        "Tery_0511: Total groups = 1\n",
        "Group 1:\n",
        "4 paths, Average identity = 84.92\n",
        "MQRKISQWLFLVLVVTNLLVTGCSATSAPNTEVSTSNLSSRTQLAAKYSYLPKLNGKATVVMTVNGSPITIEVDGINAPLTAGNFVDLVQKGVYDGLAFHRVVREPEPFVVQGGDPQSKDLDVPINNLGTGGFIDPKTSKERYIPLEIKPQQATEPVYSKTFEAAGVKEGPVLSHTRGAVAMARSQPPDSASSQFYFALTDLPFLDGSYAVFGYVTQGMKEVVDQIEAGDRIESAEVVEGIENLTXKTNSSQS"
       ]
      },
      {
       "output_type": "stream",
       "stream": "stdout",
       "text": [
        "\n",
        "\n",
        "Tery_0513: Total groups = 1\n",
        "Group 1:\n",
        "12 paths, Average identity = 96.20\n",
        "VVTLSDSXIGGRDXQSTGFAWWSGNARLINLSGKLLGAHVAHAGLIVFWAGAMTLFEVAHFVPEKPMYEQGLILMPHVATIGWGVGPGGEIVDIFPFFVVGVLHLISSAVLGLGGIYHAVRGPETLEXYSSFFGYDWKDKNQMTNIIGYHLIILGCGALLLVFKAMFFGGVYDTWAPGGGDVRVITNPTLDPTVIFGYLLKAPFGGEGWIIGVNNMEDIIGGHIWVGLICIFGGIWHILTKPFGWARRAFIWSGEAYLSYSLGALSLMGLIAAAFVWFNNTAYPSEFYGPTNAEASQAQSFVFLVRDQKLGANIGSAQGPTGLGKYLMRSPTGEIIFGGETMRFWDFRGPWLEPLRGPNGLDLTKLKNDVQNWQIRRAAEYMTHAPNGSINSVGGIITDINGFNYVNPRAWLAAAHFILGFFFLIGHLWHAGRARAAEGGFERGLDRETEPVLSMPNLD"
       ]
      },
      {
       "output_type": "stream",
       "stream": "stdout",
       "text": [
        "\n",
        "\n",
        "Tery_0522: Total groups = 3\n",
        "Group 1:\n",
        "1 paths, Average identity = 93.79\n",
        "IVPIQEEKQNFIENLVTDFYNLLGIETLNNEQLHLALERGRKDFRRTRLIKPNLAKAKLDGINFTGVNLNKVNLSEASLMNAQLHKTKMLGANLDSANLKGANLSRANLKDAQLSWADLRNTNLSNTLLYNANLTGADLDRSSIMSAKRLFTKFDHARLPSGVSLVKSFWFFIKLSA\n",
        "Group 2:\n",
        "1 paths, Average identity = 82.86\n",
        "MVPIKQEKQNFIDNLVTGFYNLFGIETLNDQKLQLALKRGRKDFRRTRLINPNLVKAKLDGINLTGVNLNKVNLSEASLSKAQLHKTKMVGANLDSANLKGANLSRANLKDAQLSWADLRNTNLSNTLFYNANLTGADLDKSSILAAKRGFTKFDHARLPDGVFLVRVCYFLLLL\n",
        "Group 3:\n",
        "1 paths, Average identity = 73.53"
       ]
      },
      {
       "output_type": "stream",
       "stream": "stdout",
       "text": [
        "\n",
        "QEDQHLIESLVRGFYNLFGIETLRDKEFCLALKKGRKDFRKTRLINPDLVGKNLDGINLSGVNLNKVNLSEASLIKAQLHRTKMVGANLDSANLKGANLSRANLKDAQASWADLRNTNLSNTVLRNANLTGADLDKSQSILEAKTMFARFDHARLPDGVVLVKYFRFFLK\n",
        "\n",
        "Tery_0523: Total groups = 2\n",
        "Group 1:\n",
        "1 paths, Average identity = 95.38\n",
        "MKLPQQPTIPKTKDIISWLKFQSPSQLENPESVNKTSKKNPLFWCYWLKNLVCVDPNELHGTGYVSKELEKSSLVTASVTTFANWWNAFTTLPFLIFMFDSMGILTWPIAVLANIGLIKLGNALATGAASNQPISIRFARIGSSGFIAINLILTITSGVGSELLLNQSGLSRKLGEQLVQESIFEPLEKEISDIQNNETLEKTRNRCDTLERKLERLPPNDPKREELHLAAHGPYADRFNLGGYSYYKNKAIEQWPACPKANELEAIRDNNLKVPKDRYQQKIKEVKNYGSDLAYLKAVRPEIYRSRFNEKGEIKSGTEATRVAIVLFTKKLFSFQWADLGQSLFVMSMSVITSTVAIWITISYSKREDVQLSKSTEVINARDVFINEAISNLDNDQADMQELDKKLLRGFFSELRRTGKCNYPPFVKYVKFARDIEKSQHLRDNIETVETAVEQIKNGFQQLTDSINDPENTVANDAKNLIHQGCDSIIHLALEYFQTESRVKELIKTIQYVQGYLQHSHVNQSLATRQIGYLQELLTSSINLGDRLNKAIQKKYNTIIGNH"
       ]
      },
      {
       "output_type": "stream",
       "stream": "stdout",
       "text": [
        "\n",
        "Group 2:\n",
        "1 paths, Average identity = 80.28\n",
        "MKLPQNPKIPNTKDIISWLKFQNFSRLENLESGDKASKKLPLLWWYWLKNLMCVDPKELHGTGYVSKELEKSSLVTASVTTFANWWNAFTTLPFLLFMFDSMGIITWPIAVLVNLGLIKLGNALATGAASNQPVSLGFARIGGSGFIAINLILTITSGVGSELLLNQSGLSRKLGEQLVQESIFEPLEKEISDIQNNEILDKTRNKCDILEGKLQQLPPNDPKRGELHLAAYGSYADRTNQGGYRSYENNPIEQWPTCPKAQALEARRDKNIKAPELQYLQTIKEVKNYGSDLAYLQGVKPEIYDSRFNEKGEIKSGTEATRVAVVLFTKKFFGFEWADLGQSLFVMSMSVITSTVAIWITISYSKREDVKLSKSSAVIKARDVFINETISNLDDKQVNTEDNELLKVFFDELRRTGKCNYPPFVEYVKFARDMEKAQYLRENIETVETALEHIRNGCQQLNDSINDSENTATNIAKNLIHQGCDSIKYLALEYFQKESRVKELIKTIQYVQEYLQYSHMNESLATRQIGYLDELLTSNIHLGDRLNKAIEKKYKTIIGNY"
       ]
      },
      {
       "output_type": "stream",
       "stream": "stdout",
       "text": [
        "\n",
        "\n",
        "Tery_0526: Total groups = 1\n",
        "Group 1:\n",
        "2 paths, Average identity = 98.12\n",
        "MKVNFSEVSQRHVCIALFIFCSLLQRSISPLFLLPLLLQEKRNLLGQIAEVKFNNDNNNLQFLQQQSQQLNNLERQFQKVQKTVDKLQHKIQTQDTRQNLILSKSSKQSNQISLLEDRINSIQERFKSVPSKVVPIQRRTLLAIDSANLDGAAKSLNMKVDYERLKRYVNVHFGSLEARIYVGKYDNSSRQKLWFNYLEKNGYVVKTKPVTVYGNTVKANVDVDLALDIREHGVNFKNVVLCSGDGDYLPLVEQLQGLGIKVIVLASPGHTNHFLQRQADEYISLIDIMGEVSDR"
       ]
      },
      {
       "output_type": "stream",
       "stream": "stdout",
       "text": [
        "\n",
        "\n",
        "Tery_0528: Total groups = 2\n",
        "Group 1:\n",
        "3 paths, Average identity = 93.93\n",
        "MRFISPKTDFAFKRIFGSNRSKKILISFLNAIVYDNQNIIQSLEIIDPYNPGYTRTLKDTYLDVRALLDNGSTVIIEMQVLNVEGFEKRVIYNLAKAYGSQLDTGEKYRKLQPFIALTITDFLLFKDSDKMINKFRFKEDTEFFNYRDELTLIFLELPKFNKELSALETLSDKWIYFLKSAPSLEVIPSSLGEVSEIEAALNIANRADLNNQELEELRKQEIFIGDRQGEVILAKQEGLKEGEEQGKIQQAIKQVLRLARRILGEVSPEIQARIQQLSLEKLDLLAEEIFELTTMENLENWLETGTEN"
       ]
      },
      {
       "output_type": "stream",
       "stream": "stdout",
       "text": [
        "\n",
        "Group 2:\n",
        "1 paths, Average identity = 71.39\n",
        "MKFISPKTDFAFKKIFGSIHSQKILISFLNAIVYDNQNIIQSLEIINPYNPGVTNTIKDTYLDVKAVLDNGSTVIIEMQVLNVEGFQKRVIYNLAKAYGNQLDVGQGYMMLTPFLALKIADFVLFENTEKMITKFRFKEDTELFDYQNELTLMFVELPKFTKELSALETLSDKWTYFIKSAPNLEVIPSSLGEVSEIEAALNIANKGNLNNEELEELDKQEMLIRDKKGQISLALKEGIEKGIEEGIEIGREQVVKQILRQIHRKFGEIAPEVQTQIEQLSLEKLDILGAEIFDLATMIDLENWL\n",
        "\n",
        "Tery_0534: Total groups = 1\n",
        "Group 1:\n",
        "2 paths, Average identity = 79.46"
       ]
      },
      {
       "output_type": "stream",
       "stream": "stdout",
       "text": [
        "\n",
        "MIVCPNCNHQNPDGAXQCENCYTPLAVTTSCPKCGAIVQADAAFCGQCGFDLKGNASIEEGQVLSETSPAVXPTLVSPXSAPDIEIPNLAMPDKLVAPEPLLSGRVNLEKSSNPNTPVPIEEEEPISTINAVSTPXATPEXSSVPPSEEKAIPAKTQLQEQSAKLLHIRTDTNIELPVNLPVIHIGKPNDRVPPDVDVSGFPDSEVVSRSHADIRVEGDSYYIEDTGSSNGTYINNTPLTKGNRHRLRPGDRISLGKGDLVSFVFQVS"
       ]
      },
      {
       "output_type": "stream",
       "stream": "stdout",
       "text": [
        "\n",
        "\n",
        "Tery_0548: Total groups = 8\n",
        "Group 1:\n",
        "6 paths, Average identity = 72.25\n",
        "LSXLQGLKDKWIYFLKEAASLDGIPESLGEVVEIEQALNIANFINMSPE\n",
        "Group 2:\n",
        "1 paths, Average identity = 73.47\n",
        "LSELKNLTDKWIYFLQEAASFDEIPENLGEVAEIEQALNIANFINMTPE\n",
        "Group 3:\n",
        "1 paths, Average identity = 73.47"
       ]
      },
      {
       "output_type": "stream",
       "stream": "stdout",
       "text": [
        "\n",
        "LSELKNLTDKWIYFLQEAASFDKIPENLGEVAEIEQALNIANFINMTPE\n",
        "Group 4:\n",
        "1 paths, Average identity = 71.43\n",
        "LSELKNLTDKWIYFLQEAASFDEIPENLGEVAEIEQALNMANFINMTPE\n",
        "Group 5:\n",
        "1 paths, Average identity = 71.43\n",
        "LSELKNLTDKWIYFLQEAASFDEIPENLGEVAEIEQALNMANFINMTPE\n",
        "Group 6:\n",
        "1 paths, Average identity = 71.43\n",
        "LSELKNLTDKWIYFLQEAASFDKIPENLGEVAEIEQALNMANFINMTPE"
       ]
      },
      {
       "output_type": "stream",
       "stream": "stdout",
       "text": [
        "\n",
        "Group 7:\n",
        "1 paths, Average identity = 71.43\n",
        "LSELQGLKDKWIYFLKEAASLDGIPESLGEVVEIEQALNIANFINMSPE\n",
        "Group 8:\n",
        "1 paths, Average identity = 73.47\n",
        "LSELKNLTDKWIYFLKEAASLDGIPESLGEVVEIEQALNIANFINMSPE\n",
        "\n",
        "Tery_0550: Total groups = 5\n",
        "Group 1:\n",
        "35 paths, Average identity = 83.17\n",
        "MKFINPKVDYAFKKIFGSHQSEKILISFLNAIIYDGEKIIESLTIVNPFNPGQIISFKDTYLDVKAVLVDGSIVVIEMQVARMTAFNKRVAYNLAKAYANQLDKGEKYP"
       ]
      },
      {
       "output_type": "stream",
       "stream": "stdout",
       "text": [
        "\n",
        "Group 2:\n",
        "1 paths, Average identity = 90.83\n",
        "MKFINPKVDYAFKKIFGSQQSKDFLISFLNGIIYNGEKTIKDLTIVNPFNPGKIISLKATYLDVKAVLVDGSIVIIEMQMARRTAFNKRVAYNLSKAYANQLDKGENYP\n",
        "Group 3:\n",
        "1 paths, Average identity = 75.23\n",
        "MSFISPKIDYAFKKIFGSEESKEILISFLNAIIYDGKKTIKSLRIINPFKPGQVISLKDTYLDIKAVLFDGSVVVIEMQVASMTAFSKRVIYNLVKGYGNQLNTGDDYP\n",
        "Group 4:\n",
        "1 paths, Average identity = 81.65"
       ]
      },
      {
       "output_type": "stream",
       "stream": "stdout",
       "text": [
        "\n",
        "MNFINPKVDYAFQKIFGSHQSEKILISFLNAIIYEGENIIESLTIVNPFNPDQIISFKDTYLDVKAVLVDGSIVVIEMQVARMTAFNKRVAYNLAKAYANQLDKGEKYP\n",
        "Group 5:\n",
        "1 paths, Average identity = 74.07\n",
        "MKFVSHKIDYAFKKIFGSQQSQDILISFLNAIIYGGKKIIQSLTIANPFNPAQLLSLKDTYLDIKAVLVDGSIVVIEMQVARMAGFNKRVAYNLAKAYANQLETGEDY\n",
        "\n",
        "Tery_0551: Total groups = 2\n",
        "Group 1:\n",
        "40 paths, Average identity = 93.61\n",
        "VFQEETKKYKCLXKXLXLIFVELPKFKKSLSELKNLTDKWIYFLQEAASFDXIPENLGEVAEIEQALNXANFINMTPEELEIVENRGIALQDERGRIAYAE*IARLNQTIPLIKLLITQRFGEVNDEISSQIEGLPLADVEDLVKVFLSFNSLVDLESWLQERLRS"
       ]
      },
      {
       "output_type": "stream",
       "stream": "stdout",
       "text": [
        "\n",
        "Group 2:\n",
        "1 paths, Average identity = 78.16\n",
        "VFQEETKKLECLDKELRLIFVELPKFQKTLSELKNLTDKWIYFLKEAASLDGIPESLGEVVEIEQALNIANFINMSPEELEVVENRGIAMQDERGRIAYAEQLGVVKGETKGRLSQAIALVKLLITQRFGEPSVGMSNQIADLPIVDLEDLVKVFLSFNRMADLEIWLQERLRS\n",
        "\n",
        "Tery_0584: Total groups = 1\n",
        "Group 1:\n",
        "2 paths, Average identity = 97.56\n",
        "MSKYDSHLKCSFCGKSQEQVRKLIAGPGVYICDECVELCNEILDEELFDSNATGAQPPIPRPAPXPQKRGAGAXRLSVSQIPKPREIKNYLDAHVIGQEEGKKVLSVAVYNHYKRLSFLEAKKSGKSSQDEVELQKSNILLIGPTGCGKTLLAQTLAELLDVPFAVADATTLTEAGYVGEDVENILLRLLQVADLEVDEAQRGIIYIDEIDKIARKSENPSITRDVSGEGVQQALLKMLEGTVANVPPQGGRKHPYQDCIQIDTSNILFICGGAFVGLEKIVDQRIGKKSMGFIQQNGESYQVKEKKVVDLMKQMEPNDLVKFGLIPELIGRIPMVAVVEPLDEETLMAILTEPQNALVKQYQKLLRMDNVKLEFETEAVRAIAKEAFRRKTGARALRGIVEELMLDVMYELPSRKDVSRCTITKEMVEKRSTAELLLHPSSLPKPESA"
       ]
      },
      {
       "output_type": "stream",
       "stream": "stdout",
       "text": [
        "\n",
        "\n",
        "Tery_0585: Total groups = 1\n",
        "Group 1:\n",
        "4 paths, Average identity = 94.73\n",
        "IMVISQYSDNLSSSSYNKLQVYSGPSNIVPMVVEQSGMGERAFDLYSRLLRERIVFLGTQVDENLANTITAQMLFLDAEDPEKDIQLYINSPGGSVTAGMAIYDTMQQVRPDVVTICYGLAASMGAFLLSGGAKGKRMSLPSSRIMIHQPLGGAQGQAVDIEIQAKEILYHKRKLNELLAEHTSQPLERIEIDTERDFFMSAEEAKNYGLIDQVITRQNLPXPGESVPAM"
       ]
      },
      {
       "output_type": "stream",
       "stream": "stdout",
       "text": [
        "\n",
        "\n",
        "Tery_0586: Total groups = 1\n",
        "Group 1:\n",
        "2 paths, Average identity = 83.96\n",
        "MKVTQERLPASQIGLEIEITPEMSKDAYEQVIKKYTRSANIPGFRKGKVPRNILVQRLGKDYIKAMALDDLINNCLEKAREQEKIKAIGQFELTTIFEELVKDFEPGKEMAFSAKIDVEPEAKVENYKGLVVKAEEAKYSPALVDEFLEERRSLMGTLIPVEGRAAELGDVAIVDFVGVIPSETEGEEAKEVPGGKAQDFQIDLKGGKFIPGFIEGIVGMKLEETKEISTQFPSDYGERNLAGKPVVFTVTVKELKERELPELDDDLAQEISEFETIAKLREFLEKKFTKEKEEETKQNKEKAIVDELVTHLEVEIPETLIKNEVQQILAQSAMNLSQYGIDLKELFSSGKLPEMQNSSRPEAIKRLKRDLAIATVAQKESITVDEEEIAGESAKVIEQLKGKDVDPDRLRZVVTEDLLKEKTIKWLEENGTVELVPEGTLHTRSQTPKTIENLEAEVDSZITQXSEXVVEVEAKQVATVENSQX"
       ]
      },
      {
       "output_type": "stream",
       "stream": "stdout",
       "text": [
        "\n",
        "\n",
        "Tery_0587: Total groups = 1\n",
        "Group 1:\n",
        "2 paths, Average identity = 90.70\n",
        "LSDSYRVAILGATGAVGTELLELLETRNFPVAELXLLASPSSVGKTLKFXEQSLQVEAVTNDSFKKVDLVLASAGGSTSKVWAKKAVEAGAXVIDNSSXFRMDPQVPLVVPEVNPEAAALHKGIIANPNCTTILMSVAVWPLHQIQPVQRLVVATYQSASGAGSRAMAEMKIQAKEILDGKAPTTDIFPYPLAFNLFPHNSQLNEQGYCQEEMKMVNETRKIFGYKELRITATCIRVPVLRAHSEAVNLEFAKPFDVVKAREVLSQAAGVKLVENWKHNHFPMPMEASGKDDVYVGRIRQDISHPCGLELWLSGDQIRKGAALNAVQIAELLVAKNWLRMPVGAF"
       ]
      },
      {
       "output_type": "stream",
       "stream": "stdout",
       "text": [
        "\n",
        "\n",
        "Tery_0602: Total groups = 1\n",
        "Group 1:\n",
        "2 paths, Average identity = 93.69\n",
        "MVTTPEKIQNQTNSASPSQDKVAVLLMGYGEVESYEDFANYNEQALNLLTAKFAPVPTWIYPPLAKLLAIFDFHEWSHQHGNFISPHNAIFESQRAGIEKNLQDKWGDRVKVFKAFNFCAPYLPEQVLTQIKSEGFDKLLIYPLLVVDSIFTSGIAVEQVNKALVKLADKTEHWIKGQRYIPSFYNEPNYINLMAKMVEEQIAKDLAVAHLPSQIGIVLTNHGCPHKAKGFTSGIDESQALYESVRECLINRFALISVGWLNHDTPLIEWTQPDAKTAAQNLIELGATAIIFMPIGFATENHETLLDVEHIIEGLRRKHPEVTYRQMPCVNDRSEFLQMAAQWANLYIQELLSENALAVNPSLAVAQARST"
       ]
      },
      {
       "output_type": "stream",
       "stream": "stdout",
       "text": [
        "\n",
        "\n",
        "Tery_0607: Total groups = 1\n",
        "Group 1:\n",
        "2 paths, Average identity = 77.25\n",
        "MVITISVIPNIIIIPNVLAQNYVPEVENASESSTLKIKADKLFKIGVEQFRTGTFEKALETYKEVLSIHKKLGDFGGVAKTLNNIGDVYINQREYLKAIEVLQQALTIHRQINDRSGTAESLNLIGFIYQQQDKFSQAVNLHQEALEISREVSDRSNEGESLHNIASVKASQRQLDLALKFYQEALTIREEVGDRRDQGRTLNNIGVVYFNQGDYDKALETYKKALTVRREINDSAGIGRLLNNIGFVYREKGENSEALKYFRQAVAMLETVGDQRSVGRIYGFMGELYQKEGAESQALEAYEKGLKAAKIAEDKTGQLEALNYLGDAYYEMGENAKAKLVYETALVFYKEVEDTAGQGKNMIGLGKVYEGLGENQKAKEILLKSLLINKRLGEQSVLADNMNALGEVYYSSGDYSIALNYYMLALKNLSRKDDKNAVAIAYQGMGDSLFQMKQYPQALENLEEALAIYKEGKKTAKVGRIYAQLGTISVAKEKTELAVVFYKKAINIYETIRSKESRKIFLENPEEIYRNLVGLLLQQERIFEAQQVLDLLRIQELDNYLGNVKDDQFEEVRIKLLAVEEKILAEATKDILNLEINKDSLKADFLRAQSLQEKLQKLPRTAIFYPLILSDKLELVLIKAEGEAIHKTVAVKGEEINNAIADFRLRISNPIRDVKKSSEKLYSWLIKPIEDELTKANINTIIYVPDNQLRYLPLTALYDGEKWLVERFNINNIIAASLTNFETQPKNQPRVLAAALTEGEYQVQIGTSEVPLRPTTGKLVENLAQTIPGSLRLVNSEFSLQTIINNFNDYNIVHLDTPVALLTEREGNGKPEDSFILFGNGDRVTLLDMENWLLPNVDLVVLSAAETNISGRMGNGEEIVGFGYQMQNAGVETIIASLWRVNDDSDKLMNTFYTVLQEGKSKAEALREAQISMITGXDKQRSSPYYWASFILIGNGL"
       ]
      },
      {
       "output_type": "stream",
       "stream": "stdout",
       "text": [
        "\n",
        "\n",
        "Tery_0664: Total groups = 1\n",
        "Group 1:\n",
        "4 paths, Average identity = 92.18\n",
        "MLEDYDNQGQQRGNLGIPSVPLGAKQTSELCELLKSPPVGTEEKLIALLRDRVPPGVDEAAYIKAGFLTGIAKEEIISPLITPTYAVELLGTMVGGYNVQSLIDILKSENYELASTAATALSKILLVYEAFNDVIELAETNPYAKQVVDSWAAAEWFTTRPQLPEAITVTVFKVPGETNTDDLSPAPHATTRPDIPLHALVMLESKMPEGLNKIAELKQKGHPVAYVGDIVGTGSSRKSACNSMLWHIGEDIPFIPNKRSGGYILGGKIAPIFFNTAEDSGALPIECDVTKMETGMVITIHPYKGKITNEAGEIISTFTLKPETILEEVRAGGRIPLLIGRSLTDKTRNALGLETSSVFTRPLLPADTGKGFTLAQKMVGKACGLPGIRPGTACEPLMTTVGSQDTTGPMTRDEMKELACLGFSADLVMQSFCHTAAYPKPVDIKTHKELPDFFSARGGVALRPGDGIIHSWLNRMLLPDTVGTGGDSHTRFPLGISFPAGSGLVAFAAALGLMPLDMPESVLVRFRGELQPGVTLRDIVNAIPYVAIQKGLLTVALENKKNVFSGRIMEMEGLPDLKVEQAFELTDATAERSCAGSTIKLGKETISEYLRSNITLLKNMVARGYHDVRTIMRRVIKMEQWLANQELMSADGNAEYAEIIEVDLNEIKEPIVAAPNDPDNIKLMSECVGDKIDEVFIGSCMTNIGHYRAAAKVLEGAGRVKGVLWICPPTRMDEKQLREEGIYGVFAAAGARMEMPGCSLCMGNQARVEDGVTVFSTSTRNFNNRMGKGARVYLGSAELAAVCALLGRIPSVDEYLEIMKEKVDPFAGDLYRYLNFDQIXGFEDEGRVVPLEEMPKIENILGMPVGVGK"
       ]
      },
      {
       "output_type": "stream",
       "stream": "stdout",
       "text": [
        "\n",
        "\n",
        "Tery_0684: Total groups = 1\n",
        "Group 1:\n",
        "2 paths, Average identity = 97.18\n",
        "MVAVLENPLRVGLQQDRVPEPQILIIFGASGDLTQRKLVPALYQMKLERRLPSELTIVGVARREWSHDYFREQMRIGIEEFGGGLQSQELWNDFAKGIFYCPGNIDQPEDYQKLKELLNQLDEERGTRGNRVFYLSVAPRYFGEATQQLGAAGMLVDTKKQRLVIEKPFGRDLSSAQVLNKIVRQVCPEEQIYRIDHYLGKETVQNLMVFRFANAIFEPLWNRQFVDNVQITVAETVGLEGRAGYYETSGALRDMVQNHLMQLFSLTAMEPPNSLDADSIRNEKVKVVQATRLANLERLEYSATRGQYTQGWMKGKNVPAYREEGGADSNSTTPTYAALKLNIDNWRWKGVPFYLRTGKRMPKKVSEIAIQFKEVPFLMFQSAAKQANPNVLALRIQPNEGISMRFEVKTPGSSLRTRSVDMDFRYDTAFGKPSTDAYSRLLVDCMLGDQTLFTRGDEVEASWRALTPILSIWDAPAPXEVIPLYEAGTWGPVEAELLLNQDGRRWRRL"
       ]
      },
      {
       "output_type": "stream",
       "stream": "stdout",
       "text": [
        "\n",
        "\n",
        "Tery_0685: Total groups = 2\n",
        "Group 1:\n",
        "1 paths, Average identity = 93.64\n",
        "MSTTLVALQQPKDISLGEIEAELNKIWLSQNGGKSTSIATRAATFSMVVYEPEEFQQLLAGLGFYKGEIDGINGRAARGAIKEAQKAYGLPITGRVDSETLAKLRSEWAAKSLENRQFPNIDIRGFSVSEVIAAQNPCRVITLCPTFGEDTGVTAQVSAYCPVQKKQSSLICCEYITLRGTKEALERVSNVVTSLMIPDLPKFVWWKATPNPEQELFRCLCKTSNCIILDSSYFSDPESEFLKMVELIENKTYIADLNWHRLSAWQELTAATFDPPERRASLAEIDTITLDYEKGNISQALMFLSWFASRLDWQPITYTETGGDYDIIHIKFVSPNNKEILAELAAISTADYGEIPGDLVGLRLDSSNPNADCCTILCSETNGCMRLEAGGSAQSCRTEQVSALSDQKAEYLMAQQLQRWGREVLYEDSLAVTTEILKLR"
       ]
      },
      {
       "output_type": "stream",
       "stream": "stdout",
       "text": [
        "\n",
        "Group 2:\n",
        "1 paths, Average identity = 72.30\n",
        "MTTPIVALQAPKDISLGEIEEELSKIWLSQSQGKATSIATKAATFSIVVYEPEEFQQLLGVLGFYNGPIDSIHGPQTRNAIKEAQKTYQLTITGRVDTETLAKLREEFAKQPEDRQKVTNVNLRGFSMADAIATQNPSRVITLCPTIGEKDRGVTAQVSAYCPIQKRNNSNLVCSEYVTLRGTKLAMQRVDKTIKSLMIPELPKFVWWKATPNTEQKLFRSLCEASNCIIMDSCYFSDPESEFIKMHELIENETYIADLNWHRLSAWQELIAASFDPPERRAALWEVDTITIDYEKGNTAQALMFLGWFASRLNWEPVSYIELDSDYDIAHIKFTGGNDQEILAQLGAIPTADFGEIPGDLVGLRLGSSNPDADIDCCTILCSETNGCMRLESGGKAQSCLTEQVTALSDQKAEALMTQQLQRWGRDVLYEESLALTVQMLKLR"
       ]
      },
      {
       "output_type": "stream",
       "stream": "stdout",
       "text": [
        "\n",
        "\n",
        "Tery_0687: Total groups = 2\n",
        "Group 1:\n",
        "1 paths, Average identity = 85.47\n",
        "MDSILITGIRCYGYIGYFPEEKVLGQWFEVDLTLGLDLTAASKSDALEDTVDYGAIVHKVQDLVKNSKFALLEKVADVIATAILEQALVEEVKVCLTKLAAPIPDFSGKVTIEITRV\n",
        "Group 2:\n",
        "1 paths, Average identity = 85.83\n",
        "MDSISITGIRSYGYIGFFPEEKVLGQWFEVDLTLGLDLTAAGKSDALEDTVDYGSIVDIVQKLVKNSKFSLLEKVAEAIATDVLEQPLVEDVKVSLTKLAAPIPDFSGKVTIEITRVKQK\n",
        "\n",
        "Tery_0707: Total groups = 2\n",
        "Group 1:\n",
        "1 paths, Average identity = 88.42\n",
        "MSINLSKGERVNLSKESPGLTQAGIGLGWDINTTDTGSGFDLDASVFMLGNNGKIPAEQYFVFYNNLTSPDGSVQHSGDSRTGEGSGDDELIQIDLAKVDQVIQEVLFVVTIHEADARRQNFGQVRNSFIRIYDTTTELEIAKYELEEDFSRETALEFGRLYRKDNDWRFQAVGQGYNSGLQGFVDKYAS"
       ]
      },
      {
       "output_type": "stream",
       "stream": "stdout",
       "text": [
        "\n",
        "Group 2:\n",
        "1 paths, Average identity = 71.43\n",
        "MSVKLSKGHRINLSKDAPGLIKVAIGLGWDVNPTDTGTEFDLDASVFMLGDNGKIPEDEYFVFYNNLKSPDGSVKHWGDNRTGEGQGDDETIEVNLTNVNFSIEELLFVVTIHEAEKRRQNFGQVKNSFIRIYDLETQEEITKYELEEDFSRETAIEFGRLYKKNSEWRFQAVGTGYNTGLQTFVEKYI\n",
        "\n",
        "Tery_0713: Total groups = 1\n",
        "Group 1:\n",
        "2 paths, Average identity = 82.41\n",
        "MSQHFSKQPILEITVQELGSRLIGGIPEKLQLVDVREPQEVEIAFIKGFKVLPLSKFSEWSEQIHFDLDLNQETLVLCHHGMRSAQMCQWLKXQGFTNVKNIIGGIDAYSLXVDXSIPRY"
       ]
      },
      {
       "output_type": "stream",
       "stream": "stdout",
       "text": [
        "\n",
        "\n",
        "Tery_0752: Total groups = 1\n",
        "Group 1:\n",
        "2 paths, Average identity = 97.26\n",
        "MSYRMNRRAYADTFGPTVGDRVRLADTAIFIEVEKDYTTYGDEVKFGGGKVXRDGMGQSPISREGGAVDLVITNALILDWWGVVKADIGIKEGKILKIGKAGNPYIQDRVDIIIGPSTEVIAGEGHIITAGGIDSHIHFICPQQIEIAIASGITTMIGGGTGPATGTNATTCTPGQWNIWMMLQAADAFPMNLGFLGKGNSAKPEGLIEQIKSGAMGLKLHEDWGTTPAAIDTCLSVADKYDVQVAIHTDTLNEAGFVENTIAAFKDRVIHTYHTEGAGGGHAPDIIKVCALLNVLPSSTNPTRPFTVNTLEEHLDMLMVCHHLDKNIPEDVAFAESRIRKETIAAEDILHDLGAFSAIASDSQAMGRVGEVIIRTWQTAHKMKVQRGVLASEKKEVADNFRAKRYIAKYTINPAIMHGIADYVGSIEAGKLADICLWKPAMFGVKPEIVIKGGAIAWAQMGDPNASIPTPQPVYMRPMFGSFGGATPSTSLTFVSQEALDAEIPKQINLKTPAVAVSNTRNISKADMKLNEATPKIEVNPETYEVRADGELLTCEPASVLPMAQRYFLF"
       ]
      },
      {
       "output_type": "stream",
       "stream": "stdout",
       "text": [
        "\n",
        "\n",
        "Tery_0766: Total groups = 1\n",
        "Group 1:\n",
        "6 paths, Average identity = 85.02\n",
        "MXFISPKXDYAFKKIFGSDQSKDILISFLNAIIYBGXDKIKSLTIINPYNPAQVQTLKDSYLDVRAVLDDGSQVIIEMQVASVTAFDKRVVYNLAKTYSTQLGPRQGYRHLKPVIGVTITDFEMFPEIEEVVNSFAFLNEKKFFKYTAAEMRLVFVELPKFNKSLDELETLVDKWIYFIKEADSLEVIPESLGKVSIIEKALNIANEINLSVKELELLEQRAIMAQDESGRILFAEEKGEKIGEKRGEKIGEEKGRIKXXIAXXIXXLXXRFXXVPENEJXXQXXXXSLXXLEXLXXXXXXFXXXDDLSNWLADX"
       ]
      },
      {
       "output_type": "stream",
       "stream": "stdout",
       "text": [
        "\n",
        "\n",
        "Tery_0774: Total groups = 1\n",
        "Group 1:\n",
        "2 paths, Average identity = 87.25\n",
        "MTLLVTGDIGGTKTLLQLVDASREESKASVKLRKVYENRYSSHDFPNLVPIVKKFLEEASKRLGEKQKPEKACFAIAGPIVNNTVKLTNLPWMIDAKLMENELGISQVSLINDFEAVGYGIFGLNAKDLETLQPGEPKSDTPIAVIGAGTGLGECFSIRAAGVMKVYPTEGGHTDFKPRSELEFDLVKYLKALHNISRVSVERVVSGMGIVAIYQFLRDRQFTRESPEIGDAIRQWEKEVGSNEITVDPGAVIGKAALENSDALCEQTLKXFVEAYGAEAGNLALKFLPYSGLYIAGGIAGKIIPLLKSGXFMEAFKNKGRMTPLLEKVPVHIILNPQVGLIGAAICASNL"
       ]
      },
      {
       "output_type": "stream",
       "stream": "stdout",
       "text": [
        "\n",
        "\n",
        "Tery_0795: Total groups = 1\n",
        "Group 1:\n",
        "3 paths, Average identity = 93.23\n",
        "MKYVKEFRDPDKAQGLVREIDQLSRKLGYTREHPLKIMEVCGGHTHSIFKYGIEEVLPNKIELIHGPGCPVCIMPRGRLDDAIALAEKPDVIFTTFGDGMRVPGSQKSLLQAQAQGADIRIVYSPLDSLNIAKRNPDKEIIFFGLGFETTAPSAALTILQAEAEGIKNFSIFSNHVLIVPALEALLSNPDLELQGFVGPGHVSMVIGTQSYSIISEKYRKPLVVSGFEPLDILQSIWMLLQQILEGRCEVENQYSRIVKEGGNRVALEAMDKVFEVRDTFEWRGLGEIPESGLKITDAYSRFDAEAKFYVPNKKVADVKVCQCGEILKGVLKPWQCQVFGTACTPENPLGTCMVSSEGACAAYYKYGRLFKKEKVKV"
       ]
      },
      {
       "output_type": "stream",
       "stream": "stdout",
       "text": [
        "\n",
        "\n",
        "Tery_0797: Total groups = 1\n",
        "Group 1:\n",
        "4 paths, Average identity = 78.72\n",
        "MTTSSPNESXQNXLFKKNRTIATSPDKNVRQSHYPRSW*RWQSDAXPHRRYFCQQL*QLLLISTRXPSNIRLXKXYXXXR*TXFYHXLLCN*SPLFSWRQYW*TGSPRYS**FSCKWCQTFISLLRNDY*GRFPH*LPPKNSKKYEKSGR*SWSENSDWRHKSCSPRCCRPVIY*YCGGGCNSFWHFDVCPKDSGRGFHYCEWLSWRSRSSYFTGP*RARHSSGN*KRHSSSEWFG*YYS*CLYGSTXDARCYSWRFSNSIK*ICHEFESRDTTF*KKATSAXESXGSL*NSWS*PFIFC**R*XSXSGATRQXGXRLESHXISSCWY*FCYCGRSFCXXXRFTRXXVXXX*IXHRACXXYVNRXPTAKNL"
       ]
      },
      {
       "output_type": "stream",
       "stream": "stdout",
       "text": [
        "\n",
        "\n",
        "Tery_0802: Total groups = 1\n",
        "Group 1:\n",
        "2 paths, Average identity = 85.47\n",
        "MCVTCGCSGHNETTITNPQTGEKMTLBKHHSHTHTLPDGXVINHTHXHDXTPENYXHETTEFHAKXXRTTISLEQAILQKNDMIAAQNRGWFKGRNIFAINLVSSPGSGKTTLLTRTINDLKSDLTFNVIEGDQETVNDAEKIRQTGCKVVQINTGKGCHLEAAMVEKGYTELNPPLNSVLMIENVGNLVCPALFDLGENCKVAILSVTEGEDKPIKYPYMFRESQVMILTKIDLLPYVQFDVNSCIEYAKQVNPQIRIFQVSAVTGKGLNEWYDWLKS"
       ]
      },
      {
       "output_type": "stream",
       "stream": "stdout",
       "text": [
        "\n",
        "\n",
        "Tery_0805: Total groups = 1\n",
        "Group 1:\n",
        "4 paths, Average identity = 89.81\n",
        "MISKNLWRTNQYLATACLSHPFVQGIANGTLSKKSFAYYVGQDVFFLRTFARAYSIAAAKSIEWKTFELFHTLAGGVKEELELHQTYATKWGVNLENITPGFATRRYTDFLLGTAWGNNIGAIATAMTPCMRLYAFLGQQLATPEIPEHZYSQWIRTYSTQEFEXLAQKLEKVTDRYAENIKEAESTYCYAMLCERDFFQAAWEIGE"
       ]
      },
      {
       "output_type": "stream",
       "stream": "stdout",
       "text": [
        "\n",
        "\n",
        "Tery_0812: Total groups = 1\n",
        "Group 1:\n",
        "2 paths, Average identity = 93.79\n",
        "MARLQKYKLRFALVVCISLLSVFLLFPAQAKDTIRVKVPVVLDGRELLEVGASGKLTAQERAKFMTSILKSALADSIERGTPPDVKVVRSNQNVVLKVDSRPLVEVAEDTLNSMYSEMQVQMWQKQLQQGLEQSWRERTXVYTRWAVKMLTIAFLTTLLLQGGLVLLFRYVLRQNIKNPHRRGHSXRLLGLXLLQIAVWAIFIXYGVQLFPITRGWFYEIFQLLDNTFNARMFQLGEETISLNRILTIALTITALWIGVGWFXSILKSRLLPLTGAEPSHQDTIAFFLQYGLLSVGALLILNAGGLDFQSLALLLGALGVGIGFGLQNIVKDFICGLILIVARPIKVGELVQVGDFQGLVQRIGARTTDISNIERYIITIPNSRFIEGEVLNWNRSGITRVKAYVKIPYGTDIDFVYKVLLAAAQVEHPDILRHPPPKIKFREYVENGLQFRVVAFIRDPLKQPKVRTHLYKQIEKYLRKYRVEVARPRQDVHLKDLDPEIYPGERSQTSAENRLLSQEMLSIEPPSIKEEYDWEAISTAMGGENGVSIKDRRFQFKLFKNVFLGSEAVEWLMINERATREEAILMGELMLQQGIIHHVLDEHDFKDEPLFYRFYNDEVKANINTNANSSEHGIDSKLQDDSE"
       ]
      },
      {
       "output_type": "stream",
       "stream": "stdout",
       "text": [
        "\n",
        "\n",
        "Tery_0822: Total groups = 2\n",
        "Group 1:\n",
        "67 paths, Average identity = 80.59\n",
        "MNSITKPTEKSSDLSPTSDLXKXLPDHTQLPDKDXDFVKNFXEPPQGDLLTHSITPILQQIHPDDQYCLGRDSGIYWRLTZPPEAPEKGSVAPDWFYIPNVPQKLDGKLRRSYVL"
       ]
      },
      {
       "output_type": "stream",
       "stream": "stdout",
       "text": [
        "\n",
        "Group 2:\n",
        "1 paths, Average identity = 79.13\n",
        "MNSITKPTEKSSDLSPTSDLQKSLPDHTQLPDKDQDFVKNFQEPPEGDLLTHSITPILQQIHPDRQYCVGRDSGIYWRLAELPEKGSVAPDWFYVPNVPQKLDGKLRRSYVL\n",
        "\n",
        "Tery_0845: Total groups = 2\n",
        "Group 1:\n",
        "1 paths, Average identity = 89.32\n",
        "MLTENTKMTVQEFLVKLDEIIEKQHLLKHQFYQMWNEGKLSLKMLQEYAQEYYLQVHYFPTYVSATHAACDDLEIRKMLLENLIEEEMGVANHPELWLRFAEGLGVERKAVQERQHLGKTQESVKLLQQLSQSKNPARGLAALYAYESQIPEVATTKIAGLKEFYGINSEAALEFFKVHEKADEIHSQATAEALVKLCETNAQKQEALTAAAIAVDALNLLLDGVYEEYCQVVN"
       ]
      },
      {
       "output_type": "stream",
       "stream": "stdout",
       "text": [
        "\n",
        "Group 2:\n",
        "1 paths, Average identity = 85.28\n",
        "MLLQDKQMTAQDFMSLLDEIIEKQHLLKHTFYQMWNQGKLSLEMLQEYAQEYYLQVHYFPTYISATHAACDDLEIRKMLLENLIEEEMGAANHPELWLRFAEGLDVKREAVKEREHLAKTKESVSILKELARSENPAKGLAALYAYESQIPEVATTKIAGLKEFYGIDSEAALSFFKVHEKADEIHSKVTKEALVKLCETDAQKQEALTAAATAVDALNLLLDGVYEEYCQ\n",
        "\n",
        "Tery_0855: Total groups = 2\n",
        "Group 1:\n",
        "1 paths, Average identity = 95.15\n",
        "LITAITPFVKSESESSTTPTPTPSSMVKEVSSLVSRIRFFCGTGEYRGKNIPATIVENTQLNEEIIVILWKLDNYYFGKKYPPKKRCEMVSQRFQNIYDRGGLKYIVPTLETWVPNQEIPVVCGVKQMMTSCNNEDLLFTLQSNDDPNLVVQDLMNRRNFPGKNPPILRGEEPPNTFAEGKRVYYDFSNVLNRWQLDEYSQEKPAF"
       ]
      },
      {
       "output_type": "stream",
       "stream": "stdout",
       "text": [
        "\n",
        "Group 2:\n",
        "1 paths, Average identity = 88.78\n",
        "VMAITPFIQLRSESPPTPTPTPSTMLKEMSSLGSRVRFFCGTGDYQGKNVPATIVENTQLNEEIIVILWKLDNYYFGKKYPPKKRCEMVSQRFQNIYDRDGLKYIVPTLETWVPNQEIPVVCGVKQMMTSCNNDDLLFTLQSNDDPNLVVQDLMNRRNFPVKNPPILRGEEPPNTFAEGKRVYYDFSNVLNRWQLEEYSQEKPAF\n",
        "\n",
        "Tery_0859: Total groups = 1\n",
        "Group 1:\n",
        "4 paths, Average identity = 95.14\n",
        "MEIPFNITLLIILTIASGIASQVVAAYLKVPAIVFLLLFGILVGKDGLGLVHPNLLGSGLEVIVSLFVALILFEGGLNLELRELGRVSGSIRNLVTIGTLITLIGGGMAAHWLGEFPWPJAFLYASLVVVTGPTVVGPLLKQVSVDRKVATLLEGEGVLIDPVGAILAVLVLNIVLNEDTASIGLFRDLFVRLGIGVAIGAAGGWLLGFSLKRAKFLSEELANLVVLAALWGMFGLAEVVRSESGLMTTVVAGIVVGAAEIPELRLIRRFKGQLTMLGVSVLFILLAADLSLASVVALGWGSIFTVLSLMFLVRPLNILICTWNSQLNWRQKIFVSWVAPRGIVSASVSSLFAILLTQNGINGGDSIKALVFLTIMMTVFSQGLTAKFVAQFLGITSSAATGAVIVGSNPLSRLIGKIFKDRGESMVLIDTDEESCKQAETEGLQAYKSSALDVNVLEEAGLESVGTFLAMTNNGEVNLVLAQRAAEEFKPPRVLAVYPKSPQQKNQNNKEKVQQAFMTELNLKNWNQYLDDKEVKLGETVLKELGFEFQKNHLRTLIKSGELIPLLIERQGSLQVLPASENWQPGDQIIYLLHDPKPKLLKRLSGSQQTALTMERHPAVEEVPIPTVVLETNSGEIPAK"
       ]
      },
      {
       "output_type": "stream",
       "stream": "stdout",
       "text": [
        "\n",
        "\n",
        "Tery_0866: Total groups = 1\n",
        "Group 1:\n",
        "6 paths, Average identity = 97.87\n",
        "MKRIVLIAGFESFNTGLYRQAAQLATSRCPNLDIQVFSDRALSTEPETVATALEHADVFFGSLLFDYDQVLWLRERIQHIPIRLVFESALELMALTKLGKFIIGDKPKGMPKPVKFILSKFSSGREEDKLAGYISFLKTGPKLLKFVPVKKVQDLRNWLIIYGYWNAGGTENVAAMSWVLAEKYLDLKVGEIPPPLETPNMGLLHPDHHGYFESPQKYLEWYRQQKPTSPTPVVGILLYRKHVITKQPYIPKLIHKFEEAGLTPLPIFINGVEGHVAVRDWMTTAHESQKSTPPLTPKDGNRKHNTTNRSKNLSPISNKPILSLSPEAVEVDAVVSTIGFPLVGGPAGSMEAGRQVEVSQAILNAKNVPYFVAAPLLIQDIYSWTRQGVGGLQSVVLYALPELDGAIDPVPLGGLVGEDIYLIPERVKRLTGRVKNWIQLRQTPPAQRKIAVILYGFPPGYGATGTAALLNVPRSLLKFLHALKEEGYNVGEIPEDGEELIRQIKEADEAIQKADLSKVNLKSLEKWLGYLSITRMEKQWGNLTNTGIKTDGQNFHIGGIQLGNIWLGVQPPLGISGDPMRLMFERDLTPHPQYAGFYKWLQNEFQADAVVHFGMHGTVEWLPGSPLGNTGYSWSDILLGNMPHLYIYAANNPSESMLAKRRGYGVLISHNIPPYSRAGLYKELVSLRELISEYREDTQKNSGLREGIFKKIFDTGLNSDCPFEYGKKLGIEFTPENARMFSADMVNSYFVEIYDYLQVIEQRLFSSGLHTLGEVPNQEELKSYLEAYFGEEIGDIPQDFREGYIDNSVNKDAEKIRELLMQNTDELTNLLRGLNGEYIPAAPGGDLLRDGSGVLPTGRNIHALDPYRMPSPAAYERGREIAQKIITQHLEENDNYPETVAVMLWGLDAIKTRGESIGILLELVGAEPVKEGTGRIVRYELKSLTEVGHPRIDILGNLSGIFRDSFVNIIELLDDLFQRAATAEEPVEQNFIRKHALVLQGQGVENISARLFSNPAGDFGSLVNDRVVDGNWESGDELGHTWEGRNVFSYGRQDKGQARPEVLQELLKGCDRIVQEIDSVEYGLTDIQEYYANTGGLKLAAEKQRGKKVSASFVESFSKDTTPRKLEDLLRMEYRTKLLNPKWAEAMANQGSGGAYEISQRMTALIGWGGTANFVDSWVYDGAAETYALDAEMARKLREANPEAFRNIIGRMLEANGRGFWQTDDEKLEKLRELYDVVDEDIEGVSVG"
       ]
      },
      {
       "output_type": "stream",
       "stream": "stdout",
       "text": [
        "\n",
        "\n",
        "Tery_0876: Total groups = 1\n",
        "Group 1:\n",
        "2 paths, Average identity = 93.31\n",
        "MTNQEPKKQEPKKVENSTAQTRQLLGMKGAASGETNIWKIRLQLMKPITWIPLIWGVVCGAASSGNYSWNLENVLMSAACMLLAGPLMAGYTQTLNDFYDREIDAINEPYRPIPSGAISIPQVVSQIVFLLLAGVGLSYFLDFTAGHKFPTITILCLFGAFLAYIYSAPPLKLKQNGWLGNYALGSSYIALPWWTGHALFGELNLTIVILTLFYSFAGLGIAVVNDFKSVEGDEKLGLKSLPVMFGIGTAAWICVLMIDIFQAGVAVYLITIKENLYAVILLLMVIPQITFQDMYFLRNPLENDVKYQASAQPFLVLGMLITGLALGHAGV"
       ]
      },
      {
       "output_type": "stream",
       "stream": "stdout",
       "text": [
        "\n",
        "\n",
        "Tery_0882: Total groups = 1\n",
        "Group 1:\n",
        "2 paths, Average identity = 97.73\n",
        "MSRATKVVLAYSGGVDTSVCIPYLKNEWGVKEVITLAADLGQGDELEGVRKKALDSGAVESLVIDVIEPLIKEYAFPAIQANALYENRYPLATALARPLIAKILVEAAEKYGADAIAHGCTGKGNDQVRFDVAIAALSPQIKILAPAREWGMSREETIAYGEKYGIPAPVKKSSPYSIDKNLLGMAIEAGELEDPWVEPPEEVYGMTKAIADTPNEPEYIEIGFEKGIPISLNGQGMGGIELITQLNQIAGNHGIGRIDMIENRLVGIKSREIYESPAMWVLIQAHRDLESLNLTADVTRYKRGIEETYSQLVYNGLWFSPLKGALDAFIQQTQERVTGVVRVKLFKGNVMVVGRKSDNSLYSFDLATYGAEDEFDHKAAEGFIYVWGLPTRVWSEKLRG"
       ]
      },
      {
       "output_type": "stream",
       "stream": "stdout",
       "text": [
        "\n",
        "\n",
        "Tery_0886: Total groups = 1\n",
        "Group 1:\n",
        "2 paths, Average identity = 89.77\n",
        "MASREVGADLWLSEYITPWDIYVHGLTKVFAYKKTPYQEMYIVETGIYGKALVLDGKWQSCTGDEFLYHEPLVHPAMICHGSPGKVLVLGGXEGATIREVFRWKXVKKVAMVDIDGEVVETCRQYLPEMHTNAFDDPRLQLIIXDALEFLDTSSESWDVVISDLSDPIEEGPSFQLFTKDYFEKILRVLTPGGFFVVQAGPVSPGEMKLHARIVNTMKAVFPYVQSYNSXVPTYGRPWGFVLGSRKMIDXRPEPETVDKFLKEKTIGGFRMLDGVTLLGMLQVPLXLREAIATETKIYTLEEPPKFGSPX"
       ]
      },
      {
       "output_type": "stream",
       "stream": "stdout",
       "text": [
        "\n",
        "\n",
        "Tery_0887: Total groups = 2\n",
        "Group 1:\n",
        "1 paths, Average identity = 98.18\n",
        "MTILRILAAIFLPPLGVFLTVGLGGAFWINLLLTIFGFYIAGIVHAIWVIAKHDN\n",
        "Group 2:\n",
        "1 paths, Average identity = 96.36\n",
        "MTILRILAAIFLPPLGVFLTVGLGGAFWINLLLTIFGFYIGGIVHAIWVIAKHDN\n",
        "\n",
        "Tery_0894: Total groups = 1\n",
        "Group 1:\n",
        "2 paths, Average identity = 88.94\n",
        "MTTELPRTNSPKPRIFSQESWEKISAPEEFDQLIQVVTIKDWLSFAIFGGLVLVGILWSIFGKIPITVTGKGVLIRPRQVVEFQSAIQGNLESLKIRDGECVKKDEVLATINPSQLKKQLELQQQKLILLQIQAVDTQKLESQRTQLEINGLTTKAESLTQRLQDTQNLTPTLQNNTLKALQEKGQTLEQRLQDMQAVTPRLKEEKLQEINKQRISLEKRLGDAKKLTPELRDKKLQAIAEQKINLQQRLQNAKNLTPILRDKNELALQQQRESLQQRLKDAQELVPVFQQRLTQRKELFTKGAISQDNLLQTEQEFRQNLQSIAQIQTELKQVEVQEAETEEKYLQNFSTINEIEDKLKDLEVEEVETNQRYLDNINTIREIETQLQALDSQMTENSKQFLDNLNQINEIKVQLQEVKLQETEAMEKYLENQNTMAQLKVDLQDLNTQKKRLEQENLEAANARKNQIEEVNREIAQLEKQVADNSKIFSPVDGCILEIKSNVGQYVNPGTVLGKINVQGKSSGLVAVSYFPVKDGKRIKSNLEIQITPDTVKRERFGGIIGNITSISNFPVTKEGANFVVGNSEIVQNIIGESGGQIETYAQLRKDDNIFSGYQWSSSKGPQQKFTAGTTITARVRVEERAPITFVLPILREWSGVYLFKSKS"
       ]
      },
      {
       "output_type": "stream",
       "stream": "stdout",
       "text": [
        "\n",
        "\n",
        "Tery_0896: Total groups = 1\n",
        "Group 1:\n",
        "2 paths, Average identity = 93.39\n",
        "MLYPKIKSAQVIDNYTLLVHFSNHKTRKYNIQKLLNKPMFFPLKNFAFFKNFQIDPSGSGIIWNDEIDISEYEIWINGTH\n",
        "\n",
        "Tery_0897: Total groups = 2\n",
        "Group 1:\n",
        "1 paths, Average identity = 82.22\n",
        "ELSKLLFFADHPPPHFHAIYGEYNALFNLETLEIIEGDLPCREQQ\n",
        "Group 2:\n",
        "1 paths, Average identity = 82.22\n",
        "ELSKLLFFADHPPPHFHAIYGEYNALFNLETLEIIEGDLPCREQQ"
       ]
      },
      {
       "output_type": "stream",
       "stream": "stdout",
       "text": [
        "\n",
        "\n",
        "Tery_0898: Total groups = 3\n",
        "Group 1:\n",
        "2 paths, Average identity = 95.82\n",
        "VKTLPIDLPKAEINQICQQYNISKLSLFGSVLRHDFTTESDIDILVEFEPGKTPGLAIIRIEDELSHLLGRVVDLRTPKDLSRYFRLLRVLQEAMVIYEQVII\n",
        "Group 2:\n",
        "2 paths, Average identity = 94.25\n",
        "VKTLPIDLPKAEINQICQQYNISKLSLFGSVLRHDFTTESDIDILVEFEPGKTPGLAIIRIEDELSPVLGRVVDLRTPKDLSRYFRLLRVLQEAMVIYEQ"
       ]
      },
      {
       "output_type": "stream",
       "stream": "stdout",
       "text": [
        "\n",
        "Group 3:\n",
        "1 paths, Average identity = 90.00\n",
        "VKTLPIDLPKAKINQICQHYNISKLSLFGSVLRHDFTTESDIDILVEFEPGKTPGLAIIRIEDELSHLLGRVVDLRTPKDLSHYFRDWVLQEAMVIYEQ\n",
        "\n",
        "Tery_0899: Total groups = 2\n",
        "Group 1:\n",
        "1 paths, Average identity = 98.39\n",
        "VDINSETALIAADIRVRYNLKLPDALQIATAIQSNCDAFLTNDLQFKKVRELSILVVSELTL\n",
        "Group 2:\n",
        "1 paths, Average identity = 71.93\n",
        "IDEDIGNLAAQMRARYNLSLTDALQIATAIQSNCDAFLTNDLQLKRVNELSILVISE\n",
        "\n",
        "Tery_0901: Total groups = 1\n",
        "Group 1:\n",
        "3 paths, Average identity = 99.52"
       ]
      },
      {
       "output_type": "stream",
       "stream": "stdout",
       "text": [
        "\n",
        "MKKMFKFRLLNQNSISENLEKYQRLTYPPYRPILDNLQDSKYIAISAEDNQEILGLTIGKIDYKKNIGEVLSLFVIPEYRRQGIGNQLLVALETEFRGKNCQQIDLIYIPNQTIIALEKIFQKNAWSKPKARMLIGLGERETIKNMAWLNLDQKLPLGYEIFPWGELTSKERTILEKSLWYPDILSPFTEEDIIEPINSLGLRYNHQVVGWMITHRISENTIRYTILFVKEELQSIGRGIALLARAIKLNLNHPEINQGSFALLINNEKMAKFXERRLKPYLASFRQSFISSKXT"
       ]
      },
      {
       "output_type": "stream",
       "stream": "stdout",
       "text": [
        "\n",
        "\n",
        "Tery_0902: Total groups = 3\n",
        "Group 1:\n",
        "14 paths, Average identity = 94.60\n",
        "MPXKPRNFQIGHSYHITTRCNNREFKLSRRECREVFLYAIKKVSTKYNFRLYALXIMSNHVHYLIEPLQXRRFTXNYALPQLVHSYVFQQNVKTXGAFLGKTILLQWVSFLXXRKSJEYFTLXXRVTXSGXNALRLFL*F**LW*LRMFD**WPDSMASGFLRVGQYSGPMCPEI*GIL*XI*VQTKKFEKVPLGXQTFRGYCAVF*WPKFSXCXRRRXSXQLLLTFRRR*CQTMKN*QR*LVNLL*LIDR"
       ]
      },
      {
       "output_type": "stream",
       "stream": "stdout",
       "text": [
        "\n",
        "Group 2:\n",
        "1 paths, Average identity = 88.89\n",
        "MPRKPRNLLAGYSYHITTRCNNREFKLSRRQCREVFLYAIKKVSTKYNFRLYALCIMSNHVHYLIEPLQPEDLPKIMHFLNWYTAMCFNRMLKRTGHFWEKRYYSNGFPSSDKERALNTLRYIHGNPKAAKMRCGFFYDFSNYGSYECLTNDGLTQWHPAFLELANTLEECAQKYKGFCRKYKPKQKKGKKCHWGSKFLGGIVLSFDGRNSRSTKKNSTKKKESTLFDFPPTVMPEENKEIARVVSQFVVANRPS\n",
        "Group 3:\n",
        "5 paths, Average identity = 75.36\n",
        "MARKPRNFQTGYSYHITTRCNNREFKLIRRECREVFLYAIKKAIKKYNFKLYALCIMSNHVHYLIEPAQPEDLAKIMHFLNWYTAMCFNRMLKRTGHFWEKRYFADGFPPGDGERAINTLRYIHGNPKAAKIRGGFFYDFSNYGSYERLTDDGLTEWHPAFLKLANTLEGCAQKYKGFCNKYKPKQKTPKKSHWGSRLLXGITPSIXFEKRSSQKTKKSSTSFXFPPCXGNRKARSSKGSXSIC*SKQT"
       ]
      },
      {
       "output_type": "stream",
       "stream": "stdout",
       "text": [
        "\n",
        "\n",
        "Tery_0905: Total groups = 1\n",
        "Group 1:\n",
        "2 paths, Average identity = 85.88\n",
        "MTXPIAGYTLPVFTCAAAXAALSWLRQNVSSLSTVSINLLEPREIVDIPIEQVALLKNNTALAITRSDPGNNLDLTRNTPIWAMVELATVSEIETSEQIVIIGGAGIGHNIHSGEAAIYSYARRLLQENLQPLLNQNEQIKVKVILPEGRQLATRTSNSAFGIVEGLSLLGTTGVSQPLSLPGQLETYQEELQQKAMQFNSLVFCVGENGLDIAGKMGISPEQTVKTANWLGPMLVAAAIAGVESILLLGYHGKLIKLAGGIFHTHHHLADGRLEILTAHCANIGLPTSVIQEVFTCTTTEKALKLLRSIDTNNQDDWVGKVYGAIASKIDQRCQAYIFNHSQKQVQVGSMLFDRDREIFLKTEVADTVFSRICYSIKD"
       ]
      },
      {
       "output_type": "stream",
       "stream": "stdout",
       "text": [
        "\n",
        "\n",
        "Tery_0915: Total groups = 2\n",
        "Group 1:\n",
        "1 paths, Average identity = 71.13\n",
        "MPTYKVTLKTPEGGISTYDVSDDEYILDVAEEQGLDLPSSCRSGTCSSCAAKSRIRYNKPV*AVFLR**AD*RRIYTNLCSLSYL*LYYHN*QRRGS\n",
        "Group 2:\n",
        "1 paths, Average identity = 70.00\n",
        "MLTYKVTLKTVNGEQLIIDVPDHDYILDVAEEQGLELPYSCRAGACSTCAGKLVSGTIEQSDQSFLDEDQMKAGYVLTCVASPTSDCTIETHKEEAL\n",
        "\n",
        "Tery_0925: Total groups = 59\n",
        "Group 1:\n",
        "14 paths, Average identity = 77.04"
       ]
      },
      {
       "output_type": "stream",
       "stream": "stdout",
       "text": [
        "\n",
        "MXYSLXXXQKVINFVXNGGTITKXAHXFGXXRXXIYRWLSRPKLSATKXKSXQRKLDWKELEKDVKQNPESXXVRQS*KXWS*SXSYILCFKXNXFS"
       ]
      },
      {
       "output_type": "stream",
       "stream": "stdout",
       "text": [
        "\n",
        "Group 2:\n",
        "1 paths, Average identity = 79.41\n",
        "MPYSLDFRQKVINFVENGGTITKAAHTFGIGRASIYTWLSRPKLSATKVKSRQRKLDWKELEKDVKQNPESSIVRQS*KIWS*SSSYILCFKKNEFS\n",
        "Group 3:\n",
        "1 paths, Average identity = 76.47\n",
        "MPYSLDFRQKVINFLENGGTITKIAHTFGIGRASIYRWLSRPKLSATKVKSRKIKLDWKELEKDVKQNPESRVVRQS*KIWS*STSYILCFKKNEFT\n",
        "Group 4:\n",
        "1 paths, Average identity = 76.47\n",
        "MPYSLEFRQKVINFVENGGTITKAAHTFRIERASIYRWLSRPKLSATKVKSHQRKLDWKELEKDVKQNPESIIVRQS*KKWS*SNRYILCFKKNEFS"
       ]
      },
      {
       "output_type": "stream",
       "stream": "stdout",
       "text": [
        "\n",
        "Group 5:\n",
        "1 paths, Average identity = 76.47\n",
        "MPYSLDFRQKIINFVENGGTITKAAHIFGIGRASIYRWLSRPRLSATKVKSRQRKLD*KELEKDVKQNPESRVVRQS*KIWS*STSYILCFKKNEFS\n",
        "Group 6:\n",
        "1 paths, Average identity = 82.11\n",
        "MPYSLDFRQKVINFVENGGTITKAAHTFGIGRASIYRWLSSPILSATKVKSRQIKLDWKELEKDVKQNPESIFVRQS*KIWS*STSYILCFKKNEFS\n",
        "Group 7:\n",
        "1 paths, Average identity = 76.77\n",
        "MPYSLDFRQKVINFVENGGTLTKVAHTFGIGRASIYRWLSRPKLSATKVKSRQIKLDWKELEKDVKQNPESSVVRQYQ*IWS*SYSYILCFKKNEFS"
       ]
      },
      {
       "output_type": "stream",
       "stream": "stdout",
       "text": [
        "\n",
        "Group 8:\n",
        "2 paths, Average identity = 76.39\n",
        "MPYSXDFRXKVINFVENGGTITXAAHTFXXGXASIYRWLSRPXLXXTKVKXRQRKLDXKELEKDVKQNPXSXIXRQS*KIWS*SXXXILCFXKNEFS\n",
        "Group 9:\n",
        "1 paths, Average identity = 81.05\n",
        "IPYSLDLRQKVINFVENGATITKAAHTFGIGRASIYRWLSRPTLSATKVKSRQRKLDWKELEKDVKQNPESIFVRQS*KIWS*STSYILCFKKNKFS\n",
        "Group 10:\n",
        "1 paths, Average identity = 80.21"
       ]
      },
      {
       "output_type": "stream",
       "stream": "stdout",
       "text": [
        "\n",
        "MPYSLDFRQKVINFVENGGTITKAAHTFGIGRTSIYR*LSRPKLSATKVKSRQIKLDWKELEKDVKRNPEFHIFRQI*KIWS*STSYILCLKKN*FS\n",
        "Group 11:\n",
        "1 paths, Average identity = 76.47\n",
        "MPYSLDFRQKVINFVENGGTITKAAHTFGIERASIYRWLSPPKLSPTKVKSRQIKLDWKEL*KDVKQNPESSIVRQS*EI*G*STSYILCFKKNEFS\n",
        "Group 12:\n",
        "1 paths, Average identity = 76.24\n",
        "PYSLDLRKKVINFVENGGTITKAAHTFGIGRASIYRWLSRPKLSATKAKSRQRKLDWKELEKDVKQNPESIIVRQS*KIWS*STSYILCFKKNEFS\n",
        "Group 13:\n",
        "1 paths, Average identity = 77.78"
       ]
      },
      {
       "output_type": "stream",
       "stream": "stdout",
       "text": [
        "\n",
        "MPYSLDLRQKVINFVENGGTITKAAHIFGIGRASIYRWLSCPKLSATKVKSRQRKLDGKELEKDVKQNPESRVVRQS*KNWS*STSYILCFKKDEFS\n",
        "Group 14:\n",
        "1 paths, Average identity = 73.33\n",
        "MPYSSDFRQKVINFVENGGTITKAAHIFGIRRASIYRWLSRPTLEATKVKSCQRKLDWKELEKDVKQNPESSIVRQS*KIWS*SYSYILCFKKNEFS\n",
        "Group 15:\n",
        "2 paths, Average identity = 76.03\n",
        "MLYSLDLRQKVINIVENGGTIT*ASHIFGIGRASIYRWLSPPKLSATKVKNSRKKLDWKELEKDVKQNPESSIXRQS*KIWS*STSYILCFEKNEFS"
       ]
      },
      {
       "output_type": "stream",
       "stream": "stdout",
       "text": [
        "\n",
        "Group 16:\n",
        "1 paths, Average identity = 76.77\n",
        "MPYSLDFRQKVINFV*NGGTITKAAHTFGIGRASIYRWLSRPKLSATKVKSSQRKLDWKELEKDVKQNTESRVVRQS*KNWS*STSYILCFKKNEFS\n",
        "Group 17:\n",
        "1 paths, Average identity = 76.77\n",
        "MPYSLEFRQKVINFVENGGTITKAAHTFGIERASIYRWLSRPKLSANKVKSRQRKLDGKGLEKDVKQNPESSIVRQV*KIWS*STSYILCFKKNEFS\n",
        "Group 18:\n",
        "1 paths, Average identity = 74.51\n",
        "MPYSLDLRQKVINFVGNGGTITEVGHTFGIGRASIYRWLSRPKLSATKVKSRRIKLDWKELEKDVKQNPESSIVRQS*KICS*STSYILCFKKN"
       ]
      },
      {
       "output_type": "stream",
       "stream": "stdout",
       "text": [
        "\n",
        "Group 19:\n",
        "3 paths, Average identity = 72.74\n",
        "MPYSLXFRQKVINFIENGXKITKAAHTFGIGRASIYRWLSRPTLEATKVKIXQRKLDWKELEKDVKQNPESRVVRQS*KIWS*STSYILCFKKN\n",
        "Group 20:\n",
        "1 paths, Average identity = 74.51\n",
        "MSYSLDLRQKVINFVENGGTIAKAAHTFGIGRASIYRWLSLTTLSATKVKIRQRKLDWKELEKDVKQNPESRVVRQS*KIWS*STSYILCFKKNKFS"
       ]
      },
      {
       "output_type": "stream",
       "stream": "stdout",
       "text": [
        "\n",
        "Group 21:\n",
        "2 paths, Average identity = 74.14\n",
        "MPYSLDFRQKXINFVXNGGXXTKXXHTFGIXXASIYRWLSRPKLSATKVKSRQRKLD*KELEKDVKQNPESRVVRQS*KIWS*LTSYILCFKKNEFS\n",
        "Group 22:\n",
        "1 paths, Average identity = 74.29\n",
        "IPYSLDFRQKVINFVENGGMITKAAHTFGRGRASIYRWLSRPKLSATKVKSRQKKLDCKELEKDVKQNPESIIVRQS*KIWS*SYSYILCFKKN*FS\n",
        "Group 23:\n",
        "3 paths, Average identity = 76.12"
       ]
      },
      {
       "output_type": "stream",
       "stream": "stdout",
       "text": [
        "\n",
        "MPYXLXXXXKVIXFVENGGTITXXAHXFXIXRASIYRXLSRPKLSAXKVKXRXXKLDXXELEKDVKQNPESXIXRQS*KIWS*XXSYILCFXKNEFS\n",
        "Group 24:\n",
        "1 paths, Average identity = 76.76\n",
        "MPYSLDFR*KVINFVENGGTITKAAHTFGIGIASIYRCLSRPKLSATKVKSRQRKLDWKELEKDVKQNPHSSVVRQS*KNWS*STSYILCFKKN*FS\n",
        "Group 25:\n",
        "1 paths, Average identity = 73.53\n",
        "MPYSLDLRQKVINFV*NGGKITKLAHTFGIGRASIYR*LSRPKFSATKVKSRQIKLDWKELEKDVKQNPESSIVRQS*KIWN*STSYILCFKKNKFS"
       ]
      },
      {
       "output_type": "stream",
       "stream": "stdout",
       "text": [
        "\n",
        "Group 26:\n",
        "4 paths, Average identity = 72.55\n",
        "MLYSLDFRKKVINFIENGGTITKAAHTFGIGRASIYRWLSRPTLEVTKVKSRQIKLD*KELEKDVKQNPESRVVRQS*KIWS*STSYILCFKKNEFS\n",
        "Group 27:\n",
        "1 paths, Average identity = 76.84\n",
        "MPYSLDLREKVINLVENGGKITEAAHIFGIGRASIYRWLYRPKLEATKVKRRRRELDWKELEKDVKQNPESIISKQI*KVWS*STSYILCFEKNEFS"
       ]
      },
      {
       "output_type": "stream",
       "stream": "stdout",
       "text": [
        "\n",
        "Group 28:\n",
        "1 paths, Average identity = 80.00\n",
        "MPYSLDFRQKVINFVENGGTITKAAHTFGIGRASIYRWLSRPKLSATKVKSRLIKLDWK*L*KDVKQNQE*IIVRQS*KIWSQSYSHILCFKKN*FF\n",
        "Group 29:\n",
        "1 paths, Average identity = 74.75\n",
        "MPYSLDFRQKVINFVENGGTITKAAHTFGIEIASIYRWLSRPKLSATKVKSRQRKLDWKEL*KDVKQNPKSSIVRQV*KN*I*SYSYILCFKKNEFS\n",
        "Group 30:\n",
        "1 paths, Average identity = 76.53\n",
        "MPYSLDFRQKVINFVENGGTITKATHTFGIGRASIYR*LSRPKLSATKVKNSQRKLDWKELEKDVKQNSESIIVRQS*KNWS*STSYILCFKKNEF"
       ]
      },
      {
       "output_type": "stream",
       "stream": "stdout",
       "text": [
        "\n",
        "Group 31:\n",
        "1 paths, Average identity = 72.55\n",
        "IPYSLGFRQKVINFLENGGTITKEAHIFGIGIASIYRCLSRPRLSATKVKSRQRKLDWKELEKDLKQNPESIVVRQS*KIWS*STSYILCFKKNEFS\n",
        "Group 32:\n",
        "1 paths, Average identity = 80.22\n",
        "MPYSLDLRQKVINFVENGGTITEAAHTFGRGRTSIYRWLSRPKLPATKVKSRRIKLDWKELEKDVKQNP*SLIGRQS*KNWS*SYSYILCFEKS\n",
        "Group 33:\n",
        "1 paths, Average identity = 77.66\n",
        "MP*SLDFRRKVINFVENGGTLTKAAHTFGVGRASIYRWLYRPKLSATKVKSRQRKLDWKELEKDVKQNPESILVRQS*KKLELINQLYFML*KE*IF"
       ]
      },
      {
       "output_type": "stream",
       "stream": "stdout",
       "text": [
        "\n",
        "Group 34:\n",
        "1 paths, Average identity = 77.66\n",
        "MSYSLDFTQKVINFA*NGGTITKAAHTFGIGIASIYRWLSRPKLSATKVKSRQRKLDWKELEKDVKQNP*SSFVRQS*KIWS*STSYILCFKKNEFS\n",
        "Group 35:\n",
        "1 paths, Average identity = 73.00\n",
        "MPYSLDLRKKVIHFV*NGGTITKAAHTFGIGIASIYRWLSRPKLSATKVKSRQIKLDWKELEKDVKQNPESRVVRQS*KIWS*STSYILCFKKNEFS\n",
        "Group 36:\n",
        "1 paths, Average identity = 81.11\n",
        "MPYSLDFRQKVINFVENGGTITKAAHTFGIGIASIYRCLSRPILSATKVKSRQRKLDWKELEKDVKQNPESIFVRQS*KNLELINQLYFML*KE*IF"
       ]
      },
      {
       "output_type": "stream",
       "stream": "stdout",
       "text": [
        "\n",
        "Group 37:\n",
        "1 paths, Average identity = 73.74\n",
        "MPYSLDFRQKVINFIENGGTITKAAYTFGIGRALIYRWLSRPTLEATKVKSRQRKLD*KELEKDVKQNPGSRVVRQS*KNWS*STSYILCFKKNEFS\n",
        "Group 38:\n",
        "1 paths, Average identity = 71.15\n",
        "MPYSLDLIQKVINFVENGSTITKEAHTFGIGRAWIYRWLSRPKLSASKVKSRQRKLDWKELEKDVKQNPESRVVRQS*KIWS*STSYILCFKKKEF\n",
        "Group 39:\n",
        "1 paths, Average identity = 77.78\n",
        "LPYSLDLRQKVINFVENGGTITKVDHTFGIERASIYRWLSGPKLSATKVKSRQIKLDWKELEKDVKQNPESSIFRQN*KNWS*STSYILCFKEN"
       ]
      },
      {
       "output_type": "stream",
       "stream": "stdout",
       "text": [
        "\n",
        "Group 40:\n",
        "1 paths, Average identity = 72.73\n",
        "MPYSLDFRQKVINFVKNGGKITKAAHTFGIGRASIYR*LSPPTLSATKVKSRQRKLDWKELEKDVKQNPESRVVRQI*KIWSSSNSYISCFKKNEFS\n",
        "Group 41:\n",
        "1 paths, Average identity = 78.26\n",
        "MPYIFDFRQKVIIFVENGGMITEAAHIFGRGRASIYRWLSRPKLSATKVKLRQRKLDWKELKKDVKQNQESIISRQS*KIWS*STSYILCFEKN\n",
        "Group 42:\n",
        "1 paths, Average identity = 71.57"
       ]
      },
      {
       "output_type": "stream",
       "stream": "stdout",
       "text": [
        "\n",
        "MP*SLDFRQKVINFVESGGMITKAAHTFGIGIASIYRWLSRTK*SATKVKSRQKKLDRKELEKDVKQNPDSSIVRQS*KIWS*STSYILCFKKNEFS\n",
        "Group 43:\n",
        "1 paths, Average identity = 76.59\n",
        "IPYSLDFRKKVINFVENGGTITKAAHTFGRGRASIYR*LSPPKLSATKVKSRQRKLDWKEL*KDVKQNP*SSVVRQS*KNWS*STRYILCFKKNEFS\n",
        "Group 44:\n",
        "1 paths, Average identity = 71.87\n",
        "MTYSLDFRQKVTKFVGNGGTITKAAHTFGRGRASIYRCLSRPKLSATKVKSSQRKLDWKELEKDVKQNPDSRVFRQV*KNWS*SNSYILCFKKNEFS\n",
        "Group 45:\n",
        "1 paths, Average identity = 73.12"
       ]
      },
      {
       "output_type": "stream",
       "stream": "stdout",
       "text": [
        "\n",
        "MPYSLDFRKKVINFVENGGTITKAAHTFGRGRASIYRWLSPPTLEVTKVKSRQRKLDWKELEKDVKQNPESRVFRQS*KKLEFINQLYFML*KE*IF\n",
        "Group 46:\n",
        "1 paths, Average identity = 75.00\n",
        "MPYSLDLRKKVINFVENGGTITEAAHTFWIGIASIYRWLSRPKLEATKVKRRQIKLDFQELEKDVKQNPKSIISRQS*KNWS*SYSYILCFEKN\n",
        "Group 47:\n",
        "4 paths, Average identity = 75.24\n",
        "MLYSLDLRQKVINIVENGGTIT*ASHIFGIGIASIYRWLSPPKLSATKXKNRRKKLDWKELEKDVKQNPESSIGRQS*KIWS*STSYILC"
       ]
      },
      {
       "output_type": "stream",
       "stream": "stdout",
       "text": [
        "\n",
        "Group 48:\n",
        "1 paths, Average identity = 72.83\n",
        "MPYSLDLR*KAINFVENGGMLTEVAHIFGIGRASIYR*LSHQKLEATKVKHRQIKLDWKELEKDVKQNLESIISRQS*EIWS*S*SYILCFEKN\n",
        "Group 49:\n",
        "1 paths, Average identity = 73.86\n",
        "IPYSLDLR*KVIIFVENGGRLTKVAHTFGMERASIYR*LSRPKLSATKVKSRQRKLDWKEL*KRCKTKSRVEYCQTELKNLELIN*LYFML*KE\n",
        "Group 50:\n",
        "1 paths, Average identity = 80.85\n",
        "MPYSLDLRQKVINFVENGGTITEAAHIFGIGIASIYRWLSRPKLSATKVKRRRRKLDWKELEKDVKQNPESKLADRAKNFGVNTTAIFYALKRM"
       ]
      },
      {
       "output_type": "stream",
       "stream": "stdout",
       "text": [
        "\n",
        "Group 51:\n",
        "1 paths, Average identity = 77.32\n",
        "MPYSLDFIQKVINFIENGGTITKAAHKFGRERASIYRWVSRPKLEATKVKSRQRKLDWKEL*KDVKQNPESNLSDRAKKFGVNQPAIFYALKRMNFP\n",
        "Group 52:\n",
        "1 paths, Average identity = 78.02\n",
        "MPYSLDFRQKVINFV*NGGTITKAAHTFGIGIASIYRWLFRPKLSATKVKSRQRKLDWKELEKDVKQNPESKLSDRAKNFGVNQPAIFYAF\n",
        "Group 53:\n",
        "1 paths, Average identity = 78.02\n",
        "MPYSLDFRQKVINFVENGGTITKAAHTFGIGRASIYRWLSCPKLSATKVKSRQRELDWKELEKDVKQNPESKLSDRYKKFGVNPTAIFYAF"
       ]
      },
      {
       "output_type": "stream",
       "stream": "stdout",
       "text": [
        "\n",
        "Group 54:\n",
        "1 paths, Average identity = 70.97\n",
        "MPYSLDFRQKVINFLENDRTITKVAHTFGIGIASIYRWLSPPQLSATKVKSSQRKLDWKELEKDVKQNTESKLSDRVKKIGVNQSAIFYALKK\n",
        "Group 55:\n",
        "1 paths, Average identity = 74.73\n",
        "MPYSLDLRQKVINFVENGGTITKAPYTFRIGRASIYRWLSRPKLSATKVKIRQRKLDGKEL*KDVKQNSESKFSDRAKKFGVNLTAIFYAL\n",
        "Group 56:\n",
        "1 paths, Average identity = 72.64\n",
        "MPYSLDLRKKVINFVENDGTITEAAHIFGIGRASIYRWLSRLKLSATKVKSRRIKLDWKELE*RCKTKSRVKIVRHS*KKWS*SISYILCFKKN"
       ]
      },
      {
       "output_type": "stream",
       "stream": "stdout",
       "text": [
        "\n",
        "Group 57:\n",
        "1 paths, Average identity = 73.12\n",
        "IPYSLDFRQKVVNFVENGGTMTKAAHTFGIGRASIYRCLSRPKLLATKVKSRQGKLDWKELERDVKQNPELSIFRQS*KKLS*STSYILCLKKN\n",
        "Group 58:\n",
        "1 paths, Average identity = 70.83\n",
        "IPYSLDFRQKVINFVENCGRITKAAHTFGIGRASIYRWLSHPKLSATKVKSRQRKLDWKELEKDVKQNLESSIVRQI*KIWG*YYTYILCFKLH\n",
        "Group 59:\n",
        "1 paths, Average identity = 70.79\n",
        "MPYSLDLRQKVINFVENGCTITEADHIFGTERASIYKWLSRPKLEVTKVKRCQIKLDWKELQKDVKQNPKSIISRQS*KKLELINQLYFML*KE*K"
       ]
      },
      {
       "output_type": "stream",
       "stream": "stdout",
       "text": [
        "\n",
        "\n",
        "Tery_0929: Total groups = 1\n",
        "Group 1:\n",
        "2 paths, Average identity = 89.53\n",
        "MEVGNFKSYTGLGDRLLRSLNLRSEEVERTLLMFLVYTLTSVGLIWLELSTVSLFLDEYGADKLPWIYIASAXIGSGLGFXYSWLQKVMPLRRVIVVILLLMAVPLFFFRFGIGIENIKIAGLSLAFXTTFMMWLWVEACYLLNDLNTSITGNQLFNIREIKRTYPIISSGFLVAGVISGFSLPLILYFVSLDNVTIVSCLMVVLGSGILFYLSEKYQQSFPDSSRWIPEEEEQEFSTRKIKGPLQSYILPLIIFFVMAEVLYVLIDFQFFYQLELQNQAIDGASQIASFLGLFEGVLSSCQVVTQWFASSRLVERTGVFGTAIILPAGAMALGLFSFTGAITGLFSVFIGLVILRFLDELLHYTLIETTGPVLFQPLPENIRSDVQTMVNGVAEPFSTGLSGLIILAILWLCRLILDSSQTGFSDQQSLVFVIAIIISSLVWLGVVWLIRTKYVGLLVRSAEKGRFGVLDVDMRELKRSVVEILETGTAEEDKHSCIELLSQMDKKNVGEILSPLLEVMSPALQFQSLEVMLNHPNPAYLQKVRSLTKTSLPGEVLALALRYIWLTESEPDVSQLRPYLQPLVDPVVRGTAAALIMRRGDIEQKAEATNILRRMITSKLEKERVMGVRALGEADYLQGLRLYIPSLLEDESLRVRNYCMDVIASTHLESYYPSLLRGLSYKSTRESALQALVRLGNDAIPMLVKLADDTQKSELIRLQAWNAIGEIGTMEALDSLVNRMITTWGITRRNILRRLLKMPGEIGIEGVLERVGRSGVEILVEQELMFLGQIYAGIVDLSGVNINSMSSYSAALEESNGKLTTDYTGIFLRSLQLLESDATEQCFLLMKLLYPLGSIQAAAFNIKSDSRSNVARGLEILDNTVDISCKRSLIDILDQKSYEEKLNSLSEMIVYQPMAPSDRLRHLLDFRHFLSDWALACCLQMARVARWSLTAEQTLVCLRHPTGFVREAALAYLRMASQRALVELLPNLRNDPDPLVAAQVEQMIVEFGI"
       ]
      },
      {
       "output_type": "stream",
       "stream": "stdout",
       "text": [
        "\n",
        "\n",
        "Tery_0937: Total groups = 1\n",
        "Group 1:\n",
        "2 paths, Average identity = 87.54\n",
        "IYPRSLARTWVNSKYIKILNKNESRRSIGSSGDSSTSRLFKRCEKNGIFSSMGR*RIF*NCRASRL*PRLYKRSSCQLMAKSFWCPRRKSNQEKFSCFAKTKI*HSEIIY**NRAKSSTTSSFCVFCRNKKNTV*TKSN*LGRSYRCFCFLRTLSRIESTTTVYYRRWLPIDSATWYGWDG*NSSSSKSRHTTTE*I*LYNLAIAASLSPIKNNS*GTCLIFLLPRMYSRRTKQTC*MFTPVTLPDNFRWCRNYFKSWMYRLLSLWL*RLQSIISVD*RNIPL*LPYSHQ*RKTPRSSSV*KCRYCSTIFTTLWLQRNS*SFITNSRNIRFRSTKTTT*RIL*P*SLSIKNSHYLN*RLIRWRSRRIPPT*YCYLQWYSSTP*PTLSSPL*IGKKNYGLVGG*PRLD*YTKIRN*YCASNF*G*SPRKFRSSHLALHSQEKIKYVYS*TIANGVYP*LLN*RGCSGINYY*LKLICYSFLNHNYWQTLY*RTTK*VDC*TYCQTTN*NI*FYSNP*TTIIINFK*TTS*GNCFMWLW*RKSD*FVYETRD*FNGG*HLSSPNR"
       ]
      },
      {
       "output_type": "stream",
       "stream": "stdout",
       "text": [
        "\n",
        "\n",
        "Tery_0968: Total groups = 1\n",
        "Group 1:\n",
        "2 paths, Average identity = 94.74\n",
        "VPKPERKILLDFEKPLAELENRINQIRELAKDCSGVDVSEQIHQLEAKAAQLRQEIFSSLSPVQKLQLARHPRRPTTLDYIQAISDEWIELHGDRGGSDDPAIVGGLARINGRPVVIIGHQKGRDTKDNVARNFGMASAGGYRKSIRFMDHGNRFGMPILTFIDTPGAWPGVEAERLGQGEAIAYNLREMFHLEVPIICTVIGEGGSGGALGVGVGDRLLMLEHSVYTVASPEACAAILWKDASKASQAAEALKITSWDLKKIGIIDDVVPEPNGGAHANPLQAAEKLKMAIVKSLDDLNHLSSQQRRKQRYQKFRSMGVFLET"
       ]
      },
      {
       "output_type": "stream",
       "stream": "stdout",
       "text": [
        "\n",
        "\n",
        "Tery_0972: Total groups = 1\n",
        "Group 1:\n",
        "2 paths, Average identity = 82.33\n",
        "MDNYILPLPTLSDIFSQEKLNNDFSTIKMQLGRENASFSITQRNQDLYLKAQKEWYSAIATINQLLEKSVKISDSQNLKNLEMTKTGKEKEVKKTTIALENWESKTSSKFSTSYSLLSHLKSYRGLVLSGMXPVLTNPALTSSFYTSVFTSEIPKSLDWLSILRRETLPLLPATDSINCLPTTIPILPLSTKDPITNEQFCLVLTTEFSLVMVLGKNQDNEPTFLFSFDPEIVKKAWVVLQQRIVSPKCFBGXXFDXXQXFIHQYSQQLSILBDIFEQFSPLAPDYKIVMEFSRLLLSNLPTANTKNEILEVNISRKSGDKQETSTSSLESTIENIESTDVELLQAIAHEVKTPLATIQTLTRLLLKRLNLNQEVMRKHLQMIDTECASQIERFSLIFRAAELETQQPLKQQHPYLQLTTIPLAQVFQNSIPRWQRKATQRNHTLKVILPPKMPTVISDPTMLDQVLGNLIENFSRNLPYGSLIKVEVMLAGSQLKLQLKSDSDIGEKSRSPFTSYTKTPFKSIGPLLMFQPETGSLSLNLKVTKNLFQAIGAKLVIRQRPTKGEIMTIFLPVQ"
       ]
      },
      {
       "output_type": "stream",
       "stream": "stdout",
       "text": [
        "\n",
        "\n",
        "Tery_0977: Total groups = 1\n",
        "Group 1:\n",
        "5 paths, Average identity = 81.95\n",
        "TSLNDLASIYNKQGRYTEAEPLLKQALETRKKLLGAEHPDVVASLNDLASIYNKQGRYTEAEPFSIQALEMRKNLLGAEHSDVAASLNNLAEIYKRQGRYTEAEPFSIQALEMWKKLLGSEHPYVAASLNNLAGLYSAQGRYTEAEPLFIEALEMYKKLLGSEHPNVAYSLSNLAFLYNAQGKYTEAEPLLKQALEMYKKLLGSEHPNVAYSLKDLATLYRSQGKYTAVKPFSIQALEMRKNLLGAEHSDVAASLNNLAEIYKRQGRYTEAEPLSIQALEMWKKLLGYEHPYVAASLNNLAGLYSAQGRYTEAEPLFIEALEMYKKLLGSEHPDVAYSLSNLAFLYSAQGRYTEAEPLLKQALEMYKKLLGSEHPDIVSSLSNLAFLYNAQGRHTEAEPLLKQALEMYKKLLGPEHPYVASSLNNLATLYRTQGRYTEAEPLFIEALEMYKKLLGPEHPYVASSLNNLALLYSTQGRYIEVEPLFIEALEMYKKLLGPEHPYVASSLNNLALLYSAQGRYTEAEPLYTQALDMRKKLLGPEHPDVASSLYNLAALYESQGNIALAVQYLEESLEVQEKNLTYNLAAGAEPQKDKYLKTISGEQVQAISLHLQTAQNNPAATTLAFTTILRRKGRLLQFFTASRKILRQQLDPQGLQWLDELDNIHGQLSTLLYNRPENIPLETYRDNLAKLEQQANELQDKISRRSSEFRTSTQPVTLEAIQQLIPVNAALVEFIQYYPFDPKTSTFGKPHHGVYVLNAEGEPQGIDLGTVEEIKSDLDKFRVLLKKERAPLEKLKKTARELDEKLMQPVRQLIGSKQQILISPDSHLNLIPFEALVDENNQYLVENYSITYLSSGRDLLQLTTKARKTSAAVLLGDPNYGKKDKIATQRSFNKTSSNIALPRLLETADEVKAIGKLLGVQPLLRGAATEKAIKRAQNPFILHIATHGLFEESKEKPQNPEELPIIDXXSLLRSGLALAGFKEENIVGDNXVXPELEQKETDEDNGFLTALEATGLKLLGTELVVLSACDTGLGXISPGEGVYGLRRAFXIAGXQSQVISLWKVXDEGTKDLMVKYYQRLLDGNIGRTEALRXTQLEMLXGEAGEXYXHPYXWASFIPSGNWQPIPPRLK"
       ]
      },
      {
       "output_type": "stream",
       "stream": "stdout",
       "text": [
        "\n",
        "\n",
        "Tery_0984: Total groups = 2\n",
        "Group 1:\n",
        "1 paths, Average identity = 97.21\n",
        "MLDAFSRSVVSADSSGSFIDGAGLESLKSFIADGNKRLDAVNFIASNASCIVSDAVAGICCESPGLTSPGGGVYTTRKMAACLRDGDIILRYICYALLAGDASVLNDRCLNGLKETYAALGVPAGNAARAVGIMKAAAVAFVTNTASQRKMTVTEQPGSCDTLAAEVAGYFDTVVAAIS\n",
        "Group 2:\n",
        "1 paths, Average identity = 72.63\n",
        "MLDAFSRAVITADTKTAPIGADELASLKEFIAQGNKRLDAVNFITSNASCIVSDAVAGMICENSGLIQAGGNCYPNRRMAACLRDGEIILRYVTYALLAGDSSVLNDRCLNGLKETYIALGVPTGSAARAVGIMKAAAVAFINNKASQRKMNVTEGDCSNLASECAGYFDQVVSAIS"
       ]
      },
      {
       "output_type": "stream",
       "stream": "stdout",
       "text": [
        "\n",
        "\n",
        "Tery_0998: Total groups = 2\n",
        "Group 1:\n",
        "1 paths, Average identity = 90.40\n",
        "MLDAFSRAVITADTKTAPIGADELASLKEFIAQGNKRLDAVNFITSNASCIVSDAVAGMICENSGLIQAGGNCYPNRRMAACLRDGEIILRYVTYALLAGDSSVLNDRCLNGLKETYIALGVPTGSAARAVGIMKAAAVAFINNKASQRKMNVTEGDCSNLASECAGYFDQVVSAIS\n",
        "Group 2:\n",
        "1 paths, Average identity = 73.74\n",
        "MLDAFSRSVVSADSSGSFIDGAGLESLKSFIADGNKRLDAVNFIASNASCIVSDAVAGICCESPGLTSPGGGVYTTRKMAACLRDGDIILRYICYALLAGDASVLNDRCLNGLKETYAALGVPAGNAARAVGIMKAAAVAFVTNTASQRKMTVTEQPGSCDTLAAEVAGYFDTVVAAIS"
       ]
      },
      {
       "output_type": "stream",
       "stream": "stdout",
       "text": [
        "\n",
        "\n",
        "Tery_1037: Total groups = 1\n",
        "Group 1:\n",
        "2 paths, Average identity = 95.42\n",
        "MQTXAFSELFPLFKGANPETLEWLLSVAVKHEYPSDRLVLMEDAWGNAVYFVVSGWVKVRRRLSPDNSVTLAILGRGDFFGEMAILDESPRSNDVVALSPVRLISISAQRFIQTLFKDPQLHHRMLQLMVKRLRQTNVRYQLRHRPSAIKLANTLVELAENYGQTTEKNCEIFNIPDQDLADVTGITIEETSKIMAKLHTKGWISRDPE"
       ]
      },
      {
       "output_type": "stream",
       "stream": "stdout",
       "text": [
        "\n",
        "\n",
        "Tery_1046: Total groups = 1\n",
        "Group 1:\n",
        "2 paths, Average identity = 95.60\n",
        "MSHFSTLRTKITDXEILKASLCDLGVTVKTNADVRGYNGQCVRSDIVAVLEGEYDLGWSRNSDGSFDLIADLWGVAKKHNQTELINSINQKYAVNKTLAAIKQRGLQNANVKLVVQK\n",
        "\n",
        "Tery_1047: Total groups = 1\n",
        "Group 1:\n",
        "4 paths, Average identity = 94.54\n",
        "MKEELKILIEAKYPLIYLVTXEEGRSEQAILALAQTKPQRKLFVWTVTHGIAEYDQSQNTTQHSTVSPEAAIEWVIRQRDPSTGAGIYIFKDLHPFIDSPPVTRWLRDAIASFKGTNKTIILMSPVQNVPIELEKEVVVLDFPLPDMKELNQVLSRQLEQTRNRRISTEIREKLLKAALGLTKDEAEKVYCKAQVTAGRLTEKEVDIVLSEKKQLIRRNGILEYIEEDETINSVGGLEELKHWLRQRSDAFTERAREYGLPQPKGMLILGIPGCGKSLIAKTTSRLWGLPLLRLDMGRVYDGSMVGRSEANLRNALRTAESISPAILFIDELDKAFAGSTGSADSDGGTSSRIFGSFLTWMQEKVSPVFVMATANRVERLPGEFLRKGRFDEIFFVDLPNKEERQNIFEIHLIKRRRDIERFDLDQLSNVSDGFSGAEIEQAIIAAMYEAFAQSREFTQLDIIAAIKSTLPLSKTMTEQVTALRDWARQRARPAASSVAEYQRLEF"
       ]
      },
      {
       "output_type": "stream",
       "stream": "stdout",
       "text": [
        "\n",
        "\n",
        "Tery_1048: Total groups = 1\n",
        "Group 1:\n",
        "2 paths, Average identity = 87.26\n",
        "MQDKQKVTLYIQPEIHRKLKIRAAVDSEPMSSIAERAILFYLENPEVIDNLXSKYGQTHRVYSCPKCASSVVIREGELVSIRDQPNILADKSIPXKZAPELEKSEXQPGEQELVPC\n",
        "\n",
        "Tery_1058: Total groups = 1\n",
        "Group 1:\n",
        "2 paths, Average identity = 79.85\n",
        "MELVNRLHFNNLRGDFLGGLTAAIVALPLALAFGISSGAGAIRGLYGAIFVGFFAALCGGTPSQITGPTGPMTVIMATVFSTLIAKNPDVGPQMAFTVVMLGGLFQILFGILKLGKYIVLIPYAVISGFMSGIGIIIIFIQVGPFLGHPGSANVVESVRKIPYFFTNLNPVATALGIITLIILFLTPRRVSAVIPSPLLALLIGTLISVFLLPDSNLILIGEIPTGLPKPQLPVFTFEQLNTMLVNGLMLGALGAIDSLLTSLVADNITRTNHDSDRELIGQGIGNIVSGLFGGLPGAGATMRTVVNVHAGGKTPLSGIVHSVILLITLLWAGKLTEIIPQTILAGILLKVGIDIIDWEFLQRAHKLSLKAAGIMYSVJFLTVFVDLVSAVAVGVFIANLLTVKRLSDLQVDEIKAIVKPHDEAPLSNEEKQLLHKTKGRLLLLHLGGPMSFGAAKAISGQMEMVEQYDILILDLSDVSYLGVTMSLALENMVKEACRKNREVFFVGASGEVKARLNNLNIWKILAPQNLVATRVE"
       ]
      },
      {
       "output_type": "stream",
       "stream": "stdout",
       "text": [
        "\n",
        "\n",
        "Tery_1059: Total groups = 3\n",
        "Group 1:\n",
        "1 paths, Average identity = 79.38\n",
        "LYYKCQQEYLRKRLLAIKYLYEGKTRTEVSDLLDCHYKTLSTWIDKFLEAGLKW*SNQSLTKYHQD*I*SINRN*KE*YWKNGPEIMA*IETNG\n",
        "Group 2:\n",
        "1 paths, Average identity = 84.78\n",
        "CQQEYLRKRLLAIKYLYEGKTRTEVSDLLDCHYKTLSTWID*FLEGGLKMVIKPITHQVSSRLNIEQKQELKRMILEE*PRDYGVDRNKWSW\n",
        "Group 3:\n",
        "1 paths, Average identity = 78.12\n",
        "LYYKCQQEYLRKRLLAIKYLHEGKARKEVSDLLDCHYKTLSTWIDKFL*GGLKMVVKPITYQVSSRLNMEQKQELKRMILEELPRDYGADRNKWSW"
       ]
      },
      {
       "output_type": "stream",
       "stream": "stdout",
       "text": [
        "\n",
        "\n",
        "Tery_1073: Total groups = 1\n",
        "Group 1:\n",
        "4 paths, Average identity = 95.60\n",
        "IMNSNFLNRLHSPKRPVIVFDGAMGTNLQVQNLTAEDFGGKEYEGCNEYLVHTKPESVAKVHRDFLAAGADVIETDTFGGTKIVLAEYDLADQAYYLNKKAAELAKSAAAEYSTPEKPRFVAGSMGPGTKLPTLGHIDFATLKNGFTEQAEGLFDGGVDLFIVETCQDVLQIKAALNAIEEIFGKKGDRRPIMVSITMESFGTMLVGSEINAALTILEPYSIDILGLNCATGPDLMKEHIRYLSENSPFIVSCIPNAGLPENVGGQAHYRLTPVELKMALMHFVEDLGVQVIGGCCGTRPDHIRALAEITETLKPKERKPNYIPAAASIYSSETYEQDNSFLIVGERLNASGSKKCRTLLNNEDWDGLVALAKSQVKEGAQILDVNVDYVGRDGVQDMHELASRLVTNVNLPLMLDSTEWEKMEAGLKVAGGKCLLNSTNYEDGEPRFYQVLELAKKYGAGVVVGTIDEDGMARTADKKFEIAKRAYDAAIEYGIPARELFFDTLALPISTGIEEDRENGKATIEAIKRIREELPGSHIMLGVSNVSFGLNPAARQVLNSVFLHESMAVGLDGAIVSANKILPLAKIEPEHQDICRKLIYDQRQFEGDICVYDPLTELTKMFEGKTTKKDRSATENLPIEERLKQHIIDGERIGLEDALAKALETYPPLDVINVFLLDGMKVVGELFGSGQMQLPFVLQSAQTMKAAVAYLQPYMEQEESGDNSKGTFLIATVKGDVHDIGKNLVDIILSNNGYRVINLGIKQPVDNIIAAYREHNADCIAMSGLLVKSTAFMKDNLETFNNEGITVPVILGGAALTPKFVHEDCQNAYKGKVVYGKDAFSDLNFMDKLMPAKAENDWDDIQGFLSEFAEENGNDNGKVATLVKSEDKEESQTAAPVDTRRSDDVPVDIDRPTPPFWGTKLLQPEDMPFEELFWYLDLQALIAGQWQFRKPXDQSREEYDEFLAEKVYPILETWKSRVITEKLLXPQAIYGYFPCQAEGNTLLIYDSEEMSQTGKATRVVNSFEFPRQKSGRRLCITDFFAPKESGIIDVFPMHAVTVGEIATEFAQKLFADNQYTDYLYFHGMAVQTAEAMAEWLHARIRRELGFGSKDADNIKDILRQRYQGSRYSFGYPACPNMQDQFKQLDLLETQRIDMYMDESEQLYPEQSTTAIVTYHSAAKYFSA"
       ]
      },
      {
       "output_type": "stream",
       "stream": "stdout",
       "text": [
        "\n",
        "\n",
        "Tery_1084: Total groups = 1\n",
        "Group 1:\n",
        "2 paths, Average identity = 93.31\n",
        "MNVQTVVTQPFSDQKPGTSGLRKKVPIFKQPNYLENFIQSIFDSLEGFSGQTFILGGDGRYYNRQAIQIILKMAAANGVGRMLVGQGGILSTPAASCIIRKNQAFGGIVLSASHNPGGPEEDFGVKYNISNGGPAPEKVTSAIYERSKVIDSYKIIEARNINLDQLGSQKIGEMRVEVIDSVADYAELMKSLFDFSKISELLRSGKFKMCIDSLHAVTGPYAKNIFEQLLGAPAGTVQNGMPLEDFGGGHPDPNLVYAHDLVEIMFGDNAPDFGAASDGDGDRNMILGKNFFVTPSDSLAILAANAKLVPGYSSGLAGIARSMPTSAAADRVAEKMGLDCYETPTGWKFFGNLLDADKATLCGEESFGTGSNHVREKDGLWAVLFWLNILAARQESVEDIVKEHWKTYGRNYYSRHDYEGIESDKANTLMENLHSLLPSLPGKQYGQYEVGYADDFSYTDPIDGSISRKQGIRIGFSNGSRIVFRLSGTGTQGATLRLYVESYEPDANKQDQDTQVVLSPLISLADEIAQIKNITGREKPTVIT"
       ]
      },
      {
       "output_type": "stream",
       "stream": "stdout",
       "text": [
        "\n",
        "\n",
        "Tery_1096: Total groups = 1\n",
        "Group 1:\n",
        "5 paths, Average identity = 89.07\n",
        "ATPQISKKELAARKRKRAKQIQQFIGSLATYGGLGTIIGVVLFFVAEPKIALAGGGGVAVLALSFKYPMLGLWGFLIYMPFAGTITYWIGGGSPIFQLAKDGFYIPAIIAIGLWCKKTGNPFIIPKAIKNPAYILLGFCLITLLLVNGAQQLNPPRPGDKAIPMGILGLKVMIGYLPLITGAYYQLKSKKELLFAARLTLIJAIICCLLGXLQYQYLSSGKCNGTRGXTGDELFXATLEAKCLVGGALVFSPSQGMIRLPGTFVAPWQWGWFLISNAAFTFAVAFSDPSPLWRMGGLFGMAVVFINSAISGQRIALALVPTXTIILLVLTGQXANLKRFIPIGXGLGVILGGJXVSNPXVVQERIBSXVGRWNASPPTTFISQQFEESNHXQXGVFGAGLGRATNSARVFGKTRLXETYYPKLIYEIGPIGTIAMLALLTXITVSSFKAYRSVKDKNLRSLGASYWVFILIISYNTYYYPLDVDPVAVYYWYFTGVVLRLPEIDKLEQIKLQEAEKN"
       ]
      },
      {
       "output_type": "stream",
       "stream": "stdout",
       "text": [
        "\n",
        "\n",
        "Tery_1114: Total groups = 1\n",
        "Group 1:\n",
        "2 paths, Average identity = 89.28\n",
        "MSKNKKNTAETPVEKNLSNPKYYLNREFSWLEFNRRVLSESLDPRTPLLERLKFLGIFSSNLDEYFMVRVAVLKKQIEAEVHKLTPDGRTPQEQLDGINQILLPMVYLQHQFFEETLRPELGKNGIYLLNYIDLNKEQKTYLKNYFEEQIFPVLTPLAIDSSHPFPYLSNLSLNLAVILKNPDTQEDLLARIKVPKILPRFLCLPEKSQIEEKVKTINWTGVPLEQVIAHNLGTLFPGMDIQEYHLFRVTRDADLGVQEDESDDLLLVIEKELRKRRIGGTVVRMEINPTMPSKLKRMLMENLELSEKDVYTVDGLLDLKDLMSFLGLPFPNLKDPTWTSTMPPRLRHYGDDIRTADLNNNDRIDFFEVIRQKDLLVHHPYHSFASTVQDFISQAAQDPNVLAIKMTLYRTSGDSPIVNALIAGAENDKQVSVLVELKARFDEENNIQWARKLEQSGVHVVYGLAGLKIHTKIVMVVRQEKDNIRRYVHIGTGNYNPKTAKLYTDLGLLSCRPELGADLADLFNFLTGYSRQQFYRKLLVAPVNMRDRFIKLIYREIENCKSGETGRIVVQMNSLGDPEIIAYLYKASQAGVKIDCIVRGICCLRPGLEGISDNIKVVSIVGRYLEHSRIFYFYNKGKEEVYIGSADWMPRNLDRRVEAITXVEDPEIAKELQEIMGILLSDNRQAWDLQXDGKYIQRRSTDNFPELACHKILMETVANN"
       ]
      },
      {
       "output_type": "stream",
       "stream": "stdout",
       "text": [
        "\n",
        "\n",
        "Tery_1128: Total groups = 1\n",
        "Group 1:\n",
        "2 paths, Average identity = 91.99\n",
        "MKRLALLSTSDKTGLIDLAKSLVTEFDYEIISSGGTAKTLKDAGISVTKVSDYTGFPEILGGRVKTLHPRIHGGILARKDLPQDVEELNANNIRPIDLVVVNLYPFEXTISQPXVTLAEAIEKIDIGGPAMLRASAKNFAHLTVLCNPSQYNSYLEELRKNXGEVSLEFRQKCALXGFQHTATYDQAIATYLQEQQTTXEXEKSEKETFFLSGKKIKTLRYGENPHQSATWYQRGXNASGWATSKILQGKELSYNNLVDLEAARRIITEFSDAPTVAILKHTNPCGVAVDETLLGAYEAALAGDSVSAFGGIVALNKSIDAPTATAMTKTFLECVVAPGCEPEAEEIFQKKSKLRVLISPDLNQGESETIKVIAGGFLAQDADNGVDNSSDWKIVTEKKPTTEQMEELMFAWKVVKHVKSNAIVVTKNRATIGIGAGQMNRVGAVKIALEQAGEKAIGSVLASDAFFPFDDSVKTAAAAGATAIIQPGGSLKDKDSIAAANQLGLVMIFTGIRHFLH"
       ]
      },
      {
       "output_type": "stream",
       "stream": "stdout",
       "text": [
        "\n",
        "\n",
        "Tery_1187: Total groups = 4\n",
        "Group 1:\n",
        "1 paths, Average identity = 94.76\n",
        "LTEELQAQTGIKHICPHSDDVGLFKTESLAIAQYFADQEKHDLIRTTCIDMGGGTSDISVWYNNELIHQCSVLLAGRHLLSDFLELNPNFFSQLFEQNLTDWDRLTKDKFSAKLDVFLRLESENWLKNQRDFAEDDPKFQGLLRLMAIGMGGLYYYVGTILGVLEQEKKYQSREITPVYIGGNGSRLLNWLAERGKFLPSSEVSDLLSQMLTKGSGFEDRILEKTRLSQRPKDEVACGLVLGRTRLTGLGKKTKDPLIAGEDCEINGNPIDWSERLEFEGNIRELKIPDLVQLRTFLDDFHVSLKELEIEEILPLQDYELGDEPGAEPESTYNQTLWRNTQRELTNVLLNMKGETDDIRVEPPFIIGLKALLHVLAKEWAGK"
       ]
      },
      {
       "output_type": "stream",
       "stream": "stdout",
       "text": [
        "\n",
        "Group 2:\n",
        "1 paths, Average identity = 91.36\n",
        "LTEDLQAQTGIKHICPDPDDVELLKTESLAIAQYFADQEKHDLIRTTCIDIGGGTSDISVWYNNELIHQCSVLFAGRHLLSDFLELNPKFFSQLFEQNVTSWGPLTEDKFSAKLDVFLRLESENWLKNKRDFAEDDPKFQGLLRLMAIGMGGLYYYVGTILGVLEQEGKYQSREITPVYIGGNGSRLLNWLAERGKFIPASEVSDLLSQMLTKGSGFDDRILEKTRLSQRPKDEVACGLVLGRTKLTGLGRKTKDPLIAGEDCEINGNPIEWRERLEFEGNIRELKIPDLVQLRTFLDDFHVSLKELEIEEILPLQDYELGDEPGAEPESTYNKTLWRSTHRELTNVLLNMKGETDDIRVEPPFIMGLKSLLRVLAKEWAAR"
       ]
      },
      {
       "output_type": "stream",
       "stream": "stdout",
       "text": [
        "\n",
        "Group 3:\n",
        "1 paths, Average identity = 85.42\n",
        "LTEELHAQTGIQHICPDPDDVELFKTESLAIAQYFADEEGHDLVRTTCIDMGGGTSDISVWYENKLIHQCSVLFAGRHLLSDFLELNPKFFAQLFNLQKNLKEWDRLSEDKFSAKLDVFLRLESQNWLKNKRHLAENDPKFQGLLRLMAIGMAGLYYYVGTILGVLEQEGKYKSREITPVYIGGNGSQLLNWLAEGGSFLSSSEVNDLLSQMLTKGSGFDDRIFEKTRLSKKPKDEVACGLVLGRSKLTGLGSTTKDSLIAGEDCEINGNPIEWRERLEFEGDIKELKIPDLVQLRTFLDDFHGSLKELEIEEIIPLQNYELGDEPGSEPESTYNKTLWRNTQRELTNISLKMKGETDNIRVQPPFIMGLKALLQVLAKEWADK"
       ]
      },
      {
       "output_type": "stream",
       "stream": "stdout",
       "text": [
        "\n",
        "Group 4:\n",
        "3 paths, Average identity = 78.17\n",
        "ITEELQVSTGIEHICPEVDNLKYFRSKNAAFAQYFADMEGFDLVRTSCIYMRRETSDISVWYNNELIHQCSVLFAGRHLLSDFLELNPNFFSQLFEQNLTDSNQLTEDKFRAKLDLFLRLESENWLKNKRDFAEDDPKFQGLLRLMAIGIGGLYYYVGTILGVLEQEGKYQGREITPVYIGGNGSRVLNWLVEGGRFIPDSKVSXLLSQMLNKGSGFDDYILEKTRLXQRPEDEVACGLVLDRANLTGWDRKTQDSLIAGEDCKINSNSLQWRERLEFEGNIRELKIPDLVQLRTFLDNFHLSLKELEIEEILPLQDYELGDEPGAKPKSAYNIRLWQNTQRELTNFLLNSRGQTDEIPVAPPFIMGLRALLEVLAKEWAGK"
       ]
      },
      {
       "output_type": "stream",
       "stream": "stdout",
       "text": [
        "\n",
        "\n",
        "Tery_1188: Total groups = 2\n",
        "Group 1:\n",
        "3 paths, Average identity = 94.65\n",
        "MTGTQVNKSYVLVLPKLKRDSDVKSSDTPGKWEAQPAKAFQDVASSLDYKAPGEMKSVSSVPTMWARPLSMEMALHNPYYPIRDEMVQQWQGMLAAVALAEVRRFPITAELLELGQVKDQNPFARSLYELLPDPVNALYASEPKNPWEDIYIFMWDGLPVGLTTPSTIVAPSEEGKWNGLPWWNKLTSQLESPQPHLNVSEKALLWRWLENLRRILGDPSYKGQAEAIDAIGGLLDDFQNSLGPRPMDQGLSLSNNPQFFGVAINRGVLEGINRPVKAEAQSSWVRLVPSKSKGQVKPLLIIDQNISSAWGKPPQDIWIHEEQTLASLQIQDLREKKITWPDVEWKESKDLFMEEFRFVDQEDALPGAFLPPGTKLIFQGKSITPLIPINPVLLDYFTPEDLIAKVEFAQINSSDGXQVRVTLDLPLSGMKBDXRQPQNYRIXXDYPIXDXNALPEVPVLEVWPNFLAXGWRSYYAFYYDAEFGEDTFQVXLPEAKXXHXFIDGRGAXQITHLEEFPSFIECQDSSXSPIGLIXLKSPEKIRLGERWKVGVDFGTSFTNIYVNSNDLSEPLKLXXLHLKVTEVLXETRXPVLFEYFVPESFIPXXKPLPXSSVLTTRGKPBXXXNXXXPIIDGRIYVPBYATGLNRSGXG*KQT*SGKITJLTNCF*NX*XXM*ARXRPRXEXNKFSGVFPILRLFLVVIKIXMRR"
       ]
      },
      {
       "output_type": "stream",
       "stream": "stdout",
       "text": [
        "\n",
        "Group 2:\n",
        "1 paths, Average identity = 83.64\n",
        "MTGTQVNKSYVLVLPKLKRNSDVKSSDTPGKWQEQPVQAFQNVASSLDYKAPGEIKSVSSVPTMWARPLSMEMALHNPDYPIRAEMIQQWQGMLAAIALAEIRGFSITAKFLDLGQEKDQSPFARSLYELLPDPVHALYALDGNGNSSDEKDKNPWKDVYIFLWKGLPVGLTTPSTIVVPSEEGKWNGLSWWNEKTGQLESPQPHLNVSEKALLWSWLKNLRDKLRKGQEKATNAILGLLGEFQDSLGLGSVEQVLSLSNNPQFFGVAINRGVLEGINRPVKAEPQSSWVRLLHSKTNGQVKPLLIIDQNISQEWGKPPQDIWIHEDQTLASLKIQDLREGKITWPDVEWKESKDLFMKEFRFVDQEDALPGAFLPPGTNLNFQGQRITPLIPLDPILLDYFTPEDLIAKVEFAQINSSDGPQVRVTLDLPLSGMRKDPRQPQNYRISKDYPIKEENALPEVPVLEVWPNFRAEGWRSYYAFYYDAEFGEDTFQVYLPEAKECHPFIDGRGAYQITHLEEFPSYIKCQDSSSSSIGLILLKTPGEIRLRDQWKVGVDFGTSFTNIYVNSNDLSDPLKLENLHLKVTEVLTETRRPVLFEYFVPESFIPTNKPLPFSSVLTTRGKPDGKENQGFPIIDGRIYVPDRNRFEPLKGWIETDLKWKNYTPNTLFLKHLALHISAVAAKEGVQQIQWCISYPTAFSRRDKNRYGKT"
       ]
      },
      {
       "output_type": "stream",
       "stream": "stdout",
       "text": [
        "\n",
        "\n",
        "Tery_1189: Total groups = 2\n",
        "Group 1:\n",
        "1 paths, Average identity = 96.73\n",
        "MGLYLIGIGGTGAKCVEAVAKLAAMGLFTEEPIKVLFVDADETNGNLARARTSIGTYKRTYDLMPTGDKTHCGWMKSKIESFDHWSPFAQEKELRTFFNYNTIKQNQPTLANLFDVLYTKEEREANLDVGFRGRPAIGAAVMSQVDLDRLEQEPWGSLIEEIQGDTGSGKEPKIFLCGSIFGGTGASGLPTIARLIDNKLKRIKVRDRVQTGCLFVLPYFGFAPTPGDNPDGVYARSEQFLLNTEAALRYYVTQGQEIFDRVYLLGNQNLSRVNFSIGKDSQRNDPHFLELYAALAARNFWRDSSTAKGSVILMTRQQSGTISWDDIPDKAEVQPELVNATRFAFTWLAEIAPELEEAKKEKNARFQRLAPWMMEFYQTGSKSGGTKPDFSDVDQQEAIGIINNWCEDYLGWLYSLHQCEGDNIALFQADAFPPNKKLAGNELPNLIVGDSRDKGKKSRDTVKKLKDGLKATPPGGTIGLAKSVYMASRI"
       ]
      },
      {
       "output_type": "stream",
       "stream": "stdout",
       "text": [
        "\n",
        "Group 2:\n",
        "1 paths, Average identity = 86.11\n",
        "MGLYLIGIGGTGAKCVEAVAKLAAIGLFTKEPIKVLFVDADETNGNLARARTSISLYKKTYDLMPTGDKTECGWMKSKIESFDNWSPFAKEAQKKELKTFFNYNTIKQNQPTLANLFDVLYTKEEREADLDVGFRGRPAIGAAVMSQVDLDRLDQDPWSSLINEIKGDPGSGKEPQIFLCGSIFGGTGASGLPTIARLIHNKLKNEKVRDRVQIGCLFVLPYFGFSPEKEEDPDGLYARSDQFLLNTEAALRYYVTQGQEIFDRVYLLGNQNLSRVDFSIGKDSQRNDPHFLELYAALAARNFLLWEDPSKDKKSQNENTTPVSVVLISRQQSGTISWNDIPDKAEVQRELTNATRFAFTWLAEIAPELEEAKNEKNTRFQRLAPWMMEFYQTGSKSGGTKPDFSDVDQQEAIGIINNWCEDYLRWLYSLHQCEGDSIALFQADAFNPNTKFVGDQLPNLIVGDSRDKGKKSRDTVKKLKDRLKATPPGGTIGLAKSVYMASRI"
       ]
      },
      {
       "output_type": "stream",
       "stream": "stdout",
       "text": [
        "\n",
        "\n",
        "Tery_1206: Total groups = 1\n",
        "Group 1:\n",
        "2 paths, Average identity = 98.16\n",
        "VKIFIYHTPEETPTENMPDCAIAVDVLRATTTMATAIYAGAEAVQVFSDIEELMTVSEKWSADKRIRVGERGGKKVEGCDEGNSPLNFTSETVKGKRLFMTTTNGTRCLKRIQNAKVVLAAALVNRRSVVEYLKENQPETVWILGSGWEGSYSLEDTVCAGAIAHSLLAETNSLSDENVGNDEVFGAMSLYLQWQDKLHELMNHASHGQRLQRLECYEDLKYCSQIDRLDVLPMQKEIGVLS"
       ]
      },
      {
       "output_type": "stream",
       "stream": "stdout",
       "text": [
        "\n",
        "\n",
        "Tery_1207: Total groups = 6\n",
        "Group 1:\n",
        "42 paths, Average identity = 75.31\n",
        "MDSWYAXQRLMXLIDNXXKIYYCPLKXNRXR**XXXCRKIXKSSRXXXE*X*KXXRXXN*N*RJSTRXKXXNILGYCICQQNRIYCY**LNSIIKR*CRV*ISNSMENRRISQRS*AINRFRILSVSSAXNSXXSYCLCNVS"
       ]
      },
      {
       "output_type": "stream",
       "stream": "stdout",
       "text": [
        "\n",
        "Group 2:\n",
        "32 paths, Average identity = 73.98\n",
        "MDSWYATQRLMGLIDNXGKIYYCPLKSNRXR**YTRCRKIQKSSRFKLE*S*KKFRKNN*N*RVSTXQKGENILGYCIC*QNRIYRH**LNSIIKR*CRV*ISNSMENRRXXXRN*AINRFXILSVSSANNSKESYCLCNVS"
       ]
      },
      {
       "output_type": "stream",
       "stream": "stdout",
       "text": [
        "\n",
        "Group 3:\n",
        "1 paths, Average identity = 78.87\n",
        "MDSWYATQRLMGLIDNLGKIYYCPLKSNRLVDDTGGVEKYKKVQDLNWNEAEKLSGKTIKIKGFPRDKKVKIFWATVSANRTEYIVTNDLSQSSKDDVEFESQTRWKIEEFHREIKQLTGLEFCQCRLRIIQKNHIACAMLV\n",
        "Group 4:\n",
        "1 paths, Average identity = 77.86\n",
        "MDSWYATQRLIGLIDNSGKIYYCPLKSNRLVDDTGGVEKYKKVQELNWNEAEKSSGKTIKIKGFPRDKKVKIFWATVSANRTEYIVTNDLTQSSKDDVEFESQTRWKIEEFHREIKQLTGLEFCQCRLRIIQKNHIACAM\n",
        "Group 5:\n",
        "1 paths, Average identity = 76.06"
       ]
      },
      {
       "output_type": "stream",
       "stream": "stdout",
       "text": [
        "\n",
        "MDSWYATQRLMGLIDNLGKIYYCPLKSNRLVDDTGGAEKYKKVQDLNWNEAEKKSGKIIKIKGFPLYKKVKIFWATVSANRTEYIVTNDLTQSSKDDVEFESQTRWKIEEFHREIKQLTGLGFCQCRLRIIQKNHIACAMLV\n",
        "Group 6:\n",
        "1 paths, Average identity = 70.13\n",
        "YATQRLMGLIDNLGKFYYCPLKSNRLVDDTGGVEKYKKVQHLNWDKTEKLSGKRIKIKGFPRDKKVKIFWIMCICQQNRIYCN**LKSVIKR*CRI*ISNSMEN*KISQIN*AIDRFRILSVSSASNSKESYCLCN\n",
        "\n",
        "Tery_1208: Total groups = 2\n",
        "Group 1:\n",
        "1 paths, Average identity = 70.31\n",
        "LIFDDTVINKKYGHNIELSRRQYSGNEHQVVHGIGIVNCVYFNPQNEQLWIIDYRIYDPDTDKKTKIEEC\n",
        "Group 2:\n",
        "2 paths, Average identity = 70.00"
       ]
      },
      {
       "output_type": "stream",
       "stream": "stdout",
       "text": [
        "\n",
        "LIFDDTVINKKYGYNIELTRRQYSGNEHQVVRGIGIVNCVYFNPQNEQLWIIDYRIYDPDTDKKTKID\n",
        "\n",
        "Tery_1214: Total groups = 1\n",
        "Group 1:\n",
        "2 paths, Average identity = 80.84\n",
        "IIMIGHTLELDDIKKISSPTKIVALFEKLGYHFQMEYLDIEELKLPNYYSEVVDNAYRIYSPKKKELQVFLFELGQEKFQTHRKEQEKIITIFQIISRNKKKSLLIGTKKYNKLIIVAPHSRENTNLKISVKWWLIDCKNPCYYDTYWLENVAINHWKSTEKFTNKDKSEGNYDPDKQPPNGTFIEDSIQLYYKQINNISRLHPEEEIHLAHLIDKLLALEEIYKKLEEKLKRSPNETEWAIEAKINKWELHERLQQGRRAKNKMVTANLRLVVSIAKRYQNRGLDFQDLIQEGSIGLIRATEKFDHTKGYKFSTYGIWWIRQAITRAICDYSRMIRLPVYLYETISQIKKIATQISMECSPVTAEEVATRMEMTREKLHYIIQCAQETLSLDYPESKGENIMYQEVIKFDGETPIKYVFKNCLQEDIETVLNTLTPRERNVLQMRFGLDDAQEKTLKEIGDMFSLTRERIRQIEAKALKKLEDPKRNHILREYI"
       ]
      },
      {
       "output_type": "stream",
       "stream": "stdout",
       "text": [
        "\n",
        "\n",
        "Tery_1216: Total groups = 7\n",
        "Group 1:\n",
        "1 paths, Average identity = 76.15\n",
        "SSSDFHCSEILWNYKNPN*TWF*INH*ATIFCR*FFCQKTRKSRNNTVYYVTVFISV*SRAKRTEKN\n",
        "Group 2:\n",
        "26 paths, Average identity = 76.15\n",
        "SSSDXHCSEILWNYKNPN*TWFXIXXXXXIFCR*FFCQKXRXSRNNTXYYVTVFISV*XRXXRTEKN"
       ]
      },
      {
       "output_type": "stream",
       "stream": "stdout",
       "text": [
        "\n",
        "Group 3:\n",
        "1 paths, Average identity = 76.22\n",
        "SSSDLHCSEILWNYKNPN*TWFQISQRATIFCR*FFCQKPRKSRNNTVYYVTVFISV*SRPKRTEKN\n",
        "Group 4:\n",
        "1 paths, Average identity = 75.36\n",
        "SSSDFHCSEILWNYKNQQSCERGFRFLKEPQFFADSFFVKKPERVETILFLMSLCLLVYNLGQRELRKT\n",
        "Group 5:\n",
        "55 paths, Average identity = 74.17\n",
        "SSSDLHCSEILWNYKNPN*TWF*IXXXXXIFCR*FFCQKXRKSRNNTVYYVTVFISV*XRXXRTEKN"
       ]
      },
      {
       "output_type": "stream",
       "stream": "stdout",
       "text": [
        "\n",
        "Group 6:\n",
        "1 paths, Average identity = 73.02\n",
        "YSEVKSSEIL*NYKNQHSCKRGLLINY*ATILCR*FFCQKTRKSRNNTVYYVTVFISV*SRPKRTDKN\n",
        "Group 7:\n",
        "1 paths, Average identity = 70.31\n",
        "SSSDFHCS*ILWNYKN*QSCERALVI*NHNSLPIVFLLKNQKE*KQYCLLCHCVY*CII*AKGN*EK\n",
        "\n",
        "Tery_1271: Total groups = 2\n",
        "Group 1:\n",
        "1 paths, Average identity = 82.86\n",
        "MIYWLKTNQVLTRPELSKLLGRHESTITPWLTLYQVGGLKKLLEVKNAPGKTSKISPEI*PQFYKQNYQNQYGSIV*EKLKSG**KNIKFN*PIKPFIKS"
       ]
      },
      {
       "output_type": "stream",
       "stream": "stdout",
       "text": [
        "\n",
        "Group 2:\n",
        "1 paths, Average identity = 82.53\n",
        "MIYWLKTNQVLTRPELAKLLGRHESTIIPWLTLYRVGGLKKLLEVKNAPGKTSKISP*I*PQVYKPNYHNQYG*IV*EK*KSG**KNIKFN*PIKPFIKS\n",
        "\n",
        "Tery_1276: Total groups = 1\n",
        "Group 1:\n",
        "2 paths, Average identity = 84.67\n",
        "MLDQTKXPIXETLQNLTQKSHAPFYAPGHKHGKXIPQPLTELLGXEVFPADLPELPELDNLFAPDGVIQEAQELAAETFGALHTRFLVNGSTTGIIAGILATCGNGEKIILPRNIHQSVISGLIISGAIPIFINPEYDFHWDIPLSITAESIGQTLAKHPDTKAVMIVNPTYHGVCGNIRAIAQQVHKYNIPLLVDEAHGAHFAFHSELPIPALVSGADLSVQSTHKTLGAMTQASMLHIGSBRIDLYRLQQALQILQSSSPSYLLLASLDAXRQQMALFGEELMSQTLELAKNARNRISQLWNYSVFDLKGREKKKQEINFICLSEYSDFLDNEVKKEIRESGKIFPTPNTQLLTPNFPIENSSNSGFIALDKTRLTIKVSNIGFSGYEADKILHQELGVTCELPSFLNLTFIISPGNTLADINQLVTGLISLRNRGSINLAANHGTKLDFKVTNFSIPVSPRDAFFAQKDCVPIAKSVGYISAELLCPYPPGIPVLIPGEIITEKHLQILQQVRANGSLMTGCSDPVFKTIKVSKL"
       ]
      },
      {
       "output_type": "stream",
       "stream": "stdout",
       "text": [
        "\n",
        "\n",
        "Tery_1278: Total groups = 2\n",
        "Group 1:\n",
        "36 paths, Average identity = 71.41\n",
        "XRRQYSGNEHQVVXGIGIVNCVYFNPQNEQLWIIDYRIYDPDTDKKTKIDHVEEMILNAINNKKIPFKTVLMDXXYATQR"
       ]
      },
      {
       "output_type": "stream",
       "stream": "stdout",
       "text": [
        "\n",
        "Group 2:\n",
        "1 paths, Average identity = 71.79\n",
        "RRQYSGNEHQVVRGIGIVNCVYFNPKNEQLWIVDYRIYDPDTDKKTKIDHVEEMMLDAINNKKIPFKTVLMDSWYATQ\n",
        "\n",
        "Tery_1296: Total groups = 1\n",
        "Group 1:\n",
        "2 paths, Average identity = 85.70\n",
        "MSLSRASGILLHPTSFPSPFGVGDLGQEAYNFVDFLKNSGQKIWQVLPLGPTGFGNSPYQAYSAMAGNPLLISPDKLKDEGWLCVRDISDIPAFPKDQVDFDLVAQLKSSLLKTAYQNFQKDTSEEKKETFKKFCNSKAFWLDDYAFYMALRDAHQGASWHTWDKDIALRQPAALEKWQQRLADKIQYHKFLQYLFFQQWDELKSYANEQGIKIFGDVPIYVAHDSADVWANPQIFSLDSQTNEPSFMAGVPPDYFSENGQLWGNPVYRWDKLEEENFSWWVQRIQSMLDIVDLIRVDHFLGLVNYWVVPQGETTAKNGEWMTAPGEALFNTIKEKLGTLPIIAEDLGVITSDVERLRDKFEFPGMKILHFAFDSDSDNPYLPNNYNSTNWVVYTGTHDNNTTVGWFNKRSPEEQERVYRFITDSRGNGIHWDLIHLAMSSXAYMAIFPLQDILGLGEEAIMNQPGVPDGNWSWRYXSEMLTSDIRDRLKEVTXLHGRTPKN*QD"
       ]
      },
      {
       "output_type": "stream",
       "stream": "stdout",
       "text": [
        "\n",
        "\n",
        "Tery_1308: Total groups = 3\n",
        "Group 1:\n",
        "1 paths, Average identity = 86.45\n",
        "MNNQRAISCHHVNKVYTNGTVVLQDMNLTIHQGEFVTIVGPSGCGKSTVLRLIAKLSDVTCGKIESYINQNENELAFAFQEPTLMPWSQVIDNVYLPLKLAGISFRESRTIVQEAINLVGLDGFEHSYPRQLSGGMKMRVSIARALVTQPRIVLMDEPFGALDEMTRSKLNSDLLEVWQKRNWTVVFVTHNIYEAVYLSQRVIVMAPRPGRVVADVKINATYPRSENFRMSQLCNDYCREISNCLEIAVSD\n",
        "Group 2:\n",
        "1 paths, Average identity = 88.66\n",
        "MNNQSAISCHHINKIYANGTVALQDMNLTINQGEFVTIVGPSGCGKSTVLRLIAKLSDVTSGQIESNINQSKNELAFVFQEPALMPWSQVIDNVHLPLKLAGISLKESRKTVQEAINLVGLDGFERSYPRQLSGGMKMRVSIARALVTRPRIVLMDEPFGALDEMTRSKLNSDLLEVWQKRNWTVVFVTHNIYEAVYLSQRVIVMAARPGRVVADVKIDATYPRSEDFRTWQLCNDYCREISNYFRI"
       ]
      },
      {
       "output_type": "stream",
       "stream": "stdout",
       "text": [
        "\n",
        "Group 3:\n",
        "1 paths, Average identity = 84.06\n",
        "MNNQIAISCHHVNKIYANGTVALKDMNLIINKGEFVTIVGPSGCGKSRVLRLIAKLSDVTYSKIESYINQNENELAFVFQ*PTLMPWSQVINNVYLPLKLAGIPFRESRKIVQEAINLVGLDGYEHSYPR*LSGGMKMRVSIARALVTQPRIVLMDEPFGALDEMTRSKLNSDLLEVWQKRNWTVVFVTHNIYEAVYLSQRVIVMAPRPGRVVADVKIDATYPCSENFRMSKLCNDYCQEISNCLEMAVSD\n",
        "\n",
        "Tery_1318: Total groups = 1\n",
        "Group 1:\n",
        "2 paths, Average identity = 92.34\n",
        "MRLSQMLLVTLRNDPAEAEIPSHKLLIRAGYIRRIGNGIYAYLPLMLRVINKVSKIVREEMNATGAQECLLPQLQPAELWQESGRWDTYTQAEGIMFSLIDRQNRELGLGPTHEEVITTVAQDMIRSYRQLPLHLYQLQTKFRDEIRPRFGLMRGREFIMKDGYSFHADEESLKKTYQDMDQAYRNMLRRSGLQFRAVDADSGAIGGSGSQEFMVLADAGEDEILYTEDGKYAANVEKAISLPVDAEVSPFDTYEKLETPGTETIEKMCEFLHCSATNIVKNVLYQASYDNGITVLVLVSIRGDQDVNDVKLLNELTKYAGNYEAKAVLALTVPDVEAQKKWAAKSLPLGYIAPDLSEDYITSSKQVSPKFLRMVDQTAYTLTNFATGSNELGYHVVGANWGQEFDLSELVVDVRKAQKGDRAVHDPSQILETARGIEVGHIFQLGKKYSEAMGATYTNENGQEVPLVMGCYGVGVSRLAQAAVEQSYDKDGIIWPVAIAPYHVVICIPNIKDPQQIEVAGNLYEELNEAGIETILDDRDERAGVKFKDADLIGIPYRIVTGRSLKYGKVELVERATHQSQEIIVAQILSTLKDLIEKALK"
       ]
      },
      {
       "output_type": "stream",
       "stream": "stdout",
       "text": [
        "\n",
        "\n",
        "Tery_1325: Total groups = 1\n",
        "Group 1:\n",
        "2 paths, Average identity = 95.99\n",
        "MTILSPELKKKLSTPLKIGNFEVKSRVLQSPLSGVTDLVFRRLVRRHAPESMMYTEMVNATGLHYVKELPQIMEVDHNEKPISIQLFDCRPDFLAEAAEMAVKEGADTVDINMGCPVNKITKNGGGSSLLRQPELAREIVSKVVKAVPVPVTVKTRIGWNNQEINILEFAQRMEDAGAQMLTLHGRTRAQGYNGPARWEWITKVKEILSIPVIANGDIFSVDAAILCLEETGADGVMCSRGTLGYPFLVGEIDYFLKNGVGKASPTAVEKLECAKDHLRALWEYKGDRGIRQARKHLTWYSKGFPGAGELRGQLAKVETVAQGCDLIDQVIENL"
       ]
      },
      {
       "output_type": "stream",
       "stream": "stdout",
       "text": [
        "\n",
        "\n",
        "Tery_1330: Total groups = 4\n",
        "Group 1:\n",
        "1 paths, Average identity = 85.71\n",
        "ISYSKDLRTRVIDYIENGGSILSATRIYKVGRSTIYRWLARIELKPTKITRRQRKLDGQACLTRCERKSR*MIVRSRS*ISS*Y*FNCLWAASNENHTKKRIK\n",
        "Group 2:\n",
        "1 paths, Average identity = 84.85\n",
        "MSYSKDLRTRIIDYIENGGSILSAARIYKVGRSTIYRRLARVELKPTKVTRRQGKLDGQACLTRCERKSR*MIVRSPYRIWS*Y*FNWLWAA*NENYTKKK\n",
        "Group 3:\n",
        "3 paths, Average identity = 87.88\n",
        "MSYSKDLRTRVIDYIENGGSILSAARIYKVGRSTIYRWLARVELKPTKVTRRQRKLDWEALKQDRCENPDK*LCDRALKFGVNISSIGYGLHQMKITKKKELR"
       ]
      },
      {
       "output_type": "stream",
       "stream": "stdout",
       "text": [
        "\n",
        "Group 4:\n",
        "1 paths, Average identity = 90.74\n",
        "MSYSLDLRKRVINYIDNGGSILSATRIYKVGRSTIYRWLARIELKPTKVTRRQRKLDWEALEQDVKENPDLRLCDRALKFGVNISSIGYALHKMKITQKKRIKVSRKK\n",
        "\n",
        "Tery_1352: Total groups = 1\n",
        "Group 1:\n",
        "8 paths, Average identity = 92.84\n",
        "MATSSTISRIQVQEFLANKPPFNKLSENGLKTQLVGKCQLLGYRTGQPLFESEKMPNQIAIIYQGQARVLGYEQRSQRHTSLQLAGPGEILGWAGLLRGMPCETVLASTDLIAVTLPAADFLAILQAEPEFGKVFLERPAISEVFDLLSQEFARRAEVNTNLKQLTKNVLPNTVVVNLLKGDNKTKELTSILEPEKIWLVSSGTVGDCPPGSKVVLDGAGRSIKIEGPRGARILGFPEQHEEQIIENGGETGQLGPWDLSMVPQAPTRPPEPTVVQDSPSKKYPIFRAKGKIAAPLACFQMLAKHLGLRFRRDVIRRVLDNQIRTAGRVSMQACGAIAQMMGLTGQLAQVSASAVPRLRAPALIEWQDSFALLYSITEQEIVLGSPESGLSRLKPGEFQEIWGESGQILLLQAPKTEQKEKFSFWWFVPSLMEHRTVFIEVLISSFFVQVFGLVNPLMTMIIIDKVMGQRNIEALDVLGILMLLVALFEALLGGLRTFLFVDTTNRIDVKLSSEVIDHLLRLPLTYFDNRRVGDLVGRIGELANIRNFLTGTALTVVLDAVFSVIYIAVMLALNPLMTAVALAGLPFFAGIILINSPIVRRLLRKKAERYADSQSYLVEVLNGVQTVKAQNLELRSRWEWSGRYAKFMTASFNTVLTQTTSSSISTFLNKLSGLALLWVGAYLVIDGQLSVGGLIAFRIIAGNVTGSLLRFVSVWQSFQEVGMSIERLRDVLDTEAEVDEEDRNNIDMPPINGNVRFEELCFRFTQSGALQLANINLEFPAGHFVGIVGLSGSGKSTLMKLLQRLYPPLSGRIFIDGYDIQKVELYSLRRQVGVVLQDTLLFNGTVQDNIALTNPDATTDEIIRAAKIAVAHDFIMDLPSGYNTMVGERGSSLSGGQRQRIAIARTVLQNPKLLILDEATSALDYSSERQVGENLAEAFTDTTVFFITHRLTTVKNANTIIMMDKGSVVEEGTHDELMAVKGRYFCLYQQQESQQ"
       ]
      },
      {
       "output_type": "stream",
       "stream": "stdout",
       "text": [
        "\n",
        "\n",
        "Tery_1379: Total groups = 10\n",
        "Group 1:\n",
        "1 paths, Average identity = 80.00\n",
        "IVKNRKLPRAISDLGGRQFRTLLEGKAEKCGRELRVIDRW\n",
        "Group 2:\n",
        "1 paths, Average identity = 72.50\n",
        "MVRNRKLSKAISDLGWREFRTLTENKCEKYGREFRVISRW\n",
        "Group 3:\n",
        "1 paths, Average identity = 72.50\n",
        "MVRNRKLSKAISDLGWREFRTLTENKCEKYGREFRVISRW\n",
        "Group 4:\n",
        "1 paths, Average identity = 72.50\n",
        "MVRNRKLSKAISDLGWREFRTLTENKCEKYGREFRVISRW"
       ]
      },
      {
       "output_type": "stream",
       "stream": "stdout",
       "text": [
        "\n",
        "Group 5:\n",
        "1 paths, Average identity = 72.50\n",
        "MVRNRKLSKAISDLGWREFRTLTENKCEKYGREFRVISRW\n",
        "Group 6:\n",
        "1 paths, Average identity = 72.50\n",
        "MVKNRKLAKAISDLGWRMFRTLLETKCQKYGREFRVINRW\n",
        "Group 7:\n",
        "1 paths, Average identity = 72.50\n",
        "MVKNQKLSRAILDLGWRTFRTFLEGKAEKYGRYFRVISRW\n",
        "Group 8:\n",
        "1 paths, Average identity = 76.92"
       ]
      },
      {
       "output_type": "stream",
       "stream": "stdout",
       "text": [
        "\n",
        "MVKNRKLSRAISETRLENIQNVSRRKSGKIWS*FQSDKPL\n",
        "Group 9:\n",
        "1 paths, Average identity = 72.50\n",
        "MVKNRKLSRAISDLDWRTFRTFIEGKAEKYGHDFRVISRW\n",
        "Group 10:\n",
        "1 paths, Average identity = 74.36\n",
        "MVKNRKLSRAISDLGWRKFRTFLEGKAEKYGRVLRVINR\n",
        "\n",
        "Tery_1386: Total groups = 22\n",
        "Group 1:\n",
        "1 paths, Average identity = 86.67\n",
        "MRTQIYLRLSDLQKFLKKQYDVVFDRLQSYYNLLKEAGITWKKTHSYKSS*KRGI\n",
        "Group 2:\n",
        "1 paths, Average identity = 88.71"
       ]
      },
      {
       "output_type": "stream",
       "stream": "stdout",
       "text": [
        "\n",
        "MRAQSYLRLSDLQKYLKKQYDYDVVFDRLQSYYNLLKEAGITWKKTHSYKSR*K**I\n",
        "Group 3:\n",
        "1 paths, Average identity = 81.03\n",
        "IRAQSYLRLSDKKNKEAI*CSF*V**KSL*LTQRSGNNLEENSLI*IRLKMMN\n",
        "Group 4:\n",
        "1 paths, Average identity = 80.00\n",
        "MRAESYLKLSDLQKYLKKQYDVVFDILQSYYNLLKEAGINWTKTHS*KSC*K**I\n",
        "Group 5:\n",
        "1 paths, Average identity = 75.80\n",
        "MRGQSYLRLSDLQEYLKKQYDVVFDLLQSYYNLLK*AGITSKNSLI*IHLKMRN*"
       ]
      },
      {
       "output_type": "stream",
       "stream": "stdout",
       "text": [
        "\n",
        "Group 6:\n",
        "1 paths, Average identity = 83.33\n",
        "MRVQSYLRLSDLQKYLKKQYYVVFDILQSYYNLLKEAGIT*KKTHS*KFC*K**I\n",
        "Group 7:\n",
        "1 paths, Average identity = 81.03\n",
        "MRAQNYLRLSDLQGCLKKQYDVVFDLLQSYYNLLKEVEINWKKTHSYKSS*K*\n",
        "Group 8:\n",
        "1 paths, Average identity = 81.13\n",
        "MRAQNYLRLSDLQNFLKKQYDVVIISYKVIIIYSKKRE*VGKKLKIAILLKMMN\n",
        "Group 9:\n",
        "1 paths, Average identity = 87.50"
       ]
      },
      {
       "output_type": "stream",
       "stream": "stdout",
       "text": [
        "\n",
        "MMAQVYLRLSDLQKY*KKQYDVVFYRLQTYYNLLKEAGITWKKLTHINPAKNDELV\n",
        "Group 10:\n",
        "1 paths, Average identity = 85.71\n",
        "IKA*VYLRLSDLQKYLKKQYDVVFDRLQSYYNLLK*AGITWKKLTHINPAKNDELV\n",
        "Group 11:\n",
        "2 paths, Average identity = 82.30\n",
        "MXAQXYLRXSDLQKXLXKQYDVVFXXITKXL*LTQRSXBNLEKKTHSXXSX*K**IS\n",
        "Group 12:\n",
        "1 paths, Average identity = 78.57"
       ]
      },
      {
       "output_type": "stream",
       "stream": "stdout",
       "text": [
        "\n",
        "MRAQSNLRLSDLQKYLKKQYNVVFESNQSYYKIFKEAGINWKKNQNINPAKNDKLV\n",
        "Group 13:\n",
        "1 paths, Average identity = 80.36\n",
        "MRAQSHLRLSDLQEYLKKQYYVVFDRLQIYYNLLKEAGITWKKLTHINSAKNEELV\n",
        "Group 14:\n",
        "1 paths, Average identity = 78.57\n",
        "MRAQSYLRLSDLQEYLKKQYDVVFDRLQSYYNLLKEAEITWKKTQKMNPAKNEELV\n",
        "Group 15:\n",
        "1 paths, Average identity = 76.79\n",
        "IRAQNYLRLSDLQEY*KKQYDIVFDRLQSYYNLLKEAGIT*KKLTHTNPFKNEELV"
       ]
      },
      {
       "output_type": "stream",
       "stream": "stdout",
       "text": [
        "\n",
        "Group 16:\n",
        "1 paths, Average identity = 75.00\n",
        "LRAQDYLRLSDLKNYLQKQYDVVFELLQSYYNLFKEAGISWKKTQKNNPAKNDELV\n",
        "Group 17:\n",
        "1 paths, Average identity = 85.25\n",
        "MRAQSYLRLSDLQEYLKKQYDVVFDILQSYYNLLKEAGITWKKTHSYKSI*K*GIS\n",
        "Group 18:\n",
        "1 paths, Average identity = 73.21\n",
        "IRAQRYLTLSDLQKYFKK*YDVVFDILQSHYNLLK*AGITWKKSTHTNYTKNDELV\n",
        "Group 19:\n",
        "1 paths, Average identity = 84.21"
       ]
      },
      {
       "output_type": "stream",
       "stream": "stdout",
       "text": [
        "\n",
        "IRAQSYLRLSDFKKYLKKQYDVVFDILQSYYNLLKEAGITWKKN*LIEILLKMMN\n",
        "Group 20:\n",
        "1 paths, Average identity = 77.59\n",
        "MRAQSHLRLSDLQEYLKKQYDVVFYRLQSYYNLLKEAGITWKKNSKNKSS*KRGISES\n",
        "Group 21:\n",
        "1 paths, Average identity = 73.68\n",
        "LRAQDYLRLSDLKNYLQEQYDVFFELLQSHYNLFKEAGISWKKTQKK*SC*K**I\n",
        "Group 22:\n",
        "1 paths, Average identity = 72.13\n",
        "MRAQRYLKLSDLQEYLKKQYNVVFELLQSS*NLLK*AGIT*KTHSYKSI*K*GIS"
       ]
      },
      {
       "output_type": "stream",
       "stream": "stdout",
       "text": [
        "\n",
        "\n",
        "Tery_1403: Total groups = 1\n",
        "Group 1:\n",
        "2 paths, Average identity = 85.86\n",
        "MLKIQNLLLTSSFFYLYLSTYCLAKTPEFSEYTLXKTTINIISQRQTETEEELESPDIFSPNPLESTZPDPLLPNPPTTXXXTGEKREELSQELDXLNVEAAALLAAGETTKAFEIWNRELRLXRYLXKAEELAALSRVAEIAWNNSQKLQVQWITKRLETLXPEIKEQEPPNLELLQALGSAFNTVRAKDSGVEIYQQVISEARKQENVVTLKQALTAVGEIYLNWLDYDNAAIAYEELLEVQQQSNLELSEIETTNFLISGNFEQANTLKQLAFIYNQGGKPLQAITAKERLVDFYEGQQNIAEVPEIKISIAEDYEELGRLNLASQYYQEAYSIAQSIQQFLTASDALENLAALYLSQDEKEAAIEIYKVQLLMDQQFVNVYGMMETYDRMGQVYAQLKAYGLAMSSFQRGLELSRQLGGYRESYFLQKLDKLNRN"
       ]
      },
      {
       "output_type": "stream",
       "stream": "stdout",
       "text": [
        "\n",
        "\n",
        "Tery_1409: Total groups = 2\n",
        "Group 1:\n",
        "1 paths, Average identity = 71.91\n",
        "IWLKRKRKNNTLIVFSVTGYCLEAIRKIARRYNQQGKEVLLDRCHQHPGPKGFLCDERQAQLEMAFQEKVPDGGLGHGRKVGDWLTEIF\n",
        "Group 2:\n",
        "1 paths, Average identity = 86.37\n",
        "IWLKRKRKNNKRSFFGHRLLFGGHSSNCTSIQSAG*GRIGRSSPSTSWAKRISLR*TASPTRNGSSGESTRWRIMEWAQGRGLVNRIN*\n",
        "\n",
        "Tery_1416: Total groups = 1\n",
        "Group 1:\n",
        "2 paths, Average identity = 93.03\n",
        "LPGVGPKTAQRLALHIIKRPETEVQALAQALVDAKKKVGLCQKCFHLSAEPVCEICRNPQRDQEVICVVCDSRDLIALEKTREYKGLYHVLGGVISPMDGIGPEQLSIQPLVRRVSQGNIQEVIIAISPSVEGETTTLYVGQLLRPFTKVTRIAFGLPMGGDLEYADEVTLARALEGRRELE"
       ]
      },
      {
       "output_type": "stream",
       "stream": "stdout",
       "text": [
        "\n",
        "\n",
        "Tery_1417: Total groups = 1\n",
        "Group 1:\n",
        "2 paths, Average identity = 89.16\n",
        "MTNKDPNLLLPKGLIVSCQAPTDSPLYHPEVIAAMAQASILQGAVGVRINTPPHILAVRQRITQPIIGLWKQQIPGFEVYITPRFSDAKAIAEVGADIIAIDATLRKRPEGATLATLINFIHNELGKPVMADVDTXEVAKVAVAAGADFIATTLYGYTQETKTESPPGFELLKXMVDNLTVPAICEGGIVSPAMAKKAIBLGAYAVVVGTDITGIDSKVKAY"
       ]
      },
      {
       "output_type": "stream",
       "stream": "stdout",
       "text": [
        "\n",
        "\n",
        "Tery_1420: Total groups = 72\n",
        "Group 1:\n",
        "1 paths, Average identity = 83.33\n",
        "MPYSLDFRQKVINFIENGEKITKAAHTFGIGRASIYRWLSRPTLEATK\n",
        "Group 2:\n",
        "1 paths, Average identity = 85.42\n",
        "MPYSLDFRQKVINFIENGGKITKAAHTFGIGRASIYRWLSRPTLEATK\n",
        "Group 3:\n",
        "1 paths, Average identity = 81.25\n",
        "MLYSLDFRKKVINFIENGGTITKAAHTFGIGRASIYRWLSRPTLEVTK\n",
        "Group 4:\n",
        "2 paths, Average identity = 76.04"
       ]
      },
      {
       "output_type": "stream",
       "stream": "stdout",
       "text": [
        "\n",
        "MPYSXDFRXKVINFVENGGTITXAAHTFXXGXASIYRWLSRPXLXXTK\n",
        "Group 5:\n",
        "1 paths, Average identity = 81.25\n",
        "MPYSLYFRQKVINFIENGEKITKAAHTFGIGRASIYRWLSRPTLEATK\n",
        "Group 6:\n",
        "1 paths, Average identity = 79.17\n",
        "MPYSLDFRQKVINFLENGGTITKIAHTFGIGRASIYRWLSRPKLSATK\n",
        "Group 7:\n",
        "1 paths, Average identity = 79.17"
       ]
      },
      {
       "output_type": "stream",
       "stream": "stdout",
       "text": [
        "\n",
        "MPYSLDFRQKVINFVENGGTITKAAHTFGIGRASIYTWLSRPKLSATK\n",
        "Group 8:\n",
        "1 paths, Average identity = 81.25\n",
        "MPYSLDFRQKVINFVENGGTITKAAHTFGIGRASIYRWLSRPKLSATK\n",
        "Group 9:\n",
        "1 paths, Average identity = 77.08\n",
        "MPYSLDFRQKIINFVENGGTITKAAHIFGIGRASIYRWLSRPRLSATK\n",
        "Group 10:\n",
        "1 paths, Average identity = 75.00\n",
        "MPYSLDFRQKVINFVENGGTITKAAHTFGRERTSIYRWLSRPKLSATK"
       ]
      },
      {
       "output_type": "stream",
       "stream": "stdout",
       "text": [
        "\n",
        "Group 11:\n",
        "1 paths, Average identity = 79.17\n",
        "MPYSLDFRQKVINFV*NGGTITKAAHTFGIGRASIYRWLSRPKLSATK\n",
        "Group 12:\n",
        "1 paths, Average identity = 77.08\n",
        "MAYSLDLRQKVINFVENGGTITKVAHTFGIGRASIYRWLSRPKLSATK\n",
        "Group 13:\n",
        "1 paths, Average identity = 75.00"
       ]
      },
      {
       "output_type": "stream",
       "stream": "stdout",
       "text": [
        "\n",
        "MPYSLDLREKVINLVENGGKITEAAHIFGIGRASIYRWLYRPKLEATK\n",
        "Group 14:\n",
        "1 paths, Average identity = 79.17\n",
        "MSYSLDFTQKVINFA*NGGTITKAAHTFGIGIASIYRWLSRPKLSATK\n",
        "Group 15:\n",
        "1 paths, Average identity = 77.08\n",
        "MPYSLDFRQKVINFVENGGTLTKVAHTFGIGRASIYRWLSRPKLSATK\n",
        "Group 16:\n",
        "1 paths, Average identity = 79.17"
       ]
      },
      {
       "output_type": "stream",
       "stream": "stdout",
       "text": [
        "\n",
        "MPYSLDFRQKVINFIENGGTITKAAYTFGIGRALIYRWLSRPTLEATK\n",
        "Group 17:\n",
        "1 paths, Average identity = 79.17\n",
        "MPYSLDFRQKVINFVENGGTITKAAHTFGIGRASIYRWLSCPKLSATK\n",
        "Group 18:\n",
        "1 paths, Average identity = 79.17\n",
        "MPYSLDFRQKVINFVENGGTITKAAHTFGIGRASIYRWLSSPILSATK\n",
        "Group 19:\n",
        "1 paths, Average identity = 79.17\n",
        "MPYSLDFRQKVINFV*NGGTITKAAHTFGIGIASIYRWLFRPKLSATK"
       ]
      },
      {
       "output_type": "stream",
       "stream": "stdout",
       "text": [
        "\n",
        "Group 20:\n",
        "1 paths, Average identity = 77.08\n",
        "MPYSLDFRKKVINFVENGGTITKAAHTFGRGRASIYRWLSPPTLEVTK\n",
        "Group 21:\n",
        "1 paths, Average identity = 77.08\n",
        "MPYSSDFRQKVINFVENGGTITKAAHIFGIRRASIYRWLSRPTLEATK\n",
        "Group 22:\n",
        "1 paths, Average identity = 75.00\n",
        "MPYSLEFRQKVINFV*NGGTITKAAHIFGIGRASIYRWLSRPKLSATK"
       ]
      },
      {
       "output_type": "stream",
       "stream": "stdout",
       "text": [
        "\n",
        "Group 23:\n",
        "1 paths, Average identity = 75.00\n",
        "MPYSLDLRQKVMNFIEKGGTITEAAHTFGIGRASIYRWLSRPQLEATK\n",
        "Group 24:\n",
        "1 paths, Average identity = 80.85\n",
        "MPYSLDFRQKVINFLGNGGTITKAAHTFGIGRASIYRWLSRPTLSAT\n",
        "Group 25:\n",
        "2 paths, Average identity = 73.95\n",
        "MPYSLXXRXKVIXFVXNGGXITKXAHTFGIGXASIYRWLSRPKLSATK\n",
        "Group 26:\n",
        "1 paths, Average identity = 77.08"
       ]
      },
      {
       "output_type": "stream",
       "stream": "stdout",
       "text": [
        "\n",
        "IPYSLDFRQKVINFVENGGMITKAAHTFGRGRASIYRWLSRPKLSATK\n",
        "Group 27:\n",
        "1 paths, Average identity = 77.08\n",
        "MPYSLDFRQKVINFVENGGTITKAAHTFGIERASIYRWLSPPKLSPTK\n",
        "Group 28:\n",
        "1 paths, Average identity = 77.08\n",
        "MPYSLDFRQKLINFVENGGTITKAAHTFGIGIASIYRWLSRPKLSATK\n",
        "Group 29:\n",
        "1 paths, Average identity = 75.00\n",
        "MPYSLDLRQKVTNFVENGGTITKAAHTFGMGRASRYRWLFRPKLSATK"
       ]
      },
      {
       "output_type": "stream",
       "stream": "stdout",
       "text": [
        "\n",
        "Group 30:\n",
        "1 paths, Average identity = 77.08\n",
        "MPYSLDFRQKVINFVENGGTITKAAHTFGIGRASIYR*LSRQKLSATK\n",
        "Group 31:\n",
        "1 paths, Average identity = 75.00\n",
        "MPYSLDFRQKVINFVENGGTLTKAAYTFGIGRASIYRWLSCPTLSATK\n",
        "Group 32:\n",
        "1 paths, Average identity = 72.92\n",
        "MP*SLDFRRKVINFVENGGTLTKAAHTFGVGRASIYRWLYRPKLSATK\n",
        "Group 33:\n",
        "1 paths, Average identity = 75.00"
       ]
      },
      {
       "output_type": "stream",
       "stream": "stdout",
       "text": [
        "\n",
        "MPYSLDLRQKVINFVENGGTITKAAHIFGIGRASIYRWLSCPKLSATK\n",
        "Group 34:\n",
        "1 paths, Average identity = 75.00\n",
        "IPYSLDLRQKVINFVENGATITKAAHTFGIGRASIYRWLSRPTLSATK\n",
        "Group 35:\n",
        "1 paths, Average identity = 78.26\n",
        "YSLDLRKKVINFVENGGTITKAAHTFGIGRASIYRWLSRPKLSATK\n",
        "Group 36:\n",
        "1 paths, Average identity = 75.00\n",
        "IPYSLDFRQKVINFVENCGRITKAAHTFGIGRASIYRWLSHPKLSATK"
       ]
      },
      {
       "output_type": "stream",
       "stream": "stdout",
       "text": [
        "\n",
        "Group 37:\n",
        "1 paths, Average identity = 77.08\n",
        "MPYSLDFRQKVINFVKNGGKITKAAHTFGIGRASIYR*LSPPTLSATK\n",
        "Group 38:\n",
        "1 paths, Average identity = 77.08\n",
        "MPYSLDFRQKVINFV*NGGATTKAAHTFGIGRASIYRWLSRPKLSATK\n",
        "Group 39:\n",
        "1 paths, Average identity = 81.82\n",
        "MPYSLEFRQKVINFVENGGTITKAAHTFGIERASIYRWLSRPKL\n",
        "Group 40:\n",
        "1 paths, Average identity = 77.08"
       ]
      },
      {
       "output_type": "stream",
       "stream": "stdout",
       "text": [
        "\n",
        "MPYSLDFRQKVINFVENGGTITKAAHTFGRGRASIYRCLSRPRLSATK\n",
        "Group 41:\n",
        "1 paths, Average identity = 77.08\n",
        "MPYSLDFRQKVINFVENGGTITKAAHTFGIEIASIYRWLSRPKLSATK\n",
        "Group 42:\n",
        "1 paths, Average identity = 72.92\n",
        "IPHSLDFRQKVINFVENGGRITKVAHTFGIGITSIYRWLSRPKLETTK\n",
        "Group 43:\n",
        "1 paths, Average identity = 77.08\n",
        "MPYSLDFRQKVINFVENGGTITKAAHTFGIGRTSIYR*LSRPKLSATK"
       ]
      },
      {
       "output_type": "stream",
       "stream": "stdout",
       "text": [
        "\n",
        "Group 44:\n",
        "1 paths, Average identity = 77.08\n",
        "MPYSLDFRQKVINFVENGGTITKATHTFGIGRASIYR*LSRPKLSATK\n",
        "Group 45:\n",
        "3 paths, Average identity = 73.61\n",
        "MPYSLDXRQKVINFVXNGGTITXXXHTFGXGRASIYRWLSRPKLSATK\n",
        "Group 46:\n",
        "1 paths, Average identity = 75.00\n",
        "MSYSLDLRQKVINFVENGGTIAKAAHTFGIGRASIYRWLSLTTLSATK"
       ]
      },
      {
       "output_type": "stream",
       "stream": "stdout",
       "text": [
        "\n",
        "Group 47:\n",
        "1 paths, Average identity = 75.00\n",
        "MPYSLEFRQKVINFVENGGTITKAAHTFRIERASIYRWLSRPKLSATK\n",
        "Group 48:\n",
        "1 paths, Average identity = 77.08\n",
        "MPYSLDFRQKVINFVENGGTITKAAHTFGIGIASIYRCLSRPILSATK\n",
        "Group 49:\n",
        "1 paths, Average identity = 75.00\n",
        "MPYSLDLRQKVINLVENGGTITEAAHTFGIGRASIYR*LSRPKLEATK\n",
        "Group 50:\n",
        "2 paths, Average identity = 72.91"
       ]
      },
      {
       "output_type": "stream",
       "stream": "stdout",
       "text": [
        "\n",
        "MPYSLXXRXKVIXFVENGGTITXXAHXFGIGRASIYRXLSRPKLSATK\n",
        "Group 51:\n",
        "1 paths, Average identity = 73.91\n",
        "YSLDLTQKVINFVENGGTITKAAHTFGRGRALIYRWLSRPKLSATK\n",
        "Group 52:\n",
        "1 paths, Average identity = 72.92\n",
        "MPYSLDLRKKVINFVENGGTITEAAHTFWIGIASIYRWLSRPKLEATK\n",
        "Group 53:\n",
        "1 paths, Average identity = 72.92"
       ]
      },
      {
       "output_type": "stream",
       "stream": "stdout",
       "text": [
        "\n",
        "MPYSLDLRQKVINFVENGGTITEAAHTFGRGRTSIYRWLSRPKLPATK\n",
        "Group 54:\n",
        "1 paths, Average identity = 75.00\n",
        "MPYSLDSR*TVINFVENGGTITKAAHTFGIGRASIYRWLSRPKLSATK\n",
        "Group 55:\n",
        "1 paths, Average identity = 72.92\n",
        "MPYSLDFRKKVINFVENGSTITKATHTFGRGRASIYRWLSRPKLSATK\n",
        "Group 56:\n",
        "1 paths, Average identity = 72.92\n",
        "MPYSLDLRQKVINFVENGGTITEAAHIFGIGIASIYRWLSRPKLSATK"
       ]
      },
      {
       "output_type": "stream",
       "stream": "stdout",
       "text": [
        "\n",
        "Group 57:\n",
        "1 paths, Average identity = 72.92\n",
        "MPYSLDLRQKVINFVENGGTITKAPYTFRIGRASIYRWLSRPKLSATK\n",
        "Group 58:\n",
        "1 paths, Average identity = 72.92\n",
        "IPYSLDFRQKVVNFVENGGTMTKAAHTFGIGRASIYRCLSRPKLLATK\n",
        "Group 59:\n",
        "1 paths, Average identity = 75.00\n",
        "MPYSLDFR*KVINFVENGGTITKAAHTFGIGIASIYRCLSRPKLSATK\n",
        "Group 60:\n",
        "1 paths, Average identity = 72.92"
       ]
      },
      {
       "output_type": "stream",
       "stream": "stdout",
       "text": [
        "\n",
        "MPYSLYLRQKVINFVENGGTITKTAHTFGRGRASIYRWLSRPKLSATK\n",
        "Group 61:\n",
        "1 paths, Average identity = 70.83\n",
        "MPYSLDFRQKVIIFVGNSGTITEAAHIFGIGRALIYRWLYRPKLEATK\n",
        "Group 62:\n",
        "1 paths, Average identity = 72.92\n",
        "MPYSLDFIQKVINFIENGGTITKAAHKFGRERASIYRWVSRPKLEATK\n",
        "Group 63:\n",
        "1 paths, Average identity = 70.83\n",
        "MPYSLDFRQKAINFVENGGTITKGYHTFGIKIASIYRWLSRPKLSATK"
       ]
      },
      {
       "output_type": "stream",
       "stream": "stdout",
       "text": [
        "\n",
        "Group 64:\n",
        "1 paths, Average identity = 75.00\n",
        "MPYSLDLRQKVINFV*NGGKITKLAHTFGIGRASIYR*LSRPKFSATK\n",
        "Group 65:\n",
        "1 paths, Average identity = 72.92\n",
        "MPYSL*LR*KVINFVENGGTITEAAHIFGIGRASIYRWLSRPKLEATK\n",
        "Group 66:\n",
        "1 paths, Average identity = 71.11\n",
        "MPYSLDLTQKVINFV*IWRYDYRSSSYIWDRNSFDI*MVISPNIVSN*\n",
        "Group 67:\n",
        "1 paths, Average identity = 72.92"
       ]
      },
      {
       "output_type": "stream",
       "stream": "stdout",
       "text": [
        "\n",
        "MPYSLYFRQKVINFVENGGTITKVAHVFGIGRASIYRRLSRPTLSATK\n",
        "Group 68:\n",
        "1 paths, Average identity = 70.83\n",
        "MPYSLDFRQKVINFLENDRTITKVAHTFGIGIASIYRWLSPPQLSATK\n",
        "Group 69:\n",
        "1 paths, Average identity = 72.92\n",
        "MP*SLDFRQKVINFVESGGMITKAAHTFGIGIASIYRWLSRTK*SATK\n",
        "Group 70:\n",
        "1 paths, Average identity = 70.83"
       ]
      },
      {
       "output_type": "stream",
       "stream": "stdout",
       "text": [
        "\n",
        "MPYSLDFRQKVINFVGNSGTITKSAHTFGIGIASIYR*LSRPKLSATK\n",
        "Group 71:\n",
        "1 paths, Average identity = 70.83\n",
        "IPYSLDFRKKVINFVENGGTITKAAHTFGRGRASIYR*LSPPKLSATK\n",
        "Group 72:\n",
        "1 paths, Average identity = 70.83\n",
        "MTYSLDFRQKVTKFVGNGGTITKAAHTFGRGRASIYRCLSRPKLSATK\n",
        "\n",
        "Tery_1440: Total groups = 1\n",
        "Group 1:\n",
        "3 paths, Average identity = 89.05"
       ]
      },
      {
       "output_type": "stream",
       "stream": "stdout",
       "text": [
        "\n",
        "MDIDXLVELADNLIFTKTRZXLTSLQKEVLKGTLNGKKYPQIADDCKRHPDHIKQVGTKLWKLLSDILGKNIKKSNARSILEKLHFSHISNTGDDCVNINNNHINICGENKQSPIPQNKSSSTLTDQNQNNTNPENNYDLSEAPDLYSLCDRHTELTTLKRWILQNHSRIITILGLTGIGKSTLTIELIAQIKDKFDYIIWRNIDNYSSCESLQKNIIQFLSQTDFASQKKEKNSNYKTINNQLIDYLRKYRCLLIFDNLQEIFASGKLAGTYLQEHEKYGKCFQQIATLSHQSCLLLLSQEQPKIISSNNHCQTLKLDGLGRKSASVILKSRNLTDEEQWLELINLYSGNPLWLNIIADAVEDLCDRNVTQFLSCPSIYLGDLEPILERYFQGLSELEKQVILWIASQETAIDISTTPPDIPLLQSDLWKAIQSLKRRCLVTKKDNLLSLLTVLKQYIKSNHLH"
       ]
      },
      {
       "output_type": "stream",
       "stream": "stdout",
       "text": [
        "\n",
        "\n",
        "Tery_1458: Total groups = 1\n",
        "Group 1:\n",
        "2 paths, Average identity = 82.10\n",
        "MKKRSLKIILGTILTSLLIIFTSCQQXPXSXXVTIXSAXXSXWVXELFQTXIVNIGLXKLGYKXXKPKQXXYXXIYISIXNGXLXYSTXYYXPXHXXXFXNXGGEXKLEXVGXLTPXGXQXYZIDKXTADKYXITXJXQLKDPXIAKLFDSDXDGKANLVGCXXGWXCELXIBHXLKXYXLEDTVXHNXGQYXXLLADAJTRYKXGESILYYAYBPHWISXVLKXGEDVVXLXXPFTSLPXXMXXJXEKDTSXDGKNLGFPXXXQXIVANKXFJEXNPVAKXWFELVXIPIXDMNXESLRIKEGEBKEEDILXHAQEWXXNNQEKYBXWLEXARQXXN"
       ]
      },
      {
       "output_type": "stream",
       "stream": "stdout",
       "text": [
        "\n",
        "\n",
        "Tery_1459: Total groups = 1\n",
        "Group 1:\n",
        "2 paths, Average identity = 74.41\n",
        "MXXRXLKIILGXIXTSJLIIFTSCQQXPXSXXVTIXSAXXSXWVXELFQTXIVNIGLXKLGYKXXKPKQXXYXXIYISIXNGXLXYSTXYYXPXHXXXFXNXGGEXKLEXVGXLTPXGXQXYZIDKXTADKYXITXJXQLKDPXIAKLFDSDXDGKANLVGCXXGWXCELXIBHXLKXYXLEDTVXHNXGQYXXLLADAJTRYKXGESILYYAYBPHWISXVLKXGEDVVXLXXPFTSLPXXMXXJXEKDTSXDGKNLGFPXXXQXIVANKXFJEXNPVAKXWFELVXIPIXDMNXESLRIKEGEBKEEDILXHAQEWXXNNQEKYBXWLEXARQXXN"
       ]
      },
      {
       "output_type": "stream",
       "stream": "stdout",
       "text": [
        "\n",
        "\n",
        "Tery_1466: Total groups = 2\n",
        "Group 1:\n",
        "1 paths, Average identity = 94.05\n",
        "ISNLTVKDLEILQGTLNQVGLNYQLELDEGKILVIGPSDIISSEVGVQLIRLLGSWVYPRRLGHLFDSSGTFILPDTNLKVPDVSFVRAQRLKKSVRYFGELTPDLVVEIKSQSDRIKSLQQKIKKYLELGAQVGILIDPDQEIVIVYRSNGEEIELKNGDILTIPELFGEWELPIVELWPPVFE\n",
        "Group 2:\n",
        "1 paths, Average identity = 86.10\n",
        "MSNLTVKDLEILQGTLNQGDLDYQLELEEGKILVMGPSDIVSSEVGVRLIAALYAWVNPRRLGRLFDSSGAFIFPNTNLKVPDVSFVRAQRLKKSVRYFGELVPDLVVEIKCQSDRIKPLKEKIKKYLELGVQVGILIDPDEEIVVVYRSNGEEIELNNQDKLTIPELFAEWELPIVELWPPVFDEE"
       ]
      },
      {
       "output_type": "stream",
       "stream": "stdout",
       "text": [
        "\n",
        "\n",
        "Tery_1470: Total groups = 1\n",
        "Group 1:\n",
        "2 paths, Average identity = 91.77\n",
        "MLPLLKKIGEIIANWWSEFTLQTKLLAVITLIVSLLMSSLSFWAVNTIQEDARLNDTRYGRDLGLLLAANVAPLIAEDNRNEVARFSRLFYNSTSSVRYMLYADEEGKIFLGLPFSESEVKTSLTLRRRIQLPEDFMANIEAKNFSASPSVRQHLTPNGQLTDVFVPLISQSKYLGVLAVGINPNPTVVVSSNLTRDVTLAVFVSIWAMVILGAVFNALIITKPIKKLSEGVKNIAQGNFKQRIDLPFEGELGELILSFNEMAEQLENYKKQNIEQLTAEKAKLETLVSTIADGALLLDANLQLILVNPTARRIFSWEEKDVIGGKVTDXLPLAVZXELNRPLYQIATGEIEGGEYRCHLDEPKRIIRVLLTTVLLHRASGTESLCKSCIYDAYDSCXAADRPVVYECTIYENKPEADFLSPYRNSLKGIAMTIQDITREVELNDAKNQFISNVSHELRTPLFNIKSFIETLHEYGEDLSEVERREFLETANHETDRLTRLVNDVLDLSRLESCLVYHLNAVDIAQPIEQTLRTYHLNAKDQGIELNYEIEPNLPLVVGHYDLLLQVFANLVGNAMKFTESAGRIVIRAYLLESDIEIEQIEQGGWIVSPPPPRPTELHLQSENSSNQFVRIEISDTGSGIEPEDQEAIFERFFRVENRVHTLEGTGLGLSIVRNIIDKHHSKVNLVSELGIGTTFWFDLAVFEEKLVPEENKLLEV"
       ]
      },
      {
       "output_type": "stream",
       "stream": "stdout",
       "text": [
        "\n",
        "\n",
        "Tery_1476: Total groups = 1\n",
        "Group 1:\n",
        "2 paths, Average identity = 90.65\n",
        "MSNPLLSLKYEPAIQALGGNYYDEVLAAEFPQHILRFRNDKLLPKIGLNSQDVKDEHFIEAFGKFHCVGPFLALRYHGYQFGEYNPYLGDGRGFLYGQVRGIDGELYDFGTKGSGRTPYSRSADGRLTLKGGVREVLAAEMLHRHGVRTSRCLSLIETGEGLWRGDEPSPTRSSVMVRFSRSHIRFGTFERLHFFKRPDLTKQLLDHVIDCYYCNLKEESISQKDPFRNRYFLFYLELVERIAKLVAQWMAAGFCHGVLNTDNMSITGESFDYGPYSFIPTYNPQFTAAYFDYSGLYRYSHQPLVCKSNLHLLQEALSGVIDPKNMRSALEKFDDFYLYEYRQLMMRRLGFEKLGEAEAEKLLQLTLKMLKDSQVGYQDFFVELRQEFSPQWRDDISQIFANFEQQKLIEPWRECYYHLLQTYSDNELKEMAKRLQQYNPQQSLIRSVIESVWEPITLEDNWQPFYDLLQQIYD"
       ]
      },
      {
       "output_type": "stream",
       "stream": "stdout",
       "text": [
        "\n",
        "\n",
        "Tery_1507: Total groups = 1\n",
        "Group 1:\n",
        "2 paths, Average identity = 75.11\n",
        "MNRNRKLVLLIVLIAVIGSLALFAWQNWSPSLQLTFLGLKSRPLPISIWIJGALIAGVVTYLFIYGLFELSNYLFKQNLQSPRATSXTLQHQAXSXESRDRYSQSEEISNSQSSFNLXKDSELREEDENIDDWKQETPXISNSWDSSRKEQDIEDTQKSVSQDSTEKNYEVEQEPKTESCSSSVYSYGYRSPSGSGIAQTESVYDADYRVITPQPPQDKSTPTRQKEDEEVLPKE"
       ]
      },
      {
       "output_type": "stream",
       "stream": "stdout",
       "text": [
        "\n",
        "\n",
        "Tery_1514: Total groups = 2\n",
        "Group 1:\n",
        "1 paths, Average identity = 96.06\n",
        "MIPTVIEQSGRGERAFDIYSRLLRDRIIYLGEGIDSDLANLIVAQLLFLDSEDPEKDIYLYINSPGGSVSAGMGIYDTMRHVRPDVCTICMGIAASMGAFLLSGGTKGKRMSLPHSRVMIHQPLGGAQGQATDIEIQAKEILYLKKYLNECLAEHTGQPIEKITEDTERDFFMSATEAMEYGIIDQVYNRNPSNSQPISPVRE\n",
        "Group 2:\n",
        "4 paths, Average identity = 73.99\n",
        "IVPMVVEQSGMGERAFDLYSRLLRERIVFLGTQVDENLANTITAQMLFLDAEDPEKDIQLYINSPGGSVTAGMAIYDTMQQVRPDVVTICYGLAASMGAFLLSGGAKGKRMSLPSSRIMIHQPLGGAQGQAVDIEIQAKEILYHKRKLNELLAEHTSQPLERIEIDTERDFFMSAEEAKNYGLIDQVITR"
       ]
      },
      {
       "output_type": "stream",
       "stream": "stdout",
       "text": [
        "\n",
        "\n",
        "Tery_1533: Total groups = 1\n",
        "Group 1:\n",
        "2 paths, Average identity = 75.14\n",
        "NQALPETIDVDKLLNKTSLTVHKREISSFKKSKFSDELTPKLMDKHGEEKAVPKSSISQFKKTEQIKLITNSKTYLREKNITQIQILTPTLSNTQHILIPFEIVNTLIPSQPSYSQNTQNSPRPLENPRPDPNRDRFLQPLPQPTKPETPKEKELERPTPLLPLPKDPDQQITVLKVLVSGSTILTPQEIKTLVEPLEGRLVTVLKLRQIADKITEIYLDRGYVTSRAILPSQNIGDGIVEIKVIEGILGEIQIEGTKRLHNSYIESRIRLGERKPLDSARLEKKLRLLQSNPLFENLEASLRQSEIDGESILIIRVTEKKPLELSMSVDNYSSPSVGSERTGWTALHRNLTGRGDLFVASYNTTRLFDDESDVFDFIYNLPINAMNGTLQARVAPNSNRIGQEFLKDLKITGTTDVYEFSYRQPILRNPQQEFALSLGLSYQRTKNFLNDELFNFADPNNTEDDGINSTTVIRLGQDYVRRDSLGAWALRSQFNIGTGLFDATVRKDPQPDGHFLSWLGQVQRVQRLSNNHLLIVQGDLQLSSTGMLPYQQFIIGGGLSLRGYGQNVRSGDSGLRFSIEDRITVYRDELGLPLIQFTPFIDIGAVWNDGSNPNNESLPDERFLAGAGIGLIWQILPQVDLRLDYGLPLIHLDDRRNNAQDSGFYFSVIVRP"
       ]
      },
      {
       "output_type": "stream",
       "stream": "stdout",
       "text": [
        "\n",
        "\n",
        "Tery_1552: Total groups = 1\n",
        "Group 1:\n",
        "2 paths, Average identity = 92.37\n",
        "VHLPFHLSXHRYSYPEKSMNHIKSLAPAVYILGAGPGDPDLLTVKADKILATADVILYADSLVPKQMLGNVRPNAEVITTANKTLEEILPLMIDRVRKGLSVVRLHSGDPSLYGAVYEQMQLLAEAGIDFEIVPGISAFQDAAAKLKVELTVPGLVQTIILTRISGKATAVPSREELGSLAAHGASLCLYLSARYVWEAQEKLMEHYSAEIPVAICYRLGWPDEKIWVAPLEKMAVLTEEKQLVRTTLYVISPALEKLEKVGRSGLYDPEHNHLFRGKHNRKN"
       ]
      },
      {
       "output_type": "stream",
       "stream": "stdout",
       "text": [
        "\n",
        "\n",
        "Tery_1562: Total groups = 1\n",
        "Group 1:\n",
        "2 paths, Average identity = 87.73\n",
        "MQVSTKAEKAIINHSPSETITLDVSGMKCAGCXKAVERQLTQQXGVISARVNLATEVATVECETNLIDPSTLAQRLTBNGFPTQPRLDNSENYAAKKQTERHRQEMKQQIWRIAIASLLLIMSGIGHLGHFMGSEIPILGNIWFHAVLASLALFVPGQEIIIDGARSLLRNAPNMNTLVGLGAVTAYTASMVALLFPQLGWECFFDEPVMILGFILLGKTLEQQARYRAASTLHSLIALQPETARLVSAPNNSKNSSESLDIPASQVKVGEYLQVLPGEKIPVDGKISDGKTTVDESMLTGESIPVIKEFGANVAAGTINKSGTIVMQATRTGSESTLAQIVKLVETAQTRKAPIQNLADTVAGYFTYGVITLATLTFLFWYFVGTNIWSQVLQTFSHHGSMTYSASPLLLSLKLAIAVLVIACPCALGLATPTAILVGSGVGAQKGLLIKGGDVLEKVHELDTIVFDKTGTLTTGHPNVTNIVAKNPELLLQVAASVESGTSHPLAEAILQKAQQENMTLLSAINFYTEPGLGASAIVDGKLALVGNLEWLKKHEVVLEQDNIPSLTDKTAVYVSMDGVLLGVIEVSDALRDDALATVKVLQGMGLKVMLLTGDRSCVAEIIAQQLGLTPEHVLAEVPPAGKAEAIAALQSKGEKVGMLGDGINDAPALAQANVGIGMQAGTDVAMEAADIVLMQDKLTDVVESIKLSRDTFNKIRENLFWAFAYNIVGIPVAAGVLLPSLGIILNPAAAGALMAFSSVSVVTNSLLLRSR"
       ]
      },
      {
       "output_type": "stream",
       "stream": "stdout",
       "text": [
        "\n",
        "\n",
        "Tery_1573: Total groups = 1\n",
        "Group 1:\n",
        "4 paths, Average identity = 98.30\n",
        "VGRTLIDEEQLLDQLDIVRLNLPVAFQEAEMIVRHKDDIFQEAELYAEEIIENAEQRASQILNEMGLVQQAKLEADQLRNQVQLDCEAIQQATIAEIEQIRYQAQQELEXMRARAIAECDEIQNGADDYADHVLDSIEQQLTNMLQVIRNGRQQLGGDGTLGTTLNHTND"
       ]
      },
      {
       "output_type": "stream",
       "stream": "stdout",
       "text": [
        "\n",
        "\n",
        "Tery_1579: Total groups = 1\n",
        "Group 1:\n",
        "4 paths, Average identity = 96.43\n",
        "MNSGIDLQRTFIQALLDMGLPSEIAKTLWLPFPMLLMIIVATVGVLVTVWLERKISAAAQQRIGPEYMGPLGTLAPLADGLKLVFKEDVVPAKADPLLFTLGPVIVAIPVFLSYLVVPFGQNLVITDLGVAIFLWIALSSIQPIGLLMSGYASNNKYSLLGGLRAAAQSISYEIPLALAVLAVXMMSNSLSTIDIVEQQSSYGILGWNIWRQPLGFXIFWIAVLAECERLPFDLPEAEEELVAGYQTEYTGMKFALYYLASYINLVLSSLLVAVLYLGGWQSPFPVELLSDWFGVSETTPWLQIINATLGITMTLLKTYLLVFIAVLLRWTLPRVRIDQLLDLGW"
       ]
      },
      {
       "output_type": "stream",
       "stream": "stdout",
       "text": [
        "\n",
        "\n",
        "Tery_1582: Total groups = 1\n",
        "Group 1:\n",
        "4 paths, Average identity = 85.24\n",
        "ISMASVLVLNASYEPLNITSWRRAIVLLLKGKAVQIEHNGIYVLPDLLLPTVIRLRYYVRVPYKDIPLTRQNIMHRDGHSCQYCGYVGNDLTLDHVVPRSRGGGDTWXNLVTACVRCNVQKGNRTPXEANMILGSRPKKPYSGLYFELTKHLKSGSNKEWRKYVIGL"
       ]
      },
      {
       "output_type": "stream",
       "stream": "stdout",
       "text": [
        "\n",
        "\n",
        "Tery_1583: Total groups = 1\n",
        "Group 1:\n",
        "16 paths, Average identity = 91.35\n",
        "MLSWEKTSFKTLAIENDVYGGICQRAWIEVNDQALIYNVQQLKXLLSAKTQLMGVVKADAYGHGACKISKTILEAGVDWLAVATLPEGIELRLAGIKAPILILGAIDRPEQIQALAHWQLEPTICTPQQALVFSETLSCQIELMPVHLKLDTGMSRLGTPWQQAVEFVKFVQGLPNLKITSIYSHLATADDLDQTVMKQQHQRFEEAIGFCGISGKDFAGNIRLHLANSAATLTDSALHYDMVRVGLAIYGLYPAPHLQDKINLKPVMQVKARVTQVKTIEAGTGVSYGYQFIAPKQMGLAVVGIGYADGVPRNLSNNMKVIVRDQIIPQVGAITMDQLMLDVSAIPDLETGEVVTLLGQVGKYQISPEDWANTLGTISWEILCGFKNRLPRVAV"
       ]
      },
      {
       "output_type": "stream",
       "stream": "stdout",
       "text": [
        "\n",
        "\n",
        "Tery_1586: Total groups = 17\n",
        "Group 1:\n",
        "6 paths, Average identity = 83.93\n",
        "XAIDXXKKRXXKLXXFIKJLKLISVGVXXFAIAGIXIXPLJGNKPVDXVEXTTSVLPPXNYTIIMGKQDNEVVIKFYKQASELHLKNISTEQYNCLLNGGGLNCVLATAY"
       ]
      },
      {
       "output_type": "stream",
       "stream": "stdout",
       "text": [
        "\n",
        "Group 2:\n",
        "1 paths, Average identity = 85.98\n",
        "KLDEFIKLLKLISIGVRAFAIAGIAIYPLISNKPVDEVKEKTEETTSVLPPADYTMIWGKRRMK*L*SSTNKLHNYT*RIYLLKSLIACSMVVD*IVF*LQL\n",
        "Group 3:\n",
        "2 paths, Average identity = 88.56\n",
        "XXIDIKKKRQFKLGGFIKJLKXISIGVGAFAIAGIXIYPLXSNKPVDKVKEKTEXSTSVLXPANYTMIMGKKENXVVIKFHKQASELHLKNISTKESNCLLNGGGLNCVLATAY"
       ]
      },
      {
       "output_type": "stream",
       "stream": "stdout",
       "text": [
        "\n",
        "Group 4:\n",
        "2 paths, Average identity = 78.30\n",
        "XAIDMNKKXJLKLDGFIKXLKLISVGVXXFAIAGIAIYPLVSKKPVDEVEATTSVLPPANYIMIMGKKENEVVIKFHKQASELCLKNISTEESNCLLNGGGLNCVLATAY\n",
        "Group 5:\n",
        "1 paths, Average identity = 87.72\n",
        "MPIDMNKKRLLELDGFIKILKLISVGVGAFAIAGIAIYPLISNKPIDEVKEKTEETTSVLPPANYTIIMGKQDNEVVIKFHKQASELHLKNISTKESNCLLNGGRLNCVLATAY"
       ]
      },
      {
       "output_type": "stream",
       "stream": "stdout",
       "text": [
        "\n",
        "Group 6:\n",
        "1 paths, Average identity = 85.09\n",
        "MAIDIKKKRQFKLGGFIKILKLISVGVGVFAIAGIAIYPLVSKKPVDEVKEKTEETTSVLPPANYTMIMGEKKNEVVIKFHKQASELHLKKISTEESNCLLNGGGLNCVLATAY\n",
        "Group 7:\n",
        "1 paths, Average identity = 83.33\n",
        "MAVDIRKKKQFKLGGFIKLLKLISIGVGAFAIAGIAIYPLISNKPVDEIKEKTEKTTSVLPPANYTIIMGKQDNKVVIKLHKQASELHLKNISTEQYNCLLNGGGLNCVLATAY\n",
        "Group 8:\n",
        "1 paths, Average identity = 88.60\n",
        "MAIDIKKKRRFKLGGFIKLLQFISVGVGAFAIAGIAIYPLISNKPVDKVKEKTEETTNVLPPANYTMIMGKQENEVVIKFHKQASELHLKNISTKEYNCLLNGGGLNCVLATAY"
       ]
      },
      {
       "output_type": "stream",
       "stream": "stdout",
       "text": [
        "\n",
        "Group 9:\n",
        "1 paths, Average identity = 83.33\n",
        "MAIDMNKKRLLKLDGFIKILKLISVGVGAFAIAGIAICPLVSNKPVDKVKEKTKETTSVLPPANYTIIMGKQDNEVVIKFHKQASELHLKNISNKEYNCFLNGGGLNCVLATAY\n",
        "Group 10:\n",
        "1 paths, Average identity = 79.82\n",
        "IAIDMNKKRLLKLDGFINILKLISVGVKIFAIAGIAIYPLVSNKPIDKVKEKTEETTSVLPPANYTIIMGKKDNKVVIKLHKQASELHLKNISTEESNCLLNVGGLNCVLATAY\n",
        "Group 11:\n",
        "1 paths, Average identity = 81.58\n",
        "MAIDMNKKRLLKLDGFIKILKLISVGVGAFAIAGIAICPLIGNKPVDKVEATTSVLPPANYTMIMGKQDNKVVIKLHKQASELHLKNISTQESNCLLNGGGLNCVLATAY"
       ]
      },
      {
       "output_type": "stream",
       "stream": "stdout",
       "text": [
        "\n",
        "Group 12:\n",
        "1 paths, Average identity = 80.70\n",
        "MAINIKKKRQFKLGGFIKLLRFISVGVGVFAIAGIAIYLLISKKPVDKVKEKTE*TTSVLPPANYTIIMGKQDNKVVIKVYKQALELHLKNISTEQYNCLLNGGGLNCVLATAH\n",
        "Group 13:\n",
        "1 paths, Average identity = 79.82\n",
        "MPIDMNKKRLLELDGFIKILKLISVGVRAFAIAGIAICPLVSNKPVDKVKEKTEETTSVLPPANYTMIMGKKENKVVIKFHKQASELCLKNISTEESNCLLNGGGLNCVLATTY\n",
        "Group 14:\n",
        "1 paths, Average identity = 85.96\n",
        "MAINIKKKRQFKLGGFIKLLRFISVGVGVFAIAGIAIYPLISNKPVDKVK*KTKETTSVLPPVNYTMIMGKKENEIVIKFHKQASELHLKNISTEESNCLLNGGGLNCVLATAY"
       ]
      },
      {
       "output_type": "stream",
       "stream": "stdout",
       "text": [
        "\n",
        "Group 15:\n",
        "1 paths, Average identity = 79.82\n",
        "MAIDMNKKKILKLDGFIKTLKLISVGVGAFAIAGIAICHLIGNKPVDKVE*TTSVLPPANYTIIMGKKEN*VVIKFHKQASELHLKNISTEESNCLFNGGGLNCVLATAY\n",
        "Group 16:\n",
        "1 paths, Average identity = 78.95\n",
        "MAIDMNKKKLLKLDGFIKILKLISVGAGAFAIAGIAICLLVSNKPVDEVEATTSVLSPANYTMIMGKKENEVVIKFHKQASELHLKNISTKESNCLLNGSGLNCVLATAY\n",
        "Group 17:\n",
        "4 paths, Average identity = 76.13"
       ]
      },
      {
       "output_type": "stream",
       "stream": "stdout",
       "text": [
        "\n",
        "MAIDMNKKKILKLDGFIKTLKLISVGVGAFAIAGIAICLLVSNKPVDEVEATTSVLPPANYIMIMGKKENXVXIKFHKXASELXLKNISTEESNXLLNXGGLNCVLATAY\n",
        "\n",
        "Tery_1588: Total groups = 1\n",
        "Group 1:\n",
        "61 paths, Average identity = 97.09\n",
        "MSENXGDKXXXXEXYGXGJNKGNINXXKFAXTXTIYXSQQQNLXEAARDIQELLEQLEKTYPSETTMDRMKIATEVITHIDNHPTKAQKIFXAIKAGGVAAVEQLLNHPASSFVIAALNDWQKSKS"
       ]
      },
      {
       "output_type": "stream",
       "stream": "stdout",
       "text": [
        "\n",
        "\n",
        "Tery_1592: Total groups = 2\n",
        "Group 1:\n",
        "1 paths, Average identity = 91.41\n",
        "MSYSKFTLEEVLTKFDLTLVENLGKFNNLPEVTPSQLLKETLEDNIPLAVAIATEKARSELIVSPILVAVRKHLNKQISLFSGMEFNVNIELGLTGFCDFIISRSNLQTIIQAPVVTLVEAKNNNIKSGFGQCLAEMVAAQIFNQNRGNQIPQIYGAITTGTAWQFLELEGQNVVLDLEEYSLKNLPKLLGVLISFVS\n",
        "Group 2:\n",
        "1 paths, Average identity = 73.23\n",
        "MPYSKFTLDELKQKFNIILTGNKGKFNNLPEVAPSQFILEALEEYLPLAVAIGSEKARSELIVAPILVAIKKHLNKQISLFSGIEFNVDIELGLNGFCDFIISNSTQQFFIESPVIALVEAKNDNLKSGLAQCMAEMVAAQIFNQRQDNEVSKIYGVITTGTVWQFLELEGEAVVLDLQEYSVENLPKILGILTSFVS"
       ]
      },
      {
       "output_type": "stream",
       "stream": "stdout",
       "text": [
        "\n",
        "\n",
        "Tery_1593: Total groups = 1\n",
        "Group 1:\n",
        "16 paths, Average identity = 85.95\n",
        "MXZKKLLDSKXHXXNGTVETLTDXIGTVXIQSEXALFKPFGKKKKLIWVSLLVVILATTFGSLKFLINRKISLKRTSESSLTNILSVQATPIKLVNSYSVSQSYTGVVEAKRTSELGFEQSGLLKSIYIEEGEKIGKGEAIAQLDTSQTQAQKSVLIAQKERAIATLKELQTGPRVEVIAATRASLEQEKATLKELQTGPRVEVIAATQASLAQEKAKLQELQTGPRVEVIAATRASLEQEKAKLQELQTGTRIEDIQAARSVVLDLEEQVELAQLREKRREELYKQGAISQEQLDVASTETDTLNARLKRGQSELEKLQTGTRSEQIEAQKARVRQVQSQLDELIVGTRSEQIEAQKARVRQVQSQLDELIAGTRSEQIEAQKARVRQVQSQLDELIAGTRSEQIEAQKAEVKRFEAQISEIDVVLRKSILYAPFTGTISVRHLDEGXVVNATQAVVRLVEDGERKVRVGVPPTQASRLRIGSLEEVRXAQKTLSAQVLSILPEVDSMTRTQSVILALPQAIAPGTIVKLELNQIETVTGYWLPTSALVWGERGLLACFALVSPQKSDLVIPPLTYQTEKRMVEVLHTEGDRSLVRGLLKPGELVVTTGTNQLVPGQLVRYRFFGQEKNQ"
       ]
      },
      {
       "output_type": "stream",
       "stream": "stdout",
       "text": [
        "\n",
        "\n",
        "Tery_1594: Total groups = 1\n",
        "Group 1:\n",
        "18 paths, Average identity = 93.59\n",
        "MTTLFYRNFRLLILAILIIVAWGISSFFTLPRLEDPELVSRFASITTFWPGANAQRVETLITEKIEAELSEIEEIETYDSTSRAGSSIINIGLLESVEERKADTVWLRIKDRLNQATTQLPAGTSKPRLEEXEVKAYAMITALTWEQDTEPNYAIINRLSKLLKXELLALPGTQKXAKFGIPQEEIAVEINPTQLASLGLTAQQLSAQIQQSDAKVSSGXFRSXNNXLLLEVDSNLDSLNRIRBIPISFSDXGQFTRLGDXAKVRKTITEPPNELALINGHPGSALAIFVESDYQIDLWAKSAESAIEKFRKELGIGLKLEIIFNQSNYIXTRLKSXILNLXXSGXLVFLMTVFLMGWKSAIVVXLXLPLSIXMVLGMMRFLNVPLHQMSITGLIXALGLLXDXTIIXVDZVSKXMXSGXXAETAITKAINXLFLPLTASTLTTALXFXXXXLXPGXXGEFXXXJGISXILAVISSLLLSLTIGXGLXGKLYXXYYHHHDSQNTQQXFWQTGFTNSYLTQXYQVSLRSIFSNPWLGILLGLILPIXGXIQVXXLPZQFFPPXXRBQLQIELELXAXXSIEKTKNTAJEVRXLMLKHPEIQELQWFXGRSSPRYYYNLXXTKQXXSNYAQGFLQLNSIANSELVNKLQGEVDAAFPEAQVLIRXLEQGPPXDAPVAMRIYGPNLKRLQELGEQARSLLVQVPKVTHTRDTLXEIRPQLQLQLNEEEVRLARLDPANLSQQLETLLEGNLGGSIIEDTEELPVRVRVLNAQRGDISQITSLDLQPLGSSLNQNRFSSTDTTPLSALAKVKLKPEFSVIRRSNGRRVNLIQGFIAAGVLPSEVLKGWQQRLNDSNFELPSGYWLEIAGESEKLGEAKAVLLATVPLIFLLAASVLVLSLNSFRATAIIGIVAISAIGLGFFSLWLFGCPFGFMSLIGTFGLVGIAINDSVVVLAAILQDPEACAGNRRATRQVVMGSTRHVVTTTLTTMIGFVPLLVKGGDFWPPLVIAIAGGVGGSTLVALYLVPCCYLLVANFGRGKE"
       ]
      },
      {
       "output_type": "stream",
       "stream": "stdout",
       "text": [
        "\n",
        "\n",
        "Tery_1609: Total groups = 1\n",
        "Group 1:\n",
        "2 paths, Average identity = 86.66\n",
        "VQQQIQFSGGLLTGVAAIIIAQVPAFAVTQITQVQLNSVDGGMNIVLVTNNRDRPEVFSVNRDNSFIADIINAQLTLPQGNKFRKDNPAPGIEYVEVIQVDANSVRVVIRGKDSPPRGRIIQGAGQGIILSAAVSSGEIAQRPQPNSFPPPDKVAPPPLEPPTSPVQPERNLAPPRETTTTQEEVLLPDSGLTGDGFPTLPGQPSPSQVPPFLPRAVAPPVGDIAISNINPSVEVIDLRTQEKIPRLVLRDAPVRDVLALLARAAGLNIAYSSGKEKQAGAEEEQTISLDIENEPVQDVFNYVLRLSGLQANRVGNTIFVGQELPAQARNVVVRSFRLNQVGAQEAAGFLVSLGAESAIVTSQPVTQVNTVNIPGTNQAITNTETITRTVVQPLRYDPQDAPPILDGLQIAVDNRLNSITLVGSPQKVEIAAAQLIQLDLRQRQVAVNVKVIDIXLSXXEXFNSSFSFGVNDTFFINDXGAASLNFGSLQPXTQAQQNSSFPLARPXXXNPJXXNDPFYDXQRRFBVPFTGIPNVNQGRGTFLRPIAPTTXEPTRXGIXXYEXSEXXVDXDGJJZXXXGXATFGLFPQILYPKRFLSXLXATXXSGNAKILTDPTLVVQEGEIASVRLVXNIVRXIXSNFTDDGGTSRETRTXXFXDXGLXXAIQVERIDDNGFVTVTVNPEVSFIXZRVXTDXXNXXEFXTEIAXRXVESGRIRLRDGQTLIISGIIQEQERTTVSKVPLLGDLPIIGTLFRSSQNQNERAETIVLLTPQILDDGDRSSWGYRYNPSPDALQMMERGQPRPR"
       ]
      },
      {
       "output_type": "stream",
       "stream": "stdout",
       "text": [
        "\n",
        "\n",
        "Tery_1613: Total groups = 1\n",
        "Group 1:\n",
        "2 paths, Average identity = 85.78\n",
        "MHRILTGQLQXDRLTLKITGLPKNLQNTTLVHLSDFHYDRKRLSEXLLSEAIAITNEVEPDLILLTGDFITDEPTPVDDLVLRLKNLESRAGVYAVLGNHDVEYPGAKHKIIEAFTSIGISILLNQVVYPLGSGLALVGLEDYWSGNFQPLTVMDSINEIVPRIVLSHNPDTAKVLQKWRIDLQLSGHTHGGQIRLPFIGPLPQFAEPIRKLIPKFLRPFVPFVGECHKIVEYWEWSQGLHKVGNNFLYVNRGLGTYFPGRLFCPPEVTVITLVTN"
       ]
      },
      {
       "output_type": "stream",
       "stream": "stdout",
       "text": [
        "\n",
        "\n",
        "Tery_1615: Total groups = 1\n",
        "Group 1:\n",
        "2 paths, Average identity = 80.35\n",
        "MTNITIAWMALPFFVGFIIYLLPKLDRFLVLGVVFISADYALYIFSDPFPVNIQLLDSFGVSLTIDKLSGFFIITNAIVTAAVIFYCWDRQKTAFFYMQVTILHGSVNASFICADFISLYVALEVISIASFLLIAYPRSDRSIWVGLRYLFVSNTAMLFYLVGAVLVYQTHHSFNFIGLQGAPSEAIALIFLGLLVKGGIFVSGLWLPLTHSESESPVSAILSGVVVKAGVFPLVRCALILEEIDPIVRFFGVSTALLGVCFAVFEKDTKRMLAFHTISQLGFVLAAPVVGGFYALTHGLVKSALFLITGVLPSRNFKELQQHPIDNQIWVALAIASFSISGFPLLSGFGAKVLTSKNLFPWQDIAMNIAAVGTAISFAKFIFLPHQKNQEKIKVNFGFWWAMALLLGGLIVANAVYYEAYSIKNIIKPLITIAIGWLAYLYIFQKLAIKLPRAIEELDHLIGFMSLILILLFWIAWTQLP"
       ]
      },
      {
       "output_type": "stream",
       "stream": "stdout",
       "text": [
        "\n",
        "\n",
        "Tery_1630: Total groups = 3\n",
        "Group 1:\n",
        "5 paths, Average identity = 86.35\n",
        "LAFNSQLNXGLGILXATXNSXEPDXRFXYWRGQGQWVRELAKNTLLVVGADLQLSPXDLVPKEXFGLGGYRSVRAYRQDTRLTDNGALGTVELRLPLPWISGKNRLFQVVPFIDGGVAWNSDDEEVEGSKALAAAGVGLQVNL"
       ]
      },
      {
       "output_type": "stream",
       "stream": "stdout",
       "text": [
        "\n",
        "Group 2:\n",
        "1 paths, Average identity = 81.12\n",
        "LAFNSRFNLGLGILDATKNSNEPDSRFFYWRGQGQWVRELAKNTLLVLGIDIQLSPSDLVPRERFGLGGYRSVKAYRQDTRLTDNGALGTVELRLPIPWISGKNRLFQVVPFIDGGVAWNSDGEEVEGSNDLAAAGVGLQVSL\n",
        "Group 3:\n",
        "1 paths, Average identity = 79.02\n",
        "LAFNSQFNLGLGILDATKNNSEPDSRFFYWRGQGKWVRELVKNTLLVVGADIQLSSSDLVPRERFGLGGYRSVKAYRQDTRLTDNGALGTVELRLPVPGISGKNRLFQVVPFIDGGVAWNNDDEEVEGSNALAAVGVGLQINL\n",
        "\n",
        "Tery_1669: Total groups = 1\n",
        "Group 1:\n",
        "4 paths, Average identity = 77.79"
       ]
      },
      {
       "output_type": "stream",
       "stream": "stdout",
       "text": [
        "\n",
        "MMRKLLYLFKQYRLMGVVGLIGITISJMXMLXVENXELAKDRERFQQQSTVLVNELQRQLNSYTQLTISVGTFLNKSEEVTXQEFQEFTSSLLPYYDGLSGLGWSKKVENXERSLYEQQLQSQGLIDFKISEHNSRGNQVLAGXRSVYFPTTYIEPLDRWZDYIGWDAASDIKHLLSIEKAERTGMSVSTPLVQLENDKPGFVLYYPVFGSNNLNYQSLDPSKIEGNTELQGVVFGFYEVRTWVEKVVKNLNLKELDFYIYRLPEDKLDSAINKTAITATDDFLIGYKADSQSLIESPKVENLAVIDRPTEQQLHLCSYRRKWQFCIHSIHAAQQELSLLVLPAFNRSILGLPPEAVLVLGLLVTGSLVIYLLISQQATLKIESQNCELEKLLQELQQTKLQLVQTEKMSSLGRLIAGVAHEIKNPVSFISGNIKYASHYFQDLSNLVRLYETQYPSPTPEIEAAIEDIDLDFIVQDLPKLLNSMKIGSERLYEIVLSLRNFSRLDESKVKKVDIHKGIESTLIILEHRLKEQMDRPEIQMIKDYGNLPLIECYPGQLNQVFMNILANAIDALEDSIQLGQLKERSPMISIKTAQIDSEWITIQIADNGPGIRPDIEARLFEPFFTTKPASKGTGLGLSISYQIICEKHXGHLLCSSSEGKGXEFIIKLPI"
       ]
      },
      {
       "output_type": "stream",
       "stream": "stdout",
       "text": [
        "\n",
        "\n",
        "Tery_1671: Total groups = 1\n",
        "Group 1:\n",
        "2 paths, Average identity = 90.94\n",
        "MTLSPIIRLLGRSPLTTELLNKLQQYQCLQLNGAPRLPKGLLTSTLAQQQQQNLLIVTATLEEAGRWTAQLEAIGWPKVYFYPTSEASPYESSYPEEMIWGQMQVLADLVSENAPENVTSNGNSSNQAKMAVVATERSLQPHLPAVKKFQPYCLSLMPSITSSSKTLGTTRILNTEIQINHPESDGLECLSLDKKLVQMGYERVPLVESEGQWSRRGDIIDVFPVASEFPVRLEWFGDELRQIREFDPSTQRSLDKIAKIVLTPRDFSQWGLGNLESMRDSTFASLLDYLPENTLIAIDEPDQCAAHGDRWFELIEENWQQLNSSRPLPKIHRTFADSQAEVELFPRLYLSELSKETKXTSSVPYTLNLASRPLPVMPHQYAKLAENLRQEREXKHSVFLISAQPSRSVSLLQEHDCPAQFVPNPRDYPTIDKLQTQYTPVALKYSGLAELEGFVLPTLRLXVITDREFYGQHTLATPTYIRKRRQPASKQVDPNKLQPQDYXVHRQHGIGKFVKLESLTLNNETRDYLTIQYADGLLRVAADQLNSLSRLRSTDKKKPQLNKLTSKTWESTKSKVRKSIKKLAVDLLKLYAERAQKTGYSFPPDTPWQEEMEDSFPYQPTPDQLKATQDVKRDMESERAMDRLVCGDVGFGKTEVAIRAIFKAVTAEKQVAFLAPTTVLTQQHYHTLKERFAPYPIEIGLLNRFRTSNEKKEIQHRLATGELDIVVGTHSILSKTIQFRELALLVVDEEQRFGVNQKEKIKALKAQVDVLTLTATPIPRTLYMALSGIREMSLIATPPPLRRPIKTHLAPYDLETARTAIRQELNRGGQVFYVVPRIEGIEELTGKLREMIPGARINIGHGQMDATELESIMLTFSAGEADILVCTTIIESGLDIPRVNTILIEDAQKFGLSQLYQLRGRVGRAGVQAHAWLFYPTTASGGVALTDDAQKRLRAIQEFTQLGSGYHLAMRDLEIRGAGDILGAEQSGQVNAIGFDLYAEMLEEAIREIKGQEIPQVDDTQIDLSLTAFIPADYIPDIEQKISAYRSVAAANSREELSQIEIDWSDRYGTIPKAGLQLLRMMELKQIAKKIGFSRIKVEGKQHVVLETPMEQPAWNLLKEKLPSHLQSRFVFSTGKVIVRGLGVLSADKQLESLIGWLSKMEGALIESQFRE*GEGGA"
       ]
      },
      {
       "output_type": "stream",
       "stream": "stdout",
       "text": [
        "\n",
        "\n",
        "Tery_1679: Total groups = 2\n",
        "Group 1:\n",
        "1 paths, Average identity = 86.98\n",
        "MKKLKNLTLNLGLTVTTLIFTITVGEIGLRIAGIKSPPPLRIDLELDDNSPYTFKDPYRGWGGNPNGKSFWNGEGIPSEINMNSGGFRDYERSKTKPKNGFRIALLGDSFTEAIHVKLEDTHGAIIEQNLQQCPVLKDRKVEVMNFGVQGYGTAQELMTLRHHVWDYSPDLVMLVFFAANDLRNNYRALEHDHLRPYFIYQDGKLVADMSFRNLKFWQRDRYAFSLVDFLPFWWVKNSRILQLIRKVDIDGKYRQYEKDYSEINLGFYQEPKPDSDWQETWKVTEGLIKLMRDEVSEKGADFMVITASDSHQVLPDIQRRDGFRKSLNVSNLFYPDIRLKKFGKKENIPVYTLAGPIWNEAKKTDECLHGFDNAIPCGGHWNLAGHKFVGEIMANYLCERYTVLLSK"
       ]
      },
      {
       "output_type": "stream",
       "stream": "stdout",
       "text": [
        "\n",
        "Group 2:\n",
        "1 paths, Average identity = 77.20\n",
        "MKKLHNLTINLGLTLITLIFTLTVGEIGLRLAGIEHPAPRKDADENPLHTFQDIYRGWAGKPNGKGLWKEEGVPSEIKMNSAGFRDYERSKNKPENGLRIALLGDSYTEALQVKLEDTYGAIMEEKLKQCPVLKNRKVEVMNFGVSGYSTAQELMTLRHHVWDYQPDLVILAFYAGNDLSNNSPNLEHDHLRPYFVYKDGQLVADMSFRDLKFWQRNRYAFSLVDFLPFWLVKNSRIIQLIRKVDIDAKRRQYNKDYREINIDFYKEPKPNSDWSETWEVTEGLIKLMRDEVYEKKADFMIITVSHSSQVLPDIQQRDNLKKSLNVSNLFYPDIRLKNFGNEENIPVYNLAGPMWDEAKKTGKCFHGFDNALPCGGHWNVEGHRLAGEIMANYFCDKYT"
       ]
      },
      {
       "output_type": "stream",
       "stream": "stdout",
       "text": [
        "\n",
        "\n",
        "Tery_1680: Total groups = 2\n",
        "Group 1:\n",
        "1 paths, Average identity = 76.72\n",
        "EIGLRIAGIKSPPPLRIDLELDDNSPYTFKDPYRGWGGNPNGKSFWNGEGIPSEINMNSGGFRDYERSKTKPKNGFRIALLGDSFTEAIHVKLEDTHGAIIEQNLQQCPVLKDRKVEVMNFGVQGYGTAQELMTLRHHVWDYSPDLVMLVFFAANDLRNNYRALEHDHLRPYFIYQDGKLVADMSFRNLKFWQRDRYAFSLVDFLPFWWVKNSRILQLIRKVDIDGKYRQYEKDYSEINLGFYQEPKPDSDWQETWKVTEGLIKLMRDEVSEKGADFMVITASDSHQVLPDIQRRDGFRKSLNVSNLFYPDIRLKKFGKKENIPVYTLAGPIWNEAKKTDECLHGFDNAIPCGGHWNLAGHKFVGEIMANYLCERYTV"
       ]
      },
      {
       "output_type": "stream",
       "stream": "stdout",
       "text": [
        "\n",
        "Group 2:\n",
        "1 paths, Average identity = 95.05\n",
        "EIGLRLAGIEHPAPRKDADENPLHTFQDIYRGWAGKPNGKGLWKEEGVPSEIKMNSAGFRDYERSKNKPENGLRIALLGDSYTEALQVKLEDTYGAIMEEKLKQCPVLKNRKVEVMNFGVSGYSTAQELMTLRHHVWDYQPDLVILAFYAGNDLSNNSPNLEHDHLRPYFVYKDGQLVADMSFRDLKFWQRNRYAFSLVDFLPFWLVKNSRIIQLIRKVDIDAKRRQYNKDYREINIDFYKEPKPNSDWSETWEVTEGLIKLMRDEVYEKKADFMIITVSHSSQVLPDIQQRDNLKKSLNVSNLFYPDIRLKNFGNEENIPVYNLAGPMWDEAKKTGKCFHGFDNALPCGGHWNVEGHRLAGEIMANYFCDKYTNPK*FVIK"
       ]
      },
      {
       "output_type": "stream",
       "stream": "stdout",
       "text": [
        "\n",
        "\n",
        "Tery_1681: Total groups = 1\n",
        "Group 1:\n",
        "2 paths, Average identity = 89.57\n",
        "MKKLNNLAINIGLIFVALITGILAGEIGLRAAKIEGLKKVNNNEPLRPTIFHTYDRYRAWALQPGFTAWWREEGEAYIEINSDGLRDREYSKIKPENTLRIAILGDSFAEAVQVPIEKTFWSIIEQKLTKCDSITDRKVEVINFGVHGYSTLQELLTLRHQVWDYNPDIVLLAFFIGNDIINNSKKLEYSQYRPFLVYENGELVVDMSFQDLTPALSNRYAASFIDKMPGWLVNNFRILQVVKKVDLNLKKKRLDAYLTGLVPYNFQPPINNNWYQAWQITEELITLIVEEVRQREKFFFAVLVGDPKQVHYDQPYLQKTFMKQYNINDMLYPNKRIEVLGKRLDFPVLDLATPFRDYAVENRVCLHGFENTSLCTGHWNREGHQLAGEIITXNLCRQLKVNYNQ"
       ]
      },
      {
       "output_type": "stream",
       "stream": "stdout",
       "text": [
        "\n",
        "\n",
        "Tery_1700: Total groups = 1\n",
        "Group 1:\n",
        "92 paths, Average identity = 80.44\n",
        "MGTKQASFLLGISRQRLLVLLAQGRVKGAEKKGRFWEIRTSSNGMPIIIPXRRGPKGKWXXQKSTKPKMIHVNQSKIKSNIGKPPEKLEPVLSVKXGXRNDYGYDLYISXPCXIVYRPYKPAKCGAHLWINTYHPVQFIDTQSNPATARQPSRQIYI"
       ]
      },
      {
       "output_type": "stream",
       "stream": "stdout",
       "text": [
        "\n",
        "\n",
        "Tery_1719: Total groups = 1\n",
        "Group 1:\n",
        "11 paths, Average identity = 71.13\n",
        "LXNLIZNIGFLTXPTVNIEXLXEHSPQLRXLNEWYRQNXXXLXIXTKVFYETKPXNGILVVDEDSSNPXIRDVKPXAJXEBHISIXKPXKNDLVYLSTIKFCEEVFIXXEGPXXXXNIPENFSRXTGAKKFVGRDDVIEILHEQLXXTEQVAITXVTGMGGIGKTELALQYAHFHLXQKTYTGGICWLXCRXQNVGXQIISFAISXFNLSFSKDDDL"
       ]
      },
      {
       "output_type": "stream",
       "stream": "stdout",
       "text": [
        "\n",
        "\n",
        "Tery_1725: Total groups = 1\n",
        "Group 1:\n",
        "4 paths, Average identity = 88.31\n",
        "MYLRHLYLRQFRNYRDQQVEFDGAKTILVGDNAQGKSNILESVELLSTLKSHRTXRDRDLILDGKQAGQIQATLERDLGNIELTLTLRSQGRRTVAVNGETIPRHLDFLSILNVVHFSSLDLDLVRGGPEVRRHWLDRLLVQLEPVYAHIVLQYNQVLRQRNALLKKVRQQKMAAETTGLLDSFPTQELALWDAQLATTGARVIRRRQRLLQKLAPLASEWHCAISGTMEVLNMEYLANVIVDSKELIIQDSLEGVRQTFLEKIKARAIAEQYQGTTVVGPHRDDVSFTINDTPARQYGSQGQQRTLVLALKLAELQLIEQVVEEPPLLLLDDVLAELDLHRQSQLLEAITNRFQTLITTTHLGCFDGQWLQDTQILSVRSGKVSCFFDF"
       ]
      },
      {
       "output_type": "stream",
       "stream": "stdout",
       "text": [
        "\n",
        "\n",
        "Tery_1727: Total groups = 2\n",
        "Group 1:\n",
        "3 paths, Average identity = 92.37\n",
        "MLNCCSTLYLYRSMVRITIRKKKEQAEYYTEDLGNNVELAMVKIPAGKFIMGAPXNELDSXBSERPQHEVTVPEFFMGRYPITQGQWKAVVETTEKIERDLXPDPSYFKDDYEKYNRWTRPVEXVSWLDAKEFCXRLSQKTERNYQLPSEAQWEYACRAGTTTPFHFGETITTDLANYRGKDDEXNKWSGSYGRGPKGEYREQTTXVGYFKVANVFGLYDMHGNVWEWCEDDXHDNYEGAPNDGSPWVSSNQBTTKXTTKILRGGSWXSXPXRCRSAXRNXYXSXXXXXXXXGFRLVSFPPRTPE"
       ]
      },
      {
       "output_type": "stream",
       "stream": "stdout",
       "text": [
        "\n",
        "Group 2:\n",
        "5 paths, Average identity = 70.41\n",
        "VNRREESARQKIEDLGDGIELEMVYIPGGTFMMGSPENEEKRRDNEGPQHNVTVSPFFMGKYPVTQGQWRAIASQTNLKVKLDLNPEPSRFKESYQDIDRWQRPVEQVSWFEAVEFCKRLSKLAGRNYRLPSEAEWEYACRAGTTTPFHFGETINTELANYRGTDNKEXNWSGSYGDGPKGEYREQTTPVGQFPANAFGLYDMHGNVWEWCADEXHDNYAGAPTDGSVWLNXBXXXSPLRGGSWXXXPXXCRSAXRXXXXXRDXXXXXXGFRVVCDGGRT"
       ]
      },
      {
       "output_type": "stream",
       "stream": "stdout",
       "text": [
        "\n",
        "\n",
        "Tery_1731: Total groups = 1\n",
        "Group 1:\n",
        "2 paths, Average identity = 91.41\n",
        "MSSSSFEHTIKRLIDRLARTEILEGLELSDENIADSIWLALQMGTVKTPQKPKPKHEDKPEQLPIIFEESDFEPVTEREPQVSVVTEESIDQTPEKPPVKGVPFQTPAAPALQNVLELGRALRPLMRKVPSLSRKVLDEEETVNVIAERDIWLPVTKPEPERWLDLELVVEESSSAFIWRETVNEMQEVLETQGAFRNVRVWSLLSSNTKKLKLVRRHNSGKPRQRQHSRRELIHSNQRGVVIFVSDCTSKIWQNGTIHHWLKVWSEKNPTTVLQLFPEYLWDSTQLGAGSKFFGTAIAPGVPNPRLVLENLPPWIPIDWKNALVLPVILPEPELLKSWCRMVSGAGNTRVPIFLFDLPFVEEQFFKKQEDSPPELPSSRNEISPTTRVRKFLATTSITAQRLAGMMAAAPVNLSVVNLIRKTLLKEATTVHVAEVYMGGLLAPTDSKDDEPTYEFLPGVRRELNQAMGRNETTAVLDAISEYIAEKIDRPIRSFRALLTLLPQYEEEDREQVLPFAQVAVDVLENLGGEYAEFAKKVAQNIRPVPQPPIVKPPKVRPEPQIDIDTFDVAFIEVQETVTFEFDVARLEKRRSELLRLFGSRWVIKKQRRQVTGIVEDLGNGIKLEMVEIPPGKFLMGSPEDELERVSNEGPQHEVNISAFLMGRYPITQGQWKAIVDNVPKIERDLKSNPSRFKGDDRPVEKVSWYDAVEFCARLSKYTGRNYGLPSEAQWEYACRAGTTTPFHFGETITTDLANYBGNYTYGQGTKGKXRXETTPVGSFEVANXFGLYDMHGNVYEWCEDDMHBNYEGAPNDGSPWLSGNQNXTKXTTXVXRGGSWYXXPXXCRSAXRXXYXSXEXDNBXIGFRLVSFPPRTLE"
       ]
      },
      {
       "output_type": "stream",
       "stream": "stdout",
       "text": [
        "\n",
        "\n",
        "Tery_1733: Total groups = 1\n",
        "Group 1:\n",
        "6 paths, Average identity = 82.95\n",
        "MXLELSIVRXFKXXXXVXGSGFXVSXXYILTCAHVVAXCLXXXXXLDXAXXIMRQKEXPXZIIZVNFPXXEKGXIGXKLXTKVXFWXPXBXXEBIQDIAVLKLINPDLLPEXAXPIXLIXIGXZXLWXXXFXAXGFPXXXXXGEWATGXLXGXXGXXLIQJEXXXXTGLRLZXGFSGTAIWDXXLQGVVGMAVXADQERPEAKVAFMIPTDLLLQVGDLATVCRVDGRIQGAIAILENYFEDYPTEIRYAYYLSLPENSIPLSSGKSLDEFPKSLSEMIQNLDNSMKGNHSLLERFICFLLLHLEDLKILSELCQKLTEWLEKYSQNTENLKVALKEEEARKNQEKFDVKQPEPCLLVAAIEKSKSFILKAWLIENPQNYTPENPQGFHSFIDAENVLMNXKGTIVSNKDPSKFNQAKNLTELLQXFWXYVPSFCXYNLKKISIFLPYKLIXRDIKPXDQYVSDPNIPEYFQTLLGEQCEITLRFSERLRLPEKXBPYJXKFESKSRSLTSRKGTKATXIFHPSXXSGNXXXFFXQIXXDDVVAVRLTEVLQPEKRESVMEAFYYAGIPMALWVRPGEAENIDSCEEALTNICNACKCWSNLPKAIKAKRCESLQEDLDTNIGNHLSLLWDDPNIVPPVKELRMLES"
       ]
      },
      {
       "output_type": "stream",
       "stream": "stdout",
       "text": [
        "\n",
        "\n",
        "Tery_1734: Total groups = 1\n",
        "Group 1:\n",
        "3 paths, Average identity = 86.26\n",
        "IWLPSCYRIYGNINNFTYGRVQVAKLVKFQLDDDEESFVYVEVDEKLPVSSNXDDXXDXXLIGLGDEVXQQAXQTLXKALXSIKPVANAIIKKVQDLNXPADAVEVKFGIKMXGXLGAXIASGSXEVNYEITLKWNKTXG"
       ]
      },
      {
       "output_type": "stream",
       "stream": "stdout",
       "text": [
        "\n",
        "\n",
        "Tery_1735: Total groups = 1\n",
        "Group 1:\n",
        "4 paths, Average identity = 87.19\n",
        "MLELLASVILTQGMVDWQPVGYNVKATTLMNMNSIESLGNNLWGAEVLKQYDQEADDGMKQVYMVVEIDCNIRRFAPQLIRRQTGTGEIIAETTLEGNGLISPQGSEAGILMICDR"
       ]
      },
      {
       "output_type": "stream",
       "stream": "stdout",
       "text": [
        "\n",
        "\n",
        "Tery_1742: Total groups = 1\n",
        "Group 1:\n",
        "2 paths, Average identity = 80.99\n",
        "MSKYLVLLLIFLLSACTVETSKISPQAETLEKKSRPTVTPDNHSHFLQILIDNYLQKTPVKTTVNLTLSQAQKVQEQYVLEMSKSLGKVVGYKAALTNQKAQERFNISEPLRGVLLEKMLWENGSVISHKFGSRPMGEGDLIMRVGSTEINNAKTPRETLKYLDAVIPFIELGDLVYSQDVKLDASALLAINVGGRAGILGKPIPVADTDEWENRLKSFRIEILDENGKVLASGNGSDLLGNPLNVVLWIKDSLQGEGKGLKKGDLLSLGSMTSFIPVQLNSTIRAKYIDLWPNQTVEIFVKFE"
       ]
      },
      {
       "output_type": "stream",
       "stream": "stdout",
       "text": [
        "\n",
        "\n",
        "Tery_1788: Total groups = 2\n",
        "Group 1:\n",
        "4 paths, Average identity = 80.89\n",
        "MVGKLMDKNWFSRFRYFCLFLGTIVVLIGCQTALANDGGGGDDFAXAKXXNLWLLLAGALVFFMNAGFALLEAGFCRSNNSINVLAKNLIVFCVAAIAFLXFGFGLMXGDSSYHSPCRXDFEQKNZXIESYXGHFSXTXEYNEFEPKSQFILRPEXDNPLGXPSXGFSCLQXXFPKRSIASVFFFQLAFAGTAATIVSXAVAERIRFWAFFWFSXILVGFLYPIVGHWVWSEYGWLKQGFNFIDFAGSTVVHTVGGTAALAGAWLLKPRSYRFGYDPQEDLEKDEDSEELSRQLQKESYDQRDLTSATLGCLILWLGWLGFNGGSTYDLKEVGYIIVTTTISAATGGIIAIVATPVKALWYEISSNYSETGKPDLSSLINGILGGLVGITASAAYVDVFTAIFIGAVSGVVVIVGDEFLKFMKIDDPVGAIPVHLFCGCWGTIAVSFSLRDTIVYETTNSFLERLWWQFSGWLIVFFITFLVSCIIWITIGVILYIFDKILRK"
       ]
      },
      {
       "output_type": "stream",
       "stream": "stdout",
       "text": [
        "\n",
        "Group 2:\n",
        "4 paths, Average identity = 71.74\n",
        "MLGKLMDKNWFSRFRYFCLFLGTIVVLIVCQTALADVSGTEVPNAXKNFSLIQNIFGLIQNIWLLLAGALVFFMNAGFALLEAGLCRERNSINVLAKNLIVFCVAAIAFWMFGFGLMFGDSSYHPLCRESPAQNNSTQNKPAINSYHGHFSPTQEYNKFEQKSQFILPPKNDNPLGFPSEGFSCLQRKFPKRSIASVFFFQLAFAATAATIVSGAVAERMKFWAFFCFSFILVGFIYPIVGHWVWSEYGWLRQQFNFIDFAGSTVVHTVGGTAALVGALLLKPRWNRFQYDPQEDLGDVSKKEPLPPKFDNQDYFTYPSNLTSATLGCLILWLGWLGFNGGSADNLTEVGHVIITTIMSAATGGITAILSSQASPILFSKSSEETGKPQLSSLINGILGGLVAVTASSAYIDVPIAILIGAVSGXIVVXGNIFLRSLKIDDPVGAIPVHLFCGCWGTLAVFWSLKDTXVYXNXYNLLRQLGSQILGFLIVFVFIFFLSWIVWVFIGXXLXYXDRII"
       ]
      },
      {
       "output_type": "stream",
       "stream": "stdout",
       "text": [
        "\n",
        "\n",
        "Tery_1794: Total groups = 1\n",
        "Group 1:\n",
        "2 paths, Average identity = 87.57\n",
        "MLNRRSMVPWVIGLLVVFLVSCGSPTPPPTYSDAQLQKIELSAVGIQTLRDRMDELESLIQQDEWVNIRTFIHGPLGDLRSKTNYLTQSLLLPKDKTPVLNAAKKIFDDLEDIDTAAAEGNKKQALSEYKKAVVDFDTFLXLVPKNS\n",
        "\n",
        "Tery_1815: Total groups = 1\n",
        "Group 1:\n",
        "2 paths, Average identity = 84.38"
       ]
      },
      {
       "output_type": "stream",
       "stream": "stdout",
       "text": [
        "\n",
        "MWELFSYGVIHLWLEMAGIQNIGQNTVAILKWQSGIPELILPENSDKMLTLEVDEYLEGLKTKGLLTADTQSIWIQSELRSLNSHEGTAPFPGASLIKIATSLAALETWGAQHQFETLISITGPITDGILRGDLVINGGSDPYFVWEEAIALGNAIQKWGINQVRGNLVMVGNFWMNNRYDNVVAGKLLQEGINSATWSRNVRSIYKRMPAGTLMPKVAIAGSVISQKSVSHKIPIIRHKSLPLVHILKTMNVESNNDLAETLAKKLGGAKVVQRKAAWSAGVPEAEIKLVNGSGLGVENKISPRAATAMFVAIQRYLQTSPWVIADLFPVSGYDTGTLTDQSRTIPQGAVVKTGTLNDVVALTGVFPTREHGLVWFTTINRSPYWEETRVEQDRFLQQLVDRWGATTPPRAIIPKINGDRLGLGDSKRNHVL"
       ]
      },
      {
       "output_type": "stream",
       "stream": "stdout",
       "text": [
        "\n",
        "\n",
        "Tery_1821: Total groups = 1\n",
        "Group 1:\n",
        "2 paths, Average identity = 81.54\n",
        "MVLRVVSSKKLYKGLKISLISWFLIGFLVTFWISYQQIAGTIESPQALLVLGGAIEREVFAAEFARKNPNLDIWVSSGTNPEYARWLFSRAGISQTRLHLDYHAVDTVTNFTTIVDKLKSQDITSVYLVTSDDHMRRATVIGKIILGSRGITFKPLPVSSGRSPEPIEKVIRDGIRGIIWLTTGYTGANLVH"
       ]
      },
      {
       "output_type": "stream",
       "stream": "stdout",
       "text": [
        "\n",
        "\n",
        "Tery_1831: Total groups = 1\n",
        "Group 1:\n",
        "2 paths, Average identity = 87.71\n",
        "MINEIFMPALSSTMTEGKIVSWQKSSGDWVEKGETVVVVESDKADMDVESFFSGYLATIIVEAGDVAPVGSTIGLLAETEVEIEQAKQQGGTRVKEEPANASSSTTAVATVSISSTTETQENPSRSNGRIIASPRARKLAKDLKVDLSILKGTGPHGRIVAEDVEMVAGRTSTLVAPAAKAPTPSAPTQPSIIAPPAPPSVASTSVTSGQVVPMNSLQNAVVRNMMASLSVPTFHVGYAITTDNLDGLYKQIKSKGVTMTALLAKAVAITLQQHPLLNAAYVDQGIQYSSGINIAVAVAMPDGGLITPVLANADKMDIYSLSRSWKGLVDRARTKQLQPDEYSTGNFTLSNLGMFGVNRFDAILPPGQGSILAIGASQPQVVATDDGMIGVKRQMEVNITCDHRIIYGADAAAFLQDLGKLIETNPQSLTM"
       ]
      },
      {
       "output_type": "stream",
       "stream": "stdout",
       "text": [
        "\n",
        "\n",
        "Tery_1840: Total groups = 1\n",
        "Group 1:\n",
        "2 paths, Average identity = 85.47\n",
        "MATSDYPSNSKLPRRSFNRKRTKKSSSYLKNQRDKGETDYLKNNPQESLSTTSQEKPKKCRKSRLYQVWIILMLALLGLITNLFRIQVLQGKELQKIAQKQHTVESNPFIPRRPIVDRNGNVIAIDKVAYTLYAHPKIFNRSKEEVAYQLSTILEGANLESTLTSNDLLQRLNERETGIKIAELIPKETANKITDLLVDGLELIQHSQRLYPQKELVAEVVGYVDGESKGQAGIEYSQQNLLERSMETVQFRRLIKGVMVPDKLTRGFLQLDDLSLYLTIDSPLQRAVRKILKKQLEEYEAKRGTVIVMDATDGSILSLVSEPSYNPNQYYNYDVTLFKNWAVTDVYEPGSTFKPINVALALEVEAIEEDSIFYDTGRMRFDRWSIFNSAGGGGARTVTEIIQHSSNIGMVKIVEQMPRAVFYDGLKRLELDNITGTDLPFEAANILKGRNQFLMVPVEAATTAFGQGFSLTPLKLAQLHAALANGGKLVTPHVVRGLFDSKGQPYWQLPMPEPKQVFSADTTTKVLAMMEKVVESGTGRMARLRGYRIAGKTGTAQKASDTGGYSKDARITSFVGILPVESPRYVVLAVIDEPMKGTGGKVAAPVVKSVIKSLINIEQIPPSSVRSK"
       ]
      },
      {
       "output_type": "stream",
       "stream": "stdout",
       "text": [
        "\n",
        "\n",
        "Tery_1841: Total groups = 1\n",
        "Group 1:\n",
        "15 paths, Average identity = 86.82\n",
        "MINWGPYLESVCREYDRWWEVYTLTDVAGKRPHEQRQNIFPFLDLGLMVQGVKSEERQGKDPEENIERLTVLEGLRKYAANHVLLVGRPGSGKSTALARLLLEEAHKVWSGENGQIPILIELRYSKSSVLSRIQAFIYKHNHNTYIDEETLKSLLLQGKFLLLFDGFNEMASEEARQQVRMFRQDYPQTAMVFATRDLSLGGDLRIEKKLEMQPLTESQMRDFVCAYLPEQGENLWGQLQGRLRELGETPMFLLMLCSVFGYNKVIPAHLGLVFRGFTQTYSGRIKQDVPVDESSRRWWDRLLQELAWVMTTGGSKTEXMVAIPRKKAEDVLADFLRGQVVAPTDCAMGWLEDLLEHHLJQVGBDGQISFRHQLLQEYYAAERLLXQXSGLSDYXLQWDYLNYLKWTEVVALMLGLVEDEVXXVRVXRLALXVDWFLXARLVGEVKEXFQEAAFAEVDGLELPGLVKVXLXXLTMSEVAVXRLVRFLEXSDXYMRXXAAXALGXIGSETAIEXLXXLLXDSXXXVXXXAAXALXKIXSEXXIEXLIPLLXDSXXXXRXXAAXALGKIGSEXAIEZLIXLLXXSXXXVXXXAXXALGKIXSEKAIEZLIPLLKDSXXXVXXXAXXXLXXIGSEXVIEQLIXLLKDSXXXVXXXXXXXLXKIGSKTAIEGLIPLLKDSDSEVRXXAXXALXKIXSXXXIEQLIXLLKDSXXXVRXXAXXALXXIXSEXXIEXLXPLLXBSXXXVRXXXAXXLXXXGSEXXIEQLIPLXKXSDXXXXXXAXXALXXIGSXXAIEXLIXLLKDSDXXXRXXAAXALGXIGSEKAIEXLIPLLXDSXXXXRXXXAXALXXIGSEXXIEXLIPLLKXSXXXVRXXXAEALGKIGSEKAIEXLIPLLKDSXXXVRXXVRYAXAXALGKIGSZKAIEXLIPLLKXXXXXVXXXXXXALGKIGSZKASGKAIEXLIXLLKBSDYXXRXXXAXXLGKIGSENTIIELTKKLQNDSXVKQXLSZIIXXIQTIQQRLQYYKPXPKXXMSKXLSHNYALLIGVGDCKYPDWSLPVTVKDIQAIKSFLTNPDXCSYIDDENHLRLLCNEQATKQNILNNINWLQEQAKNDPEATILVYYSGHGWLDKSTQNYYLIPHDTSPIKLQKTALPATDFNNALQEISAQKLLVIIDSCHAQGMATAKETDQLDLPENFSQTALPKNLIEDLKKGTGRAVFTSSTGYQLSWIRSDQTMSIYTYHLLEALQGGDNKPGDKYVTLSNLMHHVGKTVPQSAQQQGXEQTPIFDFSQTEDFPVALLRGGKGLPEGGWEKTQPEAQENIR"
       ]
      },
      {
       "output_type": "stream",
       "stream": "stdout",
       "text": [
        "\n",
        "\n",
        "Tery_1895: Total groups = 1\n",
        "Group 1:\n",
        "2 paths, Average identity = 90.28\n",
        "MNLNVLPGNSFPIGATVYQDPKGVNFSIYSKNATAIELLLFDEPXAAKPKQVILLNPKQHRTHHYWHIFISDIXAGQIYAYRVHGPFNPEKGHWFDGTKVLLDPYARVVVGQDKYSREAATGYGDNCAYALKGVVADPXTYDWEDDKPLETPYAXTVIYEMHVGGFTRNPNSGVAPKKRGTFAGLVEKIPYLKELGITAVELLPVQQFDEQDVREPLINYWGYSPIAFFTPHHSYSSRQDIFGPMDEFRDMVKALHKEGIEVILDVVFNHTGEGNENGPTVSFRGLENSTYYILEGDYPRYYSNYSGCGNTFNTNNPFVHRLIVDCLCYWVREMHVDGFRFDLASVMSRSMTGDPLEDPPVLWAIESDPVLAGTKIIAEAWDAAGLYQVGSFIGDRFAEWNGHYRDDVRQFVKSDPRIVNKLAARIMGSPDIYPKPNREPNHSINFITCHDGFTMNDLVSYNEKHNEANCENNCDGANYNLSWNCGIEGVTDQAKIEMLRLRQIKNFFTILFFSQGTPMILMGDEVRRTQLGNNNSYCQNNELSWFDWSQIDQQNDLLRFVKGIINFTQKLKIMQLDKVLATVGVGPEPCLVRSKEKTNLDKAPNISWHGIHLGVPDWRIDSRTLAFSLKHPENGEYFHIMLNAYWKPLMFELPLLNKGENWYLIVNTAFTSPRDFNDLDVGIKVIGVRYRLEARSAVVLMTKRE"
       ]
      },
      {
       "output_type": "stream",
       "stream": "stdout",
       "text": [
        "\n",
        "\n",
        "Tery_1898: Total groups = 1\n",
        "Group 1:\n",
        "2 paths, Average identity = 83.22\n",
        "MVQKQQRQKNTTIKLGIWGTXSAGKTVYMLMLYHYLXRSKRKDXFLVKVXBZZTDXFLXXXLNSXIYKGEFPTXTTXXDKYNSYSYKLKRDXSDTIVELTFLDLPGEXXZXREXKVKTNNTIGXKNXDVSVAKYLTQCHGILILLSPLKEDYPBBSYXXLLXGLFRLMLREIPEFKLEQYVVFGITKADXDKIYXRTIDTNFYQLIMEIIGXQAPLEWLXSYFYLEIVEEKDXTQXVNVNGENNRCCFLPISPFXRYXXEXGXMISPVDTXENKTEEEXKXNESQQEXPXAADKRQXKXLXXDPFKKNXSKKQNNSNDDXXTXSXADNSEGXQREGXSSXNDDYETPSTTBYXEPNQXXGKXXIDTXVTWRPQNVVEPIEWLIQRIENHPPKIFD"
       ]
      },
      {
       "output_type": "stream",
       "stream": "stdout",
       "text": [
        "\n",
        "\n",
        "Tery_1900: Total groups = 1\n",
        "Group 1:\n",
        "8 paths, Average identity = 93.00\n",
        "MINDNSQNQETNFWICNGEEKNLPHPPQMLHYGDECPICHNVKKIKRNPPPPNPDTINITRQTDFEVPPEVDTNSIXXTRPTASQVSPTXQKSKRDWPLVGALTILNLGSGFTTVRGASQXLPSFVAYPMGXTIQGVLFALIARLFLKHAPLIKWVVVGXFSTFSVYTSFFAYYDLLXXETREKXRIELANSGHZSLVGEXFTPIQNKVNSLESEIGIINKKIEKETQGERGGRPKGCGKVCQQLKEEREIVEVQKAQLEPLVNRLQPLFNYNVEDKSPKEIFQTDLKALSKVGENCLPKELLSELEITCLPDKYLRALNPQNPEYKELXLTYIDPDLEVDFLAPIFKVMKGEGSAIASVIMALLIDGCIILLGIGVEIRPQVTRQRQQTLTLQIKDGKIVEFLDLLLSKSQNETIEIEKSDNNKNEYHNLLSWLSVNTQLILQDDEDKSWYFPSYSSKDNFQKWLVNQRNLQIQARASTNLLESWKKRLPEYFVLEMPIVSKYQD"
       ]
      },
      {
       "output_type": "stream",
       "stream": "stdout",
       "text": [
        "\n",
        "\n",
        "Tery_1902: Total groups = 2\n",
        "Group 1:\n",
        "1 paths, Average identity = 94.70\n",
        "MNTILIVEDDQVNTKVFSKILTKRGGLLVKHTEDVEEVVKIARSKEADLILMDVSLTHSVYNGKAVDGIQITQLLKSDPQTCKLPVILLTAHAMSGDRENFLNKSGADGYISKPVVDHQEFVNHIKSFLSQD\n",
        "Group 2:\n",
        "1 paths, Average identity = 72.22\n",
        "VLMVEDDQVNAKVFAKILTKRGGYHFLHTEDVERVLTLAESGKISIILMDVSLTHSVYQGRAVDGIQITRLLKSNPKTALIPVVLVTAHAMKGDRENFLNKSGADGYISKPIVDHQEFVEHIKYFI\n",
        "\n",
        "Tery_1921: Total groups = 1\n",
        "Group 1:\n",
        "4 paths, Average identity = 92.35\n",
        "MKSDTELINSLSPSAMDQIMLYLAFSAMRTSGHRHGAFLDAAATAAKCXIYMTYVEQGQNLRMTGHLHHIEPKRVKVIVQEVEEALTKGKLLKMLGSQEPRYLIQFPYVWLEEYPWTPGXPRXPGXXLTTEEKXXIEAKLPSNIPDARLINSFQFMELIEFLHRRSQEDLPXERRMPLSEALAEHIKRRLIYSGTVTKIDSPWGMPFYCLXRSSYCPXDQEERTFIMVEDTARYFRLMRDWAEKXYTNKVMRXLEEFDISPDRFEQAKEELDXIIRHWABRYHEXGGKQMXLQMVFGIKDD"
       ]
      },
      {
       "output_type": "stream",
       "stream": "stdout",
       "text": [
        "\n",
        "\n",
        "Tery_1926: Total groups = 1\n",
        "Group 1:\n",
        "2 paths, Average identity = 92.76\n",
        "MAIATVNPTTGEILKTFEPITSIEIEAKLELAEKTFRXYXQTSMTQRGEWLLAAXDILEKNAEKFGKIMTLEMGKTLXGAIAEAKKCALVCRFYAEKATEFLADVPAQTDAXKSFVRYQPIGPVLAVMPWNFPFWQVFRFAAPALMAGNVGLLKHASNVPQCALAIEEIFKEAGFPEGVFQTLLIGSDQVSGIMMDXRVKAGTLTGSEPAGASLAATAGRXJKKTVLELGGSDPFIVLESADLETAVSTAVTARMLNNGQSCIAAKRFILAEAIADQFQKRLVEKFEALKXGDPMLPDTNIGPLATPSILQELNAQVEASVEKGAKILTGGHLLSDLPGNFYPPTILADIPINSPAYEAEFFGPVALXFXVANIDEAIELANNTPFGLGASAWTTETAEXXRLISELEAGAVFINGLVKSDPRLPFGGIKRSGYGRELSKEGILEFVNIKTVWIK"
       ]
      },
      {
       "output_type": "stream",
       "stream": "stdout",
       "text": [
        "\n",
        "\n",
        "Tery_1930: Total groups = 2\n",
        "Group 1:\n",
        "1 paths, Average identity = 73.56\n",
        "MVDTFIYEYPKLVRDNPAPFAKVTDTNVKVAIIGSGFAGATATYELRRAGIKKITVYEARRQENGDPLVGGRAHSPTFESNNRKYVN\n",
        "Group 2:\n",
        "1 paths, Average identity = 74.71\n",
        "MVDTFIYNYPQLVRDNSAPFARVIDPSVKVAIIGAGFAGATATYELRRAGIKNITVYEARRQENGDPLVGGRAYSPAFQSKNRDYVN\n",
        "\n",
        "Tery_1943: Total groups = 1\n",
        "Group 1:\n",
        "3 paths, Average identity = 90.63\n",
        "IIMKTQKNDILTQEEQRLEAGLKKEAYWQRWGPYLSERQWGTVREDYSEDGSAWDYFTHEQSHYRAYRWGEDGICGISDNHQRLCFAITLWNGKDLMLKERLFGLTGNQGNHGEDVKEYYFYLDNTPTHSYMKALYKYPQVAFPYTELLTENQRRDRKSLEYELINTGIFAENRYFDVFIEYAKATAEDVLIKITVNNLASETQTLHLLPTLWFRNTWSWSQNSXKPILKKINPGLIEANHPTLGKRWLYFXETMELFFTENETNKQRLSGXKNTSPYVKDGINNYLVNGQKDAINPNMYGTKFAPHYLLELKPGETKTIKLRLTBSPEIXQPFDSKFDDTFQTRIQEADEFYQSISLCXMKDEWQNIQRQAFAGLLWTKQYYHYIVEDWLKGDSTESPISENRKNIRNYGWIHLFNDDIISMPDKWEYPWYAVWDLAFHTIPLAIIDPNFAKHQLDLITREWYMHPNGQLPAYEWNFNDVNPPVHAWGTWRVYQIEKEVYGRQDRKFLERVFQKLLFNFTWWVNQKDIEGNNVFEGGFLGLDNIGVFNRSSELPTGGHIEQSDATSWMAMFCLDMLRIALELALENDVYEDIASKFFEHFLYIVDAMNHLGPGGTQLWDETDNFYYDVLHQPGKEDTHLKVRSIVGLIPLFAVAIIDSETLQKLPKFQKRVTWFIEHRLDLSANIACLEACGIESEHLLAIVSPERLKIILEKMLDENEFFSDYGIRSLSRYHAENPYIFYANGDEYRVDYEPAESICEMFGGNSNWRGPIWFPINHLMIESLQRFYDYLGDNFRVECPTGSGKMMNLWEVSLEIEARLIRIFLKDENGKRPVYADTEIFQNDHHWQDLILFYEYFHGDNGAGLGASHQTGWTGLVAKLIQQRSEYNCEI"
       ]
      },
      {
       "output_type": "stream",
       "stream": "stdout",
       "text": [
        "\n",
        "\n",
        "Tery_1962: Total groups = 1\n",
        "Group 1:\n",
        "2 paths, Average identity = 92.98\n",
        "VQFDVITLFPDFFTTPLNSGLLGKAFDKKIAKVNLVNPRDYTTDKYKKVDDESYGGGVGMILKPEPIFAAVESLPTLSRREVILLTPQGKTMHQGLFRELATDYEQLILICGHYEGIDERVQYLVSREVSLGDFILTGGEIPALALXNGVVRLLPGTVGKAESLKSESFESGLLEYPHYTRPANFRGWKVPEVLLSGHHAEIARWRYQQQVXRTKSRRPDLLKNDDD"
       ]
      },
      {
       "output_type": "stream",
       "stream": "stdout",
       "text": [
        "\n",
        "\n",
        "Tery_1965: Total groups = 1\n",
        "Group 1:\n",
        "4 paths, Average identity = 89.61\n",
        "MKILKLRTLRGPNYWSISRHKLVIMRLDLEDLDEKYTSDIPGFYKGLTEVLPSLVEHCCSPGVKGGFLSRVEKGTLMGHVIEHVALELQQLARMPVVFGRTRETSTPGVFQVVXEYENEQAGRYAARAAVRLCQSIVETGTYSEIELZKDLEDLKEFKNQASLGPSTEAIVKEAEARGIPWTQXGARFVIQFGYGVNQKRIQATLSSQTGILGVELACDKEGTKRILKDAGIPVPRGTVTRYFDELEDAIEDVGGYPIVIKPLDGNHGRGITIDVRNWQEAEEAYDLASNASKTKTVIVERYYTGKDHRVLVVNGKVVAVAERVPAHVIGDGKSTIAELIEETNKDPQRGDGHDNILTRITVDKSTNVILERQGYSIDSILSKEEVCFLKATANLSTGGIAVDRTDEIHPENVWLLSRAAKIIGLDIAGIDVVTEDISKPLRLVEGVIVEVNAAPGFRMHVAPSRGLARNVAGAVMDMLFPGSKNGRIPILTVTGTNGKTTTTRLLAHIMKQTGKVVGYTTTDGTYIGEYLAEXGDNTGPQSAHLILSDPTVEAAVLETARGGILRSGLGFSACEVGIVLNVTADHLGIGDIDTVEQLAQLKSVVAESVMPRGYAILNAEDPLVAAMADKVKGQVAYFSMDPNNELLLKHTEAGGLAAVYENGYISILKGDWTLRIEKAVNVPITMAGKAPFMIANALAACLAVFSQGVKIEHIREGLSSFVASVDQTPGRMNMFNMGSYHALVDYAHNPASYEALGGFVRNWPGKRIGVIGGPGDRRDEDFVSLGELAADIFDEIIIKEDDDTRGRPRGNAAELIYQGVEQFLNQGKDFDSRVIYESILDETSAINMALDRAPFDSLVVILPESVSRAIGLIEARNPVKDLELSESNLKSSKSSEELKTSI"
       ]
      },
      {
       "output_type": "stream",
       "stream": "stdout",
       "text": [
        "\n",
        "\n",
        "Tery_1984: Total groups = 1\n",
        "Group 1:\n",
        "2 paths, Average identity = 88.00\n",
        "MKIAIAQLNPIIGDISGNAKLILDAAQKAQNLDAKLIITPELSLIGYPPRDLLIYPSLIKAAALELEKLAKDLPSEIAVLVGTVTFNSQAPNTGAKSLFNSAVLLSNGQIQQTFHKQLLPTYDVFDEYRYFEPGKTRHFFTLENSPNSSENLAKVGVTICEDLWNDEAFWGRLNYTCDPMKELAAQQVDFVINMSASPYRAGKQKLREAMLKHNTNRYQIPIIYVNQVGGNDDLIFDGCSVVFNSAGNVIYRAQAFETNLAIVEFNCAKKDLISVNLENINFPETEEQEIWSALVLGLKDYVYKCGFSKVVLGLSGGIDSALVAAIATAALGKENVLAILMPSPYSSDHSVKDALELAENLGIAKQIISIDNLMKDYDKSLSNLFTGTNFGIAEENIQSRIRGNLLMAISNKFGHLLLSTGNKSEIAVGYCTLYGDMNGGLAVISDVPKTRVYSLCHWLNEQAVNHNQNFSGAKNLLIAEKQNIIPPNILTKAPSAELKEDQKDQDSLPAYDILDDILFRLVENCESLDKIIAAGHDSEVVNKIVKLVMRAEFKRRQAPPGLKISDRAFGTGWRMPIAKKLVMN"
       ]
      },
      {
       "output_type": "stream",
       "stream": "stdout",
       "text": [
        "\n",
        "\n",
        "Tery_2002: Total groups = 2\n",
        "Group 1:\n",
        "20 paths, Average identity = 98.98\n",
        "MMMTNRFIKIGAAXELLGVSIDTLRKWELSGELIPDRKSQAGTRFYDXSKLINLGDGDSPTICYARVSSHDQKVDLERQQAMLETYCAAKGWIFEVIKDLGSGMNYXKKGLQKLLEKILRKQTKGLVLTHKDRLLRFGAELVFSFCEL"
       ]
      },
      {
       "output_type": "stream",
       "stream": "stdout",
       "text": [
        "\n",
        "Group 2:\n",
        "1 paths, Average identity = 94.59\n",
        "MMMTNRFIKIGAAAELLGVSIDTLRKWELSGELIPDRKSQAGTRFYDSSKLINLGDEDSPTICYARVSSHDQKVDLEKQQAMLETYCTAKGWIFEVIKDLGSGMDYRKKGLQKLLEKILRKQTKRLVLTHKDRLLRFGTELVFSFCEL\n",
        "\n",
        "Tery_2006: Total groups = 1\n",
        "Group 1:\n",
        "4 paths, Average identity = 76.95\n",
        "VVDLKKLEDSIVLIXSAKENRXNVIGTGFIFYKXQNYTYLLTCAHVVEDVGGEENIRVNNIPAEVIKIGDVQGFDLAXLKVNKXFSXPSLNLMILYGEEEKKLXVKIPGXYXXSQNXALRXZTIKGEMXVEVDGERAFQLIEBXPEXVAVEKLZXXKGXLRSGYSGSPVIDINTGLVXGJVTHKVDVDGEGRFGRAISIEALEKIWXEIPNEVSKQIXREXKTIEVLTNINFEEKFQNEVKSSXESXKGELFXFEVXXVBDSGXIXBXSQXSXRQKIEDLGNGIKLZMVYIPXGXFXMGSPESEEXRXDXEXPXHDVTVXXFFMGKYPVTQGQWKXJASRTDLKVXLXLXXXPSXFKEPYQBIDRWXRPVEXVSWYZAVEFCXRLSKLTXRNYRLPSEAEWEYACRAGTTTPFYFGXTIXXXLXNYSGTDYEXWSVXLX*XXXGXI*RXNNSCRXIXXXCFWFXXYARXXXGMVXXXXA*QL*WXXYXWXXLXXWKPRRLTPAGRFLGQLS*YLPFCDSQLLC*AR"
       ]
      },
      {
       "output_type": "stream",
       "stream": "stdout",
       "text": [
        "\n",
        "\n",
        "Tery_2026: Total groups = 3\n",
        "Group 1:\n",
        "29 paths, Average identity = 80.72\n",
        "QVXVNPNIKWXDIBWKQVEXRVFKLQKLIYRASSRGEISKMRKYQKLLTKSYYARLLAVRRVTQDNRGKKTAGXDGIKNLPPMQRLNLVDXLNKRXLKASPTRRVWXPKPGKDEKRPLGIPTIYDRALQALVKXGXXPEWEARFEPNSYGFRXGRSXHXXIENIYNVIHLXPKYVLDADISKCXXRINHDALLRKIGXTPYRRLIKQWLKSGVFDNKQFSDTVEGTPQGGXISPLXAXTSPYMXWKRDXWNLPKPWTLKIPG"
       ]
      },
      {
       "output_type": "stream",
       "stream": "stdout",
       "text": [
        "\n",
        "Group 2:\n",
        "2 paths, Average identity = 71.25\n",
        "EVCVNPYLQWKDIDWEWVEKNVFKLQKLIYKASSCGDVPMMRKYQKLLTKSYYARLLAVRCMIQENQGKKTAGIDGIKNLPLMQIFNLANLLKSPYLKASRNYRVWTPKSAKGQKRSLGIPTIYYRALQALXXLGMEPEWEARFEPNSYGFRPGRSTXDAIQAIYDSIKQKPKYVLDADISECMKRINHNALLGKLGRTXYRRLIKQWLKSGVFDNNQIRXTXZXLGILQGEVISXLLANIALXG"
       ]
      },
      {
       "output_type": "stream",
       "stream": "stdout",
       "text": [
        "\n",
        "Group 3:\n",
        "1 paths, Average identity = 73.81\n",
        "DPVCINPNLKGQDIDWRRVEKNVFKLQRFIYKASSRGEIRKMRKYQRLLRKSYYARLLAVRRVTQDNQGKKTAGVDGIKNLPPMQGLNLVYLLKSPYFKASSTRRVWIPKPGKDEKRLLGYSTIYDRALQALVKLGLEPEWEARFEPNSYGFRPGRSTQDAIQVIFTSVVYKPKYVLSADISECFDRINHDALLRKIGQTPYRGLIKQWLKSGVFNKKQFSSLVEDTPHEGVILPLLVNIALHGMEERLMA\n",
        "\n",
        "Tery_2047: Total groups = 1\n",
        "Group 1:\n",
        "4 paths, Average identity = 77.89\n",
        "MGYLYIGWRSRVQDSKGFFVADQGVPAIANGAATGADWMSAASFISMAGLISFLGYDGSIYLMGWTGGYVLLALLLAPYLRKFGKYTVPDFVGDRYYSNVARIVAVIAAIFVSMTYVAGQMRGVGIVFSRFLQVDIGTGVLIGMIIVAFFAILGGMKGITWTQVAQYTVLIIAYLIPAIAIATVITGIPIPQFAFTFSDIVEKLNQVQLDLGFAEYTAAFTNKTMLDVLFITIALMVGTAGLPHVIVRFYTVPDVRAARYSAGWALLFIAILYTTAPALATFARYNLIDSLHNKTVEEVQQLDWATKWEKTGLLEFRDKNNDDRFQITPDQETNEIKIDRDIIVLSTPEVAKLAPWVVALVAAGGLAAALSTASGLLLVISSSIAHDVYYRMIDPGASESRRLMVGRIMVGFSIAIAGYFGVNPPGFVAQVVAFAFGLAAASFFPVIILGVFDKRTNREGAIAGMVVGLLFTTIYIVGVKFVGMPTWFFGVSAEGIGTVGMVLNFVVTFIVSRMTPPPPLEIQEMVEDLRSPLAVPVPISHIGESELD"
       ]
      },
      {
       "output_type": "stream",
       "stream": "stdout",
       "text": [
        "\n",
        "\n",
        "Tery_2049: Total groups = 1\n",
        "Group 1:\n",
        "2 paths, Average identity = 95.57\n",
        "MKLNFSFKTISILSLFLTSLFWSDLEPAIAPSHHPILPEKIAEKQLCKTAAKFTVKIISGEGWGTGILVQKQENVYTLVTNDHVLRDKTENFVVETEDGEQYQASLLVSFHHNQITGNDLAILQFNSQKSYPIVSLAKWQKEERVMAIGFPMDVNVTSSKKGGLTCTKLGEVSKYLARPMRSGYQIGYKLTVFNGMSGGPLLNNHGQLVGIIGMGEPIIFVNPDIYLYKDGSRVTESLDISSEKALDFLSSLSWAIPSETLVDLSPSELGLNFEF"
       ]
      },
      {
       "output_type": "stream",
       "stream": "stdout",
       "text": [
        "\n",
        "\n",
        "Tery_2069: Total groups = 11\n",
        "Group 1:\n",
        "54 paths, Average identity = 74.25\n",
        "IISRNKESAXQKIEDLGXXIELEMVXIPGGXFXMGSPXXEXXXXXXEXPQHXVXVXXFXMGKYXVTQGQWXAIASXTBLXVXLDLXXXPSXXKXXXXBIDRWXRPVXXVXWXZAVEFXXRLSKLXGRNYRLPSEAEWEYACXAGTTTPFXFGETIXXELXNYXGTDXXXXNWSGSYGBXPXXEYRXQTXPVGQFPANAFGLYDMHGNVXEWCXDXXHXNYXXAPXDGSXWLNXBXXXSXLRGGSWXXXPXXCRSAXRXXXXXXXXXXXXXGXRXVCDGGRXL"
       ]
      },
      {
       "output_type": "stream",
       "stream": "stdout",
       "text": [
        "\n",
        "Group 2:\n",
        "6 paths, Average identity = 87.03\n",
        "MAXXPXIKRQKQKFQGYREYIGEVPLEMFXIPSGTFTMGSPXSEEGSFXDERPQHNVTXSEFLMGRYPVTQKQWRAIASRADLKEKQDLDPDPSKFKEPYQDIDRWQRPVETVNWYEAVEFCQRLSKLTGRNYRLPSEAEWEYACRAGTTTPFHFGETIXTDLANYXGTGDXGSYGRGLKGESRXZTTPVGYFKVANSFGLSDMHGNVXEWCADXWHXNYXXAPXDGSXWXDGBXDXSTKSITGLRGGSWAXFPXXCRSAIRXXYYRRXXHXXXIGFRLVCDGGRT"
       ]
      },
      {
       "output_type": "stream",
       "stream": "stdout",
       "text": [
        "\n",
        "Group 3:\n",
        "1 paths, Average identity = 70.30\n",
        "LEMVYIPGGTFMMGSPENEEKRNDDEGPQHNVTVSPFFMGKYPVTQGQWRAIASQTNLKVKLDLNPEPSYFKESYQDIDRWQRPVEQVKWIEAVEFCERLSKLTGKDYRLPSESEWEYACRAGTTTPFYFGETITPELVNYDGNYTYGKSPKGEYREETTPVGQFPPNAFGLYDMHGNIYEWCQDVYHDNYNGAPTDGSAWEIDDINQRVYRGGSWYFNPRWCRSAYRIIYNSDVTDDYNVGFRLVSFPPRTL\n",
        "Group 4:\n",
        "4 paths, Average identity = 73.84\n",
        "ISLEMVLIPGGTFXMGSPXSEXXSXXNZXPQHBVXVXXFFMXKYPVTQGQWKAIASRXDLKVNLDLXPEXSRFKXPYQXIDRWQRPXEXVNWYEAAEFCKRJSKLXGRXYRLPXEAEWEYACRAXTTTPFYFGETITPELVNYDGNYTYXXGPKGXXREQTTPVGQFPPNAFGLYDMHGNVREWCADEWHENYQNAPTDGSIWLNGNEYLSPLRGGSWAVSPNSCRSAIRYYYDGRDGHFDCTGFRVVCDGGRTL"
       ]
      },
      {
       "output_type": "stream",
       "stream": "stdout",
       "text": [
        "\n",
        "Group 5:\n",
        "1 paths, Average identity = 72.08\n",
        "VGLEMVAIPSGTFTMGSPESEEKSMDNERPQHDVTVPSFFMGKYPVTQGQWRAIASRTDLKEKEDLDPDPSHFKEPYKGIDRWQRPVEDVTWYQAVEFCERLSKLTGRKYRLPSEAEWEYACRAGTTTPFYFGETITPELVHYDGNYTYGDGPKGEYKKQTTPVGQFPANAFGLYDMHGNVWEWYADDWHDNYVGAPTDGSAWVDSNKDNSTESNTAESNTGLRGGSWANFPVNCRSAIRDYYLRRDDLNYFTGFRVVCDGGRTL\n",
        "Group 6:\n",
        "1 paths, Average identity = 71.51\n",
        "SYRETIPEQVELEMVAIPGGTFTMGSSESEKGSYHDERPQHHVTVSPFFMGKYPVTQGQWRAIASRADLKVNLDLDPEPSYFKEPYQDIDRWQRPVQKVNWCQAVEFCERLSKLTGRNYRLPSEAEWEYACRAGTTTPFYFGETITPELVNYDGNYTYGDGPIGEYGPIGEYRNQTTPVGQFPPNAFGLYDMHGNVWEWCADEWHCNYQNAPTDGSIWRDYRGWGPDSRSRSPLRGGSWFTYSNACRSACRISYHRRADHRDDTGFRVVCDGGITL"
       ]
      },
      {
       "output_type": "stream",
       "stream": "stdout",
       "text": [
        "\n",
        "Group 7:\n",
        "2 paths, Average identity = 75.29\n",
        "VSLEMVKIPGGTFTMGSPKSEKGSYDYERPQHDVTVPQFFMGKYPVTQGQWKAIASRTDLKVELDLKPEPSYFKEPYKGIDRWQRPVEEVSWYEAVEFCKRLSKLTRRNYRLPSEAEWEYACRARTTTPFHFGETISTDLANYXGTDBXNWSGSYGKGXKGVXRXETTPVGQFPPNAFGLYDMHGNVXEXCADEXHYBYQNAPTXGSIWLNXDKNRSXLRGGSWXXXPXXCRSAXRBXXXXRDXHBXXXGFRLVCDGGRTL"
       ]
      },
      {
       "output_type": "stream",
       "stream": "stdout",
       "text": [
        "\n",
        "Group 8:\n",
        "1 paths, Average identity = 71.97\n",
        "VSLEMVKIPGGRFLMGSPDTEVKRLSDEGPQHYVDIPEFFMGKYVVTQGQWKAIASRTDLKVELDLKTEPSYFKQPYKDIDRWKRPVEYVNWFEAVEFCKRLSRLTGRNYRLPSEAEWEYACRAGTTTPFYFGETINTELANYRGTDNEEYNWSGFYGKGPKGVYREETTPVGYFKVANAFGLYDIHGNVWEWCADEWHENYAGAPTDGSVWLNGNKDKSPLRGGSWGYIPNYCRSAIRNNSGRRVVHDIYSGFRVVCDGGRTL\n",
        "Group 9:\n",
        "1 paths, Average identity = 72.59\n",
        "ISLEMVLIPGGTFMMGSPKSEEGSTGGERPQHNVSVSPFSMAKYPVTQGQWKAIASRTDLKVKLDLKPDPSRFKEPYIDRWERPVERVNWYEAVEFCKRLSKLRGRNYRLPSEAEWEYACRAGTTTPFYFGETITPELVNYNGKYTYGAGPKGKNREQTTLVGPFPPNAFGLYDMHGNVWEWCADEWHENYQNAPTDGSIWLKGNIYRSPLRGSSWANNPIDCRSAIRLNVDRRDAYLVTGFRVVCDGGRTL"
       ]
      },
      {
       "output_type": "stream",
       "stream": "stdout",
       "text": [
        "\n",
        "Group 10:\n",
        "1 paths, Average identity = 72.83\n",
        "ISLEMVLIPGGTFTMGSPESEERSKDNERPQHDVTVPSFFMGKYPVTQGQWKAIASRTDLKVNLDLDPDPSHFKEPYQNIDRWERPVECVNWYEAAEFCKRLSKLRGRNYRLPSEAEWEYACRAGTTTPFYFGETITPELVNYNGYYTYGAGPKGEGRRQTTPVGQFPPNAFGLYDMHGNVWEWCADEWHENYQNAPTDGSIWLNGNKDRSPLRGGSWVNDPNGCRSAIRYVYYRGIVFDYNSGFRVVC\n",
        "Group 11:\n",
        "1 paths, Average identity = 70.88\n",
        "IKLEMVYIPEGSFLMGSPESEEDRNDSESP*HDVTVSAFFMGKYPVTQGQWKAIASRTDLKVILYLDPDPSHFKEPYQNIDRWRRPVEDVSWYQAVEFCARLSKLTGRNYRLPSEAEWEYACRAGTTTPFYFGETINTDLANYSGTDYEKWSGSYGKGPKGVYREQTTPVGEFPPNAFGLYDMHGNIWEWCADEWHDNYNGAPTDGSIWLNGNQDGSPLRGGSWVNYPNTCRSAIRNYYVRRDDYDDPSGFRVVCDGRRT"
       ]
      },
      {
       "output_type": "stream",
       "stream": "stdout",
       "text": [
        "\n",
        "\n",
        "Tery_2071: Total groups = 1\n",
        "Group 1:\n",
        "3 paths, Average identity = 90.10\n",
        "MSISNFIEGLQQANDDLTATEIAEIIWLWVKTLPDGELESLETDKRNSQGPESNNEIDSEKNRQNLKINIPELPAKTNLDLYPKAAADKYLPETDNNKKERYPLQVPDAPAIPNKQELGIALKSLRRKFPSSTEQELNEAKTIDFFVEQKIWMPIKEPILTRRWLDLVLVIEVNNSLVIWKQTIKELRKFLQSLGIFRHIETWGLKFNFSQLLPQELLFKLIVRVSPEFIPFLILSSQNQKSEKIEIFHYDDPQMRPYSPEFIGTTSGKTLILLVSDLVSSVWSRPETYTLLQRWGRKGMVNLLQLLPERLWLRTTLGQQKSLKLNASVRLTSNQNLTIIPSSKKQEISQDGEFKLPVLCLDPNILEEWSNLLMGVGNNQSVGYGIKPDNHRYSNFVQEEITATERVERFQQIASPNALRLAEHLSAVLVTLPVIRVIQYTMIPKFNQGHVAEVLMGGLFKPLSEKITPNINPDEIEFEFFDGVRDELLSGLTVDEITDVIEEVSSYLAEKMGISLKEFEALLIDSSKPENKLAKQVYPLAQVQAEVLEKLGGSYADFANQIRASNTGFTNERKDLIEFETEIEVATIVFEEETKEVEIELQEWSFETPTVNRLGKIVETTIHKAFYFTQSLPDNVGLEMVAIPSGTFTMGSPESEEKSMDNERPQHDVTVPSFFMGKYPVTQGQWRAIASRTDLKEKEDLDPDPSHFKEPYKGIDRWQRPVEDVTWYQAVEFCERLSKLTGRKYRLPSEAEWEYACRAGTTTPFYFGETIXXXLXXYXGTDXKEYNWSGSYGDGPKGEYKXZTTPVGQFPANAFGLYDMHGNVWEWYADDWHDNYVGAPTDGSAWVDSNKDNSTESNTAESNTGLRGGSWANFPVNCRSAIRDYYLRRDDLNYFTGFRVVCDGGRTL"
       ]
      },
      {
       "output_type": "stream",
       "stream": "stdout",
       "text": [
        "\n",
        "\n",
        "Tery_2072: Total groups = 1\n",
        "Group 1:\n",
        "2 paths, Average identity = 95.17\n",
        "MTNLWLALASMFGWFVSNIAGGGSSFILMPIVGLFLGTIAIPPVITTGGILGNAERVFNYWQKINWTVIFWELPGTIVGGCLGAFIFTQIPVKWLSFLVGLFLLISGINLIIKNQEKPFTVRVWYFLPAGFIYSFLSGIIGSMGPLLAPFYLSYGLEKEELLGTQAVNRMVVHIFKAITYAVFGNLTLPYLGYGILIGVAAYPGNRLGHLVLEKISPQLFRQLVTAFVIFSGLFLLWEQRSLLIFTGL"
       ]
      },
      {
       "output_type": "stream",
       "stream": "stdout",
       "text": [
        "\n",
        "\n",
        "Tery_2076: Total groups = 1\n",
        "Group 1:\n",
        "4 paths, Average identity = 88.03\n",
        "MLYNLRLRIVIRELLYQGLGEEEFNDLVYDYFPDVYSQFTNGQNKSQRIRNLIDYADKHREIEKLLEGIKNINPKVYQEYESELEGKPPKPPIKKCDVLVLAANPTSTQPLQLKKETELIREKLQDTDFGKNYIVYAEENALIEDLSKYLLQYQPIILHFSGHGNSQGEIILNNRQGEPKVLSLETLSELLSIVGKDGKPIECVVFNACFSLKKADAVGDQVGCVIGMKKEIGDDSALIFAAEFYQGLGYEVGYYKAFQLGINGIKRLRLPDSQTPHFIPFDTSFLESESVSLRTEQVRRSTNPKNTAETDESVSPRNTKINRTLNSRDTTETTATLYPLWFGTNRKPVDIDNISKGFSGKRDDKLHYGICQVAVPKSHKIGSTGSPWWKRLITLKDDRLKLQFKSLQILQEELFWANINEELKDHEINERSALVFVHGYNVNFEDAAIRAAQMGFDLQVPGITAFYSWPSQGKLLAYPVDXASIEASEKYMTEFLLXLAEKTHIEKIHIIAHSMGNRGLLRAVQRIISQVQTITNIVFGQIILAAPDVDIDLFKELAKGYGQLAERTTLYISSKDKALATSGLIHQHDRAGFFPPVTVVEGIDTVKVSKIDVTLLGHGYFADARLVLEDIRDLLINNTSPEQRRGRLEPSEEGGYWVMR"
       ]
      },
      {
       "output_type": "stream",
       "stream": "stdout",
       "text": [
        "\n",
        "\n",
        "Tery_2077: Total groups = 2\n",
        "Group 1:\n",
        "6 paths, Average identity = 89.57\n",
        "MTNTNIAITIGVQEYEFFPSLKYAANDAKKMRDFLLDEADFDEVFYFSDNSPKINGASTSPTRSRLEYLLENEVKKLPLKTGDNLWFFFSGHGQRENNNIDYLIPIDGHSNVERSGISVEYVIQQLQNSGADNIVLILDACRNKSHGEKGGEGVGRQTEQEAREKGIITIFSCSPNERSWESEELEQGVFTYALLEGLGSKGKKATAERLNDYLKYRVQELAQKERKRQTPRIIADPIEKSHLILMPKYATKSDVSILKIDAYRAQTNGDLNWAEQLWIRVLEVGLDLEAVKALQKIAVEQFRSQLVSXPQLDLGYFQXLPVSETQQLRSTEVLEGSNIZTSLQSQPKLEPNSQXKXKSQPKITTYTFTFATPKVNRKGEIISXSZGEAEVMIENLGNGVTLEMVRIPGGRFLMGSPXTEAXRXXYESPQHYVDVPEFWMGKYVVTQZQWQAIMGNXPSXFXGKNRPVERVSWNNATEFCEKLSKKTGRDYRLPSEAEWEYACRAGTTTPFYFGETITGELXNYXXSXTYADEXKGEYXXQTTPVGQFPPNAFGLYDMHGNVYEWCQDVWHXBYDGAPVDGSAWVNGGNSXXRVXRGXSWXFXPXXCRSANRXXXBSVEXXXNXIGFRLVSFPPPRTXE"
       ]
      },
      {
       "output_type": "stream",
       "stream": "stdout",
       "text": [
        "\n",
        "Group 2:\n",
        "8 paths, Average identity = 84.14\n",
        "MTNINIAITIGVQEYQFFPHLEYAANDAKKMKDFLLDEGGFDEVFYFSDDSPEMNGALTRPTRSNLEYLLENEVKKLSLKTGDNLWFFFSGHGRRENNIDYLIPIDGHSNVQRSGISVEYIIQQLQNSGADNIVLILDACRDKGGGGKGGEGVGKQTEQEAREXGIITIFSCSPNERSWESKELEQGVFTYALLEGLGSKGXKXTAEKLNEYLKYRVQKLAQKEGKQQTPRIIADPIEKSHLILMPKYATKTDVSILKNDAYRAQMKGDLKLAEQLWVRVLEVGVDLEAVQALQKIAVDKQTPQSFPQLDDFENLPVSEVQQPRATEVLEGLNIQTPPQSERKSQPTNKTRRQILILGGLAGSGFAVAAISKYFSDTPQAQPKITTHKFTTPKVNRKGEIISRSEGEAEVMIENLGNGVTLEMVKIPGGRFLMGSPETEAQRYDNESPQHYVDVPEFWMGKYVVTQEQWQAIMGNEPSRFEGKNRPVERVSWNKATEFCKKLSKKTGRDYRLPSEAEWEYACRAGTTTPFYFGETITGELANYKASETYADEQKGEYRXQTTPVGQFPPNAFGLYDMHGNVXEWCQDVWHXXYDGAPXDGSAWVNGGBSXRRXXRGGSWXFNPRWCRSAXRXXYXSVETXXXYIGFRLVSFPPRTPE"
       ]
      },
      {
       "output_type": "stream",
       "stream": "stdout",
       "text": [
        "\n",
        "\n",
        "Tery_2081: Total groups = 3\n",
        "Group 1:\n",
        "1 paths, Average identity = 75.00\n",
        "MVVDITQLIVISKDPLTFVLHSIAIFRAVSHHESLNYLPVRPPVSLC*KSHLFDS*SFDPI*TSFTD*CSVSTVWPMLSTQQQGGWNFTTKD\n",
        "Group 2:\n",
        "1 paths, Average identity = 70.59\n",
        "DMILSIDPLTFVLHSITTFGMVITHESLDHLPVRLLVSLC*EFHSFSSYSFNPI*ASFKD*CSVSTLWPMLSTQQQSGRNFTYKN\n",
        "Group 3:\n",
        "1 paths, Average identity = 76.92\n",
        "MVADNNNNILLSIDPLTFVLHPLAIFEMVTCNESFITFLFVHLSVSARSLTYLIVKALTPFRPASEIDVQSLLRGLCCQPNNEAVGISPTR"
       ]
      },
      {
       "output_type": "stream",
       "stream": "stdout",
       "text": [
        "\n",
        "\n",
        "Tery_2110: Total groups = 1\n",
        "Group 1:\n",
        "6 paths, Average identity = 86.30\n",
        "MMXNXQSXPXNRIXIKDXXXDSTIWDLIKXRNTDIVICSCYKSXTTLTQQIVNLXVNGBDNFESLXDJSXWVEXIFIXXPXXKXXXXESLPXPRXXKSXLLFEALPYYPEWKYIYLVRDGRDVGVSXXHHXXSXLPEYXXENLPXXFXXFWDBXXETKEDKXEYWSYWKHIKSWWQVRNLPNVLLVHYHNLIYDKSQEIDRISEFLNLNINTLKKEMILEKSSLEYMKLNWQKFQPVGVFQPNTFINKGVNGRWQNLLTTEQLKRYEIIISXELEPECAKWVKNAGFLPEVNSTAFD"
       ]
      },
      {
       "output_type": "stream",
       "stream": "stdout",
       "text": [
        "\n",
        "\n",
        "Tery_2112: Total groups = 1\n",
        "Group 1:\n",
        "2 paths, Average identity = 96.94\n",
        "MTEXTAKVRKAXIPAAGFGTRMFPATKVVKKELFPIIDKDGRAKPIIQIIIEEAISGGIEEVGLVVQESDRQIFTDYFQAIPSYYEKLSLEKQEYCQYLQNLGNKITLLTQEQQAGYGHAVFCAKDWVRDEPFLLLLGDHLYTSEVTKSCTSQILQVYEQTNKSVLGVRIIPGTEIHHYGCIGGTLVADSLINIDTIYEKPDLNYAREKLHVLGMKKEHFLGVFGIYVLTARIFDYLEENIKQNAREKGEFQLTSCLDKLQKAEGMTGYLVKGRCFDTGMPDVYWQTMIDFRNV"
       ]
      },
      {
       "output_type": "stream",
       "stream": "stdout",
       "text": [
        "\n",
        "\n",
        "Tery_2114: Total groups = 1\n",
        "Group 1:\n",
        "2 paths, Average identity = 88.82\n",
        "M*DLFAIIF*NINISQSMDIKEVLKLAEELIYDHTGENLDYLQKTILQRTLEGQTYKKISEETYASETHVRYIGAKLWKTLSEILGENITKANFRTILENANIYNFAIGKNSITNNINICPSNPHASPIKTNSQQTPTQHIIDLDKAPEIINFYGRTEEISTMTKWIVSDRLRVISLLGISGIGKTTLSLRLIEEINGLGNQTPTFNYIIYRTLRFSPTLTTTLTNLLQIFAPQTEVSDNIEILLSQLQKYLAKYPCCIIFDDVQKLFAPGKLAGQYKSGYSDYRDFFQLFATVSHQSCLLLISREKIAEILKLETENYPVETLILGSLGAAAKEICQKHQLVNQESWEKLINNYQGNPQWLDITATIIKELFSGKVAEFMEYKTLILPEALQTELEQQLQNLSPIEIRIMEQIANQNQPISIAEIIRQSQLSIQETINLIQSLKKRLLLDVQLENNFTVFTMNSIWNQYLKNKS"
       ]
      },
      {
       "output_type": "stream",
       "stream": "stdout",
       "text": [
        "\n",
        "\n",
        "Tery_2127: Total groups = 1\n",
        "Group 1:\n",
        "2 paths, Average identity = 86.22\n",
        "MSQQTVWIARHGNRIDFVNPEWFNTAERPYDPHLSDDGILQAQKLANHLIGKNITQIFASPFLRTVQTANEVAKVLDLDIKLDWGLCEWLNHEWMPAMPETLSLEELVQSYSRIDLSYHEGTPQYPETWKACMKRTGEVSRRLAQEFRAENILLVGHGASVVGAAAGLVGEIAETKVKASLCCLVKIVLQEEQWVMELSGDTSHLDNRETTVRFV"
       ]
      },
      {
       "output_type": "stream",
       "stream": "stdout",
       "text": [
        "\n",
        "\n",
        "Tery_2131: Total groups = 1\n",
        "Group 1:\n",
        "2 paths, Average identity = 85.73\n",
        "MNAELDSPDFAQAESLXQELFAEVQKQEGVLAGGQKLGITASIIKDLQETKVTFGNPQNELIPLTEEIFKETGMELNHLIKQQMKDDYNFYYLTLNVNLRPQPGAKFWRLTCDLKFSEERTIIQSIFPEHQWQSVLKIGVGMDIGINQNLTWDAAIDSSIITEVLKSVPANLKANIASKNKFKAFAVIPECKYELGCPEIVAEGMGSPDCYWRIQDKDIQKVGTVKFGVIFKVPKLTKSITLTGTTWADIDINWLTANISDIVLVRLPERFKELLGLDAEESANKFFRGNKEKWHLKLLQ"
       ]
      },
      {
       "output_type": "stream",
       "stream": "stdout",
       "text": [
        "\n",
        "\n",
        "Tery_2138: Total groups = 1\n",
        "Group 1:\n",
        "4 paths, Average identity = 85.83\n",
        "MKKRQLGSTDIKISEVGLGTWQMSGDVWGKKTEAEYCRGMEVAIEAGIDYFDTALEYGNGYCEQVLGKVLRGFPSVVISSKIPPQCDEWSAKPQGNIDDYFSPAWISKCCETTLKNLRRDCVDILFLHTWNVAWGDRTEWYEAMVKLKEQGKIRAIGVSVGDRRASEANSHIEAGRIDVVMAVYNVLEQEPEYTLFPMAKKHQVGIVARCPFSSGALVSDWTSSQKFPDGDWRGLWTPDDWVAKHIEMVDYIKPMVKNTNLSMSAIGLKYILNHQTVTSVIPGSSSPEHIRNNASVTALPNLSEDILGQLQQLWLDGKVHGMYNGGS"
       ]
      },
      {
       "output_type": "stream",
       "stream": "stdout",
       "text": [
        "\n",
        "\n",
        "Tery_2155: Total groups = 1\n",
        "Group 1:\n",
        "10 paths, Average identity = 89.89\n",
        "METNZKXTFPKMGXGTWAWGNRLLWGYDEXMDNELQNVFNLCVANGITLFDTGDSYGTGRLNGRSEMLLGQFSQGYRGANQDDICIATKLAAYPWRWSRQAMISACTASAQRLGKNVDLVQMHWSTANYFPWQEWGLLDGLADLYEQGKVKGIGLSNYGPKRLKKVYKKFSDRGVPISSLQVQYSLLSTYPVTELGLKEVCDELGIKLIAYSPLALGILTGKYSEKGSSAPGIRGILFRQILPGIRPLLSCLEAVSKSRNKTMSQVAINWCISKGTIPIPGAKNQAQAEQNIGALGWELDSGEVAELDQAAASTNKKMVQNIFQTQ"
       ]
      },
      {
       "output_type": "stream",
       "stream": "stdout",
       "text": [
        "\n",
        "\n",
        "Tery_2172: Total groups = 1\n",
        "Group 1:\n",
        "2 paths, Average identity = 92.03\n",
        "LTLARALEQKGIBFQLYEQADSFEALGYGIQVSPNXVRVLRELGLEQQLEXVSHLCLGFELRSFNSNXVLATWQLDNDTPYYQCRRADLXSLVFNSIQDKSRIHFSRRLESYXEKDNQLLLYWXNXPSTTAKALVAADGVRSVVRXSLFNXVAHEXXPQYXAAXLXSKHQAQYAGYAAYRXILPFQDKYLPLWGKATVWMGKNHHXVVYPNGNEQNSTSWLNLVLVVKDXNWNPQXWTIPADKKAVARDFANQSEELNEILEDMVVSPEPCFKWGLFIHKPLPYWTRGKVTLLGDAAHPMLPFQAQGAAMAIEDAYVLAKYLASEKDIEKAFIDYQQARIKRTTKVQQVSRNNAKIFHASGVKAAIRNFVLGVVSTTVPSLLNKKTAWIYDFDLTSS"
       ]
      },
      {
       "output_type": "stream",
       "stream": "stdout",
       "text": [
        "\n",
        "\n",
        "Tery_2173: Total groups = 1\n",
        "Group 1:\n",
        "2 paths, Average identity = 97.03\n",
        "MYLYYXLGFIVLVVALGIVIYLITPRSYESSDTVANSYDDWTXDGILEFYWGEHIHLGHYGSPPRRKDFLQAKADFVHEMVKWGGJDKLPRGTXVLDVGCGIGGSSRILAKXYEFEVTGXTISPKQVQRATELTXQGVTAKFQVDDALALSFPDNSFDVVWSIEAGPHMPDKAKYXSEMMRVLKPGGILVVADWNQRDDRQKPLNYWEKPVMRQLLDQWSHPAFSSIEGFSEQIAETGLVEGEVATADWTQETLPSWLESIWQGIVRPEGLIKFGFSGFIKSLREVPTMLLMRLGFGAGLCRFGMFRAVKSNSVPLSTETATTEVANA"
       ]
      },
      {
       "output_type": "stream",
       "stream": "stdout",
       "text": [
        "\n",
        "\n",
        "Tery_2212: Total groups = 2\n",
        "Group 1:\n",
        "1 paths, Average identity = 79.88\n",
        "LSLAAAPNYAVALRAGSGFEMTPEMKEIWENSDADLPRIINVNRLKLVTEKDPETPIEENLSIQLPYHTKKKEPIIIGGYTDVDIYLPGIPNRCASLSVNNRAVEIQCLATGKVQINRTLMERREKKSLRHGQVITLLRNDKPDKYYCFCFYDTLYDPQS\n",
        "Group 2:\n",
        "1 paths, Average identity = 71.60\n",
        "GLSLAAEPSYAVALRAGAGFEMTEEMQKKFKDDDPDLPRIIDVDRLQILTEDEPDTPLEENLSIQLPYHTKGKPIIIGGCPAKNIHIYLPGIPDECASLSVNNRTVEIKCLAPGKVQINRTLMKRREKKLLHHGQIITLLRNDKQNKYYCFCFYDTLYDPQS\n",
        "\n",
        "Tery_2225: Total groups = 1\n",
        "Group 1:\n",
        "2 paths, Average identity = 75.20"
       ]
      },
      {
       "output_type": "stream",
       "stream": "stdout",
       "text": [
        "\n",
        "LMIFSLAIVPKIYKYKGHKGRQVRRILNCLAVLVFLGQGITGSRDLLENSLSWQHKFLYKCDGKNQVCPDSTSQVLSPEVLVASISNYPILAQANKVLASGEFVTITPGEDTEGTAQVIQVGGKIQVRLGENFSAIEGPAVRLLLHKQNRPESYTAENYVRLGNLKSFTGEQVYDVPEGINWRDFPNVVVWCERFDVTFGSAKLN"
       ]
      },
      {
       "output_type": "stream",
       "stream": "stdout",
       "text": [
        "\n",
        "\n",
        "Tery_2273: Total groups = 2\n",
        "Group 1:\n",
        "1 paths, Average identity = 93.02\n",
        "MILNNKILKSLVLKGLFLILPLTISNSITYSTSAQINPNQPPRNQNSSGRSLTVRSDIQEADSRTGVVTARGNVQINYPARKIQATAAQAQYFSRERRIVLSGDVFILQDGNTIRGETVTYLIDEGRFIVLPQSQGQVESVYVVPAGQGADIEGTVTAPFNPKPAFKTPISP\n",
        "Group 2:\n",
        "1 paths, Average identity = 93.02\n",
        "MILNNKISKSLLLKGLFLILPLTISNSITYSTSAQINPNQPPRNQNSSGRSLTVRSDIQEADARTGVVTARGNVQINYPARKIQATAAQAQYFSRERRIVLNGDVFILQDGNTIRGETVTYLIDEGRFIVLPQSQGQVESVYVVPAGQGADIEGTVTAPFNPKPAFKTPISP\n",
        "\n",
        "Tery_2274: Total groups = 1\n",
        "Group 1:\n",
        "2 paths, Average identity = 82.09"
       ]
      },
      {
       "output_type": "stream",
       "stream": "stdout",
       "text": [
        "\n",
        "YSNYKISTIITIIFLSFFIFIITINKANLALGKTSEELQNSNIENFTQVNSLTPLSNIVYKPIKIDGREIFKAAAIAGQEIQGNSNTSPLNIRVRLYENNLRQTIKNCFDADTLKLTLEILENQTLVFASDAEELKNQELIAITDLDAQIHGISREDLANQIIGFVRDALIRAQRERQPDYLFRQTLISTGIILALILLSFLISTWQKYCFDKYQKLQRLIESLKLSYPQIDELRNQQQLRVVKPELSLGQKQQLIWEQQQNKNSFFRSLLQVTHIIVWLFGMSWILGNFPYSRWLQILLLSYTMVLTTIIGTYLIIKISPIIIRWFAINSLQKLETETSAHRTVSRAITFSHTFQGIVIFILVFLGILWTFHKLNVSLIIILVSLGIISLTASLGGHNLVKDIISGILILREDQYGIGDLIDLDYTIGYVEDMNFRMTQLRDAGGRLTTIPNSQISTIHNLTKDWASIDLKIKVNLDTNLSQALKLIKKVNNELINDTNWRDEILDYASILAVNSVSKMEVEITVRVKTRPRKQWNVAREFCYRLKQNFDSENIPINATITSKYKI"
       ]
      },
      {
       "output_type": "stream",
       "stream": "stdout",
       "text": [
        "\n",
        "\n",
        "Tery_2275: Total groups = 1\n",
        "Group 1:\n",
        "2 paths, Average identity = 95.87\n",
        "MITEVSLIEIAKTTRQAAQKSAVLSTQAKNKAIEAVAQVLEKATPKIIAANQLDCRIAETDGIAKPLYNRLKMDEAKLKNAIAGLRNVATLRDPIGVVQIHRELDAGLILKRITCPLGVIGVVFEARPDAVIQISALAIKSGNGVILKGGKEATNSCLELVTAIRQGLSTTSVNPDGVQLLTTREETLELLKLDEYVDLIIPRGSNSFVKFVQENTQIPVLGHAEGICHVYVDKFADIQKAVKITIDAKTQYPAACNAAETLLVHADVAAKFLPEVFPEXEKRQVELRGDRATQQILSSVKEAIDVDWATEYSDLVLSVKXVDSLESAIAHINXYGSGHTDAIITEDGKAAXIFXAQIXXAGVFHNCSTRFSDGFRYGFGAEVGISTQKMAPRGPVGLEGLVTYKYQIXGDGHIXATYTGENAKPFTHQDF"
       ]
      },
      {
       "output_type": "stream",
       "stream": "stdout",
       "text": [
        "\n",
        "\n",
        "Tery_2323: Total groups = 2\n",
        "Group 1:\n",
        "1 paths, Average identity = 71.43\n",
        "VDRILDKGVVIDAWVRVSLVGIELLSIEARIVIASVETYLKYAEAVGLT\n",
        "Group 2:\n",
        "2 paths, Average identity = 71.43\n",
        "VDRILDKGVVIDAWVRVSLVGIELLSIEARIVIASVETYLKYAEAVGLT\n",
        "\n",
        "Tery_2352: Total groups = 1\n",
        "Group 1:\n",
        "6 paths, Average identity = 93.32\n",
        "MIENNNYLSSSVATISRQELRELVRSQLQALLEQDNLSGAKAMLVPVQPTDIAEAIEGLPETMQVIAFRLLSKAEAIEVYEQLDSTVQQSLCEKFKGQEVIDIVDKMSPDDRXKLFEELPAAVVRRLLGQLSPTERQATAQLLGYNSGTAGRIMTPEYISLKEEYTVAQSLERIRSLANVTETVYSLYVTDTNRYLTGILSLRDLVTSQLNQTISEIMSRDYVCVQTGTDQEEVVRLIQRYDFLAIPVVDSEKRLVGIITVDDVLDILEQEATEDIYALGGVQSDGDNYFQVNIFTAVRRRVVWLFVLLLTNSVTGGIITAQEDILQKVVVLAAFIPLLTGTGGNVGAQSSTVVIRGMNTDEIWKIGPVKVILREATAGAMLGSILGLLATAWAYLFIVNGNLEVSVTVGISLVAISILASVAGSSLPFLFRSFGLDPALMSAPFITTAVDVLGVLIYFNLARIILQI"
       ]
      },
      {
       "output_type": "stream",
       "stream": "stdout",
       "text": [
        "\n",
        "\n",
        "Tery_2354: Total groups = 1\n",
        "Group 1:\n",
        "4 paths, Average identity = 96.58\n",
        "MRTHYCGQINSNNIEETVNLCGWVDRRRDHGGVIFLDLRDRSGIVQIVSDPERTPDSYQIAGDIRNEYVVQITGRVSRRPEESLNPKLPTGEIEIYADDIQLLNGLGKQLPFQVSTAETETVREELRLKYRYLDLRRERMTRNLLLRHEVIKAVRRFLEDEQNFVEIETPILTRSTPEGARDYLVPSRVHPGEWFALPQSPQLFKQMLMVSGFDRYYQIARCFRDEDLRADRQPEFTQLDMEMSFMSQEEILQLNEQLVAYIFQKVKGIDLPLPFPRLTYREAMERYGSDKPDIRFGLELVDVSDLVKDSGFKVFSGAVAKGGIVKVLPIPGGNDAISNVRIKPGGDLFKEASEAGAKGLAYVRVKEGDKIDTIGAIKDNLTDEQKQELLKRTNAQPGHLLLFAADDANTVNKTLDRLRLVVGEQLELIDQDKISLLWVTDFPMFEWNEDEKRLEALHHPFTAPHPDDINNLKTARAQAYDLVFNGYEVGGGSLRIYQRDVQEKVFEAIGLSDEEADNKFGFLLEAFEYGTPPHGGIAYGLDRLVMLLAVEESIRDVIAFPKTQQAKCLLANAPSEVDKKQLKELHVSSIYKPKS"
       ]
      },
      {
       "output_type": "stream",
       "stream": "stdout",
       "text": [
        "\n",
        "\n",
        "Tery_2358: Total groups = 2\n",
        "Group 1:\n",
        "1 paths, Average identity = 100.00\n",
        "QKIWVQHDGTEDAIADQLVEKGVPAEDIVLAYHPPLLRKYTEFAES\n",
        "Group 2:\n",
        "1 paths, Average identity = 93.33\n",
        "KIWVQHDGTEDAIADQLVEKGVPVGDIVLAYHSPLLRKYTEFAES\n",
        "\n",
        "Tery_2359: Total groups = 1\n",
        "Group 1:\n",
        "9 paths, Average identity = 99.64\n",
        "IHEDDNIILQAPIRSPLKKTTPTRQVKFEHPSSGLISALNHLKSSQKTYPQLKALVVAXDGZEAGERFDVELEKLINTGWVSHSLYPLATVIPIVEKNYRFKSPEIAQLQGKFTLSRFAYLHQSQGKTIIECPLSTSQIIALDWRCGALLAKLSQPQTPSSLSADIPDITEEIAQKFLALLMATQMLSPETEPTPLMYWEFHDLLFHSRSRIGRHNNPTGGTMRFFGKTEPLPIVKPPMSDKVIKLVQPNLEYLTQIDIPLTKALELRQSIREYDEQPIRLQQLGKLLYCCARIKKIETMETEEFGTLHLNYRPYPCGGAIYELEIYPVVNRCQGLAAGVYHYQPLEHCLYQISAHETQVEELIEDAYKSSGEQDQPQVLLVITARFGRIFWKYESIAYALILKHVGVLYQTFYLMATGMHLAPCALGIGDADNFAQITGLDYYEESSVGEFLLGSVRN"
       ]
      },
      {
       "output_type": "stream",
       "stream": "stdout",
       "text": [
        "\n",
        "\n",
        "Tery_2360: Total groups = 8\n",
        "Group 1:\n",
        "26 paths, Average identity = 85.61\n",
        "MPXKPRNFQIGHSYHITTRCNNREFKLSRRECREVFLYAIKKVSTKYNFRLYALCIMSNHVHYLIEPLQXRRFTXNYALPQLVHSYVFQQNVKTXGAF"
       ]
      },
      {
       "output_type": "stream",
       "stream": "stdout",
       "text": [
        "\n",
        "Group 2:\n",
        "46 paths, Average identity = 73.41\n",
        "MPRKPRXLLPGYSYHITCRCNNREFRLTRLECRQVFLFALKKVLDKFRFKLYALCIMSNHXHYLXEPXEPQELPKIMHWLNWYTAMCFNQMLNRTGHF"
       ]
      },
      {
       "output_type": "stream",
       "stream": "stdout",
       "text": [
        "\n",
        "Group 3:\n",
        "6 paths, Average identity = 72.57\n",
        "MPRKLRQLLXGYSYHVTCRCNNREFRLTRLECRQVFLFALKKALDKFGFKFYALCIMSNHVHYLLEXSTPEDLPKIMHWLNWYTAMCFNQMLNRTGHF"
       ]
      },
      {
       "output_type": "stream",
       "stream": "stdout",
       "text": [
        "\n",
        "Group 4:\n",
        "1 paths, Average identity = 89.21\n",
        "MPRKPRNLLAGYSYHITTRCNNREFKLSRRQCREVFLYAIKKVSTKYNFRLYALCIMSNHVHYLIEPLQPEDLPKIMHFLNWYTAMCFNRMLKRTGHF\n",
        "Group 5:\n",
        "1 paths, Average identity = 100.00\n",
        "MARKPRNFQTGYSYHITTRCNNREFKLIRRECREVFLYAIKKAIKKYNFKLYALCIMSNHVHYLIEPAQPEDLAKIMHFLNWYTAMCFNRMLKRTGHF\n",
        "Group 6:\n",
        "1 paths, Average identity = 72.45\n",
        "MPRKPRLLLPGYSYHVTCRCNNREFRLTRLECRQVFLFALKKVLDKFRFKLYALCIMSNHVHYLLEPPEPQELPKIMHWLNWYTAMCFNQMLNRTGHF"
       ]
      },
      {
       "output_type": "stream",
       "stream": "stdout",
       "text": [
        "\n",
        "Group 7:\n",
        "1 paths, Average identity = 72.45\n",
        "MPRKPRQILPGYSYHVTCRCNNREFRLTRLECRQVFLFALKKVLDKFRFKLYALCIMSNHIHYLLEPSQPQELPKIMHWLNWYTAMCFNQMLNRTGHF\n",
        "Group 8:\n",
        "1 paths, Average identity = 72.45\n",
        "MPRKPRQLLPGYSYHVTCRCNNREFRLTRLECRQVFLFALKKVLDKFRFKLYALCIMSNHVHYLLEPPEPQELPKIMHWLNWYTAMCFNQMLNRTGHF\n",
        "\n",
        "Tery_2361: Total groups = 1\n",
        "Group 1:\n",
        "17 paths, Average identity = 94.20\n",
        "LTDDGLTXWHPAXLXXAXTXXGCAQKYKGFCNKYKPKQKTPKKSHWGSRLLXGITPSIXFEKRSSQKTKKSSTSFXFPPCQVTEKLEVAKVVXQFVEANRPPKQEGKDF"
       ]
      },
      {
       "output_type": "stream",
       "stream": "stdout",
       "text": [
        "\n",
        "\n",
        "Tery_2362: Total groups = 1\n",
        "Group 1:\n",
        "16 paths, Average identity = 95.77\n",
        "MAEISNIPEIKKLWAKTKGNSEVCVAVLDGLVDLKHPCFEGANLTQLPXLVQGQATPQXEMSLHGTHVASIIFGQPNSXVSGIAPHCRGLIVPIFSDYHRRTSQLNLARAIEQAVNAGANIINXSGGELTDYGEAEDWLNRAVSLCQNNNVLLVAAAGNDGCECLHVPAALPXVLAAGAMGENGQPLDXSNWGENYQTQGILALGXNILGAEPGGGTTQLSGTSFATPVVSGVAALLMSLQLQREEKPDSQKVRTALLKTAVPCHAQETRRCLVGQMNISGAIAHITGETMSESEQDNSNGIEASCGCESTPEASLPGSVGLENSLPARADNGVVAAGVVEAGVTASQPLSSTNTSNNQISAMPNNSQSNNSNGITPSQPPQDVTNIAMPNNSQSNNSNGITPSQPPQDVTNXVYVIGTLGYDFGXEARRDSFKQLMPAVTIXXTQTQIPANPYDAXQMXBYLXXNLSEAKSLIWTLNMELTPIYAIEAVGSFAREVYEALQELXAGEXEAEDAEXYIERVSIPGKLTGRTVKLFSGQVVPVIEPVSPRGIYGWRVNTLVXSALEAVRXXQAEADDEQMRRSLXSFLNRVYYDLRNLGQTSQDRALNFAATNAFQAAQTFSTAVAAGMELDSIAVTKSPFXRMDSDCWDVQLKFFDPENXRRAKKVFRFTIDVSDFIPVTXGXVRSWSSPY"
       ]
      },
      {
       "output_type": "stream",
       "stream": "stdout",
       "text": [
        "\n",
        "\n",
        "Tery_2363: Total groups = 1\n",
        "Group 1:\n",
        "2 paths, Average identity = 94.50\n",
        "MSKKDVKKTPQAKSEITSPPSQQIQQPELKIEENTILATGLEDYGRWKGMFQGQKREGQPPFPRRGRIWA\n",
        "\n",
        "Tery_2365: Total groups = 1\n",
        "Group 1:\n",
        "24 paths, Average identity = 97.72\n",
        "VPDFADIPGLTKLWTHTKGDPRITVALLDGTADIERGCFQGANVTKINSYWQEAIELDPKAIDAYREIQNSDEKSEVKQAKLKEAIPDEVTLQILGAAFHATHVFSNIFGQPGTPVEGIAYKCRGINIPLGYGNDYYIDPINLARGINLAVDLGANIIHCAACRPNQTGIGHEILEKAVRQAQENNVLIVAPTGNNKGECWCLPAILPGVMSVGAMKDNGQVFKFSNWGGQYQQQGIIAPGENILGAQPGTEETVRXXGTSCAAPMVTAISALLMSLQLQQGASPDAEAVRAALTNSAIPCTLEDTEEVERCMLGKLNVAGAYQLLTGKQLEAVGVSAAEATSEEDVILEDSGVDVGEVIVDETSVVPAQENAPISFSLPVGENRESLTNVATNITAASGVEQNKIKPTKIAQSTHGVTPSARSNMIYALGTLGYDFGTEARRDSFKQLMPAVILDGVQVPANPYDGRQMADYLDANLYEGKSLIWTFNIELTPIYALRPVGAFADDIYETLQNMLAGEVEAEDHEDYIDRVSITGRLTDQTVKLFSGQTLPVVKINSPRGMYGWTVNSLIDNALESVRXERTEAEEEAIRKSLRSFLQRVYXDLRNLGQADRDRALNFAATNAFQATATISEAVAIGMELHSIEVEKSPFCRYNSNCWDVKLKFFNPDNTRRAKKVYRFTIDVSDLMPVTLGKVRSWSVPK"
       ]
      },
      {
       "output_type": "stream",
       "stream": "stdout",
       "text": [
        "\n",
        "\n",
        "Tery_2371: Total groups = 1\n",
        "Group 1:\n",
        "24 paths, Average identity = 94.88\n",
        "MLESSIESILEEKRLFQPPEQFVKMAQIKGIEEYKQLYEKARNDPEGFWAELAETELNWFQKWDKVLDWQPPFAKWFINGKINISYNCLDRHLTTWRRNKAALIWEGEPGDSRTLTYAQLHREVCQMANVFKQLGVKKGDRVGIYMPMIPEAAIAMLACARLGAPHTVVFGGFSADALKNRLVDAEAKLVVTADGGWRKDAIVNLKEQVDKALMAGAPSVENVLVVKRTGQQIYMEPGRDHWWHDIQKGVSGECPAEPMDSEDMLFILYTSGTTGKPKGVVHTTGGYNLYTHVTNKWAFDLQDTDVYWCTADVGWITGHSYIVYGPLSNGATTLMYEGAPRASNPGCLWDVVEKYGVTIFYTAPTAIRALMKMGEQHPNSRNLTSLRLLGTVGEPINPEAWMWYHRVIGDSKCPIVDTWWQTETGGFMITPLPGATPTKPGSATLPFPGIIADIVNQDGETVDGNNGGYLVVKHPWPGMMRTVYGDEDRFRRTYWEYLRPKNGEYIYFAGDGAHKDEDGYFWVMGRVDDVINVAGHRLGTMEVESALVSHPAVAEAAVVGKPDEVKGEDIVAFVTLEGAREADENLEKELKQHVVKEIGAIARPGEIRFTDDLPKTRSGKIMRRLLRSLAAGQEIAGDTSTLQDRSVLDKLRGSA"
       ]
      },
      {
       "output_type": "stream",
       "stream": "stdout",
       "text": [
        "\n",
        "\n",
        "Tery_2387: Total groups = 1\n",
        "Group 1:\n",
        "2 paths, Average identity = 75.19\n",
        "WQQQANQCLVNSNYAKAINLYEKAITAHPQNKSYYWQLGLMLLLEGQEEEAQTTWLLGVADGTAEEIELWTEELVEVLAKEANRQLLTQNGSVAWVIRQHIREINPTDVNNLLQLIDLSIAIKNYTREQPKEYGIISLLENSTVVELDQNLLVHILKKLLVYDPKSLSSVEFASVAISRIEDRTTLVNSLIPPIYEVAYSFASVGFARKYTELLLNVAPENRQLLRTMAQFCVELTDYTLGLEYAEKSYSLSTEVHEKAIAHIQVCRALITSRGCDQKVKETLEKQESLLQSLGTEAPQDQGGVAMGFYNMGFFFPYARDCPERNIKIRSQVAQLCQVNIEKACQEEITKYRQKSDKTKITSSKKKPLRIGYLSHCLRRHSVGWIARWLFKHHNQDKYEIYLYLLAAEHRNDSLQEWYINQVTKARLYSIVSTEVAEDIYADDIDILIDLDSITLVNSCSIMAVKVAPIQATWLGWDASGIPTIDYFIADPYVLPENAQDYYPHKIWRLPQTYLAVNGFEVDIPSVKREDLGIPSDAVVYFTAQRGYKYNPDTVRLQMKILKEVPKSYFLFKKFGDSDILSELLIDTAESEGISGDRLIPIEEVSLEEIHRANLGIADIVLDTYPYNGATTTLETLWMCIPMVTRVGQQFAARNSYTMMMNAGITEGIAWSDEEYVEWGIRLGKDEKLRQEISWKLRKSRQTAPLWNAKQFTREMEKAYEQMWQIYIEG"
       ]
      },
      {
       "output_type": "stream",
       "stream": "stdout",
       "text": [
        "\n",
        "\n",
        "Tery_2394: Total groups = 1\n",
        "Group 1:\n",
        "4 paths, Average identity = 80.52\n",
        "VKSINESSGXDMAKEHDQGTNNTNTLAVTDTKPPNSPKSNHQEQTATDTLTQNITTVRQLPIAPPSEAKQYRAIGLVRGRYQPSTEQFTRGSLRTPDDSEIDAVLLGRVMSLLKNHLDLESEHLWVVYPRTRQENNDLHIQIMGVWEPETLRRAKADSPSELINEAEQQTTSSLSISQTLEDNESQQIPQETESIDDFQQSDIVPNLEAQIDSLATLDDGYFSIRGEVIYQSQEDEYVVVKIQQSARKKGEETPKFFKLKLKGYLGERPLNHFWDLHIQRQNTSLVIQYGNDIGSLLLNNPRPFPSKGKRIFNNKDNNRKSSYSRVPRPKSDNYVTDSTPIRKVPLPKPTKKKKNSSDQ"
       ]
      },
      {
       "output_type": "stream",
       "stream": "stdout",
       "text": [
        "\n",
        "\n",
        "Tery_2401: Total groups = 2\n",
        "Group 1:\n",
        "1 paths, Average identity = 90.81\n",
        "MLNTPIQIAIILGTRPEAIKLAPVIQLFQNSLDFKTLVILTGQHREMIAQVMKLFNIYPNQDLAIMQSRQTLTDIMCRSLQGLEELFLQLQPKLILVQGDTSTTFAAALAAFYQKIPVGHVEAGLRTNDLFNPYPEEVNRRLISQIAQLHFAPTTLAMENLQKSGVVGEVHQTGNTVIDALLKVAKSQAICHINGLDWFKYRVILATVHRRENWGEPLKEIAQGFLQILDKFPDTALVLPLHKNPTVREPLKAILGSHPRVFLQEPFDYSEFVGAIRNCYLILTDSGGLQEEAPSLGKPVLVLRETTERPEAVMAGTAKLVGTNTSNIVATAAELLSDDAKYKKMAMAINPFGDGHASERILKIVRAYFS\n",
        "Group 2:\n",
        "1 paths, Average identity = 72.38"
       ]
      },
      {
       "output_type": "stream",
       "stream": "stdout",
       "text": [
        "\n",
        "CITLGTRPEAIKLAPVIQQFQKSPQFQTKVVLTGQHKEMVAQVMELFHLQADLDLEIMQPKQTLTDITCRSLQGLDELFQQLQSQMVLVQGDTSTAFVAALVAFYQKIPVGHVEAGLRTNDLFNPYPEEANRRLISQIAQLHFAPTDKAVENLSASRVVGEIHKTGNTVIDALLNMAKQNPECQIPGLQWQKFRVILATVHRRENWDKLADIGQSFLTILDRFPDVALLLPLHRNPTVREPLRAILGHHQRVFLTEPLDYGQLVGAMQNCYLVMTDSGGLQEEAPSLGKPVLVLRETTERPEAVEAGTAKLVGTNQELVVGAATELLKDVETYEKMANAINPFGDGHAAERILEIVGEYLG\n",
        "\n",
        "Tery_2405: Total groups = 1\n",
        "Group 1:\n",
        "2 paths, Average identity = 82.96\n",
        "MIETKTYTPNWLGSLVNLVVPITALAGIISLQVFWPPEGSPLKEKILLDSTDAILXEQKEALQFKLLKASPTFGFDNLIADWVFLQFLQYFGDDVARNQTGYSLSEDYFDIITRLDPRWVDIYLFLSNSLSIYEGKPKVAVEYMTRGTNELSPEIDPKAWQVWRFKGIDQLLLVGDIPGAIRSHEMAAEWANNTSYQKLSFLFRNTAEFLKTNPDSKLIKFNGWLWVYYQTRDSGVRERAQEEILKLGGKVKISPNGEKRFVLPESLD"
       ]
      },
      {
       "output_type": "stream",
       "stream": "stdout",
       "text": [
        "\n",
        "\n",
        "Tery_2407: Total groups = 1\n",
        "Group 1:\n",
        "2 paths, Average identity = 91.67\n",
        "MHKQNPHPDPENISLGCAVITXSDTRTVETDKSGQLLQEILRSSGHSTTKYLIIKDEKLAIVAQMEALCQREDIDAVIFNGGTGIAPRDTTYDAIEHLLEKILPGFGELFRWLSYQEIGSRAIASRAVAGIYKSKLVFSLPGSTNAVKLAVEKLILPELVHLVLQLRKN\n",
        "\n",
        "Tery_2415: Total groups = 1\n",
        "Group 1:\n",
        "5 paths, Average identity = 89.57"
       ]
      },
      {
       "output_type": "stream",
       "stream": "stdout",
       "text": [
        "\n",
        "MPEKQRDNYFILLGIDPKESWSDEKFEQTLIQKRAEWSAKSKLPGRKGAQYREYLALIPEIKKIMGDPGQRAKEAEMAKTSQQETPGKVEQEKLITEIDLISSKGFIYESEIQGLVRKYKNFVPESFIRNEINRNNIQINQDVDEPNLETLDETQLKRIKGYLETLGYQNIYEFLELSKTTAKNKIFIDRAQEKYEKSQNSGRKDTITEAQRGLAIESKNIFATEKTRRLYDNSLELEEYKIIKDNIQSLAQISSDKILYPKQFDKILKIAQSSGIENVEKAKKVIIKYAREXNLSLXFLDMNBDLSTAXPNYSRETEXVRQKQTPPPRPKIPIQIFTTVRVNSXGDIIXRXZGKAXVMTEBIGNGVSLEMVKIPGGXFLMGSPEXEAERXDXEGPQHYVNVPEFFMGKYTVTQAQWQAVMXNNXWQAVMGSNRSXFXGKNRPVXXVXWNXATXFCQKLSXKXGRXYRLPSEAEWEYACRXGTXTPFYFGEXIXXXLXNYXGXXBEEYGWSGSXGXGPXGXXRXZTXBVGXFPPNSFGLYDMHGNXWEWCQDXWHXNYDXAPVDGSAXVNXGNXXXRXXRGGSWXXXPXXCRSXXRXXXXXXXXXXXXXGFRXVSFPPRTL"
       ]
      },
      {
       "output_type": "stream",
       "stream": "stdout",
       "text": [
        "\n",
        "\n",
        "Tery_2429: Total groups = 2\n",
        "Group 1:\n",
        "1 paths, Average identity = 78.79\n",
        "LRLNPTKKQVGIDLGTCLFTNHQG*RKSGLLKESSEVTQKTEV*PEVFKQKNQRV**LLENST*SS*DRCFN*RFKTRLYSQANYSTNKGK\n",
        "Group 2:\n",
        "1 paths, Average identity = 78.26\n",
        "LRLNSTKKQLGIELGITSLLTTSDGEKVANPRNLQKLHKKLKLAQKSLSRKRDKKSNNYQKAKLKVAKIYALIKDSRLDYTHKLTTRLIREN\n",
        "\n",
        "Tery_2437: Total groups = 2\n",
        "Group 1:\n",
        "1 paths, Average identity = 99.52\n",
        "MFERFTEKAIKVIMLAQEEARRLGHNFVGTEQILLGLIGEGTGVAAKVLKSMGVNLKDARIEVEKIIGRGSGFVAVEIPFTPRAKRVLELSLEEARQLGHNYIGTEHLLLGLIREGEGVAARVLENLGVDLTKVRTQVIRMLGETAEVTAGGGGGRTKTPTLDEFGSNLTQMASEGKLDPVVGRQTEIERVIQILGRRTKNNPVLIGEPGVGKTAIAEGLAQRIANNDIPDILEEKRVVTLDIGLLVAGTKYRGEFEERLKKIMDEIRSAGNVILVIDEVHTLIGAGAAEGAIDAANILKPALARGELQCIGATTLDEYRKHIERDAALERRFQPVMVGEPSVDETIEILYGLRERYEQHHKLKILDTALEAAAKLSDRYISDRYLPDKAIDLIDEAGSRVRLINSQLPPAAKELDKELRSILKEKDEAVRSQDFDKAGELRDREMEIKSEIRSLAQNKKLDPTNEDDSPMVTEEDIAHIVASWTGVPVNKLTESESEKLLHMEDTLHQRLIGQEEAVKAVSRAIRRARVGLKNPNRPIASFVFSGPTGVGKTELTKALAAYFFGSEEAMIRLDMSEYMERHTVSKLIGSPPGYVGYNEGGQLTEAVRRRPYTVVLFDEIEKAHPDVFNMLLQILEDGRLTDAKGRTVDFKNTLIIMTSNIGSKVIEKGGGGLGFEFSDNEADAQYNRIRNLVNEELKQYFRPEFLNRLDEIIVFRQLTKDEVKEISVILLKEVFSRLTEKGIKLEITDRFQERLVEEGYNPSYGARPLRRAIMRLLEDSLAEEILAGKINEGDTAVVDVGENGQIIVSKGEEKEKRELVPQVAE"
       ]
      },
      {
       "output_type": "stream",
       "stream": "stdout",
       "text": [
        "\n",
        "Group 2:\n",
        "1 paths, Average identity = 77.90\n",
        "MFERFTEQSIKVIMLAQEEARRLGHNFVGTEQILLGLIGEGTGIASKVLKENGVNLKDARNEVEKIIGRGSGFTPAEIPFTPRVKRMLEISLEEARKLDHNYIGTEHLLLGLLQDSEGVAAKILDNLGVDKGKIRTQVIRSLGEVAAVSPGGSIPSGKKAVTLEEFGTDLTKLATEGKIDPIVGREVEIERMIQVLGRRTKNNPVLIGEPGVGKTAIAEGLAQRIVNQDVPDILENKQVVSLNISSLIAGTRFRGEFEERLKKIMDEIRANGNIILVIDEIHTVVGAGAIEGSMDAANILKPALARGELQCIGATTLDEYRKHIERDAALERRFQPVKVGEPSVEQTLEILYGVRSAYEQHHRLTISDEALTAAAQLSDRYISDRFLPDKAIDLIDEAGSRVRVKNSMVSPQLRELRRELSRVRKDKEEAVRQQDFEKASPLRDRELEIQGEIEETTSNKKDKKNSSSPIVTEEDIADIVASWTGVPVSKLTESESEKLLHIEDTLHQRLIGQDDAVKAVSRALRRARVGLKNPKRPIASFIFSGPTGVGKTELTKALAAYFFGSEEAMIRVDMSEYMERHTVSKLVGSPPGFVGYDEGGQLTEAVRRRPYTVVLFDEIEKAHPDVFNIMLQVLEDGRLSDSKGRVVDFKNTLIIMTSNIGSQVIEKGGGGLGFEFAEDQEEAQYNRIRNLVNEELKQYFRPEFLNRLDEIIVFRQLTKDEVKEIAEIMLREVFSRLGDREITLTVSDKFKERLVEDGFDPSYGARPLRRAIMRLLEDILAEALLSGKIRDGENVYVDLDENREVKVT"
       ]
      },
      {
       "output_type": "stream",
       "stream": "stdout",
       "text": [
        "\n",
        "\n",
        "Tery_2452: Total groups = 1\n",
        "Group 1:\n",
        "2 paths, Average identity = 94.79\n",
        "MTTTLATPDTNLATIQAALPIBPQPYIIXDRPTGLIVVDVLNGFCTVGFGPLAPQEPNEQIATMVSESDRLARTFVEKGWPVLAFLDTHEPGKPEXPYPPHCEKGTGEEELVPELQWLHDXPLATLVXKDCINGFIGSIDIXXQXNVLLDWINBNKLEAXVVVGICTDICVMDFVVTILSVRNHXLAPTLKDVAVYDXGCATFDXTAEMAAEQGLPKTAIHPQKVSHHVGLYTMAERGAFIASTIKL"
       ]
      },
      {
       "output_type": "stream",
       "stream": "stdout",
       "text": [
        "\n",
        "\n",
        "Tery_2471: Total groups = 1\n",
        "Group 1:\n",
        "6 paths, Average identity = 76.76\n",
        "MDRKSLREALVVGINSYPFLKKKKLGDLNLKAAIKDAEAIANMLEKYGKFRVQRLPKGYDEEGKERFEPRGTVRIDELKQAIINLFQPPIKNETPDVALLFFAGHGFVNTKGDIREGVLVTSEAQFLENISENDNISGISLXWLKEXLQDSXVXKQIVWLDCCFSGELLNFDGXANXNTQEKQVSRCFITASRSFQTATEXIDXKQGLFTDNLLECLNPENYXBGWVTNHILTESIZZRMSQTSQAPMCYNSGSTIILTTNSLTEPLDERWKNVPPYRGLSYFGQQENDGVFFHGRTGLTDKLIEQVKNHNFVAVLGASGSGKSSLLRAGLLYQLKRGQKISGSDRWLCIDPFTPEEFPLKSLLKSLGKSLLEIKIKGEKVESLIQFIHQIEGKKVESLTKELIEEKLIEFIDVVEAERVIMVMDQFEESFTLCKTHEERREFFDCFLAVLERRGEKFCVVLGIRADFLGRCSEYGGLANKIQGHQLLVTPLDEDEIEEVIKKPAALVAMDVEPNLVAQMREDFLRNPGSLPLLEYTLDALWKFATQGEEKSQYLTLETYTNLGGIEGTLTKRADAVFDSLSEEEKLVAQRIFLELVQPGEGEISSGKITDTRRRVILEKLPNERHSLELLSAVTDKLADKNNRLITKDKSEAGILLDIIHEDLIRSWKTLRKWVEEYQEALPVERKIEADAAEWEKDGKSENLLLRAGRLTKAEEYLRIYGEMALLDGLAYEFIEASRELSIREEEKEKERQRQVEEKRVKILGMLSDSMIRXKPSLXDTGVLLSVESMKQYFDIKXRYGKVDSDLLVELDQTLRNGVTQLPKXLXTLNHQXXVXXVAFSPDGKTIATXSDDXTARLWDTENGXELATLNHQXXVXAVAFSPDGKTIATASXDXTARLWDTXXGXELATLNHQXXVXAVAFSPBGKTIATASXDXTARXWDTEXGKELATXNHQXXXXAVAFSPDGKTIATASXDXTARLWDTXXGXZLAXLNHQXXVXAVAFSPDGKTIATASXDXTXRLWDXXXGXELAXLNHQXXVXAVAFSPDGKTIATASXDXXARLWDTXXGKZLATLNHQXXVXAVAFSPDGKTIATASXDXTARLWDTXXGKZLATLNHQXXVXAVAFSPDGKTIATAANAXXDXTAXLWDTDTRKKLATLNHQDGVKAVAFSPDGKTIVTAASVTSSLWBTDTGXELATLNHQXXVXAVAFSPDGKTIATASXDXTARLWDTXXGXELAXLXHQXXVXAVAFSPDGKTIATASXDXTARLWDTXXGXXLATLXHQXXVXAVAFSPDGKTIATASYXXTARLWDTXXXXELAXLNHQRLNHQXXVXAVAFSPDGKTIATASSDXTARLWDTXXGNELATLNHQXXVXAVXFXXDXKTIXTXSXXXTDAXLWDTXXGXZLATLNHQXXVNAVAFSPDGKTIATASDDRTARLHXATSEGLIQEACSRLSXBLTXXEWQXYINXDLXTYQKTXXNLPVHPSLILEAKNLAKTGEKENIKQAISJFKKALELEPEIDLXPDTETRETDPQJVANXFAAXGKVE"
       ]
      },
      {
       "output_type": "stream",
       "stream": "stdout",
       "text": [
        "\n",
        "\n",
        "Tery_2474: Total groups = 1\n",
        "Group 1:\n",
        "2 paths, Average identity = 93.11\n",
        "MLEHDIIIVGGGLAGSRAAVEIARKNPSLNVAVVAKTHPIRSHSVAAQGGIAASLKNVDTEDSWKAHAFDTVKGSDYLADQDAVEILAKEAPDVIIDLEHLGVLFSRLPDGRIAQRAFGGHSHNRTCYAADKTGHAILHELVNNLRRYGVYIYEEWYVMRLILEDSQAKGLVMYHILDGEIVVLRAKVVMFATGGYGRVFNTTSNDYASTGDGLAMAAMAGLPLQDMEFVQFHPTGLYPAGVLISEAVRGEGAYLINSDGDRFMANYAPSRMELAPRDITSRAITLEIRAGRGINLDGSAGGPFIYLDLRHMGREKIMSRVPFCWEEGHRLLGIDAVNEPMPVRPTAHYSMGGIPTNTDGRVLASRDSLVDGLFAAGECACVSVHGANRLGSNSLLECVVYGRRTGAAIAEFVEGRKLPDIEEERYLKEARAKIQGLLDHSGEYRINFLREQFQDAMSQHCGVFRSQDVMEQGFEKLEQLQQQYQQVYLDDRGKLWNTEIIEALELRSIIVVGETILSSALSRKESRGAHSREDFTERNDQDFLRHTLAYYSLAGIDIGYRPVTISMFEPKERKY"
       ]
      },
      {
       "output_type": "stream",
       "stream": "stdout",
       "text": [
        "\n",
        "\n",
        "Tery_2489: Total groups = 1\n",
        "Group 1:\n",
        "2 paths, Average identity = 74.91\n",
        "XIXHILEVVDNYXPTTEVXLLLESFDXATFFYXKXLXIXPPQCYEQVXKTWDEFQPGVSAXXDEQXPKICQN\n",
        "\n",
        "Tery_2491: Total groups = 1\n",
        "Group 1:\n",
        "2 paths, Average identity = 86.48\n",
        "MSEINDXSNWHQDFIXSNLLVIGXNAWAGXJSQKXXAIVCSTNSPTVGVXGESFKXHFVGRSRLXPFLNAWLXAPDTAILXHDFXIXHILEVVDNYXPTTEVXLLLESFDXATFFYXKXLXIXPPQCYEQVXKTWDEFQPGVSAXXDEQXPXXDLKHIS"
       ]
      },
      {
       "output_type": "stream",
       "stream": "stdout",
       "text": [
        "\n",
        "\n",
        "Tery_2492: Total groups = 1\n",
        "Group 1:\n",
        "3 paths, Average identity = 92.96\n",
        "MLSIETPKPQLKTSFIQRLQNPERPVLIFDGAMGTNIQSQNLTAEDFGGAEYEGCNEYLVITKPEAVAKVHRDFLAAGADVIETDSFGSSPLVLAEYDLADRAYELSRKAAELARSCADELTTPEKPRFVAGSIGPGTKLPTLGHITYDELKASFMVQAEGLYDGGADLFIVETCQDVLQIKAALSAFEAVFAKKGSRLPLMVSVTMEIQGTMLVGTDISGVLAILEPFPIDILGLNCATGPDLMTAHIKYLSENSPFPISCIPNAGLPENIGGRAHYKMTPLEFRTSMSQFIAEHGVQIVGGCCGTRPEHIKALADAVEQTPLKKRKVRKNTVGEIRTPLSYTPAAASIYSAQTYQQDNSFLIVGERLNASGSKKVRNLLNEDDWDGLLAIAKSQVKEGAHMLDVNVDYVGRNGERDMRELVSRLVTNTTLPLMLDSTEWTKMEEGLKVAGGKCLLNSTNYEDGEERFFKVLQLAKEYGAGVVIGCIDEEGMARTAQKKFAIAQRAYKDALKFGIPPHEIFYDTLALPISTGIEEDRENAKATIESIRLIRENLPGVHFMLGVSNISFGLSPAARITLNSIFLNEAMKAGMDGAIVSAAKILPLSKITEEHQQVCHDLIYDNRRFEGDICTYDPLTKLTEIFAGVSTKDARSTSSLADLPIDQRLKQHIIDGERIGLEDALKVALDAGHKALEIINTFLLDGMKVVGELFGSGKMQLPFVLQSAETMKSAVAFLEPYMEKIEGEDEDRGKGKFLIATVKGDVHDIGKNLVDIILTNNGYKVINLGIKQAIEAIVEAYEQHQPDCIAMSGLLVKSTAFMKENLAAFNDKGITVPVILGGAALTPKFVYGDCQETYQGQVIYGKDAFADLTFMDRLMPAKEKHCWVDTEGFTGEFAQFNQRGRKAIKDLDREVNGNQQKPDGATVINTERSTEVAIDIERPVPPFWGTKILRSGDLELEELFWYMDLQALFAGQWQFRKPKDQSREEYDWFLASKVYPILEEWKQKIRTEQWLEPTLVYGYFPCAAIGNSVHVYEPSVIEQGLTPKTATPFITWTFPRQKSMRRLCIADFIRPLEHDKFDVLPMQAVTMGEIATQKAQELYQENKYSDYLYFHGMAVQLAEALAEWSHAKIRRELGYGDLEPDNIRDILAQRYQGSRYSFGYPACPVVMDQVPQLQLLGCDRIGISIDESEQLYPEQTTTAFVTYHPVARYFSA"
       ]
      },
      {
       "output_type": "stream",
       "stream": "stdout",
       "text": [
        "\n",
        "\n",
        "Tery_2497: Total groups = 2\n",
        "Group 1:\n",
        "5 paths, Average identity = 70.43\n",
        "MKFINPKVDYAFKKIFGSQQSKDFLISFLNGIIYNGEKTIKDLTIVNPFNPGKIISLKATYLDVKAVLVDGSIVIIEMQMARRTAFNKRVAYNLSKAYANQLDKGENYPLLNPAIALTITDFILFKNTDXNINKDDYINKFVFQEETKKYKCLEKELRLIFVELPKFKKSLSELKNLTDKWIYFLQEAASFDXIPENLGEVAEIEQALNXANFINMTPEELEIVENRGIALQDERGRIAYAE*IARLNQTIPLIKLLITQRFGEVNDEISSQIEGLPLADVEDLVKVFLSFNSLVDLESW"
       ]
      },
      {
       "output_type": "stream",
       "stream": "stdout",
       "text": [
        "\n",
        "Group 2:\n",
        "1 paths, Average identity = 94.41\n",
        "MKFVSHKIDYAFKKIFGSQQSQDILISFLNAIIYGGKKIIQSLTIANPFNPAQLLSLKDTYLDIKAVLVDGSIVVIEMQVARMAGFNKRVAYNLAKAYANQLETGEDYLLLNPAIAVTITDFIVFDNNENIINKFVFQQETKKIKFLEKELQLFFVELPKFKKNLSELHTLSDKWIYFLKSASRLDEIPENLREVSEIEKALNIANKINMTAEELDIVERRGIAMQDERGRITYAEQQGEQRGEQKGQQKGRGQLIIRQLKKRFGEVPEAISSQIEDLSIADLDNLGEDSLDFNNLEDLFSWLQ\n",
        "\n",
        "Tery_2498: Total groups = 4\n",
        "Group 1:\n",
        "1 paths, Average identity = 80.64\n",
        "MIDWLVIWGVTKGVGFVFKPILEDLAKDAAKDCIKDFFKTSLSNVIRDLRNKKPLKEAIGKAITEFLELVQQELEDEDLDENELRKYILPFEKFIKNELVLETLGSAFDSNIKLVDNKILADVAKEIVPTLPPDFDWLRVAKRYGKKVKAIRMNSDELRKILDSENLDKLVNQNYEIRPEFDLKKYQESIQEQYENLKLESLDTSGYGYNELKLWGMFIPQNVRESKEFRPQLYEVPKEYIQQLKETGQLEVEFSPEQFETVQRRYLEQPVRSVLELINNSDFKYLVILGDPGSGKSTLLQYIALEWAELPLRDLPLKPIPLLIELRTYVRNHETNKCKNFLDFLEKGSGLTYHFPQQELHEKLRNGGAIVMFDGLDEVFEPAKRKEIISDIHRFTNDYKDVRVIVTSRVIGYQPQQLRDAEFYHFMLQDLESEQVEDFIERWHNLTYQNEGERERKSERLRRAIKDSSAINQLSGNPLLLTMMAILNRHQELPRDRAELYNQASRILLQQWDMERALVDANLDRRTIDYKDKQEILRRVADFMQQNKEGLAGNLIDENNLENIIKDYLKSVDINDVRTVARALMEQLRVRNFILCFVGGGYYAFVHRTFLEYFCAWSFVWQFMVTQTLGKNGLINDVFGSHWRDEKWHEVLRLISGMIDTKFVGDIISYLMEQDGEKEKFQNLFLAGKCMSEVRSSQGICDVESRLLNRLKDLTRYDLGYFSESYDEQKLVDEICTQAVKIVATFWKDEPLTYNWLKEKVVSDENQYMRCEVIRQIATGWKQEPEILELLKQRVVSDEKQYVRCEVVRQIATGWKQEPGILELLKQRVVSDENEYVRREAVRQIATGWKQELGNLELLKQWVVSDENETVRCEAVRQIATGWKHQPGILELLKQWVVSDEKQYVRCEVVRQIAIGWKQEPGILELLKQRVVSDENEYVRREAVRQIATGWKHQPGILELLKQWVVSDESEYVRCEAVRQIATGWKHQPGILELLKQRVVSDENEYVRREAVRKIATGWKHQPGILELLKQRVVSDENETVRCEAVQQIATGWKHQPRILELLKQRVVSDESLYVGREAVRQIATGWKHQPGILELLKQWVVSHESKYVRCEVVEQIAIGWKQEPGILELLKQRVVSDESEYVRHEAVQQIATGWKQEPGILELLKQWVVSNESLEVRREAVRQIVIGWKQEPGILELLKQRVVSDESEYVRYEAVQQIATGWKQEPGILELLKQRVVSDESLEVRREAVRQIATVWKQEPGTFEIFYDNALNDPFERESNFEINPRQIALEA"
       ]
      },
      {
       "output_type": "stream",
       "stream": "stdout",
       "text": [
        "\n",
        "Group 2:\n",
        "8 paths, Average identity = 76.19\n",
        "MJEXXXXWXXSXXLVXFXXXEVXGXLXKXXXEDYVKXFFKQXIXBXXXXIXXXEKXXLXKATXXAIKXFLBXXXXELXXAXXXXXXXXZYXKXFKXFXKXXXVXZXXXSXFXXXXKXLXTXKXXTXWNZJNPYSXXLPXXFBWXXXAXXXXXXVKXIXXXXXELXXILDSZNXDKLXXXXXXXXPXFDXKKXQEGIREEYGNXKLESLDTSGYGYNELKLWXXFIPQNVRESQEFMPQVYEIPKEYXZRLKXTXZLEIEFSPEQLXTVRRRYXEQXXRSVJELIEBXNYKYLVILGDPGSGKSTLLQYIALEWAXLPXXDLPLXPIPLLIELRXYVRNXZXNXCXNFLDFLEKGXGVTCHLPQQELDAKLQNGDAIVMFDGLDEVFDPAKRKEIISDIHRFTNDYKNVRVIVTSRVIGYKPQQLRDAEFYHFMLQDLESEQVEDFIQRWHDLTYXNESEKERKRERLKRAIKDSSAIKQLSGNPLLLTMMAILNRHQELPRDRAELYNQASRILLQQWDMERALIDAKIDPITIDYKDKQAILRGVADFMQQNKEGLAGNLIHGNDLENIIKDYLKSVDINDVRVVARALMEQLRVRNFILCFVGAGYYAFVHRTFLEYFCAWSFVWQFMVTQTLGIDGLINDVFGDHWRDEKWHEVLRLIAGMIDAKFVGDIISYLMEQDGEEEKFLNLFLAGMCLLEVRSRLGIDDVESRLLNRLKDLTGYDLGYFYKPFDFDLSLISREIYTKNLHLVPEIRTQAVEIVATTWRDDPSTYAWLKQRVVSDDDSDVRGEAVRQIATGWKHEPGILELLKQWVVSNENSHVRGEAVRQIATGWKHEPGILELLKQRLVSDESSDVRGEALRQIATGWKHEPGILELLKQWVVSNENLHVRGEAVRQIATGWKHEPGILELLKQRLVSDESSNVRGKALRQIATGWKHEPGILELFKQRVVSDESEYVRREAVGQIATGWKHEPGILDLLKQWLVSDESSDVRREAVRQIATGWKHEPGILDLLKQRVVSDESKYVRREAVRQIATGWKHEPGILDLLKQWVVSDESWDVRGEAVGQIATGWKHEPGILDLLKQRLVSDESKSVRREAVRQIATGWKHEPGILDLLKQRLVSDESKSVRCEAVGQIATGWKHEPGILDLLKQRLVSDESEYVRGEAVRQIVTGWKHEPGILDLLKQRLVSDDSESVRTEALREIVTGWKHEPGILDLLKQRLVSDDSESVRREALREIVTGWKHEPGILDLLKQWVVSHDSESVRREALRKIATGWKHEPGILDVLKQWVVSHNSESVRREALQQIATGWKQEPGILDLLKQRLVSDESSDVRREALQQIATGWKHEPRILDLLKQRLVSDESSDVRREALEQIATGWKQEPGILDLLKQRLVSDESSDVRHEALRQI"
       ]
      },
      {
       "output_type": "stream",
       "stream": "stdout",
       "text": [
        "\n",
        "Group 3:\n",
        "2 paths, Average identity = 74.49\n",
        "MIEWLVTWGASQAVGLLAKEVIGELAKGAAEDYVKDFFKEHIYDGIDRIKNGKPLGRATAQAIKYFLDLGNQELENAGLSGSELKEYSKFFKSFVKNQSVLEVLVSAFDQDLKYLDTHKLATTWNEVNSTLPDDFNWEFLAEQYRRRVKKIIRESDELQAILNSENINKLAKQNKKIRPDFDFKKYQEGIREEYGNLKLESLDTSGYAYNELKLWGMFIPQNVRESQEFIPQVYEIPKEYFERLKETGQLEPEFSPEQLETVRRRYLEQPVRSVLELIEDTNYKYLVILGDPGSGKSTLLKYIALQWTELPLKDLPLKPIPLLIELRTYVRNHDSNKCQNFLEFLEKGRGVTYHLPQQELHGKLQNGDAIVMFDGLDEVFDPAKREEITTDIKQFINDYKNVRVIVTSRVIGYKPQQLRDAEFYHFMLQDLESEQVEDFIQRWHNLTYQNEGEREWNRERLKRAIKDYSAIKQLSGNPLLLTMIAILNRHQELPRDRAELYHQASRVLLQQWDMQRALIDAKIDPITIDYKDKQEILRRVANFMQQNKKGLAGNLIDGNDLENIIKDYLKSVDINDVIIVARALMEQLRSRNFILCFVGAGYYAFVHRTFLEFFCAWSFVWQFKETQILGKEGLINDIFGDHWRDEKWHEVLRLIAGMIDAKFVGDIISYLMEQDGEEEKFXNLFLAGKCLFEVRSRQSIBDVGSRLLNRLKDLTGWYDLGYFYZPLDSYSQEIYXXBAXXVXXIRXQAVEIVAXXWRDDPXXXTWLKQRVESDXSXXVRXEAVRZIATXWKHEPGILDLLKQXVXXDXSXYVRXEXXRXIATGWKHEPXIXXLLKQXVXSBBXXXVXXEAVRQIATGWKHEPGILDLLKQXVEXDXXXXVRREAVXQIATGWKHXXGIXXLLKQRVESDESXXVRXEALRQIATXWKHEXGIXXLLKQXVESDXXXXVRXEAXRQIATXWKHEPGILDLLKQXVXSDXXXXVRXEAVRQIAXGWKHEPGILDLLXQWVVSDXXXXVXXEXXXQIATGWKHEPGILDLLKQRLVSDESXXVRXEXLRXIATGWKHEPGILDLLKQRLVSDESXXVXXEXXRXIATXWKHEPGILDLLXQXLXSDXXXXVRXEXXXQIATGWKQEPXIXXLXXQRXVSDESSDVRREALRQIAAGWKQEPGTFELFYHTALNDPFQYEDEYETNPRQIALEIIVKQYPDHPQTLPLLKNRAEND"
       ]
      },
      {
       "output_type": "stream",
       "stream": "stdout",
       "text": [
        "\n",
        "Group 4:\n",
        "1 paths, Average identity = 71.12\n",
        "MIEWLIAWGSSEAVKFIAKEVIGELTKGAAEDYVKDLLKQGISDVVGGIANKEPLKKATKQAIKDFLDLGKQELENYDFSESELKEYSKYFKNFIKEGSVLEVLISAFDNNLKILDTYKLAATWNEINPPLPNNFDWEFLAKQHQRNVKNIIRQSAELRGILDSINLEQLANQKIEIRPEFDLKKYQEGIREQYGNLKLESLETSGYGYDELKLWQMFIPQNVRESQEFMPQLHEIPKEYIQGLRDTGQLETELSQEQLKSLRRRYFEQQTRSVLELIEDSSYKYLVILGDPGSGKSTLLQYIALQWAELPLKDLSLKPVPLLIELRTYVRNYDGNKCNNFLEFLEKGSGISCHLPQEELHARLQKGNVIMMFDGLDEVFNNAKREEIITDIHRFTNNYKNVQVIVTSRVIGYKPQKLRDAEFYHFMLQDLEEEQVEDFIQRWHDLTYHNKEERERKRERLKLAIRNSLAIKELSENPLLLTMMAILNRHQELPRDRAELYNQASRLLLQQWDAERALTNGNFNSMTIDYKDKQTILRQVAFFMQENKAGLAGNLIHGNDLERIIRDYLKSEDINNAKTVARTLMEQLRSRNFILCFVGAEYYAFVHRTFLEYFCAWSFVWQFEKEQKISQHKLIEEVFGQHWQDEKWHEVLLLIVGMIDAKFVVEIIRYLMAQDGEEKKFLNLFLAGKCLFEVRSRHVIGDMGYCLLNKLKDLTQYDLGYSYEYYDGYSKEVYQKNVALVCEIRTRAVEVVATTWRDEYSTYTWLKQRVESDSNSRVRCEAVKQIATAWKYQPGILDLLKQWVEFDDDTNVRCEALGQIATAWKHQPGILDWLKQWEKFDDNSHVRCEALRQIVAGWKHQPGILDLLKQRVVSDDDSDVRREALRQIVAGWKHQPGILDLLKQRVVSDDDSDVRREAVRQIANGWKHQPEIFDLLKQRVVSESHWDVRREALRQIANGWKHQPGIFDLLKQRVVSDENWDVRREAVRQIANGWKHQPGIFDLLKQRVVSESDWYVRVEVLRQIATAWKYQTGIFDLLKQRVVSDIDPNVRREAVRQIANGWKHQPGIFDLLKQRVMSDENWDVRCEAVRQIVTVWKQEPGILDLLKQWVKFCDYMDVRGEALRQIATGWKHQPEIFDLLKQTLESDHSSGVRREALRQIATGWKHQPEIFDLLKQRVVSDHSSGVRREALGQIATGWKHQPEIFDLLKQRLESDHSSGVRREALRQIATAWKHQPETFDLLKQRLESDNSSSVRGEALRQIAIGWKYQPETFELFYHTALNDPFQDEGHWKDNPRQIALGTIVKQYPDYPQTILLLQDRVANDPDEQLRDWTKKKLQRLENS"
       ]
      },
      {
       "output_type": "stream",
       "stream": "stdout",
       "text": [
        "\n",
        "\n",
        "Tery_2512: Total groups = 1\n",
        "Group 1:\n",
        "8 paths, Average identity = 88.83\n",
        "VGQNHFNSIRRYNPEAIAKYYYRRLWLVVWRFLVIVFSFASFVLGILWDKWRYHKVEDTPERATQLRRMLTRLGPTFIKVGQALSTRPDLIRKDFLEELTRLQDELPAFDNERAISIIETELGQNINNIYSEISPRPVAAASLGQVYQGRLWSGENVAIKVQRPNLLPIITLDLFLMRWAAGWLAPWLPLNLGHNLSMIVDEFGTKLFEEIDYINEGRNAERFASYFADDSNVKLPSIYWRYTTTNVLTLEWIDGLKLLNTEQVQAAGLDTDTLITVGVTSGLRQLLEFGFFHADPHPGNLFALIDGRMAYIDFGMMDQLEQDTKETLVDSVIHLINKDYQELAKDFIKLGFLAPDVDIQPIIPALEIVLGDIMGEKVKDFNFKTITDKFSELMFDYPFRVPAKFALIIRSLVTQEGLALSLNPNFRIVDVAYPYVAQRLLKGESPALRRRLVEVLFKDGKFQWQRLENLIGIAQTDKNFDILPTAQLGLQYLLSKEGEFLRKQLILAMVEDDRIHTEKVGRLWGLIRDDLQPSRLFDLALGALAEFSTERAAAIIPE"
       ]
      },
      {
       "output_type": "stream",
       "stream": "stdout",
       "text": [
        "\n",
        "\n",
        "Tery_2514: Total groups = 2\n",
        "Group 1:\n",
        "1 paths, Average identity = 91.72\n",
        "MTNTIVTGVGGFIGSHLAETLLNQGDKVIGIDEFNDYYNPTLKRQNISQFQEHPGFQLIENDIQSLNWSELLVDVDIVYHQAAQAGVRASWGGGFRDYTERNINATQIILEAAINAPNLKRLVYASTSSVYGNAETFPTPETVCPQPVSPYGITKLAAERLGKLYHQNFGVPCVYLRYFTVYGPRQRPDMAFHKFFKWILQDQPISIYGDGQQTRDFTFISDAVAANLLAAIVPLAVGEVFNIGGGSRVVLAEVINIMERIVGRPIKKNFVEKARGDARHTSADVSKAKTILGYQPQVSLTEGLRQEWEWMKSL\n",
        "Group 2:\n",
        "1 paths, Average identity = 88.85\n",
        "MTNTIVTGVGGFIGSHLAETLLNQGDKVIGIDEFNDYYNPTLKRQNISQFQNHPGFQLIENNIQSLNWSELLVDVDVVYHQAAQAGVRPSWGKGFLDYTERNINATQIILEAAIDAPNLKRLVYASTSSIYGDAETFPTPETVCPQPVSPYGITKLAAERLGKLYHQNFGVPCVYLRYFTVYGPRQRPDMAFHKFFKWILQDQPISIYGDGQQTRDFTFIGDAVAANLLAAIVPSAIGEIFNIGGGSRVVLAEVINIMEGIVGRPIKKNFVEKARGDARHTSADISKARKILGYQPQVSLTEGLRQEWEWMKSL"
       ]
      },
      {
       "output_type": "stream",
       "stream": "stdout",
       "text": [
        "\n",
        "\n",
        "Tery_2517: Total groups = 2\n",
        "Group 1:\n",
        "1 paths, Average identity = 96.49\n",
        "MEGIVGRPIKKNFVEKARGDARHTSADISKARKILGYQPQVSLTEGLRQEWEWMKSL\n",
        "Group 2:\n",
        "1 paths, Average identity = 89.47\n",
        "MERIVGRPIKKNFVEKARGDARHTSADVSKAKTILGYQPQVSLTEGLRQEWEWMKSL\n",
        "\n",
        "Tery_2525: Total groups = 1\n",
        "Group 1:\n",
        "2 paths, Average identity = 98.31\n",
        "MLSNTCSLSILVARTDXPFMMHTIPHLVRMSNFNFIZRVLFVDTAPLSGDKVMRPGVGSLSELRDCCSALQSEGIVDRVVDINYDQTYQQQMYRKHFGTPIKPTHNYKGYPILGSIFHIESVPGNYVLHYDSDMLLHQQKDYSWVDEGIKLMEEHPEIMAIRPLAGPPTKDGTMYKQNKSLKPEPGGFYKFKFFSSRVYLINHKRFDKLLPLPILWRSYKKKFLNRLPLSLKNLLNYYTDKGKLDSWEVMVSMQLEKTNYVRATMSSPRAWTIHPKDRSAEFIGALPNIIEKIEAGYYPLEQAGHYDLISKYW"
       ]
      },
      {
       "output_type": "stream",
       "stream": "stdout",
       "text": [
        "\n",
        "\n",
        "Tery_2536: Total groups = 1\n",
        "Group 1:\n",
        "2 paths, Average identity = 82.24\n",
        "MIKLRLKRYGKKREASYRIVAMNSDSRRDGRPLEELGFYNPRTDETRLDLPRITKRLEQGAQPTDTVRDILRKANVLESSTIGVNTQANVSVSHAESTEAIINAEPSQATANTETNEISDGESTTTTTVSGSEEQQPVXES\n",
        "\n",
        "Tery_2537: Total groups = 1\n",
        "Group 1:\n",
        "4 paths, Average identity = 85.51\n",
        "SPDYPEIVRSLIEPFLESPESLRVDCEVNLRQAKAWIRLAFDEPEKGRVYGRGGRNIQAIRTVLGAVAQAAGQSVHLEIYEDHSDIQRSYHSEYPSNREEGAYNRKPVPSGRLYDSKNRLSRHRGTTPSPIRYRRNEHGMT"
       ]
      },
      {
       "output_type": "stream",
       "stream": "stdout",
       "text": [
        "\n",
        "\n",
        "Tery_2539: Total groups = 1\n",
        "Group 1:\n",
        "2 paths, Average identity = 90.62\n",
        "MNTNLKDFLEACEQLGTLRLIVTSSSAVLEVRGKIQKLFYAELPKGKYANMHTDIFEFHLNMDQIKRVKFETGEAKRGNFTTYAIRFLDSLDEVTLSAFLQWGKPGEYEYGQVEAWQGLKEKYGEVWEPAPVESLXS\n",
        "\n",
        "Tery_2554: Total groups = 1\n",
        "Group 1:\n",
        "3 paths, Average identity = 85.39\n",
        "MTIFQTDPSNFPQLLQMVKDGDELNLXPGDYKXPFXIDKSITIRGSGTDTVIFAATEPPLIIRXPKVRLENLTVERTVGGDNGEVAIFAETNTNPILSQVKLNGIAENVEWSGASWDIPTILEFGEVEINRIVEREWELQLGMVCQVLCDLNWLQVRSSYLSPGRQNLQIILNTTNIPTGTNLSGLIFLSAVDGRRELEVTAKIISPLPVTPVLAASTKVLPAQVLNSQDWGYRFSGSAADKFVRAQLGEVALKKYPEFPQRRAKAEALMSEILDEDSHLYYVRRQAPGREEGEEIWELTMATDREEQEWEKTLKLRGAVNVDEDRVLKLLSVQLISQKAEKDEFSLALQIRLLPQHQYRRGIPLGAVRSMSKMPFFGDRIPTEEQLPIWTTFVEIEERMAQKRQFCLPFIGHNYGSSGRKITFEIDISSATIDGTAESAIDDIELRRRLFEAKNQDIQLFNTSPAGGDARDGEKLGAIATIDWKKSQVGVMLESEIVEIIARGSYRIPSTGFLSFVAFGDITQVQRKRRALEDLRSGRCQNPYLGNFFFDATCARIPKKAVKLQPQDLLLPAANVNQIAAVETVLATPDLALIQGPPGTGKTTVIAEICYQVALRGGRTLIASQANLAVDNALSRLVHNPVIRAVRKGKAEKVQEEGEPFLEDRVIDTWLKNTANDCENDLDERLQRVEILRNLLIESERFNAYVELEEVWVSQQQELSDRRTILETSREVLESEVLQLETDTKELNFLRLGLDNLLNSAPNVNWQDEEIKNLLPRLQPYSQEEKSVQDLLDNVRLTRNIARDIGWEIPTLGAFGLAAWFSENLAILLPEFQRGLTIAKKAAVIMSELANLRQIYQQSYSQFEKLKKYIIQQEIVSENLQKNSQELESKKSQIDLVISEIGAWRNTGKDRIFEELKKCWETGQYFQLDLIGLPESLMKPVKSKKSQLFRDYAQPIHSLPDWERLEKALNVESSYGFQNIQGREYHFDKFLQISLSQPPIVLSKRDYQKWQSFAMEFEFYLQLNQRQRQNLVEKIQQFFHENQREYGAAWEPDKMSKTLEEVRDRILNQILHYSSEILLPIKRANQKQIIKNQEHLEEISQLQKGYRQRLEIVEEEEAKLRQKLEQKYQEFIQKLTEIDRQLEVNAEIRSLAKQYFEWKPFEVLNDKSNFIEKVNSWENNFNQLEKIAPLLEPFAVLADIKNILQDKLNTIQEKANKSQQQLQSCQTEIHQIQTALEKELSITLIEERDWWKSAWEKIPKNLRPTVPETELFATETLHKIKLQLQNWQQELDIEETKLNRHQKFIQDWIEKIKKPSEKDSNDLRKIYLDNANVIGITCVQAASRSFAEEFNSFDVVIIDEVSKCTPPEILIPALKGKKLVLVGDHRQLPPMLHDNTIEEIAEEMKSTKEELNFLEESLFKNHFETATKKIKQMLTIQYRMHPDIMGAINQFYHHRLQCGLLEVDLQRAHNLGGKIFQKNQHIIWVKIPQTESFVEQKEGTSPFNEKEVDVIEKLCAEMEKSWHIKIADGLPRKELGIITFYNAQLRLIDSRINPEKFPSLHIRTGTVDRFQGMERQVIIVSMVRNNQEGKVGFAKKPERVNVAFSRAQELLIIVGCHGLFTKHYGMVGNMYSEVSDVVRHQGGLIEVSDILGK"
       ]
      },
      {
       "output_type": "stream",
       "stream": "stdout",
       "text": [
        "\n",
        "\n",
        "Tery_2555: Total groups = 1\n",
        "Group 1:\n",
        "2 paths, Average identity = 89.44\n",
        "MFLQSSTKYIKPELNDFADKIEKDSPGLSVFAARQFCYKLYQTPIQIEIIKERDLNIIEEFILRASIEFNPPPTEVELAQILKLDPIFIHSTTNTLQSLQTLTITPPDSRIRITSEGKEFYTKGSLPQPPENKIIYAIINPLYGEINWRLSGLNSKSPELPNLADFITFENTNPEIVNLTIEELQKEIRDSNLGIYQPESGQIIRDFFVNKEARQIIWKAISIWVIFDVIEEKLILQAREGNKILETVSNQLQEMIERGEILLNELCGLPPESIASQTESILELKNQKVEERLQKIREQGIEIIKQTREKGKKTLPKKSEFILLRDREIRPEFLSALKAATQQVLIYSPWVTEEVVDEEFIQLLQKLANNGVWILMGYGIAEKQEGETQAISPKVEEKLLTIRTPEDLPGAQIFWLGNSHAKEVLVDRKVHLSGSHNWLSYRGDRGFRGETAYRVTNPDTVGSAYEYLQARFQSHAENLWESAVSSRDINLAVQSVCIWGALGMAEMALQELQYYDWIELFSVWLKVVIQGLRSKLILPNDLIFEQAISWLNIVDKSDKNIEDLRSGWQGVIEAIARQNSQAALSLLNEVAWGEFIRLEISATDTPEKFIKML"
       ]
      },
      {
       "output_type": "stream",
       "stream": "stdout",
       "text": [
        "\n",
        "\n",
        "Tery_2558: Total groups = 1\n",
        "Group 1:\n",
        "4 paths, Average identity = 84.23\n",
        "MKLKNYFYGFATTLVIALATNYLWSTTTVNANTPRFQNSVIDNSIAQVPNNPKFGLPIECKLDQDCFILLYSDRDPSXKAVDFGCGRQTYDGHKGTDFAIPDEKIMAKGVAVEAVAAGKVLRVRDGIPDRRVKNQADKDKTKNIECGNGMVIDHGNGWETQYCHLRNGSIVVKPGTVVNAGTQLGMIGTSGLSSFPHVHLSFRYQGEIVDPFVGPNAKSGCNIPRNSIWQQPLSYKPTGVIRSGFADSAPTMDDLWSGKFYDTTLPGNSPALIFWVQIYGVLAGDQEHYQLFAPNGEGVIDNKKEIKSANKTWMGYVGKRNNSQSLLKGKWKGEYSLTRNGKVLVNITKEIQLN"
       ]
      },
      {
       "output_type": "stream",
       "stream": "stdout",
       "text": [
        "\n",
        "\n",
        "Tery_2579: Total groups = 1\n",
        "Group 1:\n",
        "2 paths, Average identity = 88.92\n",
        "MLDFSSSSXEGETERSGLEPELGGILRNAPERSGLEPELGGVLRQKGVYVDEISCIGCKHCAHIAHNTFYMEPEHGRSRVFQQDGDSQELIQEAIDTCPVDCIHWVDYTKLKTLEQERKYQVIPVAGGPVAHPPARISSNRHN\n",
        "\n",
        "Tery_2599: Total groups = 1\n",
        "Group 1:\n",
        "2 paths, Average identity = 94.17\n",
        "MVPTTKVEQNVKVGPTKLLINNEWVESASGKRFETINPATGEVICNVAEADAPDVEKAVIAARKAFTSGDWQKMSATKRGELLYKLADLIEKNIEELARLETLDNGKPLKDSLNGDLPLVIACYRYYAGWADKVQGKTIPINGPYFCYTRHEPVGVVGQIIPWNFPLLMQAWKLAPALAMGNTLIMKTAEQTPLSALRLGELLIEAGFPPGVVNILSGYGPTAGAAISYHNDIDKVAFTGSTEVGHLIMEAAAKSNLKRVTLELGGKSPNIVFADADMDAAIEGSHFGLFFNQGQCCCAGSRLFVEEKCYDEFVNKSVERAKCRMVGDPFTERVEQGPQVDQEQFNKVMSYIESGQQDGAQMLCGGSRVGDRGYFIAPTVFADVQDHMKIAQEEIFGPVMSIIKFKDIBELVERANNTMYGLAAGVWTQDLSKAHTLAHRLRAGTVWVNCYDVFDAAAPFGGFKQSGXGRELGEYGLZQYTEIKTVTIKM"
       ]
      },
      {
       "output_type": "stream",
       "stream": "stdout",
       "text": [
        "\n",
        "\n",
        "Tery_2608: Total groups = 1\n",
        "Group 1:\n",
        "3 paths, Average identity = 85.05\n",
        "FLLVVYLILGKPEINENTSDELQQIKYFVFIVLNTVLNWLYFAILESYQIQGTLGKKIVGICVTDLRGNKISFGKATARYFGKSFFYVIWIAATIVAMMGQATGSTDSPYFILAAILFILGLILLVIGYLMAAFTPEKQALHDIMARCLVGRASGQPRVTPWKSLVALAIAAFFSGKILAMIPEAPNGLNSDATSSTTPTETSVTPTPGDIRPPNPSTEGNRIFGLLIEPDHRLKETFKGVWKLSYSVGLVVHESQLSMTGPSGVMLTQFFDRESNQTKTILQKIELSSSAKGLVLLGSNPTBLDSGEXDSTYSADNFRVAQRPDGTFEFRNYSLSEDGSIFESPVEAEFSGYPKLGIQMAELTPEVKEQLNTEIGSNVITEERGVLVLKVLDDSPAEKANMKPGDVLQEVENRTVTSPSQVQEIVQSSYLFLPIEIQLNRSGENINLSLQPECCMTLEE"
       ]
      },
      {
       "output_type": "stream",
       "stream": "stdout",
       "text": [
        "\n",
        "\n",
        "Tery_2620: Total groups = 2\n",
        "Group 1:\n",
        "37 paths, Average identity = 90.90\n",
        "MPRKPRXJLPGYSYHXTCRCNNREFRLTRLECRQVFLFALKKVLDKFRFKLYALCIMSNHXHYLXEPXZPQELPKIMHWLNWYTAMCFNQMLNRTGHFWEKRYHSTGFKNTDKKRALNTLRYIHANPKAANMQSGFFYDFSNYGTYDRLTDDGXTXWHPAFLSLGKTLDXCAKNYRGFCXKYKPRXKXXXRXXWGSXFLPKVKKKNKKXXKXSPGQMXLPWADWEPPSNLVAEVARQFXLANCYDPZVAMXFFDDQ"
       ]
      },
      {
       "output_type": "stream",
       "stream": "stdout",
       "text": [
        "\n",
        "Group 2:\n",
        "6 paths, Average identity = 88.64\n",
        "MPRKLRQLLXGYSYHVTCRCNNREFRLTRLECRQVFLFALKKALDKFGFKFYALCIMSNHVHYLLEXSTPEDLPKIMHWLNWYTAMCFNQMLNRTGHFWEKRYHSTGFKNTDKKRALNTLRYIHANPKAANMQSGFFYDFSNYGTYDRLTDDGLTKWHPAFLSLGKTLDECAKNYRGFCRKYKPRPKPEKRSRWGSRFLPKVKKKKKNKVSPGQMRLPWADWEPPSNLVAEVARQFVLANCYDPEVAMKFFDDQ"
       ]
      },
      {
       "output_type": "stream",
       "stream": "stdout",
       "text": [
        "\n",
        "\n",
        "Tery_2623: Total groups = 1\n",
        "Group 1:\n",
        "4 paths, Average identity = 94.67\n",
        "MVATPIQIKHEVKDESLALLGKQRIEWAGREMPVLRQIQERFAKEKPLSGIRLAACCHVTTETAHLAIALKNGGADAVLIASNPLSTQDDVAASLVADHGISVYAIKGEDEKTYLRHVEIALDHKPNIIIDDGSDVVATLVKNRQSQLSDLIGTTEETTTGIVRLRAMFNDGVLTFPAMNVNDADTKHFFDNRYGTGQSTLDGIVRATNVLLAGKTTVVVGYGWCGKGTALRARGLGANVVVTEIDPVRAIEAIMDGFRVMPMAEAAPIGDLFITVTGNKHVIRGEHFDVMKDGAIVCNSGHFDIEIDLETLGKNANDVKTVRPFTQQYTLKNGKSVIVLGEGRLINLAAAEGHPSAVMDMSFANQALACEYLVKNKGKLEAGLHSIPTEIDKEIARLKLQAMGIGLDTLTSEQVEYMNSWTVGT"
       ]
      },
      {
       "output_type": "stream",
       "stream": "stdout",
       "text": [
        "\n",
        "\n",
        "Tery_2632: Total groups = 1\n",
        "Group 1:\n",
        "16 paths, Average identity = 73.28\n",
        "MJEXXXXWXXSXXLVXFXXXEVXGXLXKXXXEDYVKXFFKQXIXBXXXXIXXREXXXLXKATXXAIKXFLBXXXXELXXAXXXXXXXXZYXKXFKXFXKXXXVXZXXXSXFXXXXKXLXTXKXXTXWNZJNPYSXXLPXXFBWXXXAXXXXXXVKXIXXXXXELXXILDSZNXDKLXXXXXXXXPXFDXKKXQEGIREEYGNXKLESLDTSGYGYNELKLWXXFIPQNVRESQEFMPQVYEIPKEYXZRLKXTXZLEIEFSPEQLXTVRRRYXEQXXRSVJELIEBXNYKYLVILGDPGSGKSTLLQYIALEWAXLPXXDLPLXPIPLLIELRXYVRNXZXNXCXNFLDFLEKGXGVTCHLPQQELDAKLQNGDAIVMFDGLDEVFDPAKRKEIISDIHRFTNDYKNVRVIVTSRVIGYKPQQLRDAEFYHFMLQDLESEQVEDFIQRWHDLTYXNESEKERKRERLKRAIKDSSAIKQLSGNPLLLTMMAILNRHQELPRDRAELYNQASRILLQQWDMERALIDAKIDPITIDYKDKQAILRGVADFMQQNKEGLAGNLIHGNDLENIIKDYLKSVDINDVRVVARALMEQLRVRNFILCFVGAGYYAFVHRTFLEYFCAWSFVWQFMVTQTLGIDGLINDVFGDHWRDEKWHEVLRLIAGMIDAKFVGDIISYLMEQDGEEEKFLNLFLAGMCLLEVRSRLGIDDVESRLLNRLKDLTGYDLGYFYKPFDFDLSLISREIYTKNLHLVPEIRTQAVEIVATTWRDDPSTYAWLKQRVVSDDDSDVRGEAVRQIATGWKHEPGILELLKQWVVSNENSHVRGEAVRQIATGWKHEPGILELLKQRLVSDESSDVRGEALRQIATGWKHEPGILELLKQWVVSNENLHVRGEAVRQIATGWKHEPGILELLKQRLVSDESSNVRGKALRQIATGWKHEPGILELFKQRVVSDESEYVRREAVGQIATGWKHEPGILDLLKQWLVSDESSDVRREAVRQIATGWKHEPGILDLLKQRVVSDESKYVRREAVRQIATGWKHEPGILDLLKQWVVSDESWDVRGEAVGQIATGWKHEPGILDLLKQRLVSDESKSVRREAVRQIATGWKHEPGILDLLKQRLVSDESKSVRCEAVGQIATGWKHEPGILDLLKQRLVSDESEYVRGEAVRQIVTGWKHEPGILDLLKQRLVSDDSESVRTEALREIVTGWKHEPGILDLLKQRLVSDDSESVRREALREIVTGWKHEPGILDLLKQWVVSHDSESVRREALRKIATGWKHEPGILDVLKQWVVSHNSESVRREALQQIATGWKQEPGILDLLKQRLVSDESSDVRREALQQIATGWKHEPRILDLLKQRLVSDESSDVRREALEQIATGWKQEPGILDLLKQRLVSDESSDVRHEALRQIATAWKQEPGILDLLKQRLVSDDSESVRGEALRQIATAWKQEPGILDLLKQRLVSDDSESVRCEALQQIVTGWKHEPGILDLLKQWVVSDDSWLVRGLVVNQIATGWKHEPGILELLKQRVVSDDNMLVRGLVVNQIATGWKHEPGILELLKQWVVSDENWDVRGEALEQIATGWKHEPEILDLLKQRLVSDDNMLVRRKAVQQIATGWKYEPGILELLKQRVVSDESWLVRRGVLQQIATAWKHEPGILELLKQRLVSDDDSDVRREALGQIVAGWKDEPGILELLKQRVVSDESWYVRREALGQIATGWKHEPGILELLKQRVVSDESSDVRREALRQIATGWKHEPGILELLKQRVVSDGNLNVRREALRQIATGWKHEPGTFELFKQRVVSD"
       ]
      },
      {
       "output_type": "stream",
       "stream": "stdout",
       "text": [
        "\n",
        "\n",
        "Tery_2636: Total groups = 1\n",
        "Group 1:\n",
        "2 paths, Average identity = 87.78\n",
        "MYIQNLKQILIPSNSPKQNQKIFWLILSLTFVAIYSLLVIKQAFSGEYIVQDDARQHVFWMRRFLDPELFPDDLIADYFQSVAPWGYKTFYWLFSQIGIDPIFLNKLLPLGLSLATAAYCFGLCIEILPIPFAGFISSVLLNQNLWFQDDIVSGTPRAFLYPLFLAVLYYLLRKSLLPFLVAIALLGLFYPQYVILTALILIIRLFNWEKSQFCLSKNPQDYLFSGVGLGISLLVILFYVLNSSNYSPVITASQAKVLPEFGAAGRSVFFLQNYWDFFILGGRSGILPKQLFLPHILIVGLLLPILLKRKKGKTHNFDGGINLPRQLPLLKQISPNLKLLFQILLAGIVLFVIAHLLLFKLHLPSRYTNHSFRIVLAIETAIVLCVILEAIFHWINEQPSSQTRKILGLIIIGFLGIFLIGDMSLWKNFSYPDYQKGQSPEIYEFFAQKPKDILIASLSEEANHIPTFSQRSVLFAWEYAIPYHLSYYSQIKQRATEFIWAQYHLDIQWMKNFINTYGIDFLILDREAFMPEYVLKNPWLRQWYYQMGNQIEINLQNGNTPPIVGTIDKCSVLETEKLWVLEAKCIE"
       ]
      },
      {
       "output_type": "stream",
       "stream": "stdout",
       "text": [
        "\n",
        "\n",
        "Tery_2643: Total groups = 1\n",
        "Group 1:\n",
        "2 paths, Average identity = 85.06\n",
        "MGRKVLIGICGGIAAYKVCEVVSTLVKSGVEVRAILTDAAQQFITPLSLSTLCRYPAYTDQDFWQPSHGRPLHIQLGEWAELIVIAPLTANTLAKLVYGFADNLLTNTILASTCPILLAPAMNTDMWEQPTVRGNWQQVLTEKRFHVMAPSAGMLACDRVGQGRMGEPKEIITNIKSLLYTAGKRDLAGRKMLISAGGTREHLDPVRFIGNPSTGKMGTALAQAALHRGANVTLVHSIVGELVLSGVKVIEVVSAAQMQQAMLTHFAEADIVVMTAAVADIKPTEYYGKKLPKRSLPSSLPLTPVPDIVAELGKLKQSHQYLIGFAAQTGDIVAPALEKLRVKNLDTIVANPIDREGAGIGSNTNQGVFLDVEGRRLDIPSCSKLEMAHRLWDFVLESSG"
       ]
      },
      {
       "output_type": "stream",
       "stream": "stdout",
       "text": [
        "\n",
        "\n",
        "Tery_2649: Total groups = 1\n",
        "Group 1:\n",
        "2 paths, Average identity = 90.48\n",
        "MSPETIVKQSLETPSAYTKFNADNFNAYVMNTYGRFPIALERGEGCRVWDTEGKEYLDFVAGIATCTLGHAHHVMMATVSEQMQKLHHVSNLYYIPVQGELAQWLIQHSCADKAFFCNSGAEANEGAIKLARKYAHEKLNIENPTILTAHASFHGRTLATITATGQPKYHKGFSPLMPGFYYVPYNDITAIESAIAELDKDKRQVAAIMLEALQGEGGVRPGEITYFQRIREICNEKGILLILDEVQAGMGRSGKLWGYENLGIEPDIFTSAKGLGGGIPIGAMLCKSHCDVFEXGSHASTFGGNPFVCAVALAVCQTLEKENLLXNVQLRGEDLRTGLKAIAAKYPNLFREVRGWGLINGMELNSDVELTSIDIVKAAMNEGLLIVPAGPKVLRFVPPLIITETEVMEAMDALARAIANVV"
       ]
      },
      {
       "output_type": "stream",
       "stream": "stdout",
       "text": [
        "\n",
        "\n",
        "Tery_2661: Total groups = 1\n",
        "Group 1:\n",
        "2 paths, Average identity = 97.22\n",
        "MIIYKINNLLLTLNPPLLQIPNYLYHLITLVISTLLVLLTTPTIKKIALRIGLVDHPGGRKIHKQPMVRLGGVSIFISSLIALLIVWWLGGFIDTNGNILSPEKEFEIWGVTVGGVAFFVIGLADDLFGLSPLFRLFTQIIAASIAWVVGVQIQFLTIPFYGLAHINMLLSWPITVIWLVGMANAINWIDGVDGLAAGVSGIAAFMMLIVSIFMDQPAAALIAAALAGATLGFLRYNFNPAQIFMGDGGAYYVGFTLAGVGVIGLVKTTMVTSVVLPYLILAVPILDMSAVILDRLRNGKSPFIADKRHLHHRLLDAGLSQRLTVFFIYSLTLWVGSLAMAFSGIPXGTIYAFSATGLLAYTSWKVWKQKQA"
       ]
      },
      {
       "output_type": "stream",
       "stream": "stdout",
       "text": [
        "\n",
        "\n",
        "Tery_2662: Total groups = 1\n",
        "Group 1:\n",
        "2 paths, Average identity = 90.07\n",
        "MIAEIICVGTELLLGDILNSNAQFLAKQLANLGIAHYYQTVVGDNPERIKQVLAIATQRSQILIFTGGLGPTPDDLTVATIADFFNTPLIERPEIIEDITKKFARRGRIMTASNRKQALIPQGANILPNPIGSAPGIIWQPVVDVTIMTFPGVPTEMKSMWQETAIPYMQSQGWCEQTIYSRTLKFWGITESGLAEKIAPFLEMENPTVAPYANYGEVKLRISACAKSQDSADKLIIPVEEEIRDIAGIDFYGINDESLASVVGKLLLELGETLAVAESCTGGGLGSMLTSIPGSSEYFYGGIIGYENQVKITLLDVNEEDLIAEGSVSHTVAKQMASGVVNKLGTNWGISITGIAGPGGGSDTKPVGLVYIGIAKYKDKVESFEYRFSHLRDRDWIRRVSASSALDILRRRLXLSKQES*YHK"
       ]
      },
      {
       "output_type": "stream",
       "stream": "stdout",
       "text": [
        "\n",
        "\n",
        "Tery_2671: Total groups = 1\n",
        "Group 1:\n",
        "5 paths, Average identity = 84.60\n",
        "XALZYXEXALXIXQEVXXXXXEAXXJXXIGXVYXXXGXXZKALEXXXKALXIXQEVGXXXXXATTLXXIGXVYXXIXXXZXALEXXEKALXIXZEXGXXSXXAXTXXXIGXVYXXIGXXZKAJEXXZKALXIXQEVXXRSXXXXXLNXIGXVYXXIGXPZKALEYXZXALXIIIXXXXXXXSXXATXLXNIGXXYXXIGXPXXALEYXZXXLXIXXXXXXXSXEAXXXNNIGXXYXXXXXXXXALEYXZXALXIXZXVGXRXXXAXXLXNIXXVYRDSNQPEKAIXXXEXSVKIXLZXRGXLKXXNRKTFLXDNXNXXXPIALIDLLIDQNQXEAAWKWYNLAXTFXLADYTRLIXAXVKNPEXQKLINQWEQNXXXLQALYSZIEDGTTTQLSQQIKQLQAEXNXLAEBXXXKYXEVAELFEFEPKDIDXLKANIXPGTVVIQPALXTGIKDVXDSXAIFLVTRDXATLVKKLPIDAXEFDSILTEYRSQLEYPNADDYATNQEKLYDYLIRPIETEIAAYSPKRLAIIATGKLRYIPFETLYDNQTDQYLIAKYPIHYLTRISATRQEQQGPTNSQKVLAFGNPQPTKINLRGAEDEAKIIAENLSGKSLIREKATLSSFENESPGFPLVHLATHGCFQKGGCPTVGLEENTILFANNKTFNIANAARLGLENTDLIVLSACQTAMKADSNGEEIAGVAYLFERAGADAVIASLWNAEDGTTKDIMVKFYDNLKQGMTKVEALRQAKLSYAMENVSPFYWSPLILIGDGE"
       ]
      },
      {
       "output_type": "stream",
       "stream": "stdout",
       "text": [
        "\n",
        "\n",
        "Tery_2672: Total groups = 4\n",
        "Group 1:\n",
        "3 paths, Average identity = 88.45\n",
        "VGVDGLVWTNADHNPIEIKPESVIRVDEGEDIPRGMRNIINARYVVSKMEFEPEXQIWIITATLQSRKE\n",
        "Group 2:\n",
        "1 paths, Average identity = 95.65\n",
        "VGVDGLVWTNADQNPIEIKPESVIRVDEREGIPREMRNIINGRYVVSKMEFEPERQIWIITATLQSRKE\n",
        "Group 3:\n",
        "1 paths, Average identity = 89.86\n",
        "VGVDGLVWTNADQNPIEIKPESVIRVDEGEDIPRGMKNIINARYVVSKMEFEPERQIWIITATLQSRKE"
       ]
      },
      {
       "output_type": "stream",
       "stream": "stdout",
       "text": [
        "\n",
        "Group 4:\n",
        "2 paths, Average identity = 91.18\n",
        "VGVDGLVWTNADQNPIEIKPESVIRVDEGEDIPRGMRNIINGRYVVSKMEFEPERQIWIITATLQSRKE\n",
        "\n",
        "Tery_2676: Total groups = 1\n",
        "Group 1:\n",
        "26 paths, Average identity = 91.31\n",
        "XTRITIIXLVACLTLMARETREAIANPKSIVQAEAKSTVKPIPVALPXNGTVFLNSGDSRSGSVIDVNSEYITVKKGRSRGREAIANVXXIXFXGDLWWPTSDXMTVJRGXDVDKIGKXRRFX"
       ]
      },
      {
       "output_type": "stream",
       "stream": "stdout",
       "text": [
        "\n",
        "\n",
        "Tery_2724: Total groups = 1\n",
        "Group 1:\n",
        "2 paths, Average identity = 88.86\n",
        "MYMSNTNSLRYSISGVFIIAYKEDTTILEKTLQEQDFNYEILRQKHQPEYKNYSPSYLTLLNHKNAWIKASEQEKPSLIIEADFVPVINLGSLPLPFNLENYNVGIGWLYTCAPQIYSVSDENYAQGFSTSAVAYIITPRAALELIELENEVRLNSGTNNYSTWDSTIDEFLRSRSFENFVPFRNYGEHGGLPNLEHYRYGLSKVHRADILYDRLAFMPIYAGTDKFQIWRFFRERFQGRLKGILRLLIGRYLRLKIIMGSSFPLRLIXFAVLRQXLFRI"
       ]
      },
      {
       "output_type": "stream",
       "stream": "stdout",
       "text": [
        "\n",
        "\n",
        "Tery_2735: Total groups = 1\n",
        "Group 1:\n",
        "2 paths, Average identity = 85.11\n",
        "MTRCKCKSKXHIPLSERELQVLELVADGLTNEKIAEKLKISKRTVDNHISNILSKTSTHNRVELVRWALLWGKICLDNINCCQVKQLTK\n",
        "\n",
        "Tery_2741: Total groups = 1\n",
        "Group 1:\n",
        "2 paths, Average identity = 90.97\n",
        "LVITTLNITKSEEIFAAAQKLMPGGVSSPVRAFKSVGGQPIVFDKVKGAYIWDVDSNKYIDYVGTWGPAICGHAHPEVLNALKEILEKGTSFGAPCALENTLAEMVIDAVASIEMVRFVNSGTEACMAVLRLMRAFTGRDKVIKFEGCYHGHADMFLVKAGSGVATLGLPDSPGVPKSVTSNTLTAPYNDLEAVKQLFADHPDQISGIILEPVVGNSGFIAPDAGFLEGLRMITEENDALLVFDEVMTGFRIAYGGAQEKFNVTPDLTTLGKIIGGGLPVGAYGGRQDIMSMVAPAGPMYQAGTLSGNPLAMTAGIKTLELLHKPGTYEQLNRITKRLVDGXLAIAEETGHAIYAGHISAMFGIFFHKGPVHNYEYAKKSDLSKFSKFHRGMLEHGIYLAPSQFEAGFTSLAHTDEDIDQTLAAAKEVMSSL"
       ]
      },
      {
       "output_type": "stream",
       "stream": "stdout",
       "text": [
        "\n",
        "\n",
        "Tery_2743: Total groups = 1\n",
        "Group 1:\n",
        "2 paths, Average identity = 97.55\n",
        "MASTSSFDIVSDFDRQELVNAIDQAEREIKARYDLKDSNTTLELGEDTITINTSSQFSLDAVHTVLQTKAAKRNLSLKIFDFGKVESASGSRVRQEVKLQKGITQENAKKITKLIKDEFKKVQASIQGDAVRVSAKSKDELQAVMQRLKAEDFPMPLQFTNYR\n",
        "\n",
        "Tery_2744: Total groups = 1\n",
        "Group 1:\n",
        "2 paths, Average identity = 94.00\n",
        "MSLLELPPSSIFLDCIALGAILXYAPFLVVAYGRVTVGYDLGAPRAMFEKLPDYAKRATWAHQNSFETFILFAAASFMAXVTEXDSXLAIGASVAFVXGRFFYSXFYILDIPIGRSLMFAISSSGTAILFILSLISVNNF"
       ]
      },
      {
       "output_type": "stream",
       "stream": "stdout",
       "text": [
        "\n",
        "\n",
        "Tery_2745: Total groups = 1\n",
        "Group 1:\n",
        "2 paths, Average identity = 97.83\n",
        "LSQSIDLPKVDDFLEELLAIQQTGSKRIAMLGSRHVPITHQQLIELLSYALVLGSNHIITSGATGTNLAVVRGVXRADPNLVTVILPQSLERQPRESRKELEKVIHVVENPKNNQLSLGEASSICNQEIVSRCQQLICFAFHDSHTLLKTCQDAEEQRKVVTLFYLD\n",
        "\n",
        "Tery_2747: Total groups = 1\n",
        "Group 1:\n",
        "2 paths, Average identity = 84.06"
       ]
      },
      {
       "output_type": "stream",
       "stream": "stdout",
       "text": [
        "\n",
        "VPKSASYLLIGSTEAHSGKSTITVGLAHQLQAQGITIAYGKPLGNCLNTTSISTDADVQFITETLKLSQNSIRPTLLMLDKSNIERGLLGKEKTDYQKSLTQYLQIEGEDLVILEGPSNLDDGSLFELSLPQVAEITNSAVILVTRPNLHSYIDSLLSAKQRLGSSLMGVVINDVPLAALETITSLVKPFLEVRNIPVLGILPRSNLLRSVTVEELVKQLEAQVLCRSDRLGLIVESLTIGAMNVSSAMKYFRKARNMAVVTGGDRTDIQLAALETSTHCLILTGKLPPDESVLSTAEHAEIPVLSVECETLSTVEIINRTFGSVRLHEPIKVEFAKNLIAQHFDFERLLGHFQL"
       ]
      },
      {
       "output_type": "stream",
       "stream": "stdout",
       "text": [
        "\n",
        "\n",
        "Tery_2759: Total groups = 1\n",
        "Group 1:\n",
        "24 paths, Average identity = 94.58\n",
        "MMRSQKTMMVLFSLALNLVLVAPPVKAEPTVTITPSNLTVVGTKCPVFFDCPAXKRRLVLQTNQAIANLQILSLDLDRSDGTTVLQGSAINPXLSTTSVEPNQPLTIPVEFNLKDAKSGEFSGVLLAIHSDGQLVVPIIVRVKDHWLGPIFLLLLGVMVSIGMSAYRTDGRNRDEIVVLVSRIRNQMKADPELVESFQIKINGYLIDVETDLTNKRWDEAKQAVGKAQTTWDKWRKSREDWLALSKFESSLTDSLNNLTPDAPYVQTVGSYLENIERQTADKENPEQLRKELNDLRQQLVRYLGGEAKLERFDNLRNELTGSAQQEQALRDISQYLQQELNNLSPTELEAFQRWEQEIDNELKQLDQAIKQQIPNNEANSNLSITSRGVSSTYPPRLPNPVPDVRPLQLNPVGSARNLFLFQFFSYTIAIFLLAGAGFRQLYVTQPTFGANLWTDYFALLAWGFGAEATRDAVTKTIREWKLPGLK"
       ]
      },
      {
       "output_type": "stream",
       "stream": "stdout",
       "text": [
        "\n",
        "\n",
        "Tery_2760: Total groups = 1\n",
        "Group 1:\n",
        "8 paths, Average identity = 92.93\n",
        "ESDRTLRSVVSTYQPLRPWRFLPQANSIASRVNAVISYLQDKXRSDTKENALVLLLRLLKDLIEEEDQRHQQLVNLILELENAFADNSXLDNLKLETKTETIIRGTKKRKLEEEKRQPIKNRWAFLVGVNRYNDPGVHNLKFCVKDVQKLEKKLKELGYTVMCLHDSLESDSRRFPIHNNIEAELINLCNMVDVDDLLLVHFACHGKLGRDEQPMLIVRDTRLSTIEKTGLSLADMKKYMHSSKARRLVLTLDACHMGVETGREIDDPQFIHNAYELAEGFALIAASTAQQKALESPEKNSGVFTHYLIEGLNGEADREQKGFVTVDDIKTYVLYSLRRWSIENDQVIQEPTAKTEGLGDMIVADYRYSHD"
       ]
      },
      {
       "output_type": "stream",
       "stream": "stdout",
       "text": [
        "\n",
        "\n",
        "Tery_2764: Total groups = 1\n",
        "Group 1:\n",
        "2 paths, Average identity = 98.61\n",
        "MVKTXPASQIDLYSLEENFGLKRAYEPTFFXEWQENLPELTELEKQELVQVKXDYLRLSKRPMLEPLVKMVVLSPLLRAAGFYREPFFLSAEKQIKITSEDGGAIVTGKIEILVYTPQFWVLVIEAKRVEYSLQVGIPQILAYMLDSPEIEQSAFGFVTNGSEFRFVKLLKRDTIQYGLSRLFSIDSGEDLYTVVSIFKSLAQFVIQQN"
       ]
      },
      {
       "output_type": "stream",
       "stream": "stdout",
       "text": [
        "\n",
        "\n",
        "Tery_2766: Total groups = 1\n",
        "Group 1:\n",
        "4 paths, Average identity = 98.65\n",
        "RQYGLPLGVEDYMLVLRALQGGFGIGDRDSLERLCCTLWTKSEQEARLLHQLLGRAITNAPSSAELPQPVEDTPNPSPTSASTRPVSKESEEVMDSSTLPSTATPVGNISEQLEEKAPLKEPEIPVSKPSPLTDIPXEIDEPELVIQAIRHYNRSNEMISEXQDLAAQYLPVTPRQIKQSWRFLSRSVPQGISXKLNVPATVAXICQQCILIEAVLMPNYVNRVKLVLLVDQGGSMIPFHHLSRQLIDKARRGGNIEQASVYYFYNYPEIYFYSDPTRLKAQLITDILGAIDERAGVLMVSDAGAARSNYNPERIECTQRFIEQLRQSVRYYAWLNPMPNDSWQGTTAGEIARFVPMFEMSPQGFNAAINTLRGRYVYGKDFYELRRQKSL"
       ]
      },
      {
       "output_type": "stream",
       "stream": "stdout",
       "text": [
        "\n",
        "\n",
        "Tery_2810: Total groups = 1\n",
        "Group 1:\n",
        "2 paths, Average identity = 93.06\n",
        "MAVSLRASREGLLKVDIARKKKGWTKSEDAWWGLALTSKATLRRFWRSLSIQRDAFIAICENVGVNWEEIVDHTPPSPDSSTVKFFSYDYIWVGREDLIAELSTKVKESCRLLILVGLSGIGKTALAEKLAVELQEEFLQGDWSKFHQENLENNEVGDFRSVAFRWLKKWGESLTPDDYKDVERLLQRLVYRLRKHRYLIIIDSLENILVGNEDQGWNNFEDELWVRFWELFLASPECQSRIILTSQDFPEQIPERYQNFWEHKVLTGLRKSEQLQLFGKTGLEVEENSVNLPYLQSIGNAYEGHPLALRVIAGEICGKPFNGNVVAYWKRYGKEIEEVEKAIEEGRTQGVTVGADDKFQLDRYTRMLRKNVSQRLDKTFFRLQKDAINAYRLICVGAIYRCEVPESFWLKLLKSWQCDEEKQEVALQTLRDRFLVEDVGVDESGEXLLRQHNLIRSXSLEHLKKXDXXXGGIAEFMRSLFG"
       ]
      },
      {
       "output_type": "stream",
       "stream": "stdout",
       "text": [
        "\n",
        "\n",
        "Tery_2820: Total groups = 1\n",
        "Group 1:\n",
        "2 paths, Average identity = 91.25\n",
        "MQKILESINLDYAFMFTQKKVNSISMEGFEQFFADLPVDPYMKAKYRYRRLSRFIISGGEVIKQPHGYLFQSKNYNPLVGNIKREYAEIDDNLVALDNFKKMILAFCDSCKIHPEAEIGIHQIRTICSPNNLGNPAPEGIHRDGTDFIGIFAVNRHNIQGGATHLYTARKEKPVFSKILNPGDLLLVNDHEFFHFTTPIKPVTEEMGYRDVFVLTSPSLIH"
       ]
      },
      {
       "output_type": "stream",
       "stream": "stdout",
       "text": [
        "\n",
        "\n",
        "Tery_2831: Total groups = 2\n",
        "Group 1:\n",
        "27 paths, Average identity = 78.29\n",
        "MQSGQILRNHYKIIXSLGXGGFGDTYLAQDLDLPGXPKCVVKHLKPKSLDPIVJXXARKLFEREAXTLYKLGXBSDQIPRLFAHFXEGREFXLVQEYIEGQDISRELTPGKKLSESETIALVKGILEXLXVAHXNNXIHRDIKPXNLMRRXSDNXIVLIDFGAVKEIXXLTTNQXGATTLTVAVGTXGYMPSEQXXGKPKLSSDIYAVGMXGIXALTGKXPXXXXTDXXTGNXIWRNEAZVSXXLABILDKMVHZYFPQRYXNAXEALXXLQEATVXXXXXKPXQTSTAKRXXNXBPSQPLPNQNIIZLGXLXGSXXVXXXLXQXFNKPSPENIPTSELIPETPPKNISTPQPTPSPTPSPRXKXXIXXFXTVTVXXRGEIXSRPQGQAEXXTENIGNGVSLEMVKIPGGRFLMGSXXTEAXRXSSEGPQHYVDVPEFFMGKYAVTQGQWEAVMGNNPFRIQSXFXXASRPVXXVSWYBXTXFCQKLSQITGKKYSLPSESQWEYACRAXXTTPPFYFGXTITSXLVNXXXXXTYADAPXGXYRKETTBVGIFXPNAFGLYDMHGNVXEWCADEWHXNYBGAPTXXSVWLDGBKXXSXLRGGSWAXXPXXCRSAXRXXXXXRDXXXBXXGFRXVCDGGRTL"
       ]
      },
      {
       "output_type": "stream",
       "stream": "stdout",
       "text": [
        "\n",
        "Group 2:\n",
        "1 paths, Average identity = 70.86\n",
        "MQSGQILRNHYKIIKSLGHGGFGDTYLAQDLDLPGNPKCVVKHLKPKSLDPIVLNTARKLFEREADTLYKLGNDSEQIPKLFAHFREEREFFLVQEYIEGQDISHELTPGKKLSESETIALVKGILEALTVAHQNNVIHRDIKPQNLMRRSSDNKIVLIDFGAVKEIDILTTNQQGATTLTVAVGTPGYMPSEQSNGKPKLSSDIYAVGMVGIRALTGKDPQNLLTDSKTGNVIWRNEAEVSNHLADILDKMVHEYFPQRYQNAMEVLEILPEMTVKVNPPKSKQTSTAKTGLKVNPPQLLTHKTRRQMLILGGLAGSGFVGALLTQRFLNKRSQEKFSNSISLLQVRSSPISPPGLKTRFQKFATVIVDGRGEIIRSPQGRAEVIIENIGNRVFLEMVKIPGGRFLMGSPETEAERLSHEGPQHYVDVPEFLMGRYAVTQGQWEAVMGNNPSGFQGASRPVETVSWYDAVEFCQKLSQITGKKYSLPSESQWEYACRAGTTTPFSFGETIRSELVNYDGNYPYANAPKGKYRAQTTDVGIFLPNSFGLYDMHGNVYEWCQDFWHESYNGAPTDGSAWQTGGDSGKRLLRGGCWLNYSWICRSAERIYGNVDNFKEDRGFRVVSSVA"
       ]
      },
      {
       "output_type": "stream",
       "stream": "stdout",
       "text": [
        "\n",
        "\n",
        "Tery_2843: Total groups = 1\n",
        "Group 1:\n",
        "3 paths, Average identity = 90.36\n",
        "VQLQTKVSIKQATGAFALIDSLKRHGVKHIFGYPGGAILPIYDELYRAEAAGDLQHLLVRHEQGASHAADGYARATGQVGVCFATSGPGATNLVTGIATAHMDSIPMVIVTGQVGRPMIGTDAFQETDIYGITLPIVKHSYVVRDPRDMARIVAEAFHIASTGRPGPVLIDIPKDVGLEEFEYEPVEPDSIRLPGYRPTVKGNPRQINQAINLIREARRPLLYIGGGAISASAHGEIKELAEHFNIPVTTTLMGKGAFSEHHLLSVGMLGMHGTAYANYAVSECDLLIAVGARFDDRVTGKLDQFACHAKVIHIDIDPAEVGKNRSPDVPIVGDVRKVLLDMLDRCRKTGDHVNSNQTQPWLERINRWKRDYPLVVPQYSDSMSPQEVIDKIGKMAPDAYYTTDIGQHQMWAAQFLKNGPRQWISSGGLGTMGYGMPAAMGVKVALPNREVICISGDSSIQMNIQELGTLAHYDINVKTVIINNGWQGMVRQWQEAFFGERYSSSNMEVGMPDFVKLAESYGVKGMMISSREELEEAIAQMLAHDGPVLMDARVTKNENCYPMVAPGKSNAQMIGLPIRKQLEQAVE"
       ]
      },
      {
       "output_type": "stream",
       "stream": "stdout",
       "text": [
        "\n",
        "\n",
        "Tery_2845: Total groups = 2\n",
        "Group 1:\n",
        "1 paths, Average identity = 93.43\n",
        "MVKNLIPYLFIGAYLLLTLVIGIIGYRSQKNTPEDYFLAERKIGSIVLFFTLIATNFSAFAFLGLSGAGYRIGISYYPMIGFGTALVGITFYFIGYKVWLLGKEKGLITPSELIANRLPSQPLKLTFSAVMVIFTIPYLTLQPIGGGYLLENLTNGQIPYFWGAAFLTFIIVLYVFIGGMKSVALTDVLQGVLMWILMILAVVTISQSIGGFTEANQTVYKLKPELFSRSGANNFFTPHKWFSYMLLWGLSVPMFPQMFMRFYTPKNPNSLKLSASLYPLITCTMFICPVLIGIWGHINFPDLVGKEADKIFPMMLAEYTSTTIASLIMVGALAAFMSTLDSQLLALSSMMTRDIYIVYIRPQATLREQTFVGKIFIVILAIIGLINAANPPETIAAIATQAFTGLAVLFPTVIAALYGKNISPLSCLISMIFGEMAVLGFQVDIIPKSWALGFLPVVPIVVICSLIIVVFCGE"
       ]
      },
      {
       "output_type": "stream",
       "stream": "stdout",
       "text": [
        "\n",
        "Group 2:\n",
        "1 paths, Average identity = 90.21\n",
        "MLENLIPYLFIGAYLLSTLIIEIIGYRSQKNTPEDYFLADRKIGSIVLFFTLIATNFSAFAFLGLSGAGYRIGISYYPMIGFGTALVGITFYFIGYKVWLLGKEQGLITPSELIENRLPSQPLKLLFLAVMVILPYLI*LCNNRWRLYARKFN*WANPLFFGSSFFDFHNCLICVCGRHEKCSLNRCFARDINVCFNNSCSHSYIPKYRWLY*S*SNCLSTQTRAFFSFWYQ*FFHSPQMV*LYVTLGFKCADVSPNVYAVLYSQNC*FPQTFC*FISINYLHNVYLSGFNWNVGSY*FSRFSWNRSR*NFSHDVN*IYLNWHCFISNGRSFGSLYVNS*FSTFSIKFHDK*GYLYCLYSPPSFPKRTNFCR*NFNRYFSNNWFDFSRESSGNNCCDRYSSFYRFSSIISHSYCRFIWEKYFTLELYNFHYFWINSSY*FSGKYYS*KFGFRISASSADSVNL*FNYCRFFEE"
       ]
      },
      {
       "output_type": "stream",
       "stream": "stdout",
       "text": [
        "\n",
        "\n",
        "Tery_2846: Total groups = 1\n",
        "Group 1:\n",
        "2 paths, Average identity = 97.22\n",
        "MNAYKKYVIIDNPQQLVLSDLPFSAGQKVEIIILAEEHNEVDSQLEELRQKIDSATEQILAGNVTDGELVFEQLQARLKNEYXLE\n",
        "\n",
        "Tery_2848: Total groups = 1\n",
        "Group 1:\n",
        "2 paths, Average identity = 78.98\n",
        "MVLDXNAMENEXLWXKRSTITQGTSVRLAIEVVSXNWQDDYLMKLGEYEKLGINEYWIVDYLGLGGRRYIGNPKQPTISVYHLVEGEYILNLFRDENVVASPTFPELNLRAEQIF"
       ]
      },
      {
       "output_type": "stream",
       "stream": "stdout",
       "text": [
        "\n",
        "\n",
        "Tery_2878: Total groups = 1\n",
        "Group 1:\n",
        "2 paths, Average identity = 95.44\n",
        "MTCHNNTVTISQPTNATKKVALIGMPNTGKSTFFNRITGVSAHVGNWPGITVDLFQAEVKINQEITQFVDLPGIYNFNGFSEDEKVVQNFLENNPIDLVIVIINSSQIDRQIMLPLQVKALGLPAVLMLNMSDEAQQYGIKIDTEELSKRLSMPVFLISAKYGKGYMNAYMEISQQLKESKNSVQLDSNKIKENISVREIDTILNGTVVMPSQMAQNFTAQVDKILLHPVWGLPLFFLGMFLVFWAVWNIGLPSVDLLEIGVEWAQSSIVEPLLQPFPQILQDFLINGLWAGVTTVASFVPLIIVFFIIMAVLEDSGYLSRSAYLMDAFMARLGLDGRSFVLHIMGFGCNVPALMGTRVMRSRALRLLTMLIIPFGLCSARLQVFVFIIAAVFPNGKGAIVLFSLYILSFLVAIITAALFKGVYKNEEPFVLEIPPYRFPTWKQVLLRSWGEVREFLVRASGFITFGCIGVWILTSLPPGATGLDTIGGQIGQFMSPIMDPIGINPYLTLSLFFGFIAKEIVIGSLAVIYSMSEQNVSSNITETVTFIQGYSFCIFCLLYTPCLSTLATLIKEAKSWKFSLLSLIFPLXLAWFSSFIFYQGALALS"
       ]
      },
      {
       "output_type": "stream",
       "stream": "stdout",
       "text": [
        "\n",
        "\n",
        "Tery_2889: Total groups = 1\n",
        "Group 1:\n",
        "2 paths, Average identity = 73.42\n",
        "MELITNINVYQEYQLCVSRVSTFKI**YYGNLALYSFDKLV*TSNRFS*VENSNSTNSG*CTNFGGKISKEIVLSIKSCM*TI*IWCWFH*Y*SRGTGNKY**FIRYKKLCKKWIRYSPKIRRCY*QRYSIGIRDFES*SQLLWHNSTC*SFHSR*WNIISIIRISFSSIRRPRICP*I*AIIYNRF**NGRFYCCRFEKILMER*TFKFNGISFLCLEYFFAK*E*LELYRMYLNQRQIGFN*EEK*KYIKRKCL*HK*CFI*IFISCSH*TIYFSL*SKIQKCWHTKKLFRKC*TGSLRFN*TRKQLHVKTH*CEKIS*STSTKIRFDIYFDLDSATS*FMGKITKLT*F*WRINSSKVL*I***TQQNFYTISFPDVTNLQNYRKSICIYMY*PKRCHFPN*KEVNKFGCRRDYC*"
       ]
      },
      {
       "output_type": "stream",
       "stream": "stdout",
       "text": [
        "\n",
        "\n",
        "Tery_2895: Total groups = 2\n",
        "Group 1:\n",
        "1 paths, Average identity = 86.40\n",
        "LIKQEISQMLLHGIKDNRVGISMVSVTDVDVSGDLQHAKVFVSIYGSDQVRSETMAGLRSATGYVRGELGHRMRLRRTPEVIFIEDRSLERGTEIVSLLNKLSQERQKHQTEDIVHQESQQDIIE\n",
        "Group 2:\n",
        "1 paths, Average identity = 85.60\n",
        "LIKQEISQMLLHGIKDNRVGISMVSVTDVDVSGDLQHAKVFVSIYGSDQVRSETMAGLRSATGYVRGELGHRMRLRRTPEVLFIEDRSLERGTEIISLLNKLSQERQKHQTEDIVHQESQQDIIE\n",
        "\n",
        "Tery_2914: Total groups = 1\n",
        "Group 1:\n",
        "4 paths, Average identity = 87.40\n",
        "MSKEFEGKIALVTGGSSGIGRATAIAFAKKGAKVVIASGRETESEETVAMIKEVGSEAIFFKTDITQAIXVENLVNQTINTYSRLDYAFNNXGIEGIVRPSIEQTEENWNQVIBXNLKGVWLSMKYQIPEXLKNGGGAIVNNASIXGLXGSXNXSIYCASKHGVIGLXKAVALEQATXGIRINXVCPGXIQTDMVDRAFGKXDESEAKVQIVAAHPISRIGQPEEXANAVVWLCSDAASFITGHSLXIDGGXTVQ"
       ]
      },
      {
       "output_type": "stream",
       "stream": "stdout",
       "text": [
        "\n",
        "\n",
        "Tery_2931: Total groups = 1\n",
        "Group 1:\n",
        "3 paths, Average identity = 90.82\n",
        "MTANKQNIRQPYDGWSLDERDPKVIKSMMPFWEWFYRYYFRVQTDGWDNIPDEKILIVGSHNGGLPAPDMHMCMYDWFKRWGPERLVYGLMHPNAWSVFPGLTPLAAKCGAVRAHPKMAIAAFQRNASVVVYPGGGPDVFRLHSMRNKIYFAGRKGFIKLALREEVPIVPMISHGAHDTLIVLANFYEQXKQLHEWGMPWLFDVDPEVFPIYIGLPWGLAIGPLPNFPLPTQIHTRVFPPIVFERYGRKAASDHDYVDACYQKVLTQMQQELDQLILSTS"
       ]
      },
      {
       "output_type": "stream",
       "stream": "stdout",
       "text": [
        "\n",
        "\n",
        "Tery_2937: Total groups = 1\n",
        "Group 1:\n",
        "2 paths, Average identity = 90.12\n",
        "MIFYNRVINKGQLKKLISWSFNNYGTAITAQIANNLKDLGFRYATKAGVSISVDDLQVPPSKRKLLDEAEQEIRDTTERYTKGKITEVERFQKVIDTWNSTSENLKDEVVRNFRATDPLNSVYMMAFSGARGNISQVRQLVGMRGLMADPQGEIIDLPIKTNFREGLTVTEYIISSYGARKGLVDTALRTADSGYLTRRLVDVSQDVIVREADCGTKRGVIVASMKDGERVLIPVKDRLLGRVLAGDVKHPETGEIVSSDNILAVKNQVLTEELAKAIGKAGVEKVFVRSPLTCESPRSVCQTCYGWSLAHGHMVDMGEAIGIIAAQSIGEPGTQLTMRTFHTGGVFTGEVARQFVASFAGVVNYPSHLRARSFRTRHGDEAMIAENNFDIVILGVDGRKEAIPIAQGSILMVQNNQEVSAGTVLAEVQKVGQVRKTTEKVTKEVASDLAGELKFAQLVQEEKVDKQGTTTRIAQRGGLIWILEGEVYNLPPGAEPTVRNGTTINMNSVLAETKLVTEHGGLVRIPSAPLYSLGEQTDTNILDQETQGSTTDELEESTTATSAQLPVLTEAQDBLPREIEVITASVQLDQARVRLESVANRDQYIIEXQDNQRFALKVTPGSKVGNYEVIAELLXXNYQTYTGGIIKYAGVEVLKRGKAKQGYEVVKGGTLLWIPEECHEVNKDISLLLVEDGQYVEAGTEIVKDIFCQSSGVXEVHHKNDILREVVIKPGKLHSGBYEIDLGDLSLMDGQIATPGQEVIPGLVTSELKYIEYIETPDGPGLLLRPVTEFHVPEXPAVPSQKSINXSIELRAIQRIPFKDGERVKSVEGIELLRTQLVLEIGEEAPQLAADIELSPDPEEEGVMRLQLVILESLVIRRDVVADTTHGSTSTRLLVKDGDLIEAGGVVSRTEILSKESGEIRGIREGLEAIRRVLIVREVDLVKIPVNVLPSVAEGDLLVAGTEIAPGTVTPKSGMVSKVEQTVLDDGSKSYHVVLRKGRPYRVSTGAVLLTIDGDLVQRGDSLVLLVFERTKTGDIIQGLPRIEELLEARKPKESCVLVKYPGQAQVNVNDDNVEVSVVSSDGTITDYPLGHGQNVIVADGQNVDVGEPLTDGPQNPHEILETFFNYYREHESAYEACLRSFEACQKFLVNQVQAVYQSQGIDISDKHIEVIVRQMTAKVRIDDGGDTTMLPGELIELRQVEQVNEAMSITGGATAQYTPMLLGITKASLNTDSFISAASFQETTRVLTEAAIEGKSDWLRGLKENVIIGRLIPAGTGFNAYEDALSAEINRLEQSWDDDVDLFEEEDLQSVVLDDQTARSLELENSLNLSSVSHNFVDSQSIPQDQSQFIDDTIPEFSPLKNQSGSILDDSDFPPDNFDSDFPPDNFD"
       ]
      },
      {
       "output_type": "stream",
       "stream": "stdout",
       "text": [
        "\n",
        "\n",
        "Tery_2940: Total groups = 1\n",
        "Group 1:\n",
        "4 paths, Average identity = 89.80\n",
        "LGXSKINXKSQMQLIDTHVHINFDVFNSDLEEVRKRWEEAGVVHLVHSCVGPDEFLSIKAIADSFPELSYAVGLHPLDAHKWTSTTANQIQNFATSDPRVVAIGETGLDFYKADNQKQQKFVFKQQLTIAQELNKPLIIHCRDAANSMAEVLYDFQTNQRPIRGVMHCWGGTPEETKVFLDLGFYISFSGIVTFKSATQIQESAKIVPDDRLLVETDCPFLAPVPKRGKRNEPAYVKYVAEKVAELRGVTLXSLAGQTSKNACQLFGFSVH"
       ]
      },
      {
       "output_type": "stream",
       "stream": "stdout",
       "text": [
        "\n",
        "\n",
        "Tery_2958: Total groups = 2\n",
        "Group 1:\n",
        "1 paths, Average identity = 76.74\n",
        "MPSPYSYDLRQKVIKAIDGGMSKTQVSSIFKISRNTINTWLHR\n",
        "Group 2:\n",
        "1 paths, Average identity = 76.74\n",
        "MPSPYSYDLRQKVIKAIDGGMSKTQVSSIFKISRNTINTWLHR\n",
        "\n",
        "Tery_2959: Total groups = 1\n",
        "Group 1:\n",
        "2 paths, Average identity = 91.62\n",
        "MELSTNITIPVAPADYKSGFVGIIGRPNVGKSTLMNQLVGQKIAITSPVAQTTRNRLCGILTTEVAQMIFVDTPGIHKPHHRLGKVLVQNAKIAIQSVDLVLLVVDGSMIAGGGDRYIIDLLHKIQTPVILGMNKLDLQPQDAWEIEASYYQLINPHPWQIIKFSALTGVGVETLQNLLIEHLETGPYYYPPDLVTDQPERFIMGELIREQILLYTREEVPHSVAIAIDRVDEESTITRILATINVERSSQKGILIGKDGNMLKAIGSAARQQIQKLIAGKVYLELFVXVQPXWRQSXIQLAELGYQVEE"
       ]
      },
      {
       "output_type": "stream",
       "stream": "stdout",
       "text": [
        "\n",
        "\n",
        "Tery_2960: Total groups = 2\n",
        "Group 1:\n",
        "1 paths, Average identity = 92.81\n",
        "MKKFATLLGSLCTLVVTNLPLPALAIPSDFDYKSSPEEYHPLPDLSIPYRTLPRKFDFPIITEIDIDNNVSTDNPITDAFVDNLPSIPTGITLDELLRYRAEYTAAIEAWGEEVTECLNQKPRLLRVSTGSPVIINGVEGTIVRNANNRAICK\n",
        "Group 2:\n",
        "1 paths, Average identity = 92.16\n",
        "MKKFSTLLGSLCTLVVTNLPLPALAIPSGFDYKSSPEEYHPLPDLSIPYRTLPRKFDFPIITEIDIDNNLSTDNPITDAFVDNLPSIPTGITLDELLRYRAEYTAAIEAWGEEVTECLNQKPRLLRVSTGNPVIINGVGGTIVRNANNRAICK\n",
        "\n",
        "Tery_2966: Total groups = 1\n",
        "Group 1:\n",
        "2 paths, Average identity = 96.85\n",
        "MLGQASESKKKIYQIIYGYWQSQCVYTATNLGIPNLLHYGPQTVEIIAEKTGTKAEKLYVVLRALAHLGIFVEKPDRVFAATELSELLITDDSPSIGHFLMHITEPNMWDGWRELESGLKTGKVPFEIAKEQDFYSSYMNENPQSKNLFNNAMSFLTAEAVDPLFEVYDFSRFKTVMDIGGNQGTLIANIVKKFGCQGILFDLPHEVETAPNNISKYGVLDSVKIIGGSALESLPKGADAITMKYFLSVFNQEDSIKVLTNCREALPQDGRVILLQTLVPSLGAPVEYPDGTIPALAAVQMMITNPGGYWRTEEEYKNLFAASGFKLEQVVYTGTSLTVMEFSPC"
       ]
      },
      {
       "output_type": "stream",
       "stream": "stdout",
       "text": [
        "\n",
        "\n",
        "Tery_2974: Total groups = 1\n",
        "Group 1:\n",
        "5 paths, Average identity = 87.74\n",
        "MEKQIWXXITFIXFLXXFXXVGIYSXTQKQNTTTDYLLASRNVNPWLTXLSAMATXXSGFLFIGXIGFXYKXGXASIWXPLXWTIGBXIAWXXIFKXLRXVSQQXDSDTXSSFLGQENXGXKNQGRLITIISALITIXXLGTYAXAQLVAASKGLXAIFXWNYQXGIIIGAVIVVAYCFSGGIRASIWTDSXQGXLMIXSLWVLXIVSLIACGGFXELXAKLNAIDPTLTNWIPTNLPWGFFPYFLGWLVAGFGVVGQPHVLVRAMAIDSXDNIALARNIXXVCGLXNXXXAXGIGLTARVXLPXLMTXXDPELALPNLSIELLPXILVGLMLAGJFXAAISTADSQXLSCSAALSQDLVPSXXXSYRKAKIATLVVXAIVLAIALXTNNSVFALVIFSWSVLACALGPLLVLRVWQKPVSXPVXITMMITGIVVAIIWNXGXNLSSAIXEVLPGMXAGFIVYGIANXXVWPKXXSKQ"
       ]
      },
      {
       "output_type": "stream",
       "stream": "stdout",
       "text": [
        "\n",
        "\n",
        "Tery_3014: Total groups = 1\n",
        "Group 1:\n",
        "3 paths, Average identity = 87.58\n",
        "VRKRYYPLNSLKEGHWFKLICGASFQHLPTVRNLTLAYTLAGADCIDVAADQATIAAAKEAVQVASQLNYWAKNQEFGYQGRPFIMASINDGEDPHFRKAEFDPTICPTGCWRPCEKVCPAEAIVFSEKDXAVSDDYSGVMDELCYGCGRCLSICPNQLIQARSYVSTPSSIASLVLQTGVDAIEIHSQIGRESDFQRLWKSIKPWVNQLKLIAISCQDGEGLIEYLQSLYEIISPLPCSLIWQTDGKPMSGDIGAGTTAATIKLSQKVLDAGLPGYVQLAGGTNNSTVVKLMALGLLANKNLEQDKNYIKNFNTPISENKFIAGVAYGSYARVLLSPILEKLEKMHKSQLEAIEFAYDTTGVNTKDINQNQSQNSQLTKLETVPEVLWEAVSSASSLVSQIKRF"
       ]
      },
      {
       "output_type": "stream",
       "stream": "stdout",
       "text": [
        "\n",
        "\n",
        "Tery_3036: Total groups = 1\n",
        "Group 1:\n",
        "2 paths, Average identity = 87.19\n",
        "MTQSQTNSTQYPSFNISELESQLKSGSEKKQLQVIPYFPETGDEGLEILMEFLQQKKSDLPTIVEGKIYQVLRQVKSSKVDDFLQKNFPLGVVPINPESNIDYSHLQIKLAHQDFLEADKLTMQKLCELVGEAATQRKWLYFSEVDSIPIPDLKIINTMWLIYSEGKFGYSVQREIWLGVGQNWEKFLPKIGWKNGNTWSRYPDQFTWNLSAPKGHLPLSNLLRGVRMFASILSHRAWSK"
       ]
      },
      {
       "output_type": "stream",
       "stream": "stdout",
       "text": [
        "\n",
        "\n",
        "Tery_3048: Total groups = 2\n",
        "Group 1:\n",
        "3 paths, Average identity = 71.29\n",
        "MTTLTASQLNSTGNISGLKFNDINGNGRLDPNESGLPNFTIYLDINNNGSLDFNEPANITNNFGGYLFNNIPTNTYTIREIQQPGFNQTTPTPIVDLIPGSNLTNINIGNIGNLSNLGQISGTKFNDINTNGKFDPGEFGLQDITLYLDLNQNGFLDEGEPRTITGVNGEYSFQDLPPNTYILREVSPPDFTPTTPDPILNVTPGSNLISNIGNVSNRGQISGVKFNDINTNGKFDPGESGLQDITLYLDLNQNGSLDEGEPPTITGVNGEYSFQDLPPNTYILREVSPPDFTPTTPDPIINVTPGSNITNVNIGNINNRGQISGTKFNDTNTNGIFDPGELGLADITLYLDLNQNGFLDEGEPPTITGINGEYSFQDLPPNTYIIRETKVPDFDQTTPDPIINVTPGSNITNVNIGNINNRGQISGTKFNDTNTNGIFDPGEXGLADITLYLDLNQNGFLDEGEPPTITGIXGEYSFQDLPPNXYIXREXXXPXFXQTTPXXXXBVTPGSNITNXNIGNXNNRGQISGTKFNDTNTNGIFDXXEXGLXBITLYLDLNQNGFLDEGEPPTITXXNGEYSFQDLPPBTYIIRETQAPDFDQTTPDPIINVTPGSNITNVNIGNXXNRGZIXGXKFNDTNXNGIXBPGEXGLABXTLYLDLNXNXXLDXGEPXTITXXXGXYSFZDLPPNXYXIREXQXXXFXQTTXDPXXBVXPGSNIXBVNIGNXXELV"
       ]
      },
      {
       "output_type": "stream",
       "stream": "stdout",
       "text": [
        "\n",
        "Group 2:\n",
        "1 paths, Average identity = 75.00\n",
        "NIGNVSNRGQISGVKFNDINTNGKFDPGESGLQDITLYLDLNQNGSLDEGEPPTITGVNGEYSFQDLPPNTYILREVSPPDFTPTTPDPILNVTPGSNLIFNIGNVSNRGQISGVKFNDINTNGKFDPGESGLQDITLYLDLNQNGSLDEGEPPTITGVNGEYSFQDLPPNTYILREVSPPDFTPTTPDPILNVTPGSNLIFNIGNVSNRGQISGVKFNDINTNGKFDPGESGLQDITLYLDLNQNGSLDEGEPPTITGVNGEYSFQDLPPNTYILREVSPPDFTPTTPDPILNVTPGSNLIFNIGNVSNRGQISGVKFNDINTNGKFDPGESGLQDITLYLDLNQNGSLDEGEPPTITGVNGEYSFQDLPPNTYILREVSPPDFTPTTPDPILNVTPGSNLIFNIGNVSNRGQISGVKFNDINTNGKFDPGESGLQDITLYLDLNQNGSLDEGEPPTITGVNGEYSFQDLPPNTYILREVSPPDFTPTTPDPILNVTPGSNLIFNIGNVSNRGQISGVKFNDINTNGKFDPGESGLQDITLYLDLNQNGSLDEGEPPTITGVNGEYSFQDLPPNTYILREVSPPDFTPTTPDPILNVTPGSNLIFNIGNVSNRGQISGVKFNDINTNGKFDPGESGLQDITLYLDLNQNGSLDEGEPPTITGVNGEYSFQDLPPNTYILREVSPPDFTPTTPDPILNVTPGSNLIFNIGN"
       ]
      },
      {
       "output_type": "stream",
       "stream": "stdout",
       "text": [
        "\n",
        "\n",
        "Tery_3084: Total groups = 1\n",
        "Group 1:\n",
        "4 paths, Average identity = 90.84\n",
        "LPAQQIKQILQSPNTSHFQGKRDYAILRLLWDNALRRSEVVAIDIGDISLRERTIWIKGKGRQDKARITINHRTVAALKDYLLVRKGSKNDPLFISLSSANRGNRLADDTVYNLVKRTCSELGIEKPMSPHKIRHSAITHCLDKSNGDIRKVQQYSRHKNVQTVLVYDDNRRDYQGQMTDLMGEDF"
       ]
      },
      {
       "output_type": "stream",
       "stream": "stdout",
       "text": [
        "\n",
        "\n",
        "Tery_3141: Total groups = 6\n",
        "Group 1:\n",
        "1 paths, Average identity = 96.72\n",
        "MRHKAVGKETGQTSYIERFNNTMRQRIGRLVRKTLSFSKKLSNHIGAIWNFVHHYNNTICT\n",
        "Group 2:\n",
        "1 paths, Average identity = 91.80\n",
        "MRYKAVGRKTGQTSYIERFNNTMRQRIGRLVRKTLSFSKKLSNHIGAIWNFVHHYNNTICT\n",
        "Group 3:\n",
        "1 paths, Average identity = 72.88\n",
        "HKSVGKETGLTAYIERLNNTLRQRISRLVRKTLSFSKKLENHLGAIWYFINHYNEAIAS\n",
        "Group 4:\n",
        "1 paths, Average identity = 77.19"
       ]
      },
      {
       "output_type": "stream",
       "stream": "stdout",
       "text": [
        "\n",
        "HQAVGKETGKTSYIERLNCTLRQRVSRLVRKTLSFSKKLENHIGAIWNFIHHYNASL\n",
        "Group 5:\n",
        "1 paths, Average identity = 72.88\n",
        "HKSVGKETGLTAYIERLNNTLRQRISRLVRKTLSFSKKLENHLGAIWYFINHYNEAIAS\n",
        "Group 6:\n",
        "1 paths, Average identity = 73.33\n",
        "GHRAVGKDTGITSYIERFNNTMGQGKGNLVKKTLSLSKKLMNNIGTIWNFIHHYNPTIFT\n",
        "\n",
        "Tery_3143: Total groups = 1\n",
        "Group 1:\n",
        "2 paths, Average identity = 85.09\n",
        "IMKLKHLINLHKANTFIFVLAIMIAYQNFTLGPWVYLALHGTYGILWLLKDRIYPDKQWEQKIPILQGIILFVVVCLYWVAPYILISSGTEPPIPLVAAAISLNIFGIFFHYSSDAQKYYTLKYRPGLITEGFFARCRNTNYLGEIFIYLSFAMLAQHWLPYLILGGFFALIFIPNMLKKDKSLSRHLEFTEYKANSGLIIPQLWGDNSLNQEAQKVSE"
       ]
      },
      {
       "output_type": "stream",
       "stream": "stdout",
       "text": [
        "\n",
        "\n",
        "Tery_3161: Total groups = 1\n",
        "Group 1:\n",
        "2 paths, Average identity = 88.89\n",
        "MKIPVSKINWTVPRLAITIGDPGGIGPEIVMKALADPRVTENCDLTIVGSRQILQETYQKLSLEKLVYWENLKILDVEFDGKLEDIFLGKGNAVSGEASFCYMETAIAQTLTGEFHGIVTAPISKTCWQTAGHEYPGQTELLAEKAGVKKFGMLFVAHSPHSNFVLRSLLATTHIPLCQVPVTLTPELMSWKLELLVESLQKDFGISRPKIAVAGLNPHSGENGQLGTEEKDWLISWLDKESDRRPNIRLYGPVPPDTMWVKPSQAWLGLQALTYDAYLALYHDQGLIPIKLMAFDLAVNTTIGLPFVRTSPDHGTAFDIAGQGIADATSMKAAIQLGKELVLQRI"
       ]
      },
      {
       "output_type": "stream",
       "stream": "stdout",
       "text": [
        "\n",
        "\n",
        "Tery_3174: Total groups = 1\n",
        "Group 1:\n",
        "2 paths, Average identity = 90.05\n",
        "MKIGIPKEIKDQEFRVGLTPASVRVCAEAGHQVFIETEAGLGAGFSDSDYLQAGGHISSDTGEVWNCEMIVKVKEPLSSEYQFLKSEQLLFTYLHLAADRKLTERLIESGVMAIAYETVELSDQRLPLLTPMSIIAGRLSVQFGARFLESQQGGRGVLLGGVPGVSPGQVVILGGGIVGTEAAKIAVGLGARVQILDINLERLAYLETVFGSRVELLYSSSSSIEAVVADCDLLVGAILVPGRRSPVLIPKSLVEQMRSGSVIIDVAVDQGGCVETLRPTTHTNPTYLELGVVHYGVPNIPGAVPWTATQALNNSTLPYVLQLAKYGHKALEMNPALAKGLNVKNHVLVHPAVREVFPDL"
       ]
      },
      {
       "output_type": "stream",
       "stream": "stdout",
       "text": [
        "\n",
        "\n",
        "Tery_3175: Total groups = 82\n",
        "Group 1:\n",
        "2 paths, Average identity = 78.92\n",
        "MPYSLDFRQKVINFIENGXKITKAAHTFGIGRASIYRWLSRPTLEATKVKIRQRKLDWKEL\n",
        "Group 2:\n",
        "1 paths, Average identity = 81.97\n",
        "MPYSLDFRQKVINFLENGGTITKIAHTFGIGRASIYRWLSRPKLSATKVKSRKIKLDWKEL\n",
        "Group 3:\n",
        "4 paths, Average identity = 73.33\n",
        "MLYSLDLRQKVINIVENGGTIT*ASHIFGIGIASIYRWLSPPKLSATKXKNRRKKLDWKEL"
       ]
      },
      {
       "output_type": "stream",
       "stream": "stdout",
       "text": [
        "\n",
        "Group 4:\n",
        "1 paths, Average identity = 86.89\n",
        "MPYSLDFRQKVINFVENGGTLTKVAHTFGIGRASIYRWLSRPKLSATKVKSRQIKLDWKEL\n",
        "Group 5:\n",
        "2 paths, Average identity = 80.33\n",
        "MPYSLXXRXKVIXFVXNGGXITKXAHTFGIGXASIYRWLSRPKLSATKVKXRQIKLDWKEL\n",
        "Group 6:\n",
        "1 paths, Average identity = 78.69\n",
        "MPYSLDFRQKVINFVENGGTITKAAHTFGRERTSIYRWLSRPKLSATKVKSRQRKLDWKEL"
       ]
      },
      {
       "output_type": "stream",
       "stream": "stdout",
       "text": [
        "\n",
        "Group 7:\n",
        "1 paths, Average identity = 80.33\n",
        "MPYSLDFRQKVINFVENGGTITKAAHTFGIGRASIYTWLSRPKLSATKVKSRQRKLDWKEL\n",
        "Group 8:\n",
        "1 paths, Average identity = 78.69\n",
        "MPYSLEFRQKVINFV*NGGTITKAAHIFGIGRASIYRWLSRPKLSATKVKSRQRKLDWKEL\n",
        "Group 9:\n",
        "1 paths, Average identity = 84.75\n",
        "MPYSLDFRQKVINFVENGGTITKAAHTFGIGRASIYRWLSRPKLSATKVKSRLIKLDWK"
       ]
      },
      {
       "output_type": "stream",
       "stream": "stdout",
       "text": [
        "\n",
        "Group 10:\n",
        "1 paths, Average identity = 78.69\n",
        "MLYSLDFRKKVINFIENGGTITKAAHTFGIGRASIYRWLSRPTLEVTKVKSRQIKLD*KEL\n",
        "Group 11:\n",
        "1 paths, Average identity = 80.33\n",
        "MPYSLDFRQKVINFVENGGTITKAAHTFGIERASIYRWLSPPKLSPTKVKSRQIKLDWKEL\n",
        "Group 12:\n",
        "1 paths, Average identity = 81.97\n",
        "MAYSLDLRQKVINFVENGGTITKVAHTFGIGRASIYRWLSRPKLSATKVKSRQRKLDWKEL\n",
        "Group 13:\n",
        "1 paths, Average identity = 80.33"
       ]
      },
      {
       "output_type": "stream",
       "stream": "stdout",
       "text": [
        "\n",
        "MPYSLDFRQKVINFVENGGTITKAAHTFGIGRASIYR*LSRQKLSATKVKSRQIKLDWKEL\n",
        "Group 14:\n",
        "1 paths, Average identity = 75.41\n",
        "MLYSLDLRQKVINIVENGGTIT*ASHIFGIGRASIYRWLSPPKLSATKVKNSRKKLDWKEL\n",
        "Group 15:\n",
        "1 paths, Average identity = 77.05\n",
        "MPYSLDFRQKIINFVENGGTITKAAHIFGIGRASIYRWLSRPRLSATKVKSRQRKLD*KEL\n",
        "Group 16:\n",
        "1 paths, Average identity = 80.33"
       ]
      },
      {
       "output_type": "stream",
       "stream": "stdout",
       "text": [
        "\n",
        "MPYSLDFRQKVINFVENGGTITKAAHTFGIGRASIYRWLSSPILSATKVKSRQIKLDWKEL\n",
        "Group 17:\n",
        "2 paths, Average identity = 75.41\n",
        "MPYSXDFRXKVINFVENGGTITXAAHTFXXGXASIYRWLSRPXLXXTKVKXRQRKLDXKEL\n",
        "Group 18:\n",
        "1 paths, Average identity = 78.69\n",
        "MPYSSDFRQKVINFVENGGTITKAAHIFGIRRASIYRWLSRPTLEATKVKSCQRKLDWKEL"
       ]
      },
      {
       "output_type": "stream",
       "stream": "stdout",
       "text": [
        "\n",
        "Group 19:\n",
        "1 paths, Average identity = 80.33\n",
        "MPYSLDFRQKVINFVENGGTITKAAHTFGIGRTSIYR*LSRPKLSATKVKSRQIKLDWKEL\n",
        "Group 20:\n",
        "1 paths, Average identity = 80.33\n",
        "LPYSLDLRQKVINFVENGGTITKVDHTFGIERASIYRWLSGPKLSATKVKSRQIKLDWKEL\n",
        "Group 21:\n",
        "3 paths, Average identity = 79.24\n",
        "MPYSLDXRQKVINFVXNGGTITXXXHTFGXGRASIYRWLSRPKLSATKXKXRXXKLDWKEL"
       ]
      },
      {
       "output_type": "stream",
       "stream": "stdout",
       "text": [
        "\n",
        "Group 22:\n",
        "1 paths, Average identity = 80.33\n",
        "MPYSLDFRQKVINFVENGGTITKAAHTFGIEIASIYRWLSRPKLSATKVKSRQRKLDWKEL\n",
        "Group 23:\n",
        "1 paths, Average identity = 78.69\n",
        "MPYSLDFRQKVINFV*NGGTITKAAHTFGIGRASIYRWLSRPKLSATKVKSSQRKLDWKEL\n",
        "Group 24:\n",
        "1 paths, Average identity = 81.36\n",
        "HSLDFRQKVINFVENGGRITKVAHTFGIGITSIYRWLSRPKLETTKVKNRQIKLDWKEL"
       ]
      },
      {
       "output_type": "stream",
       "stream": "stdout",
       "text": [
        "\n",
        "Group 25:\n",
        "1 paths, Average identity = 78.69\n",
        "MPYSLDFRQKVINFVENGGTITKAAHTFGIGRASIYRWLSCPKLSATKVKSRQRELDWKEL\n",
        "Group 26:\n",
        "1 paths, Average identity = 81.36\n",
        "YSLDFRQKVINFVENGGMITKAAHTFGRGRASIYRWLSRPKLSATKVKSRQKKLDCKEL\n",
        "Group 27:\n",
        "1 paths, Average identity = 80.33\n",
        "MPYSLDFRQKVINFVENGGTITKATHTFGIGRASIYR*LSRPKLSATKVKNSQRKLDWKEL\n",
        "Group 28:\n",
        "1 paths, Average identity = 77.05"
       ]
      },
      {
       "output_type": "stream",
       "stream": "stdout",
       "text": [
        "\n",
        "MPYSLDFRQKVINFLGNGGTITKAAHTFGIGRASIYRWLSRPTLSATEVKSR*IKLDWKEL\n",
        "Group 29:\n",
        "1 paths, Average identity = 78.69\n",
        "MPYSLDFRQKVINFVENGGTLTKAAYTFGIGRASIYRWLSCPTLSATKVKSRQRKLDWKEL\n",
        "Group 30:\n",
        "1 paths, Average identity = 77.05\n",
        "MPYSLDLRQKVINFVENGGTITKAAHIFGIGRASIYRWLSCPKLSATKVKSRQRKLDGKEL\n",
        "Group 31:\n",
        "1 paths, Average identity = 77.05\n",
        "MPYSLDFRQKLINFVENGGTITKAAHTFGIGIASIYRWLSRPKLSATKAKSRQRKLDWKEL"
       ]
      },
      {
       "output_type": "stream",
       "stream": "stdout",
       "text": [
        "\n",
        "Group 32:\n",
        "1 paths, Average identity = 77.05\n",
        "MPYSLDLRQKVINFVENGGTITEAAHTFGRGRTSIYRWLSRPKLPATKVKSRRIKLDWKEL\n",
        "Group 33:\n",
        "1 paths, Average identity = 73.77\n",
        "MPYSLDLRQKVMNFIEKGGTITEAAHTFGIGRASIYRWLSRPQLEATKVKSRRRKLDWKEL\n",
        "Group 34:\n",
        "1 paths, Average identity = 80.33\n",
        "MPYSLYFRQKVINFVENGGTITKVAHVFGIGRASIYRRLSRPTLSATKVKSRQRKLDWKEL\n",
        "Group 35:\n",
        "1 paths, Average identity = 79.31"
       ]
      },
      {
       "output_type": "stream",
       "stream": "stdout",
       "text": [
        "\n",
        "SLDFRRKVINFVENGGTLTKAAHTFGVGRASIYRWLYRPKLSATKVKSRQRKLDWKEL\n",
        "Group 36:\n",
        "1 paths, Average identity = 77.97\n",
        "YSLDLRKKVINFVENGGTITKAAHTFGIGRASIYRWLSRPKLSATKAKSRQRKLDWKEL\n",
        "Group 37:\n",
        "1 paths, Average identity = 75.41\n",
        "MPYSLYFRQKVINFIENGEKITKAAHTFGIGRASIYRWLSRPTLEATKVKICQRKLDWKEL\n",
        "Group 38:\n",
        "3 paths, Average identity = 75.96\n",
        "MPYXLXXXXKVIXFVENGGTITXXAHXFXIXRASIYRXLSRPKLSAXKVKXRXXKLDXXEL"
       ]
      },
      {
       "output_type": "stream",
       "stream": "stdout",
       "text": [
        "\n",
        "Group 39:\n",
        "1 paths, Average identity = 77.05\n",
        "MPYSLDFIQKVINFIENGGTITKAAHKFGRERASIYRWVSRPKLEATKVKSRQRKLDWKEL\n",
        "Group 40:\n",
        "1 paths, Average identity = 75.41\n",
        "MSYSLDFTQKVINFA*NGGTITKAAHTFGIGIASIYRWLSRPKLSATKVKSRQRKLDWKEL\n",
        "Group 41:\n",
        "1 paths, Average identity = 77.97\n",
        "YSLDLRQKVINFVENGATITKAAHTFGIGRASIYRWLSRPTLSATKVKSRQRKLDWKEL\n",
        "Group 42:\n",
        "1 paths, Average identity = 77.05"
       ]
      },
      {
       "output_type": "stream",
       "stream": "stdout",
       "text": [
        "\n",
        "MPYSLEFRQKVINFVENGGTITKAAHTFRIERASIYRWLSRPKLSATKVKSHQRKLDWKEL\n",
        "Group 43:\n",
        "1 paths, Average identity = 77.05\n",
        "MPYSLDLRQKVINFVENGGTITEAAHIFGIGIASIYRWLSRPKLSATKVKRRRRKLDWKEL\n",
        "Group 44:\n",
        "1 paths, Average identity = 77.05\n",
        "MPYSLDFRQKVINFVENGGTITKAAHTFGRGRASIYRCLSRPRLSATKVKSRQRKLDWKEL\n",
        "Group 45:\n",
        "1 paths, Average identity = 79.66\n",
        "YSLDFRQKVVNFVENGGTMTKAAHTFGIGRASIYRCLSRPKLLATKVKSRQGKLDWKEL"
       ]
      },
      {
       "output_type": "stream",
       "stream": "stdout",
       "text": [
        "\n",
        "Group 46:\n",
        "1 paths, Average identity = 79.66\n",
        "YSLDFRQKVINFVENCGRITKAAHTFGIGRASIYRWLSHPKLSATKVKSRQRKLDWKEL\n",
        "Group 47:\n",
        "1 paths, Average identity = 78.69\n",
        "MPYSLDFRQKVINFV*NGGATTKAAHTFGIGRASIYRWLSRPKLSATKVKSRQRKLD*KEL\n",
        "Group 48:\n",
        "1 paths, Average identity = 78.69\n",
        "MPYSL*LR*KVINFVENGGTITEAAHIFGIGRASIYRWLSRPKLEATKVKRRRIKLDWKEL\n",
        "Group 49:\n",
        "1 paths, Average identity = 75.41"
       ]
      },
      {
       "output_type": "stream",
       "stream": "stdout",
       "text": [
        "\n",
        "MPYSLDFRKKVINFVENGGTITKAAHTFGRGRASIYRWLSPPTLEVTKVKSRQRKLDWKEL\n",
        "Group 50:\n",
        "1 paths, Average identity = 75.41\n",
        "MPYSLDFRQKVINFVKNGGKITKAAHTFGIGRASIYR*LSPPTLSATKVKSRQRKLDWKEL\n",
        "Group 51:\n",
        "1 paths, Average identity = 77.05\n",
        "MPYSLDLRQKVINFV*NGGKITKLAHTFGIGRASIYR*LSRPKFSATKVKSRQIKLDWKEL\n",
        "Group 52:\n",
        "1 paths, Average identity = 76.67\n",
        "MPYSLDFRKKVINFVENGSTITKATHTFGRGRASIYRWLSRPKLSATKVKSSQIKLDRKE"
       ]
      },
      {
       "output_type": "stream",
       "stream": "stdout",
       "text": [
        "\n",
        "Group 53:\n",
        "1 paths, Average identity = 75.41\n",
        "MPYSLDLRKKVINFVENDGTITEAAHIFGIGRASIYRWLSRLKLSATKVKSRRIKLDWKEL\n",
        "Group 54:\n",
        "1 paths, Average identity = 75.41\n",
        "MPYSLEFRQKVINFVENGGTITKAAHTFGIERASIYRWLSRPKLSANKVKSRQRKLDGKGL\n",
        "Group 55:\n",
        "1 paths, Average identity = 78.69\n",
        "MPYSLDLR*KAINFVENGGMLTEVAHIFGIGRASIYR*LSHQKLEATKVKHRQIKLDWKEL\n",
        "Group 56:\n",
        "1 paths, Average identity = 75.41"
       ]
      },
      {
       "output_type": "stream",
       "stream": "stdout",
       "text": [
        "\n",
        "MPYIFDFRQKVIIFVENGGMITEAAHIFGRGRASIYRWLSRPKLSATKVKLRQRKLDWKEL\n",
        "Group 57:\n",
        "1 paths, Average identity = 77.05\n",
        "MPYSLDFRQKAINFVENGGTITKGYHTFGIKIASIYRWLSRPKLSATKVKSRQRKLD*KEL\n",
        "Group 58:\n",
        "1 paths, Average identity = 73.77\n",
        "MPYSLDLREKVINLVENGGKITEAAHIFGIGRASIYRWLYRPKLEATKVKRRRRELDWKEL\n",
        "Group 59:\n",
        "1 paths, Average identity = 73.77\n",
        "MPYSLDLIQKVINFVENGSTITKEAHTFGIGRAWIYRWLSRPKLSASKVKSRQRKLDWKEL"
       ]
      },
      {
       "output_type": "stream",
       "stream": "stdout",
       "text": [
        "\n",
        "Group 60:\n",
        "1 paths, Average identity = 77.05\n",
        "MPYSLDFRQKVINFVENGGTITKAAHTFGIGIASIYRCLSRPILSATKVKSRQRKLDWKEL\n",
        "Group 61:\n",
        "1 paths, Average identity = 75.41\n",
        "MPYSLDFRQKVINFIENGGTITKAAYTFGIGRALIYRWLSRPTLEATKVKSRQRKLD*KEL\n",
        "Group 62:\n",
        "1 paths, Average identity = 76.27\n",
        "YSLDLKQKVIKFVENGSMLTKAAYTFGIGRGSIYRWLSRPKLEATKVKSHRRKLDWKEL\n",
        "Group 63:\n",
        "1 paths, Average identity = 77.05"
       ]
      },
      {
       "output_type": "stream",
       "stream": "stdout",
       "text": [
        "\n",
        "MPYSLDFRQKVINFV*NGGTITKAAHTFGIGIASIYRWLFRPKLSATKVKSRQRKLDWKEL\n",
        "Group 64:\n",
        "1 paths, Average identity = 77.05\n",
        "MPYSLDFR*KVINFVENGGTITKAAHTFGIGIASIYRCLSRPKLSATKVKSRQRKLDWKEL\n",
        "Group 65:\n",
        "1 paths, Average identity = 75.41\n",
        "MPYSLDFRQKVIIFVGNSGTITEAAHIFGIGRALIYRWLYRPKLEATKVKHREIKLDWKEL\n",
        "Group 66:\n",
        "1 paths, Average identity = 75.41\n",
        "MPYSLDLRQKVINFVENGGTITKAPYTFRIGRASIYRWLSRPKLSATKVKIRQRKLDGKEL"
       ]
      },
      {
       "output_type": "stream",
       "stream": "stdout",
       "text": [
        "\n",
        "Group 67:\n",
        "1 paths, Average identity = 73.77\n",
        "MPYSLDLRKKVINFVENGGTITEAAHTFWIGIASIYRWLSRPKLEATKVKRRQIKLDFQEL\n",
        "Group 68:\n",
        "1 paths, Average identity = 73.77\n",
        "MPYSLDLRQKVINFVENGCTITEADHIFGTERASIYKWLSRPKLEVTKVKRCQIKLDWKEL\n",
        "Group 69:\n",
        "1 paths, Average identity = 73.77\n",
        "MSYSLDLRQKVINFVENGGTIAKAAHTFGIGRASIYRWLSLTTLSATKVKIRQRKLDWKEL"
       ]
      },
      {
       "output_type": "stream",
       "stream": "stdout",
       "text": [
        "\n",
        "Group 70:\n",
        "1 paths, Average identity = 72.88\n",
        "YSLDLTQKVINFVENGGTITKAAHTFGRGRALIYRWLSRPKLSATKAKSGQRKLDWKEL\n",
        "Group 71:\n",
        "1 paths, Average identity = 72.13\n",
        "MPYSLDLRQKVTNFVENGGTITKAAHTFGMGRASRYRWLFRPKLSATKVTSRQRKLDWKEL\n",
        "Group 72:\n",
        "1 paths, Average identity = 76.27\n",
        "YSLDFRKKVINFVENGGMITKATHIFGMGIASIYR*LSRPKMSATKVKSRQRKLD*KEL\n",
        "Group 73:\n",
        "1 paths, Average identity = 76.27"
       ]
      },
      {
       "output_type": "stream",
       "stream": "stdout",
       "text": [
        "\n",
        "YSLDFRKKVINFVENGGTITKAAHTFGRGRASIYR*LSPPKLSATKVKSRQRKLDWKEL\n",
        "Group 74:\n",
        "1 paths, Average identity = 76.27\n",
        "MPYSLYLRQKVINFVENGGTITKTAHTFGRGRASIYRWLSRPKLSATKVKSR*RKLDWK\n",
        "Group 75:\n",
        "1 paths, Average identity = 75.41\n",
        "MPYSLDFRQKVINFVGNSGTITKSAHTFGIGIASIYR*LSRPKLSATKVKSRQRKLDWKEL\n",
        "Group 76:\n",
        "1 paths, Average identity = 74.58\n",
        "YSLGFRQKVINFLENGGTITKEAHIFGIGIASIYRCLSRPRLSATKVKSRQRKLDWKEL"
       ]
      },
      {
       "output_type": "stream",
       "stream": "stdout",
       "text": [
        "\n",
        "Group 77:\n",
        "1 paths, Average identity = 72.13\n",
        "MPYSLDFRQKVINFLENDRTITKVAHTFGIGIASIYRWLSPPQLSATKVKSSQRKLDWKEL\n",
        "Group 78:\n",
        "1 paths, Average identity = 77.97\n",
        "MPYSLD*RQKVINFVENGCTLTEATHIFGIVIASIYR*LSRPKLEATKVKRREIKLDGK\n",
        "Group 79:\n",
        "1 paths, Average identity = 77.97\n",
        "YSLDLR*KVIIFVENGGRLTKVAHTFGMERASIYR*LSRPKLSATKVKSRQRKLDWKEL\n",
        "Group 80:\n",
        "1 paths, Average identity = 72.13"
       ]
      },
      {
       "output_type": "stream",
       "stream": "stdout",
       "text": [
        "\n",
        "MTYSLDFRQKVTKFVGNGGTITKAAHTFGRGRASIYRCLSRPKLSATKVKSSQRKLDWKEL\n",
        "Group 81:\n",
        "1 paths, Average identity = 75.86\n",
        "SLDFRQKVINFVESGGMITKAAHTFGIGIASIYRWLSRTK*SATKVKSRQKKLDRKEL\n",
        "Group 82:\n",
        "1 paths, Average identity = 72.13\n",
        "YALQFRLKKKVINFVEKGGTITEEAHTFGIGIASIYRWLSRPKLEATKVKNRRRKLDWKEL\n",
        "\n",
        "Tery_3177: Total groups = 1\n",
        "Group 1:\n",
        "4 paths, Average identity = 89.19\n",
        "MPLRKELAINQQLNSIAETDNPKLSPLNQSILKICGPSRLQGNVNISGAKNSALPAMAATLLSSGVCRLRQIPCLADINIMGQVLSALGVKIKHNTNTFTLDIDASIIDNAEAPYELVRQLRASFFAIGPILARLGVARIPLPGGCAIGTRPVDLHVRGLQALGAEVHIEHGMVNAYISSSKKRLQGAKIHLDYPSVGATETLMMAATLAEGETIIENAAQEPEVEDLANLCIAMGANIFGAGTKTIVISGVPKLHSVDYTIIPDRIEAGTFLIAGAITNSEISISPVVPKHLSAVISKLQSVGAKVIQKTXDSLHILPSEILKXTDIETQPYPGFPTDMQAPFMALLSVCSGSSYVRETVFENRMRHVSELNRMGANIKVKGSHAFVQGVPKLSAAPVIGTDLRASAALILAALAAEGETTFQGLQHLTRGYERLEIKLQKLGAKFQRVDLVEEDDILGTPI"
       ]
      },
      {
       "output_type": "stream",
       "stream": "stdout",
       "text": [
        "\n",
        "\n",
        "Tery_3218: Total groups = 1\n",
        "Group 1:\n",
        "3 paths, Average identity = 85.28\n",
        "MKISRYFYRINSTNIPSKKRLTRNREKEIYLSGKYTNNLACLFNISTQDLKQNIWSVLGILLGLWISGCAAPPSNIFDEGEDKPLVISTSTIIADMTEKIGGDEIEHNGIMEPGADPHIYEPVPADSVAFEKADLIIYNGYNLEPALIKLINSTGVKAQKLAVGEKVTPLQNQDREDLEPDPHVWGDAENGIVMVTGIRDALIELSPEDKEIFTENANRLVEELRQVDIWIRKQIGTIPEGQRRLVTTHDAFEYYAKAYGLEMTGTLIGMSTEEQPSAQTLKNLVEEIKKTGVPAIFAETTINPKLITTVAZEAGVKLAPRELYSDSIGAPGSEGDSYTKMLVSNTQTIVEALGGEYTAFKLQITELLEKQ"
       ]
      },
      {
       "output_type": "stream",
       "stream": "stdout",
       "text": [
        "\n",
        "\n",
        "Tery_3222: Total groups = 1\n",
        "Group 1:\n",
        "2 paths, Average identity = 93.20\n",
        "MAQSVILHLESVSKQFSRSTTPAVQNVNLTLHQGDILGLLGPSGCGKTTLLRIIAGFEEPHSGIVTINGRVVAGKHDWIVPEKRNVGMVFQDYALFPHLTVAKNIAFGLNNSGKKSSTQINHQVRDVLELVGLSGLENRYPHELSGGQQQRVALARALAPNPALVLLDEPLSNLDVQVRIRLRQELRDILKNAGASGILVTHDQEEAMAISEFVAVMRGGAVEQFGTPKEIYTEPVSKFVAEFVTQANFLPAHRHDQVWETEVGAFELTNDNVFRGKIDSLDQFDRLELMIRQEDLILEADNEGCIVIRDRQFLGREFRYCLQTESGKELIARTTPQVVLKIGVKVKVSIAEDNLRVFPAIAEEXSXKSSDLVGSRNF"
       ]
      },
      {
       "output_type": "stream",
       "stream": "stdout",
       "text": [
        "\n",
        "\n",
        "Tery_3223: Total groups = 1\n",
        "Group 1:\n",
        "2 paths, Average identity = 94.63\n",
        "MLNQIKKIRRLNWNAWTIFVVAIASLISAPVIFVLSSIFSDTGEIWSHLASTVLPRYLLNSFILMLGVGCGVSVIGVGAAWLVTMCRFPGSRIFEWAMLLPLATPAYILAYTYTELLEFYGPVQMWLREIFGWTSVSDYWFPQIRSLGGAIALLTLTLYPYVYLLTRVAFLEQSTCTLEASRSLGANPWRSFFTIALPLARPAIMAGLALALMETLNDFGTVQYFGVDTFTTGIYRTWFGMGERVAAAQLAAVLLLFILWLILLELWSRRQAKYYQTTSQQQQLKRFPLDGIRGIATSFACLFPVFLGFLLPAGLLLEMTITESGASFRGRFWDYASHSLTLAGITAVLGVAIALLMAYGVRLNPNWGMGVSTRIAAMGYAIPGSVIAVGILIPIGTIDNAIDSFMRSMFGISTGLLLSGTMTALVFAYLVRFMAVAFGAVESSLVKIKPSLDDASRSLGYGVTKTLIKVHVPMMWGGLLTGAMLTFVDVMKELPATMVIRPFNFDTLAIRVYNLAADERLSEAAGPALAIVLVGIIPVIILSLKIAKSRQYQDY"
       ]
      },
      {
       "output_type": "stream",
       "stream": "stdout",
       "text": [
        "\n",
        "\n",
        "Tery_3229: Total groups = 1\n",
        "Group 1:\n",
        "2 paths, Average identity = 89.98\n",
        "MALTINKLFDEQFYLETNPEVAGAVANNIISDGFFHFIRFGQFEGRDPSGIFNTNFYLTTNPGVATAVEQNLLTPTEHFINFGQFEPRDPSALLNTSFYLERYPDLAEIVVTTPLTATEHFLNFGQFEGRLPRLLFRDIYVFGDSLSDTGNLLATAENVLGATDEFVLQFFAPYFEGRLSNGPVWVETLAPQLELTSDPNLNFAVSGATTGIXNXXNNXLPEGTPPIFIGLQTQIDEFIAETPTTDPDALYVVWAGANDYLGGZNLDVQSTVDNLLGAVNKLADTGAKNFVLPNLPDLGMXPFAQTLLPEQQQRLSLLTESHNNTLAXASQILEQNPNINIVNLDJETXFDNXIANPDDFTLTNVXDNFLTSGLDDPSGFLFFDDIHPTTTVHSLIANEAMKSITQIPELLSILETSL"
       ]
      },
      {
       "output_type": "stream",
       "stream": "stdout",
       "text": [
        "\n",
        "\n",
        "Tery_3240: Total groups = 1\n",
        "Group 1:\n",
        "2 paths, Average identity = 80.80\n",
        "MNTQLTERAKQLIPKARIVSFKGWEEVLPTEIIQSFQAADDEGRYLTQKDLNFLKSGSQLPIFSIDAASFLGEYAAEIVDEAREKVLATYPNITAEGGDLYPRVRAEACWRDFWHFLRCITYGVAGNNTNFTSQEGLYNMNLLYQELLVPLSAMVCGLEAIKTASLKRFSPEQQAELVPYFDHLLIKLKEFS"
       ]
      },
      {
       "output_type": "stream",
       "stream": "stdout",
       "text": [
        "\n",
        "\n",
        "Tery_3242: Total groups = 2\n",
        "Group 1:\n",
        "1 paths, Average identity = 91.58\n",
        "MAHKKGTGSTRNGRDSNAQRLGVKRYGGQVVKAGNILVRQRGSKFHAGNNVGIGSDYTLFALVEGVVTFERKGKSGKKVSVYPVAQEANVAVAEA\n",
        "Group 2:\n",
        "1 paths, Average identity = 92.63\n",
        "MAHKKGTGSTRNGRDSNAQRLGVKRYGGQVVKAGNILVRQRGSKFHAGNNVGVGSDYTLFALVEGVVTFERKGKSGKKVSVYPVAQEANVAVAEA\n",
        "\n",
        "Tery_3254: Total groups = 1\n",
        "Group 1:\n",
        "2 paths, Average identity = 78.59"
       ]
      },
      {
       "output_type": "stream",
       "stream": "stdout",
       "text": [
        "\n",
        "MSNPGKNFLYTLPIALKQGLRHPKRKLLLLGLIPLSITTLGIKQELVEAQEAKITNQQTAYINNWQNASFPVENFQGYTSPFGPRGRGFHYGLDLAAPKGSYIRNWWTGKVVEVWEDGRCGTGIVIQSGSWEHVYCHVQGRVETRSGRRYLIDRGGGIMLPQGQVFPAGSRIARVGMTGRTSGPHLHWGLKYGGRWVDPALILREMYTQQTRQLSRSENRYMVTYNSEVVSN"
       ]
      },
      {
       "output_type": "stream",
       "stream": "stdout",
       "text": [
        "\n",
        "\n",
        "Tery_3262: Total groups = 1\n",
        "Group 1:\n",
        "3 paths, Average identity = 78.79\n",
        "SVATSLNNLAGLYQVQGRYTEAEPLFIQALEMYKKLLGAEHPSVATSLNNLAFLYNAKGRYIEAEPFFIKALEMYRKLLGVEHPDVATSLNNLAELYQVQGRYTEAEPLYIQALDMRKKLLGAEHPSVASSLNNLAELYQVQGRYTEVEPLFKQALEMRKKLLGAEHPSVTSFLNNLAGLYRAQGRYTEAEPLYIQALDMRKKLLGSEHPDVATSLNNLAALYNAQGRYTEAEPLYIQALDMRKKLLGSEHPDVATSLNNLALLYSDQGNIATAVQYLKRDLEIEEKNLTYNLAAGAEPQKNKYLKTISGVKGLAISLHLQTAPNNPAATTLAFTTIILRRKGRLLQFFTTSRQILRQQLDPQGLQWLDELDNIHSQLSTLLYNRPENLPLETYKENFAFLEQQAKELEDKIGRRSSEFRAATQPVTLEAIQELIPVNAALVEFVQYSPFDPKTGTFGEPRYGVYVLGAEGEPQGVDLGTVEEIESAIPYFRFSLRDKYTPLKQLQEAARELDRKLMEPIRKLLGSQKQILISPDGNLNLIPFEALVDENNRFLVENYXFTYLSSGRDLLTFTSTSRNTSPAVLLGDPKYDETGKVAIKPQRSFDDASELVFPRLKGSGEEVKAIGELLGVEPLLRAEATEAAVKQVKNPFILHIATHGLFRTDGDPEKYPTINKDSLLRSSLXXAGVKEEKIDGDNGLLTALEAAGLNLLGTELVVLSACDTGLGGISPGEGVYGLRRAFAIAGSQSQVISLWKVDDQGTKDLMVKYYQRLLXGKIGRTEALRQTQLEMLRGEAGEKYTHPYFWASFIPSGNWLPIPSR"
       ]
      },
      {
       "output_type": "stream",
       "stream": "stdout",
       "text": [
        "\n",
        "\n",
        "Tery_3278: Total groups = 1\n",
        "Group 1:\n",
        "2 paths, Average identity = 92.81\n",
        "MVEEKDVIVIGSGIGGLVAGAMLAYYDKKVIICESHSIPGGAAHSFSRQGFHFDSGPSFYCGLADPNSLNPLQKVLNILGESIETFVYSPLGYYHFPEGSLPVYGHRTSYLEAIAKFTTQGTKELKLFQDNLLRLYAGLKEIPPIALRADFWLIPILLGKYGLSLLKMLPSLGDIGGSVGQIMDKWVKDPWIRRLIDLECFLLSGLKAYGTVAPEMAFMFGERSNSVIEYPIGGSSAIVNALVRGLERWGGQLRLNTHVEQILIESGKVVGVRLRGDEVIKAPIVISNATIWDTYTGLLRPEDLPTSFREPALATPAVESFMHLHLGIRSDGLEGLSGHHVVVLDGDIDIAVPGNTCMISIPSVWDSSLAPSGHHVVHAYTLESFSGWQKDESYPQRKREKAESLFLALERVIPDIRQRITLELIGTPLTHARFLRRYQGTYGPAIVAGKGSFPGPQTPIPGLYRVGDSTMPGIGVPAVAASGVICANTLVSFNYLKLLGQL"
       ]
      },
      {
       "output_type": "stream",
       "stream": "stdout",
       "text": [
        "\n",
        "\n",
        "Tery_3282: Total groups = 1\n",
        "Group 1:\n",
        "2 paths, Average identity = 91.74\n",
        "LANVIVIGAQWGDEGKGKITDLLSKSADLVVRYQGGVNAGHTVVVEGQTFKLHLIPSGILYPDTECIIGSGTVIDPKVVIEELDQVEALGISTANLMISEAAHVTMPYHRIIDKASEERRGNQKIGTTGRGIGPTYADKSERTGIRMIDLRNPDXLREQIHWTVNYKNVILEKLYNLSPLDPEEVVDEYLGFADRLRPHIXDASLSIYNAIQERRNILFEGAQGTLLDLDHGTYPYVTSSNPVAGGACVGTGVGPTMIDRVIGVAKAYTTRVGEGPFPTEXKDEIGELLCDRGXEFGTTTGRKRRCGWFDAVIGRYAVRINGMDCMAITKLDVLDBLTEIKVCVAYDMEGKRCEDFPNSSXQLAKCQPIYXTLPGWKESTXDCRXLEDLPQQALDYLRFLAELMNVPIAIVSLGASRHQTIVVEDPIHGPKRGLLYS"
       ]
      },
      {
       "output_type": "stream",
       "stream": "stdout",
       "text": [
        "\n",
        "\n",
        "Tery_3287: Total groups = 3\n",
        "Group 1:\n",
        "1 paths, Average identity = 86.36\n",
        "MV*KA*KFRFYPTPQQ*SLLRRTLGCVRLVYNKALAARTQARHEHQERVSYKQTSAMLTNWKKQEDLDFYQ*SK*RTTSARLKTFTNCFHQLFWWTD*ISVPS*NCAMVEVLSL\n",
        "Group 2:\n",
        "1 paths, Average identity = 76.72\n",
        "MVEKAYKFRLYPSP*HC*SGQKNFRLCRFSLQLSLSCQG*SLV*TPRTSGL*TNLSYADELEKTGRFRFSNLL*AVCHSNKV*DIYKLLSPTFLVDGLNILISRKSAMVEV\n",
        "Group 3:\n",
        "1 paths, Average identity = 88.14\n",
        "MVEKAYKFRLYPTPQQESLLRRTLGCVRLVYNKALVARTQAWYEHQKRVGYKQTSAMLTNWKKQEDLDFLGEVSSVPLQQGLRHLQTAFTNFFGGRTKYPNFKKKRNGGSAEFTRSAF"
       ]
      },
      {
       "output_type": "stream",
       "stream": "stdout",
       "text": [
        "\n",
        "\n",
        "Tery_3298: Total groups = 1\n",
        "Group 1:\n",
        "2 paths, Average identity = 91.47\n",
        "MTKVIGLISGTSVDGIDAALVNVTGTQTNLTVQLLASSTYPYPENLRSQILDVCSGAPLSIAELAELNDTIAQEFATAALTINKKYAVNAELIGSHGQTVYHRPPSQQLGYSLQLGRGEVIANLTGIPTISNFRTADIAAGGQGAPLVPCVDVHLLSHQTYTRCVQNLGGIGNVTYLKNQLFWGSENSTPPSPLYMGKVKDQKTEELVTTLASPQGVLGWDTGPSNTLLDLAVQQLSQGSKTYDKNGEWAASGRPCQELVETWLKQDFFQQKPPKSTGRELFGKDYLFKCFSDGEKYNLSAADILATLTELTAASINHSYRNFLPNLPDQILLCGGGSHNLYLKKRIENLLAPIPVMTTAEVGVDVDFKEAIAFAILAYWRSLEIPCNLPEVTGAKAQVMLGEIHZPITRNKGVAX"
       ]
      },
      {
       "output_type": "stream",
       "stream": "stdout",
       "text": [
        "\n",
        "\n",
        "Tery_3317: Total groups = 1\n",
        "Group 1:\n",
        "2 paths, Average identity = 79.84\n",
        "MKCPTCGSTSLXKNGRPNXRQRYRCKDCGRQFMVQLPTSNIEQEISVNQSELEALAEAPRVGIAILLLDAENLKIDVNTEQFLANISEYSLQVKIAFANWKSSSLSKSDLELFERGYQLIHVPEGKNSADAQMMSMGATIGKQYYDAKAVFVCSSDWLLTHLCNSLQNQGLIVYRVKRQPDNILTVENRNTLEVRHYSLKMATEIPQLEEFVAQIKELLQAENESISQRKSELSIIASLLEKRCKISLDRESKQILSKVFSEEVEILETQNIATELAENEENIQSNTVYLPEINSRAEFEQEVIKIISNIPLKKNKTFVDLELVDKNFMAIFGDDMGQVLKDLKINNDLENFFRFSPKFRAKKKVRSKEYQVAIAENVKILNSQIISSPEQLEKALVNIIKILAVHEPYGYIYISNIGTEFKKKYNHSITTILKQLKLSGKFLDFLKNSSCFNIKKVGKRYQVAIANN"
       ]
      },
      {
       "output_type": "stream",
       "stream": "stdout",
       "text": [
        "\n",
        "\n",
        "Tery_3326: Total groups = 1\n",
        "Group 1:\n",
        "2 paths, Average identity = 95.64\n",
        "MGIIYIGDRETGKTSLALELANPSSNNFVKVISPPYNELKALLWDDVEGRTRATDGREATYDRTLEIEVFLSTRRKTIYTDWVDTPGEIWRGSWQKNNPDKWAKFVETAHSSQGVILVVPPYREIIGQGMGSNPDEFITQQQWVRRFDSWVSFFRYECPNVKHIALCLNKVDLLQGIBLKQEAXKLAFHPHXSRMNWNZRNDYIFKRFFRPLRSHIAQLNXYTSXLTVRCFITSIYNRELLELPWIYLGIYLKSDX"
       ]
      },
      {
       "output_type": "stream",
       "stream": "stdout",
       "text": [
        "\n",
        "\n",
        "Tery_3327: Total groups = 1\n",
        "Group 1:\n",
        "2 paths, Average identity = 82.48\n",
        "MGNICIIGPRASGKTTYLAGLXYYSEYGGSXSKYTVSPXGXESRELKEKAEBTILNGLSFDPTNXZVQTVDDLACYSFTIEVKXGLFQPRSVIZLNVRDYPGEIFENILYASESDSIHEEFINECLMSDIDGCLLLFTEWESNKDDFYSKLMSRFLEKIDEHGRIHNYRLAVVMSKCERGEIWPGRVDPETDLFGVYLKKTLKTLKKDIPKQNLRFFALSTFGVLGPYDPRPNRDDARGSGGRASTLRKRASWKPYNLIEPLCWLNKGGER"
       ]
      },
      {
       "output_type": "stream",
       "stream": "stdout",
       "text": [
        "\n",
        "\n",
        "Tery_3328: Total groups = 2\n",
        "Group 1:\n",
        "2 paths, Average identity = 94.32\n",
        "MVLFGKQKKLKSDSLPKALGNDSLLRIIGDRGSGKTAYLASLAYWPNANPESPVKSITPIGEEAEELIDKAREILEQGLELEATDLNADINEVKDYSLSINLKDRFSWLEGSKKSVQLNISCKDYSGEFFSDLIYKKGDPKLEDYLGDCCLATGLLMLVDGTSHRKDKEFAMGMEKLLMEIDRSEMEMQHRRIALVLSKCEQLELWVNRHRPRKVAXRFPKLXAQLEXWSXXGGGTVEYFTTSAFGILGXQYPEPNSMRLXRSRDGTTSVIKXPKLWRPFGLVSPIYWLCTGKRHSELDRD"
       ]
      },
      {
       "output_type": "stream",
       "stream": "stdout",
       "text": [
        "\n",
        "Group 2:\n",
        "2 paths, Average identity = 89.77\n",
        "MVLFGKQKKLKSDSLPKALGNDSLLRIIGDRGSGKTAYLASLAYWPNASPESSVKNITPIGEEAQELIDKAREILEQGLELEATDLNADINEVKDYSLSINLKDRFSWLEGSKKSVQLNISCKDYAGEFFSDLIYKNGDPKLEDYLEDCCLATGLLMLVDGTSHRKDNEXAMGMEKLLMEIDRSEIEXQRRRIALVLSKCEQSELWVNRHRPXKVAARFPKLSAQLETWSQSGTGXVEYFTTSAFGIVGRQYPEPNSKRLRRSRDGTTSVIKKPKLWRPFGLVSPIYWLCTGKRHSELDRD"
       ]
      },
      {
       "output_type": "stream",
       "stream": "stdout",
       "text": [
        "\n",
        "\n",
        "Tery_3330: Total groups = 2\n",
        "Group 1:\n",
        "3 paths, Average identity = 84.17\n",
        "MKPYFYILXXITSALLGWNIGQLFLSDFGLFDFLAKIGIFPEIILFPCIAISLAMGSIXNEIFLSNPTRPKISLRXLXAPLFIAFIIGXJXGLXXGGIYQIXLXPZIAVXPFIVRVCGWLIVGAXVGXAEGXSWRWXSJXAGNPKYFRXRLXLSIFXASXASLIAAXXFELLRXVXGTMPAXXKXYEDPXGFAILGXCLGIAFSITNFTPSYXPALRAGSGFEYSGYDDNDKIEEYXBXDXRRTVLXXXYPRIBSSXLKFISYRSXYEYXDNXKIEEGLSMELPDQGXIXIGSAXKAXICLPXLPLHXADIXIXGKXAVLXPNXXXFDXVAINGTXLSXXRXIXLKHNYVLTFYTBXQDDNIEVPEXYRMVFYNRFFDPMA"
       ]
      },
      {
       "output_type": "stream",
       "stream": "stdout",
       "text": [
        "\n",
        "Group 2:\n",
        "1 paths, Average identity = 76.98\n",
        "MKPYFYILAGITSALLGWNIGQLFLSDFGLSNLLEKSEIPIFDDIILLPCIAISMAIGSVANEIFLSNPTRPKISLRTLPAPLFIAFSIGILSGLIAGGISQILLAPEIAISPFIVRVCSWLLVGVSVGFAEGLSWRWRSLKTGNPKYFRQRLLLSVFAASIASLIAASTFELVRGLQETMPAYFKPYEDPVGFAILGLCLGIAFSLTNFTPSYMPALRAGSGFKYSGEEYDDINPNQTLLSQDYPRIDSSVLKFISYRYQYGNNNNDKIEEGLSMQLPKQAIIRIGSANKAHICLPHLPLHAADIQIQGKKAVLVPNQRVFDRIAINGTRLSYRRNIDLKHNHVLTFYTDAQNQDDEFEAPEYYRMVFYNRFFDPMG\n",
        "\n",
        "Tery_3331: Total groups = 3\n",
        "Group 1:\n",
        "1 paths, Average identity = 88.80"
       ]
      },
      {
       "output_type": "stream",
       "stream": "stdout",
       "text": [
        "\n",
        "IVKDDEITLRVKVTEDGERPAMFLEEQDFQAIVDNDVVDIISWKNPEESVPPPAWIIVLLDFSGSMNEKDSSGTTKLEGAIKATREFLETTSVRGGNTRVAILPFGEGRGECNSYKVRRGNIKSKFFPADDFKHKNLLDNLAKKTPCASTNIYDPLKEAIRLLSDQEDTDFYVSEDSTEPEPRLSVILLSDGYHNKPNENRDFKRLIALLERHVHIVVHTLGYGLTPEQLGKKYNLGRPATRADIETASNSYKPVPDEEFVDGKRLQEIAEVTGGISEFSGDADDIAEALQLFLNALLGEYEIVYREPNPERASKHEVFVTATVNGKDVDTTQKSYTINAFGRSLPRKIRLRMTGLVLLLLGLGGAVPFLIWSHRLKQETEKDF\n",
        "Group 2:\n",
        "1 paths, Average identity = 80.84"
       ]
      },
      {
       "output_type": "stream",
       "stream": "stdout",
       "text": [
        "\n",
        "IVKNDEITLRVKVTEDGESPAMFLEEKDFQAIVDDEVVEIISWKNPEESVPPPVWVVVLLDFSGSMKEKDSSGTTKLEGAIEATRQFLNTTSTRGGDTRIAIFPFGEGRGKCKAYEVKRENIKSKFFPANDGNKENLLLLDNLAEETPCASTNIYDPLKEAIRLLGDKEDTDFYIPQNSRKPEPRLSVILLSDGYHNKPNEERSFKRLIALLERHDHIVVHTLGYGLTPEQLGKKYDLGRPATRADINQGYVPAEEFVDQKRLQEIAEETGGISQFSGDADETIEVLQLFLNALLGEYEIVYREPNPVRGSKNQVFVTATVNGKDVDTTQKSYTINAFGRSLPWQTRLSMTGLVLLLLGLGGAVPFLIWSHRLKQETEKDF\n",
        "Group 3:\n",
        "2 paths, Average identity = 81.25"
       ]
      },
      {
       "output_type": "stream",
       "stream": "stdout",
       "text": [
        "\n",
        "VKNDEITIRVKVTEDGERPAMLLEEQNFKAIVDEEEVDIISWKNPEESVPPPAWIVVLLDFSGSMNEKDSSGTTKLEGAIEATRQFLETTSARGGNTRVAILPFGEGRGKCQGYEVKRGNIKSQFFPANDFKQKNLLDTLAKKTPCASTNIYDPLKETLRLLGDKKDTEFYVPEDSTEPEPRLSVILLSDGYHNKPKEERDFKRLIALLERYDNIVVHTLGYGLTPEQLGKKYNLGRPATRADIETAKNPDKPVPDEEFVDGKRLREIAEVTGGISEFSGDADEITDALQLFLNALLGEYEIVYREPNPXRGSKNXVFVTATVNGKDVDTTQKSYTIXAFGRSLXWQTRLSMTXXVLLLLGXGGXLPFWQWSXXLKZEAEEDF"
       ]
      },
      {
       "output_type": "stream",
       "stream": "stdout",
       "text": [
        "\n",
        "\n",
        "Tery_3332: Total groups = 1\n",
        "Group 1:\n",
        "12 paths, Average identity = 91.11\n",
        "MNXQNLTQKLPKPILFGIFGGLGCLJAAAIFGEMWLSLTRRPPQPQTVVLLMDTSSSMSGGKLPEVQAAATGFVDRQNLTVNNLAIVEFADNSQVLTNFDADKTELKQAIANLTPSGGTNLSQGLKTVASLLQNSNTPNILLFTDGQPNNPRASESIARQIRDTGINLVTVGTGDANSNYLTSLTGNPDLVFFANSGEIDQAFRAAEKAISQLSDTSGDYGLIFGIFRIGAWSGFLALGIGLALIVGQNYNLRRRLLSSREVALGSGGGFLAGVIGGAIGQLALLPTINLPTLAIVARMTGWTFLGTLVGGGTSLFVPNLPRGKAFVAGGLGGVLGATCFLLLNAVVGVIPARLVGAGILGFCIGLAIAFSEQLDQEVVLLVRWNNSESTTISLGKEPIELGSSRNAHIYLSRDAGFPVKFAKIYIQEGKILLEFDPSIQKLPKFQNMKILKQELSDGSNRKFGDVLLEIKQKNILK"
       ]
      },
      {
       "output_type": "stream",
       "stream": "stdout",
       "text": [
        "\n",
        "\n",
        "Tery_3334: Total groups = 1\n",
        "Group 1:\n",
        "2 paths, Average identity = 95.21\n",
        "MLDVTITPHREFLTADTPGQKLFVMLKLRPNAVVSASRPSTTFTFVIDTSGSMYDDSEVGRPKIDVVVEALDRLVTDIQADPRDRIALVQFDDSASVVLPLTAATDTVTLQNAISKLRNFSGGTRMALGIEKSLKLLQDSVLSSRRTLIFTDGQTIDETDCRELAVQFAKAGIPITALGVGDYNEDLLVYLSDNTGGRVFNVVETASNTGTTDIAISELPQTIFQEVQQAQAEVVNNLKLSVRTVKGVDLQKLSRVYPDRADIPVTQEPYLIGSALANDDTIFILDFNIDSRAQSRVRIAQLGLTYDIPGQQRRGELPPQNLVIQLVAGQGGMAQTNPEVMGYVQQCNIGQLVDNAAAVADSNPDEAAKLLETAKRVTVKIGNEAMLKTLNLGIEEVRKTRKLSSGTRKTVKMGAKGKTIKMNDSPNDQLSEEQIRNMTGT"
       ]
      },
      {
       "output_type": "stream",
       "stream": "stdout",
       "text": [
        "\n",
        "\n",
        "Tery_3342: Total groups = 1\n",
        "Group 1:\n",
        "3 paths, Average identity = 95.35\n",
        "MITQILPIIKDFERLENRLKEIPQTPGIYLMRDSSERILYIGKSKKLRNRVRSYFRDGKNHTHRISLMIQQIVDIEFIVTDTEAEALALEANLIKQHQPYFNVLLKDDKKYPYLCITWSEDYPRIFITRKRRLGKARDRYYGPYVDTALLRNTLHLVKRIFPLRQRPKPLFKDRSCLNYDIGRCPGVCQELITPEEYHKIVQRVAMIFQGRTGELIDILNTQMEKEAEMLNFEKSAVIRDQIRGLNSLNADQKVSLPDDRVSRDAIALAGNHQIACIQLFQIRAGKLVGRLGFIAEIPDFKMAENQELGTILQRVLESHYQIVESVEIPTEIIVQNELPEGEFLQIWLTEKKGKKVEIFVPQRQGKAELVEMVRKNAEYELLRLAKMSDRNNEAMTDLAEILDLPELPHRIEGYDISHIQGSDAVASRVVFIDGLPAKQHYRHYKIKNPEVRSGHSDDFASMAEVMGRRFRDYEKQPTTEKPDLIMIDGGKGQLSAVVAVMEEMNMLEEVRVVSLAKQREXIFLPGESQPLTTDAEQPGVQLLRRLRDEAHRFAVSFHRDKRSQRMKRSRLDEIPGLGQHRQKLLLGHFHSVDYIRMATVEQLAEVSGVGPKLAQQIYDYFH"
       ]
      },
      {
       "output_type": "stream",
       "stream": "stdout",
       "text": [
        "\n",
        "\n",
        "Tery_3352: Total groups = 1\n",
        "Group 1:\n",
        "2 paths, Average identity = 83.02\n",
        "EFNQQKFINXLSNIQGGRISHXSTPLSVNHLHIFSSLPSTNQTLWQLIDSGAXPGTIVLATQQTAGRGQWGRNWRSSIGGLYMSVAFSKGCGCTRVPKISISQTPQLTLSTAWGIASGLQNHGVPVKIKWPNDLILENRKLGGILTETRVKKEKIAWAVIGVGVNWANSVPDIGINLQSYYRNQSKPEISSLEMLAAIVFHGLDSGIRQLLYSGIENILSGYNQLLINMGQQVLVEDRLGEVVGVTNSGELKVKINQGLPTPKSQSQILPSEIYLKPGTISLGY"
       ]
      },
      {
       "output_type": "stream",
       "stream": "stdout",
       "text": [
        "\n",
        "\n",
        "Tery_3376: Total groups = 1\n",
        "Group 1:\n",
        "4 paths, Average identity = 93.28\n",
        "VTKKTLASLSAPDLSGKKVLMRADFNVPVDHGSITDDTRIRAAIPTIQDLIDKGAKVILTSHFGRPKGKVNESMRLTLVGERLSEVLGKEVKKCDDCIGKEVTSTVTAMKDGDVVLLENVRFYPGEEGNDPEFAKQLASVADIYVNDAFGTAHRAHASTEGVTRYLSPSVGGYLIEKELKFLQGAIDNPQKPLAAIIGGSKVSSKIGVIEALLDKCDKLLLGGGMIFTFYKARGLSVGKSLVENDKIELAKSLEAKAKEKGVTMLLPTDVVIADKFDPEANTQTVSIEAIPDGWMGLDIGPKSAKVFQDALADCKTVIWNGPMGVFEMEKFAKGTEAIAHTLADKQDSITIIGGGDSVAAVEKLGLGEKMSHISTGGGASLELLEGKNLPGIVALDE"
       ]
      },
      {
       "output_type": "stream",
       "stream": "stdout",
       "text": [
        "\n",
        "\n",
        "Tery_3380: Total groups = 2\n",
        "Group 1:\n",
        "1 paths, Average identity = 96.12\n",
        "MFERFTEQSIKVIMLAQEEARRLGHNFVGTEQILLGLIGEGTGIASKVLKENGVNLKDARNEVEKIIGRGSGFTPAEIPFTPRVKRMLEISLEEARKLDHNYIGTEHLLLGLLQDSEGVAAKILDNLGVDKGKIRTQVIRSLGEVAAVSPGGSIPSGKKAVTLEEFGTDLTKLATEGKIDPIVGREVEIERMIQVLGRRTKNNPVLIGEPGVGKTAIAEGLAQRIVNQDVPDILENKQVVSLNISSLIAGTRFRGEFEERLKKIMDEIRANGNIILVIDEIHTVVGAGAIEGSMDAANILKPALARGELQCIGATTLDEYRKHIERDAALERRFQPVKVGEPSVEQTLEILYGVRSAYEQHHRLTISDEALTAAAQLSDRYISDRFLPDKAIDLIDEAGSRVRVKNSMVSPQLRELRRELSRVRKDKEEAVRQQDFEKASPLRDRELEIQGEIEETTSNKKDKKNSSSPIVTEEDIADIVASWTGVPVSKLTESESEKLLHIEDTLHQRLIGQDDAVKAVSRALRRARVGLKNPKRPIASFIFSGPTGVGKTELTKALAAYFFGSEEAMIRVDMSEYMERHTVSKLVGSPPGFVGYDEGGQLTEAVRRRPYTVVLFDEIEKAHPDVFNIMLQVLEDGRLSDSKGRVVDFKNTLIIMTSNIGSQVIEKGGGGLGFEFAEDQEEAQYNRIRNLVNEELKQYFRPEFLNRLDEIIVFRQLTKDEVKEIAEIMLREVFSRLGDREITLTVSDKFKERLVEDGFDPSYGARPLRRAIMRLLEDILAEALLSGKIRDGENVYVDLDENREVKVTPIGSSKKQLPEFAYSNN"
       ]
      },
      {
       "output_type": "stream",
       "stream": "stdout",
       "text": [
        "\n",
        "Group 2:\n",
        "1 paths, Average identity = 77.24\n",
        "MFERFTEKAIKVIMLAQEEARRLGHNFVGTEQILLGLIGEGTGVAAKVLKSMGVNLKDARIEVEKIIGRGSGFVAVEIPFTPRAKRVLELSLEEARQLGHNYIGTEHLLLGLIREGEGVAARVLENLGVDLTKVRTQVIRMLGETAEVTAGGGGGRTKTPTLDEFGSNLTQMASEGKLDPVVGRQTEIERVIQILGRRTKNNPVLIGEPGVGKTAIAEGLAQRIANNDIPDILEEKRVVTLDIGLLVAGTKYRGEFEERLKKIMDEIRSAGNVILVIDEVHTLIGAGAAEGAIDAANILKPALARGELQCIGATTLDEYRKHIERDAALERRFQPVMVGEPSVDETIEILYGLRERYEQHHKLKILDTALEAAAKLSDRYISDRYLPDKAIDLIDEAGSRVRLINSQLPPAAKELDKELRSILKEKDEAVRSQDFDKAGELRDREMEIKSEIRSLAQNKKLDPTNEDDSPMVTEEDIAHIVASWTGVPVNKLTESESEKLLHMEDTLHQRLIGQEEAVKAVSRAIRRARVGLKNPNRPIASFVFSGPTGVGKTELTKALAAYFFGSEEAMIRLDMSEYMERHTVSKLIGSPPGYVGYNEGGQLTEAVRRRPYTVVLFDEIEKAHPDVFNMLLQILEDGRLTDAKGRTVDFKNTLIIMTSNIGSKVIEKGGGGLGFEFSDNEADAQYNRIRNLVNEELKQYFRPEFLNRLDEIIVFRQLTKDEVKEISVILLKEVFSRLTEKGIKLEITDRFQERLVEEGYNPSYGARPLRRAIMRLLEDSLAEEILAGKINEGDTAVVDVGENGQIIVSKGEEKEKRELVPQVA"
       ]
      },
      {
       "output_type": "stream",
       "stream": "stdout",
       "text": [
        "\n",
        "\n",
        "Tery_3382: Total groups = 1\n",
        "Group 1:\n",
        "2 paths, Average identity = 89.30\n",
        "NLQVRFKTEEGKLLLLLPPEFNHGEIESPIAMTWTEIWQQLKQRLKAGEKFWQPXTEVELIAFDRLLDTRQLQEIAEALLEVELKLKRVSTSRRQTAVAAATVGYSVEQKSAKSXLSPTSTEKVQPLAEPLYLQMTVRSGVEIRHPGTIIILGDLNPGGSVIADGDILVWGRLRGVVHAGAKGNSRSVIMTLQMEPTLIRIANQVARGPEKVPVQFYPEVAYILXQGIRISRTKDFAKIYR"
       ]
      },
      {
       "output_type": "stream",
       "stream": "stdout",
       "text": [
        "\n",
        "\n",
        "Tery_3386: Total groups = 2\n",
        "Group 1:\n",
        "1 paths, Average identity = 83.94\n",
        "MTLNVRVIAPDEKIWDSEAQEIILPSTTGQLGILGGHAPLLTALDIGVMRVRHRNDWIPIALMGGFAEIEADEVNILVNGAERGDKIDKQAARLAYEEAEKRLQTAEGGDNLQEKIQAKVAFKRTRARLQAAGGMVN\n",
        "Group 2:\n",
        "1 paths, Average identity = 82.48\n",
        "MTLNVRVIAPDEKIWDSEAQEIILPSTTGQLGILGGHAPLLTALDIGVMRVRHRNDWIPIALMGGFAEIEADEVNILVNGAERGDKIDKQAARLAHEEAEKRLQTAEGGDNLQEKIQAKVAFKRTRARLQAAGGMVS\n",
        "\n",
        "Tery_3387: Total groups = 1\n",
        "Group 1:\n",
        "2 paths, Average identity = 82.27\n",
        "MNNNIAHRLEQYTIKRPSQVLIVKIVIDEHSDEIVIFKGFSSSLMRPTAFNPDIPVLPETARIVSVDILASPYNPEAPTYIRQGLTREQMQSLLIEXGL"
       ]
      },
      {
       "output_type": "stream",
       "stream": "stdout",
       "text": [
        "\n",
        "\n",
        "Tery_3398: Total groups = 1\n",
        "Group 1:\n",
        "12 paths, Average identity = 94.05\n",
        "VKLNQDXKPHKELNQXLFLITAKZNXTDFDXLIDYLNNHQDEVESALXNYGAVAIRGYEVKTPEQFQQVGLXIFPXLXNQXXGGAPRHQVTEYVWTASELPSYLTISGHTELSXSPSNQPDYILFFCPXVAXSGGETPVIDMKSVLSDLPEQLQQKCSHTRFVTKFYWVNTQKRLFDVRLWKWPWFRFPKSWKAVFNTEDKSLVEAKCFETGRQTEWFANDDLIACCPMEIVTSHPMTSETLWNGWFPRFHIWGTSIEASFVAKSQGSFRSWLVFLILFLITFGQICVEKIIPQQRKYRYLDVVFEDGSDLSFWDVYHIVKSYWKNAELFSWQEGDIVILDNYRMGHGRLPFTGERKVYIAF"
       ]
      },
      {
       "output_type": "stream",
       "stream": "stdout",
       "text": [
        "\n",
        "\n",
        "Tery_3399: Total groups = 1\n",
        "Group 1:\n",
        "12 paths, Average identity = 82.63\n",
        "VKLNQDXKPHKELNQXLFLITAKZNXTDFDXLIDYLNNHQDEVESALXNYGAVAIRGYEVKTPEQFQQVGLXIFPXLXNQXXGGAPRHQVTEYVWTASELPSYLTISGHTELSXSPSNQPDYILFFCPXVAXSGGETPVIDMKSVLSDLPEQLQQKCSHTRFVTKFYWVNTQKRLFDVRLWKWPWFRFPKSWKAVFNTEDKSLVEAKCFETGRQTEWFANDDLIACCPMEIVTSHPMTSETLWNGWFPRFHIWGTSIEASFVAKSQGSFRSWLVFLILFLITFGQICVEKIIPQQRKYRYLDVVFEDGSDLSFWDVYHIVKSYWKNAELFSWQEGDIVILDNYRMGHGRLPFTGERKVYIAF"
       ]
      },
      {
       "output_type": "stream",
       "stream": "stdout",
       "text": [
        "\n",
        "\n",
        "Tery_3406: Total groups = 1\n",
        "Group 1:\n",
        "4 paths, Average identity = 95.73\n",
        "MSAEVWTFILVTVSFMGYLYIGWRSRVQDSKGFFVADQGVPAIANGAATGADWMSAASFISMAGLISFLGYDGSIYLMGWTGGYVLLALLLAPYLRKFGKYTVPDFVGDRYYSNVARIVAVIAAIFVSMTYVAGQMRGVGIVFSRFLQVDIGTGVLIGMIIVAFFAILGGMKGITWTQVAQYTVLIIAYLIPAIAIATVITGIPIPQFAFTFSDIVEKLNQVQLDLGFAEYTAAFTNKTMLDVLFITIALMVGTAGLPHVIVRFYTVPDVRAARYSAGWALLFIAILYTTAPALATFARYNLIDSLHNKTVEEVQQLDWATKWEKTGLLEFRDKNNDDRFQITPDQETNEIKIDRDIIVLSTPEVAKLAPWVVALVAAGGLAAALSTASGLLLVISSSIAHDVYYRMIDPGASESRRLMVGRIMVGFSIAIAGYFGVNPPGFVAQVVAFAFGLAAASFFPVIILGVFDKRTNREGAIAGMVVGLLFTTIYIVGVKFVGMPTWFFGVSAEGIGTVGMVLNFVVTFIVSRMTPPPPLEIQEMVEDLRSPLAVPVPISHIGES"
       ]
      },
      {
       "output_type": "stream",
       "stream": "stdout",
       "text": [
        "\n",
        "\n",
        "Tery_3407: Total groups = 1\n",
        "Group 1:\n",
        "2 paths, Average identity = 91.45\n",
        "MSIILAKNLSKVYPVAIKEPGIKGTLRHFIRRQYQYLKAVENISFEINPGEIVGFLGPNGAGKTTTLKMLTGLIHPSNGMVKVADNIPFERKREFLQQITLVMGQKQQLIWDLPVLDSLKINAAVYGVSDKEYRRRLMELTEMLSLEGKLKQPVRKLSLGERMKAELMAALLHQPQVLFLDEPTLGLDINAQVAVREFLREYNQRYQATVLLTSHYMADITALCKRVLLIYQGELIYDGSLDGLLDRFSPYREVQIELINPVPPDVDNFQKLLSNYGEVETLAGQAVRLLVRRENLTTTVAQILAELEVQDLTVTDPPIEEIIGRVFRSGLITKVK"
       ]
      },
      {
       "output_type": "stream",
       "stream": "stdout",
       "text": [
        "\n",
        "\n",
        "Tery_3424: Total groups = 1\n",
        "Group 1:\n",
        "2 paths, Average identity = 83.56\n",
        "MSKPPIHAFFLGRAIAEGIYEQLENDITNTLSGLGKFDAEQRENLRNFIGQVSEKADVQAKAGNNTGNSSIPLDLDYQPKDLQAIIDDLRYEVAQVREELKKYRN\n",
        "\n",
        "Tery_3441: Total groups = 1\n",
        "Group 1:\n",
        "3 paths, Average identity = 91.87\n",
        "MTKSIPELPTKYNPFVTEAKWQKYWEQNNTFKADPNKLGDPYCIVIPPPNVTGSLHAGHAFNNSLIDALIRYHRMRGDNALYLPGTDHASIAVQTILESKLKAEGKTRYDIGREKFLERAWEWKGESGGTIVNQLRRLGVSTDWTRERFTLDEGLSKAVIEAFMRLYKQGLIYRGNYLVNWCPASQSAVSDLEVENKEVNGNLWHFRYPLTDGSGYVEVATTRPETMLGDTGVAVNPNDDRYKDIIGKTLSLPIMKREIPIIADELVDPEFGTGCVKVTPAHDPNDFEMGKRHNLPLINIMNKDGSLNENAGVYVGQDRFEARENVVKQLKEEGFLVKVEDYSHSVPYSDRGKVPIEPLLSTQWFVKIQPLAEKTLELLDRHNQPRFVPERWTKVYRDWLVKIKDWCISRQLWWGHQIPAWYAVSETNGEITENTPFVVAPLEAEALEXAKAKFGDDVKIQQDPDVLDTWFSSGLWPFSTLGWPENTPDLAKYYPTSTLSTGFDIIFFWVARMTMMGVHFTGKMPFETVYIHGLMLDENGKKQSKSAGNGIDPLLLIEKYGTDALRYTLMRETAGAGQDVRMDYNRETDESASVEASRNFTNKIWNAARFVMMKLGGKTPEELGEPQTDKLELVDCWIWSRFYQTVEQTCDYLDNYGLGEAAKGIYEFIWGDFCDWYLELVKSRLQGEDENSRLVAQQTLAYILDGILRLLHPFMPHITEEIWHTLNQVGEENCLALQSYPKLDKSLINSDLDHEFELLIGVIRSLRNLRAEADIKPKVKITAILQSENEKEREILRKGENYIQDLVKIEKLNITSNVDNTVGQTIAGVIGTVQVLIPLSGVVDIEALSARLNKKLEKLEKEVGSTKKRLSKPGFVNKADPKFVEETRHNLAEAEKQAEILRDRLNQLK*N"
       ]
      },
      {
       "output_type": "stream",
       "stream": "stdout",
       "text": [
        "\n",
        "\n",
        "Tery_3447: Total groups = 10\n",
        "Group 1:\n",
        "10 paths, Average identity = 74.94\n",
        "VKXILRQIRRKFGEITPEVQTQIEQLSLEKLDILGEEIFDLATXVDLENWL\n",
        "Group 2:\n",
        "1 paths, Average identity = 75.47\n",
        "VKQILRQIHRKFGEIAPEVQIQIEQLSLEKLDILGAEIFDLATMIDLENWLGS"
       ]
      },
      {
       "output_type": "stream",
       "stream": "stdout",
       "text": [
        "\n",
        "Group 3:\n",
        "1 paths, Average identity = 81.13\n",
        "VKQILRQIHRKFGEIAPEVQTQIEQLSLEKLDILGAEIFDLATMIDLENWLAN\n",
        "Group 4:\n",
        "1 paths, Average identity = 76.47\n",
        "VKQILRQIRRKFGEITPEVKTQIEQLSLEKLDILGEEIFDLATLVDLENWL\n",
        "Group 5:\n",
        "1 paths, Average identity = 75.47\n",
        "VKQILRQIHRKFGEIAPEVQIQIEQLSLEKLDILGAEIFDLARMIDLENWLGS\n",
        "Group 6:\n",
        "1 paths, Average identity = 74.51"
       ]
      },
      {
       "output_type": "stream",
       "stream": "stdout",
       "text": [
        "\n",
        "VKQILRQIRRKFGEITPEVKTQIEQLSLEKLDILGEEIFDLVTIVDLENWL\n",
        "Group 7:\n",
        "1 paths, Average identity = 72.55\n",
        "VKQILRQIRRKFGEITPEVQTQIEQLSLEKLDILGEEIFDLVTIVDLENWL\n",
        "Group 8:\n",
        "1 paths, Average identity = 75.47\n",
        "VKQILRQIRRKFGEIPPEVKTQIEQLSLEKLDILGDEIFDLATIADLENWLAN\n",
        "Group 9:\n",
        "1 paths, Average identity = 74.51\n",
        "VKLILRQIRRKFGEITPEVQTQIEQLSLEKLDILGEEIFDLATIVDLENWL"
       ]
      },
      {
       "output_type": "stream",
       "stream": "stdout",
       "text": [
        "\n",
        "Group 10:\n",
        "1 paths, Average identity = 71.70\n",
        "VKQILREIHRKFGEIAPEVQIQMEQLSLEKLDILGAEIFDLARMIDLENWLGS\n",
        "\n",
        "Tery_3450: Total groups = 1\n",
        "Group 1:\n",
        "2 paths, Average identity = 81.36\n",
        "MNQEQXXPISNQLPLITSQPILKKAILYKLDSYISGCGKLXLPCLPGMLDYYTNVLEKLFSHLGRPMSTKXQQQLRQMLERKLAEGYNVSANAMLVIZYELVKPPKKGMACQITIRTPSLGEHYDSWVDNRTPPLFGSHPDAKVLATVAEFEGNSTKILDIGGGTGRNALPLARMGHYVDVLELTRAFIEQLQKAIATENLSINVIKGDILDPLTRLQPNFYQLAIATEVISHFRNVDDLRLFLAKMSDVICSGGLLLFNLFLTANEYVPDELARDMSQLCWSSLFTSEELTIAMEGLPLVSVSNDLVIEYERQYLPETAWPPTSWFESWATGRDVFPLANGQPPLEFRWILCRRV"
       ]
      },
      {
       "output_type": "stream",
       "stream": "stdout",
       "text": [
        "\n",
        "\n",
        "Tery_3451: Total groups = 1\n",
        "Group 1:\n",
        "2 paths, Average identity = 91.37\n",
        "LSKFILKVVWLDDNVALAVDQVVGNGTSPLTCYFFWPRNDAWEQLKNELEAKHWISEVDRVALLNKATEIISYWQEEGRRRPLSEAQTKFPEIIFTGTN\n",
        "\n",
        "Tery_3454: Total groups = 1\n",
        "Group 1:\n",
        "2 paths, Average identity = 89.08\n",
        "GSSLCSATETALLSVSPIKVQQLAQSQKTSALALWEIKKKINRPIVTVVIINNIFNIVGSILIGNIAASVLGNAWLGIFSAILTFLVIVFGEIIPKTLGERYAMQFALTVALPVQGLTFIFTPIVWFMEKITSPFTQGKKLPTTNEAEIMFLTRIGYKEGVIEGDEAEMIGRVFGLNDKSASDIMTPRIATTYLYSDSTLAEVKLDIIGSQHSRIIVIGDSIDDIVGMVLKHELLKGIIEGKESQKITYFMRDVRFVPETLRVDLLLKEFQKYRQHLMVVLDEYGGVSGVVSLEDVLEELTGEIVDETDQSIDLQVVARMRGKIKLKD"
       ]
      },
      {
       "output_type": "stream",
       "stream": "stdout",
       "text": [
        "\n",
        "\n",
        "Tery_3457: Total groups = 1\n",
        "Group 1:\n",
        "2 paths, Average identity = 87.27\n",
        "MSVTENQKSKWKPSRLFQTLAYFRVIPFVGSVKWLQKLFGEKTLLPADTSEVVLVVGANGGVGKRIVPRLLKRGYQVRCLVRDAKKAEKVLGKNVAIVTADITKPETLTPEIFKDVSKIICCTGTRVQPVEGDSPNREKYYQGIKFFMPEVVEDPQLVEYEGMKNLVAAAKPQLQPSNNKILFDFKNPTQDLKETWGALDDVVMGGVSESSIDITDSGAVFSGNVSTENSGGFVSVRTRNFDPPMNLLGSAGIELRVKGDGKRYKFFLRCEDKWDGVGYSYSFDTVYNIWITIRIPFKDLIPVFRAKVVENAQPFNPSQIYSYQLMLSKFEYNRELNPRFAPGFFQLEVEYVKIYGSDQLPKFVLVSSAGVTRPGRPGLNLDEQPPAVKFNDQLKGILNWKFKGEEVVRSSGIPYTVIRPCGMTEQPGGQALIFDQGDNIKGIVSRDDIAELCVKVLEENLACNKTFEVKGDKDNQATAENLQQLFNALGPDGKKSPLTV"
       ]
      },
      {
       "output_type": "stream",
       "stream": "stdout",
       "text": [
        "\n",
        "\n",
        "Tery_3458: Total groups = 7\n",
        "Group 1:\n",
        "5 paths, Average identity = 71.44\n",
        "KNYSDNXXXXWDGVAVELGSADSYRVLLQGQNARDGQAYVWTTNSEGVITKGSGWKSGDALLPLEQEFNIDLNGDGIIA\n",
        "Group 2:\n",
        "6 paths, Average identity = 71.35\n",
        "KNYSDNTTPNWDXXAVELGSADSYXVLLQGQNXRSGQAYVWTTNSEGVITRGSGWKSGDALSSIEEEFNIDLNNDQLI"
       ]
      },
      {
       "output_type": "stream",
       "stream": "stdout",
       "text": [
        "\n",
        "Group 3:\n",
        "4 paths, Average identity = 70.41\n",
        "KTYSDNSAPDWDGVAVELGSADSYRVLLQGQNARDGQAYVSTTNSEGVITKGSGWKSGDALLPIEEEFNIDLNXDXXIA\n",
        "Group 4:\n",
        "1 paths, Average identity = 70.06\n",
        "KNYSDNTTPNWDGVAVELGSADSYRVLLQGQNARDGQAYVWTTNSEGVITKGSGWKSGDALLPLEQEFNIDLNNDELI\n",
        "Group 5:\n",
        "2 paths, Average identity = 84.17"
       ]
      },
      {
       "output_type": "stream",
       "stream": "stdout",
       "text": [
        "\n",
        "NYXDNTXPHWDGVAVEANXSGGYRFLLQGQNNLSEKAYIWTTNSQGVITGGSGWKSGDALLPIEEEFNIDLNNDEIIG\n",
        "Group 6:\n",
        "2 paths, Average identity = 75.63\n",
        "KNYSDNTTPNWDGVAVEGNDSEGYEFLLQGQNAWSGQAYIWTTNSEGVITRGSGWKSGDTLLSWEEKFNIDLNGDELIG\n",
        "Group 7:\n",
        "1 paths, Average identity = 80.52"
       ]
      },
      {
       "output_type": "stream",
       "stream": "stdout",
       "text": [
        "\n",
        "ENYSDNTTPHWDGVAVEANESGGYRFLLQGKNNLSEQAYIWTTNSQGVITGGSGWKSGDALLPIEEEFNIDLNNDEL\n",
        "\n",
        "Tery_3463: Total groups = 1\n",
        "Group 1:\n",
        "2 paths, Average identity = 76.92\n",
        "PTPGRANVLLGIIRDPQNTDEWNQIARRIHALGIGYEPIDLRQIKTVNDLSGVKVIFLPNIQTLTQTQVQIIEEWVKQGGKLIASGQIGQKSQPGVRQKLRSLLGSYWAFPLSRPTTPEPKHRCLDLTCKESTSWAPKTDNQSTVAGGILIPAGLNSTTAATWKGSSGSSAVVITSQATYLGWHWGNSESATXDSIWLQAALNRYQGQSQFNAXNNNPLPLENNRLTVSRTNNSNPLKIQPRTTPSPISTKESINPVRVQPRTISSNTGENSNINLTAPTAQNSTVNQDNIWLRSQQKKISXENKTEHLTQVTEGLGSQNSNLGSKTATVTQTETVSEKDSPENLNSETTNTTNNTNNNNNNNRSRSIWQRFQQHREQQNQPSGNVSDQNKIISSSDNPTPQTNNNRGSIWNRTRQETKTTTSSSRRNPITALLRPPAKIQVPRSQTDPSSESAAPGLDIRQGNHPISRAQTYAMLEELKNLLGRFESALVAAKSANVEVNLETNDISLVAASSNAAFIAQRNKRISEAQKVIDRARQVIQNFPQQVKAKQYATARNQWLQTRQMLWDNYPTDGKRAGAEIRAVWFDRGTIVNARSERGLAMVFDRLAAAGINTVFFETINAGYTIYPSNVAPKQNPLTISWDPLKAAVKLAHERNMEVHAWIWTFAVGNQAHNRALGQVDSYLGPVISANPSWVMTDKKGRKRHPSDGKVYMDPANPEVRQYLLNIIDEIAGKYEVDGIHLDYIRYPFQNPDRNSSYGYSMTARNQFRQLYGIDPMKISSRDRQNLWKWTEFKINQVNSFVANTSDFLKKKYPKVILSTAVFPFPPHERFNKIQQDWGTWVQNGDIDLLTPMTYALDTNRFQQITQPLANTRVLGSTLITPAVKLLNIPEIVAVDQIQAARDLPTGGYIIFAAERITGGLHEFLRSTQGAGEKDNRKRTSLSAFTETTQVMESAIPYRKPFAAAADRFQTLKREWSFLLENEQLALRGSQLESWRNEAGKLATALEKLADSPDNSNLNNARRSLRKFQLKFKSTMSVHARQNAYQVQTWQNRLAALEMLLNYGERVKLNSKRF"
       ]
      },
      {
       "output_type": "stream",
       "stream": "stdout",
       "text": [
        "\n",
        "\n",
        "Tery_3485: Total groups = 3\n",
        "Group 1:\n",
        "6 paths, Average identity = 88.77\n",
        "MPXKPRNFQIGHSYHITTRCNNREFKLSRRECREVFLYAIKKVSTKYNFRLYALXIMSNHVHYLIEPLQXRRFTXNYALPQLVHSYVFQQNVKTHGAFLGKTILLQWVSFLR*RKSJEYFTLXXRVTXSGXNALRLFL*F**LW*LRMFD**WPDSMASGFLRVGQYSGPMCPEI*GIL*XI*VQTKKFEKVPLG*QTFRGYCAVF*WPKFSXCXRRRRSYQLLLTFRRR*CQTMKN*QR*LVNLL*LIDR"
       ]
      },
      {
       "output_type": "stream",
       "stream": "stdout",
       "text": [
        "\n",
        "Group 2:\n",
        "1 paths, Average identity = 100.00\n",
        "MPRKPRNLLAGYSYHITTRCNNREFKLSRRQCREVFLYAIKKVSTKYNFRLYALCIMSNHVHYLIEPLQPEDLPKIMHFLNWYTAMCFNRMLKRTGHFWEKRYYSNGFPSSDKERALNTLRYIHGNPKAAKMRCGFFYDFSNYGSYECLTNDGLTQWHPAFLELANTLEECAQKYKGFCRKYKPKQKKGKKCHWGSKFLGGIVLSFDGRNSRSTKKNSTKKKESTLFDFPPTVMPEENKEIARVVSQFVVANRPSVRWGG\n",
        "Group 3:\n",
        "4 paths, Average identity = 73.73\n",
        "MARKPRNFQTGYSYHITTRCNNREFKLIRRECREVFLYAIKKAIKKYNFKLYALCIMSNHVHYLIEPAQPEDLAKIMHFLNWYTAMCFNRMLKRTGHFWEKRYFADGFPPGDGERAINTLRYIHGNPKAAKIRGGFFYDFSNYGSYERLTDDGLTEWHPAFLKLANTLEGCAQKYKGFCNKYKPKQKTPKKSHWGSRLLXGITPSIXFEKRSSQKTKKSSTSFXFPPCQXTXKXEVAXVVXQFVEANRPPKQEG"
       ]
      },
      {
       "output_type": "stream",
       "stream": "stdout",
       "text": [
        "\n",
        "\n",
        "Tery_3512: Total groups = 1\n",
        "Group 1:\n",
        "3 paths, Average identity = 94.02\n",
        "VSNNLFNTESLLFTPAIPESNAIPIIFAFPNEYSVGITSLGYQVVWATLAMRSDLQVSRLFTDINEPLPKQAELFGFSLSWELDYVNIFDILESWEIPIRAKNRCGKNYPIIFGGGPVFTANPEPFADFFDVILLGDGENLLGYFIEAYKEVRGAEKQVQLKHLSQVPGVYVPSLYEVTYEGTNGAIKSIEPIDKDIPAVLQKQTYRGNSLSASTVVTEKAAWENIFMVEVVRSCPEMCRFCLASYLTLPFRSASLEGSLIPAIARGLTVTKRLGLLGASVTQHPEFESLLDYLSQSKYDDIRLSIASVRTNTVTEKLAKILANRDTKSITIAIESGSDRLRRIINKKLENEEIIQAAINAKAGGLKGIKFYGMVGLPGEESEDLDATXEMILTLKKAVPGLRLSLGCSTFVPKSHTPFQWFGVNYXSEKRLKFLEKXLRXKGIDFRPESYKWSVIQGLISRGDRRLSXLLELVRNYGDSLGSYKRAFKELRGKLPELDFYVFDBWELERILPWNHIQGPLSEATLKKHLAEATVL"
       ]
      },
      {
       "output_type": "stream",
       "stream": "stdout",
       "text": [
        "\n",
        "\n",
        "Tery_3523: Total groups = 1\n",
        "Group 1:\n",
        "2 paths, Average identity = 94.89\n",
        "MLDIRQIRENLQTVEELLKRRGEYNLQPILELDEKQRQLETERSQLQARSNQVGKQVGEKIKSGSDPKGSEIQALKEEGNQVKAKLSELEPKEKELKAKIEALLLPIPNLPSQSTPIGKSEAENIEVKRWGDEYIPQNPKIIPHYEIGEKLGIMDFERGVKIAQSRFVALIGAGAALERAIIQFMLNHHIQVGYVEVMAPLLVNSQSLTATGQLPKFAEESFKCAADDLWLIPTSEVSTMNLYRDEILSAEQLPIYHCAFTPCFRREAGAYGKDTRGLIRLHQFNKVEMVKIVHPDTSEEEHQKLVADAEAILQALKLPYRILELCTGDLGFSAAKCYDLEVWLPSSGTYREISSCSNVRDFQARRGNIRFKERKKKGTQYVHALNGSGLAVGRTMAAILENYQQVDGSVKIPELLQPYMGREFL"
       ]
      },
      {
       "output_type": "stream",
       "stream": "stdout",
       "text": [
        "\n",
        "\n",
        "Tery_3529: Total groups = 2\n",
        "Group 1:\n",
        "6 paths, Average identity = 85.31\n",
        "AVWNGVVNAFNGXSGRTMXQNLEGQRLXXQKELQEKQIVAQXZXEYXXTXSQIKLQQNXQZFQPDLEPNNQGLQKNLEIQGFAHQKQLREKPISAKFDLEIXRQEFQXKIVXYQCQENXXLQEFIKXVDMQIAKSNQEFQAWLFQQQKQLQIELAQYNRETQYLNAVYQRETTLEIKELDNWPIKNYSWQILQXHQGRDPIPVQIILAPPEIDFDRFEHLNKTSTXXFPKXEKRJSQHLXNFLEKHYPLENQQRPTELIDHXWDSNRFAGGSAVKTIFSXLKSEPILLIZSEVDGDLINIKVAYWSGGQEISPFYKTIISQLXYPXXLXEFAIQRALBWETNVKXKLLXXGKTEXEINZKFAGDNXLNLSIYREYKELQXEGIEXEXAYKXNSEDFXKXSALLGAYHNXIXALFXDIHYLIXTNLSPKLPELLAELETXFSIEXXLADDLFQMVJESYIGSLRAXTKDRSELVPXFAADIAXXXTXLSBXNLAEXMLDFSLESWLXXRYLSVENXXEKFDXVAXNLLPLDQEFXXKVNRCLVGLGXXKXLSXINSXYXRGIXKFNLEKYZEAXIDFGYVXXLNPXFXDGYYXRGLXYIQLEBYGDAVXDXTQVXRLDXSHAXAXNYRGYAYXKLGEYZXAVDDYNXAINLGLTEAVKNRDIVLGVWXXXQHQTEEKIKGEETKRLEREAEVKRQXXSXGEVFXFEXVTVNNTGKXISSNZGSAXQKXEDLGSGIKLEMVYIPGGSFLMGSPXNEXXRXSXEXPQHZVXJQPFXMSKYXITQDQYQAIMGNNPSXFKGGSRPVEXVXWHXATXFCQXLSSKTGKIYRLPSESQWEYACRAGTTTPFYFGETXTXELVNYXGXYXYGBAPKGKYRXXTTBVGXFXPNAFGJYDMHGNVWEWCXDXWHXBYNGAPTDGSXWXXGXNXNXXXLRGGXWXXNXXYCRSAIRDSYTWRDVHNGYTGFRVVCDGGXXL"
       ]
      },
      {
       "output_type": "stream",
       "stream": "stdout",
       "text": [
        "\n",
        "Group 2:\n",
        "9 paths, Average identity = 70.92\n",
        "NGLVKTFNDASGRTMQKNLEGQRLVHQKELQEKQITAQFEIEYMRTMSQIKLQQNNQEFQEKLEIARQEFQGKIVEYQCQENRKLQEFIKGVDMQIAKSNQEFQAWLFKQEKQHQIELAQYNRESQYLNAVYQRETTLEMKELDNWPLRNYSWQILKSHQGRDPIPVQVILALPEIGFDRFECLNRTSTSTFSEVEKPLSQHLKNFLEKHYPLENQKRPTELIDYAWDSNRFAGGSAVKTIFSRLKSEPILLIESEVNNDLINIKVAYWSGGQEISPFYKTIISKLDYRKVLYEFAIQRALDWETNVEPKLLAIGKTQEEINQKFVGDNALNLSIYREYQELQAEGIEFERAYKTNSDDFDKLLALLGAYHNIIAALFTDIHYLINTNLSPKLPELLAELETEFSIEKRLADNLFKMVVESYIGSLTAMIEDRSELVPGFAADVAFSLTSLSDSNLAERMLDFSLESWLKSRHISIENNREKIDMVDDNLLPLDQEFIGKVNRCLSNLGQQKNLDVINSCYCRANNNLQIEKYQEAIIDFSYVVDLNPCHAEAHHFRGHAYYNLGKYQEALDDYNQAIDLGRNEASEHKKIVLGILETIKREVEKKIRLEKELSKEELFTFEVVRVNXSGSIVNRSQGSARQKIEDLGNGVSLEMVKIPGGXFLMGSPDTEXXRXXXEGPQHYVDXPEFXMGKYVVTQGQWKAIASRTDLKVXLDLKXXPSXFKZPYKDIDRWXRPVEXVXWXXAVEFCKRLSXLTGXNYRLPSEAEWEYACRAGTTTPFYFGETIXXELXNYXXTDNEEYXXXGFYGXXPXXXYXXZTXPVGXFXXANAFGLYDXHGNVXEWCADEXHXNYXXXPTDXSXWLNGBXXXSXLRGGSWXXXPXXCXSAXRXXXXXXXXXXXXXGFXXVCDGGRXL"
       ]
      },
      {
       "output_type": "stream",
       "stream": "stdout",
       "text": [
        "\n",
        "\n",
        "Tery_3530: Total groups = 1\n",
        "Group 1:\n",
        "8 paths, Average identity = 88.29\n",
        "MENSEETSWNKVKEAFKKIWGYDNFRPPQGEIINCLLTGIDALIIMPTGGGKSICFQLPALLKKGLTLVISPLVALMENQVEELSDRSLPANLLHSQLPREKKRQTLEKLEQNQLRLLYLSPETLFNQKIWXLLSKSQTKINGLILDEAHCLVQWGETFRPAYRRLGSVRQTLIKSKPPGTKIPIAAFTATADPQAQKIIRTTLQLKNPKAFLLSPYRNNIYLKIQHICTPRSRRQELLKFIKTREKQAGLVYVRTRKDSEKLAQTLREKNYKTTSYHAGLSAEERRHIEKAWIRGEINFVVCTSAFGMGINKPDVRWVIHFQAPSLLSEYIQEIGRGGRDGKPAEALTLISEPTGWLDPEDKQRQKFLADKLKLQYQTAEKIIKQLPTTGNIDDLTDKFPNVAIALSILHSSGKLRWNDPFNYTINKSGSNKKVSLNYNSGIEKINKYFSTRKCRWQFLLEAFGFFQEAQNMACGHCDNCL"
       ]
      },
      {
       "output_type": "stream",
       "stream": "stdout",
       "text": [
        "\n",
        "\n",
        "Tery_3533: Total groups = 1\n",
        "Group 1:\n",
        "2 paths, Average identity = 91.70\n",
        "LAVVKTPLSNNTKATTKALRSLPETKNELKIYLDDLAEQIISGYRLSREEAIILTQIVGQEDILLLCQAADRVRQACCGNVVDLCSIINVKSGGCSENCSFCSQSVHHPGEDSPIYGLKSTEEILAQAKAAEAAGAKRFCLVSQGRGVKYNSPKSTEFEQILGTVRQIIAETNIKPCCALGEVTEEQAQALAEAGVTRYNHNLEASEHFYQEIVTTHSWNDRVETVKNLKAAGIQACTGGIIGMGETWVDRIDLALALRELEVESVPLNLLNPREGTPLGDLLRLDPYDALKAIAIFRLILPRQIIRYAGGREAVMGELQALGLKAGINAMLIGHYLTTLGQPPGKDQAMLESLGLQGGEVPVPTNGL"
       ]
      },
      {
       "output_type": "stream",
       "stream": "stdout",
       "text": [
        "\n",
        "\n",
        "Tery_3534: Total groups = 1\n",
        "Group 1:\n",
        "2 paths, Average identity = 77.56\n",
        "MXXXXNXXXXXRXXXKXSXVALTIXLXXTIXXVK*XXXXXXNQPCXSXSXFSXXXISTLVXXXXX*XX*XXXRLSXSX*WXWX*XIXXRIXRFXCX*CXXEXXXNRQSXXRSYXXXXDCR*XCXSLQXXXXXXXXXXQGSLCRYPFG*XXKXEXXKBXXX*FRXXXXXXXXYXXJXF*WXWXXXSFXEAXXCY*XXVEKXSRXRXNCSXASGXXWXQE*WCNCXNXSNXXXXRJX*VWXC*XCXXXXXXXXKXIW*JHXXXXXXXXXXXXXSXITXKXXXFYX*XXRX*FLSXXXLXLXAXLX*I**XSXSXXXRKND*IWJK*XXKSXX*XRLXSXT*XCXXXSXXXXX*N*XXXXXXSX"
       ]
      },
      {
       "output_type": "stream",
       "stream": "stdout",
       "text": [
        "\n",
        "\n",
        "Tery_3544: Total groups = 1\n",
        "Group 1:\n",
        "3 paths, Average identity = 81.91\n",
        "MMTPSQISTPKKRRPSRIEGIKENSNFLREPLATQLLEDTTHFTEEAVQILKFHGSYQQDNRDNRVKGQEKDYRMMLRTRNPGGFIPPQLFLTLDKLSHEYGNGTLRVTTRQGFQLHGVLKKNLKQVISSIIKSMGSTLGACGDLNRNVMSPPAPYRNRPEYEYARDYANKIADLLAPQTRAYYEIWLDGEKVISVEEAPDLKEARQYNGNGTIFPNSEEPIYGNHYMPRKFKCAVTVPGDNSIDLYTQDVSLVVITNEAGELEGFNVLAGGGLGRTHRKEETFPCLAQEIGYVTKEDIFDFIKAIVATQRDYGDRSDRRHARMKYLLHDWGVEKFKAKLAEYFGKSIFPFKSLPEWKYLDFLGWHEQGDGKLFLGISVENGRIKDGDSFQLKTALRKLVDLFKLPMLLTANHNIILYEIQPGQQEAIEQILNQHGISKEKNIDPLVRYSMACPAFPTCGLAITESERTLTGILGQIRLWLDKVGLGQEHFVVRMTGCPNGCARPYMAELGFVGSAPDSYQIWLGGSPNQTRLAKPYIDKLHINNLEAELEGIFIYFKQQRQPEESFGDFCNRIGIEAIHKFVTNYQSSFSMNTDINNPSLNSINSENNIPIVQDVTETTPDTKSQEESISKNLEDNQEVILMNSPVTPSTNMTQTTTTTPATTTTEAQPFSTHQPSKTSIFRSDANTTTTLGQEVGKPLLGSTIAPTLEQQEVQPEVALTTAPTLEQQEVQPEVALTTTPTLEQQEVQPEVXLTTTPTLEQQEVQPEVELTTTPTLEQQEVQPEVELTTXPTLEQQEVQAEVALTTDPTLDQEVGQPVSEXASLPDKPKDTSKMRHRVSVRDEIYTKLKEESKRQGKPVVQLATEAISEYLEKIRKDESLTTTDETDF"
       ]
      },
      {
       "output_type": "stream",
       "stream": "stdout",
       "text": [
        "\n",
        "\n",
        "Tery_3586: Total groups = 1\n",
        "Group 1:\n",
        "4 paths, Average identity = 93.85\n",
        "MVEAKSYKETVNLPQTNFNMRANSVTREPEIQKFWAESQIYERLSETNPGEIFTLHDGPPYANGNLHIGHALNKILKDIINRYQILQGRKVRYVPGWDCHGLPIELKVIQNIKSAERAKLTPIELRHKARDFALETIDKQRESFKRYGVWGDWEHPYMTLSPEYEAAQIGVFAKMALKGYIYRGLKPVHWSPSSKTALAEAELEYPEGHKSRSIYAAFKITNLAKAVEKSLESYLEKLWVAIWTTTPWTIPGNLAVSVNPDLNYAVVKPDADYAMGKDKLFIVAAEAVERLSATLGTTLTPVATVKGEDLENCTYQHPLFDRESKIVIGGDYVTTESGTGLVHTAPGHGQEDYIVGQRYSLPILSPVDGNGKFTAEAGEFTGLSVLAEGNIAVIEALQNVNSLLKEEPYEHKYPYDWRTKKPTIFRATEQWFASVEGFRSEALKAIAEVNWIPAQGENRITPMVNDRSDWCISRQRSWGVPIPVFYEKKTGEPLLTEETVAHVQKIIAEKGSDAWWEMSVEELLPETYRQDAEKYRKGTDTMDVWFDSGSSWAAVAQQREGLIYPVDIYLEGSDQHRGWFQSSLLTSIATNGVAPYKTVLTHGFVLDENGRKMSKSLGNVVDPVIVIEGGKNQKQEPAYGADILRLWVSSVDYSSDVPLGKNILKQIADIYRKIRNTARFLLGNIHDFDPAKDAVAYEEMPELDRYMLHRMTEVFAEVQDGFDKFQYFRFFQTIQNFCVVDLSNFYLDIAKDRLYISGTDAFRRRSCQTVLVVAVESLAKAIAPVLPHMAEDIWQNLPYPTAYKSVFESGWVKLEEKWHNPELVKLWEELRKTRTEVNKVLEKARAEKAIGAPLEAKVLLYVKDTKLREQIQAFNPIAKAEKSKSDFLEAKIEIEVENTENTTTNNSQKSPDNFDKTKEVLSNFYNTMSKLFSGYQKALGGVFFLIALLLLMKLTVTVVATINQIPVVNYILGLVGFIYTIRFVTQNLLFTKSRQSFLEKIKFTTENILGEEALLPKNKKMADDTVKQSATLVYPEGVFVPPQKVESIPEPQVVETETLPQQPNNIKAMIPGNGVDELRYLFITSQVELLESPESLSNLEYKSISDSLGIGVVKADGKKCDRCWNYSTHVGDFSEDPTICERCVVALAGDF"
       ]
      },
      {
       "output_type": "stream",
       "stream": "stdout",
       "text": [
        "\n",
        "\n",
        "Tery_3589: Total groups = 3\n",
        "Group 1:\n",
        "1 paths, Average identity = 84.62\n",
        "MNNVLEYIYNHPKETKRIIGITDKQLIKLIENAQKVEDKKRQAIASEEKRLIKAGGGRKKSLGKAEEIILTLYYLHHVPTFQLLGAIFGVSESTANNIFHYWIDILRELLP\n",
        "Group 2:\n",
        "1 paths, Average identity = 72.54\n",
        "MTQILEYINNHPKEIKRVIGITDEQFKKLVGNAQKLALKKRQAIASQEKRLIKAGGGRKKSLKVEEEIILTLYYLPP*PTFQILGIYFGVSESTANNIFHLVDRY\n",
        "Group 3:\n",
        "1 paths, Average identity = 74.04\n",
        "IYNHPKEIKRIIGITDKQLIKLIEIAQKIEEKKRQVIASREKRLIKVVEGIKKSLSKSSDVILTLYYSHHVPTFQLLGAIFRVSKSTANNIFQAKDRYFEGITT"
       ]
      },
      {
       "output_type": "stream",
       "stream": "stdout",
       "text": [
        "\n",
        "\n",
        "Tery_3613: Total groups = 19\n",
        "Group 1:\n",
        "1 paths, Average identity = 76.64\n",
        "AIFGDGTNYHNSQEFREYLMLINQEKPEEKWLINCRLICSECPRKKLCGRCLVTNQKFHYYILLSL*FF*NS*VAI*IFCRWSNI*FSQTFSVWNFPTT\n",
        "Group 2:\n",
        "1 paths, Average identity = 79.80\n",
        "LAIFGDGATYHNSQEFREYLMLINQEKPQ*KFLINCGFICSECSRAKSRKRYLVTNQKLHHYILSSLQFF*NS*VAI*VFCRWSNI*LS*TFSV*SFATT"
       ]
      },
      {
       "output_type": "stream",
       "stream": "stdout",
       "text": [
        "\n",
        "Group 3:\n",
        "1 paths, Average identity = 73.34\n",
        "LAIFWEGASYHNFQEFREYLMLINQEKPKQQWLINCLKFAPNAP*KNSRIYLVTNQKNHDCILSSL*LF*NS*VVI*IFCRWSNI*FSQTFSAWNFAT\n",
        "Group 4:\n",
        "2 paths, Average identity = 87.32\n",
        "LXIFXDXASYXNSQXFRELLKLINQEKPEXKWXINCLKFAXNXPEQNPVEDIWLXXKNFMIXFYHLCSSFKIVKWLFKFFADGQIFDFPKLFQYGILPQP\n",
        "Group 5:\n",
        "1 paths, Average identity = 72.81\n",
        "LAIFGNSASYHNYQEFREYLILINQEKPEEK*LINSLKFAPNALEKKL*KIFGYKP*IS*LYFIIFVVILK*LSGYLNFLQMVKYLIFPNFFSMEFCHN"
       ]
      },
      {
       "output_type": "stream",
       "stream": "stdout",
       "text": [
        "\n",
        "Group 6:\n",
        "1 paths, Average identity = 73.04\n",
        "LAIFWDGATYHNSQADREYLMTINQDLSEEEWLINSTLICSQCSGAKSC*RYLVANQKFQYYFLSSLQFF*SS*VI*SFLRMVKYSISQNFFSMEFCRN\n",
        "Group 7:\n",
        "1 paths, Average identity = 83.00\n",
        "LAIFWDGASYHNSQDFR*LLKLINQEKTEKKWLINCLKFAPNAP*QNPVEDIWLQTKNFMIAFDHLCSSFKIVKWLFKFFAYGQIFDFPKLFQYGILPQP\n",
        "Group 8:\n",
        "1 paths, Average identity = 86.00\n",
        "LAIFWDRASYHNSQEFRELLKLINQEKPEEKWWINCLKFAPNAPEQNPVEDIWLQTENFIIAFYHLCSSFKIVKWLFKFFADGQIFDFPKLFQYGILPQP"
       ]
      },
      {
       "output_type": "stream",
       "stream": "stdout",
       "text": [
        "\n",
        "Group 9:\n",
        "1 paths, Average identity = 70.66\n",
        "LAIFWDGATYHNYKAEQEYLMTINQH*SEEEWVINCTLICSKYSGAKCC*KYLVTNPKNQYYFLSSLQLF*SS*VI*FFLDGQIFNFPKLFQYGTLSQPT\n",
        "Group 10:\n",
        "3 paths, Average identity = 79.04\n",
        "LAIFWDGATYHNSQADREYLMTINQDLSEEEWLINCTLICSQCSGAKSC*RYLAKFPKISVLLFIIFXVLLK*LSGYLSFLRMVKYLISQNFFSMEFCPN"
       ]
      },
      {
       "output_type": "stream",
       "stream": "stdout",
       "text": [
        "\n",
        "Group 11:\n",
        "1 paths, Average identity = 83.00\n",
        "LAIFGDGTSHHNSQEFRELLKLINQEKPEEKWWINCLKFALNAPEQNPVEDIWLQTKNFMIAFYHLCSSFKIVKWLFKFFADGQIFDFPKLFQYGILPQP\n",
        "Group 12:\n",
        "1 paths, Average identity = 82.00\n",
        "LAIFWDGASYHNYQDFRELLR*INQEKPE*KWLINCLKFAPNAPEKKPVEDIWLQTKNFMIAFDHLCSSFKIVKWLFEFFADGQMFDFPKLFQYGIWPQP\n",
        "Group 13:\n",
        "1 paths, Average identity = 80.81\n",
        "LAIFGDGASYHNSQDFRELLKLINQEKPEYKWWMNSLKFAPNAPE*NPVEDIWL*TKNFMIAFDHLCSSFKIVKWLFKFFADGQIFDFPKLFQYGILPQ\n",
        "Group 14:\n",
        "1 paths, Average identity = 72.13"
       ]
      },
      {
       "output_type": "stream",
       "stream": "stdout",
       "text": [
        "\n",
        "LAIFWEGASYHNPQDFREYLMLINQEKPEEK*LLNCLKFAPNAPEKTL*KIFGYKRKIL*LHFIIFVVLLK*LSGYLIFLQMVKCLIFQNFFSMEFCHN\n",
        "Group 15:\n",
        "1 paths, Average identity = 80.00\n",
        "LAIFGDGASYHNSQDFR*LLKLINQEKPEEKWWINCLKFTRNPPEQNPVEDI*LQTKNF*IPFYHLCNYFKIVKWLFKFFPDGQIFDFPKLFQYGILPQP\n",
        "Group 16:\n",
        "1 paths, Average identity = 76.34\n",
        "ARIKEVEILRILWNLLNQEKPEEKWWINCLKFAPNAPEQNPVEDIWLQTKNFMIAFYHLCSSFQIVKWLFKFFADGQIFDFPKLFQYGILPQP"
       ]
      },
      {
       "output_type": "stream",
       "stream": "stdout",
       "text": [
        "\n",
        "Group 17:\n",
        "1 paths, Average identity = 77.00\n",
        "LAIFGDGGSYHNSQDFR*LLKLINQEKTEEK*LINCLKFAPNSPGQNPVENICLQTKKIMVTFYHLCSYFKIVKWLFKFFADGQIFDFPKLFQYRIWPQP\n",
        "Group 18:\n",
        "1 paths, Average identity = 70.69\n",
        "AIFGDGASYHNSQEFRELLKLIKSRKTRIKIVDKLSKICSECPRIKPCRRYLVTKEKFYDCILSCLQFFSNS*VAI*IFCRWSNI*FS*TFSVWNFAT\n",
        "Group 19:\n",
        "1 paths, Average identity = 73.83\n",
        "IWDGASYHNSQDFR*LLKLINQEKTEEKWLINL*NLLRIPQNKTL*KIFGYKPKTS*LHLIIFLVLLK*LSGYLNFL*TVKFLIFQNFFSMEFCHN"
       ]
      },
      {
       "output_type": "stream",
       "stream": "stdout",
       "text": [
        "\n",
        "\n",
        "Tery_3635: Total groups = 13\n",
        "Group 1:\n",
        "8 paths, Average identity = 74.63\n",
        "MKKAKTLKRKLGNPKPFLSVAXELKRYTIPXMC*SXYQMERHRLETG*N*SIQVAKVNLQSIQPWRNQ*DA*IPKTSDQKLLRKVASC*TCDTRQQGKENCGYRRYQ"
       ]
      },
      {
       "output_type": "stream",
       "stream": "stdout",
       "text": [
        "\n",
        "Group 2:\n",
        "1 paths, Average identity = 83.22\n",
        "MKKAKTLKRKPCNPKPFLSVVWDTDDRPSQVNVNPNLKWKNINWKRVLKNVFKLQKLIYRASSRGDIRKMRKYQRLLIKSYYPRLLAIRAVTQDNQRRKTVGVDGMK\n",
        "Group 3:\n",
        "2 paths, Average identity = 74.20\n",
        "MNKAKTLKRYLGNPQPSLSVAWNTDDIPSRARINPHFKWKDIDWKRVLKNVFKLQKLIYRASSRGEISKMRKYQKLLTKSYXPRLLAVRXVIXENQXKKTAGXXDXK\n",
        "Group 4:\n",
        "2 paths, Average identity = 74.82"
       ]
      },
      {
       "output_type": "stream",
       "stream": "stdout",
       "text": [
        "\n",
        "MNKAKTLKRRLGNPKPFLSVAWDTNDITSQLSVNPNLKWKDIDRQWVEKNVFKLQKLIYRASSRGEIRKMHKYQRLLTKSXYARLLAIRRVXQDNQIKKTAGVDXIK\n",
        "Group 5:\n",
        "1 paths, Average identity = 75.70\n",
        "MNKAKTLKRHLGNPRPFLSVAWDSNDIPSLVSVNPNIKWRDINWKQVEVRVFKLQKLIYRASSRGEISKMRKYQKLLTKSYYARLLAVRRVTQDNRGKKTAGVDGIK\n",
        "Group 6:\n",
        "1 paths, Average identity = 73.58\n",
        "MNKAKTLKRRLGNTKPFFSVAWNTEDMPSQITVNPNFKWRDIDWKRALKNVFKLQKLIYKASSRGEIRKMHKYQRLLRKSYYPRLLAVRDATRDNQGQKTAGIDGI"
       ]
      },
      {
       "output_type": "stream",
       "stream": "stdout",
       "text": [
        "\n",
        "Group 7:\n",
        "2 paths, Average identity = 74.77\n",
        "MNKAKTLKRRXGXPXXFLXVAWBTDDIXSXVXXNPNXXWXDXKWKRXXKNVFKLQKLIYXASSXGEIRKXXKYQXLLSKSYXAXLLAVRXVXQXKQGXKTXGVDGIK\n",
        "Group 8:\n",
        "3 paths, Average identity = 76.01\n",
        "MNKAKTLKXXLXNPKXFXXVAWDTDBIXXXXXXXPXLKXXDINWKXXXKNXFKLQKLIYRASSXGXIXKXXXYQXLLTKSYYXRLXXXRXVXQDXQXKKXXGXXXIK"
       ]
      },
      {
       "output_type": "stream",
       "stream": "stdout",
       "text": [
        "\n",
        "Group 9:\n",
        "1 paths, Average identity = 77.57\n",
        "MNKAKTLKRRLGNTKPFLSVAWDTEDIPSQITVNPNFKWRDIDWKRALKNVFKLQKLIYRASSGGKIRKMCKYQRLLTKSYYARLLAVRDVT*DSLGRKTAGVDGIK\n",
        "Group 10:\n",
        "1 paths, Average identity = 76.64\n",
        "MNKAKTLKRKLGNPKPFLSVAWDTDDIPDPVCINPNLKGQDIDWRRVEKNVFKLQRFIYKASSRGEIRKMRKYQRLLRKSYYARLLAVRRVTQDNQGKKTAGVDGIK\n",
        "Group 11:\n",
        "1 paths, Average identity = 75.70\n",
        "MNKAKTLKRRLGNAKSFFSVAWDTDDIPNQVTINPNLKWKDIDWKRVEKNVFKLQKLIYRASNRGEIRKMHKYQRLLTSSYYARLLAVRRVTQDNQVQKTAGVDGIK"
       ]
      },
      {
       "output_type": "stream",
       "stream": "stdout",
       "text": [
        "\n",
        "Group 12:\n",
        "1 paths, Average identity = 75.70\n",
        "MNKAKTLKRHNGHPKPFYSVAWDTEDIGPLVGINPNFKWKDINWKRTLKNVFKLQKLIYRASSRGEISKMRKYQKLLTKSYYSRLLAFRCVTQVGQGNKTAGVDGMK\n",
        "Group 13:\n",
        "1 paths, Average identity = 71.96\n",
        "MNKAKTLKRRLGNLKPFLSVAWDTDDIPSQVSVNPNIKWRDINWKRALKNVFKLQKLIYRASSCGEIRNMRKY*RLLKYNARLLAVRRVFQENEGKRTSGIDGIK\n",
        "\n",
        "Tery_3637: Total groups = 10\n",
        "Group 1:\n",
        "3 paths, Average identity = 75.00\n",
        "VLQAKTIIQEWLSQVGLELKPEKTRIAHTLKEYEGNKPGFDFLGXTVR"
       ]
      },
      {
       "output_type": "stream",
       "stream": "stdout",
       "text": [
        "\n",
        "Group 2:\n",
        "1 paths, Average identity = 75.00\n",
        "VLQAKTIIQEWLSQVGLELKPEKTRIAHTLKEYEGNKPGFDFLGFTVR\n",
        "Group 3:\n",
        "1 paths, Average identity = 77.08\n",
        "VLQAKTIIQEWLNQVGLELKPEKTRIAHTLKEYEGNKPGFDFLGFTVR\n",
        "Group 4:\n",
        "1 paths, Average identity = 72.92\n",
        "VLQAKTIIQEWLNQVGLELKPEKTRIAHTLKEHEGNKPGFNFLGFTVR\n",
        "Group 5:\n",
        "1 paths, Average identity = 72.92"
       ]
      },
      {
       "output_type": "stream",
       "stream": "stdout",
       "text": [
        "\n",
        "VLRAKTVIQEWLSQIGLELESEKTRMAHTLEEYEGNQPGFDFLGFNIR\n",
        "Group 6:\n",
        "1 paths, Average identity = 75.00\n",
        "VLQAKTVIQEWLNQVGLELRPEKTRIAHTLE*YEGSGPGFDFLGFTIR\n",
        "Group 7:\n",
        "1 paths, Average identity = 70.83\n",
        "VVQAKTLIQEWSSQIGLELKPEKTKIAHTLEEYKGNKPGFNFLGFTVR\n",
        "Group 8:\n",
        "1 paths, Average identity = 75.00\n",
        "VLQAKTLIQEWLKQIGLELRPEKTKIAHTLGEYGRNKPGFDFLGFTIR\n",
        "Group 9:\n",
        "1 paths, Average identity = 75.00"
       ]
      },
      {
       "output_type": "stream",
       "stream": "stdout",
       "text": [
        "\n",
        "VLQAKALIQEWLNQVGLELKPEKTKISHTLEECEGSQPGFDFLGLTIR\n",
        "Group 10:\n",
        "1 paths, Average identity = 72.92\n",
        "LLQAKAVIQEWLKQLGLELKPGKTIIAHTLEEYEGNIPGFDFLGFTIR\n",
        "\n",
        "Tery_3639: Total groups = 1\n",
        "Group 1:\n",
        "4 paths, Average identity = 86.69\n",
        "ILLRESQQVLAELDIPTLSTVIYQRQCLADAPGQNITAFHMSGSMAASSASEFESLFXEVFSNVGIEIKPSTQNTKSS"
       ]
      },
      {
       "output_type": "stream",
       "stream": "stdout",
       "text": [
        "\n",
        "\n",
        "Tery_3640: Total groups = 2\n",
        "Group 1:\n",
        "1 paths, Average identity = 96.90\n",
        "MLKIHRLVEIFPPMTPEEFESLKKSIHRNGQQVPIKVLKSTNEIIDGRHRYQACQELNIEPLIEWVEDDLKEKRLRSLVVKLNLDRRHLTPSQKAWIAASFADLERGQFHGNRYTETFHSSIGNSANTKLPLGQTQSEIAKWFGSSERAIRQVKKIRREAPELNNYIYMGEVKIDDAYCLLSEVPEVRQQVLKRFNEDKSLNKKPKKLCQYKNEILKEQAQSNIKKAIANNFLIEISESLLVQPGETWQLGRHQLSCCDSSTWNPPSAKLAFADPPYNCGIAEWDFHFEWKHDWLINKADLVLVTPGDESLAGFLKKTEMPYRCTIAHWIKNGMSKGAMGYGNHILGLVFCKESTPYKVTGVRNQSFSTGVIKLDETNNTNHPGRKPLDFLVTWIEKLTKPGDFIIDPFLGSGTTLFAA"
       ]
      },
      {
       "output_type": "stream",
       "stream": "stdout",
       "text": [
        "\n",
        "Group 2:\n",
        "1 paths, Average identity = 85.68\n",
        "MLKIHKLAEIFPPMIQDEFESLKKSIHCNGQEVPIKVLKSTNEIIDGRHRYKACQELNIEPLIEWIEDDLTEERLRSLIIKLNLDRRHLTPSQKAWIAAGLANIEKGHFHGNQYTKTLNSGIGNSADTKLLLGPTQSEIAKCFGLSERTIRQAKKIRREAPELNNHIYVGDIKIDDACRLLSEAPAVRCQVLQRFNEDKSLNKKTKKLCQYKNEIVKEQAQFNIEKAIANNFVTEVSEQLLVQPGETWQLGRHKLTCCDSSTWNPPYAKLAFADPPYNCGIAEWDFHFEWKHDWLIDKADLVLVTPGDESLAGFLKKTEMPYRCTISHWIKNGMSKGAMGYGNHILGLVFCKESTPYKVTGVRNQSFSTGVIKLDETNNTNHPGRKPLDFLVTWIEKLTKPGDFIIDPFLGSGTTLFAA"
       ]
      },
      {
       "output_type": "stream",
       "stream": "stdout",
       "text": [
        "\n",
        "\n",
        "Tery_3645: Total groups = 1\n",
        "Group 1:\n",
        "2 paths, Average identity = 95.52\n",
        "MKYSASTSTPESVKPKQEELENSVPANTEYSQIDVSKLSEMMQRYVEVKQKYSHALLLFRVGDFFECFFQDAVTIAQELELVQTTKHAGKEIGRVPMTGVPHHAVEKYATILVEKGYAVVVCDQVEDSAIAKKENRQVKREITRILTPGTLTDDGMLKPRYNNYLAAVVIAKNHWGLAYTDISTGEFLTTQTEGLDQLTQELMRLQPSEILFPTKAPDIGFMLRPGERSEHLPEYLPNSFCYSLRPQQPFSLVEAKERLLIKFQLASLEGIGCERLPLGVRAAGGLLEYLEETQKENQVPLQCLRSYTLADFLILDHQSRRNLEITQTVRDGSYQGSLLSVVDKTSTAMGGRALRRWLQQPLLSLKGIRARHDTIDELIQDNDLRQDIQKVLRKIYDLERLTGRTGAGTANARDLVFLADSLTKLPELSTLVSQGDSPYLKVLQKIPPILQELGKKIHSHLVESPSQKLKEGGLIRPGVNERLDEMRKLAEEDQKWIANLEATERERTGIPNLKVGYNKAFGYYISISKSKANLAPDDYTRKQTLTNEERYITEELKEREVRILTAQDDLNELEYDLFIGLRNEVGEYAEEIRNVSRAVAAIDILCGLAEVAIYQNYVRPTMVDSRELKIIEGRHPVVEKYLPAGFFVPNTAILGSKNLEENDSVITPYSAPDLIILTGPNASGKSCYLRQVGLIQLMAQIGSFVPATSAVLGVSDRIFTRVGAVDDLATGQSTFMVEMNETANILNHATEKSLVLLDEIGRGTATFDGISIAWSVAEYLATEIFSRTIFATHYHELNELSSILDNVANYQVTVKELPDKIVFLHQVQPGGADKSYGIEAGRLAGLPDSVIARARQVMQQIEKHSKIAIGLRKGIKKKEEEEIITVEQLDIFSEEFGDSLL"
       ]
      },
      {
       "output_type": "stream",
       "stream": "stdout",
       "text": [
        "\n",
        "\n",
        "Tery_3652: Total groups = 29\n",
        "Group 1:\n",
        "22 paths, Average identity = 87.03\n",
        "RKDXXLSAFXRNXJKXXGSKSLVXNXXIXIXR*SRLYLXXXKKREKSLW*ARGKTR*KRKFSSXEKEKXKKIX*XQLXX"
       ]
      },
      {
       "output_type": "stream",
       "stream": "stdout",
       "text": [
        "\n",
        "Group 2:\n",
        "2 paths, Average identity = 87.40\n",
        "KDTILSAFSRNFIKEFGSKSLVFIDESGFEDNQDCIYAWSKKGKKVYGEQEEKRGKRENLVAGRRKKEKDLIXPIIXK\n",
        "Group 3:\n",
        "2 paths, Average identity = 84.46\n",
        "KDKILSVFPRNFIKNFGSKSLLFID*SEFEDNQDCIYVWSKKGKKVYG*QEVKRGKRENLVAGRRKKEKDXIAPIIFK\n",
        "Group 4:\n",
        "2 paths, Average identity = 81.90"
       ]
      },
      {
       "output_type": "stream",
       "stream": "stdout",
       "text": [
        "\n",
        "ILSAFSRNFIKKFGSKSLVFIDESGFEDNQDCIYAWSKKGKKVYGNQERKGGKRENLVAGRRKKSKDSIALIIFK\n",
        "Group 5:\n",
        "1 paths, Average identity = 87.18\n",
        "RKDKILSAFPRSFIKKNGSKSLVFIDKSGFEDNQDCIYAWSKKGEKVYGEQEEKRGKRENLVAGRRKKEKDLIAPIIF\n",
        "Group 6:\n",
        "1 paths, Average identity = 86.08\n",
        "RKDTILSAFPRNFIKKFGSKSLVFINESGFEDNQDCIYAWSKKGKKVYG*QEGKRGKRENLVAGRRKKEKDLIAPIIFK"
       ]
      },
      {
       "output_type": "stream",
       "stream": "stdout",
       "text": [
        "\n",
        "Group 7:\n",
        "1 paths, Average identity = 82.28\n",
        "RKDTILSAFSRNFIKKFGSKSLVFIDESGFEDIQDCIYAWSKKGKKVYGEQEGKRGKRENLVAGRRKKEKNLIAPIIFK\n",
        "Group 8:\n",
        "1 paths, Average identity = 81.82\n",
        "DKILSAFPRNLINNFGSKSLVFIDKSGFEDNQDCIYAWSKKGKKVYGEQEGKRGKRENLVAGRRKKEKKLIGPIIFK\n",
        "Group 9:\n",
        "3 paths, Average identity = 76.70\n",
        "REXRIXXYXKLXNXEILSKXLEXKALYLXINQDLKIIXTVFMPGXKKXKKFMVSKREXEVXEKI**XXEEKRKKI**HQLYL"
       ]
      },
      {
       "output_type": "stream",
       "stream": "stdout",
       "text": [
        "\n",
        "Group 10:\n",
        "1 paths, Average identity = 82.28\n",
        "RKDTILSAFARNFIKKFGSKSLVFIDKSGFEDNQDCIYAWSKKGKKVYGEQEGRRGKRENLVVGRRKKEKDLTAPIIFK\n",
        "Group 11:\n",
        "1 paths, Average identity = 83.12\n",
        "DKILSAFALNFIKKFGSKSFVFIDESGF*DNQDCIYACSKKGKKIYGEQEGKRGKRENLVAGRRKKSKDLIAPIIFK\n",
        "Group 12:\n",
        "1 paths, Average identity = 84.42\n",
        "DKILSAFPRNFIKKIGSKSLVFIDESGF*DNQDCIYAWSKKGKKVYGEQEGKVGKRENLVAGRRKKEKDLIAPIIFK\n",
        "Group 13:\n",
        "1 paths, Average identity = 85.14"
       ]
      },
      {
       "output_type": "stream",
       "stream": "stdout",
       "text": [
        "\n",
        "LSAFPQNFIKKFGSKSLVFIDESGFEDNQDCIYAWSKKGKKVYGEQEGKRGRRENLVAGRRKKEKDLIAPIIFK\n",
        "Group 14:\n",
        "1 paths, Average identity = 82.28\n",
        "RKDTILSAFARNFIKKFGSKSLVFIDKSGF*DNQDCIYAWSKKGKKAYGEQEGKRGKRENLVAGRRKKEKDLIGQIIFK\n",
        "Group 15:\n",
        "1 paths, Average identity = 80.52\n",
        "DTILSAFSRNFIKKFGSKSLIFIDESGFEDYQDCIYAWSKKGKKVYGEQEGKRGKRENLVAGRRKKEKDLIGPIIFK\n",
        "Group 16:\n",
        "1 paths, Average identity = 81.82"
       ]
      },
      {
       "output_type": "stream",
       "stream": "stdout",
       "text": [
        "\n",
        "DKILSAFSRNLIKKIGSKSLVFIDKSGLEYNQDCIYAWSKKGKKVYG*QEEKRGKRENLVAGRRKKEKDLIGPIIFK\n",
        "Group 17:\n",
        "1 paths, Average identity = 84.62\n",
        "KDKILSAFPRNFIKKFGSKSLVFID*LRFEDNQDCIYPWSKKGKKVYGEQEEK*GKR*NLVAGRRKKEKDLIALIIFK\n",
        "Group 18:\n",
        "1 paths, Average identity = 82.67\n",
        "ILSAFPRIFIKKSGSKSLVFVDKSGFEDNQDCIYAW*KKGKKVYGEQEGKRGKRENLVAGRRRKEKDLIGPIIFK\n",
        "Group 19:\n",
        "1 paths, Average identity = 77.92\n",
        "NKILSAFPRNFIKKFGSKSLVFIDESGLEDNQDCIYAWSKKGKKVYSKQEGKRGKRENLLAGRRKKEKNLMAPIIFK"
       ]
      },
      {
       "output_type": "stream",
       "stream": "stdout",
       "text": [
        "\n",
        "Group 20:\n",
        "1 paths, Average identity = 77.92\n",
        "DKILSAFPRNFINKIGTKSLVFIDESGFEYNQDCIYAWSKKGKKVYGEQEGKGGKRENLVAVIRKKEKDLITPIMFK\n",
        "Group 21:\n",
        "1 paths, Average identity = 80.52\n",
        "DKILSAFPRNFIKKIGSKSLVFIDESGFKDNQDCIYAWSKKGKKVYGE*EGKRGKR*NLVAGRIKKEKDLIGPIIFK\n",
        "Group 22:\n",
        "1 paths, Average identity = 82.43\n",
        "LSAFPRNFIKKFGSKSLVFIDKSGFEDNQDMIYAWSKKGKKVYGEPEGKRGKRENLVAWRRKKEKDLMAPIIFK"
       ]
      },
      {
       "output_type": "stream",
       "stream": "stdout",
       "text": [
        "\n",
        "Group 23:\n",
        "1 paths, Average identity = 79.73\n",
        "LSAFPLILIKKFGIKSLVFIDESGFEDNQDCIYAWSKKGEKVDGEQEGKRGKRENLVAGRRKKEKDLIGPIIFK\n",
        "Group 24:\n",
        "1 paths, Average identity = 76.62\n",
        "DKILSAKLESFIKKIGSKSLVFIDESGFEDNQDCIYAWSKKGKKVYGDQEGKRGTRENLVVGRRKKEKDLRVPIIFK\n",
        "Group 25:\n",
        "1 paths, Average identity = 76.00\n",
        "ILSAFPQNLIRNFGSKSLVFID*SGIKDNQYCIYAWSKKGKKVYGDPEGKRGKRENLVAGRRKKEKDLIAPIIFK"
       ]
      },
      {
       "output_type": "stream",
       "stream": "stdout",
       "text": [
        "\n",
        "Group 26:\n",
        "1 paths, Average identity = 72.15\n",
        "DKILSAFPRNLVKNFGSKSLVFIDESGLEYNQDCIYAWSKKGKKVYGEQDGKRGKRENLVAGRRKKGKRFNIIGPIIFK\n",
        "Group 27:\n",
        "1 paths, Average identity = 73.75\n",
        "REERIKYYYKLRNLIKQFGSKSLVFIDK*GFEDNQDCIYAWSKKGKKVYG*QEGKRGKRENLVAGRRKKEKDLIAPIIFK\n",
        "Group 28:\n",
        "1 paths, Average identity = 79.26\n",
        "DKILSAFARNFIKKNWR*KPCIY**IRILR*SRLYLCLVKKREKSLW*VRGKTR*KRKFSSREKKKRKRFNSTNYI*\n",
        "Group 29:\n",
        "1 paths, Average identity = 75.32"
       ]
      },
      {
       "output_type": "stream",
       "stream": "stdout",
       "text": [
        "\n",
        "DKILSETTKIIKKFGSKSLVFIDESGFEDNQDCIYACSKKGKKVYGKQEGKRGKREN*VAMRRKKEKDLIAPIIFK\n",
        "\n",
        "Tery_3657: Total groups = 77\n",
        "Group 1:\n",
        "1 paths, Average identity = 84.38\n",
        "LPKYSPDLNDIEHDFSALKISRMYSPINTSLD\n",
        "Group 2:\n",
        "2 paths, Average identity = 88.58\n",
        "LPKYSPDLNDIEHBFSXLKRARMYSPINTSID\n",
        "Group 3:\n",
        "1 paths, Average identity = 81.25\n",
        "LPKDSPDLNDIEHDFSTLKRARMYSPINTSLD"
       ]
      },
      {
       "output_type": "stream",
       "stream": "stdout",
       "text": [
        "\n",
        "Group 4:\n",
        "1 paths, Average identity = 87.10\n",
        "PKYSPDLNDIEHDFSALKISRMYSPINTSLD\n",
        "Group 5:\n",
        "1 paths, Average identity = 86.67\n",
        "LPKYSPDLNDIEHDFSALKIAKMYSPINTS\n",
        "Group 6:\n",
        "1 paths, Average identity = 86.67\n",
        "LPKYSPDLNDIEHDFSTLKRARMYSPINTS\n",
        "Group 7:\n",
        "1 paths, Average identity = 81.25\n",
        "LSKYSPDLNNIEHDFSALKIARMYSPINTSFD"
       ]
      },
      {
       "output_type": "stream",
       "stream": "stdout",
       "text": [
        "\n",
        "Group 8:\n",
        "1 paths, Average identity = 81.25\n",
        "LPKDSPDLNDIEHDFSTLKRARMYSPINTSLD\n",
        "Group 9:\n",
        "1 paths, Average identity = 93.10\n",
        "PKYSPDLNDIEHDFSALKIARMYSPINTS\n",
        "Group 10:\n",
        "1 paths, Average identity = 84.38\n",
        "LPKYSPDLNDIEHDFSVLKRARMYSPINISID\n",
        "Group 11:\n",
        "1 paths, Average identity = 90.00"
       ]
      },
      {
       "output_type": "stream",
       "stream": "stdout",
       "text": [
        "\n",
        "LPKYSPDLNDIEHDFSALKRARMYSPINTS\n",
        "Group 12:\n",
        "1 paths, Average identity = 84.38\n",
        "LPKYSPNLDDIEHDFSALKRARMYSPINTSLD\n",
        "Group 13:\n",
        "1 paths, Average identity = 78.12\n",
        "LSKYSPDLNNIEHDFSALKIARMYLPINTSLD\n",
        "Group 14:\n",
        "1 paths, Average identity = 78.12\n",
        "LSKYSPDLNNIEHDFSALKIARMYLPINTSLD\n",
        "Group 15:\n",
        "1 paths, Average identity = 78.12"
       ]
      },
      {
       "output_type": "stream",
       "stream": "stdout",
       "text": [
        "\n",
        "LSKYSPDLNNIEHDFSALKIARMYLPINTSLD\n",
        "Group 16:\n",
        "1 paths, Average identity = 78.12\n",
        "LSKYSPDLNNIEHDFSALKIARMYLPINTSLD\n",
        "Group 17:\n",
        "1 paths, Average identity = 90.00\n",
        "LPKYSPDLNDIEHDFSALKRARMYSPINTS\n",
        "Group 18:\n",
        "1 paths, Average identity = 90.00\n",
        "LPKYSPDLNDIEHDFSALKRARMYSPINTS\n",
        "Group 19:\n",
        "1 paths, Average identity = 90.00"
       ]
      },
      {
       "output_type": "stream",
       "stream": "stdout",
       "text": [
        "\n",
        "LPKYSPDLNDIEHDFSALKRARMYSPINTS\n",
        "Group 20:\n",
        "1 paths, Average identity = 87.50\n",
        "LPKYSPDLNDIEPDFSALKRARMYSPINTSID\n",
        "Group 21:\n",
        "1 paths, Average identity = 86.67\n",
        "LPKYSPDLNDIEHDFSALKRARMYSPINIS\n",
        "Group 22:\n",
        "1 paths, Average identity = 81.25\n",
        "LPKYSPDLNDIEHDFSALKRSRMYLPINTSLD"
       ]
      },
      {
       "output_type": "stream",
       "stream": "stdout",
       "text": [
        "\n",
        "Group 23:\n",
        "1 paths, Average identity = 90.00\n",
        "LPKYSPDLNDIEHDFSALKRARMYSPINTS\n",
        "Group 24:\n",
        "1 paths, Average identity = 90.00\n",
        "LPKYSPDLNDIEHDFSALKRARMYSPINTS\n",
        "Group 25:\n",
        "1 paths, Average identity = 86.67\n",
        "LPKYSPDVNDIEHDFSALKTARMYSPINTS"
       ]
      },
      {
       "output_type": "stream",
       "stream": "stdout",
       "text": [
        "\n",
        "Group 26:\n",
        "1 paths, Average identity = 81.25\n",
        "LPKYSPDFNDIEHDFSALKRARVYSPINTSIE\n",
        "Group 27:\n",
        "1 paths, Average identity = 86.67\n",
        "LPKYSPDLNDIEHDFSALKRARMYPPINTS\n",
        "Group 28:\n",
        "1 paths, Average identity = 86.67\n",
        "LPKYSPDLNNIEHDFSALKRARMYSPINTS"
       ]
      },
      {
       "output_type": "stream",
       "stream": "stdout",
       "text": [
        "\n",
        "Group 29:\n",
        "1 paths, Average identity = 81.25\n",
        "LPKYSPDLNEIEHDFSASKRARMYSPINTSFD\n",
        "Group 30:\n",
        "1 paths, Average identity = 78.12\n",
        "LPKNSPDFNDIEHDFSALKRARMYSPINTSLN\n",
        "Group 31:\n",
        "1 paths, Average identity = 89.66\n",
        "PKYSPDLNDIEHDFSALKRGRMYSPINTS\n",
        "Group 32:\n",
        "1 paths, Average identity = 86.67\n",
        "LPKYSPDLNDIEHNFSALKRARMYSPINTS"
       ]
      },
      {
       "output_type": "stream",
       "stream": "stdout",
       "text": [
        "\n",
        "Group 33:\n",
        "1 paths, Average identity = 86.67\n",
        "LPKYSPDLNDIEHDFSGLKRARMYSPINTS\n",
        "Group 34:\n",
        "1 paths, Average identity = 86.67\n",
        "LPKNSPDLNDIEHDFSALKIARMYSPINTS\n",
        "Group 35:\n",
        "2 paths, Average identity = 85.53\n",
        "LPKYSPDLXDIEHDFSALKIARMYSXINXSID\n",
        "Group 36:\n",
        "1 paths, Average identity = 83.33"
       ]
      },
      {
       "output_type": "stream",
       "stream": "stdout",
       "text": [
        "\n",
        "LPKDSPDLNDIEHDFSTLKRARMYSPINTS\n",
        "Group 37:\n",
        "1 paths, Average identity = 81.25\n",
        "LPKYSPDLNDIEHNFSELKRARMYSPINTYID\n",
        "Group 38:\n",
        "1 paths, Average identity = 81.25\n",
        "LPKYSADLNDIEHNFSALKRARMYSPINTSLD\n",
        "Group 39:\n",
        "1 paths, Average identity = 81.25\n",
        "LPKYSPNLNDIEHNFSALKRARIYSPINTYID\n",
        "Group 40:\n",
        "2 paths, Average identity = 75.00"
       ]
      },
      {
       "output_type": "stream",
       "stream": "stdout",
       "text": [
        "\n",
        "LSKYSPDLNNIEHNFSALKIARMYLPINTSLD\n",
        "Group 41:\n",
        "1 paths, Average identity = 75.00\n",
        "LSKYSPDLNNIEHNFSALKIARMYLPINTSLD\n",
        "Group 42:\n",
        "1 paths, Average identity = 75.00\n",
        "LSKYSPDLNNIEHNFSALKIARMYLPINTSLD\n",
        "Group 43:\n",
        "1 paths, Average identity = 86.67\n",
        "LPKYSPDLNDIEYDFSALKRARMYSPINTS\n",
        "Group 44:\n",
        "1 paths, Average identity = 86.67\n",
        "LPKYSPDLNDIEHDFSALKRARMYLPINTS"
       ]
      },
      {
       "output_type": "stream",
       "stream": "stdout",
       "text": [
        "\n",
        "Group 45:\n",
        "1 paths, Average identity = 86.67\n",
        "LPKYSPDLNDIEHDFSALKRARMHSPINTS\n",
        "Group 46:\n",
        "1 paths, Average identity = 86.67\n",
        "LPKYSPDLNDIEHDFSALKIARIYSPINTS\n",
        "Group 47:\n",
        "1 paths, Average identity = 84.38\n",
        "LPKYSPDLNDIEHDFSALKIARMYLPSNTSID\n",
        "Group 48:\n",
        "1 paths, Average identity = 86.67"
       ]
      },
      {
       "output_type": "stream",
       "stream": "stdout",
       "text": [
        "\n",
        "LPKYSSDLNDIEHDFSALKRARMYSPINTS\n",
        "Group 49:\n",
        "1 paths, Average identity = 86.67\n",
        "LPKYSPDLNDIEHDFSALKRARMYSSINTS\n",
        "Group 50:\n",
        "2 paths, Average identity = 85.00\n",
        "LPKYSPDLNDIEHDFSXLKRARXYXPINTS\n",
        "Group 51:\n",
        "1 paths, Average identity = 84.38\n",
        "LPKYSPDLNDIEHDFSALKRAIKYSPINTSID\n",
        "Group 52:\n",
        "1 paths, Average identity = 81.25"
       ]
      },
      {
       "output_type": "stream",
       "stream": "stdout",
       "text": [
        "\n",
        "LPKYSPDLNDIEHDFSASKRARMYSPINTFLD\n",
        "Group 53:\n",
        "1 paths, Average identity = 81.25\n",
        "LPKYSPDLNDIEHDFSTLKRARMYSPINKFID\n",
        "Group 54:\n",
        "1 paths, Average identity = 78.12\n",
        "LPKYSPDLNDIKHEFSALKRVRMSSPINTSID\n",
        "Group 55:\n",
        "1 paths, Average identity = 75.00\n",
        "LPKYSPDFNNIEHNFSALKRARIYSPINTSLD\n",
        "Group 56:\n",
        "1 paths, Average identity = 86.67"
       ]
      },
      {
       "output_type": "stream",
       "stream": "stdout",
       "text": [
        "\n",
        "LPKYSPDLND*EHDFSALKRARMYSPINTS\n",
        "Group 57:\n",
        "1 paths, Average identity = 86.67\n",
        "LPKYSPDLNDIEHDFSALKIARMYSPINIS\n",
        "Group 58:\n",
        "1 paths, Average identity = 86.21\n",
        "LPKYSPDFNDIEHDFSALKRARMYSPINT\n",
        "Group 59:\n",
        "1 paths, Average identity = 83.33\n",
        "LPKYSPDLNDIEHNFSALKRSRMYSPINTS"
       ]
      },
      {
       "output_type": "stream",
       "stream": "stdout",
       "text": [
        "\n",
        "Group 60:\n",
        "1 paths, Average identity = 80.00\n",
        "LPKYSPDLNDIEYDFSGSKRARMYSPINTS\n",
        "Group 61:\n",
        "2 paths, Average identity = 76.56\n",
        "LPKXXXDLNDIEHDFXALKRARXYXPINXSLD\n",
        "Group 62:\n",
        "1 paths, Average identity = 86.67\n",
        "LPKYSPDLNDIEHDFSALKRAIMYSPINTS\n",
        "Group 63:\n",
        "1 paths, Average identity = 83.33"
       ]
      },
      {
       "output_type": "stream",
       "stream": "stdout",
       "text": [
        "\n",
        "LPKYSPDLNDIEYDFSALKRARMYLPINTS\n",
        "Group 64:\n",
        "1 paths, Average identity = 81.25\n",
        "LPKYSLDLNDIEHDFSTLKRARMYSPINTYID\n",
        "Group 65:\n",
        "1 paths, Average identity = 86.67\n",
        "LPKYSPDLNDI*HDFSALKIARMYSPINTS\n",
        "Group 66:\n",
        "1 paths, Average identity = 83.33\n",
        "LPKYSPNFNDIEHDFSTLKRARMYSPINTS\n",
        "Group 67:\n",
        "1 paths, Average identity = 83.33"
       ]
      },
      {
       "output_type": "stream",
       "stream": "stdout",
       "text": [
        "\n",
        "LPKYSPDLNEIEHDFSALKRARMYSPINIS\n",
        "Group 68:\n",
        "1 paths, Average identity = 86.67\n",
        "LPKYSPDLND*EHDFSALKRARMYSPINTS\n",
        "Group 69:\n",
        "1 paths, Average identity = 83.87\n",
        "LPKYSPDLNDIEHDFSA*KRAIMYSPINTSI\n",
        "Group 70:\n",
        "1 paths, Average identity = 83.33\n",
        "LPKYSPDLNDIEHDFSALKRSIMYSPINTS\n",
        "Group 71:\n",
        "1 paths, Average identity = 80.00"
       ]
      },
      {
       "output_type": "stream",
       "stream": "stdout",
       "text": [
        "\n",
        "LPKYSPDLNDTEHNFSA*KRARMYSPINTS\n",
        "Group 72:\n",
        "1 paths, Average identity = 89.66\n",
        "PKYSPDLNDIEHDFSA*KRARMYSPINTS\n",
        "Group 73:\n",
        "1 paths, Average identity = 86.67\n",
        "KYSPDLNDIEHYFSALKRARMYSPINTSLD\n",
        "Group 74:\n",
        "1 paths, Average identity = 86.21\n",
        "VPKYSPD*NDIEHDFSALKRARMYSPINT"
       ]
      },
      {
       "output_type": "stream",
       "stream": "stdout",
       "text": [
        "\n",
        "Group 75:\n",
        "1 paths, Average identity = 83.33\n",
        "LQKYSPDLNDIEHDFSTLKRARMYSPINTS\n",
        "Group 76:\n",
        "1 paths, Average identity = 81.25\n",
        "LPKYSPDLNDIEHDFSALKRAITYSTINTSID\n",
        "Group 77:\n",
        "1 paths, Average identity = 77.42\n",
        "LPKYSPDLNEIKHDFSALKRARIYSPINTSL\n",
        "\n",
        "Tery_3664: Total groups = 2\n",
        "Group 1:\n",
        "2 paths, Average identity = 80.23"
       ]
      },
      {
       "output_type": "stream",
       "stream": "stdout",
       "text": [
        "\n",
        "MEQPSQQQQVPNXGRFKRINPLLNPEIRLFRPDNPPPTVSLLWDELAQEAVINTAPGPTIASRAYAMVHTAIYDAWSAYDPLAIGTQLGDDLQRPLSENTNFNKTQATSFAAYRVLSELFPTQVDIFNELMADLGLDPNNITTDITTPAGIGNVSAEALLRFRRKDGSNQLGDDPNGDGTPYSDVSGYEPINPPGDPIDIKLWTPERIPIDAEPGQEDRIQKFLTPQWGNLIPFGSTSVDEVRPQPPKPFLLVDGEVDLDTSTITLPDESVVEISKDIVGTIINPEFIAQTENIVNVRANLTDQQKLIAEFWEDGSGTSFPPGTWMSFGQFVSARDNNTLDEDVKLFFSLGNAVFDAGIATWESKVFYDYARPVRVIRELGEQGLIGEFNPALGGFTIDAGDGQTILAADFLTYQAPGGDPSPPFAEYVSGHSTFSAAGAEILKRFTGSDDFGTSITFEVGESFFEPEVTPQVPITLNWNTFSEASDEAGVSRIYGGIHFEDGDINGRGLGRKVAENVWEETQAVITPNTVMGTSENDNLVGFMANDLIYGNRSDDNVFGDDGNDLLYGGKGNDIINGGAGADMIYGNLGDDILIGGLGGDRFNFRSNDGNNIITDFEDGIDVIGLDRGLGFQQLTISQIGNDTRISANQLSIVLQGIKESDITLEDFRDFR"
       ]
      },
      {
       "output_type": "stream",
       "stream": "stdout",
       "text": [
        "\n",
        "Group 2:\n",
        "2 paths, Average identity = 70.76\n",
        "VSVLWDRVVQQAVINTAPGPTVTSRAYGILHTAIYDAWSAYDPLAISTQLEDKLQRPHSENTDANKTEAMSFAAYRVLXELFPTQVEIFDNLMVELGFNPDNTXTDTTTPAGIGNVSAETLLTFRRNDGSNQLGSHPNGDGTPYSDISSYQPINPPGETTNIQFWTPELVPIDAQPGEEQRIQTFLTPHWGEVTPFSLTSLEEIRPEAPESFLVVDGEVDLEARKITLPDKSMVDITPDIIGTIINPEFIAQTQRVIDISANLTDEQKLIAEFWEDQDGTSFPPGTWMTFGQFVSARDNHTLDQDVKLFFNLGNAVFDAGIAAWDAKTFYDYARPVRTIRELGKLGLIGEFNPELGSFAIDAWADPGQGTQTILASDFLTYQTPGSDPSPPFAEYVSGHSTYSAAAAEILEQFTGSDNFGAAVSFAAGESRFEPGETPEAPVVLEWATFSEAADQAGISRLYGGIHFDDGDINGRQLGKEVGESVWSTTQSLISPNETIGTNESDNLIGTDANDFISGCRQGDIILAGNGNDLVHGGKGDDTVDGGIGLDVIIGEQGDDVLIGGPDADIFNFAAHHGNNIIVDFEDGIDAIGLDNGLSFEQLTISQIGNDTRISVDQFSVTLQGVTQSVIGVDDF"
       ]
      },
      {
       "output_type": "stream",
       "stream": "stdout",
       "text": [
        "\n",
        "\n",
        "Tery_3676: Total groups = 2\n",
        "Group 1:\n",
        "2 paths, Average identity = 91.01\n",
        "MDNITESLIFRVPLSPKSHALAEEFAQQQLVKKRAKGVYLNTLAVHIGQDFLDGLGFETDLDNADCFNSFLRMIEDPADVIIPNLGVIEFRRVLPGETGFLIPDFVRENRLAYVAVGFDESLDFGDILGFVCLSDLTESDGYIPLDILQPAENLLDYLMQLEAGRDFLLSDDSLAVEFRNVVEAETREKSLGFMAAALEAIYRQSPDDGGNWRAQGGKILAGDLPWVGKVVEERMVIASRDRDEVEDPVVEXKSVPRSTQKLAKRLLGKLKEIWE"
       ]
      },
      {
       "output_type": "stream",
       "stream": "stdout",
       "text": [
        "\n",
        "Group 2:\n",
        "1 paths, Average identity = 74.91\n",
        "MDNIKKSLILRFALPPKSHVLAQKFAQQQSIKDRAKRVYINTLAVHVGQDFLNGLGFETDLDNADCFDEIFRIIDDVADVIIPNLGTVEFRRVLPGETGFLIPDTVKENRLVYVAVRFDDSLDFGDILGFVCSNDLTESDGYIPLDILQPAENLLDYLRQLEAGRDFLLSGHPLAVEFRKVVKAETREKSLGLMVAALEAIYRQSPDDDNSWRAKGGKILVGDLPWVSRVVEEKRDIARRERNEIEEPVQETKFVPRRTQKLAKRLLVQLKKIWQ\n",
        "\n",
        "Tery_3678: Total groups = 1\n",
        "Group 1:\n",
        "2 paths, Average identity = 84.80\n",
        "ESMKPENSSPKIDYDVAIVGAGPVGLATALGLRQRGIENIIVFDQTRAFRKVGQVIGLLPNGLKALKYIDAKAYENIKATIDQPSNSLQVSQNTSTEKKQTSPEWEIRNVDGQKIRSFALGYDEYFQKYGEGRVSISWHELQTQLRQLLPVERVKLIIIVLM*LMSLNFNVLEQILCLIKK*KLTPMLTGMINKKRIKAAV*TPPNFLTQKLHQFVLNYC*E*TELTLGSAKLSIRILQTVDTVNQNIVVLVQ*AVVEYFREQKRFQKK*QRDFFLVLLG**LSKIIKSPKAMFLESFYFFLNLVSWDISSMELSH*SHC*KNRQKS*LMLL*KS*KKQGFQR*FNSWRLYLLQSX*YNVRIILIMPLFLLQDGPNGIEEGFYWREMQPTVCHHLLVKEVIKD*KMQQRSLLWXLRLTSKISGMI*QL*KQLLANMXXCVVHL*LXFNXKL**XDJFLQIRGXRSYRSIIKXFXLGILXKLX"
       ]
      },
      {
       "output_type": "stream",
       "stream": "stdout",
       "text": [
        "\n",
        "\n",
        "Tery_3680: Total groups = 1\n",
        "Group 1:\n",
        "2 paths, Average identity = 79.89\n",
        "INLESMKPENSSPKIDYDVAIVGAGPVGLATALGLRQRGIENIIVFDQTRAFRKVGQVIGLLPNGLKALKYIDAKAYENIKATIDQPSNSLQVSQNTSTEKKQTSPEWEIRNVDGQKIRSFALGYDEYFQKYGEGRVSISWHELQTQLRQLLPVERVKLIIIVLM*LMSLNFNVLEQILCLIKK*KLTPMLTGMINKKRIKAAV*TPPNFLTQKLHQFVLNYC*E*TELTLGSAKLSIRILQTVDTVNQNIVVLVQ*AVVEYFREQKRFQKK*QRDFFLVLLG**LSKIIKSPKAMFLESFYFFLNLVSWDISSMELSH*SHC*KNRQKS*LMLL*KS*KKQGFQR*FNSWRLYLLQSX*YNVRIILIMPLFLLQDGPNGIEEGFYWREMQPTVCHHLLVKEVIKD*KMQQRSLLWXLRLTSKISGMI*QL*KQLLANMXXCVVHL*LXFNXKL**XDJFLQIRGXRSYRSIIKXFXLGILXKLX"
       ]
      },
      {
       "output_type": "stream",
       "stream": "stdout",
       "text": [
        "\n",
        "\n",
        "Tery_3682: Total groups = 2\n",
        "Group 1:\n",
        "1 paths, Average identity = 90.47\n",
        "MTTTKTKPINWDALASELTDIEIIRDPNQIIKLSLDYYHFSPILQSQLKDKKANLIVRPTNETEILQIAKTCVKYQAPLIVRGAGTGNYGQCIPLEGGVVLDTTKMNNINSVKPGLSSVEPGVKLVTLDKKAKEIGWELRMFPSTYRTATIGGFIGGGSSGIGSINYGGLKDRGNLSAVRVVTMEDQPRIIELRGDHVQKVNHAYGTNGIITQLEIPLAPTYPWAELIVTFDDFMTCAKFAQALGDSDGIVKKLITVFAWPIPSFFPGVKKSIPQGKHCAFLMISEYSLEPFQDLVKEFQGEICYQKTAQETNKGTPIYEYTWNHTTLHARTVDTNLTYLQSGFPSDKNLALVEKMYQHFGDEVMMHLEFVRGDGQTTAVGLQIVRYTSEKRLNEIIEYHEENGVNIFNPHTYILEDGGMKTTNIQQLEFKQKVDPYGLLNPGKMKAWLEK"
       ]
      },
      {
       "output_type": "stream",
       "stream": "stdout",
       "text": [
        "\n",
        "Group 2:\n",
        "1 paths, Average identity = 88.22\n",
        "MTTTKTKPINWDALASELTNIEIITEPNKVIKLSLDYYHFSPILQSQLKDKKANLIVRPNNETEVLQIAKTCVKYQAPLTIRGAGTGNYGQCIPLEGGVVLDTTKMNNINWVKPGLSCVEPGVKLVALDKKAKEIGWELRMFPSTYRTATIGGFIGGGSGGIGSINYGLLRHRGNVSAVQVVTMEDEPRVIELRGDDVQKVNHAYGTNGIITQLEIPLAPTYPWGELIVTFDDFMTCAKFGQALGDSDGIVKKLITVFAWPIPSFFVSLKKSIPEGKHCAFVMISEYSLASFQDLVKEFQGEICYQKTAQEASKGTPIYEFTWSHTTLHARSVDTNLTYLQSGFPTDKNLALVEKMYRHFGDEVMIHIEFTRNYGQTVAGGGQIVRYTSEERLNEIIEYHEQNGVNIFNPHTYILEDGGMKTVDIEQLEFKQKVDPLGLLNPGKMKAWLE"
       ]
      },
      {
       "output_type": "stream",
       "stream": "stdout",
       "text": [
        "\n",
        "\n",
        "Tery_3693: Total groups = 2\n",
        "Group 1:\n",
        "1 paths, Average identity = 93.94\n",
        "MTLPDGPNLSPLQRTLRTWKFIFSPLSAMEERYSEYGEIFRTNSNSLFPFIYFCNPKAIQQIFTADPDTFTSGGTNGILQYYVGRNSLLLQDGDRHKRQKKLLMPPFHGDRMRKYGDLIYNITSNVISNWKIEQPFPIRKLTQEISLKVILRAVFGLDQQGKSYEKLRVLMSDLLDSMSSPLSSTFLFFNFLRKDWGPWSPWGRFLRKRQELHELIIAEIQTAKKEGNHRDDILSLLLEARDEAGNAMSDEEIKDELLTMLFAGHETTASALAWALYWIDMIPSVGEKLMAELATIPNDSDQVAITKLPYLSAICQETLRIYPIAMNAFPRVVQKPIEIMGYQLEPGMVAIVPIYLTHHREDIYPEPKQFKPERFLERQFSPYEYLPFGGGSRRCIGSAFALFEMKLVLTTILSRWELKLLPNQRIRPVRRGLTMAPPAHMRMVAKQKKSRQKVSQPILTSA"
       ]
      },
      {
       "output_type": "stream",
       "stream": "stdout",
       "text": [
        "\n",
        "Group 2:\n",
        "1 paths, Average identity = 90.62\n",
        "MTLPNGPALSPLQRTLRTWKFIFSPLSAIEERYSEYGDTFRTNTNSLVPFIYFCNPKAIQQIFTADPDTFTSGGQNGILQYYVGKNSLLLQDGDRHKRQRKLLMPPFHGSRMTRYGDLIYNITSNVISQWKIDKPFPIRRSTQEISFKVILSAVFGLDQGKRYEKLRVLMSDVLESISSPLSSTFLFFNFLRKDWGPWSPWGRFLRKRQELHELILAEIKTAKKEGNHRDDILSLLLEARDEAGNAMSEEEIKDELLTMLLAGHETTASALAWALYWIDKIPSVRENLMAELAAFSNNSDQVAITKLPYLSAVCQETLRIYPIVMNAFLRVVQKPIEIMGYQLEPGMVAIVPIYLTHHREDIYPEPKKFKPERFLERQFSPYEYLPFGGGSRRCIGSAFALFEMKLVLATILSQWELKLLPNQRIRPVRRGLAMAPPGNMRMVVKQK"
       ]
      },
      {
       "output_type": "stream",
       "stream": "stdout",
       "text": [
        "\n",
        "\n",
        "Tery_3704: Total groups = 3\n",
        "Group 1:\n",
        "34 paths, Average identity = 72.36\n",
        "LYLPTEQNNIVTNDLTQSSKDDVXFESQTRWKIEXXXREXKQLTGLGFCQCRLRIIQXNHIACAMLVWNFLKRFASKIGXSXYQVKHGXXSKYLTDQLKXPSXKXKVI"
       ]
      },
      {
       "output_type": "stream",
       "stream": "stdout",
       "text": [
        "\n",
        "Group 2:\n",
        "1 paths, Average identity = 72.85\n",
        "EYIVTNDLTQSSKDDVEFESQTRWKIEEFHREIKQLTGLGFCQCRLRIIQKNHIACAMLVWNFLKRFASKIGKSIYQVKHGLLSKYLTDELKHPSIKMKVI\n",
        "Group 3:\n",
        "1 paths, Average identity = 72.55\n",
        "TEYIVTNDLSQSSKDDVEFESQTRWKIEEFHREIKQLTGLEFCQCRLRIIQKNHIACAMLVWNFLKRFASKIDKSIYQVKHGLLSKYLTDQLKHPSIKMKVI\n",
        "\n",
        "Tery_3739: Total groups = 9\n",
        "Group 1:\n",
        "1 paths, Average identity = 81.40\n",
        "MVDECHLLWGDLLSYAWGRKDKQIEIPIKNERERQTYYGAYYY\n",
        "Group 2:\n",
        "1 paths, Average identity = 76.74"
       ]
      },
      {
       "output_type": "stream",
       "stream": "stdout",
       "text": [
        "\n",
        "MVDECHLLWGDLLSYAWGGKDKRIEIPIKNEREKQTYYGAYYY\n",
        "Group 3:\n",
        "1 paths, Average identity = 76.74\n",
        "MVDECHLLWGNLLSYAWGRKDKRIEIPIKNERERQTYSGAYYY\n",
        "Group 4:\n",
        "1 paths, Average identity = 76.74\n",
        "MVDECHLLWVYLLSYTWVRKDKRI*IPLKNERERQTYYGAYYY\n",
        "Group 5:\n",
        "1 paths, Average identity = 74.42\n",
        "MVDECHLSWSDILSYTWGRKDKQIEIPLKNERERQTYYGAYYY"
       ]
      },
      {
       "output_type": "stream",
       "stream": "stdout",
       "text": [
        "\n",
        "Group 6:\n",
        "1 paths, Average identity = 72.09\n",
        "MVDECHLLWGDLLSYTWVRKDKRREIPLKNERERQTYYGAYYY\n",
        "Group 7:\n",
        "1 paths, Average identity = 72.09\n",
        "MVDECHLLWGDLLSYAWGRKHKRIDIPIQNERERQTYYGAYYY\n",
        "Group 8:\n",
        "1 paths, Average identity = 72.50\n",
        "MVYECYLLWGYLLSYAWLRTDKQIETPLKNERERQTYYGA\n",
        "Group 9:\n",
        "1 paths, Average identity = 70.00\n",
        "MVNECHLLWGDLLSSS*GRTDKRIEISLKNEIERETYYGA"
       ]
      },
      {
       "output_type": "stream",
       "stream": "stdout",
       "text": [
        "\n",
        "\n",
        "Tery_3755: Total groups = 1\n",
        "Group 1:\n",
        "2 paths, Average identity = 96.86\n",
        "VNNKKWRNAGLYALLAIVVIALATAFFDQQPQTRETWKYSQFIQQVESKNVDKVDLSADRTVARVKVADGTIVRVNLPNDPDLINILTQNNIDISVLPQNEEGFWVRALSSLFFPILLLVGLFFLLRRAQSGPGSQAMNFGKSKARVQMEPQTQVTFSDVAGIEQAKLELTEVVDFLKNADRFTAIGAKIPKGVLLVGPPGTGKTLLAKAVAGEAGVPFFSISGSEFVEMFVGVGASRVRDLFEQAKSSAPCIVFIDEIDAVGRQRGAGLGGGNDEREQTLNQLLTEMDGFEGNTGIIIIAATNRPDVLDAALLRPGRFDRQVVVDRPDYAGRLEILNVHARGKSLSKDVDLEKIARRTPGFTGADLSNLLNEGAILAARRNLTEISMDEVNDSIDRVLAGPEKKDRVMSERRKELVAYHEAGHALVGALMPDYDPVQKISIIPRGGAGGLTWFTPSEERMDSGLYSRVYLQNQMAVALGGRIAEEIIFGDEEVTTGASNDLQQVARVARQMVTRFGMSDRLGPVALGRQNGNMFLGRDIMSERDFSEETAAAIDDEVRNLVDQAYRRAKEVLVGNRHVLDKLAEILVXKETVDSDELQELLATNDVKMAALI"
       ]
      },
      {
       "output_type": "stream",
       "stream": "stdout",
       "text": [
        "\n",
        "\n",
        "Tery_3759: Total groups = 1\n",
        "Group 1:\n",
        "2 paths, Average identity = 90.48\n",
        "MLISSLHKFLTYPINKKSSQEVIFWFILSMTLAVLYGFLALKKAFLSSLSVQDDARQHIFWMQRFFNADLFPNDLIADYFQSVAPAGYTWLYKSLAFIGINPLILAKIIPFILGLICTYYIFRITLEILPVTMAGFIAALVMNQAIWMKDDVASATPRAFIYPFFLAFLYYLIRGSLVRMGIAIALVGLFYPQYVFVASGMLILRLICWRNGRFQFSSKKQDFIFCGVGLSTAFFVLLPYALTSSEFGPTISREAAMKLREFYPNGRSTFFHVHPKDFWLTGKRSGXFPKSLFTPATQCAGLVLPFLLSFGSAFPLIKNITSRIWLLVHLLLSSLGMFFIAHXLLFRLHLPSRYTGLSFRIIIALATAIALTLIIDALFNWAENREKFPIKFRPIISLVLTGLILASLVLYPAFVKGFPLVKYKVGRATDLYDFFREQPDDILIASLEEEANLLPTFAQRSILLGREYAIPYQVGYYSQFRQRVIDLIVAQYSSNLTDVKDFIQKYGIDFWMVHRGSFTPEYVEKNSWLMQYESAQDAVTFLQLGYIPALATTIPICTVFQNDSLFVLDANCIFRKGVGN"
       ]
      },
      {
       "output_type": "stream",
       "stream": "stdout",
       "text": [
        "\n",
        "\n",
        "Tery_3777: Total groups = 1\n",
        "Group 1:\n",
        "2 paths, Average identity = 91.18\n",
        "MFDCIIVGAGPAGGTAAYHLAKKGRSVLVIEKESFPRVKACGGGLSPAIAQWFDFDLTPAISLKVNKICYTWKLEDPVEADLPVPMWMVKRDVFDHFLIQKATEQGAELRDKTEVTGIEFKRDSWEVKTTTEPFLGRYLIAADGAKGPMAKWLGFKESKKRQSIVFEAPLNDSNQRASFEFGSVKNGNIWGFPKADSYSISIATFRGGEAKNLSQDLMEYAQQIGANVSQDELLEHYISLWDGEKNLHTQNAILAGEAASLSDPLSAEGIRPSIFSGVKGAEAIDEALGGNGDALKKYTQIVNEEWGKDMAWAGRLAGAFYRFPKVAYKMGVKLPAATVVMSKILCGEIRYADIANTAIKKLSSSFLP"
       ]
      },
      {
       "output_type": "stream",
       "stream": "stdout",
       "text": [
        "\n",
        "\n",
        "Tery_3792: Total groups = 1\n",
        "Group 1:\n",
        "2 paths, Average identity = 90.72\n",
        "MIFPDLSQFSQLAKQGNFVPVYQEWIADLDTPVSAWYRVCKDQPYNFLLESVEGGEKIGRYSFLGCDPLWILEAKGDRTTQTYRDGTVKTFEGDPFDALDNCLQPYQPVKLSQLPSGIGGLFGFWGYELIQWXEPRVXVYSATENDLPDGLWMQVDNLLIFDQVKRKIWAIAYADLSSPEINLEVAYQQTCBRVSQLVDKLQSPLSQQNTLLEWQPPRGKNKKLTDIYTSNTARAEFCANVEKAKNYIKAGDIFQVVISQQLSAEYTGEPFALYRSLRLINPSPYMAYFNFGXWQXIGSSPEVMVKAEKTPDGKRLATVRPIAGTRRRGKTYAEDNALAEELLQDPKERAEHIMLVDLGRNDLGRVCQAGTVKVDQLMVIERYSHVMHIVSNVVGELADDRTAWDLLKACFPAGTVSGAPKIRAMEIINELEPCRRGIYSGVYGYYDFEGQLNSAITIRTMVVKPKKNGKHAVNVQAGAGLVADSVPEKEYEETINKARGLLEAIRCLKAN"
       ]
      },
      {
       "output_type": "stream",
       "stream": "stdout",
       "text": [
        "\n",
        "\n",
        "Tery_3798: Total groups = 2\n",
        "Group 1:\n",
        "23 paths, Average identity = 77.77\n",
        "XXXXETSQQNYISPDVKESIQEAKDKKLKKLDLSKKXLTXXPGDVXELGQLEVLNLXXNXLXXXPEXIXKLSNLTXLXXXXXXXXSXPEXITKLSNLTXLXLXXNXLXSXXXSIXKXSNLTXLXLXXNXLXXXPEXIXXLSNLTXLXLXXNXLXXLPESXXKLSXLXXLXLXXNKLISLPESIGKLSNLTWLNLGFNXLXSLPESXXKLSXLXXLXLXXNXLXSLPESIXXJSXLTXLXLXXNXLXXLXESIXXLSNLTXLXLXXNXLXSLPEXIXXJSNLTXLXLXXNXLXXLPXXIXKXSNXTXLXLXXNZLXXXPXSIXKJXNLTXLXLXXNXLXXLXXXITXLSNLXXJXLXXNXLXSLPESIXXLSXLTXLXLXXNXLXSLPESITXLSNLTXLXLXXNXLXSLPESIXXLSNLTXXXLXNNPLETPPIEIXXXGIZEIRXXFXQXREXGXDYIYEAKLLIXGEGGAGKTTLANKIJBXXYQLKDEDTTKGIEVXQYXFQTXNXNBFQXNIWDFGGQEIYHATHQFFLTKRSLYILXADTRXEDTDFYYWLNVVELLSXNSPLLIVKNEKQERZREINQRALQGQFTNIKEILATNLATNRGLXEXIREIQHXISXLPHIGSSLPKTWKKVREXLEXDXRNYISLXEYLSICEQNGFXXREXKLQLXGYLHDLGXCLHFQDDPLLNKTVILXPEWGTXAVYKALDXQTVRNXFGKFXKDDLTNIWNEXKYXBMXDELLQLMIXFKLCYKIPGXSQTYIAPQLLTENQXEYDWDENNNLILXYTYXFMPKGIITQFIVXMHXXIEEZKYVWKSGVILXKNZTXAEVIEXYNXRXIKIRVSGXQKRDLMTIVTHELDKIHXSYNNRLKYNQLIPCNCXXCXNNQNPXXYXXXXLXEXXXNGXXXXXCBXXPXXEVBIRSLIDDVIBIXEXXXLSQSXXYPXKIYXNNKYYINBSXDFXIDTXZAKNXXIRNKTXNXKIDXSXKIXNXBGNIXGNVLGDXSBIZGXIXXNXXPPKIEKXXKFGXLBXLTWXQNXQIIYXLIXVTIGICLXIIYXKLFPXXFPKLIXKIQDIFPXXXVXXESXXNK"
       ]
      },
      {
       "output_type": "stream",
       "stream": "stdout",
       "text": [
        "\n",
        "Group 2:\n",
        "1 paths, Average identity = 75.62\n",
        "MTSPETSQQNYIRQDVKERIQEAKNKKLKQLDLSSTALAEVPSNVWKLEQLEVLNLSGNKLTSLPESITKLSNLTSLYLGGNKLISLPESITKLSNLTSLDLSQNQLISLPESITKISNLTRLNLSSNQLTILPESIGKLSNLTCLYLYSNQLTILPESIGKLSNLTWLYLYGNQLISLPESIGKLSNLTEFDLRGNQLKSLPESIEKLSNLTTLYLTYNQFKKIPESITRLSSLTWLYLTCNQLKSLPESIGKLSNLTVLFLGSNQLKSLPESIGELSSLTVLNLGSNQLTSLPESITTLSNLNEFNLGSNQFKILPESITILSNLTELDLGNNQLTVLPESITKLSNLTTLNLYNNQLTILPESITKLSNLTRFELRNNPLKTPPIEIATKGIQEIRKFFLQGSPTDNIYEAKLLIVGEAGAGKTTLANKIINQNYQLKDEDTTKGIEVHYYNFQTKNQNYFQMNIWDFGGQEIYHATHQFFLTKRSLYILVADTRKEDTDFYYWLNVVELLSDNSPLLIVKNEKQERQREINQRALQGQFTNIKEILATNLATNRGLEKIIREIEHHISELPHIGSDLPKPWKQVREALESDPRNYISLEKYLSICEQNGITKREYKLQVSGYLHDLGICLHFQDDPLLNKTVILKPEWGTAAVYKALDNPKVYNNFGKFTKDDLTNIWNEEKYLNMRDELLQLMIRFKLCYKISGNSQTYIAPQLLTENQPEYDWDESNNLILRYTYTFMPKGIITQFIVVMHKHIEEQKYVWKSGVILKMNETKAEVIEYYNIREIKIRVSGREKRDLMTIVTHELDKIHSSYNNRLKYNQLIPCNCATCKNSQNPHFYKREKLKERISNGRQKIECGNYPYYKVNIKSLIDDVIDIGEENKLSESHRNRNNINSINIRDSRIEMNHPLVDNKTMIQEFDQSRKIQNQAGNITGNVLGDKSNIEGQITTNYPTPKRKSSHEFGWQDFLNLMQNRQIIYYLISAIIGICLLIIYPKLFPSGFRKLIEKIPEIFPTPQVEIESDQNQ"
       ]
      },
      {
       "output_type": "stream",
       "stream": "stdout",
       "text": [
        "\n",
        "\n",
        "Tery_3845: Total groups = 1\n",
        "Group 1:\n",
        "4 paths, Average identity = 95.59\n",
        "MSRLTRRKLLMFFGCSAAATVLSPKINFLGSNSGVAQAQTGGLSFTPLKLAHPLEIYEKYSSFVPLGTRGEGTTLEAGVDVALQSYQYFDDVVVPPEYERYVIVSWGDRVFPDSEEYFGYNADYVSFIPVNGNPDDGYLWTNHEYVSYPMSPLLARSDDLEGFPTTDKLVLGLDLSQSNISTLGEFAYNQGGSIVRIKKGSNGQYATVADSANRRIHLLSGLGINSERSDDYQRVTSWGTASYQTGDQNFLIGTGPAAVDVFPLSSDGLGNKIIGTAFNCSGGTTPWGTVLTAEENFQGSVTEAVSPNGTQTGYKEEGIGVTFGLVGEKYGWMVEVSPADPSFQNKKHTALGRFRHENIAFRVEAGQPLAAYMGDDRRGGHTWKFVSDGIVSNPTDPSNSRLFNSGTLYAARLNPDGSGQWIPLLPATPTNPLSPRELAEAELNVFGKAQRDGRIRLPQRLGIAGGEENGGYFIVDLTNESALSDYQGKTLANFYDSQGAILVDAFLAANLVGATPTARPEDLEVHPGDGTVFIAYTDGGPGGDGYPDSRVFVVSKYSADVNAAQPFGGIYRIIETNGDVTSTTFTWSAFEQSGEDGAVNGPGFANVDNLEIDTLGNIWGVTDMSTSSHNGFNTGAAGEVREIDHTQTGSVGNLRGTFGNNWLFYIPVVGENAGMVVPFAYGPPRCEITGPYFIRNSSGVNETLLLAVQHPGESCPIGDEVKLGRDIEMLNLDGTTFTQQRSVPRGSNWPSNIGYVGEPGGFFNGLQPPRPSVIGVIRRDGAPFV"
       ]
      },
      {
       "output_type": "stream",
       "stream": "stdout",
       "text": [
        "\n",
        "\n",
        "Tery_3851: Total groups = 1\n",
        "Group 1:\n",
        "2 paths, Average identity = 92.17\n",
        "MXIAVGMXETXGFPAVVEAADAMVKAARVTLVGYEKIGSXRVTVIXRGDVSEVQASVAAGIXXXXRVBGGZVXSTHIIARPHENLEYVLPIRYTEEVXQFRDSTTAVRSINR\n",
        "\n",
        "Tery_3852: Total groups = 1\n",
        "Group 1:\n",
        "2 paths, Average identity = 93.56\n",
        "MXIAVGMXETXGFPAVVEAADAMVKAARVTLVGYEKIGSXRVTVIXRGDVSEVQASVAAGIXXXXRVBGGZVXSTHIIARPHENLEYVLPIRYTEEVXQFRTY"
       ]
      },
      {
       "output_type": "stream",
       "stream": "stdout",
       "text": [
        "\n",
        "\n",
        "Tery_3854: Total groups = 3\n",
        "Group 1:\n",
        "1 paths, Average identity = 79.57\n",
        "LYYKCQQEYLRKRLLAIKYLYEGKTRTEVSDLLDCHYKTLSTWIDKFLEAGLKW*SNQSLTKYHQD*I*SINRN*KE*YWKNGPEIMA*\n",
        "Group 2:\n",
        "1 paths, Average identity = 77.45\n",
        "QQEYLRKRLLAIKYLYEGKTRTEVSDLLDCHYKTLSTWID*FLEGGLKMVIKPITHQVSSRLNIEQKQELKRMILEE*PRDYGV\n",
        "Group 3:\n",
        "1 paths, Average identity = 71.96\n",
        "LYYKCQQEYLRKRLLAIKYLHEGKARKEVSDLLDCHYKTLSTWIDKFL*GGLKMVVKPITYQVSSRLNMEQKQELKRMILEELPRDYGA"
       ]
      },
      {
       "output_type": "stream",
       "stream": "stdout",
       "text": [
        "\n",
        "\n",
        "Tery_3856: Total groups = 3\n",
        "Group 1:\n",
        "7 paths, Average identity = 72.54\n",
        "MXMVLQAHVEGSYLERN*SHS*SGL*YSN*FG*SXLSKRANDS*CPCTKHRNLTN***RILVLGQKKQKHCQMNELTEGDCWIG"
       ]
      },
      {
       "output_type": "stream",
       "stream": "stdout",
       "text": [
        "\n",
        "Group 2:\n",
        "6 paths, Average identity = 70.86\n",
        "MPXXLQAHVEGSYLZRN*SXS*SGL*YSS*FGVEPPLKKGK*FIMPMYKT*KPHKLVVTNFGPRSKKTKTLSDE*IXRR*LXDW\n",
        "Group 3:\n",
        "1 paths, Average identity = 71.00"
       ]
      },
      {
       "output_type": "stream",
       "stream": "stdout",
       "text": [
        "\n",
        "MRMVLQAHVEGSSLRGISRTVNLAYNTVISLVRAASKKGQMIHNAHAQNIETSQISSDEFWSFVKKNKNTVR*MN*QRVIVGLE*LKHHQVDL\n",
        "\n",
        "Tery_3868: Total groups = 4\n",
        "Group 1:\n",
        "1 paths, Average identity = 81.90\n",
        "VENWGELCWFGSLNNQAQDVMFACEKAVKLKPNSETIRKYRGLARALTGNYQGAIEDFQVLVEFTEDEEKKARVEGWIETLKKGENPFTSEVLVKLKYYRDWMSD\n",
        "Group 2:\n",
        "1 paths, Average identity = 83.33\n",
        "VKNWGQLCWFGSLNNQAQDVIFACEKAVKLNPNDGKFRRYRGLATALTGNYQGAIEDFQVLVESIKDEENKAKVEGWIETLKKGENPFTSEVLKELEYNRDW\n",
        "Group 3:\n",
        "1 paths, Average identity = 80.81"
       ]
      },
      {
       "output_type": "stream",
       "stream": "stdout",
       "text": [
        "\n",
        "VENWGQLCWFGSLNNQAQDVMFACEKAVKLKPNDGMIRGIRGLATALTGNYQGAIEDFQVLVEFTEYEENKAKVEGWIETLKKGENPFTSEVLEELKYS\n",
        "Group 4:\n",
        "1 paths, Average identity = 71.88\n",
        "VENWLELCFLGSLNNQAQDVMFACEKAVKLDPNDINTHFARGFARALTGDYQGAIDDFQVLVDTTKDEETKDTWEGVIEILKKGVNPWTSESLEEL\n",
        "\n",
        "Tery_3916: Total groups = 1\n",
        "Group 1:\n",
        "2 paths, Average identity = 84.01\n",
        "MSTTITQELKIENQELLRQYQQFPSHQLRNQLVKLNVGLVRKEVYLWLNRCQETYDDLLQVGCIGLIRAIERFDLSKGRAFSSFAIPYIRGEIQHYLRDKSPSLRIPRNWLAIDRQAMKVRQDLRMKLKRQPTDLEIASALNISLDRWHEVELACRNRTPLSLDTPVQDEAHGSTCLGELVQDSQYRSFQLAQEDQIRLQQALSKLEGGTRKVLEFVFLCDLTQKETAERMGISAVTVSRRVKKGLKSLQKIMQ"
       ]
      },
      {
       "output_type": "stream",
       "stream": "stdout",
       "text": [
        "\n",
        "\n",
        "Tery_3923: Total groups = 2\n",
        "Group 1:\n",
        "8 paths, Average identity = 75.83\n",
        "MIDPHQNEVELLSELIFALEMSQGDFRLFLGSCNYQIQRRRLMEKLQTSFSGDLAILEVDASVEKLYTHICQHLGDQQPDALMVWGLELNGNIDQLLVSMGLVREEFKNNCHFPILLWIDREISRKFIRLIPDFESWTSLTVFETSTKELKYFIHQTSESVYQKILESGEGIFLDDADLGLAESTYQELLDAQQELTNRGISLKSELEASLEFVLGRMADNSTEIALDHYKRSLELWQQLNSPLRVAHTYYYLGLWWQTCGFEHKADKNMAYEKACSYFQQLIEGFETVNRPDLVAKFINAWGEILQTLKSWDELNTVGNRAIELHKAYSYPFREARAYNFLAEFELANSNYKQAKKFAETALKIFNKTLDSASSPTSNEDKKTLDLERYYHQGRYLFSLAKAEKGNGEIKSAIATLELAKDRTNPQYBXELYINIITELREISYQQKEYFKAFZLKQEIQKIEQQFGLXAFVGANRLRXIXENINLGLPQSKQRINQQKJTQEIAASGREJDVZELLXXISRPDXKLIVIXGESGVGKSSILQAGLVPSLEAKSIDTRDVVVVLQRXYVNWISELGKXLXEKLQRIANLXVNSESLNSPEAIFAQLKNNGDDXXNLLTVIIFDQFEEFFFAKTNMEXKDKRLFAEFLQKCLEIPFVKIVXSLREDYIXYLLEXNRLXBLDAINNBILXKBILYXLGNFSPBKAKLVIXGLTXNSLFKIXTNLTEKLVXDLAXXSXEIRPIELQXVGAQLQTENITTLAKYQELGDNPKXXLVXRYLXSVVXDCGXENZKLAXXVLXLLTBEXBTRPLKXKAXLXKESKXBXEKLELXLKIFVXSXLVFLLPEXPXDXYQLVHDYLVXXJRZXKXXEXLZELXXEREXRQQEHEKRLXLQKXLFKXSXXXXXXMTXXAXXXXXFXXXXXXXXXXAEKQTIXAKXNZXXXLSJLGXRXXXFTBXCXXSXAKTN*C*XXXXRXX*XXXXCXXXXSLQXXKX*XVXRXXXXXGX*XXXXXXXI*SRWRDYCXCXX*QXSEXVEXXGXXXAYSXXP*XXGLXXSJ*SXWXDYCXXXXXQNSEVVEPSGEIIXXXXXXXXXXXXXSJ*XXXRDYCXCXX*XXSEVVEPSXEIIXXSXRXXXXXXXXSI*SXWRDYCFCKXXXYSXXXEXXGXXVADXXRXXXXGXXXSI*SRWRXYCXCXX*QXSEVXEPXGXXXADSXXX*XXXXXYSI*SXWRBYCXXKXXQBSEVVEXSXXXIADSXWX*XXXXXXXI*XRXRDYCLCNXXXGXXXELSGRGIADSNRA*EFDXECSX*LRWKDYCXXXX*QNSEVVEPXXXIIXDSHXPXXXXLXXSI*XXWXDYCXCXX*QXSEXVEPXGXXXXXSXXP*GXXXXCXX*XXWRDYXXXXXXXXSXXVEXXXXXXADXXXX*EXXXXCSJ*SRWRDXCFXXXXXXSXXVEPSGEIIADSHXXXXXGXXXXX*XXWRDXCXXKX*QNSEVVEPSGXIIADSXXX*XXGXXXSI*XXWRDXCXXKFXQXSEVVEPSGEIXADXHXX**FGXXXSX*SRWRDYCFCXXXQNXXXVXKXXXXXFNXXWLPXXK*LXXXXSPXVRGTQNLPB*XXXXXSXX*XGXRGREVGKXRZG*GXSXXIXESSKMEF*SQPQLKFPSLGKIIS*GRXTDGGRN*ISKRRKNRGSSGKIPTSKXT*XXSIYPYLAKS*PRS*SYISSSRCVVE*RG*PC*GG*S*RSDRLLPKSRKNRPHPNFCF*LEXTLSVWXSLSKSC*CYVRL*KSSCXEPXRWRXY*XSRTGQSINRGY*RSDRRFSXJCXXDEQ*GEKSTTTRMDKSPPDRGRPIY**AVERVE"
       ]
      },
      {
       "output_type": "stream",
       "stream": "stdout",
       "text": [
        "\n",
        "Group 2:\n",
        "3 paths, Average identity = 72.93\n",
        "NNQKLLQKLLRGMEMSQGRFRLFLACCNNVSQRQPLIQQLQSSFPGSLTLIQLDANDRDLYGIIGQKLAQKQPDGLIIWGLESVGNIDKLLLSMGSVREEFRKNCCFPIILWIDGEVSRKFIRLIPDFESWTSLTVFEPITDDLINFIQQTGESVYQKVLESGLGIFLDYTDLGLPESTYQDLLEARQELVNRGITLEAELEASLEFVLGRLVDDFEEAARNHYQRSLELWQELKNPLRVAHTNYYLGLWWQSYGVTHRAEKNRAYKNAGYYFKLSVEGFEAINRLDLVAKFINGWGEVLQILESWDELETVANRAIEVLDTSQPSFRLARAYYFLAECELAEGNYKQGKKFAETAIEIFKKTMNAASVPTLEKDKKTLDREEYYHRGRYLFSLAKAEKGNGKIKLAIETLELAKERTKPEYNPDFYINIIKELRKIYYGQKEYLKAFELKQERQRIEQQFGFIAFVGANTLGSRKANMNLALPQSKPKINQQKLTQEIAASGRELDVEKLQERLSRPDYKLIVIYGESGVGKSSILQAGLIPVLEKKLIDTRDAVVVLQRVYINWIYQLGKGLAKQLEKTKNLAVNSEAITSIEEIFAQLKKNEQSNLLTVIIFDQFEEFFFFNREPRHRRELDQFLQDCLEIPFVKIVLSLRKDYIHYLLDFSRLANSELINENILDKKNLYYLGNFTPSQAKLVIEELTANSQFKIDSALTQKLVEDLAEELGVVRPIELQVVGAQLQEDQITTLAKYQELGDNPKVELVDISLKSVVKDCGEENEKLAWIVLWLLTDEKDIRPLKTEAELVKESTFNPEKLELVLNIFVGSGLVFLLPEKPAARYQLIHDYLVWFIRQRKGNKILEQLKQEQEKRQQEQEKRQQEQEKRQQEREKRQQLQNSVVIGFVSVVMVVIAGMTMFARKAHKNSIISQANDSRALSLSGQQWDGLMTVMKARQKQIDAKMKPIGEASKMTNALRVAVYRRKKDDEFREINRIRGHESSVEAVAFSPDGETIASASGDKTVKLWNRQGKLLQTLTGHENWVYGIAFSPDGETIASASGDKTVKLWNRQGKLLQTLIGHEDSVIGIAFSPDGETIASASGDKTVKLWNRQGKLLQTLIGHEDSVEAVAFSPNGETIATAGVDKTVKLWNRQGKLLQTLTGHEDSVYGIAFSPDGETIASASSDKTVKLWNRQEKLLHTLTGHENYVFGIAFSPDGEIIGSASSDKTVKLWNREGKLLQTLTDHENEVYGIAFSSDGETIATAGGDNTVKLWNRQGNLLQTLTGHENSVLGIAFSPDGETIASASADKTVKLWNREGKLLQTLAGHENSVEAVAFSPDGETIGSASSDETVKLWNREGKLLQTLTGHENYVFGIAFSPDGEIITTASWDKTVKLWNRQGKLLQTLTGHENKVYGIAFSPNGETIATASWDKTVKLWNREGKLLQTLTGHEHYVIGIAFSPDGETIATAGADNTVKLWTNWRIEDLTERGCQRLNDYLITHPQELEELRICQTDKRKELAASSWVIEGEKLAREGKVKEAVATFKKARKWDPDLNLNPKVRAASLVKAKKLMEEGMKLAREEKIEAAIEKYKRAKELDQVALIPTLQNLNPEAQAIYQGVPALLYKGWIFLRRGKVKEAIASYQKVEKIDPTQISASHWNELCRYGSLYQKAADVMLACEKAVSLSPKDGDIIDSRGLARALTGDIEGAIADFQVFVEWTSNXERKAQRQEWIKALQAGENPFTDELLKELR"
       ]
      },
      {
       "output_type": "stream",
       "stream": "stdout",
       "text": [
        "\n",
        "\n",
        "Tery_3924: Total groups = 1\n",
        "Group 1:\n",
        "8 paths, Average identity = 93.86\n",
        "MSVNVKAFFQATNPGKALFTDNQEIEEKYYIDFSSVRGGKIIEDLKDNIAMWXPDEPTCQLFTGHIGCGKSTELWLLKQXLEAEGFHVVYFESDKDLEMGDLDVSDILLTIARQVXESLNTXEKLNLXEPTRFKSJIEGAIKLLQTEIEISPEVELSFGIAKITAQAKASPQLRSKLRDYLGPRSNGIIETINQELLEPAHKKLKQRGKNGLVVIVDNLDKVDSSPKPWGRPQPEYLFVDRGEQLASLHCHVIYTLPLALRFSNDFNTLTQRFKSDPQVLPMVSIQLRDGKEFGEGMAKLRQLVLARAFPHLEEQQRLEKITEIFDSTETLDYLCKMSGGHVRNILRILNDAIKKQKGLPISSENLNKVIQNFRNERTLAVXDZEWELLRQVAQTXKVKGDDGYQXLIRSMFVYEYRDXXGSWFDINPILKDXVELKK"
       ]
      },
      {
       "output_type": "stream",
       "stream": "stdout",
       "text": [
        "\n",
        "\n",
        "Tery_3932: Total groups = 1\n",
        "Group 1:\n",
        "2 paths, Average identity = 72.19\n",
        "MIKIYKWHPILALVVVLSSIISPEVFDRNKFTSALAHTRLQESENNFAQPCINSLLEKGIISGDYENQTFRPSESVTRAEFATMINRAFPDTKLVRDSINFVDIPQDYWAYADIQKAYEMGFLSGYIGKAFNPTLKIKRWEVLVSLSRGLNYQINSYSEQNLNKVFDDAAAIPEEVKMSIAAATEKGIVVNYPNVRQLNPNQDATRSDVATFLCQAIVNAQKNNHEVVAKVPSEYIASFSKDTQLTTTANIPKKTTETTKHRENSHLKNPRATFAENTNSPGIVERFRNGNLQVEIIYKQANNVDLVSDLYLKIIRGGEIILDQPVPVKSLAGGSDSTMAVLAGRFVKVQLLDLDGNGESEVLVDLFTINNSNVPFGGGTYSLIYRYEPTENKYTMLRYHWGNINYRLTDLDNDNIPEFKSLDSRFTNVFSNLNDSVFPIRIWQYREGKILDVTKKYPAEINTNTSEIWLELYRRLGQNQNVKGVLAAYLANKYMLGEKEDGWKSVERVYEGSDRSTYFASLREFLTDKGYDTNQQVQADVIVSENSITESQEPVSFVSHETSPQATRENTENTENTENTERNITGQPPSSDPQLTIVASNQTPALKTEISGNSEPEIQADIINDLVFAPRLVRSLSNEQPDSILSVTVSFNGKILASSMGKDIQLWNLETGKLLDTLSNHTANVRSVAMSPNGKILASGSEDGTVKLWDIPTGEMLNSFRHSGLVTAVGFTADGKGVIGCSSGNGMKLWDIYTGELLHRMNGSQPIAFGVDGLRMAASGGPRYIRLWNVAQGQLLKNLPIPNTNNNQGIQAIAFSRDGQTIAHVMGGESKIFVWDVETWEVRYTLEGHSQAIQAIAISPDDKILASSGKDGKINLWDIDSGKLLRSINGLGKIVFSPDGQQLVTVAEDNVIQLWQIYGSVIE"
       ]
      },
      {
       "output_type": "stream",
       "stream": "stdout",
       "text": [
        "\n",
        "\n",
        "Tery_3933: Total groups = 1\n",
        "Group 1:\n",
        "2 paths, Average identity = 94.21\n",
        "MTENMINIMTVDADTFFQAIDPRAPLFIDNEEIDEKYYIDFSPVRGQQVIKDLKSTITRWSKGKPTCQLFTGHIGCGKSTELWRLKQQLETAGYHVVYFESEKNLEMVDVDVSDILLTIAQKVSESLEKLERLNLEEPKRLKGLLQNVVKLLQTEIEFSAEANVSGVGKVSASSEGSFSADLGMVKLKADEEGLEFVASGIGKISAQAKGSPELRTKLREYLGPRTPGIIEMINKELLEPADQKLKEYGKKGLVVIADNLDKVDSSPKSWGRNQQEYLFVDRGEQLTSLQCHLIYTLPIALRFSNDYGTLTQRFETPKILPMVATQLRDGSECIPGMELMRQLVLARAFPELKPQERLARVTEVFDSQETLDYLCRVSGGHVRNMFRMVLDALKEEDDLPISRGSVDNVVRNYRKEQLLAIDDHEWELLRRVVQTKKVTGDDGYQILIRSMFVYEYQYDQSSWFDINPLLKDAPELKIS"
       ]
      },
      {
       "output_type": "stream",
       "stream": "stdout",
       "text": [
        "\n",
        "\n",
        "Tery_3934: Total groups = 1\n",
        "Group 1:\n",
        "18 paths, Average identity = 73.95\n",
        "XXXQXXJXKSYFEXXXXLKXDSRLFLAXXXXVSQRXXLIZXXXXSFPGXLXXXXLDEXXTZIFXZLSXXX*XXXXXMXXXFXXXSRXGILIXXXXZWGXCGXSLEXXXXXX*FXG*MGRFXXSLFX*FXIXXXGXV*LYLNLLXMX*XILFSRXVRVFIRXFWKVG*EYF*IILXXVCQSLLIKIC*RLGKXWXIEELL*KQN*RRVWNLF*VGWXMILRKXPETIINGVXNFGXNLXTXCGLLILIIIWVCGGRVMG*HIEXKKIELXRMLAIJLNCQ*KVLRQLTV*T*LLSLSMVGEKFCRF*RVGMSXKLLRIEQ*KF*IPPSXLLD*PVLXIFSPNVN*LKVTIBKGKNLLKLL*KFXXXX*XLXLFRP*KKTKKL*IGKSIIIGVDIYFLWQKLXKVMVKLNXL*XLWXXLKRGXSLNIXRIFTSXLSRNXEKXITDKKNILKLLN*SKNDKE*NNNLGL*LXLVRIPWVLEKLI*IWLYLSXNQKJIXKXXLKK*QHLDENLMSKXCXKG*VXLTINL*LFMEXQELVKVRFCRLD*FLF*RKNXLILVMXWWFCXEFXLIGFXNWEKV*LNNWKKLKI*LLIQRL*PXXRXFLLS*KRMXNQIY*RLLFLINLRSFSFLIGNLGIDENXJSFSXIVWKYLL*KLFXH*EKIIFIICXILVXWLIXX*LMRIF*TKXJXIT*XIXHLXRXN**LKN*XQILSLK*IQX*XKNW*KXWQRSWEXFVR*SYK**XHNSRKXRLRLXQNIKN*EIILK*NW*XXL*NQX*XTVGKKMKNXLG*CXGC*RMKXIXDL*KLKLSW*KXXNLIXRS*S*X*IFLWXRG*CFXXQKNQQLXIS*YMIIWXGLFGKXKEIKX*RN*SRNRKNNGKNGKXXSSCRSXXLEVXLLLPX*WRXXXGSEXXXXXXXQXXXXXXLXXXXL*FRQMTL*RYLFQVSBGMG**XLXKLGKNKLMLXXNQXXKLARLXXXSKSQFTXAXXXXSLENSTVFRXMIXXSKL*HLVPXXRLLXLXVXTKQ*NCGTPRGSYCILSPVMKIRSFV*HLVPMERLLLLLVLTRQ*SXGTXRGNYCXLSPXXRXRXXX*HLVPMERLLXLXVXTXQ*SCGSLRXVRGNYCXLSPXMXXRSXV*HLVPMXXLLXLXVXTXQ*XCGTVRGNYCXLXXAXRXRSXX*HLVPMEXLLQLLVLTXQ*XCGTVXGXYXXLXXXXXIXSLV*XLVPMERLLLLQVXTXQ*XCGTXXXBYCRLXXXMRIXSXX*HLVPMERLLXLXVLTXQ*NCGXXRGNYCRLAGMI*NLVPRIKILLQLLIIMITRQ*YCGTVRRYWSVXXAXRJXSXX*HLVPMERLLXLXXXXXQ*XCGTXXGXYXRLSPAIRILSMVMV*ESILMKRL*LVVLTIQ*SCGKXXGXKI*LXVVAXG*MII*LXIPRS*XNSXFAXLTNARN*LLXXG**RERSWXGKGRLRRQLXXLXKXXNGTQTSTLTQKXXQHH*LXQKN*WRKERN*QXKKK*RQQ*KNIXXQKNLXKXXXYLLXKILTQKLKLHIXZXXXCXXKXXXLXXREKXKKRSXPTKKXKKSTXPKFLLXIGXXFVXMAVFIKKLLMLCSPVXKQFP*ARKMGILLIVADWPEH*QGILKERSPIFRYL*NGRAXRREXHNDKNG*KHFRQEKTHLLMSS*KS*"
       ]
      },
      {
       "output_type": "stream",
       "stream": "stdout",
       "text": [
        "\n",
        "\n",
        "Tery_3935: Total groups = 1\n",
        "Group 1:\n",
        "2 paths, Average identity = 84.41\n",
        "MRNSTTNTIKTIIIAAISSIIIFPTLALIRPVIGKQDVGSIALKKTTRFRNSGGNYITTAPHISTGAIVQLEGLNLPRPKVTGIATIPLNFLDSGKAFILTATLGKKSGNFLLDTGASTTIISTEIIQELGLKGEPIPQELLTYAVAGDECPEMKANLHRLPVLKIDNVKVEKLFGLEFTTTIMPEGLSGVLGMDILSNFDVEINPKTQELRLLPPTIMPAENIKDAIPLKSELGVMLTEVEINDNGPFIFMLDTGAESIFISQKLARKLKITAAERQEIRVQGFCGIEMAELASLAKVKMGNYELTNLETVILSSPVLKLLEVDGILGQNFFNKYQQYWRFNQKNSEDXXLEGSLLLKESRE"
       ]
      },
      {
       "output_type": "stream",
       "stream": "stdout",
       "text": [
        "\n",
        "\n",
        "Tery_3947: Total groups = 57\n",
        "Group 1:\n",
        "8 paths, Average identity = 75.53\n",
        "IGRXSIYRWLSRPKLSATKVKSRQRKLDWKELEKDVKQNPESXXVRQS\n",
        "Group 2:\n",
        "2 paths, Average identity = 72.22\n",
        "IXXASIYRWLSRPKLSATKVKSRQRKLD*KELEKDVKQNPESRVVRQS\n",
        "Group 3:\n",
        "1 paths, Average identity = 79.17"
       ]
      },
      {
       "output_type": "stream",
       "stream": "stdout",
       "text": [
        "\n",
        "IGIASIYRWLSRPKLSATKVKSRQIKLDWKELEKDVKQNPESRVVRQS\n",
        "Group 4:\n",
        "1 paths, Average identity = 75.00\n",
        "IGIASIYRCLSRPRLSATKVKSRQRKLDWKELEKDLKQNPESIVVRQS\n",
        "Group 5:\n",
        "1 paths, Average identity = 77.08\n",
        "IGIASIYRCLSRPKLSATKVKSRQRKLDWKELEKDVKQNPHSSVVRQS\n",
        "Group 6:\n",
        "1 paths, Average identity = 75.00\n",
        "IGRASIYRWLSRPKLSATKVKSRKIKLDWKELEKDVKQNPESRVVRQS"
       ]
      },
      {
       "output_type": "stream",
       "stream": "stdout",
       "text": [
        "\n",
        "Group 7:\n",
        "1 paths, Average identity = 72.92\n",
        "VGRASIYRWLYRPKLSATKVKSRQRKLDWKELEKDVKQNPESILVRQS\n",
        "Group 8:\n",
        "1 paths, Average identity = 77.08\n",
        "IGIASIYRCLSRPILSATKVKSRQRKLDWKELEKDVKQNPESIFVRQS\n",
        "Group 9:\n",
        "1 paths, Average identity = 75.00\n",
        "IGRASIYRWLSRPKLSATKVKSSQRKLDWKELEKDVKQNTESRVVRQS\n",
        "Group 10:\n",
        "1 paths, Average identity = 79.17\n",
        "IGIASIYR*LSRPKLSATKVKSRQRKLDWKELEKDVKQNPESSIVRQS"
       ]
      },
      {
       "output_type": "stream",
       "stream": "stdout",
       "text": [
        "\n",
        "Group 11:\n",
        "1 paths, Average identity = 77.08\n",
        "IGRASIYRWLSRPKLSATKVKSRQRKLDWKELEKDVKQNPESIIVRQS\n",
        "Group 12:\n",
        "1 paths, Average identity = 77.08\n",
        "IGIASIYRWLSRPKMSATKVKSRQRKLDWKELEKDVKQNPESSIVRQS\n",
        "Group 13:\n",
        "1 paths, Average identity = 74.47\n",
        "GRASIYRCLSRPRLSATKVKSRQRKLDWKELEKDVKQNPESRVVRQS\n",
        "Group 14:\n",
        "1 paths, Average identity = 77.08"
       ]
      },
      {
       "output_type": "stream",
       "stream": "stdout",
       "text": [
        "\n",
        "IGIASIYRWLSRPKLSATKAKSRQRKLDWKELEKDVKQNPESSIVRQS\n",
        "Group 15:\n",
        "1 paths, Average identity = 75.00\n",
        "IGRASIYR*LSRQKLSATKVKSRQIKLDWKELEKDVKQNPESRVVRQS\n",
        "Group 16:\n",
        "1 paths, Average identity = 77.08\n",
        "IGRASIYR*LSRPKFSATKVKSRQIKLDWKELEKDVKQNPESSIVRQS\n",
        "Group 17:\n",
        "1 paths, Average identity = 75.00\n",
        "IGRASIYR*LSRPKLSATKVKNSQRKLDWKELEKDVKQNSESIIVRQS"
       ]
      },
      {
       "output_type": "stream",
       "stream": "stdout",
       "text": [
        "\n",
        "Group 18:\n",
        "1 paths, Average identity = 77.08\n",
        "IGRASIYRWLSRPKLSATKVKSRRIKLDWKELEKDVKQNPESSIVRQS\n",
        "Group 19:\n",
        "1 paths, Average identity = 76.60\n",
        "IGRASIYRWLSRPKLSATKVKSRQIKLDWKELEKDVKQNPESSVVRQ\n",
        "Group 20:\n",
        "1 paths, Average identity = 75.00\n",
        "IGRASIYTWLSRPKLSATKVKSRQRKLDWKELEKDVKQNPESSIVRQS\n",
        "Group 21:\n",
        "1 paths, Average identity = 75.00"
       ]
      },
      {
       "output_type": "stream",
       "stream": "stdout",
       "text": [
        "\n",
        "IGRASIYRWLSRPKLSATKAKSRQRKLDWKELEKDVKQNPESIIVRQS\n",
        "Group 22:\n",
        "1 paths, Average identity = 70.83\n",
        "IGRASIYRWLSRPTLEATKVKICQRKLDWKELEKDVKQNPESRVVRQS\n",
        "Group 23:\n",
        "1 paths, Average identity = 70.83\n",
        "IGIASIYRWLSPPKLSATKVKNRRKKLDWKELEKDVKQNPESSIGRQS\n",
        "Group 24:\n",
        "1 paths, Average identity = 76.60\n",
        "IGRASIYRWLSHPKLSATKVKSRQRKLDWKELEKDVKQNLESSIVRQ"
       ]
      },
      {
       "output_type": "stream",
       "stream": "stdout",
       "text": [
        "\n",
        "Group 25:\n",
        "1 paths, Average identity = 75.00\n",
        "IERASIYRWLSRPKLSATKVKSHQRKLDWKELEKDVKQNPESIIVRQS\n",
        "Group 26:\n",
        "1 paths, Average identity = 75.00\n",
        "IGIALIYR*LSRPKLSATKVKSCRRKLDWKELEKDVKQNPESIIDRQS\n",
        "Group 27:\n",
        "1 paths, Average identity = 75.00\n",
        "IGIASIYRWLSRPKLSATKVKSRQRKLDWKELEKDVKQNP*SSFVRQS\n",
        "Group 28:\n",
        "1 paths, Average identity = 71.74"
       ]
      },
      {
       "output_type": "stream",
       "stream": "stdout",
       "text": [
        "\n",
        "GRASIYRCLSRPKLSATKVKSSQRKLDWKELEKDVKQNPDSRVFRQ\n",
        "Group 29:\n",
        "1 paths, Average identity = 72.92\n",
        "IGRASIYRWLSRPTLSATKVKSRQRKLDWKELEKDVKQNPESIFVRQS\n",
        "Group 30:\n",
        "1 paths, Average identity = 70.83\n",
        "IGRAWIYRWLSRPKLSASKVKSRQRKLDWKELEKDVKQNPESRVVRQS\n",
        "Group 31:\n",
        "1 paths, Average identity = 70.59\n",
        "IFGIRRASIYRWLSRPTLEATKVKSCQRKLDWKELEKDVKQNPESSIVRQS"
       ]
      },
      {
       "output_type": "stream",
       "stream": "stdout",
       "text": [
        "\n",
        "Group 32:\n",
        "1 paths, Average identity = 74.47\n",
        "IGRASIYRCLSRPKLLATKVKSRQGKLDWKELERDVKQNPELSIFRQ\n",
        "Group 33:\n",
        "1 paths, Average identity = 71.11\n",
        "ASIYRWLSPPKLSATKVKNSRKKLDWKELEKDVKQNPESSIVRQS\n",
        "Group 34:\n",
        "1 paths, Average identity = 72.92\n",
        "IGRASIYRWLSSPILSATKVKSRQIKLDWKELEKDVKQNPESIFVRQS\n",
        "Group 35:\n",
        "1 paths, Average identity = 72.34"
       ]
      },
      {
       "output_type": "stream",
       "stream": "stdout",
       "text": [
        "\n",
        "GRALIYRWLSRPKLSATKAKSGQRKLDWKELEKDVKQNPESSIVRQS\n",
        "Group 36:\n",
        "1 paths, Average identity = 72.34\n",
        "GRASIYRWLSHPKLSATKVKSRQRKLDWKELEKDVKQNPKSIIVRQS\n",
        "Group 37:\n",
        "1 paths, Average identity = 70.83\n",
        "IGIASIYRWLSPPKLEATKVKRRQIKLDWKELEKDVKQNPKSIISRQS\n",
        "Group 38:\n",
        "1 paths, Average identity = 72.34\n",
        "IGRASIYRWLSRPKLSATKVKSRQRIRLGRIRKRCKTKSRVEGCQTE"
       ]
      },
      {
       "output_type": "stream",
       "stream": "stdout",
       "text": [
        "\n",
        "Group 39:\n",
        "2 paths, Average identity = 73.12\n",
        "IGRASIYRWLSRPKLSAXKVKSRXRKLDXXELEKDVKQNPESXIVRQS\n",
        "Group 40:\n",
        "1 paths, Average identity = 70.83\n",
        "IGRASIYR*LSHQKLEATKVKHRQIKLDWKELEKDVKQNLESIISRQS\n",
        "Group 41:\n",
        "1 paths, Average identity = 70.83\n",
        "IGRASIYRWLSRPRLSATKVKSRQRKLD*KELEKDVKQNPESRVVRQS\n",
        "Group 42:\n",
        "1 paths, Average identity = 70.83"
       ]
      },
      {
       "output_type": "stream",
       "stream": "stdout",
       "text": [
        "\n",
        "IGIASIYRWLSRPKLSATKVKRRQRKLDFKELEKDVKQNPKSIISRQS\n",
        "Group 43:\n",
        "1 paths, Average identity = 74.47\n",
        "GRASIYRWLSRPKLSATKVKSRQKKLDCKELEKDVKQNPESIIVRQS\n",
        "Group 44:\n",
        "1 paths, Average identity = 73.33\n",
        "ASIYRWLSGPKLSATKVKSRQIKLDWKELEKDVKQNPESSIFRQN\n",
        "Group 45:\n",
        "1 paths, Average identity = 70.21\n",
        "GRASIYRWLSRPKLSATKVKLRQRKLDWKELKKDVKQNQESIISRQS"
       ]
      },
      {
       "output_type": "stream",
       "stream": "stdout",
       "text": [
        "\n",
        "Group 46:\n",
        "1 paths, Average identity = 70.21\n",
        "IGRASIYR*LSPPTLSATKVKSRQRKLDWKELEKDVKQNPESRVVRQ\n",
        "Group 47:\n",
        "1 paths, Average identity = 70.83\n",
        "IGRASIYRWLSCPTLSATKVKSRQRKLDWKELEKDVKQNPESRVVRQS\n",
        "Group 48:\n",
        "1 paths, Average identity = 70.21\n",
        "IGRASIYRWSSRPKLSATKVKIRQRKLDWKELEKDVKQNPESRVVRQ\n",
        "Group 49:\n",
        "1 paths, Average identity = 70.21"
       ]
      },
      {
       "output_type": "stream",
       "stream": "stdout",
       "text": [
        "\n",
        "GRTSIYRWLSRPKLPATKVKSRRIKLDWKELEKDVKQNP*SLIGRQS\n",
        "Group 50:\n",
        "1 paths, Average identity = 73.33\n",
        "ASIYRWLSPPKLSPTKVKSRQIKLDWKEL*KDVKQNPESSIVRQS\n",
        "Group 51:\n",
        "1 paths, Average identity = 72.34\n",
        "IEIASIYRWLSRPKLSATKVKSRQRKLDWKEL*KDVKQNPKSSIVRQ\n",
        "Group 52:\n",
        "1 paths, Average identity = 74.47"
       ]
      },
      {
       "output_type": "stream",
       "stream": "stdout",
       "text": [
        "\n",
        "IGRTSIYR*LSRPKLSATKVKSRQIKLDWKELEKDVKRNPEFHIFRQ\n",
        "Group 53:\n",
        "1 paths, Average identity = 72.92\n",
        "IGRASIYRWLSRPKLSATKVKSRLIKLDWK*L*KDVKQNQE*IIVRQS\n",
        "Group 54:\n",
        "1 paths, Average identity = 70.83\n",
        "IGRASIYRWLSCPKLSATKVKSRQRKLDGKELEKDVKQNPESRVVRQS\n",
        "Group 55:\n",
        "1 paths, Average identity = 70.21"
       ]
      },
      {
       "output_type": "stream",
       "stream": "stdout",
       "text": [
        "\n",
        "MGIASIYR*LSRPKMSATKVKSRQRKLD*KEL*KDVKQNTESRIVRQ\n",
        "Group 56:\n",
        "1 paths, Average identity = 70.83\n",
        "IGIASIYRWLSRTK*SATKVKSRQKKLDRKELEKDVKQNPDSSIVRQS\n",
        "Group 57:\n",
        "1 paths, Average identity = 71.74\n",
        "GRASIYRWLSRPKLSATKVKSSQIKLDRKES*KDVKQNLYSSIVRQ\n",
        "\n",
        "Tery_3954: Total groups = 1\n",
        "Group 1:\n",
        "2 paths, Average identity = 93.30\n",
        "MRVAIAGAGLAGMATAVELADAGHQVEIFESRPFVGGKVGSWVDRDGNHVEMGLHVFFGCYYELFELMKKVEAFKNLRLKEHTHNFINKGGKTGSLDFRFLTGAPFNGLKAFFATSQLSVQDKLQNAMALGTSPIVRGLIDFDGAMKTIRDLDRVSFGDWFRRQGGSDGSIKRMWNPIAYALGFIDADNISARCMLTIFQLFAAKTEASVLRMLNGSPYEYLHKPIVEYLEARGTKIHTRQKVREIKFSEDDGETRVNGIVVANGDTEETITADAYVFACDVPGIQRILPEAWRKWPEFDNIYKLDAVPVATVQLRFDGWVTELHEKNQRQQLDHAAGIDNLLYTPDADFSCFADLALTSPEDYYRQGEGSLLQLVLTPGDPFIKENNEAIAHHVLKQVHELFPSSQELNMTWYSVVKLAQSLYREAPGMDPYRPNQQTPVPNFFLAGSYTQQDYIDSMEGATISGKQAAKMILANVENILG"
       ]
      },
      {
       "output_type": "stream",
       "stream": "stdout",
       "text": [
        "\n",
        "\n",
        "Tery_3961: Total groups = 1\n",
        "Group 1:\n",
        "4 paths, Average identity = 92.73\n",
        "MASNNYGAEQIQVLEGLEAVRKRPGMYIGTTGPRGLHHLIYEVVDNSIDEALAGYCTHIEVDLNKDGSVKVTDDGRGIPVDTHSKTGKSALETVMTVLHAGGKFGGGGYKVSGGLHGVGVSVVNALSEWVEVTVWRDKKAHIQGYERGKPTGDLETKQNKEKRTGTSVQFLPDQEIFSTGIEFDYNTIIGRLRELAYLNAGVKITITDHRLELLKSDEPRIESYCYEGGIKEYVTYMNREKQSLHEEVIFVRGEKNDVQVEVALQWCVDAFSDNVLGFANNIRTVDGGTHLEGLKTVLTRTMNGIARKRNKLKDSDANLGGENVREGLTAVISVKVPEPEFEGQTKTKLGNTEVRGIVDSLVGEVLTEYLDFNPQVADAVLEKAIQAFKAAEAARRARDLVRRKSVLESSPLPGKLADCSTKNPEESEIYLVEGDSASGCFAGSQRVILADGRRLSFAEIVAEQGEGKEHFCYTINQSGNVAIEKIVNARITKKNATVIKINLDNNETIICTPDHLFMLRNGSYKPAALLTKNDSLMPLYQKLSQKPKIGQGLDSYKMVWDPQKESWIYTDLLADFYNLKAGVYESGDGDYPRHVDFNKLNNPTNTQGLLSEKDLEFQRTNLEFIYGCSEGNEFSGRDAIRNYNHRVVSIEPLEEQLDVYDIEVPNTHNFALASGVFVHNSAKQGRDRRFQAILPLRGKIINIEKTDDAKIYKNNEIQSMITALGLGIKGDEFDASQLRYHKVIIMTDADVDGSHIRTLLLTFFYRYQRALVDQGYIYIACPPLYKVERGRNHYYCYSDNELSQLIENEFPDNANYTIQRFKGLGEMMPVQLWDTTMNPETRTLKRVEIEDAAEADRIFTVLMGDRVAPRREFIETYGPKLKITDLDI"
       ]
      },
      {
       "output_type": "stream",
       "stream": "stdout",
       "text": [
        "\n",
        "\n",
        "Tery_3962: Total groups = 1\n",
        "Group 1:\n",
        "3 paths, Average identity = 89.56\n",
        "LITICGPTATGKSGLALDLAERLGSIIFSADSRQVYKHFNIGTAKPTITEQELVSHYLIDICEPTETLTLAEYQEKAQRLIVNPPTAQTDVVLPRLLVGGTGLYIKAIVKGLKIPRVGPNEKLRSQLSHLGQKQCYEMLQQVDQVAVEKIHPNDVVRTLRALEVFYVSGKPISQQQGEDPPNYPILQIGLDCDVEVLGERIRHRTEKMVEVGLVEEVKFLCEKYGEDLPLLDTLGYREIKQYLVGDISLVEAIEATVLHTRQFAKRQRTWFRGYPEIEWFDGDASNLLDKVWERVREFTRVLAENIQD"
       ]
      },
      {
       "output_type": "stream",
       "stream": "stdout",
       "text": [
        "\n",
        "\n",
        "Tery_3976: Total groups = 1\n",
        "Group 1:\n",
        "4 paths, Average identity = 89.34\n",
        "MNNGKVRIYELSKELNLENKDILGVCKRLNISVKSHSSTITESEAELIRTTAENLPHSPSQSAAPEKSDSQNQDSASNHNEQKKQQILEVRKPKPLAEKFQQKNHSKINNNLVATPPNTSVLNNQIQPVGSSRPNSSLNSETLKDRSDLEVSDNSSMKHPNRPLNKGNTVDKNNSPEKTDSTEMVTEEVPKLVAPPARPAPPSLNRNTRNTNINKPNQKNKKPKQEGKKRKDKEEKPFEKPAIIPKKENKDTPLEKPTIVSKKENKDTSHKREGVKTSPSAPENSPQLKPKNRDKPTVKLKQEQKPQLAPKPKLTTPVLEEPIDVDLGLDVEEKGKEDGAIETINYELEKPRRKAVLPSKPALTKVKKGSKWEEEEEESSEITQKNAKSTAKAKRLRVKPLLEDEDEELAELLNKPATVTMSLSLARPAKPKSFAKKTKPQSSSNTSSLKKKSSPSSESVKNESNEQTQPDEVRPLEKLVISASMTVQELALALVVPETEIIRRLFMKGIAVNITESLDIPTIEMVVKEEGIPIEIPEEQSAAKKTTEILEDTDLENLQRRPPVVTIMGHVDHGKTSLLDSIRATKVAAGEAGGITQHIGAYHVDVEHEGQMQQVVFLDTPGHEAFTAMRARGARVTDIAVLVVAADDGVQPQTIEAISHAKAAEVPLIVAINKIDKEEANPDRVKQELMEHGLVPEEWGGDAIMVPVSAIQKQNLDTLLEMILLVSEVEDLQANPERLAKGTVIEANLDKARGPVATLLVQNGTLKVGEIVVAGSVYGKVRAMIDDRGDRVDKASPSFAVEVLGLRDVPQAGDEFEVFKNEKEASAITTERADVKRESRIMRRTSLGAVSVRAQEGELKELNLILKADVQGSIEAIVAALRQLPQKEVQLRLLLSGAGEITETDIDLAAASEAVIIGFNTTMASGARQAADGAGVDVREYNVIYKLLDDIQGAMEGLLDPELVEEALGEVEVRAVFTINRGAVAGCYVLSGKVVRNSKVRVRRNGVIIHTGVLDSLRRMKDDVKEVNAGYECGISFDNFNSWSEGDIIEVYQMVTKRRKLST"
       ]
      },
      {
       "output_type": "stream",
       "stream": "stdout",
       "text": [
        "\n",
        "\n",
        "Tery_3977: Total groups = 2\n",
        "Group 1:\n",
        "1 paths, Average identity = 84.52\n",
        "MKPNYRRCVSCKKLSPKEEFLRVIRSKESDTIKLDQGEGRSAYICRKIECLKIAHKKNKLGRSLKAYIPPEMYTSLWQKLENL\n",
        "Group 2:\n",
        "1 paths, Average identity = 85.71\n",
        "MKPNYRRCVSCKKLSPKEEFLRVIRSKESDTIKLDQGEGRSAYICRKIECLKIAHKKNKLGRSLKAYVPPEMYTSLWQKLENL\n",
        "\n",
        "Tery_3993: Total groups = 1\n",
        "Group 1:\n",
        "2 paths, Average identity = 82.73\n",
        "MGRKFILGVILFLMSLTLTILHGSVVSKYIHNYQPSNQIRKVKIWQASEVKKEKYNLYQSSEEDLNNSQNLYNSQTVIHIKKTPRYNKISRSKPQPINGVIDILWLLICSGLVFLMQPGFMCLESGLTRSKNNINVALKNLTDFGISIACFWGFGFAFMFGTSAAGIIGYSNFLLTTNLQPFEATFFLFQAMFCGTATTIVSGAVAERMKFATYLFVALLVSGFIYPIFGHWAWNGMDTGVLIGWLGQRGFIDFAGSTVVHSIGGWVSLATLLVIGPRTGRFPRDRPAEKIHGSNLPLSVLGVMLIWFGWFGFNGGSTLALNGQVPDIIVNTIFASVAGMMTSLSIGWYIRGIPGVDLIINGTLAGLVAITXSCHAVTTLXAXVIGXXGAIVXILVEQALEKIRVDDAVGAIPVHLGAGIWGTLAVALFGKAEILXTXLXLXQQFTVQLLGVCXAFLLGFCVVYPVLLIANXFFLLRVSXXDEXIGLNISEHXAKTEILDLFEVMNSQASTQDLSLRVPXEPFTLVGQIAERYNQVMDALEEVTARNDAIVKVATDAIITFTKPGLEIISVNPSTEKIFSYKPQDLVGIPIYKILDFTINPLTMEKIDSDDSLTEAKNSIVKPLKLWLNQNLISSPSREIIDAYYRFDFQDIKPENLQFYFPSFINLLEDNLADTQTCLETEKKINQKKYHTEIMMSKIAEIGNICELVGIRKDGSLFPIEIAIREAKFNQKIFYTGTFRDISERKESEVKLQENEQRFRILSRATFEGIIIYKQGKIVDANIAALQMFKYELSEMMGMNGWELIDSKYRNLVRENLNSGYEKPYEVVGLRKDGSIFPIEMEAKTFFYHGNQHRVSAIRDITERKLAEKALRESEEKFRSIMEQAADAFILLDLQGKIVDVNQTTCQSLGYTYEELLNLFIEDIEMNFALENFYQKWQKLIPGIPITLQGIHKRKDGKTFPVEINLGLLKAGNGNLLLALCRDITDRKKAEQALLLEQEKSDKLLLNILPKPIAEKLKENQDIIAEGFEEVTVLFADLVGFTELASSVHPERLVYLLNDIFSRFDLLVEKYGLEKIKTIGDAYMVVGGLPMPIENHAEAIALIAIDMVEELADFANRVKQNFPIRIGINTGPVVAGVIGRKKFIYDLWGDTVNIASRMESQGIPGVIQVTEVTYQILQHKFLFRERGIIDIKGKGYMKTYFLQGKK"
       ]
      },
      {
       "output_type": "stream",
       "stream": "stdout",
       "text": [
        "\n",
        "\n",
        "Tery_3996: Total groups = 1\n",
        "Group 1:\n",
        "4 paths, Average identity = 78.78\n",
        "MKGERIIWQEDFSLTFTEEYEALVETIRFNEGFSLLFAECSRPKRTKIMEKIRLDIPEKRADVLGLDKTIYHFYNRVKELPNLKEIDILFVTGLEYSLYQYEDEMKERGWDNNEIISISRRGVPPVLINLNQQRERFRDDFDICFVFLLPRFAIDYLIKRAPDFFDWRSGLFRFPMDKESFDKESLEVCEKKLEDYIEFTRQERKFEWVRIKSLLDEDLISLGQKADLLVRKASLDRKFQQNEEAILTCDEALKIEPNDYKAWDNKGIALEILERYEEAVAAFEKALEIKSDYHYAWHNKGNALINLERYEEAIAAYEKALEIKPDFHEGWHNKGNALINLERYEEAIAAYEKALEIKPDFHEGWHNKGIALRNLERHEEAIAAYEKALEIKPDFHYAWHNKGIALINLERYEEAIAAYEKALEIKPDYHYAWHNKGIALINLERYEEAIAAYEKALEIKPDFHEAWHNKGIALENLERYEEAVAAYEKALEIKPDFHKAWHNKGIALINLERYEEAIAAYEKALEIKPDFHEAWNGKGNALENLERYEEAVAAFEKALEIKPDFHYAWNNKGNALIILERYEEAVAAFEKALEIKPDDDGAWNNKGIALVYLERYEEAFAAFEKALEIKPDDDGAWNIKGNALIILERYEEAVAAFEKALEIKSDYHYAWRNKGDALRNLERYEEAVAAYEKALEIKPDYYDAWNDKGVALENLERYEEAVAAFEKALEIKSDYHYAWRNKGDALINLERYEEALAAYEKALEIKPDFHYAWNGKGNVLRKLERYEEALAAYEKALEIKPDFHYAWNNKGNVLRKLERYEEALAAYEKALEIKPDFHYAWNNKGNALGKLERYEEAVAAFEKALEIKPDYYDAWNDKGVAQENLERYEEAVAAFEKALEIKSDYHYAWRNKGDALRNLERYEEAVAAYEKALEIKPDYYDAWNDKGVALENLERYEEAVAAFEKALEIKSDYHYAWRNKGDALINLERYEEALAAYEKALEIKPDFHYAWNGKGNVLRKLERYEEALAAYEKALEIKPDFHYAWNNKGNVLRKLERYEEALAAYEKALEIKPDFHYAWNNKGNALGKLERYEEAVAAFEKALEIKPDYYDAWNDKGVAQENLERYEEAVAAFEKALEIKSDYHYAWRNKGDALRNLERYEEAVAAYEKALEIKPDYYDAWNDKGVALENLERYEEAVAAFEKALEIKSDYHYAWRNKGDALINLERYEEALAAYEKALEIKPDFHYAWNGKGNVLRKLERYEEALAAYEKALEIKPDFHYAWNNKGNVLRKLERYEEALAAYEKALEIKPDFHYAWNNKGNALGKLERYEEAVAAFEKALEIKPDYYDAWNDKGVAQENLERYEEAVAAFEKALEIKSDYHYAWRNKGDALRNLERYEEAVAAYEKALEIKPDYYDAWNDKGVALENLERYEEAVAAFEKALEIKSDYHYAWRNKGDALINLERYEEALAAYEKALEIKPDFHYAWNGKGNVLRKLERYEEALAAYEKALEIKPDFHYAWNNKGNVLRKLERYEEALAAYEKALEIKPDFHYAWNNKGNALGKLERYEEAVAAFEKALEIKPDYYDAWNDKGVAQENLERYEEAVAAFEKALEIKSDYHYAWRNKGDALRNLERYEEAV"
       ]
      },
      {
       "output_type": "stream",
       "stream": "stdout",
       "text": [
        "\n",
        "\n",
        "Tery_4013: Total groups = 1\n",
        "Group 1:\n",
        "2 paths, Average identity = 88.64\n",
        "MQNFRNYYQILDISKDASVDEIKKAYRRLARQFHPDVNPGSKEAEEKFKDINEAYDILSDEEKRVEYDKFIRYWKSKGIVSRMGVRVPDFRNWGDGLSGNGGKSERDVDVSDFSDFNTFVDQLLGRRREVRTPATATRPKTQPSSVYRPGQKKSVYKAAERELKKDIEARLTLPLEKAYLGGIEKIRLEDGRSIEVDMPAAMISGQRIRLRNQGIGGGDLYLKITITPHGFYQLQGPDIFCELPITPVEAVLGGDIEVPTLDGWVKMKLPPGVFSGQRLRLANKGYPDGRGDRGDQLXEIKIVTPKXXXZEELEIYQKLREVERFKPRKDLPV"
       ]
      },
      {
       "output_type": "stream",
       "stream": "stdout",
       "text": [
        "\n",
        "\n",
        "Tery_4058: Total groups = 1\n",
        "Group 1:\n",
        "2 paths, Average identity = 97.09\n",
        "MKIGQTSDIDSVRTYLREIGRVPLLSHEEEILYGKQVQRLTALHEVNQTLVEXLGREPTLVEWAEAKEMSKSELQRIIMEGERAKRKMVEANLRLVVSVAKKYIKRNVDLLDLIQEGTIGMQRGVEKFDPTKGYRFSTYAYWWIRQAITRAIAEKGRTIRLPIHITEKLNKIKKVQRQLTQQLGRSATTGEIAEELGLTPKQIRECLERARLPLSLDLRVGDNQDTELGDLLEDTGASPEDYALQSSMRTDLESIMADLTPQQKQVLALRFGLEDGQSMTLSKIGAHLNISRERVRQIEREALSKLRKRKQDMNDYLAS"
       ]
      },
      {
       "output_type": "stream",
       "stream": "stdout",
       "text": [
        "\n",
        "\n",
        "Tery_4092: Total groups = 1\n",
        "Group 1:\n",
        "3 paths, Average identity = 95.87\n",
        "MDISKKANWSEVYVQPTPASYLXIVSQQEYRVPDYGIQYLRPLLKMLYDKEQRPIXIVDIGASYGIISTLLLHDLTMAQLIDFFIKRDGAKEPTWAEIERFYKHQNIRHTEYKFYLSDNSKPAMDFAERVQVCEKAYCFDMRHEPLPEELKQIVETTDLFIATGSLGYIGEYFFQQIFPIISHNSLSPLFAFVIYRAFYSSEINKVFQDYNYTLLKSSVPFKKGRKFASVLEQQNTITSLHQKNINTVGLEDEGFYACEFYFGVPVLEKERLYSWLRQEDLKY"
       ]
      },
      {
       "output_type": "stream",
       "stream": "stdout",
       "text": [
        "\n",
        "\n",
        "Tery_4099: Total groups = 1\n",
        "Group 1:\n",
        "4 paths, Average identity = 97.60\n",
        "MAIVPMRLLLDHAAENGYGIPAYNVNNMEQIQSIMQAADEADSPVILQASRGARKYAGENFLRHLILAAIETYPHLPIAMHQDHGNAPSTCYSAMRHGFTSVMMDGSLEADAKTPASFEYNVNVTAEVVKVAHSIGVSVEGELGCLGSLETGMGDKEDGHGAEGKLSHDQLLTDPDEAVQFVEQTQVDALAVAIGTSHGAYKFTRKPTGEILAISRIEEIHRRLPNTHLVMHGSSSVPEDLLAIINQYGGXIPETYGVPVEEIQKGIKSGVRKVNIDTDNRLAITAAIREAAAKDPSNFDPRHFLKPSIKYMKQVCLDRYKQFGTAGNASKIKVQTLDEFAARYASGELAATTKTAVTV"
       ]
      },
      {
       "output_type": "stream",
       "stream": "stdout",
       "text": [
        "\n",
        "\n",
        "Tery_4103: Total groups = 1\n",
        "Group 1:\n",
        "2 paths, Average identity = 86.37\n",
        "VINLECLAYSVGHADDGICLLVRMGVHRILLDCGITNISLLTNDVKQQLPADIVLCSHAHSDNAQGLLALHRTFPNLPIYASEATTKLLPLNWPEIAISEVPNLCQPLPWNSQVELRSGLTAELFPAGHLPGATAFLLTYNGKNRSYKLLYTGDFFLSKSRLVEGLPIADLRGLKLDVLIVEGSYGTAHYPHRRQLENNLAQRVCQAITSGSSVILPTPPLGLGQELLMLLRSHNYFTGRDLDIWVEEKVARGCDLYLELLSQFPTSVQNFAQHQPLFWDEKVKPRVLRRSPGLFPSTEKPYIIIADQDTDLSQYIINKDNSVIVLLPELPGKTSQKLDFAHSETYLLTDHCDGLGTTQLIHNLRPQHVIFVNGCPSYLADLTNLEELRNRYKLHSPANGTLVELPIGETLIVPTSHETNYEGELNELETEVIISLPPNITNDSRWTTFSDTGLVEVRWQGEELVVRGISQRELLCQTTDHLISPKLDYCCNCLHYRGQRCSNTVSALYGFKVTFDGYCPMFESVHFPFTSTGETDKND"
       ]
      },
      {
       "output_type": "stream",
       "stream": "stdout",
       "text": [
        "\n",
        "\n",
        "Tery_4115: Total groups = 1\n",
        "Group 1:\n",
        "2 paths, Average identity = 92.69\n",
        "MQFIDQAEIQVEGGKGGDGMVAFRREKFVPAGGPAGGNGGRGGSVILVAVAHLQTLLDFKFQRVFKAENGKRGGPKNMTGGAGSDRLIEVPPGTMIYDGETEELLGDLVKPGQTCCVAQGGKGGLGNKHFLSNSNRAPEYALPGLEGEVRMLRLELKLLAEVGIIGLPNAGKSTLIAALSAARPKIADYPFTTLVPNLGVVRKPTGDGTVFADIPGLVEGASAGVGLGHEFLRHIERTELLLHLVDITDVDPVENFETIENELEVYGRNLEDKRQVLALNKVDAVDVENSEIQELVSRFRXMSGGKVFLISAVAGIGLEELMQEVWRVLEMEEKV"
       ]
      },
      {
       "output_type": "stream",
       "stream": "stdout",
       "text": [
        "\n",
        "\n",
        "Tery_4127: Total groups = 1\n",
        "Group 1:\n",
        "2 paths, Average identity = 95.35\n",
        "MTTTLEKGQISIHTENIFPIIKKSLYTDHEIFLRELVSNGVDAIAKLKMVARTGEYSGDVTNPEIEIKIDKDNQSISITDNGIGMTADEIKKYINQVAFSSAEEFIEKYKGSDNDAIIGHFGLGFYSSFMVAKKVEIDTLSYQEGAEAVHWSCDGSPEFEISDSTRTERGTTITLTLQDEEKEYIEPTRVKQLIKTYCDFMPVPIKFEGEEVNKHKAIWRESTQNVAKDDYLELYRHLYPFQEDPLLWVHLNTDYPFIVNGILYFPKLKPDVDVTQGNIKLFCNQVFVTDHCEEIIPKFLMPLRGVIDSTDIPLNVSRSSLLSNRTVRRIADYIAKKVGDRLKELYRDERDKYISGWQDVGTFVKFGALNDDKFKKQVEDIIIFRSTAQLNQGETTETEAKPAVEVQAEGEDVWQEVASETSEGKNTDQQGFYYTTLKEYLERNKERHENRVYYCTEPASQATYVELHKNQGLEVLFLDSFIDTHFISFLEREYQDVKFSRVDSDLDDTLIDKENKSEIVDPTTNKTRSEQIKELFEKALNKPKINVKAQALKSEDAKTTPPAMVLLPEAMRRLRDMTALLQQEKTEFPEDHVLLVNTAHPLIQNLASISQGSIIQGSGESPSAELAREICHHVYDLALIAQKGFDAEGMKDFVERSNEVLTKLTEKAL"
       ]
      },
      {
       "output_type": "stream",
       "stream": "stdout",
       "text": [
        "\n",
        "\n",
        "Tery_4132: Total groups = 1\n",
        "Group 1:\n",
        "4 paths, Average identity = 81.01\n",
        "MTTLLTDNTCTLANTSHNSTLKKCQDNLKPQVTPKPEAEFSPENIILEFGRELSSSRCHRFWYKYFTFPKISTLLKDFQIIFERDPAARNWMEVLFCYPGLHALLLHRLSHKLYSQRVPLIPRLISHLGRFFTGIEIHPGAEIGQGVFIDHGMGVVIGETAIVGDYSLIYQGVTLGGTGKETGKRHPTIGKNVVVGAGAKVLGNINIGDNVRIGAGSIVLRHVPSDCTVVGIPGKVVSKSGQRAEVLEHGKLPDTEATVIRALVDRIEQLEEKLQTIMSDTR*NNNV"
       ]
      },
      {
       "output_type": "stream",
       "stream": "stdout",
       "text": [
        "\n",
        "\n",
        "Tery_4148: Total groups = 1\n",
        "Group 1:\n",
        "15 paths, Average identity = 92.07\n",
        "MNLDFSPAWISLKTATVTTVITFFLGIATARWMLGYRGKNKGLIDAILTSPLVLPPTVTGFLLLLLLGRNGPLGHVLSSMGITLIFTWPATVIAATVVSFPLMYKTSLAAFNQIDTSLLACARTLGASEWRVFWQILLPLAKPGIIAGTLLAFARSLGEFGATLMLAGSIPGKTETIPIAIFFASESGNMKEALIWVLVILAISLGVITSVNFWSESKIKKRMVQKTEKQIIDVRSVSKVKGKLLTLSYPSQSQSLFVDIQKQLSGFMLDVTFSANNKPVGLLGGSGAGKSMILRCIAGLETPTRGCIVLNGRVLFDAKQKIDLPSRDRNVGYLFQNYALFPHLTVAENIAFGLPKGLSSNEIQQQVQAHLLAVQLPGYEKRYPGELSGGQQQRVALARALASKPDALLLDEAFSALDTHLRHQIETLVLTTLENYPGVTLLVTHNLEEAYRICQHLLVVDDGIILTHGLKQDIFEYSSSVRVAQLTGCKNFSQAVIIEDHKIEAVEWGCSLQVVEPIPEYFSHVGIRAHQITFIEEENQPNTFPCWLAATSETQHRMTLYLKLYQPAINAFDYHLQAEVFKEKWHQIKNNPFPWQVCLHPFRLLLLEDTHRNQMSTDTLKTPHKLFW"
       ]
      },
      {
       "output_type": "stream",
       "stream": "stdout",
       "text": [
        "\n",
        "\n",
        "Tery_4164: Total groups = 49\n",
        "Group 1:\n",
        "6 paths, Average identity = 76.26\n",
        "MXYSLXXRQKVINFVXNGGTITKXAHXFGIGRASIYRWLSRPKLSATKVKSRQRKLDWKELEKDVKQNP\n",
        "Group 2:\n",
        "2 paths, Average identity = 74.00\n",
        "MPYSLDFRQKVINFIENGXKITKAAHTFGIGRASIYRWLSRPTLEATKVKIRQRKLDWKELEKDVKQNP"
       ]
      },
      {
       "output_type": "stream",
       "stream": "stdout",
       "text": [
        "\n",
        "Group 3:\n",
        "1 paths, Average identity = 72.86\n",
        "MPYSLDFRQKVINFVENGGTITKQLIHLG*EELRYIDGHLAQNCQQLR*KFVKEN*IGKN*KKM*NKI\n",
        "Group 4:\n",
        "1 paths, Average identity = 72.46\n",
        "MPYSLDFRQKVINFLENGGTITKIAHTFGIGRASIYRWLSRPKLSATKVKSRKIKLDWKELEKDVKQNP\n",
        "Group 5:\n",
        "3 paths, Average identity = 72.43\n",
        "MLYSLDLRQKVINIVENGGTIT*ASHIFGIGIASIYRWLSPPKLSATKXKNRRKKLDWKELEKDVKQNP"
       ]
      },
      {
       "output_type": "stream",
       "stream": "stdout",
       "text": [
        "\n",
        "Group 6:\n",
        "1 paths, Average identity = 72.46\n",
        "MPYSLYFRQKVINFIENGEKITKAAHTFGIGRASIYRWLSRPTLEATKVKICQRKLDWKELEKDVKQNP\n",
        "Group 7:\n",
        "1 paths, Average identity = 76.81\n",
        "MPYSLDFRQKVINFVENGGTLTKVAHTFGIGRASIYRWLSRPKLSATKVKSRQIKLDWKELEKDVKQNP\n",
        "Group 8:\n",
        "1 paths, Average identity = 72.46\n",
        "MPYSLDFRQKIINFVENGGTITKAAHIFGIGRASIYRWLSRPRLSATKVKSRQRKLD*KELEKDVKQNP\n",
        "Group 9:\n",
        "1 paths, Average identity = 71.01"
       ]
      },
      {
       "output_type": "stream",
       "stream": "stdout",
       "text": [
        "\n",
        "MPYSLDFRQKVINFVENGGTITKAAHTFGRERTSIYRWLSRPKLSATKVKSRQRKLDWKELEKDVKQNP\n",
        "Group 10:\n",
        "1 paths, Average identity = 73.91\n",
        "MSYSLDFTQKVINFA*NGGTITKAAHTFGIGIASIYRWLSRPKLSATKVKSRQRKLDWKELEKDVKQNP\n",
        "Group 11:\n",
        "1 paths, Average identity = 73.91\n",
        "MPYSLDFRQKVINFVENGGTITKAAHTFGIGRASIYTWLSRPKLSATKVKSRQRKLDWKELEKDVKQNP\n",
        "Group 12:\n",
        "1 paths, Average identity = 71.01\n",
        "MLYSLDFRKKVINFIENGGTITKAAHTFGIGRASIYRWLSRPTLEVTKVKSRQIKLD*KELEKDVKQNP"
       ]
      },
      {
       "output_type": "stream",
       "stream": "stdout",
       "text": [
        "\n",
        "Group 13:\n",
        "1 paths, Average identity = 78.26\n",
        "MPYSLDLRQKVINFVENGGTITEAAHIFGIGIASIYRWLSRPKLSATKVKRRRRKLDWKELEKDVKQNP\n",
        "Group 14:\n",
        "1 paths, Average identity = 73.91\n",
        "MPYSLDFRQKLINFVENGGTITKAAHTFGIGIASIYRWLSRPKLSATKAKSRQRKLDWKELEKDVKQNP\n",
        "Group 15:\n",
        "1 paths, Average identity = 72.46\n",
        "MPYSLDLRKKVINFVENGGTITEAAHTFWIGIASIYRWLSRPKLEATKVKRRQIKLDFQELEKDVKQNP\n",
        "Group 16:\n",
        "1 paths, Average identity = 73.91\n",
        "MPYSLDLIQKVINFVENGSTITKEAHTFGIGRAWIYRWLSRPKLSASKVKSRQRKLDWKELEKDVKQNP"
       ]
      },
      {
       "output_type": "stream",
       "stream": "stdout",
       "text": [
        "\n",
        "Group 17:\n",
        "1 paths, Average identity = 73.91\n",
        "MPYSLDFRQKVINFVENGGTITKAAHTFGIEIASIYRWLSRPKLSATKVKSRQRKLDWKEL*KDVKQNP\n",
        "Group 18:\n",
        "2 paths, Average identity = 73.19\n",
        "MPYSXDFRXKVINFVENGGTITXAAHTFXXGXASIYRWLSRPXLXXTKVKXRQRKLDXKELEKDVKQNP\n",
        "Group 19:\n",
        "1 paths, Average identity = 73.91\n",
        "MPYSLDLREKVINLVENGGKITEAAHIFGIGRASIYRWLYRPKLEATKVKRRRRELDWKELEKDVKQNP"
       ]
      },
      {
       "output_type": "stream",
       "stream": "stdout",
       "text": [
        "\n",
        "Group 20:\n",
        "1 paths, Average identity = 72.46\n",
        "MPYSLDFRQKVINFVENGGTITKAAHTFGIGRASIYR*LSRQKLSATKVKSRQIKLDWKELEKDVKQNP\n",
        "Group 21:\n",
        "1 paths, Average identity = 73.91\n",
        "MPYSLDFRQKVINFV*NGGTITKAAHTFGIGIASIYRWLFRPKLSATKVKSRQRKLDWKELEKDVKQNP\n",
        "Group 22:\n",
        "1 paths, Average identity = 73.91\n",
        "MPYSLDLRQKVINFVGNGGTITEVGHTFGIGRASIYRWLSRPKLSATKVKSRRIKLDWKELEKDVKQNP\n",
        "Group 23:\n",
        "1 paths, Average identity = 72.46"
       ]
      },
      {
       "output_type": "stream",
       "stream": "stdout",
       "text": [
        "\n",
        "MPYSLDLRQKVINFVENGGTITKAAHIFGIGRASIYRWLSCPKLSATKVKSRQRKLDGKELEKDVKQNP\n",
        "Group 24:\n",
        "1 paths, Average identity = 72.46\n",
        "MPYSLDFRQKVINFVENGGTITKAAHTFGIGRASIYRWLSCPKLSATKVKSRQRELDWKELEKDVKQNP\n",
        "Group 25:\n",
        "1 paths, Average identity = 73.91\n",
        "MPYSLDFRQKVINFVENGGTITKAAHTFGIGIASIYRCLSRPILSATKVKSRQRKLDWKELEKDVKQNP\n",
        "Group 26:\n",
        "1 paths, Average identity = 73.13\n",
        "YSLDFRQKVINFVENGGMITKAAHTFGRGRASIYRWLSRPKLSATKVKSRQKKLDCKELEKDVKQNP"
       ]
      },
      {
       "output_type": "stream",
       "stream": "stdout",
       "text": [
        "\n",
        "Group 27:\n",
        "1 paths, Average identity = 71.01\n",
        "MPYSSDFRQKVINFVENGGTITKAAHIFGIRRASIYRWLSRPTLEATKVKSCQRKLDWKELEKDVKQNP\n",
        "Group 28:\n",
        "1 paths, Average identity = 73.91\n",
        "MPYSLDFR*KVINFVENGGTITKAAHTFGIGIASIYRCLSRPKLSATKVKSRQRKLDWKELEKDVKQNP\n",
        "Group 29:\n",
        "1 paths, Average identity = 72.46\n",
        "MPYSLDLRQKVMNFIEKGGTITEAAHTFGIGRASIYRWLSRPQLEATKVKSRRRKLDWKELEKDVKENP\n",
        "Group 30:\n",
        "1 paths, Average identity = 73.91"
       ]
      },
      {
       "output_type": "stream",
       "stream": "stdout",
       "text": [
        "\n",
        "MPYSLDFRQKVINFV*NGGATTKAAHTFGIGRASIYRWLSRPKLSATKVKSRQRKLD*KELEKDVKQNP\n",
        "Group 31:\n",
        "1 paths, Average identity = 72.46\n",
        "MPYSLDLRQKVINFVENGGTITEAAHTFGRGRTSIYRWLSRPKLPATKVKSRRIKLDWKELEKDVKQNP\n",
        "Group 32:\n",
        "1 paths, Average identity = 71.01\n",
        "MPYSLDFIQKVINFIENGGTITKAAHKFGRERASIYRWVSRPKLEATKVKSRQRKLDWKEL*KDVKQNP\n",
        "Group 33:\n",
        "1 paths, Average identity = 73.13\n",
        "YSLDLRQKVINFVENGATITKAAHTFGIGRASIYRWLSRPTLSATKVKSRQRKLDWKELEKDVKQNP"
       ]
      },
      {
       "output_type": "stream",
       "stream": "stdout",
       "text": [
        "\n",
        "Group 34:\n",
        "3 paths, Average identity = 71.49\n",
        "MPYXLXXXXKVIXFVENGGTITXXAHXFXIXRASIYRXLSRPKLSAXKVKXRXXKLDXXELEKDVKQNP\n",
        "Group 35:\n",
        "1 paths, Average identity = 72.46\n",
        "MPYSLDFRQKAINFVENGGTITKGYHTFGIKIASIYRWLSRPKLSATKVKSRQRKLD*KELEKDVKQNP\n",
        "Group 36:\n",
        "1 paths, Average identity = 72.06"
       ]
      },
      {
       "output_type": "stream",
       "stream": "stdout",
       "text": [
        "\n",
        "YSLDFRQKVINFV*NRCKKLPKQLIHLGEEELRYIDGYLAKNCQQLR*KVVKEN*IGKNYKKM*NKI\n",
        "Group 37:\n",
        "1 paths, Average identity = 71.01\n",
        "MPYSLDFRQKVINFIENGGTITKAAYTFGIGRALIYRWLSRPTLEATKVKSRQRKLD*KELEKDVKQNP\n",
        "Group 38:\n",
        "1 paths, Average identity = 71.01\n",
        "MPYSLDFRQKVINFVENGGTITKAAHTFGIGRASIYRWLSSPILSATKVKSRQIKLDWKELEKDVKQNP\n",
        "Group 39:\n",
        "1 paths, Average identity = 72.73\n",
        "SLDFRQKVINFVESGGMITKAAHTFGIGIASIYRWLSRTK*SATKVKSRQKKLDRKELEKDVKQNP"
       ]
      },
      {
       "output_type": "stream",
       "stream": "stdout",
       "text": [
        "\n",
        "Group 40:\n",
        "1 paths, Average identity = 72.46\n",
        "MPYSLDFRQKVINFVENGGTLTKAAYTFGIGRASIYRWLSCPTLSATKVKSRQRKLDWKELEKDVKQNP\n",
        "Group 41:\n",
        "1 paths, Average identity = 72.73\n",
        "SLDFRRKVINFVENGGTLTKAAHTFGVGRASIYRWLYRPKLSATKVKSRQRKLDWKELEKDVKQNP\n",
        "Group 42:\n",
        "1 paths, Average identity = 71.64\n",
        "YSLDLRKKVINFVENGGTITKAAHTFGIGRASIYRWLSRPKLSATKAKSRQRKLDWKELEKDVKQNP\n",
        "Group 43:\n",
        "1 paths, Average identity = 71.01"
       ]
      },
      {
       "output_type": "stream",
       "stream": "stdout",
       "text": [
        "\n",
        "MPYSLDFRQKVINFVENGGTITKAAHTFGIGRTSIYR*LSRPKLSATKVKSRQIKLDWKELEKDVKRNP\n",
        "Group 44:\n",
        "1 paths, Average identity = 70.15\n",
        "YSLDFRQKVVNFVENGGTMTKAAHTFGIGRASIYRCLSRPKLLATKVKSRQGKLDWKELERDVKQNP\n",
        "Group 45:\n",
        "1 paths, Average identity = 71.01\n",
        "MPYSLDFRQKVINFVENGGTITKAAHTFGRGRASIYRCLSRPRLSATKVKSRQRKLDWKELEKDVKQNP\n",
        "Group 46:\n",
        "1 paths, Average identity = 72.46\n",
        "MPYSLDFRQKVINFVGNSGTITKSAHTFGIGIASIYR*LSRPKLSATKVKSRQRKLDWKELEKDVKQNP"
       ]
      },
      {
       "output_type": "stream",
       "stream": "stdout",
       "text": [
        "\n",
        "Group 47:\n",
        "1 paths, Average identity = 71.01\n",
        "MPYSLDFRQKVINFVKNGGKITKAAHTFGIGRASIYR*LSPPTLSATKVKSRQRKLDWKELEKDVKQNP\n",
        "Group 48:\n",
        "1 paths, Average identity = 70.15\n",
        "YSLGFRQKVINFLENGGTITKEAHIFGIGIASIYRCLSRPRLSATKVKSRQRKLDWKELEKDLKQNP\n",
        "Group 49:\n",
        "1 paths, Average identity = 70.15\n",
        "YSLDLRQKVINFVENGGTITKVDHTFGIERASIYRWLSGPKLSATKVKSRQIKLDWKELEKDVKQNP\n",
        "\n",
        "Tery_4177: Total groups = 1\n",
        "Group 1:\n",
        "2 paths, Average identity = 90.07"
       ]
      },
      {
       "output_type": "stream",
       "stream": "stdout",
       "text": [
        "\n",
        "LPTLGVNIDHVATTRQARQTVEPDPVAAAVLAELAGADGITVHLREDRRHIQERDVHILRQTVQTHLNLEMAPTDEMVAIALEIQPDYITLVPERREEVTTEGGLDVAGNLPQMKEVVTQLQGAGIPVSMFIDAERVQIEASVQIQAKFVELHTGSYAEAKDEATRHKELTVLAHGCKIAINHGLRVNAGHGLTYGNVYPVACLEGLEELNIGHTIISRAILVGMERAVREMKLTINGQL"
       ]
      },
      {
       "output_type": "stream",
       "stream": "stdout",
       "text": [
        "\n",
        "\n",
        "Tery_4198: Total groups = 1\n",
        "Group 1:\n",
        "2 paths, Average identity = 90.85\n",
        "MLPKEELLKGIENRETITRIIDLAEQAIKTWEIILSNFLSPPEIFEAEGVFQKLTEVEIVSWGGYSQAERKRLAIARSDLPIDTSNVALKTINIEGNFLFDTATHRDFLGSMLGTGIEREKTGDIIVLGERGAQAIVVPELVEFLEMNFQQVRSVPVKVKPIELSELKIREPKKKELTTVEASMRLDAVASAGFGMSRNKMVDLIDGGDVRVNWKEISQASYAVKTGDLIAIRGKGRLEVGEVTITKKERYRVNLTRYV"
       ]
      },
      {
       "output_type": "stream",
       "stream": "stdout",
       "text": [
        "\n",
        "\n",
        "Tery_4209: Total groups = 1\n",
        "Group 1:\n",
        "6 paths, Average identity = 87.13\n",
        "MTNVLAIQQVTASTREKSLILWFDQVGIKDIPLVGGKNASLGEMMQQLTPKGINIPNGFATTAYTYRYFIETAGLEAQLRQLFTDLDVEDVKNLQQRGKKARALIMNTPFPVELERAIAISYETLCYLYGEDIDVAVRSSATAEDLPDASFAGQQETYLNIHGIKSVLKAVHKCFASIFTDRAISYRTTRNFDHFDVALSVGIQKMVRSDQATSGVMFSIDTETGFQNAALITAAYGLGENXVQGAVNPDEYLVFKPXLREGFSSIINKRLGTKAVQMVYDGXKSTKNIPVPEGKQRQFALSDDEILQLAQWAVIIEDHYSQVQGXYTPMDIEWAKDGKNDTLYIVQARPETVQSQKSSNVIHTYHLREQGKVLVTGRAVGQIIAQGHVHVILDTDKIADFQSGEVLVTNKTDPDWEPIMKKASAIVTNQGGRTCHAAIIAREMGIPAIVGCENGTQVLENGQAVTVSCAEGEVGMVYNGLLPFEDIETVLDDLPETRTRILMNVGNPEEVFRLSAIPVDGVGLARLEFVIANHIGVHPLALLNFDELVNEVEKAKIAELTWGYERKADFFIDRLAYGMGSIAAAFYPKPVIVRMSDFKSNEYANLLGGKQFEPNEENPMIGWRGASRYYHPKYREAFGLECVALKRVRDEMGLANVIPMIPFCRTPEEGRKVLGEMSKYGLERGQSGLQVYVMCELPSNVILMEQFAEVFDGFSIGSNDLTQLVLGLDRDSALVAEVFDERHDAVGKMIERAITMAHDCGRKIGICGQAPSDYPEFAQFLVDLGIDSISLNPDSVLNTRFEVGKLELRSHIKSVEF"
       ]
      },
      {
       "output_type": "stream",
       "stream": "stdout",
       "text": [
        "\n",
        "\n",
        "Tery_4249: Total groups = 1\n",
        "Group 1:\n",
        "2 paths, Average identity = 83.96\n",
        "MTVERITTGLNLQSGDRFLILYGSNTSDSFCTPDLLLQDIEQVLHQYLQSQNFQRILFYSGVQKLYFLDQQSRDLCRQQPQNTAHNSAPAPKMRVKSGPLGRKRRLLEQEKPTPTPAPTNSATPRLQDTQVIPIWEKVMTDNQQKSAIVFSNAEDLAEFDNRRELFGRFVNWSRLPPSNHNICILIFHHENRSELQQFCQTIGLTFLANLMANRDRSHTQWFNFHRLNGPNVREIIALQNYFRLEHQKPVDWKSVESLPVYMAAENRSLNYWYDRYLTSEEISLTQARQQNWLSGNISTQPALERLEQMIGLQTVKDKIRGWMRKLEVESDRQRQGLTQESPRLHLVFKGNPGTGKTTVARLIGEIYRDLGLLARGHVREVARGDLVAGYVGQTAIQTNEAVDDALDGVLFIDEAYTLSQGGNADFGQEAIDTLLKRMEDNRDRLAVIVAGYPTPMDEFINSNPGLQRRLATEIVFEDYTPEELLTIFRQRVSRVQSSIAPQLEDTLRKLLTQLYESRNENFGNAGLVENLFNQMDNLRASRVIEANLDPIREPFQVEDLPPQYQAGGSKEENLADLLEELENKIGLNSVKSAIREIVNNQLANQQLEAAGLPAGGTETLHMIFSGNPGTGKTTVARLVGKIFKALGLLRQGHFTEVVRRDLVAEYVGQTAIKTAEVVKSALDGVLFVDEAYALTRGSSANDFGPEAIDTLVPALENYRDRMVAIFAGYSREMEQFIAANPGIESRVAYRIEFPDYSGREMLQIFLSMCHRDKRICPSNVSVVLGNIFTYMYQNRGANFGNARDVRNLYEQMVKKLKNRIVQYNLLGEKMVKFTIDDIPNKYKLNK"
       ]
      },
      {
       "output_type": "stream",
       "stream": "stdout",
       "text": [
        "\n",
        "\n",
        "Tery_4279: Total groups = 2\n",
        "Group 1:\n",
        "1 paths, Average identity = 71.56\n",
        "MLSVKPSIIVTGGAGYIGSHTVLALQRAGYDVIVLDNLGTGHQDIVENQLKAKLIVGDISDRPLLDRIFSTHQIAAVMHFAAYISVGESVNLPDKYYRNNVVGTLTLLEAMIAAEIKKFVFSSTSAIYGNPDTLPIPEEHPQIPSVLMLQVN*W*SKY*QILT*LTV*NLCVFDILTPQGPIQLDSLVKIVPQKHT*FHCYC*QQ*VGKNQFPYLELIILLLMGLVLETIFMLVI*QKLMCWGSNIYWMEVIVKSLT*VMGMVFLFAK*LKLLR**LKKM*KS*NLSDEQEIHQC*LAVVIKLDKF*VGVLNIRT*TKL*PMLGSGIKNVT\n",
        "Group 2:\n",
        "5 paths, Average identity = 95.82"
       ]
      },
      {
       "output_type": "stream",
       "stream": "stdout",
       "text": [
        "\n",
        "VSETKPTILVSGGAGYIGSHAVQALQNAGYDVVILDNLVYGHRDIVENVLKVEMIFGDTSDRSLLDKIFTTHNIXAVMHFAAYIFVGESVKDPRKYYHNNVVGTLTLLEAMLKASIKKFVFSSTAAIYGEPQTSPIPEDHPKNPINPYGASKRMIEQILADFEIAYDFKSVCFRYFNAAGAHPNGLTGEDHNPETHLIPLVLFAALGKRDSISIFGTDYNTPDGTCIRDYIHVCDLADAHVLGLEYLLNGGESDIFNLGNGNGFSVREVIETVKEVTGREFRVEERDRRPGDPPILVGSSEKARKVLGWSPKYPEVKEIVAHAWQWHQKRHGK"
       ]
      },
      {
       "output_type": "stream",
       "stream": "stdout",
       "text": [
        "\n",
        "\n",
        "Tery_4280: Total groups = 1\n",
        "Group 1:\n",
        "8 paths, Average identity = 76.98\n",
        "MSKLKHLKKFSLEGKVHEVTIKDGCKLKYVHVESLAGNNYIVKVAKGLRRNFASVLTPGLEVKIKGEMAVCKKTGEEELKAFKIVPDFTKNPTELCPSQTLGLFEKSSSQLTELKSPETEDICSKSENRTEVKAKCAGKKAQILVCQKSDCQKRGAGKVCQALSEXLSNHGLQDQVTIKKTGCLKKCKAGPNMVVMPNKAKYSRINSAQIPEVIEKHFXXKS"
       ]
      },
      {
       "output_type": "stream",
       "stream": "stdout",
       "text": [
        "\n",
        "\n",
        "Tery_4282: Total groups = 1\n",
        "Group 1:\n",
        "2 paths, Average identity = 88.48\n",
        "TTATPVQAFGKIADNSIGLDKSVTEPICEGMNRALASFQALYLQYEKHHFVVEGAEFYQLHEFFEESYDDVREHVHELAERLNGLGGVPVASFSKLAEMCCFTPEVDGSFNSRTMIENDLKAEQEVIKLLRRLAGQAESLGDRATGYLYEKILLKTEERAYHLDHFLAPDTLVVLN\n",
        "\n",
        "Tery_4289: Total groups = 2\n",
        "Group 1:\n",
        "1 paths, Average identity = 95.24"
       ]
      },
      {
       "output_type": "stream",
       "stream": "stdout",
       "text": [
        "\n",
        "MLSDNIDYFKSKPVNIPKITILLDHGYHPEKIIEELKKIYPGIMTKIRLKLSPKPSIAEKKQEGKTGFVPVKARWVIERANSWMERCKSLSKKIDANSEKCYCQD\n",
        "Group 2:\n",
        "1 paths, Average identity = 75.76\n",
        "MLSDN*DYFKSIPVNIPKITILLDNGYHPEKLTIELKKIYPAIMTKIRFKLSPKPSKVEKKKQGQRGFVPVKARWVIERTNSWMERCKSLVKNFERTLE\n",
        "\n",
        "Tery_4303: Total groups = 1\n",
        "Group 1:\n",
        "2 paths, Average identity = 70.31\n",
        "HNNPDQIDNNLQTAYEIESLKNDEKFEVEEFVGESDEKDFYKFQVEEQTNINIELGGLSGNADLYLLNNQGQVIEKSTKDGESVEDIKWTFDPGAYYYVEVQSKGKEDVNYTLSLDVALGSQQEDKVGNNWEKAYNFGALKNDEEFEEFVGESDEIDFYKFQVEEQTDVNIKLGGLSGNADLYLLNNQGQVIEESIKEEDSLEDIERTLNPGAYYVKVQSNGKENANYTLSLNVASGSQQPNASDTSSLDVDSGSENLKKYEFTYYYSGSQDYEFQDYYNGYFYAPEGTYEVDSYYDFNEEKNQASANGKYYISSSSEAGAKAKDGEVYLESYYDLETNKKYVPYYTSEDLPSGASGIGSEQDFIDFEKDEDVIELKREGFFGADYYLADIVKEARTSKSGDYQIDALLSPYKWGTNTITYSFYDNDSGPYYGAQRDVGEVSDKVQEDIRHILENIYEPLSDLDFVEVADTSNSYGLIRIMKSSNPNYAYAYYPYADDYNAGNLLDLAGDVHLNVEYDGNGGYGDHNNFQRGPGSHGYMTLIHELGHAVGLKHPHEDGDTLPEDEDNTSNTVMSYNFTYTADNLRSYDVNALQYIYGFETPEDSVTVKSPNGGDTLKLGKSYTITWDDNFSENVKLELYKGGSFDSIITNSTASDGSYGWTLPTSMAIGSDYKVKITSVSDAGVSDFSDSNFTIEPDYLITVKSPNGGDVINTGDTYNITWDDNISENVRIHLYQGNEFKEIITNSTASDGSYIWTLPTSLPTGDNYKVAIQSVVKDNLFDYSDSNFTIEPDGVITVKSPNGGDVLKTGDNYDITWDDNIRENVRLELYKDGSFDRMIANSTGSDGSYNWMVPTSIASGGDYQVKITSVSNVSVSDLSDSNFTIEPNFITVKSPNGGDVINTGDTYNISWDDNISENVRIYLFQGNRLNQMITNSTASDGGYSWTLPTSLATGDNYKVAIQSVVKDNLFDYSDSNFTIEPDGVITVKSPNGGDVLKTGDNYDITWDDNIRENVRLELYKDGSFDRXIANSTGSDGSYNWMVPTSIASGGDYQVKITSVSBVSVSDLSDSNFTIEPNSFITVXSPNGGDXXNTGDTYNIXWDDNIXENVRIYLXQGNRXXQMIXXSTXSDGXYSWXXPTXLXTGXNYKVAIQSVXKXXJXDYSDSXFTIEPDGVITVK"
       ]
      },
      {
       "output_type": "stream",
       "stream": "stdout",
       "text": [
        "\n",
        "\n",
        "Tery_4304: Total groups = 1\n",
        "Group 1:\n",
        "40 paths, Average identity = 76.07\n",
        "NNNQERKIDKLIKTLGVDLGFTGREIAEILWLSLKRRELMLAQDKSKPQTKIDDKENKNQTANPNLSSEPPQEIKSIPVPETPKETTPIYPDIRDNTKEKKSAKNNLPLRIPDAPSIPKPLEFAKALQPLMQQVSSQRNTVLDEIETANQIAXTGIFVPVFKPEPEPWLDLVLVVDKYKSMTLWQHTLKDLKQLFRNYGIFREVKMCGLSSQKSAVSKEQNHTKKSEEKPSKIVLTVGVGEQKKVAKPQQLIDTTGRRLILIVSDCIAPYWHDGSMLPILEQWVKYQPLAILQMLPDWMWRKTGLRIGSSVKLQNLVPGNSNKNLIIKELLLWRNMPLEEGIKVPVLTLEPELAKAWSQMLVGKPEALASGFVLPNEFEVKSENLPENKVEKLNPEKRVYRFRMNASPTARKLASLLSAAPMICLPVVRIIQGSFLPQVLPVHIAEVFLGGLLKPTKEITQETNSESVEYKFVDEEVRKILLKGAPVSDSQKVFDAVSKYVKKHFGKSMKDFVVLLKSPTNSQETVPAFAEIGLDILKELGGDYRAFVENLEKEXGXFPSELEXFKYEYKTPKVNXQGKIIKEDTNSARYFKESLGEKVELEMVAIPGGTFTMGSPESEXGRXDNEGPQHDVNVPPFFMGKYPVTQGQWRAIASRTDLKVXLDLKLDPSXFXXXYKGIDRWBRPVEXVXWXEAVEFCERVSXLTGRKYRLPSEAEWEYACRAGTTTPFYFGETITPELVNYBGBXTYGXXPXGEYRXQTXPVXQFXXNAFGLYDMHGNXXEWCXDXXHDNYXGAPTDGSAWVDSDXXXPXXSXXRIXRGGSWXXXXXXCRSAXXXXXXXSXXXAXXXXLVFXLXVSPPGLL"
       ]
      },
      {
       "output_type": "stream",
       "stream": "stdout",
       "text": [
        "\n",
        "\n",
        "Tery_4307: Total groups = 1\n",
        "Group 1:\n",
        "8 paths, Average identity = 86.55\n",
        "MSYWHLFQGNGKKEKGVEKKLFNIEPPPWRKFEDRIDIEVNEKGIDXRWLKLRQLARQQKKGLERGQNFRLPEXQKEAKDVINSVNAAIYLKRPLLITGKPGSGKTSLAYAITYELGLGAVLSWSVTARSTLQDGLYRYDAIARLQDAQLKKEQHIGEYITLGALGTAFLPSQFPRVLLIDEVDKSDINLPNDLLNIFEEGEFIIPELMRRSKSQKSAASLQQFTVWTQDADKVVLKTGKVKCSAFPIIVMTSNGERDFPPAFKRRCLRVTMPDPKEAALRSIVKAHFGDELYNRNQDCIEKLIKDFLPKQEDGEAFDRATDQLLNTIHILTQSNGPQDEDEIESIKEILFKNLS"
       ]
      },
      {
       "output_type": "stream",
       "stream": "stdout",
       "text": [
        "\n",
        "\n",
        "Tery_4313: Total groups = 1\n",
        "Group 1:\n",
        "4 paths, Average identity = 89.11\n",
        "MTRVGVLLLNLGGPEQLEDVRPFLFNLFSDPEIIRLPFPWLQKPLAWFISTMRFQKSQENYQEIGGGSPLRSITEQQALAIQQQLGEKGLAAQTYIGMRYWHPFTEEALARVKRDQVEKLVILPLYPQYSISTSGSSFRLLDKLWKKDPELQKIKYTVIPSWHQRXGYIQAMVGLIVQELNHCPNPEQVHIFFSAHGVPVSYVEEAGDPYQAEIEECVDKIMKTLNCSNPHTLAYQSRVGPVEWLKPYTEDAIQELAASGVKNLLVVPISFVSEHIETLQEIDMEYREVAEEAGISNFYRVPALNTHPIFINDLADLVMETLDAPSHGFSDAIQMKKIIKMYPQERWEWGLTTTAEVWNGRLAMVGFIALLLELITGYGPLHLAGLL"
       ]
      },
      {
       "output_type": "stream",
       "stream": "stdout",
       "text": [
        "\n",
        "\n",
        "Tery_4316: Total groups = 2\n",
        "Group 1:\n",
        "1 paths, Average identity = 87.42\n",
        "MTTPIVALQAPKDISLGEIEEELSKIWLSQSQGKATSIATKAATFSIVVYEPEEFQQLLGVLGFYNGPIDSIHGPQTRNAIKEAQKTYQLTITGRVDTETLAKLREEFAKQPEDRQKVTNVNLRGFSMADAIATQNPSRVITLCPTIGEKDRGVTAQVSAYCPIQKRNNSNLVCSEYVTLRGTKLAMQRVDKTIKSLMIPELPKFVWWKATPNTEQKLFRSLCEASNCIIMDSCYFSDPESEFIKMHELIENETYIADLNWHRLSAWQELIAASFDPPERRAALWEVDTITIDYEKGNTAQALMFLGWFASRLNWEPVSYIELDSDYDIAHIKFTGGNDQEILAQLGAIPTADFGEIPGDLVGLRLGSSNPDADIDCCTILCSETNGCMRLESGGKAQSCLTEQVTALSDQKAEALMTQQLQRWGRDVLYEESLALTVQMLKLRT"
       ]
      },
      {
       "output_type": "stream",
       "stream": "stdout",
       "text": [
        "\n",
        "Group 2:\n",
        "1 paths, Average identity = 74.10\n",
        "MSTTLVALQQPKDISLGEIEAELNKIWLSQNGGKSTSIATRAATFSMVVYEPEEFQQLLAGLGFYKGEIDGINGRAARGAIKEAQKAYGLPITGRVDSETLAKLRSEWAAKSLENRQFPNIDIRGFSVSEVIAAQNPCRVITLCPTFGEDTGVTAQVSAYCPVQKKQSSLICCEYITLRGTKEALERVSNVVTSLMIPDLPKFVWWKATPNPEQELFRCLCKTSNCIILDSSYFSDPESEFLKMVELIENKTYIADLNWHRLSAWQELTAATFDPPERRASLAEIDTITLDYEKGNISQALMFLSWFASRLDWQPITYTETGGDYDIIHIKFVSPNNKEILAELAAISTADYGEIPGDLVGLRLDSSNPNADCCTILCSETNGCMRLEAGGSAQSCRTEQVSALSDQKAEYLMAQQLQRWGREVLYEDSLAVTTEILKLR"
       ]
      },
      {
       "output_type": "stream",
       "stream": "stdout",
       "text": [
        "\n",
        "\n",
        "Tery_4317: Total groups = 1\n",
        "Group 1:\n",
        "2 paths, Average identity = 80.00\n",
        "MTTNEKNTGNFPNKKLKESISVDSLAENLMEDLFNDIDQVLSRGSRLPTEVNQPEIVSLTPIKIPQIVLPEKPTQSQNAEKEEKVKSTETQVAKKENKSLDKFLLGAAFISILVTLSLWLATRGGLEKILAYLGYIEKPNLSLETLSPRVAEDAKFADYIERSLKMIEQKEAAEKQKLLGLPPAPSSNNLPTVPVPANPPINTSLLLPLNRLVDLMEAQVAKETLTIPETKVVVIPAMPTAVAVTPKSEAPSPKPSAASASKASTEAAENVQEKSEAQVTAKAEVKPETKAKINSSSSAKAEAKTKLKASVKTTAQDKSEKNSEPQLETKVESEPETETPTQPVSLPPPIPVKIPATETVVPSEIKVPINTLVGILELGERSAALFEIDGVARRIYVGENIGGSGWTLVEVVNQEAVVRRNGEVRSVFVGQQF"
       ]
      },
      {
       "output_type": "stream",
       "stream": "stdout",
       "text": [
        "\n",
        "\n",
        "Tery_4327: Total groups = 1\n",
        "Group 1:\n",
        "4 paths, Average identity = 97.53\n",
        "MAKRIIYNENARRALEKGMDILAESVAVTLGPKGRNVVLEKKFGAPQIVNDGVTIAKEIELEDHVENTGVSLIRQAASKTNDAAGDGTTTATVLAHAMVKEGLRNVAAGANPIALKRGIDKXAGFLVEKIAEHARQIEDSKSIAQVGAISAGNDEEVGQMIAEAMDKVGKEGVISLEEGKSMQTELEITEGMRFDKGYISPYFATDMERMEASLEEPQILITDKKIALVQDLVPVLEQIARSGKPLLILAEDIEKEALATLVVNRLRGVVNVAAVKAPGFGDRRKAMLEDIAVLTGGQVITEDAGLKLENAKLDMLGKARRITITKDNTTIVAEGNEKEVKARCEQIRRQMDETESSYDKEKLQERLAKLAGGVAVVKVGAATETEMKDRKLRLEDAINATKAAVEEGIVPGGGTTLAHLAPELETWANQNLQSEELTGALIVSRALLAPLKRIAENAGQNGAVISERVKEKDFNTGFNAADNEFVDLFVAGIVDPAKVTRSALQNAASIAGMVLTTECIVVDKPEPKESTPAGAGMGGGDFDY"
       ]
      },
      {
       "output_type": "stream",
       "stream": "stdout",
       "text": [
        "\n",
        "\n",
        "Tery_4335: Total groups = 1\n",
        "Group 1:\n",
        "2 paths, Average identity = 96.52\n",
        "MARMYYDSDANLDILNDKTIAIIGYGSQGHAHALNLKDSGSKVIVGLYPGSKSATKAKAAGLDVCPVDEAAEKADLIMILLPDEVQKTVYKNQIEPHLKEGKILAFAHGFNIHFGQIVPPEKVDVVMVAPKGPGHLVRRTYEQGEGVPCLFAIFQDPSGQARDRAMAYAKGIGGTRAGILETTFREETETDLFGEQVVLCGGLSALIKAGFQTLVEAGYQPELAYFECLHEVKLIVDLVVEGGLANMRDSISNTAEFGDYTRGPRIVTDETRTEMQKILSEIQSGQFAREFVMENQTGKPVFTAMRRQEAEHPIEEVGKDLRAMFSWLKKR"
       ]
      },
      {
       "output_type": "stream",
       "stream": "stdout",
       "text": [
        "\n",
        "\n",
        "Tery_4339: Total groups = 3\n",
        "Group 1:\n",
        "1 paths, Average identity = 94.44\n",
        "MVGANLDSANLKGANLSRANLKDAQASWADLRNTNLSNTVLRNANLTGADLDKS\n",
        "Group 2:\n",
        "1 paths, Average identity = 88.89\n",
        "MVGANLDSANLKGANLSRANLKDAQLSWADLRNTNLSNTLFYNANLTGADLDKS\n",
        "Group 3:\n",
        "1 paths, Average identity = 87.04\n",
        "MLGANLDSANLKGANLSRANLKDAQLSWADLRNTNLSNTLLYNANLTGADLDRS\n",
        "\n",
        "Tery_4340: Total groups = 10\n",
        "Group 1:\n",
        "40 paths, Average identity = 80.09"
       ]
      },
      {
       "output_type": "stream",
       "stream": "stdout",
       "text": [
        "\n",
        "CAEXXFKDYKTGGXNXXISXG**NXIX*FNFINSYFIXB*XXXXXKXXXXRGXRXXIKN**KX*KRKKTQ*FFCRIIYDLLGNK**FXCXELVENLMSQNXHKLJXYXRGLKXMNXVVN"
       ]
      },
      {
       "output_type": "stream",
       "stream": "stdout",
       "text": [
        "\n",
        "Group 2:\n",
        "1 paths, Average identity = 74.56\n",
        "EAMFKDYKTGDYNLESAKANEIRLNNLILLIAISYTISSFQGQKVKNKGAQEYISRTN*KGRKERRHSSFFVGLSIIYWAINDDFHAKN**KI**AKIVIN*YIIKGDSKG*IKWL\n",
        "Group 3:\n",
        "1 paths, Average identity = 72.81\n",
        "EAMFKDYKTGGYNLESAKANEIRLNNLILLIAISYTISSFQVQKVKNKGVQEYMSRTNEKGRKERRHSSFFVGLSMIYWAINDDFHAKN**KI*LSKIVINYHIIKGDSKR*IKWL\n",
        "Group 4:\n",
        "1 paths, Average identity = 70.94\n",
        "EAMFKDYKTGG*NLESAKANETRLNNLILLIAISYTLNSFQGQKIKNKGLQEYISKTNEKKKKRKKTQ*FFL*DYLVFVGQ*MILLSGN**KI**VLILINYYIIEGDSKG*IQ"
       ]
      },
      {
       "output_type": "stream",
       "stream": "stdout",
       "text": [
        "\n",
        "Group 5:\n",
        "1 paths, Average identity = 71.93\n",
        "EAMFKDYKTGGYNLESAKANEIRLNNLILLIAISYTISSFQVQKNKNKGVQEYMSSTN*KGRKERMHSSFFVGLSMIYWAINDDFHAKNY*KI*WAKIVINYYIIKGESKQ*IKWL\n",
        "Group 6:\n",
        "1 paths, Average identity = 72.81\n",
        "EAMFKDYKTGGYNIESAKANEIRLNNLILLIAISYTISSFQFQKNKNKGV*EYISRTNEKGRKERRNSSFFVGLSMIYLAINDNFHAKN*YKI**AKIVINYYIIKGDSKR*IKWL\n",
        "Group 7:\n",
        "1 paths, Average identity = 70.17\n",
        "EAMFKDYKTGGYNLESAKANEIRLNNLILLTAISYTISSFQVQKVKNKGVQEYISITNEKGRKGRRRSSFFVGSSMIYWAINDDFHAKN**KI**AKIVINYHIIKGDSNR*IKWL"
       ]
      },
      {
       "output_type": "stream",
       "stream": "stdout",
       "text": [
        "\n",
        "Group 8:\n",
        "1 paths, Average identity = 72.41\n",
        "LKTIKLVVTILVSAKANETRLNNLILLIAISYTISSFEFKKNKNKGVQEYILITNEKGRKERRHSSFFVGLSMIYWAINDDFYAKN**KI**AKIVINYYIIKGDSKR*IKCL\n",
        "Group 9:\n",
        "1 paths, Average identity = 70.06\n",
        "ARNVGLKTIKLVVTILVSAKANKTGLNNLILLIAISYTISSFQVQKIKNKGVQEYISRTNEKVRKERRHSSFFVGLSMIYWAINDDCIWELVENLMSQNRHKLLYYKRGLKGMNTVFN\n",
        "Group 10:\n",
        "1 paths, Average identity = 71.05\n",
        "CLKTIKLVVTILVSAKANETRLNNLILLIAISYTLSSFKVQKIKNKGAQEYISRTNEKRRKERRHGSFFVGLSSICWAINDNFIWELVENLMSQNRHKLLYYRRGLKGMNTVVN"
       ]
      },
      {
       "output_type": "stream",
       "stream": "stdout",
       "text": [
        "\n",
        "\n",
        "Tery_4343: Total groups = 1\n",
        "Group 1:\n",
        "2 paths, Average identity = 92.05\n",
        "MSYRKTIQKSKIVVCGAGIGGLTTAALLAHRGYEVQVFDQAIIPGGCASTFKRRGFTFDVGATQVAGLEPGGIHHRIFSELEIDIPRATHCDPACAVFLPGETESINVWRDPQKWQEERQRQFPGSEAFWQLMTKLFEASWKFQGRDPVLPPRNIWDFWQLVKAVRPDTLITVPFTLMTVADALRLYGLNDNLRLKTFLDLQLKLYSQVGTEETALLYAATALAVSQAPQGLYHLQGSMQELSDRLVTALKRDGGKLFMGHTVENIYVDNGKANAVRIRNQKTGETWRETADHVVANVTVQNLVKLVGEENQPHTSHLMPGYKRRVDKLPSPWGAFIVYLGVDESAIPRNCPPHLQFFYDYDGPIGENNSLFVSVSHPGDGRAPTGKATITASSFTDTQIWGNSQDYQXLKQKYMEEAIXRLGGYFYLKPETIVYQEAATPRTFVKFTARDEGIVGGVGQRLRNFGPFGIANRTPIQDLWLVGDSTHPGEGTAGVSYSAMTVVRQIEA*KXFT"
       ]
      },
      {
       "output_type": "stream",
       "stream": "stdout",
       "text": [
        "\n",
        "\n",
        "Tery_4348: Total groups = 1\n",
        "Group 1:\n",
        "10 paths, Average identity = 95.13\n",
        "MTQVTKTHNQIKTANTAIENLKCKECGEEYPLEAKHICEDVCFGPLEVRYDYEKLSQIVSRAVIEAGPQSIWRYRHFLPVTTDNFIDVGTGMTPLVKSERLARRLGLKNLYIKNDAVNMPTLSFKDRVVSVALSRARELGFSTISCASTGNLANSTAAIAAKAGLECCVFIPADLEAGKVLGTLIYNPTVMAVKGNYDQVNRLCCEVANSYGWGFVNINLRPYYSEGSKTLGFEVAEQLGWQLPDHVVAPIASGSLYTKIYKGFQEFVKVGLVEDKAVRFSGAQAEGCSPVAQAFKEGRDFINPVKPNTIAKSIAIGNPADGIYALELARKTNGNIESVNDAEVIEGIKLLAETEGIFTETAGGTTIAVLKKLVEAGKIDPEETTVAYITGNGLKTQEAVQGYIGQPLTIEAKLDSFEKAWERAQRLERLDWQQVLV"
       ]
      },
      {
       "output_type": "stream",
       "stream": "stdout",
       "text": [
        "\n",
        "\n",
        "Tery_4370: Total groups = 1\n",
        "Group 1:\n",
        "2 paths, Average identity = 92.44\n",
        "MSQYIFVPWSKVEQTLSFASGIATRKTL*LRSNTALPTR*SPRPYNFCRTSASIPTPCR*NFVSLGPRMAR*VGFSPRGLDSCIPQYQRPTRTSKI*ELA*PDNN*PILRRVTETKTSYPTSIVRCPFDLR*WYNGLGNCLKYPWARRKINYTRVL*SS*GCDRSIT*RLQSNYYLERN*GFIIRRNCRNYTSFSRNC*IKNC*SQTKITIAAPKIFRY"
       ]
      },
      {
       "output_type": "stream",
       "stream": "stdout",
       "text": [
        "\n",
        "\n",
        "Tery_4373: Total groups = 1\n",
        "Group 1:\n",
        "4 paths, Average identity = 94.15\n",
        "MAFLLPQLPISAFLPELPLDSLFSTQGIMVMLLAAYAVAMWMFLTSAPKVHTIMVSDLAIAQQLYEGMLELPVAEVPLHYYHNYEQTLGATGIDPLYLANDYTRFSTTNQGTAASDGLWYQLMKNTQIHIISGASLGTKNHQRHVCFDKDCLEQILMRIQIRGLKYKIRSEKPLNLLVKDWNSRVIEIAEVKN"
       ]
      },
      {
       "output_type": "stream",
       "stream": "stdout",
       "text": [
        "\n",
        "\n",
        "Tery_4392: Total groups = 1\n",
        "Group 1:\n",
        "4 paths, Average identity = 92.10\n",
        "MEIQTPEWVKHAVFYQIFPDRFVKGQAPTQTRKGIDKGWYPSSLEPWDESPTPQGYKGGNLWGVIEKLDYLQTLGITAIYFTPIFQSTCNHRYHTHDYYRVDPILGGNEALRVLIDAAHDRNIKVVLDGVFNHASRGFYFFSDILENGPYSPWLHWFKIEDWPLSAYDGSLPANYVGWLDNRALPVFNHDNPEVKEYIMEIGEYWLKFGIDGWRLDVPFEVKTPGFWQEFRDRVKAINPEAYIVGEVWSKCAQWLDGTQFDGVMNYLFTGPTIAFTAGARVDIEQVEDRDYVVYPAISAVEYGQKMQZLLQLYPWEIQLTQLNLLDSHDTARVLSIAQGDKASVELATLLLMTFPGAPSIYYGDEVGLPGKLDPDCRRGFPSTEKWDHQVLEYHKQLIAIRHEYLALRTGNYEVLFAERNVYIFARILGEEEIMVAVNIGIEAAKVNVIVNKLKSQPDKVVYGSCKISWKRENEASKLELNLPERKACILVK"
       ]
      },
      {
       "output_type": "stream",
       "stream": "stdout",
       "text": [
        "\n",
        "\n",
        "Tery_4415: Total groups = 3\n",
        "Group 1:\n",
        "3 paths, Average identity = 80.69\n",
        "PDVEWKESKDLFMEEFRFVDQEDALPGAFLPPGTKLIFQGKSITPLIPINPVLLDYFTPEDLIAKVEFAQINSSDGXQVRVTLDLPLSGMKBDXRQPQNYRIXXDYPIXDXNALPEVPVLEVWPNFLAXGWRSYYAFYYDAEFGEDTFQVXLPEAKXXHXFIDGRGAXQITHLEEFPSF"
       ]
      },
      {
       "output_type": "stream",
       "stream": "stdout",
       "text": [
        "\n",
        "Group 2:\n",
        "1 paths, Average identity = 91.71\n",
        "MWPDIEWKDSKNLFLEEFRFVDQEDALPGAFLPQGTKLIFQGKSITPLIPLKPILLDYFTPEDLIAKVELSQINSSDGPQVRVTLDLPLSELKDDPRQPKNYRIYKNYLIKEENALPEVPVLEIWPNFRAEGWHSYYAFYYDAEFGEDTFQVYLPEAKERHPFVDGRGAYQIARLEEFPSF\n",
        "Group 3:\n",
        "1 paths, Average identity = 81.92\n",
        "PDVEWKESKDLFMKEFRFVDQEDALPGAFLPPGTNLNFQGQRITPLIPLDPILLDYFTPEDLIAKVEFAQINSSDGPQVRVTLDLPLSGMRKDPRQPQNYRISKDYPIKEENALPEVPVLEVWPNFRAEGWRSYYAFYYDAEFGEDTFQVYLPEAKECHPFIDGRGAYQITHLEEFPSY"
       ]
      },
      {
       "output_type": "stream",
       "stream": "stdout",
       "text": [
        "\n",
        "\n",
        "Tery_4432: Total groups = 2\n",
        "Group 1:\n",
        "1 paths, Average identity = 98.01\n",
        "MKYWLIKSEPKTYSISDMKQEKNCIWDGVRNYQARNFLRQMNQGNLAFFYHSNTRFPGIIGLVKIWESGITDPTQFDPESKYYDPKSTPNAPRWQTVSVEFVEEFPKLISLADLKQQFTGDELLVVRRGNRLSVMPIHENVAKKILDMKNN\n",
        "Group 2:\n",
        "1 paths, Average identity = 86.75\n",
        "MKYWLIKSEPKTYSISDMKKEKICIWDGVRNYQSRNFLQQMNHGDLAFFYHSNAIPPGIIGLVKILETGIADPTQFDPESKYYDPKSTPNTPRWQTVSVEFVEEFHNLISLADLKQQFTGDELLVVRKGNRLSVMPISEIVAEKILDMKNN\n",
        "\n",
        "Tery_4440: Total groups = 4\n",
        "Group 1:\n",
        "3 paths, Average identity = 81.12\n",
        "EELQVSTGIEHICPEVDNLKYFRSKNAAFAQYFADMEGFDLVRTSCIYMRRETSDISVWYNNELIHQCSVLFAGRHLLSDFLELNPNFFSQLFEQNLTDSNQLTEDKFRAKLDLFLRLESENWLKNKRDFAEDDPKFQGLLRLMAIGIGGLYYYVGTILGVLEQEGKYQGREITPVYIGGNGSRVLNWLVEGGRFIPDSKVSXLLSQMLNKGSGFDDYILEKTRLXQRPEDEVACGLVLDRANLTGWDRKTQDSLIAGEDCKINSNSLQWRERLEFEGNIRELKIPDLVQLRTFLDNFHLSLKELEIEEILPLQDYELGDEPGAKPKSAYNIRLWQNTQRELTNFLLNSRGQTDEIPVAPPFIMGLRALLEVLAKEWAGK"
       ]
      },
      {
       "output_type": "stream",
       "stream": "stdout",
       "text": [
        "\n",
        "Group 2:\n",
        "1 paths, Average identity = 75.78\n",
        "QDLTEELQAQTGIKHICPHSDDVGLFKTESLAIAQYFADQEKHDLIRTTCIDMGGGTSDISVWYNNELIHQCSVLLAGRHLLSDFLELNPNFFSQLFEQNLTDWDRLTKDKFSAKLDVFLRLESENWLKNQRDFAEDDPKFQGLLRLMAIGMGGLYYYVGTILGVLEQEKKYQSREITPVYIGGNGSRLLNWLAERGKFLPSSEVSDLLSQMLTKGSGFEDRILEKTRLSQRPKDEVACGLVLGRTRLTGLGKKTKDPLIAGEDCEINGNPIDWSERLEFEGNIRELKIPDLVQLRTFLDDFHVSLKELEIEEILPLQDYELGDEPGAEPESTYNQTLWRNTQRELTNVLLNMKGETDDIRVEPPFIIGLKALLHVLAKEWAGK"
       ]
      },
      {
       "output_type": "stream",
       "stream": "stdout",
       "text": [
        "\n",
        "Group 3:\n",
        "1 paths, Average identity = 74.22\n",
        "QDLTEDLQAQTGIKHICPDPDDVELLKTESLAIAQYFADQEKHDLIRTTCIDIGGGTSDISVWYNNELIHQCSVLFAGRHLLSDFLELNPKFFSQLFEQNVTSWGPLTEDKFSAKLDVFLRLESENWLKNKRDFAEDDPKFQGLLRLMAIGMGGLYYYVGTILGVLEQEGKYQSREITPVYIGGNGSRLLNWLAERGKFIPASEVSDLLSQMLTKGSGFDDRILEKTRLSQRPKDEVACGLVLGRTKLTGLGRKTKDPLIAGEDCEINGNPIEWRERLEFEGNIRELKIPDLVQLRTFLDDFHVSLKELEIEEILPLQDYELGDEPGAEPESTYNKTLWRSTHRELTNVLLNMKGETDDIRVEPPFIMGLKSLLRVLAKEWAAR"
       ]
      },
      {
       "output_type": "stream",
       "stream": "stdout",
       "text": [
        "\n",
        "Group 4:\n",
        "1 paths, Average identity = 72.28\n",
        "QDLTEELHAQTGIQHICPDPDDVELFKTESLAIAQYFADEEGHDLVRTTCIDMGGGTSDISVWYENKLIHQCSVLFAGRHLLSDFLELNPKFFAQLFNLQKNLKEWDRLSEDKFSAKLDVFLRLESQNWLKNKRHLAENDPKFQGLLRLMAIGMAGLYYYVGTILGVLEQEGKYKSREITPVYIGGNGSQLLNWLAEGGSFLSSSEVNDLLSQMLTKGSGFDDRIFEKTRLSKKPKDEVACGLVLGRSKLTGLGSTTKDSLIAGEDCEINGNPIEWRERLEFEGDIKELKIPDLVQLRTFLDDFHGSLKELEIEEIIPLQNYELGDEPGSEPESTYNKTLWRNTQRELTNISLKMKGETDNIRVQPPFIMGLKALLQVLAKEWADK"
       ]
      },
      {
       "output_type": "stream",
       "stream": "stdout",
       "text": [
        "\n",
        "\n",
        "Tery_4442: Total groups = 1\n",
        "Group 1:\n",
        "2 paths, Average identity = 95.08\n",
        "MSLPIRNVAIIAHVDHGKTTLVDSLLKQSGIFREGEEVPDCVMDSNDLERERGITILSKNTAVRYRDTLINIVDTPGHADFGGEVERVLGMVDGCLLIVDANEGPMPQTRFVLKKALEKGLRPIVIVNKIDRPRADPHSAVDKVLDLFLELGADDDQCDFPYLFASGLAGYAKKDLKTESQDMQCLFDAILEHVPPPVGDPEKPLQLQVTTLDYSEYLGRIVVGRIHNGIIRSGQPAAIVKEDGKIVKSKISKLMGFEGLARIEVEEAAAGNIVAVAGFSDANIGETITCPNEPQALPLIRVDEPTLQMTFSVNDSPFAGQEGKFVTSRQVRDRLVRELETNVALRVEETDSPEKFSVSGRGELHLGILIETMRREGYEFQVSQPQVIYREVSGQPCEPFELLAMDVPEDAVGGCIERIGQRKGEMQNMLVGTNGRTQLDFSIPARGLIGFRGEFMRLTRGEGIMNHSFLDYRPLVGEIEARRNGVIIVFEEGVATFYALKNAEDRGVFFITPGTKVYKGMIVGEHNRPQDLDLNVCKTKQLTNHRSATGDELVQLQAPVEMSLERALEYIGPDELVEITPESIRLRKISKKLVKR"
       ]
      },
      {
       "output_type": "stream",
       "stream": "stdout",
       "text": [
        "\n",
        "\n",
        "Tery_4449: Total groups = 1\n",
        "Group 1:\n",
        "4 paths, Average identity = 79.45\n",
        "YLNPKIMKLNQELASEEVRIELIPLIDVIFCILTFFLLAALQLTRQQAINVNLPKASTGKPQSQDMLIVSVDEVGKTFIEQQPVNTVDLEKFVRRYNQVNPRGVVVLYAPKEAKYNDVVQVLDLLREVGGDRVALATLPXSPQTXPGNTSEKSVTPSQENXKTTPRVTTGADDTSXKSVIPSESKQKNTPPRTVDPNEYKLPPAPE"
       ]
      },
      {
       "output_type": "stream",
       "stream": "stdout",
       "text": [
        "\n",
        "\n",
        "Tery_4452: Total groups = 1\n",
        "Group 1:\n",
        "4 paths, Average identity = 78.94\n",
        "MDNGVQWDXFLXIIASEYKLTTXEXEFFSXRFXNXNWEKNDXDIXXJVMXXXNQXZAYXKRKXNVYXKFKGIINHDGKDKFPILLEWLKQEYQNRYFPQQITKPXQEFEGKVSNPFIPLNGIIEHPWLFFNREGEINSIFEVLNSGSSVAIIGEGGVGKSSLLKAIAQRAGQYLEKPRKSIYIDLQHIQSDDDFYTALCEEVGIEFCRGYQLQKNLKLHRILLLLDVVENLSYDWFTNQLRSQLRGLAIDSGPPLRLVIAASKSLDILFPDSGDKTSPFENICLVQHLKPWNEKTIRSFIEARLQADFLKLEYQGIKFGEDEILQIIESSKGYPGKVMRGCYELFKSKS*NSGLLKLSF*EQGT"
       ]
      },
      {
       "output_type": "stream",
       "stream": "stdout",
       "text": [
        "\n",
        "\n",
        "Tery_4462: Total groups = 1\n",
        "Group 1:\n",
        "8 paths, Average identity = 88.29\n",
        "VNKQPNQKFQFDSIDTALADIKAGNCVVVVDDEHRENEGDVICAAQFATPNMINFMAVEARGLICLALTGDRLDQLDIPLMVTKNTDSNQTAFTVSIDASPELGVSTGISAEDRARTIQAVINPTTKPEDLRRPGHVFPIRAKEGGVLKRAGHTEAAVDLARLAGLYSAGVICEIQNQNGSMARLPQLVEYAQTHNLKLISIADLISYRIKHDRFVYRETVAELPSLFGYFQIYAYRDTQNNLEHIAIVKSNPEEFKDKDVMVRVHSECLTGDAFGSLRCDCRMQLQAAMKMIENAGAGVVVYLRQEGRGIGLVNKLKAYALQDMGLDTVEANERLGFPADLRNYGVGAQILHDLGLKKIRLITNNPRKIAGLNGYGIEVVDRVPLLIEATDYNCAYLATKAQKLGHIMLRSYLVTIAIDWKNQRTEEELNDDSYIATMKSGIQQRYQYLEKLRSLIKEHDFLLQEETRPVATAVFAQAPLIVNFGLEQSILATSKWYEQSNHPYMIAIAKVLTEIAQWQNLLKLEFIIASGSDPMIALQIKLERQNLKFTELSTVMKHLETQKIYSLKI"
       ]
      },
      {
       "output_type": "stream",
       "stream": "stdout",
       "text": [
        "\n",
        "\n",
        "Tery_4500: Total groups = 1\n",
        "Group 1:\n",
        "15 paths, Average identity = 92.97\n",
        "MVKQLKTZTHXEIVYPDSDGQPMADNTVQFRWIAVLYHNLAWLFAENPEVFVAGDLLWYPVVGDDKLRQAPDVMVAFGVSKRDRGSYQQWKENNIAPQVVFEILSPGNTLKEMSKKRLFYDNYGVEEYYLYDPQKNDLTGWLRSESLLDVIDEMNGWVSPRLGIRFEVXPETLQLYRPDGQLFADYLEVQKXLNEVQEQLDNVQEQLGXVQEQLXBVQEQLGNVQEQLXEEXQAXXXAESELXZERQAKEVAEERAKRLEQLLREAGID"
       ]
      },
      {
       "output_type": "stream",
       "stream": "stdout",
       "text": [
        "\n",
        "\n",
        "Tery_4506: Total groups = 1\n",
        "Group 1:\n",
        "2 paths, Average identity = 82.26\n",
        "LGNVPFDIPNTTNNIWHXXXASGPNPRTLTVDVGLFGVTEVHTLINTXWGXSAGLASIEFHGSDDAYYXKTLYGNSDIRDWNQXXYTNRINNTTTVEVFSDPRGPYGTPTRLDKQLIDLPVTFNDEELSTIVFKDWGDTAYQRIFVSGITAGIAADNKKPTPIPEPSNILALISLIGLSPIFLKKR\n",
        "\n",
        "Tery_4507: Total groups = 1\n",
        "Group 1:\n",
        "2 paths, Average identity = 91.88"
       ]
      },
      {
       "output_type": "stream",
       "stream": "stdout",
       "text": [
        "\n",
        "MSKTSIRPALITKVIPDSIGAEIGFEPGDTIASINGQQPRDLIDYQYICADEYLEIEVIDAKGKTHNIEIEKDYDQDLGLEFSTALFDGLIQCNNRCPFCFIDQQPPGKRDTLYFKDDDYRLSFLYGSYLTLTNLPQREWERIGQMRLSPLYVSVHATEPELRSRLLKNSRAGKILEQIQWFQERRLQIHAQVVVCPGINDGIHLERTLLDLAKFHTGEIPAVASVAVVPVGLTRFRPVEDELIPVTTAKAEEVIDQVQKIQAKFRQTSGTNCIWLADEWFLIGRRELPPASEYEDYPQIGNGVGSIRRFLSQFETYVKDFLEEDICLSSRRKLTWVVGNAVEKAFVAIANQLNQIEGLEVDMVALSSNYWGQDITVTGLLTGQDLLEGLQGRDLGEGILLPSVMLKQGDNLFLDDMTLEDLSAQLQTNIWPVAGVEELVLTAVGDRVGSRKEIAN"
       ]
      },
      {
       "output_type": "stream",
       "stream": "stdout",
       "text": [
        "\n",
        "\n",
        "Tery_4509: Total groups = 1\n",
        "Group 1:\n",
        "2 paths, Average identity = 95.93\n",
        "MAKDLTNYRNFGIFAHVDAGKTTTTERILKLTGKIHKIGEVHEGAATTDFMEQEQERGITIQSAATSCFWKDHQLNIIDTPGHVDFTIEVYRSLKVLDGGIGVFCGSGGVEPQSETNWRYANDSKVARIIYVNKLDRTGADFYKVVKQVEDVLAANPLVMVLPIGIESDFVGVVDLLTRKAWVWDDSGDPTKYEIKDVPENMTDDVEKYREMLVETAVEQDDEIMEKYLEGEEPDIDTLKHCIRKGTNDLAFFPTYCGSSFKNKGVQLVLDAVVDYLPNPTEVKPQPEIDLEGHETGNVAYVDPEKPLRALAFKIMDDKYGALTFTRIYSGTLSKGDTVLNTATGKTERIGRLVEMHADSREEIESAQAGDIVAIVGMKNVQTGHTLCDPKKPATLEPMVFPDPVISIAVAAKDKGSVEKLGMALSKMVQEDPSFRVETDVESNEIIIKGMGELHLDIKVDILKRTYGVDVEVGKPQVAYRESITKSIEDSYTHKKQSGGSGQFGKIDYMIEPGEPGTGFEFQSKVTGGNVPREFWPAVQKGFETSFAKGMLAGFPCVDMKFTLMDGAYHPVDSSAIAFEIAAKAAYRQSFSKAAPQLLEPIMKVDVFTPDDHVGDVIGDLNRRRGMIKSQDSATTGSRIKADVPLSEMFGYIGDLRTMTSGRGQFSMEFSHYAPCPGNVAEVVIKEAKERQEAKSK"
       ]
      },
      {
       "output_type": "stream",
       "stream": "stdout",
       "text": [
        "\n",
        "\n",
        "Tery_4550: Total groups = 5\n",
        "Group 1:\n",
        "6 paths, Average identity = 70.22\n",
        "SLKELDKGELFTFXXXKVNXXGXIXXXXZGXAXXXIEBLGNGVXLEMVXIPGGRFLMGSPXTEXXRXXXEXPQHYVDVPEFWMGKYVVTQZQWQAIMGNXPSXFXGKNXPVERVSWNNATEFCZKLSKKTGRDYRLPSEAEWEYACRAGTTTPFYFGETITGELANYKASETYADEQKGEYRXQTTPVGQFPPNAFGLYDMHGNVWEWCQDVWHXXYDGAPDDGSAWVNGGNSXXRVXRGGSWFXNPRXCRSAXRLNYFSVETDLXXIGFRLV"
       ]
      },
      {
       "output_type": "stream",
       "stream": "stdout",
       "text": [
        "\n",
        "Group 2:\n",
        "4 paths, Average identity = 71.56\n",
        "QKSEGEVFIFEIVTVNNTGKIISSNEGSAGQKIEDLGSGIKLEMVYIPGGSFLMGSPENEPERESYESPQHQVNIQPFFMSKYAITQDQYQAIMGNNPSYFKGGSRPVEKVSWHHATKFCQRLSSKTGKIYRLPSESQWEYACRAGTTTPFYFGETVTPELVNYNGKYPYGDAPKGKYREGTTNVGTFRPNAFGLYDMHGNVWEWCLDFWHDDYNGAPTDGSAWESGGNSNGRVLRGGSWYLNSRYCRSARRLYTYADYLNYIRGFRIVW"
       ]
      },
      {
       "output_type": "stream",
       "stream": "stdout",
       "text": [
        "\n",
        "Group 3:\n",
        "1 paths, Average identity = 88.77\n",
        "MTQPSTSESEKGELFTFEVVKVDNYGHIIHRSQGSARQKIENLGNDIKLEIVYTPGGSFIMGSPEDEAKRNRSEGPQHQVTLQPFYMSKYPITQNQYQAIMGNNPSKSKGANRPVETVNWYHAAEFCQKLSEKTGKNYTLPSESQWEYACRAGTTTPFYFGETITSELVNYNSNYIYGNAPKGKYRKETTDVGSYPPNAFGLYDMHGNVWEWCQDVLHNNYEGAPTDGSAWETGNENFSPLRGGSWNFYPNHCRSAYRVNDYKRNFHKNFIGFRVVWNVGREK*G\n",
        "Group 4:\n",
        "2 paths, Average identity = 71.04\n",
        "EEKQGKLFTFEVVTVDNSGNIINRTQESARQKIENLGNGIKLEMVYIPGGSFLMGSPENEAGRYSSESPQHIXTLRPFFMSKYPITQBQYQAIMGNNPSYFKGGNXPVEXVXWXDAIQFCRQLSKRTGKGYMLPSESQWEYACRAGTTTPFYFGETITSXLVNYDGDYTYGKAPKGQYRXETTDVGNFPPNSFGLYDMHGNVWEWCQDVWHSSYDGAPVDGSAWVNGGNSRHRVLRGGSWDYYPRWCRSAYRDYCDSVEAVNDNIGFRLV"
       ]
      },
      {
       "output_type": "stream",
       "stream": "stdout",
       "text": [
        "\n",
        "Group 5:\n",
        "1 paths, Average identity = 70.00\n",
        "KGEVFTFEVVTVNNTGKVISSNQGSARQKFEDLGSGIKLEMVYIPGGSFLMGSPGNEGSRCSNEGPQHEVTLQPFYMSKYPITQDQYQAIMGNNPSHFKGGSRPVEQVNWHNATEFCQKLSSKTGKIYRLPSESQWEYACRAGTTTPFYFGETITSELVNYHGNYSYGNAPKGKYRGETTDVGSFPPNAFGIYDMHGNVWEWCADDWHENYNGAPTDGSVWLDGEKNRSPLRGGSWASNPIYCRSAIRDSYTWRDVHNGYTGFRVVCDGG\n",
        "\n",
        "Tery_4560: Total groups = 2\n",
        "Group 1:\n",
        "1 paths, Average identity = 80.43\n",
        "MFRLKVIFGGQLRRRKFDNQAVELFIQCAMLNRMIQTGKPKSHKVK"
       ]
      },
      {
       "output_type": "stream",
       "stream": "stdout",
       "text": [
        "\n",
        "Group 2:\n",
        "1 paths, Average identity = 84.78\n",
        "MFRLKVIFGGKLRRRKFDAQAVELFIQCAMLNRMIQIGKPKSYKVE\n",
        "\n",
        "Tery_4561: Total groups = 2\n",
        "Group 1:\n",
        "1 paths, Average identity = 76.58\n",
        "LHLGVNEATGEIVSGVVTTNDISDDQVFSELLDGVDGEIAQVSGDGAYDKYKCYEKARQRGAKATIPPRKNAVIGQHGNCKSPPHPRDENLRRIRIVGRQKWKRECGYHRR\n",
        "Group 2:\n",
        "1 paths, Average identity = 75.68\n",
        "LHLGVNEATGEIVSGVVTTNDVSDSQAFSELLDGVDGEIAQVSGDGAYDKYKCYQKANQLGAKVTIPPRKNAVIGQHGNCKCPPHPRDENLRRIRKVGRKKWKHESGYHRR\n",
        "\n",
        "Tery_4562: Total groups = 2\n",
        "Group 1:\n",
        "1 paths, Average identity = 77.07"
       ]
      },
      {
       "output_type": "stream",
       "stream": "stdout",
       "text": [
        "\n",
        "AIEFMVTIQSLFGLAGRQTEGFVESIFQLMDLDLPVPDHSTVSRRLLKLNIQLPVIPTNETIHLVVD\n",
        "Group 2:\n",
        "1 paths, Average identity = 70.59\n",
        "ITIQFMVTIQSLFSLAGRQTEGFVESIFQLMDLDLPVPDHSTISRRLQKLNVQLPVMPANEALHLVVD\n",
        "\n",
        "Tery_4569: Total groups = 1\n",
        "Group 1:\n",
        "4 paths, Average identity = 93.52\n",
        "MIQQSKPEYSLVWISKITEVPKPEWDALAQPLKTPFLEWDWLDNMEKSGSVGGRSGWLPQHLTVWRDRQLIAAAPLYVKGHSQGEFVFDHQWAEVSYRLGIEYYPKLLGMSPFTPAEGYRFLIAPGEDEDEITAMMVSEIDYFCDRHNISGCHFLYVDPEWHPIIKRNGFTNWLHHSYIWQNQGYQTFDDYLKVFNANQRRNIKRERKAVGKAGLQMQTLTGDDIPKALFSKMYTFYESTCDKFGWWGSKYLTKRFFEQLHQNFRHRVLFVAGYREENDRFPVGMSFCITKGDRLYGRYWGSTYEIDCLHFDACYYAPIEWAIEHGVNSFDPGAGGRHKKRRGFPATPNHSMHKFYHNRLSKIFLSYIGQVNEMEQLEMDRINEDLPFSQ"
       ]
      },
      {
       "output_type": "stream",
       "stream": "stdout",
       "text": [
        "\n",
        "\n",
        "Tery_4581: Total groups = 4\n",
        "Group 1:\n",
        "3 paths, Average identity = 72.31\n",
        "LTLKEFSLPLFWFPLVKKIIENLFSISSELVLILDRTQWQNTNILMISL\n",
        "Group 2:\n",
        "1 paths, Average identity = 72.53\n",
        "LTLKEFSLPLFWFPLVKKIRENLFSFSSELVLILDRTQWQNTNILMISL\n",
        "Group 3:\n",
        "11 paths, Average identity = 73.19\n",
        "LTLXEFSLPLFWFPLVKKIXENLFSFSSELVLILDRTQWZNTNILMISL"
       ]
      },
      {
       "output_type": "stream",
       "stream": "stdout",
       "text": [
        "\n",
        "Group 4:\n",
        "1 paths, Average identity = 71.43\n",
        "LTLKEFSLPLFWFPLVKKIIENLFSFSSELVLILDRTQWQNTNILMISL\n",
        "\n",
        "Tery_4602: Total groups = 2\n",
        "Group 1:\n",
        "1 paths, Average identity = 98.39\n",
        "MTQVILGENEGIESALRRFKRQVSQAGIFPDMKKHRHFETPIEKRKRKAMALQKQRKRRSRF\n",
        "Group 2:\n",
        "1 paths, Average identity = 73.68\n",
        "MTQVLLGENEGIESALRRFKRQVSRAGILADVKKRRFFETPQEKRKRKAVAARRKKQ"
       ]
      },
      {
       "output_type": "stream",
       "stream": "stdout",
       "text": [
        "\n",
        "\n",
        "Tery_4608: Total groups = 1\n",
        "Group 1:\n",
        "3 paths, Average identity = 94.32\n",
        "MTXANLSTQSPXXQRPRRLRRTPALRRMVEETXLTVNDLIYPLFVMEGEGEKVEVVSMPGSYRYSLDLLLKEIEDAYNLGINAIALFPLVAEAKKDNVGTESYNSEGLIQRTVRAIKQTIPDIVVITDVALDPYSSEGHDGIVGENGVILNDPTVEVLVKQALSHAEAGADIVAPSDMMDGRIGAIRKALDAAEYSDVGILAYSAKYASAYYGPFRDALDSAPKFGDKKTYQMDSANVREALKEVALDIAEGADMVMVKPALAYLDIICEVKKTTNLPVAAYNVSGEYAMIKAAGQKGWIDEKKVMLETLTSMKRAGADLILTYFAKEVALILK"
       ]
      },
      {
       "output_type": "stream",
       "stream": "stdout",
       "text": [
        "\n",
        "\n",
        "Tery_4609: Total groups = 1\n",
        "Group 1:\n",
        "2 paths, Average identity = 95.31\n",
        "MNYWAILTGIEGNITAYDAVIADIKKQKYLVEDLYILGDIVGLNIDCKKLVERVRYPKQNELKPKVCMGWWEEQCLILHGLTTTAEPTELIAEYGMNAVKILWDNVDRETVEWLRSLPFGFSELDCLLIHGSTLGVSDKLTPDTPPIQMLDRLMRFGVNNLFCGRSGLAFKYQLENGSVSSGVTKLGAEVGAIETTSSTQTLRTPCQVIGVGNVGSLPGNATYTLYNPNTNEVSFRTLRYS"
       ]
      },
      {
       "output_type": "stream",
       "stream": "stdout",
       "text": [
        "\n",
        "\n",
        "Tery_4625: Total groups = 2\n",
        "Group 1:\n",
        "6 paths, Average identity = 79.68\n",
        "MDRKSLREALVVGINSYPFLKKKKLGDLNLKAAIKDAEAIANMLEKYGKFRVQRLPKGYDEEGKERFEPRGTVRIDELKQAIINLFQPPIKNETPDVALLFFAGHGFVNTKGDIREGVLVTSEAQFLENISENDNISGISLXWLKEXLQDSXVXKQIVWLDCCFSGELLNFDGXANXNTQEKQVSRCFITASRSFQTATEXIDXKQGLFTDNLLECLNPENYXBGWVTNHILTESIZZRMSQTSQAPMCYNSGSTIILTTNSLTEPLDERWKNVPPYRGLSYFGQQENDGVFFHGRTGLTDKLIEQVKNHNFVAVLGASGSGKSSLLRAGLLYQLKRGQKISGSDRWLCIDPFTPEEFPLKSLLKSLGKSLLEIKIKGEKVESLIQFIHQIEGKKVESLTKELIEEKLIEFIDVVEAERVIMVMDQFEESFTLCKTHEERREFFDCFLAVLERRGEKFCVVLGIRADFLGRCSEYGGLANKIQGHQLLVTPLDEDEIEEVIKKPAALVAMDVEPNLVAQMREDFLRNPGSLPLLEYTLDALWKFATQGEEKSQYLTLETYTNLGGIEGTLTKRADAVFDSLSEEEKLVAQRIFLELVQPGEGEISSGKITDTRRRVILEKLPNERHSLELLSAVTDKLADKNNRLITKDKSEAGILLDIIHEDLIRSWKTLRKWVEEYQEALPVERKIEADAAEWEKDGKSENLLLRAGRLTKAEEYLRIYGEMALLDGLAYEFIEASRELSIREXEKXXXXKXRXXEBQLKXXXKXXXXFXXX*LGYLVMLGCSKI*LNIIVKYSLPVS*RXKQNY*ALIIFX*YXCXXXXXVNEENSRVKRMPXLLXXXXXXXIFRESVFRXXXXC*TRXXXXZXXNSTTXXSXYSXPPXXXKXSSL*PRRQNXCXXK**QXRPPLXY*EWQXISYSXPXXXXXXXSX*PXXQNHCYCXXXXXXPPLGXXXXXXISYXXXXXXXXXXSL*XXRXNHCXCKXXXXXXXLGYXXXQXISYXQXPGXXXXSSL*PRXXNHCYCXXRXXXXPLGXXXXXXXSYXQXPXHSXXXXSSL*PRRQNHCYCKXXLCRC*CK**XXXXPLGXXXXQXISXXQXXXXXXXSSX*XXXXNXCYXKXXQXXPXLGYXXXQXISYSQXXXXXXXSSL*XRRQNHCYCKXXQXRPXLGXXXXXXXSYXQXXXXXXXSXL*XRXQNHXYCX*CXXXQXXXXLGYXXXQXISYXXXXGXXXSXSX*PRRQNHCXXKXXXXXXXLGYXXXZRISYSQPXXXGXSSSL*XRXQNHCXXXXXXXXPXLGYXHXXRISXSQXPGXXXXSXX*PXRQNXCYXKX*QXRPXLGYXXXQXISYSQPPASQPPGXGXXSSX*PRRXNXCYCKXXXXRPPLGY*XXXXISYSQPXXXXXSSXLXPXXQNHCYCKX*XXXPXLGYXXWQXISYSQPPXXXXXSXL*PXRZNHCXCXXGYPPMGY*HRQTISYSQPPELRKCSSL*PRRQDHCYCKXXXXXPPLGYXXWQXIXYSQPPGXGXCSSX*XXRXNXCYCX**XXRPXPXXNXRRLNSRSLXXSQSEFNSXGXAXVYXQRLXDISENLXXXSXSS*XNXXS"
       ]
      },
      {
       "output_type": "stream",
       "stream": "stdout",
       "text": [
        "\n",
        "Group 2:\n",
        "20 paths, Average identity = 74.40\n",
        "KEAVVVGINRYPFLKNKKLGDLNLKAAIKDAQAITSILEKYGKFRVQRWPKKYDEEGKEIFDFKGRVRINDLQQAIINLFKPPIKNETPDVALLFFAGHGYVNTKGDIREGFLATSDAQFSENVYGISLNWLQKLLAKSPVKQQIVWLDCCFSGELLNFQEADPGTGKEISRCYITASRSFETSVEKLSGTHGLFTDNLLAGLNPENYVDGWVTNYILADSIRKNMLNTSQAPMFHNSGDAIILTTNTLTKSMDGRWKETPPYRALSYFTEQEKDGVFFHGRTRLTDELIEEVRTNNFVVVLGASGSGKSSLLRAGLLYQLKRGQKISGSDRWLYINPFTPSSCPLESLQKAINIEGGKLESLTEELIDFINHAKTEKVLMVIDQFEECFTLCENDQKRRXFFDCFLSVLGSERTQNKFCLVLGMRADFLDQCSKYPGLATEIKEHQLLVTPLKKDEIEEAIKKPAELVGMEVEGKLVTQITSDFLRNPGSLPLLQYTLDALWKSATRGENKSQYLTLASYEKLGGIKGTLTKQADAVFEGLNKEKKSVAKRIFLELVQPGERSVNFLKVTDTRRRVILENLPNKQHSLELLLEVSDNLADPNNRLITKDNSKKGTLLDIIHEDLIRSWKTLREWVEEYQEALPVERKIEADAAEWKKDGRNKGFLLRGGKLTKAEEYVRKYGDMGLLDGLAYEFIEASRELRXXXXXXXXERKXXELEQKKKAXXQEXKAXKXAQXRNQILGXSXVXXTGXXGYAWMQQXIAKHNSEXSXXXQLAXKAELXRXXXSYDTSVLLGVZSMXKIQXFKQWXDSGWXKVVRKFLGXQFSXXPQNAADGAIRKGLTQLPDHLHTLNHQSWVNAVAFSPDGKTIATASGDKTARLWDTENGNELATLLHQHSVXAVAFSPDGKTIATASYDKTARLWDTXNGNVLXTLXHXXXVXAVAFSPDGKTIATASXDXTARLWDTENGNVLATLXHQXXVXAVAFSPDGKTIATXSXDNTARLWDTENGNXLXTXXHQXXVXAVAFXPBGKTIATASXDNTARLWDTENGNXLATLNHQXXXXXVXFSPDGKTIATASXDNTARLWDTENGNXLATLXHQXXJXAVAFSPDGKTIATXSXDXTARLWDTENGNXLATLXHQXXXXAXAFSXDGKTIATASXDNXAXLWDTENXNXLATLXHQXXVXAVAFSXDGKXIATASXDXTAXLWDTENGNVLATLNHQXWVNAVAFSPDGKTIATISEDNTARLWDTENGNVLATLLHQDIVRAVAFSPDGKIIATASXDXTARLWDTENGNVLATLXHQBXVXXVAFSPDGKTIATASBDXTARLWDTENGNXLATLXHQXXVXAVAFSPDGKTIATASXDXTARLWDTENGXELATXXHQDSVXAVAFSPDGKTIATASXDXTXRLWDTENGXELATLNHQXXVNAVAFSPDGKTIATASXDXTARLWDTENGNELATLXHQXXVXAVAFSPDGKTIATASXDNTXRLHWATPEGLIQEXCXRLXXNLTAEEWQQYNXBXDLXTYQKTCDELPVHPSLIXXA"
       ]
      },
      {
       "output_type": "stream",
       "stream": "stdout",
       "text": [
        "\n",
        "\n",
        "Tery_4635: Total groups = 1\n",
        "Group 1:\n",
        "2 paths, Average identity = 96.33\n",
        "MFKKLLGDPNTRKLKKFQPWVTDINILEEDIQKLSDEELKAKTGEFRQTLQKAKNKNEEKEILEEILPEAFAVVREAGKRVLSMRHFDVQLLGGIILHQGQIAEMKTGEGKTLVATLPAYLNGLAGKGVHVITVNDYLARRDAEWMGQVHRFLGLSVGLIQQGMNPEERKRNYACDITYATNSEVGFDYLRDNMATGMDEVVQRPFNFCIIDEVDSVLVDEARTPLIISGQVERPSEKYIKAAEIAAALSKDKEHYEIDEKARNVLLSDEGFAEAEKLLAVEDLYNPEDPWAHFVFNALKAKELFIKDVNYIVRDDEVVIVDEFTGRVMPGRRWSDGLHQAIEAKERVDIQPETQTLATITYQNFFLLYPKLSGMTGTAKTEEAEFEKIYNLQVTIIPTNKPTGRKDLSDVVYKTEVGKWNSIAQECAEMHKEHRPVLVGTTSVEKSELLSRLLGELKIPHQLLNAKPENVERESEIVAQAGRGGAVTIATNMAGRGTDIILGGNAEYMAKLKLREYLMPRVVKPEDDDGLSMVRVPGVKKSNLAKGFDPQKKVKSWKVSPQIFPVKLSTQTEGMLKLAVNFAVKEWGERVLPELVVEDKVAIAAEKAPTQEPVIQKLREVYNLIRQEYENYIEREHNQVVECGGLHVIGTERHESRRIDNQLRGRAGRQGDPGSTRFFLSLEDNLLRIFGGDRVAGMMQAFGVEEDMPIESGLLTRSLEGAQKKVETYYYDMRKQVFEYDEVMNNQRRAIYAERRRVLEGRDLKEQVIKYAEQTMDDIVEAYINPELPSEEWELDKLVEKVKQFVYLLADLTPEQLFDLSMEDIKTFMHEQVRNAYDIKEAQVNQIRGGLMRDAERFFILQQIDTLWREHLQQMDALRESVGLRGYGQKDPLIEYKSEGYELFLDMMTDIRRNVVYSMFQFQPQPAVQTTAAETV"
       ]
      },
      {
       "output_type": "stream",
       "stream": "stdout",
       "text": [
        "\n",
        "\n",
        "Tery_4643: Total groups = 2\n",
        "Group 1:\n",
        "1 paths, Average identity = 91.67\n",
        "MWPFVGSKNNQQWLWLAIDIETKEIVAFSLGERGEKGANQLWNSLPGIYRQCAICYTDFWSAYDMIFPDCRH\n",
        "Group 2:\n",
        "1 paths, Average identity = 77.03\n",
        "MWSFVGNKNNKQWLWLAIDIETKEIVGFHLGERGEKGALGLWNSLPGVYRQCAVCYTDFWSAYELVFPDSRHKS\n",
        "\n",
        "Tery_4647: Total groups = 1\n",
        "Group 1:\n",
        "4 paths, Average identity = 73.00\n",
        "MKLNRDSLLRRAVKPTFYKKYWLNLAEYASIFFSALGVFGVAASGQAFYAVAPMTLALSLNMANRYRFEKQMQLSQRSEIEDIHXSMERLEKNAAXVIWKLHQQLSTEIQLRQQISTEIESVREKLCTESTQAVDSEIQQQLTVLEDSVSSVQESLASIDQKALSIDDWEIVNGRIYVIEEAIANLQKDMKVLLKEPQVYISQLQARIDEIEVQNTQVVRPHLKRLITLVRQLQHSNYPSSSHQSIISKQSLREHAGESVRQSESRF"
       ]
      },
      {
       "output_type": "stream",
       "stream": "stdout",
       "text": [
        "\n",
        "\n",
        "Tery_4669: Total groups = 1\n",
        "Group 1:\n",
        "4 paths, Average identity = 98.69\n",
        "MTISPPEREAKVKVTVDTDPVPTSFEKWGKPGHFSRSLSRGPKTTTWIWNLHADAHDFDSHTSDLEDVSRKIFSAHFGHLAIIFVWLSGAYFHGAKFSNYEAWLADPTGIKPSAQVVWPVVGQGILNGDMGGGFHGIQITSGLFQLWRASGITNEYQLYCTAIGGLVMAALMMFAGWFHYHKKAPKLEWFQNVESMMNHHLAGLLGLGCLSWAGHQIHVSLPINKLLDSGVAPEDIPLPHEFLFNKSLMAELYPSFAKGLTPFFTLNWGEYADFLTFKGGLNPVTGGLWLSDTAHHHLALAVLFIVAGHMYRTNWGIGHSMKEILEAHKDPLLIGGEGHKGLYETLTTSWHAQLAINLAMLGSISIIVAHHMYAMPPYPYIATDYPTQLSLFTHHMWIGGFLIVGAGAHGAIFMVRDYDPAKNVNNVLDRVIRHRDAIISHLNWVCIFLGFHSFGLYVHNDTLRALGRPQDMFSDSGIQLQPIFAQWVQNLHSLAPGNTAPNALASVSPIFGGDVLAVGGKVAMMPMTLGTADFMVHHIHAFTIHVTALILLKGVLYARSSRLIPDKSELGFRFPCDGPGRGGTCQVSGWDHVFLGLFWMYNSLSIVIFHFSWKMQSDVWGTVDPDGTVSHITYGNFAESAITINGWLRDFLWAQASNVITSYGSELSAYGLLFLGAHFIWAFSLMFLFSGRGYWQELIESIVWAHNKLKVAPAIQPRALSITQGRAVGVAHYLLGGIVTTWAFFLARIIAVG"
       ]
      },
      {
       "output_type": "stream",
       "stream": "stdout",
       "text": [
        "\n",
        "\n",
        "Tery_4693: Total groups = 1\n",
        "Group 1:\n",
        "2 paths, Average identity = 94.46\n",
        "MGKQRVLSGVQPTGNLHIGNYLGAIRNWVEGQKEYDNFFCVVDLHAITVPHNPVTLATDTYTIAALYLACGIDJNHSTIFVQSHIPAHXELTWXLNCITPLNWLXDMIQFKEKAIKQGENVGTGLLDYPVLMAADILLYDADKVPVGEDQKQHLELTRDIAVRFNYQFGQGETILKLPDPLIRKEGARVMSLTDGTSKMSKSDPSELSRINLLDPPDVITKKIKRSKTDAVQGLEFDNPKRPECNNLLTLYGLFSAKTKAEVIAECQDMGWGKFKPLLIEATIEALTPIQTKYKAVMDDQSYLKSVLAEGKQKAAAIANQTLEKVKKALGYSMSIEN"
       ]
      },
      {
       "output_type": "stream",
       "stream": "stdout",
       "text": [
        "\n",
        "\n",
        "Tery_4697: Total groups = 2\n",
        "Group 1:\n",
        "1 paths, Average identity = 91.67\n",
        "MKILLIRLIKGYKILISPMLPPSCRFQPTCSEYAMEAIERFGIFKGGAMAVMRILRCHPFHPGGYDPVPPKE\n",
        "Group 2:\n",
        "1 paths, Average identity = 88.89\n",
        "MKVLLIRLIKGYKILISPMLPPSCRFQPTCSEYAVEAIEKFGIFQGSAMAVLRILRCHPFHPGGYDPVPPKK\n",
        "\n",
        "Tery_4700: Total groups = 1\n",
        "Group 1:\n",
        "2 paths, Average identity = 87.64\n",
        "MHSYSLIAPGKINLYLEIIGDRPDGYHELVMVLQSISLADKIDIRSIGIETIVVRCDHPLVSTDAGNIAYRAVSLISKQFPEVFARYGGVEITIHKNIPVAAGLAGGSTNAAAVLVGLDLMWELGLTQRELQELGAQLGSDVPFCIGGGTALATGRGEMLSPLPNLDHIYAVLAKYKNLSISTPWAYQTYRQNFGHTYVTDIESQENSRHRVHSRPMVSAIAQNGHKEVGKLLHNDLEKVALPEYPQLLKLKEAFASQNVLGTMMSGSGPTIFALTESQSQAEEVEAAVKEKMADPDLEFWITQLNSNGISIAH"
       ]
      },
      {
       "output_type": "stream",
       "stream": "stdout",
       "text": [
        "\n",
        "\n",
        "Tery_4719: Total groups = 1\n",
        "Group 1:\n",
        "2 paths, Average identity = 84.31\n",
        "MIKLNIKQNHXRXXXILXTXJLXXXLXXCXXXXSNYQSXLXXSTPSDASTFNXPLNXSAYXXFGYIYEXLIIENGXTGELEPXLAESWEXXZDXQXIXIXLKXGLKWSBGXPLTXDDVVFSYNEIYLNDXIPXSXKDXLRIGKSGALPXVKKIDNXRXEFSTXEPFAPFXRYAGXLXILPAHALXESVRTXNSXGELNYLTKWGTDTPVTEIXXNGMYRJKSYXPNQXIILEKNPFYWRXDXQGNXXPYIENIXWQVIXNXDNQLLNFRSGZLDTIKVXXEXFPLLKREEXRGKYTIYNGGXXXXXXFJXFNJNQGXNAQGKPXVDPIKSXWFNXKXFRQAIAYXINRKAMXNNIYRGLGAPQXSXIPVTSPFYLSPEXGLKXYNYDXEKAKXLLLXAGFKYNQNGELLDSZXNXVEFTLLXXAGRKXXEQMATQIXQDLAXJGIKINXQFLSFNTXXXXLXLSXBWEXYLGGFXGGXXEPHXXYXIWSXNGRLHTFNQGXQPGXXXIEGXKVXXWEXZIDDLYXXASQVXDEXKRKZXYXXAZQIXXXZLPFIYMVXPLEFXAIRNRXKGIXYXZLGGGFWNLYELQISB"
       ]
      },
      {
       "output_type": "stream",
       "stream": "stdout",
       "text": [
        "\n",
        "\n",
        "Tery_4725: Total groups = 3\n",
        "Group 1:\n",
        "35 paths, Average identity = 87.93\n",
        "LVJXXKKQKHCQMNELXEGDCXIGMTQASSSGFILATRVGKHTDQFISELIXNTEGTTNCKXWHTDDWGGYEXVXPPEVKHIIGXYQTQXXEXTNGIVRQQIGRWHRRQNKFXKVWXQT"
       ]
      },
      {
       "output_type": "stream",
       "stream": "stdout",
       "text": [
        "\n",
        "Group 2:\n",
        "1 paths, Average identity = 86.78\n",
        "LVIRQKKQKHCQMNELTEGDCWIGMTQVSSSGFILATRVGKHTDQFISELIAYTEGTTNCKHWHTDD*GGYERVLPPEVKHIIGAYQTQHKERTNGIVRQQIGKWHRRQNKFGKVWVHPVR\n",
        "Group 3:\n",
        "1 paths, Average identity = 86.78\n",
        "LVLGKKKQKHCQINELTEGDCGIGMAQASSSGFILATRVGKHTDQFIAELIAYTEGTTNCKHWHTDDWGGYEGVGPPEVKHIIGTYQTQHKERTNGIVRQQIGRWHRRQNKFGKVWAHSVR\n",
        "\n",
        "Tery_4759: Total groups = 1\n",
        "Group 1:\n",
        "2 paths, Average identity = 75.01\n",
        "MKPENSSPKIDYDVAIVGAGPVGLATALGLRQRGIENIIVFDQTRAFRKVGQVIGLLPNGLKALKYIDAKAYENIKATIDQPSNSLQVSQNTSTEKKQTSPEWEIRNVDGQKIRSFALGYDEYFQKYGEGRVSISWHELQTQLRQLLPVERVKLIIIVLM*LMSLNFNVLEQILCLIKK*KLTPMLTGMINKKRIKAAV*TPPNFLTQKLHQFVLNYC*E*TELTLGSAKLSIRILQTVDTVNQNIVVLVQ*AVVEYFREQKRFQKK*QRDFFLVLLG**LSKIIKSPKAMFLESFYFFLNLVSWDISSMELSH*SHC*KNRQKS*LMLL*KS*KKQGFQR*FNSWRLYLLQSX*YNVRIILIMPLFLLQDGPNGIEEGFYWREMQPTVCHHLLVKEVIKD*KMQQRSLLWXLRLTSKISGMI*QL*KQLLANMXXCVVHL*LXFNXKL**XDJFLQIRGXRSYRSIIKXFXLGILXKLX"
       ]
      },
      {
       "output_type": "stream",
       "stream": "stdout",
       "text": [
        "\n",
        "\n",
        "Tery_4774: Total groups = 1\n",
        "Group 1:\n",
        "2 paths, Average identity = 93.51\n",
        "MXITEMTPRNTIAAIATAIVPQQGSVGIVRMSGSEAMKIAXTLFHAPGKQVWETHHILYGYIRHPQSRQLVDEALLLIMKAPRSYTREDVVEFHCHGGIIATQQVLQLCIEAGAELAQPGEFTLRAFLNGRLDLTQAESIADLVSSQSPAAAQVALAGLQGKLATPIRHLRACCLDILAEIEARIDFEEDLPPLNESEISQKVDSILVDLSMVLATASRGDLLRTGLKVAIIGRPNVGKSSLLNAWSRSDRAIVTDLPGTTRDVVESQLVVGGIPVQVLDTAGIRETQDRVEKIGVERSCQAAESADIVLLTIDAKVGWTELDEFIYQQVKHRSLILIINKVDQVNLLHSKLIKSIFYPETIKNVVTTAAINNQGVEELEAAIINAVNLDNVQAENLDFAVNQRQAAALTRAKVALEQCLNTIKNNLPLDFWTIDLRGAIYALGEVTGEDVTESVLDRIFSRFCIGK"
       ]
      },
      {
       "output_type": "stream",
       "stream": "stdout",
       "text": [
        "\n",
        "\n",
        "Tery_4785: Total groups = 1\n",
        "Group 1:\n",
        "16 paths, Average identity = 84.14\n",
        "MKLSIPPETDLVLIGGGHSHAIALRKFAMNPIPGVRLTLITDVYHTPYSGMLPGYVAGLYNFDQCHIDLLSLAKFAGARIFVNRAIGLDLEKNHXLFVERPPVSFDLLSIDIGSTPASLNXPGATEYAIALKPISKFIAFWHQITTIVSESPKQKMRFGIVGGGAGGVELAFAIESYLHQIYGNAKQPTDNLELHLFHKGRRLLPERHRWVGKKVEKILTSRGVVLHLEENVSEVMGRDGQESSFAMDGDMNDRETQVRKRNILRPKVVKCDSGLEIECDILFWVTQASAAPWLQKAGLVTDGRGFILVNEKLQSISHPQVFAAGDVATMVNHSRPKAGVFAVRQGKPLFENLQRALQRKRLKSFIPQKKFLILIGTGDERAIASRGIIGFGPHRLLWRWKDRIDRKFMDKFSDLKMEGRRQKAESRRKDSQMYCAGCGAKVGSRVLENVLHKIPQQIKRDDVLIGMENPDDAAVVRVPTDRVMVQTIDYFRGLVDDPYLLGKITANHCLSDLFAMGAMAQSGLAIATIPYDAPSKQEDTLYQLLLGATEVLNEAGAVLMGGHTTEGEELAFGLTCNGLGSPKKLLYKGGMKPGDVLILTKALGTGTLFAADMRLKARGRWIESAIKSMLTSNENAAKLLLEYGATACTDVTGFGLVGHLLEMLKGQXVGVELDMEAIPVLPGVAETLEQGIFSSLYPENLRLSASIQNRERGSRHPLYPLLFDPQTSGGLLATVPADLANVCLNALQQEYSVCRIIGRVLLLDTGMLPIKIHF"
       ]
      },
      {
       "output_type": "stream",
       "stream": "stdout",
       "text": [
        "\n",
        "\n",
        "Tery_4798: Total groups = 1\n",
        "Group 1:\n",
        "2 paths, Average identity = 83.83\n",
        "MKFSCAVIFSALIFISLEKIGQPCCPNPIVASKQLTIFQAVILGMVQGLSEFIPISSTAHLKIVPVALGWGDPGVAFTAVIQLGSIVSVVWYFWSDLTKITVGACKSIITSDYHSPDLKIAVGMGLGTIPIVFFGLGIKVFIPDFDNSPVRSTAAIAIASIVMALLLSIAEQTGSRKRNFEKLDIKDGILMGMAQTLALIPGVSRSGSTITGGLFIGLERATAARFSFLLGLPAITLAGLVELKTLLDEGFGGVGLVPTITGVLSAIIFSYFAIAWLIKYLQTQDTWIFVWYRLTFGILILIGIAGGVVQN"
       ]
      },
      {
       "output_type": "stream",
       "stream": "stdout",
       "text": [
        "\n",
        "\n",
        "Tery_4799: Total groups = 2\n",
        "Group 1:\n",
        "1 paths, Average identity = 90.15\n",
        "LETGKQRIKIVSVLSENEKKIVDKASQELWRRRPDFIAPGGNAYGQRERALCLRDYGWYLRLITYGVLAGDKDPIESIGLIGVREMYNSLGVPVPGMVESIRCLKEASLALLDEEDAREAAPYFDYIIQAMS\n",
        "Group 2:\n",
        "1 paths, Average identity = 91.67\n",
        "LETGKQRIKIVNILSENEKKIVDKASQELWRRRPDFIAPGGNAFGQRERALCLRDYGWYLRLITYGVLAGDKDPIESIGLIGVREMYNSLGVPVPGMVESIRCLKEASLALLDEEDAKEAAPYFDYIIQAMS\n",
        "\n",
        "Tery_4806: Total groups = 1\n",
        "Group 1:\n",
        "32 paths, Average identity = 92.14\n",
        "MSAKKLTGNEIRKKFLNFYQQREHTILPSASLVPEDPTVLLTIAGMLPFKPIFLGQQPRKYPRATTSQKCIRTNDIENVGRTARHHTFFEMLGNFSFGDYFKPEAIAFAWELSTKIFNLPPNRLVVSVFREDDEAFAIWRDQIGIPAHRIQRMDEEDNFWASGPTGPCGPCSEIYYDFHPELGDDHIDLEDDSRFIEFYNLVFMQYNRDAEGNLTPLQNRNIDTGMGLERMAQILQNVPNNYETDLIFPIIKTAADIASIDYNQSDNKTKISLKVIGDHVRAVANLIADGVXASNVGRGYILRRLIRRVVRHGRLIGISGEFTSKVAETAIALAQDIYPNLRERETAIKAELQREESRFLETLERGEKLLAEIIAKPETKKNQQISGEDAFKLYDTYGFPLELTQEIAEENSLTVDVNMFDQEMKLAQIRSQSAHETIDLTTQDGVKLEVDKTEFLGYTDLNSPGQVMALVADGQQIETAEAGTQVQIVLDKTPFYAESGGQIGDRGYLSGDNLVVRIEDVQKQNNIFVHFGRVERGTLQLGITVNAQIDSTCRRRAQANHTATHLLQAALRSLVDQSISQAGSLVSFDRLRFDFNCPRGLKPEEVEQVEAQVNSWIAQAHPAKVAEMPLEVAKAKGAVAMFGEKYADVVRVVDYPGVSMELCGGTHVNNTAEIGVFKIISEAGISSGVRRIEAVAGLAVLDYLKVRDTVVKELSDRFKAKPEELLERVSNLQQELKDSQKQLEGLKGELAVAKSDQLLGNAETVGEFHILVAEMPGVDAESLKTAAERLQQKLGESAVVLSSASEDKVSLVAAFSKSVNSKGLQAGKFIGGIAKICGGGGGGRPNLAQAGGRDPSKLKEALKSAREQLFKGLK"
       ]
      },
      {
       "output_type": "stream",
       "stream": "stdout",
       "text": [
        "\n",
        "\n",
        "Tery_4815: Total groups = 1\n",
        "Group 1:\n",
        "2 paths, Average identity = 98.61\n",
        "MSQIQTRTEPMVINMGPHHPSMHGVLRLIVTLDGEDVIDCEPVIGYLHRGMEKIAENRTNTMFVPYVSRWDYAAGMFNEAITVNAPEQLADIEVPKRASYIRVIMLELNRIANHLLWLGPFLADVGAQTPFFYIFREREMIYDLWEAATGYRMVNNNYFRIGGVAADLPYGWVDKCEDFCDYFLPKVDEYERLITNNPIFRRRIMGLGVISREEAINWGLSGPMLRASGVKWDLRKVDHYECYDDFDWEVHWEKDGDCLARYLVRIREMRESVKIIRQAIQGLPGGPYENLEAKRMVGGPKSEWNDFDYQFLGKKIPPTFKIPKGEHYVRIESGKGEIGIYIIGDNNIFPWRFKIRAADFVNLQIFPHILQGAKVADLVAILGSIDIIMGSVDR"
       ]
      },
      {
       "output_type": "stream",
       "stream": "stdout",
       "text": [
        "\n",
        "\n",
        "Tery_4872: Total groups = 17\n",
        "Group 1:\n",
        "10 paths, Average identity = 85.94\n",
        "VKEEFVSNTEAYLIFDDTVINKKYGHNIELARRQYSGNEHQVVHGIGIVNCVYFN\n",
        "Group 2:\n",
        "4 paths, Average identity = 84.75\n",
        "MLKKNLFGDTEAYLIFDDTVINKKYGHAY*ACTTTI*W**TSSCSWVLE*LIVYILI"
       ]
      },
      {
       "output_type": "stream",
       "stream": "stdout",
       "text": [
        "\n",
        "Group 3:\n",
        "1 paths, Average identity = 91.07\n",
        "MLKKNLFGDTEAYLIFDDTVINKKYGYNIEITRRQYSGNEHQVVRGIGIVNCVYFN\n",
        "Group 4:\n",
        "1 paths, Average identity = 74.14\n",
        "MKKNNWFADTAAYLIFDDKVINKKYDHDIKLT*RQYSGNEHKVIRGSWNS*LYIF*S\n",
        "Group 5:\n",
        "1 paths, Average identity = 87.27\n",
        "VKEEFVSDTEAYLIFDDTVINKKYGHNIELARRQYSGNEHQVIHGIGIVNCIYFN\n",
        "Group 6:\n",
        "1 paths, Average identity = 87.27"
       ]
      },
      {
       "output_type": "stream",
       "stream": "stdout",
       "text": [
        "\n",
        "VKEEFVSDTEAYLIFDDTVINKKYGHHIELARRQYSGNEHQVVHGIGIVNCIYFN\n",
        "Group 7:\n",
        "1 paths, Average identity = 85.45\n",
        "VKEEFVSNTEAYLIFDDTVINKKYGHNIELARRQYSGNEHQVVHGIGIVNCVYFN\n",
        "Group 8:\n",
        "1 paths, Average identity = 83.64\n",
        "VKEEFVSNTEAYLIFDDTVINKKYGHNIELSRRQYSGNEHQVVHGIGIVNCVYFN\n",
        "Group 9:\n",
        "1 paths, Average identity = 87.72\n",
        "MLKKNLFGDTEAYLIFDDTVINKQYGYNIELTRQQYSGNEQLDVHGIGIVNCIYFNR"
       ]
      },
      {
       "output_type": "stream",
       "stream": "stdout",
       "text": [
        "\n",
        "Group 10:\n",
        "1 paths, Average identity = 80.00\n",
        "VQEEFVSDTEAYLIFDDTVINKKYGYNIELTRRQYSGNEHQVVRGIGIVNCVYFN\n",
        "Group 11:\n",
        "1 paths, Average identity = 81.82\n",
        "VKEEFVSDTEAYLIFDDTVINKKYGYNIELTRRQYSGNEHQVVRGIGIVNCVYFN\n",
        "Group 12:\n",
        "1 paths, Average identity = 86.21\n",
        "MLKKNLFGDTEAYLIFDDTVINNKLGYNIELTRRQYSGNEHQVIRGSWNS*LCIF*S\n",
        "Group 13:\n",
        "1 paths, Average identity = 76.92\n",
        "VKEEFVSNTEASLIFDDIVINKKYGHNIELARRQYSSNEHQVIHGIGIVNCV"
       ]
      },
      {
       "output_type": "stream",
       "stream": "stdout",
       "text": [
        "\n",
        "Group 14:\n",
        "1 paths, Average identity = 91.07\n",
        "MLKKNLFGDTEAYLIFDDTVINKKYGYNIEMTRRQYSGNEHQIFHGYWNS*LYIF*\n",
        "Group 15:\n",
        "1 paths, Average identity = 87.93\n",
        "MLKRNLFGDTEAYLIFDDTVINKKYGYNIELTRRQYSGNEHQVIRGSWNS*LCIF*S\n",
        "Group 16:\n",
        "1 paths, Average identity = 82.26\n",
        "MLKKNLFGDTEAYLIFDDTVISKKYGYKIEIAQGQYSGNEHQVVHGSWNS*LYIF*S\n",
        "Group 17:\n",
        "1 paths, Average identity = 78.85"
       ]
      },
      {
       "output_type": "stream",
       "stream": "stdout",
       "text": [
        "\n",
        "VKEEFILDTEAYLIFDDTVINKKYGYNIELARRQYSGNEHQVVRGIGIVSRV\n",
        "\n",
        "Tery_4909: Total groups = 1\n",
        "Group 1:\n",
        "2 paths, Average identity = 88.61\n",
        "MFNKKIGYVSPDYIYKYHTLINTEVILKTRQERETKLFELPNQKYYEAVQTIADIQTDFFDFSSAVIKVGRPEELSPDQKKRFHHSLQTFCPWKKGPFELFGITIDAEWRSDWKWERILPHISSLKNRKVADIGCHNGYFMFRMVSQQPELVIGFEPYSKHFWNFQLIQNIVKQKMLAFELLGVEHIHYYPQFFDTIFCLGILYHHTDPIGLLRKIGQALGPKGEIIIDCQGIPGDLPVALTPQKRYAQARGIWFLPTQSCLENWIGRAGFRDINCFFAAPLSVEEQRRTAWANIDSLPEFLHPHNPSLTVEGYPAPWRYYVIARK"
       ]
      },
      {
       "output_type": "stream",
       "stream": "stdout",
       "text": [
        "\n",
        "\n",
        "Tery_4911: Total groups = 12\n",
        "Group 1:\n",
        "1 paths, Average identity = 80.58\n",
        "MISLAWKKRAIPLY*KILTHKGASNLTEQKAVIRPVIRLLNGKKIIITADRESHSIFLSHWLKKYQKLDVYFVFRKKNRR*LNEVKNIVTSRN*K*MSVKLNCY*TKK*PKS*R*KHIIYSSIKNINYVKNLF*TNGIFSPIYHLLKRLKKYIAREWELKPCLKTIKLVVII*NQLRLMK*D*II*FY**LFHTQLVLFKSKKLKIKGFKNICPELMKKVEKKEDTVVFL*DYL*FIGQ*MMISMLRISRKFNYPKSS*ITILSKGTQSDE*SG*\n",
        "Group 2:\n",
        "42 paths, Average identity = 81.12\n",
        "MISLAWKKRAIPLYWKILTHKGAXNLTXQKAVIRPVIRLLKGQKIIITADREFHSIFXSHWLKKYXXLDVXFVFRQKKXTMXKRGKKYCXLSELKVNVGETKLXLNXKIXKXLKVKTYNLLXYXKX*LXQKSXLXKWYILSNLSSPEKIXKIYSQRMGXEAMFKDYKTGXXNSXIS*G**NKIK*FNFINSYFIXN*FFSRISSFXXQKXKXKGXQEXIXRTNXKGRXERRXSSXXCRIIYBLLGNK**FXCXEXVXBLMXQXXHKLXYYQRGLKXMNKVVN"
       ]
      },
      {
       "output_type": "stream",
       "stream": "stdout",
       "text": [
        "\n",
        "Group 3:\n",
        "1 paths, Average identity = 80.30\n",
        "MISLAWKKRAIPLYWKILTHKGASNLIEQKAVIPPVIRLLKGQKNIITADREFHSIFLSHWLKKYQTLDVYFVFRQKNRR*LNEAKNIVTSRN*K*MSVKLNYS*TKK*PKSLR*KHIIYSSIKNINYVKSLF*TNGIFSPIYHLLKRLKKYIAREWELKQCLKTIKLLVII*NQLRLMK*D*II*FY*YLFHIQLVLFKSKKLRTKGFKNIYQELMKKAEKKEDTVVFL*DYL*FTRQ*MMISILRISRKFNKPKLS*ITILSKG\n",
        "Group 4:\n",
        "1 paths, Average identity = 74.16\n",
        "IQIYWHILSHKEGNNSTKQEAVIRPFIRLLKGQKIMITADREFHSIFLSHWLKKY*RSDAYFVLIQKKLTMIKRGKKYCKLSELKVNVGETKLLLN*KITKILNAKKYNLLNYKKQKYRQKSVLEKWYILTNLSSPEKIKKYIVREWELKQCLKTIKLVVRI*NQRKPMKQD*II*FY**LFHTHLIHFKGKKLKIKGFKNIYQKLMKKRRKERRRSSFFCRII*YLLGNK*YFYLGISRKFNES*SS*ITILSKGTQRDEYS"
       ]
      },
      {
       "output_type": "stream",
       "stream": "stdout",
       "text": [
        "\n",
        "Group 5:\n",
        "1 paths, Average identity = 72.56\n",
        "MISLAWKKRAIPLYWKILTHKVASNLTE*KAVIRPVIRLLKGQKIWITADREFHSIFLSHWLKKISQA*CIFCF*TKKIDDN*TR*KIL*TLRIKSKSR*D*TIIEPKNNQNFEGKNI*FTRV*KTEISSKICSR*MVYSLQFIIS*KDKKNI*PENGN*SNV*RL*NWWLQFLYQLRLMKRD*II*FY**LFYTQLVLFKSKKLKIKGFKNIYQELMKKVEKKEDTVVFL*GYL*FIGQ*MMISMLRISSKFNEPKSS*ITIL*KGTQRDEYSG*\n",
        "Group 6:\n",
        "1 paths, Average identity = 75.90\n",
        "MISLAWKKRAIPLYWKILTHKGASNLTEQKAVIRPVIRLLKGQKIIITADREFHSIFLSHWLKKYQKQDVYFVFRQKKSTIIKRGKKYCKLS*LKVNIGETKLLFNKKITKVLKVRTYNLLNYKKQKYRQKSVLDKWYILSNLSSPEKNKKIYSQRMGIEAMFKDYKTGGYNSCISKG**NEIK*FNFINTYFIHN*FISSPEN*K*RGSRIYIKN**KG*KRKKKQ*FFLSDYL*FIGQ*MMILSGN**KI**AKIVINYYIIKRE*KR*IQ*L"
       ]
      },
      {
       "output_type": "stream",
       "stream": "stdout",
       "text": [
        "\n",
        "Group 7:\n",
        "6 paths, Average identity = 80.67\n",
        "MISLAWKKRAXXJXXKXLTXKGASNLXEXKAVIRPVIRLLKGXKIMMTADREFHSIFJSHWLKKYHKLDVYFVFRQKKSTMIKRGXKYCXLXXLKVNVGETKLLLNQKIXKILKVXTYNLLVYKKXXXRQKXVLDKWYIJSNLSSPEKIKKIYSQRMGIEAXFKDXKTGXXNSCIS*G**NEIE*FNFINSYFIHN*FISSPKN*K*RGSRIYIKN**KXXKXKNXQ*FFL*DYL*FIGQ*MMISMLXISXNFNEPKXS*ITIL*XXTQXDEYSG*"
       ]
      },
      {
       "output_type": "stream",
       "stream": "stdout",
       "text": [
        "\n",
        "Group 8:\n",
        "1 paths, Average identity = 75.17\n",
        "MISLGGKKRAIPLYWKILTHKGASNLTKQKAVIRPVIRLLKGQKIIITADREFHSIFLSHWLKKYHKFDVCFVFRQKKSTMIKQGKKYCNLSELKVNVGGTKLLLNQKITKILKVKTYNLLVYKKTEISSKIMF*TNGIFSPIYHLLKR*KKYIAREWELKQCLKTIKLVFII*NQLRLMK*D*II*FY**LFHTQLVLFKSKELKIKGFKNIYQELMKKAEKKEDTVVFFVGLSMIYWAINDDFIWKLVENLMNLNHHKLLYY\n",
        "Group 9:\n",
        "3 paths, Average identity = 78.91\n",
        "MISLAWQKRAIPLYWKILTHKGASNLTEQKAVIRPVIRLLKGQKIMIIADREFHSIFLSHWLKKYQKLDVYFVFRQKKSTMIKRGEKYCKLSELKVNLGETKLLLNHIFPKVLKVRTYNLLVYEKH*LRQKSVLDKWYILSNLSSPEKIKKIYSQRMGIEAMFKDYKTGGDNSCIS*G**NEIK*FNFINSYFIHN*FXXSPKX*X*RGXRIYIXN**KXXKRKXXX*FFL*DXL*FIGZ*XMISMXXISRKFNXXKXS*ITILXKGTXXBEXSG*"
       ]
      },
      {
       "output_type": "stream",
       "stream": "stdout",
       "text": [
        "\n",
        "Group 10:\n",
        "1 paths, Average identity = 80.15\n",
        "MISLA*KKRAIPLYWKILTHKGASNLTEQKAVIRPIIRLSKGQKIIITADREFHSIFLSHWLKKYHKLDVYFVFRQKKSTMIKRGKKYFNLSELKVNVCETKLFLNKKITKILKVKTYNLLVYKKQKYRQKSLLDKWYVLSNLSSPEKIKKIYSQRIGIEAMFKDYKTGGYNLESAKANEIRLNNLILLIAISYTISSFQVQKNKNKGVQEYMSSTN*KGRKERMHSSFFVGLSMIYWAINDDFHAKNY*KI*WAKIVINYYIIKGESKQ*IKWL\n",
        "Group 11:\n",
        "1 paths, Average identity = 78.68\n",
        "IISLAWKKRAIPLYWKILTHKGASNLTEQKAVIPPVIRLLKGQRIIITADREFHSIFLSHWLKKYHKLDVYFVFRQKKSTMIKRGKKYCNLSELKVNVGETKLLLN*KITKILKVKTYHLL*YKKH*LRQKSVLDKWYILSNLSSPENIKKIYSQRMGIEAMFKDYKTGGYNLESAKANEIRLNNLILLTAISYTISSFQVQKVKNKGVQEYISITNEKGRKGRRRSSFFVGSSMIYWAINDDFHAKN**KI**AKIVINYHIIKGDSNR*IKWL"
       ]
      },
      {
       "output_type": "stream",
       "stream": "stdout",
       "text": [
        "\n",
        "Group 12:\n",
        "1 paths, Average identity = 71.29\n",
        "MISLAWKKRAIPLYWKILTHKGASNLIEQKAVIRPVIRLLKGQKITMTADREFHSIFLSHWLKKYQKQDVYFVLRQKKSTMIKRGKKYCKLSELKVNLGESKLFLNQKITKILKVRTYNLPMYKKH*LRQKSVLYKWYILSNLSYPEKIKKIYSQRMGIEAMFKDYKTGGDNSCIS*G**NKIK*FNFINSYFIHN*FFSSPKS*K*RGSIRYIKN**KR*KRKKTQEFVL*DYL*FIGQ*MMISMLRISRKFNEPKSS*ITILSKGNQRDEYSG*\n",
        "\n",
        "Tery_4912: Total groups = 10\n",
        "Group 1:\n",
        "1 paths, Average identity = 94.83\n",
        "LGSGSFGNTYLAQDLDLPGNPKCVVKHLKPKTLDSTVLNIARKLFQREADTLYKLGNN"
       ]
      },
      {
       "output_type": "stream",
       "stream": "stdout",
       "text": [
        "\n",
        "Group 2:\n",
        "1 paths, Average identity = 84.48\n",
        "LGSGGFGDTYLAQDLDLPGNPKCVVKHLKPKSLDPIVINTARKLFEREADTLYKLGNN\n",
        "Group 3:\n",
        "1 paths, Average identity = 81.03\n",
        "LGHGGFGDTYLAQDLDLPGHPKCVVKHLKPKSLDPIVLNTARKLFEREADTLYKLGND\n",
        "Group 4:\n",
        "1 paths, Average identity = 82.76\n",
        "LGHGGFGDTYLAQDLDLPGNPKCVVKHLKPKSLDPIVLNTARKLFEREADTLYKLGND\n",
        "Group 5:\n",
        "1 paths, Average identity = 79.31\n",
        "LGTGGFGDTYLAQDLDLPGNPKCVVKHLKPKSLDPIVLSIARKLFEREAETLYKLGRD"
       ]
      },
      {
       "output_type": "stream",
       "stream": "stdout",
       "text": [
        "\n",
        "Group 6:\n",
        "1 paths, Average identity = 72.41\n",
        "LGSGGFGETHLAQDVDLPGNPKCVVKHLKPKSLEPEVLDEAKKLFEREAETLYKLGKD\n",
        "Group 7:\n",
        "1 paths, Average identity = 75.44\n",
        "LGSGGFGETHLAQDVDLPGNPKCVVKHLKPKSSDPKVLDEAKKLFEREAETLYKLGN\n",
        "Group 8:\n",
        "1 paths, Average identity = 75.44\n",
        "LGSGGFGETHLAQDLDLPGNPKCVVKHLKPKSLELEVLDEAKKLFEREAETLYKLGN\n",
        "Group 9:\n",
        "1 paths, Average identity = 70.69"
       ]
      },
      {
       "output_type": "stream",
       "stream": "stdout",
       "text": [
        "\n",
        "LGNGGFGETHLVQDVDLPGNPKCVVKHLKPKSLEPEVLDEAKKLFEREAETLYKLGND\n",
        "Group 10:\n",
        "1 paths, Average identity = 72.41\n",
        "LGSGGFGDTYLAEDSDLPGNPKCVVKHLSPKSSDPTVLYYARRLFEREAETLYKLGSD\n",
        "\n",
        "Tery_4913: Total groups = 7\n",
        "Group 1:\n",
        "5 paths, Average identity = 71.97\n",
        "MRRRSDRKIILIDFGAVKEIGVLTINKKGLTSLTKAVGTPGYMPSEQSNGKPKLSSDIYAVGMVGIKALTGKNPENLPVNQETGNIIWQNEAEVSNRXA"
       ]
      },
      {
       "output_type": "stream",
       "stream": "stdout",
       "text": [
        "\n",
        "Group 2:\n",
        "1 paths, Average identity = 97.92\n",
        "MRRKSDSKIILIDFGAVKEIEVLTINQQGLTTITVTVGTPGYMPSEQINGRPKLSSDIYAVGIVGIKALTGKELKNLPRDKNTGNIIWRNEVKVSN\n",
        "Group 3:\n",
        "1 paths, Average identity = 72.73\n",
        "MRRSSDNKIVLIDFGAVKEIDVLTTNQQGATTLTVAVGTPGYMPSEQSNGKPKLSSDIYAVGMVGIRALTGKDPHNLLTDSKTGNVIWRNEAQVSNHLA\n",
        "Group 4:\n",
        "1 paths, Average identity = 70.71\n",
        "MRRSSDNKIVLIDFGAVKEIDALTTNQQGATTLTVAVGTPGYMPSEQSNGKPKLSSDIYAVGMIGIRALTGKEPHHLLTDSKTGNVIWRNEAEVSNHLA"
       ]
      },
      {
       "output_type": "stream",
       "stream": "stdout",
       "text": [
        "\n",
        "Group 5:\n",
        "1 paths, Average identity = 72.73\n",
        "MRRRLDNKVILIDFGAVKEISTLTVTQQGATTLTVAVGTPGYIPSEQSNGKPKLSSDIYAVGMVGIKALTGKDPQNLPTDPNTGNIIWRNEAQVSNHLA\n",
        "Group 6:\n",
        "1 paths, Average identity = 71.72\n",
        "MRRSSDNKIVLIDFGAVKEIDILTTNQQGATTLTVAVGTPGYMPSEQSNGKPKLSSDIYAVGMVGIRALTGKDPQNLLTDSKTGNVIWRNEAEVSNHLA\n",
        "Group 7:\n",
        "1 paths, Average identity = 72.63\n",
        "MRRRSDNQIVLIDFGAVKEISVLTTNQKGATTLTVAVGTLGYMPSEQNCGKPKLSSDIYAVGMVGIKALTGKDPESFPTDQNTGNIIWRNEAQVS"
       ]
      },
      {
       "output_type": "stream",
       "stream": "stdout",
       "text": [
        "\n",
        "\n",
        "Tery_4919: Total groups = 2\n",
        "Group 1:\n",
        "1 paths, Average identity = 75.93\n",
        "RSLSETTMFRLKVIFGGKLRRRKFDAQAVELFIQCAMLNRMIQIGKPKSYKVEV\n",
        "Group 2:\n",
        "1 paths, Average identity = 72.22\n",
        "RSLSETTMFRLKVIFGGQLRRRKFDNQAVELFIQCAMLNRMIQTGKPKSHKVKI\n",
        "\n",
        "Tery_4957: Total groups = 2\n",
        "Group 1:\n",
        "1 paths, Average identity = 86.95\n",
        "MNKAITISTTISTTYMVEGTIIDKKTKKGVVDLRVLVYDEDPGSDDFLGIAVTNENGVFQLSFDASQFRFFKVFDRNPDLYFIVKDAGLELLNTKDNVIKNASESTPAINLEVDLSGDKLREEVEEVAVDGWVGGFEQSNPAFAYPNPDLSSLDFLDNMDNIKLLQRQQKVLWPEFSWKTEPDKEDGKRCYRMFAPDISRLGYTNEGRIYSIICPQSGYSSPTLGSLNVEVTVTGNRGWVNEDTKELAADMGVIGKIWFAPSAKDNKYLNLFKHYFEDKNLDFPFSKANAIQVKTHAPNDPGQSKFKVSQGSSTRFPIPEFAKHEGIAWALGHIEVQIGELIETGQEEVDRFNQFILDIFNLASGNMLKNGNMLTWNLWLNAPELVDVDEWQGHAELWRKSIQADHTQTPEGPGTVSRYYDGTQFHPLKELLAEELPKVKAFIAEYIEGATS"
       ]
      },
      {
       "output_type": "stream",
       "stream": "stdout",
       "text": [
        "\n",
        "Group 2:\n",
        "1 paths, Average identity = 77.65\n",
        "VEGTIIDKRTKNGVVDLHVLVYDKDLGISESPRSDDFLGIAVTDTKGVFKLSFDASQFRFSQKSDRNPDLYFIVKDAGFELLNTRDNVIKNATESSPAINLEVDLSKDLLREEVERVAVGGWIGGFEQTNPAFAYTAPDLSSLRIRDNMDNIGKLRRQQKILWPEFSWETKPGQEDGKRCYRMFAPDISRLGYTNDGKIYSIICPQQGYSAPKLGSFNVEVTVTGNRGWVNEDTRKLAADMGVIGKVWFAKPDDGQDNEDNCNLNQLKCYCDNKNLGFPFSKENAIQVRTHAPNNPDQKIFKISQGPSTRFPIPEFAKHEGIAWALGHIEVQIGEIIETGKEEVDRFNQLILNIFNLVSGNMLKNGNILTWNLWFNAPELVDVKEWRKHADLWRESIQVNHGQTPEGPGTVARYYDGTQFHPIKELLVKELLAEELPKVKAFIAEYIKGATS"
       ]
      },
      {
       "output_type": "stream",
       "stream": "stdout",
       "text": [
        "\n",
        "\n",
        "Tery_4958: Total groups = 1\n",
        "Group 1:\n",
        "2 paths, Average identity = 76.40\n",
        "GDKAQNIEAAIAGYEQALLVYTQTDFPFEWARTQNNLGLAYIDRIRGDKAQNIEAAIAAFQQALLVYTQTDFPMDWARTQNNLGLAYIDRIRGDKAQNIEAAIAAYQQALLVCTQTDFPFQWAGTQNNLGAAYRNRITGDKAQNIEAAIAAYQQALLVRTQTDFPFEWAMTQNNLGNAYIYRIRGDKAQNIESAIAAYQQALLVHTQTDFPMDWATTQNNLGIAYRGRIRGDKAENVEAAIAACQQALLVRTQTDFPMDWAMTQNNLGLAYIDRIRGDKAQNIEAAIAAFQQALLVYTQTDFPMDWAMTQNNLGIAYSDRIRGDKAQNIEAAIAAFQQALLVYTQTDFPINWAAAQNNLGLAYSDRIRGDKAQNIESAIAAYQQALLVRTQTDFPFEWAMTQNNLGTAYRDRIRGDKAQNIEAAIAAYEQALLVRTQTDFPIDWAMTQNNLGIAYRNRIRGDKAQNIEAAIAACEQALLVYTQTDFPFEWAGTQNNLGNAYRNRIRGDKAENIEAAIAACQQALLVHTQTDFPMDWAMTQNNLGNAYCDRIRGDKAQNIEAAIAACQQALLVRTQTDFPIDWAMTQNSLGLAYSDRIRGDKAQNIEAAIAAFQQALLVYTQTDFPMDWAMTQNNLGNAYRNRIRGDKAQNIESAIAAYQPALLVYTQTDFPINWATTQNNLGAAYRNKIRGDKAENIEAAIAAYEQALLVRTQTDFPMDWAMTQNNLGNAYRNRIRGDKAENIEAAIAAYQQALLVRTQTDFPMDWATTQNNLGTAYCERIRGDKAENMESAISAYKQALLVYTQTNFPMDWATTQNNLGTAYCERIRGDKAQNIKAAIAAFQQALLVCTLEADPIDHLQTTRNLGNLYFNNQNWQLAAENYKKAITAVELSRSWSKDDDRRQEILEESIDVYYKIVQAYVNSDQIEKALEYVERSRSKRLVDIMASNDRYSQGEIPGEVKKRLKEHEAIQQQINQRWEQQQQQREELAAASKGRAATEARNKEIAQLEAQKQEVYKKIRSLDRVLAEGIQVAPLEFPKIQALIQEPTTAILSFYTITDDTYLFVLRQDGVKVHTYRGLGLKELQSWIWEKWFESYLSSREEWQQQMPKFLQDVGRMLKLEELCKSDLQDIEELILIPHRHLHFLPWSAMPVAESGDNKYLGDRFRIRTLASCQILDFCTEREEIKGEVKQGIVEDTHNDLPFSSCEAQYIAKMYGVPENQHLRGEAATIDSYKLLLSQVQRLLSTHHALSRLDNCMESALILADGRLTLGQLLSPAFRFPDLDEVFINCCESNFGQVQISDDVLTLNTGFLCAGARTVISTLWSLDDLGSCLFSIFYYQFRKEGKNPSLALQLGQRQLRELTGKELKKKYKKELEKSLDEKLEAAYKQLQEIERRLDSYAKDSAEYQKLEDEREKLRCIYDRIFDSKNKYLKAACKKQHPFEHPAYWSGFICAGLS"
       ]
      },
      {
       "output_type": "stream",
       "stream": "stdout",
       "text": [
        "\n",
        "\n",
        "Tery_4974: Total groups = 15\n",
        "Group 1:\n",
        "1 paths, Average identity = 83.72\n",
        "MQSGFFYDFSNYGTYDRLTDDGLTKWHPAFLSLGKTLDECAKN\n",
        "Group 2:\n",
        "1 paths, Average identity = 83.72\n",
        "MQSGFFYDFSNYGTYDRLTDDGLTKWHPAFLSLGKTLDECAKN\n",
        "Group 3:\n",
        "1 paths, Average identity = 83.72\n",
        "MQSGFFYDFSNYGTYDRLTDDGLTKWHPAFLSLGKTLDECAKN\n",
        "Group 4:\n",
        "1 paths, Average identity = 83.72\n",
        "MQSGFFYDFSNYGTYDRLTDDGLTKWHPAFLSLGKTLDECAKN"
       ]
      },
      {
       "output_type": "stream",
       "stream": "stdout",
       "text": [
        "\n",
        "Group 5:\n",
        "1 paths, Average identity = 83.72\n",
        "MQSGFFYDFSNYGTYDRLTDDGLTKWHPAFLSLGKTLDECAKN\n",
        "Group 6:\n",
        "1 paths, Average identity = 81.40\n",
        "MQSGFFYDFSNYGTYDRLTDDGLTQWHPAFLSLGKTLDECAKN\n",
        "Group 7:\n",
        "1 paths, Average identity = 81.40\n",
        "MQSGFFYDFSNYGTYDRLTDDGLTQWHPAFLSLGKTLDECAKN\n",
        "Group 8:\n",
        "1 paths, Average identity = 81.40"
       ]
      },
      {
       "output_type": "stream",
       "stream": "stdout",
       "text": [
        "\n",
        "MQSGFFYDFSNYGTYDRLTDDGLTQWHPAFLSLGKTLDECAKN\n",
        "Group 9:\n",
        "1 paths, Average identity = 81.40\n",
        "MQSGFFYDFSNYGTYDRLTDDGLTQWHPAFLSLGKTLD*CAKN\n",
        "Group 10:\n",
        "1 paths, Average identity = 83.72\n",
        "MQSGFFYDFSNYGTYDRLTDDGLTKWHPAFLSLGKTLDECAKN\n",
        "Group 11:\n",
        "1 paths, Average identity = 82.50\n",
        "MQSGFFYDFSNYGTYDRLTDDGLTKWHPAFLSLGKTLDEC\n",
        "Group 12:\n",
        "1 paths, Average identity = 82.50"
       ]
      },
      {
       "output_type": "stream",
       "stream": "stdout",
       "text": [
        "\n",
        "MQSGFFYDFSNYGTYDRLTDDGLTKWHPAFLSLGKTLDEC\n",
        "Group 13:\n",
        "1 paths, Average identity = 82.50\n",
        "MQSGFFYDFSNYGTYDRLTDDGLTKWHPAFLSLGKTLDEC\n",
        "Group 14:\n",
        "1 paths, Average identity = 82.50\n",
        "MQSGFFYDFSNYGTYDRLTDDGLTKWHPAFLSLGKTLDEC\n",
        "Group 15:\n",
        "1 paths, Average identity = 83.72\n",
        "MQSGFFYDFSNYGTYDRLTDDGLTKWHPAFLSLGKTLDECAKN\n",
        "\n",
        "Tery_4985: Total groups = 2\n",
        "Group 1:\n",
        "1 paths, Average identity = 78.96"
       ]
      },
      {
       "output_type": "stream",
       "stream": "stdout",
       "text": [
        "\n",
        "MIEWLIAWGSSEAVKFIAKEVIGELTKGAAEDYVKDLLKQGISDVVGGIANKEPLKKATKQAIKDFLDLGKQELENYDFSESELKEYSKYFKNFIKEGSVLEVLISAFDNNLKILDTYKLAATWNEINPPLPNNFDWEFLAKQHQRNVKNIIRQSAELRGILDSINLEQLANQKIEIRPEFDLKKYQEGIREQYGNLKLESLETSGYGYDELKLWQMFIPQNVRESQEFMPQLHEIPKEYIQGLRDTGQLETELSQEQLKSLRRRYFEQQTRSVLELIEDSSYKYLVILGDPGSGKSTLLQYIALQWAELPLKDLSLKPVPLLIELRTYVRNYDGNKCNNFLEFLEKGSGISCHLPQEELHARLQKGNVIMMFDGLDEVFNNAKREEIITDIHRFTNNYKNVQVIVTSRVIGYKPQKLRDAEFYHFMLQDLEEEQVEDFIQRWHDLTYHNKEERERKRERLKLAIRNSLAIKELSENPLLLTMMAILNRHQELPRDRAELYNQASRLLLQQWDAERALTNGNFNSMTIDYKDKQTILRQVAFFMQENKAGLAGNLIHGNDLERIIRDYLKSEDINNAKTVARTLMEQLRSRNFILCFVGAEYYAFVHRTFLEYFCAWSFVWQFEKEQKISQHKLIEEVFGQHWQDEKWHEVLLLIVGMIDAKFVVEIIRYLMAQDGEEKKFLNLFLAGKCLFEVRSRHVIGDMGYCLLNKLKDLTQYDLGYSYEYYDGYSKEVYQKNVALVCEIRTRAVEVVATTWRDEYSTYTWLKQRVESDSNSRVRCEAVKQIATAWKYQPGILDLLKQWVEFDDDTNVRCEALGQIATAWKHQPGILDWLKQWEKFDDNSHVRCEALRQIVAGWKHQPGILDLLKQRVVSDDDSDVRREALRQIVAGWKHQPGILDLLKQRVVSDDDSDVRREAVRQIANGWKHQPEIFDLLKQRVVSESHWDVRREALRQIANGWKHQPGIFDLLKQRVVSDENWDVRREAVRQIANGWKHQPGIFDLLKQRVVSESDWYVRVEVLRQIATAWKYQTGIFDLLKQRVVSDIDPNVRREAVRQIANGWKHQPGIFDLLKQRVMSDENWDVRCEAVRQIVTVWKQEPGILDLLKQWVKFCDYMDVRGEALRQIATGWKHQPEIFDLLKQTLESDHSSGVRREALRQIATGWKHQPEIFDLLKQRVVSDHSSGVRREALGQIATGWKHQPEIFDLLKQRLESDHSSGVRREALRQIATAWKHQPETFDLLKQRLESDNSSSVRGEALRQIAIGWKYQPETFELFYHTALNDPFQDEGHWKDNPRQIALGTIVKQYPDYPQTILLLQDRVANDPDEQLRDWTKKKLQRLENS"
       ]
      },
      {
       "output_type": "stream",
       "stream": "stdout",
       "text": [
        "\n",
        "Group 2:\n",
        "6 paths, Average identity = 72.31\n",
        "MIEXLXXWGXSEAVKFIAQEVIGELXKGXXEDYVKXFFKQXISBXXXXIXXGXPLXKATXQAIKXFLBXGXXELKNAXLXXXELKZYXKXFKXFXKXXSVLEVLXSAFDXXJKXLDTXKXATXWNZJNXTLPDBFBWXFLAXQXXRXVKXIXXNXXELRXILDSZNLDKLXXXXXXXXPXFDXKKYQEGIREEYGNXKLESLDTSGYGYNELKLWXXFIPQNVRESQEFMPQVYEIPKEYXZRLKXTXZLEIEFSPEQLXTVRRRYXEQXXRSVJELIEBXNYKYLVILGDPGSGKSTLLQYIALEWAXLPXXDLPLXPIPLLIELRXYVRNXZXNXCXNFLDFLEKGXGVTCHLPQQELDAKLQNGDAIVMFDGLDEVFDPAKRKEIISDIHRFTNDYKNVRVIVTSRVIGYKPQQLRDAEFYHFMLQDLESEQVEDFIQRWHDLTYXNESEKERKRERLKRAIKDSSAIKQLSGNPLLLTMMAILNRHQELPRDRAELYNQASRILLQQWDMERALIDAKIDPITIDYKDKQAILRGVADFMQQNKEGLAGNLIHGNDLENIIKDYLKSVDINDVRVVARALMEQLRVRNFILCFVGAGYYAFVHRTFLEYFCAWSFVWQFMVTQTLGIDGLINDVFGDHWRDEKWHEVLRLIAGMIDAKFVGDIISYLMEQDGEEEKFLNLFLAGMCLLEVRSRLGIDDVESRLLNRLKDLTGYDLGYFYKPFDFDLSLISREIYTKNLHLVPEIRTQAVEIVATTWRDDPSTYAWLKQRVVSDDDSDVRGEAVRQIATGWKHEPGILELLKQWVVSNENSHVRGEAVRQIATGWKHEPGILELLKQRLVSDESSDVRGEALRQIATGWKHEPGILELLKQWVVSNENLHVRGEAVRQIATGWKHEPGILELLKQRLVSDESSNVRGKALRQIATGWKHEPGILELFKQRVVSDESEYVRREAVGQIATGWKHEPGILDLLKQWLVSDESSDVRREAVRQIATGWKHEPGILDLLKQRVVSDESKYVRREAVRQIATGWKHEPGILDLLKQWVVSDESWDVRGEAVGQIATGWKHEPGILDLLKQRLVSDESKSVRREAVRQIATGWKHEPGILDLLKQRLVSDESKSVRCEAVGQIATGWKHEPGILDLLKQRLVSDESEYVRGEAVRQIVTGWKHEPGILDLLKQRLVSDDSESVRTEALREIVTGWKHEPGILDLLKQRLVSDDSESVRREALREIVTGWKHEPGILDLLKQWVVSHDSESVRREALRKIATGWKHEPGILDVLKQWVVSHNSESVRREALQQIATGWKQEPGILDLLKQRLVSDESSDVR"
       ]
      },
      {
       "output_type": "stream",
       "stream": "stdout",
       "text": [
        "\n",
        "\n",
        "Tery_4988: Total groups = 2\n",
        "Group 1:\n",
        "4 paths, Average identity = 89.73\n",
        "MTQZXXLGLXPVFKCEXSXPXGDIVFVHGLAGHPWGTWHPQGKXNNXBLDFWPFWLGZDLQXBEXAVNXWTFGYDAPRFGYVGEGMPRFDLASNLWEYLXXNDIGXXPLIFITHSMGGLVVKDLIRTAQNFDDKKAIIQQTQGIVFLSTPHQGSHLANLIDNFHALTKATVNVXELKAHXPQLRDLNZWYRQNIEXLNIKTXVXYETKPMAGVLVVDEDSANPGIKBVXPXAXXADHNSIAKPXXNDLVYLSVIXXCXXXFGGPTXTXXVRJNIFEAPPLPKYY"
       ]
      },
      {
       "output_type": "stream",
       "stream": "stdout",
       "text": [
        "\n",
        "Group 2:\n",
        "1 paths, Average identity = 72.24\n",
        "MTEQNMLGLLSVFNCENSLPRGDIVFVHGVAGHPWGTWHPQSKTDKRNVDFWLFWLGEELQGNGIDVNVWTFGYDVPSFKDVGEGMPRFDQASNLLKYLEVNDIGDQRPFIFVTHSMGGLVVKEAIRTAQNFPQYQTIIKQVQGIVFLSAPHTGIHLDNLIQNIGFLTKLTVNVEELKRHSSQLRDLNEWYQQNVEKLGIKTEVFYETRPIEKAKKVLVVDEDSANPGIKDVKPVAIPADHNSIAKPGKNDLVYLSVKKVCKQ\n",
        "\n",
        "Tery_4990: Total groups = 1\n",
        "Group 1:\n",
        "4 paths, Average identity = 98.91\n",
        "MKTNTHKIPPRNNTKTTTPTKNRGMSTTTSILDTLQLVFQAGGPGFCQFAINNACNANCGFCNFARDTFPKEKTKFVNLNEGLDSINILFREGIRYLVFTGGEPTLNPNLISFVDHATTLGIKVMVVTNGGLLTPXKIEALADAGLSSLIISVDAAAQDIHEKNRGLPGVCNKIKEANQILKNIGMYSTASVTMSHLVDYDALPDFLTSLGFESVVFSYPLTSLDSNFLGYSDAGLVTHTNESLWQAYEKVKQLKKRFRVVNPTLSLEEMQRFVKNEEQRYSCLAGYRFFFLDWELNLWRCHFWHEPMCSIYEFDSSKLVRDNCTKCMINCYRDSSLMQNIAVSMQDAYQSIKKGNLLDTAKALTRKSNIDSLRAVVEELPWIMRF"
       ]
      },
      {
       "output_type": "stream",
       "stream": "stdout",
       "text": [
        "\n",
        "\n",
        "Tery_4995: Total groups = 1\n",
        "Group 1:\n",
        "4 paths, Average identity = 96.59\n",
        "LGFILLLGALGSTAVLIEFDVLRFLKSSSNFWEFFGQLLTMPDWAYIPKLLLKMLETIEMGIVSTAIALLLSLPLGVFAARNTSPHLVLYHCIRNVLNLMRALPELVWALVFVSAVGLGPLPGVMALIFVTTGFLGKFLAESIEVVDVNGVMGVKSTGAGWLQTLTFAVFPLALPDFIGTVLYILDHNVRAATILGLVGAGGIGYELVMSMRLFNYGRLILIVAAIYIVVTILDRFSNVIRSRVI"
       ]
      },
      {
       "output_type": "stream",
       "stream": "stdout",
       "text": [
        "\n",
        "\n",
        "Tery_4996: Total groups = 1\n",
        "Group 1:\n",
        "4 paths, Average identity = 94.54\n",
        "MFNSSLKLLDLPPAPRNWTPLWISLTIFLIGVMIWHLGLSFGSVILGIGNIFEYLSRYLNPDFTDGPRYLMLMVQTLAIALWGTVLAFIISFLLAPLGANNLSPHPLIYQLIRELFNFMRAMPDLMLALILVIVLGLGATPGILALAIHTSGFLGKFFAESMERVNIGIYEGLRSTGANISQVVIFAAVPSILPEIVGYTLYIFDRNVRMASVLGLVGAGGIGLELHDNLRLFRYNQSAALILVILSSIVVVDYLSGWIRQRIS"
       ]
      },
      {
       "output_type": "stream",
       "stream": "stdout",
       "text": [
        "\n",
        "\n",
        "Tery_5000: Total groups = 1\n",
        "Group 1:\n",
        "4 paths, Average identity = 97.66\n",
        "MNSIAKPFLPDIQPNLLAVNSQDQSPTYQFGFLDSFAKKEIRRSLLKAVAIPGYQVPYSSREMPIARGFGTGGLQITLSILGKDDVLKVIDQGSDESVNAVNIRNFIGKTCPGVSLTKHTPKATIIQTRHRIPEFPLRLGQVLVLQVPYPDPLVIVEASEAKRKQMHGEGDYARLWVKLYEDMVKFSEITISHRYPTRINGHYVIDPSPIPRFDVPKLHQSFGLHLFGAGREKKIYAVPPFTDAQPLCFEDIPFRVENFDDVDGXRRPCHRCGSTTSFLDEFLDEZGNCIYQCSDSDYCNTMLMQAKEDNYAANS"
       ]
      },
      {
       "output_type": "stream",
       "stream": "stdout",
       "text": [
        "\n",
        "\n",
        "Tery_5005: Total groups = 1\n",
        "Group 1:\n",
        "4 paths, Average identity = 85.71\n",
        "LDFWPFWLGZDLQXBEXAVNXWTFGYDAPRFGYVGEGMPRFDLASNLWEYLXXNDIGXXPLIFITHSMGGLVVKDLIRTAQNFDDKKAIIQQTQGIVFLSTPHQGSHLANLIDNFHALTKATVNVXELKAHXPQLRDLNZWYRQNIEXLNIKTXVXYETKPMAGVLVVDEDSANP"
       ]
      },
      {
       "output_type": "stream",
       "stream": "stdout",
       "text": [
        "\n",
        "\n",
        "Tery_5010: Total groups = 3\n",
        "Group 1:\n",
        "1 paths, Average identity = 75.00\n",
        "LTVFMIDECHLLWGDILGYAWGKTDERIEIAIKNEKERQTYYGALDYETKEFIVQE\n",
        "Group 2:\n",
        "1 paths, Average identity = 75.00\n",
        "LTVFMIDECHLLWRNILGYAWGKTDERIEIAIKNEKERQTYYGALDYQTKEFIVQE\n",
        "Group 3:\n",
        "1 paths, Average identity = 73.21\n",
        "LTLFMIDECHILWGDILGYAWGKTDERIEIAIKNEKERQTYYGALDYQTKEFIVQE\n",
        "\n",
        "Tery_5011: Total groups = 1\n",
        "Group 1:\n",
        "2 paths, Average identity = 93.57"
       ]
      },
      {
       "output_type": "stream",
       "stream": "stdout",
       "text": [
        "\n",
        "MTNQQTLRRKLLDLDNSNYKAYRDIQGSYEFPDFTLIIDHVQGDPFAAPSKLRVQVPYTVAGFPPELYKNPIREMALRDFLTRKFDRLAYEVSGRRGTGKSGMIAITKMGQEVLERTSAYLIKLAPPAPKPAPGSNPALERAKPIKLSSQKGVEVRLIVGLPAGGRRILGRQAAEMLCDDLPYIVHRSLKYEQLDGDVCRRHVETVEDTDWLRKQLPEKNLVAFVANGAILPRQSGVDDRPLSSEEVVPFKSPPSLEVEFECPNQGKIYGMGIPKGVTLIVGGGYHGKSTLLKAIERGVYNHVPGDGREFVVTDPAAIKIRAEDGRSVAGVDISPFINQLPKGRSTTQFTTENASGSTSQAANIMEALEAGLGNSNSEETATTATPPVLLVDEDTAATNFMIRDRRMQELIAKEREPITPFIDKVRQLYTDYQVSTILVMGGSGDYFEMADKIIAMENFQGQEVTEKAKEIAEKYATGRSAEGGEKFGEIRRRIPLPASLDPSRGRRDVRLKVRDVDEVVFGSEDVDLSAVEQLVSKDQLKAIGVAMVYAKKQYMDGNRTLLEIIDAVMADIESKSLDVLVPFPQGDLALFRPFELLAAINRLRTLKVK"
       ]
      },
      {
       "output_type": "stream",
       "stream": "stdout",
       "text": [
        "\n",
        "\n",
        "Tery_5012: Total groups = 2\n",
        "Group 1:\n",
        "1 paths, Average identity = 92.95\n",
        "LNQNYLKSGDLLQVISSSGCLGELDALKKGVQIWRAHGYQVELTPNYDKQWGYLAGTDESRCSQLVAAINNDNCRGILCSRGGYGATRILENWQDLNNYSSSTPKWLIGFSDVTALLWTFSKMGFLCIHGPLLATLSAEPEWSIQRLFDLVEGRPLEPLTGNGWGGGQAKGYLMPANLTVAGHLLGTKYQPDLSGTILALEDVNEAPYRIDRMLTQWRMAGLLEQVKGIALGRFSQCCPGAVNHTEFTVEEVLRDRLGDLNIPIVSELPFGHDSPNAALPVGMEANLDGDEGILEIKR\n",
        "Group 2:\n",
        "1 paths, Average identity = 91.30\n",
        "FNQNYLKPGDLLQVISPSGCLRELDALKRGIQIWRSHGYQVELTPNYDEQWGYLAGTDESRCSQLVAAINNENCRGILCSRGGYGATRILENWQGLNNCSSSTPKWLIGFSDVTALLWTFSKMGFLSIHGPLLATLSAEPEWSIQRLFDLVEGRPLAPIKGNGWGGGQAKGYLMPANLTVASHLLGTKYQPDLSGTILALEDVNEAPYRIDRMLTQWGMAGLLEQVKGIALGRFSQCSSGVMNHTEFTVEEVLRDRLGNLNIPIVSELPFGHDSPNAALPVGMEASLDGDEGILEIKGN"
       ]
      },
      {
       "output_type": "stream",
       "stream": "stdout",
       "text": [
        "\n",
        "\n",
        "Tery_5025: Total groups = 2\n",
        "Group 1:\n",
        "1 paths, Average identity = 94.44\n",
        "MKIDIDIMTRYLHRMRNQPGWDSLNEVATSLNMDRATSRRYTKTAEEWELIERQQLENQPTKIQATQKLMKLEPGEVRKIVQANFQEFQF\n",
        "Group 2:\n",
        "1 paths, Average identity = 93.33\n",
        "MKIDIDIMTRYLHRMRNQPGWDSLNEVATSLNMDRATSRRYTKTAEEWELIERQQLENQPTKIQATQKLMKLEPGEVRKIVQANFQEFKF\n",
        "\n",
        "Tery_5030: Total groups = 3\n",
        "Group 1:\n",
        "1 paths, Average identity = 79.03\n",
        "MLSDNIDYFKSKPVNIPKITILLDHGYHPEKIIEELKKIYPGIMTKIRLKLSPKPSIAEKKQ\n",
        "Group 2:\n",
        "1 paths, Average identity = 75.81"
       ]
      },
      {
       "output_type": "stream",
       "stream": "stdout",
       "text": [
        "\n",
        "MLSDN*DYFKSIPVNIPKITILLDNGYHPEKLTIELKKIYPAIMTKIRFKLSPKPSKVEKKK\n",
        "Group 3:\n",
        "1 paths, Average identity = 72.58\n",
        "MLSDNIDYFKSKPVNIYKIPILLDHGYHPEKIT*ELKKIYPAIMTKIRFQLSPKPSKVEKEK\n",
        "\n",
        "Tery_5043: Total groups = 1\n",
        "Group 1:\n",
        "6 paths, Average identity = 89.05\n",
        "MTHSTDITTLARWLAADFSNQQQAFDNPPLFAHIRVCIRPLPYQLLNGLSLYVEQAYDIALNQPYRVRILKLLSLEDYINIENYTIDQEAEFYGGSRDPKRLENLKTKNLKRLPGCSLIVKWTGKSFRGEVEPGKACTVVREGKSTYLKSYFEINEHKFISHDTGYDPETDKQVWGAIAGPFEFVRWASFADEV"
       ]
      },
      {
       "output_type": "stream",
       "stream": "stdout",
       "text": [
        "\n",
        "\n",
        "Tery_5044: Total groups = 3\n",
        "Group 1:\n",
        "1 paths, Average identity = 82.98\n",
        "MFRLKVIFGGKLRRRKFDAQAVELFIQCAMLNRMIQIGKPKSYKVEV\n",
        "Group 2:\n",
        "1 paths, Average identity = 78.72\n",
        "MFRLKVIFGGQLRRRKFDNQAVELFIQCAMLNRMIQTGKPKSHKVKI\n",
        "Group 3:\n",
        "1 paths, Average identity = 77.27\n",
        "MFRLKVIFGGKLGR*KFDNQAVELFVQCAMLNRMIQKGKPNSYK\n",
        "\n",
        "Tery_5047: Total groups = 1\n",
        "Group 1:\n",
        "2 paths, Average identity = 92.53"
       ]
      },
      {
       "output_type": "stream",
       "stream": "stdout",
       "text": [
        "\n",
        "MEQQYLELPSSEVSENKEYLSVEEAIANLRHXELGKRYYAAWWLGKFRVNTPDAIEGLITALKDESDRTEDGGYPLRRNAARALGKLKDKKVVPALMECLQCSDYYVREAATEALEILGDPSCISALIKLLDGGVEAAVLVPGKPHLIQPYENIIEALGTLQAQEAIFLIKPFIEHPSEKVQYAAARSLYQLTGEAVYGEYLTEALGGDNLHLRRSALLDLAAIGYLPAAKAISETLAENSMKLIALKGLLEYHLTINSKVKTQESKVESQLLLSDEAIEVMSLMDS"
       ]
      },
      {
       "output_type": "stream",
       "stream": "stdout",
       "text": [
        "\n",
        "\n",
        "Tery_5059: Total groups = 1\n",
        "Group 1:\n",
        "4 paths, Average identity = 87.48\n",
        "MKNTAGKVFWKQPLTYLLLIVGAVGGLLGERLIFQTSSSSENSSQLAQLSLTQSLGKTDKTSNSEKSTWLPVRGAISQGNFIVDAVQKVGPAVVRINASRTVSQRPNMFARGMPEDFYGFESPGLRNGPVQKGTGSGFIISSDGNILTNAHVVEGSTVVEVVLKDGRRLSGTVLGTDSVTDVAVVKIDADNLPTVNIGDSNDLQPGEWAIAIGNPLGLDNSVTVGIISATGRSSNDVGVPDKRVGFIQTDAAINPGNSGGPLLNQNGEVIGINTAIIDGAQGLGFAIPINNAQQIAQQLISVGKAEHAYLGISMQTLTPQLRQELNRNLNRNIQLFSDRGVLIMQVVPGSPADKSGLKPGDIIQKIDNQTITSSENVQQIVQNKTVGSLLGLEINRNGQNLNFQLRTGNLPYRLRG"
       ]
      },
      {
       "output_type": "stream",
       "stream": "stdout",
       "text": [
        "\n",
        "\n",
        "Tery_5062: Total groups = 2\n",
        "Group 1:\n",
        "2 paths, Average identity = 82.74\n",
        "MXXXLSKGXRIXXSKXAPGXXKXAXGLGWDVNXXDTGXXFDXDXSVFMLGXXGKIPZDXYFVFYNNXKSXDGSVXXXGDXXTGXGZGDDETIXVBLXXVBXXIEEJJFVVTXXEAEKRRQNFGQVXNSXIRIYDXETQEEIXKYELEEDFSRETAIEFGXXYKKNXEWXFQAVGXGYNXGLZXFVZKYT"
       ]
      },
      {
       "output_type": "stream",
       "stream": "stdout",
       "text": [
        "\n",
        "Group 2:\n",
        "1 paths, Average identity = 72.34\n",
        "MSINLSKGERVNLSKESPGLTQAGIGLGWDINTTDTGSGFDLDASVFMLGNNGKIPAEQYFVFYNNLTSPDGSVQHSGDSRTGEGSGDDELIQIDLAKVDQVIQEVLFVVTIHEADARRQNFGQVRNSFIRIYDTTTELEIAKYELEEDFSRETALEFGRLYRKDNDWRFQAVGQGYNSGLQGFVDKY\n",
        "\n",
        "Tery_5063: Total groups = 2\n",
        "Group 1:\n",
        "2 paths, Average identity = 83.28\n",
        "MXXXLSKGXRIXXSKXAPGXXKXAXGLGWDVNXXDTGXXFDXDXSVFMLGXXGKIPZDXYFVFYNNXKSXDGSVXXXGDXXTGXGZGDDETIXVBLXXVBXXIEEJJFVVTXXEAEKRRQNFGQVXNSXIRIYDXETQEEIXKYELEEDFSRETAIEFGXXYKKNXEWXFQAVGXGYNXGLZXFVZKYIY"
       ]
      },
      {
       "output_type": "stream",
       "stream": "stdout",
       "text": [
        "\n",
        "Group 2:\n",
        "1 paths, Average identity = 73.02\n",
        "MSINLSKGERVNLSKESPGLTQAGIGLGWDINTTDTGSGFDLDASVFMLGNNGKIPAEQYFVFYNNLTSPDGSVQHSGDSRTGEGSGDDELIQIDLAKVDQVIQEVLFVVTIHEADARRQNFGQVRNSFIRIYDTTTELEIAKYELEEDFSRETALEFGRLYRKDNDWRFQAVGQGYNSGLQGFVDKYA\n",
        "\n",
        "Tery_5071: Total groups = 11\n",
        "Group 1:\n",
        "1 paths, Average identity = 79.41\n",
        "TSIASFLDLDYLPVYQKVVKYRFSGYDVRRRLYKASNGLKYNADVNGSLNILRKAVPNAFSNG\n",
        "Group 2:\n",
        "1 paths, Average identity = 82.26\n",
        "TSIASFLDLDDLTVYQKGVKYRFSGLRVRRRLYEASNALKYKADVNGS*NIL*KAVPNAFSHG"
       ]
      },
      {
       "output_type": "stream",
       "stream": "stdout",
       "text": [
        "\n",
        "Group 3:\n",
        "1 paths, Average identity = 79.41\n",
        "TSIASFLDLDDLPVSQKGVEYRFSRKRVRRRLYKAFNGLKYNADVNGSLNILRKAVPNAFSNG\n",
        "Group 4:\n",
        "1 paths, Average identity = 70.37\n",
        "TSIASFLDLDDLPYLSKRCQM*I*W*TSEKRTL*SFKWSQIQC*CQWKFKHITKSSPKRSQQW\n",
        "Group 5:\n",
        "1 paths, Average identity = 85.07\n",
        "TSIASFLDLDDLPVYQKGVKYRFSGKRVRRRLYKASNGLKCNADVNGSLNILRKAVPNAFSN"
       ]
      },
      {
       "output_type": "stream",
       "stream": "stdout",
       "text": [
        "\n",
        "Group 6:\n",
        "1 paths, Average identity = 82.35\n",
        "TSIASFLDLEDLPVYQKSVKYRFSGYDVRRRLYKASNGLKYNADVNGSLNILRKAVPNAFSNG\n",
        "Group 7:\n",
        "1 paths, Average identity = 73.02\n",
        "TSIASFLDLDDLPVYQKGVKYRFSGKRVRRRLYKASDGLQMLISMEV*TYYEKQSQTLLAMG\n",
        "Group 8:\n",
        "1 paths, Average identity = 82.81\n",
        "TSMASFLDLDDLPVYQKGVKYRFSGYDVRRRLYKASNGFKYNADVNGSLNILRKAVPNAFSNG\n",
        "Group 9:\n",
        "1 paths, Average identity = 80.88"
       ]
      },
      {
       "output_type": "stream",
       "stream": "stdout",
       "text": [
        "\n",
        "TSIASFLDLDDLRVYQKGVKYRFSGIRVRRELYKASNGLKYNADVNGSLNILRKAVPNAFSNG\n",
        "Group 10:\n",
        "1 paths, Average identity = 79.41\n",
        "TSIASFLDLDDLPVYQKGVKYRFSGYDVRKELDKASNGLKYNADVNGSLNILRKAVPNAFSNW\n",
        "Group 11:\n",
        "1 paths, Average identity = 70.12\n",
        "TSIASFLDLDDLPVYQKGVKYRFSRKRVRRRLYKASNGLKYNTDVNGSLNILRKAVPNAFSNG\n",
        "\n",
        "Tery_5074: Total groups = 2\n",
        "Group 1:\n",
        "4 paths, Average identity = 81.04"
       ]
      },
      {
       "output_type": "stream",
       "stream": "stdout",
       "text": [
        "\n",
        "LKKLEDSIVLIXSAKENRXNVIGTGFIFYKXQNYTYLLTCAHVVEDVGGEENIRVNNIPAEVIKIGDVQGFDLAXLKVNKXFSXPSLNLMILYGEEEKKLXVKIPGXYXXSQNXALRXZTIKGEMXVEVDGERAFQLIEBXPEXVAVEKLZXXK"
       ]
      },
      {
       "output_type": "stream",
       "stream": "stdout",
       "text": [
        "\n",
        "Group 2:\n",
        "1 paths, Average identity = 96.23\n",
        "MSNLEDSIVLIRSAEKRNAIGTGFIFHKQQNYSYLLTCAHVIEDVGGEENIRVNNLPAEVIKIGDVQGFDVAILKINTTFSASSLNLRILDGKEGKKLEVKIPGYYLFGQNNALRRQTIRGKMIVEVDGEKALQIIENVTEKVAVGKLEIKKRNSSFRL\n",
        "\n",
        "Tery_5076: Total groups = 1\n",
        "Group 1:\n",
        "2 paths, Average identity = 99.51\n",
        "MKINIIKQRSLWWTISGSIILCGLIAMAISWTRPDISAPLRPSLDFVGGTRLQLELDCTIPNNCNQPIKVAAVREIISKEGFPNSKIQVVGEEKEAIDIRTKTLDVDTRTQLITALSTEFGKFDPGSTQIDTVGPTLGRQIFTSGLSALLVAFFGITIYLTFRFQFDYAVFAFVALFHDILVTVGIFSILGLVAGVEVDSLFLVALLTIIGFSVNDTVVIYDRVREVIKRYPGKPIDQIVDDAVNQTLTRSINTTVTTLLPLVGILIFGGETLKYLALALIIGFVAGSYSSIFIASTLLAWWRERIGEFIPNPLEENSQLIEGQKDTV"
       ]
      },
      {
       "output_type": "stream",
       "stream": "stdout",
       "text": [
        "\n"
       ]
      }
     ],
     "prompt_number": 94
    },
    {
     "cell_type": "markdown",
     "metadata": {},
     "source": [
      "Code now groups graph structures based on connectivity (sort of - doesn't take into account two paths that are not directly connected, but are connected by a path that is considered later). This separates a situation where there is one >70% id hit for a query, but the hit contains SNPs, from a situation where we have two, different >70% id blast hits for a gene (i.e. another gene in the genome that is similar to the query)\n",
      "\n",
      "Need to think more about what each situation means, biologically.\n",
      "\n",
      "Next step (?): simple filters\n",
      "* genes with one path in IMS101, and no match (>70%) in metagenome - missing gene?\n",
      "* genes with one path in IMS101, and one path in metagenome -> direct 1:1 match, record and note/plot percentage identity\n",
      "* genes with one path in IMS101, and >1 path in metagenome, where paths are convergent (i.e. start and end nodes are the same). This corresponds to a 1:1 match, but with variant position(s) in the protein in the metagenome.\n",
      "\n",
      "Try this, and see how many genes are left. Then look more closely at those to see if there is an obvious way to filter further.\n",
      "(start new notebook for this, since this one is getting confusing?)"
     ]
    },
    {
     "cell_type": "code",
     "collapsed": false,
     "input": [
      "for n in range(1,2):\n",
      "    print n\n",
      "    "
     ],
     "language": "python",
     "metadata": {},
     "outputs": [
      {
       "output_type": "stream",
       "stream": "stdout",
       "text": [
        "1\n"
       ]
      }
     ],
     "prompt_number": 84
    }
   ],
   "metadata": {}
  }
 ]
}