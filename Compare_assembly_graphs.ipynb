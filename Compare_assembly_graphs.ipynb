{
 "metadata": {
  "name": "",
  "signature": "sha256:aa4e5de233af9edf281a89a5d91afe8b45c5280983de730b4678da667d5789db"
 },
 "nbformat": 3,
 "nbformat_minor": 0,
 "worksheets": [
  {
   "cells": [
    {
     "cell_type": "heading",
     "level": 2,
     "metadata": {},
     "source": [
      "Find repetetive genes in simulated IMS101 assembly graph"
     ]
    },
    {
     "cell_type": "markdown",
     "metadata": {},
     "source": [
      "Run Blast search for all IMS101 proteins vs self:"
     ]
    },
    {
     "cell_type": "code",
     "collapsed": false,
     "input": [
      "from Bio import SeqIO\n",
      "from Bio.Blast.Applications import NcbiblastpCommandline\n",
      "\n",
      "cline = NcbiblastpCommandline(query=\"IMS101_proteins.faa.txt\", db=\"IMS101_blastdb/IMS101\", evalue=0.001, outfmt=5,\n",
      "                              out='IMS101vSelf_blastp.xml')\n",
      "\n",
      "stdout, stderr = cline()"
     ],
     "language": "python",
     "metadata": {},
     "outputs": [],
     "prompt_number": 3
    },
    {
     "cell_type": "markdown",
     "metadata": {},
     "source": [
      "Parse results:\n",
      "- A gene is 'unique' if it has no hits with percent id >90%, except with itself.\n",
      "- A 'complete duplication' is defined as: gene has at least one non-self hit, with query coverage > 90% and id > 90%\n",
      "- A 'partial duplication' is defined as: gene has a non-self hit with id >90%, but query coverage < 90% "
     ]
    },
    {
     "cell_type": "code",
     "collapsed": false,
     "input": [
      "from Bio import SeqIO\n",
      "from Bio.Blast import NCBIXML\n",
      "import numpy as np\n",
      "        \n",
      "class HitMatrix:\n",
      "    \n",
      "    def __init__(self, fasta_list):\n",
      "        self.fasta_ids = fasta_list\n",
      "        self.nrecs = len(self.fasta_ids)\n",
      "        \n",
      "        self.hits = np.zeros( (self.nrecs, self.nrecs) )\n",
      "    \n",
      "    def add_hit(self, query_id, hit_id):\n",
      "        q_ix = self.fasta_ids.index(query_id)\n",
      "        h_ix = self.fasta_ids.index(hit_id)\n",
      "        \n",
      "        self.hits[q_ix, h_ix] += 1\n",
      "        \n",
      "    def get_count(self, query_id, hit_id):\n",
      "        q_ix = self.fasta_ids.index(query_id)\n",
      "        h_ix = self.fasta_ids.index(hit_id)\n",
      "        \n",
      "        return(self.hits[q_ix, h_ix])        \n",
      "        \n",
      "    def write_csv(self, filename):\n",
      "        csv = open(filename, 'w')\n",
      "        csv.write(',' + ','.join(self.fasta_ids) + '\\n')\n",
      "        for gene, row in zip(self.fasta_ids, self.hits):\n",
      "            row = [str(r) for r in row]\n",
      "            csv.write(gene + ',' + ','.join(row) + '\\n')\n",
      "        csv.close()\n",
      "        \n",
      "\n",
      "pid_threshold = 90.0\n",
      "cov_threshold = 90.0\n",
      "\n",
      "fasta_ids = [s.id for s in SeqIO.parse(\"IMS101_proteins.faa.txt\", \"fasta\")]\n",
      "\n",
      "compl_hit_matrix = HitMatrix(fasta_ids)\n",
      "incompl_hit_matrix = HitMatrix(fasta_ids)\n",
      "\n",
      "#Parse Blast file\n",
      "blast_file = open('IMS101vSelf_blastp.xml')\n",
      "records = NCBIXML.parse(blast_file)\n",
      "\n",
      "for rec in records:\n",
      "    q_id = rec.query.split(' ')[0]\n",
      "    for align in rec.alignments:\n",
      "        h_id = align.hit_def.split(' ')[0]\n",
      "        for hsp in align.hsps:\n",
      "            aligned_length = hsp.query_end - hsp.query_start\n",
      "            cov = float(aligned_length) / rec.query_length * 100\n",
      "            pid = float(hsp.identities) / aligned_length * 100\n",
      "                \n",
      "            if pid > pid_threshold:\n",
      "                if cov > cov_threshold:\n",
      "                    compl_hit_matrix.add_hit(q_id, h_id)\n",
      "                else:\n",
      "                    incompl_hit_matrix.add_hit(q_id, h_id)\n",
      "\n",
      "compl_hit_matrix.write_csv('IMS101_v_self_compl.csv')\n",
      "incompl_hit_matrix.write_csv('IMS101_v_self_partial.csv')"
     ],
     "language": "python",
     "metadata": {},
     "outputs": [],
     "prompt_number": 32
    },
    {
     "cell_type": "markdown",
     "metadata": {},
     "source": [
      "Further parsing:\n",
      "For each gene, if it has a complete duplication (hit count in complete hits table is > 1), add the gene name to a list of 'completely duplicated genes'. If it has no complete duplications but one or more partial duplications, add it to the list of 'partially duplicated' genes"
     ]
    },
    {
     "cell_type": "code",
     "collapsed": false,
     "input": [
      "gene_names = compl_hit_matrix.fasta_ids\n",
      "dupl_compl = np.sum(compl_hit_matrix.hits, axis=1)\n",
      "dupl_partial = np.sum(incompl_hit_matrix.hits, axis=1)\n",
      "\n",
      "complete_dupl = []\n",
      "partial_dupl = []\n",
      "for gn, comp_count, part_count in zip(gene_names, dupl_compl, dupl_partial):\n",
      "    if comp_count > 1:\n",
      "        complete_dupl.append(gn)\n",
      "    elif part_count > 0:\n",
      "        partial_dupl.append(gn)\n",
      "\n",
      "print len(complete_dupl), len(partial_dupl)\n",
      "\n",
      "out1 = open('duplicated_complete.txt', 'w')\n",
      "out2 = open('duplicated_partial.txt', 'w')\n",
      "\n",
      "for x in complete_dupl:\n",
      "    out1.write(x + '\\n')\n",
      "out1.close()\n",
      "\n",
      "for x in partial_dupl:\n",
      "    out2.write(x + '\\n')\n",
      "out2.close()"
     ],
     "language": "python",
     "metadata": {},
     "outputs": [
      {
       "output_type": "stream",
       "stream": "stdout",
       "text": [
        "281 76\n"
       ]
      }
     ],
     "prompt_number": 29
    },
    {
     "cell_type": "heading",
     "level": 2,
     "metadata": {},
     "source": [
      "Check for genes with multiple paths in IMS101 assembly graph"
     ]
    },
    {
     "cell_type": "code",
     "collapsed": false,
     "input": [
      "hits = open(\"all.tsv\").readlines()[1:]\n",
      "\n",
      "genes_counted = []\n",
      "#Genes with more than one path in the graph\n",
      "multiple_paths = []\n",
      "#Genes with at least one complicated path (>3 nodes)\n",
      "split_genes = []\n",
      "\n",
      "for hit in hits:\n",
      "    h = hit.split('\\t')\n",
      "    query = h[0]\n",
      "    path = h[1]\n",
      "    \n",
      "    #If we've already counted the gene and we're seeing it again, it has multiple paths in the graph\n",
      "    if query in genes_counted:\n",
      "        if not query in multiple_paths:\n",
      "            multiple_paths.append(query)\n",
      "    else:\n",
      "        genes_counted.append(query)\n",
      "    \n",
      "    if not query in split_genes:\n",
      "        if len(path.split(' ')) > 3:\n",
      "            split_genes.append(query)\n",
      "            \n",
      "print len(compl_hit_matrix.fasta_ids), len(genes_counted), len(multiple_paths), len(split_genes)"
     ],
     "language": "python",
     "metadata": {},
     "outputs": [
      {
       "output_type": "stream",
       "stream": "stdout",
       "text": [
        "4451 4287 275 252\n"
       ]
      }
     ],
     "prompt_number": 35
    },
    {
     "cell_type": "heading",
     "level": 2,
     "metadata": {},
     "source": [
      "Filter out repetitive/complicated genes from fasta file"
     ]
    },
    {
     "cell_type": "markdown",
     "metadata": {},
     "source": [
      "Used R to get the union of the set of genes that were partially or completely repeated in the genome, or had multiple paths in the IMS101 assembly graph. This was saved in 'genes_to_filter.txt'"
     ]
    },
    {
     "cell_type": "code",
     "collapsed": false,
     "input": [
      "from Bio import SeqIO\n",
      "\n",
      "genes_to_filter = [g.rstrip() for g in open('genes_to_filter.txt').readlines()]\n",
      "\n",
      "print genes_to_filter[0:5]\n",
      "\n",
      "fasta = SeqIO.parse('/Users/ajb1d14/Dropbox/Job/fasta/protein/IMS101_proteins.faa.txt', 'fasta')\n",
      "\n",
      "remaining_genes = []\n",
      "for f in fasta:\n",
      "    if f.id not in genes_to_filter:\n",
      "        remaining_genes.append(f)\n",
      "\n",
      "SeqIO.write(remaining_genes, 'IMS101_unique_genes.fasta', 'fasta')"
     ],
     "language": "python",
     "metadata": {},
     "outputs": [
      {
       "output_type": "stream",
       "stream": "stdout",
       "text": [
        "['Tery_0010', 'Tery_0020', 'Tery_0031', 'Tery_0039', 'Tery_0049']\n"
       ]
      },
      {
       "metadata": {},
       "output_type": "pyout",
       "prompt_number": 5,
       "text": [
        "4061"
       ]
      }
     ],
     "prompt_number": 5
    },
    {
     "cell_type": "heading",
     "level": 2,
     "metadata": {},
     "source": [
      "Determine query paths for each gene in metagenome assembly graphs using Bandage"
     ]
    },
    {
     "cell_type": "markdown",
     "metadata": {},
     "source": [
      "Parameters: looked for paths up to 10 nodes long, with mean query id of >70%"
     ]
    },
    {
     "cell_type": "heading",
     "level": 3,
     "metadata": {},
     "source": [
      "Simulated IMS101"
     ]
    },
    {
     "cell_type": "code",
     "collapsed": false,
     "input": [
      "!/Applications/Bandage_Mac_v0/Bandage.app/Contents/MacOS/Bandage querypaths sim_IMS101/assembly_graph.fastg IMS101_unique_genes.fasta sim_IMS101/unique_genes_paths --pathnodes 10 --minmeanid 0.7"
     ],
     "language": "python",
     "metadata": {},
     "outputs": [
      {
       "output_type": "stream",
       "stream": "stdout",
       "text": [
        "\r\n",
        "(25 Feb 2016 21:46:59) Loading graph...        "
       ]
      },
      {
       "output_type": "stream",
       "stream": "stdout",
       "text": [
        "done\r\n",
        "(25 Feb 2016 21:47:00) Running BLAST search... "
       ]
      },
      {
       "output_type": "stream",
       "stream": "stdout",
       "text": [
        "done\r\n",
        "(25 Feb 2016 21:57:24) Saving results...       "
       ]
      },
      {
       "output_type": "stream",
       "stream": "stdout",
       "text": [
        "done\r\n",
        "\r\n",
        "Results:      sim_IMS101/unique_genes_paths.tsv\r\n",
        "\r\n",
        "Summary: Total BLAST queries:           4061\r\n",
        "         Queries with found paths:      3938\r\n",
        "         Total query paths:             4512\r\n",
        "\r\n",
        "Elapsed time: 00:10:24.542\r\n"
       ]
      }
     ],
     "prompt_number": 55
    },
    {
     "cell_type": "heading",
     "level": 3,
     "metadata": {},
     "source": [
      "004"
     ]
    },
    {
     "cell_type": "code",
     "collapsed": false,
     "input": [
      "!/Applications/Bandage_Mac_v0/Bandage.app/Contents/MacOS/Bandage querypaths 004/assembly_graph.fastg IMS101_unique_genes.fasta 004/unique_genes_paths --pathnodes 10 --minmeanid 0.7"
     ],
     "language": "python",
     "metadata": {},
     "outputs": [
      {
       "output_type": "stream",
       "stream": "stdout",
       "text": [
        "\r\n",
        "(25 Feb 2016 14:24:38) Loading graph...        "
       ]
      },
      {
       "output_type": "stream",
       "stream": "stdout",
       "text": [
        "done\r\n",
        "(25 Feb 2016 14:24:40) Running BLAST search... "
       ]
      },
      {
       "output_type": "stream",
       "stream": "stdout",
       "text": [
        "done\r\n",
        "(25 Feb 2016 14:46:10) Saving results...       "
       ]
      },
      {
       "output_type": "stream",
       "stream": "stdout",
       "text": [
        "done\r\n",
        "\r\n",
        "Results:      004/unique_genes_paths.tsv\r\n",
        "\r\n",
        "Summary: Total BLAST queries:           4061\r\n",
        "         Queries with found paths:      3075\r\n",
        "         Total query paths:             6984\r\n",
        "\r\n",
        "Elapsed time: 00:21:32.583\r\n"
       ]
      }
     ],
     "prompt_number": 13
    },
    {
     "cell_type": "heading",
     "level": 3,
     "metadata": {},
     "source": [
      "019"
     ]
    },
    {
     "cell_type": "code",
     "collapsed": false,
     "input": [
      "!/Applications/Bandage_Mac_v0/Bandage.app/Contents/MacOS/Bandage querypaths 019/assembly_graph.fastg IMS101_unique_genes.fasta 019/unique_genes_paths --pathnodes 10 --minmeanid 0.7"
     ],
     "language": "python",
     "metadata": {},
     "outputs": [
      {
       "output_type": "stream",
       "stream": "stdout",
       "text": [
        "\r\n",
        "(25 Feb 2016 14:46:11) Loading graph...        "
       ]
      },
      {
       "output_type": "stream",
       "stream": "stdout",
       "text": [
        "done\r\n",
        "(25 Feb 2016 14:46:18) Running BLAST search... "
       ]
      },
      {
       "output_type": "stream",
       "stream": "stdout",
       "text": [
        "done\r\n",
        "(25 Feb 2016 15:22:09) Saving results...       "
       ]
      },
      {
       "output_type": "stream",
       "stream": "stdout",
       "text": [
        "done\r\n",
        "\r\n",
        "Results:      019/unique_genes_paths.tsv\r\n",
        "\r\n",
        "Summary: Total BLAST queries:           4061\r\n",
        "         Queries with found paths:      3121\r\n",
        "         Total query paths:             15261\r\n",
        "\r\n",
        "Elapsed time: 00:35:58.715\r\n"
       ]
      }
     ],
     "prompt_number": 14
    },
    {
     "cell_type": "heading",
     "level": 2,
     "metadata": {},
     "source": [
      "Parse path file:"
     ]
    },
    {
     "cell_type": "markdown",
     "metadata": {},
     "source": [
      "Path file output has the following columns:\n",
      "- Query\n",
      "- Path\n",
      "- Length\n",
      "- Query covered by path\n",
      "- Query covered by hits\n",
      "- Mean hit identity\n",
      "- Total hit mismatches\n",
      "- Total hit gap opens\n",
      "- Relative length\n",
      "- Length discrepancy\n",
      "- E-value product\n",
      "- Sequence"
     ]
    },
    {
     "cell_type": "code",
     "collapsed": false,
     "input": [
      "from Bio.Seq import Seq\n",
      "from Bio.SeqRecord import SeqRecord\n",
      "\n",
      "class Paths:\n",
      "    def __init__(self):        \n",
      "        self.genes = []\n",
      "    \n",
      "    def load_paths(self, path_file):\n",
      "        current_gene = Gene()\n",
      "        for line in open(path_file).readlines()[1:]:\n",
      "            if line:\n",
      "                gene, path = self.parse_line(line)\n",
      "                if gene == current_gene.name:\n",
      "                    current_gene.paths.append(path)\n",
      "                else:\n",
      "                    if current_gene.name:\n",
      "                        self.genes.append(current_gene)\n",
      "                    current_gene = Gene(gene)\n",
      "                    current_gene.paths.append(path)\n",
      "        \n",
      "    def parse_line(self, line):\n",
      "        spl = line.rstrip().split('\\t')\n",
      "        \n",
      "        query = spl[0]\n",
      "        path_spec = spl[1]\n",
      "        path_length = spl[2]\n",
      "        q_cov = spl[3]\n",
      "        pid = float(spl[5].replace('%',''))\n",
      "        rel_length = spl[8]\n",
      "        seq = spl[11]\n",
      "            \n",
      "        p = path_spec.split(' ')\n",
      "#        print p\n",
      "        if p[-1].startswith('('):\n",
      "            end_pos = p.pop().replace('(','').replace(')','')\n",
      "        else:\n",
      "            end_pos = None\n",
      "        if p[0].startswith('('):\n",
      "            start_pos = p[0].replace('(','').replace(')','')\n",
      "            p = p[1:]\n",
      "        else:\n",
      "            start_pos = 1\n",
      "#        print p\n",
      "        \n",
      "        path = Path(p, start_pos, end_pos, path_length, q_cov, pid, rel_length, seq, query)\n",
      "        \n",
      "        return query, path\n",
      "    \n",
      "    def get_gene(self, tery):\n",
      "        for gene in self.genes:\n",
      "            try:\n",
      "                if gene.name == tery:\n",
      "                    return gene\n",
      "            except StopIteration:\n",
      "                return None\n",
      "            \n",
      "    def filter_paralogues(self):\n",
      "        for gene in self.genes:\n",
      "            \n",
      "            gene.check_paralogues()\n",
      "            \n",
      "            #Go back over list of paths and only keep ones where paralogue == False\n",
      "            gene.paths = [p for p in gene.paths if not p.paralogue]\n",
      "        \n",
      "\n",
      "class Gene:\n",
      "    def __init__(self, gene_name=''):\n",
      "        self.name = gene_name\n",
      "        self.paths = []\n",
      "        \n",
      "    def add_path(self, path):\n",
      "        self.paths.append(path)\n",
      "        \n",
      "    def check_paralogues(self):\n",
      "        top_nodes = set()\n",
      "        for p in self.paths:\n",
      "            node_set = set([p.start_node, p.end_node] + p.internal_nodes)\n",
      "            if not top_nodes:\n",
      "                top_nodes = node_set\n",
      "                p.paralogue = False\n",
      "            else:\n",
      "                #If there are nodes in both sets (i.e. there is overlap), merge new set with top nodes (they are all interconnected)\n",
      "                #Also, current path is not a paralogue\n",
      "                if node_set.intersection(top_nodes):\n",
      "                    top_nodes = node_set.union(top_nodes)\n",
      "                    p.paralogue = False\n",
      "                #If not (i.e. no overlap), current path is a paralogue\n",
      "                else:\n",
      "                    p.paralogue = True\n",
      "        \n",
      "        \n",
      "class Path:\n",
      "    def __init__(self, node_list, start_pos, end_pos, path_length, cov, pid, rel_length, seq, query):\n",
      "        self.start_node = node_list[0]\n",
      "#        print self.start_node\n",
      "        self.end_node = node_list[-1]\n",
      "#        print self.end_node\n",
      "        self.start_base = start_pos\n",
      "        self.end_base = end_pos\n",
      "        self.internal_nodes = node_list[1:-1]\n",
      "#        print self.internal_nodes\n",
      "        if self.start_node == self.end_node and len(self.internal_nodes) == 0:\n",
      "            self.num_nodes = 1\n",
      "        else:\n",
      "            self.num_nodes = len(self.internal_nodes) + 2\n",
      "\n",
      "\n",
      "#        self.query = query\n",
      "        self.length = path_length\n",
      "        self.rel_length = rel_length\n",
      "        \n",
      "        #Create SeqRecord object to hold sequence information\n",
      "        seq_id = 'path_%s_%.2f' % (query, pid)\n",
      "        seq = Seq(seq)\n",
      "        self.seq = SeqRecord(seq, id=seq_id)\n",
      "        self.prot_seq = SeqRecord(self.seq.seq.translate(), id=seq_id+'_prot')\n",
      "        \n",
      "        self.coverage = cov\n",
      "        self.identity = pid\n",
      "        \n",
      "    def __str__(self):\n",
      "        \n",
      "        s = '%s %s %s (%d nodes)' % (self.start_node, ' '.join(self.internal_nodes), self.end_node, self.num_nodes)\n",
      "        \n",
      "        return s"
     ],
     "language": "python",
     "metadata": {},
     "outputs": [],
     "prompt_number": 16
    },
    {
     "cell_type": "heading",
     "level": 3,
     "metadata": {},
     "source": [
      "Count number of genes with unique paths vs genes with multiple paths"
     ]
    },
    {
     "cell_type": "code",
     "collapsed": false,
     "input": [
      "samples = ['sim','004','019']\n",
      "path_files = ['all.tsv', './004/unique_genes_paths.tsv', '019/unique_genes_paths.tsv']\n",
      "\n",
      "for s, f in zip(samples, path_files):\n",
      "    paths = Paths()\n",
      "    paths.load_paths(f)\n",
      "\n",
      "    single_paths = []\n",
      "    multi_paths = []\n",
      "\n",
      "    for gene in paths.genes:\n",
      "    \n",
      "        if len(gene.paths) > 1:\n",
      "            multi_paths.append(gene)\n",
      "#            print gene.name, ': ', len(gene.paths)\n",
      "    \n",
      "        else:\n",
      "            single_paths.append(gene)\n",
      "\n",
      "    print '%s:\\tSingle: %d (%.2f%%), Multi: %d (%.2f%%)' % (s, len(single_paths), len(single_paths)/4286.0*100, len(multi_paths), len(multi_paths)/4286.0*100)"
     ],
     "language": "python",
     "metadata": {},
     "outputs": [
      {
       "output_type": "stream",
       "stream": "stdout",
       "text": [
        "sim:\tSingle: 4011 (93.58%), Multi: 275 (6.42%)\n",
        "004:\tSingle: 2572 (60.01%), Multi: 502 (11.71%)"
       ]
      },
      {
       "output_type": "stream",
       "stream": "stdout",
       "text": [
        "\n",
        "019:\tSingle: 1203 (28.07%), Multi: 1917 (44.73%)"
       ]
      },
      {
       "output_type": "stream",
       "stream": "stdout",
       "text": [
        "\n"
       ]
      },
      {
       "output_type": "stream",
       "stream": "stderr",
       "text": [
        "/Users/ajb1d14/anaconda/lib/python2.7/site-packages/Bio/Seq.py:2040: BiopythonWarning: Partial codon, len(sequence) not a multiple of three. Explicitly trim the sequence or add trailing N before translation. This may become an error in future.\n",
        "  BiopythonWarning)\n"
       ]
      }
     ],
     "prompt_number": 37
    },
    {
     "cell_type": "markdown",
     "metadata": {},
     "source": [
      "Visualisation:\n",
      "- a path that's unique in all three graphs\n",
      "- a path that's unique in simulated IMS101, but split into two in 004 and 019\n",
      "- a path that's unique in simulated IMS101, but complex in the metagenomes"
     ]
    },
    {
     "cell_type": "code",
     "collapsed": false,
     "input": [
      "import subprocess\n",
      "from Bio import SeqIO\n",
      "\n",
      "def get_Tery(tery, fasta):\n",
      "    fasta = SeqIO.parse(fasta, 'fasta')\n",
      "    outfile = '%s.fasta' % tery\n",
      "    \n",
      "    for f in fasta:\n",
      "        if f.id == tery:\n",
      "            SeqIO.write(f, outfile, 'fasta')\n",
      "\n",
      "    return outfile\n",
      "\n",
      "\n",
      "def make_bandage_cline(query_file, graph_file, image_file, distance=1, blast_id_filter=70):\n",
      "    cline = '/Applications/Bandage_Mac_v0/Bandage.app/Contents/MacOS/Bandage image %s %s --query %s --scope aroundblast --distance %d --ifilter %s' % (graph_file,\n",
      "                                                                                                                                                    image_file,\n",
      "                                                                                                                                                    query_file,\n",
      "                                                                                                                                                    distance,\n",
      "                                                                                                                                                    str(blast_id_filter))\n",
      "    return cline\n",
      "\n",
      "\n",
      "def run_bandage_on_list(gene_name, graph_list, out_suffix_list, blast_id_filter=0.7):\n",
      "    query_file = get_Tery(gene_name, fasta_file)\n",
      "    for graph, out_suffix in zip(graph_list, out_suffix_list):\n",
      "        out_name = '%s_%s.png' % (gene_name, out_suffix)\n",
      "        cline = make_bandage_cline(query_file, graph, out_name, 1)\n",
      "        subprocess.call(cline, shell=True)\n",
      "\n",
      "        \n",
      "        \n",
      "paths_IMS101 = Paths()\n",
      "paths_004 = Paths()\n",
      "paths_019 = Paths()\n",
      "\n",
      "paths_IMS101.load_paths('sim_IMS101/unique_genes_paths.tsv')\n",
      "paths_IMS101.filter_paralogues()\n",
      "paths_004.load_paths('004/unique_genes_paths.tsv')\n",
      "paths_004.filter_paralogues()\n",
      "paths_019.load_paths('019/unique_genes_paths.tsv')\n",
      "paths_019.filter_paralogues()\n",
      "\n",
      "graph_IMS101 = 'sim_IMS101/assembly_graph.fastg'\n",
      "graph_004 = '004/assembly_graph.fastg'\n",
      "graph_019 = '019/assembly_graph.fastg'\n",
      "graphs = [graph_IMS101, graph_004, graph_019]\n",
      "\n",
      "sample_list = ['simIMS101', '004', '019']\n",
      "\n",
      "fasta_file = 'IMS101_unique_genes.fasta'\n",
      "\n",
      "unique_count = 0\n",
      "split_count = 0\n",
      "complex_count = 0\n",
      "\n",
      "\n",
      "filtered_genes = []\n",
      "genes_in_both = []\n",
      "genes_in_004 = []\n",
      "genes_in_019 = []\n",
      "genes_in_neither = []\n",
      "\n",
      "for gene in paths_IMS101.genes:\n",
      "    gene004 = paths_004.get_gene(gene.name)\n",
      "    gene019 = paths_019.get_gene(gene.name)\n",
      "    \n",
      "    if gene004 and gene019:\n",
      "        filtered_genes.append(tuple([gene, gene004, gene019]))\n",
      "        genes_in_both.append(gene.name)\n",
      "    elif gene004:\n",
      "        genes_in_004.append(gene.name)\n",
      "    elif gene019:\n",
      "        genes_in_019.append(gene.name)\n",
      "    else:\n",
      "        genes_in_neither.append(gene.name)\n",
      "\n",
      "print \"Genes present in all three graphs: %d\" % len(filtered_genes)\n",
      "print \"Genes only in 004: %d\" % len(genes_in_004)\n",
      "print \"Genes only in 019: %d\" % len(genes_in_019)\n",
      "print \"Genes not in either metagenome: %d\" % len(genes_in_neither)\n",
      "print \"-----------------\\n\"\n",
      "\n",
      "for control, met004, met019 in filtered_genes:\n",
      "\n",
      "    if unique_count < 3 or split_count < 10 or complex_count < 10:\n",
      "    \n",
      "        if len(control.paths) == 1 and (len(met004.paths) == 1 and len(met019.paths) == 1):\n",
      "            if unique_count < 3:\n",
      "                run_bandage_on_list(control.name, graphs, sample_list)\n",
      "                print 'unique: %s' % control.name\n",
      "            unique_count += 1\n",
      "            \n",
      "        elif len(control.paths) == 1 and (len(met004.paths) > 5 or len(met019.paths) > 5):\n",
      "            if complex_count < 10:\n",
      "                run_bandage_on_list(control.name, graphs, sample_list)\n",
      "                print 'complex: %s' % control.name\n",
      "            complex_count += 1\n",
      "        \n",
      "        elif len(control.paths) == 1 and (len(met004.paths) > 1 or len(met019.paths) > 1):\n",
      "            if split_count < 10:\n",
      "                run_bandage_on_list(control.name, graphs, sample_list)\n",
      "                print 'split: %s' % control.name\n",
      "            split_count += 1\n",
      "\n",
      "    else:\n",
      "        break\n",
      "\n",
      "\n",
      "print unique_count, split_count, complex_count\n"
     ],
     "language": "python",
     "metadata": {},
     "outputs": [
      {
       "output_type": "stream",
       "stream": "stdout",
       "text": [
        "Genes present in all three graphs: 2965\n",
        "Genes only in 004: 102\n",
        "Genes only in 019: 153\n",
        "Genes not in either metagenome: 717\n",
        "-----------------\n",
        "\n",
        "split: Tery_0001"
       ]
      },
      {
       "output_type": "stream",
       "stream": "stdout",
       "text": [
        "\n",
        "split: Tery_0011"
       ]
      },
      {
       "output_type": "stream",
       "stream": "stdout",
       "text": [
        "\n",
        "unique: Tery_0012"
       ]
      },
      {
       "output_type": "stream",
       "stream": "stdout",
       "text": [
        "\n",
        "unique: Tery_0013"
       ]
      },
      {
       "output_type": "stream",
       "stream": "stdout",
       "text": [
        "\n",
        "unique: Tery_0014"
       ]
      },
      {
       "output_type": "stream",
       "stream": "stdout",
       "text": [
        "\n",
        "split: Tery_0019"
       ]
      },
      {
       "output_type": "stream",
       "stream": "stdout",
       "text": [
        "\n",
        "complex: Tery_0021"
       ]
      },
      {
       "output_type": "stream",
       "stream": "stdout",
       "text": [
        "\n",
        "split: Tery_0027"
       ]
      },
      {
       "output_type": "stream",
       "stream": "stdout",
       "text": [
        "\n",
        "complex: Tery_0035"
       ]
      },
      {
       "output_type": "stream",
       "stream": "stdout",
       "text": [
        "\n",
        "complex: Tery_0037"
       ]
      },
      {
       "output_type": "stream",
       "stream": "stdout",
       "text": [
        "\n",
        "complex: Tery_0043"
       ]
      },
      {
       "output_type": "stream",
       "stream": "stdout",
       "text": [
        "\n",
        "split: Tery_0045"
       ]
      },
      {
       "output_type": "stream",
       "stream": "stdout",
       "text": [
        "\n",
        "split: Tery_0046"
       ]
      },
      {
       "output_type": "stream",
       "stream": "stdout",
       "text": [
        "\n",
        "complex: Tery_0047"
       ]
      },
      {
       "output_type": "stream",
       "stream": "stdout",
       "text": [
        "\n",
        "complex: Tery_0058"
       ]
      },
      {
       "output_type": "stream",
       "stream": "stdout",
       "text": [
        "\n",
        "split: Tery_0060"
       ]
      },
      {
       "output_type": "stream",
       "stream": "stdout",
       "text": [
        "\n",
        "split: Tery_0082"
       ]
      },
      {
       "output_type": "stream",
       "stream": "stdout",
       "text": [
        "\n",
        "split: Tery_0088"
       ]
      },
      {
       "output_type": "stream",
       "stream": "stdout",
       "text": [
        "\n",
        "split: Tery_0108"
       ]
      },
      {
       "output_type": "stream",
       "stream": "stdout",
       "text": [
        "\n",
        "complex: Tery_0115"
       ]
      },
      {
       "output_type": "stream",
       "stream": "stdout",
       "text": [
        "\n",
        "complex: Tery_0161"
       ]
      },
      {
       "output_type": "stream",
       "stream": "stdout",
       "text": [
        "\n",
        "complex: Tery_0163"
       ]
      },
      {
       "output_type": "stream",
       "stream": "stdout",
       "text": [
        "\n",
        "complex: Tery_0179"
       ]
      },
      {
       "output_type": "stream",
       "stream": "stdout",
       "text": [
        "\n",
        "46 29 10\n"
       ]
      }
     ],
     "prompt_number": 20
    },
    {
     "cell_type": "code",
     "collapsed": false,
     "input": [
      "%%html\n",
      "<style>\n",
      "img {width:300px;\n",
      "     height:300px;}\n",
      "</style>"
     ],
     "language": "python",
     "metadata": {},
     "outputs": [
      {
       "html": [
        "<style>\n",
        "img {width:300px;\n",
        "     height:300px;}\n",
        "</style>"
       ],
       "metadata": {},
       "output_type": "display_data",
       "text": [
        "<IPython.core.display.HTML at 0x10446c150>"
       ]
      }
     ],
     "prompt_number": 3
    },
    {
     "cell_type": "markdown",
     "metadata": {},
     "source": [
      "| Gene | sim | 004 | 019 |\n",
      "| :---------: | :---: | :---: | :---: |\n",
      "| Tery_0001 | <img src=\"Tery_0001_simIMS101.png\"> | <img src=\"Tery_0001_004.png\"> | <img src=\"Tery_0001_019.png\"> |\n",
      "| Tery_0011 | <img src=\"Tery_0011_simIMS101.png\"> | <img src=\"Tery_0011_004.png\"> | <img src=\"Tery_0011_019.png\"> |\n",
      "| Tery_0012 | <img src=\"Tery_0012_simIMS101.png\"> | <img src=\"Tery_0012_004.png\"> | <img src=\"Tery_0012_019.png\"> |\n",
      "| Tery_0013 | <img src=\"Tery_0013_simIMS101.png\"> | <img src=\"Tery_0013_004.png\"> | <img src=\"Tery_0013_019.png\"> |\n",
      "| Tery_0014 | <img src=\"Tery_0014_simIMS101.png\"> | <img src=\"Tery_0014_004.png\"> | <img src=\"Tery_0014_019.png\"> |\n",
      "| Tery_0019 | <img src=\"Tery_0019_simIMS101.png\"> | <img src=\"Tery_0019_004.png\"> | <img src=\"Tery_0019_019.png\"> |\n",
      "| Tery_0021 | <img src=\"Tery_0021_simIMS101.png\"> | <img src=\"Tery_0021_004.png\"> | <img src=\"Tery_0021_019.png\"> |\n",
      "| Tery_0027 | <img src=\"Tery_0027_simIMS101.png\"> | <img src=\"Tery_0027_004.png\"> | <img src=\"Tery_0027_019.png\"> |\n",
      "| Tery_0035 | <img src=\"Tery_0035_simIMS101.png\"> | <img src=\"Tery_0035_004.png\"> | <img src=\"Tery_0035_019.png\"> |\n",
      "| Tery_0037 | <img src=\"Tery_0037_simIMS101.png\"> | <img src=\"Tery_0037_004.png\"> | <img src=\"Tery_0037_019.png\"> |\n",
      "| Tery_0043 | <img src=\"Tery_0043_simIMS101.png\"> | <img src=\"Tery_0043_004.png\"> | <img src=\"Tery_0043_019.png\"> |\n",
      "| Tery_0045 | <img src=\"Tery_0045_simIMS101.png\"> | <img src=\"Tery_0045_004.png\"> | <img src=\"Tery_0045_019.png\"> |\n",
      "| Tery_0046 | <img src=\"Tery_0046_simIMS101.png\"> | <img src=\"Tery_0046_004.png\"> | <img src=\"Tery_0046_019.png\"> |\n",
      "| Tery_0047 | <img src=\"Tery_0047_simIMS101.png\"> | <img src=\"Tery_0047_004.png\"> | <img src=\"Tery_0047_019.png\"> |\n",
      "| Tery_0058 | <img src=\"Tery_0058_simIMS101.png\"> | <img src=\"Tery_0058_004.png\"> | <img src=\"Tery_0058_019.png\"> |\n",
      "| Tery_0060 | <img src=\"Tery_0060_simIMS101.png\"> | <img src=\"Tery_0060_004.png\"> | <img src=\"Tery_0060_019.png\"> |"
     ]
    },
    {
     "cell_type": "heading",
     "level": 2,
     "metadata": {},
     "source": [
      "Whole graphs:"
     ]
    },
    {
     "cell_type": "code",
     "collapsed": false,
     "input": [
      "!/Applications/Bandage_Mac_v0/Bandage.app/Contents/MacOS/Bandage image sim_IMS101/assembly_graph.fastg sim_IMS101/sim_IMS101_whole_graph.png --scope entire --query IMS101_unique_genes.fasta --ifilter 90 "
     ],
     "language": "python",
     "metadata": {},
     "outputs": [],
     "prompt_number": 33
    },
    {
     "cell_type": "code",
     "collapsed": false,
     "input": [
      "!/Applications/Bandage_Mac_v0/Bandage.app/Contents/MacOS/Bandage image 004/assembly_graph.fastg 004/004_whole_graph.png --scope entire --query IMS101_unique_genes.fasta --ifilter 70 "
     ],
     "language": "python",
     "metadata": {},
     "outputs": [],
     "prompt_number": 32
    },
    {
     "cell_type": "code",
     "collapsed": false,
     "input": [
      "!/Applications/Bandage_Mac_v0/Bandage.app/Contents/MacOS/Bandage image 019/assembly_graph.fastg 019/019_whole_graph.png --scope entire --query IMS101_unique_genes.fasta --ifilter 70 "
     ],
     "language": "python",
     "metadata": {},
     "outputs": [],
     "prompt_number": 35
    },
    {
     "cell_type": "markdown",
     "metadata": {},
     "source": [
      "##Simulated IMS101\n",
      "<img src=\"sim_IMS101/sim_IMS101_whole_graph.png\", style=\"width:500px;height:500px\">\n",
      "##004\n",
      "<img src=\"004/004_whole_graph.png\", style=\"width:800px;height:800px\">\n",
      "##019\n",
      "<img src=\"019/019_whole_graph.png\", style=\"width:800px;height:800px\">"
     ]
    },
    {
     "cell_type": "code",
     "collapsed": false,
     "input": [
      "paths_IMS101 = Paths()\n",
      "paths_004 = Paths()\n",
      "paths_019 = Paths()\n",
      "\n",
      "paths_IMS101.load_paths('sim_IMS101/unique_genes_paths.tsv')\n",
      "paths_004.load_paths('004/unique_genes_paths.tsv')\n",
      "paths_019.load_paths('019/unique_genes_paths.tsv')\n"
     ],
     "language": "python",
     "metadata": {},
     "outputs": [],
     "prompt_number": 25
    },
    {
     "cell_type": "code",
     "collapsed": false,
     "input": [
      "def path_count(tery, paths):\n",
      "    gene_obj = paths.get_gene(tery)\n",
      "    \n",
      "    if gene_obj:\n",
      "        count = len(gene_obj.paths)\n",
      "        return count\n",
      "    else:\n",
      "        return 0\n",
      "        \n",
      "path_count_file = open('path_counts.csv', 'w')\n",
      "header = 'Gene, IMS101 paths, 004 paths, 019 paths\\n'\n",
      "path_count_file.write(header)\n",
      "\n",
      "for tery in [g.name for g in paths_IMS101.genes]:\n",
      "    path_count_file.write('%s,%d,%d,%d\\n' % (tery,\n",
      "                                             path_count(tery, paths_IMS101),\n",
      "                                             path_count(tery, paths_004),\n",
      "                                             path_count(tery, paths_019)))\n",
      "    \n",
      "path_count_file.close()"
     ],
     "language": "python",
     "metadata": {},
     "outputs": [],
     "prompt_number": 26
    },
    {
     "cell_type": "code",
     "collapsed": false,
     "input": [
      "from Bio import SeqIO\n",
      "\n",
      "outIMS101 = open('IMS101_nuc_paths.fasta', 'w')\n",
      "out004 = open('004_nuc_paths.fasta', 'w')\n",
      "out019 = open('019_nuc_paths.fasta', 'w')\n",
      "\n",
      "for P, o in zip([paths_IMS101, paths_004, paths_019], [outIMS101, out004, out019]):\n",
      "    path_seqs = []\n",
      "    for g in P.genes:\n",
      "        for p in g.paths:\n",
      "            path_seqs.append(p.seq)\n",
      "    SeqIO.write(path_seqs, o, 'fasta')"
     ],
     "language": "python",
     "metadata": {},
     "outputs": [],
     "prompt_number": 27
    },
    {
     "cell_type": "markdown",
     "metadata": {},
     "source": [
      "Now filter out paralogues:"
     ]
    },
    {
     "cell_type": "code",
     "collapsed": false,
     "input": [
      "paths_IMS101.filter_paralogues()\n",
      "paths_004.filter_paralogues()\n",
      "paths_019.filter_paralogues()\n",
      "\n",
      "path_count_file = open('path_counts_noPara.csv', 'w')\n",
      "header = 'Gene, IMS101 paths, 004 paths, 019 paths\\n'\n",
      "path_count_file.write(header)\n",
      "\n",
      "for tery in [g.name for g in paths_IMS101.genes]:\n",
      "    path_count_file.write('%s,%d,%d,%d\\n' % (tery,\n",
      "                                             path_count(tery, paths_IMS101),\n",
      "                                             path_count(tery, paths_004),\n",
      "                                             path_count(tery, paths_019)))\n",
      "    \n",
      "path_count_file.close()"
     ],
     "language": "python",
     "metadata": {},
     "outputs": [],
     "prompt_number": 28
    },
    {
     "cell_type": "code",
     "collapsed": false,
     "input": [
      "from Bio import SeqIO\n",
      "\n",
      "outIMS101 = open('IMS101_nuc_paths_noPara.fasta', 'w')\n",
      "out004 = open('004_nuc_paths_noPara.fasta', 'w')\n",
      "out019 = open('019_nuc_paths_noPara.fasta', 'w')\n",
      "\n",
      "for P, o in zip([paths_IMS101, paths_004, paths_019], [outIMS101, out004, out019]):\n",
      "    path_seqs = []\n",
      "    for g in P.genes:\n",
      "        for p in g.paths:\n",
      "            path_seqs.append(p.seq)\n",
      "    SeqIO.write(path_seqs, o, 'fasta')"
     ],
     "language": "python",
     "metadata": {},
     "outputs": [],
     "prompt_number": 29
    },
    {
     "cell_type": "code",
     "collapsed": false,
     "input": [
      "from Bio.Seq import Seq\n",
      "from Bio.SeqRecord import SeqRecord\n",
      "from Bio.Alphabet import IUPAC\n",
      "from Bio.Align import AlignInfo\n",
      "from Bio import AlignIO\n",
      "from Bio import SeqIO\n",
      "\n",
      "def consensus(alignment):\n",
      "    \n",
      "    ambig_dict = {'A': 'A',\n",
      "                  'C': 'C',\n",
      "                  'G': 'G',\n",
      "                  'T': 'T',\n",
      "                  'AG': 'R',\n",
      "                  'CT': 'Y',\n",
      "                  'CG': 'S',\n",
      "                  'AT': 'W',\n",
      "                  'GT': 'K',\n",
      "                  'AC': 'M',\n",
      "                  'CGT': 'B',\n",
      "                  'AGT': 'D',\n",
      "                  'ACT': 'H',\n",
      "                  'ACG': 'V',\n",
      "                  'ACGT': 'N'\n",
      "                  }\n",
      "    \n",
      "    consensus = ''\n",
      "    for pos in range(0, len(alignment[1].seq)):\n",
      "        bases = [b for b in alignment[:,pos] if b in set(['A', 'C', 'T', 'G'])]\n",
      "        baseSet = ''.join( sorted( set(bases) ) )\n",
      "        #print baseSet\n",
      "        if baseSet:\n",
      "            #I think the only reason we wouldnt find a baseSet would be because we had a gap in all the sequences in the alignmrnt\n",
      "            consensus += ambig_dict.get(baseSet, None)\n",
      "            \n",
      "    return Seq(consensus)\n",
      "\n",
      "\n",
      "\n",
      "unambig1 = SeqRecord(seq=Seq('CATGACTTCGTGCGATCGATTGACTAGTCGTGTAGCGGCGCGATGTCA'), id='seq1')\n",
      "unambig2 = SeqRecord(seq=Seq('CACGATTTCGTACGATCGATTGACTAGTCGTGTAGCGGCGCGATGTCA'), id='seq2')\n",
      "\n",
      "SeqIO.write([unambig1, unambig2], 'temp_align.fasta', 'fasta')\n",
      "\n",
      "alignment = AlignIO.read('temp_align.fasta', 'fasta')\n",
      "\n",
      "cons = consensus(alignment)\n",
      "print cons"
     ],
     "language": "python",
     "metadata": {},
     "outputs": [
      {
       "output_type": "stream",
       "stream": "stdout",
       "text": [
        "CAYGAYTTCGTRCGATCGATTGACTAGTCGTGTAGCGGCGCGATGTCA\n"
       ]
      }
     ],
     "prompt_number": 30
    },
    {
     "cell_type": "code",
     "collapsed": false,
     "input": [
      "#Downloaded IMS101 gene nucleotide sequences from NCBI (12/4/16). Sequence ids need reformatting. Current format is lcl|CP000393.1_gene_1 [locus_tag=Tery_0001] [location=27..1397]\n",
      "\n",
      "from Bio import SeqIO\n",
      "\n",
      "fasta = SeqIO.parse('/Users/ajb1d14/Dropbox/Job/fasta/dna/IMS101_genes_nucl.fasta.txt','fasta')\n",
      "\n",
      "formatted = []\n",
      "for f in fasta:\n",
      "    new_id = f.description.split('locus_tag=')[1].split(']')[0]\n",
      "    f.id = new_id\n",
      "    f.description = ''\n",
      "    formatted.append(f)\n",
      "    \n",
      "SeqIO.write(formatted, '/Users/ajb1d14/Dropbox/Job/fasta/dna/IMS101_genes_nucl.fasta','fasta')"
     ],
     "language": "python",
     "metadata": {},
     "outputs": [
      {
       "metadata": {},
       "output_type": "pyout",
       "prompt_number": 63,
       "text": [
        "5124"
       ]
      }
     ],
     "prompt_number": 63
    },
    {
     "cell_type": "code",
     "collapsed": false,
     "input": [
      "import subprocess\n",
      "import sys\n",
      "import os\n",
      "import shutil\n",
      "from Bio import SeqIO\n",
      "from Bio import AlignIO\n",
      "from Bio.Align.Applications import MuscleCommandline\n",
      "from Bio.Align import AlignInfo\n",
      "from Bio.Alphabet import IUPAC\n",
      "\n",
      "if os.path.exists('./alignments'):\n",
      "    shutil.rmtree('alignments/')\n",
      "os.makedirs('alignments')\n",
      "\n",
      "muscle_cline = MuscleCommandline('/Users/ajb1d14/Applications/muscle3.8.31_i86darwin32')\n",
      "print muscle_cline\n",
      "\n",
      "IMS101_fasta = SeqIO.parse('/Users/ajb1d14/Dropbox/Job/fasta/dna/IMS101_genes_nucl.fasta', 'fasta')\n",
      "IMS101_genes = {s.id: s for s in IMS101_fasta}\n",
      "\n",
      "for gene in paths_004.genes:\n",
      "    if len(gene.paths) > 1 and len(gene.paths) < 100:\n",
      "        IMS101_gene = IMS101_genes[gene.name]\n",
      "#        print IMS101_gene\n",
      "        print gene.name + ':'\n",
      "        \n",
      "        child = subprocess.Popen(str(muscle_cline),\n",
      "                                 stdin=subprocess.PIPE,\n",
      "                                 stdout=subprocess.PIPE,\n",
      "                                 stderr=subprocess.PIPE,\n",
      "                                 universal_newlines=True,\n",
      "                                 shell=True\n",
      "                                 )\n",
      "\n",
      "        to_align = [IMS101_gene]\n",
      "        \n",
      "        for path in gene.paths:\n",
      "            print '%s to %s, %d nodes (%.2f%% id)' % (path.start_node, path.end_node, path.num_nodes, path.identity)\n",
      "            to_align.append(path.seq)\n",
      "    \n",
      "\n",
      "\n",
      "        SeqIO.write(to_align, child.stdin, 'fasta')\n",
      "        child.stdin.close()\n",
      "\n",
      "        aligned = AlignIO.read(child.stdout, 'fasta', alphabet=IUPAC.ambiguous_dna)\n",
      "        aligned.sort()\n",
      "        AlignIO.write(aligned, './alignments/' + IMS101_gene.id + '.clw', 'clustal')\n",
      "        \n",
      "        #The IMS101 gene should be at the top after sorting ('Tery' comes before 'path') - don't include this when calculating the consensus\n",
      "        cons = consensus(aligned[1:])\n",
      "        print cons.translate()\n",
      "\n",
      "#        summary = AlignInfo.SummaryInfo(aligned)\n",
      "#        print summary.dumb_consensus()\n",
      "#        print summary.information_content(chars_to_ignore=['X', '-'])\n",
      "        \n"
     ],
     "language": "python",
     "metadata": {},
     "outputs": [
      {
       "output_type": "stream",
       "stream": "stdout",
       "text": [
        "/Users/ajb1d14/Applications/muscle3.8.31_i86darwin32\n",
        "Tery_0001:"
       ]
      },
      {
       "output_type": "stream",
       "stream": "stdout",
       "text": [
        "\n",
        "16776+, to 29075+, 2 nodes (92.57% id)\n",
        "16776+, to 29074+, 2 nodes (92.37% id)\n",
        "VETYLDNLWNQVLERLQLQLSKPTFETWIKTATAEQLENNCLVIHAPNPFARNWLQKYYVKTITDVVHDILGYPVEIYLTTSLVEDAGKDDSGLIWSEHKVSTLIGENSSIPKPRPVNLNPKYMFSRFVVGPNNRMAHAASLAVAESPGQEFNPLFLCGGVGLGKTHLMQAIGHYRLEIFPDSQIFYVSTEKFTNDLIAAIRKDSLQSFRKHYRAADVLLVDDIQFIEGKEYTQEEFFHTFNTLHEAGKQVVLASDRPPNQIPSLQERLCSRFSMGLIADIQAPDLETRMAILLKKSEYENMVLPRDIIEYIATRYPSNIRELEGALTRVVTYISISGLPMTVDNIAPILNPQTEKIEVSPEVVIKVVSENFNVSIEDLKSSSRKREITLARQIGMYLMRQHTDLSLPKIGEVFGGKDHTTVLYSCDKINQLQNSDLNLXQTIRKLRDRINFSNRH"
       ]
      },
      {
       "output_type": "stream",
       "stream": "stdout",
       "text": [
        "\n",
        "Tery_0019:\n",
        "9804-, to 5572-, 3 nodes (93.60% id)\n",
        "9804-, to 5572-, 3 nodes (93.45% id)\n",
        "MPENFRSQLVTKGVQRAPNRAMLRAVGFEDSDFTKPIIGVANAHSTITPCNMGINDLAMRAVNGVKEAGGMPQIFGTITISDGISMGTEGMKYSLVSRDVIADSIETVCNGQTMDGVLAIGGCDKNMPGAMIAIARMNIPAIFVYGGTIKPGNYNGKDLTVVSAFEAVGQYSAGKIDEIELTEVERRACPGAGSCGGMFTANTMSSAFEAMGMSLMYSSTMAAEDTEKADSTEKSAHTLVEAIRKQILPRQIITRKAIENAISVIMAVGGSTNAVLHLLAIAHAADVKLSLDDFEIIRARVPVLCDLKPSGRYVTTNLHQAGGIPIVMKMLLEHDLLHPDALTITGKTIAEQLADVPSQLPSDQDVIRPWNNPMYAQGHLAILKGNMANEGAVAKITGVKNPEITGPARVFESEEACLEAILAGKIQAGDIIVVRYEGPKGGPGMREMLAPTSAIIGAGLGDKVGLXTDGRFSGGTYGMVVGHVAPEAAVGGAIALVEEGDMITIDAHKRLLRLNISDEELEKRRQAWEPPTPRYNRGVLAKYAKLVSSSSVGAVTDAG"
       ]
      },
      {
       "output_type": "stream",
       "stream": "stdout",
       "text": [
        "\n",
        "Tery_0027:\n",
        "29596-, to 1113-, 3 nodes (86.04% id)\n",
        "29596-, to 1113-, 4 nodes (81.71% id)\n",
        "29596-, to 1114-, 3 nodes (81.25% id)\n",
        "MSTLVIVESPTKARTIRNYLPSEYRVEASMGHVRDLPPSAEEIPEKFKREKWAQLGVNVESDFEPIYVVPKDKKKTVKELKDALKEVDELVLATDEDREGESISWHLLQLLKPKVPTKRMVFHEITPEAIRRAIDNCRNIDEQLVRAQETRRILDRLYGYTLSPVLWKKIAWGLSAGRVQSVAVRLLVNRERQRQSFKQGGYWDLKASLEQEKTPFESKLVTLGGLKIATGSDFDENTGKIAEGRHVILLNEAQAEALKEKLQYQPWTVNSVDERAVKRKPSPPFTTSTLQQEANRKLRMGARQTMRIAQSLYEQGFITYMRTDSVHLSDEAIAAARSCVEKMYGLEYLSPKPRQYTTKSKGAQEAHEAIRPAGKTFRTPQETGLKAQEFALYDLIWKRTVACQMADSRQTHITVNLQVEDAGFRSNGKRIDFPGFLRAYVEGSDDPEVALENQEVPLPAIKQGDHPTCIGIEVTGHETQPPARFTEASLVKTLESEGIGRPSTYATVIGTIVDRGYAKLQSNALVPTFTAFAVTSLLEKHFPEFVDVKFTARMEQTLDDISTGEAQWLPYLKKFYFGESGLDTQIKEQENQIDPKLARTIELDNLNANSEMTYRICIGKFGAYIEAGNGEDIVKASIPEDLTPSDLDPEQIEKLLKQKTDGPEELGTHPEQDKPIYIMTGRYGPYVQLGDESEGSKKKPKRASLPKGVNMEDVTLDLAVGLLSLPRTLGTHPETGCIIQTNLGRFGPYIVHDQGKENGKDYRSLKAEDNXLTITLERALELLAQPXRSSSXXGXIXKXXPPLKDLGKHPENGEAVGVYDGRYGPYVKHGKVNASLPKDMSVEDVTLEKALELL"
       ]
      },
      {
       "output_type": "stream",
       "stream": "stdout",
       "text": [
        "\n",
        "Tery_0037:\n",
        "2380+, to 9454-, 7 nodes (89.01% id)\n",
        "2380+, to 21166+, 7 nodes (89.01% id)\n",
        "2380+, to 21167+, 7 nodes (89.01% id)\n",
        "9146+, to 9454-, 10 nodes (88.58% id)\n",
        "9146+, to 21166+, 10 nodes (88.58% id)\n",
        "9146+, to 21167+, 10 nodes (88.58% id)\n",
        "25742+, to 9454-, 8 nodes (87.96% id)\n",
        "25742+, to 21166+, 8 nodes (87.96% id)\n",
        "25742+, to 21167+, 8 nodes (87.96% id)\n",
        "4851-, to 9454-, 5 nodes (86.44% id)\n",
        "4851-, to 21166+, 5 nodes (86.44% id)\n",
        "4851-, to 21167+, 5 nodes (86.44% id)\n",
        "19284-, to 9454-, 4 nodes (82.97% id)\n",
        "19284-, to 21166+, 4 nodes (82.97% id)\n",
        "19284-, to 21167+, 4 nodes (82.97% id)\n",
        "MPGXKKGXKVXGEQEGKRGKRENLVAGRRKKEKDLIGPIIFKGSLNAVGFEQWYDQHLLPSLKIPSXL"
       ]
      },
      {
       "output_type": "stream",
       "stream": "stdout",
       "text": [
        "\n",
        "Tery_0043:\n",
        "6249-, to 10354+, 9 nodes (90.95% id)\n",
        "6249-, to 10354+, 9 nodes (90.95% id)\n",
        "6249-, to 10354+, 9 nodes (90.95% id)\n",
        "6249-, to 10354+, 9 nodes (90.95% id)\n",
        "6249-, to 10354+, 8 nodes (90.99% id)\n",
        "6249-, to 10354+, 8 nodes (90.99% id)\n",
        "6249-, to 10354+, 8 nodes (90.99% id)\n",
        "6249-, to 10354+, 8 nodes (90.99% id)\n",
        "6249-, to 10354+, 8 nodes (90.83% id)\n",
        "6249-, to 10354+, 8 nodes (90.83% id)\n",
        "6249-, to 10354+, 8 nodes (90.83% id)\n",
        "6249-, to 10354+, 8 nodes (90.83% id)\n",
        "MSDWQVITGGVTAPKGYQATGIPAGLKPSGAEDLALILSDVDAIAAGVFTTTQVRAACVDYCRLHLENKPSARAILCNAGQANAATGDLGWQDAMESATELGKVLNISPESILLASTGVIGKRIKMDALKAALPQLVSTVSVEGGKAAAKAIVTTDLVTKSIALETLMSDRPVRIGGIAKGSGMIHPNMATMLSFITCDAVVSPQLWQEMLTRAVNRSFNQITVDGDTSTNDTVIALANGQSRTSAITNMGSEAEKLEAMLTEVCIYLAKAIARDGEGATCLIEVQVTGTSNEVSANKIAKTIAGSSLVKSAIFGRDPNWGRIAAAAGRAGVKFEQEDLQVKLGDFLLMENGQPLDFDRAAAREYLKQKAAGEYLKDDTVLIAVNVGDGIGSGKAWGCDLSYDYVKINAEYTT"
       ]
      },
      {
       "output_type": "stream",
       "stream": "stdout",
       "text": [
        "\n",
        "Tery_0047:\n",
        "8412+, to 24853-, 2 nodes (91.32% id)\n",
        "8411+, to 24853-, 2 nodes (88.17% id)\n",
        "MQILHLNLKLKGDDSVXFRXYWDXPXDXZXFQRSRGEISXLIKKSEAEYYTHLPVXYTQTGQNLYEWLNGDKRDLDRVIXDGSXXXGIVLAIATSEGLSHLPWELLHBGKDFLVNSTPXIVPVRWVPNSRSMKXXXMEDXPKNEALSVAFMPASPHNKPKLDLVAEEIXILKASQESPXSLEIEYSGCLNKLKGLINXHDXGFFDVLHLAGHAENXYFITETESGEAEYSSAXDIAXALLFKNPXLIFLSACRTAYSREXXIPSMAESLVXKGFKAVXGWGDRVLDTSAIAAAXXXYQXLSSGSTVTZAXAXTYRKLIETEKGWHXLRLYVKESLPGALVTXSXXXGRIPPHRKITTLPVKNCYYQXKQCVSILKQDSKKGVLILGKSTITSLYTDALCERLPKSKIVKLNQQIDELEFVNKLASELENSEQRNALCNAFQRGEKLKYSLRDLFKKRNETGLEPL"
       ]
      },
      {
       "output_type": "stream",
       "stream": "stdout",
       "text": [
        "\n",
        "Tery_0058:\n",
        "11854+ to 11854+, 1 nodes (85.59% id)\n",
        "11854+ to 11854+, 1 nodes (91.94% id)\n",
        "YRYSMEFTCLFLTLNLSHNTSELQILFISFFLLTQKLL*WLK*NSKY***IY*FH*LLPNL*LHT*SGKHKL*NAQENVFIVTFPISTLVILIIKKWM*LAQY*RVLTSLIQILKKQILRIQI*QKQNSIAPTYKKLTYRGLSSREPTFGGRISRMPIYGELI*RKLFFGMLI*ERQICGILI*IMPALLMLN*KVQFYPMVLYILT"
       ]
      },
      {
       "output_type": "stream",
       "stream": "stdout",
       "text": [
        "\n",
        "Tery_0064:\n",
        "1128+, to 27615+, 7 nodes (82.59% id)\n",
        "12757+, to 27615+, 7 nodes (82.22% id)\n",
        "1128+, to 27614+, 7 nodes (82.59% id)\n",
        "12757+, to 27614+, 7 nodes (82.22% id)\n",
        "1128+, to 14958-, 7 nodes (81.85% id)\n",
        "12757+, to 14958-, 7 nodes (81.48% id)\n",
        "1128+, to 14966+, 7 nodes (81.85% id)\n",
        "12757+, to 14966+, 7 nodes (81.48% id)\n",
        "1128+, to 22287+, 6 nodes (81.38% id)\n",
        "12757+, to 22287+, 6 nodes (80.95% id)\n",
        "1128+, to 9077-, 6 nodes (81.38% id)\n",
        "12757+, to 9077-, 6 nodes (80.95% id)\n",
        "1128+, to 12314-, 5 nodes (82.54% id)\n",
        "12757+, to 12314-, 5 nodes (82.01% id)\n",
        "1128+, to 30909+, 4 nodes (80.57% id)\n",
        "12757+, to 30909+, 4 nodes (79.86% id)\n",
        "1128+, to 15229-, 4 nodes (80.57% id)\n",
        "12757+, to 15229-, 4 nodes (79.86% id)\n",
        "ITKILKVKTYNLL*YXKH*LRQKSLLDKWYILSNLSSPEKIKKIYSQRMGIEAMFKDYKTGGYNLEXAKANEIRLNNLILLIAISYTISSFQXQK"
       ]
      },
      {
       "output_type": "stream",
       "stream": "stdout",
       "text": [
        "\n",
        "Tery_0108:\n",
        "13846-, to 7681-, 2 nodes (83.81% id)\n",
        "13847-, to 7681-, 2 nodes (83.81% id)\n",
        "MSENKLLLASNTLWEKLKQQTEYALVSGALEPIPTEYEFVEQDNIPFLVRILSNLSRKDEARKEQEKNKVVTAKDFNPFLPYENDLFVADISRTHLCLLNKYNVVDYHLLIVTREFEEQENLLNLQDFQALGSCMGEFESLAFYNSGKTAGASQRHKHLQVVPLPMVPGGEKIPIDRAIATAKFNNGIGVTSKFPFRHAIAKLDNVWVHSPIESATTILEFYLILLKALGIEGSDGKSGKQSGNYNLLVTREWMLVVPRSYEDFQSISVNSLGFAGTLFVKNQEQMNIIKEHKPLTILRHVASA"
       ]
      },
      {
       "output_type": "stream",
       "stream": "stdout",
       "text": [
        "\n",
        "Tery_0140:\n",
        "1019-, to 1018+, 2 nodes (91.04% id)\n",
        "1019-, to 1017+, 2 nodes (90.55% id)\n",
        "ILSPYQSKLQSWPGLIEAYRSYLPVTEETPVVSLREGNTPLIPVPQIAYQVGRQVEVFVKYDGLNPTGSFKDRGMTLAISKAKEAGAKAVICASTGNTSAAAAAYARRGGMRAFVLIPDGYVAQGKLAQALLYGAEVLAIKGNFDQALEIVQDVANKYPVTLVNSVNPYRLEGQKTGAFEVVDTLGDAPDWLCIPVGNAGNITAYWMGFCTYHQIQKCDRLPKMMGFQAAGSAPIVKGXPIXHPETVASAIRIGNPASWKKAIDAQQASQGGFTAVTDEEILEAYRLLASNEGIFCEPASAASVAGLLKLKDQVPRGAQIVCVLTGNGLKDPDVAIKHSHNBXYHVGIEATTEAVAEIIGL"
       ]
      },
      {
       "output_type": "stream",
       "stream": "stdout",
       "text": [
        "\n",
        "Tery_0161:\n",
        "12047+, to 21612+, 2 nodes (91.59% id)\n",
        "12047+, to 21613+, 2 nodes (90.64% id)\n",
        "MTTETISKRIGVFDSGIGGLTVLRELYRQLPNESILYFGDTARLPYGTRTTEEILQFVDEIIGWLVKSEVKMVLMACNTSSALALEKVKSKFDIPILGLIVPGANAAVEQGKRIGVIATPATAASNAYRHAILEADASVQVWQVGCPYFVPLIEQNQLHDPYTYQIAEEYLXPLIQQQIDTLVYGCTHYPYLEPILRSLLPKSVNFVDPAVSLVKVXARELEIMDLQNXNXPKPTKFVVSASPQKFADLSLQLLGYKPXIQXISLPTIL"
       ]
      },
      {
       "output_type": "stream",
       "stream": "stdout",
       "text": [
        "\n",
        "Tery_0179:\n",
        "15529+, to 2878-, 10 nodes (95.60% id)\n",
        "12486+, to 2878-, 10 nodes (95.93% id)\n",
        "15529+, to 18825-, 10 nodes (94.52% id)\n",
        "4834-, to 18825-, 10 nodes (94.69% id)\n",
        "15529+, to 2879+, 10 nodes (95.76% id)\n",
        "4834-, to 2879+, 10 nodes (95.93% id)\n",
        "19438-, to 2878-, 10 nodes (93.41% id)\n",
        "1989+, to 2878-, 10 nodes (93.24% id)\n",
        "1988+, to 2879+, 10 nodes (94.09% id)\n",
        "863-, to 2878-, 10 nodes (91.71% id)\n",
        "863-, to 2879+, 10 nodes (94.18% id)\n",
        "15995-, to 30016+, 10 nodes (95.05% id)\n",
        "864+, to 30016+, 10 nodes (95.05% id)\n",
        "2850-, to 18825-, 10 nodes (92.31% id)\n",
        "4834-, to 18825-, 9 nodes (94.31% id)\n",
        "12486+, to 2026+, 10 nodes (94.72% id)\n",
        "12486+, to 14632+, 10 nodes (95.18% id)\n",
        "2850-, to 30016+, 10 nodes (93.06% id)\n",
        "12486+, to 4601-, 10 nodes (95.14% id)\n",
        "15529+, to 20362+, 10 nodes (95.51% id)\n",
        "12486+, to 20362+, 10 nodes (95.85% id)\n",
        "15529+, to 30016+, 9 nodes (95.14% id)\n",
        "15529+, to 31354-, 9 nodes (91.65% id)\n",
        "12486+, to 30016+, 9 nodes (95.49% id)\n",
        "12486+, to 31354-, 9 nodes (91.99% id)\n",
        "15529+, to 20361+, 10 nodes (95.48% id)\n",
        "15529+, to 31354-, 10 nodes (91.64% id)\n",
        "12486+, to 20361+, 10 nodes (95.81% id)\n",
        "12486+, to 31354-, 10 nodes (91.98% id)\n",
        "15529+, to 8812-, 10 nodes (91.62% id)\n",
        "12486+, to 8812-, 10 nodes (91.96% id)\n",
        "15529+, to 15913+, 10 nodes (91.97% id)\n",
        "12486+, to 15913+, 10 nodes (92.32% id)\n",
        "863-, to 31354-, 10 nodes (88.06% id)\n",
        "865+, to 8812-, 10 nodes (87.95% id)\n",
        "12486+, to 18825-, 6 nodes (93.63% id)\n",
        "2850-, to 25269+, 10 nodes (88.21% id)\n",
        "MPRKPRXJLPGYSYHXTCRCNNREFRLTRLECRQVFLFALKKVLDKFRFKLYALCIMSNHXHYLXEPXZPQELPKIMHWLNWYTAMCFNQMLNRTGHFWEKRYHSTGFKNTDKKRALNTLRYIHANPKAANMQSGFFYDFSNYGTYDRLTDDGXTXWHPAFLSLGKTLDXCAKNYRGFCXKYKPRXKXXXRXXWGSXFLPKVKKKNKKXXKXSPGQMXLPWADWEPPSNLVAEVARQFXLANCYDPZVAMXFFDDQ"
       ]
      },
      {
       "output_type": "stream",
       "stream": "stdout",
       "text": [
        "\n",
        "Tery_0190:\n",
        "33057+, to 23134-, 3 nodes (87.33% id)\n",
        "33057+, to 23134-, 3 nodes (86.77% id)\n",
        "DQEETCELLVIGGGLAGSATAYEALLKGRTVCITEITDWVGGQISSQGTSALDERGTQRSLLFYPRGYLKLRERIEEKYGKLNPGTCWVSVSCFMPYDGHGILFQMLEDAAKKGGGKLKWFPNTVIKELDISNNQINKAIAIQHQPAANTPPINTEALSQIIEDAYAYQNSTRFDKTIIQFVPQPFPNKTGGADWYVVEATETGEIIALADVPYRLGIDPQTYLNPSSPVETRDPYCTQGFTYTFAMEATETPQTHIEPPFYSQYVPYYSYELSRLANFHLVFSYRQIWSMKPDEPQPSNYRKRTIYPGDISMQNWTWGNDYRPGNQEDNLIYXRGQLQATGQLQPGGWMGGLRTETLHRGEENALGYFYWLVEGTTDSQLGEGVKQKYPNHRLLSGLDAPMGTAHGLSKYPYIRESRRIIGRVGKTXPKGFXVXEVDIAKKNFRBDXYQZXLAPDEFNYLWGIVGGFVPKDSQINSIQEIPERGRATIFPDSVGIGHYAIDFHPCMTKTPPEAPGNSERNGIRKGQGAAYPFQIPLRAMIPQKIDNLLVAGKSIATSYIAAAAYRVHSFEWSVGAATGTTIDFALERGIFPYELIDDIPSKEWELEILQSRLQENGNPIAFPKTSIFNNFWDEWK"
       ]
      },
      {
       "output_type": "stream",
       "stream": "stdout",
       "text": [
        "\n",
        "Tery_0222:\n",
        "27247+, to 10370-, 5 nodes (99.25% id)\n",
        "27247+, to 10370-, 5 nodes (99.25% id)\n",
        "27247+, to 10370-, 5 nodes (98.88% id)\n",
        "27247+, to 10370-, 5 nodes (98.88% id)\n",
        "MQLLEFPSYHFPTGVTGRLKEVLLDIVERVEISSDFSIRHPEYKPLDLPAEVVXRFQALPKQMRDKYLSLQLRSFLYGIYYNGSMQTSLALDSEENSRPLDLENNTFLGVEMEFYIQLEESNRGEGYFDSGWSVLREETDGALAVTKNGLRLHIEREKHLQESQKAAVVGDSVAIRMPKNLVQNGFYMAVGNLGSQSQVESESQSGVVRVYFNFTSEGAVVVMGSLTEKLNQVAVPFSFKVLYARDYYDRYDAGVLYFDKDNYELVRQVLSDVYRENKSYFKSEIPLFTMELAPGLGLAEEPDRKFASQESFGMNRCQMIANGLLKAWQQGDNSTEGRMRAILEQFSLLGIDLQRPYLNANSEDVYRVI"
       ]
      },
      {
       "output_type": "stream",
       "stream": "stdout",
       "text": [
        "\n",
        "Tery_0223:\n",
        "12525+, to 1549+, 8 nodes (95.15% id)\n",
        "12525+, to 1550+, 8 nodes (95.15% id)\n",
        "12525+, to 1549+, 7 nodes (94.53% id)\n",
        "12525+, to 1549+, 7 nodes (94.33% id)\n",
        "12525+, to 1550+, 7 nodes (94.53% id)\n",
        "12525+, to 1550+, 7 nodes (94.33% id)\n",
        "12525+, to 1549+, 7 nodes (94.74% id)\n",
        "12525+, to 1550+, 7 nodes (94.74% id)\n",
        "12525+, to 1549+, 6 nodes (94.03% id)\n",
        "12525+, to 1550+, 6 nodes (94.03% id)\n",
        "12525+, to 2267-, 4 nodes (95.49% id)\n",
        "MLQSITITAEDILKHIKLSLKTSELTEEIITRKIILDAAKEAGITVEVEELQKAADTMRFVNKLHSAQDTFAWLEKSCLSIDDFEEAVYISVVAQKLVAHLFADKVEPYFYENQLNYAGVVMYEVVLDDQDLGMELFYAIEEGETSFYDVAHEYIEDIELRRQGGYRGVLYRKDLKPEISAAVFAAKPPQMIKPXVTSKGVHLIXVEEIISAELDNKLRSQIFAELFDEWVKKQVESVEVXMGLDSNSKLIAA"
       ]
      },
      {
       "output_type": "stream",
       "stream": "stdout",
       "text": [
        "\n",
        "Tery_0224:\n",
        "27213-, to 12525+, 5 nodes (95.05% id)\n",
        "27213-, to 12525+, 5 nodes (94.93% id)\n",
        "27213-, to 12525+, 5 nodes (92.63% id)\n",
        "27213-, to 12525+, 5 nodes (91.62% id)\n",
        "MPQELNLTLESNGHKPLEVDLVTLEKSLKNSNYQQTAVTKLDESVDDWSFATKELLDALPQRWTRGLLYLLIGFVAIALPWGMFSQVDETGSARGRLEPQGGTFKQELNLTFTAYTQTAKVEKVYVKQGDKIKAGDILIELESRPIHDRLAQLQIQLQNQKNRLSKIQQQKNQLEIELRTQERQNESQKLEKLAQVGQARQNAQSLKTMYNLQEQEKLTQVHQAEQNLAALRRTLNLQREEKLVQVHQAEENLGALKRALSLQXEEKMAQLNQVKRQLKDSQIAYQLSEIRWQKAMKEVERYRNLWDQGVVTEIQLVENENIGRERQNILEKSQADVEQAKLRIEEQEGSYKRVIHQGKADIKQAELRLAEQKGSYERIINQGEADIEQAELRWAEQKKNYERVVNQVKADIKQAELRLNEQENSSKTITHSGKIAISKIQEQLQSMDSQIVSIQGEIAQTNKEIDSLNFQLEQRVVRAQQGGTIFNFPIKGVGDVVQQGEMIVEIAPRETSLLLKADMATTESGSLREGMEVKMKFDAYPFQDYGVVGGWLKEISPTSKMQETAQGNVAIYELKVELDEYCIPTANECVVLRPGDTATAEVVVRQRPLIDFILDPFKKLQKGGLEL"
       ]
      },
      {
       "output_type": "stream",
       "stream": "stdout",
       "text": [
        "\n",
        "Tery_0227:\n",
        "31864+, to 2343-, 2 nodes (90.17% id)\n",
        "31864+, to 2344-, 2 nodes (88.01% id)\n",
        "MNKEIFEYIYSSQLTKDDEKILKLLFANKQRKEIAKALKCVETNVSHKFKAIAKKFNYLESNQDCKPTEYLVKIFSKYKPDMVDQQLIKSYASYPILMPDKPEEADSPFYIERYQVPRRSVESQCYEAIEKPGSLIRIKAPKKMGKTSLINQIQARANDNNYISQYLRFDLLIEPPNITSVNNFIKAFNKNLISLFPDVSERPNWDDNNAKISCTKDLKSLLLNLHKNFVLILDEVDEIFQYPEITKDFCGMLRHWYEESNNVKIWKNLRIVIAYSTEYHGKLDIYQSPFNVGSSIELKEFTEKEVTRLILLYQLNSEIVTDLMSMVGGHPYLIRLALYSICEEELTIEKFLEEAPTDSGIYRDHFSRHLETINKRPKIKTVFQEILKANDPVSFSDKNREVRQLEAMGLIKIQGNKAKTRCQLYQKYFGEFLA*LKTGVRC*VLGVRF"
       ]
      },
      {
       "output_type": "stream",
       "stream": "stdout",
       "text": [
        "\n",
        "Tery_0302:\n",
        "17880+, to 23128-, 2 nodes (94.48% id)\n",
        "17880+, to 23127-, 2 nodes (94.48% id)\n",
        "MVAITDRVKNRLTIETNKIAPDTMAIRSLDWDRDRFDIEFGLQNGTTYNSFIIRGEKTALVDTSHGKFRQMYLDTLWGLIKPTEIDYLIISHTEPDHSGLAKDVIELAPQLTVVGAKIAIQFLENLTHIPFNKQIVKNGDQLDLGNGHVLEFVSAPNLHWPDTIFSYDRKTQTLFTCDAFGMHYCSEKTYDETLSDIEADYKFYYECLMGPNARSVLNAMKRMKTLGDINTIATGHGPLLRHNLVELTNRYEEWSKAKSKAETTVAVFYTSDYGYSDRLSQAIAHGIIKTGVAVEMMDLKSADPQEVRELVEMAKGIVIGAPPSTGLVGTTGEIAISTILAAANKKQAFGLFESGGGDDLSIYPLANQFKELGLKQAFPNITIKETPSELTYKLCEEAGTDAGQLLSLKKTIQQMKSLDNQLDKALGRLSGGLYIITATKGEVSSAMLASWVVQASFQPLGVSIAVAKDRAIEALMQVGDRFVLNVLREDNYQGLMRHFLKRFKPGADRFAGVNTQTANNGSPILSDALAYLECEVASRMEASDHWIIYATVDNGRVSDSDVLPAVHHRKVGNHY"
       ]
      },
      {
       "output_type": "stream",
       "stream": "stdout",
       "text": [
        "\n",
        "Tery_0363:\n",
        "8252-, to 21592-, 3 nodes (76.28% id)\n",
        "8252-, to 21592-, 5 nodes (76.16% id)\n",
        "8252-, to 21592-, 9 nodes (76.07% id)\n",
        "8252-, to 21592-, 7 nodes (76.07% id)\n",
        "MNYAPIDQIYQIFIVVPLTGLWIFGTAIIWPFNHSKNHGKTQIMSWEIFSPKISLAQPLTKPIVPEPNSTDTVVTPVTPSNNSAQTRFDITGGKYSEDNANLFHSLTRFNLGEKQIVNFISNPNIRNILTRVTGGEASIINGLIQVTGGNSSLFIMNPAGIIFGANSRLDVPRSFVVTTGLSIGFDDGWFNAVGENNYNILTGNPSTFSFPMTNSGVIINEGELTVEAGESVTLLGGTIINTGKISAPGGEITISTVPGENFVRISQEGRLLSLEIPTESSEISSTNHTEELQAFNYLLIPELLTGKSKNIEIATTIIVNDDNQIFLVGSNQVIPTDSGTTIVSGTLDISSAENSEFLNTSRINILGEKVGLFDANLNASGIYGSGNIRIGGDFSGLATVPNATRTYVDEKTKISATSSLGEGGNIVISSAEETIFFGKIEAISYVIEESRLVEPNSRKNIVEVSSQGTLIFDGTVNLGSPNTLGNLSLKSENIEILDGNIALEDNPLTGEAQTESQIAKSSIETISNTNIRIEASDNITIRDLSEAELNFSNVRGQISFIADSNQNDLGSFRIDSENTINTQGAGISIFGTTINTNNINTKGGELNLSSSQGFVMTNNLSTANLNTTVETNGGDININAQGDVITGEISSSGESSGGNININSQTGRIEITAVDIDTTSSNGRGGNVSMNAATDIDIENINAKGKQSGGNLDLRAENTLDLRVISTSSDNRETGNISLTGREINLLGGENSISSNGKLTLHSASENQNITLGGFENTAALNLTTSDLATLANGFASITIGKSENSGIITIYSPENSNNSGVRFRSPATIQAESITGTGTITGTDDAKITLNAKGDILTGNISAPGDISITSIQGKIKTGDVSANILENTIGNIDIVSGGAIETGELTTIGRTTGGNINLQAGDRLKTGKINSSATPGNAGEIKLSAENDIEVFSIRAEGGNIGANVEISTGSTLKIKDSFLSQNQNIASISTAGELAGGDINISTGKTFTVGDVTTNGSVGAITDGKITVSPDRSLPNRFNLKKVENSQPQNNNSSQTTTETESQTQKSQSQLDSAESSNSQEDNQTSLVTQTESSNSQEDNQTSLVTQXESSNSQEDNQTSLVTQTESSNSQEDNQTSLVTQTESSNSQEDNQTVVITQPKLVEASDNIEVEITQIPIEKDNEPSLNTNQEVQIVSQNPEPSLPILESSEMTNSVRENINNIESSISLKEQTSPALLLVVEDQHETIIELEQTNNSQLIPELLENPELTKIPEDNNSNITPPVSNILEDTNSSVTPSVSDQTVVIENPSLGKSLQKQTPTIVVEENITTTVPEISSHNFHQISLTDTVSQIELVRHREYISYLGKNISRRIATETDIRNTLSSVAKIGIRPVIVYVSAQPNYLELQLFLPNGKSVVTGIVKNRDEVIEVAKKFTNQIRTPSRLDSHDYLSNAQELYQWLITPIAEKLVENNINMIIFSMGRGLRTLPVAALHDGQQFLVEKYSLGLIPNFTLTNTEYVGLKGSQILAMGASEFSDQANQTPLPAVPVELKAIVNNLWPGKAFLNQEFTLENLKQERRKEKFRIIHLATHGEFHPGGADNSYIQFWDTKLSLKELGQLPLHEPQVELLVLSACTTALGDERAELGFAGLAHKAGVKSALASLWYVSDTGTLILMTEFYQHLSKKLIKAEALQKAQLAMLRGDVYIQDGHILRNGNQGIPLPQELARRVDKDLSHPYYWAAFTMIGSPW"
       ]
      },
      {
       "output_type": "stream",
       "stream": "stdout",
       "text": [
        "\n",
        "Tery_0370:\n",
        "34043+, to 13467-, 5 nodes (89.78% id)\n",
        "34043+, to 13467-, 5 nodes (89.52% id)\n",
        "34043+, to 13467-, 5 nodes (89.25% id)\n",
        "34043+, to 13467-, 5 nodes (88.98% id)\n",
        "LSGYLIYHPPRVVSDFESTRVYYDNTNGNQDPYVWNQKFLHTYCHITQMSPQVGNINFWISGDTFPDFSSLYCDLVFVVAEKLYWENPNTIKASDPIVDTDEAYNDHYSWFEQHHYXRRRRFTLKADPESSFQPQNISQELIDIVPFLXEEGFSLTQLRKNLRSGFNSKPMGLGLIATKLYSWLNQYANVKLSGAKLQKIRQENPYLTSARANSSCTKSSPRKSRSC"
       ]
      },
      {
       "output_type": "stream",
       "stream": "stdout",
       "text": [
        "\n",
        "Tery_0377:\n",
        "14971+, to 29732-, 6 nodes (97.82% id)\n",
        "14971+, to 29732-, 6 nodes (97.82% id)\n",
        "14971+, to 4709-, 6 nodes (97.82% id)\n",
        "14971+, to 4709-, 6 nodes (97.82% id)\n",
        "14971+, to 29732-, 6 nodes (97.51% id)\n",
        "14971+, to 29732-, 6 nodes (97.51% id)\n",
        "14971+, to 4709-, 6 nodes (97.51% id)\n",
        "14971+, to 4709-, 6 nodes (97.51% id)\n",
        "MNTNNRHYHITTFGCQMNKADSERMAGILDNMGLISSEDPNKADIILYNTCTIRDNAEQKVYSYLGRQAKRKHKQPDLTLIVAGCVAQQEGEALLRRVPELDLVMGPQHANRLQDLLEQVFNGNQVVATEPIHIVEDITKPRRDSKITAWVNIIYGCNEHCTYCVVPSVRGVEQSRTPEAIRAEMEELGRQGYQEITLLGQNIDAYGRDLPGVTKEGRNKYTLSDLLYYVHDVPGFERIRFATSHPRYFTERLIRACAELPKVCEHFHIPFQSGDNKLLKAMARGYTHEKYRRIIDXIRELMPDASISADAIVGFPGETEAQFENTLKLVEDIGFDQLNTAAYSPRPGTPAALWENQLSEEVKADRLQRLNHLVGVKAAERSQRYMGRIEEILVEDTNPKNAAQVMGRTRGNRLTFFEGDIAQLKGKLVKVKVTEVRPFSLTGEVKEFVLV"
       ]
      },
      {
       "output_type": "stream",
       "stream": "stdout",
       "text": [
        "\n",
        "Tery_0378:\n",
        "16606-, to 17176-, 4 nodes (96.52% id)\n",
        "16606-, to 17177-, 3 nodes (96.31% id)\n",
        "16606-, to 17176-, 3 nodes (95.87% id)\n",
        "VFEKFSQGRWLILSIFLTVLGNPVKVSGHPVLISSQDPETARTFWPSRTQTSSLAQVPDPIPPKTPEAPLPKFPIQIESPQLDITPPEASGNESESPEPYLRVKINKFEFVGYTAFTKEELEEVVKPFTQRPITFAELLQAEKAVTDKYVQAGYINSGAVILAGQNLKDGVVRIQIIEGEIEDIQVTVTGRLNPNYVRSRLVLATGKPFDQYKLLRALQLLQLDPLIAIIKAEVSAGPLPQASLLTVSVTQADSFSIESFANNSRAPNVGSFQRGLRLKQGNLLGFGDGLNASYTNSDGSNNFSFNYTIPFNARNGRIQLTTELTDTRVVESPFDDLDIMGESQYYELTVRQPIVQFPTQELALGLTFYRQNRESELLGEPFPLSPGANEKGETRISAIRLFQDWVKRNQAEVFAVRSQFSLGVGAFNATINDDLPDSRFFSWRGQGXYVRRLAKNSDSLLVVRTNIQLADRGLLPVEQFRIGGVNSVRGYRQDLSFTDNGLFLGTEXRLPIMRWDNVEGVLQIVPFVDFGVGWNSSDLPEPEHNSLXGVGFGLLWQMSDRLSARFDWGIPLMDVTSEEKTLQENGLYFTIDAKF"
       ]
      },
      {
       "output_type": "stream",
       "stream": "stdout",
       "text": [
        "\n",
        "Tery_0382:\n",
        "9876+, to 33118+, 2 nodes (96.16% id)\n",
        "25421+, to 33118+, 2 nodes (95.05% id)\n",
        "KRHGICHQQVMERRRALLIGITIFGEGLDNFSPTLEDVQVMKKCLEEKGGFEVIXEENLDRKDMEYVINKFFYESQKSDTLLIYVSSHGITDAEGTFYIATSDTSYDRDTEIITGAIEASYFHRQIKNCTSNSQVWLLDLCYSGAFVRGYSKGKNDSAENLLIQQLLNQKQRYQAISKGISSDNSVEIQQKEGLVIITSSAGDQKSYFMENQSDLSIFTYYAQLALNGDAANEEGKVTVDSFYKFLEVNIPKYVKDNIPKFKYGSGMKPEIHILHGEAYDIVLAKTQLEQKLQFRRNESKENLFKCKYQIEKPKNKLGIAQEEPEIIFKELPNTNLKREINQGQYQQKSFKILKSYTILSIVLLVSIFITTLVTKPPERVQQFKLQAFDQMMRWRPDEGPDKRLLIVTVTPEDIKYQKEMGWEIGGESLSDQAIIKVLDKLNTYKPLVIGLDIFRDFPAKDEHLKTQLAQNKSLIAVCKIKEEKNNSIGIEPPPEIQEKQRIGFADFPQDSGGVIRRQLLGMSIPENSLCSSYSFSLRIAIRYLKEKGIENRLGEFNQGNLKINEVPFHKLEKDAGGYHLPKREALGYQILLNYRSSEKIAETMTLKELLDGSRDSKLADLVKNKIVLIGTDAAEVGYEDMHLTPYNKKIPGIMIHGHMISQILSAVLDGRTLLWWWPQALENLWVWGWSFIGGILGICWSRQVFGRWFIWMTVVAVPVTLWGICFLVFIEIGGWLPLVPSILGFFLTGITIIVYHQTINDSIFL"
       ]
      },
      {
       "output_type": "stream",
       "stream": "stdout",
       "text": [
        "\n",
        "Tery_0385:\n",
        "12121+, to 14642-, 3 nodes (97.53% id)\n",
        "30696+, to 14642-, 3 nodes (97.76% id)\n",
        "12121+, to 11007-, 3 nodes (94.62% id)\n",
        "30696+, to 11007-, 3 nodes (94.84% id)\n",
        "MLNEQKTTRNIDSLFWLEWQKHQXYLYRCCVKWMGGNSTNAEDALSMAMLKAREKIQQCSRRIENFKAWLGKLTYNLCMDLLKESARYNQGVEDLDLVISGADGSTQGGDPFFVVAYEELEDFCNLAIDDLPKRLRETFVLLYQKQFSSQEIAAELNISDSNVRKRISXGRAILEKRRQXEYEKQEEIVIVENQKIESSQPQELDXEXVXAEIPQEXILSEEKSEPILXEATVEEELREIETFGNGGQQLFALSVLLKLLRVENKKPKGXKQQKXGLXSRCTNIGLALLRGRMNISGVXILLTQKYKEXLKWLTHKVIEXQPHYLYNFGKGELKALEKQLNWLIXEXFLXPSAAKLVYKDXC"
       ]
      },
      {
       "output_type": "stream",
       "stream": "stdout",
       "text": [
        "\n",
        "Tery_0388:\n",
        "25849-, to 1507+, 3 nodes (91.62% id)\n",
        "25848-, to 1507+, 3 nodes (91.62% id)\n",
        "1506-, to 1507+, 2 nodes (88.98% id)\n",
        "MSNFSQFTPTLALXXAIISTILTTAYLTPVLAEIPKWSTSATDLKPPSKKLASKPNPTAPSLKKTEKFNHTLRPRLYYSAKYRCR\n",
        "Tery_0392:\n",
        "15012-, to 19610-, 5 nodes (98.32% id)\n",
        "15012-, to 19610-, 5 nodes (98.32% id)\n",
        "15012-, to 19610-, 5 nodes (97.84% id)\n",
        "15012-, to 19610-, 5 nodes (97.84% id)\n",
        "VQITKRNINLTVDDSLMRVYVATPKPPGTYPGIIFYSDIYQLGGPIIRLANYLAGYGYVVAAPEIFHRTESIGLVIEPDDLGRMRGNDNARRTAVPEYDADTQAVIEFLKAESSVAADQIGAMGFCIGGHLAFRAAFEKEIKATVCCYPTGIPSGKLGKGVADTIKRVSEIXGEILIVFGSKDPHTPEGDRQTIIQTLEQTGVTHKIFLYEAEHTFMRDDGYRYDSVATTKAWSEITPFFNSVFKNNGNK"
       ]
      },
      {
       "output_type": "stream",
       "stream": "stdout",
       "text": [
        "\n",
        "Tery_0419:\n",
        "31783+, to 23032-, 2 nodes (83.55% id)\n",
        "31783+, to 19+, 3 nodes (83.47% id)\n",
        "31783+, to 18+, 3 nodes (83.47% id)\n",
        "MNSILKKTAESIEINQKLQQVQQQKRLMVIDARVENYGQLGTGVTPETKVALIDPNRDGIEQITELLSNYPTNSLHIVCHGDPGILYLGKTPISEQNLPKYTGYLQEWGIIDILLYSCNIASQSDNLLQLLHKFTGANIAASKHPVGNPLKGGTWDLESRIGSVASEIAFLPQVIQYYPGVFHGLQFYLGQDETGKVRAYLGKDDRESNGYTNLFSNDYLTLGSVGITDERLVAGADTAFEYSYTDNASSFPGFTPQAYMFYETPVDGSPADDSFDRERNTYFQVNFLDELKVWDGNDFVSTGGEVMTWSQQKKSVINEDQFRELVNEVTTGEGVVEGKPYYYSEVRVAGRDHWHYVMELQEGTSATGIDNGLYLLEVQVETNIPNSIPSDPIYILYNQNLSPAPDADQKTILEAQNYLLENFGITEPAQEFKAFLNSSQNDGVESDATGLATFNLNAEQTEIEYTIQLNGLDLIEDPAERKADNAVSKINLHHRDYGINGDHVFNIFGVGSEDDNNIEINYENETITGKWDWSDAAVNFGRHSEPKSGGTYGDRKSPELKIEVIQAYDNGNGTLGIKLRDGEPQDELDIFEGTQLKFNNGTTVEITENITIFKEESSTAKANILEGDNILAGEIAILPPAQRSATTPVSTSLVHLFHGNLYVQVQTNKNSDPGDIRGQILPVRTLADAKENVLSGGTGNELFELDAADVGGIEIKELAGRETLTLEGIETSMSNLHRKDNDLIIDVNQDGSFQTAEDLTLKNFFADQIGEVGKGYIELVDGISGSEILTSISSSENDLLHGTSADNVRNADSGDDVIFGFAGNDKLYGNQGNDQLYGGNGDDFLHGGKEHDHLIGSIGNDIVFGEKGNDLLEGNEGDDLLYGGEGDDTLKGGTGKDQFIFAADKTFSQANLGVDKIHDFVSGQDRITLDVNVFTAIATTTGESLDGSEFAVVDNEIDVFSADATIVYNSANRTLYYNPNRIENGLGDGDRFAIFSNEVSLDADDFLVXA"
       ]
      },
      {
       "output_type": "stream",
       "stream": "stdout",
       "text": [
        "\n",
        "Tery_0427:\n",
        "19754-, to 31192-, 3 nodes (73.00% id)\n",
        "19754-, to 9121-, 3 nodes (73.00% id)\n",
        "IDPLAFVLHSIATFGMVDLNESFITFLFVHLSVSARGRTHSVVKALTSFRPASGIDVQSLPCGLYCQPNNKAXGIAPTRT\n",
        "Tery_0444:\n",
        "10712-, to 7629-, 3 nodes (91.95% id)\n",
        "10713-, to 7629-, 3 nodes (91.81% id)\n",
        "10712-, to 33846-, 3 nodes (91.70% id)\n",
        "10713-, to 33846-, 3 nodes (91.56% id)\n",
        "GS*IKVSTNALSNKQTKKXAPVFEFVQYXSKVTAGTVLGITMLTSSLVAGGLVGLAISFRNLPDVRVLKNYTPSETTRIYDIKGRPLASIHDEANREVIPINQISPDLKRAVLAIEDSNFYNHLGIYPIGIIRAFVANLEQGKTVEGGSTVTMQLVKNLFLSPTAKLSRKVAEAVLAIRMEQIMAKNEILELYLNQIYWGHNLYGVETAAQSYFNKSSKDLTLAEAALMAGMIPAPEEYSPFINYQKSKQRQATVLARMRELNWITAEEEAEAREQRLLVGKVTSFRESRLPYITNAVIQELTERFDKDAVMKGGMRIQTTIDMNFQRMAEKTVSEWHKILYYRGLYRSWDKGQLALVAVDPRTHFVKAMVGGADFXTSQYNRAIQARRQPGSSFKPFVYYAAFASGRFSPSSVVRDXPVSYPDGRGYYSPRNYGGGYSGSVSIRKALQSSMNIPAVKXGQTIGLNRVIEVCRILGIQSPMEPVISLPLGSVDLTPLEMAGAYATFANNGWHSDTTFIVQVTDTSGNVLLDNTPKPKLVLNQWAVASLNSVLVGVIERGTGTRAXISHQAAGKTGTTSSERDVWFVGYTPQLSTAVWVGNDDYRPLNYGATGGTTVAPIWRNFMNQAMSGMRKEYFPPAXNFRNBRP"
       ]
      },
      {
       "output_type": "stream",
       "stream": "stdout",
       "text": [
        "\n",
        "Tery_0455:\n",
        "17857-, to 11146-, 4 nodes (89.70% id)\n",
        "17857-, to 11146-, 5 nodes (89.61% id)\n",
        "17857-, to 11146-, 4 nodes (89.05% id)\n",
        "MCGIVGYIGTQLATEILLSGLEKLEYRGYDSAGVATVCDGQIQSVRAKGKLYNLREKLVGVEMSANIGIGHTRWATHGKPEEYNAHPHRDDTERVAVVQNGIVENYRELRKELEAQGHKFVSDTDTEVIPHLIAEFLSNFAGNQKGETGRRENFLQAVRQTVNKLDGAFAIAVICADYPNEIIVARQQAPISIGLGQGEFFCASDTPALISHTQVVVSLENGEMARLTPLGVEVYNFEGDRVNKLPRILNWSPTLVEKNIFKHFMLKEIHEQPNVIRSCLDAYINSDWDVQNIQISPTNLELSPSLYKNLEKVEIFACGTSWNASLIGKHLLEQLAGISTTVSYASEARYAPCPLRENTLIIGVTQSGETADTLAALGMEQQRRLDKAVNFTSRFLGITNRVESSITNLVDEVIDIRAGIEIGVAATKTFIAQVMVFYFLAIDLAWQRQYLSGERIREIIDGLKKIPVQMEEMLEVQDSQIEDFAHQFNDTQDFIFIGRGINYPIALEGALKLKEISYIHAEGYPAGEMKHGPIALLDDKVPVVAIAMPGLVYEKVLSNAQEAKARNAQLIGVTPESTEADVFDNVLAVPAVDELLSPMLTVIPLQLLAYHIAAHRGLDVDQPRNLAKSVTVE"
       ]
      },
      {
       "output_type": "stream",
       "stream": "stdout",
       "text": [
        "\n",
        "Tery_0465:\n",
        "30225+, to 23966+, 10 nodes (77.21% id)\n",
        "30225+, to 7122-, 10 nodes (77.04% id)\n",
        "30225+, to 20054-, 10 nodes (76.98% id)\n",
        "30225+, to 28903+, 10 nodes (77.99% id)\n",
        "30225+, to 33840+, 10 nodes (75.84% id)\n",
        "30225+, to 31944+, 10 nodes (75.69% id)\n",
        "30225+, to 31943+, 10 nodes (75.83% id)\n",
        "30225+, to 23966+, 9 nodes (76.19% id)\n",
        "30225+, to 7122-, 9 nodes (76.01% id)\n",
        "30225+, to 20054-, 9 nodes (75.90% id)\n",
        "30225+, to 33840+, 9 nodes (74.73% id)\n",
        "MMMTNRFIKIGAAVELLGVSIDTLRKWELSGELIPDRKSQAGTRFYDFSKLINLGDGDSPTICYARVSSHDQKVDLERQQAMLETYCAAKGWIFEVIKDLGSGMNYXKKGLQKLLEKILRKQTKGLVLTHKDRLLRFGAELVFSFCELQGIEIVIINKGEQPSFEEELXQVVLEIITVFSARLYGC*SKKXKKTITGXT*GSXSSCRKX**SCY*D"
       ]
      },
      {
       "output_type": "stream",
       "stream": "stdout",
       "text": [
        "\n",
        "Tery_0469:\n",
        "4436-, to 10994-, 9 nodes (70.64% id)\n",
        "4436-, to 22803+, 9 nodes (70.64% id)\n",
        "5045+, to 10994-, 10 nodes (70.34% id)\n",
        "5045+, to 22803+, 10 nodes (70.34% id)\n",
        "32911+, to 10994-, 10 nodes (70.34% id)\n",
        "32911+, to 22803+, 10 nodes (70.34% id)\n",
        "22603-, to 10994-, 9 nodes (70.69% id)\n",
        "22603-, to 22803+, 9 nodes (70.69% id)\n",
        "22602-, to 10994-, 9 nodes (70.69% id)\n",
        "22602-, to 22803+, 9 nodes (70.69% id)\n",
        "4436-, to 10993-, 8 nodes (70.39% id)\n",
        "5045+, to 10993-, 9 nodes (70.05% id)\n",
        "32911+, to 10993-, 9 nodes (70.05% id)\n",
        "22603-, to 10993-, 8 nodes (70.41% id)\n",
        "22602-, to 10993-, 8 nodes (70.41% id)\n",
        "LGFTVRQWEVKSTRLGFKTLIKPSSKSXKTHYRKLAEICDKYKSAPVEALIAKLNPVIRGWANYYSSVVSKETFDTLDNLLWRRLWRWAKRRHPNKPSAWVKTKYFSPPKPETGF*IKVNMY*TSTRMYLLYGTIRLEVINHPMMETGFIGVXKXVNTPA*ELE*PNY*KVRRINAHLAD*ISGQR"
       ]
      },
      {
       "output_type": "stream",
       "stream": "stdout",
       "text": [
        "\n",
        "Tery_0497:\n",
        "509- to 509-, 1 nodes (81.25% id)\n",
        "509- to 509-, 1 nodes (76.60% id)\n",
        "MTQVLLGENEGIESALRRFKRQVSRAGILADVKKRRFFETPQEKRKRKA\n",
        "Tery_0510:\n",
        "3793+, to 15505-, 7 nodes (75.80% id)\n",
        "3792+, to 15505-, 7 nodes (75.80% id)\n",
        "26508+, to 15505-, 7 nodes (75.80% id)\n",
        "17478-, to 15505-, 7 nodes (75.80% id)\n",
        "3793+, to 15505-, 7 nodes (75.80% id)\n",
        "3792+, to 15505-, 7 nodes (75.80% id)\n",
        "26508+, to 15505-, 7 nodes (75.80% id)\n",
        "17478-, to 15505-, 7 nodes (75.80% id)\n",
        "3793+, to 15505-, 7 nodes (75.37% id)\n",
        "3792+, to 15505-, 7 nodes (75.37% id)\n",
        "26508+, to 15505-, 7 nodes (75.37% id)\n",
        "17478-, to 15505-, 7 nodes (75.37% id)\n",
        "3793+, to 15505-, 7 nodes (75.37% id)\n",
        "3792+, to 15505-, 7 nodes (75.37% id)\n",
        "26508+, to 15505-, 7 nodes (75.37% id)\n",
        "17478-, to 15505-, 7 nodes (75.37% id)\n",
        "VKVLVTGIGLTSALGNLYQSWEKILQGKSAIRLHRPFAELPLLPLALINSGPIELPWLIRQVVGTTVKSSGLTVPLPECGVVIGSSRGYQGMLEVWAKXHFFQDCKQDDLEKDYGSFXNLLPHQPAIFAASQIGARGTVLAPMAACATGIWAIARGFELIKTGQCQRVIVGAVESPITPLSIGGFKKMGALARTGAYPFDRYREGLVLGEGAAILVLESPELARQRRAKIFGQIRGFALTNDASYGTKSEVSGKGARLAIAQCLARSGLAPEDIDYIHAHGTATELNDRYEANLIQEVFPLKVAVSSTKGATGHTLGASGALGAVFCLMAIAHQVLPPCVGLNDPEFDLDLVRCARRSRVDNILCLSFGFGGQNAALVLSKV"
       ]
      },
      {
       "output_type": "stream",
       "stream": "stdout",
       "text": [
        "\n",
        "Tery_0511:\n",
        "29489+, to 3793+, 3 nodes (85.07% id)\n",
        "29489+, to 17478-, 3 nodes (85.07% id)\n",
        "29489+, to 3792+, 3 nodes (84.77% id)\n",
        "29489+, to 26508+, 3 nodes (84.77% id)\n",
        "MQRKISQWLFLVLVVTNLLVTGCSATSAPNTEVSTSNLSSRTQLAAKYSYLPKLNGKATVVMTVNGSPITIEVDGINAPLTAGNFVDLVQKGVYDGLAFHRVVREPEPFVVQGGDPQSKDLDVPINNLGTGGFIDPKTSKERYIPLEIKPQQATEPVYSKTFEAAGVKEGPVLSHTRGAVAMARSQPPDSASSQFYFALTDLPFLDGSYAVFGYVTQGMKEVVDQIEAGDRIESAEVVEGIENLTXKTNSSQS"
       ]
      },
      {
       "output_type": "stream",
       "stream": "stdout",
       "text": [
        "\n",
        "Tery_0513:\n",
        "12018+, to 2940-, 7 nodes (96.48% id)\n",
        "12018+, to 2940-, 7 nodes (96.48% id)\n",
        "16665-, to 2940-, 7 nodes (96.32% id)\n",
        "16665-, to 2940-, 7 nodes (96.32% id)\n",
        "12018+, to 2940-, 7 nodes (96.32% id)\n",
        "12018+, to 2940-, 7 nodes (96.32% id)\n",
        "16665-, to 2940-, 7 nodes (96.16% id)\n",
        "16665-, to 2940-, 7 nodes (96.16% id)\n",
        "7135-, to 2940-, 6 nodes (96.06% id)\n",
        "7135-, to 2940-, 6 nodes (96.06% id)\n",
        "7135-, to 2940-, 6 nodes (95.88% id)\n",
        "7135-, to 2940-, 6 nodes (95.88% id)\n",
        "VVTLSDSXIGGRDXQSTGFAWWSGNARLINLSGKLLGAHVAHAGLIVFWAGAMTLFEVAHFVPEKPMYEQGLILMPHVATIGWGVGPGGEIVDIFPFFVVGVLHLISSAVLGLGGIYHAVRGPETLEXYSSFFGYDWKDKNQMTNIIGYHLIILGCGALLLVFKAMFFGGVYDTWAPGGGDVRVITNPTLDPTVIFGYLLKAPFGGEGWIIGVNNMEDIIGGHIWVGLICIFGGIWHILTKPFGWARRAFIWSGEAYLSYSLGALSLMGLIAAAFVWFNNTAYPSEFYGPTNAEASQAQSFVFLVRDQKLGANIGSAQGPTGLGKYLMRSPTGEIIFGGETMRFWDFRGPWLEPLRGPNGLDLTKLKNDVQNWQIRRAAEYMTHAPNGSINSVGGIITDINGFNYVNPRAWLAAAHFILGFFFLIGHLWHAGRARAAEGGFERGLDRETEPVLSMPNLD"
       ]
      },
      {
       "output_type": "stream",
       "stream": "stdout",
       "text": [
        "\n",
        "Tery_0526:\n",
        "12122-, to 2735+, 3 nodes (98.12% id)\n",
        "12122-, to 2736+, 3 nodes (98.12% id)\n",
        "MKVNFSEVSQRHVCIALFIFCSLLQRSISPLFLLPLLLQEKRNLLGQIAEVKFNNDNNNLQFLQQQSQQLNNLERQFQKVQKTVDKLQHKIQTQDTRQNLILSKSSKQSNQISLLEDRINSIQERFKSVPSKVVPIQRRTLLAIDSANLDGAAKSLNMKVDYERLKRYVNVHFGSLEARIYVGKYDNSSRQKLWFNYLEKNGYVVKTKPVTVYGNTVKANVDVDLALDIREHGVNFKNVVLCSGDGDYLPLVEQLQGLGIKVIVLASPGHTNHFLQRQADEYISLIDIMGEVSDR"
       ]
      },
      {
       "output_type": "stream",
       "stream": "stdout",
       "text": [
        "\n",
        "Tery_0528:\n",
        "8377-, to 8377-, 5 nodes (93.94% id)\n",
        "8377-, to 13986+, 5 nodes (93.94% id)\n",
        "8377-, to 16516-, 4 nodes (93.91% id)\n",
        "MRFISPKTDFAFKRIFGSNRSKKILISFLNAIVYDNQNIIQSLEIIDPYNPGYTRTLKDTYLDVRALLDNGSTVIIEMQVLNVEGFEKRVIYNLAKAYGSQLDTGEKYRKLQPFIALTITDFLLFKDSDKMINKFRFKEDTEFFNYRDELTLIFLELPKFNKELSALETLSDKWIYFLKSAPSLEVIPSSLGEVSEIEAALNIANRADLNNQELEELRKQEIFIGDRQGEVILAKQEGLKEGEEQGKIQQAIKQVLRLARRILGEVSPEIQARIQQLSLEKLDLLAEEIFELTTMENLENWLETGTEN"
       ]
      },
      {
       "output_type": "stream",
       "stream": "stdout",
       "text": [
        "\n",
        "Tery_0534:\n",
        "4137+, to 8057-, 2 nodes (79.30% id)\n",
        "4138+, to 8057-, 2 nodes (79.62% id)\n",
        "MIVCPNCNHQNPDGAXQCENCYTPLAVTTSCPKCGAIVQADAAFCGQCGFDLKGNASIEEGQVLSETSPAVXPTLVSPXSAPDIEIPNLAMPDKLVAPEPLLSGRVNLEKSSNPNTPVPIEEEEPISTINAVSTPXATPEXSSVPPSEEKAIPAKTQLQEQSAKLLHIRTDTNIELPVNLPVIHIGKPNDRVPPDVDVSGFPDSEVVSRSHADIRVEGDSYYIEDTGSSNGTYINNTPLTKGNRHRLRPGDRISLGKGDLVSFVFQVS"
       ]
      },
      {
       "output_type": "stream",
       "stream": "stdout",
       "text": [
        "\n",
        "Tery_0548:\n",
        "15167-, to 1004-, 3 nodes (71.75% id)\n",
        "15167-, to 25420+, 3 nodes (71.21% id)\n",
        "5342-, to 1004-, 5 nodes (73.00% id)\n",
        "19278+, to 1004-, 5 nodes (73.00% id)\n",
        "5342-, to 25420+, 5 nodes (72.28% id)\n",
        "19278+, to 25420+, 5 nodes (72.28% id)\n",
        "LSXLQGLKDKWIYFLKEAASLDGIPESLGEVVEIEQALNIANFINMSPE"
       ]
      },
      {
       "output_type": "stream",
       "stream": "stdout",
       "text": [
        "\n",
        "Tery_0550:\n",
        "566-, to 3677+, 7 nodes (83.16% id)\n",
        "566-, to 3677+, 7 nodes (83.16% id)\n",
        "566-, to 2066-, 7 nodes (83.16% id)\n",
        "566-, to 2066-, 7 nodes (83.16% id)\n",
        "566-, to 26627-, 7 nodes (83.16% id)\n",
        "16924+, to 3677+, 8 nodes (83.46% id)\n",
        "19845+, to 2066-, 9 nodes (83.46% id)\n",
        "19845+, to 2066-, 9 nodes (83.46% id)\n",
        "19845+, to 2066-, 8 nodes (83.46% id)\n",
        "19845+, to 2066-, 8 nodes (83.46% id)\n",
        "19845+, to 3677+, 9 nodes (83.46% id)\n",
        "19845+, to 3677+, 9 nodes (83.46% id)\n",
        "19845+, to 3677+, 8 nodes (83.46% id)\n",
        "19845+, to 3677+, 8 nodes (83.46% id)\n",
        "16924+, to 3677+, 9 nodes (83.46% id)\n",
        "16924+, to 3677+, 9 nodes (83.46% id)\n",
        "16924+, to 2066-, 8 nodes (83.46% id)\n",
        "16924+, to 2066-, 8 nodes (83.46% id)\n",
        "16924+, to 2066-, 9 nodes (83.46% id)\n",
        "16924+, to 2066-, 9 nodes (83.46% id)\n",
        "16924+, to 3677+, 8 nodes (83.46% id)\n",
        "19845+, to 26627-, 9 nodes (83.46% id)\n",
        "16924+, to 26627-, 8 nodes (83.46% id)\n",
        "16924+, to 26627-, 9 nodes (83.46% id)\n",
        "19845+, to 26627-, 8 nodes (83.46% id)\n",
        "566-, to 26627-, 6 nodes (82.38% id)\n",
        "566-, to 10835-, 6 nodes (82.30% id)\n",
        "19845+, to 26627-, 8 nodes (82.68% id)\n",
        "19845+, to 26627-, 7 nodes (82.68% id)\n",
        "16924+, to 26627-, 7 nodes (82.68% id)\n",
        "16924+, to 26627-, 8 nodes (82.68% id)\n",
        "16924+, to 10835-, 7 nodes (82.61% id)\n",
        "16924+, to 10835-, 8 nodes (82.61% id)\n",
        "19845+, to 10835-, 8 nodes (82.61% id)\n",
        "19845+, to 10835-, 7 nodes (82.61% id)\n",
        "MKFINPKVDYAFKKIFGSHQSEKILISFLNAIIYDGEKIIESLTIVNPFNPGQIISFKDTYLDVKAVLVDGSIVVIEMQVARMTAFNKRVAYNLAKAYANQLDKGEKYP"
       ]
      },
      {
       "output_type": "stream",
       "stream": "stdout",
       "text": [
        "\n",
        "Tery_0551:\n",
        "4354-, to 24682+, 9 nodes (94.95% id)\n",
        "4354-, to 24681+, 9 nodes (94.93% id)\n",
        "4354-, to 24682+, 9 nodes (94.50% id)\n",
        "4354-, to 24681+, 9 nodes (94.47% id)\n",
        "4354-, to 24682+, 9 nodes (93.81% id)\n",
        "4354-, to 24681+, 9 nodes (93.78% id)\n",
        "4354-, to 24682+, 9 nodes (93.12% id)\n",
        "4354-, to 24681+, 9 nodes (93.09% id)\n",
        "32162-, to 24682+, 10 nodes (94.80% id)\n",
        "28624+, to 24682+, 10 nodes (94.80% id)\n",
        "32162-, to 24681+, 10 nodes (94.77% id)\n",
        "28624+, to 24681+, 10 nodes (94.77% id)\n",
        "32162-, to 24682+, 10 nodes (94.33% id)\n",
        "28624+, to 24682+, 10 nodes (94.33% id)\n",
        "32162-, to 24681+, 10 nodes (94.30% id)\n",
        "28624+, to 24681+, 10 nodes (94.30% id)\n",
        "32162-, to 24682+, 10 nodes (93.62% id)\n",
        "28624+, to 24682+, 10 nodes (93.62% id)\n",
        "32162-, to 24681+, 10 nodes (93.59% id)\n",
        "28624+, to 24681+, 10 nodes (93.59% id)\n",
        "32162-, to 24682+, 10 nodes (92.91% id)\n",
        "28624+, to 24682+, 10 nodes (92.91% id)\n",
        "32162-, to 24681+, 10 nodes (92.87% id)\n",
        "28624+, to 24681+, 10 nodes (92.87% id)\n",
        "4354-, to 24682+, 8 nodes (93.67% id)\n",
        "4354-, to 24681+, 8 nodes (93.64% id)\n",
        "12368-, to 24682+, 8 nodes (93.83% id)\n",
        "12368-, to 24681+, 8 nodes (93.80% id)\n",
        "12368-, to 24682+, 8 nodes (93.32% id)\n",
        "12368-, to 24681+, 8 nodes (93.28% id)\n",
        "32162-, to 24682+, 9 nodes (93.45% id)\n",
        "28624+, to 24682+, 9 nodes (93.45% id)\n",
        "12368-, to 24682+, 8 nodes (92.55% id)\n",
        "32162-, to 24681+, 9 nodes (93.42% id)\n",
        "28624+, to 24681+, 9 nodes (93.42% id)\n",
        "12368-, to 24682+, 8 nodes (92.03% id)\n",
        "12368-, to 24681+, 8 nodes (92.51% id)\n",
        "12368-, to 24681+, 8 nodes (91.99% id)\n",
        "12368-, to 24682+, 7 nodes (92.53% id)\n",
        "12368-, to 24681+, 7 nodes (92.49% id)\n",
        "VFQEETKKYKCLXKXLXLIFVELPKFKKSLSELKNLTDKWIYFLQEAASFDXIPENLGEVAEIEQALNXANFINMTPEELEIVENRGIALQDERGRIAYAE*IARLNQTIPLIKLLITQRFGEVNDEISSQIEGLPLADVEDLVKVFLSFNSLVDLESWLQERLRS"
       ]
      },
      {
       "output_type": "stream",
       "stream": "stdout",
       "text": [
        "\n",
        "Tery_0584:\n",
        "29651+, to 8311-, 2 nodes (97.56% id)\n",
        "29650+, to 8311-, 2 nodes (97.56% id)\n",
        "MSKYDSHLKCSFCGKSQEQVRKLIAGPGVYICDECVELCNEILDEELFDSNATGAQPPIPRPAPXPQKRGAGAXRLSVSQIPKPREIKNYLDAHVIGQEEGKKVLSVAVYNHYKRLSFLEAKKSGKSSQDEVELQKSNILLIGPTGCGKTLLAQTLAELLDVPFAVADATTLTEAGYVGEDVENILLRLLQVADLEVDEAQRGIIYIDEIDKIARKSENPSITRDVSGEGVQQALLKMLEGTVANVPPQGGRKHPYQDCIQIDTSNILFICGGAFVGLEKIVDQRIGKKSMGFIQQNGESYQVKEKKVVDLMKQMEPNDLVKFGLIPELIGRIPMVAVVEPLDEETLMAILTEPQNALVKQYQKLLRMDNVKLEFETEAVRAIAKEAFRRKTGARALRGIVEELMLDVMYELPSRKDVSRCTITKEMVEKRSTAELLLHPSSLPKPESA"
       ]
      },
      {
       "output_type": "stream",
       "stream": "stdout",
       "text": [
        "\n",
        "Tery_0585:\n",
        "631-, to 29651+, 3 nodes (94.89% id)\n",
        "631-, to 29650+, 3 nodes (94.57% id)\n",
        "632-, to 29651+, 3 nodes (94.89% id)\n",
        "632-, to 29650+, 3 nodes (94.57% id)\n",
        "IMVISQYSDNLSSSSYNKLQVYSGPSNIVPMVVEQSGMGERAFDLYSRLLRERIVFLGTQVDENLANTITAQMLFLDAEDPEKDIQLYINSPGGSVTAGMAIYDTMQQVRPDVVTICYGLAASMGAFLLSGGAKGKRMSLPSSRIMIHQPLGGAQGQAVDIEIQAKEILYHKRKLNELLAEHTSQPLERIEIDTERDFFMSAEEAKNYGLIDQVITRQNLPXPGESVPAM"
       ]
      },
      {
       "output_type": "stream",
       "stream": "stdout",
       "text": [
        "\n",
        "Tery_0586:\n",
        "33942+, to 7900-, 2 nodes (84.06% id)\n",
        "33942+, to 34019-, 2 nodes (83.87% id)\n",
        "MKVTQERLPASQIGLEIEITPEMSKDAYEQVIKKYTRSANIPGFRKGKVPRNILVQRLGKDYIKAMALDDLINNCLEKAREQEKIKAIGQFELTTIFEELVKDFEPGKEMAFSAKIDVEPEAKVENYKGLVVKAEEAKYSPALVDEFLEERRSLMGTLIPVEGRAAELGDVAIVDFVGVIPSETEGEEAKEVPGGKAQDFQIDLKGGKFIPGFIEGIVGMKLEETKEISTQFPSDYGERNLAGKPVVFTVTVKELKERELPELDDDLAQEISEFETIAKLREFLEKKFTKEKEEETKQNKEKAIVDELVTHLEVEIPETLIKNEVQQILAQSAMNLSQYGIDLKELFSSGKLPEMQNSSRPEAIKRLKRDLAIATVAQKESITVDEEEIAGESAKVIEQLKGKDVDPDRLRZVVTEDLLKEKTIKWLEENGTVELVPEGTLHTRSQTPKTIENLEAEVDSZITQXSEXVVEVEAKQVATVENSQX"
       ]
      },
      {
       "output_type": "stream",
       "stream": "stdout",
       "text": [
        "\n",
        "Tery_0587:\n",
        "31740-, to 25285-, 2 nodes (90.95% id)\n",
        "31741-, to 25285-, 2 nodes (90.44% id)\n",
        "LSDSYRVAILGATGAVGTELLELLETRNFPVAELXLLASPSSVGKTLKFXEQSLQVEAVTNDSFKKVDLVLASAGGSTSKVWAKKAVEAGAXVIDNSSXFRMDPQVPLVVPEVNPEAAALHKGIIANPNCTTILMSVAVWPLHQIQPVQRLVVATYQSASGAGSRAMAEMKIQAKEILDGKAPTTDIFPYPLAFNLFPHNSQLNEQGYCQEEMKMVNETRKIFGYKELRITATCIRVPVLRAHSEAVNLEFAKPFDVVKAREVLSQAAGVKLVENWKHNHFPMPMEASGKDDVYVGRIRQDISHPCGLELWLSGDQIRKGAALNAVQIAELLVAKNWLRMPVGAF"
       ]
      },
      {
       "output_type": "stream",
       "stream": "stdout",
       "text": [
        "\n",
        "Tery_0602:\n",
        "7924-, to 7923+, 2 nodes (93.69% id)\n",
        "7924-, to 7922+, 2 nodes (93.69% id)\n",
        "MVTTPEKIQNQTNSASPSQDKVAVLLMGYGEVESYEDFANYNEQALNLLTAKFAPVPTWIYPPLAKLLAIFDFHEWSHQHGNFISPHNAIFESQRAGIEKNLQDKWGDRVKVFKAFNFCAPYLPEQVLTQIKSEGFDKLLIYPLLVVDSIFTSGIAVEQVNKALVKLADKTEHWIKGQRYIPSFYNEPNYINLMAKMVEEQIAKDLAVAHLPSQIGIVLTNHGCPHKAKGFTSGIDESQALYESVRECLINRFALISVGWLNHDTPLIEWTQPDAKTAAQNLIELGATAIIFMPIGFATENHETLLDVEHIIEGLRRKHPEVTYRQMPCVNDRSEFLQMAAQWANLYIQELLSENALAVNPSLAVAQARST"
       ]
      },
      {
       "output_type": "stream",
       "stream": "stdout",
       "text": [
        "\n",
        "Tery_0607:\n",
        "3818+, to 23950-, 2 nodes (77.25% id)\n",
        "3818+, to 12796-, 2 nodes (77.25% id)\n",
        "MVITISVIPNIIIIPNVLAQNYVPEVENASESSTLKIKADKLFKIGVEQFRTGTFEKALETYKEVLSIHKKLGDFGGVAKTLNNIGDVYINQREYLKAIEVLQQALTIHRQINDRSGTAESLNLIGFIYQQQDKFSQAVNLHQEALEISREVSDRSNEGESLHNIASVKASQRQLDLALKFYQEALTIREEVGDRRDQGRTLNNIGVVYFNQGDYDKALETYKKALTVRREINDSAGIGRLLNNIGFVYREKGENSEALKYFRQAVAMLETVGDQRSVGRIYGFMGELYQKEGAESQALEAYEKGLKAAKIAEDKTGQLEALNYLGDAYYEMGENAKAKLVYETALVFYKEVEDTAGQGKNMIGLGKVYEGLGENQKAKEILLKSLLINKRLGEQSVLADNMNALGEVYYSSGDYSIALNYYMLALKNLSRKDDKNAVAIAYQGMGDSLFQMKQYPQALENLEEALAIYKEGKKTAKVGRIYAQLGTISVAKEKTELAVVFYKKAINIYETIRSKESRKIFLENPEEIYRNLVGLLLQQERIFEAQQVLDLLRIQELDNYLGNVKDDQFEEVRIKLLAVEEKILAEATKDILNLEINKDSLKADFLRAQSLQEKLQKLPRTAIFYPLILSDKLELVLIKAEGEAIHKTVAVKGEEINNAIADFRLRISNPIRDVKKSSEKLYSWLIKPIEDELTKANINTIIYVPDNQLRYLPLTALYDGEKWLVERFNINNIIAASLTNFETQPKNQPRVLAAALTEGEYQVQIGTSEVPLRPTTGKLVENLAQTIPGSLRLVNSEFSLQTIINNFNDYNIVHLDTPVALLTEREGNGKPEDSFILFGNGDRVTLLDMENWLLPNVDLVVLSAAETNISGRMGNGEEIVGFGYQMQNAGVETIIASLWRVNDDSDKLMNTFYTVLQEGKSKAEALREAQISMITGXDKQRSSPYYWASFILIGNGL"
       ]
      },
      {
       "output_type": "stream",
       "stream": "stdout",
       "text": [
        "\n",
        "Tery_0664:\n",
        "6230-, to 30641-, 5 nodes (92.27% id)\n",
        "6230-, to 30641-, 5 nodes (92.27% id)\n",
        "6230-, to 30641-, 5 nodes (92.08% id)\n",
        "6230-, to 30641-, 5 nodes (92.08% id)\n",
        "MLEDYDNQGQQRGNLGIPSVPLGAKQTSELCELLKSPPVGTEEKLIALLRDRVPPGVDEAAYIKAGFLTGIAKEEIISPLITPTYAVELLGTMVGGYNVQSLIDILKSENYELASTAATALSKILLVYEAFNDVIELAETNPYAKQVVDSWAAAEWFTTRPQLPEAITVTVFKVPGETNTDDLSPAPHATTRPDIPLHALVMLESKMPEGLNKIAELKQKGHPVAYVGDIVGTGSSRKSACNSMLWHIGEDIPFIPNKRSGGYILGGKIAPIFFNTAEDSGALPIECDVTKMETGMVITIHPYKGKITNEAGEIISTFTLKPETILEEVRAGGRIPLLIGRSLTDKTRNALGLETSSVFTRPLLPADTGKGFTLAQKMVGKACGLPGIRPGTACEPLMTTVGSQDTTGPMTRDEMKELACLGFSADLVMQSFCHTAAYPKPVDIKTHKELPDFFSARGGVALRPGDGIIHSWLNRMLLPDTVGTGGDSHTRFPLGISFPAGSGLVAFAAALGLMPLDMPESVLVRFRGELQPGVTLRDIVNAIPYVAIQKGLLTVALENKKNVFSGRIMEMEGLPDLKVEQAFELTDATAERSCAGSTIKLGKETISEYLRSNITLLKNMVARGYHDVRTIMRRVIKMEQWLANQELMSADGNAEYAEIIEVDLNEIKEPIVAAPNDPDNIKLMSECVGDKIDEVFIGSCMTNIGHYRAAAKVLEGAGRVKGVLWICPPTRMDEKQLREEGIYGVFAAAGARMEMPGCSLCMGNQARVEDGVTVFSTSTRNFNNRMGKGARVYLGSAELAAVCALLGRIPSVDEYLEIMKEKVDPFAGDLYRYLNFDQIXGFEDEGRVVPLEEMPKIENILGMPVGVGK"
       ]
      },
      {
       "output_type": "stream",
       "stream": "stdout",
       "text": [
        "\n",
        "Tery_0684:\n",
        "17220-, to 17222+, 2 nodes (97.27% id)\n",
        "17220-, to 17221+, 2 nodes (97.09% id)\n",
        "MVAVLENPLRVGLQQDRVPEPQILIIFGASGDLTQRKLVPALYQMKLERRLPSELTIVGVARREWSHDYFREQMRIGIEEFGGGLQSQELWNDFAKGIFYCPGNIDQPEDYQKLKELLNQLDEERGTRGNRVFYLSVAPRYFGEATQQLGAAGMLVDTKKQRLVIEKPFGRDLSSAQVLNKIVRQVCPEEQIYRIDHYLGKETVQNLMVFRFANAIFEPLWNRQFVDNVQITVAETVGLEGRAGYYETSGALRDMVQNHLMQLFSLTAMEPPNSLDADSIRNEKVKVVQATRLANLERLEYSATRGQYTQGWMKGKNVPAYREEGGADSNSTTPTYAALKLNIDNWRWKGVPFYLRTGKRMPKKVSEIAIQFKEVPFLMFQSAAKQANPNVLALRIQPNEGISMRFEVKTPGSSLRTRSVDMDFRYDTAFGKPSTDAYSRLLVDCMLGDQTLFTRGDEVEASWRALTPILSIWDAPAPXEVIPLYEAGTWGPVEAELLLNQDGRRWRRL"
       ]
      },
      {
       "output_type": "stream",
       "stream": "stdout",
       "text": [
        "\n",
        "Tery_0713:\n",
        "32896+, to 17888-, 2 nodes (82.72% id)\n",
        "32896+, to 17887-, 2 nodes (82.10% id)\n",
        "MSQHFSKQPILEITVQELGSRLIGGIPEKLQLVDVREPQEVEIAFIKGFKVLPLSKFSEWSEQIHFDLDLNQETLVLCHHGMRSAQMCQWLKXQGFTNVKNIIGGIDAYSLXVDXSIPRY\n",
        "Tery_0752:\n",
        "12275-, to 6763-, 2 nodes (97.35% id)"
       ]
      },
      {
       "output_type": "stream",
       "stream": "stdout",
       "text": [
        "\n",
        "12274-, to 6763-, 2 nodes (97.18% id)\n",
        "MSYRMNRRAYADTFGPTVGDRVRLADTAIFIEVEKDYTTYGDEVKFGGGKVXRDGMGQSPISREGGAVDLVITNALILDWWGVVKADIGIKEGKILKIGKAGNPYIQDRVDIIIGPSTEVIAGEGHIITAGGIDSHIHFICPQQIEIAIASGITTMIGGGTGPATGTNATTCTPGQWNIWMMLQAADAFPMNLGFLGKGNSAKPEGLIEQIKSGAMGLKLHEDWGTTPAAIDTCLSVADKYDVQVAIHTDTLNEAGFVENTIAAFKDRVIHTYHTEGAGGGHAPDIIKVCALLNVLPSSTNPTRPFTVNTLEEHLDMLMVCHHLDKNIPEDVAFAESRIRKETIAAEDILHDLGAFSAIASDSQAMGRVGEVIIRTWQTAHKMKVQRGVLASEKKEVADNFRAKRYIAKYTINPAIMHGIADYVGSIEAGKLADICLWKPAMFGVKPEIVIKGGAIAWAQMGDPNASIPTPQPVYMRPMFGSFGGATPSTSLTFVSQEALDAEIPKQINLKTPAVAVSNTRNISKADMKLNEATPKIEVNPETYEVRADGELLTCEPASVLPMAQRYFLF"
       ]
      },
      {
       "output_type": "stream",
       "stream": "stdout",
       "text": [
        "\n",
        "Tery_0766:\n",
        "19127+, to 26472+, 4 nodes (92.65% id)\n",
        "17712+, to 26472+, 4 nodes (92.42% id)\n",
        "19127+, to 19127+, 5 nodes (82.73% id)\n",
        "17712+, to 19127+, 5 nodes (82.52% id)\n",
        "19127+, to 19127+, 4 nodes (80.00% id)\n",
        "17712+, to 19127+, 4 nodes (79.77% id)\n",
        "MXFISPKXDYAFKKIFGSDQSKDILISFLNAIIYBGXDKIKSLTIINPYNPAQVQTLKDSYLDVRAVLDDGSQVIIEMQVASVTAFDKRVVYNLAKTYSTQLGPRQGYRHLKPVIGVTITDFEMFPEIEEVVNSFAFLNEKKFFKYTAAEMRLVFVELPKFNKSLDELETLVDKWIYFIKEADSLEVIPESLGKVSIIEKALNIANEINLSVKELELLEQRAIMAQDESGRILFAEEKGEKIGEKRGEKIGEEKGRIKXXIAXXIXXLXXRFXXVPENEJXXQXXXXSLXXLEXLXXXXXXFXXXDDLSNWLADX"
       ]
      },
      {
       "output_type": "stream",
       "stream": "stdout",
       "text": [
        "\n",
        "Tery_0774:\n",
        "9439+, to 1470-, 2 nodes (86.99% id)\n",
        "9439+, to 13833-, 2 nodes (87.50% id)\n",
        "MTLLVTGDIGGTKTLLQLVDASREESKASVKLRKVYENRYSSHDFPNLVPIVKKFLEEASKRLGEKQKPEKACFAIAGPIVNNTVKLTNLPWMIDAKLMENELGISQVSLINDFEAVGYGIFGLNAKDLETLQPGEPKSDTPIAVIGAGTGLGECFSIRAAGVMKVYPTEGGHTDFKPRSELEFDLVKYLKALHNISRVSVERVVSGMGIVAIYQFLRDRQFTRESPEIGDAIRQWEKEVGSNEITVDPGAVIGKAALENSDALCEQTLKXFVEAYGAEAGNLALKFLPYSGLYIAGGIAGKIIPLLKSGXFMEAFKNKGRMTPLLEKVPVHIILNPQVGLIGAAICASNL"
       ]
      },
      {
       "output_type": "stream",
       "stream": "stdout",
       "text": [
        "\n",
        "Tery_0795:\n",
        "8404-, to 9831+, 3 nodes (93.38% id)\n",
        "8404-, to 9832+, 3 nodes (93.38% id)\n",
        "8404-, to 8405+, 2 nodes (92.94% id)\n",
        "MKYVKEFRDPDKAQGLVREIDQLSRKLGYTREHPLKIMEVCGGHTHSIFKYGIEEVLPNKIELIHGPGCPVCIMPRGRLDDAIALAEKPDVIFTTFGDGMRVPGSQKSLLQAQAQGADIRIVYSPLDSLNIAKRNPDKEIIFFGLGFETTAPSAALTILQAEAEGIKNFSIFSNHVLIVPALEALLSNPDLELQGFVGPGHVSMVIGTQSYSIISEKYRKPLVVSGFEPLDILQSIWMLLQQILEGRCEVENQYSRIVKEGGNRVALEAMDKVFEVRDTFEWRGLGEIPESGLKITDAYSRFDAEAKFYVPNKKVADVKVCQCGEILKGVLKPWQCQVFGTACTPENPLGTCMVSSEGACAAYYKYGRLFKKEKVKV"
       ]
      },
      {
       "output_type": "stream",
       "stream": "stdout",
       "text": [
        "\n",
        "Tery_0797:\n",
        "5771-, to 12245+, 3 nodes (79.30% id)\n",
        "5770-, to 12245+, 3 nodes (79.69% id)\n",
        "5771-, to 12244+, 3 nodes (77.75% id)\n",
        "5770-, to 12244+, 3 nodes (78.13% id)\n",
        "MTTSSPNESXQNXLFKKNRTIATSPDKNVRQSHYPRSW*RWQSDAXPHRRYFCQQL*QLLLISTRXPSNIRLXKXYXXXR*TXFYHXLLCN*SPLFSWRQYW*TGSPRYS**FSCKWCQTFISLLRNDY*GRFPH*LPPKNSKKYEKSGR*SWSENSDWRHKSCSPRCCRPVIY*YCGGGCNSFWHFDVCPKDSGRGFHYCEWLSWRSRSSYFTGP*RARHSSGN*KRHSSSEWFG*YYS*CLYGSTXDARCYSWRFSNSIK*ICHEFESRDTTF*KKATSAXESXGSL*NSWS*PFIFC**R*XSXSGATRQXGXRLESHXISSCWY*FCYCGRSFCXXXRFTRXXVXXX*IXHRACXXYVNRXPTAKNL"
       ]
      },
      {
       "output_type": "stream",
       "stream": "stdout",
       "text": [
        "\n",
        "Tery_0802:\n",
        "14506+, to 30483+, 2 nodes (85.31% id)\n",
        "14505+, to 30483+, 2 nodes (85.63% id)\n",
        "MCVTCGCSGHNETTITNPQTGEKMTLBKHHSHTHTLPDGXVINHTHXHDXTPENYXHETTEFHAKXXRTTISLEQAILQKNDMIAAQNRGWFKGRNIFAINLVSSPGSGKTTLLTRTINDLKSDLTFNVIEGDQETVNDAEKIRQTGCKVVQINTGKGCHLEAAMVEKGYTELNPPLNSVLMIENVGNLVCPALFDLGENCKVAILSVTEGEDKPIKYPYMFRESQVMILTKIDLLPYVQFDVNSCIEYAKQVNPQIRIFQVSAVTGKGLNEWYDWLKS"
       ]
      },
      {
       "output_type": "stream",
       "stream": "stdout",
       "text": [
        "\n",
        "Tery_0805:\n",
        "28941+, to 23279-, 6 nodes (90.73% id)\n",
        "28941+, to 23279-, 6 nodes (90.25% id)\n",
        "28941+, to 23279-, 5 nodes (89.40% id)\n",
        "28941+, to 23279-, 5 nodes (88.86% id)\n",
        "MISKNLWRTNQYLATACLSHPFVQGIANGTLSKKSFAYYVGQDVFFLRTFARAYSIAAAKSIEWKTFELFHTLAGGVKEELELHQTYATKWGVNLENITPGFATRRYTDFLLGTAWGNNIGAIATAMTPCMRLYAFLGQQLATPEIPEHZYSQWIRTYSTQEFEXLAQKLEKVTDRYAENIKEAESTYCYAMLCERDFFQAAWEIGE"
       ]
      },
      {
       "output_type": "stream",
       "stream": "stdout",
       "text": [
        "\n",
        "Tery_0812:\n",
        "18257+, to 25971-, 3 nodes (94.00% id)\n",
        "18257+, to 25971-, 3 nodes (93.58% id)\n",
        "MARLQKYKLRFALVVCISLLSVFLLFPAQAKDTIRVKVPVVLDGRELLEVGASGKLTAQERAKFMTSILKSALADSIERGTPPDVKVVRSNQNVVLKVDSRPLVEVAEDTLNSMYSEMQVQMWQKQLQQGLEQSWRERTXVYTRWAVKMLTIAFLTTLLLQGGLVLLFRYVLRQNIKNPHRRGHSXRLLGLXLLQIAVWAIFIXYGVQLFPITRGWFYEIFQLLDNTFNARMFQLGEETISLNRILTIALTITALWIGVGWFXSILKSRLLPLTGAEPSHQDTIAFFLQYGLLSVGALLILNAGGLDFQSLALLLGALGVGIGFGLQNIVKDFICGLILIVARPIKVGELVQVGDFQGLVQRIGARTTDISNIERYIITIPNSRFIEGEVLNWNRSGITRVKAYVKIPYGTDIDFVYKVLLAAAQVEHPDILRHPPPKIKFREYVENGLQFRVVAFIRDPLKQPKVRTHLYKQIEKYLRKYRVEVARPRQDVHLKDLDPEIYPGERSQTSAENRLLSQEMLSIEPPSIKEEYDWEAISTAMGGENGVSIKDRRFQFKLFKNVFLGSEAVEWLMINERATREEAILMGELMLQQGIIHHVLDEHDFKDEPLFYRFYNDEVKANINTNANSSEHGIDSKLQDDSE"
       ]
      },
      {
       "output_type": "stream",
       "stream": "stdout",
       "text": [
        "\n",
        "Tery_0822:\n",
        "6618-, to 14593+, 10 nodes (80.94% id)\n",
        "6618-, to 14594+, 10 nodes (80.94% id)\n",
        "29618+, to 14593+, 10 nodes (80.78% id)\n",
        "29618+, to 14594+, 10 nodes (80.78% id)\n",
        "23609-, to 14592-, 10 nodes (81.99% id)\n",
        "23608-, to 14592-, 10 nodes (81.99% id)\n",
        "12831+, to 4781-, 10 nodes (82.71% id)\n",
        "6618-, to 4781-, 8 nodes (83.21% id)\n",
        "12831+, to 4782-, 10 nodes (81.54% id)\n",
        "12831+, to 4782-, 10 nodes (81.54% id)\n",
        "12831+, to 22372-, 10 nodes (81.54% id)\n",
        "12831+, to 22372-, 10 nodes (81.54% id)\n",
        "6618-, to 4782-, 8 nodes (81.98% id)\n",
        "6618-, to 22372-, 8 nodes (81.98% id)\n",
        "29619-, to 4781-, 10 nodes (82.93% id)\n",
        "12831+, to 14593+, 10 nodes (80.61% id)\n",
        "12831+, to 14594+, 10 nodes (80.61% id)\n",
        "23680-, to 14593+, 10 nodes (80.58% id)\n",
        "23680-, to 14594+, 10 nodes (80.58% id)\n",
        "29619-, to 22372-, 10 nodes (81.73% id)\n",
        "29619-, to 4782-, 10 nodes (81.73% id)\n",
        "29619-, to 4782-, 10 nodes (81.73% id)\n",
        "29619-, to 22372-, 10 nodes (81.73% id)\n",
        "29619-, to 14592-, 10 nodes (81.37% id)\n",
        "29619-, to 14593+, 10 nodes (80.77% id)\n",
        "29619-, to 14594+, 10 nodes (80.77% id)\n",
        "29619-, to 4781-, 9 nodes (82.84% id)\n",
        "12830-, to 14594+, 10 nodes (78.65% id)\n",
        "12830-, to 14593+, 10 nodes (78.65% id)\n",
        "12829-, to 14593+, 10 nodes (78.65% id)\n",
        "12829-, to 14594+, 10 nodes (78.65% id)\n",
        "6618-, to 4782-, 7 nodes (81.04% id)\n",
        "6618-, to 22372-, 7 nodes (81.04% id)\n",
        "12830-, to 14592-, 10 nodes (81.58% id)\n",
        "12829-, to 14592-, 10 nodes (81.58% id)\n",
        "29619-, to 4782-, 9 nodes (81.50% id)\n",
        "29619-, to 4782-, 9 nodes (81.50% id)\n",
        "29619-, to 22372-, 9 nodes (81.50% id)\n",
        "29619-, to 22372-, 9 nodes (81.50% id)\n",
        "6618-, to 14593+, 7 nodes (79.95% id)\n",
        "6618-, to 14594+, 7 nodes (79.95% id)\n",
        "29619-, to 14594+, 9 nodes (80.43% id)\n",
        "29619-, to 14593+, 9 nodes (80.43% id)\n",
        "23680-, to 4781-, 8 nodes (83.23% id)\n",
        "23680-, to 4782-, 8 nodes (81.74% id)\n",
        "23680-, to 22372-, 8 nodes (81.74% id)\n",
        "18404+, to 14592-, 10 nodes (80.51% id)\n",
        "12830-, to 4781-, 8 nodes (81.06% id)\n",
        "12830-, to 22372-, 8 nodes (79.40% id)\n",
        "12830-, to 22372-, 8 nodes (79.40% id)\n",
        "12830-, to 4782-, 8 nodes (79.40% id)\n",
        "12830-, to 4782-, 8 nodes (79.40% id)\n",
        "12830-, to 14594+, 8 nodes (78.08% id)\n",
        "12830-, to 14593+, 8 nodes (78.08% id)\n",
        "18406-, to 4781-, 10 nodes (82.37% id)\n",
        "18406-, to 4782-, 10 nodes (80.58% id)\n",
        "18406-, to 4782-, 10 nodes (80.58% id)\n",
        "18406-, to 22372-, 10 nodes (80.58% id)\n",
        "18406-, to 22372-, 10 nodes (80.58% id)\n",
        "18406-, to 14593+, 10 nodes (79.14% id)\n",
        "18406-, to 14594+, 10 nodes (79.14% id)\n",
        "23680-, to 14594+, 7 nodes (76.47% id)\n",
        "23680-, to 14593+, 7 nodes (76.47% id)\n",
        "20906-, to 14594+, 6 nodes (76.57% id)\n",
        "20906-, to 14593+, 6 nodes (76.57% id)\n",
        "23680-, to 4781-, 5 nodes (80.00% id)\n",
        "20906-, to 4781-, 4 nodes (80.13% id)\n",
        "MNSITKPTEKSSDLSPTSDLXKXLPDHTQLPDKDXDFVKNFXEPPQGDLLTHSITPILQQIHPDDQYCLGRDSGIYWRLTZPPEAPEKGSVAPDWFYIPNVPQKLDGKLRRSYVL"
       ]
      },
      {
       "output_type": "stream",
       "stream": "stdout",
       "text": [
        "\n",
        "Tery_0859:\n",
        "1448-, to 10834+, 5 nodes (95.27% id)\n",
        "1448-, to 10834+, 5 nodes (95.27% id)\n",
        "1448-, to 10834+, 5 nodes (95.02% id)\n",
        "1448-, to 10834+, 5 nodes (95.02% id)\n",
        "MEIPFNITLLIILTIASGIASQVVAAYLKVPAIVFLLLFGILVGKDGLGLVHPNLLGSGLEVIVSLFVALILFEGGLNLELRELGRVSGSIRNLVTIGTLITLIGGGMAAHWLGEFPWPJAFLYASLVVVTGPTVVGPLLKQVSVDRKVATLLEGEGVLIDPVGAILAVLVLNIVLNEDTASIGLFRDLFVRLGIGVAIGAAGGWLLGFSLKRAKFLSEELANLVVLAALWGMFGLAEVVRSESGLMTTVVAGIVVGAAEIPELRLIRRFKGQLTMLGVSVLFILLAADLSLASVVALGWGSIFTVLSLMFLVRPLNILICTWNSQLNWRQKIFVSWVAPRGIVSASVSSLFAILLTQNGINGGDSIKALVFLTIMMTVFSQGLTAKFVAQFLGITSSAATGAVIVGSNPLSRLIGKIFKDRGESMVLIDTDEESCKQAETEGLQAYKSSALDVNVLEEAGLESVGTFLAMTNNGEVNLVLAQRAAEEFKPPRVLAVYPKSPQQKNQNNKEKVQQAFMTELNLKNWNQYLDDKEVKLGETVLKELGFEFQKNHLRTLIKSGELIPLLIERQGSLQVLPASENWQPGDQIIYLLHDPKPKLLKRLSGSQQTALTMERHPAVEEVPIPTVVLETNSGEIPAK"
       ]
      },
      {
       "output_type": "stream",
       "stream": "stdout",
       "text": [
        "\n",
        "Tery_0866:\n",
        "22435-, to 3221-, 4 nodes (97.94% id)\n",
        "22435-, to 14961+, 5 nodes (97.90% id)\n",
        "22435-, to 1564-, 5 nodes (97.90% id)\n",
        "22434-, to 3221-, 4 nodes (97.87% id)\n",
        "22434-, to 14961+, 5 nodes (97.82% id)\n",
        "22434-, to 1564-, 5 nodes (97.82% id)\n",
        "MKRIVLIAGFESFNTGLYRQAAQLATSRCPNLDIQVFSDRALSTEPETVATALEHADVFFGSLLFDYDQVLWLRERIQHIPIRLVFESALELMALTKLGKFIIGDKPKGMPKPVKFILSKFSSGREEDKLAGYISFLKTGPKLLKFVPVKKVQDLRNWLIIYGYWNAGGTENVAAMSWVLAEKYLDLKVGEIPPPLETPNMGLLHPDHHGYFESPQKYLEWYRQQKPTSPTPVVGILLYRKHVITKQPYIPKLIHKFEEAGLTPLPIFINGVEGHVAVRDWMTTAHESQKSTPPLTPKDGNRKHNTTNRSKNLSPISNKPILSLSPEAVEVDAVVSTIGFPLVGGPAGSMEAGRQVEVSQAILNAKNVPYFVAAPLLIQDIYSWTRQGVGGLQSVVLYALPELDGAIDPVPLGGLVGEDIYLIPERVKRLTGRVKNWIQLRQTPPAQRKIAVILYGFPPGYGATGTAALLNVPRSLLKFLHALKEEGYNVGEIPEDGEELIRQIKEADEAIQKADLSKVNLKSLEKWLGYLSITRMEKQWGNLTNTGIKTDGQNFHIGGIQLGNIWLGVQPPLGISGDPMRLMFERDLTPHPQYAGFYKWLQNEFQADAVVHFGMHGTVEWLPGSPLGNTGYSWSDILLGNMPHLYIYAANNPSESMLAKRRGYGVLISHNIPPYSRAGLYKELVSLRELISEYREDTQKNSGLREGIFKKIFDTGLNSDCPFEYGKKLGIEFTPENARMFSADMVNSYFVEIYDYLQVIEQRLFSSGLHTLGEVPNQEELKSYLEAYFGEEIGDIPQDFREGYIDNSVNKDAEKIRELLMQNTDELTNLLRGLNGEYIPAAPGGDLLRDGSGVLPTGRNIHALDPYRMPSPAAYERGREIAQKIITQHLEENDNYPETVAVMLWGLDAIKTRGESIGILLELVGAEPVKEGTGRIVRYELKSLTEVGHPRIDILGNLSGIFRDSFVNIIELLDDLFQRAATAEEPVEQNFIRKHALVLQGQGVENISARLFSNPAGDFGSLVNDRVVDGNWESGDELGHTWEGRNVFSYGRQDKGQARPEVLQELLKGCDRIVQEIDSVEYGLTDIQEYYANTGGLKLAAEKQRGKKVSASFVESFSKDTTPRKLEDLLRMEYRTKLLNPKWAEAMANQGSGGAYEISQRMTALIGWGGTANFVDSWVYDGAAETYALDAEMARKLREANPEAFRNIIGRMLEANGRGFWQTDDEKLEKLRELYDVVDEDIEGVSVG"
       ]
      },
      {
       "output_type": "stream",
       "stream": "stdout",
       "text": [
        "\n",
        "Tery_0876:\n",
        "31783-, to 27592+, 3 nodes (93.87% id)\n",
        "18583+, to 27592+, 3 nodes (92.74% id)\n",
        "MTNQEPKKQEPKKVENSTAQTRQLLGMKGAASGETNIWKIRLQLMKPITWIPLIWGVVCGAASSGNYSWNLENVLMSAACMLLAGPLMAGYTQTLNDFYDREIDAINEPYRPIPSGAISIPQVVSQIVFLLLAGVGLSYFLDFTAGHKFPTITILCLFGAFLAYIYSAPPLKLKQNGWLGNYALGSSYIALPWWTGHALFGELNLTIVILTLFYSFAGLGIAVVNDFKSVEGDEKLGLKSLPVMFGIGTAAWICVLMIDIFQAGVAVYLITIKENLYAVILLLMVIPQITFQDMYFLRNPLENDVKYQASAQPFLVLGMLITGLALGHAGV"
       ]
      },
      {
       "output_type": "stream",
       "stream": "stdout",
       "text": [
        "\n",
        "Tery_0882:\n",
        "19321+, to 29463+, 2 nodes (97.73% id)\n",
        "19321+, to 14178-, 2 nodes (97.73% id)\n",
        "MSRATKVVLAYSGGVDTSVCIPYLKNEWGVKEVITLAADLGQGDELEGVRKKALDSGAVESLVIDVIEPLIKEYAFPAIQANALYENRYPLATALARPLIAKILVEAAEKYGADAIAHGCTGKGNDQVRFDVAIAALSPQIKILAPAREWGMSREETIAYGEKYGIPAPVKKSSPYSIDKNLLGMAIEAGELEDPWVEPPEEVYGMTKAIADTPNEPEYIEIGFEKGIPISLNGQGMGGIELITQLNQIAGNHGIGRIDMIENRLVGIKSREIYESPAMWVLIQAHRDLESLNLTADVTRYKRGIEETYSQLVYNGLWFSPLKGALDAFIQQTQERVTGVVRVKLFKGNVMVVGRKSDNSLYSFDLATYGAEDEFDHKAAEGFIYVWGLPTRVWSEKLRG"
       ]
      },
      {
       "output_type": "stream",
       "stream": "stdout",
       "text": [
        "\n",
        "Tery_0886:\n",
        "29838+, to 6723-, 2 nodes (90.06% id)\n",
        "29838+, to 6724-, 2 nodes (89.49% id)\n",
        "MASREVGADLWLSEYITPWDIYVHGLTKVFAYKKTPYQEMYIVETGIYGKALVLDGKWQSCTGDEFLYHEPLVHPAMICHGSPGKVLVLGGXEGATIREVFRWKXVKKVAMVDIDGEVVETCRQYLPEMHTNAFDDPRLQLIIXDALEFLDTSSESWDVVISDLSDPIEEGPSFQLFTKDYFEKILRVLTPGGFFVVQAGPVSPGEMKLHARIVNTMKAVFPYVQSYNSXVPTYGRPWGFVLGSRKMIDXRPEPETVDKFLKEKTIGGFRMLDGVTLLGMLQVPLXLREAIATETKIYTLEEPPKFGSPX"
       ]
      },
      {
       "output_type": "stream",
       "stream": "stdout",
       "text": [
        "\n",
        "Tery_0894:\n",
        "31982+, to 25462-, 2 nodes (88.97% id)\n",
        "31982+, to 33833+, 2 nodes (88.91% id)\n",
        "MTTELPRTNSPKPRIFSQESWEKISAPEEFDQLIQVVTIKDWLSFAIFGGLVLVGILWSIFGKIPITVTGKGVLIRPRQVVEFQSAIQGNLESLKIRDGECVKKDEVLATINPSQLKKQLELQQQKLILLQIQAVDTQKLESQRTQLEINGLTTKAESLTQRLQDTQNLTPTLQNNTLKALQEKGQTLEQRLQDMQAVTPRLKEEKLQEINKQRISLEKRLGDAKKLTPELRDKKLQAIAEQKINLQQRLQNAKNLTPILRDKNELALQQQRESLQQRLKDAQELVPVFQQRLTQRKELFTKGAISQDNLLQTEQEFRQNLQSIAQIQTELKQVEVQEAETEEKYLQNFSTINEIEDKLKDLEVEEVETNQRYLDNINTIREIETQLQALDSQMTENSKQFLDNLNQINEIKVQLQEVKLQETEAMEKYLENQNTMAQLKVDLQDLNTQKKRLEQENLEAANARKNQIEEVNREIAQLEKQVADNSKIFSPVDGCILEIKSNVGQYVNPGTVLGKINVQGKSSGLVAVSYFPVKDGKRIKSNLEIQITPDTVKRERFGGIIGNITSISNFPVTKEGANFVVGNSEIVQNIIGESGGQIETYAQLRKDDNIFSGYQWSSSKGPQQKFTAGTTITARVRVEERAPITFVLPILREWSGVYLFKSKS"
       ]
      },
      {
       "output_type": "stream",
       "stream": "stdout",
       "text": [
        "\n",
        "Tery_0896:\n",
        "9061+, to 12958-, 2 nodes (93.39% id)\n",
        "32258-, to 12958-, 2 nodes (93.39% id)\n",
        "MLYPKIKSAQVIDNYTLLVHFSNHKTRKYNIQKLLNKPMFFPLKNFAFFKNFQIDPSGSGIIWNDEIDISEYEIWINGTH\n",
        "Tery_0898:\n",
        "23563-, to 23562+, 2 nodes (95.86% id)\n",
        "23563-, to 23561+, 2 nodes (95.78% id)\n",
        "VKTLPIDLPKAEINQICQQYNISKLSLFGSVLRHDFTTESDIDILVEFEPGKTPGLAIIRIEDELSHLLGRVVDLRTPKDLSRYFRLLRVLQEAMVIYEQVII\n",
        "Tery_0901:\n",
        "30193-, to 21727+, 3 nodes (99.73% id)"
       ]
      },
      {
       "output_type": "stream",
       "stream": "stdout",
       "text": [
        "\n",
        "30193-, to 21728+, 3 nodes (99.73% id)\n",
        "30193-, to 21083-, 2 nodes (99.11% id)\n",
        "MKKMFKFRLLNQNSISENLEKYQRLTYPPYRPILDNLQDSKYIAISAEDNQEILGLTIGKIDYKKNIGEVLSLFVIPEYRRQGIGNQLLVALETEFRGKNCQQIDLIYIPNQTIIALEKIFQKNAWSKPKARMLIGLGERETIKNMAWLNLDQKLPLGYEIFPWGELTSKERTILEKSLWYPDILSPFTEEDIIEPINSLGLRYNHQVVGWMITHRISENTIRYTILFVKEELQSIGRGIALLARAIKLNLNHPEINQGSFALLINNEKMAKFXERRLKPYLASFRQSFISSKXT"
       ]
      },
      {
       "output_type": "stream",
       "stream": "stdout",
       "text": [
        "\n",
        "Tery_0902:\n",
        "28702-, to 28386+, 10 nodes (98.87% id)\n",
        "20250+, to 28386+, 9 nodes (98.61% id)\n",
        "28702-, to 28386+, 10 nodes (90.28% id)\n",
        "20250+, to 7343+, 10 nodes (99.16% id)\n",
        "20250+, to 32071-, 10 nodes (97.30% id)\n",
        "20250+, to 32071-, 10 nodes (96.96% id)\n",
        "24873-, to 28386+, 10 nodes (90.10% id)\n",
        "20250+, to 7342+, 10 nodes (97.95% id)\n",
        "20787-, to 7343+, 10 nodes (99.32% id)\n",
        "24873-, to 7343+, 10 nodes (90.23% id)\n",
        "28702-, to 28386+, 10 nodes (88.97% id)\n",
        "25252+, to 28386+, 10 nodes (93.93% id)\n",
        "29577+, to 28386+, 10 nodes (93.93% id)\n",
        "24873-, to 7343+, 10 nodes (88.82% id)\n",
        "MPXKPRNFQIGHSYHITTRCNNREFKLSRRECREVFLYAIKKVSTKYNFRLYALXIMSNHVHYLIEPLQXRRFTXNYALPQLVHSYVFQQNVKTXGAFLGKTILLQWVSFLXXRKSJEYFTLXXRVTXSGXNALRLFL*F**LW*LRMFD**WPDSMASGFLRVGQYSGPMCPEI*GIL*XI*VQTKKFEKVPLGXQTFRGYCAVF*WPKFSXCXRRRXSXQLLLTFRRR*CQTMKN*QR*LVNLL*LIDR"
       ]
      },
      {
       "output_type": "stream",
       "stream": "stdout",
       "text": [
        "\n",
        "Tery_0905:\n",
        "6028-, to 6030+, 2 nodes (86.12% id)\n",
        "6029-, to 6030+, 2 nodes (85.64% id)\n",
        "MTXPIAGYTLPVFTCAAAXAALSWLRQNVSSLSTVSINLLEPREIVDIPIEQVALLKNNTALAITRSDPGNNLDLTRNTPIWAMVELATVSEIETSEQIVIIGGAGIGHNIHSGEAAIYSYARRLLQENLQPLLNQNEQIKVKVILPEGRQLATRTSNSAFGIVEGLSLLGTTGVSQPLSLPGQLETYQEELQQKAMQFNSLVFCVGENGLDIAGKMGISPEQTVKTANWLGPMLVAAAIAGVESILLLGYHGKLIKLAGGIFHTHHHLADGRLEILTAHCANIGLPTSVIQEVFTCTTTEKALKLLRSIDTNNQDDWVGKVYGAIASKIDQRCQAYIFNHSQKQVQVGSMLFDRDREIFLKTEVADTVFSRICYSIKD"
       ]
      },
      {
       "output_type": "stream",
       "stream": "stdout",
       "text": [
        "\n",
        "Tery_0925:\n",
        "18530-, to 34205+, 9 nodes (77.41% id)\n",
        "18530-, to 31162-, 9 nodes (77.41% id)\n",
        "8890+, to 34205+, 9 nodes (77.11% id)\n",
        "8890+, to 31162-, 9 nodes (77.11% id)\n",
        "18530-, to 1308-, 6 nodes (79.72% id)\n",
        "18530-, to 10093+, 6 nodes (79.72% id)\n",
        "8890+, to 1308-, 6 nodes (79.26% id)\n",
        "8890+, to 10093+, 6 nodes (79.26% id)\n",
        "18530-, to 33788-, 3 nodes (77.66% id)\n",
        "4364-, to 34205+, 6 nodes (76.19% id)\n",
        "4364-, to 31162-, 6 nodes (76.19% id)\n",
        "8890+, to 33788-, 3 nodes (77.13% id)\n",
        "24867+, to 1308-, 3 nodes (72.16% id)\n",
        "24867+, to 10093+, 3 nodes (72.16% id)\n",
        "MXYSLXXXQKVINFVXNGGTITKXAHXFGXXRXXIYRWLSRPKLSATKXKSXQRKLDWKELEKDVKQNPESXXVRQS*KXWS*SXSYILCFKXNXFS"
       ]
      },
      {
       "output_type": "stream",
       "stream": "stdout",
       "text": [
        "\n",
        "Tery_0929:\n",
        "6704-, to 6706+, 2 nodes (89.62% id)\n",
        "6705-, to 6706+, 2 nodes (89.43% id)\n",
        "MEVGNFKSYTGLGDRLLRSLNLRSEEVERTLLMFLVYTLTSVGLIWLELSTVSLFLDEYGADKLPWIYIASAXIGSGLGFXYSWLQKVMPLRRVIVVILLLMAVPLFFFRFGIGIENIKIAGLSLAFXTTFMMWLWVEACYLLNDLNTSITGNQLFNIREIKRTYPIISSGFLVAGVISGFSLPLILYFVSLDNVTIVSCLMVVLGSGILFYLSEKYQQSFPDSSRWIPEEEEQEFSTRKIKGPLQSYILPLIIFFVMAEVLYVLIDFQFFYQLELQNQAIDGASQIASFLGLFEGVLSSCQVVTQWFASSRLVERTGVFGTAIILPAGAMALGLFSFTGAITGLFSVFIGLVILRFLDELLHYTLIETTGPVLFQPLPENIRSDVQTMVNGVAEPFSTGLSGLIILAILWLCRLILDSSQTGFSDQQSLVFVIAIIISSLVWLGVVWLIRTKYVGLLVRSAEKGRFGVLDVDMRELKRSVVEILETGTAEEDKHSCIELLSQMDKKNVGEILSPLLEVMSPALQFQSLEVMLNHPNPAYLQKVRSLTKTSLPGEVLALALRYIWLTESEPDVSQLRPYLQPLVDPVVRGTAAALIMRRGDIEQKAEATNILRRMITSKLEKERVMGVRALGEADYLQGLRLYIPSLLEDESLRVRNYCMDVIASTHLESYYPSLLRGLSYKSTRESALQALVRLGNDAIPMLVKLADDTQKSELIRLQAWNAIGEIGTMEALDSLVNRMITTWGITRRNILRRLLKMPGEIGIEGVLERVGRSGVEILVEQELMFLGQIYAGIVDLSGVNINSMSSYSAALEESNGKLTTDYTGIFLRSLQLLESDATEQCFLLMKLLYPLGSIQAAAFNIKSDSRSNVARGLEILDNTVDISCKRSLIDILDQKSYEEKLNSLSEMIVYQPMAPSDRLRHLLDFRHFLSDWALACCLQMARVARWSLTAEQTLVCLRHPTGFVREAALAYLRMASQRALVELLPNLRNDPDPLVAAQVEQMIVEFGI"
       ]
      },
      {
       "output_type": "stream",
       "stream": "stdout",
       "text": [
        "\n",
        "Tery_0937:\n",
        "28108- to 28108-, 1 nodes (87.85% id)\n",
        "28108- to 28108-, 1 nodes (87.24% id)\n",
        "IYPRSLARTWVNSKYIKILNKNESRRSIGSSGDSSTSRLFKRCEKNGIFSSMGR*RIF*NCRASRL*PRLYKRSSCQLMAKSFWCPRRKSNQEKFSCFAKTKI*HSEIIY**NRAKSSTTSSFCVFCRNKKNTV*TKSN*LGRSYRCFCFLRTLSRIESTTTVYYRRWLPIDSATWYGWDG*NSSSSKSRHTTTE*I*LYNLAIAASLSPIKNNS*GTCLIFLLPRMYSRRTKQTC*MFTPVTLPDNFRWCRNYFKSWMYRLLSLWL*RLQSIISVD*RNIPL*LPYSHQ*RKTPRSSSV*KCRYCSTIFTTLWLQRNS*SFITNSRNIRFRSTKTTT*RIL*P*SLSIKNSHYLN*RLIRWRSRRIPPT*YCYLQWYSSTP*PTLSSPL*IGKKNYGLVGG*PRLD*YTKIRN*YCASNF*G*SPRKFRSSHLALHSQEKIKYVYS*TIANGVYP*LLN*RGCSGINYY*LKLICYSFLNHNYWQTLY*RTTK*VDC*TYCQTTN*NI*FYSNP*TTIIINFK*TTS*GNCFMWLW*RKSD*FVYETRD*FNGG*HLSSPNR"
       ]
      },
      {
       "output_type": "stream",
       "stream": "stdout",
       "text": [
        "\n",
        "Tery_0968:\n",
        "29496+, to 32020+, 2 nodes (94.74% id)\n",
        "29496+, to 32021+, 2 nodes (94.74% id)\n",
        "VPKPERKILLDFEKPLAELENRINQIRELAKDCSGVDVSEQIHQLEAKAAQLRQEIFSSLSPVQKLQLARHPRRPTTLDYIQAISDEWIELHGDRGGSDDPAIVGGLARINGRPVVIIGHQKGRDTKDNVARNFGMASAGGYRKSIRFMDHGNRFGMPILTFIDTPGAWPGVEAERLGQGEAIAYNLREMFHLEVPIICTVIGEGGSGGALGVGVGDRLLMLEHSVYTVASPEACAAILWKDASKASQAAEALKITSWDLKKIGIIDDVVPEPNGGAHANPLQAAEKLKMAIVKSLDDLNHLSSQQRRKQRYQKFRSMGVFLET"
       ]
      },
      {
       "output_type": "stream",
       "stream": "stdout",
       "text": [
        "\n",
        "Tery_0972:\n",
        "24050-, to 14940-, 3 nodes (82.62% id)\n",
        "24050-, to 14940-, 3 nodes (82.04% id)\n",
        "MDNYILPLPTLSDIFSQEKLNNDFSTIKMQLGRENASFSITQRNQDLYLKAQKEWYSAIATINQLLEKSVKISDSQNLKNLEMTKTGKEKEVKKTTIALENWESKTSSKFSTSYSLLSHLKSYRGLVLSGMXPVLTNPALTSSFYTSVFTSEIPKSLDWLSILRRETLPLLPATDSINCLPTTIPILPLSTKDPITNEQFCLVLTTEFSLVMVLGKNQDNEPTFLFSFDPEIVKKAWVVLQQRIVSPKCFBGXXFDXXQXFIHQYSQQLSILBDIFEQFSPLAPDYKIVMEFSRLLLSNLPTANTKNEILEVNISRKSGDKQETSTSSLESTIENIESTDVELLQAIAHEVKTPLATIQTLTRLLLKRLNLNQEVMRKHLQMIDTECASQIERFSLIFRAAELETQQPLKQQHPYLQLTTIPLAQVFQNSIPRWQRKATQRNHTLKVILPPKMPTVISDPTMLDQVLGNLIENFSRNLPYGSLIKVEVMLAGSQLKLQLKSDSDIGEKSRSPFTSYTKTPFKSIGPLLMFQPETGSLSLNLKVTKNLFQAIGAKLVIRQRPTKGEIMTIFLPVQ"
       ]
      },
      {
       "output_type": "stream",
       "stream": "stdout",
       "text": [
        "\n",
        "Tery_0977:\n",
        "7913+, to 592+, 8 nodes (82.55% id)\n",
        "7913+, to 592+, 10 nodes (82.45% id)\n",
        "7913+, to 592+, 9 nodes (82.45% id)\n",
        "7913+, to 18171-, 8 nodes (81.24% id)\n",
        "7913+, to 18171-, 10 nodes (81.07% id)\n",
        "TSLNDLASIYNKQGRYTEAEPLLKQALETRKKLLGAEHPDVVASLNDLASIYNKQGRYTEAEPFSIQALEMRKNLLGAEHSDVAASLNNLAEIYKRQGRYTEAEPFSIQALEMWKKLLGSEHPYVAASLNNLAGLYSAQGRYTEAEPLFIEALEMYKKLLGSEHPNVAYSLSNLAFLYNAQGKYTEAEPLLKQALEMYKKLLGSEHPNVAYSLKDLATLYRSQGKYTAVKPFSIQALEMRKNLLGAEHSDVAASLNNLAEIYKRQGRYTEAEPLSIQALEMWKKLLGYEHPYVAASLNNLAGLYSAQGRYTEAEPLFIEALEMYKKLLGSEHPDVAYSLSNLAFLYSAQGRYTEAEPLLKQALEMYKKLLGSEHPDIVSSLSNLAFLYNAQGRHTEAEPLLKQALEMYKKLLGPEHPYVASSLNNLATLYRTQGRYTEAEPLFIEALEMYKKLLGPEHPYVASSLNNLALLYSTQGRYIEVEPLFIEALEMYKKLLGPEHPYVASSLNNLALLYSAQGRYTEAEPLYTQALDMRKKLLGPEHPDVASSLYNLAALYESQGNIALAVQYLEESLEVQEKNLTYNLAAGAEPQKDKYLKTISGEQVQAISLHLQTAQNNPAATTLAFTTILRRKGRLLQFFTASRKILRQQLDPQGLQWLDELDNIHGQLSTLLYNRPENIPLETYRDNLAKLEQQANELQDKISRRSSEFRTSTQPVTLEAIQQLIPVNAALVEFIQYYPFDPKTSTFGKPHHGVYVLNAEGEPQGIDLGTVEEIKSDLDKFRVLLKKERAPLEKLKKTARELDEKLMQPVRQLIGSKQQILISPDSHLNLIPFEALVDENNQYLVENYSITYLSSGRDLLQLTTKARKTSAAVLLGDPNYGKKDKIATQRSFNKTSSNIALPRLLETADEVKAIGKLLGVQPLLRGAATEKAIKRAQNPFILHIATHGLFEESKEKPQNPEELPIIDXXSLLRSGLALAGFKEENIVGDNXVXPELEQKETDEDNGFLTALEATGLKLLGTELVVLSACDTGLGXISPGEGVYGLRRAFXIAGXQSQVISLWKVXDEGTKDLMVKYYQRLLDGNIGRTEALRXTQLEMLXGEAGEXYXHPYXWASFIPSGNWQPIPPRLK"
       ]
      },
      {
       "output_type": "stream",
       "stream": "stdout",
       "text": [
        "\n",
        "Tery_1037:\n",
        "22340+, to 12717-, 2 nodes (95.62% id)\n",
        "17838+, to 12717-, 2 nodes (95.22% id)\n",
        "MQTXAFSELFPLFKGANPETLEWLLSVAVKHEYPSDRLVLMEDAWGNAVYFVVSGWVKVRRRLSPDNSVTLAILGRGDFFGEMAILDESPRSNDVVALSPVRLISISAQRFIQTLFKDPQLHHRMLQLMVKRLRQTNVRYQLRHRPSAIKLANTLVELAENYGQTTEKNCEIFNIPDQDLADVTGITIEETSKIMAKLHTKGWISRDPE"
       ]
      },
      {
       "output_type": "stream",
       "stream": "stdout",
       "text": [
        "\n",
        "Tery_1046:\n",
        "15235+, to 18167+, 2 nodes (95.60% id)\n",
        "15234+, to 18167+, 2 nodes (95.60% id)\n",
        "MSHFSTLRTKITDXEILKASLCDLGVTVKTNADVRGYNGQCVRSDIVAVLEGEYDLGWSRNSDGSFDLIADLWGVAKKHNQTELINSINQKYAVNKTLAAIKQRGLQNANVKLVVQK\n",
        "Tery_1047:\n",
        "14791+, to 15235+, 3 nodes (94.63% id)"
       ]
      },
      {
       "output_type": "stream",
       "stream": "stdout",
       "text": [
        "\n",
        "14791+, to 15234+, 3 nodes (94.63% id)\n",
        "14790+, to 15235+, 3 nodes (94.45% id)\n",
        "14790+, to 15234+, 3 nodes (94.45% id)\n",
        "MKEELKILIEAKYPLIYLVTXEEGRSEQAILALAQTKPQRKLFVWTVTHGIAEYDQSQNTTQHSTVSPEAAIEWVIRQRDPSTGAGIYIFKDLHPFIDSPPVTRWLRDAIASFKGTNKTIILMSPVQNVPIELEKEVVVLDFPLPDMKELNQVLSRQLEQTRNRRISTEIREKLLKAALGLTKDEAEKVYCKAQVTAGRLTEKEVDIVLSEKKQLIRRNGILEYIEEDETINSVGGLEELKHWLRQRSDAFTERAREYGLPQPKGMLILGIPGCGKSLIAKTTSRLWGLPLLRLDMGRVYDGSMVGRSEANLRNALRTAESISPAILFIDELDKAFAGSTGSADSDGGTSSRIFGSFLTWMQEKVSPVFVMATANRVERLPGEFLRKGRFDEIFFVDLPNKEERQNIFEIHLIKRRRDIERFDLDQLSNVSDGFSGAEIEQAIIAAMYEAFAQSREFTQLDIIAAIKSTLPLSKTMTEQVTALRDWARQRARPAASSVAEYQRLEF"
       ]
      },
      {
       "output_type": "stream",
       "stream": "stdout",
       "text": [
        "\n",
        "Tery_1048:\n",
        "14792-, to 14791+, 2 nodes (88.54% id)\n",
        "14792-, to 14790+, 2 nodes (85.99% id)\n",
        "MQDKQKVTLYIQPEIHRKLKIRAAVDSEPMSSIAERAILFYLENPEVIDNLXSKYGQTHRVYSCPKCASSVVIREGELVSIRDQPNILADKSIPXKZAPELEKSEXQPGEQELVPC\n",
        "Tery_1058:\n",
        "12750+, to 16190+, 3 nodes (79.94% id)\n",
        "12750+, to 16190+, 3 nodes (79.77% id)\n",
        "MELVNRLHFNNLRGDFLGGLTAAIVALPLALAFGISSGAGAIRGLYGAIFVGFFAALCGGTPSQITGPTGPMTVIMATVFSTLIAKNPDVGPQMAFTVVMLGGLFQILFGILKLGKYIVLIPYAVISGFMSGIGIIIIFIQVGPFLGHPGSANVVESVRKIPYFFTNLNPVATALGIITLIILFLTPRRVSAVIPSPLLALLIGTLISVFLLPDSNLILIGEIPTGLPKPQLPVFTFEQLNTMLVNGLMLGALGAIDSLLTSLVADNITRTNHDSDRELIGQGIGNIVSGLFGGLPGAGATMRTVVNVHAGGKTPLSGIVHSVILLITLLWAGKLTEIIPQTILAGILLKVGIDIIDWEFLQRAHKLSLKAAGIMYSVJFLTVFVDLVSAVAVGVFIANLLTVKRLSDLQVDEIKAIVKPHDEAPLSNEEKQLLHKTKGRLLLLHLGGPMSFGAAKAISGQMEMVEQYDILILDLSDVSYLGVTMSLALENMVKEACRKNREVFFVGASGEVKARLNNLNIWKILAPQNLVATRVE"
       ]
      },
      {
       "output_type": "stream",
       "stream": "stdout",
       "text": [
        "\n",
        "Tery_1073:\n",
        "330+, to 15250+, 5 nodes (95.67% id)\n",
        "330+, to 15250+, 5 nodes (95.67% id)\n",
        "330+, to 15250+, 5 nodes (95.53% id)\n",
        "330+, to 15250+, 5 nodes (95.52% id)\n",
        "IMNSNFLNRLHSPKRPVIVFDGAMGTNLQVQNLTAEDFGGKEYEGCNEYLVHTKPESVAKVHRDFLAAGADVIETDTFGGTKIVLAEYDLADQAYYLNKKAAELAKSAAAEYSTPEKPRFVAGSMGPGTKLPTLGHIDFATLKNGFTEQAEGLFDGGVDLFIVETCQDVLQIKAALNAIEEIFGKKGDRRPIMVSITMESFGTMLVGSEINAALTILEPYSIDILGLNCATGPDLMKEHIRYLSENSPFIVSCIPNAGLPENVGGQAHYRLTPVELKMALMHFVEDLGVQVIGGCCGTRPDHIRALAEITETLKPKERKPNYIPAAASIYSSETYEQDNSFLIVGERLNASGSKKCRTLLNNEDWDGLVALAKSQVKEGAQILDVNVDYVGRDGVQDMHELASRLVTNVNLPLMLDSTEWEKMEAGLKVAGGKCLLNSTNYEDGEPRFYQVLELAKKYGAGVVVGTIDEDGMARTADKKFEIAKRAYDAAIEYGIPARELFFDTLALPISTGIEEDRENGKATIEAIKRIREELPGSHIMLGVSNVSFGLNPAARQVLNSVFLHESMAVGLDGAIVSANKILPLAKIEPEHQDICRKLIYDQRQFEGDICVYDPLTELTKMFEGKTTKKDRSATENLPIEERLKQHIIDGERIGLEDALAKALETYPPLDVINVFLLDGMKVVGELFGSGQMQLPFVLQSAQTMKAAVAYLQPYMEQEESGDNSKGTFLIATVKGDVHDIGKNLVDIILSNNGYRVINLGIKQPVDNIIAAYREHNADCIAMSGLLVKSTAFMKDNLETFNNEGITVPVILGGAALTPKFVHEDCQNAYKGKVVYGKDAFSDLNFMDKLMPAKAENDWDDIQGFLSEFAEENGNDNGKVATLVKSEDKEESQTAAPVDTRRSDDVPVDIDRPTPPFWGTKLLQPEDMPFEELFWYLDLQALIAGQWQFRKPXDQSREEYDEFLAEKVYPILETWKSRVITEKLLXPQAIYGYFPCQAEGNTLLIYDSEEMSQTGKATRVVNSFEFPRQKSGRRLCITDFFAPKESGIIDVFPMHAVTVGEIATEFAQKLFADNQYTDYLYFHGMAVQTAEAMAEWLHARIRRELGFGSKDADNIKDILRQRYQGSRYSFGYPACPNMQDQFKQLDLLETQRIDMYMDESEQLYPEQSTTAIVTYHSAAKYFSA"
       ]
      },
      {
       "output_type": "stream",
       "stream": "stdout",
       "text": [
        "\n",
        "Tery_1084:\n",
        "12728+, to 34093+, 2 nodes (93.31% id)\n",
        "12728+, to 34094+, 2 nodes (93.31% id)\n",
        "MNVQTVVTQPFSDQKPGTSGLRKKVPIFKQPNYLENFIQSIFDSLEGFSGQTFILGGDGRYYNRQAIQIILKMAAANGVGRMLVGQGGILSTPAASCIIRKNQAFGGIVLSASHNPGGPEEDFGVKYNISNGGPAPEKVTSAIYERSKVIDSYKIIEARNINLDQLGSQKIGEMRVEVIDSVADYAELMKSLFDFSKISELLRSGKFKMCIDSLHAVTGPYAKNIFEQLLGAPAGTVQNGMPLEDFGGGHPDPNLVYAHDLVEIMFGDNAPDFGAASDGDGDRNMILGKNFFVTPSDSLAILAANAKLVPGYSSGLAGIARSMPTSAAADRVAEKMGLDCYETPTGWKFFGNLLDADKATLCGEESFGTGSNHVREKDGLWAVLFWLNILAARQESVEDIVKEHWKTYGRNYYSRHDYEGIESDKANTLMENLHSLLPSLPGKQYGQYEVGYADDFSYTDPIDGSISRKQGIRIGFSNGSRIVFRLSGTGTQGATLRLYVESYEPDANKQDQDTQVVLSPLISLADEIAQIKNITGREKPTVIT"
       ]
      },
      {
       "output_type": "stream",
       "stream": "stdout",
       "text": [
        "\n",
        "Tery_1096:\n",
        "12280-, to 19847-, 7 nodes (89.13% id)\n",
        "12280-, to 19847-, 6 nodes (89.06% id)\n",
        "12280-, to 19847-, 6 nodes (88.78% id)\n",
        "12280-, to 19847-, 5 nodes (88.68% id)\n",
        "12280-, to 19847-, 5 nodes (89.72% id)\n",
        "ATPQISKKELAARKRKRAKQIQQFIGSLATYGGLGTIIGVVLFFVAEPKIALAGGGGVAVLALSFKYPMLGLWGFLIYMPFAGTITYWIGGGSPIFQLAKDGFYIPAIIAIGLWCKKTGNPFIIPKAIKNPAYILLGFCLITLLLVNGAQQLNPPRPGDKAIPMGILGLKVMIGYLPLITGAYYQLKSKKELLFAARLTLIJAIICCLLGXLQYQYLSSGKCNGTRGXTGDELFXATLEAKCLVGGALVFSPSQGMIRLPGTFVAPWQWGWFLISNAAFTFAVAFSDPSPLWRMGGLFGMAVVFINSAISGQRIALALVPTXTIILLVLTGQXANLKRFIPIGXGLGVILGGJXVSNPXVVQERIBSXVGRWNASPPTTFISQQFEESNHXQXGVFGAGLGRATNSARVFGKTRLXETYYPKLIYEIGPIGTIAMLALLTXITVSSFKAYRSVKDKNLRSLGASYWVFILIISYNTYYYPLDVDPVAVYYWYFTGVVLRLPEIDKLEQIKLQEAEKN"
       ]
      },
      {
       "output_type": "stream",
       "stream": "stdout",
       "text": [
        "\n",
        "Tery_1114:\n",
        "5878+, to 8666-, 2 nodes (89.34% id)\n",
        "5878+, to 15476-, 2 nodes (89.23% id)\n",
        "MSKNKKNTAETPVEKNLSNPKYYLNREFSWLEFNRRVLSESLDPRTPLLERLKFLGIFSSNLDEYFMVRVAVLKKQIEAEVHKLTPDGRTPQEQLDGINQILLPMVYLQHQFFEETLRPELGKNGIYLLNYIDLNKEQKTYLKNYFEEQIFPVLTPLAIDSSHPFPYLSNLSLNLAVILKNPDTQEDLLARIKVPKILPRFLCLPEKSQIEEKVKTINWTGVPLEQVIAHNLGTLFPGMDIQEYHLFRVTRDADLGVQEDESDDLLLVIEKELRKRRIGGTVVRMEINPTMPSKLKRMLMENLELSEKDVYTVDGLLDLKDLMSFLGLPFPNLKDPTWTSTMPPRLRHYGDDIRTADLNNNDRIDFFEVIRQKDLLVHHPYHSFASTVQDFISQAAQDPNVLAIKMTLYRTSGDSPIVNALIAGAENDKQVSVLVELKARFDEENNIQWARKLEQSGVHVVYGLAGLKIHTKIVMVVRQEKDNIRRYVHIGTGNYNPKTAKLYTDLGLLSCRPELGADLADLFNFLTGYSRQQFYRKLLVAPVNMRDRFIKLIYREIENCKSGETGRIVVQMNSLGDPEIIAYLYKASQAGVKIDCIVRGICCLRPGLEGISDNIKVVSIVGRYLEHSRIFYFYNKGKEEVYIGSADWMPRNLDRRVEAITXVEDPEIAKELQEIMGILLSDNRQAWDLQXDGKYIQRRSTDNFPELACHKILMETVANN"
       ]
      },
      {
       "output_type": "stream",
       "stream": "stdout",
       "text": [
        "\n",
        "Tery_1128:\n",
        "14762-, to 26429-, 3 nodes (92.15% id)\n",
        "14762-, to 26429-, 3 nodes (91.82% id)\n",
        "MKRLALLSTSDKTGLIDLAKSLVTEFDYEIISSGGTAKTLKDAGISVTKVSDYTGFPEILGGRVKTLHPRIHGGILARKDLPQDVEELNANNIRPIDLVVVNLYPFEXTISQPXVTLAEAIEKIDIGGPAMLRASAKNFAHLTVLCNPSQYNSYLEELRKNXGEVSLEFRQKCALXGFQHTATYDQAIATYLQEQQTTXEXEKSEKETFFLSGKKIKTLRYGENPHQSATWYQRGXNASGWATSKILQGKELSYNNLVDLEAARRIITEFSDAPTVAILKHTNPCGVAVDETLLGAYEAALAGDSVSAFGGIVALNKSIDAPTATAMTKTFLECVVAPGCEPEAEEIFQKKSKLRVLISPDLNQGESETIKVIAGGFLAQDADNGVDNSSDWKIVTEKKPTTEQMEELMFAWKVVKHVKSNAIVVTKNRATIGIGAGQMNRVGAVKIALEQAGEKAIGSVLASDAFFPFDDSVKTAAAAGATAIIQPGGSLKDKDSIAAANQLGLVMIFTGIRHFLH"
       ]
      },
      {
       "output_type": "stream",
       "stream": "stdout",
       "text": [
        "\n",
        "Tery_1188:\n",
        "25198-, to 33580-, 4 nodes (95.65% id)\n",
        "25198-, to 33580-, 3 nodes (95.31% id)\n",
        "25198-, to 451-, 3 nodes (92.99% id)\n",
        "MTGTQVNKSYVLVLPKLKRDSDVKSSDTPGKWEAQPAKAFQDVASSLDYKAPGEMKSVSSVPTMWARPLSMEMALHNPYYPIRDEMVQQWQGMLAAVALAEVRRFPITAELLELGQVKDQNPFARSLYELLPDPVNALYASEPKNPWEDIYIFMWDGLPVGLTTPSTIVAPSEEGKWNGLPWWNKLTSQLESPQPHLNVSEKALLWRWLENLRRILGDPSYKGQAEAIDAIGGLLDDFQNSLGPRPMDQGLSLSNNPQFFGVAINRGVLEGINRPVKAEAQSSWVRLVPSKSKGQVKPLLIIDQNISSAWGKPPQDIWIHEEQTLASLQIQDLREKKITWPDVEWKESKDLFMEEFRFVDQEDALPGAFLPPGTKLIFQGKSITPLIPINPVLLDYFTPEDLIAKVEFAQINSSDGXQVRVTLDLPLSGMKBDXRQPQNYRIXXDYPIXDXNALPEVPVLEVWPNFLAXGWRSYYAFYYDAEFGEDTFQVXLPEAKXXHXFIDGRGAXQITHLEEFPSFIECQDSSXSPIGLIXLKSPEKIRLGERWKVGVDFGTSFTNIYVNSNDLSEPLKLXXLHLKVTEVLXETRXPVLFEYFVPESFIPXXKPLPXSSVLTTRGKPBXXXNXXXPIIDGRIYVPBYATGLNRSGXG*KQT*SGKITJLTNCF*NX*XXM*ARXRPRXEXNKFSGVFPILRLFLVVIKIXMRR"
       ]
      },
      {
       "output_type": "stream",
       "stream": "stdout",
       "text": [
        "\n",
        "Tery_1206:\n",
        "29616+, to 32149+, 2 nodes (98.16% id)\n",
        "29616+, to 30459-, 2 nodes (98.16% id)\n",
        "VKIFIYHTPEETPTENMPDCAIAVDVLRATTTMATAIYAGAEAVQVFSDIEELMTVSEKWSADKRIRVGERGGKKVEGCDEGNSPLNFTSETVKGKRLFMTTTNGTRCLKRIQNAKVVLAAALVNRRSVVEYLKENQPETVWILGSGWEGSYSLEDTVCAGAIAHSLLAETNSLSDENVGNDEVFGAMSLYLQWQDKLHELMNHASHGQRLQRLECYEDLKYCSQIDRLDVLPMQKEIGVLS"
       ]
      },
      {
       "output_type": "stream",
       "stream": "stdout",
       "text": [
        "\n",
        "Tery_1207:\n",
        "1459-, to 11739-, 10 nodes (74.35% id)\n",
        "1459-, to 17373-, 10 nodes (74.35% id)\n",
        "7760+, to 11739-, 10 nodes (75.05% id)\n",
        "7760+, to 17373-, 10 nodes (75.05% id)\n",
        "14300+, to 11739-, 10 nodes (74.57% id)\n",
        "14300+, to 17373-, 10 nodes (74.57% id)\n",
        "20936-, to 11739-, 10 nodes (74.52% id)\n",
        "20936-, to 17373-, 10 nodes (74.52% id)\n",
        "14301-, to 1757+, 10 nodes (75.49% id)\n",
        "14301-, to 1756+, 10 nodes (75.25% id)\n",
        "29380+, to 1757+, 10 nodes (74.35% id)\n",
        "29380+, to 1756+, 10 nodes (74.11% id)\n",
        "20915-, to 11739-, 10 nodes (76.66% id)\n",
        "20915-, to 17373-, 10 nodes (76.66% id)\n",
        "7761-, to 1757+, 10 nodes (75.44% id)\n",
        "7762-, to 1757+, 10 nodes (75.44% id)\n",
        "7761-, to 1756+, 10 nodes (75.19% id)\n",
        "7762-, to 1756+, 10 nodes (75.19% id)\n",
        "20915-, to 11739-, 10 nodes (76.16% id)\n",
        "20915-, to 17373-, 10 nodes (76.16% id)\n",
        "29380+, to 1757+, 10 nodes (74.54% id)\n",
        "29380+, to 1756+, 10 nodes (74.27% id)\n",
        "3973-, to 11739-, 8 nodes (76.27% id)\n",
        "3973-, to 17373-, 8 nodes (76.27% id)\n",
        "20915-, to 1756+, 9 nodes (76.63% id)\n",
        "20915-, to 1756+, 9 nodes (76.07% id)\n",
        "20916+, to 1758-, 10 nodes (75.72% id)\n",
        "20662-, to 11739-, 6 nodes (75.57% id)\n",
        "20662-, to 17373-, 6 nodes (75.57% id)\n",
        "27988+, to 11739-, 5 nodes (75.24% id)\n",
        "27988+, to 17373-, 5 nodes (75.24% id)\n",
        "20915-, to 11739-, 10 nodes (75.47% id)\n",
        "20915-, to 17373-, 10 nodes (75.47% id)\n",
        "3973-, to 1756+, 7 nodes (76.19% id)\n",
        "20662-, to 1756+, 5 nodes (75.40% id)\n",
        "29380+, to 19790-, 6 nodes (74.26% id)\n",
        "27988+, to 1756+, 4 nodes (75.00% id)\n",
        "20915-, to 1756+, 9 nodes (75.27% id)\n",
        "20915-, to 19790-, 8 nodes (75.36% id)\n",
        "7762-, to 19790-, 6 nodes (75.81% id)\n",
        "7761-, to 19790-, 6 nodes (75.81% id)\n",
        "29380+, to 19790-, 6 nodes (74.52% id)\n",
        "MDSWYAXQRLMXLIDNXXKIYYCPLKXNRXR**XXXCRKIXKSSRXXXE*X*KXXRXXN*N*RJSTRXKXXNILGYCICQQNRIYCY**LNSIIKR*CRV*ISNSMENRRISQRS*AINRFRILSVSSAXNSXXSYCLCNVS"
       ]
      },
      {
       "output_type": "stream",
       "stream": "stdout",
       "text": [
        "\n",
        "Tery_1214:\n",
        "29567+, to 29657-, 2 nodes (80.84% id)\n",
        "29567+, to 30459+, 2 nodes (80.84% id)\n",
        "IIMIGHTLELDDIKKISSPTKIVALFEKLGYHFQMEYLDIEELKLPNYYSEVVDNAYRIYSPKKKELQVFLFELGQEKFQTHRKEQEKIITIFQIISRNKKKSLLIGTKKYNKLIIVAPHSRENTNLKISVKWWLIDCKNPCYYDTYWLENVAINHWKSTEKFTNKDKSEGNYDPDKQPPNGTFIEDSIQLYYKQINNISRLHPEEEIHLAHLIDKLLALEEIYKKLEEKLKRSPNETEWAIEAKINKWELHERLQQGRRAKNKMVTANLRLVVSIAKRYQNRGLDFQDLIQEGSIGLIRATEKFDHTKGYKFSTYGIWWIRQAITRAICDYSRMIRLPVYLYETISQIKKIATQISMECSPVTAEEVATRMEMTREKLHYIIQCAQETLSLDYPESKGENIMYQEVIKFDGETPIKYVFKNCLQEDIETVLNTLTPRERNVLQMRFGLDDAQEKTLKEIGDMFSLTRERIRQIEAKALKKLEDPKRNHILREYI"
       ]
      },
      {
       "output_type": "stream",
       "stream": "stdout",
       "text": [
        "\n",
        "Tery_1216:\n",
        "3095+, to 6394-, 5 nodes (76.15% id)\n",
        "23121-, to 6394-, 10 nodes (75.41% id)\n",
        "2522-, to 6394-, 8 nodes (75.41% id)\n",
        "15015+, to 6394-, 2 nodes (77.67% id)\n",
        "32438-, to 7199-, 10 nodes (74.76% id)\n",
        "10272+, to 7199-, 10 nodes (74.76% id)\n",
        "5211+, to 7199-, 9 nodes (74.76% id)\n",
        "16162+, to 7686+, 10 nodes (74.76% id)\n",
        "10274-, to 7686+, 10 nodes (74.76% id)\n",
        "15989+, to 7686+, 10 nodes (74.76% id)\n",
        "8787+, to 7199-, 5 nodes (73.68% id)\n",
        "15065+, to 7199-, 8 nodes (74.76% id)\n",
        "8787+, to 19976-, 7 nodes (73.68% id)\n",
        "3095+, to 28532-, 4 nodes (72.83% id)\n",
        "18515-, to 18514+, 2 nodes (74.16% id)\n",
        "32438-, to 7728+, 10 nodes (76.24% id)\n",
        "10273-, to 7686+, 10 nodes (74.76% id)\n",
        "10272+, to 7728+, 10 nodes (76.24% id)\n",
        "5211+, to 7728+, 9 nodes (76.24% id)\n",
        "16162+, to 7727-, 10 nodes (76.24% id)\n",
        "10274-, to 7727-, 10 nodes (76.24% id)\n",
        "8788+, to 7728+, 5 nodes (76.24% id)\n",
        "15989+, to 7727-, 10 nodes (76.24% id)\n",
        "15065+, to 7728+, 8 nodes (76.24% id)\n",
        "8787+, to 7728+, 7 nodes (73.45% id)\n",
        "10273-, to 7727-, 10 nodes (76.24% id)\n",
        "32438-, to 7728+, 10 nodes (74.26% id)\n",
        "3095+, to 21677-, 4 nodes (76.83% id)\n",
        "10272+, to 7728+, 10 nodes (74.26% id)\n",
        "5211+, to 7728+, 9 nodes (74.26% id)\n",
        "16162+, to 7727-, 10 nodes (74.26% id)\n",
        "10274-, to 7727-, 10 nodes (74.26% id)\n",
        "8788+, to 7728+, 4 nodes (74.26% id)\n",
        "15989+, to 7727-, 10 nodes (74.26% id)\n",
        "15065+, to 7728+, 8 nodes (74.26% id)\n",
        "10273-, to 7727-, 10 nodes (74.26% id)\n",
        "21244+, to 8369-, 10 nodes (73.08% id)\n",
        "25597+, to 25674-, 10 nodes (71.43% id)\n",
        "28868+, to 25674-, 10 nodes (71.43% id)\n",
        "25597+, to 28532-, 10 nodes (71.43% id)\n",
        "28868+, to 28532-, 10 nodes (71.43% id)\n",
        "2522-, to 28532-, 7 nodes (71.43% id)\n",
        "28868+, to 21677-, 10 nodes (75.68% id)\n",
        "25597+, to 21677-, 10 nodes (75.68% id)\n",
        "32438-, to 7686+, 10 nodes (74.32% id)\n",
        "2522-, to 21677-, 7 nodes (75.68% id)\n",
        "20374-, to 7199-, 10 nodes (74.32% id)\n",
        "10272+, to 7686+, 10 nodes (74.32% id)\n",
        "5211+, to 7199-, 10 nodes (74.32% id)\n",
        "15065+, to 7199-, 9 nodes (74.32% id)\n",
        "2522-, to 7199-, 5 nodes (74.32% id)\n",
        "20373+, to 7199-, 10 nodes (73.97% id)\n",
        "25597+, to 28424-, 10 nodes (73.97% id)\n",
        "28868+, to 28424-, 10 nodes (73.97% id)\n",
        "28868+, to 32259+, 10 nodes (73.97% id)\n",
        "25597+, to 32259+, 10 nodes (73.97% id)\n",
        "23121-, to 19976-, 10 nodes (73.97% id)\n",
        "21244+, to 30915-, 10 nodes (73.01% id)\n",
        "21244+, to 7685-, 10 nodes (70.31% id)\n",
        "15065+, to 7199-, 10 nodes (73.97% id)\n",
        "2522-, to 28424-, 7 nodes (73.97% id)\n",
        "2522-, to 7199-, 6 nodes (73.97% id)\n",
        "2522-, to 19976-, 8 nodes (73.97% id)\n",
        "25597+, to 7725-, 10 nodes (73.61% id)\n",
        "28868+, to 7725-, 10 nodes (73.61% id)\n",
        "23121-, to 7728+, 10 nodes (73.61% id)\n",
        "2522-, to 7728+, 8 nodes (73.61% id)\n",
        "SSSDXHCSEILWNYKNPN*TWF*IXXXXXIFCR*FFCQKXRXSRNNTVYYVTVFISV*XRXXRTEKN"
       ]
      },
      {
       "output_type": "stream",
       "stream": "stdout",
       "text": [
        "\n",
        "Tery_1267:\n",
        "9147-, to 7567+, 10 nodes (76.50% id)\n",
        "9147-, to 7568+, 10 nodes (76.50% id)\n",
        "1394+, to 7566-, 10 nodes (76.50% id)\n",
        "4927+, to 7567+, 10 nodes (76.17% id)\n",
        "4927+, to 7568+, 10 nodes (76.17% id)\n",
        "4927+, to 7568+, 10 nodes (82.14% id)\n",
        "4927+, to 7567+, 10 nodes (82.14% id)\n",
        "1393-, to 4852+, 10 nodes (74.74% id)\n",
        "1104+, to 4793+, 10 nodes (73.51% id)\n",
        "4851-, to 7568+, 4 nodes (81.54% id)\n",
        "4851-, to 7567+, 4 nodes (81.54% id)\n",
        "4851-, to 7568+, 4 nodes (72.78% id)\n",
        "4851-, to 7567+, 4 nodes (72.78% id)\n",
        "1104+, to 2221-, 10 nodes (72.87% id)\n",
        "20788+, to 4793+, 10 nodes (73.51% id)\n",
        "1104+, to 2221-, 10 nodes (79.87% id)\n",
        "26176+, to 2221-, 10 nodes (79.87% id)\n",
        "20788+, to 2221-, 10 nodes (72.87% id)\n",
        "26176+, to 2221-, 10 nodes (72.58% id)\n",
        "20788+, to 2221-, 10 nodes (79.87% id)\n",
        "26176+, to 5688+, 5 nodes (80.70% id)\n",
        "20788+, to 5688+, 5 nodes (71.89% id)\n",
        "26176+, to 5688+, 5 nodes (71.52% id)\n",
        "20788+, to 5688+, 5 nodes (80.70% id)\n",
        "4927+, to 2221-, 7 nodes (70.97% id)\n",
        "26176+, to 5571-, 4 nodes (79.82% id)\n",
        "4927+, to 2221-, 7 nodes (79.31% id)\n",
        "20788+, to 5571-, 4 nodes (71.24% id)\n",
        "26176+, to 5571-, 4 nodes (70.86% id)\n",
        "20788+, to 5571-, 4 nodes (79.82% id)\n",
        "707+, to 5688+, 7 nodes (77.42% id)\n",
        "707+, to 5688+, 7 nodes (78.84% id)\n",
        "19284-, to 7567+, 3 nodes (70.63% id)\n",
        "19284-, to 7568+, 3 nodes (70.63% id)\n",
        "5690-, to 5688+, 2 nodes (75.79% id)\n",
        "707+, to 5571-, 6 nodes (76.61% id)\n",
        "707+, to 5571-, 6 nodes (77.88% id)\n",
        "RLYLCLVKKXGKKXMVSKRENEVKEKI**PGEEKRKKI**XQLYXKXX*MPWDL"
       ]
      },
      {
       "output_type": "stream",
       "stream": "stdout",
       "text": [
        "\n",
        "Tery_1276:\n",
        "22860+, to 33843+, 2 nodes (84.76% id)\n",
        "33609+, to 33843+, 2 nodes (84.59% id)\n",
        "MLDQTKXPIXETLQNLTQKSHAPFYAPGHKHGKXIPQPLTELLGXEVFPADLPELPELDNLFAPDGVIQEAQELAAETFGALHTRFLVNGSTTGIIAGILATCGNGEKIILPRNIHQSVISGLIISGAIPIFINPEYDFHWDIPLSITAESIGQTLAKHPDTKAVMIVNPTYHGVCGNIRAIAQQVHKYNIPLLVDEAHGAHFAFHSELPIPALVSGADLSVQSTHKTLGAMTQASMLHIGSBRIDLYRLQQALQILQSSSPSYLLLASLDAXRQQMALFGEELMSQTLELAKNARNRISQLWNYSVFDLKGREKKKQEINFICLSEYSDFLDNEVKKEIRESGKIFPTPNTQLLTPNFPIENSSNSGFIALDKTRLTIKVSNIGFSGYEADKILHQELGVTCELPSFLNLTFIISPGNTLADINQLVTGLISLRNRGSINLAANHGTKLDFKVTNFSIPVSPRDAFFAQKDCVPIAKSVGYISAELLCPYPPGIPVLIPGEIITEKHLQILQQVRANGSLMTGCSDPVFKTIKVSKL"
       ]
      },
      {
       "output_type": "stream",
       "stream": "stdout",
       "text": [
        "\n",
        "Tery_1278:\n",
        "27057-, to 3009+, 8 nodes (71.31% id)\n",
        "27057-, to 3010+, 8 nodes (71.31% id)\n",
        "28261+, to 3009+, 10 nodes (70.29% id)\n",
        "28261+, to 3010+, 10 nodes (70.29% id)\n",
        "22598+, to 3009+, 10 nodes (70.29% id)\n",
        "22598+, to 3010+, 10 nodes (70.29% id)\n",
        "27057-, to 2613+, 7 nodes (71.73% id)\n",
        "13604+, to 3009+, 10 nodes (70.70% id)\n",
        "13614-, to 3009+, 10 nodes (70.70% id)\n",
        "13604+, to 3010+, 10 nodes (70.70% id)\n",
        "13614-, to 3010+, 10 nodes (70.70% id)\n",
        "22598+, to 2613+, 9 nodes (70.61% id)\n",
        "27494+, to 2614+, 10 nodes (71.90% id)\n",
        "28260-, to 2614+, 10 nodes (71.90% id)\n",
        "27057-, to 7762-, 6 nodes (72.73% id)\n",
        "27494+, to 2613+, 10 nodes (71.01% id)\n",
        "28260-, to 2613+, 10 nodes (71.01% id)\n",
        "13614-, to 2613+, 9 nodes (71.09% id)\n",
        "13604+, to 2613+, 9 nodes (71.09% id)\n",
        "14181-, to 3009+, 6 nodes (70.77% id)\n",
        "14181-, to 3010+, 6 nodes (70.77% id)\n",
        "22598+, to 7762-, 8 nodes (71.48% id)\n",
        "14182-, to 3009+, 6 nodes (70.77% id)\n",
        "14182-, to 3010+, 6 nodes (70.77% id)\n",
        "14181-, to 2613+, 5 nodes (71.26% id)\n",
        "4896+, to 7762-, 10 nodes (72.11% id)\n",
        "21415+, to 7762-, 10 nodes (72.40% id)\n",
        "13604+, to 7762-, 8 nodes (72.11% id)\n",
        "27086+, to 7762-, 10 nodes (72.11% id)\n",
        "13614-, to 7762-, 8 nodes (72.11% id)\n",
        "14182-, to 2613+, 5 nodes (71.26% id)\n",
        "4896+, to 2612-, 10 nodes (72.65% id)\n",
        "21415+, to 2612-, 10 nodes (72.95% id)\n",
        "27086+, to 2612-, 10 nodes (72.65% id)\n",
        "14181-, to 7762-, 4 nodes (72.55% id)\n",
        "14182-, to 7762-, 4 nodes (72.55% id)\n",
        "XRRQYSGNEHQVVXGIGIVNCVYFNPQNEQLWIIDYRIYDPDTDKKTKIDHVEEMILNAINNKKIPFKTVLMDXXYATQR"
       ]
      },
      {
       "output_type": "stream",
       "stream": "stdout",
       "text": [
        "\n",
        "Tery_1296:\n",
        "14941+, to 16131-, 2 nodes (86.03% id)\n",
        "14941+, to 24604+, 2 nodes (85.38% id)\n",
        "MSLSRASGILLHPTSFPSPFGVGDLGQEAYNFVDFLKNSGQKIWQVLPLGPTGFGNSPYQAYSAMAGNPLLISPDKLKDEGWLCVRDISDIPAFPKDQVDFDLVAQLKSSLLKTAYQNFQKDTSEEKKETFKKFCNSKAFWLDDYAFYMALRDAHQGASWHTWDKDIALRQPAALEKWQQRLADKIQYHKFLQYLFFQQWDELKSYANEQGIKIFGDVPIYVAHDSADVWANPQIFSLDSQTNEPSFMAGVPPDYFSENGQLWGNPVYRWDKLEEENFSWWVQRIQSMLDIVDLIRVDHFLGLVNYWVVPQGETTAKNGEWMTAPGEALFNTIKEKLGTLPIIAEDLGVITSDVERLRDKFEFPGMKILHFAFDSDSDNPYLPNNYNSTNWVVYTGTHDNNTTVGWFNKRSPEEQERVYRFITDSRGNGIHWDLIHLAMSSXAYMAIFPLQDILGLGEEAIMNQPGVPDGNWSWRYXSEMLTSDIRDRLKEVTXLHGRTPKN*QD"
       ]
      },
      {
       "output_type": "stream",
       "stream": "stdout",
       "text": [
        "\n",
        "Tery_1318:\n",
        "33028-, to 26868-, 2 nodes (92.34% id)\n",
        "33028-, to 18840-, 2 nodes (92.34% id)\n",
        "MRLSQMLLVTLRNDPAEAEIPSHKLLIRAGYIRRIGNGIYAYLPLMLRVINKVSKIVREEMNATGAQECLLPQLQPAELWQESGRWDTYTQAEGIMFSLIDRQNRELGLGPTHEEVITTVAQDMIRSYRQLPLHLYQLQTKFRDEIRPRFGLMRGREFIMKDGYSFHADEESLKKTYQDMDQAYRNMLRRSGLQFRAVDADSGAIGGSGSQEFMVLADAGEDEILYTEDGKYAANVEKAISLPVDAEVSPFDTYEKLETPGTETIEKMCEFLHCSATNIVKNVLYQASYDNGITVLVLVSIRGDQDVNDVKLLNELTKYAGNYEAKAVLALTVPDVEAQKKWAAKSLPLGYIAPDLSEDYITSSKQVSPKFLRMVDQTAYTLTNFATGSNELGYHVVGANWGQEFDLSELVVDVRKAQKGDRAVHDPSQILETARGIEVGHIFQLGKKYSEAMGATYTNENGQEVPLVMGCYGVGVSRLAQAAVEQSYDKDGIIWPVAIAPYHVVICIPNIKDPQQIEVAGNLYEELNEAGIETILDDRDERAGVKFKDADLIGIPYRIVTGRSLKYGKVELVERATHQSQEIIVAQILSTLKDLIEKALK"
       ]
      },
      {
       "output_type": "stream",
       "stream": "stdout",
       "text": [
        "\n",
        "Tery_1325:\n",
        "11787+, to 24419+, 2 nodes (95.99% id)\n",
        "11787+, to 4462-, 2 nodes (95.99% id)\n",
        "MTILSPELKKKLSTPLKIGNFEVKSRVLQSPLSGVTDLVFRRLVRRHAPESMMYTEMVNATGLHYVKELPQIMEVDHNEKPISIQLFDCRPDFLAEAAEMAVKEGADTVDINMGCPVNKITKNGGGSSLLRQPELAREIVSKVVKAVPVPVTVKTRIGWNNQEINILEFAQRMEDAGAQMLTLHGRTRAQGYNGPARWEWITKVKEILSIPVIANGDIFSVDAAILCLEETGADGVMCSRGTLGYPFLVGEIDYFLKNGVGKASPTAVEKLECAKDHLRALWEYKGDRGIRQARKHLTWYSKGFPGAGELRGQLAKVETVAQGCDLIDQVIENL"
       ]
      },
      {
       "output_type": "stream",
       "stream": "stdout",
       "text": [
        "\n",
        "Tery_1352:\n",
        "21489-, to 28309+, 7 nodes (92.84% id)\n",
        "21489-, to 28309+, 7 nodes (92.84% id)\n",
        "21489-, to 28309+, 7 nodes (92.84% id)\n",
        "21489-, to 28309+, 7 nodes (92.84% id)\n",
        "21489-, to 28309+, 7 nodes (92.84% id)\n",
        "21489-, to 28309+, 7 nodes (92.84% id)\n",
        "21489-, to 28309+, 7 nodes (92.84% id)\n",
        "21489-, to 28309+, 7 nodes (92.84% id)\n",
        "MATSSTISRIQVQEFLANKPPFNKLSENGLKTQLVGKCQLLGYRTGQPLFESEKMPNQIAIIYQGQARVLGYEQRSQRHTSLQLAGPGEILGWAGLLRGMPCETVLASTDLIAVTLPAADFLAILQAEPEFGKVFLERPAISEVFDLLSQEFARRAEVNTNLKQLTKNVLPNTVVVNLLKGDNKTKELTSILEPEKIWLVSSGTVGDCPPGSKVVLDGAGRSIKIEGPRGARILGFPEQHEEQIIENGGETGQLGPWDLSMVPQAPTRPPEPTVVQDSPSKKYPIFRAKGKIAAPLACFQMLAKHLGLRFRRDVIRRVLDNQIRTAGRVSMQACGAIAQMMGLTGQLAQVSASAVPRLRAPALIEWQDSFALLYSITEQEIVLGSPESGLSRLKPGEFQEIWGESGQILLLQAPKTEQKEKFSFWWFVPSLMEHRTVFIEVLISSFFVQVFGLVNPLMTMIIIDKVMGQRNIEALDVLGILMLLVALFEALLGGLRTFLFVDTTNRIDVKLSSEVIDHLLRLPLTYFDNRRVGDLVGRIGELANIRNFLTGTALTVVLDAVFSVIYIAVMLALNPLMTAVALAGLPFFAGIILINSPIVRRLLRKKAERYADSQSYLVEVLNGVQTVKAQNLELRSRWEWSGRYAKFMTASFNTVLTQTTSSSISTFLNKLSGLALLWVGAYLVIDGQLSVGGLIAFRIIAGNVTGSLLRFVSVWQSFQEVGMSIERLRDVLDTEAEVDEEDRNNIDMPPINGNVRFEELCFRFTQSGALQLANINLEFPAGHFVGIVGLSGSGKSTLMKLLQRLYPPLSGRIFIDGYDIQKVELYSLRRQVGVVLQDTLLFNGTVQDNIALTNPDATTDEIIRAAKIAVAHDFIMDLPSGYNTMVGERGSSLSGGQRQRIAIARTVLQNPKLLILDEATSALDYSSERQVGENLAEAFTDTTVFFITHRLTTVKNANTIIMMDKGSVVEEGTHDELMAVKGRYFCLYQQQESQQ"
       ]
      },
      {
       "output_type": "stream",
       "stream": "stdout",
       "text": [
        "\n",
        "Tery_1403:\n",
        "24868-, to 16242-, 2 nodes (85.86% id)\n",
        "3449+, to 16242-, 2 nodes (85.86% id)\n",
        "MLKIQNLLLTSSFFYLYLSTYCLAKTPEFSEYTLXKTTINIISQRQTETEEELESPDIFSPNPLESTZPDPLLPNPPTTXXXTGEKREELSQELDXLNVEAAALLAAGETTKAFEIWNRELRLXRYLXKAEELAALSRVAEIAWNNSQKLQVQWITKRLETLXPEIKEQEPPNLELLQALGSAFNTVRAKDSGVEIYQQVISEARKQENVVTLKQALTAVGEIYLNWLDYDNAAIAYEELLEVQQQSNLELSEIETTNFLISGNFEQANTLKQLAFIYNQGGKPLQAITAKERLVDFYEGQQNIAEVPEIKISIAEDYEELGRLNLASQYYQEAYSIAQSIQQFLTASDALENLAALYLSQDEKEAAIEIYKVQLLMDQQFVNVYGMMETYDRMGQVYAQLKAYGLAMSSFQRGLELSRQLGGYRESYFLQKLDKLNRN"
       ]
      },
      {
       "output_type": "stream",
       "stream": "stdout",
       "text": [
        "\n",
        "Tery_1416:\n",
        "11794+, to 14872+, 2 nodes (93.03% id)\n",
        "11794+, to 14873+, 2 nodes (93.03% id)\n",
        "LPGVGPKTAQRLALHIIKRPETEVQALAQALVDAKKKVGLCQKCFHLSAEPVCEICRNPQRDQEVICVVCDSRDLIALEKTREYKGLYHVLGGVISPMDGIGPEQLSIQPLVRRVSQGNIQEVIIAISPSVEGETTTLYVGQLLRPFTKVTRIAFGLPMGGDLEYADEVTLARALEGRRELE"
       ]
      },
      {
       "output_type": "stream",
       "stream": "stdout",
       "text": [
        "\n",
        "Tery_1417:\n",
        "23201+, to 11793-, 2 nodes (89.35% id)\n",
        "23201+, to 13003-, 2 nodes (88.98% id)\n",
        "MTNKDPNLLLPKGLIVSCQAPTDSPLYHPEVIAAMAQASILQGAVGVRINTPPHILAVRQRITQPIIGLWKQQIPGFEVYITPRFSDAKAIAEVGADIIAIDATLRKRPEGATLATLINFIHNELGKPVMADVDTXEVAKVAVAAGADFIATTLYGYTQETKTESPPGFELLKXMVDNLTVPAICEGGIVSPAMAKKAIBLGAYAVVVGTDITGIDSKVKAY"
       ]
      },
      {
       "output_type": "stream",
       "stream": "stdout",
       "text": [
        "\n",
        "Tery_1440:\n",
        "29746+, to 25766-, 4 nodes (89.49% id)\n",
        "100+, to 25766-, 4 nodes (89.32% id)\n",
        "8232+, to 25766-, 3 nodes (88.34% id)\n",
        "MDIDXLVELADNLIFTKTRZXLTSLQKEVLKGTLNGKKYPQIADDCKRHPDHIKQVGTKLWKLLSDILGKNIKKSNARSILEKLHFSHISNTGDDCVNINNNHINICGENKQSPIPQNKSSSTLTDQNQNNTNPENNYDLSEAPDLYSLCDRHTELTTLKRWILQNHSRIITILGLTGIGKSTLTIELIAQIKDKFDYIIWRNIDNYSSCESLQKNIIQFLSQTDFASQKKEKNSNYKTINNQLIDYLRKYRCLLIFDNLQEIFASGKLAGTYLQEHEKYGKCFQQIATLSHQSCLLLLSQEQPKIISSNNHCQTLKLDGLGRKSASVILKSRNLTDEEQWLELINLYSGNPLWLNIIADAVEDLCDRNVTQFLSCPSIYLGDLEPILERYFQGLSELEKQVILWIASQETAIDISTTPPDIPLLQSDLWKAIQSLKRRCLVTKKDNLLSLLTVLKQYIKSNHLH"
       ]
      },
      {
       "output_type": "stream",
       "stream": "stdout",
       "text": [
        "\n",
        "Tery_1458:\n",
        "17422- to 17422-, 1 nodes (91.42% id)\n",
        "17422- to 17422-, 1 nodes (72.78% id)\n",
        "MKKRSLKIILGTILTSLLIIFTSCQQXPXSXXVTIXSAXXSXWVXELFQTXIVNIGLXKLGYKXXKPKQXXYXXIYISIXNGXLXYSTXYYXPXHXXXFXNXGGEXKLEXVGXLTPXGXQXYZIDKXTADKYXITXJXQLKDPXIAKLFDSDXDGKANLVGCXXGWXCELXIBHXLKXYXLEDTVXHNXGQYXXLLADAJTRYKXGESILYYAYBPHWISXVLKXGEDVVXLXXPFTSLPXXMXXJXEKDTSXDGKNLGFPXXXQXIVANKXFJEXNPVAKXWFELVXIPIXDMNXESLRIKEGEBKEEDILXHAQEWXXNNQEKYBXWLEXARQXXN"
       ]
      },
      {
       "output_type": "stream",
       "stream": "stdout",
       "text": [
        "\n",
        "Tery_1459:\n",
        "17422- to 17422-, 1 nodes (76.04% id)\n",
        "17422- to 17422-, 1 nodes (72.78% id)\n",
        "MXXRXLKIILGXIXTSJLIIFTSCQQXPXSXXVTIXSAXXSXWVXELFQTXIVNIGLXKLGYKXXKPKQXXYXXIYISIXNGXLXYSTXYYXPXHXXXFXNXGGEXKLEXVGXLTPXGXQXYZIDKXTADKYXITXJXQLKDPXIAKLFDSDXDGKANLVGCXXGWXCELXIBHXLKXYXLEDTVXHNXGQYXXLLADAJTRYKXGESILYYAYBPHWISXVLKXGEDVVXLXXPFTSLPXXMXXJXEKDTSXDGKNLGFPXXXQXIVANKXFJEXNPVAKXWFELVXIPIXDMNXESLRIKEGEBKEEDILXHAQEWXXNNQEKYBXWLEXARQXXN"
       ]
      },
      {
       "output_type": "stream",
       "stream": "stdout",
       "text": [
        "\n",
        "Tery_1470:\n",
        "28548-, to 22687+, 3 nodes (91.77% id)\n",
        "28548-, to 22687+, 3 nodes (91.77% id)\n",
        "MLPLLKKIGEIIANWWSEFTLQTKLLAVITLIVSLLMSSLSFWAVNTIQEDARLNDTRYGRDLGLLLAANVAPLIAEDNRNEVARFSRLFYNSTSSVRYMLYADEEGKIFLGLPFSESEVKTSLTLRRRIQLPEDFMANIEAKNFSASPSVRQHLTPNGQLTDVFVPLISQSKYLGVLAVGINPNPTVVVSSNLTRDVTLAVFVSIWAMVILGAVFNALIITKPIKKLSEGVKNIAQGNFKQRIDLPFEGELGELILSFNEMAEQLENYKKQNIEQLTAEKAKLETLVSTIADGALLLDANLQLILVNPTARRIFSWEEKDVIGGKVTDXLPLAVZXELNRPLYQIATGEIEGGEYRCHLDEPKRIIRVLLTTVLLHRASGTESLCKSCIYDAYDSCXAADRPVVYECTIYENKPEADFLSPYRNSLKGIAMTIQDITREVELNDAKNQFISNVSHELRTPLFNIKSFIETLHEYGEDLSEVERREFLETANHETDRLTRLVNDVLDLSRLESCLVYHLNAVDIAQPIEQTLRTYHLNAKDQGIELNYEIEPNLPLVVGHYDLLLQVFANLVGNAMKFTESAGRIVIRAYLLESDIEIEQIEQGGWIVSPPPPRPTELHLQSENSSNQFVRIEISDTGSGIEPEDQEAIFERFFRVENRVHTLEGTGLGLSIVRNIIDKHHSKVNLVSELGIGTTFWFDLAVFEEKLVPEENKLLEV"
       ]
      },
      {
       "output_type": "stream",
       "stream": "stdout",
       "text": [
        "\n",
        "Tery_1476:\n",
        "22711+, to 17566-, 2 nodes (90.65% id)\n",
        "22711+, to 31153-, 2 nodes (90.65% id)\n",
        "MSNPLLSLKYEPAIQALGGNYYDEVLAAEFPQHILRFRNDKLLPKIGLNSQDVKDEHFIEAFGKFHCVGPFLALRYHGYQFGEYNPYLGDGRGFLYGQVRGIDGELYDFGTKGSGRTPYSRSADGRLTLKGGVREVLAAEMLHRHGVRTSRCLSLIETGEGLWRGDEPSPTRSSVMVRFSRSHIRFGTFERLHFFKRPDLTKQLLDHVIDCYYCNLKEESISQKDPFRNRYFLFYLELVERIAKLVAQWMAAGFCHGVLNTDNMSITGESFDYGPYSFIPTYNPQFTAAYFDYSGLYRYSHQPLVCKSNLHLLQEALSGVIDPKNMRSALEKFDDFYLYEYRQLMMRRLGFEKLGEAEAEKLLQLTLKMLKDSQVGYQDFFVELRQEFSPQWRDDISQIFANFEQQKLIEPWRECYYHLLQTYSDNELKEMAKRLQQYNPQQSLIRSVIESVWEPITLEDNWQPFYDLLQQIYD"
       ]
      },
      {
       "output_type": "stream",
       "stream": "stdout",
       "text": [
        "\n",
        "Tery_1507:\n",
        "18283-, to 6753-, 2 nodes (74.73% id)\n",
        "6400+, to 6753-, 2 nodes (75.49% id)\n",
        "MNRNRKLVLLIVLIAVIGSLALFAWQNWSPSLQLTFLGLKSRPLPISIWIJGALIAGVVTYLFIYGLFELSNYLFKQNLQSPRATSXTLQHQAXSXESRDRYSQSEEISNSQSSFNLXKDSELREEDENIDDWKQETPXISNSWDSSRKEQDIEDTQKSVSQDSTEKNYEVEQEPKTESCSSSVYSYGYRSPSGSGIAQTESVYDADYRVITPQPPQDKSTPTRQKEDEEVLPKE"
       ]
      },
      {
       "output_type": "stream",
       "stream": "stdout",
       "text": [
        "\n",
        "Tery_1533:\n",
        "12492+, to 17305+, 2 nodes (75.14% id)\n",
        "12492+, to 17304+, 2 nodes (75.14% id)\n",
        "NQALPETIDVDKLLNKTSLTVHKREISSFKKSKFSDELTPKLMDKHGEEKAVPKSSISQFKKTEQIKLITNSKTYLREKNITQIQILTPTLSNTQHILIPFEIVNTLIPSQPSYSQNTQNSPRPLENPRPDPNRDRFLQPLPQPTKPETPKEKELERPTPLLPLPKDPDQQITVLKVLVSGSTILTPQEIKTLVEPLEGRLVTVLKLRQIADKITEIYLDRGYVTSRAILPSQNIGDGIVEIKVIEGILGEIQIEGTKRLHNSYIESRIRLGERKPLDSARLEKKLRLLQSNPLFENLEASLRQSEIDGESILIIRVTEKKPLELSMSVDNYSSPSVGSERTGWTALHRNLTGRGDLFVASYNTTRLFDDESDVFDFIYNLPINAMNGTLQARVAPNSNRIGQEFLKDLKITGTTDVYEFSYRQPILRNPQQEFALSLGLSYQRTKNFLNDELFNFADPNNTEDDGINSTTVIRLGQDYVRRDSLGAWALRSQFNIGTGLFDATVRKDPQPDGHFLSWLGQVQRVQRLSNNHLLIVQGDLQLSSTGMLPYQQFIIGGGLSLRGYGQNVRSGDSGLRFSIEDRITVYRDELGLPLIQFTPFIDIGAVWNDGSNPNNESLPDERFLAGAGIGLIWQILPQVDLRLDYGLPLIHLDDRRNNAQDSGFYFSVIVRP"
       ]
      },
      {
       "output_type": "stream",
       "stream": "stdout",
       "text": [
        "\n",
        "Tery_1552:\n",
        "3398-, to 3396+, 2 nodes (92.52% id)\n",
        "23107+, to 3396+, 3 nodes (92.23% id)\n",
        "VHLPFHLSXHRYSYPEKSMNHIKSLAPAVYILGAGPGDPDLLTVKADKILATADVILYADSLVPKQMLGNVRPNAEVITTANKTLEEILPLMIDRVRKGLSVVRLHSGDPSLYGAVYEQMQLLAEAGIDFEIVPGISAFQDAAAKLKVELTVPGLVQTIILTRISGKATAVPSREELGSLAAHGASLCLYLSARYVWEAQEKLMEHYSAEIPVAICYRLGWPDEKIWVAPLEKMAVLTEEKQLVRTTLYVISPALEKLEKVGRSGLYDPEHNHLFRGKHNRKN"
       ]
      },
      {
       "output_type": "stream",
       "stream": "stdout",
       "text": [
        "\n",
        "Tery_1562:\n",
        "5118-, to 18095+, 5 nodes (87.89% id)\n",
        "5117-, to 18095+, 5 nodes (87.57% id)\n",
        "MQVSTKAEKAIINHSPSETITLDVSGMKCAGCXKAVERQLTQQXGVISARVNLATEVATVECETNLIDPSTLAQRLTBNGFPTQPRLDNSENYAAKKQTERHRQEMKQQIWRIAIASLLLIMSGIGHLGHFMGSEIPILGNIWFHAVLASLALFVPGQEIIIDGARSLLRNAPNMNTLVGLGAVTAYTASMVALLFPQLGWECFFDEPVMILGFILLGKTLEQQARYRAASTLHSLIALQPETARLVSAPNNSKNSSESLDIPASQVKVGEYLQVLPGEKIPVDGKISDGKTTVDESMLTGESIPVIKEFGANVAAGTINKSGTIVMQATRTGSESTLAQIVKLVETAQTRKAPIQNLADTVAGYFTYGVITLATLTFLFWYFVGTNIWSQVLQTFSHHGSMTYSASPLLLSLKLAIAVLVIACPCALGLATPTAILVGSGVGAQKGLLIKGGDVLEKVHELDTIVFDKTGTLTTGHPNVTNIVAKNPELLLQVAASVESGTSHPLAEAILQKAQQENMTLLSAINFYTEPGLGASAIVDGKLALVGNLEWLKKHEVVLEQDNIPSLTDKTAVYVSMDGVLLGVIEVSDALRDDALATVKVLQGMGLKVMLLTGDRSCVAEIIAQQLGLTPEHVLAEVPPAGKAEAIAALQSKGEKVGMLGDGINDAPALAQANVGIGMQAGTDVAMEAADIVLMQDKLTDVVESIKLSRDTFNKIRENLFWAFAYNIVGIPVAAGVLLPSLGIILNPAAAGALMAFSSVSVVTNSLLLRSR"
       ]
      },
      {
       "output_type": "stream",
       "stream": "stdout",
       "text": [
        "\n",
        "Tery_1573:\n",
        "10485+, to 22067-, 4 nodes (98.64% id)\n",
        "10485+, to 21290+, 4 nodes (98.64% id)\n",
        "10485+, to 22067-, 4 nodes (97.96% id)\n",
        "10485+, to 21290+, 4 nodes (97.96% id)\n",
        "VGRTLIDEEQLLDQLDIVRLNLPVAFQEAEMIVRHKDDIFQEAELYAEEIIENAEQRASQILNEMGLVQQAKLEADQLRNQVQLDCEAIQQATIAEIEQIRYQAQQELEXMRARAIAECDEIQNGADDYADHVLDSIEQQLTNMLQVIRNGRQQLGGDGTLGTTLNHTND"
       ]
      },
      {
       "output_type": "stream",
       "stream": "stdout",
       "text": [
        "\n",
        "Tery_1579:\n",
        "13184-, to 22066-, 5 nodes (96.67% id)\n",
        "13184-, to 22066-, 5 nodes (96.43% id)\n",
        "13184-, to 22066-, 5 nodes (96.43% id)\n",
        "13184-, to 22066-, 5 nodes (96.19% id)\n",
        "MNSGIDLQRTFIQALLDMGLPSEIAKTLWLPFPMLLMIIVATVGVLVTVWLERKISAAAQQRIGPEYMGPLGTLAPLADGLKLVFKEDVVPAKADPLLFTLGPVIVAIPVFLSYLVVPFGQNLVITDLGVAIFLWIALSSIQPIGLLMSGYASNNKYSLLGGLRAAAQSISYEIPLALAVLAVXMMSNSLSTIDIVEQQSSYGILGWNIWRQPLGFXIFWIAVLAECERLPFDLPEAEEELVAGYQTEYTGMKFALYYLASYINLVLSSLLVAVLYLGGWQSPFPVELLSDWFGVSETTPWLQIINATLGITMTLLKTYLLVFIAVLLRWTLPRVRIDQLLDLGW"
       ]
      },
      {
       "output_type": "stream",
       "stream": "stdout",
       "text": [
        "\n",
        "Tery_1582:\n",
        "23723+, to 13184-, 5 nodes (85.84% id)\n",
        "23723+, to 13184-, 5 nodes (85.24% id)\n",
        "23723+, to 13184-, 5 nodes (85.24% id)\n",
        "23723+, to 13184-, 5 nodes (84.64% id)\n",
        "ISMASVLVLNASYEPLNITSWRRAIVLLLKGKAVQIEHNGIYVLPDLLLPTVIRLRYYVRVPYKDIPLTRQNIMHRDGHSCQYCGYVGNDLTLDHVVPRSRGGGDTWXNLVTACVRCNVQKGNRTPXEANMILGSRPKKPYSGLYFELTKHLKSGSNKEWRKYVIGL"
       ]
      },
      {
       "output_type": "stream",
       "stream": "stdout",
       "text": [
        "\n",
        "Tery_1583:\n",
        "23723-, to 900-, 9 nodes (91.48% id)\n",
        "23723-, to 900-, 9 nodes (91.48% id)\n",
        "23723-, to 900-, 9 nodes (91.48% id)\n",
        "23723-, to 900-, 9 nodes (91.48% id)\n",
        "23723-, to 900-, 9 nodes (91.48% id)\n",
        "23723-, to 900-, 9 nodes (91.48% id)\n",
        "23723-, to 900-, 9 nodes (91.48% id)\n",
        "23723-, to 900-, 9 nodes (91.48% id)\n",
        "23723-, to 900-, 9 nodes (91.21% id)\n",
        "23723-, to 900-, 9 nodes (91.21% id)\n",
        "23723-, to 900-, 9 nodes (91.21% id)\n",
        "23723-, to 900-, 9 nodes (91.21% id)\n",
        "23723-, to 900-, 9 nodes (91.21% id)\n",
        "23723-, to 900-, 9 nodes (91.21% id)\n",
        "23723-, to 900-, 9 nodes (91.21% id)\n",
        "23723-, to 900-, 9 nodes (91.21% id)\n",
        "MLSWEKTSFKTLAIENDVYGGICQRAWIEVNDQALIYNVQQLKXLLSAKTQLMGVVKADAYGHGACKISKTILEAGVDWLAVATLPEGIELRLAGIKAPILILGAIDRPEQIQALAHWQLEPTICTPQQALVFSETLSCQIELMPVHLKLDTGMSRLGTPWQQAVEFVKFVQGLPNLKITSIYSHLATADDLDQTVMKQQHQRFEEAIGFCGISGKDFAGNIRLHLANSAATLTDSALHYDMVRVGLAIYGLYPAPHLQDKINLKPVMQVKARVTQVKTIEAGTGVSYGYQFIAPKQMGLAVVGIGYADGVPRNLSNNMKVIVRDQIIPQVGAITMDQLMLDVSAIPDLETGEVVTLLGQVGKYQISPEDWANTLGTISWEILCGFKNRLPRVAV"
       ]
      },
      {
       "output_type": "stream",
       "stream": "stdout",
       "text": [
        "\n",
        "Tery_1586:\n",
        "7533+, to 14135-, 5 nodes (85.24% id)\n",
        "7400+, to 14135-, 5 nodes (83.76% id)\n",
        "7533+, to 2579+, 4 nodes (84.87% id)\n",
        "7400+, to 2579+, 4 nodes (83.19% id)\n",
        "7533+, to 19411-, 3 nodes (84.26% id)\n",
        "7400+, to 19411-, 3 nodes (82.23% id)\n",
        "XAIDXXKKRXXKLXXFIKJLKLISVGVXXFAIAGIXIXPLJGNKPVDXVEXTTSVLPPXNYTIIMGKQDNEVVIKFYKQASELHLKNISTEQYNCLLNGGGLNCVLATAY"
       ]
      },
      {
       "output_type": "stream",
       "stream": "stdout",
       "text": [
        "\n",
        "Tery_1588:\n",
        "4384+, to 14297-, 10 nodes (97.39% id)\n",
        "4384+, to 25945-, 10 nodes (97.39% id)\n",
        "4384+, to 14297-, 10 nodes (96.98% id)\n",
        "4384+, to 25945-, 10 nodes (96.98% id)\n",
        "21848+, to 14297-, 9 nodes (98.24% id)\n",
        "21848+, to 25945-, 9 nodes (98.24% id)\n",
        "12462-, to 14297-, 9 nodes (98.02% id)\n",
        "12462-, to 25945-, 9 nodes (98.02% id)\n",
        "4386-, to 691+, 10 nodes (97.30% id)\n",
        "4386-, to 16056+, 10 nodes (97.30% id)\n",
        "4385-, to 16056+, 10 nodes (97.30% id)\n",
        "4385-, to 691+, 10 nodes (97.30% id)\n",
        "4386-, to 16056+, 10 nodes (96.85% id)\n",
        "4386-, to 691+, 10 nodes (96.85% id)\n",
        "4385-, to 16056+, 10 nodes (96.85% id)\n",
        "4385-, to 691+, 10 nodes (96.85% id)\n",
        "4386-, to 14297-, 10 nodes (97.06% id)\n",
        "4386-, to 25945-, 10 nodes (97.06% id)\n",
        "4385-, to 25945-, 10 nodes (97.06% id)\n",
        "4385-, to 14297-, 10 nodes (97.06% id)\n",
        "21848+, to 16056+, 8 nodes (98.32% id)\n",
        "12462-, to 16056+, 8 nodes (98.07% id)\n",
        "9659+, to 14297-, 8 nodes (98.55% id)\n",
        "9659+, to 25945-, 8 nodes (98.55% id)\n",
        "21848+, to 14297-, 8 nodes (98.06% id)\n",
        "21848+, to 25945-, 8 nodes (98.06% id)\n",
        "4386-, to 16056+, 9 nodes (97.02% id)\n",
        "4385-, to 16056+, 9 nodes (97.02% id)\n",
        "4386-, to 14298-, 9 nodes (96.26% id)\n",
        "4386-, to 21107+, 9 nodes (96.26% id)\n",
        "4385-, to 21107+, 9 nodes (96.26% id)\n",
        "4385-, to 14298-, 9 nodes (96.26% id)\n",
        "4386-, to 25945-, 9 nodes (96.50% id)\n",
        "4386-, to 14297-, 9 nodes (96.50% id)\n",
        "4385-, to 25945-, 9 nodes (96.50% id)\n",
        "4385-, to 14297-, 9 nodes (96.50% id)\n",
        "4386-, to 21107+, 9 nodes (95.75% id)\n",
        "4386-, to 14298-, 9 nodes (95.75% id)\n",
        "4385-, to 21107+, 9 nodes (95.75% id)\n",
        "4385-, to 14298-, 9 nodes (95.75% id)\n",
        "9659+, to 16056+, 7 nodes (98.66% id)\n",
        "21848+, to 16056+, 7 nodes (98.13% id)\n",
        "29968-, to 25946+, 8 nodes (96.01% id)\n",
        "29968-, to 14299+, 8 nodes (96.01% id)\n",
        "9659+, to 14297-, 7 nodes (98.38% id)\n",
        "9659+, to 25945-, 7 nodes (98.38% id)\n",
        "21848+, to 21107+, 7 nodes (97.31% id)\n",
        "21848+, to 14298-, 7 nodes (97.31% id)\n",
        "12462-, to 14297-, 7 nodes (97.84% id)\n",
        "12462-, to 25945-, 7 nodes (97.84% id)\n",
        "12462-, to 14298-, 7 nodes (97.04% id)\n",
        "12462-, to 21107+, 7 nodes (97.04% id)\n",
        "4386-, to 16056+, 8 nodes (96.40% id)\n",
        "4385-, to 16056+, 8 nodes (96.40% id)\n",
        "9659+, to 16056+, 6 nodes (98.49% id)\n",
        "12462-, to 16056+, 6 nodes (97.89% id)\n",
        "9659+, to 21107+, 6 nodes (97.57% id)\n",
        "9659+, to 14298-, 6 nodes (97.57% id)\n",
        "29968-, to 16056+, 6 nodes (95.73% id)\n",
        "29968-, to 25946+, 6 nodes (94.34% id)\n",
        "29968-, to 14299+, 6 nodes (94.34% id)\n",
        "MSENXGDKXXXXEXYGXGJNKGNINXXKFAXTXTIYXSQQQNLXEAARDIQELLEQLEKTYPSETTMDRMKIATEVITHIDNHPTKAQKIFXAIKAGGVAAVEQLLNHPASSFVIAALNDWQKSKS"
       ]
      },
      {
       "output_type": "stream",
       "stream": "stdout",
       "text": [
        "\n",
        "Tery_1593:\n",
        "16656-, to 1681+, 8 nodes (89.51% id)\n",
        "16656-, to 1681+, 8 nodes (89.32% id)\n",
        "16656-, to 1681+, 8 nodes (89.31% id)\n",
        "16656-, to 1681+, 8 nodes (89.12% id)\n",
        "6112+, to 1681+, 8 nodes (88.93% id)\n",
        "6112+, to 1681+, 8 nodes (88.74% id)\n",
        "6112+, to 1681+, 8 nodes (88.74% id)\n",
        "6112+, to 1681+, 8 nodes (88.55% id)\n",
        "16656-, to 1681+, 8 nodes (83.29% id)\n",
        "16656-, to 1681+, 8 nodes (83.13% id)\n",
        "16656-, to 1681+, 8 nodes (83.13% id)\n",
        "16656-, to 1681+, 8 nodes (82.96% id)\n",
        "6112+, to 1681+, 8 nodes (82.79% id)\n",
        "6112+, to 1681+, 8 nodes (82.62% id)\n",
        "6112+, to 1681+, 8 nodes (82.62% id)\n",
        "6112+, to 1681+, 8 nodes (82.46% id)\n",
        "MXZKKLLDSKXHXXNGTVETLTDXIGTVXIQSEXALFKPFGKKKKLIWVSLLVVILATTFGSLKFLINRKISLKRTSESSLTNILSVQATPIKLVNSYSVSQSYTGVVEAKRTSELGFEQSGLLKSIYIEEGEKIGKGEAIAQLDTSQTQAQKSVLIAQKERAIATLKELQTGPRVEVIAATRASLEQEKATLKELQTGPRVEVIAATQASLAQEKAKLQELQTGPRVEVIAATRASLEQEKAKLQELQTGTRIEDIQAARSVVLDLEEQVELAQLREKRREELYKQGAISQEQLDVASTETDTLNARLKRGQSELEKLQTGTRSEQIEAQKARVRQVQSQLDELIVGTRSEQIEAQKARVRQVQSQLDELIAGTRSEQIEAQKARVRQVQSQLDELIAGTRSEQIEAQKAEVKRFEAQISEIDVVLRKSILYAPFTGTISVRHLDEGXVVNATQAVVRLVEDGERKVRVGVPPTQASRLRIGSLEEVRXAQKTLSAQVLSILPEVDSMTRTQSVILALPQAIAPGTIVKLELNQIETVTGYWLPTSALVWGERGLLACFALVSPQKSDLVIPPLTYQTEKRMVEVLHTEGDRSLVRGLLKPGELVVTTGTNQLVPGQLVRYRFFGQEKNQ"
       ]
      },
      {
       "output_type": "stream",
       "stream": "stdout",
       "text": [
        "\n",
        "Tery_1594:\n",
        "29867-, to 22711+, 10 nodes (94.91% id)\n",
        "1681+, to 22711+, 10 nodes (94.76% id)\n",
        "11477+, to 22711+, 10 nodes (94.76% id)\n",
        "11477+, to 22711+, 9 nodes (94.73% id)\n",
        "1681+, to 22711+, 9 nodes (94.73% id)\n",
        "29866+, to 22711+, 10 nodes (94.24% id)\n",
        "29867-, to 22711+, 10 nodes (94.19% id)\n",
        "29867-, to 22711+, 10 nodes (94.18% id)\n",
        "1681+, to 22711+, 10 nodes (94.11% id)\n",
        "11477+, to 22711+, 10 nodes (94.11% id)\n",
        "1681+, to 22711+, 10 nodes (93.96% id)\n",
        "11477+, to 22711+, 10 nodes (93.96% id)\n",
        "1681+, to 22711+, 9 nodes (93.91% id)\n",
        "11477+, to 22711+, 9 nodes (93.91% id)\n",
        "19905-, to 22711+, 10 nodes (91.45% id)\n",
        "19905-, to 22711+, 10 nodes (91.45% id)\n",
        "29866+, to 22711+, 10 nodes (90.66% id)\n",
        "29866+, to 22711+, 10 nodes (90.66% id)\n",
        "MTTLFYRNFRLLILAILIIVAWGISSFFTLPRLEDPELVSRFASITTFWPGANAQRVETLITEKIEAELSEIEEIETYDSTSRAGSSIINIGLLESVEERKADTVWLRIKDRLNQATTQLPAGTSKPRLEEXEVKAYAMITALTWEQDTEPNYAIINRLSKLLKXELLALPGTQKXAKFGIPQEEIAVEINPTQLASLGLTAQQLSAQIQQSDAKVSSGXFRSXNNXLLLEVDSNLDSLNRIRBIPISFSDXGQFTRLGDXAKVRKTITEPPNELALINGHPGSALAIFVESDYQIDLWAKSAESAIEKFRKELGIGLKLEIIFNQSNYIXTRLKSXILNLXXSGXLVFLMTVFLMGWKSAIVVXLXLPLSIXMVLGMMRFLNVPLHQMSITGLIXALGLLXDXTIIXVDZVSKXMXSGXXAETAITKAINXLFLPLTASTLTTALXFXXXXLXPGXXGEFXXXJGISXILAVISSLLLSLTIGXGLXGKLYXXYYHHHDSQNTQQXFWQTGFTNSYLTQXYQVSLRSIFSNPWLGILLGLILPIXGXIQVXXLPZQFFPPXXRBQLQIELELXAXXSIEKTKNTAJEVRXLMLKHPEIQELQWFXGRSSPRYYYNLXXTKQXXSNYAQGFLQLNSIANSELVNKLQGEVDAAFPEAQVLIRXLEQGPPXDAPVAMRIYGPNLKRLQELGEQARSLLVQVPKVTHTRDTLXEIRPQLQLQLNEEEVRLARLDPANLSQQLETLLEGNLGGSIIEDTEELPVRVRVLNAQRGDISQITSLDLQPLGSSLNQNRFSSTDTTPLSALAKVKLKPEFSVIRRSNGRRVNLIQGFIAAGVLPSEVLKGWQQRLNDSNFELPSGYWLEIAGESEKLGEAKAVLLATVPLIFLLAASVLVLSLNSFRATAIIGIVAISAIGLGFFSLWLFGCPFGFMSLIGTFGLVGIAINDSVVVLAAILQDPEACAGNRRATRQVVMGSTRHVVTTTLTTMIGFVPLLVKGGDFWPPLVIAIAGGVGGSTLVALYLVPCCYLLVANFGRGKE"
       ]
      },
      {
       "output_type": "stream",
       "stream": "stdout",
       "text": [
        "\n",
        "Tery_1609:\n",
        "24961+, to 723-, 3 nodes (86.88% id)\n",
        "24961+, to 723-, 3 nodes (86.44% id)\n",
        "VQQQIQFSGGLLTGVAAIIIAQVPAFAVTQITQVQLNSVDGGMNIVLVTNNRDRPEVFSVNRDNSFIADIINAQLTLPQGNKFRKDNPAPGIEYVEVIQVDANSVRVVIRGKDSPPRGRIIQGAGQGIILSAAVSSGEIAQRPQPNSFPPPDKVAPPPLEPPTSPVQPERNLAPPRETTTTQEEVLLPDSGLTGDGFPTLPGQPSPSQVPPFLPRAVAPPVGDIAISNINPSVEVIDLRTQEKIPRLVLRDAPVRDVLALLARAAGLNIAYSSGKEKQAGAEEEQTISLDIENEPVQDVFNYVLRLSGLQANRVGNTIFVGQELPAQARNVVVRSFRLNQVGAQEAAGFLVSLGAESAIVTSQPVTQVNTVNIPGTNQAITNTETITRTVVQPLRYDPQDAPPILDGLQIAVDNRLNSITLVGSPQKVEIAAAQLIQLDLRQRQVAVNVKVIDIXLSXXEXFNSSFSFGVNDTFFINDXGAASLNFGSLQPXTQAQQNSSFPLARPXXXNPJXXNDPFYDXQRRFBVPFTGIPNVNQGRGTFLRPIAPTTXEPTRXGIXXYEXSEXXVDXDGJJZXXXGXATFGLFPQILYPKRFLSXLXATXXSGNAKILTDPTLVVQEGEIASVRLVXNIVRXIXSNFTDDGGTSRETRTXXFXDXGLXXAIQVERIDDNGFVTVTVNPEVSFIXZRVXTDXXNXXEFXTEIAXRXVESGRIRLRDGQTLIISGIIQEQERTTVSKVPLLGDLPIIGTLFRSSQNQNERAETIVLLTPQILDDGDRSSWGYRYNPSPDALQMMERGQPRPR"
       ]
      },
      {
       "output_type": "stream",
       "stream": "stdout",
       "text": [
        "\n",
        "Tery_1613:\n",
        "725+, to 18234+, 2 nodes (85.95% id)\n",
        "724+, to 18234+, 2 nodes (85.62% id)\n",
        "MHRILTGQLQXDRLTLKITGLPKNLQNTTLVHLSDFHYDRKRLSEXLLSEAIAITNEVEPDLILLTGDFITDEPTPVDDLVLRLKNLESRAGVYAVLGNHDVEYPGAKHKIIEAFTSIGISILLNQVVYPLGSGLALVGLEDYWSGNFQPLTVMDSINEIVPRIVLSHNPDTAKVLQKWRIDLQLSGHTHGGQIRLPFIGPLPQFAEPIRKLIPKFLRPFVPFVGECHKIVEYWEWSQGLHKVGNNFLYVNRGLGTYFPGRLFCPPEVTVITLVTN"
       ]
      },
      {
       "output_type": "stream",
       "stream": "stdout",
       "text": [
        "\n",
        "Tery_1615:\n",
        "32081-, to 32079+, 2 nodes (80.35% id)\n",
        "32081-, to 32080+, 2 nodes (80.35% id)\n",
        "MTNITIAWMALPFFVGFIIYLLPKLDRFLVLGVVFISADYALYIFSDPFPVNIQLLDSFGVSLTIDKLSGFFIITNAIVTAAVIFYCWDRQKTAFFYMQVTILHGSVNASFICADFISLYVALEVISIASFLLIAYPRSDRSIWVGLRYLFVSNTAMLFYLVGAVLVYQTHHSFNFIGLQGAPSEAIALIFLGLLVKGGIFVSGLWLPLTHSESESPVSAILSGVVVKAGVFPLVRCALILEEIDPIVRFFGVSTALLGVCFAVFEKDTKRMLAFHTISQLGFVLAAPVVGGFYALTHGLVKSALFLITGVLPSRNFKELQQHPIDNQIWVALAIASFSISGFPLLSGFGAKVLTSKNLFPWQDIAMNIAAVGTAISFAKFIFLPHQKNQEKIKVNFGFWWAMALLLGGLIVANAVYYEAYSIKNIIKPLITIAIGWLAYLYIFQKLAIKLPRAIEELDHLIGFMSLILILLFWIAWTQLP"
       ]
      },
      {
       "output_type": "stream",
       "stream": "stdout",
       "text": [
        "\n",
        "Tery_1630:\n",
        "33364+, to 18863-, 5 nodes (85.88% id)\n",
        "31806+, to 18863-, 5 nodes (85.88% id)\n",
        "24000+, to 18863-, 3 nodes (86.28% id)\n",
        "33364+, to 18863-, 4 nodes (86.85% id)\n",
        "31806+, to 18863-, 4 nodes (86.85% id)\n",
        "LAFNSQLNXGLGILXATXNSXEPDXRFXYWRGQGQWVRELAKNTLLVVGADLQLSPXDLVPKEXFGLGGYRSVRAYRQDTRLTDNGALGTVELRLPLPWISGKNRLFQVVPFIDGGVAWNSDDEEVEGSKALAAAGVGLQVNL"
       ]
      },
      {
       "output_type": "stream",
       "stream": "stdout",
       "text": [
        "\n",
        "Tery_1669:\n",
        "13240+, to 22641+, 3 nodes (77.98% id)\n",
        "13240+, to 22640+, 3 nodes (77.85% id)\n",
        "10925+, to 22641+, 3 nodes (77.72% id)\n",
        "10925+, to 22640+, 3 nodes (77.59% id)\n",
        "MMRKLLYLFKQYRLMGVVGLIGITISJMXMLXVENXELAKDRERFQQQSTVLVNELQRQLNSYTQLTISVGTFLNKSEEVTXQEFQEFTSSLLPYYDGLSGLGWSKKVENXERSLYEQQLQSQGLIDFKISEHNSRGNQVLAGXRSVYFPTTYIEPLDRWZDYIGWDAASDIKHLLSIEKAERTGMSVSTPLVQLENDKPGFVLYYPVFGSNNLNYQSLDPSKIEGNTELQGVVFGFYEVRTWVEKVVKNLNLKELDFYIYRLPEDKLDSAINKTAITATDDFLIGYKADSQSLIESPKVENLAVIDRPTEQQLHLCSYRRKWQFCIHSIHAAQQELSLLVLPAFNRSILGLPPEAVLVLGLLVTGSLVIYLLISQQATLKIESQNCELEKLLQELQQTKLQLVQTEKMSSLGRLIAGVAHEIKNPVSFISGNIKYASHYFQDLSNLVRLYETQYPSPTPEIEAAIEDIDLDFIVQDLPKLLNSMKIGSERLYEIVLSLRNFSRLDESKVKKVDIHKGIESTLIILEHRLKEQMDRPEIQMIKDYGNLPLIECYPGQLNQVFMNILANAIDALEDSIQLGQLKERSPMISIKTAQIDSEWITIQIADNGPGIRPDIEARLFEPFFTTKPASKGTGLGLSISYQIICEKHXGHLLCSSSEGKGXEFIIKLPI"
       ]
      },
      {
       "output_type": "stream",
       "stream": "stdout",
       "text": [
        "\n",
        "Tery_1671:\n",
        "23466-, to 20481-, 3 nodes (90.98% id)\n",
        "23466-, to 20481-, 3 nodes (90.90% id)\n",
        "MTLSPIIRLLGRSPLTTELLNKLQQYQCLQLNGAPRLPKGLLTSTLAQQQQQNLLIVTATLEEAGRWTAQLEAIGWPKVYFYPTSEASPYESSYPEEMIWGQMQVLADLVSENAPENVTSNGNSSNQAKMAVVATERSLQPHLPAVKKFQPYCLSLMPSITSSSKTLGTTRILNTEIQINHPESDGLECLSLDKKLVQMGYERVPLVESEGQWSRRGDIIDVFPVASEFPVRLEWFGDELRQIREFDPSTQRSLDKIAKIVLTPRDFSQWGLGNLESMRDSTFASLLDYLPENTLIAIDEPDQCAAHGDRWFELIEENWQQLNSSRPLPKIHRTFADSQAEVELFPRLYLSELSKETKXTSSVPYTLNLASRPLPVMPHQYAKLAENLRQEREXKHSVFLISAQPSRSVSLLQEHDCPAQFVPNPRDYPTIDKLQTQYTPVALKYSGLAELEGFVLPTLRLXVITDREFYGQHTLATPTYIRKRRQPASKQVDPNKLQPQDYXVHRQHGIGKFVKLESLTLNNETRDYLTIQYADGLLRVAADQLNSLSRLRSTDKKKPQLNKLTSKTWESTKSKVRKSIKKLAVDLLKLYAERAQKTGYSFPPDTPWQEEMEDSFPYQPTPDQLKATQDVKRDMESERAMDRLVCGDVGFGKTEVAIRAIFKAVTAEKQVAFLAPTTVLTQQHYHTLKERFAPYPIEIGLLNRFRTSNEKKEIQHRLATGELDIVVGTHSILSKTIQFRELALLVVDEEQRFGVNQKEKIKALKAQVDVLTLTATPIPRTLYMALSGIREMSLIATPPPLRRPIKTHLAPYDLETARTAIRQELNRGGQVFYVVPRIEGIEELTGKLREMIPGARINIGHGQMDATELESIMLTFSAGEADILVCTTIIESGLDIPRVNTILIEDAQKFGLSQLYQLRGRVGRAGVQAHAWLFYPTTASGGVALTDDAQKRLRAIQEFTQLGSGYHLAMRDLEIRGAGDILGAEQSGQVNAIGFDLYAEMLEEAIREIKGQEIPQVDDTQIDLSLTAFIPADYIPDIEQKISAYRSVAAANSREELSQIEIDWSDRYGTIPKAGLQLLRMMELKQIAKKIGFSRIKVEGKQHVVLETPMEQPAWNLLKEKLPSHLQSRFVFSTGKVIVRGLGVLSADKQLESLIGWLSKMEGALIESQFRE*GEGGA"
       ]
      },
      {
       "output_type": "stream",
       "stream": "stdout",
       "text": [
        "\n",
        "Tery_1681:\n",
        "5697+, to 3455-, 2 nodes (89.68% id)\n",
        "5697+, to 3456-, 2 nodes (89.46% id)\n",
        "MKKLNNLAINIGLIFVALITGILAGEIGLRAAKIEGLKKVNNNEPLRPTIFHTYDRYRAWALQPGFTAWWREEGEAYIEINSDGLRDREYSKIKPENTLRIAILGDSFAEAVQVPIEKTFWSIIEQKLTKCDSITDRKVEVINFGVHGYSTLQELLTLRHQVWDYNPDIVLLAFFIGNDIINNSKKLEYSQYRPFLVYENGELVVDMSFQDLTPALSNRYAASFIDKMPGWLVNNFRILQVVKKVDLNLKKKRLDAYLTGLVPYNFQPPINNNWYQAWQITEELITLIVEEVRQREKFFFAVLVGDPKQVHYDQPYLQKTFMKQYNINDMLYPNKRIEVLGKRLDFPVLDLATPFRDYAVENRVCLHGFENTSLCTGHWNREGHQLAGEIITXNLCRQLKVNYNQ"
       ]
      },
      {
       "output_type": "stream",
       "stream": "stdout",
       "text": [
        "\n",
        "Tery_1700:\n",
        "13893+, to 2237+, 10 nodes (80.98% id)\n",
        "13893+, to 2238+, 10 nodes (80.86% id)\n",
        "13893+, to 17112+, 10 nodes (81.63% id)\n",
        "13893+, to 2975+, 10 nodes (80.90% id)\n",
        "13893+, to 2236-, 10 nodes (81.33% id)\n",
        "13893+, to 2237+, 10 nodes (81.20% id)\n",
        "13893+, to 2238+, 10 nodes (81.09% id)\n",
        "13893+, to 17112+, 10 nodes (81.85% id)\n",
        "13893+, to 2975+, 10 nodes (81.12% id)\n",
        "13893+, to 2236-, 10 nodes (81.56% id)\n",
        "19205+, to 2974-, 10 nodes (81.18% id)\n",
        "19205+, to 2974-, 10 nodes (81.18% id)\n",
        "23666-, to 2236-, 10 nodes (81.78% id)\n",
        "23666-, to 2975+, 10 nodes (80.76% id)\n",
        "23666-, to 2973-, 10 nodes (81.82% id)\n",
        "23666-, to 2975+, 10 nodes (80.76% id)\n",
        "18996-, to 2974-, 10 nodes (80.89% id)\n",
        "18996-, to 2974-, 10 nodes (80.89% id)\n",
        "29480-, to 2974-, 10 nodes (80.31% id)\n",
        "29480-, to 2974-, 10 nodes (80.31% id)\n",
        "28852+, to 2974-, 10 nodes (80.29% id)\n",
        "28852+, to 2974-, 10 nodes (80.29% id)\n",
        "2426-, to 2237+, 10 nodes (80.29% id)\n",
        "2426-, to 2238+, 10 nodes (80.17% id)\n",
        "2426-, to 17112+, 10 nodes (81.01% id)\n",
        "28852+, to 2974-, 10 nodes (79.88% id)\n",
        "28852+, to 2974-, 10 nodes (79.88% id)\n",
        "2426-, to 2975+, 10 nodes (80.21% id)\n",
        "18996-, to 2236-, 10 nodes (81.01% id)\n",
        "18996-, to 2973-, 10 nodes (81.05% id)\n",
        "18996-, to 2975+, 10 nodes (79.92% id)\n",
        "18996-, to 2975+, 10 nodes (79.92% id)\n",
        "31290-, to 2236-, 10 nodes (80.59% id)\n",
        "31290-, to 2973-, 10 nodes (80.63% id)\n",
        "31290-, to 2975+, 10 nodes (79.50% id)\n",
        "31290-, to 2975+, 10 nodes (79.50% id)\n",
        "13895-, to 2236-, 10 nodes (81.84% id)\n",
        "13895-, to 2975+, 10 nodes (80.69% id)\n",
        "13895-, to 2973-, 10 nodes (81.88% id)\n",
        "13895-, to 2975+, 10 nodes (80.69% id)\n",
        "13896-, to 2236-, 10 nodes (81.84% id)\n",
        "13895-, to 2236-, 10 nodes (82.10% id)\n",
        "13896-, to 2975+, 10 nodes (80.69% id)\n",
        "13895-, to 2975+, 10 nodes (80.94% id)\n",
        "13896-, to 2973-, 10 nodes (81.88% id)\n",
        "29480-, to 2974-, 10 nodes (79.33% id)\n",
        "13895-, to 2973-, 10 nodes (82.14% id)\n",
        "13896-, to 2975+, 10 nodes (80.69% id)\n",
        "29480-, to 2974-, 10 nodes (79.33% id)\n",
        "13895-, to 2975+, 10 nodes (80.94% id)\n",
        "13896-, to 2236-, 10 nodes (82.10% id)\n",
        "13896-, to 2975+, 10 nodes (80.94% id)\n",
        "13896-, to 2973-, 10 nodes (82.14% id)\n",
        "13896-, to 2975+, 10 nodes (80.94% id)\n",
        "28854-, to 2237+, 10 nodes (80.44% id)\n",
        "28854-, to 2238+, 10 nodes (80.31% id)\n",
        "28854-, to 2237+, 10 nodes (80.00% id)\n",
        "28854-, to 2238+, 10 nodes (79.87% id)\n",
        "28853-, to 2237+, 10 nodes (80.44% id)\n",
        "28853-, to 2238+, 10 nodes (80.31% id)\n",
        "28852+, to 3772-, 10 nodes (80.09% id)\n",
        "28853-, to 2237+, 10 nodes (80.00% id)\n",
        "28853-, to 2238+, 10 nodes (79.87% id)\n",
        "28852+, to 3772-, 10 nodes (79.65% id)\n",
        "28852+, to 1250-, 10 nodes (79.78% id)\n",
        "28852+, to 33833-, 10 nodes (79.78% id)\n",
        "28852+, to 1250-, 10 nodes (79.33% id)\n",
        "19205+, to 2237+, 10 nodes (79.46% id)\n",
        "19205+, to 2238+, 10 nodes (79.33% id)\n",
        "28852+, to 33833-, 10 nodes (79.33% id)\n",
        "18996-, to 1251-, 10 nodes (79.64% id)\n",
        "18996-, to 3771+, 10 nodes (79.64% id)\n",
        "31290-, to 1251-, 10 nodes (79.19% id)\n",
        "31290-, to 3771+, 10 nodes (79.19% id)\n",
        "29480-, to 3772-, 10 nodes (79.05% id)\n",
        "28852+, to 2236-, 10 nodes (79.55% id)\n",
        "25463+, to 2974-, 10 nodes (81.01% id)\n",
        "30491-, to 3772-, 10 nodes (78.91% id)\n",
        "25463+, to 2974-, 10 nodes (81.01% id)\n",
        "31290-, to 2237+, 10 nodes (79.27% id)\n",
        "31290-, to 2238+, 10 nodes (79.14% id)\n",
        "29480-, to 1250-, 10 nodes (78.73% id)\n",
        "29480-, to 33833-, 10 nodes (78.73% id)\n",
        "25463+, to 2974-, 10 nodes (81.30% id)\n",
        "25463+, to 2974-, 10 nodes (81.30% id)\n",
        "30491-, to 1250-, 10 nodes (78.59% id)\n",
        "30491-, to 33833-, 10 nodes (78.59% id)\n",
        "19206+, to 2236-, 10 nodes (80.80% id)\n",
        "29780+, to 2236-, 10 nodes (80.80% id)\n",
        "19206+, to 2236-, 10 nodes (80.30% id)\n",
        "29780+, to 2236-, 10 nodes (80.30% id)\n",
        "13894+, to 2236-, 10 nodes (80.21% id)\n",
        "MGTKQASFLLGISRQRLLVLLAQGRVKGAEKKGRFWEIRTSSNGMPIIIPXRRGPKGKWXXQKSTKPKMIHVNQSKIKSNIGKPPEKLEPVLSVKXGXRNDYGYDLYISXPCXIVYRPYKPAKCGAHLWINTYHPVQFIDTQSNPATARQPSRQIYI"
       ]
      },
      {
       "output_type": "stream",
       "stream": "stdout",
       "text": [
        "\n",
        "Tery_1719:\n",
        "22808+, to 31145-, 10 nodes (70.94% id)\n",
        "6784+, to 31145-, 10 nodes (70.94% id)\n",
        "6128+, to 31145-, 10 nodes (70.94% id)\n",
        "19939+, to 14157-, 10 nodes (71.35% id)\n",
        "19939+, to 7210-, 10 nodes (71.35% id)\n",
        "19939+, to 14158-, 10 nodes (70.95% id)\n",
        "2758+, to 30087-, 10 nodes (70.84% id)\n",
        "6417+, to 14157-, 10 nodes (70.58% id)\n",
        "6417+, to 7210-, 10 nodes (70.58% id)\n",
        "6417+, to 14158-, 10 nodes (70.07% id)\n",
        "32171-, to 30087-, 2 nodes (73.93% id)\n",
        "LXNLIZNIGFLTXPTVNIEXLXEHSPQLRXLNEWYRQNXXXLXIXTKVFYETKPXNGILVVDEDSSNPXIRDVKPXAJXEBHISIXKPXKNDLVYLSTIKFCEEVFIXXEGPXXXXNIPENFSRXTGAKKFVGRDDVIEILHEQLXXTEQVAITXVTGMGGIGKTELALQYAHFHLXQKTYTGGICWLXCRXQNVGXQIISFAISXFNLSFSKDDDL"
       ]
      },
      {
       "output_type": "stream",
       "stream": "stdout",
       "text": [
        "\n",
        "Tery_1725:\n",
        "20436-, to 33797-, 5 nodes (88.49% id)\n",
        "20436-, to 33797-, 5 nodes (88.49% id)\n",
        "20436-, to 33797-, 5 nodes (88.13% id)\n",
        "20436-, to 33797-, 5 nodes (88.13% id)\n",
        "MYLRHLYLRQFRNYRDQQVEFDGAKTILVGDNAQGKSNILESVELLSTLKSHRTXRDRDLILDGKQAGQIQATLERDLGNIELTLTLRSQGRRTVAVNGETIPRHLDFLSILNVVHFSSLDLDLVRGGPEVRRHWLDRLLVQLEPVYAHIVLQYNQVLRQRNALLKKVRQQKMAAETTGLLDSFPTQELALWDAQLATTGARVIRRRQRLLQKLAPLASEWHCAISGTMEVLNMEYLANVIVDSKELIIQDSLEGVRQTFLEKIKARAIAEQYQGTTVVGPHRDDVSFTINDTPARQYGSQGQQRTLVLALKLAELQLIEQVVEEPPLLLLDDVLAELDLHRQSQLLEAITNRFQTLITTTHLGCFDGQWLQDTQILSVRSGKVSCFFDF"
       ]
      },
      {
       "output_type": "stream",
       "stream": "stdout",
       "text": [
        "\n",
        "Tery_1727:\n",
        "26987-, to 26017+, 4 nodes (92.81% id)\n",
        "26987-, to 26017+, 3 nodes (92.80% id)\n",
        "26987-, to 10267+, 3 nodes (91.52% id)\n",
        "MLNCCSTLYLYRSMVRITIRKKKEQAEYYTEDLGNNVELAMVKIPAGKFIMGAPXNELDSXBSERPQHEVTVPEFFMGRYPITQGQWKAVVETTEKIERDLXPDPSYFKDDYEKYNRWTRPVEXVSWLDAKEFCXRLSQKTERNYQLPSEAQWEYACRAGTTTPFHFGETITTDLANYRGKDDEXNKWSGSYGRGPKGEYREQTTXVGYFKVANVFGLYDMHGNVWEWCEDDXHDNYEGAPNDGSPWVSSNQBTTKXTTKILRGGSWXSXPXRCRSAXRNXYXSXXXXXXXXGFRLVSFPPRTPE"
       ]
      },
      {
       "output_type": "stream",
       "stream": "stdout",
       "text": [
        "\n",
        "Tery_1731:\n",
        "29835+, to 30539+, 2 nodes (91.51% id)\n",
        "29835+, to 30538+, 2 nodes (91.30% id)\n",
        "MSSSSFEHTIKRLIDRLARTEILEGLELSDENIADSIWLALQMGTVKTPQKPKPKHEDKPEQLPIIFEESDFEPVTEREPQVSVVTEESIDQTPEKPPVKGVPFQTPAAPALQNVLELGRALRPLMRKVPSLSRKVLDEEETVNVIAERDIWLPVTKPEPERWLDLELVVEESSSAFIWRETVNEMQEVLETQGAFRNVRVWSLLSSNTKKLKLVRRHNSGKPRQRQHSRRELIHSNQRGVVIFVSDCTSKIWQNGTIHHWLKVWSEKNPTTVLQLFPEYLWDSTQLGAGSKFFGTAIAPGVPNPRLVLENLPPWIPIDWKNALVLPVILPEPELLKSWCRMVSGAGNTRVPIFLFDLPFVEEQFFKKQEDSPPELPSSRNEISPTTRVRKFLATTSITAQRLAGMMAAAPVNLSVVNLIRKTLLKEATTVHVAEVYMGGLLAPTDSKDDEPTYEFLPGVRRELNQAMGRNETTAVLDAISEYIAEKIDRPIRSFRALLTLLPQYEEEDREQVLPFAQVAVDVLENLGGEYAEFAKKVAQNIRPVPQPPIVKPPKVRPEPQIDIDTFDVAFIEVQETVTFEFDVARLEKRRSELLRLFGSRWVIKKQRRQVTGIVEDLGNGIKLEMVEIPPGKFLMGSPEDELERVSNEGPQHEVNISAFLMGRYPITQGQWKAIVDNVPKIERDLKSNPSRFKGDDRPVEKVSWYDAVEFCARLSKYTGRNYGLPSEAQWEYACRAGTTTPFHFGETITTDLANYBGNYTYGQGTKGKXRXETTPVGSFEVANXFGLYDMHGNVYEWCEDDMHBNYEGAPNDGSPWLSGNQNXTKXTTXVXRGGSWYXXPXXCRSAXRXXYXSXEXDNBXIGFRLVSFPPRTLE"
       ]
      },
      {
       "output_type": "stream",
       "stream": "stdout",
       "text": [
        "\n",
        "Tery_1733:\n",
        "30083+, to 29835+, 5 nodes (85.45% id)\n",
        "30083+, to 29835+, 5 nodes (84.47% id)\n",
        "2905+, to 29835+, 5 nodes (83.64% id)\n",
        "2905+, to 29835+, 5 nodes (82.66% id)\n",
        "2904+, to 29835+, 4 nodes (81.27% id)\n",
        "2904+, to 29835+, 4 nodes (80.23% id)\n",
        "MXLELSIVRXFKXXXXVXGSGFXVSXXYILTCAHVVAXCLXXXXXLDXAXXIMRQKEXPXZIIZVNFPXXEKGXIGXKLXTKVXFWXPXBXXEBIQDIAVLKLINPDLLPEXAXPIXLIXIGXZXLWXXXFXAXGFPXXXXXGEWATGXLXGXXGXXLIQJEXXXXTGLRLZXGFSGTAIWDXXLQGVVGMAVXADQERPEAKVAFMIPTDLLLQVGDLATVCRVDGRIQGAIAILENYFEDYPTEIRYAYYLSLPENSIPLSSGKSLDEFPKSLSEMIQNLDNSMKGNHSLLERFICFLLLHLEDLKILSELCQKLTEWLEKYSQNTENLKVALKEEEARKNQEKFDVKQPEPCLLVAAIEKSKSFILKAWLIENPQNYTPENPQGFHSFIDAENVLMNXKGTIVSNKDPSKFNQAKNLTELLQXFWXYVPSFCXYNLKKISIFLPYKLIXRDIKPXDQYVSDPNIPEYFQTLLGEQCEITLRFSERLRLPEKXBPYJXKFESKSRSLTSRKGTKATXIFHPSXXSGNXXXFFXQIXXDDVVAVRLTEVLQPEKRESVMEAFYYAGIPMALWVRPGEAENIDSCEEALTNICNACKCWSNLPKAIKAKRCESLQEDLDTNIGNHLSLLWDDPNIVPPVKELRMLES"
       ]
      },
      {
       "output_type": "stream",
       "stream": "stdout",
       "text": [
        "\n",
        "Tery_1734:\n",
        "29687+, to 2904+, 3 nodes (87.02% id)\n",
        "29687+, to 2905+, 3 nodes (86.06% id)\n",
        "29687+, to 30083+, 2 nodes (85.71% id)\n",
        "IWLPSCYRIYGNINNFTYGRVQVAKLVKFQLDDDEESFVYVEVDEKLPVSSNXDDXXDXXLIGLGDEVXQQAXQTLXKALXSIKPVANAIIKKVQDLNXPADAVEVKFGIKMXGXLGAXIASGSXEVNYEITLKWNKTXG"
       ]
      },
      {
       "output_type": "stream",
       "stream": "stdout",
       "text": [
        "\n",
        "Tery_1735:\n",
        "4189+, to 24373+, 5 nodes (87.19% id)\n",
        "4189+, to 24373+, 5 nodes (87.19% id)\n",
        "4189+, to 24373+, 5 nodes (87.19% id)\n",
        "4189+, to 24373+, 5 nodes (87.19% id)\n",
        "MLELLASVILTQGMVDWQPVGYNVKATTLMNMNSIESLGNNLWGAEVLKQYDQEADDGMKQVYMVVEIDCNIRRFAPQLIRRQTGTGEIIAETTLEGNGLISPQGSEAGILMICDR"
       ]
      },
      {
       "output_type": "stream",
       "stream": "stdout",
       "text": [
        "\n",
        "Tery_1742:\n",
        "4189-, to 4190+, 2 nodes (80.99% id)\n",
        "4189-, to 4191+, 2 nodes (80.99% id)\n",
        "MSKYLVLLLIFLLSACTVETSKISPQAETLEKKSRPTVTPDNHSHFLQILIDNYLQKTPVKTTVNLTLSQAQKVQEQYVLEMSKSLGKVVGYKAALTNQKAQERFNISEPLRGVLLEKMLWENGSVISHKFGSRPMGEGDLIMRVGSTEINNAKTPRETLKYLDAVIPFIELGDLVYSQDVKLDASALLAINVGGRAGILGKPIPVADTDEWENRLKSFRIEILDENGKVLASGNGSDLLGNPLNVVLWIKDSLQGEGKGLKKGDLLSLGSMTSFIPVQLNSTIRAKYIDLWPNQTVEIFVKFE"
       ]
      },
      {
       "output_type": "stream",
       "stream": "stdout",
       "text": [
        "\n",
        "Tery_1788:\n",
        "21805+, to 13046-, 6 nodes (81.58% id)\n",
        "21805+, to 13046-, 6 nodes (81.30% id)\n",
        "21805+, to 13046-, 5 nodes (80.07% id)\n",
        "21805+, to 13046-, 4 nodes (80.62% id)\n",
        "MVGKLMDKNWFSRFRYFCLFLGTIVVLIGCQTALANDGGGGDDFAXAKXXNLWLLLAGALVFFMNAGFALLEAGFCRSNNSINVLAKNLIVFCVAAIAFLXFGFGLMXGDSSYHSPCRXDFEQKNZXIESYXGHFSXTXEYNEFEPKSQFILRPEXDNPLGXPSXGFSCLQXXFPKRSIASVFFFQLAFAGTAATIVSXAVAERIRFWAFFWFSXILVGFLYPIVGHWVWSEYGWLKQGFNFIDFAGSTVVHTVGGTAALAGAWLLKPRSYRFGYDPQEDLEKDEDSEELSRQLQKESYDQRDLTSATLGCLILWLGWLGFNGGSTYDLKEVGYIIVTTTISAATGGIIAIVATPVKALWYEISSNYSETGKPDLSSLINGILGGLVGITASAAYVDVFTAIFIGAVSGVVVIVGDEFLKFMKIDDPVGAIPVHLFCGCWGTIAVSFSLRDTIVYETTNSFLERLWWQFSGWLIVFFITFLVSCIIWITIGVILYIFDKILRK"
       ]
      },
      {
       "output_type": "stream",
       "stream": "stdout",
       "text": [
        "\n",
        "Tery_1794:\n",
        "31190-, to 19759-, 2 nodes (87.83% id)\n",
        "31190-, to 19758-, 2 nodes (87.30% id)\n",
        "MLNRRSMVPWVIGLLVVFLVSCGSPTPPPTYSDAQLQKIELSAVGIQTLRDRMDELESLIQQDEWVNIRTFIHGPLGDLRSKTNYLTQSLLLPKDKTPVLNAAKKIFDDLEDIDTAAAEGNKKQALSEYKKAVVDFDTFLXLVPKNS\n",
        "Tery_1815:\n",
        "8180-, to 8178+, 2 nodes (84.38% id)"
       ]
      },
      {
       "output_type": "stream",
       "stream": "stdout",
       "text": [
        "\n",
        "8180-, to 8179+, 2 nodes (84.38% id)\n",
        "MWELFSYGVIHLWLEMAGIQNIGQNTVAILKWQSGIPELILPENSDKMLTLEVDEYLEGLKTKGLLTADTQSIWIQSELRSLNSHEGTAPFPGASLIKIATSLAALETWGAQHQFETLISITGPITDGILRGDLVINGGSDPYFVWEEAIALGNAIQKWGINQVRGNLVMVGNFWMNNRYDNVVAGKLLQEGINSATWSRNVRSIYKRMPAGTLMPKVAIAGSVISQKSVSHKIPIIRHKSLPLVHILKTMNVESNNDLAETLAKKLGGAKVVQRKAAWSAGVPEAEIKLVNGSGLGVENKISPRAATAMFVAIQRYLQTSPWVIADLFPVSGYDTGTLTDQSRTIPQGAVVKTGTLNDVVALTGVFPTREHGLVWFTTINRSPYWEETRVEQDRFLQQLVDRWGATTPPRAIIPKINGDRLGLGDSKRNHVL"
       ]
      },
      {
       "output_type": "stream",
       "stream": "stdout",
       "text": [
        "\n",
        "Tery_1821:\n",
        "27496+, to 12161-, 2 nodes (81.54% id)\n",
        "27497+, to 12161-, 2 nodes (81.54% id)\n",
        "MVLRVVSSKKLYKGLKISLISWFLIGFLVTFWISYQQIAGTIESPQALLVLGGAIEREVFAAEFARKNPNLDIWVSSGTNPEYARWLFSRAGISQTRLHLDYHAVDTVTNFTTIVDKLKSQDITSVYLVTSDDHMRRATVIGKIILGSRGITFKPLPVSSGRSPEPIEKVIRDGIRGIIWLTTGYTGANLVH"
       ]
      },
      {
       "output_type": "stream",
       "stream": "stdout",
       "text": [
        "\n",
        "Tery_1831:\n",
        "1980-, to 1979+, 2 nodes (87.71% id)\n",
        "1980-, to 1978+, 2 nodes (87.71% id)\n",
        "MINEIFMPALSSTMTEGKIVSWQKSSGDWVEKGETVVVVESDKADMDVESFFSGYLATIIVEAGDVAPVGSTIGLLAETEVEIEQAKQQGGTRVKEEPANASSSTTAVATVSISSTTETQENPSRSNGRIIASPRARKLAKDLKVDLSILKGTGPHGRIVAEDVEMVAGRTSTLVAPAAKAPTPSAPTQPSIIAPPAPPSVASTSVTSGQVVPMNSLQNAVVRNMMASLSVPTFHVGYAITTDNLDGLYKQIKSKGVTMTALLAKAVAITLQQHPLLNAAYVDQGIQYSSGINIAVAVAMPDGGLITPVLANADKMDIYSLSRSWKGLVDRARTKQLQPDEYSTGNFTLSNLGMFGVNRFDAILPPGQGSILAIGASQPQVVATDDGMIGVKRQMEVNITCDHRIIYGADAAAFLQDLGKLIETNPQSLTM"
       ]
      },
      {
       "output_type": "stream",
       "stream": "stdout",
       "text": [
        "\n",
        "Tery_1840:\n",
        "30180+, to 31796+, 2 nodes (85.47% id)\n",
        "30180+, to 16336-, 2 nodes (85.47% id)\n",
        "MATSDYPSNSKLPRRSFNRKRTKKSSSYLKNQRDKGETDYLKNNPQESLSTTSQEKPKKCRKSRLYQVWIILMLALLGLITNLFRIQVLQGKELQKIAQKQHTVESNPFIPRRPIVDRNGNVIAIDKVAYTLYAHPKIFNRSKEEVAYQLSTILEGANLESTLTSNDLLQRLNERETGIKIAELIPKETANKITDLLVDGLELIQHSQRLYPQKELVAEVVGYVDGESKGQAGIEYSQQNLLERSMETVQFRRLIKGVMVPDKLTRGFLQLDDLSLYLTIDSPLQRAVRKILKKQLEEYEAKRGTVIVMDATDGSILSLVSEPSYNPNQYYNYDVTLFKNWAVTDVYEPGSTFKPINVALALEVEAIEEDSIFYDTGRMRFDRWSIFNSAGGGGARTVTEIIQHSSNIGMVKIVEQMPRAVFYDGLKRLELDNITGTDLPFEAANILKGRNQFLMVPVEAATTAFGQGFSLTPLKLAQLHAALANGGKLVTPHVVRGLFDSKGQPYWQLPMPEPKQVFSADTTTKVLAMMEKVVESGTGRMARLRGYRIAGKTGTAQKASDTGGYSKDARITSFVGILPVESPRYVVLAVIDEPMKGTGGKVAAPVVKSVIKSLINIEQIPPSSVRSK"
       ]
      },
      {
       "output_type": "stream",
       "stream": "stdout",
       "text": [
        "\n",
        "Tery_1841:\n",
        "14057+, to 6170-, 10 nodes (88.44% id)\n",
        "14057+, to 6170-, 10 nodes (88.44% id)\n",
        "14057+, to 21810+, 10 nodes (88.35% id)\n",
        "14057+, to 19696+, 10 nodes (88.35% id)\n",
        "14057+, to 6171-, 10 nodes (88.32% id)\n",
        "14057+, to 6171-, 10 nodes (88.32% id)\n",
        "14057+, to 21809+, 10 nodes (88.29% id)\n",
        "14057+, to 19695+, 10 nodes (88.29% id)\n",
        "14057+, to 21808-, 10 nodes (87.84% id)\n",
        "14057+, to 19694-, 10 nodes (87.84% id)\n",
        "14057+, to 17004+, 10 nodes (87.44% id)\n",
        "14057+, to 6170-, 10 nodes (83.16% id)\n",
        "14057+, to 6170-, 10 nodes (83.16% id)\n",
        "14057+, to 6171-, 10 nodes (83.04% id)\n",
        "14057+, to 6171-, 10 nodes (83.04% id)\n",
        "MINWGPYLESVCREYDRWWEVYTLTDVAGKRPHEQRQNIFPFLDLGLMVQGVKSEERQGKDPEENIERLTVLEGLRKYAANHVLLVGRPGSGKSTALARLLLEEAHKVWSGENGQIPILIELRYSKSSVLSRIQAFIYKHNHNTYIDEETLKSLLLQGKFLLLFDGFNEMASEEARQQVRMFRQDYPQTAMVFATRDLSLGGDLRIEKKLEMQPLTESQMRDFVCAYLPEQGENLWGQLQGRLRELGETPMFLLMLCSVFGYNKVIPAHLGLVFRGFTQTYSGRIKQDVPVDESSRRWWDRLLQELAWVMTTGGSKTEXMVAIPRKKAEDVLADFLRGQVVAPTDCAMGWLEDLLEHHLJQVGBDGQISFRHQLLQEYYAAERLLXQXSGLSDYXLQWDYLNYLKWTEVVALMLGLVEDEVXXVRVXRLALXVDWFLXARLVGEVKEXFQEAAFAEVDGLELPGLVKVXLXXLTMSEVAVXRLVRFLEXSDXYMRXXAAXALGXIGSETAIEXLXXLLXDSXXXVXXXAAXALXKIXSEXXIEXLIPLLXDSXXXXRXXAAXALGKIGSEXAIEZLIXLLXXSXXXVXXXAXXALGKIXSEKAIEZLIPLLKDSXXXVXXXAXXXLXXIGSEXVIEQLIXLLKDSXXXVXXXXXXXLXKIGSKTAIEGLIPLLKDSDSEVRXXAXXALXKIXSXXXIEQLIXLLKDSXXXVRXXAXXALXXIXSEXXIEXLXPLLXBSXXXVRXXXAXXLXXXGSEXXIEQLIPLXKXSDXXXXXXAXXALXXIGSXXAIEXLIXLLKDSDXXXRXXAAXALGXIGSEKAIEXLIPLLXDSXXXXRXXXAXALXXIGSEXXIEXLIPLLKXSXXXVRXXXAEALGKIGSEKAIEXLIPLLKDSXXXVRXXVRYAXAXALGKIGSZKAIEXLIPLLKXXXXXVXXXXXXALGKIGSZKASGKAIEXLIXLLKBSDYXXRXXXAXXLGKIGSENTIIELTKKLQNDSXVKQXLSZIIXXIQTIQQRLQYYKPXPKXXMSKXLSHNYALLIGVGDCKYPDWSLPVTVKDIQAIKSFLTNPDXCSYIDDENHLRLLCNEQATKQNILNNINWLQEQAKNDPEATILVYYSGHGWLDKSTQNYYLIPHDTSPIKLQKTALPATDFNNALQEISAQKLLVIIDSCHAQGMATAKETDQLDLPENFSQTALPKNLIEDLKKGTGRAVFTSSTGYQLSWIRSDQTMSIYTYHLLEALQGGDNKPGDKYVTLSNLMHHVGKTVPQSAQQQGXEQTPIFDFSQTEDFPVALLRGGKGLPEGGWEKTQPEAQENIR"
       ]
      },
      {
       "output_type": "stream",
       "stream": "stdout",
       "text": [
        "\n",
        "Tery_1895:\n",
        "11658-, to 11660+, 2 nodes (90.35% id)\n",
        "11659-, to 11660+, 2 nodes (90.22% id)\n",
        "MNLNVLPGNSFPIGATVYQDPKGVNFSIYSKNATAIELLLFDEPXAAKPKQVILLNPKQHRTHHYWHIFISDIXAGQIYAYRVHGPFNPEKGHWFDGTKVLLDPYARVVVGQDKYSREAATGYGDNCAYALKGVVADPXTYDWEDDKPLETPYAXTVIYEMHVGGFTRNPNSGVAPKKRGTFAGLVEKIPYLKELGITAVELLPVQQFDEQDVREPLINYWGYSPIAFFTPHHSYSSRQDIFGPMDEFRDMVKALHKEGIEVILDVVFNHTGEGNENGPTVSFRGLENSTYYILEGDYPRYYSNYSGCGNTFNTNNPFVHRLIVDCLCYWVREMHVDGFRFDLASVMSRSMTGDPLEDPPVLWAIESDPVLAGTKIIAEAWDAAGLYQVGSFIGDRFAEWNGHYRDDVRQFVKSDPRIVNKLAARIMGSPDIYPKPNREPNHSINFITCHDGFTMNDLVSYNEKHNEANCENNCDGANYNLSWNCGIEGVTDQAKIEMLRLRQIKNFFTILFFSQGTPMILMGDEVRRTQLGNNNSYCQNNELSWFDWSQIDQQNDLLRFVKGIINFTQKLKIMQLDKVLATVGVGPEPCLVRSKEKTNLDKAPNISWHGIHLGVPDWRIDSRTLAFSLKHPENGEYFHIMLNAYWKPLMFELPLLNKGENWYLIVNTAFTSPRDFNDLDVGIKVIGVRYRLEARSAVVLMTKRE"
       ]
      },
      {
       "output_type": "stream",
       "stream": "stdout",
       "text": [
        "\n",
        "Tery_1898:\n",
        "29584+, to 20452-, 2 nodes (83.61% id)\n",
        "29583+, to 20452-, 2 nodes (82.82% id)\n",
        "MVQKQQRQKNTTIKLGIWGTXSAGKTVYMLMLYHYLXRSKRKDXFLVKVXBZZTDXFLXXXLNSXIYKGEFPTXTTXXDKYNSYSYKLKRDXSDTIVELTFLDLPGEXXZXREXKVKTNNTIGXKNXDVSVAKYLTQCHGILILLSPLKEDYPBBSYXXLLXGLFRLMLREIPEFKLEQYVVFGITKADXDKIYXRTIDTNFYQLIMEIIGXQAPLEWLXSYFYLEIVEEKDXTQXVNVNGENNRCCFLPISPFXRYXXEXGXMISPVDTXENKTEEEXKXNESQQEXPXAADKRQXKXLXXDPFKKNXSKKQNNSNDDXXTXSXADNSEGXQREGXSSXNDDYETPSTTBYXEPNQXXGKXXIDTXVTWRPQNVVEPIEWLIQRIENHPPKIFD"
       ]
      },
      {
       "output_type": "stream",
       "stream": "stdout",
       "text": [
        "\n",
        "Tery_1900:\n",
        "20452-, to 33057+, 7 nodes (93.48% id)\n",
        "20452-, to 33057+, 7 nodes (93.48% id)\n",
        "20452-, to 33057+, 7 nodes (93.20% id)\n",
        "20452-, to 33057+, 7 nodes (93.20% id)\n",
        "20452-, to 33057+, 7 nodes (92.80% id)\n",
        "20452-, to 33057+, 7 nodes (92.80% id)\n",
        "20452-, to 33057+, 7 nodes (92.53% id)\n",
        "20452-, to 33057+, 7 nodes (92.53% id)\n",
        "MINDNSQNQETNFWICNGEEKNLPHPPQMLHYGDECPICHNVKKIKRNPPPPNPDTINITRQTDFEVPPEVDTNSIXXTRPTASQVSPTXQKSKRDWPLVGALTILNLGSGFTTVRGASQXLPSFVAYPMGXTIQGVLFALIARLFLKHAPLIKWVVVGXFSTFSVYTSFFAYYDLLXXETREKXRIELANSGHZSLVGEXFTPIQNKVNSLESEIGIINKKIEKETQGERGGRPKGCGKVCQQLKEEREIVEVQKAQLEPLVNRLQPLFNYNVEDKSPKEIFQTDLKALSKVGENCLPKELLSELEITCLPDKYLRALNPQNPEYKELXLTYIDPDLEVDFLAPIFKVMKGEGSAIASVIMALLIDGCIILLGIGVEIRPQVTRQRQQTLTLQIKDGKIVEFLDLLLSKSQNETIEIEKSDNNKNEYHNLLSWLSVNTQLILQDDEDKSWYFPSYSSKDNFQKWLVNQRNLQIQARASTNLLESWKKRLPEYFVLEMPIVSKYQD"
       ]
      },
      {
       "output_type": "stream",
       "stream": "stdout",
       "text": [
        "\n",
        "Tery_1921:\n",
        "344+, to 344+, 3 nodes (92.35% id)\n",
        "344+, to 343+, 3 nodes (92.35% id)\n",
        "18113+, to 344+, 3 nodes (92.35% id)\n",
        "18113+, to 343+, 3 nodes (92.35% id)\n",
        "MKSDTELINSLSPSAMDQIMLYLAFSAMRTSGHRHGAFLDAAATAAKCXIYMTYVEQGQNLRMTGHLHHIEPKRVKVIVQEVEEALTKGKLLKMLGSQEPRYLIQFPYVWLEEYPWTPGXPRXPGXXLTTEEKXXIEAKLPSNIPDARLINSFQFMELIEFLHRRSQEDLPXERRMPLSEALAEHIKRRLIYSGTVTKIDSPWGMPFYCLXRSSYCPXDQEERTFIMVEDTARYFRLMRDWAEKXYTNKVMRXLEEFDISPDRFEQAKEELDXIIRHWABRYHEXGGKQMXLQMVFGIKDD"
       ]
      },
      {
       "output_type": "stream",
       "stream": "stdout",
       "text": [
        "\n",
        "Tery_1926:\n",
        "18113-, to 18111+, 2 nodes (92.96% id)\n",
        "18112-, to 18111+, 2 nodes (92.56% id)\n",
        "MAIATVNPTTGEILKTFEPITSIEIEAKLELAEKTFRXYXQTSMTQRGEWLLAAXDILEKNAEKFGKIMTLEMGKTLXGAIAEAKKCALVCRFYAEKATEFLADVPAQTDAXKSFVRYQPIGPVLAVMPWNFPFWQVFRFAAPALMAGNVGLLKHASNVPQCALAIEEIFKEAGFPEGVFQTLLIGSDQVSGIMMDXRVKAGTLTGSEPAGASLAATAGRXJKKTVLELGGSDPFIVLESADLETAVSTAVTARMLNNGQSCIAAKRFILAEAIADQFQKRLVEKFEALKXGDPMLPDTNIGPLATPSILQELNAQVEASVEKGAKILTGGHLLSDLPGNFYPPTILADIPINSPAYEAEFFGPVALXFXVANIDEAIELANNTPFGLGASAWTTETAEXXRLISELEAGAVFINGLVKSDPRLPFGGIKRSGYGRELSKEGILEFVNIKTVWIK"
       ]
      },
      {
       "output_type": "stream",
       "stream": "stdout",
       "text": [
        "\n",
        "Tery_1943:\n",
        "9694-, to 31261+, 4 nodes (90.74% id)\n",
        "9694-, to 31261+, 4 nodes (90.62% id)\n",
        "9694-, to 31261+, 5 nodes (90.52% id)\n",
        "IIMKTQKNDILTQEEQRLEAGLKKEAYWQRWGPYLSERQWGTVREDYSEDGSAWDYFTHEQSHYRAYRWGEDGICGISDNHQRLCFAITLWNGKDLMLKERLFGLTGNQGNHGEDVKEYYFYLDNTPTHSYMKALYKYPQVAFPYTELLTENQRRDRKSLEYELINTGIFAENRYFDVFIEYAKATAEDVLIKITVNNLASETQTLHLLPTLWFRNTWSWSQNSXKPILKKINPGLIEANHPTLGKRWLYFXETMELFFTENETNKQRLSGXKNTSPYVKDGINNYLVNGQKDAINPNMYGTKFAPHYLLELKPGETKTIKLRLTBSPEIXQPFDSKFDDTFQTRIQEADEFYQSISLCXMKDEWQNIQRQAFAGLLWTKQYYHYIVEDWLKGDSTESPISENRKNIRNYGWIHLFNDDIISMPDKWEYPWYAVWDLAFHTIPLAIIDPNFAKHQLDLITREWYMHPNGQLPAYEWNFNDVNPPVHAWGTWRVYQIEKEVYGRQDRKFLERVFQKLLFNFTWWVNQKDIEGNNVFEGGFLGLDNIGVFNRSSELPTGGHIEQSDATSWMAMFCLDMLRIALELALENDVYEDIASKFFEHFLYIVDAMNHLGPGGTQLWDETDNFYYDVLHQPGKEDTHLKVRSIVGLIPLFAVAIIDSETLQKLPKFQKRVTWFIEHRLDLSANIACLEACGIESEHLLAIVSPERLKIILEKMLDENEFFSDYGIRSLSRYHAENPYIFYANGDEYRVDYEPAESICEMFGGNSNWRGPIWFPINHLMIESLQRFYDYLGDNFRVECPTGSGKMMNLWEVSLEIEARLIRIFLKDENGKRPVYADTEIFQNDHHWQDLILFYEYFHGDNGAGLGASHQTGWTGLVAKLIQQRSEYNCEI"
       ]
      },
      {
       "output_type": "stream",
       "stream": "stdout",
       "text": [
        "\n",
        "Tery_1962:\n",
        "5021+, to 267-, 2 nodes (93.28% id)\n",
        "5021+, to 769-, 2 nodes (92.69% id)\n",
        "VQFDVITLFPDFFTTPLNSGLLGKAFDKKIAKVNLVNPRDYTTDKYKKVDDESYGGGVGMILKPEPIFAAVESLPTLSRREVILLTPQGKTMHQGLFRELATDYEQLILICGHYEGIDERVQYLVSREVSLGDFILTGGEIPALALXNGVVRLLPGTVGKAESLKSESFESGLLEYPHYTRPANFRGWKVPEVLLSGHHAEIARWRYQQQVXRTKSRRPDLLKNDDD"
       ]
      },
      {
       "output_type": "stream",
       "stream": "stdout",
       "text": [
        "\n",
        "Tery_1965:\n",
        "5021-, to 19116+, 5 nodes (89.70% id)\n",
        "5021-, to 19116+, 5 nodes (89.61% id)\n",
        "5021-, to 19116+, 5 nodes (89.61% id)\n",
        "5021-, to 19116+, 5 nodes (89.51% id)\n",
        "MKILKLRTLRGPNYWSISRHKLVIMRLDLEDLDEKYTSDIPGFYKGLTEVLPSLVEHCCSPGVKGGFLSRVEKGTLMGHVIEHVALELQQLARMPVVFGRTRETSTPGVFQVVXEYENEQAGRYAARAAVRLCQSIVETGTYSEIELZKDLEDLKEFKNQASLGPSTEAIVKEAEARGIPWTQXGARFVIQFGYGVNQKRIQATLSSQTGILGVELACDKEGTKRILKDAGIPVPRGTVTRYFDELEDAIEDVGGYPIVIKPLDGNHGRGITIDVRNWQEAEEAYDLASNASKTKTVIVERYYTGKDHRVLVVNGKVVAVAERVPAHVIGDGKSTIAELIEETNKDPQRGDGHDNILTRITVDKSTNVILERQGYSIDSILSKEEVCFLKATANLSTGGIAVDRTDEIHPENVWLLSRAAKIIGLDIAGIDVVTEDISKPLRLVEGVIVEVNAAPGFRMHVAPSRGLARNVAGAVMDMLFPGSKNGRIPILTVTGTNGKTTTTRLLAHIMKQTGKVVGYTTTDGTYIGEYLAEXGDNTGPQSAHLILSDPTVEAAVLETARGGILRSGLGFSACEVGIVLNVTADHLGIGDIDTVEQLAQLKSVVAESVMPRGYAILNAEDPLVAAMADKVKGQVAYFSMDPNNELLLKHTEAGGLAAVYENGYISILKGDWTLRIEKAVNVPITMAGKAPFMIANALAACLAVFSQGVKIEHIREGLSSFVASVDQTPGRMNMFNMGSYHALVDYAHNPASYEALGGFVRNWPGKRIGVIGGPGDRRDEDFVSLGELAADIFDEIIIKEDDDTRGRPRGNAAELIYQGVEQFLNQGKDFDSRVIYESILDETSAINMALDRAPFDSLVVILPESVSRAIGLIEARNPVKDLELSESNLKSSKSSEELKTSI"
       ]
      },
      {
       "output_type": "stream",
       "stream": "stdout",
       "text": [
        "\n",
        "Tery_1984:\n",
        "17568-, to 17566+, 2 nodes (88.00% id)\n",
        "17568-, to 17567+, 2 nodes (88.00% id)\n",
        "MKIAIAQLNPIIGDISGNAKLILDAAQKAQNLDAKLIITPELSLIGYPPRDLLIYPSLIKAAALELEKLAKDLPSEIAVLVGTVTFNSQAPNTGAKSLFNSAVLLSNGQIQQTFHKQLLPTYDVFDEYRYFEPGKTRHFFTLENSPNSSENLAKVGVTICEDLWNDEAFWGRLNYTCDPMKELAAQQVDFVINMSASPYRAGKQKLREAMLKHNTNRYQIPIIYVNQVGGNDDLIFDGCSVVFNSAGNVIYRAQAFETNLAIVEFNCAKKDLISVNLENINFPETEEQEIWSALVLGLKDYVYKCGFSKVVLGLSGGIDSALVAAIATAALGKENVLAILMPSPYSSDHSVKDALELAENLGIAKQIISIDNLMKDYDKSLSNLFTGTNFGIAEENIQSRIRGNLLMAISNKFGHLLLSTGNKSEIAVGYCTLYGDMNGGLAVISDVPKTRVYSLCHWLNEQAVNHNQNFSGAKNLLIAEKQNIIPPNILTKAPSAELKEDQKDQDSLPAYDILDDILFRLVENCESLDKIIAAGHDSEVVNKIVKLVMRAEFKRRQAPPGLKISDRAFGTGWRMPIAKKLVMN"
       ]
      },
      {
       "output_type": "stream",
       "stream": "stdout",
       "text": [
        "\n",
        "Tery_2002:\n",
        "19887-, to 22139+, 10 nodes (99.58% id)\n",
        "10785-, to 22139+, 10 nodes (99.37% id)\n",
        "10784+, to 14871-, 10 nodes (99.37% id)\n",
        "10784+, to 25958+, 10 nodes (98.95% id)\n",
        "19887-, to 22140+, 10 nodes (99.36% id)\n",
        "10785-, to 22140+, 10 nodes (99.15% id)\n",
        "19888+, to 14871-, 10 nodes (99.57% id)\n",
        "19888+, to 25958+, 10 nodes (99.15% id)\n",
        "21448-, to 14870+, 10 nodes (99.36% id)\n",
        "21448-, to 14869+, 10 nodes (99.36% id)\n",
        "21448-, to 14871-, 10 nodes (98.94% id)\n",
        "10784+, to 25959+, 10 nodes (98.93% id)\n",
        "21447-, to 14869+, 10 nodes (99.35% id)\n",
        "21447-, to 14870+, 10 nodes (99.35% id)\n",
        "21447-, to 14871-, 10 nodes (98.93% id)\n",
        "30225+, to 14869+, 8 nodes (97.95% id)\n",
        "30225+, to 14870+, 8 nodes (97.95% id)\n",
        "30225+, to 14869+, 7 nodes (98.49% id)\n",
        "30225+, to 14870+, 7 nodes (98.49% id)\n",
        "30225+, to 25959+, 6 nodes (97.98% id)\n",
        "MMMTNRFIKIGAAXELLGVSIDTLRKWELSGELIPDRKSQAGTRFYDXSKLINLGDGDSPTICYARVSSHDQKVDLERQQAMLETYCAAKGWIFEVIKDLGSGMNYXKKGLQKLLEKILRKQTKGLVLTHKDRLLRFGAELVFSFCEL"
       ]
      },
      {
       "output_type": "stream",
       "stream": "stdout",
       "text": [
        "\n",
        "Tery_2006:\n",
        "25184+, to 5908-, 3 nodes (78.45% id)\n",
        "24266+, to 5908-, 3 nodes (78.28% id)\n",
        "25184+, to 11854-, 3 nodes (75.61% id)\n",
        "24266+, to 11854-, 3 nodes (75.44% id)\n",
        "VVDLKKLEDSIVLIXSAKENRXNVIGTGFIFYKXQNYTYLLTCAHVVEDVGGEENIRVNNIPAEVIKIGDVQGFDLAXLKVNKXFSXPSLNLMILYGEEEKKLXVKIPGXYXXSQNXALRXZTIKGEMXVEVDGERAFQLIEBXPEXVAVEKLZXXKGXLRSGYSGSPVIDINTGLVXGJVTHKVDVDGEGRFGRAISIEALEKIWXEIPNEVSKQIXREXKTIEVLTNINFEEKFQNEVKSSXESXKGELFXFEVXXVBDSGXIXBXSQXSXRQKIEDLGNGIKLZMVYIPXGXFXMGSPESEEXRXDXEXPXHDVTVXXFFMGKYPVTQGQWKXJASRTDLKVXLXLXXXPSXFKEPYQBIDRWXRPVEXVSWYZAVEFCXRLSKLTXRNYRLPSEAEWEYACRAGTTTPFYFGXTIXXXLXNYSGTDYEXWSVXLX*XXXGXI*RXNNSCRXIXXXCFWFXXYARXXXGMVXXXXA*QL*WXXYXWXXLXXWKPRRLTPAGRFLGQLS*YLPFCDSQLLC*AR"
       ]
      },
      {
       "output_type": "stream",
       "stream": "stdout",
       "text": [
        "\n",
        "Tery_2026:\n",
        "24566-, to 7248+, 7 nodes (82.51% id)\n",
        "24566-, to 7249+, 7 nodes (82.51% id)\n",
        "21104+, to 7248+, 7 nodes (82.51% id)\n",
        "4050+, to 7248+, 7 nodes (82.51% id)\n",
        "4050+, to 7249+, 7 nodes (82.51% id)\n",
        "21104+, to 7249+, 7 nodes (82.51% id)\n",
        "24566-, to 22322+, 7 nodes (80.80% id)\n",
        "21104+, to 22322+, 7 nodes (80.80% id)\n",
        "4050+, to 22322+, 7 nodes (80.80% id)\n",
        "24566-, to 12254-, 7 nodes (77.90% id)\n",
        "21104+, to 12254-, 7 nodes (77.90% id)\n",
        "4050+, to 12254-, 7 nodes (77.90% id)\n",
        "12220-, to 7248+, 8 nodes (82.62% id)\n",
        "876+, to 7248+, 8 nodes (82.62% id)\n",
        "12220-, to 7249+, 8 nodes (82.62% id)\n",
        "876+, to 7249+, 8 nodes (82.62% id)\n",
        "12220-, to 22322+, 8 nodes (80.81% id)\n",
        "876+, to 22322+, 8 nodes (80.81% id)\n",
        "12220-, to 12254-, 8 nodes (77.73% id)\n",
        "876+, to 12254-, 8 nodes (77.73% id)\n",
        "22747-, to 7248+, 6 nodes (82.62% id)\n",
        "22746-, to 7248+, 6 nodes (82.62% id)\n",
        "22747-, to 7249+, 6 nodes (82.62% id)\n",
        "22746-, to 7249+, 6 nodes (82.62% id)\n",
        "22747-, to 22322+, 6 nodes (80.59% id)\n",
        "22746-, to 22322+, 6 nodes (80.59% id)\n",
        "22747-, to 12254-, 6 nodes (77.16% id)\n",
        "22746-, to 12254-, 6 nodes (77.16% id)\n",
        "27132-, to 12254-, 3 nodes (76.08% id)\n",
        "QVXVNPNIKWXDIBWKQVEXRVFKLQKLIYRASSRGEISKMRKYQKLLTKSYYARLLAVRRVTQDNRGKKTAGXDGIKNLPPMQRLNLVDXLNKRXLKASPTRRVWXPKPGKDEKRPLGIPTIYDRALQALVKXGXXPEWEARFEPNSYGFRXGRSXHXXIENIYNVIHLXPKYVLDADISKCXXRINHDALLRKIGXTPYRRLIKQWLKSGVFDNKQFSDTVEGTPQGGXISPLXAXTSPYMXWKRDXWNLPKPWTLKIPG"
       ]
      },
      {
       "output_type": "stream",
       "stream": "stdout",
       "text": [
        "\n",
        "Tery_2047:\n",
        "22443+, to 3042+, 5 nodes (78.30% id)\n",
        "22443+, to 3042+, 5 nodes (77.97% id)\n",
        "22443+, to 3042+, 5 nodes (77.72% id)\n",
        "22443+, to 3042+, 5 nodes (77.58% id)\n",
        "MGYLYIGWRSRVQDSKGFFVADQGVPAIANGAATGADWMSAASFISMAGLISFLGYDGSIYLMGWTGGYVLLALLLAPYLRKFGKYTVPDFVGDRYYSNVARIVAVIAAIFVSMTYVAGQMRGVGIVFSRFLQVDIGTGVLIGMIIVAFFAILGGMKGITWTQVAQYTVLIIAYLIPAIAIATVITGIPIPQFAFTFSDIVEKLNQVQLDLGFAEYTAAFTNKTMLDVLFITIALMVGTAGLPHVIVRFYTVPDVRAARYSAGWALLFIAILYTTAPALATFARYNLIDSLHNKTVEEVQQLDWATKWEKTGLLEFRDKNNDDRFQITPDQETNEIKIDRDIIVLSTPEVAKLAPWVVALVAAGGLAAALSTASGLLLVISSSIAHDVYYRMIDPGASESRRLMVGRIMVGFSIAIAGYFGVNPPGFVAQVVAFAFGLAAASFFPVIILGVFDKRTNREGAIAGMVVGLLFTTIYIVGVKFVGMPTWFFGVSAEGIGTVGMVLNFVVTFIVSRMTPPPPLEIQEMVEDLRSPLAVPVPISHIGESELD"
       ]
      },
      {
       "output_type": "stream",
       "stream": "stdout",
       "text": [
        "\n",
        "Tery_2049:\n",
        "12312+, to 28559-, 2 nodes (95.57% id)\n",
        "12312+, to 31124-, 2 nodes (95.57% id)\n",
        "MKLNFSFKTISILSLFLTSLFWSDLEPAIAPSHHPILPEKIAEKQLCKTAAKFTVKIISGEGWGTGILVQKQENVYTLVTNDHVLRDKTENFVVETEDGEQYQASLLVSFHHNQITGNDLAILQFNSQKSYPIVSLAKWQKEERVMAIGFPMDVNVTSSKKGGLTCTKLGEVSKYLARPMRSGYQIGYKLTVFNGMSGGPLLNNHGQLVGIIGMGEPIIFVNPDIYLYKDGSRVTESLDISSEKALDFLSSLSWAIPSETLVDLSPSELGLNFEF"
       ]
      },
      {
       "output_type": "stream",
       "stream": "stdout",
       "text": [
        "\n",
        "Tery_2069:\n",
        "22230-, to 9371-, 10 nodes (76.74% id)\n",
        "22230-, to 11135+, 9 nodes (79.70% id)\n",
        "22230-, to 24412+, 9 nodes (76.23% id)\n",
        "12270+, to 9371-, 9 nodes (75.42% id)\n",
        "12270+, to 11135+, 8 nodes (78.52% id)\n",
        "22230-, to 20325-, 8 nodes (77.41% id)\n",
        "22230-, to 27009-, 8 nodes (76.91% id)\n",
        "10496+, to 9371-, 8 nodes (74.28% id)\n",
        "12270+, to 24412+, 8 nodes (74.77% id)\n",
        "12270+, to 20325-, 7 nodes (75.94% id)\n",
        "18398+, to 11135+, 6 nodes (78.77% id)\n",
        "18398+, to 26808+, 9 nodes (76.47% id)\n",
        "12270+, to 27009-, 7 nodes (75.39% id)\n",
        "10496+, to 24412+, 7 nodes (73.50% id)\n",
        "10496+, to 20325-, 6 nodes (74.63% id)\n",
        "51-, to 20966+, 10 nodes (75.80% id)\n",
        "10496+, to 9371-, 6 nodes (73.12% id)\n",
        "22230-, to 11135+, 5 nodes (77.85% id)\n",
        "22230-, to 26808+, 8 nodes (75.43% id)\n",
        "26706+, to 11135+, 5 nodes (77.39% id)\n",
        "10496+, to 27009-, 6 nodes (74.06% id)\n",
        "26706+, to 26808+, 8 nodes (75.00% id)\n",
        "10496+, to 27009-, 6 nodes (73.75% id)\n",
        "18724+, to 9371-, 6 nodes (71.67% id)\n",
        "34247+, to 9371-, 6 nodes (71.67% id)\n",
        "33067-, to 11135+, 5 nodes (73.44% id)\n",
        "7857-, to 13472-, 9 nodes (75.06% id)\n",
        "33067-, to 26808+, 8 nodes (71.46% id)\n",
        "51-, to 20966+, 10 nodes (76.51% id)\n",
        "14-, to 11135+, 6 nodes (75.84% id)\n",
        "14-, to 26808+, 9 nodes (73.52% id)\n",
        "51-, to 11135+, 4 nodes (76.54% id)\n",
        "51-, to 26808+, 7 nodes (74.00% id)\n",
        "7857-, to 16546+, 9 nodes (73.41% id)\n",
        "30739+, to 9371-, 4 nodes (75.39% id)\n",
        "30739+, to 27009-, 4 nodes (76.16% id)\n",
        "18724+, to 24412+, 5 nodes (70.45% id)\n",
        "34247+, to 24412+, 5 nodes (70.45% id)\n",
        "7857-, to 13472-, 9 nodes (75.74% id)\n",
        "7857-, to 20966+, 7 nodes (73.70% id)\n",
        "7857-, to 33162+, 8 nodes (73.63% id)\n",
        "33581-, to 13472-, 7 nodes (72.87% id)\n",
        "10496+, to 20324-, 5 nodes (70.05% id)\n",
        "10496+, to 22612+, 5 nodes (70.56% id)\n",
        "7857-, to 16546+, 9 nodes (73.86% id)\n",
        "33581-, to 16546+, 7 nodes (71.06% id)\n",
        "7857-, to 20966+, 7 nodes (74.24% id)\n",
        "14-, to 20325-, 3 nodes (71.13% id)\n",
        "7857-, to 33162+, 8 nodes (74.17% id)\n",
        "29642+, to 20324-, 3 nodes (70.85% id)\n",
        "29642+, to 22612+, 3 nodes (71.43% id)\n",
        "7857-, to 26808+, 4 nodes (71.22% id)\n",
        "33581-, to 20966+, 5 nodes (71.10% id)\n",
        "33581-, to 33162+, 6 nodes (71.02% id)\n",
        "IISRNKESAXQKIEDLGXXIELEMVXIPGGXFXMGSPXXEXXXXXXEXPQHXVXVXXFXMGKYXVTQGQWXAIASXTBLXVXLDLXXXPSXXKXXXXBIDRWXRPVXXVXWXZAVEFXXRLSKLXGRNYRLPSEAEWEYACXAGTTTPFXFGETIXXELXNYXGTDXXXXNWSGSYGBXPXXEYRXQTXPVGQFPANAFGLYDMHGNVXEWCXDXXHXNYXXAPXDGSXWLNXBXXXSXLRGGSWXXXPXXCRSAXRXXXXXXXXXXXXXGXRXVCDGGRXL"
       ]
      },
      {
       "output_type": "stream",
       "stream": "stdout",
       "text": [
        "\n",
        "Tery_2071:\n",
        "10055+, to 10740-, 5 nodes (91.82% id)\n",
        "10055+, to 10740-, 6 nodes (89.40% id)\n",
        "10055+, to 10740-, 5 nodes (89.09% id)\n",
        "MSISNFIEGLQQANDDLTATEIAEIIWLWVKTLPDGELESLETDKRNSQGPESNNEIDSEKNRQNLKINIPELPAKTNLDLYPKAAADKYLPETDNNKKERYPLQVPDAPAIPNKQELGIALKSLRRKFPSSTEQELNEAKTIDFFVEQKIWMPIKEPILTRRWLDLVLVIEVNNSLVIWKQTIKELRKFLQSLGIFRHIETWGLKFNFSQLLPQELLFKLIVRVSPEFIPFLILSSQNQKSEKIEIFHYDDPQMRPYSPEFIGTTSGKTLILLVSDLVSSVWSRPETYTLLQRWGRKGMVNLLQLLPERLWLRTTLGQQKSLKLNASVRLTSNQNLTIIPSSKKQEISQDGEFKLPVLCLDPNILEEWSNLLMGVGNNQSVGYGIKPDNHRYSNFVQEEITATERVERFQQIASPNALRLAEHLSAVLVTLPVIRVIQYTMIPKFNQGHVAEVLMGGLFKPLSEKITPNINPDEIEFEFFDGVRDELLSGLTVDEITDVIEEVSSYLAEKMGISLKEFEALLIDSSKPENKLAKQVYPLAQVQAEVLEKLGGSYADFANQIRASNTGFTNERKDLIEFETEIEVATIVFEEETKEVEIELQEWSFETPTVNRLGKIVETTIHKAFYFTQSLPDNVGLEMVAIPSGTFTMGSPESEEKSMDNERPQHDVTVPSFFMGKYPVTQGQWRAIASRTDLKEKEDLDPDPSHFKEPYKGIDRWQRPVEDVTWYQAVEFCERLSKLTGRKYRLPSEAEWEYACRAGTTTPFYFGETIXXXLXXYXGTDXKEYNWSGSYGDGPKGEYKXZTTPVGQFPANAFGLYDMHGNVWEWYADDWHDNYVGAPTDGSAWVDSNKDNSTESNTAESNTGLRGGSWANFPVNCRSAIRDYYLRRDDLNYFTGFRVVCDGGRTL"
       ]
      },
      {
       "output_type": "stream",
       "stream": "stdout",
       "text": [
        "\n",
        "Tery_2072:\n",
        "2199+, to 10055+, 2 nodes (95.17% id)\n",
        "2199+, to 10054+, 2 nodes (95.16% id)\n",
        "MTNLWLALASMFGWFVSNIAGGGSSFILMPIVGLFLGTIAIPPVITTGGILGNAERVFNYWQKINWTVIFWELPGTIVGGCLGAFIFTQIPVKWLSFLVGLFLLISGINLIIKNQEKPFTVRVWYFLPAGFIYSFLSGIIGSMGPLLAPFYLSYGLEKEELLGTQAVNRMVVHIFKAITYAVFGNLTLPYLGYGILIGVAAYPGNRLGHLVLEKISPQLFRQLVTAFVIFSGLFLLWEQRSLLIFTGL"
       ]
      },
      {
       "output_type": "stream",
       "stream": "stdout",
       "text": [
        "\n",
        "Tery_2076:\n",
        "15394-, to 29013-, 5 nodes (88.27% id)\n",
        "15394-, to 29013-, 5 nodes (88.03% id)\n",
        "15394-, to 29013-, 5 nodes (88.03% id)\n",
        "15394-, to 29013-, 5 nodes (87.79% id)\n",
        "MLYNLRLRIVIRELLYQGLGEEEFNDLVYDYFPDVYSQFTNGQNKSQRIRNLIDYADKHREIEKLLEGIKNINPKVYQEYESELEGKPPKPPIKKCDVLVLAANPTSTQPLQLKKETELIREKLQDTDFGKNYIVYAEENALIEDLSKYLLQYQPIILHFSGHGNSQGEIILNNRQGEPKVLSLETLSELLSIVGKDGKPIECVVFNACFSLKKADAVGDQVGCVIGMKKEIGDDSALIFAAEFYQGLGYEVGYYKAFQLGINGIKRLRLPDSQTPHFIPFDTSFLESESVSLRTEQVRRSTNPKNTAETDESVSPRNTKINRTLNSRDTTETTATLYPLWFGTNRKPVDIDNISKGFSGKRDDKLHYGICQVAVPKSHKIGSTGSPWWKRLITLKDDRLKLQFKSLQILQEELFWANINEELKDHEINERSALVFVHGYNVNFEDAAIRAAQMGFDLQVPGITAFYSWPSQGKLLAYPVDXASIEASEKYMTEFLLXLAEKTHIEKIHIIAHSMGNRGLLRAVQRIISQVQTITNIVFGQIILAAPDVDIDLFKELAKGYGQLAERTTLYISSKDKALATSGLIHQHDRAGFFPPVTVVEGIDTVKVSKIDVTLLGHGYFADARLVLEDIRDLLINNTSPEQRRGRLEPSEEGGYWVMR"
       ]
      },
      {
       "output_type": "stream",
       "stream": "stdout",
       "text": [
        "\n",
        "Tery_2077:\n",
        "22029-, to 18159-, 8 nodes (89.11% id)\n",
        "22029-, to 826-, 8 nodes (88.89% id)\n",
        "22029-, to 18159-, 7 nodes (90.20% id)\n",
        "22029-, to 18159-, 7 nodes (89.74% id)\n",
        "22029-, to 826-, 7 nodes (89.98% id)\n",
        "22029-, to 826-, 7 nodes (89.52% id)\n",
        "MTNTNIAITIGVQEYEFFPSLKYAANDAKKMRDFLLDEADFDEVFYFSDNSPKINGASTSPTRSRLEYLLENEVKKLPLKTGDNLWFFFSGHGQRENNNIDYLIPIDGHSNVERSGISVEYVIQQLQNSGADNIVLILDACRNKSHGEKGGEGVGRQTEQEAREKGIITIFSCSPNERSWESEELEQGVFTYALLEGLGSKGKKATAERLNDYLKYRVQELAQKERKRQTPRIIADPIEKSHLILMPKYATKSDVSILKIDAYRAQTNGDLNWAEQLWIRVLEVGLDLEAVKALQKIAVEQFRSQLVSXPQLDLGYFQXLPVSETQQLRSTEVLEGSNIZTSLQSQPKLEPNSQXKXKSQPKITTYTFTFATPKVNRKGEIISXSZGEAEVMIENLGNGVTLEMVRIPGGRFLMGSPXTEAXRXXYESPQHYVDVPEFWMGKYVVTQZQWQAIMGNXPSXFXGKNRPVERVSWNNATEFCEKLSKKTGRDYRLPSEAEWEYACRAGTTTPFYFGETITGELXNYXXSXTYADEXKGEYXXQTTPVGQFPPNAFGLYDMHGNVYEWCQDVWHXBYDGAPVDGSAWVNGGNSXXRVXRGXSWXFXPXXCRSANRXXXBSVEXXXNXIGFRLVSFPPPRTXE"
       ]
      },
      {
       "output_type": "stream",
       "stream": "stdout",
       "text": [
        "\n",
        "Tery_2110:\n",
        "25577-, to 9906+, 4 nodes (88.39% id)\n",
        "25577-, to 9907+, 4 nodes (88.15% id)\n",
        "27397-, to 9906+, 4 nodes (85.78% id)\n",
        "21804+, to 9906+, 4 nodes (85.07% id)\n",
        "27397-, to 9907+, 4 nodes (85.54% id)\n",
        "21804+, to 9907+, 4 nodes (84.83% id)\n",
        "MMXNXQSXPXNRIXIKDXXXDSTIWDLIKXRNTDIVICSCYKSXTTLTQQIVNLXVNGBDNFESLXDJSXWVEXIFIXXPXXKXXXXESLPXPRXXKSXLLFEALPYYPEWKYIYLVRDGRDVGVSXXHHXXSXLPEYXXENLPXXFXXFWDBXXETKEDKXEYWSYWKHIKSWWQVRNLPNVLLVHYHNLIYDKSQEIDRISEFLNLNINTLKKEMILEKSSLEYMKLNWQKFQPVGVFQPNTFINKGVNGRWQNLLTTEQLKRYEIIISXELEPECAKWVKNAGFLPEVNSTAFD"
       ]
      },
      {
       "output_type": "stream",
       "stream": "stdout",
       "text": [
        "\n",
        "Tery_2112:\n",
        "29128-, to 29130+, 2 nodes (96.94% id)\n",
        "29129-, to 29130+, 2 nodes (96.94% id)\n",
        "MTEXTAKVRKAXIPAAGFGTRMFPATKVVKKELFPIIDKDGRAKPIIQIIIEEAISGGIEEVGLVVQESDRQIFTDYFQAIPSYYEKLSLEKQEYCQYLQNLGNKITLLTQEQQAGYGHAVFCAKDWVRDEPFLLLLGDHLYTSEVTKSCTSQILQVYEQTNKSVLGVRIIPGTEIHHYGCIGGTLVADSLINIDTIYEKPDLNYAREKLHVLGMKKEHFLGVFGIYVLTARIFDYLEENIKQNAREKGEFQLTSCLDKLQKAEGMTGYLVKGRCFDTGMPDVYWQTMIDFRNV"
       ]
      },
      {
       "output_type": "stream",
       "stream": "stdout",
       "text": [
        "\n",
        "Tery_2114:\n",
        "29129+, to 19576-, 2 nodes (88.82% id)\n",
        "29128+, to 19576-, 2 nodes (88.82% id)\n",
        "M*DLFAIIF*NINISQSMDIKEVLKLAEELIYDHTGENLDYLQKTILQRTLEGQTYKKISEETYASETHVRYIGAKLWKTLSEILGENITKANFRTILENANIYNFAIGKNSITNNINICPSNPHASPIKTNSQQTPTQHIIDLDKAPEIINFYGRTEEISTMTKWIVSDRLRVISLLGISGIGKTTLSLRLIEEINGLGNQTPTFNYIIYRTLRFSPTLTTTLTNLLQIFAPQTEVSDNIEILLSQLQKYLAKYPCCIIFDDVQKLFAPGKLAGQYKSGYSDYRDFFQLFATVSHQSCLLLISREKIAEILKLETENYPVETLILGSLGAAAKEICQKHQLVNQESWEKLINNYQGNPQWLDITATIIKELFSGKVAEFMEYKTLILPEALQTELEQQLQNLSPIEIRIMEQIANQNQPISIAEIIRQSQLSIQETINLIQSLKKRLLLDVQLENNFTVFTMNSIWNQYLKNKS"
       ]
      },
      {
       "output_type": "stream",
       "stream": "stdout",
       "text": [
        "\n",
        "Tery_2127:\n",
        "12950-, to 12951+, 2 nodes (86.22% id)\n",
        "12950-, to 12952+, 2 nodes (86.22% id)\n",
        "MSQQTVWIARHGNRIDFVNPEWFNTAERPYDPHLSDDGILQAQKLANHLIGKNITQIFASPFLRTVQTANEVAKVLDLDIKLDWGLCEWLNHEWMPAMPETLSLEELVQSYSRIDLSYHEGTPQYPETWKACMKRTGEVSRRLAQEFRAENILLVGHGASVVGAAAGLVGEIAETKVKASLCCLVKIVLQEEQWVMELSGDTSHLDNRETTVRFV"
       ]
      },
      {
       "output_type": "stream",
       "stream": "stdout",
       "text": [
        "\n",
        "Tery_2131:\n",
        "31967-, to 16326-, 2 nodes (85.59% id)\n",
        "25882+, to 16326-, 2 nodes (85.88% id)\n",
        "MNAELDSPDFAQAESLXQELFAEVQKQEGVLAGGQKLGITASIIKDLQETKVTFGNPQNELIPLTEEIFKETGMELNHLIKQQMKDDYNFYYLTLNVNLRPQPGAKFWRLTCDLKFSEERTIIQSIFPEHQWQSVLKIGVGMDIGINQNLTWDAAIDSSIITEVLKSVPANLKANIASKNKFKAFAVIPECKYELGCPEIVAEGMGSPDCYWRIQDKDIQKVGTVKFGVIFKVPKLTKSITLTGTTWADIDINWLTANISDIVLVRLPERFKELLGLDAEESANKFFRGNKEKWHLKLLQ"
       ]
      },
      {
       "output_type": "stream",
       "stream": "stdout",
       "text": [
        "\n",
        "Tery_2138:\n",
        "21626-, to 9850+, 4 nodes (85.84% id)\n",
        "21626-, to 9850+, 4 nodes (85.84% id)\n",
        "21626-, to 12916-, 4 nodes (85.81% id)\n",
        "21626-, to 12916-, 4 nodes (85.81% id)\n",
        "MKKRQLGSTDIKISEVGLGTWQMSGDVWGKKTEAEYCRGMEVAIEAGIDYFDTALEYGNGYCEQVLGKVLRGFPSVVISSKIPPQCDEWSAKPQGNIDDYFSPAWISKCCETTLKNLRRDCVDILFLHTWNVAWGDRTEWYEAMVKLKEQGKIRAIGVSVGDRRASEANSHIEAGRIDVVMAVYNVLEQEPEYTLFPMAKKHQVGIVARCPFSSGALVSDWTSSQKFPDGDWRGLWTPDDWVAKHIEMVDYIKPMVKNTNLSMSAIGLKYILNHQTVTSVIPGSSSPEHIRNNASVTALPNLSEDILGQLQQLWLDGKVHGMYNGGS"
       ]
      },
      {
       "output_type": "stream",
       "stream": "stdout",
       "text": [
        "\n",
        "Tery_2155:\n",
        "8196+, to 14586-, 8 nodes (90.61% id)\n",
        "2333-, to 14586-, 8 nodes (90.39% id)\n",
        "17077-, to 14586-, 8 nodes (90.39% id)\n",
        "2333-, to 14586-, 10 nodes (90.33% id)\n",
        "17077-, to 14586-, 10 nodes (90.33% id)\n",
        "4978+, to 14586-, 7 nodes (89.77% id)\n",
        "4977+, to 14586-, 7 nodes (89.77% id)\n",
        "33923+, to 14586-, 3 nodes (89.35% id)\n",
        "4978+, to 14586-, 7 nodes (89.11% id)\n",
        "4977+, to 14586-, 7 nodes (88.89% id)\n",
        "METNZKXTFPKMGXGTWAWGNRLLWGYDEXMDNELQNVFNLCVANGITLFDTGDSYGTGRLNGRSEMLLGQFSQGYRGANQDDICIATKLAAYPWRWSRQAMISACTASAQRLGKNVDLVQMHWSTANYFPWQEWGLLDGLADLYEQGKVKGIGLSNYGPKRLKKVYKKFSDRGVPISSLQVQYSLLSTYPVTELGLKEVCDELGIKLIAYSPLALGILTGKYSEKGSSAPGIRGILFRQILPGIRPLLSCLEAVSKSRNKTMSQVAINWCISKGTIPIPGAKNQAQAEQNIGALGWELDSGEVAELDQAAASTNKKMVQNIFQTQ"
       ]
      },
      {
       "output_type": "stream",
       "stream": "stdout",
       "text": [
        "\n",
        "Tery_2172:\n",
        "21110-, to 21111+, 2 nodes (92.71% id)\n",
        "21109-, to 21111+, 2 nodes (91.35% id)\n",
        "LTLARALEQKGIBFQLYEQADSFEALGYGIQVSPNXVRVLRELGLEQQLEXVSHLCLGFELRSFNSNXVLATWQLDNDTPYYQCRRADLXSLVFNSIQDKSRIHFSRRLESYXEKDNQLLLYWXNXPSTTAKALVAADGVRSVVRXSLFNXVAHEXXPQYXAAXLXSKHQAQYAGYAAYRXILPFQDKYLPLWGKATVWMGKNHHXVVYPNGNEQNSTSWLNLVLVVKDXNWNPQXWTIPADKKAVARDFANQSEELNEILEDMVVSPEPCFKWGLFIHKPLPYWTRGKVTLLGDAAHPMLPFQAQGAAMAIEDAYVLAKYLASEKDIEKAFIDYQQARIKRTTKVQQVSRNNAKIFHASGVKAAIRNFVLGVVSTTVPSLLNKKTAWIYDFDLTSS"
       ]
      },
      {
       "output_type": "stream",
       "stream": "stdout",
       "text": [
        "\n",
        "Tery_2173:\n",
        "6781+, to 31307-, 2 nodes (97.30% id)\n",
        "28939+, to 31307-, 2 nodes (96.75% id)\n",
        "MYLYYXLGFIVLVVALGIVIYLITPRSYESSDTVANSYDDWTXDGILEFYWGEHIHLGHYGSPPRRKDFLQAKADFVHEMVKWGGJDKLPRGTXVLDVGCGIGGSSRILAKXYEFEVTGXTISPKQVQRATELTXQGVTAKFQVDDALALSFPDNSFDVVWSIEAGPHMPDKAKYXSEMMRVLKPGGILVVADWNQRDDRQKPLNYWEKPVMRQLLDQWSHPAFSSIEGFSEQIAETGLVEGEVATADWTQETLPSWLESIWQGIVRPEGLIKFGFSGFIKSLREVPTMLLMRLGFGAGLCRFGMFRAVKSNSVPLSTETATTEVANA"
       ]
      },
      {
       "output_type": "stream",
       "stream": "stdout",
       "text": [
        "\n",
        "Tery_2225:\n",
        "11567+, to 8647-, 2 nodes (75.20% id)\n",
        "11567+, to 27391+, 2 nodes (75.20% id)\n",
        "LMIFSLAIVPKIYKYKGHKGRQVRRILNCLAVLVFLGQGITGSRDLLENSLSWQHKFLYKCDGKNQVCPDSTSQVLSPEVLVASISNYPILAQANKVLASGEFVTITPGEDTEGTAQVIQVGGKIQVRLGENFSAIEGPAVRLLLHKQNRPESYTAENYVRLGNLKSFTGEQVYDVPEGINWRDFPNVVVWCERFDVTFGSAKLN"
       ]
      },
      {
       "output_type": "stream",
       "stream": "stdout",
       "text": [
        "\n",
        "Tery_2274:\n",
        "3243-, to 3244+, 2 nodes (82.09% id)\n",
        "3243-, to 3245+, 2 nodes (82.09% id)\n",
        "YSNYKISTIITIIFLSFFIFIITINKANLALGKTSEELQNSNIENFTQVNSLTPLSNIVYKPIKIDGREIFKAAAIAGQEIQGNSNTSPLNIRVRLYENNLRQTIKNCFDADTLKLTLEILENQTLVFASDAEELKNQELIAITDLDAQIHGISREDLANQIIGFVRDALIRAQRERQPDYLFRQTLISTGIILALILLSFLISTWQKYCFDKYQKLQRLIESLKLSYPQIDELRNQQQLRVVKPELSLGQKQQLIWEQQQNKNSFFRSLLQVTHIIVWLFGMSWILGNFPYSRWLQILLLSYTMVLTTIIGTYLIIKISPIIIRWFAINSLQKLETETSAHRTVSRAITFSHTFQGIVIFILVFLGILWTFHKLNVSLIIILVSLGIISLTASLGGHNLVKDIISGILILREDQYGIGDLIDLDYTIGYVEDMNFRMTQLRDAGGRLTTIPNSQISTIHNLTKDWASIDLKIKVNLDTNLSQALKLIKKVNNELINDTNWRDEILDYASILAVNSVSKMEVEITVRVKTRPRKQWNVAREFCYRLKQNFDSENIPINATITSKYKI"
       ]
      },
      {
       "output_type": "stream",
       "stream": "stdout",
       "text": [
        "\n",
        "Tery_2275:\n",
        "3344-, to 3345+, 2 nodes (95.97% id)\n",
        "3344-, to 3346+, 2 nodes (95.76% id)\n",
        "MITEVSLIEIAKTTRQAAQKSAVLSTQAKNKAIEAVAQVLEKATPKIIAANQLDCRIAETDGIAKPLYNRLKMDEAKLKNAIAGLRNVATLRDPIGVVQIHRELDAGLILKRITCPLGVIGVVFEARPDAVIQISALAIKSGNGVILKGGKEATNSCLELVTAIRQGLSTTSVNPDGVQLLTTREETLELLKLDEYVDLIIPRGSNSFVKFVQENTQIPVLGHAEGICHVYVDKFADIQKAVKITIDAKTQYPAACNAAETLLVHADVAAKFLPEVFPEXEKRQVELRGDRATQQILSSVKEAIDVDWATEYSDLVLSVKXVDSLESAIAHINXYGSGHTDAIITEDGKAAXIFXAQIXXAGVFHNCSTRFSDGFRYGFGAEVGISTQKMAPRGPVGLEGLVTYKYQIXGDGHIXATYTGENAKPFTHQDF"
       ]
      },
      {
       "output_type": "stream",
       "stream": "stdout",
       "text": [
        "\n",
        "Tery_2352:\n",
        "1313+, to 16054-, 7 nodes (93.80% id)\n",
        "1314+, to 16054-, 7 nodes (93.19% id)\n",
        "1313+, to 16054-, 6 nodes (93.56% id)\n",
        "1314+, to 16054-, 6 nodes (92.92% id)\n",
        "1313+, to 16054-, 6 nodes (93.56% id)\n",
        "1314+, to 16054-, 6 nodes (92.91% id)\n",
        "MIENNNYLSSSVATISRQELRELVRSQLQALLEQDNLSGAKAMLVPVQPTDIAEAIEGLPETMQVIAFRLLSKAEAIEVYEQLDSTVQQSLCEKFKGQEVIDIVDKMSPDDRXKLFEELPAAVVRRLLGQLSPTERQATAQLLGYNSGTAGRIMTPEYISLKEEYTVAQSLERIRSLANVTETVYSLYVTDTNRYLTGILSLRDLVTSQLNQTISEIMSRDYVCVQTGTDQEEVVRLIQRYDFLAIPVVDSEKRLVGIITVDDVLDILEQEATEDIYALGGVQSDGDNYFQVNIFTAVRRRVVWLFVLLLTNSVTGGIITAQEDILQKVVVLAAFIPLLTGTGGNVGAQSSTVVIRGMNTDEIWKIGPVKVILREATAGAMLGSILGLLATAWAYLFIVNGNLEVSVTVGISLVAISILASVAGSSLPFLFRSFGLDPALMSAPFITTAVDVLGVLIYFNLARIILQI"
       ]
      },
      {
       "output_type": "stream",
       "stream": "stdout",
       "text": [
        "\n",
        "Tery_2354:\n",
        "6580-, to 4492-, 5 nodes (96.58% id)\n",
        "6580-, to 4492-, 5 nodes (96.58% id)\n",
        "6580-, to 4492-, 5 nodes (96.58% id)\n",
        "6580-, to 4492-, 5 nodes (96.58% id)\n",
        "MRTHYCGQINSNNIEETVNLCGWVDRRRDHGGVIFLDLRDRSGIVQIVSDPERTPDSYQIAGDIRNEYVVQITGRVSRRPEESLNPKLPTGEIEIYADDIQLLNGLGKQLPFQVSTAETETVREELRLKYRYLDLRRERMTRNLLLRHEVIKAVRRFLEDEQNFVEIETPILTRSTPEGARDYLVPSRVHPGEWFALPQSPQLFKQMLMVSGFDRYYQIARCFRDEDLRADRQPEFTQLDMEMSFMSQEEILQLNEQLVAYIFQKVKGIDLPLPFPRLTYREAMERYGSDKPDIRFGLELVDVSDLVKDSGFKVFSGAVAKGGIVKVLPIPGGNDAISNVRIKPGGDLFKEASEAGAKGLAYVRVKEGDKIDTIGAIKDNLTDEQKQELLKRTNAQPGHLLLFAADDANTVNKTLDRLRLVVGEQLELIDQDKISLLWVTDFPMFEWNEDEKRLEALHHPFTAPHPDDINNLKTARAQAYDLVFNGYEVGGGSLRIYQRDVQEKVFEAIGLSDEEADNKFGFLLEAFEYGTPPHGGIAYGLDRLVMLLAVEESIRDVIAFPKTQQAKCLLANAPSEVDKKQLKELHVSSIYKPKS"
       ]
      },
      {
       "output_type": "stream",
       "stream": "stdout",
       "text": [
        "\n",
        "Tery_2359:\n",
        "31865-, to 20115+, 8 nodes (99.87% id)\n",
        "31865-, to 20115+, 8 nodes (99.87% id)\n",
        "31865-, to 20115+, 7 nodes (99.86% id)\n",
        "31865-, to 20115+, 9 nodes (99.62% id)\n",
        "31865-, to 20115+, 9 nodes (99.62% id)\n",
        "31865-, to 20115+, 8 nodes (99.60% id)\n",
        "31865-, to 20115+, 8 nodes (99.47% id)\n",
        "31865-, to 20115+, 8 nodes (99.47% id)\n",
        "31865-, to 20115+, 7 nodes (99.43% id)\n",
        "IHEDDNIILQAPIRSPLKKTTPTRQVKFEHPSSGLISALNHLKSSQKTYPQLKALVVAXDGZEAGERFDVELEKLINTGWVSHSLYPLATVIPIVEKNYRFKSPEIAQLQGKFTLSRFAYLHQSQGKTIIECPLSTSQIIALDWRCGALLAKLSQPQTPSSLSADIPDITEEIAQKFLALLMATQMLSPETEPTPLMYWEFHDLLFHSRSRIGRHNNPTGGTMRFFGKTEPLPIVKPPMSDKVIKLVQPNLEYLTQIDIPLTKALELRQSIREYDEQPIRLQQLGKLLYCCARIKKIETMETEEFGTLHLNYRPYPCGGAIYELEIYPVVNRCQGLAAGVYHYQPLEHCLYQISAHETQVEELIEDAYKSSGEQDQPQVLLVITARFGRIFWKYESIAYALILKHVGVLYQTFYLMATGMHLAPCALGIGDADNFAQITGLDYYEESSVGEFLLGSVRN"
       ]
      },
      {
       "output_type": "stream",
       "stream": "stdout",
       "text": [
        "\n",
        "Tery_2360:\n",
        "24413+, to 9466-, 9 nodes (88.02% id)\n",
        "16366+, to 9466-, 10 nodes (88.65% id)\n",
        "25251-, to 17188+, 8 nodes (88.66% id)\n",
        "25251-, to 13352-, 8 nodes (88.66% id)\n",
        "24413+, to 15762-, 9 nodes (83.42% id)\n",
        "16366+, to 15762-, 10 nodes (84.02% id)\n",
        "24413+, to 24032-, 8 nodes (83.29% id)\n",
        "24413+, to 28213-, 8 nodes (83.29% id)\n",
        "16368-, to 13352-, 10 nodes (88.71% id)\n",
        "16368-, to 17188+, 10 nodes (88.71% id)\n",
        "16368-, to 24032-, 10 nodes (83.49% id)\n",
        "16368-, to 28213-, 10 nodes (83.49% id)\n",
        "25251-, to 9466-, 6 nodes (88.50% id)\n",
        "20250+, to 17188+, 4 nodes (88.29% id)\n",
        "20250+, to 13352-, 4 nodes (88.29% id)\n",
        "28631+, to 13352-, 8 nodes (88.99% id)\n",
        "28631+, to 17188+, 8 nodes (88.99% id)\n",
        "19662+, to 17188+, 8 nodes (88.99% id)\n",
        "19662+, to 13352-, 8 nodes (88.99% id)\n",
        "16368-, to 9466-, 8 nodes (88.53% id)\n",
        "25251-, to 15762-, 6 nodes (81.63% id)\n",
        "25251-, to 24032-, 5 nodes (81.30% id)\n",
        "25251-, to 28213-, 5 nodes (81.30% id)\n",
        "16368-, to 15762-, 8 nodes (80.20% id)\n",
        "16368-, to 24032-, 7 nodes (79.68% id)\n",
        "16368-, to 28213-, 7 nodes (79.68% id)\n",
        "MPXKPRNFQIGHSYHITTRCNNREFKLSRRECREVFLYAIKKVSTKYNFRLYALCIMSNHVHYLIEPLQXRRFTXNYALPQLVHSYVFQQNVKTXGAF"
       ]
      },
      {
       "output_type": "stream",
       "stream": "stdout",
       "text": [
        "\n",
        "Tery_2361:\n",
        "19962-, to 22629+, 10 nodes (92.44% id)\n",
        "19962-, to 19345-, 10 nodes (92.44% id)\n",
        "27005-, to 3054-, 10 nodes (94.96% id)\n",
        "27005-, to 19345-, 9 nodes (94.96% id)\n",
        "27006-, to 3054-, 10 nodes (94.68% id)\n",
        "27006-, to 19345-, 9 nodes (94.68% id)\n",
        "28632-, to 3054-, 10 nodes (93.54% id)\n",
        "28632-, to 19345-, 9 nodes (93.54% id)\n",
        "19963+, to 3054-, 10 nodes (93.48% id)\n",
        "23606-, to 3054-, 10 nodes (96.28% id)\n",
        "23606-, to 19345-, 9 nodes (96.28% id)\n",
        "19962-, to 615-, 8 nodes (92.17% id)\n",
        "27005-, to 615-, 7 nodes (95.20% id)\n",
        "27006-, to 615-, 7 nodes (94.86% id)\n",
        "28632-, to 615-, 7 nodes (93.47% id)\n",
        "23606-, to 615-, 7 nodes (96.97% id)\n",
        "23605+, to 3054-, 3 nodes (91.37% id)\n",
        "LTDDGLTXWHPAXLXXAXTXXGCAQKYKGFCNKYKPKQKTPKKSHWGSRLLXGITPSIXFEKRSSQKTKKSSTSFXFPPCQVTEKLEVAKVVXQFVEANRPPKQEGKDF"
       ]
      },
      {
       "output_type": "stream",
       "stream": "stdout",
       "text": [
        "\n",
        "Tery_2362:\n",
        "2254-, to 2893+, 9 nodes (96.49% id)\n",
        "2254-, to 2894+, 9 nodes (96.06% id)\n",
        "2254-, to 2893+, 9 nodes (95.75% id)\n",
        "2254-, to 2893+, 9 nodes (95.75% id)\n",
        "2254-, to 2894+, 9 nodes (95.32% id)\n",
        "2254-, to 2894+, 9 nodes (95.32% id)\n",
        "2254-, to 2893+, 9 nodes (95.00% id)\n",
        "2254-, to 2893+, 7 nodes (97.60% id)\n",
        "2254-, to 2894+, 9 nodes (94.57% id)\n",
        "2254-, to 2894+, 7 nodes (97.14% id)\n",
        "2254-, to 2893+, 7 nodes (96.80% id)\n",
        "2254-, to 2894+, 7 nodes (96.33% id)\n",
        "2254-, to 2893+, 8 nodes (95.66% id)\n",
        "2254-, to 2894+, 8 nodes (95.21% id)\n",
        "2254-, to 2893+, 8 nodes (94.88% id)\n",
        "2254-, to 2894+, 8 nodes (94.43% id)\n",
        "MAEISNIPEIKKLWAKTKGNSEVCVAVLDGLVDLKHPCFEGANLTQLPXLVQGQATPQXEMSLHGTHVASIIFGQPNSXVSGIAPHCRGLIVPIFSDYHRRTSQLNLARAIEQAVNAGANIINXSGGELTDYGEAEDWLNRAVSLCQNNNVLLVAAAGNDGCECLHVPAALPXVLAAGAMGENGQPLDXSNWGENYQTQGILALGXNILGAEPGGGTTQLSGTSFATPVVSGVAALLMSLQLQREEKPDSQKVRTALLKTAVPCHAQETRRCLVGQMNISGAIAHITGETMSESEQDNSNGIEASCGCESTPEASLPGSVGLENSLPARADNGVVAAGVVEAGVTASQPLSSTNTSNNQISAMPNNSQSNNSNGITPSQPPQDVTNIAMPNNSQSNNSNGITPSQPPQDVTNXVYVIGTLGYDFGXEARRDSFKQLMPAVTIXXTQTQIPANPYDAXQMXBYLXXNLSEAKSLIWTLNMELTPIYAIEAVGSFAREVYEALQELXAGEXEAEDAEXYIERVSIPGKLTGRTVKLFSGQVVPVIEPVSPRGIYGWRVNTLVXSALEAVRXXQAEADDEQMRRSLXSFLNRVYYDLRNLGQTSQDRALNFAATNAFQAAQTFSTAVAAGMELDSIAVTKSPFXRMDSDCWDVQLKFFDPENXRRAKKVFRFTIDVSDFIPVTXGXVRSWSSPY"
       ]
      },
      {
       "output_type": "stream",
       "stream": "stdout",
       "text": [
        "\n",
        "Tery_2363:\n",
        "13344+, to 2894-, 2 nodes (94.50% id)\n",
        "13344+, to 2893-, 2 nodes (94.50% id)\n",
        "MSKKDVKKTPQAKSEITSPPSQQIQQPELKIEENTILATGLEDYGRWKGMFQGQKREGQPPFPRRGRIWA\n",
        "Tery_2365:\n",
        "13345+, to 29523-, 10 nodes (98.23% id)\n",
        "13345+, to 29523-, 10 nodes (98.23% id)\n",
        "13345+, to 29523-, 10 nodes (98.04% id)\n",
        "13345+, to 29523-, 10 nodes (98.04% id)\n",
        "13345+, to 29523-, 10 nodes (98.04% id)\n",
        "13345+, to 29523-, 10 nodes (98.04% id)\n",
        "13345+, to 29523-, 10 nodes (97.85% id)\n",
        "13345+, to 29523-, 10 nodes (97.85% id)\n",
        "13345+, to 12438+, 10 nodes (97.83% id)\n",
        "13345+, to 12438+, 10 nodes (97.83% id)\n",
        "13345+, to 29523-, 10 nodes (97.66% id)\n",
        "13345+, to 29523-, 10 nodes (97.66% id)\n",
        "13345+, to 12438+, 10 nodes (97.63% id)\n",
        "13345+, to 12438+, 10 nodes (97.63% id)\n",
        "13345+, to 15665+, 10 nodes (97.63% id)\n",
        "13345+, to 15665+, 10 nodes (97.63% id)\n",
        "13345+, to 29523-, 10 nodes (97.48% id)\n",
        "13345+, to 29523-, 10 nodes (97.48% id)\n",
        "13345+, to 29523-, 10 nodes (97.48% id)\n",
        "13345+, to 29523-, 10 nodes (97.48% id)\n",
        "13345+, to 15665+, 10 nodes (97.43% id)\n",
        "13345+, to 15665+, 10 nodes (97.43% id)\n",
        "13345+, to 29523-, 10 nodes (97.29% id)\n",
        "13345+, to 29523-, 10 nodes (97.29% id)\n",
        "VPDFADIPGLTKLWTHTKGDPRITVALLDGTADIERGCFQGANVTKINSYWQEAIELDPKAIDAYREIQNSDEKSEVKQAKLKEAIPDEVTLQILGAAFHATHVFSNIFGQPGTPVEGIAYKCRGINIPLGYGNDYYIDPINLARGINLAVDLGANIIHCAACRPNQTGIGHEILEKAVRQAQENNVLIVAPTGNNKGECWCLPAILPGVMSVGAMKDNGQVFKFSNWGGQYQQQGIIAPGENILGAQPGTEETVRXXGTSCAAPMVTAISALLMSLQLQQGASPDAEAVRAALTNSAIPCTLEDTEEVERCMLGKLNVAGAYQLLTGKQLEAVGVSAAEATSEEDVILEDSGVDVGEVIVDETSVVPAQENAPISFSLPVGENRESLTNVATNITAASGVEQNKIKPTKIAQSTHGVTPSARSNMIYALGTLGYDFGTEARRDSFKQLMPAVILDGVQVPANPYDGRQMADYLDANLYEGKSLIWTFNIELTPIYALRPVGAFADDIYETLQNMLAGEVEAEDHEDYIDRVSITGRLTDQTVKLFSGQTLPVVKINSPRGMYGWTVNSLIDNALESVRXERTEAEEEAIRKSLRSFLQRVYXDLRNLGQADRDRALNFAATNAFQATATISEAVAIGMELHSIEVEKSPFCRYNSNCWDVKLKFFNPDNTRRAKKVYRFTIDVSDLMPVTLGKVRSWSVPK"
       ]
      },
      {
       "output_type": "stream",
       "stream": "stdout",
       "text": [
        "\n",
        "Tery_2371:\n",
        "15838+, to 291-, 9 nodes (95.04% id)\n",
        "15838+, to 291-, 9 nodes (95.04% id)\n",
        "15838+, to 291-, 9 nodes (95.04% id)\n",
        "15838+, to 291-, 9 nodes (95.04% id)\n",
        "15838+, to 22217+, 9 nodes (95.04% id)\n",
        "15838+, to 22217+, 9 nodes (95.04% id)\n",
        "15838+, to 22217+, 9 nodes (95.04% id)\n",
        "15838+, to 22217+, 9 nodes (95.04% id)\n",
        "15838+, to 291-, 10 nodes (94.85% id)\n",
        "15838+, to 291-, 10 nodes (94.85% id)\n",
        "15838+, to 291-, 10 nodes (94.85% id)\n",
        "15838+, to 291-, 10 nodes (94.85% id)\n",
        "15838+, to 22217+, 10 nodes (94.85% id)\n",
        "15838+, to 22217+, 10 nodes (94.85% id)\n",
        "15838+, to 22217+, 10 nodes (94.85% id)\n",
        "15838+, to 22217+, 10 nodes (94.85% id)\n",
        "15838+, to 22217+, 9 nodes (94.74% id)\n",
        "15838+, to 291-, 9 nodes (94.74% id)\n",
        "15838+, to 291-, 9 nodes (94.74% id)\n",
        "15838+, to 22217+, 9 nodes (94.74% id)\n",
        "15838+, to 291-, 9 nodes (94.74% id)\n",
        "15838+, to 291-, 9 nodes (94.74% id)\n",
        "15838+, to 22217+, 9 nodes (94.74% id)\n",
        "15838+, to 22217+, 9 nodes (94.74% id)\n",
        "MLESSIESILEEKRLFQPPEQFVKMAQIKGIEEYKQLYEKARNDPEGFWAELAETELNWFQKWDKVLDWQPPFAKWFINGKINISYNCLDRHLTTWRRNKAALIWEGEPGDSRTLTYAQLHREVCQMANVFKQLGVKKGDRVGIYMPMIPEAAIAMLACARLGAPHTVVFGGFSADALKNRLVDAEAKLVVTADGGWRKDAIVNLKEQVDKALMAGAPSVENVLVVKRTGQQIYMEPGRDHWWHDIQKGVSGECPAEPMDSEDMLFILYTSGTTGKPKGVVHTTGGYNLYTHVTNKWAFDLQDTDVYWCTADVGWITGHSYIVYGPLSNGATTLMYEGAPRASNPGCLWDVVEKYGVTIFYTAPTAIRALMKMGEQHPNSRNLTSLRLLGTVGEPINPEAWMWYHRVIGDSKCPIVDTWWQTETGGFMITPLPGATPTKPGSATLPFPGIIADIVNQDGETVDGNNGGYLVVKHPWPGMMRTVYGDEDRFRRTYWEYLRPKNGEYIYFAGDGAHKDEDGYFWVMGRVDDVINVAGHRLGTMEVESALVSHPAVAEAAVVGKPDEVKGEDIVAFVTLEGAREADENLEKELKQHVVKEIGAIARPGEIRFTDDLPKTRSGKIMRRLLRSLAAGQEIAGDTSTLQDRSVLDKLRGSA"
       ]
      },
      {
       "output_type": "stream",
       "stream": "stdout",
       "text": [
        "\n",
        "Tery_2387:\n",
        "30303-, to 25831-, 2 nodes (75.19% id)\n",
        "30303-, to 21080-, 2 nodes (75.19% id)\n",
        "WQQQANQCLVNSNYAKAINLYEKAITAHPQNKSYYWQLGLMLLLEGQEEEAQTTWLLGVADGTAEEIELWTEELVEVLAKEANRQLLTQNGSVAWVIRQHIREINPTDVNNLLQLIDLSIAIKNYTREQPKEYGIISLLENSTVVELDQNLLVHILKKLLVYDPKSLSSVEFASVAISRIEDRTTLVNSLIPPIYEVAYSFASVGFARKYTELLLNVAPENRQLLRTMAQFCVELTDYTLGLEYAEKSYSLSTEVHEKAIAHIQVCRALITSRGCDQKVKETLEKQESLLQSLGTEAPQDQGGVAMGFYNMGFFFPYARDCPERNIKIRSQVAQLCQVNIEKACQEEITKYRQKSDKTKITSSKKKPLRIGYLSHCLRRHSVGWIARWLFKHHNQDKYEIYLYLLAAEHRNDSLQEWYINQVTKARLYSIVSTEVAEDIYADDIDILIDLDSITLVNSCSIMAVKVAPIQATWLGWDASGIPTIDYFIADPYVLPENAQDYYPHKIWRLPQTYLAVNGFEVDIPSVKREDLGIPSDAVVYFTAQRGYKYNPDTVRLQMKILKEVPKSYFLFKKFGDSDILSELLIDTAESEGISGDRLIPIEEVSLEEIHRANLGIADIVLDTYPYNGATTTLETLWMCIPMVTRVGQQFAARNSYTMMMNAGITEGIAWSDEEYVEWGIRLGKDEKLRQEISWKLRKSRQTAPLWNAKQFTREMEKAYEQMWQIYIEG"
       ]
      },
      {
       "output_type": "stream",
       "stream": "stdout",
       "text": [
        "\n",
        "Tery_2394:\n",
        "4806+, to 18911+, 4 nodes (80.52% id)\n",
        "4806+, to 18911+, 4 nodes (80.52% id)\n",
        "4807+, to 18911+, 4 nodes (80.52% id)\n",
        "4807+, to 18911+, 4 nodes (80.52% id)\n",
        "VKSINESSGXDMAKEHDQGTNNTNTLAVTDTKPPNSPKSNHQEQTATDTLTQNITTVRQLPIAPPSEAKQYRAIGLVRGRYQPSTEQFTRGSLRTPDDSEIDAVLLGRVMSLLKNHLDLESEHLWVVYPRTRQENNDLHIQIMGVWEPETLRRAKADSPSELINEAEQQTTSSLSISQTLEDNESQQIPQETESIDDFQQSDIVPNLEAQIDSLATLDDGYFSIRGEVIYQSQEDEYVVVKIQQSARKKGEETPKFFKLKLKGYLGERPLNHFWDLHIQRQNTSLVIQYGNDIGSLLLNNPRPFPSKGKRIFNNKDNNRKSSYSRVPRPKSDNYVTDSTPIRKVPLPKPTKKKKNSSDQ"
       ]
      },
      {
       "output_type": "stream",
       "stream": "stdout",
       "text": [
        "\n",
        "Tery_2405:\n",
        "19868-, to 2697-, 2 nodes (83.12% id)\n",
        "19867-, to 2697-, 2 nodes (82.80% id)\n",
        "MIETKTYTPNWLGSLVNLVVPITALAGIISLQVFWPPEGSPLKEKILLDSTDAILXEQKEALQFKLLKASPTFGFDNLIADWVFLQFLQYFGDDVARNQTGYSLSEDYFDIITRLDPRWVDIYLFLSNSLSIYEGKPKVAVEYMTRGTNELSPEIDPKAWQVWRFKGIDQLLLVGDIPGAIRSHEMAAEWANNTSYQKLSFLFRNTAEFLKTNPDSKLIKFNGWLWVYYQTRDSGVRERAQEEILKLGGKVKISPNGEKRFVLPESLD"
       ]
      },
      {
       "output_type": "stream",
       "stream": "stdout",
       "text": [
        "\n",
        "Tery_2407:\n",
        "22249+, to 23271-, 2 nodes (91.91% id)\n",
        "22250+, to 23271-, 2 nodes (91.43% id)\n",
        "MHKQNPHPDPENISLGCAVITXSDTRTVETDKSGQLLQEILRSSGHSTTKYLIIKDEKLAIVAQMEALCQREDIDAVIFNGGTGIAPRDTTYDAIEHLLEKILPGFGELFRWLSYQEIGSRAIASRAVAGIYKSKLVFSLPGSTNAVKLAVEKLILPELVHLVLQLRKN\n",
        "Tery_2415:\n",
        "25743+, to 22679+, 5 nodes (88.71% id)"
       ]
      },
      {
       "output_type": "stream",
       "stream": "stdout",
       "text": [
        "\n",
        "25743+, to 29060+, 4 nodes (89.28% id)\n",
        "25743+, to 22679+, 4 nodes (89.03% id)\n",
        "25743+, to 27313-, 3 nodes (92.35% id)\n",
        "25743+, to 6036+, 4 nodes (88.49% id)\n",
        "MPEKQRDNYFILLGIDPKESWSDEKFEQTLIQKRAEWSAKSKLPGRKGAQYREYLALIPEIKKIMGDPGQRAKEAEMAKTSQQETPGKVEQEKLITEIDLISSKGFIYESEIQGLVRKYKNFVPESFIRNEINRNNIQINQDVDEPNLETLDETQLKRIKGYLETLGYQNIYEFLELSKTTAKNKIFIDRAQEKYEKSQNSGRKDTITEAQRGLAIESKNIFATEKTRRLYDNSLELEEYKIIKDNIQSLAQISSDKILYPKQFDKILKIAQSSGIENVEKAKKVIIKYAREXNLSLXFLDMNBDLSTAXPNYSRETEXVRQKQTPPPRPKIPIQIFTTVRVNSXGDIIXRXZGKAXVMTEBIGNGVSLEMVKIPGGXFLMGSPEXEAERXDXEGPQHYVNVPEFFMGKYTVTQAQWQAVMXNNXWQAVMGSNRSXFXGKNRPVXXVXWNXATXFCQKLSXKXGRXYRLPSEAEWEYACRXGTXTPFYFGEXIXXXLXNYXGXXBEEYGWSGSXGXGPXGXXRXZTXBVGXFPPNSFGLYDMHGNXWEWCQDXWHXNYDXAPVDGSAXVNXGNXXXRXXRGGSWXXXPXXCRSXXRXXXXXXXXXXXXXGFRXVSFPPRTL"
       ]
      },
      {
       "output_type": "stream",
       "stream": "stdout",
       "text": [
        "\n",
        "Tery_2452:\n",
        "6905+, to 4918-, 2 nodes (95.48% id)\n",
        "29633+, to 4918-, 2 nodes (94.10% id)\n",
        "MTTTLATPDTNLATIQAALPIBPQPYIIXDRPTGLIVVDVLNGFCTVGFGPLAPQEPNEQIATMVSESDRLARTFVEKGWPVLAFLDTHEPGKPEXPYPPHCEKGTGEEELVPELQWLHDXPLATLVXKDCINGFIGSIDIXXQXNVLLDWINBNKLEAXVVVGICTDICVMDFVVTILSVRNHXLAPTLKDVAVYDXGCATFDXTAEMAAEQGLPKTAIHPQKVSHHVGLYTMAERGAFIASTIKL"
       ]
      },
      {
       "output_type": "stream",
       "stream": "stdout",
       "text": [
        "\n",
        "Tery_2471:\n",
        "29502+, to 16914+, 7 nodes (78.11% id)\n",
        "29502+, to 16914+, 7 nodes (77.98% id)\n",
        "29502+, to 4352-, 7 nodes (76.26% id)\n",
        "29502+, to 4352-, 7 nodes (76.14% id)\n",
        "29502+, to 4351-, 7 nodes (76.09% id)\n",
        "29502+, to 4351-, 7 nodes (75.98% id)\n",
        "MDRKSLREALVVGINSYPFLKKKKLGDLNLKAAIKDAEAIANMLEKYGKFRVQRLPKGYDEEGKERFEPRGTVRIDELKQAIINLFQPPIKNETPDVALLFFAGHGFVNTKGDIREGVLVTSEAQFLENISENDNISGISLXWLKEXLQDSXVXKQIVWLDCCFSGELLNFDGXANXNTQEKQVSRCFITASRSFQTATEXIDXKQGLFTDNLLECLNPENYXBGWVTNHILTESIZZRMSQTSQAPMCYNSGSTIILTTNSLTEPLDERWKNVPPYRGLSYFGQQENDGVFFHGRTGLTDKLIEQVKNHNFVAVLGASGSGKSSLLRAGLLYQLKRGQKISGSDRWLCIDPFTPEEFPLKSLLKSLGKSLLEIKIKGEKVESLIQFIHQIEGKKVESLTKELIEEKLIEFIDVVEAERVIMVMDQFEESFTLCKTHEERREFFDCFLAVLERRGEKFCVVLGIRADFLGRCSEYGGLANKIQGHQLLVTPLDEDEIEEVIKKPAALVAMDVEPNLVAQMREDFLRNPGSLPLLEYTLDALWKFATQGEEKSQYLTLETYTNLGGIEGTLTKRADAVFDSLSEEEKLVAQRIFLELVQPGEGEISSGKITDTRRRVILEKLPNERHSLELLSAVTDKLADKNNRLITKDKSEAGILLDIIHEDLIRSWKTLRKWVEEYQEALPVERKIEADAAEWEKDGKSENLLLRAGRLTKAEEYLRIYGEMALLDGLAYEFIEASRELSIREEEKEKERQRQVEEKRVKILGMLSDSMIRXKPSLXDTGVLLSVESMKQYFDIKXRYGKVDSDLLVELDQTLRNGVTQLPKXLXTLNHQXXVXXVAFSPDGKTIATXSDDXTARLWDTENGXELATLNHQXXVXAVAFSPDGKTIATASXDXTARLWDTXXGXELATLNHQXXVXAVAFSPBGKTIATASXDXTARXWDTEXGKELATXNHQXXXXAVAFSPDGKTIATASXDXTARLWDTXXGXZLAXLNHQXXVXAVAFSPDGKTIATASXDXTXRLWDXXXGXELAXLNHQXXVXAVAFSPDGKTIATASXDXXARLWDTXXGKZLATLNHQXXVXAVAFSPDGKTIATASXDXTARLWDTXXGKZLATLNHQXXVXAVAFSPDGKTIATAANAXXDXTAXLWDTDTRKKLATLNHQDGVKAVAFSPDGKTIVTAASVTSSLWBTDTGXELATLNHQXXVXAVAFSPDGKTIATASXDXTARLWDTXXGXELAXLXHQXXVXAVAFSPDGKTIATASXDXTARLWDTXXGXXLATLXHQXXVXAVAFSPDGKTIATASYXXTARLWDTXXXXELAXLNHQRLNHQXXVXAVAFSPDGKTIATASSDXTARLWDTXXGNELATLNHQXXVXAVXFXXDXKTIXTXSXXXTDAXLWDTXXGXZLATLNHQXXVNAVAFSPDGKTIATASDDRTARLHXATSEGLIQEACSRLSXBLTXXEWQXYINXDLXTYQKTXXNLPVHPSLILEAKNLAKTGEKENIKQAISJFKKALELEPEIDLXPDTETRETDPQJVANXFAAXGKVE"
       ]
      },
      {
       "output_type": "stream",
       "stream": "stdout",
       "text": [
        "\n",
        "Tery_2474:\n",
        "15333+, to 5881-, 2 nodes (93.11% id)\n",
        "15333+, to 5880-, 2 nodes (93.11% id)\n",
        "MLEHDIIIVGGGLAGSRAAVEIARKNPSLNVAVVAKTHPIRSHSVAAQGGIAASLKNVDTEDSWKAHAFDTVKGSDYLADQDAVEILAKEAPDVIIDLEHLGVLFSRLPDGRIAQRAFGGHSHNRTCYAADKTGHAILHELVNNLRRYGVYIYEEWYVMRLILEDSQAKGLVMYHILDGEIVVLRAKVVMFATGGYGRVFNTTSNDYASTGDGLAMAAMAGLPLQDMEFVQFHPTGLYPAGVLISEAVRGEGAYLINSDGDRFMANYAPSRMELAPRDITSRAITLEIRAGRGINLDGSAGGPFIYLDLRHMGREKIMSRVPFCWEEGHRLLGIDAVNEPMPVRPTAHYSMGGIPTNTDGRVLASRDSLVDGLFAAGECACVSVHGANRLGSNSLLECVVYGRRTGAAIAEFVEGRKLPDIEEERYLKEARAKIQGLLDHSGEYRINFLREQFQDAMSQHCGVFRSQDVMEQGFEKLEQLQQQYQQVYLDDRGKLWNTEIIEALELRSIIVVGETILSSALSRKESRGAHSREDFTERNDQDFLRHTLAYYSLAGIDIGYRPVTISMFEPKERKY"
       ]
      },
      {
       "output_type": "stream",
       "stream": "stdout",
       "text": [
        "\n",
        "Tery_2489:\n",
        "23988- to 23988-, 1 nodes (77.61% id)\n",
        "23988- to 23988-, 1 nodes (72.22% id)\n",
        "XIXHILEVVDNYXPTTEVXLLLESFDXATFFYXKXLXIXPPQCYEQVXKTWDEFQPGVSAXXDEQXPKICQN\n",
        "Tery_2491:\n",
        "23988- to 23988-, 1 nodes (89.31% id)\n",
        "23988- to 23988-, 1 nodes (83.66% id)\n",
        "MSEINDXSNWHQDFIXSNLLVIGXNAWAGXJSQKXXAIVCSTNSPTVGVXGESFKXHFVGRSRLXPFLNAWLXAPDTAILXHDFXIXHILEVVDNYXPTTEVXLLLESFDXATFFYXKXLXIXPPQCYEQVXKTWDEFQPGVSAXXDEQXPXXDLKHIS"
       ]
      },
      {
       "output_type": "stream",
       "stream": "stdout",
       "text": [
        "\n",
        "Tery_2492:\n",
        "19337+, to 23988-, 4 nodes (93.11% id)\n",
        "19337+, to 23988-, 5 nodes (92.95% id)\n",
        "19337+, to 23988-, 4 nodes (92.81% id)\n",
        "MLSIETPKPQLKTSFIQRLQNPERPVLIFDGAMGTNIQSQNLTAEDFGGAEYEGCNEYLVITKPEAVAKVHRDFLAAGADVIETDSFGSSPLVLAEYDLADRAYELSRKAAELARSCADELTTPEKPRFVAGSIGPGTKLPTLGHITYDELKASFMVQAEGLYDGGADLFIVETCQDVLQIKAALSAFEAVFAKKGSRLPLMVSVTMEIQGTMLVGTDISGVLAILEPFPIDILGLNCATGPDLMTAHIKYLSENSPFPISCIPNAGLPENIGGRAHYKMTPLEFRTSMSQFIAEHGVQIVGGCCGTRPEHIKALADAVEQTPLKKRKVRKNTVGEIRTPLSYTPAAASIYSAQTYQQDNSFLIVGERLNASGSKKVRNLLNEDDWDGLLAIAKSQVKEGAHMLDVNVDYVGRNGERDMRELVSRLVTNTTLPLMLDSTEWTKMEEGLKVAGGKCLLNSTNYEDGEERFFKVLQLAKEYGAGVVIGCIDEEGMARTAQKKFAIAQRAYKDALKFGIPPHEIFYDTLALPISTGIEEDRENAKATIESIRLIRENLPGVHFMLGVSNISFGLSPAARITLNSIFLNEAMKAGMDGAIVSAAKILPLSKITEEHQQVCHDLIYDNRRFEGDICTYDPLTKLTEIFAGVSTKDARSTSSLADLPIDQRLKQHIIDGERIGLEDALKVALDAGHKALEIINTFLLDGMKVVGELFGSGKMQLPFVLQSAETMKSAVAFLEPYMEKIEGEDEDRGKGKFLIATVKGDVHDIGKNLVDIILTNNGYKVINLGIKQAIEAIVEAYEQHQPDCIAMSGLLVKSTAFMKENLAAFNDKGITVPVILGGAALTPKFVYGDCQETYQGQVIYGKDAFADLTFMDRLMPAKEKHCWVDTEGFTGEFAQFNQRGRKAIKDLDREVNGNQQKPDGATVINTERSTEVAIDIERPVPPFWGTKILRSGDLELEELFWYMDLQALFAGQWQFRKPKDQSREEYDWFLASKVYPILEEWKQKIRTEQWLEPTLVYGYFPCAAIGNSVHVYEPSVIEQGLTPKTATPFITWTFPRQKSMRRLCIADFIRPLEHDKFDVLPMQAVTMGEIATQKAQELYQENKYSDYLYFHGMAVQLAEALAEWSHAKIRRELGYGDLEPDNIRDILAQRYQGSRYSFGYPACPVVMDQVPQLQLLGCDRIGISIDESEQLYPEQTTTAFVTYHPVARYFSA"
       ]
      },
      {
       "output_type": "stream",
       "stream": "stdout",
       "text": [
        "\n",
        "Tery_2497:\n",
        "24681+, to 24680-, 10 nodes (70.13% id)\n",
        "24681+, to 24680-, 10 nodes (70.97% id)\n",
        "24681+, to 24680-, 10 nodes (70.64% id)\n",
        "24681+, to 24680-, 10 nodes (70.14% id)\n",
        "24681+, to 24680-, 10 nodes (70.26% id)\n",
        "MKFINPKVDYAFKKIFGSQQSKDFLISFLNGIIYNGEKTIKDLTIVNPFNPGKIISLKATYLDVKAVLVDGSIVIIEMQMARRTAFNKRVAYNLSKAYANQLDKGENYPLLNPAIALTITDFILFKNTDXNINKDDYINKFVFQEETKKYKCLEKELRLIFVELPKFKKSLSELKNLTDKWIYFLQEAASFDXIPENLGEVAEIEQALNXANFINMTPEELEIVENRGIALQDERGRIAYAE*IARLNQTIPLIKLLITQRFGEVNDEISSQIEGLPLADVEDLVKVFLSFNSLVDLESW"
       ]
      },
      {
       "output_type": "stream",
       "stream": "stdout",
       "text": [
        "\n",
        "Tery_2512:\n",
        "13208+, to 7707-, 7 nodes (88.83% id)\n",
        "13208+, to 7707-, 7 nodes (88.83% id)\n",
        "13208+, to 7707-, 7 nodes (88.83% id)\n",
        "13208+, to 7707-, 7 nodes (88.83% id)\n",
        "13208+, to 7707-, 7 nodes (88.83% id)\n",
        "13208+, to 7707-, 7 nodes (88.83% id)\n",
        "13208+, to 7707-, 7 nodes (88.83% id)\n",
        "13208+, to 7707-, 7 nodes (88.83% id)\n",
        "VGQNHFNSIRRYNPEAIAKYYYRRLWLVVWRFLVIVFSFASFVLGILWDKWRYHKVEDTPERATQLRRMLTRLGPTFIKVGQALSTRPDLIRKDFLEELTRLQDELPAFDNERAISIIETELGQNINNIYSEISPRPVAAASLGQVYQGRLWSGENVAIKVQRPNLLPIITLDLFLMRWAAGWLAPWLPLNLGHNLSMIVDEFGTKLFEEIDYINEGRNAERFASYFADDSNVKLPSIYWRYTTTNVLTLEWIDGLKLLNTEQVQAAGLDTDTLITVGVTSGLRQLLEFGFFHADPHPGNLFALIDGRMAYIDFGMMDQLEQDTKETLVDSVIHLINKDYQELAKDFIKLGFLAPDVDIQPIIPALEIVLGDIMGEKVKDFNFKTITDKFSELMFDYPFRVPAKFALIIRSLVTQEGLALSLNPNFRIVDVAYPYVAQRLLKGESPALRRRLVEVLFKDGKFQWQRLENLIGIAQTDKNFDILPTAQLGLQYLLSKEGEFLRKQLILAMVEDDRIHTEKVGRLWGLIRDDLQPSRLFDLALGALAEFSTERAAAIIPE"
       ]
      },
      {
       "output_type": "stream",
       "stream": "stdout",
       "text": [
        "\n",
        "Tery_2525:\n",
        "30586-, to 30585+, 2 nodes (98.31% id)\n",
        "30467+, to 30585+, 2 nodes (98.31% id)\n",
        "MLSNTCSLSILVARTDXPFMMHTIPHLVRMSNFNFIZRVLFVDTAPLSGDKVMRPGVGSLSELRDCCSALQSEGIVDRVVDINYDQTYQQQMYRKHFGTPIKPTHNYKGYPILGSIFHIESVPGNYVLHYDSDMLLHQQKDYSWVDEGIKLMEEHPEIMAIRPLAGPPTKDGTMYKQNKSLKPEPGGFYKFKFFSSRVYLINHKRFDKLLPLPILWRSYKKKFLNRLPLSLKNLLNYYTDKGKLDSWEVMVSMQLEKTNYVRATMSSPRAWTIHPKDRSAEFIGALPNIIEKIEAGYYPLEQAGHYDLISKYW"
       ]
      },
      {
       "output_type": "stream",
       "stream": "stdout",
       "text": [
        "\n",
        "Tery_2536:\n",
        "23620-, to 16718-, 2 nodes (82.51% id)\n",
        "23620-, to 23619+, 2 nodes (81.97% id)\n",
        "MIKLRLKRYGKKREASYRIVAMNSDSRRDGRPLEELGFYNPRTDETRLDLPRITKRLEQGAQPTDTVRDILRKANVLESSTIGVNTQANVSVSHAESTEAIINAEPSQATANTETNEISDGESTTTTTVSGSEEQQPVXES"
       ]
      },
      {
       "output_type": "stream",
       "stream": "stdout",
       "text": [
        "\n",
        "Tery_2537:\n",
        "23619+, to 9726-, 4 nodes (85.51% id)\n",
        "23619+, to 9726-, 4 nodes (85.51% id)\n",
        "16718-, to 9726-, 4 nodes (85.51% id)\n",
        "16718-, to 9726-, 4 nodes (85.51% id)\n",
        "SPDYPEIVRSLIEPFLESPESLRVDCEVNLRQAKAWIRLAFDEPEKGRVYGRGGRNIQAIRTVLGAVAQAAGQSVHLEIYEDHSDIQRSYHSEYPSNREEGAYNRKPVPSGRLYDSKNRLSRHRGTTPSPIRYRRNEHGMT"
       ]
      },
      {
       "output_type": "stream",
       "stream": "stdout",
       "text": [
        "\n",
        "Tery_2539:\n",
        "9726-, to 4872+, 3 nodes (90.87% id)\n",
        "9726-, to 4873+, 3 nodes (90.37% id)\n",
        "MNTNLKDFLEACEQLGTLRLIVTSSSAVLEVRGKIQKLFYAELPKGKYANMHTDIFEFHLNMDQIKRVKFETGEAKRGNFTTYAIRFLDSLDEVTLSAFLQWGKPGEYEYGQVEAWQGLKEKYGEVWEPAPVESLXS"
       ]
      },
      {
       "output_type": "stream",
       "stream": "stdout",
       "text": [
        "\n",
        "Tery_2554:\n",
        "28374-, to 24189-, 4 nodes (85.54% id)\n",
        "28374-, to 24189-, 3 nodes (85.37% id)\n",
        "1210+, to 24189-, 3 nodes (85.26% id)\n",
        "MTIFQTDPSNFPQLLQMVKDGDELNLXPGDYKXPFXIDKSITIRGSGTDTVIFAATEPPLIIRXPKVRLENLTVERTVGGDNGEVAIFAETNTNPILSQVKLNGIAENVEWSGASWDIPTILEFGEVEINRIVEREWELQLGMVCQVLCDLNWLQVRSSYLSPGRQNLQIILNTTNIPTGTNLSGLIFLSAVDGRRELEVTAKIISPLPVTPVLAASTKVLPAQVLNSQDWGYRFSGSAADKFVRAQLGEVALKKYPEFPQRRAKAEALMSEILDEDSHLYYVRRQAPGREEGEEIWELTMATDREEQEWEKTLKLRGAVNVDEDRVLKLLSVQLISQKAEKDEFSLALQIRLLPQHQYRRGIPLGAVRSMSKMPFFGDRIPTEEQLPIWTTFVEIEERMAQKRQFCLPFIGHNYGSSGRKITFEIDISSATIDGTAESAIDDIELRRRLFEAKNQDIQLFNTSPAGGDARDGEKLGAIATIDWKKSQVGVMLESEIVEIIARGSYRIPSTGFLSFVAFGDITQVQRKRRALEDLRSGRCQNPYLGNFFFDATCARIPKKAVKLQPQDLLLPAANVNQIAAVETVLATPDLALIQGPPGTGKTTVIAEICYQVALRGGRTLIASQANLAVDNALSRLVHNPVIRAVRKGKAEKVQEEGEPFLEDRVIDTWLKNTANDCENDLDERLQRVEILRNLLIESERFNAYVELEEVWVSQQQELSDRRTILETSREVLESEVLQLETDTKELNFLRLGLDNLLNSAPNVNWQDEEIKNLLPRLQPYSQEEKSVQDLLDNVRLTRNIARDIGWEIPTLGAFGLAAWFSENLAILLPEFQRGLTIAKKAAVIMSELANLRQIYQQSYSQFEKLKKYIIQQEIVSENLQKNSQELESKKSQIDLVISEIGAWRNTGKDRIFEELKKCWETGQYFQLDLIGLPESLMKPVKSKKSQLFRDYAQPIHSLPDWERLEKALNVESSYGFQNIQGREYHFDKFLQISLSQPPIVLSKRDYQKWQSFAMEFEFYLQLNQRQRQNLVEKIQQFFHENQREYGAAWEPDKMSKTLEEVRDRILNQILHYSSEILLPIKRANQKQIIKNQEHLEEISQLQKGYRQRLEIVEEEEAKLRQKLEQKYQEFIQKLTEIDRQLEVNAEIRSLAKQYFEWKPFEVLNDKSNFIEKVNSWENNFNQLEKIAPLLEPFAVLADIKNILQDKLNTIQEKANKSQQQLQSCQTEIHQIQTALEKELSITLIEERDWWKSAWEKIPKNLRPTVPETELFATETLHKIKLQLQNWQQELDIEETKLNRHQKFIQDWIEKIKKPSEKDSNDLRKIYLDNANVIGITCVQAASRSFAEEFNSFDVVIIDEVSKCTPPEILIPALKGKKLVLVGDHRQLPPMLHDNTIEEIAEEMKSTKEELNFLEESLFKNHFETATKKIKQMLTIQYRMHPDIMGAINQFYHHRLQCGLLEVDLQRAHNLGGKIFQKNQHIIWVKIPQTESFVEQKEGTSPFNEKEVDVIEKLCAEMEKSWHIKIADGLPRKELGIITFYNAQLRLIDSRINPEKFPSLHIRTGTVDRFQGMERQVIIVSMVRNNQEGKVGFAKKPERVNVAFSRAQELLIIVGCHGLFTKHYGMVGNMYSEVSDVVRHQGGLIEVSDILGK"
       ]
      },
      {
       "output_type": "stream",
       "stream": "stdout",
       "text": [
        "\n",
        "Tery_2555:\n",
        "24189-, to 24191+, 2 nodes (89.44% id)\n",
        "24189-, to 24190+, 2 nodes (89.44% id)\n",
        "MFLQSSTKYIKPELNDFADKIEKDSPGLSVFAARQFCYKLYQTPIQIEIIKERDLNIIEEFILRASIEFNPPPTEVELAQILKLDPIFIHSTTNTLQSLQTLTITPPDSRIRITSEGKEFYTKGSLPQPPENKIIYAIINPLYGEINWRLSGLNSKSPELPNLADFITFENTNPEIVNLTIEELQKEIRDSNLGIYQPESGQIIRDFFVNKEARQIIWKAISIWVIFDVIEEKLILQAREGNKILETVSNQLQEMIERGEILLNELCGLPPESIASQTESILELKNQKVEERLQKIREQGIEIIKQTREKGKKTLPKKSEFILLRDREIRPEFLSALKAATQQVLIYSPWVTEEVVDEEFIQLLQKLANNGVWILMGYGIAEKQEGETQAISPKVEEKLLTIRTPEDLPGAQIFWLGNSHAKEVLVDRKVHLSGSHNWLSYRGDRGFRGETAYRVTNPDTVGSAYEYLQARFQSHAENLWESAVSSRDINLAVQSVCIWGALGMAEMALQELQYYDWIELFSVWLKVVIQGLRSKLILPNDLIFEQAISWLNIVDKSDKNIEDLRSGWQGVIEAIARQNSQAALSLLNEVAWGEFIRLEISATDTPEKFIKML"
       ]
      },
      {
       "output_type": "stream",
       "stream": "stdout",
       "text": [
        "\n",
        "Tery_2558:\n",
        "13191+, to 14596+, 5 nodes (84.42% id)\n",
        "13191+, to 14596+, 5 nodes (84.42% id)\n",
        "13191+, to 14596+, 5 nodes (84.04% id)\n",
        "13191+, to 14596+, 5 nodes (84.04% id)\n",
        "MKLKNYFYGFATTLVIALATNYLWSTTTVNANTPRFQNSVIDNSIAQVPNNPKFGLPIECKLDQDCFILLYSDRDPSXKAVDFGCGRQTYDGHKGTDFAIPDEKIMAKGVAVEAVAAGKVLRVRDGIPDRRVKNQADKDKTKNIECGNGMVIDHGNGWETQYCHLRNGSIVVKPGTVVNAGTQLGMIGTSGLSSFPHVHLSFRYQGEIVDPFVGPNAKSGCNIPRNSIWQQPLSYKPTGVIRSGFADSAPTMDDLWSGKFYDTTLPGNSPALIFWVQIYGVLAGDQEHYQLFAPNGEGVIDNKKEIKSANKTWMGYVGKRNNSQSLLKGKWKGEYSLTRNGKVLVNITKEIQLN"
       ]
      },
      {
       "output_type": "stream",
       "stream": "stdout",
       "text": [
        "\n",
        "Tery_2579:\n",
        "13638+, to 27932+, 2 nodes (89.19% id)\n",
        "13639+, to 27932+, 2 nodes (88.65% id)\n",
        "MLDFSSSSXEGETERSGLEPELGGILRNAPERSGLEPELGGVLRQKGVYVDEISCIGCKHCAHIAHNTFYMEPEHGRSRVFQQDGDSQELIQEAIDTCPVDCIHWVDYTKLKTLEQERKYQVIPVAGGPVAHPPARISSNRHN\n",
        "Tery_2599:\n",
        "33754+, to 28334-, 2 nodes (94.17% id)\n",
        "33754+, to 28335-, 2 nodes (94.17% id)\n",
        "MVPTTKVEQNVKVGPTKLLINNEWVESASGKRFETINPATGEVICNVAEADAPDVEKAVIAARKAFTSGDWQKMSATKRGELLYKLADLIEKNIEELARLETLDNGKPLKDSLNGDLPLVIACYRYYAGWADKVQGKTIPINGPYFCYTRHEPVGVVGQIIPWNFPLLMQAWKLAPALAMGNTLIMKTAEQTPLSALRLGELLIEAGFPPGVVNILSGYGPTAGAAISYHNDIDKVAFTGSTEVGHLIMEAAAKSNLKRVTLELGGKSPNIVFADADMDAAIEGSHFGLFFNQGQCCCAGSRLFVEEKCYDEFVNKSVERAKCRMVGDPFTERVEQGPQVDQEQFNKVMSYIESGQQDGAQMLCGGSRVGDRGYFIAPTVFADVQDHMKIAQEEIFGPVMSIIKFKDIBELVERANNTMYGLAAGVWTQDLSKAHTLAHRLRAGTVWVNCYDVFDAAAPFGGFKQSGXGRELGEYGLZQYTEIKTVTIKM"
       ]
      },
      {
       "output_type": "stream",
       "stream": "stdout",
       "text": [
        "\n",
        "Tery_2608:\n",
        "7776+, to 30527+, 5 nodes (85.44% id)\n",
        "7776+, to 30527+, 4 nodes (84.98% id)\n",
        "7776+, to 30527+, 4 nodes (84.73% id)\n",
        "FLLVVYLILGKPEINENTSDELQQIKYFVFIVLNTVLNWLYFAILESYQIQGTLGKKIVGICVTDLRGNKISFGKATARYFGKSFFYVIWIAATIVAMMGQATGSTDSPYFILAAILFILGLILLVIGYLMAAFTPEKQALHDIMARCLVGRASGQPRVTPWKSLVALAIAAFFSGKILAMIPEAPNGLNSDATSSTTPTETSVTPTPGDIRPPNPSTEGNRIFGLLIEPDHRLKETFKGVWKLSYSVGLVVHESQLSMTGPSGVMLTQFFDRESNQTKTILQKIELSSSAKGLVLLGSNPTBLDSGEXDSTYSADNFRVAQRPDGTFEFRNYSLSEDGSIFESPVEAEFSGYPKLGIQMAELTPEVKEQLNTEIGSNVITEERGVLVLKVLDDSPAEKANMKPGDVLQEVENRTVTSPSQVQEIVQSSYLFLPIEIQLNRSGENINLSLQPECCMTLEE"
       ]
      },
      {
       "output_type": "stream",
       "stream": "stdout",
       "text": [
        "\n",
        "Tery_2620:\n",
        "15529+, to 2878-, 10 nodes (92.17% id)\n",
        "12486+, to 2878-, 10 nodes (92.01% id)\n",
        "15529+, to 18825-, 10 nodes (91.14% id)\n",
        "4834-, to 18825-, 10 nodes (91.47% id)\n",
        "19438-, to 2878-, 10 nodes (89.56% id)\n",
        "1989+, to 2878-, 10 nodes (89.40% id)\n",
        "863-, to 2878-, 10 nodes (90.08% id)\n",
        "1988+, to 2879+, 10 nodes (90.08% id)\n",
        "15529+, to 2879+, 10 nodes (91.69% id)\n",
        "4834-, to 2879+, 10 nodes (92.02% id)\n",
        "863-, to 2879+, 10 nodes (90.30% id)\n",
        "15995-, to 30016+, 10 nodes (91.01% id)\n",
        "864+, to 30016+, 10 nodes (91.01% id)\n",
        "2850-, to 18825-, 10 nodes (90.64% id)\n",
        "2850-, to 30016+, 10 nodes (90.78% id)\n",
        "4834-, to 18825-, 9 nodes (91.03% id)\n",
        "12486+, to 2026+, 10 nodes (87.97% id)\n",
        "15529+, to 31354-, 9 nodes (92.62% id)\n",
        "15529+, to 31354-, 10 nodes (92.61% id)\n",
        "12486+, to 14632+, 10 nodes (88.39% id)\n",
        "15529+, to 8812-, 10 nodes (92.59% id)\n",
        "12486+, to 31354-, 9 nodes (92.44% id)\n",
        "15529+, to 30016+, 9 nodes (91.15% id)\n",
        "15529+, to 20362+, 10 nodes (90.53% id)\n",
        "12486+, to 31354-, 10 nodes (92.42% id)\n",
        "12486+, to 4601-, 10 nodes (88.44% id)\n",
        "12486+, to 8812-, 10 nodes (92.41% id)\n",
        "12486+, to 30016+, 9 nodes (90.97% id)\n",
        "12486+, to 20362+, 10 nodes (90.36% id)\n",
        "15529+, to 20361+, 10 nodes (90.45% id)\n",
        "15529+, to 15913+, 10 nodes (92.61% id)\n",
        "12486+, to 20361+, 10 nodes (90.28% id)\n",
        "12486+, to 15913+, 10 nodes (92.42% id)\n",
        "863-, to 31354-, 10 nodes (89.87% id)\n",
        "865+, to 8812-, 10 nodes (90.59% id)\n",
        "12486+, to 18825-, 6 nodes (89.23% id)\n",
        "2850-, to 25269+, 10 nodes (90.52% id)\n",
        "MPRKPRXJLPGYSYHXTCRCNNREFRLTRLECRQVFLFALKKVLDKFRFKLYALCIMSNHXHYLXEPXZPQELPKIMHWLNWYTAMCFNQMLNRTGHFWEKRYHSTGFKNTDKKRALNTLRYIHANPKAANMQSGFFYDFSNYGTYDRLTDDGXTXWHPAFLSLGKTLDXCAKNYRGFCXKYKPRXKXXXRXXWGSXFLPKVKKKNKKXXKXSPGQMXLPWADWEPPSNLVAEVARQFXLANCYDPZVAMXFFDDQ"
       ]
      },
      {
       "output_type": "stream",
       "stream": "stdout",
       "text": [
        "\n",
        "Tery_2623:\n",
        "7370-, to 15528-, 5 nodes (94.67% id)\n",
        "7370-, to 15528-, 5 nodes (94.67% id)\n",
        "7370-, to 15528-, 5 nodes (94.67% id)\n",
        "7370-, to 15528-, 5 nodes (94.67% id)\n",
        "MVATPIQIKHEVKDESLALLGKQRIEWAGREMPVLRQIQERFAKEKPLSGIRLAACCHVTTETAHLAIALKNGGADAVLIASNPLSTQDDVAASLVADHGISVYAIKGEDEKTYLRHVEIALDHKPNIIIDDGSDVVATLVKNRQSQLSDLIGTTEETTTGIVRLRAMFNDGVLTFPAMNVNDADTKHFFDNRYGTGQSTLDGIVRATNVLLAGKTTVVVGYGWCGKGTALRARGLGANVVVTEIDPVRAIEAIMDGFRVMPMAEAAPIGDLFITVTGNKHVIRGEHFDVMKDGAIVCNSGHFDIEIDLETLGKNANDVKTVRPFTQQYTLKNGKSVIVLGEGRLINLAAAEGHPSAVMDMSFANQALACEYLVKNKGKLEAGLHSIPTEIDKEIARLKLQAMGIGLDTLTSEQVEYMNSWTVGT"
       ]
      },
      {
       "output_type": "stream",
       "stream": "stdout",
       "text": [
        "\n",
        "Tery_2632:\n",
        "10013+, to 618+, 9 nodes (74.34% id)\n",
        "10013+, to 618+, 9 nodes (74.34% id)\n",
        "28511+, to 618+, 9 nodes (74.00% id)\n",
        "28511+, to 618+, 9 nodes (74.00% id)\n",
        "10013+, to 618+, 9 nodes (73.40% id)\n",
        "10013+, to 618+, 9 nodes (73.40% id)\n",
        "25458-, to 618+, 9 nodes (73.32% id)\n",
        "25458-, to 618+, 9 nodes (73.32% id)\n",
        "28511+, to 618+, 9 nodes (73.17% id)\n",
        "28511+, to 618+, 9 nodes (73.17% id)\n",
        "25458-, to 618+, 8 nodes (72.88% id)\n",
        "25458-, to 618+, 8 nodes (72.88% id)\n",
        "25458-, to 618+, 9 nodes (72.73% id)\n",
        "25458-, to 618+, 9 nodes (72.73% id)\n",
        "25458-, to 618+, 8 nodes (72.43% id)\n",
        "25458-, to 618+, 8 nodes (72.43% id)\n",
        "MJEXXXXWXXSXXLVXFXXXEVXGXLXKXXXEDYVKXFFKQXIXBXXXXIXXREXXXLXKATXXAIKXFLBXXXXELXXAXXXXXXXXZYXKXFKXFXKXXXVXZXXXSXFXXXXKXLXTXKXXTXWNZJNPYSXXLPXXFBWXXXAXXXXXXVKXIXXXXXELXXILDSZNXDKLXXXXXXXXPXFDXKKXQEGIREEYGNXKLESLDTSGYGYNELKLWXXFIPQNVRESQEFMPQVYEIPKEYXZRLKXTXZLEIEFSPEQLXTVRRRYXEQXXRSVJELIEBXNYKYLVILGDPGSGKSTLLQYIALEWAXLPXXDLPLXPIPLLIELRXYVRNXZXNXCXNFLDFLEKGXGVTCHLPQQELDAKLQNGDAIVMFDGLDEVFDPAKRKEIISDIHRFTNDYKNVRVIVTSRVIGYKPQQLRDAEFYHFMLQDLESEQVEDFIQRWHDLTYXNESEKERKRERLKRAIKDSSAIKQLSGNPLLLTMMAILNRHQELPRDRAELYNQASRILLQQWDMERALIDAKIDPITIDYKDKQAILRGVADFMQQNKEGLAGNLIHGNDLENIIKDYLKSVDINDVRVVARALMEQLRVRNFILCFVGAGYYAFVHRTFLEYFCAWSFVWQFMVTQTLGIDGLINDVFGDHWRDEKWHEVLRLIAGMIDAKFVGDIISYLMEQDGEEEKFLNLFLAGMCLLEVRSRLGIDDVESRLLNRLKDLTGYDLGYFYKPFDFDLSLISREIYTKNLHLVPEIRTQAVEIVATTWRDDPSTYAWLKQRVVSDDDSDVRGEAVRQIATGWKHEPGILELLKQWVVSNENSHVRGEAVRQIATGWKHEPGILELLKQRLVSDESSDVRGEALRQIATGWKHEPGILELLKQWVVSNENLHVRGEAVRQIATGWKHEPGILELLKQRLVSDESSNVRGKALRQIATGWKHEPGILELFKQRVVSDESEYVRREAVGQIATGWKHEPGILDLLKQWLVSDESSDVRREAVRQIATGWKHEPGILDLLKQRVVSDESKYVRREAVRQIATGWKHEPGILDLLKQWVVSDESWDVRGEAVGQIATGWKHEPGILDLLKQRLVSDESKSVRREAVRQIATGWKHEPGILDLLKQRLVSDESKSVRCEAVGQIATGWKHEPGILDLLKQRLVSDESEYVRGEAVRQIVTGWKHEPGILDLLKQRLVSDDSESVRTEALREIVTGWKHEPGILDLLKQRLVSDDSESVRREALREIVTGWKHEPGILDLLKQWVVSHDSESVRREALRKIATGWKHEPGILDVLKQWVVSHNSESVRREALQQIATGWKQEPGILDLLKQRLVSDESSDVRREALQQIATGWKHEPRILDLLKQRLVSDESSDVRREALEQIATGWKQEPGILDLLKQRLVSDESSDVRHEALRQIATAWKQEPGILDLLKQRLVSDDSESVRGEALRQIATAWKQEPGILDLLKQRLVSDDSESVRCEALQQIVTGWKHEPGILDLLKQWVVSDDSWLVRGLVVNQIATGWKHEPGILELLKQRVVSDDNMLVRGLVVNQIATGWKHEPGILELLKQWVVSDENWDVRGEALEQIATGWKHEPEILDLLKQRLVSDDNMLVRRKAVQQIATGWKYEPGILELLKQRVVSDESWLVRRGVLQQIATAWKHEPGILELLKQRLVSDDDSDVRREALGQIVAGWKDEPGILELLKQRVVSDESWYVRREALGQIATGWKHEPGILELLKQRVVSDESSDVRREALRQIATGWKHEPGILELLKQRVVSDGNLNVRREALRQIATGWKHEPGTFELFKQRVVSD"
       ]
      },
      {
       "output_type": "stream",
       "stream": "stdout",
       "text": [
        "\n",
        "Tery_2636:\n",
        "14425+, to 27907+, 2 nodes (87.78% id)\n",
        "14425+, to 16111-, 2 nodes (87.78% id)\n",
        "MYIQNLKQILIPSNSPKQNQKIFWLILSLTFVAIYSLLVIKQAFSGEYIVQDDARQHVFWMRRFLDPELFPDDLIADYFQSVAPWGYKTFYWLFSQIGIDPIFLNKLLPLGLSLATAAYCFGLCIEILPIPFAGFISSVLLNQNLWFQDDIVSGTPRAFLYPLFLAVLYYLLRKSLLPFLVAIALLGLFYPQYVILTALILIIRLFNWEKSQFCLSKNPQDYLFSGVGLGISLLVILFYVLNSSNYSPVITASQAKVLPEFGAAGRSVFFLQNYWDFFILGGRSGILPKQLFLPHILIVGLLLPILLKRKKGKTHNFDGGINLPRQLPLLKQISPNLKLLFQILLAGIVLFVIAHLLLFKLHLPSRYTNHSFRIVLAIETAIVLCVILEAIFHWINEQPSSQTRKILGLIIIGFLGIFLIGDMSLWKNFSYPDYQKGQSPEIYEFFAQKPKDILIASLSEEANHIPTFSQRSVLFAWEYAIPYHLSYYSQIKQRATEFIWAQYHLDIQWMKNFINTYGIDFLILDREAFMPEYVLKNPWLRQWYYQMGNQIEINLQNGNTPPIVGTIDKCSVLETEKLWVLEAKCIE"
       ]
      },
      {
       "output_type": "stream",
       "stream": "stdout",
       "text": [
        "\n",
        "Tery_2643:\n",
        "12739+, to 31363+, 2 nodes (85.06% id)\n",
        "12739+, to 30606-, 2 nodes (85.06% id)\n",
        "MGRKVLIGICGGIAAYKVCEVVSTLVKSGVEVRAILTDAAQQFITPLSLSTLCRYPAYTDQDFWQPSHGRPLHIQLGEWAELIVIAPLTANTLAKLVYGFADNLLTNTILASTCPILLAPAMNTDMWEQPTVRGNWQQVLTEKRFHVMAPSAGMLACDRVGQGRMGEPKEIITNIKSLLYTAGKRDLAGRKMLISAGGTREHLDPVRFIGNPSTGKMGTALAQAALHRGANVTLVHSIVGELVLSGVKVIEVVSAAQMQQAMLTHFAEADIVVMTAAVADIKPTEYYGKKLPKRSLPSSLPLTPVPDIVAELGKLKQSHQYLIGFAAQTGDIVAPALEKLRVKNLDTIVANPIDREGAGIGSNTNQGVFLDVEGRRLDIPSCSKLEMAHRLWDFVLESSG"
       ]
      },
      {
       "output_type": "stream",
       "stream": "stdout",
       "text": [
        "\n",
        "Tery_2649:\n",
        "32646+, to 658+, 3 nodes (90.48% id)\n",
        "32646+, to 658+, 3 nodes (90.48% id)\n",
        "MSPETIVKQSLETPSAYTKFNADNFNAYVMNTYGRFPIALERGEGCRVWDTEGKEYLDFVAGIATCTLGHAHHVMMATVSEQMQKLHHVSNLYYIPVQGELAQWLIQHSCADKAFFCNSGAEANEGAIKLARKYAHEKLNIENPTILTAHASFHGRTLATITATGQPKYHKGFSPLMPGFYYVPYNDITAIESAIAELDKDKRQVAAIMLEALQGEGGVRPGEITYFQRIREICNEKGILLILDEVQAGMGRSGKLWGYENLGIEPDIFTSAKGLGGGIPIGAMLCKSHCDVFEXGSHASTFGGNPFVCAVALAVCQTLEKENLLXNVQLRGEDLRTGLKAIAAKYPNLFREVRGWGLINGMELNSDVELTSIDIVKAAMNEGLLIVPAGPKVLRFVPPLIITETEVMEAMDALARAIANVV"
       ]
      },
      {
       "output_type": "stream",
       "stream": "stdout",
       "text": [
        "\n",
        "Tery_2661:\n",
        "22073+, to 23167-, 2 nodes (97.34% id)\n",
        "22073+, to 14738-, 2 nodes (97.09% id)\n",
        "MIIYKINNLLLTLNPPLLQIPNYLYHLITLVISTLLVLLTTPTIKKIALRIGLVDHPGGRKIHKQPMVRLGGVSIFISSLIALLIVWWLGGFIDTNGNILSPEKEFEIWGVTVGGVAFFVIGLADDLFGLSPLFRLFTQIIAASIAWVVGVQIQFLTIPFYGLAHINMLLSWPITVIWLVGMANAINWIDGVDGLAAGVSGIAAFMMLIVSIFMDQPAAALIAAALAGATLGFLRYNFNPAQIFMGDGGAYYVGFTLAGVGVIGLVKTTMVTSVVLPYLILAVPILDMSAVILDRLRNGKSPFIADKRHLHHRLLDAGLSQRLTVFFIYSLTLWVGSLAMAFSGIPXGTIYAFSATGLLAYTSWKVWKQKQA"
       ]
      },
      {
       "output_type": "stream",
       "stream": "stdout",
       "text": [
        "\n",
        "Tery_2662:\n",
        "11727-, to 11728+, 2 nodes (90.65% id)\n",
        "11727-, to 7397-, 2 nodes (89.49% id)\n",
        "MIAEIICVGTELLLGDILNSNAQFLAKQLANLGIAHYYQTVVGDNPERIKQVLAIATQRSQILIFTGGLGPTPDDLTVATIADFFNTPLIERPEIIEDITKKFARRGRIMTASNRKQALIPQGANILPNPIGSAPGIIWQPVVDVTIMTFPGVPTEMKSMWQETAIPYMQSQGWCEQTIYSRTLKFWGITESGLAEKIAPFLEMENPTVAPYANYGEVKLRISACAKSQDSADKLIIPVEEEIRDIAGIDFYGINDESLASVVGKLLLELGETLAVAESCTGGGLGSMLTSIPGSSEYFYGGIIGYENQVKITLLDVNEEDLIAEGSVSHTVAKQMASGVVNKLGTNWGISITGIAGPGGGSDTKPVGLVYIGIAKYKDKVESFEYRFSHLRDRDWIRRVSASSALDILRRRLXLSKQES*YHK"
       ]
      },
      {
       "output_type": "stream",
       "stream": "stdout",
       "text": [
        "\n",
        "Tery_2671:\n",
        "28876+, to 12970+, 5 nodes (87.09% id)\n",
        "23571+, to 12970+, 4 nodes (86.37% id)\n",
        "23572+, to 12970+, 5 nodes (84.85% id)\n",
        "8350-, to 12970+, 3 nodes (84.43% id)\n",
        "8351-, to 12970+, 3 nodes (80.26% id)\n",
        "XALZYXEXALXIXQEVXXXXXEAXXJXXIGXVYXXXGXXZKALEXXXKALXIXQEVGXXXXXATTLXXIGXVYXXIXXXZXALEXXEKALXIXZEXGXXSXXAXTXXXIGXVYXXIGXXZKAJEXXZKALXIXQEVXXRSXXXXXLNXIGXVYXXIGXPZKALEYXZXALXIIIXXXXXXXSXXATXLXNIGXXYXXIGXPXXALEYXZXXLXIXXXXXXXSXEAXXXNNIGXXYXXXXXXXXALEYXZXALXIXZXVGXRXXXAXXLXNIXXVYRDSNQPEKAIXXXEXSVKIXLZXRGXLKXXNRKTFLXDNXNXXXPIALIDLLIDQNQXEAAWKWYNLAXTFXLADYTRLIXAXVKNPEXQKLINQWEQNXXXLQALYSZIEDGTTTQLSQQIKQLQAEXNXLAEBXXXKYXEVAELFEFEPKDIDXLKANIXPGTVVIQPALXTGIKDVXDSXAIFLVTRDXATLVKKLPIDAXEFDSILTEYRSQLEYPNADDYATNQEKLYDYLIRPIETEIAAYSPKRLAIIATGKLRYIPFETLYDNQTDQYLIAKYPIHYLTRISATRQEQQGPTNSQKVLAFGNPQPTKINLRGAEDEAKIIAENLSGKSLIREKATLSSFENESPGFPLVHLATHGCFQKGGCPTVGLEENTILFANNKTFNIANAARLGLENTDLIVLSACQTAMKADSNGEEIAGVAYLFERAGADAVIASLWNAEDGTTKDIMVKFYDNLKQGMTKVEALRQAKLSYAMENVSPFYWSPLILIGDGE"
       ]
      },
      {
       "output_type": "stream",
       "stream": "stdout",
       "text": [
        "\n",
        "Tery_2672:\n",
        "787+, to 11171-, 3 nodes (88.08% id)\n",
        "787+, to 25799+, 3 nodes (88.08% id)\n",
        "787+, to 29954-, 2 nodes (89.19% id)\n",
        "VGVDGLVWTNADHNPIEIKPESVIRVDEGEDIPRGMRNIINARYVVSKMEFEPEXQIWIITATLQSRKE\n",
        "Tery_2676:\n",
        "15588+, to 21034+, 7 nodes (91.22% id)\n",
        "15588+, to 21033+, 7 nodes (91.50% id)\n",
        "28606-, to 21034+, 7 nodes (91.38% id)\n",
        "28606-, to 21033+, 7 nodes (91.67% id)\n",
        "15588+, to 32482+, 6 nodes (91.74% id)\n",
        "11101-, to 21034+, 8 nodes (92.17% id)\n",
        "12541-, to 21034+, 9 nodes (91.45% id)\n",
        "11101-, to 21033+, 8 nodes (92.47% id)\n",
        "11102-, to 21034+, 8 nodes (92.17% id)\n",
        "12541-, to 21033+, 9 nodes (91.74% id)\n",
        "28606-, to 32482+, 6 nodes (91.92% id)\n",
        "11102-, to 21033+, 8 nodes (92.47% id)\n",
        "11101-, to 32482+, 7 nodes (92.81% id)\n",
        "12541-, to 32482+, 8 nodes (92.00% id)\n",
        "11102-, to 32482+, 7 nodes (92.81% id)\n",
        "30223+, to 21034+, 5 nodes (91.82% id)\n",
        "30223+, to 21033+, 5 nodes (92.19% id)\n",
        "15588+, to 787+, 5 nodes (87.89% id)\n",
        "28606-, to 787+, 5 nodes (88.03% id)\n",
        "30223+, to 32482+, 4 nodes (92.59% id)\n",
        "11101-, to 787+, 6 nodes (88.81% id)\n",
        "12541-, to 787+, 7 nodes (88.15% id)\n",
        "11102-, to 787+, 6 nodes (88.81% id)\n",
        "12541-, to 21034+, 6 nodes (91.63% id)\n",
        "12541-, to 21033+, 6 nodes (92.07% id)\n",
        "12541-, to 32482+, 5 nodes (92.53% id)\n",
        "XTRITIIXLVACLTLMARETREAIANPKSIVQAEAKSTVKPIPVALPXNGTVFLNSGDSRSGSVIDVNSEYITVKKGRSRGREAIANVXXIXFXGDLWWPTSDXMTVJRGXDVDKIGKXRRFX"
       ]
      },
      {
       "output_type": "stream",
       "stream": "stdout",
       "text": [
        "\n",
        "Tery_2724:\n",
        "1007+, to 9640+, 3 nodes (88.89% id)\n",
        "1007+, to 9639-, 2 nodes (88.82% id)\n",
        "MYMSNTNSLRYSISGVFIIAYKEDTTILEKTLQEQDFNYEILRQKHQPEYKNYSPSYLTLLNHKNAWIKASEQEKPSLIIEADFVPVINLGSLPLPFNLENYNVGIGWLYTCAPQIYSVSDENYAQGFSTSAVAYIITPRAALELIELENEVRLNSGTNNYSTWDSTIDEFLRSRSFENFVPFRNYGEHGGLPNLEHYRYGLSKVHRADILYDRLAFMPIYAGTDKFQIWRFFRERFQGRLKGILRLLIGRYLRLKIIMGSSFPLRLIXFAVLRQXLFRI"
       ]
      },
      {
       "output_type": "stream",
       "stream": "stdout",
       "text": [
        "\n",
        "Tery_2735:\n",
        "30121+, to 29535-, 2 nodes (85.49% id)\n",
        "30120+, to 29535-, 2 nodes (84.73% id)\n",
        "MTRCKCKSKXHIPLSERELQVLELVADGLTNEKIAEKLKISKRTVDNHISNILSKTSTHNRVELVRWALLWGKICLDNINCCQVKQLTK\n",
        "Tery_2741:\n",
        "28942+, to 10859-, 3 nodes (91.07% id)\n",
        "28942+, to 10859-, 3 nodes (90.87% id)\n",
        "LVITTLNITKSEEIFAAAQKLMPGGVSSPVRAFKSVGGQPIVFDKVKGAYIWDVDSNKYIDYVGTWGPAICGHAHPEVLNALKEILEKGTSFGAPCALENTLAEMVIDAVASIEMVRFVNSGTEACMAVLRLMRAFTGRDKVIKFEGCYHGHADMFLVKAGSGVATLGLPDSPGVPKSVTSNTLTAPYNDLEAVKQLFADHPDQISGIILEPVVGNSGFIAPDAGFLEGLRMITEENDALLVFDEVMTGFRIAYGGAQEKFNVTPDLTTLGKIIGGGLPVGAYGGRQDIMSMVAPAGPMYQAGTLSGNPLAMTAGIKTLELLHKPGTYEQLNRITKRLVDGXLAIAEETGHAIYAGHISAMFGIFFHKGPVHNYEYAKKSDLSKFSKFHRGMLEHGIYLAPSQFEAGFTSLAHTDEDIDQTLAAAKEVMSSL"
       ]
      },
      {
       "output_type": "stream",
       "stream": "stdout",
       "text": [
        "\n",
        "Tery_2743:\n",
        "20295-, to 20120-, 2 nodes (97.55% id)\n",
        "20295-, to 7162-, 2 nodes (97.54% id)\n",
        "MASTSSFDIVSDFDRQELVNAIDQAEREIKARYDLKDSNTTLELGEDTITINTSSQFSLDAVHTVLQTKAAKRNLSLKIFDFGKVESASGSRVRQEVKLQKGITQENAKKITKLIKDEFKKVQASIQGDAVRVSAKSKDELQAVMQRLKAEDFPMPLQFTNYR"
       ]
      },
      {
       "output_type": "stream",
       "stream": "stdout",
       "text": [
        "\n",
        "Tery_2744:\n",
        "10415+, to 20295-, 2 nodes (93.14% id)\n",
        "10414+, to 20295-, 2 nodes (94.86% id)\n",
        "MSLLELPPSSIFLDCIALGAILXYAPFLVVAYGRVTVGYDLGAPRAMFEKLPDYAKRATWAHQNSFETFILFAAASFMAXVTEXDSXLAIGASVAFVXGRFFYSXFYILDIPIGRSLMFAISSSGTAILFILSLISVNNF"
       ]
      },
      {
       "output_type": "stream",
       "stream": "stdout",
       "text": [
        "\n",
        "Tery_2745:\n",
        "10416-, to 10414+, 2 nodes (98.08% id)\n",
        "10416-, to 10415+, 2 nodes (97.59% id)\n",
        "LSQSIDLPKVDDFLEELLAIQQTGSKRIAMLGSRHVPITHQQLIELLSYALVLGSNHIITSGATGTNLAVVRGVXRADPNLVTVILPQSLERQPRESRKELEKVIHVVENPKNNQLSLGEASSICNQEIVSRCQQLICFAFHDSHTLLKTCQDAEEQRKVVTLFYLD"
       ]
      },
      {
       "output_type": "stream",
       "stream": "stdout",
       "text": [
        "\n",
        "Tery_2747:\n",
        "24664-, to 21650-, 2 nodes (84.06% id)\n",
        "24664-, to 21651-, 2 nodes (84.06% id)\n",
        "VPKSASYLLIGSTEAHSGKSTITVGLAHQLQAQGITIAYGKPLGNCLNTTSISTDADVQFITETLKLSQNSIRPTLLMLDKSNIERGLLGKEKTDYQKSLTQYLQIEGEDLVILEGPSNLDDGSLFELSLPQVAEITNSAVILVTRPNLHSYIDSLLSAKQRLGSSLMGVVINDVPLAALETITSLVKPFLEVRNIPVLGILPRSNLLRSVTVEELVKQLEAQVLCRSDRLGLIVESLTIGAMNVSSAMKYFRKARNMAVVTGGDRTDIQLAALETSTHCLILTGKLPPDESVLSTAEHAEIPVLSVECETLSTVEIINRTFGSVRLHEPIKVEFAKNLIAQHFDFERLLGHFQL"
       ]
      },
      {
       "output_type": "stream",
       "stream": "stdout",
       "text": [
        "\n",
        "Tery_2759:\n",
        "891-, to 7359-, 10 nodes (94.69% id)\n",
        "891-, to 7359-, 10 nodes (94.69% id)\n",
        "891-, to 7359-, 10 nodes (94.69% id)\n",
        "891-, to 7359-, 10 nodes (94.69% id)\n",
        "891-, to 7359-, 10 nodes (94.46% id)\n",
        "891-, to 7359-, 10 nodes (94.46% id)\n",
        "891-, to 7359-, 10 nodes (94.46% id)\n",
        "891-, to 7359-, 10 nodes (94.46% id)\n",
        "28923+, to 7359-, 10 nodes (94.57% id)\n",
        "28923+, to 7359-, 10 nodes (94.57% id)\n",
        "28923+, to 7359-, 10 nodes (94.57% id)\n",
        "28923+, to 7359-, 10 nodes (94.57% id)\n",
        "28923+, to 7359-, 10 nodes (94.32% id)\n",
        "28923+, to 7359-, 10 nodes (94.32% id)\n",
        "28923+, to 7359-, 10 nodes (94.32% id)\n",
        "28923+, to 7359-, 10 nodes (94.32% id)\n",
        "28923+, to 7359-, 10 nodes (94.86% id)\n",
        "28923+, to 7359-, 10 nodes (94.86% id)\n",
        "28923+, to 7359-, 10 nodes (94.86% id)\n",
        "28923+, to 7359-, 10 nodes (94.86% id)\n",
        "28923+, to 7359-, 10 nodes (94.60% id)\n",
        "28923+, to 7359-, 10 nodes (94.60% id)\n",
        "28923+, to 7359-, 10 nodes (94.60% id)\n",
        "28923+, to 7359-, 10 nodes (94.60% id)\n",
        "MMRSQKTMMVLFSLALNLVLVAPPVKAEPTVTITPSNLTVVGTKCPVFFDCPAXKRRLVLQTNQAIANLQILSLDLDRSDGTTVLQGSAINPXLSTTSVEPNQPLTIPVEFNLKDAKSGEFSGVLLAIHSDGQLVVPIIVRVKDHWLGPIFLLLLGVMVSIGMSAYRTDGRNRDEIVVLVSRIRNQMKADPELVESFQIKINGYLIDVETDLTNKRWDEAKQAVGKAQTTWDKWRKSREDWLALSKFESSLTDSLNNLTPDAPYVQTVGSYLENIERQTADKENPEQLRKELNDLRQQLVRYLGGEAKLERFDNLRNELTGSAQQEQALRDISQYLQQELNNLSPTELEAFQRWEQEIDNELKQLDQAIKQQIPNNEANSNLSITSRGVSSTYPPRLPNPVPDVRPLQLNPVGSARNLFLFQFFSYTIAIFLLAGAGFRQLYVTQPTFGANLWTDYFALLAWGFGAEATRDAVTKTIREWKLPGLK"
       ]
      },
      {
       "output_type": "stream",
       "stream": "stdout",
       "text": [
        "\n",
        "Tery_2760:\n",
        "33231-, to 28923+, 10 nodes (93.01% id)\n",
        "33231-, to 28923+, 10 nodes (93.01% id)\n",
        "33231-, to 28923+, 10 nodes (92.85% id)\n",
        "33231-, to 28923+, 10 nodes (92.85% id)\n",
        "17849-, to 28923+, 10 nodes (93.01% id)\n",
        "17849-, to 28923+, 10 nodes (93.01% id)\n",
        "17849-, to 28923+, 10 nodes (92.85% id)\n",
        "17849-, to 28923+, 10 nodes (92.85% id)\n",
        "ESDRTLRSVVSTYQPLRPWRFLPQANSIASRVNAVISYLQDKXRSDTKENALVLLLRLLKDLIEEEDQRHQQLVNLILELENAFADNSXLDNLKLETKTETIIRGTKKRKLEEEKRQPIKNRWAFLVGVNRYNDPGVHNLKFCVKDVQKLEKKLKELGYTVMCLHDSLESDSRRFPIHNNIEAELINLCNMVDVDDLLLVHFACHGKLGRDEQPMLIVRDTRLSTIEKTGLSLADMKKYMHSSKARRLVLTLDACHMGVETGREIDDPQFIHNAYELAEGFALIAASTAQQKALESPEKNSGVFTHYLIEGLNGEADREQKGFVTVDDIKTYVLYSLRRWSIENDQVIQEPTAKTEGLGDMIVADYRYSHD"
       ]
      },
      {
       "output_type": "stream",
       "stream": "stdout",
       "text": [
        "\n",
        "Tery_2764:\n",
        "20229-, to 20227+, 2 nodes (99.20% id)\n",
        "20228-, to 20227+, 2 nodes (98.01% id)\n",
        "MVKTXPASQIDLYSLEENFGLKRAYEPTFFXEWQENLPELTELEKQELVQVKXDYLRLSKRPMLEPLVKMVVLSPLLRAAGFYREPFFLSAEKQIKITSEDGGAIVTGKIEILVYTPQFWVLVIEAKRVEYSLQVGIPQILAYMLDSPEIEQSAFGFVTNGSEFRFVKLLKRDTIQYGLSRLFSIDSGEDLYTVVSIFKSLAQFVIQQN"
       ]
      },
      {
       "output_type": "stream",
       "stream": "stdout",
       "text": [
        "\n",
        "Tery_2766:\n",
        "1581-, to 7978-, 5 nodes (99.28% id)\n",
        "1581-, to 7978-, 5 nodes (98.74% id)\n",
        "1581-, to 7978-, 5 nodes (98.57% id)\n",
        "1581-, to 7978-, 5 nodes (98.03% id)\n",
        "RQYGLPLGVEDYMLVLRALQGGFGIGDRDSLERLCCTLWTKSEQEARLLHQLLGRAITNAPSSAELPQPVEDTPNPSPTSASTRPVSKESEEVMDSSTLPSTATPVGNISEQLEEKAPLKEPEIPVSKPSPLTDIPXEIDEPELVIQAIRHYNRSNEMISEXQDLAAQYLPVTPRQIKQSWRFLSRSVPQGISXKLNVPATVAXICQQCILIEAVLMPNYVNRVKLVLLVDQGGSMIPFHHLSRQLIDKARRGGNIEQASVYYFYNYPEIYFYSDPTRLKAQLITDILGAIDERAGVLMVSDAGAARSNYNPERIECTQRFIEQLRQSVRYYAWLNPMPNDSWQGTTAGEIARFVPMFEMSPQGFNAAINTLRGRYVYGKDFYELRRQKSL"
       ]
      },
      {
       "output_type": "stream",
       "stream": "stdout",
       "text": [
        "\n",
        "Tery_2810:\n",
        "25560-, to 24469-, 2 nodes (93.06% id)\n",
        "25560-, to 18247-, 3 nodes (93.06% id)\n",
        "MAVSLRASREGLLKVDIARKKKGWTKSEDAWWGLALTSKATLRRFWRSLSIQRDAFIAICENVGVNWEEIVDHTPPSPDSSTVKFFSYDYIWVGREDLIAELSTKVKESCRLLILVGLSGIGKTALAEKLAVELQEEFLQGDWSKFHQENLENNEVGDFRSVAFRWLKKWGESLTPDDYKDVERLLQRLVYRLRKHRYLIIIDSLENILVGNEDQGWNNFEDELWVRFWELFLASPECQSRIILTSQDFPEQIPERYQNFWEHKVLTGLRKSEQLQLFGKTGLEVEENSVNLPYLQSIGNAYEGHPLALRVIAGEICGKPFNGNVVAYWKRYGKEIEEVEKAIEEGRTQGVTVGADDKFQLDRYTRMLRKNVSQRLDKTFFRLQKDAINAYRLICVGAIYRCEVPESFWLKLLKSWQCDEEKQEVALQTLRDRFLVEDVGVDESGEXLLRQHNLIRSXSLEHLKKXDXXXGGIAEFMRSLFG"
       ]
      },
      {
       "output_type": "stream",
       "stream": "stdout",
       "text": [
        "\n",
        "Tery_2820:\n",
        "6054+, to 23653-, 2 nodes (91.25% id)\n",
        "6054+, to 23654-, 2 nodes (91.25% id)\n",
        "MQKILESINLDYAFMFTQKKVNSISMEGFEQFFADLPVDPYMKAKYRYRRLSRFIISGGEVIKQPHGYLFQSKNYNPLVGNIKREYAEIDDNLVALDNFKKMILAFCDSCKIHPEAEIGIHQIRTICSPNNLGNPAPEGIHRDGTDFIGIFAVNRHNIQGGATHLYTARKEKPVFSKILNPGDLLLVNDHEFFHFTTPIKPVTEEMGYRDVFVLTSPSLIH"
       ]
      },
      {
       "output_type": "stream",
       "stream": "stdout",
       "text": [
        "\n",
        "Tery_2831:\n",
        "25373+, to 26400+, 6 nodes (80.72% id)\n",
        "32155-, to 26400+, 6 nodes (80.59% id)\n",
        "25373+, to 26400+, 6 nodes (80.36% id)\n",
        "32155-, to 26400+, 6 nodes (80.23% id)\n",
        "25373+, to 29695+, 5 nodes (79.68% id)\n",
        "32155-, to 29695+, 5 nodes (79.54% id)\n",
        "900-, to 26400+, 7 nodes (76.41% id)\n",
        "900-, to 26400+, 8 nodes (76.21% id)\n",
        "900-, to 33782+, 6 nodes (74.19% id)\n",
        "900-, to 33782+, 6 nodes (74.08% id)\n",
        "900-, to 33782+, 7 nodes (73.97% id)\n",
        "900-, to 17462+, 5 nodes (73.08% id)\n",
        "900-, to 22797+, 3 nodes (71.91% id)\n",
        "25373+, to 26400+, 10 nodes (81.89% id)\n",
        "32155-, to 26400+, 10 nodes (81.76% id)\n",
        "25373+, to 33782+, 9 nodes (79.83% id)\n",
        "32155-, to 33782+, 9 nodes (79.71% id)\n",
        "25373+, to 33782+, 9 nodes (79.75% id)\n",
        "32155-, to 33782+, 9 nodes (79.63% id)\n",
        "25373+, to 33782+, 10 nodes (79.68% id)\n",
        "32155-, to 33782+, 10 nodes (79.56% id)\n",
        "25373+, to 17462+, 8 nodes (79.17% id)\n",
        "32155-, to 17462+, 8 nodes (79.04% id)\n",
        "25373+, to 18085+, 4 nodes (78.18% id)\n",
        "32155-, to 18085+, 4 nodes (78.05% id)\n",
        "25373+, to 22797+, 6 nodes (78.42% id)\n",
        "32155-, to 22797+, 6 nodes (78.28% id)\n",
        "MQSGQILRNHYKIIXSLGXGGFGDTYLAQDLDLPGXPKCVVKHLKPKSLDPIVJXXARKLFEREAXTLYKLGXBSDQIPRLFAHFXEGREFXLVQEYIEGQDISRELTPGKKLSESETIALVKGILEXLXVAHXNNXIHRDIKPXNLMRRXSDNXIVLIDFGAVKEIXXLTTNQXGATTLTVAVGTXGYMPSEQXXGKPKLSSDIYAVGMXGIXALTGKXPXXXXTDXXTGNXIWRNEAZVSXXLABILDKMVHZYFPQRYXNAXEALXXLQEATVXXXXXKPXQTSTAKRXXNXBPSQPLPNQNIIZLGXLXGSXXVXXXLXQXFNKPSPENIPTSELIPETPPKNISTPQPTPSPTPSPRXKXXIXXFXTVTVXXRGEIXSRPQGQAEXXTENIGNGVSLEMVKIPGGRFLMGSXXTEAXRXSSEGPQHYVDVPEFFMGKYAVTQGQWEAVMGNNPFRIQSXFXXASRPVXXVSWYBXTXFCQKLSQITGKKYSLPSESQWEYACRAXXTTPPFYFGXTITSXLVNXXXXXTYADAPXGXYRKETTBVGIFXPNAFGLYDMHGNVXEWCADEWHXNYBGAPTXXSVWLDGBKXXSXLRGGSWAXXPXXCRSAXRXXXXXRDXXXBXXGFRXVCDGGRTL"
       ]
      },
      {
       "output_type": "stream",
       "stream": "stdout",
       "text": [
        "\n",
        "Tery_2843:\n",
        "7693+, to 21170+, 4 nodes (91.14% id)\n",
        "7693+, to 21170+, 5 nodes (90.04% id)\n",
        "7693+, to 21170+, 4 nodes (89.89% id)\n",
        "VQLQTKVSIKQATGAFALIDSLKRHGVKHIFGYPGGAILPIYDELYRAEAAGDLQHLLVRHEQGASHAADGYARATGQVGVCFATSGPGATNLVTGIATAHMDSIPMVIVTGQVGRPMIGTDAFQETDIYGITLPIVKHSYVVRDPRDMARIVAEAFHIASTGRPGPVLIDIPKDVGLEEFEYEPVEPDSIRLPGYRPTVKGNPRQINQAINLIREARRPLLYIGGGAISASAHGEIKELAEHFNIPVTTTLMGKGAFSEHHLLSVGMLGMHGTAYANYAVSECDLLIAVGARFDDRVTGKLDQFACHAKVIHIDIDPAEVGKNRSPDVPIVGDVRKVLLDMLDRCRKTGDHVNSNQTQPWLERINRWKRDYPLVVPQYSDSMSPQEVIDKIGKMAPDAYYTTDIGQHQMWAAQFLKNGPRQWISSGGLGTMGYGMPAAMGVKVALPNREVICISGDSSIQMNIQELGTLAHYDINVKTVIINNGWQGMVRQWQEAFFGERYSSSNMEVGMPDFVKLAESYGVKGMMISSREELEEAIAQMLAHDGPVLMDARVTKNENCYPMVAPGKSNAQMIGLPIRKQLEQAVE"
       ]
      },
      {
       "output_type": "stream",
       "stream": "stdout",
       "text": [
        "\n",
        "Tery_2846:\n",
        "21170+, to 28145+, 2 nodes (97.60% id)\n",
        "21170+, to 12058-, 2 nodes (96.85% id)\n",
        "MNAYKKYVIIDNPQQLVLSDLPFSAGQKVEIIILAEEHNEVDSQLEELRQKIDSATEQILAGNVTDGELVFEQLQARLKNEYXLE\n",
        "Tery_2848:\n",
        "10484+, to 10482-, 2 nodes (78.98% id)\n",
        "20800-, to 10482-, 2 nodes (78.98% id)\n",
        "MVLDXNAMENEXLWXKRSTITQGTSVRLAIEVVSXNWQDDYLMKLGEYEKLGINEYWIVDYLGLGGRRYIGNPKQPTISVYHLVEGEYILNLFRDENVVASPTFPELNLRAEQIF"
       ]
      },
      {
       "output_type": "stream",
       "stream": "stdout",
       "text": [
        "\n",
        "Tery_2878:\n",
        "6113-, to 6112+, 2 nodes (95.51% id)\n",
        "6113-, to 6111+, 2 nodes (95.36% id)\n",
        "MTCHNNTVTISQPTNATKKVALIGMPNTGKSTFFNRITGVSAHVGNWPGITVDLFQAEVKINQEITQFVDLPGIYNFNGFSEDEKVVQNFLENNPIDLVIVIINSSQIDRQIMLPLQVKALGLPAVLMLNMSDEAQQYGIKIDTEELSKRLSMPVFLISAKYGKGYMNAYMEISQQLKESKNSVQLDSNKIKENISVREIDTILNGTVVMPSQMAQNFTAQVDKILLHPVWGLPLFFLGMFLVFWAVWNIGLPSVDLLEIGVEWAQSSIVEPLLQPFPQILQDFLINGLWAGVTTVASFVPLIIVFFIIMAVLEDSGYLSRSAYLMDAFMARLGLDGRSFVLHIMGFGCNVPALMGTRVMRSRALRLLTMLIIPFGLCSARLQVFVFIIAAVFPNGKGAIVLFSLYILSFLVAIITAALFKGVYKNEEPFVLEIPPYRFPTWKQVLLRSWGEVREFLVRASGFITFGCIGVWILTSLPPGATGLDTIGGQIGQFMSPIMDPIGINPYLTLSLFFGFIAKEIVIGSLAVIYSMSEQNVSSNITETVTFIQGYSFCIFCLLYTPCLSTLATLIKEAKSWKFSLLSLIFPLXLAWFSSFIFYQGALALS"
       ]
      },
      {
       "output_type": "stream",
       "stream": "stdout",
       "text": [
        "\n",
        "Tery_2889:\n",
        "27033+ to 27033+, 1 nodes (73.69% id)\n",
        "27033+ to 27033+, 1 nodes (73.15% id)\n",
        "MELITNINVYQEYQLCVSRVSTFKI**YYGNLALYSFDKLV*TSNRFS*VENSNSTNSG*CTNFGGKISKEIVLSIKSCM*TI*IWCWFH*Y*SRGTGNKY**FIRYKKLCKKWIRYSPKIRRCY*QRYSIGIRDFES*SQLLWHNSTC*SFHSR*WNIISIIRISFSSIRRPRICP*I*AIIYNRF**NGRFYCCRFEKILMER*TFKFNGISFLCLEYFFAK*E*LELYRMYLNQRQIGFN*EEK*KYIKRKCL*HK*CFI*IFISCSH*TIYFSL*SKIQKCWHTKKLFRKC*TGSLRFN*TRKQLHVKTH*CEKIS*STSTKIRFDIYFDLDSATS*FMGKITKLT*F*WRINSSKVL*I***TQQNFYTISFPDVTNLQNYRKSICIYMY*PKRCHFPN*KEVNKFGCRRDYC*"
       ]
      },
      {
       "output_type": "stream",
       "stream": "stdout",
       "text": [
        "\n",
        "Tery_2914:\n",
        "3786+, to 3786+, 3 nodes (86.84% id)\n",
        "5659+, to 3786+, 3 nodes (86.84% id)\n",
        "3786+, to 3787+, 3 nodes (87.97% id)\n",
        "5659+, to 3787+, 3 nodes (87.97% id)\n",
        "MSKEFEGKIALVTGGSSGIGRATAIAFAKKGAKVVIASGRETESEETVAMIKEVGSEAIFFKTDITQAIXVENLVNQTINTYSRLDYAFNNXGIEGIVRPSIEQTEENWNQVIBXNLKGVWLSMKYQIPEXLKNGGGAIVNNASIXGLXGSXNXSIYCASKHGVIGLXKAVALEQATXGIRINXVCPGXIQTDMVDRAFGKXDESEAKVQIVAAHPISRIGQPEEXANAVVWLCSDAASFITGHSLXIDGGXTVQ"
       ]
      },
      {
       "output_type": "stream",
       "stream": "stdout",
       "text": [
        "\n",
        "Tery_2931:\n",
        "29210-, to 29893+, 5 nodes (90.81% id)\n",
        "29210-, to 29893+, 4 nodes (91.31% id)\n",
        "29210-, to 29893+, 4 nodes (90.35% id)\n",
        "MTANKQNIRQPYDGWSLDERDPKVIKSMMPFWEWFYRYYFRVQTDGWDNIPDEKILIVGSHNGGLPAPDMHMCMYDWFKRWGPERLVYGLMHPNAWSVFPGLTPLAAKCGAVRAHPKMAIAAFQRNASVVVYPGGGPDVFRLHSMRNKIYFAGRKGFIKLALREEVPIVPMISHGAHDTLIVLANFYEQXKQLHEWGMPWLFDVDPEVFPIYIGLPWGLAIGPLPNFPLPTQIHTRVFPPIVFERYGRKAASDHDYVDACYQKVLTQMQQELDQLILSTS"
       ]
      },
      {
       "output_type": "stream",
       "stream": "stdout",
       "text": [
        "\n",
        "Tery_2937:\n",
        "14165+, to 20597+, 3 nodes (90.15% id)\n",
        "14165+, to 20597+, 3 nodes (90.08% id)\n",
        "MIFYNRVINKGQLKKLISWSFNNYGTAITAQIANNLKDLGFRYATKAGVSISVDDLQVPPSKRKLLDEAEQEIRDTTERYTKGKITEVERFQKVIDTWNSTSENLKDEVVRNFRATDPLNSVYMMAFSGARGNISQVRQLVGMRGLMADPQGEIIDLPIKTNFREGLTVTEYIISSYGARKGLVDTALRTADSGYLTRRLVDVSQDVIVREADCGTKRGVIVASMKDGERVLIPVKDRLLGRVLAGDVKHPETGEIVSSDNILAVKNQVLTEELAKAIGKAGVEKVFVRSPLTCESPRSVCQTCYGWSLAHGHMVDMGEAIGIIAAQSIGEPGTQLTMRTFHTGGVFTGEVARQFVASFAGVVNYPSHLRARSFRTRHGDEAMIAENNFDIVILGVDGRKEAIPIAQGSILMVQNNQEVSAGTVLAEVQKVGQVRKTTEKVTKEVASDLAGELKFAQLVQEEKVDKQGTTTRIAQRGGLIWILEGEVYNLPPGAEPTVRNGTTINMNSVLAETKLVTEHGGLVRIPSAPLYSLGEQTDTNILDQETQGSTTDELEESTTATSAQLPVLTEAQDBLPREIEVITASVQLDQARVRLESVANRDQYIIEXQDNQRFALKVTPGSKVGNYEVIAELLXXNYQTYTGGIIKYAGVEVLKRGKAKQGYEVVKGGTLLWIPEECHEVNKDISLLLVEDGQYVEAGTEIVKDIFCQSSGVXEVHHKNDILREVVIKPGKLHSGBYEIDLGDLSLMDGQIATPGQEVIPGLVTSELKYIEYIETPDGPGLLLRPVTEFHVPEXPAVPSQKSINXSIELRAIQRIPFKDGERVKSVEGIELLRTQLVLEIGEEAPQLAADIELSPDPEEEGVMRLQLVILESLVIRRDVVADTTHGSTSTRLLVKDGDLIEAGGVVSRTEILSKESGEIRGIREGLEAIRRVLIVREVDLVKIPVNVLPSVAEGDLLVAGTEIAPGTVTPKSGMVSKVEQTVLDDGSKSYHVVLRKGRPYRVSTGAVLLTIDGDLVQRGDSLVLLVFERTKTGDIIQGLPRIEELLEARKPKESCVLVKYPGQAQVNVNDDNVEVSVVSSDGTITDYPLGHGQNVIVADGQNVDVGEPLTDGPQNPHEILETFFNYYREHESAYEACLRSFEACQKFLVNQVQAVYQSQGIDISDKHIEVIVRQMTAKVRIDDGGDTTMLPGELIELRQVEQVNEAMSITGGATAQYTPMLLGITKASLNTDSFISAASFQETTRVLTEAAIEGKSDWLRGLKENVIIGRLIPAGTGFNAYEDALSAEINRLEQSWDDDVDLFEEEDLQSVVLDDQTARSLELENSLNLSSVSHNFVDSQSIPQDQSQFIDDTIPEFSPLKNQSGSILDDSDFPPDNFDSDFPPDNFD"
       ]
      },
      {
       "output_type": "stream",
       "stream": "stdout",
       "text": [
        "\n",
        "Tery_2940:\n",
        "23795-, to 705-, 3 nodes (90.09% id)\n",
        "23796-, to 705-, 3 nodes (89.80% id)\n",
        "23795-, to 17542+, 3 nodes (89.80% id)\n",
        "23796-, to 17542+, 3 nodes (89.52% id)\n",
        "LGXSKINXKSQMQLIDTHVHINFDVFNSDLEEVRKRWEEAGVVHLVHSCVGPDEFLSIKAIADSFPELSYAVGLHPLDAHKWTSTTANQIQNFATSDPRVVAIGETGLDFYKADNQKQQKFVFKQQLTIAQELNKPLIIHCRDAANSMAEVLYDFQTNQRPIRGVMHCWGGTPEETKVFLDLGFYISFSGIVTFKSATQIQESAKIVPDDRLLVETDCPFLAPVPKRGKRNEPAYVKYVAEKVAELRGVTLXSLAGQTSKNACQLFGFSVH"
       ]
      },
      {
       "output_type": "stream",
       "stream": "stdout",
       "text": [
        "\n",
        "Tery_2959:\n",
        "18180-, to 18178+, 2 nodes (91.48% id)\n",
        "18180-, to 18179+, 2 nodes (91.76% id)\n",
        "MELSTNITIPVAPADYKSGFVGIIGRPNVGKSTLMNQLVGQKIAITSPVAQTTRNRLCGILTTEVAQMIFVDTPGIHKPHHRLGKVLVQNAKIAIQSVDLVLLVVDGSMIAGGGDRYIIDLLHKIQTPVILGMNKLDLQPQDAWEIEASYYQLINPHPWQIIKFSALTGVGVETLQNLLIEHLETGPYYYPPDLVTDQPERFIMGELIREQILLYTREEVPHSVAIAIDRVDEESTITRILATINVERSSQKGILIGKDGNMLKAIGSAARQQIQKLIAGKVYLELFVXVQPXWRQSXIQLAELGYQVEE"
       ]
      },
      {
       "output_type": "stream",
       "stream": "stdout",
       "text": [
        "\n",
        "Tery_2966:\n",
        "35-, to 33+, 2 nodes (96.85% id)\n",
        "35-, to 34+, 2 nodes (96.85% id)\n",
        "MLGQASESKKKIYQIIYGYWQSQCVYTATNLGIPNLLHYGPQTVEIIAEKTGTKAEKLYVVLRALAHLGIFVEKPDRVFAATELSELLITDDSPSIGHFLMHITEPNMWDGWRELESGLKTGKVPFEIAKEQDFYSSYMNENPQSKNLFNNAMSFLTAEAVDPLFEVYDFSRFKTVMDIGGNQGTLIANIVKKFGCQGILFDLPHEVETAPNNISKYGVLDSVKIIGGSALESLPKGADAITMKYFLSVFNQEDSIKVLTNCREALPQDGRVILLQTLVPSLGAPVEYPDGTIPALAAVQMMITNPGGYWRTEEEYKNLFAASGFKLEQVVYTGTSLTVMEFSPC"
       ]
      },
      {
       "output_type": "stream",
       "stream": "stdout",
       "text": [
        "\n",
        "Tery_2974:\n",
        "1882-, to 1882-, 4 nodes (88.37% id)\n",
        "1882-, to 18220-, 3 nodes (91.81% id)\n",
        "25065+, to 1882-, 5 nodes (85.54% id)\n",
        "25065+, to 18220-, 4 nodes (88.56% id)\n",
        "25065+, to 1882-, 3 nodes (84.44% id)\n",
        "MEKQIWXXITFIXFLXXFXXVGIYSXTQKQNTTTDYLLASRNVNPWLTXLSAMATXXSGFLFIGXIGFXYKXGXASIWXPLXWTIGBXIAWXXIFKXLRXVSQQXDSDTXSSFLGQENXGXKNQGRLITIISALITIXXLGTYAXAQLVAASKGLXAIFXWNYQXGIIIGAVIVVAYCFSGGIRASIWTDSXQGXLMIXSLWVLXIVSLIACGGFXELXAKLNAIDPTLTNWIPTNLPWGFFPYFLGWLVAGFGVVGQPHVLVRAMAIDSXDNIALARNIXXVCGLXNXXXAXGIGLTARVXLPXLMTXXDPELALPNLSIELLPXILVGLMLAGJFXAAISTADSQXLSCSAALSQDLVPSXXXSYRKAKIATLVVXAIVLAIALXTNNSVFALVIFSWSVLACALGPLLVLRVWQKPVSXPVXITMMITGIVVAIIWNXGXNLSSAIXEVLPGMXAGFIVYGIANXXVWPKXXSKQ"
       ]
      },
      {
       "output_type": "stream",
       "stream": "stdout",
       "text": [
        "\n",
        "Tery_3014:\n",
        "7864+, to 3881+, 5 nodes (87.34% id)\n",
        "7864+, to 3881+, 4 nodes (87.66% id)\n",
        "7864+, to 3881+, 4 nodes (87.73% id)\n",
        "VRKRYYPLNSLKEGHWFKLICGASFQHLPTVRNLTLAYTLAGADCIDVAADQATIAAAKEAVQVASQLNYWAKNQEFGYQGRPFIMASINDGEDPHFRKAEFDPTICPTGCWRPCEKVCPAEAIVFSEKDXAVSDDYSGVMDELCYGCGRCLSICPNQLIQARSYVSTPSSIASLVLQTGVDAIEIHSQIGRESDFQRLWKSIKPWVNQLKLIAISCQDGEGLIEYLQSLYEIISPLPCSLIWQTDGKPMSGDIGAGTTAATIKLSQKVLDAGLPGYVQLAGGTNNSTVVKLMALGLLANKNLEQDKNYIKNFNTPISENKFIAGVAYGSYARVLLSPILEKLEKMHKSQLEAIEFAYDTTGVNTKDINQNQSQNSQLTKLETVPEVLWEAVSSASSLVSQIKRF"
       ]
      },
      {
       "output_type": "stream",
       "stream": "stdout",
       "text": [
        "\n",
        "Tery_3036:\n",
        "23643+, to 22025-, 2 nodes (87.19% id)\n",
        "23643+, to 22026-, 2 nodes (87.19% id)\n",
        "MTQSQTNSTQYPSFNISELESQLKSGSEKKQLQVIPYFPETGDEGLEILMEFLQQKKSDLPTIVEGKIYQVLRQVKSSKVDDFLQKNFPLGVVPINPESNIDYSHLQIKLAHQDFLEADKLTMQKLCELVGEAATQRKWLYFSEVDSIPIPDLKIINTMWLIYSEGKFGYSVQREIWLGVGQNWEKFLPKIGWKNGNTWSRYPDQFTWNLSAPKGHLPLSNLLRGVRMFASILSHRAWSK"
       ]
      },
      {
       "output_type": "stream",
       "stream": "stdout",
       "text": [
        "\n",
        "Tery_3048:\n",
        "30100-, to 25715-, 8 nodes (71.29% id)\n",
        "30100-, to 33236+, 4 nodes (71.29% id)\n",
        "30100-, to 30433-, 4 nodes (71.29% id)\n",
        "MTTLTASQLNSTGNISGLKFNDINGNGRLDPNESGLPNFTIYLDINNNGSLDFNEPANITNNFGGYLFNNIPTNTYTIREIQQPGFNQTTPTPIVDLIPGSNLTNINIGNIGNLSNLGQISGTKFNDINTNGKFDPGEFGLQDITLYLDLNQNGFLDEGEPRTITGVNGEYSFQDLPPNTYILREVSPPDFTPTTPDPILNVTPGSNLISNIGNVSNRGQISGVKFNDINTNGKFDPGESGLQDITLYLDLNQNGSLDEGEPPTITGVNGEYSFQDLPPNTYILREVSPPDFTPTTPDPIINVTPGSNITNVNIGNINNRGQISGTKFNDTNTNGIFDPGELGLADITLYLDLNQNGFLDEGEPPTITGINGEYSFQDLPPNTYIIRETKVPDFDQTTPDPIINVTPGSNITNVNIGNINNRGQISGTKFNDTNTNGIFDPGEXGLADITLYLDLNQNGFLDEGEPPTITGIXGEYSFQDLPPNXYIXREXXXPXFXQTTPXXXXBVTPGSNITNXNIGNXNNRGQISGTKFNDTNTNGIFDXXEXGLXBITLYLDLNQNGFLDEGEPPTITXXNGEYSFQDLPPBTYIIRETQAPDFDQTTPDPIINVTPGSNITNVNIGNXXNRGZIXGXKFNDTNXNGIXBPGEXGLABXTLYLDLNXNXXLDXGEPXTITXXXGXYSFZDLPPNXYXIREXQXXXFXQTTXDPXXBVXPGSNIXBVNIGNXXELV"
       ]
      },
      {
       "output_type": "stream",
       "stream": "stdout",
       "text": [
        "\n",
        "Tery_3084:\n",
        "27118-, to 10774+, 3 nodes (90.88% id)\n",
        "27118-, to 10775+, 3 nodes (90.88% id)\n",
        "27118-, to 27003+, 3 nodes (90.81% id)\n",
        "27118-, to 27002+, 3 nodes (90.81% id)\n",
        "LPAQQIKQILQSPNTSHFQGKRDYAILRLLWDNALRRSEVVAIDIGDISLRERTIWIKGKGRQDKARITINHRTVAALKDYLLVRKGSKNDPLFISLSSANRGNRLADDTVYNLVKRTCSELGIEKPMSPHKIRHSAITHCLDKSNGDIRKVQQYSRHKNVQTVLVYDDNRRDYQGQMTDLMGEDF"
       ]
      },
      {
       "output_type": "stream",
       "stream": "stdout",
       "text": [
        "\n",
        "Tery_3143:\n",
        "11013-, to 15846+, 3 nodes (85.09% id)\n",
        "11013-, to 10985-, 3 nodes (85.09% id)\n",
        "IMKLKHLINLHKANTFIFVLAIMIAYQNFTLGPWVYLALHGTYGILWLLKDRIYPDKQWEQKIPILQGIILFVVVCLYWVAPYILISSGTEPPIPLVAAAISLNIFGIFFHYSSDAQKYYTLKYRPGLITEGFFARCRNTNYLGEIFIYLSFAMLAQHWLPYLILGGFFALIFIPNMLKKDKSLSRHLEFTEYKANSGLIIPQLWGDNSLNQEAQKVSE"
       ]
      },
      {
       "output_type": "stream",
       "stream": "stdout",
       "text": [
        "\n",
        "Tery_3161:\n",
        "4087-, to 4086+, 2 nodes (88.89% id)\n",
        "4087-, to 4085+, 2 nodes (88.89% id)\n",
        "MKIPVSKINWTVPRLAITIGDPGGIGPEIVMKALADPRVTENCDLTIVGSRQILQETYQKLSLEKLVYWENLKILDVEFDGKLEDIFLGKGNAVSGEASFCYMETAIAQTLTGEFHGIVTAPISKTCWQTAGHEYPGQTELLAEKAGVKKFGMLFVAHSPHSNFVLRSLLATTHIPLCQVPVTLTPELMSWKLELLVESLQKDFGISRPKIAVAGLNPHSGENGQLGTEEKDWLISWLDKESDRRPNIRLYGPVPPDTMWVKPSQAWLGLQALTYDAYLALYHDQGLIPIKLMAFDLAVNTTIGLPFVRTSPDHGTAFDIAGQGIADATSMKAAIQLGKELVLQRI"
       ]
      },
      {
       "output_type": "stream",
       "stream": "stdout",
       "text": [
        "\n",
        "Tery_3174:\n",
        "22968-, to 22966+, 2 nodes (90.05% id)\n",
        "22968-, to 22967+, 2 nodes (90.05% id)\n",
        "MKIGIPKEIKDQEFRVGLTPASVRVCAEAGHQVFIETEAGLGAGFSDSDYLQAGGHISSDTGEVWNCEMIVKVKEPLSSEYQFLKSEQLLFTYLHLAADRKLTERLIESGVMAIAYETVELSDQRLPLLTPMSIIAGRLSVQFGARFLESQQGGRGVLLGGVPGVSPGQVVILGGGIVGTEAAKIAVGLGARVQILDINLERLAYLETVFGSRVELLYSSSSSIEAVVADCDLLVGAILVPGRRSPVLIPKSLVEQMRSGSVIIDVAVDQGGCVETLRPTTHTNPTYLELGVVHYGVPNIPGAVPWTATQALNNSTLPYVLQLAKYGHKALEMNPALAKGLNVKNHVLVHPAVREVFPDL"
       ]
      },
      {
       "output_type": "stream",
       "stream": "stdout",
       "text": [
        "\n",
        "Tery_3175:\n",
        "8652+, to 20526+, 2 nodes (78.43% id)\n",
        "20527-, to 20526+, 2 nodes (79.41% id)\n",
        "MPYSLDFRQKVINFIENGXKITKAAHTFGIGRASIYRWLSRPTLEATKVKIRQRKLDWKEL\n",
        "Tery_3177:\n",
        "22968+, to 3279-, 5 nodes (89.35% id)\n",
        "22968+, to 3279-, 5 nodes (89.35% id)\n",
        "22968+, to 3279-, 5 nodes (89.03% id)\n",
        "22968+, to 3279-, 5 nodes (89.03% id)\n",
        "MPLRKELAINQQLNSIAETDNPKLSPLNQSILKICGPSRLQGNVNISGAKNSALPAMAATLLSSGVCRLRQIPCLADINIMGQVLSALGVKIKHNTNTFTLDIDASIIDNAEAPYELVRQLRASFFAIGPILARLGVARIPLPGGCAIGTRPVDLHVRGLQALGAEVHIEHGMVNAYISSSKKRLQGAKIHLDYPSVGATETLMMAATLAEGETIIENAAQEPEVEDLANLCIAMGANIFGAGTKTIVISGVPKLHSVDYTIIPDRIEAGTFLIAGAITNSEISISPVVPKHLSAVISKLQSVGAKVIQKTXDSLHILPSEILKXTDIETQPYPGFPTDMQAPFMALLSVCSGSSYVRETVFENRMRHVSELNRMGANIKVKGSHAFVQGVPKLSAAPVIGTDLRASAALILAALAAEGETTFQGLQHLTRGYERLEIKLQKLGAKFQRVDLVEEDDILGTPI"
       ]
      },
      {
       "output_type": "stream",
       "stream": "stdout",
       "text": [
        "\n",
        "Tery_3218:\n",
        "31409+, to 27714-, 4 nodes (85.24% id)\n",
        "31409+, to 16533-, 4 nodes (85.24% id)\n",
        "31409+, to 32229-, 3 nodes (85.36% id)\n",
        "MKISRYFYRINSTNIPSKKRLTRNREKEIYLSGKYTNNLACLFNISTQDLKQNIWSVLGILLGLWISGCAAPPSNIFDEGEDKPLVISTSTIIADMTEKIGGDEIEHNGIMEPGADPHIYEPVPADSVAFEKADLIIYNGYNLEPALIKLINSTGVKAQKLAVGEKVTPLQNQDREDLEPDPHVWGDAENGIVMVTGIRDALIELSPEDKEIFTENANRLVEELRQVDIWIRKQIGTIPEGQRRLVTTHDAFEYYAKAYGLEMTGTLIGMSTEEQPSAQTLKNLVEEIKKTGVPAIFAETTINPKLITTVAZEAGVKLAPRELYSDSIGAPGSEGDSYTKMLVSNTQTIVEALGGEYTAFKLQITELLEKQ"
       ]
      },
      {
       "output_type": "stream",
       "stream": "stdout",
       "text": [
        "\n",
        "Tery_3222:\n",
        "17030-, to 1604-, 2 nodes (93.32% id)\n",
        "17030-, to 17029+, 2 nodes (93.08% id)\n",
        "MAQSVILHLESVSKQFSRSTTPAVQNVNLTLHQGDILGLLGPSGCGKTTLLRIIAGFEEPHSGIVTINGRVVAGKHDWIVPEKRNVGMVFQDYALFPHLTVAKNIAFGLNNSGKKSSTQINHQVRDVLELVGLSGLENRYPHELSGGQQQRVALARALAPNPALVLLDEPLSNLDVQVRIRLRQELRDILKNAGASGILVTHDQEEAMAISEFVAVMRGGAVEQFGTPKEIYTEPVSKFVAEFVTQANFLPAHRHDQVWETEVGAFELTNDNVFRGKIDSLDQFDRLELMIRQEDLILEADNEGCIVIRDRQFLGREFRYCLQTESGKELIARTTPQVVLKIGVKVKVSIAEDNLRVFPAIAEEXSXKSSDLVGSRNF"
       ]
      },
      {
       "output_type": "stream",
       "stream": "stdout",
       "text": [
        "\n",
        "Tery_3223:\n",
        "17030+, to 17241-, 2 nodes (94.63% id)\n",
        "17030+, to 33750+, 2 nodes (94.63% id)\n",
        "MLNQIKKIRRLNWNAWTIFVVAIASLISAPVIFVLSSIFSDTGEIWSHLASTVLPRYLLNSFILMLGVGCGVSVIGVGAAWLVTMCRFPGSRIFEWAMLLPLATPAYILAYTYTELLEFYGPVQMWLREIFGWTSVSDYWFPQIRSLGGAIALLTLTLYPYVYLLTRVAFLEQSTCTLEASRSLGANPWRSFFTIALPLARPAIMAGLALALMETLNDFGTVQYFGVDTFTTGIYRTWFGMGERVAAAQLAAVLLLFILWLILLELWSRRQAKYYQTTSQQQQLKRFPLDGIRGIATSFACLFPVFLGFLLPAGLLLEMTITESGASFRGRFWDYASHSLTLAGITAVLGVAIALLMAYGVRLNPNWGMGVSTRIAAMGYAIPGSVIAVGILIPIGTIDNAIDSFMRSMFGISTGLLLSGTMTALVFAYLVRFMAVAFGAVESSLVKIKPSLDDASRSLGYGVTKTLIKVHVPMMWGGLLTGAMLTFVDVMKELPATMVIRPFNFDTLAIRVYNLAADERLSEAAGPALAIVLVGIIPVIILSLKIAKSRQYQDY"
       ]
      },
      {
       "output_type": "stream",
       "stream": "stdout",
       "text": [
        "\n",
        "Tery_3229:\n",
        "32762+, to 32804-, 3 nodes (90.18% id)\n",
        "32762+, to 32804-, 3 nodes (89.78% id)\n",
        "MALTINKLFDEQFYLETNPEVAGAVANNIISDGFFHFIRFGQFEGRDPSGIFNTNFYLTTNPGVATAVEQNLLTPTEHFINFGQFEPRDPSALLNTSFYLERYPDLAEIVVTTPLTATEHFLNFGQFEGRLPRLLFRDIYVFGDSLSDTGNLLATAENVLGATDEFVLQFFAPYFEGRLSNGPVWVETLAPQLELTSDPNLNFAVSGATTGIXNXXNNXLPEGTPPIFIGLQTQIDEFIAETPTTDPDALYVVWAGANDYLGGZNLDVQSTVDNLLGAVNKLADTGAKNFVLPNLPDLGMXPFAQTLLPEQQQRLSLLTESHNNTLAXASQILEQNPNINIVNLDJETXFDNXIANPDDFTLTNVXDNFLTSGLDDPSGFLFFDDIHPTTTVHSLIANEAMKSITQIPELLSILETSL"
       ]
      },
      {
       "output_type": "stream",
       "stream": "stdout",
       "text": [
        "\n",
        "Tery_3240:\n",
        "24942+, to 27476-, 2 nodes (80.80% id)\n",
        "24942+, to 21223-, 2 nodes (80.80% id)\n",
        "MNTQLTERAKQLIPKARIVSFKGWEEVLPTEIIQSFQAADDEGRYLTQKDLNFLKSGSQLPIFSIDAASFLGEYAAEIVDEAREKVLATYPNITAEGGDLYPRVRAEACWRDFWHFLRCITYGVAGNNTNFTSQEGLYNMNLLYQELLVPLSAMVCGLEAIKTASLKRFSPEQQAELVPYFDHLLIKLKEFS"
       ]
      },
      {
       "output_type": "stream",
       "stream": "stdout",
       "text": [
        "\n",
        "Tery_3254:\n",
        "7043-, to 7044+, 2 nodes (78.59% id)\n",
        "7043-, to 7045+, 2 nodes (78.59% id)\n",
        "MSNPGKNFLYTLPIALKQGLRHPKRKLLLLGLIPLSITTLGIKQELVEAQEAKITNQQTAYINNWQNASFPVENFQGYTSPFGPRGRGFHYGLDLAAPKGSYIRNWWTGKVVEVWEDGRCGTGIVIQSGSWEHVYCHVQGRVETRSGRRYLIDRGGGIMLPQGQVFPAGSRIARVGMTGRTSGPHLHWGLKYGGRWVDPALILREMYTQQTRQLSRSENRYMVTYNSEVVSN"
       ]
      },
      {
       "output_type": "stream",
       "stream": "stdout",
       "text": [
        "\n",
        "Tery_3262:\n",
        "13254-, to 4952-, 10 nodes (79.23% id)\n",
        "13254-, to 738+, 10 nodes (78.72% id)\n",
        "13254-, to 738+, 9 nodes (78.42% id)\n",
        "SVATSLNNLAGLYQVQGRYTEAEPLFIQALEMYKKLLGAEHPSVATSLNNLAFLYNAKGRYIEAEPFFIKALEMYRKLLGVEHPDVATSLNNLAELYQVQGRYTEAEPLYIQALDMRKKLLGAEHPSVASSLNNLAELYQVQGRYTEVEPLFKQALEMRKKLLGAEHPSVTSFLNNLAGLYRAQGRYTEAEPLYIQALDMRKKLLGSEHPDVATSLNNLAALYNAQGRYTEAEPLYIQALDMRKKLLGSEHPDVATSLNNLALLYSDQGNIATAVQYLKRDLEIEEKNLTYNLAAGAEPQKNKYLKTISGVKGLAISLHLQTAPNNPAATTLAFTTIILRRKGRLLQFFTTSRQILRQQLDPQGLQWLDELDNIHSQLSTLLYNRPENLPLETYKENFAFLEQQAKELEDKIGRRSSEFRAATQPVTLEAIQELIPVNAALVEFVQYSPFDPKTGTFGEPRYGVYVLGAEGEPQGVDLGTVEEIESAIPYFRFSLRDKYTPLKQLQEAARELDRKLMEPIRKLLGSQKQILISPDGNLNLIPFEALVDENNRFLVENYXFTYLSSGRDLLTFTSTSRNTSPAVLLGDPKYDETGKVAIKPQRSFDDASELVFPRLKGSGEEVKAIGELLGVEPLLRAEATEAAVKQVKNPFILHIATHGLFRTDGDPEKYPTINKDSLLRSSLXXAGVKEEKIDGDNGLLTALEAAGLNLLGTELVVLSACDTGLGGISPGEGVYGLRRAFAIAGSQSQVISLWKVDDQGTKDLMVKYYQRLLXGKIGRTEALRQTQLEMLRGEAGEKYTHPYFWASFIPSGNWLPIPSR"
       ]
      },
      {
       "output_type": "stream",
       "stream": "stdout",
       "text": [
        "\n",
        "Tery_3278:\n",
        "459-, to 461+, 2 nodes (92.81% id)\n",
        "459-, to 460+, 2 nodes (92.81% id)\n",
        "MVEEKDVIVIGSGIGGLVAGAMLAYYDKKVIICESHSIPGGAAHSFSRQGFHFDSGPSFYCGLADPNSLNPLQKVLNILGESIETFVYSPLGYYHFPEGSLPVYGHRTSYLEAIAKFTTQGTKELKLFQDNLLRLYAGLKEIPPIALRADFWLIPILLGKYGLSLLKMLPSLGDIGGSVGQIMDKWVKDPWIRRLIDLECFLLSGLKAYGTVAPEMAFMFGERSNSVIEYPIGGSSAIVNALVRGLERWGGQLRLNTHVEQILIESGKVVGVRLRGDEVIKAPIVISNATIWDTYTGLLRPEDLPTSFREPALATPAVESFMHLHLGIRSDGLEGLSGHHVVVLDGDIDIAVPGNTCMISIPSVWDSSLAPSGHHVVHAYTLESFSGWQKDESYPQRKREKAESLFLALERVIPDIRQRITLELIGTPLTHARFLRRYQGTYGPAIVAGKGSFPGPQTPIPGLYRVGDSTMPGIGVPAVAASGVICANTLVSFNYLKLLGQL"
       ]
      },
      {
       "output_type": "stream",
       "stream": "stdout",
       "text": [
        "\n",
        "Tery_3282:\n",
        "32470-, to 25030-, 2 nodes (91.84% id)\n",
        "32470-, to 26216-, 2 nodes (91.63% id)\n",
        "LANVIVIGAQWGDEGKGKITDLLSKSADLVVRYQGGVNAGHTVVVEGQTFKLHLIPSGILYPDTECIIGSGTVIDPKVVIEELDQVEALGISTANLMISEAAHVTMPYHRIIDKASEERRGNQKIGTTGRGIGPTYADKSERTGIRMIDLRNPDXLREQIHWTVNYKNVILEKLYNLSPLDPEEVVDEYLGFADRLRPHIXDASLSIYNAIQERRNILFEGAQGTLLDLDHGTYPYVTSSNPVAGGACVGTGVGPTMIDRVIGVAKAYTTRVGEGPFPTEXKDEIGELLCDRGXEFGTTTGRKRRCGWFDAVIGRYAVRINGMDCMAITKLDVLDBLTEIKVCVAYDMEGKRCEDFPNSSXQLAKCQPIYXTLPGWKESTXDCRXLEDLPQQALDYLRFLAELMNVPIAIVSLGASRHQTIVVEDPIHGPKRGLLYS"
       ]
      },
      {
       "output_type": "stream",
       "stream": "stdout",
       "text": [
        "\n",
        "Tery_3298:\n",
        "24675+, to 28509+, 2 nodes (91.68% id)\n",
        "24675+, to 13241-, 2 nodes (91.25% id)\n",
        "MTKVIGLISGTSVDGIDAALVNVTGTQTNLTVQLLASSTYPYPENLRSQILDVCSGAPLSIAELAELNDTIAQEFATAALTINKKYAVNAELIGSHGQTVYHRPPSQQLGYSLQLGRGEVIANLTGIPTISNFRTADIAAGGQGAPLVPCVDVHLLSHQTYTRCVQNLGGIGNVTYLKNQLFWGSENSTPPSPLYMGKVKDQKTEELVTTLASPQGVLGWDTGPSNTLLDLAVQQLSQGSKTYDKNGEWAASGRPCQELVETWLKQDFFQQKPPKSTGRELFGKDYLFKCFSDGEKYNLSAADILATLTELTAASINHSYRNFLPNLPDQILLCGGGSHNLYLKKRIENLLAPIPVMTTAEVGVDVDFKEAIAFAILAYWRSLEIPCNLPEVTGAKAQVMLGEIHZPITRNKGVAX"
       ]
      },
      {
       "output_type": "stream",
       "stream": "stdout",
       "text": [
        "\n",
        "Tery_3317:\n",
        "13426+, to 29519+, 2 nodes (80.04% id)\n",
        "13427+, to 29519+, 2 nodes (79.65% id)\n",
        "MKCPTCGSTSLXKNGRPNXRQRYRCKDCGRQFMVQLPTSNIEQEISVNQSELEALAEAPRVGIAILLLDAENLKIDVNTEQFLANISEYSLQVKIAFANWKSSSLSKSDLELFERGYQLIHVPEGKNSADAQMMSMGATIGKQYYDAKAVFVCSSDWLLTHLCNSLQNQGLIVYRVKRQPDNILTVENRNTLEVRHYSLKMATEIPQLEEFVAQIKELLQAENESISQRKSELSIIASLLEKRCKISLDRESKQILSKVFSEEVEILETQNIATELAENEENIQSNTVYLPEINSRAEFEQEVIKIISNIPLKKNKTFVDLELVDKNFMAIFGDDMGQVLKDLKINNDLENFFRFSPKFRAKKKVRSKEYQVAIAENVKILNSQIISSPEQLEKALVNIIKILAVHEPYGYIYISNIGTEFKKKYNHSITTILKQLKLSGKFLDFLKNSSCFNIKKVGKRYQVAIANN"
       ]
      },
      {
       "output_type": "stream",
       "stream": "stdout",
       "text": [
        "\n",
        "Tery_3326:\n",
        "29519+, to 28057-, 2 nodes (95.97% id)\n",
        "29519+, to 28056-, 2 nodes (95.30% id)\n",
        "MGIIYIGDRETGKTSLALELANPSSNNFVKVISPPYNELKALLWDDVEGRTRATDGREATYDRTLEIEVFLSTRRKTIYTDWVDTPGEIWRGSWQKNNPDKWAKFVETAHSSQGVILVVPPYREIIGQGMGSNPDEFITQQQWVRRFDSWVSFFRYECPNVKHIALCLNKVDLLQGIBLKQEAXKLAFHPHXSRMNWNZRNDYIFKRFFRPLRSHIAQLNXYTSXLTVRCFITSIYNRELLELPWIYLGIYLKSDX"
       ]
      },
      {
       "output_type": "stream",
       "stream": "stdout",
       "text": [
        "\n",
        "Tery_3327:\n",
        "28057-, to 28058+, 2 nodes (83.12% id)\n",
        "28056-, to 28058+, 2 nodes (81.85% id)\n",
        "MGNICIIGPRASGKTTYLAGLXYYSEYGGSXSKYTVSPXGXESRELKEKAEBTILNGLSFDPTNXZVQTVDDLACYSFTIEVKXGLFQPRSVIZLNVRDYPGEIFENILYASESDSIHEEFINECLMSDIDGCLLLFTEWESNKDDFYSKLMSRFLEKIDEHGRIHNYRLAVVMSKCERGEIWPGRVDPETDLFGVYLKKTLKTLKKDIPKQNLRFFALSTFGVLGPYDPRPNRDDARGSGGRASTLRKRASWKPYNLIEPLCWLNKGGER"
       ]
      },
      {
       "output_type": "stream",
       "stream": "stdout",
       "text": [
        "\n",
        "Tery_3328:\n",
        "29758+, to 15245-, 2 nodes (94.17% id)\n",
        "29758+, to 32004-, 2 nodes (94.46% id)\n",
        "MVLFGKQKKLKSDSLPKALGNDSLLRIIGDRGSGKTAYLASLAYWPNANPESPVKSITPIGEEAEELIDKAREILEQGLELEATDLNADINEVKDYSLSINLKDRFSWLEGSKKSVQLNISCKDYSGEFFSDLIYKKGDPKLEDYLGDCCLATGLLMLVDGTSHRKDKEFAMGMEKLLMEIDRSEMEMQHRRIALVLSKCEQLELWVNRHRPRKVAXRFPKLXAQLEXWSXXGGGTVEYFTTSAFGILGXQYPEPNSMRLXRSRDGTTSVIKXPKLWRPFGLVSPIYWLCTGKRHSELDRD"
       ]
      },
      {
       "output_type": "stream",
       "stream": "stdout",
       "text": [
        "\n",
        "Tery_3330:\n",
        "5607+, to 15465+, 2 nodes (88.43% id)\n",
        "5607+, to 33529-, 3 nodes (82.07% id)\n",
        "2100+, to 33529-, 2 nodes (81.99% id)\n",
        "MKPYFYILXXITSALLGWNIGQLFLSDFGLFDFLAKIGIFPEIILFPCIAISLAMGSIXNEIFLSNPTRPKISLRXLXAPLFIAFIIGXJXGLXXGGIYQIXLXPZIAVXPFIVRVCGWLIVGAXVGXAEGXSWRWXSJXAGNPKYFRXRLXLSIFXASXASLIAAXXFELLRXVXGTMPAXXKXYEDPXGFAILGXCLGIAFSITNFTPSYXPALRAGSGFEYSGYDDNDKIEEYXBXDXRRTVLXXXYPRIBSSXLKFISYRSXYEYXDNXKIEEGLSMELPDQGXIXIGSAXKAXICLPXLPLHXADIXIXGKXAVLXPNXXXFDXVAINGTXLSXXRXIXLKHNYVLTFYTBXQDDNIEVPEXYRMVFYNRFFDPMA"
       ]
      },
      {
       "output_type": "stream",
       "stream": "stdout",
       "text": [
        "\n",
        "Tery_3332:\n",
        "13566+, to 22059+, 7 nodes (91.10% id)\n",
        "13566+, to 22059+, 7 nodes (91.10% id)\n",
        "13566+, to 22059+, 7 nodes (91.10% id)\n",
        "13566+, to 22059+, 7 nodes (91.10% id)\n",
        "15465+, to 22059+, 7 nodes (91.10% id)\n",
        "15465+, to 22059+, 7 nodes (91.10% id)\n",
        "15465+, to 22059+, 7 nodes (91.10% id)\n",
        "15465+, to 22059+, 7 nodes (91.10% id)\n",
        "26322-, to 22059+, 6 nodes (91.14% id)\n",
        "26322-, to 22059+, 6 nodes (91.14% id)\n",
        "26322-, to 22059+, 6 nodes (91.14% id)\n",
        "26322-, to 22059+, 6 nodes (91.14% id)\n",
        "MNXQNLTQKLPKPILFGIFGGLGCLJAAAIFGEMWLSLTRRPPQPQTVVLLMDTSSSMSGGKLPEVQAAATGFVDRQNLTVNNLAIVEFADNSQVLTNFDADKTELKQAIANLTPSGGTNLSQGLKTVASLLQNSNTPNILLFTDGQPNNPRASESIARQIRDTGINLVTVGTGDANSNYLTSLTGNPDLVFFANSGEIDQAFRAAEKAISQLSDTSGDYGLIFGIFRIGAWSGFLALGIGLALIVGQNYNLRRRLLSSREVALGSGGGFLAGVIGGAIGQLALLPTINLPTLAIVARMTGWTFLGTLVGGGTSLFVPNLPRGKAFVAGGLGGVLGATCFLLLNAVVGVIPARLVGAGILGFCIGLAIAFSEQLDQEVVLLVRWNNSESTTISLGKEPIELGSSRNAHIYLSRDAGFPVKFAKIYIQEGKILLEFDPSIQKLPKFQNMKILKQELSDGSNRKFGDVLLEIKQKNILK"
       ]
      },
      {
       "output_type": "stream",
       "stream": "stdout",
       "text": [
        "\n",
        "Tery_3334:\n",
        "22059+, to 30365-, 2 nodes (95.21% id)\n",
        "22059+, to 30364-, 2 nodes (95.21% id)\n",
        "MLDVTITPHREFLTADTPGQKLFVMLKLRPNAVVSASRPSTTFTFVIDTSGSMYDDSEVGRPKIDVVVEALDRLVTDIQADPRDRIALVQFDDSASVVLPLTAATDTVTLQNAISKLRNFSGGTRMALGIEKSLKLLQDSVLSSRRTLIFTDGQTIDETDCRELAVQFAKAGIPITALGVGDYNEDLLVYLSDNTGGRVFNVVETASNTGTTDIAISELPQTIFQEVQQAQAEVVNNLKLSVRTVKGVDLQKLSRVYPDRADIPVTQEPYLIGSALANDDTIFILDFNIDSRAQSRVRIAQLGLTYDIPGQQRRGELPPQNLVIQLVAGQGGMAQTNPEVMGYVQQCNIGQLVDNAAAVADSNPDEAAKLLETAKRVTVKIGNEAMLKTLNLGIEEVRKTRKLSSGTRKTVKMGAKGKTIKMNDSPNDQLSEEQIRNMTGT"
       ]
      },
      {
       "output_type": "stream",
       "stream": "stdout",
       "text": [
        "\n",
        "Tery_3342:\n",
        "12481+, to 32896+, 4 nodes (95.39% id)\n",
        "12481+, to 32896+, 5 nodes (95.38% id)\n",
        "12481+, to 32896+, 4 nodes (95.27% id)\n",
        "MITQILPIIKDFERLENRLKEIPQTPGIYLMRDSSERILYIGKSKKLRNRVRSYFRDGKNHTHRISLMIQQIVDIEFIVTDTEAEALALEANLIKQHQPYFNVLLKDDKKYPYLCITWSEDYPRIFITRKRRLGKARDRYYGPYVDTALLRNTLHLVKRIFPLRQRPKPLFKDRSCLNYDIGRCPGVCQELITPEEYHKIVQRVAMIFQGRTGELIDILNTQMEKEAEMLNFEKSAVIRDQIRGLNSLNADQKVSLPDDRVSRDAIALAGNHQIACIQLFQIRAGKLVGRLGFIAEIPDFKMAENQELGTILQRVLESHYQIVESVEIPTEIIVQNELPEGEFLQIWLTEKKGKKVEIFVPQRQGKAELVEMVRKNAEYELLRLAKMSDRNNEAMTDLAEILDLPELPHRIEGYDISHIQGSDAVASRVVFIDGLPAKQHYRHYKIKNPEVRSGHSDDFASMAEVMGRRFRDYEKQPTTEKPDLIMIDGGKGQLSAVVAVMEEMNMLEEVRVVSLAKQREXIFLPGESQPLTTDAEQPGVQLLRRLRDEAHRFAVSFHRDKRSQRMKRSRLDEIPGLGQHRQKLLLGHFHSVDYIRMATVEQLAEVSGVGPKLAQQIYDYFH"
       ]
      },
      {
       "output_type": "stream",
       "stream": "stdout",
       "text": [
        "\n",
        "Tery_3352:\n",
        "1091-, to 1093+, 2 nodes (83.18% id)\n",
        "1092-, to 1093+, 2 nodes (82.87% id)\n",
        "EFNQQKFINXLSNIQGGRISHXSTPLSVNHLHIFSSLPSTNQTLWQLIDSGAXPGTIVLATQQTAGRGQWGRNWRSSIGGLYMSVAFSKGCGCTRVPKISISQTPQLTLSTAWGIASGLQNHGVPVKIKWPNDLILENRKLGGILTETRVKKEKIAWAVIGVGVNWANSVPDIGINLQSYYRNQSKPEISSLEMLAAIVFHGLDSGIRQLLYSGIENILSGYNQLLINMGQQVLVEDRLGEVVGVTNSGELKVKINQGLPTPKSQSQILPSEIYLKPGTISLGY"
       ]
      },
      {
       "output_type": "stream",
       "stream": "stdout",
       "text": [
        "\n",
        "Tery_3376:\n",
        "33941+, to 26684+, 4 nodes (93.28% id)\n",
        "33941+, to 26684+, 4 nodes (93.28% id)\n",
        "33940+, to 26684+, 4 nodes (93.28% id)\n",
        "33940+, to 26684+, 4 nodes (93.28% id)\n",
        "VTKKTLASLSAPDLSGKKVLMRADFNVPVDHGSITDDTRIRAAIPTIQDLIDKGAKVILTSHFGRPKGKVNESMRLTLVGERLSEVLGKEVKKCDDCIGKEVTSTVTAMKDGDVVLLENVRFYPGEEGNDPEFAKQLASVADIYVNDAFGTAHRAHASTEGVTRYLSPSVGGYLIEKELKFLQGAIDNPQKPLAAIIGGSKVSSKIGVIEALLDKCDKLLLGGGMIFTFYKARGLSVGKSLVENDKIELAKSLEAKAKEKGVTMLLPTDVVIADKFDPEANTQTVSIEAIPDGWMGLDIGPKSAKVFQDALADCKTVIWNGPMGVFEMEKFAKGTEAIAHTLADKQDSITIIGGGDSVAAVEKLGLGEKMSHISTGGGASLELLEGKNLPGIVALDE"
       ]
      },
      {
       "output_type": "stream",
       "stream": "stdout",
       "text": [
        "\n",
        "Tery_3382:\n",
        "29346-, to 28007+, 3 nodes (89.21% id)\n",
        "29346-, to 29345+, 2 nodes (89.40% id)\n",
        "NLQVRFKTEEGKLLLLLPPEFNHGEIESPIAMTWTEIWQQLKQRLKAGEKFWQPXTEVELIAFDRLLDTRQLQEIAEALLEVELKLKRVSTSRRQTAVAAATVGYSVEQKSAKSXLSPTSTEKVQPLAEPLYLQMTVRSGVEIRHPGTIIILGDLNPGGSVIADGDILVWGRLRGVVHAGAKGNSRSVIMTLQMEPTLIRIANQVARGPEKVPVQFYPEVAYILXQGIRISRTKDFAKIYR"
       ]
      },
      {
       "output_type": "stream",
       "stream": "stdout",
       "text": [
        "\n",
        "Tery_3387:\n",
        "16973+, to 17583-, 2 nodes (82.27% id)\n",
        "16973+, to 17584-, 2 nodes (82.27% id)\n",
        "MNNNIAHRLEQYTIKRPSQVLIVKIVIDEHSDEIVIFKGFSSSLMRPTAFNPDIPVLPETARIVSVDILASPYNPEAPTYIRQGLTREQMQSLLIEXGL\n",
        "Tery_3398:\n",
        "22443-, to 27634+, 9 nodes (94.10% id)\n",
        "22443-, to 27635+, 9 nodes (94.10% id)\n",
        "27634+, to 27634+, 8 nodes (94.34% id)\n",
        "27634+, to 27635+, 8 nodes (94.34% id)\n",
        "22443-, to 27634+, 8 nodes (93.71% id)\n",
        "22443-, to 27635+, 8 nodes (93.71% id)\n",
        "22443-, to 27634+, 7 nodes (94.11% id)\n",
        "22443-, to 27635+, 7 nodes (94.11% id)\n",
        "27634+, to 27634+, 6 nodes (94.38% id)\n",
        "27634+, to 27635+, 6 nodes (94.38% id)\n",
        "22443-, to 27634+, 6 nodes (93.66% id)\n",
        "22443-, to 27635+, 6 nodes (93.66% id)\n",
        "VKLNQDXKPHKELNQXLFLITAKZNXTDFDXLIDYLNNHQDEVESALXNYGAVAIRGYEVKTPEQFQQVGLXIFPXLXNQXXGGAPRHQVTEYVWTASELPSYLTISGHTELSXSPSNQPDYILFFCPXVAXSGGETPVIDMKSVLSDLPEQLQQKCSHTRFVTKFYWVNTQKRLFDVRLWKWPWFRFPKSWKAVFNTEDKSLVEAKCFETGRQTEWFANDDLIACCPMEIVTSHPMTSETLWNGWFPRFHIWGTSIEASFVAKSQGSFRSWLVFLILFLITFGQICVEKIIPQQRKYRYLDVVFEDGSDLSFWDVYHIVKSYWKNAELFSWQEGDIVILDNYRMGHGRLPFTGERKVYIAF"
       ]
      },
      {
       "output_type": "stream",
       "stream": "stdout",
       "text": [
        "\n",
        "Tery_3399:\n",
        "22443-, to 27634+, 9 nodes (83.02% id)\n",
        "22443-, to 27635+, 9 nodes (83.02% id)\n",
        "27634+, to 27634+, 8 nodes (82.87% id)\n",
        "27634+, to 27635+, 8 nodes (82.87% id)\n",
        "22443-, to 27634+, 8 nodes (82.39% id)\n",
        "22443-, to 27635+, 8 nodes (82.39% id)\n",
        "22443-, to 27634+, 7 nodes (82.82% id)\n",
        "22443-, to 27635+, 7 nodes (82.82% id)\n",
        "27634+, to 27634+, 6 nodes (82.63% id)\n",
        "27634+, to 27635+, 6 nodes (82.63% id)\n",
        "22443-, to 27634+, 6 nodes (82.07% id)\n",
        "22443-, to 27635+, 6 nodes (82.07% id)\n",
        "VKLNQDXKPHKELNQXLFLITAKZNXTDFDXLIDYLNNHQDEVESALXNYGAVAIRGYEVKTPEQFQQVGLXIFPXLXNQXXGGAPRHQVTEYVWTASELPSYLTISGHTELSXSPSNQPDYILFFCPXVAXSGGETPVIDMKSVLSDLPEQLQQKCSHTRFVTKFYWVNTQKRLFDVRLWKWPWFRFPKSWKAVFNTEDKSLVEAKCFETGRQTEWFANDDLIACCPMEIVTSHPMTSETLWNGWFPRFHIWGTSIEASFVAKSQGSFRSWLVFLILFLITFGQICVEKIIPQQRKYRYLDVVFEDGSDLSFWDVYHIVKSYWKNAELFSWQEGDIVILDNYRMGHGRLPFTGERKVYIAF"
       ]
      },
      {
       "output_type": "stream",
       "stream": "stdout",
       "text": [
        "\n",
        "Tery_3406:\n",
        "22443+, to 3042+, 5 nodes (95.95% id)\n",
        "22443+, to 3042+, 5 nodes (95.94% id)\n",
        "22443+, to 3042+, 5 nodes (95.75% id)\n",
        "22443+, to 3042+, 5 nodes (95.28% id)\n",
        "MSAEVWTFILVTVSFMGYLYIGWRSRVQDSKGFFVADQGVPAIANGAATGADWMSAASFISMAGLISFLGYDGSIYLMGWTGGYVLLALLLAPYLRKFGKYTVPDFVGDRYYSNVARIVAVIAAIFVSMTYVAGQMRGVGIVFSRFLQVDIGTGVLIGMIIVAFFAILGGMKGITWTQVAQYTVLIIAYLIPAIAIATVITGIPIPQFAFTFSDIVEKLNQVQLDLGFAEYTAAFTNKTMLDVLFITIALMVGTAGLPHVIVRFYTVPDVRAARYSAGWALLFIAILYTTAPALATFARYNLIDSLHNKTVEEVQQLDWATKWEKTGLLEFRDKNNDDRFQITPDQETNEIKIDRDIIVLSTPEVAKLAPWVVALVAAGGLAAALSTASGLLLVISSSIAHDVYYRMIDPGASESRRLMVGRIMVGFSIAIAGYFGVNPPGFVAQVVAFAFGLAAASFFPVIILGVFDKRTNREGAIAGMVVGLLFTTIYIVGVKFVGMPTWFFGVSAEGIGTVGMVLNFVVTFIVSRMTPPPPLEIQEMVEDLRSPLAVPVPISHIGES"
       ]
      },
      {
       "output_type": "stream",
       "stream": "stdout",
       "text": [
        "\n",
        "Tery_3407:\n",
        "13916-, to 13915+, 2 nodes (91.64% id)\n",
        "13916-, to 13914+, 2 nodes (91.25% id)\n",
        "MSIILAKNLSKVYPVAIKEPGIKGTLRHFIRRQYQYLKAVENISFEINPGEIVGFLGPNGAGKTTTLKMLTGLIHPSNGMVKVADNIPFERKREFLQQITLVMGQKQQLIWDLPVLDSLKINAAVYGVSDKEYRRRLMELTEMLSLEGKLKQPVRKLSLGERMKAELMAALLHQPQVLFLDEPTLGLDINAQVAVREFLREYNQRYQATVLLTSHYMADITALCKRVLLIYQGELIYDGSLDGLLDRFSPYREVQIELINPVPPDVDNFQKLLSNYGEVETLAGQAVRLLVRRENLTTTVAQILAELEVQDLTVTDPPIEEIIGRVFRSGLITKVK"
       ]
      },
      {
       "output_type": "stream",
       "stream": "stdout",
       "text": [
        "\n",
        "Tery_3424:\n",
        "7836+, to 4590-, 2 nodes (83.56% id)\n",
        "7836+, to 4589-, 2 nodes (83.56% id)\n",
        "MSKPPIHAFFLGRAIAEGIYEQLENDITNTLSGLGKFDAEQRENLRNFIGQVSEKADVQAKAGNNTGNSSIPLDLDYQPKDLQAIIDDLRYEVAQVREELKKYRN\n",
        "Tery_3441:\n",
        "33068-, to 6712-, 4 nodes (91.98% id)"
       ]
      },
      {
       "output_type": "stream",
       "stream": "stdout",
       "text": [
        "\n",
        "33068-, to 6712-, 4 nodes (91.88% id)\n",
        "33068-, to 6712-, 5 nodes (91.73% id)\n",
        "MTKSIPELPTKYNPFVTEAKWQKYWEQNNTFKADPNKLGDPYCIVIPPPNVTGSLHAGHAFNNSLIDALIRYHRMRGDNALYLPGTDHASIAVQTILESKLKAEGKTRYDIGREKFLERAWEWKGESGGTIVNQLRRLGVSTDWTRERFTLDEGLSKAVIEAFMRLYKQGLIYRGNYLVNWCPASQSAVSDLEVENKEVNGNLWHFRYPLTDGSGYVEVATTRPETMLGDTGVAVNPNDDRYKDIIGKTLSLPIMKREIPIIADELVDPEFGTGCVKVTPAHDPNDFEMGKRHNLPLINIMNKDGSLNENAGVYVGQDRFEARENVVKQLKEEGFLVKVEDYSHSVPYSDRGKVPIEPLLSTQWFVKIQPLAEKTLELLDRHNQPRFVPERWTKVYRDWLVKIKDWCISRQLWWGHQIPAWYAVSETNGEITENTPFVVAPLEAEALEXAKAKFGDDVKIQQDPDVLDTWFSSGLWPFSTLGWPENTPDLAKYYPTSTLSTGFDIIFFWVARMTMMGVHFTGKMPFETVYIHGLMLDENGKKQSKSAGNGIDPLLLIEKYGTDALRYTLMRETAGAGQDVRMDYNRETDESASVEASRNFTNKIWNAARFVMMKLGGKTPEELGEPQTDKLELVDCWIWSRFYQTVEQTCDYLDNYGLGEAAKGIYEFIWGDFCDWYLELVKSRLQGEDENSRLVAQQTLAYILDGILRLLHPFMPHITEEIWHTLNQVGEENCLALQSYPKLDKSLINSDLDHEFELLIGVIRSLRNLRAEADIKPKVKITAILQSENEKEREILRKGENYIQDLVKIEKLNITSNVDNTVGQTIAGVIGTVQVLIPLSGVVDIEALSARLNKKLEKLEKEVGSTKKRLSKPGFVNKADPKFVEETRHNLAEAEKQAEILRDRLNQLK*N"
       ]
      },
      {
       "output_type": "stream",
       "stream": "stdout",
       "text": [
        "\n",
        "Tery_3447:\n",
        "1624+, to 19259-, 4 nodes (74.71% id)\n",
        "1624+, to 29136+, 4 nodes (74.71% id)\n",
        "1624+, to 22312+, 3 nodes (75.29% id)\n",
        "12903-, to 22312+, 3 nodes (75.29% id)\n",
        "20556+, to 19259-, 5 nodes (74.68% id)\n",
        "20556+, to 29136+, 5 nodes (74.68% id)\n",
        "1625+, to 19259-, 5 nodes (74.68% id)\n",
        "1625+, to 29136+, 5 nodes (74.68% id)\n",
        "20556+, to 22312+, 4 nodes (75.32% id)\n",
        "1625+, to 22312+, 4 nodes (75.32% id)\n",
        "VKXILRQIRRKFGEITPEVQTQIEQLSLEKLDILGEEIFDLATXVDLENWL\n",
        "Tery_3450:\n",
        "33382+, to 19785-, 2 nodes (81.61% id)\n",
        "33383+, to 19785-, 2 nodes (81.11% id)\n",
        "MNQEQXXPISNQLPLITSQPILKKAILYKLDSYISGCGKLXLPCLPGMLDYYTNVLEKLFSHLGRPMSTKXQQQLRQMLERKLAEGYNVSANAMLVIZYELVKPPKKGMACQITIRTPSLGEHYDSWVDNRTPPLFGSHPDAKVLATVAEFEGNSTKILDIGGGTGRNALPLARMGHYVDVLELTRAFIEQLQKAIATENLSINVIKGDILDPLTRLQPNFYQLAIATEVISHFRNVDDLRLFLAKMSDVICSGGLLLFNLFLTANEYVPDELARDMSQLCWSSLFTSEELTIAMEGLPLVSVSNDLVIEYERQYLPETAWPPTSWFESWATGRDVFPLANGQPPLEFRWILCRRV"
       ]
      },
      {
       "output_type": "stream",
       "stream": "stdout",
       "text": [
        "\n",
        "Tery_3451:\n",
        "33100+, to 33383+, 2 nodes (91.37% id)\n",
        "33100+, to 33382+, 2 nodes (91.37% id)\n",
        "LSKFILKVVWLDDNVALAVDQVVGNGTSPLTCYFFWPRNDAWEQLKNELEAKHWISEVDRVALLNKATEIISYWQEEGRRRPLSEAQTKFPEIIFTGTN\n",
        "Tery_3454:\n",
        "30285-, to 30433+, 3 nodes (89.08% id)\n",
        "24641+, to 30433+, 3 nodes (89.08% id)\n",
        "GSSLCSATETALLSVSPIKVQQLAQSQKTSALALWEIKKKINRPIVTVVIINNIFNIVGSILIGNIAASVLGNAWLGIFSAILTFLVIVFGEIIPKTLGERYAMQFALTVALPVQGLTFIFTPIVWFMEKITSPFTQGKKLPTTNEAEIMFLTRIGYKEGVIEGDEAEMIGRVFGLNDKSASDIMTPRIATTYLYSDSTLAEVKLDIIGSQHSRIIVIGDSIDDIVGMVLKHELLKGIIEGKESQKITYFMRDVRFVPETLRVDLLLKEFQKYRQHLMVVLDEYGGVSGVVSLEDVLEELTGEIVDETDQSIDLQVVARMRGKIKLKD"
       ]
      },
      {
       "output_type": "stream",
       "stream": "stdout",
       "text": [
        "\n",
        "Tery_3457:\n",
        "24641-, to 24639+, 2 nodes (87.27% id)\n",
        "24641-, to 24640+, 2 nodes (87.27% id)\n",
        "MSVTENQKSKWKPSRLFQTLAYFRVIPFVGSVKWLQKLFGEKTLLPADTSEVVLVVGANGGVGKRIVPRLLKRGYQVRCLVRDAKKAEKVLGKNVAIVTADITKPETLTPEIFKDVSKIICCTGTRVQPVEGDSPNREKYYQGIKFFMPEVVEDPQLVEYEGMKNLVAAAKPQLQPSNNKILFDFKNPTQDLKETWGALDDVVMGGVSESSIDITDSGAVFSGNVSTENSGGFVSVRTRNFDPPMNLLGSAGIELRVKGDGKRYKFFLRCEDKWDGVGYSYSFDTVYNIWITIRIPFKDLIPVFRAKVVENAQPFNPSQIYSYQLMLSKFEYNRELNPRFAPGFFQLEVEYVKIYGSDQLPKFVLVSSAGVTRPGRPGLNLDEQPPAVKFNDQLKGILNWKFKGEEVVRSSGIPYTVIRPCGMTEQPGGQALIFDQGDNIKGIVSRDDIAELCVKVLEENLACNKTFEVKGDKDNQATAENLQQLFNALGPDGKKSPLTV"
       ]
      },
      {
       "output_type": "stream",
       "stream": "stdout",
       "text": [
        "\n",
        "Tery_3458:\n",
        "32267+, to 4659+, 8 nodes (71.02% id)\n",
        "9395+, to 4659+, 10 nodes (70.79% id)\n",
        "5273+, to 4659+, 10 nodes (70.79% id)\n",
        "8729+, to 4659+, 8 nodes (71.38% id)\n",
        "32976-, to 4659+, 9 nodes (73.20% id)\n",
        "KNYSDNXXXXWDGVAVELGSADSYRVLLQGQNARDGQAYVWTTNSEGVITKGSGWKSGDALLPLEQEFNIDLNGDGIIA\n",
        "Tery_3463:\n",
        "32804-, to 8231-, 3 nodes (77.05% id)\n",
        "32804-, to 8231-, 3 nodes (76.79% id)\n",
        "PTPGRANVLLGIIRDPQNTDEWNQIARRIHALGIGYEPIDLRQIKTVNDLSGVKVIFLPNIQTLTQTQVQIIEEWVKQGGKLIASGQIGQKSQPGVRQKLRSLLGSYWAFPLSRPTTPEPKHRCLDLTCKESTSWAPKTDNQSTVAGGILIPAGLNSTTAATWKGSSGSSAVVITSQATYLGWHWGNSESATXDSIWLQAALNRYQGQSQFNAXNNNPLPLENNRLTVSRTNNSNPLKIQPRTTPSPISTKESINPVRVQPRTISSNTGENSNINLTAPTAQNSTVNQDNIWLRSQQKKISXENKTEHLTQVTEGLGSQNSNLGSKTATVTQTETVSEKDSPENLNSETTNTTNNTNNNNNNNRSRSIWQRFQQHREQQNQPSGNVSDQNKIISSSDNPTPQTNNNRGSIWNRTRQETKTTTSSSRRNPITALLRPPAKIQVPRSQTDPSSESAAPGLDIRQGNHPISRAQTYAMLEELKNLLGRFESALVAAKSANVEVNLETNDISLVAASSNAAFIAQRNKRISEAQKVIDRARQVIQNFPQQVKAKQYATARNQWLQTRQMLWDNYPTDGKRAGAEIRAVWFDRGTIVNARSERGLAMVFDRLAAAGINTVFFETINAGYTIYPSNVAPKQNPLTISWDPLKAAVKLAHERNMEVHAWIWTFAVGNQAHNRALGQVDSYLGPVISANPSWVMTDKKGRKRHPSDGKVYMDPANPEVRQYLLNIIDEIAGKYEVDGIHLDYIRYPFQNPDRNSSYGYSMTARNQFRQLYGIDPMKISSRDRQNLWKWTEFKINQVNSFVANTSDFLKKKYPKVILSTAVFPFPPHERFNKIQQDWGTWVQNGDIDLLTPMTYALDTNRFQQITQPLANTRVLGSTLITPAVKLLNIPEIVAVDQIQAARDLPTGGYIIFAAERITGGLHEFLRSTQGAGEKDNRKRTSLSAFTETTQVMESAIPYRKPFAAAADRFQTLKREWSFLLENEQLALRGSQLESWRNEAGKLATALEKLADSPDNSNLNNARRSLRKFQLKFKSTMSVHARQNAYQVQTWQNRLAALEMLLNYGERVKLNSKRF"
       ]
      },
      {
       "output_type": "stream",
       "stream": "stdout",
       "text": [
        "\n",
        "Tery_3485:\n",
        "28702-, to 28386+, 10 nodes (92.51% id)\n",
        "20250+, to 28386+, 9 nodes (91.96% id)\n",
        "20250+, to 7343+, 10 nodes (90.40% id)\n",
        "20787-, to 7343+, 10 nodes (91.03% id)\n",
        "28702-, to 28386+, 10 nodes (84.07% id)\n",
        "24873-, to 7343+, 10 nodes (82.62% id)\n",
        "MPXKPRNFQIGHSYHITTRCNNREFKLSRRECREVFLYAIKKVSTKYNFRLYALXIMSNHVHYLIEPLQXRRFTXNYALPQLVHSYVFQQNVKTHGAFLGKTILLQWVSFLR*RKSJEYFTLXXRVTXSGXNALRLFL*F**LW*LRMFD**WPDSMASGFLRVGQYSGPMCPEI*GIL*XI*VQTKKFEKVPLG*QTFRGYCAVF*WPKFSXCXRRRRSYQLLLTFRRR*CQTMKN*QR*LVNLL*LIDR"
       ]
      },
      {
       "output_type": "stream",
       "stream": "stdout",
       "text": [
        "\n",
        "Tery_3512:\n",
        "8772+, to 22791-, 3 nodes (94.39% id)\n",
        "8772+, to 1656+, 3 nodes (93.85% id)\n",
        "8772+, to 22791-, 4 nodes (93.82% id)\n",
        "VSNNLFNTESLLFTPAIPESNAIPIIFAFPNEYSVGITSLGYQVVWATLAMRSDLQVSRLFTDINEPLPKQAELFGFSLSWELDYVNIFDILESWEIPIRAKNRCGKNYPIIFGGGPVFTANPEPFADFFDVILLGDGENLLGYFIEAYKEVRGAEKQVQLKHLSQVPGVYVPSLYEVTYEGTNGAIKSIEPIDKDIPAVLQKQTYRGNSLSASTVVTEKAAWENIFMVEVVRSCPEMCRFCLASYLTLPFRSASLEGSLIPAIARGLTVTKRLGLLGASVTQHPEFESLLDYLSQSKYDDIRLSIASVRTNTVTEKLAKILANRDTKSITIAIESGSDRLRRIINKKLENEEIIQAAINAKAGGLKGIKFYGMVGLPGEESEDLDATXEMILTLKKAVPGLRLSLGCSTFVPKSHTPFQWFGVNYXSEKRLKFLEKXLRXKGIDFRPESYKWSVIQGLISRGDRRLSXLLELVRNYGDSLGSYKRAFKELRGKLPELDFYVFDBWELERILPWNHIQGPLSEATLKKHLAEATVL"
       ]
      },
      {
       "output_type": "stream",
       "stream": "stdout",
       "text": [
        "\n",
        "Tery_3523:\n",
        "22790+, to 25757-, 2 nodes (94.89% id)\n",
        "22790+, to 7808-, 2 nodes (94.89% id)\n",
        "MLDIRQIRENLQTVEELLKRRGEYNLQPILELDEKQRQLETERSQLQARSNQVGKQVGEKIKSGSDPKGSEIQALKEEGNQVKAKLSELEPKEKELKAKIEALLLPIPNLPSQSTPIGKSEAENIEVKRWGDEYIPQNPKIIPHYEIGEKLGIMDFERGVKIAQSRFVALIGAGAALERAIIQFMLNHHIQVGYVEVMAPLLVNSQSLTATGQLPKFAEESFKCAADDLWLIPTSEVSTMNLYRDEILSAEQLPIYHCAFTPCFRREAGAYGKDTRGLIRLHQFNKVEMVKIVHPDTSEEEHQKLVADAEAILQALKLPYRILELCTGDLGFSAAKCYDLEVWLPSSGTYREISSCSNVRDFQARRGNIRFKERKKKGTQYVHALNGSGLAVGRTMAAILENYQQVDGSVKIPELLQPYMGREFL"
       ]
      },
      {
       "output_type": "stream",
       "stream": "stdout",
       "text": [
        "\n",
        "Tery_3529:\n",
        "13438-, to 12850+, 3 nodes (94.00% id)\n",
        "12850+, to 12850+, 3 nodes (89.14% id)\n",
        "13438-, to 27195-, 7 nodes (82.18% id)\n",
        "13438-, to 27195-, 7 nodes (82.18% id)\n",
        "13438-, to 27195-, 7 nodes (82.18% id)\n",
        "13438-, to 27195-, 7 nodes (82.18% id)\n",
        "AVWNGVVNAFNGXSGRTMXQNLEGQRLXXQKELQEKQIVAQXZXEYXXTXSQIKLQQNXQZFQPDLEPNNQGLQKNLEIQGFAHQKQLREKPISAKFDLEIXRQEFQXKIVXYQCQENXXLQEFIKXVDMQIAKSNQEFQAWLFQQQKQLQIELAQYNRETQYLNAVYQRETTLEIKELDNWPIKNYSWQILQXHQGRDPIPVQIILAPPEIDFDRFEHLNKTSTXXFPKXEKRJSQHLXNFLEKHYPLENQQRPTELIDHXWDSNRFAGGSAVKTIFSXLKSEPILLIZSEVDGDLINIKVAYWSGGQEISPFYKTIISQLXYPXXLXEFAIQRALBWETNVKXKLLXXGKTEXEINZKFAGDNXLNLSIYREYKELQXEGIEXEXAYKXNSEDFXKXSALLGAYHNXIXALFXDIHYLIXTNLSPKLPELLAELETXFSIEXXLADDLFQMVJESYIGSLRAXTKDRSELVPXFAADIAXXXTXLSBXNLAEXMLDFSLESWLXXRYLSVENXXEKFDXVAXNLLPLDQEFXXKVNRCLVGLGXXKXLSXINSXYXRGIXKFNLEKYZEAXIDFGYVXXLNPXFXDGYYXRGLXYIQLEBYGDAVXDXTQVXRLDXSHAXAXNYRGYAYXKLGEYZXAVDDYNXAINLGLTEAVKNRDIVLGVWXXXQHQTEEKIKGEETKRLEREAEVKRQXXSXGEVFXFEXVTVNNTGKXISSNZGSAXQKXEDLGSGIKLEMVYIPGGSFLMGSPXNEXXRXSXEXPQHZVXJQPFXMSKYXITQDQYQAIMGNNPSXFKGGSRPVEXVXWHXATXFCQXLSSKTGKIYRLPSESQWEYACRAGTTTPFYFGETXTXELVNYXGXYXYGBAPKGKYRXXTTBVGXFXPNAFGJYDMHGNVWEWCXDXWHXBYNGAPTDGSXWXXGXNXNXXXLRGGXWXXNXXYCRSAIRDSYTWRDVHNGYTGFRVVCDGGXXL"
       ]
      },
      {
       "output_type": "stream",
       "stream": "stdout",
       "text": [
        "\n",
        "Tery_3530:\n",
        "23072-, to 1588-, 6 nodes (88.46% id)\n",
        "23072-, to 1588-, 6 nodes (88.46% id)\n",
        "22351+, to 1588-, 6 nodes (88.46% id)\n",
        "22351+, to 1588-, 6 nodes (88.46% id)\n",
        "23072-, to 1588-, 6 nodes (88.12% id)\n",
        "23072-, to 1588-, 6 nodes (88.12% id)\n",
        "22351+, to 1588-, 6 nodes (88.12% id)\n",
        "22351+, to 1588-, 6 nodes (88.12% id)\n",
        "MENSEETSWNKVKEAFKKIWGYDNFRPPQGEIINCLLTGIDALIIMPTGGGKSICFQLPALLKKGLTLVISPLVALMENQVEELSDRSLPANLLHSQLPREKKRQTLEKLEQNQLRLLYLSPETLFNQKIWXLLSKSQTKINGLILDEAHCLVQWGETFRPAYRRLGSVRQTLIKSKPPGTKIPIAAFTATADPQAQKIIRTTLQLKNPKAFLLSPYRNNIYLKIQHICTPRSRRQELLKFIKTREKQAGLVYVRTRKDSEKLAQTLREKNYKTTSYHAGLSAEERRHIEKAWIRGEINFVVCTSAFGMGINKPDVRWVIHFQAPSLLSEYIQEIGRGGRDGKPAEALTLISEPTGWLDPEDKQRQKFLADKLKLQYQTAEKIIKQLPTTGNIDDLTDKFPNVAIALSILHSSGKLRWNDPFNYTINKSGSNKKVSLNYNSGIEKINKYFSTRKCRWQFLLEAFGFFQEAQNMACGHCDNCL"
       ]
      },
      {
       "output_type": "stream",
       "stream": "stdout",
       "text": [
        "\n",
        "Tery_3533:\n",
        "5395+, to 1590-, 2 nodes (91.70% id)\n",
        "5395+, to 1589-, 2 nodes (91.70% id)\n",
        "LAVVKTPLSNNTKATTKALRSLPETKNELKIYLDDLAEQIISGYRLSREEAIILTQIVGQEDILLLCQAADRVRQACCGNVVDLCSIINVKSGGCSENCSFCSQSVHHPGEDSPIYGLKSTEEILAQAKAAEAAGAKRFCLVSQGRGVKYNSPKSTEFEQILGTVRQIIAETNIKPCCALGEVTEEQAQALAEAGVTRYNHNLEASEHFYQEIVTTHSWNDRVETVKNLKAAGIQACTGGIIGMGETWVDRIDLALALRELEVESVPLNLLNPREGTPLGDLLRLDPYDALKAIAIFRLILPRQIIRYAGGREAVMGELQALGLKAGINAMLIGHYLTTLGQPPGKDQAMLESLGLQGGEVPVPTNGL"
       ]
      },
      {
       "output_type": "stream",
       "stream": "stdout",
       "text": [
        "\n",
        "Tery_3534:\n",
        "5395- to 5395-, 1 nodes (84.49% id)\n",
        "5395- to 5395-, 1 nodes (70.64% id)\n",
        "MXXXXNXXXXXRXXXKXSXVALTIXLXXTIXXVK*XXXXXXNQPCXSXSXFSXXXISTLVXXXXX*XX*XXXRLSXSX*WXWX*XIXXRIXRFXCX*CXXEXXXNRQSXXRSYXXXXDCR*XCXSLQXXXXXXXXXXQGSLCRYPFG*XXKXEXXKBXXX*FRXXXXXXXXYXXJXF*WXWXXXSFXEAXXCY*XXVEKXSRXRXNCSXASGXXWXQE*WCNCXNXSNXXXXRJX*VWXC*XCXXXXXXXXKXIW*JHXXXXXXXXXXXXXSXITXKXXXFYX*XXRX*FLSXXXLXLXAXLX*I**XSXSXXXRKND*IWJK*XXKSXX*XRLXSXT*XCXXXSXXXXX*N*XXXXXXSX"
       ]
      },
      {
       "output_type": "stream",
       "stream": "stdout",
       "text": [
        "\n",
        "Tery_3544:\n",
        "32067+, to 17816+, 5 nodes (81.91% id)\n",
        "32067+, to 17816+, 5 nodes (81.91% id)\n",
        "32067+, to 17816+, 5 nodes (81.91% id)\n",
        "MMTPSQISTPKKRRPSRIEGIKENSNFLREPLATQLLEDTTHFTEEAVQILKFHGSYQQDNRDNRVKGQEKDYRMMLRTRNPGGFIPPQLFLTLDKLSHEYGNGTLRVTTRQGFQLHGVLKKNLKQVISSIIKSMGSTLGACGDLNRNVMSPPAPYRNRPEYEYARDYANKIADLLAPQTRAYYEIWLDGEKVISVEEAPDLKEARQYNGNGTIFPNSEEPIYGNHYMPRKFKCAVTVPGDNSIDLYTQDVSLVVITNEAGELEGFNVLAGGGLGRTHRKEETFPCLAQEIGYVTKEDIFDFIKAIVATQRDYGDRSDRRHARMKYLLHDWGVEKFKAKLAEYFGKSIFPFKSLPEWKYLDFLGWHEQGDGKLFLGISVENGRIKDGDSFQLKTALRKLVDLFKLPMLLTANHNIILYEIQPGQQEAIEQILNQHGISKEKNIDPLVRYSMACPAFPTCGLAITESERTLTGILGQIRLWLDKVGLGQEHFVVRMTGCPNGCARPYMAELGFVGSAPDSYQIWLGGSPNQTRLAKPYIDKLHINNLEAELEGIFIYFKQQRQPEESFGDFCNRIGIEAIHKFVTNYQSSFSMNTDINNPSLNSINSENNIPIVQDVTETTPDTKSQEESISKNLEDNQEVILMNSPVTPSTNMTQTTTTTPATTTTEAQPFSTHQPSKTSIFRSDANTTTTLGQEVGKPLLGSTIAPTLEQQEVQPEVALTTAPTLEQQEVQPEVALTTTPTLEQQEVQPEVXLTTTPTLEQQEVQPEVELTTTPTLEQQEVQPEVELTTXPTLEQQEVQAEVALTTDPTLDQEVGQPVSEXASLPDKPKDTSKMRHRVSVRDEIYTKLKEESKRQGKPVVQLATEAISEYLEKIRKDESLTTTDETDF"
       ]
      },
      {
       "output_type": "stream",
       "stream": "stdout",
       "text": [
        "\n",
        "Tery_3586:\n",
        "15183+, to 26763+, 5 nodes (93.85% id)\n",
        "15183+, to 26763+, 5 nodes (93.85% id)\n",
        "15183+, to 26763+, 5 nodes (93.85% id)\n",
        "15183+, to 26763+, 5 nodes (93.85% id)\n",
        "MVEAKSYKETVNLPQTNFNMRANSVTREPEIQKFWAESQIYERLSETNPGEIFTLHDGPPYANGNLHIGHALNKILKDIINRYQILQGRKVRYVPGWDCHGLPIELKVIQNIKSAERAKLTPIELRHKARDFALETIDKQRESFKRYGVWGDWEHPYMTLSPEYEAAQIGVFAKMALKGYIYRGLKPVHWSPSSKTALAEAELEYPEGHKSRSIYAAFKITNLAKAVEKSLESYLEKLWVAIWTTTPWTIPGNLAVSVNPDLNYAVVKPDADYAMGKDKLFIVAAEAVERLSATLGTTLTPVATVKGEDLENCTYQHPLFDRESKIVIGGDYVTTESGTGLVHTAPGHGQEDYIVGQRYSLPILSPVDGNGKFTAEAGEFTGLSVLAEGNIAVIEALQNVNSLLKEEPYEHKYPYDWRTKKPTIFRATEQWFASVEGFRSEALKAIAEVNWIPAQGENRITPMVNDRSDWCISRQRSWGVPIPVFYEKKTGEPLLTEETVAHVQKIIAEKGSDAWWEMSVEELLPETYRQDAEKYRKGTDTMDVWFDSGSSWAAVAQQREGLIYPVDIYLEGSDQHRGWFQSSLLTSIATNGVAPYKTVLTHGFVLDENGRKMSKSLGNVVDPVIVIEGGKNQKQEPAYGADILRLWVSSVDYSSDVPLGKNILKQIADIYRKIRNTARFLLGNIHDFDPAKDAVAYEEMPELDRYMLHRMTEVFAEVQDGFDKFQYFRFFQTIQNFCVVDLSNFYLDIAKDRLYISGTDAFRRRSCQTVLVVAVESLAKAIAPVLPHMAEDIWQNLPYPTAYKSVFESGWVKLEEKWHNPELVKLWEELRKTRTEVNKVLEKARAEKAIGAPLEAKVLLYVKDTKLREQIQAFNPIAKAEKSKSDFLEAKIEIEVENTENTTTNNSQKSPDNFDKTKEVLSNFYNTMSKLFSGYQKALGGVFFLIALLLLMKLTVTVVATINQIPVVNYILGLVGFIYTIRFVTQNLLFTKSRQSFLEKIKFTTENILGEEALLPKNKKMADDTVKQSATLVYPEGVFVPPQKVESIPEPQVVETETLPQQPNNIKAMIPGNGVDELRYLFITSQVELLESPESLSNLEYKSISDSLGIGVVKADGKKCDRCWNYSTHVGDFSEDPTICERCVVALAGDF"
       ]
      },
      {
       "output_type": "stream",
       "stream": "stdout",
       "text": [
        "\n",
        "Tery_3635:\n",
        "4049-, to 19850-, 5 nodes (74.33% id)\n",
        "878-, to 19850-, 6 nodes (74.06% id)\n",
        "5157+, to 19850-, 6 nodes (74.06% id)\n",
        "5157+, to 19850-, 6 nodes (74.16% id)\n",
        "878-, to 19850-, 6 nodes (74.34% id)\n",
        "5157+, to 19850-, 7 nodes (74.34% id)\n",
        "22747-, to 19850-, 3 nodes (75.89% id)\n",
        "22746-, to 19850-, 3 nodes (75.89% id)\n",
        "MKKAKTLKRKLGNPKPFLSVAXELKRYTIPXMC*SXYQMERHRLETG*N*SIQVAKVNLQSIQPWRNQ*DA*IPKTSDQKLLRKVASC*TCDTRQQGKENCGYRRYQ"
       ]
      },
      {
       "output_type": "stream",
       "stream": "stdout",
       "text": [
        "\n",
        "Tery_3637:\n",
        "4768+, to 19398+, 4 nodes (76.03% id)\n",
        "4768+, to 12340-, 4 nodes (75.21% id)\n",
        "4768+, to 5045+, 3 nodes (73.75% id)\n",
        "VLQAKTIIQEWLSQVGLELKPEKTRIAHTLKEYEGNKPGFDFLGXTVR\n",
        "Tery_3639:\n",
        "6441+, to 16202-, 3 nodes (87.10% id)\n",
        "6441+, to 16201-, 3 nodes (87.10% id)\n",
        "6441+, to 32849+, 3 nodes (86.29% id)\n",
        "6441+, to 32075+, 3 nodes (86.29% id)\n",
        "ILLRESQQVLAELDIPTLSTVIYQRQCLADAPGQNITAFHMSGSMAASSASEFESLFXEVFSNVGIEIKPSTQNTKSS"
       ]
      },
      {
       "output_type": "stream",
       "stream": "stdout",
       "text": [
        "\n",
        "Tery_3645:\n",
        "15067+, to 2183-, 2 nodes (95.52% id)\n",
        "15067+, to 21085-, 2 nodes (95.52% id)\n",
        "MKYSASTSTPESVKPKQEELENSVPANTEYSQIDVSKLSEMMQRYVEVKQKYSHALLLFRVGDFFECFFQDAVTIAQELELVQTTKHAGKEIGRVPMTGVPHHAVEKYATILVEKGYAVVVCDQVEDSAIAKKENRQVKREITRILTPGTLTDDGMLKPRYNNYLAAVVIAKNHWGLAYTDISTGEFLTTQTEGLDQLTQELMRLQPSEILFPTKAPDIGFMLRPGERSEHLPEYLPNSFCYSLRPQQPFSLVEAKERLLIKFQLASLEGIGCERLPLGVRAAGGLLEYLEETQKENQVPLQCLRSYTLADFLILDHQSRRNLEITQTVRDGSYQGSLLSVVDKTSTAMGGRALRRWLQQPLLSLKGIRARHDTIDELIQDNDLRQDIQKVLRKIYDLERLTGRTGAGTANARDLVFLADSLTKLPELSTLVSQGDSPYLKVLQKIPPILQELGKKIHSHLVESPSQKLKEGGLIRPGVNERLDEMRKLAEEDQKWIANLEATERERTGIPNLKVGYNKAFGYYISISKSKANLAPDDYTRKQTLTNEERYITEELKEREVRILTAQDDLNELEYDLFIGLRNEVGEYAEEIRNVSRAVAAIDILCGLAEVAIYQNYVRPTMVDSRELKIIEGRHPVVEKYLPAGFFVPNTAILGSKNLEENDSVITPYSAPDLIILTGPNASGKSCYLRQVGLIQLMAQIGSFVPATSAVLGVSDRIFTRVGAVDDLATGQSTFMVEMNETANILNHATEKSLVLLDEIGRGTATFDGISIAWSVAEYLATEIFSRTIFATHYHELNELSSILDNVANYQVTVKELPDKIVFLHQVQPGGADKSYGIEAGRLAGLPDSVIARARQVMQQIEKHSKIAIGLRKGIKKKEEEEIITVEQLDIFSEEFGDSLL"
       ]
      },
      {
       "output_type": "stream",
       "stream": "stdout",
       "text": [
        "\n",
        "Tery_3652:\n",
        "707+, to 26611-, 10 nodes (90.57% id)\n",
        "707+, to 10363+, 9 nodes (90.69% id)\n",
        "707+, to 15926-, 8 nodes (90.46% id)\n",
        "20788+, to 4794-, 9 nodes (89.03% id)\n",
        "707+, to 5688+, 7 nodes (90.91% id)\n",
        "20788+, to 10363+, 7 nodes (88.97% id)\n",
        "707+, to 5571-, 6 nodes (90.12% id)\n",
        "707+, to 8551+, 6 nodes (90.46% id)\n",
        "707+, to 28179+, 6 nodes (90.72% id)\n",
        "20788+, to 15926-, 6 nodes (88.38% id)\n",
        "707+, to 2548+, 5 nodes (88.55% id)\n",
        "4927+, to 26611-, 5 nodes (85.14% id)\n",
        "24363+, to 8551+, 4 nodes (86.50% id)\n",
        "24969-, to 8551+, 4 nodes (87.37% id)\n",
        "20788+, to 5688+, 5 nodes (88.48% id)\n",
        "4927+, to 10363+, 4 nodes (84.36% id)\n",
        "20788+, to 5571-, 4 nodes (86.79% id)\n",
        "20788+, to 28179+, 4 nodes (87.58% id)\n",
        "4927+, to 15926-, 3 nodes (82.46% id)\n",
        "24363+, to 20010-, 3 nodes (76.84% id)\n",
        "24969-, to 20010-, 3 nodes (77.66% id)\n",
        "25742+, to 4794-, 3 nodes (82.61% id)\n",
        "RKDXXLSAFXRNXJKXXGSKSLVXNXXIXIXR*SRLYLXXXKKREKSLW*ARGKTR*KRKFSSXEKEKXKKIX*XQLXX"
       ]
      },
      {
       "output_type": "stream",
       "stream": "stdout",
       "text": [
        "\n",
        "Tery_3664:\n",
        "28003+, to 11975+, 3 nodes (80.23% id)\n",
        "28002+, to 11975+, 3 nodes (80.23% id)\n",
        "MEQPSQQQQVPNXGRFKRINPLLNPEIRLFRPDNPPPTVSLLWDELAQEAVINTAPGPTIASRAYAMVHTAIYDAWSAYDPLAIGTQLGDDLQRPLSENTNFNKTQATSFAAYRVLSELFPTQVDIFNELMADLGLDPNNITTDITTPAGIGNVSAEALLRFRRKDGSNQLGDDPNGDGTPYSDVSGYEPINPPGDPIDIKLWTPERIPIDAEPGQEDRIQKFLTPQWGNLIPFGSTSVDEVRPQPPKPFLLVDGEVDLDTSTITLPDESVVEISKDIVGTIINPEFIAQTENIVNVRANLTDQQKLIAEFWEDGSGTSFPPGTWMSFGQFVSARDNNTLDEDVKLFFSLGNAVFDAGIATWESKVFYDYARPVRVIRELGEQGLIGEFNPALGGFTIDAGDGQTILAADFLTYQAPGGDPSPPFAEYVSGHSTFSAAGAEILKRFTGSDDFGTSITFEVGESFFEPEVTPQVPITLNWNTFSEASDEAGVSRIYGGIHFEDGDINGRGLGRKVAENVWEETQAVITPNTVMGTSENDNLVGFMANDLIYGNRSDDNVFGDDGNDLLYGGKGNDIINGGAGADMIYGNLGDDILIGGLGGDRFNFRSNDGNNIITDFEDGIDVIGLDRGLGFQQLTISQIGNDTRISANQLSIVLQGIKESDITLEDFRDFR"
       ]
      },
      {
       "output_type": "stream",
       "stream": "stdout",
       "text": [
        "\n",
        "Tery_3676:\n",
        "28530+, to 29357+, 2 nodes (91.17% id)\n",
        "28530+, to 29358+, 2 nodes (90.85% id)\n",
        "MDNITESLIFRVPLSPKSHALAEEFAQQQLVKKRAKGVYLNTLAVHIGQDFLDGLGFETDLDNADCFNSFLRMIEDPADVIIPNLGVIEFRRVLPGETGFLIPDFVRENRLAYVAVGFDESLDFGDILGFVCLSDLTESDGYIPLDILQPAENLLDYLMQLEAGRDFLLSDDSLAVEFRNVVEAETREKSLGFMAAALEAIYRQSPDDGGNWRAQGGKILAGDLPWVGKVVEERMVIASRDRDEVEDPVVEXKSVPRSTQKLAKRLLGKLKEIWE"
       ]
      },
      {
       "output_type": "stream",
       "stream": "stdout",
       "text": [
        "\n",
        "Tery_3678:\n",
        "12236-, to 9201-, 4 nodes (86.80% id)\n",
        "12236-, to 9202+, 5 nodes (82.80% id)\n",
        "ESMKPENSSPKIDYDVAIVGAGPVGLATALGLRQRGIENIIVFDQTRAFRKVGQVIGLLPNGLKALKYIDAKAYENIKATIDQPSNSLQVSQNTSTEKKQTSPEWEIRNVDGQKIRSFALGYDEYFQKYGEGRVSISWHELQTQLRQLLPVERVKLIIIVLM*LMSLNFNVLEQILCLIKK*KLTPMLTGMINKKRIKAAV*TPPNFLTQKLHQFVLNYC*E*TELTLGSAKLSIRILQTVDTVNQNIVVLVQ*AVVEYFREQKRFQKK*QRDFFLVLLG**LSKIIKSPKAMFLESFYFFLNLVSWDISSMELSH*SHC*KNRQKS*LMLL*KS*KKQGFQR*FNSWRLYLLQSX*YNVRIILIMPLFLLQDGPNGIEEGFYWREMQPTVCHHLLVKEVIKD*KMQQRSLLWXLRLTSKISGMI*QL*KQLLANMXXCVVHL*LXFNXKL**XDJFLQIRGXRSYRSIIKXFXLGILXKLX"
       ]
      },
      {
       "output_type": "stream",
       "stream": "stdout",
       "text": [
        "\n",
        "Tery_3680:\n",
        "12236-, to 9201-, 4 nodes (81.54% id)\n",
        "12236-, to 9202+, 5 nodes (78.24% id)\n",
        "INLESMKPENSSPKIDYDVAIVGAGPVGLATALGLRQRGIENIIVFDQTRAFRKVGQVIGLLPNGLKALKYIDAKAYENIKATIDQPSNSLQVSQNTSTEKKQTSPEWEIRNVDGQKIRSFALGYDEYFQKYGEGRVSISWHELQTQLRQLLPVERVKLIIIVLM*LMSLNFNVLEQILCLIKK*KLTPMLTGMINKKRIKAAV*TPPNFLTQKLHQFVLNYC*E*TELTLGSAKLSIRILQTVDTVNQNIVVLVQ*AVVEYFREQKRFQKK*QRDFFLVLLG**LSKIIKSPKAMFLESFYFFLNLVSWDISSMELSH*SHC*KNRQKS*LMLL*KS*KKQGFQR*FNSWRLYLLQSX*YNVRIILIMPLFLLQDGPNGIEEGFYWREMQPTVCHHLLVKEVIKD*KMQQRSLLWXLRLTSKISGMI*QL*KQLLANMXXCVVHL*LXFNXKL**XDJFLQIRGXRSYRSIIKXFXLGILXKLX"
       ]
      },
      {
       "output_type": "stream",
       "stream": "stdout",
       "text": [
        "\n",
        "Tery_3704:\n",
        "1758-, to 33439-, 10 nodes (70.87% id)\n",
        "1758-, to 27812+, 10 nodes (74.86% id)\n",
        "1758-, to 25755-, 10 nodes (70.87% id)\n",
        "1758-, to 589+, 10 nodes (74.17% id)\n",
        "12649+, to 10287+, 10 nodes (71.81% id)\n",
        "12649+, to 10288+, 10 nodes (71.35% id)\n",
        "21871-, to 10287+, 10 nodes (70.48% id)\n",
        "21871-, to 10288+, 10 nodes (70.03% id)\n",
        "23868+, to 24114+, 10 nodes (72.93% id)\n",
        "33999+, to 24114+, 10 nodes (72.93% id)\n",
        "12648-, to 18781+, 10 nodes (72.73% id)\n",
        "12186-, to 10286-, 10 nodes (70.18% id)\n",
        "12648-, to 10286-, 10 nodes (73.02% id)\n",
        "1484+, to 18781+, 10 nodes (71.34% id)\n",
        "12186-, to 27812+, 9 nodes (70.41% id)\n",
        "12648-, to 10287+, 10 nodes (70.10% id)\n",
        "12648-, to 24114+, 8 nodes (70.91% id)\n",
        "1484+, to 27812+, 10 nodes (72.83% id)\n",
        "584+, to 27812+, 10 nodes (72.07% id)\n",
        "1485-, to 27812+, 10 nodes (72.07% id)\n",
        "12648-, to 18781+, 9 nodes (71.26% id)\n",
        "1484+, to 589+, 10 nodes (71.76% id)\n",
        "584+, to 589+, 10 nodes (70.98% id)\n",
        "1485-, to 589+, 10 nodes (70.98% id)\n",
        "12648-, to 27812+, 8 nodes (72.14% id)\n",
        "27988+, to 17373-, 5 nodes (75.67% id)\n",
        "23868+, to 17373-, 4 nodes (76.40% id)\n",
        "27988+, to 17374-, 5 nodes (73.66% id)\n",
        "12648-, to 589+, 8 nodes (70.81% id)\n",
        "23868+, to 17374-, 4 nodes (74.08% id)\n",
        "7804+, to 17373-, 6 nodes (75.32% id)\n",
        "24879+, to 17373-, 6 nodes (75.32% id)\n",
        "7804+, to 17374-, 6 nodes (72.90% id)\n",
        "24879+, to 17374-, 6 nodes (72.90% id)\n",
        "LYLPTEQNNIVTNDLTQSSKDDVXFESQTRWKIEXXXREXKQLTGLGFCQCRLRIIQXNHIACAMLVWNFLKRFASKIGXSXYQVKHGXXSKYLTDQLKXPSXKXKVI"
       ]
      },
      {
       "output_type": "stream",
       "stream": "stdout",
       "text": [
        "\n",
        "Tery_3755:\n",
        "33252-, to 31406-, 2 nodes (96.94% id)\n",
        "33252-, to 31407-, 2 nodes (96.78% id)\n",
        "VNNKKWRNAGLYALLAIVVIALATAFFDQQPQTRETWKYSQFIQQVESKNVDKVDLSADRTVARVKVADGTIVRVNLPNDPDLINILTQNNIDISVLPQNEEGFWVRALSSLFFPILLLVGLFFLLRRAQSGPGSQAMNFGKSKARVQMEPQTQVTFSDVAGIEQAKLELTEVVDFLKNADRFTAIGAKIPKGVLLVGPPGTGKTLLAKAVAGEAGVPFFSISGSEFVEMFVGVGASRVRDLFEQAKSSAPCIVFIDEIDAVGRQRGAGLGGGNDEREQTLNQLLTEMDGFEGNTGIIIIAATNRPDVLDAALLRPGRFDRQVVVDRPDYAGRLEILNVHARGKSLSKDVDLEKIARRTPGFTGADLSNLLNEGAILAARRNLTEISMDEVNDSIDRVLAGPEKKDRVMSERRKELVAYHEAGHALVGALMPDYDPVQKISIIPRGGAGGLTWFTPSEERMDSGLYSRVYLQNQMAVALGGRIAEEIIFGDEEVTTGASNDLQQVARVARQMVTRFGMSDRLGPVALGRQNGNMFLGRDIMSERDFSEETAAAIDDEVRNLVDQAYRRAKEVLVGNRHVLDKLAEILVXKETVDSDELQELLATNDVKMAALI"
       ]
      },
      {
       "output_type": "stream",
       "stream": "stdout",
       "text": [
        "\n",
        "Tery_3759:\n",
        "22573-, to 13809-, 3 nodes (90.56% id)\n",
        "22573-, to 13809-, 3 nodes (90.41% id)\n",
        "MLISSLHKFLTYPINKKSSQEVIFWFILSMTLAVLYGFLALKKAFLSSLSVQDDARQHIFWMQRFFNADLFPNDLIADYFQSVAPAGYTWLYKSLAFIGINPLILAKIIPFILGLICTYYIFRITLEILPVTMAGFIAALVMNQAIWMKDDVASATPRAFIYPFFLAFLYYLIRGSLVRMGIAIALVGLFYPQYVFVASGMLILRLICWRNGRFQFSSKKQDFIFCGVGLSTAFFVLLPYALTSSEFGPTISREAAMKLREFYPNGRSTFFHVHPKDFWLTGKRSGXFPKSLFTPATQCAGLVLPFLLSFGSAFPLIKNITSRIWLLVHLLLSSLGMFFIAHXLLFRLHLPSRYTGLSFRIIIALATAIALTLIIDALFNWAENREKFPIKFRPIISLVLTGLILASLVLYPAFVKGFPLVKYKVGRATDLYDFFREQPDDILIASLEEEANLLPTFAQRSILLGREYAIPYQVGYYSQFRQRVIDLIVAQYSSNLTDVKDFIQKYGIDFWMVHRGSFTPEYVEKNSWLMQYESAQDAVTFLQLGYIPALATTIPICTVFQNDSLFVLDANCIFRKGVGN"
       ]
      },
      {
       "output_type": "stream",
       "stream": "stdout",
       "text": [
        "\n",
        "Tery_3777:\n",
        "24363-, to 12124-, 2 nodes (91.18% id)\n",
        "24363-, to 12125-, 2 nodes (91.18% id)\n",
        "MFDCIIVGAGPAGGTAAYHLAKKGRSVLVIEKESFPRVKACGGGLSPAIAQWFDFDLTPAISLKVNKICYTWKLEDPVEADLPVPMWMVKRDVFDHFLIQKATEQGAELRDKTEVTGIEFKRDSWEVKTTTEPFLGRYLIAADGAKGPMAKWLGFKESKKRQSIVFEAPLNDSNQRASFEFGSVKNGNIWGFPKADSYSISIATFRGGEAKNLSQDLMEYAQQIGANVSQDELLEHYISLWDGEKNLHTQNAILAGEAASLSDPLSAEGIRPSIFSGVKGAEAIDEALGGNGDALKKYTQIVNEEWGKDMAWAGRLAGAFYRFPKVAYKMGVKLPAATVVMSKILCGEIRYADIANTAIKKLSSSFLP"
       ]
      },
      {
       "output_type": "stream",
       "stream": "stdout",
       "text": [
        "\n",
        "Tery_3792:\n",
        "8813-, to 15050-, 3 nodes (90.89% id)\n",
        "8813-, to 15050-, 3 nodes (90.55% id)\n",
        "MIFPDLSQFSQLAKQGNFVPVYQEWIADLDTPVSAWYRVCKDQPYNFLLESVEGGEKIGRYSFLGCDPLWILEAKGDRTTQTYRDGTVKTFEGDPFDALDNCLQPYQPVKLSQLPSGIGGLFGFWGYELIQWXEPRVXVYSATENDLPDGLWMQVDNLLIFDQVKRKIWAIAYADLSSPEINLEVAYQQTCBRVSQLVDKLQSPLSQQNTLLEWQPPRGKNKKLTDIYTSNTARAEFCANVEKAKNYIKAGDIFQVVISQQLSAEYTGEPFALYRSLRLINPSPYMAYFNFGXWQXIGSSPEVMVKAEKTPDGKRLATVRPIAGTRRRGKTYAEDNALAEELLQDPKERAEHIMLVDLGRNDLGRVCQAGTVKVDQLMVIERYSHVMHIVSNVVGELADDRTAWDLLKACFPAGTVSGAPKIRAMEIINELEPCRRGIYSGVYGYYDFEGQLNSAITIRTMVVKPKKNGKHAVNVQAGAGLVADSVPEKEYEETINKARGLLEAIRCLKAN"
       ]
      },
      {
       "output_type": "stream",
       "stream": "stdout",
       "text": [
        "\n",
        "Tery_3798:\n",
        "28172-, to 10485+, 6 nodes (78.79% id)\n",
        "28172-, to 10485+, 6 nodes (78.76% id)\n",
        "28172-, to 7190+, 8 nodes (78.73% id)\n",
        "28172-, to 7190+, 8 nodes (78.70% id)\n",
        "18203+, to 10485+, 4 nodes (78.48% id)\n",
        "18203+, to 7190+, 6 nodes (78.44% id)\n",
        "28172-, to 10485+, 5 nodes (78.41% id)\n",
        "28172-, to 7190+, 7 nodes (78.37% id)\n",
        "28172-, to 7189+, 8 nodes (78.28% id)\n",
        "28172-, to 7189+, 8 nodes (78.26% id)\n",
        "28173-, to 10485+, 6 nodes (78.12% id)\n",
        "28173-, to 7190+, 8 nodes (78.10% id)\n",
        "28173-, to 10485+, 6 nodes (78.10% id)\n",
        "28173-, to 7190+, 8 nodes (78.08% id)\n",
        "18203+, to 7189+, 6 nodes (77.96% id)\n",
        "28172-, to 7189+, 7 nodes (77.91% id)\n",
        "28173-, to 7190+, 7 nodes (77.74% id)\n",
        "28173-, to 10485+, 5 nodes (77.74% id)\n",
        "28173-, to 7189+, 8 nodes (77.68% id)\n",
        "28173-, to 7189+, 8 nodes (77.66% id)\n",
        "28173-, to 7189+, 7 nodes (77.31% id)\n",
        "6488-, to 7190+, 3 nodes (73.79% id)\n",
        "6488-, to 7189+, 3 nodes (73.38% id)\n",
        "XXXXETSQQNYISPDVKESIQEAKDKKLKKLDLSKKXLTXXPGDVXELGQLEVLNLXXNXLXXXPEXIXKLSNLTXLXXXXXXXXSXPEXITKLSNLTXLXLXXNXLXSXXXSIXKXSNLTXLXLXXNXLXXXPEXIXXLSNLTXLXLXXNXLXXLPESXXKLSXLXXLXLXXNKLISLPESIGKLSNLTWLNLGFNXLXSLPESXXKLSXLXXLXLXXNXLXSLPESIXXJSXLTXLXLXXNXLXXLXESIXXLSNLTXLXLXXNXLXSLPEXIXXJSNLTXLXLXXNXLXXLPXXIXKXSNXTXLXLXXNZLXXXPXSIXKJXNLTXLXLXXNXLXXLXXXITXLSNLXXJXLXXNXLXSLPESIXXLSXLTXLXLXXNXLXSLPESITXLSNLTXLXLXXNXLXSLPESIXXLSNLTXXXLXNNPLETPPIEIXXXGIZEIRXXFXQXREXGXDYIYEAKLLIXGEGGAGKTTLANKIJBXXYQLKDEDTTKGIEVXQYXFQTXNXNBFQXNIWDFGGQEIYHATHQFFLTKRSLYILXADTRXEDTDFYYWLNVVELLSXNSPLLIVKNEKQERZREINQRALQGQFTNIKEILATNLATNRGLXEXIREIQHXISXLPHIGSSLPKTWKKVREXLEXDXRNYISLXEYLSICEQNGFXXREXKLQLXGYLHDLGXCLHFQDDPLLNKTVILXPEWGTXAVYKALDXQTVRNXFGKFXKDDLTNIWNEXKYXBMXDELLQLMIXFKLCYKIPGXSQTYIAPQLLTENQXEYDWDENNNLILXYTYXFMPKGIITQFIVXMHXXIEEZKYVWKSGVILXKNZTXAEVIEXYNXRXIKIRVSGXQKRDLMTIVTHELDKIHXSYNNRLKYNQLIPCNCXXCXNNQNPXXYXXXXLXEXXXNGXXXXXCBXXPXXEVBIRSLIDDVIBIXEXXXLSQSXXYPXKIYXNNKYYINBSXDFXIDTXZAKNXXIRNKTXNXKIDXSXKIXNXBGNIXGNVLGDXSBIZGXIXXNXXPPKIEKXXKFGXLBXLTWXQNXQIIYXLIXVTIGICLXIIYXKLFPXXFPKLIXKIQDIFPXXXVXXESXXNK"
       ]
      },
      {
       "output_type": "stream",
       "stream": "stdout",
       "text": [
        "\n",
        "Tery_3845:\n",
        "3136-, to 31698-, 5 nodes (95.59% id)\n",
        "3136-, to 31698-, 5 nodes (95.59% id)\n",
        "3136-, to 31698-, 5 nodes (95.59% id)\n",
        "3136-, to 31698-, 5 nodes (95.59% id)\n",
        "MSRLTRRKLLMFFGCSAAATVLSPKINFLGSNSGVAQAQTGGLSFTPLKLAHPLEIYEKYSSFVPLGTRGEGTTLEAGVDVALQSYQYFDDVVVPPEYERYVIVSWGDRVFPDSEEYFGYNADYVSFIPVNGNPDDGYLWTNHEYVSYPMSPLLARSDDLEGFPTTDKLVLGLDLSQSNISTLGEFAYNQGGSIVRIKKGSNGQYATVADSANRRIHLLSGLGINSERSDDYQRVTSWGTASYQTGDQNFLIGTGPAAVDVFPLSSDGLGNKIIGTAFNCSGGTTPWGTVLTAEENFQGSVTEAVSPNGTQTGYKEEGIGVTFGLVGEKYGWMVEVSPADPSFQNKKHTALGRFRHENIAFRVEAGQPLAAYMGDDRRGGHTWKFVSDGIVSNPTDPSNSRLFNSGTLYAARLNPDGSGQWIPLLPATPTNPLSPRELAEAELNVFGKAQRDGRIRLPQRLGIAGGEENGGYFIVDLTNESALSDYQGKTLANFYDSQGAILVDAFLAANLVGATPTARPEDLEVHPGDGTVFIAYTDGGPGGDGYPDSRVFVVSKYSADVNAAQPFGGIYRIIETNGDVTSTTFTWSAFEQSGEDGAVNGPGFANVDNLEIDTLGNIWGVTDMSTSSHNGFNTGAAGEVREIDHTQTGSVGNLRGTFGNNWLFYIPVVGENAGMVVPFAYGPPRCEITGPYFIRNSSGVNETLLLAVQHPGESCPIGDEVKLGRDIEMLNLDGTTFTQQRSVPRGSNWPSNIGYVGEPGGFFNGLQPPRPSVIGVIRRDGAPFV"
       ]
      },
      {
       "output_type": "stream",
       "stream": "stdout",
       "text": [
        "\n",
        "Tery_3851:\n",
        "25478- to 25478-, 1 nodes (98.21% id)\n",
        "25478- to 25478-, 1 nodes (86.14% id)\n",
        "MXIAVGMXETXGFPAVVEAADAMVKAARVTLVGYEKIGSXRVTVIXRGDVSEVQASVAAGIXXXXRVBGGZVXSTHIIARPHENLEYVLPIRYTEEVXQFRDSTTAVRSINR\n",
        "Tery_3852:\n",
        "25478- to 25478-, 1 nodes (100.00% id)\n",
        "25478- to 25478-, 1 nodes (87.13% id)\n",
        "MXIAVGMXETXGFPAVVEAADAMVKAARVTLVGYEKIGSXRVTVIXRGDVSEVQASVAAGIXXXXRVBGGZVXSTHIIARPHENLEYVLPIRYTEEVXQFRTY"
       ]
      },
      {
       "output_type": "stream",
       "stream": "stdout",
       "text": [
        "\n",
        "Tery_3856:\n",
        "31249-, to 392-, 7 nodes (72.14% id)\n",
        "24335+, to 392-, 7 nodes (72.14% id)\n",
        "31249-, to 13662+, 6 nodes (71.60% id)\n",
        "24335+, to 13662+, 6 nodes (71.60% id)\n",
        "8524+, to 392-, 3 nodes (71.10% id)\n",
        "33548-, to 392-, 4 nodes (74.66% id)\n",
        "33548-, to 13662+, 3 nodes (74.56% id)\n",
        "31249-, to 23221+, 7 nodes (71.65% id)\n",
        "24335+, to 23221+, 7 nodes (71.65% id)\n",
        "31249-, to 3162+, 6 nodes (70.08% id)\n",
        "24335+, to 3162+, 6 nodes (70.08% id)\n",
        "MXMVLQAHVEGSYLERN*SXS*SGL*YSX*FGXEXPLKKGK*FIMPMXKT*KPHKLVVTNFGPRSKKXKTLSDE*IXRX*LXDW"
       ]
      },
      {
       "output_type": "stream",
       "stream": "stdout",
       "text": [
        "\n",
        "Tery_3916:\n",
        "30070+, to 15491-, 2 nodes (84.01% id)\n",
        "30070+, to 11099-, 2 nodes (84.01% id)\n",
        "MSTTITQELKIENQELLRQYQQFPSHQLRNQLVKLNVGLVRKEVYLWLNRCQETYDDLLQVGCIGLIRAIERFDLSKGRAFSSFAIPYIRGEIQHYLRDKSPSLRIPRNWLAIDRQAMKVRQDLRMKLKRQPTDLEIASALNISLDRWHEVELACRNRTPLSLDTPVQDEAHGSTCLGELVQDSQYRSFQLAQEDQIRLQQALSKLEGGTRKVLEFVFLCDLTQKETAERMGISAVTVSRRVKKGLKSLQKIMQ"
       ]
      },
      {
       "output_type": "stream",
       "stream": "stdout",
       "text": [
        "\n",
        "Tery_3923:\n",
        "1177+, to 17458+, 10 nodes (79.77% id)\n",
        "1177+, to 16794-, 10 nodes (79.58% id)\n",
        "1177+, to 14185-, 10 nodes (79.43% id)\n",
        "1177+, to 24272-, 10 nodes (79.37% id)\n",
        "1177+, to 9662-, 10 nodes (74.02% id)\n",
        "1177+, to 9662-, 10 nodes (73.98% id)\n",
        "1177+, to 9662-, 10 nodes (70.27% id)\n",
        "1177+, to 9662-, 10 nodes (70.24% id)\n",
        "MIDPHQNEVELLSELIFALEMSQGDFRLFLGSCNYQIQRRRLMEKLQTSFSGDLAILEVDASVEKLYTHICQHLGDQQPDALMVWGLELNGNIDQLLVSMGLVREEFKNNCHFPILLWIDREISRKFIRLIPDFESWTSLTVFETSTKELKYFIHQTSESVYQKILESGEGIFLDDADLGLAESTYQELLDAQQELTNRGISLKSELEASLEFVLGRMADNSTEIALDHYKRSLELWQQLNSPLRVAHTYYYLGLWWQTCGFEHKADKNMAYEKACSYFQQLIEGFETVNRPDLVAKFINAWGEILQTLKSWDELNTVGNRAIELHKAYSYPFREARAYNFLAEFELANSNYKQAKKFAETALKIFNKTLDSASSPTSNEDKKTLDLERYYHQGRYLFSLAKAEKGNGEIKSAIATLELAKDRTNPQYBXELYINIITELREISYQQKEYFKAFZLKQEIQKIEQQFGLXAFVGANRLRXIXENINLGLPQSKQRINQQKJTQEIAASGREJDVZELLXXISRPDXKLIVIXGESGVGKSSILQAGLVPSLEAKSIDTRDVVVVLQRXYVNWISELGKXLXEKLQRIANLXVNSESLNSPEAIFAQLKNNGDDXXNLLTVIIFDQFEEFFFAKTNMEXKDKRLFAEFLQKCLEIPFVKIVXSLREDYIXYLLEXNRLXBLDAINNBILXKBILYXLGNFSPBKAKLVIXGLTXNSLFKIXTNLTEKLVXDLAXXSXEIRPIELQXVGAQLQTENITTLAKYQELGDNPKXXLVXRYLXSVVXDCGXENZKLAXXVLXLLTBEXBTRPLKXKAXLXKESKXBXEKLELXLKIFVXSXLVFLLPEXPXDXYQLVHDYLVXXJRZXKXXEXLZELXXEREXRQQEHEKRLXLQKXLFKXSXXXXXXMTXXAXXXXXFXXXXXXXXXXAEKQTIXAKXNZXXXLSJLGXRXXXFTBXCXXSXAKTN*C*XXXXRXX*XXXXCXXXXSLQXXKX*XVXRXXXXXGX*XXXXXXXI*SRWRDYCXCXX*QXSEXVEXXGXXXAYSXXP*XXGLXXSJ*SXWXDYCXXXXXQNSEVVEPSGEIIXXXXXXXXXXXXXSJ*XXXRDYCXCXX*XXSEVVEPSXEIIXXSXRXXXXXXXXSI*SXWRDYCFCKXXXYSXXXEXXGXXVADXXRXXXXGXXXSI*SRWRXYCXCXX*QXSEVXEPXGXXXADSXXX*XXXXXYSI*SXWRBYCXXKXXQBSEVVEXSXXXIADSXWX*XXXXXXXI*XRXRDYCLCNXXXGXXXELSGRGIADSNRA*EFDXECSX*LRWKDYCXXXX*QNSEVVEPXXXIIXDSHXPXXXXLXXSI*XXWXDYCXCXX*QXSEXVEPXGXXXXXSXXP*GXXXXCXX*XXWRDYXXXXXXXXSXXVEXXXXXXADXXXX*EXXXXCSJ*SRWRDXCFXXXXXXSXXVEPSGEIIADSHXXXXXGXXXXX*XXWRDXCXXKX*QNSEVVEPSGXIIADSXXX*XXGXXXSI*XXWRDXCXXKFXQXSEVVEPSGEIXADXHXX**FGXXXSX*SRWRDYCFCXXXQNXXXVXKXXXXXFNXXWLPXXK*LXXXXSPXVRGTQNLPB*XXXXXSXX*XGXRGREVGKXRZG*GXSXXIXESSKMEF*SQPQLKFPSLGKIIS*GRXTDGGRN*ISKRRKNRGSSGKIPTSKXT*XXSIYPYLAKS*PRS*SYISSSRCVVE*RG*PC*GG*S*RSDRLLPKSRKNRPHPNFCF*LEXTLSVWXSLSKSC*CYVRL*KSSCXEPXRWRXY*XSRTGQSINRGY*RSDRRFSXJCXXDEQ*GEKSTTTRMDKSPPDRGRPIY**AVERVE"
       ]
      },
      {
       "output_type": "stream",
       "stream": "stdout",
       "text": [
        "\n",
        "Tery_3924:\n",
        "11250-, to 9577-, 4 nodes (94.66% id)\n",
        "11250-, to 16611-, 4 nodes (94.31% id)\n",
        "11249-, to 9577-, 4 nodes (94.66% id)\n",
        "11249-, to 16611-, 4 nodes (94.31% id)\n",
        "11250-, to 1176+, 4 nodes (93.23% id)\n",
        "11249-, to 1176+, 4 nodes (93.23% id)\n",
        "11250-, to 1177+, 4 nodes (93.23% id)\n",
        "11249-, to 1177+, 4 nodes (93.23% id)\n",
        "MSVNVKAFFQATNPGKALFTDNQEIEEKYYIDFSSVRGGKIIEDLKDNIAMWXPDEPTCQLFTGHIGCGKSTELWLLKQXLEAEGFHVVYFESDKDLEMGDLDVSDILLTIARQVXESLNTXEKLNLXEPTRFKSJIEGAIKLLQTEIEISPEVELSFGIAKITAQAKASPQLRSKLRDYLGPRSNGIIETINQELLEPAHKKLKQRGKNGLVVIVDNLDKVDSSPKPWGRPQPEYLFVDRGEQLASLHCHVIYTLPLALRFSNDFNTLTQRFKSDPQVLPMVSIQLRDGKEFGEGMAKLRQLVLARAFPHLEEQQRLEKITEIFDSTETLDYLCKMSGGHVRNILRILNDAIKKQKGLPISSENLNKVIQNFRNERTLAVXDZEWELLRQVAQTXKVKGDDGYQXLIRSMFVYEYRDXXGSWFDINPILKDXVELKK"
       ]
      },
      {
       "output_type": "stream",
       "stream": "stdout",
       "text": [
        "\n",
        "Tery_3932:\n",
        "25122+, to 25871+, 3 nodes (72.45% id)\n",
        "25122+, to 25871+, 3 nodes (71.92% id)\n",
        "MIKIYKWHPILALVVVLSSIISPEVFDRNKFTSALAHTRLQESENNFAQPCINSLLEKGIISGDYENQTFRPSESVTRAEFATMINRAFPDTKLVRDSINFVDIPQDYWAYADIQKAYEMGFLSGYIGKAFNPTLKIKRWEVLVSLSRGLNYQINSYSEQNLNKVFDDAAAIPEEVKMSIAAATEKGIVVNYPNVRQLNPNQDATRSDVATFLCQAIVNAQKNNHEVVAKVPSEYIASFSKDTQLTTTANIPKKTTETTKHRENSHLKNPRATFAENTNSPGIVERFRNGNLQVEIIYKQANNVDLVSDLYLKIIRGGEIILDQPVPVKSLAGGSDSTMAVLAGRFVKVQLLDLDGNGESEVLVDLFTINNSNVPFGGGTYSLIYRYEPTENKYTMLRYHWGNINYRLTDLDNDNIPEFKSLDSRFTNVFSNLNDSVFPIRIWQYREGKILDVTKKYPAEINTNTSEIWLELYRRLGQNQNVKGVLAAYLANKYMLGEKEDGWKSVERVYEGSDRSTYFASLREFLTDKGYDTNQQVQADVIVSENSITESQEPVSFVSHETSPQATRENTENTENTENTERNITGQPPSSDPQLTIVASNQTPALKTEISGNSEPEIQADIINDLVFAPRLVRSLSNEQPDSILSVTVSFNGKILASSMGKDIQLWNLETGKLLDTLSNHTANVRSVAMSPNGKILASGSEDGTVKLWDIPTGEMLNSFRHSGLVTAVGFTADGKGVIGCSSGNGMKLWDIYTGELLHRMNGSQPIAFGVDGLRMAASGGPRYIRLWNVAQGQLLKNLPIPNTNNNQGIQAIAFSRDGQTIAHVMGGESKIFVWDVETWEVRYTLEGHSQAIQAIAISPDDKILASSGKDGKINLWDIDSGKLLRSINGLGKIVFSPDGQQLVTVAEDNVIQLWQIYGSVIE"
       ]
      },
      {
       "output_type": "stream",
       "stream": "stdout",
       "text": [
        "\n",
        "Tery_3933:\n",
        "1137+, to 28619+, 2 nodes (94.21% id)\n",
        "1137+, to 1223-, 2 nodes (94.21% id)\n",
        "MTENMINIMTVDADTFFQAIDPRAPLFIDNEEIDEKYYIDFSPVRGQQVIKDLKSTITRWSKGKPTCQLFTGHIGCGKSTELWRLKQQLETAGYHVVYFESEKNLEMVDVDVSDILLTIAQKVSESLEKLERLNLEEPKRLKGLLQNVVKLLQTEIEFSAEANVSGVGKVSASSEGSFSADLGMVKLKADEEGLEFVASGIGKISAQAKGSPELRTKLREYLGPRTPGIIEMINKELLEPADQKLKEYGKKGLVVIADNLDKVDSSPKSWGRNQQEYLFVDRGEQLTSLQCHLIYTLPIALRFSNDYGTLTQRFETPKILPMVATQLRDGSECIPGMELMRQLVLARAFPELKPQERLARVTEVFDSQETLDYLCRVSGGHVRNMFRMVLDALKEEDDLPISRGSVDNVVRNYRKEQLLAIDDHEWELLRRVVQTKKVTGDDGYQILIRSMFVYEYQYDQSSWFDINPLLKDAPELKIS"
       ]
      },
      {
       "output_type": "stream",
       "stream": "stdout",
       "text": [
        "\n",
        "Tery_3934:\n",
        "1223-, to 20785+, 8 nodes (79.38% id)\n",
        "1223-, to 15756+, 8 nodes (79.33% id)\n",
        "1223-, to 25515-, 6 nodes (79.32% id)\n",
        "1223-, to 15681+, 9 nodes (79.30% id)\n",
        "1223-, to 1139-, 9 nodes (79.30% id)\n",
        "12588-, to 25515-, 9 nodes (72.20% id)\n",
        "12588-, to 20785+, 10 nodes (72.16% id)\n",
        "12588-, to 15756+, 10 nodes (72.11% id)\n",
        "12588-, to 9815+, 10 nodes (72.11% id)\n",
        "12588-, to 15680-, 10 nodes (72.07% id)\n",
        "12588-, to 7793+, 10 nodes (71.97% id)\n",
        "12588-, to 9814+, 10 nodes (71.96% id)\n",
        "12588-, to 7793+, 10 nodes (71.86% id)\n",
        "12588-, to 7792+, 10 nodes (71.75% id)\n",
        "12588-, to 25515-, 8 nodes (71.69% id)\n",
        "12588-, to 7792+, 10 nodes (71.64% id)\n",
        "12588-, to 25515-, 10 nodes (71.62% id)\n",
        "12588-, to 9816-, 10 nodes (71.40% id)\n",
        "XXXQXXJXKSYFEXXXXLKXDSRLFLAXXXXVSQRXXLIZXXXXSFPGXLXXXXLDEXXTZIFXZLSXXX*XXXXXMXXXFXXXSRXGILIXXXXZWGXCGXSLEXXXXXX*FXG*MGRFXXSLFX*FXIXXXGXV*LYLNLLXMX*XILFSRXVRVFIRXFWKVG*EYF*IILXXVCQSLLIKIC*RLGKXWXIEELL*KQN*RRVWNLF*VGWXMILRKXPETIINGVXNFGXNLXTXCGLLILIIIWVCGGRVMG*HIEXKKIELXRMLAIJLNCQ*KVLRQLTV*T*LLSLSMVGEKFCRF*RVGMSXKLLRIEQ*KF*IPPSXLLD*PVLXIFSPNVN*LKVTIBKGKNLLKLL*KFXXXX*XLXLFRP*KKTKKL*IGKSIIIGVDIYFLWQKLXKVMVKLNXL*XLWXXLKRGXSLNIXRIFTSXLSRNXEKXITDKKNILKLLN*SKNDKE*NNNLGL*LXLVRIPWVLEKLI*IWLYLSXNQKJIXKXXLKK*QHLDENLMSKXCXKG*VXLTINL*LFMEXQELVKVRFCRLD*FLF*RKNXLILVMXWWFCXEFXLIGFXNWEKV*LNNWKKLKI*LLIQRL*PXXRXFLLS*KRMXNQIY*RLLFLINLRSFSFLIGNLGIDENXJSFSXIVWKYLL*KLFXH*EKIIFIICXILVXWLIXX*LMRIF*TKXJXIT*XIXHLXRXN**LKN*XQILSLK*IQX*XKNW*KXWQRSWEXFVR*SYK**XHNSRKXRLRLXQNIKN*EIILK*NW*XXL*NQX*XTVGKKMKNXLG*CXGC*RMKXIXDL*KLKLSW*KXXNLIXRS*S*X*IFLWXRG*CFXXQKNQQLXIS*YMIIWXGLFGKXKEIKX*RN*SRNRKNNGKNGKXXSSCRSXXLEVXLLLPX*WRXXXGSEXXXXXXXQXXXXXXLXXXXL*FRQMTL*RYLFQVSBGMG**XLXKLGKNKLMLXXNQXXKLARLXXXSKSQFTXAXXXXSLENSTVFRXMIXXSKL*HLVPXXRLLXLXVXTKQ*NCGTPRGSYCILSPVMKIRSFV*HLVPMERLLLLLVLTRQ*SXGTXRGNYCXLSPXXRXRXXX*HLVPMERLLXLXVXTXQ*SCGSLRXVRGNYCXLSPXMXXRSXV*HLVPMXXLLXLXVXTXQ*XCGTVRGNYCXLXXAXRXRSXX*HLVPMEXLLQLLVLTXQ*XCGTVXGXYXXLXXXXXIXSLV*XLVPMERLLLLQVXTXQ*XCGTXXXBYCRLXXXMRIXSXX*HLVPMERLLXLXVLTXQ*NCGXXRGNYCRLAGMI*NLVPRIKILLQLLIIMITRQ*YCGTVRRYWSVXXAXRJXSXX*HLVPMERLLXLXXXXXQ*XCGTXXGXYXRLSPAIRILSMVMV*ESILMKRL*LVVLTIQ*SCGKXXGXKI*LXVVAXG*MII*LXIPRS*XNSXFAXLTNARN*LLXXG**RERSWXGKGRLRRQLXXLXKXXNGTQTSTLTQKXXQHH*LXQKN*WRKERN*QXKKK*RQQ*KNIXXQKNLXKXXXYLLXKILTQKLKLHIXZXXXCXXKXXXLXXREKXKKRSXPTKKXKKSTXPKFLLXIGXXFVXMAVFIKKLLMLCSPVXKQFP*ARKMGILLIVADWPEH*QGILKERSPIFRYL*NGRAXRREXHNDKNG*KHFRQEKTHLLMSS*KS*"
       ]
      },
      {
       "output_type": "stream",
       "stream": "stdout",
       "text": [
        "\n",
        "Tery_3935:\n",
        "33824+, to 24701-, 2 nodes (84.12% id)\n",
        "33824+, to 21295-, 2 nodes (84.70% id)\n",
        "MRNSTTNTIKTIIIAAISSIIIFPTLALIRPVIGKQDVGSIALKKTTRFRNSGGNYITTAPHISTGAIVQLEGLNLPRPKVTGIATIPLNFLDSGKAFILTATLGKKSGNFLLDTGASTTIISTEIIQELGLKGEPIPQELLTYAVAGDECPEMKANLHRLPVLKIDNVKVEKLFGLEFTTTIMPEGLSGVLGMDILSNFDVEINPKTQELRLLPPTIMPAENIKDAIPLKSELGVMLTEVEINDNGPFIFMLDTGAESIFISQKLARKLKITAAERQEIRVQGFCGIEMAELASLAKVKMGNYELTNLETVILSSPVLKLLEVDGILGQNFFNKYQQYWRFNQKNSEDXXLEGSLLLKESRE"
       ]
      },
      {
       "output_type": "stream",
       "stream": "stdout",
       "text": [
        "\n",
        "Tery_3947:\n",
        "18530-, to 14832+, 6 nodes (75.30% id)\n",
        "18530-, to 3817-, 6 nodes (75.30% id)\n",
        "8890+, to 14832+, 6 nodes (75.30% id)\n",
        "8890+, to 3817-, 6 nodes (75.30% id)\n",
        "4364-, to 14832+, 3 nodes (73.60% id)\n",
        "4364-, to 3817-, 3 nodes (73.60% id)\n",
        "18530-, to 10881+, 4 nodes (77.91% id)\n",
        "8890+, to 10881+, 4 nodes (77.91% id)\n",
        "IGRXSIYRWLSRPKLSATKVKSRQRKLDWKELEKDVKQNPESXXVRQS\n",
        "Tery_3954:\n",
        "10093+, to 27291-, 2 nodes (93.30% id)\n",
        "10093+, to 27290-, 2 nodes (93.30% id)\n",
        "MRVAIAGAGLAGMATAVELADAGHQVEIFESRPFVGGKVGSWVDRDGNHVEMGLHVFFGCYYELFELMKKVEAFKNLRLKEHTHNFINKGGKTGSLDFRFLTGAPFNGLKAFFATSQLSVQDKLQNAMALGTSPIVRGLIDFDGAMKTIRDLDRVSFGDWFRRQGGSDGSIKRMWNPIAYALGFIDADNISARCMLTIFQLFAAKTEASVLRMLNGSPYEYLHKPIVEYLEARGTKIHTRQKVREIKFSEDDGETRVNGIVVANGDTEETITADAYVFACDVPGIQRILPEAWRKWPEFDNIYKLDAVPVATVQLRFDGWVTELHEKNQRQQLDHAAGIDNLLYTPDADFSCFADLALTSPEDYYRQGEGSLLQLVLTPGDPFIKENNEAIAHHVLKQVHELFPSSQELNMTWYSVVKLAQSLYREAPGMDPYRPNQQTPVPNFFLAGSYTQQDYIDSMEGATISGKQAAKMILANVENILG"
       ]
      },
      {
       "output_type": "stream",
       "stream": "stdout",
       "text": [
        "\n",
        "Tery_3961:\n",
        "9672+, to 22032+, 5 nodes (92.73% id)\n",
        "9672+, to 22032+, 5 nodes (92.73% id)\n",
        "9672+, to 22032+, 5 nodes (92.73% id)\n",
        "9672+, to 22032+, 5 nodes (92.73% id)\n",
        "MASNNYGAEQIQVLEGLEAVRKRPGMYIGTTGPRGLHHLIYEVVDNSIDEALAGYCTHIEVDLNKDGSVKVTDDGRGIPVDTHSKTGKSALETVMTVLHAGGKFGGGGYKVSGGLHGVGVSVVNALSEWVEVTVWRDKKAHIQGYERGKPTGDLETKQNKEKRTGTSVQFLPDQEIFSTGIEFDYNTIIGRLRELAYLNAGVKITITDHRLELLKSDEPRIESYCYEGGIKEYVTYMNREKQSLHEEVIFVRGEKNDVQVEVALQWCVDAFSDNVLGFANNIRTVDGGTHLEGLKTVLTRTMNGIARKRNKLKDSDANLGGENVREGLTAVISVKVPEPEFEGQTKTKLGNTEVRGIVDSLVGEVLTEYLDFNPQVADAVLEKAIQAFKAAEAARRARDLVRRKSVLESSPLPGKLADCSTKNPEESEIYLVEGDSASGCFAGSQRVILADGRRLSFAEIVAEQGEGKEHFCYTINQSGNVAIEKIVNARITKKNATVIKINLDNNETIICTPDHLFMLRNGSYKPAALLTKNDSLMPLYQKLSQKPKIGQGLDSYKMVWDPQKESWIYTDLLADFYNLKAGVYESGDGDYPRHVDFNKLNNPTNTQGLLSEKDLEFQRTNLEFIYGCSEGNEFSGRDAIRNYNHRVVSIEPLEEQLDVYDIEVPNTHNFALASGVFVHNSAKQGRDRRFQAILPLRGKIINIEKTDDAKIYKNNEIQSMITALGLGIKGDEFDASQLRYHKVIIMTDADVDGSHIRTLLLTFFYRYQRALVDQGYIYIACPPLYKVERGRNHYYCYSDNELSQLIENEFPDNANYTIQRFKGLGEMMPVQLWDTTMNPETRTLKRVEIEDAAEADRIFTVLMGDRVAPRREFIETYGPKLKITDLDI"
       ]
      },
      {
       "output_type": "stream",
       "stream": "stdout",
       "text": [
        "\n",
        "Tery_3962:\n",
        "9672-, to 8295+, 4 nodes (90.42% id)\n",
        "9672-, to 8295+, 5 nodes (89.64% id)\n",
        "9672-, to 8295+, 4 nodes (88.63% id)\n",
        "LITICGPTATGKSGLALDLAERLGSIIFSADSRQVYKHFNIGTAKPTITEQELVSHYLIDICEPTETLTLAEYQEKAQRLIVNPPTAQTDVVLPRLLVGGTGLYIKAIVKGLKIPRVGPNEKLRSQLSHLGQKQCYEMLQQVDQVAVEKIHPNDVVRTLRALEVFYVSGKPISQQQGEDPPNYPILQIGLDCDVEVLGERIRHRTEKMVEVGLVEEVKFLCEKYGEDLPLLDTLGYREIKQYLVGDISLVEAIEATVLHTRQFAKRQRTWFRGYPEIEWFDGDASNLLDKVWERVREFTRVLAENIQD"
       ]
      },
      {
       "output_type": "stream",
       "stream": "stdout",
       "text": [
        "\n",
        "Tery_3976:\n",
        "14851+, to 2583+, 5 nodes (89.34% id)\n",
        "14851+, to 2583+, 5 nodes (89.34% id)\n",
        "14851+, to 2583+, 5 nodes (89.34% id)\n",
        "14851+, to 2583+, 5 nodes (89.34% id)\n",
        "MNNGKVRIYELSKELNLENKDILGVCKRLNISVKSHSSTITESEAELIRTTAENLPHSPSQSAAPEKSDSQNQDSASNHNEQKKQQILEVRKPKPLAEKFQQKNHSKINNNLVATPPNTSVLNNQIQPVGSSRPNSSLNSETLKDRSDLEVSDNSSMKHPNRPLNKGNTVDKNNSPEKTDSTEMVTEEVPKLVAPPARPAPPSLNRNTRNTNINKPNQKNKKPKQEGKKRKDKEEKPFEKPAIIPKKENKDTPLEKPTIVSKKENKDTSHKREGVKTSPSAPENSPQLKPKNRDKPTVKLKQEQKPQLAPKPKLTTPVLEEPIDVDLGLDVEEKGKEDGAIETINYELEKPRRKAVLPSKPALTKVKKGSKWEEEEEESSEITQKNAKSTAKAKRLRVKPLLEDEDEELAELLNKPATVTMSLSLARPAKPKSFAKKTKPQSSSNTSSLKKKSSPSSESVKNESNEQTQPDEVRPLEKLVISASMTVQELALALVVPETEIIRRLFMKGIAVNITESLDIPTIEMVVKEEGIPIEIPEEQSAAKKTTEILEDTDLENLQRRPPVVTIMGHVDHGKTSLLDSIRATKVAAGEAGGITQHIGAYHVDVEHEGQMQQVVFLDTPGHEAFTAMRARGARVTDIAVLVVAADDGVQPQTIEAISHAKAAEVPLIVAINKIDKEEANPDRVKQELMEHGLVPEEWGGDAIMVPVSAIQKQNLDTLLEMILLVSEVEDLQANPERLAKGTVIEANLDKARGPVATLLVQNGTLKVGEIVVAGSVYGKVRAMIDDRGDRVDKASPSFAVEVLGLRDVPQAGDEFEVFKNEKEASAITTERADVKRESRIMRRTSLGAVSVRAQEGELKELNLILKADVQGSIEAIVAALRQLPQKEVQLRLLLSGAGEITETDIDLAAASEAVIIGFNTTMASGARQAADGAGVDVREYNVIYKLLDDIQGAMEGLLDPELVEEALGEVEVRAVFTINRGAVAGCYVLSGKVVRNSKVRVRRNGVIIHTGVLDSLRRMKDDVKEVNAGYECGISFDNFNSWSEGDIIEVYQMVTKRRKLST"
       ]
      },
      {
       "output_type": "stream",
       "stream": "stdout",
       "text": [
        "\n",
        "Tery_3993:\n",
        "10029-, to 284+, 3 nodes (83.00% id)\n",
        "10029-, to 284+, 3 nodes (82.45% id)\n",
        "MGRKFILGVILFLMSLTLTILHGSVVSKYIHNYQPSNQIRKVKIWQASEVKKEKYNLYQSSEEDLNNSQNLYNSQTVIHIKKTPRYNKISRSKPQPINGVIDILWLLICSGLVFLMQPGFMCLESGLTRSKNNINVALKNLTDFGISIACFWGFGFAFMFGTSAAGIIGYSNFLLTTNLQPFEATFFLFQAMFCGTATTIVSGAVAERMKFATYLFVALLVSGFIYPIFGHWAWNGMDTGVLIGWLGQRGFIDFAGSTVVHSIGGWVSLATLLVIGPRTGRFPRDRPAEKIHGSNLPLSVLGVMLIWFGWFGFNGGSTLALNGQVPDIIVNTIFASVAGMMTSLSIGWYIRGIPGVDLIINGTLAGLVAITXSCHAVTTLXAXVIGXXGAIVXILVEQALEKIRVDDAVGAIPVHLGAGIWGTLAVALFGKAEILXTXLXLXQQFTVQLLGVCXAFLLGFCVVYPVLLIANXFFLLRVSXXDEXIGLNISEHXAKTEILDLFEVMNSQASTQDLSLRVPXEPFTLVGQIAERYNQVMDALEEVTARNDAIVKVATDAIITFTKPGLEIISVNPSTEKIFSYKPQDLVGIPIYKILDFTINPLTMEKIDSDDSLTEAKNSIVKPLKLWLNQNLISSPSREIIDAYYRFDFQDIKPENLQFYFPSFINLLEDNLADTQTCLETEKKINQKKYHTEIMMSKIAEIGNICELVGIRKDGSLFPIEIAIREAKFNQKIFYTGTFRDISERKESEVKLQENEQRFRILSRATFEGIIIYKQGKIVDANIAALQMFKYELSEMMGMNGWELIDSKYRNLVRENLNSGYEKPYEVVGLRKDGSIFPIEMEAKTFFYHGNQHRVSAIRDITERKLAEKALRESEEKFRSIMEQAADAFILLDLQGKIVDVNQTTCQSLGYTYEELLNLFIEDIEMNFALENFYQKWQKLIPGIPITLQGIHKRKDGKTFPVEINLGLLKAGNGNLLLALCRDITDRKKAEQALLLEQEKSDKLLLNILPKPIAEKLKENQDIIAEGFEEVTVLFADLVGFTELASSVHPERLVYLLNDIFSRFDLLVEKYGLEKIKTIGDAYMVVGGLPMPIENHAEAIALIAIDMVEELADFANRVKQNFPIRIGINTGPVVAGVIGRKKFIYDLWGDTVNIASRMESQGIPGVIQVTEVTYQILQHKFLFRERGIIDIKGKGYMKTYFLQGKK"
       ]
      },
      {
       "output_type": "stream",
       "stream": "stdout",
       "text": [
        "\n",
        "Tery_3996:\n",
        "16239+, to 34254-, 6 nodes (78.78% id)\n",
        "16239+, to 34254-, 6 nodes (78.78% id)\n",
        "16239+, to 34254-, 6 nodes (78.78% id)\n",
        "16239+, to 34254-, 6 nodes (78.78% id)\n",
        "MKGERIIWQEDFSLTFTEEYEALVETIRFNEGFSLLFAECSRPKRTKIMEKIRLDIPEKRADVLGLDKTIYHFYNRVKELPNLKEIDILFVTGLEYSLYQYEDEMKERGWDNNEIISISRRGVPPVLINLNQQRERFRDDFDICFVFLLPRFAIDYLIKRAPDFFDWRSGLFRFPMDKESFDKESLEVCEKKLEDYIEFTRQERKFEWVRIKSLLDEDLISLGQKADLLVRKASLDRKFQQNEEAILTCDEALKIEPNDYKAWDNKGIALEILERYEEAVAAFEKALEIKSDYHYAWHNKGNALINLERYEEAIAAYEKALEIKPDFHEGWHNKGNALINLERYEEAIAAYEKALEIKPDFHEGWHNKGIALRNLERHEEAIAAYEKALEIKPDFHYAWHNKGIALINLERYEEAIAAYEKALEIKPDYHYAWHNKGIALINLERYEEAIAAYEKALEIKPDFHEAWHNKGIALENLERYEEAVAAYEKALEIKPDFHKAWHNKGIALINLERYEEAIAAYEKALEIKPDFHEAWNGKGNALENLERYEEAVAAFEKALEIKPDFHYAWNNKGNALIILERYEEAVAAFEKALEIKPDDDGAWNNKGIALVYLERYEEAFAAFEKALEIKPDDDGAWNIKGNALIILERYEEAVAAFEKALEIKSDYHYAWRNKGDALRNLERYEEAVAAYEKALEIKPDYYDAWNDKGVALENLERYEEAVAAFEKALEIKSDYHYAWRNKGDALINLERYEEALAAYEKALEIKPDFHYAWNGKGNVLRKLERYEEALAAYEKALEIKPDFHYAWNNKGNVLRKLERYEEALAAYEKALEIKPDFHYAWNNKGNALGKLERYEEAVAAFEKALEIKPDYYDAWNDKGVAQENLERYEEAVAAFEKALEIKSDYHYAWRNKGDALRNLERYEEAVAAYEKALEIKPDYYDAWNDKGVALENLERYEEAVAAFEKALEIKSDYHYAWRNKGDALINLERYEEALAAYEKALEIKPDFHYAWNGKGNVLRKLERYEEALAAYEKALEIKPDFHYAWNNKGNVLRKLERYEEALAAYEKALEIKPDFHYAWNNKGNALGKLERYEEAVAAFEKALEIKPDYYDAWNDKGVAQENLERYEEAVAAFEKALEIKSDYHYAWRNKGDALRNLERYEEAVAAYEKALEIKPDYYDAWNDKGVALENLERYEEAVAAFEKALEIKSDYHYAWRNKGDALINLERYEEALAAYEKALEIKPDFHYAWNGKGNVLRKLERYEEALAAYEKALEIKPDFHYAWNNKGNVLRKLERYEEALAAYEKALEIKPDFHYAWNNKGNALGKLERYEEAVAAFEKALEIKPDYYDAWNDKGVAQENLERYEEAVAAFEKALEIKSDYHYAWRNKGDALRNLERYEEAVAAYEKALEIKPDYYDAWNDKGVALENLERYEEAVAAFEKALEIKSDYHYAWRNKGDALINLERYEEALAAYEKALEIKPDFHYAWNGKGNVLRKLERYEEALAAYEKALEIKPDFHYAWNNKGNVLRKLERYEEALAAYEKALEIKPDFHYAWNNKGNALGKLERYEEAVAAFEKALEIKPDYYDAWNDKGVAQENLERYEEAVAAFEKALEIKSDYHYAWRNKGDALRNLERYEEAV"
       ]
      },
      {
       "output_type": "stream",
       "stream": "stdout",
       "text": [
        "\n",
        "Tery_4013:\n",
        "16239-, to 16241+, 2 nodes (89.31% id)\n",
        "16239-, to 16240+, 2 nodes (87.97% id)\n",
        "MQNFRNYYQILDISKDASVDEIKKAYRRLARQFHPDVNPGSKEAEEKFKDINEAYDILSDEEKRVEYDKFIRYWKSKGIVSRMGVRVPDFRNWGDGLSGNGGKSERDVDVSDFSDFNTFVDQLLGRRREVRTPATATRPKTQPSSVYRPGQKKSVYKAAERELKKDIEARLTLPLEKAYLGGIEKIRLEDGRSIEVDMPAAMISGQRIRLRNQGIGGGDLYLKITITPHGFYQLQGPDIFCELPITPVEAVLGGDIEVPTLDGWVKMKLPPGVFSGQRLRLANKGYPDGRGDRGDQLXEIKIVTPKXXXZEELEIYQKLREVERFKPRKDLPV"
       ]
      },
      {
       "output_type": "stream",
       "stream": "stdout",
       "text": [
        "\n",
        "Tery_4058:\n",
        "9620+, to 25242-, 2 nodes (97.23% id)\n",
        "9621+, to 25242-, 2 nodes (96.95% id)\n",
        "MKIGQTSDIDSVRTYLREIGRVPLLSHEEEILYGKQVQRLTALHEVNQTLVEXLGREPTLVEWAEAKEMSKSELQRIIMEGERAKRKMVEANLRLVVSVAKKYIKRNVDLLDLIQEGTIGMQRGVEKFDPTKGYRFSTYAYWWIRQAITRAIAEKGRTIRLPIHITEKLNKIKKVQRQLTQQLGRSATTGEIAEELGLTPKQIRECLERARLPLSLDLRVGDNQDTELGDLLEDTGASPEDYALQSSMRTDLESIMADLTPQQKQVLALRFGLEDGQSMTLSKIGAHLNISRERVRQIEREALSKLRKRKQDMNDYLAS"
       ]
      },
      {
       "output_type": "stream",
       "stream": "stdout",
       "text": [
        "\n",
        "Tery_4092:\n",
        "16735+, to 14917-, 3 nodes (95.65% id)\n",
        "13369+, to 14917-, 2 nodes (96.62% id)\n",
        "24586+, to 14917-, 3 nodes (95.35% id)\n",
        "MDISKKANWSEVYVQPTPASYLXIVSQQEYRVPDYGIQYLRPLLKMLYDKEQRPIXIVDIGASYGIISTLLLHDLTMAQLIDFFIKRDGAKEPTWAEIERFYKHQNIRHTEYKFYLSDNSKPAMDFAERVQVCEKAYCFDMRHEPLPEELKQIVETTDLFIATGSLGYIGEYFFQQIFPIISHNSLSPLFAFVIYRAFYSSEINKVFQDYNYTLLKSSVPFKKGRKFASVLEQQNTITSLHQKNINTVGLEDEGFYACEFYFGVPVLEKERLYSWLRQEDLKY"
       ]
      },
      {
       "output_type": "stream",
       "stream": "stdout",
       "text": [
        "\n",
        "Tery_4099:\n",
        "4605-, to 13368-, 5 nodes (97.82% id)\n",
        "4605-, to 13368-, 5 nodes (97.82% id)\n",
        "4605-, to 13368-, 5 nodes (97.38% id)\n",
        "4605-, to 13368-, 5 nodes (97.38% id)\n",
        "MAIVPMRLLLDHAAENGYGIPAYNVNNMEQIQSIMQAADEADSPVILQASRGARKYAGENFLRHLILAAIETYPHLPIAMHQDHGNAPSTCYSAMRHGFTSVMMDGSLEADAKTPASFEYNVNVTAEVVKVAHSIGVSVEGELGCLGSLETGMGDKEDGHGAEGKLSHDQLLTDPDEAVQFVEQTQVDALAVAIGTSHGAYKFTRKPTGEILAISRIEEIHRRLPNTHLVMHGSSSVPEDLLAIINQYGGXIPETYGVPVEEIQKGIKSGVRKVNIDTDNRLAITAAIREAAAKDPSNFDPRHFLKPSIKYMKQVCLDRYKQFGTAGNASKIKVQTLDEFAARYASGELAATTKTAVTV"
       ]
      },
      {
       "output_type": "stream",
       "stream": "stdout",
       "text": [
        "\n",
        "Tery_4103:\n",
        "16455+, to 28869-, 2 nodes (86.37% id)\n",
        "16455+, to 28870-, 2 nodes (86.37% id)\n",
        "VINLECLAYSVGHADDGICLLVRMGVHRILLDCGITNISLLTNDVKQQLPADIVLCSHAHSDNAQGLLALHRTFPNLPIYASEATTKLLPLNWPEIAISEVPNLCQPLPWNSQVELRSGLTAELFPAGHLPGATAFLLTYNGKNRSYKLLYTGDFFLSKSRLVEGLPIADLRGLKLDVLIVEGSYGTAHYPHRRQLENNLAQRVCQAITSGSSVILPTPPLGLGQELLMLLRSHNYFTGRDLDIWVEEKVARGCDLYLELLSQFPTSVQNFAQHQPLFWDEKVKPRVLRRSPGLFPSTEKPYIIIADQDTDLSQYIINKDNSVIVLLPELPGKTSQKLDFAHSETYLLTDHCDGLGTTQLIHNLRPQHVIFVNGCPSYLADLTNLEELRNRYKLHSPANGTLVELPIGETLIVPTSHETNYEGELNELETEVIISLPPNITNDSRWTTFSDTGLVEVRWQGEELVVRGISQRELLCQTTDHLISPKLDYCCNCLHYRGQRCSNTVSALYGFKVTFDGYCPMFESVHFPFTSTGETDKND"
       ]
      },
      {
       "output_type": "stream",
       "stream": "stdout",
       "text": [
        "\n",
        "Tery_4115:\n",
        "18065+, to 14697-, 2 nodes (92.82% id)\n",
        "18065+, to 25136-, 2 nodes (92.56% id)\n",
        "MQFIDQAEIQVEGGKGGDGMVAFRREKFVPAGGPAGGNGGRGGSVILVAVAHLQTLLDFKFQRVFKAENGKRGGPKNMTGGAGSDRLIEVPPGTMIYDGETEELLGDLVKPGQTCCVAQGGKGGLGNKHFLSNSNRAPEYALPGLEGEVRMLRLELKLLAEVGIIGLPNAGKSTLIAALSAARPKIADYPFTTLVPNLGVVRKPTGDGTVFADIPGLVEGASAGVGLGHEFLRHIERTELLLHLVDITDVDPVENFETIENELEVYGRNLEDKRQVLALNKVDAVDVENSEIQELVSRFRXMSGGKVFLISAVAGIGLEELMQEVWRVLEMEEKV"
       ]
      },
      {
       "output_type": "stream",
       "stream": "stdout",
       "text": [
        "\n",
        "Tery_4127:\n",
        "30967+, to 32062-, 3 nodes (95.35% id)\n",
        "30967+, to 29545-, 3 nodes (95.35% id)\n",
        "MTTTLEKGQISIHTENIFPIIKKSLYTDHEIFLRELVSNGVDAIAKLKMVARTGEYSGDVTNPEIEIKIDKDNQSISITDNGIGMTADEIKKYINQVAFSSAEEFIEKYKGSDNDAIIGHFGLGFYSSFMVAKKVEIDTLSYQEGAEAVHWSCDGSPEFEISDSTRTERGTTITLTLQDEEKEYIEPTRVKQLIKTYCDFMPVPIKFEGEEVNKHKAIWRESTQNVAKDDYLELYRHLYPFQEDPLLWVHLNTDYPFIVNGILYFPKLKPDVDVTQGNIKLFCNQVFVTDHCEEIIPKFLMPLRGVIDSTDIPLNVSRSSLLSNRTVRRIADYIAKKVGDRLKELYRDERDKYISGWQDVGTFVKFGALNDDKFKKQVEDIIIFRSTAQLNQGETTETEAKPAVEVQAEGEDVWQEVASETSEGKNTDQQGFYYTTLKEYLERNKERHENRVYYCTEPASQATYVELHKNQGLEVLFLDSFIDTHFISFLEREYQDVKFSRVDSDLDDTLIDKENKSEIVDPTTNKTRSEQIKELFEKALNKPKINVKAQALKSEDAKTTPPAMVLLPEAMRRLRDMTALLQQEKTEFPEDHVLLVNTAHPLIQNLASISQGSIIQGSGESPSAELAREICHHVYDLALIAQKGFDAEGMKDFVERSNEVLTKLTEKAL"
       ]
      },
      {
       "output_type": "stream",
       "stream": "stdout",
       "text": [
        "\n",
        "Tery_4132:\n",
        "22282+, to 21976-, 5 nodes (81.01% id)\n",
        "22282+, to 21976-, 5 nodes (81.01% id)\n",
        "22282+, to 21976-, 5 nodes (81.01% id)\n",
        "22282+, to 21976-, 5 nodes (81.01% id)\n",
        "MTTLLTDNTCTLANTSHNSTLKKCQDNLKPQVTPKPEAEFSPENIILEFGRELSSSRCHRFWYKYFTFPKISTLLKDFQIIFERDPAARNWMEVLFCYPGLHALLLHRLSHKLYSQRVPLIPRLISHLGRFFTGIEIHPGAEIGQGVFIDHGMGVVIGETAIVGDYSLIYQGVTLGGTGKETGKRHPTIGKNVVVGAGAKVLGNINIGDNVRIGAGSIVLRHVPSDCTVVGIPGKVVSKSGQRAEVLEHGKLPDTEATVIRALVDRIEQLEEKLQTIMSDTR*NNNV"
       ]
      },
      {
       "output_type": "stream",
       "stream": "stdout",
       "text": [
        "\n",
        "Tery_4148:\n",
        "9510+, to 12210-, 10 nodes (92.18% id)\n",
        "9510+, to 12210-, 10 nodes (92.18% id)\n",
        "9510+, to 12210-, 10 nodes (92.08% id)\n",
        "9510+, to 12210-, 10 nodes (92.08% id)\n",
        "9510+, to 12210-, 9 nodes (92.26% id)\n",
        "9510+, to 12210-, 9 nodes (92.26% id)\n",
        "9510+, to 12210-, 9 nodes (91.95% id)\n",
        "9510+, to 12210-, 9 nodes (92.15% id)\n",
        "9510+, to 12210-, 9 nodes (92.15% id)\n",
        "9510+, to 12210-, 9 nodes (92.06% id)\n",
        "9510+, to 12210-, 9 nodes (92.06% id)\n",
        "9510+, to 12210-, 9 nodes (91.95% id)\n",
        "9510+, to 12210-, 9 nodes (91.95% id)\n",
        "9510+, to 12210-, 8 nodes (92.01% id)\n",
        "9510+, to 12210-, 8 nodes (91.80% id)\n",
        "MNLDFSPAWISLKTATVTTVITFFLGIATARWMLGYRGKNKGLIDAILTSPLVLPPTVTGFLLLLLLGRNGPLGHVLSSMGITLIFTWPATVIAATVVSFPLMYKTSLAAFNQIDTSLLACARTLGASEWRVFWQILLPLAKPGIIAGTLLAFARSLGEFGATLMLAGSIPGKTETIPIAIFFASESGNMKEALIWVLVILAISLGVITSVNFWSESKIKKRMVQKTEKQIIDVRSVSKVKGKLLTLSYPSQSQSLFVDIQKQLSGFMLDVTFSANNKPVGLLGGSGAGKSMILRCIAGLETPTRGCIVLNGRVLFDAKQKIDLPSRDRNVGYLFQNYALFPHLTVAENIAFGLPKGLSSNEIQQQVQAHLLAVQLPGYEKRYPGELSGGQQQRVALARALASKPDALLLDEAFSALDTHLRHQIETLVLTTLENYPGVTLLVTHNLEEAYRICQHLLVVDDGIILTHGLKQDIFEYSSSVRVAQLTGCKNFSQAVIIEDHKIEAVEWGCSLQVVEPIPEYFSHVGIRAHQITFIEEENQPNTFPCWLAATSETQHRMTLYLKLYQPAINAFDYHLQAEVFKEKWHQIKNNPFPWQVCLHPFRLLLLEDTHRNQMSTDTLKTPHKLFW"
       ]
      },
      {
       "output_type": "stream",
       "stream": "stdout",
       "text": [
        "\n",
        "Tery_4164:\n",
        "18530-, to 4363-, 4 nodes (75.79% id)\n",
        "18530-, to 10881+, 4 nodes (75.79% id)\n",
        "8890+, to 10881+, 4 nodes (76.84% id)\n",
        "8890+, to 4363-, 4 nodes (76.84% id)\n",
        "18530-, to 33788-, 3 nodes (75.49% id)\n",
        "8890+, to 33788-, 3 nodes (76.82% id)\n",
        "MXYSLXXRQKVINFVXNGGTITKXAHXFGIGRASIYRWLSRPKLSATKVKSRQRKLDWKELEKDVKQNP"
       ]
      },
      {
       "output_type": "stream",
       "stream": "stdout",
       "text": [
        "\n",
        "Tery_4177:\n",
        "9120-, to 9119+, 2 nodes (90.07% id)\n",
        "9121-, to 9119+, 2 nodes (90.07% id)\n",
        "LPTLGVNIDHVATTRQARQTVEPDPVAAAVLAELAGADGITVHLREDRRHIQERDVHILRQTVQTHLNLEMAPTDEMVAIALEIQPDYITLVPERREEVTTEGGLDVAGNLPQMKEVVTQLQGAGIPVSMFIDAERVQIEASVQIQAKFVELHTGSYAEAKDEATRHKELTVLAHGCKIAINHGLRVNAGHGLTYGNVYPVACLEGLEELNIGHTIISRAILVGMERAVREMKLTINGQL"
       ]
      },
      {
       "output_type": "stream",
       "stream": "stdout",
       "text": [
        "\n",
        "Tery_4198:\n",
        "6278+, to 34122+, 2 nodes (90.85% id)\n",
        "6278+, to 34123+, 2 nodes (90.85% id)\n",
        "MLPKEELLKGIENRETITRIIDLAEQAIKTWEIILSNFLSPPEIFEAEGVFQKLTEVEIVSWGGYSQAERKRLAIARSDLPIDTSNVALKTINIEGNFLFDTATHRDFLGSMLGTGIEREKTGDIIVLGERGAQAIVVPELVEFLEMNFQQVRSVPVKVKPIELSELKIREPKKKELTTVEASMRLDAVASAGFGMSRNKMVDLIDGGDVRVNWKEISQASYAVKTGDLIAIRGKGRLEVGEVTITKKERYRVNLTRYV"
       ]
      },
      {
       "output_type": "stream",
       "stream": "stdout",
       "text": [
        "\n",
        "Tery_4209:\n",
        "15884-, to 8396-, 5 nodes (87.24% id)\n",
        "15884-, to 9629+, 5 nodes (87.24% id)\n",
        "15884-, to 8396-, 5 nodes (87.13% id)\n",
        "15884-, to 9629+, 5 nodes (87.13% id)\n",
        "15884-, to 19069-, 4 nodes (87.08% id)\n",
        "15884-, to 19069-, 4 nodes (86.97% id)\n",
        "MTNVLAIQQVTASTREKSLILWFDQVGIKDIPLVGGKNASLGEMMQQLTPKGINIPNGFATTAYTYRYFIETAGLEAQLRQLFTDLDVEDVKNLQQRGKKARALIMNTPFPVELERAIAISYETLCYLYGEDIDVAVRSSATAEDLPDASFAGQQETYLNIHGIKSVLKAVHKCFASIFTDRAISYRTTRNFDHFDVALSVGIQKMVRSDQATSGVMFSIDTETGFQNAALITAAYGLGENXVQGAVNPDEYLVFKPXLREGFSSIINKRLGTKAVQMVYDGXKSTKNIPVPEGKQRQFALSDDEILQLAQWAVIIEDHYSQVQGXYTPMDIEWAKDGKNDTLYIVQARPETVQSQKSSNVIHTYHLREQGKVLVTGRAVGQIIAQGHVHVILDTDKIADFQSGEVLVTNKTDPDWEPIMKKASAIVTNQGGRTCHAAIIAREMGIPAIVGCENGTQVLENGQAVTVSCAEGEVGMVYNGLLPFEDIETVLDDLPETRTRILMNVGNPEEVFRLSAIPVDGVGLARLEFVIANHIGVHPLALLNFDELVNEVEKAKIAELTWGYERKADFFIDRLAYGMGSIAAAFYPKPVIVRMSDFKSNEYANLLGGKQFEPNEENPMIGWRGASRYYHPKYREAFGLECVALKRVRDEMGLANVIPMIPFCRTPEEGRKVLGEMSKYGLERGQSGLQVYVMCELPSNVILMEQFAEVFDGFSIGSNDLTQLVLGLDRDSALVAEVFDERHDAVGKMIERAITMAHDCGRKIGICGQAPSDYPEFAQFLVDLGIDSISLNPDSVLNTRFEVGKLELRSHIKSVEF"
       ]
      },
      {
       "output_type": "stream",
       "stream": "stdout",
       "text": [
        "\n",
        "Tery_4249:\n",
        "1409-, to 33692+, 3 nodes (83.96% id)\n",
        "1409-, to 13788-, 3 nodes (83.96% id)\n",
        "MTVERITTGLNLQSGDRFLILYGSNTSDSFCTPDLLLQDIEQVLHQYLQSQNFQRILFYSGVQKLYFLDQQSRDLCRQQPQNTAHNSAPAPKMRVKSGPLGRKRRLLEQEKPTPTPAPTNSATPRLQDTQVIPIWEKVMTDNQQKSAIVFSNAEDLAEFDNRRELFGRFVNWSRLPPSNHNICILIFHHENRSELQQFCQTIGLTFLANLMANRDRSHTQWFNFHRLNGPNVREIIALQNYFRLEHQKPVDWKSVESLPVYMAAENRSLNYWYDRYLTSEEISLTQARQQNWLSGNISTQPALERLEQMIGLQTVKDKIRGWMRKLEVESDRQRQGLTQESPRLHLVFKGNPGTGKTTVARLIGEIYRDLGLLARGHVREVARGDLVAGYVGQTAIQTNEAVDDALDGVLFIDEAYTLSQGGNADFGQEAIDTLLKRMEDNRDRLAVIVAGYPTPMDEFINSNPGLQRRLATEIVFEDYTPEELLTIFRQRVSRVQSSIAPQLEDTLRKLLTQLYESRNENFGNAGLVENLFNQMDNLRASRVIEANLDPIREPFQVEDLPPQYQAGGSKEENLADLLEELENKIGLNSVKSAIREIVNNQLANQQLEAAGLPAGGTETLHMIFSGNPGTGKTTVARLVGKIFKALGLLRQGHFTEVVRRDLVAEYVGQTAIKTAEVVKSALDGVLFVDEAYALTRGSSANDFGPEAIDTLVPALENYRDRMVAIFAGYSREMEQFIAANPGIESRVAYRIEFPDYSGREMLQIFLSMCHRDKRICPSNVSVVLGNIFTYMYQNRGANFGNARDVRNLYEQMVKKLKNRIVQYNLLGEKMVKFTIDDIPNKYKLNK"
       ]
      },
      {
       "output_type": "stream",
       "stream": "stdout",
       "text": [
        "\n",
        "Tery_4280:\n",
        "9782+, to 11598+, 7 nodes (77.12% id)\n",
        "9782+, to 11597+, 7 nodes (77.12% id)\n",
        "9782+, to 11598+, 6 nodes (77.51% id)\n",
        "9782+, to 11597+, 6 nodes (77.51% id)\n",
        "9782+, to 11598+, 5 nodes (76.33% id)\n",
        "9782+, to 11597+, 5 nodes (76.33% id)\n",
        "9782+, to 16549+, 5 nodes (76.74% id)\n",
        "9782+, to 16549+, 4 nodes (77.17% id)\n",
        "MSKLKHLKKFSLEGKVHEVTIKDGCKLKYVHVESLAGNNYIVKVAKGLRRNFASVLTPGLEVKIKGEMAVCKKTGEEELKAFKIVPDFTKNPTELCPSQTLGLFEKSSSQLTELKSPETEDICSKSENRTEVKAKCAGKKAQILVCQKSDCQKRGAGKVCQALSEXLSNHGLQDQVTIKKTGCLKKCKAGPNMVVMPNKAKYSRINSAQIPEVIEKHFXXKS"
       ]
      },
      {
       "output_type": "stream",
       "stream": "stdout",
       "text": [
        "\n",
        "Tery_4282:\n",
        "9782-, to 9781+, 2 nodes (88.48% id)\n",
        "9782-, to 9780+, 2 nodes (88.48% id)\n",
        "TTATPVQAFGKIADNSIGLDKSVTEPICEGMNRALASFQALYLQYEKHHFVVEGAEFYQLHEFFEESYDDVREHVHELAERLNGLGGVPVASFSKLAEMCCFTPEVDGSFNSRTMIENDLKAEQEVIKLLRRLAGQAESLGDRATGYLYEKILLKTEERAYHLDHFLAPDTLVVLN\n",
        "Tery_4303:\n",
        "28078+, to 11954-, 6 nodes (70.31% id)"
       ]
      },
      {
       "output_type": "stream",
       "stream": "stdout",
       "text": [
        "\n",
        "28078+, to 30210+, 6 nodes (70.31% id)\n",
        "HNNPDQIDNNLQTAYEIESLKNDEKFEVEEFVGESDEKDFYKFQVEEQTNINIELGGLSGNADLYLLNNQGQVIEKSTKDGESVEDIKWTFDPGAYYYVEVQSKGKEDVNYTLSLDVALGSQQEDKVGNNWEKAYNFGALKNDEEFEEFVGESDEIDFYKFQVEEQTDVNIKLGGLSGNADLYLLNNQGQVIEESIKEEDSLEDIERTLNPGAYYVKVQSNGKENANYTLSLNVASGSQQPNASDTSSLDVDSGSENLKKYEFTYYYSGSQDYEFQDYYNGYFYAPEGTYEVDSYYDFNEEKNQASANGKYYISSSSEAGAKAKDGEVYLESYYDLETNKKYVPYYTSEDLPSGASGIGSEQDFIDFEKDEDVIELKREGFFGADYYLADIVKEARTSKSGDYQIDALLSPYKWGTNTITYSFYDNDSGPYYGAQRDVGEVSDKVQEDIRHILENIYEPLSDLDFVEVADTSNSYGLIRIMKSSNPNYAYAYYPYADDYNAGNLLDLAGDVHLNVEYDGNGGYGDHNNFQRGPGSHGYMTLIHELGHAVGLKHPHEDGDTLPEDEDNTSNTVMSYNFTYTADNLRSYDVNALQYIYGFETPEDSVTVKSPNGGDTLKLGKSYTITWDDNFSENVKLELYKGGSFDSIITNSTASDGSYGWTLPTSMAIGSDYKVKITSVSDAGVSDFSDSNFTIEPDYLITVKSPNGGDVINTGDTYNITWDDNISENVRIHLYQGNEFKEIITNSTASDGSYIWTLPTSLPTGDNYKVAIQSVVKDNLFDYSDSNFTIEPDGVITVKSPNGGDVLKTGDNYDITWDDNIRENVRLELYKDGSFDRMIANSTGSDGSYNWMVPTSIASGGDYQVKITSVSNVSVSDLSDSNFTIEPNFITVKSPNGGDVINTGDTYNISWDDNISENVRIYLFQGNRLNQMITNSTASDGGYSWTLPTSLATGDNYKVAIQSVVKDNLFDYSDSNFTIEPDGVITVKSPNGGDVLKTGDNYDITWDDNIRENVRLELYKDGSFDRXIANSTGSDGSYNWMVPTSIASGGDYQVKITSVSBVSVSDLSDSNFTIEPNSFITVXSPNGGDXXNTGDTYNIXWDDNIXENVRIYLXQGNRXXQMIXXSTXSDGXYSWXXPTXLXTGXNYKVAIQSVXKXXJXDYSDSXFTIEPDGVITVK"
       ]
      },
      {
       "output_type": "stream",
       "stream": "stdout",
       "text": [
        "\n",
        "Tery_4304:\n",
        "18026+, to 2863-, 10 nodes (77.63% id)\n",
        "18027-, to 25661-, 10 nodes (77.52% id)\n",
        "18026+, to 2863-, 10 nodes (77.24% id)\n",
        "18026+, to 2863-, 10 nodes (77.10% id)\n",
        "18025+, to 2863-, 10 nodes (77.08% id)\n",
        "18025+, to 2863-, 10 nodes (77.01% id)\n",
        "18027-, to 25661-, 10 nodes (76.99% id)\n",
        "18027-, to 25661-, 10 nodes (76.97% id)\n",
        "18027-, to 25661-, 10 nodes (76.90% id)\n",
        "18026+, to 2862-, 10 nodes (76.89% id)\n",
        "18026+, to 2862-, 10 nodes (76.72% id)\n",
        "18026+, to 2863-, 10 nodes (76.68% id)\n",
        "18025+, to 2863-, 10 nodes (76.65% id)\n",
        "18025+, to 2863-, 10 nodes (76.56% id)\n",
        "18026+, to 2111-, 10 nodes (76.49% id)\n",
        "18026+, to 2111-, 10 nodes (76.32% id)\n",
        "18026+, to 2862-, 10 nodes (76.32% id)\n",
        "18025+, to 2862-, 10 nodes (76.30% id)\n",
        "18025+, to 2862-, 10 nodes (76.18% id)\n",
        "18026+, to 2862-, 10 nodes (76.15% id)\n",
        "18025+, to 2862-, 10 nodes (76.13% id)\n",
        "18025+, to 2862-, 10 nodes (76.01% id)\n",
        "18027-, to 28151-, 10 nodes (75.93% id)\n",
        "18026+, to 2111-, 10 nodes (75.92% id)\n",
        "18025+, to 2111-, 10 nodes (75.90% id)\n",
        "18025+, to 2111-, 10 nodes (75.77% id)\n",
        "18026+, to 2111-, 10 nodes (75.75% id)\n",
        "18025+, to 2111-, 10 nodes (75.73% id)\n",
        "18025+, to 2111-, 10 nodes (75.59% id)\n",
        "18027-, to 28151-, 10 nodes (75.43% id)\n",
        "18027-, to 2862-, 10 nodes (75.41% id)\n",
        "18027-, to 28151-, 10 nodes (75.41% id)\n",
        "18027-, to 28151-, 10 nodes (75.28% id)\n",
        "18027-, to 2111-, 10 nodes (75.04% id)\n",
        "18027-, to 2862-, 10 nodes (74.89% id)\n",
        "18027-, to 2862-, 10 nodes (74.87% id)\n",
        "18027-, to 2862-, 10 nodes (74.70% id)\n",
        "18027-, to 2111-, 10 nodes (74.52% id)\n",
        "18027-, to 2111-, 10 nodes (74.49% id)\n",
        "18027-, to 2111-, 10 nodes (74.31% id)\n",
        "NNNQERKIDKLIKTLGVDLGFTGREIAEILWLSLKRRELMLAQDKSKPQTKIDDKENKNQTANPNLSSEPPQEIKSIPVPETPKETTPIYPDIRDNTKEKKSAKNNLPLRIPDAPSIPKPLEFAKALQPLMQQVSSQRNTVLDEIETANQIAXTGIFVPVFKPEPEPWLDLVLVVDKYKSMTLWQHTLKDLKQLFRNYGIFREVKMCGLSSQKSAVSKEQNHTKKSEEKPSKIVLTVGVGEQKKVAKPQQLIDTTGRRLILIVSDCIAPYWHDGSMLPILEQWVKYQPLAILQMLPDWMWRKTGLRIGSSVKLQNLVPGNSNKNLIIKELLLWRNMPLEEGIKVPVLTLEPELAKAWSQMLVGKPEALASGFVLPNEFEVKSENLPENKVEKLNPEKRVYRFRMNASPTARKLASLLSAAPMICLPVVRIIQGSFLPQVLPVHIAEVFLGGLLKPTKEITQETNSESVEYKFVDEEVRKILLKGAPVSDSQKVFDAVSKYVKKHFGKSMKDFVVLLKSPTNSQETVPAFAEIGLDILKELGGDYRAFVENLEKEXGXFPSELEXFKYEYKTPKVNXQGKIIKEDTNSARYFKESLGEKVELEMVAIPGGTFTMGSPESEXGRXDNEGPQHDVNVPPFFMGKYPVTQGQWRAIASRTDLKVXLDLKLDPSXFXXXYKGIDRWBRPVEXVXWXEAVEFCERVSXLTGRKYRLPSEAEWEYACRAGTTTPFYFGETITPELVNYBGBXTYGXXPXGEYRXQTXPVXQFXXNAFGLYDMHGNXXEWCXDXXHDNYXGAPTDGSAWVDSDXXXPXXSXXRIXRGGSWXXXXXXCRSAXXXXXXXSXXXAXXXXLVFXLXVSPPGLL"
       ]
      },
      {
       "output_type": "stream",
       "stream": "stdout",
       "text": [
        "\n",
        "Tery_4307:\n",
        "721-, to 11205+, 7 nodes (87.28% id)\n",
        "721-, to 11205+, 7 nodes (87.28% id)\n",
        "721-, to 11205+, 7 nodes (87.28% id)\n",
        "721-, to 11205+, 7 nodes (87.28% id)\n",
        "721-, to 11205+, 7 nodes (85.82% id)\n",
        "721-, to 11205+, 7 nodes (85.82% id)\n",
        "721-, to 11205+, 7 nodes (85.82% id)\n",
        "721-, to 11205+, 7 nodes (85.82% id)\n",
        "MSYWHLFQGNGKKEKGVEKKLFNIEPPPWRKFEDRIDIEVNEKGIDXRWLKLRQLARQQKKGLERGQNFRLPEXQKEAKDVINSVNAAIYLKRPLLITGKPGSGKTSLAYAITYELGLGAVLSWSVTARSTLQDGLYRYDAIARLQDAQLKKEQHIGEYITLGALGTAFLPSQFPRVLLIDEVDKSDINLPNDLLNIFEEGEFIIPELMRRSKSQKSAASLQQFTVWTQDADKVVLKTGKVKCSAFPIIVMTSNGERDFPPAFKRRCLRVTMPDPKEAALRSIVKAHFGDELYNRNQDCIEKLIKDFLPKQEDGEAFDRATDQLLNTIHILTQSNGPQDEDEIESIKEILFKNLS"
       ]
      },
      {
       "output_type": "stream",
       "stream": "stdout",
       "text": [
        "\n",
        "Tery_4313:\n",
        "23499+, to 30351-, 5 nodes (89.29% id)\n",
        "23499+, to 30351-, 5 nodes (89.29% id)\n",
        "23499+, to 30351-, 5 nodes (88.93% id)\n",
        "23499+, to 30351-, 5 nodes (88.93% id)\n",
        "MTRVGVLLLNLGGPEQLEDVRPFLFNLFSDPEIIRLPFPWLQKPLAWFISTMRFQKSQENYQEIGGGSPLRSITEQQALAIQQQLGEKGLAAQTYIGMRYWHPFTEEALARVKRDQVEKLVILPLYPQYSISTSGSSFRLLDKLWKKDPELQKIKYTVIPSWHQRXGYIQAMVGLIVQELNHCPNPEQVHIFFSAHGVPVSYVEEAGDPYQAEIEECVDKIMKTLNCSNPHTLAYQSRVGPVEWLKPYTEDAIQELAASGVKNLLVVPISFVSEHIETLQEIDMEYREVAEEAGISNFYRVPALNTHPIFINDLADLVMETLDAPSHGFSDAIQMKKIIKMYPQERWEWGLTTTAEVWNGRLAMVGFIALLLELITGYGPLHLAGLL"
       ]
      },
      {
       "output_type": "stream",
       "stream": "stdout",
       "text": [
        "\n",
        "Tery_4317:\n",
        "23499-, to 30003-, 3 nodes (80.61% id)\n",
        "23499-, to 30003-, 3 nodes (79.39% id)\n",
        "MTTNEKNTGNFPNKKLKESISVDSLAENLMEDLFNDIDQVLSRGSRLPTEVNQPEIVSLTPIKIPQIVLPEKPTQSQNAEKEEKVKSTETQVAKKENKSLDKFLLGAAFISILVTLSLWLATRGGLEKILAYLGYIEKPNLSLETLSPRVAEDAKFADYIERSLKMIEQKEAAEKQKLLGLPPAPSSNNLPTVPVPANPPINTSLLLPLNRLVDLMEAQVAKETLTIPETKVVVIPAMPTAVAVTPKSEAPSPKPSAASASKASTEAAENVQEKSEAQVTAKAEVKPETKAKINSSSSAKAEAKTKLKASVKTTAQDKSEKNSEPQLETKVESEPETETPTQPVSLPPPIPVKIPATETVVPSEIKVPINTLVGILELGERSAALFEIDGVARRIYVGENIGGSGWTLVEVVNQEAVVRRNGEVRSVFVGQQF"
       ]
      },
      {
       "output_type": "stream",
       "stream": "stdout",
       "text": [
        "\n",
        "Tery_4327:\n",
        "21839+, to 21541-, 3 nodes (97.61% id)\n",
        "21839+, to 21540-, 3 nodes (97.61% id)\n",
        "21838+, to 21541-, 3 nodes (97.45% id)\n",
        "21838+, to 21540-, 3 nodes (97.45% id)\n",
        "MAKRIIYNENARRALEKGMDILAESVAVTLGPKGRNVVLEKKFGAPQIVNDGVTIAKEIELEDHVENTGVSLIRQAASKTNDAAGDGTTTATVLAHAMVKEGLRNVAAGANPIALKRGIDKXAGFLVEKIAEHARQIEDSKSIAQVGAISAGNDEEVGQMIAEAMDKVGKEGVISLEEGKSMQTELEITEGMRFDKGYISPYFATDMERMEASLEEPQILITDKKIALVQDLVPVLEQIARSGKPLLILAEDIEKEALATLVVNRLRGVVNVAAVKAPGFGDRRKAMLEDIAVLTGGQVITEDAGLKLENAKLDMLGKARRITITKDNTTIVAEGNEKEVKARCEQIRRQMDETESSYDKEKLQERLAKLAGGVAVVKVGAATETEMKDRKLRLEDAINATKAAVEEGIVPGGGTTLAHLAPELETWANQNLQSEELTGALIVSRALLAPLKRIAENAGQNGAVISERVKEKDFNTGFNAADNEFVDLFVAGIVDPAKVTRSALQNAASIAGMVLTTECIVVDKPEPKESTPAGAGMGGGDFDY"
       ]
      },
      {
       "output_type": "stream",
       "stream": "stdout",
       "text": [
        "\n",
        "Tery_4335:\n",
        "12062+, to 30820-, 2 nodes (96.52% id)\n",
        "12062+, to 31988+, 2 nodes (96.52% id)\n",
        "MARMYYDSDANLDILNDKTIAIIGYGSQGHAHALNLKDSGSKVIVGLYPGSKSATKAKAAGLDVCPVDEAAEKADLIMILLPDEVQKTVYKNQIEPHLKEGKILAFAHGFNIHFGQIVPPEKVDVVMVAPKGPGHLVRRTYEQGEGVPCLFAIFQDPSGQARDRAMAYAKGIGGTRAGILETTFREETETDLFGEQVVLCGGLSALIKAGFQTLVEAGYQPELAYFECLHEVKLIVDLVVEGGLANMRDSISNTAEFGDYTRGPRIVTDETRTEMQKILSEIQSGQFAREFVMENQTGKPVFTAMRRQEAEHPIEEVGKDLRAMFSWLKKR"
       ]
      },
      {
       "output_type": "stream",
       "stream": "stdout",
       "text": [
        "\n",
        "Tery_4340:\n",
        "17828-, to 3112+, 10 nodes (81.35% id)\n",
        "17827+, to 10985+, 10 nodes (81.90% id)\n",
        "12314-, to 3112+, 10 nodes (81.63% id)\n",
        "28070-, to 3112+, 10 nodes (80.98% id)\n",
        "28070-, to 17396+, 10 nodes (80.93% id)\n",
        "28070-, to 9240-, 10 nodes (80.99% id)\n",
        "17828-, to 10985+, 10 nodes (82.64% id)\n",
        "29648+, to 17396+, 10 nodes (80.98% id)\n",
        "11155+, to 3112+, 10 nodes (79.82% id)\n",
        "28048+, to 3112+, 10 nodes (79.47% id)\n",
        "17828-, to 3112+, 10 nodes (80.04% id)\n",
        "11155+, to 3112+, 9 nodes (79.22% id)\n",
        "28048+, to 3112+, 9 nodes (78.83% id)\n",
        "29648+, to 9240-, 10 nodes (81.06% id)\n",
        "28070-, to 3112+, 10 nodes (78.92% id)\n",
        "33801+, to 17396+, 10 nodes (81.87% id)\n",
        "33388+, to 17396+, 10 nodes (81.87% id)\n",
        "17688+, to 3112+, 8 nodes (80.83% id)\n",
        "11155+, to 17396+, 9 nodes (79.71% id)\n",
        "28048+, to 17396+, 9 nodes (79.32% id)\n",
        "17688+, to 3112+, 9 nodes (81.15% id)\n",
        "28070-, to 17396+, 10 nodes (79.43% id)\n",
        "33801+, to 9240-, 10 nodes (82.03% id)\n",
        "17688+, to 3112+, 10 nodes (80.00% id)\n",
        "33388+, to 9240-, 10 nodes (82.03% id)\n",
        "11155+, to 17396+, 8 nodes (79.02% id)\n",
        "28048+, to 17396+, 8 nodes (78.59% id)\n",
        "29648+, to 17396+, 10 nodes (78.67% id)\n",
        "17688+, to 17396+, 7 nodes (80.81% id)\n",
        "17688+, to 17396+, 8 nodes (81.18% id)\n",
        "17688+, to 17396+, 9 nodes (79.84% id)\n",
        "14200-, to 10985+, 6 nodes (80.61% id)\n",
        "17688+, to 10985+, 9 nodes (81.67% id)\n",
        "11155+, to 3112+, 5 nodes (77.03% id)\n",
        "28048+, to 3112+, 5 nodes (76.49% id)\n",
        "14200-, to 9240-, 4 nodes (78.50% id)\n",
        "17688+, to 3112+, 5 nodes (77.83% id)\n",
        "17688+, to 9240-, 7 nodes (79.58% id)\n",
        "3111-, to 10985+, 4 nodes (79.49% id)\n",
        "3111-, to 10985+, 4 nodes (77.10% id)\n",
        "CAEXXFKDYKTGGXNXXISXG**NXIX*FNFINSYFIXB*XXXXXKXXXXRGXRXXIKN**KX*KRKKTQ*FFCRIIYDLLGNK**FXCXELVENLMSQNXHKLJXYXRGLKXMNXVVN"
       ]
      },
      {
       "output_type": "stream",
       "stream": "stdout",
       "text": [
        "\n",
        "Tery_4343:\n",
        "16943+, to 14537-, 2 nodes (92.24% id)\n",
        "16943+, to 10425-, 2 nodes (91.87% id)\n",
        "MSYRKTIQKSKIVVCGAGIGGLTTAALLAHRGYEVQVFDQAIIPGGCASTFKRRGFTFDVGATQVAGLEPGGIHHRIFSELEIDIPRATHCDPACAVFLPGETESINVWRDPQKWQEERQRQFPGSEAFWQLMTKLFEASWKFQGRDPVLPPRNIWDFWQLVKAVRPDTLITVPFTLMTVADALRLYGLNDNLRLKTFLDLQLKLYSQVGTEETALLYAATALAVSQAPQGLYHLQGSMQELSDRLVTALKRDGGKLFMGHTVENIYVDNGKANAVRIRNQKTGETWRETADHVVANVTVQNLVKLVGEENQPHTSHLMPGYKRRVDKLPSPWGAFIVYLGVDESAIPRNCPPHLQFFYDYDGPIGENNSLFVSVSHPGDGRAPTGKATITASSFTDTQIWGNSQDYQXLKQKYMEEAIXRLGGYFYLKPETIVYQEAATPRTFVKFTARDEGIVGGVGQRLRNFGPFGIANRTPIQDLWLVGDSTHPGEGTAGVSYSAMTVVRQIEA*KXFT"
       ]
      },
      {
       "output_type": "stream",
       "stream": "stdout",
       "text": [
        "\n",
        "Tery_4348:\n",
        "16943-, to 7147-, 8 nodes (95.19% id)\n",
        "16943-, to 7147-, 8 nodes (95.19% id)\n",
        "16943-, to 7147-, 8 nodes (95.19% id)\n",
        "16943-, to 7147-, 8 nodes (95.19% id)\n",
        "16943-, to 7147-, 8 nodes (95.19% id)\n",
        "16943-, to 7147-, 8 nodes (95.19% id)\n",
        "16943-, to 7147-, 9 nodes (95.04% id)\n",
        "16943-, to 7147-, 9 nodes (95.04% id)\n",
        "16943-, to 7147-, 7 nodes (95.04% id)\n",
        "16943-, to 7147-, 7 nodes (95.03% id)\n",
        "MTQVTKTHNQIKTANTAIENLKCKECGEEYPLEAKHICEDVCFGPLEVRYDYEKLSQIVSRAVIEAGPQSIWRYRHFLPVTTDNFIDVGTGMTPLVKSERLARRLGLKNLYIKNDAVNMPTLSFKDRVVSVALSRARELGFSTISCASTGNLANSTAAIAAKAGLECCVFIPADLEAGKVLGTLIYNPTVMAVKGNYDQVNRLCCEVANSYGWGFVNINLRPYYSEGSKTLGFEVAEQLGWQLPDHVVAPIASGSLYTKIYKGFQEFVKVGLVEDKAVRFSGAQAEGCSPVAQAFKEGRDFINPVKPNTIAKSIAIGNPADGIYALELARKTNGNIESVNDAEVIEGIKLLAETEGIFTETAGGTTIAVLKKLVEAGKIDPEETTVAYITGNGLKTQEAVQGYIGQPLTIEAKLDSFEKAWERAQRLERLDWQQVLV"
       ]
      },
      {
       "output_type": "stream",
       "stream": "stdout",
       "text": [
        "\n",
        "Tery_4370:\n",
        "21864- to 21864-, 1 nodes (92.27% id)\n",
        "21864- to 21864-, 1 nodes (92.61% id)\n",
        "MSQYIFVPWSKVEQTLSFASGIATRKTL*LRSNTALPTR*SPRPYNFCRTSASIPTPCR*NFVSLGPRMAR*VGFSPRGLDSCIPQYQRPTRTSKI*ELA*PDNN*PILRRVTETKTSYPTSIVRCPFDLR*WYNGLGNCLKYPWARRKINYTRVL*SS*GCDRSIT*RLQSNYYLERN*GFIIRRNCRNYTSFSRNC*IKNC*SQTKITIAAPKIFRY"
       ]
      },
      {
       "output_type": "stream",
       "stream": "stdout",
       "text": [
        "\n",
        "Tery_4373:\n",
        "21864-, to 4132+, 5 nodes (94.15% id)\n",
        "21864-, to 4132+, 5 nodes (94.15% id)\n",
        "21864-, to 4132+, 5 nodes (94.15% id)\n",
        "21864-, to 4132+, 5 nodes (94.15% id)\n",
        "MAFLLPQLPISAFLPELPLDSLFSTQGIMVMLLAAYAVAMWMFLTSAPKVHTIMVSDLAIAQQLYEGMLELPVAEVPLHYYHNYEQTLGATGIDPLYLANDYTRFSTTNQGTAASDGLWYQLMKNTQIHIISGASLGTKNHQRHVCFDKDCLEQILMRIQIRGLKYKIRSEKPLNLLVKDWNSRVIEIAEVKN"
       ]
      },
      {
       "output_type": "stream",
       "stream": "stdout",
       "text": [
        "\n",
        "Tery_4392:\n",
        "17399-, to 13645+, 5 nodes (92.25% id)\n",
        "17399-, to 13645+, 5 nodes (92.25% id)\n",
        "17399-, to 13645+, 5 nodes (91.94% id)\n",
        "17399-, to 13645+, 5 nodes (91.94% id)\n",
        "MEIQTPEWVKHAVFYQIFPDRFVKGQAPTQTRKGIDKGWYPSSLEPWDESPTPQGYKGGNLWGVIEKLDYLQTLGITAIYFTPIFQSTCNHRYHTHDYYRVDPILGGNEALRVLIDAAHDRNIKVVLDGVFNHASRGFYFFSDILENGPYSPWLHWFKIEDWPLSAYDGSLPANYVGWLDNRALPVFNHDNPEVKEYIMEIGEYWLKFGIDGWRLDVPFEVKTPGFWQEFRDRVKAINPEAYIVGEVWSKCAQWLDGTQFDGVMNYLFTGPTIAFTAGARVDIEQVEDRDYVVYPAISAVEYGQKMQZLLQLYPWEIQLTQLNLLDSHDTARVLSIAQGDKASVELATLLLMTFPGAPSIYYGDEVGLPGKLDPDCRRGFPSTEKWDHQVLEYHKQLIAIRHEYLALRTGNYEVLFAERNVYIFARILGEEEIMVAVNIGIEAAKVNVIVNKLKSQPDKVVYGSCKISWKRENEASKLELNLPERKACILVK"
       ]
      },
      {
       "output_type": "stream",
       "stream": "stdout",
       "text": [
        "\n",
        "Tery_4415:\n",
        "25198-, to 33580-, 4 nodes (80.47% id)\n",
        "25198-, to 451-, 3 nodes (82.67% id)\n",
        "25198-, to 33580-, 3 nodes (78.92% id)\n",
        "PDVEWKESKDLFMEEFRFVDQEDALPGAFLPPGTKLIFQGKSITPLIPINPVLLDYFTPEDLIAKVEFAQINSSDGXQVRVTLDLPLSGMKBDXRQPQNYRIXXDYPIXDXNALPEVPVLEVWPNFLAXGWRSYYAFYYDAEFGEDTFQVXLPEAKXXHXFIDGRGAXQITHLEEFPSF"
       ]
      },
      {
       "output_type": "stream",
       "stream": "stdout",
       "text": [
        "\n",
        "Tery_4440:\n",
        "27603+, to 33972-, 5 nodes (82.00% id)\n",
        "27603+, to 33972-, 5 nodes (81.28% id)\n",
        "27603+, to 33972-, 4 nodes (80.08% id)\n",
        "EELQVSTGIEHICPEVDNLKYFRSKNAAFAQYFADMEGFDLVRTSCIYMRRETSDISVWYNNELIHQCSVLFAGRHLLSDFLELNPNFFSQLFEQNLTDSNQLTEDKFRAKLDLFLRLESENWLKNKRDFAEDDPKFQGLLRLMAIGIGGLYYYVGTILGVLEQEGKYQGREITPVYIGGNGSRVLNWLVEGGRFIPDSKVSXLLSQMLNKGSGFDDYILEKTRLXQRPEDEVACGLVLDRANLTGWDRKTQDSLIAGEDCKINSNSLQWRERLEFEGNIRELKIPDLVQLRTFLDNFHLSLKELEIEEILPLQDYELGDEPGAKPKSAYNIRLWQNTQRELTNFLLNSRGQTDEIPVAPPFIMGLRALLEVLAKEWAGK"
       ]
      },
      {
       "output_type": "stream",
       "stream": "stdout",
       "text": [
        "\n",
        "Tery_4442:\n",
        "27568+, to 33286-, 2 nodes (95.08% id)\n",
        "27568+, to 33972+, 2 nodes (95.08% id)\n",
        "MSLPIRNVAIIAHVDHGKTTLVDSLLKQSGIFREGEEVPDCVMDSNDLERERGITILSKNTAVRYRDTLINIVDTPGHADFGGEVERVLGMVDGCLLIVDANEGPMPQTRFVLKKALEKGLRPIVIVNKIDRPRADPHSAVDKVLDLFLELGADDDQCDFPYLFASGLAGYAKKDLKTESQDMQCLFDAILEHVPPPVGDPEKPLQLQVTTLDYSEYLGRIVVGRIHNGIIRSGQPAAIVKEDGKIVKSKISKLMGFEGLARIEVEEAAAGNIVAVAGFSDANIGETITCPNEPQALPLIRVDEPTLQMTFSVNDSPFAGQEGKFVTSRQVRDRLVRELETNVALRVEETDSPEKFSVSGRGELHLGILIETMRREGYEFQVSQPQVIYREVSGQPCEPFELLAMDVPEDAVGGCIERIGQRKGEMQNMLVGTNGRTQLDFSIPARGLIGFRGEFMRLTRGEGIMNHSFLDYRPLVGEIEARRNGVIIVFEEGVATFYALKNAEDRGVFFITPGTKVYKGMIVGEHNRPQDLDLNVCKTKQLTNHRSATGDELVQLQAPVEMSLERALEYIGPDELVEITPESIRLRKISKKLVKR"
       ]
      },
      {
       "output_type": "stream",
       "stream": "stdout",
       "text": [
        "\n",
        "Tery_4449:\n",
        "26420-, to 17921+, 4 nodes (79.75% id)\n",
        "26420-, to 21999+, 4 nodes (79.75% id)\n",
        "26420-, to 17921+, 4 nodes (79.14% id)\n",
        "26420-, to 21999+, 4 nodes (79.14% id)\n",
        "YLNPKIMKLNQELASEEVRIELIPLIDVIFCILTFFLLAALQLTRQQAINVNLPKASTGKPQSQDMLIVSVDEVGKTFIEQQPVNTVDLEKFVRRYNQVNPRGVVVLYAPKEAKYNDVVQVLDLLREVGGDRVALATLPXSPQTXPGNTSEKSVTPSQENXKTTPRVTTGADDTSXKSVIPSESKQKNTPPRTVDPNEYKLPPAPE"
       ]
      },
      {
       "output_type": "stream",
       "stream": "stdout",
       "text": [
        "\n",
        "Tery_4452:\n",
        "7279+, to 638+, 3 nodes (79.64% id)\n",
        "7279+, to 637+, 3 nodes (79.82% id)\n",
        "32143+, to 638+, 3 nodes (78.08% id)\n",
        "32143+, to 637+, 3 nodes (78.23% id)\n",
        "MDNGVQWDXFLXIIASEYKLTTXEXEFFSXRFXNXNWEKNDXDIXXJVMXXXNQXZAYXKRKXNVYXKFKGIINHDGKDKFPILLEWLKQEYQNRYFPQQITKPXQEFEGKVSNPFIPLNGIIEHPWLFFNREGEINSIFEVLNSGSSVAIIGEGGVGKSSLLKAIAQRAGQYLEKPRKSIYIDLQHIQSDDDFYTALCEEVGIEFCRGYQLQKNLKLHRILLLLDVVENLSYDWFTNQLRSQLRGLAIDSGPPLRLVIAASKSLDILFPDSGDKTSPFENICLVQHLKPWNEKTIRSFIEARLQADFLKLEYQGIKFGEDEILQIIESSKGYPGKVMRGCYELFKSKS*NSGLLKLSF*EQGT"
       ]
      },
      {
       "output_type": "stream",
       "stream": "stdout",
       "text": [
        "\n",
        "Tery_4462:\n",
        "24993-, to 16401-, 8 nodes (88.37% id)\n",
        "24993-, to 16401-, 8 nodes (88.37% id)\n",
        "24993-, to 16401-, 8 nodes (88.36% id)\n",
        "24993-, to 16401-, 8 nodes (88.36% id)\n",
        "24993-, to 16401-, 7 nodes (88.54% id)\n",
        "24993-, to 16401-, 7 nodes (88.54% id)\n",
        "24993-, to 16401-, 7 nodes (87.88% id)\n",
        "24993-, to 16401-, 7 nodes (87.88% id)\n",
        "VNKQPNQKFQFDSIDTALADIKAGNCVVVVDDEHRENEGDVICAAQFATPNMINFMAVEARGLICLALTGDRLDQLDIPLMVTKNTDSNQTAFTVSIDASPELGVSTGISAEDRARTIQAVINPTTKPEDLRRPGHVFPIRAKEGGVLKRAGHTEAAVDLARLAGLYSAGVICEIQNQNGSMARLPQLVEYAQTHNLKLISIADLISYRIKHDRFVYRETVAELPSLFGYFQIYAYRDTQNNLEHIAIVKSNPEEFKDKDVMVRVHSECLTGDAFGSLRCDCRMQLQAAMKMIENAGAGVVVYLRQEGRGIGLVNKLKAYALQDMGLDTVEANERLGFPADLRNYGVGAQILHDLGLKKIRLITNNPRKIAGLNGYGIEVVDRVPLLIEATDYNCAYLATKAQKLGHIMLRSYLVTIAIDWKNQRTEEELNDDSYIATMKSGIQQRYQYLEKLRSLIKEHDFLLQEETRPVATAVFAQAPLIVNFGLEQSILATSKWYEQSNHPYMIAIAKVLTEIAQWQNLLKLEFIIASGSDPMIALQIKLERQNLKFTELSTVMKHLETQKIYSLKI"
       ]
      },
      {
       "output_type": "stream",
       "stream": "stdout",
       "text": [
        "\n",
        "Tery_4500:\n",
        "5351+, to 3202+, 10 nodes (93.87% id)\n",
        "5351+, to 32231-, 10 nodes (94.65% id)\n",
        "22658-, to 3202+, 10 nodes (93.48% id)\n",
        "5351+, to 3201+, 10 nodes (94.04% id)\n",
        "5351+, to 26909+, 10 nodes (94.31% id)\n",
        "5351+, to 12267+, 10 nodes (92.99% id)\n",
        "22658-, to 12267+, 10 nodes (92.57% id)\n",
        "5351+, to 12267+, 10 nodes (92.51% id)\n",
        "22658-, to 12267+, 10 nodes (92.09% id)\n",
        "6657-, to 12426-, 10 nodes (90.63% id)\n",
        "5351+, to 3202+, 10 nodes (93.35% id)\n",
        "22658-, to 3202+, 10 nodes (92.91% id)\n",
        "5351+, to 3201+, 10 nodes (93.51% id)\n",
        "5351+, to 26909+, 10 nodes (93.80% id)\n",
        "6657-, to 12426-, 10 nodes (89.82% id)\n",
        "MVKQLKTZTHXEIVYPDSDGQPMADNTVQFRWIAVLYHNLAWLFAENPEVFVAGDLLWYPVVGDDKLRQAPDVMVAFGVSKRDRGSYQQWKENNIAPQVVFEILSPGNTLKEMSKKRLFYDNYGVEEYYLYDPQKNDLTGWLRSESLLDVIDEMNGWVSPRLGIRFEVXPETLQLYRPDGQLFADYLEVQKXLNEVQEQLDNVQEQLGXVQEQLXBVQEQLGNVQEQLXEEXQAXXXAESELXZERQAKEVAEERAKRLEQLLREAGID"
       ]
      },
      {
       "output_type": "stream",
       "stream": "stdout",
       "text": [
        "\n",
        "Tery_4506:\n",
        "11993+, to 19124-, 2 nodes (82.49% id)\n",
        "23251+, to 19124-, 2 nodes (82.03% id)\n",
        "LGNVPFDIPNTTNNIWHXXXASGPNPRTLTVDVGLFGVTEVHTLINTXWGXSAGLASIEFHGSDDAYYXKTLYGNSDIRDWNQXXYTNRINNTTTVEVFSDPRGPYGTPTRLDKQLIDLPVTFNDEELSTIVFKDWGDTAYQRIFVSGITAGIAADNKKPTPIPEPSNILALISLIGLSPIFLKKR"
       ]
      },
      {
       "output_type": "stream",
       "stream": "stdout",
       "text": [
        "\n",
        "Tery_4507:\n",
        "7467+, to 11992+, 2 nodes (91.88% id)\n",
        "7467+, to 11993+, 2 nodes (91.88% id)\n",
        "MSKTSIRPALITKVIPDSIGAEIGFEPGDTIASINGQQPRDLIDYQYICADEYLEIEVIDAKGKTHNIEIEKDYDQDLGLEFSTALFDGLIQCNNRCPFCFIDQQPPGKRDTLYFKDDDYRLSFLYGSYLTLTNLPQREWERIGQMRLSPLYVSVHATEPELRSRLLKNSRAGKILEQIQWFQERRLQIHAQVVVCPGINDGIHLERTLLDLAKFHTGEIPAVASVAVVPVGLTRFRPVEDELIPVTTAKAEEVIDQVQKIQAKFRQTSGTNCIWLADEWFLIGRRELPPASEYEDYPQIGNGVGSIRRFLSQFETYVKDFLEEDICLSSRRKLTWVVGNAVEKAFVAIANQLNQIEGLEVDMVALSSNYWGQDITVTGLLTGQDLLEGLQGRDLGEGILLPSVMLKQGDNLFLDDMTLEDLSAQLQTNIWPVAGVEELVLTAVGDRVGSRKEIAN"
       ]
      },
      {
       "output_type": "stream",
       "stream": "stdout",
       "text": [
        "\n",
        "Tery_4509:\n",
        "19508-, to 19509+, 2 nodes (95.93% id)\n",
        "19508-, to 19510+, 2 nodes (95.93% id)\n",
        "MAKDLTNYRNFGIFAHVDAGKTTTTERILKLTGKIHKIGEVHEGAATTDFMEQEQERGITIQSAATSCFWKDHQLNIIDTPGHVDFTIEVYRSLKVLDGGIGVFCGSGGVEPQSETNWRYANDSKVARIIYVNKLDRTGADFYKVVKQVEDVLAANPLVMVLPIGIESDFVGVVDLLTRKAWVWDDSGDPTKYEIKDVPENMTDDVEKYREMLVETAVEQDDEIMEKYLEGEEPDIDTLKHCIRKGTNDLAFFPTYCGSSFKNKGVQLVLDAVVDYLPNPTEVKPQPEIDLEGHETGNVAYVDPEKPLRALAFKIMDDKYGALTFTRIYSGTLSKGDTVLNTATGKTERIGRLVEMHADSREEIESAQAGDIVAIVGMKNVQTGHTLCDPKKPATLEPMVFPDPVISIAVAAKDKGSVEKLGMALSKMVQEDPSFRVETDVESNEIIIKGMGELHLDIKVDILKRTYGVDVEVGKPQVAYRESITKSIEDSYTHKKQSGGSGQFGKIDYMIEPGEPGTGFEFQSKVTGGNVPREFWPAVQKGFETSFAKGMLAGFPCVDMKFTLMDGAYHPVDSSAIAFEIAAKAAYRQSFSKAAPQLLEPIMKVDVFTPDDHVGDVIGDLNRRRGMIKSQDSATTGSRIKADVPLSEMFGYIGDLRTMTSGRGQFSMEFSHYAPCPGNVAEVVIKEAKERQEAKSK"
       ]
      },
      {
       "output_type": "stream",
       "stream": "stdout",
       "text": [
        "\n",
        "Tery_4550:\n",
        "27126-, to 17854-, 10 nodes (70.16% id)\n",
        "13258+, to 17854-, 9 nodes (70.40% id)\n",
        "27126-, to 17854-, 9 nodes (70.05% id)\n",
        "13258+, to 17854-, 8 nodes (70.30% id)\n",
        "27126-, to 29747+, 8 nodes (70.05% id)\n",
        "13258+, to 29747+, 7 nodes (70.33% id)\n",
        "SLKELDKGELFTFXXXKVNXXGXIXXXXZGXAXXXIEBLGNGVXLEMVXIPGGRFLMGSPXTEXXRXXXEXPQHYVDVPEFWMGKYVVTQZQWQAIMGNXPSXFXGKNXPVERVSWNNATEFCZKLSKKTGRDYRLPSEAEWEYACRAGTTTPFYFGETITGELANYKASETYADEQKGEYRXQTTPVGQFPPNAFGLYDMHGNVWEWCQDVWHXXYDGAPDDGSAWVNGGNSXXRVXRGGSWFXNPRXCRSAXRLNYFSVETDLXXIGFRLV"
       ]
      },
      {
       "output_type": "stream",
       "stream": "stdout",
       "text": [
        "\n",
        "Tery_4569:\n",
        "6477-, to 6377-, 5 nodes (93.52% id)\n",
        "6477-, to 6377-, 5 nodes (93.52% id)\n",
        "6477-, to 6377-, 5 nodes (93.52% id)\n",
        "6477-, to 6377-, 5 nodes (93.52% id)\n",
        "MIQQSKPEYSLVWISKITEVPKPEWDALAQPLKTPFLEWDWLDNMEKSGSVGGRSGWLPQHLTVWRDRQLIAAAPLYVKGHSQGEFVFDHQWAEVSYRLGIEYYPKLLGMSPFTPAEGYRFLIAPGEDEDEITAMMVSEIDYFCDRHNISGCHFLYVDPEWHPIIKRNGFTNWLHHSYIWQNQGYQTFDDYLKVFNANQRRNIKRERKAVGKAGLQMQTLTGDDIPKALFSKMYTFYESTCDKFGWWGSKYLTKRFFEQLHQNFRHRVLFVAGYREENDRFPVGMSFCITKGDRLYGRYWGSTYEIDCLHFDACYYAPIEWAIEHGVNSFDPGAGGRHKKRRGFPATPNHSMHKFYHNRLSKIFLSYIGQVNEMEQLEMDRINEDLPFSQ"
       ]
      },
      {
       "output_type": "stream",
       "stream": "stdout",
       "text": [
        "\n",
        "Tery_4581:\n",
        "24867-, to 19846+, 4 nodes (72.31% id)\n",
        "24867-, to 19847+, 4 nodes (72.31% id)\n",
        "24867-, to 11432+, 3 nodes (72.31% id)\n",
        "LTLKEFSLPLFWFPLVKKIIENLFSISSELVLILDRTQWQNTNILMISL\n",
        "Tery_4608:\n",
        "23909+, to 9861-, 2 nodes (93.35% id)\n",
        "27864+, to 9861-, 3 nodes (94.50% id)\n",
        "27863+, to 9861-, 3 nodes (95.11% id)\n",
        "MTXANLSTQSPXXQRPRRLRRTPALRRMVEETXLTVNDLIYPLFVMEGEGEKVEVVSMPGSYRYSLDLLLKEIEDAYNLGINAIALFPLVAEAKKDNVGTESYNSEGLIQRTVRAIKQTIPDIVVITDVALDPYSSEGHDGIVGENGVILNDPTVEVLVKQALSHAEAGADIVAPSDMMDGRIGAIRKALDAAEYSDVGILAYSAKYASAYYGPFRDALDSAPKFGDKKTYQMDSANVREALKEVALDIAEGADMVMVKPALAYLDIICEVKKTTNLPVAAYNVSGEYAMIKAAGQKGWIDEKKVMLETLTSMKRAGADLILTYFAKEVALILK"
       ]
      },
      {
       "output_type": "stream",
       "stream": "stdout",
       "text": [
        "\n",
        "Tery_4609:\n",
        "19011+, to 23910+, 2 nodes (95.31% id)\n",
        "19011+, to 23909+, 2 nodes (95.31% id)\n",
        "MNYWAILTGIEGNITAYDAVIADIKKQKYLVEDLYILGDIVGLNIDCKKLVERVRYPKQNELKPKVCMGWWEEQCLILHGLTTTAEPTELIAEYGMNAVKILWDNVDRETVEWLRSLPFGFSELDCLLIHGSTLGVSDKLTPDTPPIQMLDRLMRFGVNNLFCGRSGLAFKYQLENGSVSSGVTKLGAEVGAIETTSSTQTLRTPCQVIGVGNVGSLPGNATYTLYNPNTNEVSFRTLRYS"
       ]
      },
      {
       "output_type": "stream",
       "stream": "stdout",
       "text": [
        "\n",
        "Tery_4625:\n",
        "29502+, to 4351-, 7 nodes (82.55% id)\n",
        "29502+, to 4351-, 7 nodes (82.49% id)\n",
        "29502+, to 4352-, 8 nodes (81.72% id)\n",
        "29502+, to 4352-, 8 nodes (81.66% id)\n",
        "29502+, to 12783-, 5 nodes (74.87% id)\n",
        "29502+, to 12783-, 5 nodes (74.81% id)\n",
        "MDRKSLREALVVGINSYPFLKKKKLGDLNLKAAIKDAEAIANMLEKYGKFRVQRLPKGYDEEGKERFEPRGTVRIDELKQAIINLFQPPIKNETPDVALLFFAGHGFVNTKGDIREGVLVTSEAQFLENISENDNISGISLXWLKEXLQDSXVXKQIVWLDCCFSGELLNFDGXANXNTQEKQVSRCFITASRSFQTATEXIDXKQGLFTDNLLECLNPENYXBGWVTNHILTESIZZRMSQTSQAPMCYNSGSTIILTTNSLTEPLDERWKNVPPYRGLSYFGQQENDGVFFHGRTGLTDKLIEQVKNHNFVAVLGASGSGKSSLLRAGLLYQLKRGQKISGSDRWLCIDPFTPEEFPLKSLLKSLGKSLLEIKIKGEKVESLIQFIHQIEGKKVESLTKELIEEKLIEFIDVVEAERVIMVMDQFEESFTLCKTHEERREFFDCFLAVLERRGEKFCVVLGIRADFLGRCSEYGGLANKIQGHQLLVTPLDEDEIEEVIKKPAALVAMDVEPNLVAQMREDFLRNPGSLPLLEYTLDALWKFATQGEEKSQYLTLETYTNLGGIEGTLTKRADAVFDSLSEEEKLVAQRIFLELVQPGEGEISSGKITDTRRRVILEKLPNERHSLELLSAVTDKLADKNNRLITKDKSEAGILLDIIHEDLIRSWKTLRKWVEEYQEALPVERKIEADAAEWEKDGKSENLLLRAGRLTKAEEYLRIYGEMALLDGLAYEFIEASRELSIREXEKXXXXKXRXXEBQLKXXXKXXXXFXXX*LGYLVMLGCSKI*LNIIVKYSLPVS*RXKQNY*ALIIFX*YXCXXXXXVNEENSRVKRMPXLLXXXXXXXIFRESVFRXXXXC*TRXXXXZXXNSTTXXSXYSXPPXXXKXSSL*PRRQNXCXXK**QXRPPLXY*EWQXISYSXPXXXXXXXSX*PXXQNHCYCXXXXXXPPLGXXXXXXISYXXXXXXXXXXSL*XXRXNHCXCKXXXXXXXLGYXXXQXISYXQXPGXXXXSSL*PRXXNHCYCXXRXXXXPLGXXXXXXXSYXQXPXHSXXXXSSL*PRRQNHCYCKXXLCRC*CK**XXXXPLGXXXXQXISXXQXXXXXXXSSX*XXXXNXCYXKXXQXXPXLGYXXXQXISYSQXXXXXXXSSL*XRRQNHCYCKXXQXRPXLGXXXXXXXSYXQXXXXXXXSXL*XRXQNHXYCX*CXXXQXXXXLGYXXXQXISYXXXXGXXXSXSX*PRRQNHCXXKXXXXXXXLGYXXXZRISYSQPXXXGXSSSL*XRXQNHCXXXXXXXXPXLGYXHXXRISXSQXPGXXXXSXX*PXRQNXCYXKX*QXRPXLGYXXXQXISYSQPPASQPPGXGXXSSX*PRRXNXCYCKXXXXRPPLGY*XXXXISYSQPXXXXXSSXLXPXXQNHCYCKX*XXXPXLGYXXWQXISYSQPPXXXXXSXL*PXRZNHCXCXXGYPPMGY*HRQTISYSQPPELRKCSSL*PRRQDHCYCKXXXXXPPLGYXXWQXIXYSQPPGXGXCSSX*XXRXNXCYCX**XXRPXPXXNXRRLNSRSLXXSQSEFNSXGXAXVYXQRLXDISENLXXXSXSS*XNXXS"
       ]
      },
      {
       "output_type": "stream",
       "stream": "stdout",
       "text": [
        "\n",
        "Tery_4635:\n",
        "32033-, to 8953-, 2 nodes (96.33% id)\n",
        "32033-, to 9056-, 2 nodes (96.33% id)\n",
        "MFKKLLGDPNTRKLKKFQPWVTDINILEEDIQKLSDEELKAKTGEFRQTLQKAKNKNEEKEILEEILPEAFAVVREAGKRVLSMRHFDVQLLGGIILHQGQIAEMKTGEGKTLVATLPAYLNGLAGKGVHVITVNDYLARRDAEWMGQVHRFLGLSVGLIQQGMNPEERKRNYACDITYATNSEVGFDYLRDNMATGMDEVVQRPFNFCIIDEVDSVLVDEARTPLIISGQVERPSEKYIKAAEIAAALSKDKEHYEIDEKARNVLLSDEGFAEAEKLLAVEDLYNPEDPWAHFVFNALKAKELFIKDVNYIVRDDEVVIVDEFTGRVMPGRRWSDGLHQAIEAKERVDIQPETQTLATITYQNFFLLYPKLSGMTGTAKTEEAEFEKIYNLQVTIIPTNKPTGRKDLSDVVYKTEVGKWNSIAQECAEMHKEHRPVLVGTTSVEKSELLSRLLGELKIPHQLLNAKPENVERESEIVAQAGRGGAVTIATNMAGRGTDIILGGNAEYMAKLKLREYLMPRVVKPEDDDGLSMVRVPGVKKSNLAKGFDPQKKVKSWKVSPQIFPVKLSTQTEGMLKLAVNFAVKEWGERVLPELVVEDKVAIAAEKAPTQEPVIQKLREVYNLIRQEYENYIEREHNQVVECGGLHVIGTERHESRRIDNQLRGRAGRQGDPGSTRFFLSLEDNLLRIFGGDRVAGMMQAFGVEEDMPIESGLLTRSLEGAQKKVETYYYDMRKQVFEYDEVMNNQRRAIYAERRRVLEGRDLKEQVIKYAEQTMDDIVEAYINPELPSEEWELDKLVEKVKQFVYLLADLTPEQLFDLSMEDIKTFMHEQVRNAYDIKEAQVNQIRGGLMRDAERFFILQQIDTLWREHLQQMDALRESVGLRGYGQKDPLIEYKSEGYELFLDMMTDIRRNVVYSMFQFQPQPAVQTTAAETV"
       ]
      },
      {
       "output_type": "stream",
       "stream": "stdout",
       "text": [
        "\n",
        "Tery_4647:\n",
        "31095-, to 28919-, 5 nodes (73.50% id)\n",
        "31095-, to 28919-, 5 nodes (73.00% id)\n",
        "31095-, to 28919-, 5 nodes (73.00% id)\n",
        "31095-, to 28919-, 5 nodes (72.50% id)\n",
        "MKLNRDSLLRRAVKPTFYKKYWLNLAEYASIFFSALGVFGVAASGQAFYAVAPMTLALSLNMANRYRFEKQMQLSQRSEIEDIHXSMERLEKNAAXVIWKLHQQLSTEIQLRQQISTEIESVREKLCTESTQAVDSEIQQQLTVLEDSVSSVQESLASIDQKALSIDDWEIVNGRIYVIEEAIANLQKDMKVLLKEPQVYISQLQARIDEIEVQNTQVVRPHLKRLITLVRQLQHSNYPSSSHQSIISKQSLREHAGESVRQSESRF"
       ]
      },
      {
       "output_type": "stream",
       "stream": "stdout",
       "text": [
        "\n",
        "Tery_4669:\n",
        "5820-, to 18257+, 5 nodes (98.69% id)\n",
        "5820-, to 18257+, 5 nodes (98.69% id)\n",
        "5820-, to 18257+, 5 nodes (98.69% id)\n",
        "5820-, to 18257+, 5 nodes (98.69% id)\n",
        "MTISPPEREAKVKVTVDTDPVPTSFEKWGKPGHFSRSLSRGPKTTTWIWNLHADAHDFDSHTSDLEDVSRKIFSAHFGHLAIIFVWLSGAYFHGAKFSNYEAWLADPTGIKPSAQVVWPVVGQGILNGDMGGGFHGIQITSGLFQLWRASGITNEYQLYCTAIGGLVMAALMMFAGWFHYHKKAPKLEWFQNVESMMNHHLAGLLGLGCLSWAGHQIHVSLPINKLLDSGVAPEDIPLPHEFLFNKSLMAELYPSFAKGLTPFFTLNWGEYADFLTFKGGLNPVTGGLWLSDTAHHHLALAVLFIVAGHMYRTNWGIGHSMKEILEAHKDPLLIGGEGHKGLYETLTTSWHAQLAINLAMLGSISIIVAHHMYAMPPYPYIATDYPTQLSLFTHHMWIGGFLIVGAGAHGAIFMVRDYDPAKNVNNVLDRVIRHRDAIISHLNWVCIFLGFHSFGLYVHNDTLRALGRPQDMFSDSGIQLQPIFAQWVQNLHSLAPGNTAPNALASVSPIFGGDVLAVGGKVAMMPMTLGTADFMVHHIHAFTIHVTALILLKGVLYARSSRLIPDKSELGFRFPCDGPGRGGTCQVSGWDHVFLGLFWMYNSLSIVIFHFSWKMQSDVWGTVDPDGTVSHITYGNFAESAITINGWLRDFLWAQASNVITSYGSELSAYGLLFLGAHFIWAFSLMFLFSGRGYWQELIESIVWAHNKLKVAPAIQPRALSITQGRAVGVAHYLLGGIVTTWAFFLARIIAVG"
       ]
      },
      {
       "output_type": "stream",
       "stream": "stdout",
       "text": [
        "\n",
        "Tery_4693:\n",
        "1034-, to 1033+, 2 nodes (94.72% id)\n",
        "1035-, to 1033+, 2 nodes (94.19% id)\n",
        "MGKQRVLSGVQPTGNLHIGNYLGAIRNWVEGQKEYDNFFCVVDLHAITVPHNPVTLATDTYTIAALYLACGIDJNHSTIFVQSHIPAHXELTWXLNCITPLNWLXDMIQFKEKAIKQGENVGTGLLDYPVLMAADILLYDADKVPVGEDQKQHLELTRDIAVRFNYQFGQGETILKLPDPLIRKEGARVMSLTDGTSKMSKSDPSELSRINLLDPPDVITKKIKRSKTDAVQGLEFDNPKRPECNNLLTLYGLFSAKTKAEVIAECQDMGWGKFKPLLIEATIEALTPIQTKYKAVMDDQSYLKSVLAEGKQKAAAIANQTLEKVKKALGYSMSIEN"
       ]
      },
      {
       "output_type": "stream",
       "stream": "stdout",
       "text": [
        "\n",
        "Tery_4700:\n",
        "1871-, to 1869+, 2 nodes (87.64% id)\n",
        "1870-, to 1869+, 2 nodes (87.64% id)\n",
        "MHSYSLIAPGKINLYLEIIGDRPDGYHELVMVLQSISLADKIDIRSIGIETIVVRCDHPLVSTDAGNIAYRAVSLISKQFPEVFARYGGVEITIHKNIPVAAGLAGGSTNAAAVLVGLDLMWELGLTQRELQELGAQLGSDVPFCIGGGTALATGRGEMLSPLPNLDHIYAVLAKYKNLSISTPWAYQTYRQNFGHTYVTDIESQENSRHRVHSRPMVSAIAQNGHKEVGKLLHNDLEKVALPEYPQLLKLKEAFASQNVLGTMMSGSGPTIFALTESQSQAEEVEAAVKEKMADPDLEFWITQLNSNGISIAH"
       ]
      },
      {
       "output_type": "stream",
       "stream": "stdout",
       "text": [
        "\n",
        "Tery_4719:\n",
        "23845+ to 23845+, 1 nodes (94.08% id)\n",
        "23845+ to 23845+, 1 nodes (74.53% id)\n",
        "MIKLNIKQNHXRXXXILXTXJLXXXLXXCXXXXSNYQSXLXXSTPSDASTFNXPLNXSAYXXFGYIYEXLIIENGXTGELEPXLAESWEXXZDXQXIXIXLKXGLKWSBGXPLTXDDVVFSYNEIYLNDXIPXSXKDXLRIGKSGALPXVKKIDNXRXEFSTXEPFAPFXRYAGXLXILPAHALXESVRTXNSXGELNYLTKWGTDTPVTEIXXNGMYRJKSYXPNQXIILEKNPFYWRXDXQGNXXPYIENIXWQVIXNXDNQLLNFRSGZLDTIKVXXEXFPLLKREEXRGKYTIYNGGXXXXXXFJXFNJNQGXNAQGKPXVDPIKSXWFNXKXFRQAIAYXINRKAMXNNIYRGLGAPQXSXIPVTSPFYLSPEXGLKXYNYDXEKAKXLLLXAGFKYNQNGELLDSZXNXVEFTLLXXAGRKXXEQMATQIXQDLAXJGIKINXQFLSFNTXXXXLXLSXBWEXYLGGFXGGXXEPHXXYXIWSXNGRLHTFNQGXQPGXXXIEGXKVXXWEXZIDDLYXXASQVXDEXKRKZXYXXAZQIXXXZLPFIYMVXPLEFXAIRNRXKGIXYXZLGGGFWNLYELQISB"
       ]
      },
      {
       "output_type": "stream",
       "stream": "stdout",
       "text": [
        "\n",
        "Tery_4725:\n",
        "13662+, to 3351+, 7 nodes (88.59% id)\n",
        "13662+, to 3352+, 7 nodes (88.31% id)\n",
        "17088-, to 3351+, 7 nodes (89.29% id)\n",
        "17088-, to 3352+, 7 nodes (89.01% id)\n",
        "13662+, to 20135-, 6 nodes (89.57% id)\n",
        "17088-, to 20135-, 6 nodes (90.37% id)\n",
        "1259+, to 3351+, 5 nodes (87.37% id)\n",
        "28510+, to 3351+, 8 nodes (87.25% id)\n",
        "1259+, to 3352+, 5 nodes (87.02% id)\n",
        "28510+, to 3352+, 8 nodes (86.91% id)\n",
        "22519+, to 3351+, 9 nodes (87.46% id)\n",
        "22519+, to 3352+, 9 nodes (87.12% id)\n",
        "23221+, to 3351+, 10 nodes (87.37% id)\n",
        "23221+, to 3352+, 10 nodes (87.03% id)\n",
        "7949-, to 3351+, 7 nodes (87.37% id)\n",
        "7950-, to 3351+, 7 nodes (87.37% id)\n",
        "7949-, to 3352+, 7 nodes (87.03% id)\n",
        "7950-, to 3352+, 7 nodes (87.03% id)\n",
        "28510+, to 12171+, 7 nodes (89.47% id)\n",
        "22519+, to 12171+, 8 nodes (89.73% id)\n",
        "1259+, to 20135-, 4 nodes (88.48% id)\n",
        "28510+, to 20135-, 7 nodes (88.28% id)\n",
        "22519+, to 20135-, 8 nodes (88.54% id)\n",
        "7949-, to 20135-, 6 nodes (88.45% id)\n",
        "7950-, to 20135-, 6 nodes (88.45% id)\n",
        "3161+, to 12171+, 10 nodes (89.52% id)\n",
        "23222-, to 12171+, 10 nodes (89.52% id)\n",
        "3161+, to 20135-, 10 nodes (88.24% id)\n",
        "23222-, to 20135-, 10 nodes (88.24% id)\n",
        "3160-, to 1274+, 10 nodes (90.10% id)\n",
        "3160-, to 12171+, 4 nodes (87.21% id)\n",
        "28510+, to 26348-, 4 nodes (85.60% id)\n",
        "22519+, to 26348-, 5 nodes (86.04% id)\n",
        "3160-, to 26348-, 8 nodes (85.08% id)\n",
        "23222-, to 26348-, 7 nodes (85.08% id)\n",
        "LVJXXKKQKHCQMNELXEGDCXIGMTQASSSGFILATRVGKHTDQFISELIXNTEGTTNCKXWHTDDWGGYEXVXPPEVKHIIGXYQTQXXEXTNGIVRQQIGRWHRRQNKFXKVWXQT"
       ]
      },
      {
       "output_type": "stream",
       "stream": "stdout",
       "text": [
        "\n",
        "Tery_4759:\n",
        "12236-, to 9201-, 4 nodes (76.87% id)\n",
        "12236-, to 9202+, 5 nodes (73.14% id)\n",
        "MKPENSSPKIDYDVAIVGAGPVGLATALGLRQRGIENIIVFDQTRAFRKVGQVIGLLPNGLKALKYIDAKAYENIKATIDQPSNSLQVSQNTSTEKKQTSPEWEIRNVDGQKIRSFALGYDEYFQKYGEGRVSISWHELQTQLRQLLPVERVKLIIIVLM*LMSLNFNVLEQILCLIKK*KLTPMLTGMINKKRIKAAV*TPPNFLTQKLHQFVLNYC*E*TELTLGSAKLSIRILQTVDTVNQNIVVLVQ*AVVEYFREQKRFQKK*QRDFFLVLLG**LSKIIKSPKAMFLESFYFFLNLVSWDISSMELSH*SHC*KNRQKS*LMLL*KS*KKQGFQR*FNSWRLYLLQSX*YNVRIILIMPLFLLQDGPNGIEEGFYWREMQPTVCHHLLVKEVIKD*KMQQRSLLWXLRLTSKISGMI*QL*KQLLANMXXCVVHL*LXFNXKL**XDJFLQIRGXRSYRSIIKXFXLGILXKLX"
       ]
      },
      {
       "output_type": "stream",
       "stream": "stdout",
       "text": [
        "\n",
        "Tery_4774:\n",
        "12450-, to 7068-, 2 nodes (93.70% id)\n",
        "12449-, to 7068-, 2 nodes (93.31% id)\n",
        "MXITEMTPRNTIAAIATAIVPQQGSVGIVRMSGSEAMKIAXTLFHAPGKQVWETHHILYGYIRHPQSRQLVDEALLLIMKAPRSYTREDVVEFHCHGGIIATQQVLQLCIEAGAELAQPGEFTLRAFLNGRLDLTQAESIADLVSSQSPAAAQVALAGLQGKLATPIRHLRACCLDILAEIEARIDFEEDLPPLNESEISQKVDSILVDLSMVLATASRGDLLRTGLKVAIIGRPNVGKSSLLNAWSRSDRAIVTDLPGTTRDVVESQLVVGGIPVQVLDTAGIRETQDRVEKIGVERSCQAAESADIVLLTIDAKVGWTELDEFIYQQVKHRSLILIINKVDQVNLLHSKLIKSIFYPETIKNVVTTAAINNQGVEELEAAIINAVNLDNVQAENLDFAVNQRQAAALTRAKVALEQCLNTIKNNLPLDFWTIDLRGAIYALGEVTGEDVTESVLDRIFSRFCIGK"
       ]
      },
      {
       "output_type": "stream",
       "stream": "stdout",
       "text": [
        "\n",
        "Tery_4785:\n",
        "14827-, to 26780-, 9 nodes (84.36% id)\n",
        "14827-, to 26780-, 9 nodes (84.36% id)\n",
        "14827-, to 26780-, 9 nodes (84.27% id)\n",
        "14827-, to 26780-, 9 nodes (84.27% id)\n",
        "14827-, to 26780-, 9 nodes (84.18% id)\n",
        "14827-, to 26780-, 9 nodes (84.18% id)\n",
        "14827-, to 26780-, 9 nodes (84.18% id)\n",
        "14827-, to 26780-, 9 nodes (84.18% id)\n",
        "14827-, to 26780-, 9 nodes (84.09% id)\n",
        "14827-, to 26780-, 9 nodes (84.09% id)\n",
        "14827-, to 26780-, 9 nodes (84.09% id)\n",
        "14827-, to 26780-, 9 nodes (84.09% id)\n",
        "14827-, to 26780-, 9 nodes (84.00% id)\n",
        "14827-, to 26780-, 9 nodes (84.00% id)\n",
        "14827-, to 26780-, 9 nodes (83.91% id)\n",
        "14827-, to 26780-, 9 nodes (83.91% id)\n",
        "MKLSIPPETDLVLIGGGHSHAIALRKFAMNPIPGVRLTLITDVYHTPYSGMLPGYVAGLYNFDQCHIDLLSLAKFAGARIFVNRAIGLDLEKNHXLFVERPPVSFDLLSIDIGSTPASLNXPGATEYAIALKPISKFIAFWHQITTIVSESPKQKMRFGIVGGGAGGVELAFAIESYLHQIYGNAKQPTDNLELHLFHKGRRLLPERHRWVGKKVEKILTSRGVVLHLEENVSEVMGRDGQESSFAMDGDMNDRETQVRKRNILRPKVVKCDSGLEIECDILFWVTQASAAPWLQKAGLVTDGRGFILVNEKLQSISHPQVFAAGDVATMVNHSRPKAGVFAVRQGKPLFENLQRALQRKRLKSFIPQKKFLILIGTGDERAIASRGIIGFGPHRLLWRWKDRIDRKFMDKFSDLKMEGRRQKAESRRKDSQMYCAGCGAKVGSRVLENVLHKIPQQIKRDDVLIGMENPDDAAVVRVPTDRVMVQTIDYFRGLVDDPYLLGKITANHCLSDLFAMGAMAQSGLAIATIPYDAPSKQEDTLYQLLLGATEVLNEAGAVLMGGHTTEGEELAFGLTCNGLGSPKKLLYKGGMKPGDVLILTKALGTGTLFAADMRLKARGRWIESAIKSMLTSNENAAKLLLEYGATACTDVTGFGLVGHLLEMLKGQXVGVELDMEAIPVLPGVAETLEQGIFSSLYPENLRLSASIQNRERGSRHPLYPLLFDPQTSGGLLATVPADLANVCLNALQQEYSVCRIIGRVLLLDTGMLPIKIHF"
       ]
      },
      {
       "output_type": "stream",
       "stream": "stdout",
       "text": [
        "\n",
        "Tery_4798:\n",
        "31478+, to 22847-, 2 nodes (83.83% id)\n",
        "31478+, to 31939-, 2 nodes (83.83% id)\n",
        "MKFSCAVIFSALIFISLEKIGQPCCPNPIVASKQLTIFQAVILGMVQGLSEFIPISSTAHLKIVPVALGWGDPGVAFTAVIQLGSIVSVVWYFWSDLTKITVGACKSIITSDYHSPDLKIAVGMGLGTIPIVFFGLGIKVFIPDFDNSPVRSTAAIAIASIVMALLLSIAEQTGSRKRNFEKLDIKDGILMGMAQTLALIPGVSRSGSTITGGLFIGLERATAARFSFLLGLPAITLAGLVELKTLLDEGFGGVGLVPTITGVLSAIIFSYFAIAWLIKYLQTQDTWIFVWYRLTFGILILIGIAGGVVQN"
       ]
      },
      {
       "output_type": "stream",
       "stream": "stdout",
       "text": [
        "\n",
        "Tery_4806:\n",
        "23848-, to 31963+, 8 nodes (92.26% id)\n",
        "23848-, to 31963+, 8 nodes (92.26% id)\n",
        "23848-, to 26396-, 8 nodes (92.26% id)\n",
        "23848-, to 26396-, 8 nodes (92.26% id)\n",
        "27791-, to 31963+, 8 nodes (92.24% id)\n",
        "27791-, to 31963+, 8 nodes (92.24% id)\n",
        "27791-, to 26396-, 8 nodes (92.24% id)\n",
        "27791-, to 26396-, 8 nodes (92.24% id)\n",
        "32539+, to 26396-, 9 nodes (92.23% id)\n",
        "32539+, to 26396-, 9 nodes (92.23% id)\n",
        "32539+, to 26396-, 9 nodes (92.23% id)\n",
        "32539+, to 26396-, 9 nodes (92.23% id)\n",
        "32539+, to 31963+, 9 nodes (92.23% id)\n",
        "32539+, to 31963+, 9 nodes (92.23% id)\n",
        "32539+, to 31963+, 9 nodes (92.23% id)\n",
        "32539+, to 31963+, 9 nodes (92.23% id)\n",
        "23848-, to 26396-, 8 nodes (92.06% id)\n",
        "23848-, to 26396-, 8 nodes (92.06% id)\n",
        "23848-, to 31963+, 8 nodes (92.06% id)\n",
        "23848-, to 31963+, 8 nodes (92.06% id)\n",
        "27791-, to 26396-, 8 nodes (92.04% id)\n",
        "27791-, to 26396-, 8 nodes (92.04% id)\n",
        "27791-, to 31963+, 8 nodes (92.04% id)\n",
        "27791-, to 31963+, 8 nodes (92.04% id)\n",
        "32539+, to 31963+, 9 nodes (92.03% id)\n",
        "32539+, to 31963+, 9 nodes (92.03% id)\n",
        "32539+, to 31963+, 9 nodes (92.03% id)\n",
        "32539+, to 31963+, 9 nodes (92.03% id)\n",
        "32539+, to 26396-, 9 nodes (92.03% id)\n",
        "32539+, to 26396-, 9 nodes (92.03% id)\n",
        "32539+, to 26396-, 9 nodes (92.03% id)\n",
        "32539+, to 26396-, 9 nodes (92.03% id)\n",
        "MSAKKLTGNEIRKKFLNFYQQREHTILPSASLVPEDPTVLLTIAGMLPFKPIFLGQQPRKYPRATTSQKCIRTNDIENVGRTARHHTFFEMLGNFSFGDYFKPEAIAFAWELSTKIFNLPPNRLVVSVFREDDEAFAIWRDQIGIPAHRIQRMDEEDNFWASGPTGPCGPCSEIYYDFHPELGDDHIDLEDDSRFIEFYNLVFMQYNRDAEGNLTPLQNRNIDTGMGLERMAQILQNVPNNYETDLIFPIIKTAADIASIDYNQSDNKTKISLKVIGDHVRAVANLIADGVXASNVGRGYILRRLIRRVVRHGRLIGISGEFTSKVAETAIALAQDIYPNLRERETAIKAELQREESRFLETLERGEKLLAEIIAKPETKKNQQISGEDAFKLYDTYGFPLELTQEIAEENSLTVDVNMFDQEMKLAQIRSQSAHETIDLTTQDGVKLEVDKTEFLGYTDLNSPGQVMALVADGQQIETAEAGTQVQIVLDKTPFYAESGGQIGDRGYLSGDNLVVRIEDVQKQNNIFVHFGRVERGTLQLGITVNAQIDSTCRRRAQANHTATHLLQAALRSLVDQSISQAGSLVSFDRLRFDFNCPRGLKPEEVEQVEAQVNSWIAQAHPAKVAEMPLEVAKAKGAVAMFGEKYADVVRVVDYPGVSMELCGGTHVNNTAEIGVFKIISEAGISSGVRRIEAVAGLAVLDYLKVRDTVVKELSDRFKAKPEELLERVSNLQQELKDSQKQLEGLKGELAVAKSDQLLGNAETVGEFHILVAEMPGVDAESLKTAAERLQQKLGESAVVLSSASEDKVSLVAAFSKSVNSKGLQAGKFIGGIAKICGGGGGGRPNLAQAGGRDPSKLKEALKSAREQLFKGLK"
       ]
      },
      {
       "output_type": "stream",
       "stream": "stdout",
       "text": [
        "\n",
        "Tery_4815:\n",
        "16206+, to 22705-, 2 nodes (98.61% id)\n",
        "16206+, to 29030+, 2 nodes (98.61% id)\n",
        "MSQIQTRTEPMVINMGPHHPSMHGVLRLIVTLDGEDVIDCEPVIGYLHRGMEKIAENRTNTMFVPYVSRWDYAAGMFNEAITVNAPEQLADIEVPKRASYIRVIMLELNRIANHLLWLGPFLADVGAQTPFFYIFREREMIYDLWEAATGYRMVNNNYFRIGGVAADLPYGWVDKCEDFCDYFLPKVDEYERLITNNPIFRRRIMGLGVISREEAINWGLSGPMLRASGVKWDLRKVDHYECYDDFDWEVHWEKDGDCLARYLVRIREMRESVKIIRQAIQGLPGGPYENLEAKRMVGGPKSEWNDFDYQFLGKKIPPTFKIPKGEHYVRIESGKGEIGIYIIGDNNIFPWRFKIRAADFVNLQIFPHILQGAKVADLVAILGSIDIIMGSVDR"
       ]
      },
      {
       "output_type": "stream",
       "stream": "stdout",
       "text": [
        "\n",
        "Tery_4872:\n",
        "19526+, to 28261+, 5 nodes (88.10% id)\n",
        "24042+, to 28261+, 5 nodes (87.40% id)\n",
        "13606-, to 28261+, 6 nodes (87.18% id)\n",
        "27087-, to 28261+, 4 nodes (87.18% id)\n",
        "11364-, to 28261+, 5 nodes (86.61% id)\n",
        "19692-, to 28261+, 6 nodes (86.61% id)\n",
        "11365-, to 28261+, 5 nodes (86.61% id)\n",
        "19691-, to 28261+, 6 nodes (86.61% id)\n",
        "13606-, to 13613+, 3 nodes (81.58% id)\n",
        "27087-, to 13613+, 3 nodes (81.58% id)\n",
        "VKEEFVSNTEAYLIFDDTVINKKYGHNIELARRQYSGNEHQVVHGIGIVNCVYFN"
       ]
      },
      {
       "output_type": "stream",
       "stream": "stdout",
       "text": [
        "\n",
        "Tery_4909:\n",
        "6207+, to 29991-, 2 nodes (88.61% id)\n",
        "6207+, to 33256-, 2 nodes (88.61% id)\n",
        "MFNKKIGYVSPDYIYKYHTLINTEVILKTRQERETKLFELPNQKYYEAVQTIADIQTDFFDFSSAVIKVGRPEELSPDQKKRFHHSLQTFCPWKKGPFELFGITIDAEWRSDWKWERILPHISSLKNRKVADIGCHNGYFMFRMVSQQPELVIGFEPYSKHFWNFQLIQNIVKQKMLAFELLGVEHIHYYPQFFDTIFCLGILYHHTDPIGLLRKIGQALGPKGEIIIDCQGIPGDLPVALTPQKRYAQARGIWFLPTQSCLENWIGRAGFRDINCFFAAPLSVEEQRRTAWANIDSLPEFLHPHNPSLTVEGYPAPWRYYVIARK"
       ]
      },
      {
       "output_type": "stream",
       "stream": "stdout",
       "text": [
        "\n",
        "Tery_4913:\n",
        "23278+, to 30410+, 3 nodes (70.65% id)\n",
        "23278+, to 9295-, 3 nodes (70.65% id)\n",
        "7484-, to 30410+, 4 nodes (72.48% id)\n",
        "7484-, to 9295-, 4 nodes (72.48% id)\n",
        "7484-, to 7485+, 2 nodes (73.57% id)\n",
        "MRRRSDRKIILIDFGAVKEIGVLTINKKGLTSLTKAVGTPGYMPSEQSNGKPKLSSDIYAVGMVGIKALTGKNPENLPVNQETGNIIWQNEAEVSNRXA"
       ]
      },
      {
       "output_type": "stream",
       "stream": "stdout",
       "text": [
        "\n",
        "Tery_4958:\n",
        "32305-, to 22843+, 7 nodes (76.40% id)\n",
        "32305-, to 22843+, 7 nodes (76.40% id)\n",
        "GDKAQNIEAAIAGYEQALLVYTQTDFPFEWARTQNNLGLAYIDRIRGDKAQNIEAAIAAFQQALLVYTQTDFPMDWARTQNNLGLAYIDRIRGDKAQNIEAAIAAYQQALLVCTQTDFPFQWAGTQNNLGAAYRNRITGDKAQNIEAAIAAYQQALLVRTQTDFPFEWAMTQNNLGNAYIYRIRGDKAQNIESAIAAYQQALLVHTQTDFPMDWATTQNNLGIAYRGRIRGDKAENVEAAIAACQQALLVRTQTDFPMDWAMTQNNLGLAYIDRIRGDKAQNIEAAIAAFQQALLVYTQTDFPMDWAMTQNNLGIAYSDRIRGDKAQNIEAAIAAFQQALLVYTQTDFPINWAAAQNNLGLAYSDRIRGDKAQNIESAIAAYQQALLVRTQTDFPFEWAMTQNNLGTAYRDRIRGDKAQNIEAAIAAYEQALLVRTQTDFPIDWAMTQNNLGIAYRNRIRGDKAQNIEAAIAACEQALLVYTQTDFPFEWAGTQNNLGNAYRNRIRGDKAENIEAAIAACQQALLVHTQTDFPMDWAMTQNNLGNAYCDRIRGDKAQNIEAAIAACQQALLVRTQTDFPIDWAMTQNSLGLAYSDRIRGDKAQNIEAAIAAFQQALLVYTQTDFPMDWAMTQNNLGNAYRNRIRGDKAQNIESAIAAYQPALLVYTQTDFPINWATTQNNLGAAYRNKIRGDKAENIEAAIAAYEQALLVRTQTDFPMDWAMTQNNLGNAYRNRIRGDKAENIEAAIAAYQQALLVRTQTDFPMDWATTQNNLGTAYCERIRGDKAENMESAISAYKQALLVYTQTNFPMDWATTQNNLGTAYCERIRGDKAQNIKAAIAAFQQALLVCTLEADPIDHLQTTRNLGNLYFNNQNWQLAAENYKKAITAVELSRSWSKDDDRRQEILEESIDVYYKIVQAYVNSDQIEKALEYVERSRSKRLVDIMASNDRYSQGEIPGEVKKRLKEHEAIQQQINQRWEQQQQQREELAAASKGRAATEARNKEIAQLEAQKQEVYKKIRSLDRVLAEGIQVAPLEFPKIQALIQEPTTAILSFYTITDDTYLFVLRQDGVKVHTYRGLGLKELQSWIWEKWFESYLSSREEWQQQMPKFLQDVGRMLKLEELCKSDLQDIEELILIPHRHLHFLPWSAMPVAESGDNKYLGDRFRIRTLASCQILDFCTEREEIKGEVKQGIVEDTHNDLPFSSCEAQYIAKMYGVPENQHLRGEAATIDSYKLLLSQVQRLLSTHHALSRLDNCMESALILADGRLTLGQLLSPAFRFPDLDEVFINCCESNFGQVQISDDVLTLNTGFLCAGARTVISTLWSLDDLGSCLFSIFYYQFRKEGKNPSLALQLGQRQLRELTGKELKKKYKKELEKSLDEKLEAAYKQLQEIERRLDSYAKDSAEYQKLEDEREKLRCIYDRIFDSKNKYLKAACKKQHPFEHPAYWSGFICAGLS"
       ]
      },
      {
       "output_type": "stream",
       "stream": "stdout",
       "text": [
        "\n",
        "Tery_4988:\n",
        "30112+, to 31593+, 3 nodes (95.11% id)\n",
        "28581+, to 31593+, 3 nodes (91.51% id)\n",
        "30112+, to 21414-, 3 nodes (88.07% id)\n",
        "28581+, to 21414-, 3 nodes (84.24% id)\n",
        "MTQZXXLGLXPVFKCEXSXPXGDIVFVHGLAGHPWGTWHPQGKXNNXBLDFWPFWLGZDLQXBEXAVNXWTFGYDAPRFGYVGEGMPRFDLASNLWEYLXXNDIGXXPLIFITHSMGGLVVKDLIRTAQNFDDKKAIIQQTQGIVFLSTPHQGSHLANLIDNFHALTKATVNVXELKAHXPQLRDLNZWYRQNIEXLNIKTXVXYETKPMAGVLVVDEDSANPGIKBVXPXAXXADHNSIAKPXXNDLVYLSVIXXCXXXFGGPTXTXXVRJNIFEAPPLPKYY"
       ]
      },
      {
       "output_type": "stream",
       "stream": "stdout",
       "text": [
        "\n",
        "Tery_4990:\n",
        "31593+, to 9589+, 5 nodes (99.09% id)\n",
        "31593+, to 9589+, 5 nodes (99.09% id)\n",
        "31593+, to 9589+, 5 nodes (98.73% id)\n",
        "31593+, to 9589+, 5 nodes (98.73% id)\n",
        "MKTNTHKIPPRNNTKTTTPTKNRGMSTTTSILDTLQLVFQAGGPGFCQFAINNACNANCGFCNFARDTFPKEKTKFVNLNEGLDSINILFREGIRYLVFTGGEPTLNPNLISFVDHATTLGIKVMVVTNGGLLTPXKIEALADAGLSSLIISVDAAAQDIHEKNRGLPGVCNKIKEANQILKNIGMYSTASVTMSHLVDYDALPDFLTSLGFESVVFSYPLTSLDSNFLGYSDAGLVTHTNESLWQAYEKVKQLKKRFRVVNPTLSLEEMQRFVKNEEQRYSCLAGYRFFFLDWELNLWRCHFWHEPMCSIYEFDSSKLVRDNCTKCMINCYRDSSLMQNIAVSMQDAYQSIKKGNLLDTAKALTRKSNIDSLRAVVEELPWIMRF"
       ]
      },
      {
       "output_type": "stream",
       "stream": "stdout",
       "text": [
        "\n",
        "Tery_4995:\n",
        "8508+, to 12872-, 5 nodes (96.59% id)\n",
        "8508+, to 12872-, 5 nodes (96.59% id)\n",
        "8508+, to 12872-, 5 nodes (96.59% id)\n",
        "8508+, to 12872-, 5 nodes (96.59% id)\n",
        "LGFILLLGALGSTAVLIEFDVLRFLKSSSNFWEFFGQLLTMPDWAYIPKLLLKMLETIEMGIVSTAIALLLSLPLGVFAARNTSPHLVLYHCIRNVLNLMRALPELVWALVFVSAVGLGPLPGVMALIFVTTGFLGKFLAESIEVVDVNGVMGVKSTGAGWLQTLTFAVFPLALPDFIGTVLYILDHNVRAATILGLVGAGGIGYELVMSMRLFNYGRLILIVAAIYIVVTILDRFSNVIRSRVI"
       ]
      },
      {
       "output_type": "stream",
       "stream": "stdout",
       "text": [
        "\n",
        "Tery_4996:\n",
        "12872-, to 24400-, 4 nodes (93.83% id)\n",
        "12872-, to 18192+, 4 nodes (95.11% id)\n",
        "12872-, to 24400-, 4 nodes (93.99% id)\n",
        "12872-, to 18192+, 4 nodes (95.24% id)\n",
        "MFNSSLKLLDLPPAPRNWTPLWISLTIFLIGVMIWHLGLSFGSVILGIGNIFEYLSRYLNPDFTDGPRYLMLMVQTLAIALWGTVLAFIISFLLAPLGANNLSPHPLIYQLIRELFNFMRAMPDLMLALILVIVLGLGATPGILALAIHTSGFLGKFFAESMERVNIGIYEGLRSTGANISQVVIFAAVPSILPEIVGYTLYIFDRNVRMASVLGLVGAGGIGLELHDNLRLFRYNQSAALILVILSSIVVVDYLSGWIRQRIS"
       ]
      },
      {
       "output_type": "stream",
       "stream": "stdout",
       "text": [
        "\n",
        "Tery_5000:\n",
        "2651-, to 27268+, 5 nodes (98.08% id)\n",
        "2651-, to 27268+, 5 nodes (97.66% id)\n",
        "2651-, to 27268+, 5 nodes (97.66% id)\n",
        "2651-, to 27268+, 5 nodes (97.23% id)\n",
        "MNSIAKPFLPDIQPNLLAVNSQDQSPTYQFGFLDSFAKKEIRRSLLKAVAIPGYQVPYSSREMPIARGFGTGGLQITLSILGKDDVLKVIDQGSDESVNAVNIRNFIGKTCPGVSLTKHTPKATIIQTRHRIPEFPLRLGQVLVLQVPYPDPLVIVEASEAKRKQMHGEGDYARLWVKLYEDMVKFSEITISHRYPTRINGHYVIDPSPIPRFDVPKLHQSFGLHLFGAGREKKIYAVPPFTDAQPLCFEDIPFRVENFDDVDGXRRPCHRCGSTTSFLDEFLDEZGNCIYQCSDSDYCNTMLMQAKEDNYAANS"
       ]
      },
      {
       "output_type": "stream",
       "stream": "stdout",
       "text": [
        "\n",
        "Tery_5005:\n",
        "28581+, to 31593+, 3 nodes (88.03% id)\n",
        "28581+, to 21414-, 3 nodes (84.94% id)\n",
        "30112+, to 31593+, 3 nodes (86.48% id)\n",
        "30112+, to 21414-, 3 nodes (83.40% id)\n",
        "LDFWPFWLGZDLQXBEXAVNXWTFGYDAPRFGYVGEGMPRFDLASNLWEYLXXNDIGXXPLIFITHSMGGLVVKDLIRTAQNFDDKKAIIQQTQGIVFLSTPHQGSHLANLIDNFHALTKATVNVXELKAHXPQLRDLNZWYRQNIEXLNIKTXVXYETKPMAGVLVVDEDSANP"
       ]
      },
      {
       "output_type": "stream",
       "stream": "stdout",
       "text": [
        "\n",
        "Tery_5011:\n",
        "23103+, to 31832+, 2 nodes (93.57% id)\n",
        "23103+, to 31833+, 2 nodes (93.57% id)\n",
        "MTNQQTLRRKLLDLDNSNYKAYRDIQGSYEFPDFTLIIDHVQGDPFAAPSKLRVQVPYTVAGFPPELYKNPIREMALRDFLTRKFDRLAYEVSGRRGTGKSGMIAITKMGQEVLERTSAYLIKLAPPAPKPAPGSNPALERAKPIKLSSQKGVEVRLIVGLPAGGRRILGRQAAEMLCDDLPYIVHRSLKYEQLDGDVCRRHVETVEDTDWLRKQLPEKNLVAFVANGAILPRQSGVDDRPLSSEEVVPFKSPPSLEVEFECPNQGKIYGMGIPKGVTLIVGGGYHGKSTLLKAIERGVYNHVPGDGREFVVTDPAAIKIRAEDGRSVAGVDISPFINQLPKGRSTTQFTTENASGSTSQAANIMEALEAGLGNSNSEETATTATPPVLLVDEDTAATNFMIRDRRMQELIAKEREPITPFIDKVRQLYTDYQVSTILVMGGSGDYFEMADKIIAMENFQGQEVTEKAKEIAEKYATGRSAEGGEKFGEIRRRIPLPASLDPSRGRRDVRLKVRDVDEVVFGSEDVDLSAVEQLVSKDQLKAIGVAMVYAKKQYMDGNRTLLEIIDAVMADIESKSLDVLVPFPQGDLALFRPFELLAAINRLRTLKVK"
       ]
      },
      {
       "output_type": "stream",
       "stream": "stdout",
       "text": [
        "\n",
        "Tery_5043:\n",
        "22290-, to 6752-, 3 nodes (89.38% id)\n",
        "22290-, to 18427-, 3 nodes (89.38% id)\n",
        "30505-, to 6752-, 4 nodes (88.89% id)\n",
        "10203+, to 6752-, 4 nodes (88.89% id)\n",
        "30505-, to 18427-, 4 nodes (88.89% id)\n",
        "10203+, to 18427-, 4 nodes (88.89% id)\n",
        "MTHSTDITTLARWLAADFSNQQQAFDNPPLFAHIRVCIRPLPYQLLNGLSLYVEQAYDIALNQPYRVRILKLLSLEDYINIENYTIDQEAEFYGGSRDPKRLENLKTKNLKRLPGCSLIVKWTGKSFRGEVEPGKACTVVREGKSTYLKSYFEINEHKFISHDTGYDPETDKQVWGAIAGPFEFVRWASFADEV"
       ]
      },
      {
       "output_type": "stream",
       "stream": "stdout",
       "text": [
        "\n",
        "Tery_5047:\n",
        "21236+, to 28257+, 2 nodes (92.69% id)\n",
        "7116+, to 28257+, 2 nodes (92.38% id)\n",
        "MEQQYLELPSSEVSENKEYLSVEEAIANLRHXELGKRYYAAWWLGKFRVNTPDAIEGLITALKDESDRTEDGGYPLRRNAARALGKLKDKKVVPALMECLQCSDYYVREAATEALEILGDPSCISALIKLLDGGVEAAVLVPGKPHLIQPYENIIEALGTLQAQEAIFLIKPFIEHPSEKVQYAAARSLYQLTGEAVYGEYLTEALGGDNLHLRRSALLDLAAIGYLPAAKAISETLAENSMKLIALKGLLEYHLTINSKVKTQESKVESQLLLSDEAIEVMSLMDS"
       ]
      },
      {
       "output_type": "stream",
       "stream": "stdout",
       "text": [
        "\n",
        "Tery_5059:\n",
        "33676-, to 7114-, 5 nodes (87.48% id)\n",
        "33676-, to 7114-, 5 nodes (87.48% id)\n",
        "33676-, to 7114-, 5 nodes (87.48% id)\n",
        "33676-, to 7114-, 5 nodes (87.48% id)\n",
        "MKNTAGKVFWKQPLTYLLLIVGAVGGLLGERLIFQTSSSSENSSQLAQLSLTQSLGKTDKTSNSEKSTWLPVRGAISQGNFIVDAVQKVGPAVVRINASRTVSQRPNMFARGMPEDFYGFESPGLRNGPVQKGTGSGFIISSDGNILTNAHVVEGSTVVEVVLKDGRRLSGTVLGTDSVTDVAVVKIDADNLPTVNIGDSNDLQPGEWAIAIGNPLGLDNSVTVGIISATGRSSNDVGVPDKRVGFIQTDAAINPGNSGGPLLNQNGEVIGINTAIIDGAQGLGFAIPINNAQQIAQQLISVGKAEHAYLGISMQTLTPQLRQELNRNLNRNIQLFSDRGVLIMQVVPGSPADKSGLKPGDIIQKIDNQTITSSENVQQIVQNKTVGSLLGLEINRNGQNLNFQLRTGNLPYRLRG"
       ]
      },
      {
       "output_type": "stream",
       "stream": "stdout",
       "text": [
        "\n",
        "Tery_5062:\n",
        "7114- to 7114-, 1 nodes (91.01% id)\n",
        "7114- to 7114-, 1 nodes (74.47% id)\n",
        "MXXXLSKGXRIXXSKXAPGXXKXAXGLGWDVNXXDTGXXFDXDXSVFMLGXXGKIPZDXYFVFYNNXKSXDGSVXXXGDXXTGXGZGDDETIXVBLXXVBXXIEEJJFVVTXXEAEKRRQNFGQVXNSXIRIYDXETQEEIXKYELEEDFSRETAIEFGXXYKKNXEWXFQAVGXGYNXGLZXFVZKYT"
       ]
      },
      {
       "output_type": "stream",
       "stream": "stdout",
       "text": [
        "\n",
        "Tery_5063:\n",
        "7114- to 7114-, 1 nodes (93.68% id)\n",
        "7114- to 7114-, 1 nodes (72.87% id)\n",
        "MXXXLSKGXRIXXSKXAPGXXKXAXGLGWDVNXXDTGXXFDXDXSVFMLGXXGKIPZDXYFVFYNNXKSXDGSVXXXGDXXTGXGZGDDETIXVBLXXVBXXIEEJJFVVTXXEAEKRRQNFGQVXNSXIRIYDXETQEEIXKYELEEDFSRETAIEFGXXYKKNXEWXFQAVGXGYNXGLZXFVZKYIY"
       ]
      },
      {
       "output_type": "stream",
       "stream": "stdout",
       "text": [
        "\n",
        "Tery_5074:\n",
        "24266+, to 5908-, 3 nodes (83.62% id)\n",
        "25184+, to 5908-, 3 nodes (80.59% id)\n",
        "24266+, to 11854-, 3 nodes (81.46% id)\n",
        "25184+, to 11854-, 3 nodes (78.48% id)\n",
        "LKKLEDSIVLIXSAKENRXNVIGTGFIFYKXQNYTYLLTCAHVVEDVGGEENIRVNNIPAEVIKIGDVQGFDLAXLKVNKXFSXPSLNLMILYGEEEKKLXVKIPGXYXXSQNXALRXZTIKGEMXVEVDGERAFQLIEBXPEXVAVEKLZXXK"
       ]
      },
      {
       "output_type": "stream",
       "stream": "stdout",
       "text": [
        "\n",
        "Tery_5076:\n",
        "16776-, to 15036+, 3 nodes (99.51% id)\n",
        "16776-, to 15036+, 3 nodes (99.51% id)\n",
        "MKINIIKQRSLWWTISGSIILCGLIAMAISWTRPDISAPLRPSLDFVGGTRLQLELDCTIPNNCNQPIKVAAVREIISKEGFPNSKIQVVGEEKEAIDIRTKTLDVDTRTQLITALSTEFGKFDPGSTQIDTVGPTLGRQIFTSGLSALLVAFFGITIYLTFRFQFDYAVFAFVALFHDILVTVGIFSILGLVAGVEVDSLFLVALLTIIGFSVNDTVVIYDRVREVIKRYPGKPIDQIVDDAVNQTLTRSINTTVTTLLPLVGILIFGGETLKYLALALIIGFVAGSYSSIFIASTLLAWWRERIGEFIPNPLEENSQLIEGQKDTV"
       ]
      },
      {
       "output_type": "stream",
       "stream": "stdout",
       "text": [
        "\n"
       ]
      }
     ],
     "prompt_number": 33
    },
    {
     "cell_type": "markdown",
     "metadata": {},
     "source": [
      "This code works for filtering out anything that's not connected to the highest scoring match. This might not be what we want for site 019 though, where there is a mixture of erythraeum and theibautii - we might end up with the erythraeum sequence and not the theibautii. It might be better to just note which cluster each sequence belongs to, get a consensus sequence for each, then filter later by average pid or something..."
     ]
    }
   ],
   "metadata": {}
  }
 ]
}